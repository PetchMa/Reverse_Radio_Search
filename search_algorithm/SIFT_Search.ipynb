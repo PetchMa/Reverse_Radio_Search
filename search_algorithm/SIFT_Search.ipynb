{
 "cells": [
  {
   "cell_type": "code",
   "execution_count": 17,
   "id": "6dfc9eaf-6665-41f0-afa5-e0f8ad16caae",
   "metadata": {},
   "outputs": [],
   "source": [
    "import pandas as pd\n",
    "import numpy as np\n",
    "from blimpy import Waterfall\n",
    "import cv2 as cv"
   ]
  },
  {
   "cell_type": "code",
   "execution_count": 11,
   "id": "d9459868-b9c1-4a8a-8201-8e6f75b6730d",
   "metadata": {},
   "outputs": [],
   "source": [
    "def normalize(data):\n",
    "    epsilon = 1\n",
    "    min_val = data.min()\n",
    "    data = data - min_val + epsilon\n",
    "    new_data = np.log(data)\n",
    "    min_val = data.min()\n",
    "    max_val = data.max()\n",
    "    final_data = (data - min_val) / (max_val - min_val)\n",
    "    return final_data"
   ]
  },
  {
   "cell_type": "code",
   "execution_count": 24,
   "id": "d9866e1e-abf3-4b26-a3b8-6539fdea8e67",
   "metadata": {},
   "outputs": [
    {
     "name": "stdout",
     "output_type": "stream",
     "text": [
      "{'freq': 1961.273217201233, 'start': 1961.2728595733643, 'end': 1961.2735748291016, 'directory': '/mnt_blpd7/datax/dl/GBT_57907_34727_HIP87579_fine.h5', 'stats': 3280.7677441581645}\n",
      "(1, 128)\n"
     ]
    }
   ],
   "source": [
    "import pickle\n",
    "\n",
    "with open('SOI.pkl', 'rb') as handle:\n",
    "    SOI = pickle.load(handle)\n",
    "\n",
    "target1 = SOI[\"GBT_57907_34727_HIP87579_fine\"]\n",
    "print(target1)\n",
    "data = Waterfall(\"../../../../../../../\"+target1[\"directory\"], \n",
    "                 f_start = target1[\"start\"], f_stop=target1[\"end\"]).data\n",
    "data = normalize(data)*255\n",
    "data = data.astype('uint8')\n",
    "data = np.swapaxes(data, 1, -1)\n",
    "sift = cv.SIFT_create()\n",
    "kp, des = sift.detectAndCompute(data,None)\n",
    "print(des.shape)"
   ]
  },
  {
   "cell_type": "code",
   "execution_count": 25,
   "id": "78694746-1b1d-41f3-bf8a-b85845fff83b",
   "metadata": {},
   "outputs": [],
   "source": [
    "total_data = Waterfall(\"../../../../../../../\"+target1[\"directory\"], max_load=False).data"
   ]
  },
  {
   "cell_type": "code",
   "execution_count": null,
   "id": "83cac1e0-030c-4b83-809c-c1b60ab35ca7",
   "metadata": {},
   "outputs": [
    {
     "name": "stderr",
     "output_type": "stream",
     "text": [
      " 31%|█████████████████████▎                                              | 441368/1404928 [11:14<23:33, 681.50it/s]"
     ]
    }
   ],
   "source": [
    "from tqdm import tqdm\n",
    "num_samples = total_data.shape[-1]//256\n",
    "new_total_data = np.zeros((num_samples, 16, 256))\n",
    "\n",
    "des_vecs = []\n",
    "kps_vecs = []\n",
    "sift = cv.SIFT_create()\n",
    "\n",
    "for i in tqdm(range(num_samples)):\n",
    "    temp =  normalize(total_data[:,0,i*256:(i+1)*256]) *255\n",
    "    new_total_data[i, :,:] =temp\n",
    "    temp = temp.astype('uint8')\n",
    "    kp, des = sift.detectAndCompute(temp, None)\n",
    "    des_vecs.append(des)\n",
    "    kps_vecs.append(kp)"
   ]
  },
  {
   "cell_type": "code",
   "execution_count": null,
   "id": "6aa54e61-e701-4dfd-8cbe-914abb986418",
   "metadata": {},
   "outputs": [],
   "source": [
    "descriptors = np.float32(des_vecs)\n",
    "\n",
    "criteria = (cv.TERM_CRITERIA_EPS + cv.TERM_CRITERIA_MAX_ITER, 5, .01)\n",
    "centroids = cv.kmeans(descriptors, clusters, None, criteria, 1, cv.KMEANS_PP_CENTERS)[2]"
   ]
  }
 ],
 "metadata": {
  "kernelspec": {
   "display_name": "Python 3",
   "language": "python",
   "name": "python3"
  },
  "language_info": {
   "codemirror_mode": {
    "name": "ipython",
    "version": 3
   },
   "file_extension": ".py",
   "mimetype": "text/x-python",
   "name": "python",
   "nbconvert_exporter": "python",
   "pygments_lexer": "ipython3",
   "version": "3.10.6"
  }
 },
 "nbformat": 4,
 "nbformat_minor": 5
}
