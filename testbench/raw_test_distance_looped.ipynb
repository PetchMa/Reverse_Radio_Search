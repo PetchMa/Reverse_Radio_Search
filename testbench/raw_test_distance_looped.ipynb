{
 "cells": [
  {
   "cell_type": "code",
   "execution_count": 1,
   "id": "e2be6304-10eb-4689-8182-31c612250af5",
   "metadata": {
    "tags": []
   },
   "outputs": [],
   "source": [
    "import numpy as np\n",
    "import setigen as stg\n",
    "from blimpy import Waterfall\n",
    "import matplotlib.pyplot as plt\n",
    "import random\n",
    "from astropy import units as u\n",
    "from tqdm import tqdm\n",
    "import os\n",
    "from sklearn.metrics import silhouette_score\n",
    "import pandas as pd\n",
    "import tqdm\n",
    "\n",
    "num_classes = 100\n",
    "num_samples_per_class = 1000\n",
    "\n",
    "def painting(data):\n",
    "    all_data = []\n",
    "    labels = []\n",
    "    for c in range(num_classes):\n",
    "        drift = 2*random.random()*(-1)**random.randint(0,2)\n",
    "        snr = random.randint(100, 150)\n",
    "        width = random.randint(20, 50)\n",
    "        for s in range(num_samples_per_class):\n",
    "            index = random.randint(0, data.shape[0]-1)\n",
    "            window = data[index, :,:]\n",
    "            \n",
    "            start = random.randint(50, 180)\n",
    "            \n",
    "            frame = stg.Frame.from_data(df=2.7939677238464355*u.Hz,\n",
    "                                        dt=18.253611008*u.s,\n",
    "                                        fch1=1289*u.MHz,\n",
    "                                        ascending=True,\n",
    "                                        data=window)\n",
    "            frame.add_signal(stg.constant_path(\n",
    "                                        f_start=frame.get_frequency(index=start),\n",
    "                                       drift_rate=drift*u.Hz/u.s),\n",
    "                                      stg.constant_t_profile(level=frame.get_intensity(snr=snr)),\n",
    "                                      stg.gaussian_f_profile(width=width*u.Hz),\n",
    "                                      stg.constant_bp_profile(level=1))\n",
    "            all_data.append(frame.data)\n",
    "            labels.append(c)\n",
    "    all_data = np.array(all_data)\n",
    "    labels = np.vstack(labels)\n",
    "    return all_data, labels"
   ]
  },
  {
   "cell_type": "code",
   "execution_count": 2,
   "id": "e23e99e9-c116-4453-b24a-003e3f167ec3",
   "metadata": {},
   "outputs": [],
   "source": [
    "def measure_cluster_size(x, labels):\n",
    "    get_labels = list(set(labels))\n",
    "    mean_cluster_spread = []\n",
    "    for l in get_labels:\n",
    "        index = np.asarray(labels==l)\n",
    "        x_features = x[index, :]\n",
    "        mean_centroid = np.mean(x_features, axis = 0)\n",
    "        diff = x_features - mean_centroid\n",
    "        norms = np.linalg.norm(diff, axis = 1)\n",
    "        mean_cluster_spread.append(np.max(norms)/np.mean(norms))\n",
    "        # print(x_features.shape, mean_centroid.shape, norms.shape)\n",
    "    return np.mean(mean_cluster_spread), np.std(mean_cluster_spread)"
   ]
  },
  {
   "cell_type": "code",
   "execution_count": 3,
   "id": "7954e2ba-5382-483c-9b51-79619cd21aec",
   "metadata": {
    "tags": []
   },
   "outputs": [
    {
     "name": "stderr",
     "output_type": "stream",
     "text": [
      "  0%|                                                    | 0/10 [00:00<?, ?it/s]"
     ]
    },
    {
     "name": "stdout",
     "output_type": "stream",
     "text": [
      "b'HIP104887-1850'\n",
      "b'HIP87579-1008'\n",
      "b'clustering_tests'\n",
      "(347064, 16, 256)\n",
      "(100000, 4096)\n",
      "(100000,)\n"
     ]
    },
    {
     "name": "stderr",
     "output_type": "stream",
     "text": [
      " 10%|████▎                                      | 1/10 [02:15<20:15, 135.01s/it]"
     ]
    },
    {
     "name": "stdout",
     "output_type": "stream",
     "text": [
      "122.4324457975884 58.118815396245\n",
      "b'HIP104887-1850'\n",
      "b'HIP87579-1008'\n",
      "b'clustering_tests'\n",
      "(347064, 16, 256)\n",
      "(100000, 4096)\n",
      "(100000,)\n"
     ]
    },
    {
     "name": "stderr",
     "output_type": "stream",
     "text": [
      " 20%|████████▌                                  | 2/10 [04:32<18:12, 136.52s/it]"
     ]
    },
    {
     "name": "stdout",
     "output_type": "stream",
     "text": [
      "132.5168487238469 70.83907666749892\n",
      "b'HIP104887-1850'\n",
      "b'HIP87579-1008'\n",
      "b'clustering_tests'\n",
      "(347064, 16, 256)\n",
      "(100000, 4096)\n",
      "(100000,)\n"
     ]
    },
    {
     "name": "stderr",
     "output_type": "stream",
     "text": [
      " 30%|████████████▉                              | 3/10 [06:48<15:53, 136.26s/it]"
     ]
    },
    {
     "name": "stdout",
     "output_type": "stream",
     "text": [
      "120.1850844700792 33.473290299680215\n",
      "b'HIP104887-1850'\n",
      "b'HIP87579-1008'\n",
      "b'clustering_tests'\n",
      "(347064, 16, 256)\n",
      "(100000, 4096)\n",
      "(100000,)\n"
     ]
    },
    {
     "name": "stderr",
     "output_type": "stream",
     "text": [
      " 40%|█████████████████▏                         | 4/10 [09:04<13:37, 136.21s/it]"
     ]
    },
    {
     "name": "stdout",
     "output_type": "stream",
     "text": [
      "116.33955095509981 34.089443862140364\n",
      "b'HIP104887-1850'\n",
      "b'HIP87579-1008'\n",
      "b'clustering_tests'\n",
      "(347064, 16, 256)\n",
      "(100000, 4096)\n",
      "(100000,)\n"
     ]
    },
    {
     "name": "stderr",
     "output_type": "stream",
     "text": [
      " 50%|█████████████████████▌                     | 5/10 [11:22<11:23, 136.68s/it]"
     ]
    },
    {
     "name": "stdout",
     "output_type": "stream",
     "text": [
      "137.11093593383373 76.7686301989164\n",
      "b'HIP104887-1850'\n",
      "b'HIP87579-1008'\n",
      "b'clustering_tests'\n",
      "(347064, 16, 256)\n",
      "(100000, 4096)\n",
      "(100000,)\n"
     ]
    },
    {
     "name": "stderr",
     "output_type": "stream",
     "text": [
      " 60%|█████████████████████████▊                 | 6/10 [13:38<09:06, 136.68s/it]"
     ]
    },
    {
     "name": "stdout",
     "output_type": "stream",
     "text": [
      "143.2654383639055 81.043132118133\n",
      "b'HIP104887-1850'\n",
      "b'HIP87579-1008'\n",
      "b'clustering_tests'\n",
      "(347064, 16, 256)\n",
      "(100000, 4096)\n",
      "(100000,)\n"
     ]
    },
    {
     "name": "stderr",
     "output_type": "stream",
     "text": [
      " 70%|██████████████████████████████             | 7/10 [15:56<06:51, 137.01s/it]"
     ]
    },
    {
     "name": "stdout",
     "output_type": "stream",
     "text": [
      "123.05365671027742 57.02763225570784\n",
      "b'HIP104887-1850'\n",
      "b'HIP87579-1008'\n",
      "b'clustering_tests'\n",
      "(347064, 16, 256)\n",
      "(100000, 4096)\n",
      "(100000,)\n"
     ]
    },
    {
     "name": "stderr",
     "output_type": "stream",
     "text": [
      " 80%|██████████████████████████████████▍        | 8/10 [18:12<04:33, 136.70s/it]"
     ]
    },
    {
     "name": "stdout",
     "output_type": "stream",
     "text": [
      "131.43524178137494 69.88256367808573\n",
      "b'HIP104887-1850'\n",
      "b'HIP87579-1008'\n",
      "b'clustering_tests'\n",
      "(347064, 16, 256)\n",
      "(100000, 4096)\n",
      "(100000,)\n"
     ]
    },
    {
     "name": "stderr",
     "output_type": "stream",
     "text": [
      " 90%|██████████████████████████████████████▋    | 9/10 [20:30<02:16, 136.93s/it]"
     ]
    },
    {
     "name": "stdout",
     "output_type": "stream",
     "text": [
      "131.67456969352017 61.5258195021225\n",
      "b'HIP104887-1850'\n",
      "b'HIP87579-1008'\n",
      "b'clustering_tests'\n",
      "(347064, 16, 256)\n",
      "(100000, 4096)\n",
      "(100000,)\n"
     ]
    },
    {
     "name": "stderr",
     "output_type": "stream",
     "text": [
      "100%|██████████████████████████████████████████| 10/10 [22:46<00:00, 136.64s/it]"
     ]
    },
    {
     "name": "stdout",
     "output_type": "stream",
     "text": [
      "132.25276662096422 68.93586983725231\n"
     ]
    },
    {
     "name": "stderr",
     "output_type": "stream",
     "text": [
      "\n"
     ]
    }
   ],
   "source": [
    "from tqdm import tqdm\n",
    "for i in tqdm(range(10)):\n",
    "    num_classes = 100\n",
    "    num_samples_per_class = 1000\n",
    "\n",
    "    directory = os.fsencode( \"../../../../../datax/scratch/pma/reverse_search/test/\")\n",
    "    count = 0\n",
    "    data = []\n",
    "    for folder in os.listdir(directory):\n",
    "        print(folder)\n",
    "        for subfolder in os.listdir(directory+folder):\n",
    "            back = os.fsencode( \"/\")\n",
    "            if '.' not in str(subfolder):\n",
    "                for file in os.listdir(directory+folder+back+subfolder):\n",
    "                    file_directory = str(os.path.join(directory+folder+back+subfolder, file)).replace('b', '').replace(\"'\",\"\")\n",
    "                    if 'filtered.npy' in file_directory:\n",
    "                        data.append(np.load(str(file_directory)))\n",
    "                        count += 1\n",
    "    data = np.vstack(data)\n",
    "    print(data.shape)\n",
    "    injected, labels = painting(data)\n",
    "\n",
    "\n",
    "    features = []\n",
    "    for i in range(injected.shape[0]):\n",
    "        features.append(injected[i,:,:].flatten())    \n",
    "    features = np.array(features)\n",
    "\n",
    "    print(features.shape)\n",
    "    print(labels[:,0].shape)\n",
    "    # score = silhouette_score(X = features[:50000,:], labels = labels[:50000,0])\n",
    "    score, spread = measure_cluster_size(features[:50000,:], labels = labels[:50000,0])\n",
    "    print(score, spread)\n",
    "\n",
    "\n",
    "    f = open('output1.txt','a')  # w : writing mode  /  r : reading mode  /  a  :  appending mode\n",
    "    f.write('{}'.format(score))\n",
    "    f.close()"
   ]
  },
  {
   "cell_type": "code",
   "execution_count": 4,
   "id": "083afeac-5bad-4594-a223-3946047fa040",
   "metadata": {
    "tags": []
   },
   "outputs": [
    {
     "name": "stdout",
     "output_type": "stream",
     "text": [
      "-0.3626918133680182\n",
      "0.062475627577611874\n"
     ]
    }
   ],
   "source": [
    "scores_list =[-0.25901990191348734,-0.47767020929706805, -0.3672917473966914, -0.34257881331263146,-0.34405826318845145,\n",
    "-0.45805348261169165,\n",
    "-0.3781393168000071,\n",
    "-0.3109327536798293,\n",
    "-0.37308408003121096,\n",
    "-0.31608956544911326\n",
    "]\n",
    "print(np.mean(scores_list))\n",
    "print(np.std(scores_list))"
   ]
  },
  {
   "cell_type": "code",
   "execution_count": 7,
   "id": "0344d3a0-2a2f-4731-9730-7f9c7148ae01",
   "metadata": {
    "tags": []
   },
   "outputs": [
    {
     "name": "stdout",
     "output_type": "stream",
     "text": [
      "129.02665390504905\n",
      "7.885409455987227\n"
     ]
    }
   ],
   "source": [
    "print(np.mean([122.4324457975884,\n",
    "132.5168487238469,\n",
    "120.1850844700792,\n",
    "116.33955095509981,\n",
    "137.11093593383373 ,\n",
    "143.2654383639055 ,\n",
    "123.05365671027742 ,\n",
    "131.43524178137494 ,\n",
    "131.67456969352017, \n",
    "132.25276662096422 ]))\n",
    "print(np.std([122.4324457975884,\n",
    "132.5168487238469,\n",
    "120.1850844700792,\n",
    "116.33955095509981,\n",
    "137.11093593383373 ,\n",
    "143.2654383639055 ,\n",
    "123.05365671027742 ,\n",
    "131.43524178137494 ,\n",
    "131.67456969352017, \n",
    "132.25276662096422 ]))"
   ]
  }
 ],
 "metadata": {
  "kernelspec": {
   "display_name": "Python 3 (ipykernel)",
   "language": "python",
   "name": "python3"
  },
  "language_info": {
   "codemirror_mode": {
    "name": "ipython",
    "version": 3
   },
   "file_extension": ".py",
   "mimetype": "text/x-python",
   "name": "python",
   "nbconvert_exporter": "python",
   "pygments_lexer": "ipython3",
   "version": "3.10.10"
  }
 },
 "nbformat": 4,
 "nbformat_minor": 5
}
