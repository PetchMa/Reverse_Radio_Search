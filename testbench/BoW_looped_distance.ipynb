{
 "cells": [
  {
   "cell_type": "code",
   "execution_count": 1,
   "id": "baed00ee-9461-4560-8813-31a571c86877",
   "metadata": {
    "tags": []
   },
   "outputs": [
    {
     "name": "stderr",
     "output_type": "stream",
     "text": [
      "2023-09-07 06:42:11.040402: I tensorflow/core/platform/cpu_feature_guard.cc:193] This TensorFlow binary is optimized with oneAPI Deep Neural Network Library (oneDNN) to use the following CPU instructions in performance-critical operations:  SSE4.1 SSE4.2 AVX AVX2 FMA\n",
      "To enable them in other operations, rebuild TensorFlow with the appropriate compiler flags.\n"
     ]
    }
   ],
   "source": [
    "import numpy as np\n",
    "import setigen as stg\n",
    "from blimpy import Waterfall\n",
    "import matplotlib.pyplot as plt\n",
    "import random\n",
    "import os\n",
    "from astropy import units as u\n",
    "from tqdm import tqdm\n",
    "from sklearn.metrics import silhouette_score\n",
    "import tensorflow as tf\n",
    "\n",
    "os.environ[\"CUDA_VISIBLE_DEVICES\"]=\"0\"\n",
    "num_classes = 100\n",
    "num_samples_per_class = 1000\n"
   ]
  },
  {
   "cell_type": "code",
   "execution_count": 2,
   "id": "6e00c928-f039-4774-8477-10c9e940e2dd",
   "metadata": {
    "tags": []
   },
   "outputs": [],
   "source": [
    "def painting(data):\n",
    "    all_data = []\n",
    "    labels = []\n",
    "    for c in range(num_classes):\n",
    "        drift = 2*random.random()*(-1)**random.randint(0,2)\n",
    "        snr = random.randint(100, 150)\n",
    "        width = random.randint(20, 50)\n",
    "        for s in range(num_samples_per_class):\n",
    "            index = random.randint(0, data.shape[0]-1)\n",
    "            window = data[index, :,:]\n",
    "            \n",
    "            start = random.randint(50, 180)\n",
    "            \n",
    "            frame = stg.Frame.from_data(df=2.7939677238464355*u.Hz,\n",
    "                                        dt=18.253611008*u.s,\n",
    "                                        fch1=1289*u.MHz,\n",
    "                                        ascending=True,\n",
    "                                        data=window)\n",
    "            frame.add_signal(stg.constant_path(\n",
    "                                        f_start=frame.get_frequency(index=start),\n",
    "                                       drift_rate=drift*u.Hz/u.s),\n",
    "                                      stg.constant_t_profile(level=frame.get_intensity(snr=snr)),\n",
    "                                      stg.gaussian_f_profile(width=width*u.Hz),\n",
    "                                      stg.constant_bp_profile(level=1))\n",
    "            all_data.append(frame.data)\n",
    "            labels.append(c)\n",
    "    all_data = np.array(all_data)\n",
    "    labels = np.vstack(labels)\n",
    "    return all_data, labels"
   ]
  },
  {
   "cell_type": "code",
   "execution_count": 3,
   "id": "20e49e4f-15bd-4a32-a6d5-7a3274be3b42",
   "metadata": {
    "tags": []
   },
   "outputs": [],
   "source": [
    "import cv2\n",
    "import numpy as np\n",
    "\n",
    "def transform(data):\n",
    "    final = []\n",
    "    for i in range(data.shape[0]):\n",
    "        img = np.repeat(data[i,:, :], 3, axis=2)\n",
    "        res = cv2.resize(img, dsize=(224, 224), interpolation=cv2.INTER_CUBIC)\n",
    "        final.append(res)\n",
    "    return np.array(final)\n"
   ]
  },
  {
   "cell_type": "code",
   "execution_count": 4,
   "id": "4df674b4-eee5-4290-bd5c-f6c35deb86c2",
   "metadata": {
    "tags": []
   },
   "outputs": [],
   "source": [
    "from tqdm import tqdm\n",
    "import cv2 as cv\n",
    "def SIFT(data):\n",
    "    clusters = 800\n",
    "    centroids = np.load(\"centroids.npy\")\n",
    "    sift = cv.SIFT_create()\n",
    "    bf = cv.BFMatcher()\n",
    "    # bf = cv.DescriptorMatcher_create(cv.DescriptorMatcher_FLANNBASED)\n",
    "    histograms = []\n",
    "    for i in range(data.shape[0]):\n",
    "        counter = np.zeros((clusters,), dtype=np.uint32)\n",
    "        temp =  data[i, :, :]*255\n",
    "        temp = temp.astype('uint8')\n",
    "        kp, des = sift.detectAndCompute(temp, None)\n",
    "        if des is None:\n",
    "            histograms.append(counter)\n",
    "            continue\n",
    "        matches = bf.knnMatch(des, centroids, k=1)\n",
    "        for match in matches:\n",
    "            counter[match[0].trainIdx] += 1\n",
    "        counter_sum = np.sum(counter)\n",
    "        counter = [float(n)/counter_sum for n in counter]\n",
    "        histograms.append(counter)\n",
    "        \n",
    "    return np.float32(histograms)"
   ]
  },
  {
   "cell_type": "code",
   "execution_count": 5,
   "id": "63f54907-bc05-4c64-a362-5bcc5511de36",
   "metadata": {},
   "outputs": [],
   "source": [
    "from tqdm import tqdm\n",
    "import gc\n",
    "\n",
    "def normalize(data):\n",
    "    epsilon = 1\n",
    "    min_val = data.min()\n",
    "    data = data - min_val + epsilon\n",
    "    new_data = np.log(data)\n",
    "    min_val = data.min()\n",
    "    max_val = data.max()\n",
    "    final_data = (data - min_val) / (max_val - min_val)\n",
    "    return final_data\n",
    "    \n",
    "def normalize_data(data):\n",
    "    for i in range(data.shape[0]):\n",
    "        data[i,:,:] = normalize(data[i,:,:, :])\n",
    "    return data\n"
   ]
  },
  {
   "cell_type": "code",
   "execution_count": 6,
   "id": "e7b136e8",
   "metadata": {
    "tags": []
   },
   "outputs": [],
   "source": [
    "# from tqdm import tqdm\n",
    "# directory = os.fsencode( \"../../../../../datax/scratch/pma/reverse_search/test/\")\n",
    "# count = 0\n",
    "# data = []\n",
    "# for folder in os.listdir(directory):\n",
    "#     print(folder)\n",
    "#     for subfolder in os.listdir(directory+folder):\n",
    "#         back = os.fsencode( \"/\")\n",
    "#         if '.' not in str(subfolder):\n",
    "#             for file in os.listdir(directory+folder+back+subfolder):\n",
    "#                 file_directory = str(os.path.join(directory+folder+back+subfolder, file)).replace('b', '').replace(\"'\",\"\")\n",
    "#                 if 'filtered.npy' in file_directory:\n",
    "#                     data.append(np.load(str(file_directory)))\n",
    "#                     count += 1\n",
    "# data = np.vstack(data)\n",
    "\n",
    "\n",
    "# des_vecs = []\n",
    "# kps_vecs = []\n",
    "# sift = cv.SIFT_create()\n",
    "\n",
    "# for i in tqdm(range(data.shape[0])):\n",
    "#     temp =  normalize(np.expand_dims(data[i, :,:], axis = -1)) *255\n",
    "#     temp = temp.astype('uint8')\n",
    "#     print(temp.shape)\n",
    "#     kp, des = sift.detectAndCompute(temp, None)\n",
    "#     des_vecs.append(des)\n",
    "#     kps_vecs.append(kp)\n",
    "\n",
    "# descriptors = np.vstack(list(filter(lambda x: x is not None, des_vecs)))\n",
    "# clusters = 800\n",
    "# criteria = (cv.TERM_CRITERIA_EPS + cv.TERM_CRITERIA_MAX_ITER, 5, .01)\n",
    "# centroids = cv.kmeans(descriptors, clusters, None, criteria, 1, cv.KMEANS_PP_CENTERS)[2]\n",
    "# np.save(\"centroids.npy\", centroids)"
   ]
  },
  {
   "cell_type": "code",
   "execution_count": null,
   "id": "e5675d98",
   "metadata": {},
   "outputs": [],
   "source": []
  },
  {
   "cell_type": "code",
   "execution_count": 7,
   "id": "564daf40",
   "metadata": {},
   "outputs": [],
   "source": [
    "def measure_cluster_size(x, labels):\n",
    "    get_labels = list(set(labels))\n",
    "    mean_cluster_spread = []\n",
    "    for l in get_labels:\n",
    "        index = np.asarray(labels==l)\n",
    "        x_features = x[index, :]\n",
    "        mean_centroid = np.mean(x_features, axis = 0)\n",
    "        diff = x_features - mean_centroid\n",
    "        norms = np.linalg.norm(diff, axis = 1)\n",
    "        mean_cluster_spread.append(np.max(norms)/np.mean(norms))\n",
    "        # print(x_features.shape, mean_centroid.shape, norms.shape)\n",
    "    return np.mean(mean_cluster_spread), np.std(mean_cluster_spread)"
   ]
  },
  {
   "cell_type": "code",
   "execution_count": 8,
   "id": "d9549969-98f3-4658-a0f7-ff09b604ff4c",
   "metadata": {
    "scrolled": true,
    "tags": []
   },
   "outputs": [
    {
     "name": "stderr",
     "output_type": "stream",
     "text": [
      "  0%|                                                    | 0/10 [00:00<?, ?it/s]"
     ]
    },
    {
     "name": "stdout",
     "output_type": "stream",
     "text": [
      "b'HIP104887-1850'\n",
      "b'HIP87579-1008'\n",
      "b'clustering_tests'\n",
      "(347064, 16, 256)\n",
      "(100000, 16, 256)\n",
      "1.0 0.0\n",
      "(100000, 16, 256, 1)\n"
     ]
    },
    {
     "name": "stderr",
     "output_type": "stream",
     "text": [
      " 10%|████                                     | 1/10 [07:43<1:09:27, 463.01s/it]"
     ]
    },
    {
     "name": "stdout",
     "output_type": "stream",
     "text": [
      "(100000, 800)\n",
      "SCORE IS:  2.9166765 1.295244\n",
      "b'HIP104887-1850'\n",
      "b'HIP87579-1008'\n",
      "b'clustering_tests'\n",
      "(347064, 16, 256)\n",
      "(100000, 16, 256)\n",
      "1.0 0.0\n",
      "(100000, 16, 256, 1)\n"
     ]
    },
    {
     "name": "stderr",
     "output_type": "stream",
     "text": [
      " 20%|████████▏                                | 2/10 [15:34<1:02:24, 468.02s/it]"
     ]
    },
    {
     "name": "stdout",
     "output_type": "stream",
     "text": [
      "(100000, 800)\n",
      "SCORE IS:  3.0570383 1.5321516\n",
      "b'HIP104887-1850'\n",
      "b'HIP87579-1008'\n",
      "b'clustering_tests'\n",
      "(347064, 16, 256)\n",
      "(100000, 16, 256)\n",
      "1.0 0.0\n",
      "(100000, 16, 256, 1)\n"
     ]
    },
    {
     "name": "stderr",
     "output_type": "stream",
     "text": [
      " 30%|████████████▉                              | 3/10 [23:09<53:55, 462.22s/it]"
     ]
    },
    {
     "name": "stdout",
     "output_type": "stream",
     "text": [
      "(100000, 800)\n",
      "SCORE IS:  3.259152 1.3618685\n",
      "b'HIP104887-1850'\n",
      "b'HIP87579-1008'\n",
      "b'clustering_tests'\n",
      "(347064, 16, 256)\n",
      "(100000, 16, 256)\n",
      "1.0 0.0\n",
      "(100000, 16, 256, 1)\n"
     ]
    },
    {
     "name": "stderr",
     "output_type": "stream",
     "text": [
      " 40%|█████████████████▏                         | 4/10 [30:44<45:55, 459.23s/it]"
     ]
    },
    {
     "name": "stdout",
     "output_type": "stream",
     "text": [
      "(100000, 800)\n",
      "SCORE IS:  3.107264 1.3904837\n",
      "b'HIP104887-1850'\n",
      "b'HIP87579-1008'\n",
      "b'clustering_tests'\n",
      "(347064, 16, 256)\n",
      "(100000, 16, 256)\n",
      "1.0 0.0\n",
      "(100000, 16, 256, 1)\n"
     ]
    },
    {
     "name": "stderr",
     "output_type": "stream",
     "text": [
      " 50%|█████████████████████▌                     | 5/10 [38:15<38:01, 456.26s/it]"
     ]
    },
    {
     "name": "stdout",
     "output_type": "stream",
     "text": [
      "(100000, 800)\n",
      "SCORE IS:  2.9518628 1.2252791\n",
      "b'HIP104887-1850'\n",
      "b'HIP87579-1008'\n",
      "b'clustering_tests'\n",
      "(347064, 16, 256)\n",
      "(100000, 16, 256)\n",
      "1.0 0.0\n",
      "(100000, 16, 256, 1)\n"
     ]
    },
    {
     "name": "stderr",
     "output_type": "stream",
     "text": [
      " 60%|█████████████████████████▊                 | 6/10 [45:34<30:01, 450.45s/it]"
     ]
    },
    {
     "name": "stdout",
     "output_type": "stream",
     "text": [
      "(100000, 800)\n",
      "SCORE IS:  3.3328233 1.793119\n",
      "b'HIP104887-1850'\n",
      "b'HIP87579-1008'\n",
      "b'clustering_tests'\n",
      "(347064, 16, 256)\n",
      "(100000, 16, 256)\n",
      "1.0 0.0\n",
      "(100000, 16, 256, 1)\n"
     ]
    },
    {
     "name": "stderr",
     "output_type": "stream",
     "text": [
      " 70%|██████████████████████████████             | 7/10 [52:59<22:25, 448.46s/it]"
     ]
    },
    {
     "name": "stdout",
     "output_type": "stream",
     "text": [
      "(100000, 800)\n",
      "SCORE IS:  3.02143 1.2757397\n",
      "b'HIP104887-1850'\n",
      "b'HIP87579-1008'\n",
      "b'clustering_tests'\n",
      "(347064, 16, 256)\n",
      "(100000, 16, 256)\n",
      "1.0 0.0\n",
      "(100000, 16, 256, 1)\n"
     ]
    },
    {
     "name": "stderr",
     "output_type": "stream",
     "text": [
      " 80%|████████████████████████████████▊        | 8/10 [1:00:27<14:57, 448.61s/it]"
     ]
    },
    {
     "name": "stdout",
     "output_type": "stream",
     "text": [
      "(100000, 800)\n",
      "SCORE IS:  3.2249622 1.8557835\n",
      "b'HIP104887-1850'\n",
      "b'HIP87579-1008'\n",
      "b'clustering_tests'\n",
      "(347064, 16, 256)\n",
      "(100000, 16, 256)\n",
      "1.0 0.0\n",
      "(100000, 16, 256, 1)\n"
     ]
    },
    {
     "name": "stderr",
     "output_type": "stream",
     "text": [
      " 90%|████████████████████████████████████▉    | 9/10 [1:07:50<07:26, 446.69s/it]"
     ]
    },
    {
     "name": "stdout",
     "output_type": "stream",
     "text": [
      "(100000, 800)\n",
      "SCORE IS:  2.9981163 1.1894457\n",
      "b'HIP104887-1850'\n",
      "b'HIP87579-1008'\n",
      "b'clustering_tests'\n",
      "(347064, 16, 256)\n",
      "(100000, 16, 256)\n",
      "1.0 0.0\n",
      "(100000, 16, 256, 1)\n"
     ]
    },
    {
     "name": "stderr",
     "output_type": "stream",
     "text": [
      "100%|████████████████████████████████████████| 10/10 [1:15:11<00:00, 451.19s/it]"
     ]
    },
    {
     "name": "stdout",
     "output_type": "stream",
     "text": [
      "(100000, 800)\n",
      "SCORE IS:  3.0566323 1.149919\n"
     ]
    },
    {
     "name": "stderr",
     "output_type": "stream",
     "text": [
      "\n"
     ]
    }
   ],
   "source": [
    "import os\n",
    "from tqdm import tqdm\n",
    "total_scores = []\n",
    "for i in tqdm(range(10)):\n",
    "    directory = os.fsencode( \"../../../../../datax/scratch/pma/reverse_search/test/\")\n",
    "    count = 0\n",
    "    data = []\n",
    "    for folder in os.listdir(directory):\n",
    "        print(folder)\n",
    "        for subfolder in os.listdir(directory+folder):\n",
    "            back = os.fsencode( \"/\")\n",
    "            if '.' not in str(subfolder):\n",
    "                for file in os.listdir(directory+folder+back+subfolder):\n",
    "                    file_directory = str(os.path.join(directory+folder+back+subfolder, file)).replace('b', '').replace(\"'\",\"\")\n",
    "                    if 'filtered.npy' in file_directory:\n",
    "                        data.append(np.load(str(file_directory)))\n",
    "                        count += 1\n",
    "    data = np.vstack(data)\n",
    "    print(data.shape)\n",
    "    injected, labels = painting(data)\n",
    "    \n",
    "    print(injected.shape)\n",
    "    \n",
    "    input_data = np.expand_dims(injected, axis = -1)\n",
    "    del data\n",
    "    gc.collect()\n",
    "    input_data = normalize_data(input_data)\n",
    "    print(input_data[0,:,:].max(), input_data[0,:,:].min())\n",
    "    print(input_data.shape)\n",
    "    \n",
    "    des_vecs = []\n",
    "    kps_vecs = []\n",
    "    sift = cv.SIFT_create()\n",
    "\n",
    "    for i in range(input_data.shape[0]):\n",
    "        temp =  input_data[i, :, :, :] *255\n",
    "        temp = temp.astype('uint8')\n",
    "        kp, des = sift.detectAndCompute(temp, None)\n",
    "        des_vecs.append(des)\n",
    "        kps_vecs.append(kp)\n",
    "\n",
    "    descriptors = np.vstack(list(filter(lambda x: x is not None, des_vecs)))\n",
    "    clusters = 800\n",
    "    criteria = (cv.TERM_CRITERIA_EPS + cv.TERM_CRITERIA_MAX_ITER, 5, .01)\n",
    "    centroids = cv.kmeans(descriptors, clusters, None, criteria, 1, cv.KMEANS_PP_CENTERS)[2]\n",
    "    np.save(\"centroids.npy\", centroids)\n",
    "    \n",
    "    features = SIFT(input_data[:,:,:,0])\n",
    "    print(features.shape)\n",
    "    score, spread = measure_cluster_size(x = features, labels = labels[:, 0])\n",
    "    print(\"SCORE IS: \", score, spread)\n",
    "    total_scores.append(score)"
   ]
  },
  {
   "cell_type": "code",
   "execution_count": 9,
   "id": "7adb4e81-9db8-46bd-b65c-f178db9148e3",
   "metadata": {
    "tags": []
   },
   "outputs": [
    {
     "name": "stdout",
     "output_type": "stream",
     "text": [
      "3.0925956\n",
      "0.13057114\n"
     ]
    }
   ],
   "source": [
    "print(np.mean(total_scores))\n",
    "print(np.std(total_scores))"
   ]
  }
 ],
 "metadata": {
  "kernelspec": {
   "display_name": "Python 3 (ipykernel)",
   "language": "python",
   "name": "python3"
  },
  "language_info": {
   "codemirror_mode": {
    "name": "ipython",
    "version": 3
   },
   "file_extension": ".py",
   "mimetype": "text/x-python",
   "name": "python",
   "nbconvert_exporter": "python",
   "pygments_lexer": "ipython3",
   "version": "3.10.10"
  }
 },
 "nbformat": 4,
 "nbformat_minor": 5
}
