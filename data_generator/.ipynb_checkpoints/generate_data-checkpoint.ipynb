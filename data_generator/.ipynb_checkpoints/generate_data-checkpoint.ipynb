{
 "cells": [
  {
   "cell_type": "code",
   "execution_count": 1,
   "id": "704928fa-0dd7-466a-a7f4-faba5a533cde",
   "metadata": {},
   "outputs": [],
   "source": [
    "import os\n",
    "from blimpy import Waterfall\n",
    "import numpy as np\n",
    "import sys\n",
    "import matplotlib.pyplot as plt\n",
    "import pandas as pd"
   ]
  },
  {
   "cell_type": "markdown",
   "id": "8c21438b-13a8-49c7-83cd-2423d212c79a",
   "metadata": {},
   "source": [
    "# Find Training Data"
   ]
  },
  {
   "cell_type": "code",
   "execution_count": 2,
   "id": "cf7bb61d-b0a6-4693-8919-353c23eedb89",
   "metadata": {},
   "outputs": [],
   "source": [
    "# !wget https://raw.githubusercontent.com/PetchMa/ML_GBT_SETI/main/data_archive/fine_cadences_formatted_updated_big.csv"
   ]
  },
  {
   "cell_type": "code",
   "execution_count": 3,
   "id": "0b1fdd2a-bf07-45b5-835f-22f7997f7b2f",
   "metadata": {},
   "outputs": [],
   "source": [
    "# df = pd.read_csv(\"fine_cadences_formatted_updated_big.csv\")\n",
    "# all_targets = df.columns[1:]\n",
    "\n",
    "# # randomly select 10 for training\n",
    "# num_cadence_training = 5\n",
    "# training_target= np.random.choice(all_targets, num_cadence_training, replace=False) \n",
    "# print(training_target)\n",
    "# training_data_directory = df[training_target]\n",
    "# training_data_directory.to_csv(\"train_directories.csv\")\n",
    "# print()\n",
    "# # randomly select 3 for test\n",
    "# num_cadence_test = 2\n",
    "# test_target = np.random.choice(all_targets, num_cadence_test, replace=False) \n",
    "# print(test_target)\n",
    "# testing_data_directory = df[test_target]\n",
    "# testing_data_directory.to_csv(\"test_directories.csv\")\n",
    "\n",
    "# new_untouched_df = df.drop(test_target, axis = 1).drop(training_target, axis = 1)\n",
    "# new_untouched_df.to_csv(\"untouched_list.csv\")"
   ]
  },
  {
   "cell_type": "markdown",
   "id": "0d5cab1d-a663-412c-9416-57c08f5d8e77",
   "metadata": {},
   "source": [
    "# Filter Signals Training"
   ]
  },
  {
   "cell_type": "code",
   "execution_count": 4,
   "id": "9c59a902-c054-42d7-b1f0-4d3e32e498b2",
   "metadata": {
    "collapsed": true,
    "jupyter": {
     "outputs_hidden": true
    },
    "tags": []
   },
   "outputs": [
    {
     "name": "stdout",
     "output_type": "stream",
     "text": [
      "HIP44295-23\n",
      "/mnt_blpd7/datax/dl/GBT_57515_81866_HIP44295_fine.h5\n",
      "Header saved to ../../../../../../datax/scratch/pma/reverse_search/train/HIP44295-23/GBT_57515_81866_HIP44295_fine/header.pkl\n",
      "Processing 3 in parallel\n",
      "Processing coarse channels 0-3\n"
     ]
    },
    {
     "name": "stderr",
     "output_type": "stream",
     "text": [
      "  0%|          | 0/101 [00:00<?, ?it/s]"
     ]
    },
    {
     "name": "stdout",
     "output_type": "stream",
     "text": [
      "Data loaded in 0.9392 seconds, processing\n",
      "Bandpass cleaned in 1.6950 seconds.\n",
      "Stamps filtered in 14.3590 seconds\n",
      "Saving results\n"
     ]
    },
    {
     "name": "stderr",
     "output_type": "stream",
     "text": [
      "  1%|          | 1/101 [00:17<29:03, 17.44s/it]"
     ]
    },
    {
     "name": "stdout",
     "output_type": "stream",
     "text": [
      "Results aggregated in 0.4299 seconds\n",
      "Processing coarse channels 3-6\n",
      "Data loaded in 0.9649 seconds, processing\n",
      "Bandpass cleaned in 1.6928 seconds.\n",
      "Stamps filtered in 13.3123 seconds\n",
      "Saving results\n",
      "Results aggregated in 0.0456 seconds\n",
      "Processing coarse channels 6-9\n"
     ]
    },
    {
     "name": "stderr",
     "output_type": "stream",
     "text": [
      "  2%|▏         | 2/101 [00:33<27:23, 16.60s/it]"
     ]
    },
    {
     "name": "stdout",
     "output_type": "stream",
     "text": [
      "Data loaded in 0.9680 seconds, processing\n",
      "Bandpass cleaned in 1.6780 seconds.\n",
      "Stamps filtered in 13.6663 seconds\n",
      "Saving results\n",
      "Results aggregated in 0.0363 seconds\n",
      "Processing coarse channels 9-12\n"
     ]
    },
    {
     "name": "stderr",
     "output_type": "stream",
     "text": [
      "  3%|▎         | 3/101 [00:49<26:56, 16.49s/it]"
     ]
    },
    {
     "name": "stdout",
     "output_type": "stream",
     "text": [
      "Data loaded in 0.8023 seconds, processing\n",
      "Bandpass cleaned in 1.6549 seconds.\n",
      "Stamps filtered in 14.5123 seconds\n",
      "Saving results\n",
      "Results aggregated in 0.0365 seconds\n",
      "Processing coarse channels 12-15\n"
     ]
    },
    {
     "name": "stderr",
     "output_type": "stream",
     "text": [
      "  4%|▍         | 4/101 [01:06<26:59, 16.70s/it]"
     ]
    },
    {
     "name": "stdout",
     "output_type": "stream",
     "text": [
      "Data loaded in 0.8412 seconds, processing\n",
      "Bandpass cleaned in 1.6520 seconds.\n",
      "Stamps filtered in 13.5781 seconds\n",
      "Saving results\n",
      "Results aggregated in 0.0371 seconds\n",
      "Processing coarse channels 15-18\n"
     ]
    },
    {
     "name": "stderr",
     "output_type": "stream",
     "text": [
      "  5%|▍         | 5/101 [01:22<26:22, 16.49s/it]"
     ]
    },
    {
     "name": "stdout",
     "output_type": "stream",
     "text": [
      "Data loaded in 0.8423 seconds, processing\n",
      "Bandpass cleaned in 1.6718 seconds.\n",
      "Stamps filtered in 13.4296 seconds\n",
      "Saving results\n",
      "Results aggregated in 0.0354 seconds\n",
      "Processing coarse channels 18-21\n"
     ]
    },
    {
     "name": "stderr",
     "output_type": "stream",
     "text": [
      "  6%|▌         | 6/101 [01:38<25:50, 16.32s/it]"
     ]
    },
    {
     "name": "stdout",
     "output_type": "stream",
     "text": [
      "Data loaded in 0.8177 seconds, processing\n",
      "Bandpass cleaned in 1.6999 seconds.\n",
      "Stamps filtered in 14.1961 seconds\n",
      "Saving results\n",
      "Results aggregated in 0.0349 seconds\n",
      "Processing coarse channels 21-24\n"
     ]
    },
    {
     "name": "stderr",
     "output_type": "stream",
     "text": [
      "  7%|▋         | 7/101 [01:55<25:47, 16.46s/it]"
     ]
    },
    {
     "name": "stdout",
     "output_type": "stream",
     "text": [
      "Data loaded in 0.9971 seconds, processing\n",
      "Bandpass cleaned in 1.6603 seconds.\n",
      "Stamps filtered in 14.0356 seconds\n",
      "Saving results\n",
      "Results aggregated in 0.0363 seconds\n",
      "Processing coarse channels 24-27\n"
     ]
    },
    {
     "name": "stderr",
     "output_type": "stream",
     "text": [
      "  8%|▊         | 8/101 [02:12<25:38, 16.55s/it]"
     ]
    },
    {
     "name": "stdout",
     "output_type": "stream",
     "text": [
      "Data loaded in 0.8464 seconds, processing\n",
      "Bandpass cleaned in 1.7017 seconds.\n",
      "Stamps filtered in 13.5734 seconds\n",
      "Saving results\n",
      "Results aggregated in 0.0368 seconds\n",
      "Processing coarse channels 27-30\n"
     ]
    },
    {
     "name": "stderr",
     "output_type": "stream",
     "text": [
      "  9%|▉         | 9/101 [02:28<25:11, 16.43s/it]"
     ]
    },
    {
     "name": "stdout",
     "output_type": "stream",
     "text": [
      "Data loaded in 0.8828 seconds, processing\n",
      "Bandpass cleaned in 1.6757 seconds.\n",
      "Stamps filtered in 13.1660 seconds\n",
      "Saving results\n",
      "Results aggregated in 0.0360 seconds\n",
      "Processing coarse channels 30-33\n"
     ]
    },
    {
     "name": "stderr",
     "output_type": "stream",
     "text": [
      " 10%|▉         | 10/101 [02:44<24:36, 16.22s/it]"
     ]
    },
    {
     "name": "stdout",
     "output_type": "stream",
     "text": [
      "Data loaded in 0.8384 seconds, processing\n",
      "Bandpass cleaned in 1.6528 seconds.\n",
      "Stamps filtered in 13.2622 seconds\n",
      "Saving results\n",
      "Results aggregated in 0.0386 seconds\n",
      "Processing coarse channels 33-36\n"
     ]
    },
    {
     "name": "stderr",
     "output_type": "stream",
     "text": [
      " 11%|█         | 11/101 [03:00<24:08, 16.10s/it]"
     ]
    },
    {
     "name": "stdout",
     "output_type": "stream",
     "text": [
      "Data loaded in 0.8384 seconds, processing\n",
      "Bandpass cleaned in 1.6324 seconds.\n",
      "Stamps filtered in 14.5349 seconds\n",
      "Saving results\n",
      "Results aggregated in 0.0393 seconds\n",
      "Processing coarse channels 36-39\n"
     ]
    },
    {
     "name": "stderr",
     "output_type": "stream",
     "text": [
      " 12%|█▏        | 12/101 [03:17<24:18, 16.39s/it]"
     ]
    },
    {
     "name": "stdout",
     "output_type": "stream",
     "text": [
      "Data loaded in 0.8563 seconds, processing\n",
      "Bandpass cleaned in 1.6419 seconds.\n",
      "Stamps filtered in 14.4377 seconds\n",
      "Saving results\n",
      "Results aggregated in 0.0379 seconds\n",
      "Processing coarse channels 39-42\n"
     ]
    },
    {
     "name": "stderr",
     "output_type": "stream",
     "text": [
      " 13%|█▎        | 13/101 [03:34<24:17, 16.57s/it]"
     ]
    },
    {
     "name": "stdout",
     "output_type": "stream",
     "text": [
      "Data loaded in 0.8814 seconds, processing\n",
      "Bandpass cleaned in 1.6426 seconds.\n",
      "Stamps filtered in 14.5897 seconds\n",
      "Saving results\n",
      "Results aggregated in 0.0362 seconds\n",
      "Processing coarse channels 42-45\n"
     ]
    },
    {
     "name": "stderr",
     "output_type": "stream",
     "text": [
      " 14%|█▍        | 14/101 [03:51<24:16, 16.74s/it]"
     ]
    },
    {
     "name": "stdout",
     "output_type": "stream",
     "text": [
      "Data loaded in 0.8215 seconds, processing\n",
      "Bandpass cleaned in 1.7274 seconds.\n",
      "Stamps filtered in 13.2543 seconds\n",
      "Saving results\n",
      "Results aggregated in 0.0382 seconds\n",
      "Processing coarse channels 45-48\n"
     ]
    },
    {
     "name": "stderr",
     "output_type": "stream",
     "text": [
      " 15%|█▍        | 15/101 [04:07<23:36, 16.47s/it]"
     ]
    },
    {
     "name": "stdout",
     "output_type": "stream",
     "text": [
      "Data loaded in 0.8310 seconds, processing\n",
      "Bandpass cleaned in 1.6586 seconds.\n",
      "Stamps filtered in 13.7883 seconds\n",
      "Saving results\n",
      "Results aggregated in 0.0375 seconds\n",
      "Processing coarse channels 48-51\n"
     ]
    },
    {
     "name": "stderr",
     "output_type": "stream",
     "text": [
      " 16%|█▌        | 16/101 [04:23<23:16, 16.43s/it]"
     ]
    },
    {
     "name": "stdout",
     "output_type": "stream",
     "text": [
      "Data loaded in 0.8302 seconds, processing\n",
      "Bandpass cleaned in 1.7166 seconds.\n",
      "Stamps filtered in 13.6515 seconds\n",
      "Saving results\n",
      "Results aggregated in 0.0348 seconds\n",
      "Processing coarse channels 51-54\n"
     ]
    },
    {
     "name": "stderr",
     "output_type": "stream",
     "text": [
      " 17%|█▋        | 17/101 [04:39<22:55, 16.37s/it]"
     ]
    },
    {
     "name": "stdout",
     "output_type": "stream",
     "text": [
      "Data loaded in 0.9064 seconds, processing\n",
      "Bandpass cleaned in 1.6407 seconds.\n",
      "Stamps filtered in 14.0345 seconds\n",
      "Saving results\n",
      "Results aggregated in 0.0351 seconds\n",
      "Processing coarse channels 54-57\n"
     ]
    },
    {
     "name": "stderr",
     "output_type": "stream",
     "text": [
      " 18%|█▊        | 18/101 [04:56<22:45, 16.45s/it]"
     ]
    },
    {
     "name": "stdout",
     "output_type": "stream",
     "text": [
      "Data loaded in 0.8297 seconds, processing\n",
      "Bandpass cleaned in 1.6461 seconds.\n",
      "Stamps filtered in 13.5390 seconds\n",
      "Saving results\n",
      "Results aggregated in 0.0386 seconds\n",
      "Processing coarse channels 57-60\n"
     ]
    },
    {
     "name": "stderr",
     "output_type": "stream",
     "text": [
      " 19%|█▉        | 19/101 [05:12<22:19, 16.33s/it]"
     ]
    },
    {
     "name": "stdout",
     "output_type": "stream",
     "text": [
      "Data loaded in 0.9178 seconds, processing\n",
      "Bandpass cleaned in 1.6921 seconds.\n",
      "Stamps filtered in 14.1724 seconds\n",
      "Saving results\n",
      "Results aggregated in 0.0393 seconds\n",
      "Processing coarse channels 60-63\n"
     ]
    },
    {
     "name": "stderr",
     "output_type": "stream",
     "text": [
      " 20%|█▉        | 20/101 [05:29<22:14, 16.48s/it]"
     ]
    },
    {
     "name": "stdout",
     "output_type": "stream",
     "text": [
      "Data loaded in 0.8249 seconds, processing\n",
      "Bandpass cleaned in 1.6168 seconds.\n",
      "Stamps filtered in 14.5995 seconds\n",
      "Saving results\n",
      "Results aggregated in 0.0444 seconds\n",
      "Processing coarse channels 63-66\n"
     ]
    },
    {
     "name": "stderr",
     "output_type": "stream",
     "text": [
      " 21%|██        | 21/101 [05:46<22:13, 16.67s/it]"
     ]
    },
    {
     "name": "stdout",
     "output_type": "stream",
     "text": [
      "Data loaded in 0.8014 seconds, processing\n",
      "Bandpass cleaned in 1.6322 seconds.\n",
      "Stamps filtered in 13.4779 seconds\n",
      "Saving results\n",
      "Results aggregated in 0.0360 seconds\n",
      "Processing coarse channels 66-69\n"
     ]
    },
    {
     "name": "stderr",
     "output_type": "stream",
     "text": [
      " 22%|██▏       | 22/101 [06:02<21:39, 16.45s/it]"
     ]
    },
    {
     "name": "stdout",
     "output_type": "stream",
     "text": [
      "Data loaded in 0.8770 seconds, processing\n",
      "Bandpass cleaned in 1.6414 seconds.\n",
      "Stamps filtered in 14.0391 seconds\n",
      "Saving results\n",
      "Results aggregated in 0.0400 seconds\n",
      "Processing coarse channels 69-72\n"
     ]
    },
    {
     "name": "stderr",
     "output_type": "stream",
     "text": [
      " 23%|██▎       | 23/101 [06:18<21:26, 16.50s/it]"
     ]
    },
    {
     "name": "stdout",
     "output_type": "stream",
     "text": [
      "Data loaded in 0.7674 seconds, processing\n",
      "Bandpass cleaned in 1.6065 seconds.\n",
      "Stamps filtered in 13.4083 seconds\n",
      "Saving results\n",
      "Results aggregated in 0.0358 seconds\n",
      "Processing coarse channels 72-75\n"
     ]
    },
    {
     "name": "stderr",
     "output_type": "stream",
     "text": [
      " 24%|██▍       | 24/101 [06:34<20:54, 16.30s/it]"
     ]
    },
    {
     "name": "stdout",
     "output_type": "stream",
     "text": [
      "Data loaded in 0.8305 seconds, processing\n",
      "Bandpass cleaned in 1.6445 seconds.\n",
      "Stamps filtered in 13.7560 seconds\n",
      "Saving results\n",
      "Results aggregated in 0.0317 seconds\n",
      "Processing coarse channels 75-78\n"
     ]
    },
    {
     "name": "stderr",
     "output_type": "stream",
     "text": [
      " 25%|██▍       | 25/101 [06:51<20:37, 16.29s/it]"
     ]
    },
    {
     "name": "stdout",
     "output_type": "stream",
     "text": [
      "Data loaded in 0.7689 seconds, processing\n",
      "Bandpass cleaned in 1.7054 seconds.\n",
      "Stamps filtered in 14.5165 seconds\n",
      "Saving results\n",
      "Results aggregated in 0.0730 seconds\n",
      "Processing coarse channels 78-81\n"
     ]
    },
    {
     "name": "stderr",
     "output_type": "stream",
     "text": [
      " 26%|██▌       | 26/101 [07:08<20:39, 16.52s/it]"
     ]
    },
    {
     "name": "stdout",
     "output_type": "stream",
     "text": [
      "Data loaded in 0.8243 seconds, processing\n",
      "Bandpass cleaned in 1.7110 seconds.\n",
      "Stamps filtered in 14.7082 seconds\n",
      "Saving results\n",
      "Results aggregated in 0.1495 seconds\n",
      "Processing coarse channels 81-84\n"
     ]
    },
    {
     "name": "stderr",
     "output_type": "stream",
     "text": [
      " 27%|██▋       | 27/101 [07:25<20:42, 16.79s/it]"
     ]
    },
    {
     "name": "stdout",
     "output_type": "stream",
     "text": [
      "Data loaded in 0.8884 seconds, processing\n",
      "Bandpass cleaned in 1.6383 seconds.\n",
      "Stamps filtered in 13.7141 seconds\n",
      "Saving results\n",
      "Results aggregated in 0.1523 seconds\n",
      "Processing coarse channels 84-87\n"
     ]
    },
    {
     "name": "stderr",
     "output_type": "stream",
     "text": [
      " 28%|██▊       | 28/101 [07:41<20:17, 16.67s/it]"
     ]
    },
    {
     "name": "stdout",
     "output_type": "stream",
     "text": [
      "Data loaded in 0.8202 seconds, processing\n",
      "Bandpass cleaned in 1.7723 seconds.\n",
      "Stamps filtered in 14.6242 seconds\n",
      "Saving results\n",
      "Results aggregated in 0.0641 seconds\n",
      "Processing coarse channels 87-90\n"
     ]
    },
    {
     "name": "stderr",
     "output_type": "stream",
     "text": [
      " 29%|██▊       | 29/101 [07:59<20:13, 16.86s/it]"
     ]
    },
    {
     "name": "stdout",
     "output_type": "stream",
     "text": [
      "Data loaded in 0.8568 seconds, processing\n",
      "Bandpass cleaned in 1.6385 seconds.\n",
      "Stamps filtered in 13.3722 seconds\n",
      "Saving results\n",
      "Results aggregated in 0.0454 seconds\n",
      "Processing coarse channels 90-93\n"
     ]
    },
    {
     "name": "stderr",
     "output_type": "stream",
     "text": [
      " 30%|██▉       | 30/101 [08:15<19:36, 16.58s/it]"
     ]
    },
    {
     "name": "stdout",
     "output_type": "stream",
     "text": [
      "Data loaded in 0.7807 seconds, processing\n",
      "Bandpass cleaned in 1.6522 seconds.\n",
      "Stamps filtered in 13.6416 seconds\n",
      "Saving results\n",
      "Results aggregated in 0.0451 seconds\n",
      "Processing coarse channels 93-96\n"
     ]
    },
    {
     "name": "stderr",
     "output_type": "stream",
     "text": [
      " 31%|███       | 31/101 [08:31<19:10, 16.44s/it]"
     ]
    },
    {
     "name": "stdout",
     "output_type": "stream",
     "text": [
      "Data loaded in 0.8638 seconds, processing\n",
      "Bandpass cleaned in 1.6708 seconds.\n",
      "Stamps filtered in 13.4885 seconds\n",
      "Saving results\n",
      "Results aggregated in 0.0467 seconds\n",
      "Processing coarse channels 96-99\n"
     ]
    },
    {
     "name": "stderr",
     "output_type": "stream",
     "text": [
      " 32%|███▏      | 32/101 [08:47<18:46, 16.33s/it]"
     ]
    },
    {
     "name": "stdout",
     "output_type": "stream",
     "text": [
      "Data loaded in 0.8612 seconds, processing\n",
      "Bandpass cleaned in 1.6380 seconds.\n",
      "Stamps filtered in 13.4993 seconds\n",
      "Saving results\n",
      "Results aggregated in 0.0446 seconds\n",
      "Processing coarse channels 99-102\n"
     ]
    },
    {
     "name": "stderr",
     "output_type": "stream",
     "text": [
      " 33%|███▎      | 33/101 [09:03<18:24, 16.25s/it]"
     ]
    },
    {
     "name": "stdout",
     "output_type": "stream",
     "text": [
      "Data loaded in 0.7965 seconds, processing\n",
      "Bandpass cleaned in 1.6802 seconds.\n",
      "Stamps filtered in 13.5300 seconds\n",
      "Saving results\n"
     ]
    },
    {
     "name": "stderr",
     "output_type": "stream",
     "text": [
      " 34%|███▎      | 34/101 [09:19<18:09, 16.26s/it]"
     ]
    },
    {
     "name": "stdout",
     "output_type": "stream",
     "text": [
      "Results aggregated in 0.2638 seconds\n",
      "Processing coarse channels 102-105\n",
      "Data loaded in 0.7763 seconds, processing\n",
      "Bandpass cleaned in 1.6029 seconds.\n",
      "Stamps filtered in 13.8153 seconds\n",
      "Saving results\n"
     ]
    },
    {
     "name": "stderr",
     "output_type": "stream",
     "text": [
      " 35%|███▍      | 35/101 [09:36<17:58, 16.35s/it]"
     ]
    },
    {
     "name": "stdout",
     "output_type": "stream",
     "text": [
      "Results aggregated in 0.3506 seconds\n",
      "Processing coarse channels 105-108\n",
      "Data loaded in 0.8182 seconds, processing\n",
      "Bandpass cleaned in 1.6595 seconds.\n",
      "Stamps filtered in 13.5835 seconds\n",
      "Saving results\n",
      "Results aggregated in 0.0511 seconds\n",
      "Processing coarse channels 108-111\n"
     ]
    },
    {
     "name": "stderr",
     "output_type": "stream",
     "text": [
      " 36%|███▌      | 36/101 [09:52<17:38, 16.28s/it]"
     ]
    },
    {
     "name": "stdout",
     "output_type": "stream",
     "text": [
      "Data loaded in 0.8499 seconds, processing\n",
      "Bandpass cleaned in 1.6499 seconds.\n",
      "Stamps filtered in 14.6049 seconds\n",
      "Saving results\n"
     ]
    },
    {
     "name": "stderr",
     "output_type": "stream",
     "text": [
      " 37%|███▋      | 37/101 [10:09<17:46, 16.67s/it]"
     ]
    },
    {
     "name": "stdout",
     "output_type": "stream",
     "text": [
      "Results aggregated in 0.4587 seconds\n",
      "Processing coarse channels 111-114\n",
      "Data loaded in 0.8936 seconds, processing\n",
      "Bandpass cleaned in 1.6510 seconds.\n",
      "Stamps filtered in 14.1835 seconds\n",
      "Saving results\n",
      "Results aggregated in 0.1311 seconds\n",
      "Processing coarse channels 114-117\n"
     ]
    },
    {
     "name": "stderr",
     "output_type": "stream",
     "text": [
      " 38%|███▊      | 38/101 [10:26<17:33, 16.73s/it]"
     ]
    },
    {
     "name": "stdout",
     "output_type": "stream",
     "text": [
      "Data loaded in 0.8685 seconds, processing\n",
      "Bandpass cleaned in 1.6696 seconds.\n",
      "Stamps filtered in 14.4495 seconds\n",
      "Saving results\n",
      "Results aggregated in 0.1257 seconds\n",
      "Processing coarse channels 117-120\n"
     ]
    },
    {
     "name": "stderr",
     "output_type": "stream",
     "text": [
      " 39%|███▊      | 39/101 [10:43<17:24, 16.85s/it]"
     ]
    },
    {
     "name": "stdout",
     "output_type": "stream",
     "text": [
      "Data loaded in 0.8554 seconds, processing\n",
      "Bandpass cleaned in 1.6254 seconds.\n",
      "Stamps filtered in 14.3464 seconds\n",
      "Saving results\n"
     ]
    },
    {
     "name": "stderr",
     "output_type": "stream",
     "text": [
      " 40%|███▉      | 40/101 [11:01<17:19, 17.04s/it]"
     ]
    },
    {
     "name": "stdout",
     "output_type": "stream",
     "text": [
      "Results aggregated in 0.6432 seconds\n",
      "Processing coarse channels 120-123\n",
      "Data loaded in 0.8049 seconds, processing\n",
      "Bandpass cleaned in 1.6650 seconds.\n",
      "Stamps filtered in 13.5389 seconds\n",
      "Saving results\n",
      "Results aggregated in 0.1304 seconds\n",
      "Processing coarse channels 123-126\n"
     ]
    },
    {
     "name": "stderr",
     "output_type": "stream",
     "text": [
      " 41%|████      | 41/101 [11:17<16:46, 16.77s/it]"
     ]
    },
    {
     "name": "stdout",
     "output_type": "stream",
     "text": [
      "Data loaded in 0.8470 seconds, processing\n",
      "Bandpass cleaned in 1.6222 seconds.\n",
      "Stamps filtered in 14.0503 seconds\n",
      "Saving results\n"
     ]
    },
    {
     "name": "stderr",
     "output_type": "stream",
     "text": [
      " 42%|████▏     | 42/101 [11:34<16:37, 16.91s/it]"
     ]
    },
    {
     "name": "stdout",
     "output_type": "stream",
     "text": [
      "Results aggregated in 0.7085 seconds\n",
      "Processing coarse channels 126-129\n",
      "Data loaded in 0.8420 seconds, processing\n",
      "Bandpass cleaned in 1.6629 seconds.\n",
      "Stamps filtered in 14.6368 seconds\n",
      "Saving results\n"
     ]
    },
    {
     "name": "stderr",
     "output_type": "stream",
     "text": [
      " 43%|████▎     | 43/101 [11:52<16:37, 17.21s/it]"
     ]
    },
    {
     "name": "stdout",
     "output_type": "stream",
     "text": [
      "Results aggregated in 0.7239 seconds\n",
      "Processing coarse channels 129-132\n",
      "Data loaded in 0.8528 seconds, processing\n",
      "Bandpass cleaned in 1.7270 seconds.\n",
      "Stamps filtered in 13.6541 seconds\n",
      "Saving results\n"
     ]
    },
    {
     "name": "stderr",
     "output_type": "stream",
     "text": [
      " 44%|████▎     | 44/101 [12:09<16:14, 17.10s/it]"
     ]
    },
    {
     "name": "stdout",
     "output_type": "stream",
     "text": [
      "Results aggregated in 0.5881 seconds\n",
      "Processing coarse channels 132-135\n",
      "Data loaded in 0.8369 seconds, processing\n",
      "Bandpass cleaned in 1.7207 seconds.\n",
      "Stamps filtered in 13.3966 seconds\n",
      "Saving results\n"
     ]
    },
    {
     "name": "stderr",
     "output_type": "stream",
     "text": [
      " 45%|████▍     | 45/101 [12:26<15:47, 16.92s/it]"
     ]
    },
    {
     "name": "stdout",
     "output_type": "stream",
     "text": [
      "Results aggregated in 0.5304 seconds\n",
      "Processing coarse channels 135-138\n",
      "Data loaded in 0.9073 seconds, processing\n",
      "Bandpass cleaned in 1.6395 seconds.\n",
      "Stamps filtered in 13.8052 seconds\n",
      "Saving results\n",
      "Results aggregated in 0.0678 seconds\n",
      "Processing coarse channels 138-141\n"
     ]
    },
    {
     "name": "stderr",
     "output_type": "stream",
     "text": [
      " 46%|████▌     | 46/101 [12:42<15:22, 16.77s/it]"
     ]
    },
    {
     "name": "stdout",
     "output_type": "stream",
     "text": [
      "Data loaded in 0.8720 seconds, processing\n",
      "Bandpass cleaned in 1.6227 seconds.\n",
      "Stamps filtered in 14.1390 seconds\n",
      "Saving results\n",
      "Results aggregated in 0.0613 seconds\n",
      "Processing coarse channels 141-144\n"
     ]
    },
    {
     "name": "stderr",
     "output_type": "stream",
     "text": [
      " 47%|████▋     | 47/101 [12:59<15:04, 16.75s/it]"
     ]
    },
    {
     "name": "stdout",
     "output_type": "stream",
     "text": [
      "Data loaded in 0.9341 seconds, processing\n",
      "Bandpass cleaned in 1.8058 seconds.\n",
      "Stamps filtered in 13.4728 seconds\n",
      "Saving results\n",
      "Results aggregated in 0.0638 seconds\n",
      "Processing coarse channels 144-147\n"
     ]
    },
    {
     "name": "stderr",
     "output_type": "stream",
     "text": [
      " 48%|████▊     | 48/101 [13:15<14:40, 16.61s/it]"
     ]
    },
    {
     "name": "stdout",
     "output_type": "stream",
     "text": [
      "Data loaded in 0.8257 seconds, processing\n",
      "Bandpass cleaned in 1.6114 seconds.\n",
      "Stamps filtered in 13.8175 seconds\n",
      "Saving results\n",
      "Results aggregated in 0.0593 seconds\n",
      "Processing coarse channels 147-150\n"
     ]
    },
    {
     "name": "stderr",
     "output_type": "stream",
     "text": [
      " 49%|████▊     | 49/101 [13:31<14:19, 16.52s/it]"
     ]
    },
    {
     "name": "stdout",
     "output_type": "stream",
     "text": [
      "Data loaded in 0.8407 seconds, processing\n",
      "Bandpass cleaned in 1.6777 seconds.\n",
      "Stamps filtered in 14.4739 seconds\n",
      "Saving results\n",
      "Results aggregated in 0.0565 seconds\n",
      "Processing coarse channels 150-153\n"
     ]
    },
    {
     "name": "stderr",
     "output_type": "stream",
     "text": [
      " 50%|████▉     | 50/101 [13:48<14:10, 16.68s/it]"
     ]
    },
    {
     "name": "stdout",
     "output_type": "stream",
     "text": [
      "Data loaded in 0.9576 seconds, processing\n",
      "Bandpass cleaned in 1.7453 seconds.\n",
      "Stamps filtered in 13.3080 seconds\n",
      "Saving results\n",
      "Results aggregated in 0.0567 seconds\n",
      "Processing coarse channels 153-156\n"
     ]
    },
    {
     "name": "stderr",
     "output_type": "stream",
     "text": [
      " 50%|█████     | 51/101 [14:04<13:44, 16.50s/it]"
     ]
    },
    {
     "name": "stdout",
     "output_type": "stream",
     "text": [
      "Data loaded in 0.8260 seconds, processing\n",
      "Bandpass cleaned in 1.6494 seconds.\n",
      "Stamps filtered in 14.4637 seconds\n",
      "Saving results\n",
      "Results aggregated in 0.0626 seconds\n",
      "Processing coarse channels 156-159\n"
     ]
    },
    {
     "name": "stderr",
     "output_type": "stream",
     "text": [
      " 51%|█████▏    | 52/101 [14:21<13:35, 16.65s/it]"
     ]
    },
    {
     "name": "stdout",
     "output_type": "stream",
     "text": [
      "Data loaded in 0.8548 seconds, processing\n",
      "Bandpass cleaned in 1.5823 seconds.\n",
      "Stamps filtered in 14.4161 seconds\n",
      "Saving results\n",
      "Results aggregated in 0.0613 seconds\n",
      "Processing coarse channels 159-162\n"
     ]
    },
    {
     "name": "stderr",
     "output_type": "stream",
     "text": [
      " 52%|█████▏    | 53/101 [14:38<13:23, 16.73s/it]"
     ]
    },
    {
     "name": "stdout",
     "output_type": "stream",
     "text": [
      "Data loaded in 0.8670 seconds, processing\n",
      "Bandpass cleaned in 1.6433 seconds.\n",
      "Stamps filtered in 13.4775 seconds\n",
      "Saving results\n",
      "Results aggregated in 0.0624 seconds\n",
      "Processing coarse channels 162-165\n"
     ]
    },
    {
     "name": "stderr",
     "output_type": "stream",
     "text": [
      " 53%|█████▎    | 54/101 [14:54<12:56, 16.53s/it]"
     ]
    },
    {
     "name": "stdout",
     "output_type": "stream",
     "text": [
      "Data loaded in 0.8806 seconds, processing\n",
      "Bandpass cleaned in 1.6821 seconds.\n",
      "Stamps filtered in 13.3507 seconds\n",
      "Saving results\n",
      "Results aggregated in 0.0625 seconds\n",
      "Processing coarse channels 165-168\n"
     ]
    },
    {
     "name": "stderr",
     "output_type": "stream",
     "text": [
      " 54%|█████▍    | 55/101 [15:10<12:32, 16.37s/it]"
     ]
    },
    {
     "name": "stdout",
     "output_type": "stream",
     "text": [
      "Data loaded in 0.9917 seconds, processing\n",
      "Bandpass cleaned in 1.7630 seconds.\n",
      "Stamps filtered in 13.3643 seconds\n",
      "Saving results\n",
      "Results aggregated in 0.0605 seconds\n",
      "Processing coarse channels 168-171\n"
     ]
    },
    {
     "name": "stderr",
     "output_type": "stream",
     "text": [
      " 55%|█████▌    | 56/101 [15:27<12:14, 16.31s/it]"
     ]
    },
    {
     "name": "stdout",
     "output_type": "stream",
     "text": [
      "Data loaded in 0.8174 seconds, processing\n",
      "Bandpass cleaned in 1.6923 seconds.\n",
      "Stamps filtered in 14.3990 seconds\n",
      "Saving results\n",
      "Results aggregated in 0.0635 seconds\n",
      "Processing coarse channels 171-174\n"
     ]
    },
    {
     "name": "stderr",
     "output_type": "stream",
     "text": [
      " 56%|█████▋    | 57/101 [15:44<12:06, 16.51s/it]"
     ]
    },
    {
     "name": "stdout",
     "output_type": "stream",
     "text": [
      "Data loaded in 0.8543 seconds, processing\n",
      "Bandpass cleaned in 1.6800 seconds.\n",
      "Stamps filtered in 14.5796 seconds\n",
      "Saving results\n",
      "Results aggregated in 0.0553 seconds\n",
      "Processing coarse channels 174-177\n"
     ]
    },
    {
     "name": "stderr",
     "output_type": "stream",
     "text": [
      " 57%|█████▋    | 58/101 [16:01<11:58, 16.71s/it]"
     ]
    },
    {
     "name": "stdout",
     "output_type": "stream",
     "text": [
      "Data loaded in 0.8271 seconds, processing\n",
      "Bandpass cleaned in 1.6233 seconds.\n",
      "Stamps filtered in 13.3692 seconds\n",
      "Saving results\n",
      "Results aggregated in 0.0599 seconds\n",
      "Processing coarse channels 177-180\n"
     ]
    },
    {
     "name": "stderr",
     "output_type": "stream",
     "text": [
      " 58%|█████▊    | 59/101 [16:17<11:31, 16.46s/it]"
     ]
    },
    {
     "name": "stdout",
     "output_type": "stream",
     "text": [
      "Data loaded in 0.8875 seconds, processing\n",
      "Bandpass cleaned in 1.6442 seconds.\n",
      "Stamps filtered in 13.8309 seconds\n",
      "Saving results\n",
      "Results aggregated in 0.0614 seconds\n",
      "Processing coarse channels 180-183\n"
     ]
    },
    {
     "name": "stderr",
     "output_type": "stream",
     "text": [
      " 59%|█████▉    | 60/101 [16:33<11:14, 16.45s/it]"
     ]
    },
    {
     "name": "stdout",
     "output_type": "stream",
     "text": [
      "Data loaded in 0.8632 seconds, processing\n",
      "Bandpass cleaned in 1.6419 seconds.\n",
      "Stamps filtered in 13.5012 seconds\n",
      "Saving results\n",
      "Results aggregated in 0.0639 seconds\n",
      "Processing coarse channels 183-186\n"
     ]
    },
    {
     "name": "stderr",
     "output_type": "stream",
     "text": [
      " 60%|██████    | 61/101 [16:49<10:53, 16.34s/it]"
     ]
    },
    {
     "name": "stdout",
     "output_type": "stream",
     "text": [
      "Data loaded in 0.8273 seconds, processing\n",
      "Bandpass cleaned in 1.5900 seconds.\n",
      "Stamps filtered in 14.2913 seconds\n",
      "Saving results\n",
      "Results aggregated in 0.0677 seconds\n",
      "Processing coarse channels 186-189\n"
     ]
    },
    {
     "name": "stderr",
     "output_type": "stream",
     "text": [
      " 61%|██████▏   | 62/101 [17:06<10:42, 16.47s/it]"
     ]
    },
    {
     "name": "stdout",
     "output_type": "stream",
     "text": [
      "Data loaded in 0.8713 seconds, processing\n",
      "Bandpass cleaned in 1.6361 seconds.\n",
      "Stamps filtered in 14.4497 seconds\n",
      "Saving results\n",
      "Results aggregated in 0.0618 seconds\n",
      "Processing coarse channels 189-192\n"
     ]
    },
    {
     "name": "stderr",
     "output_type": "stream",
     "text": [
      " 62%|██████▏   | 63/101 [17:23<10:32, 16.64s/it]"
     ]
    },
    {
     "name": "stdout",
     "output_type": "stream",
     "text": [
      "Data loaded in 0.9626 seconds, processing\n",
      "Bandpass cleaned in 1.6605 seconds.\n",
      "Stamps filtered in 14.6979 seconds\n",
      "Saving results\n",
      "Results aggregated in 0.0572 seconds\n",
      "Processing coarse channels 192-195\n"
     ]
    },
    {
     "name": "stderr",
     "output_type": "stream",
     "text": [
      " 63%|██████▎   | 64/101 [17:40<10:23, 16.86s/it]"
     ]
    },
    {
     "name": "stdout",
     "output_type": "stream",
     "text": [
      "Data loaded in 0.8121 seconds, processing\n",
      "Bandpass cleaned in 1.6260 seconds.\n",
      "Stamps filtered in 13.7470 seconds\n",
      "Saving results\n",
      "Results aggregated in 0.0628 seconds\n",
      "Processing coarse channels 195-198\n"
     ]
    },
    {
     "name": "stderr",
     "output_type": "stream",
     "text": [
      " 64%|██████▍   | 65/101 [17:57<10:00, 16.68s/it]"
     ]
    },
    {
     "name": "stdout",
     "output_type": "stream",
     "text": [
      "Data loaded in 0.8637 seconds, processing\n",
      "Bandpass cleaned in 1.6847 seconds.\n",
      "Stamps filtered in 14.5699 seconds\n",
      "Saving results\n",
      "Results aggregated in 0.0583 seconds\n",
      "Processing coarse channels 198-201\n"
     ]
    },
    {
     "name": "stderr",
     "output_type": "stream",
     "text": [
      " 65%|██████▌   | 66/101 [18:14<09:49, 16.83s/it]"
     ]
    },
    {
     "name": "stdout",
     "output_type": "stream",
     "text": [
      "Data loaded in 0.9384 seconds, processing\n",
      "Bandpass cleaned in 1.6575 seconds.\n",
      "Stamps filtered in 13.7190 seconds\n",
      "Saving results\n",
      "Results aggregated in 0.0588 seconds\n",
      "Processing coarse channels 201-204\n"
     ]
    },
    {
     "name": "stderr",
     "output_type": "stream",
     "text": [
      " 66%|██████▋   | 67/101 [18:30<09:27, 16.70s/it]"
     ]
    },
    {
     "name": "stdout",
     "output_type": "stream",
     "text": [
      "Data loaded in 0.8371 seconds, processing\n",
      "Bandpass cleaned in 1.6740 seconds.\n",
      "Stamps filtered in 13.7797 seconds\n",
      "Saving results\n",
      "Results aggregated in 0.0552 seconds\n",
      "Processing coarse channels 204-207\n"
     ]
    },
    {
     "name": "stderr",
     "output_type": "stream",
     "text": [
      " 67%|██████▋   | 68/101 [18:46<09:07, 16.59s/it]"
     ]
    },
    {
     "name": "stdout",
     "output_type": "stream",
     "text": [
      "Data loaded in 0.9622 seconds, processing\n",
      "Bandpass cleaned in 1.6525 seconds.\n",
      "Stamps filtered in 13.3935 seconds\n",
      "Saving results\n",
      "Results aggregated in 0.1405 seconds\n",
      "Processing coarse channels 207-210\n"
     ]
    },
    {
     "name": "stderr",
     "output_type": "stream",
     "text": [
      " 68%|██████▊   | 69/101 [19:03<08:46, 16.46s/it]"
     ]
    },
    {
     "name": "stdout",
     "output_type": "stream",
     "text": [
      "Data loaded in 0.8873 seconds, processing\n",
      "Bandpass cleaned in 1.6544 seconds.\n",
      "Stamps filtered in 13.4398 seconds\n",
      "Saving results\n"
     ]
    },
    {
     "name": "stderr",
     "output_type": "stream",
     "text": [
      " 69%|██████▉   | 70/101 [19:19<08:30, 16.48s/it]"
     ]
    },
    {
     "name": "stdout",
     "output_type": "stream",
     "text": [
      "Results aggregated in 0.5153 seconds\n",
      "Processing coarse channels 210-213\n",
      "Data loaded in 0.8415 seconds, processing\n",
      "Bandpass cleaned in 1.7484 seconds.\n",
      "Stamps filtered in 13.8095 seconds\n",
      "Saving results\n",
      "Results aggregated in 0.0892 seconds\n",
      "Processing coarse channels 213-216\n"
     ]
    },
    {
     "name": "stderr",
     "output_type": "stream",
     "text": [
      " 70%|███████   | 71/101 [19:36<08:14, 16.48s/it]"
     ]
    },
    {
     "name": "stdout",
     "output_type": "stream",
     "text": [
      "Data loaded in 0.9376 seconds, processing\n",
      "Bandpass cleaned in 1.6167 seconds.\n",
      "Stamps filtered in 13.5260 seconds\n",
      "Saving results\n",
      "Results aggregated in 0.0643 seconds\n",
      "Processing coarse channels 216-219\n"
     ]
    },
    {
     "name": "stderr",
     "output_type": "stream",
     "text": [
      " 71%|███████▏  | 72/101 [19:52<07:55, 16.38s/it]"
     ]
    },
    {
     "name": "stdout",
     "output_type": "stream",
     "text": [
      "Data loaded in 0.9226 seconds, processing\n",
      "Bandpass cleaned in 1.6081 seconds.\n",
      "Stamps filtered in 13.9481 seconds\n",
      "Saving results\n",
      "Results aggregated in 0.0612 seconds\n",
      "Processing coarse channels 219-222\n"
     ]
    },
    {
     "name": "stderr",
     "output_type": "stream",
     "text": [
      " 72%|███████▏  | 73/101 [20:08<07:40, 16.43s/it]"
     ]
    },
    {
     "name": "stdout",
     "output_type": "stream",
     "text": [
      "Data loaded in 0.8547 seconds, processing\n",
      "Bandpass cleaned in 1.6573 seconds.\n",
      "Stamps filtered in 14.3610 seconds\n",
      "Saving results\n",
      "Results aggregated in 0.0604 seconds\n",
      "Processing coarse channels 222-225\n"
     ]
    },
    {
     "name": "stderr",
     "output_type": "stream",
     "text": [
      " 73%|███████▎  | 74/101 [20:25<07:27, 16.59s/it]"
     ]
    },
    {
     "name": "stdout",
     "output_type": "stream",
     "text": [
      "Data loaded in 0.8542 seconds, processing\n",
      "Bandpass cleaned in 1.6372 seconds.\n",
      "Stamps filtered in 14.1950 seconds\n",
      "Saving results\n",
      "Results aggregated in 0.0622 seconds\n",
      "Processing coarse channels 225-228\n"
     ]
    },
    {
     "name": "stderr",
     "output_type": "stream",
     "text": [
      " 74%|███████▍  | 75/101 [20:42<07:12, 16.64s/it]"
     ]
    },
    {
     "name": "stdout",
     "output_type": "stream",
     "text": [
      "Data loaded in 0.8201 seconds, processing\n",
      "Bandpass cleaned in 1.6991 seconds.\n",
      "Stamps filtered in 14.3494 seconds\n",
      "Saving results\n",
      "Results aggregated in 0.0627 seconds\n",
      "Processing coarse channels 228-231\n"
     ]
    },
    {
     "name": "stderr",
     "output_type": "stream",
     "text": [
      " 75%|███████▌  | 76/101 [20:59<06:58, 16.73s/it]"
     ]
    },
    {
     "name": "stdout",
     "output_type": "stream",
     "text": [
      "Data loaded in 0.7873 seconds, processing\n",
      "Bandpass cleaned in 1.7038 seconds.\n",
      "Stamps filtered in 13.2977 seconds\n",
      "Saving results\n",
      "Results aggregated in 0.0652 seconds\n",
      "Processing coarse channels 231-234\n"
     ]
    },
    {
     "name": "stderr",
     "output_type": "stream",
     "text": [
      " 76%|███████▌  | 77/101 [21:15<06:35, 16.47s/it]"
     ]
    },
    {
     "name": "stdout",
     "output_type": "stream",
     "text": [
      "Data loaded in 0.8766 seconds, processing\n",
      "Bandpass cleaned in 1.6538 seconds.\n",
      "Stamps filtered in 14.2993 seconds\n",
      "Saving results\n",
      "Results aggregated in 0.0598 seconds\n",
      "Processing coarse channels 234-237\n"
     ]
    },
    {
     "name": "stderr",
     "output_type": "stream",
     "text": [
      " 77%|███████▋  | 78/101 [21:32<06:21, 16.60s/it]"
     ]
    },
    {
     "name": "stdout",
     "output_type": "stream",
     "text": [
      "Data loaded in 0.7986 seconds, processing\n",
      "Bandpass cleaned in 1.5988 seconds.\n",
      "Stamps filtered in 13.2905 seconds\n",
      "Saving results\n",
      "Results aggregated in 0.0597 seconds\n",
      "Processing coarse channels 237-240\n"
     ]
    },
    {
     "name": "stderr",
     "output_type": "stream",
     "text": [
      " 78%|███████▊  | 79/101 [21:47<05:59, 16.34s/it]"
     ]
    },
    {
     "name": "stdout",
     "output_type": "stream",
     "text": [
      "Data loaded in 0.8399 seconds, processing\n",
      "Bandpass cleaned in 1.5634 seconds.\n",
      "Stamps filtered in 13.3746 seconds\n",
      "Saving results\n",
      "Results aggregated in 0.1004 seconds\n",
      "Processing coarse channels 240-243\n"
     ]
    },
    {
     "name": "stderr",
     "output_type": "stream",
     "text": [
      " 79%|███████▉  | 80/101 [22:03<05:40, 16.21s/it]"
     ]
    },
    {
     "name": "stdout",
     "output_type": "stream",
     "text": [
      "Data loaded in 0.8195 seconds, processing\n",
      "Bandpass cleaned in 1.7004 seconds.\n",
      "Stamps filtered in 13.6376 seconds\n",
      "Saving results\n"
     ]
    },
    {
     "name": "stderr",
     "output_type": "stream",
     "text": [
      " 80%|████████  | 81/101 [22:20<05:26, 16.34s/it]"
     ]
    },
    {
     "name": "stdout",
     "output_type": "stream",
     "text": [
      "Results aggregated in 0.4843 seconds\n",
      "Processing coarse channels 243-246\n",
      "Data loaded in 0.8342 seconds, processing\n",
      "Bandpass cleaned in 1.6782 seconds.\n",
      "Stamps filtered in 14.5372 seconds\n",
      "Saving results\n"
     ]
    },
    {
     "name": "stderr",
     "output_type": "stream",
     "text": [
      " 81%|████████  | 82/101 [22:37<05:16, 16.64s/it]"
     ]
    },
    {
     "name": "stdout",
     "output_type": "stream",
     "text": [
      "Results aggregated in 0.2682 seconds\n",
      "Processing coarse channels 246-249\n",
      "Data loaded in 0.9791 seconds, processing\n",
      "Bandpass cleaned in 1.6853 seconds.\n",
      "Stamps filtered in 13.4968 seconds\n",
      "Saving results\n",
      "Results aggregated in 0.0803 seconds\n",
      "Processing coarse channels 249-252\n"
     ]
    },
    {
     "name": "stderr",
     "output_type": "stream",
     "text": [
      " 82%|████████▏ | 83/101 [22:54<04:57, 16.52s/it]"
     ]
    },
    {
     "name": "stdout",
     "output_type": "stream",
     "text": [
      "Data loaded in 0.9815 seconds, processing\n",
      "Bandpass cleaned in 1.6301 seconds.\n",
      "Stamps filtered in 13.9203 seconds\n",
      "Saving results\n"
     ]
    },
    {
     "name": "stderr",
     "output_type": "stream",
     "text": [
      " 83%|████████▎ | 84/101 [23:11<04:43, 16.66s/it]"
     ]
    },
    {
     "name": "stdout",
     "output_type": "stream",
     "text": [
      "Results aggregated in 0.4483 seconds\n",
      "Processing coarse channels 252-255\n",
      "Data loaded in 0.8763 seconds, processing\n",
      "Bandpass cleaned in 1.6487 seconds.\n",
      "Stamps filtered in 13.4341 seconds\n",
      "Saving results\n"
     ]
    },
    {
     "name": "stderr",
     "output_type": "stream",
     "text": [
      " 84%|████████▍ | 85/101 [23:27<04:26, 16.63s/it]"
     ]
    },
    {
     "name": "stdout",
     "output_type": "stream",
     "text": [
      "Results aggregated in 0.5693 seconds\n",
      "Processing coarse channels 255-258\n",
      "Data loaded in 0.8194 seconds, processing\n",
      "Bandpass cleaned in 1.6377 seconds.\n",
      "Stamps filtered in 13.7940 seconds\n",
      "Saving results\n",
      "Results aggregated in 0.0707 seconds\n",
      "Processing coarse channels 258-261\n"
     ]
    },
    {
     "name": "stderr",
     "output_type": "stream",
     "text": [
      " 85%|████████▌ | 86/101 [23:43<04:08, 16.54s/it]"
     ]
    },
    {
     "name": "stdout",
     "output_type": "stream",
     "text": [
      "Data loaded in 0.8857 seconds, processing\n",
      "Bandpass cleaned in 1.6082 seconds.\n",
      "Stamps filtered in 14.6069 seconds\n",
      "Saving results\n",
      "Results aggregated in 0.0763 seconds\n",
      "Processing coarse channels 261-264\n"
     ]
    },
    {
     "name": "stderr",
     "output_type": "stream",
     "text": [
      " 86%|████████▌ | 87/101 [24:01<03:54, 16.73s/it]"
     ]
    },
    {
     "name": "stdout",
     "output_type": "stream",
     "text": [
      "Data loaded in 0.9198 seconds, processing\n",
      "Bandpass cleaned in 1.6281 seconds.\n",
      "Stamps filtered in 14.9139 seconds\n",
      "Saving results\n",
      "Results aggregated in 0.0776 seconds\n",
      "Processing coarse channels 264-267\n"
     ]
    },
    {
     "name": "stderr",
     "output_type": "stream",
     "text": [
      " 87%|████████▋ | 88/101 [24:18<03:40, 16.98s/it]"
     ]
    },
    {
     "name": "stdout",
     "output_type": "stream",
     "text": [
      "Data loaded in 0.8932 seconds, processing\n",
      "Bandpass cleaned in 1.6428 seconds.\n",
      "Stamps filtered in 14.0429 seconds\n",
      "Saving results\n",
      "Results aggregated in 0.0652 seconds\n",
      "Processing coarse channels 267-270\n"
     ]
    },
    {
     "name": "stderr",
     "output_type": "stream",
     "text": [
      " 88%|████████▊ | 89/101 [24:35<03:22, 16.88s/it]"
     ]
    },
    {
     "name": "stdout",
     "output_type": "stream",
     "text": [
      "Data loaded in 0.9414 seconds, processing\n",
      "Bandpass cleaned in 1.6647 seconds.\n",
      "Stamps filtered in 13.4232 seconds\n",
      "Saving results\n",
      "Results aggregated in 0.0644 seconds\n",
      "Processing coarse channels 270-273\n"
     ]
    },
    {
     "name": "stderr",
     "output_type": "stream",
     "text": [
      " 89%|████████▉ | 90/101 [24:51<03:03, 16.65s/it]"
     ]
    },
    {
     "name": "stdout",
     "output_type": "stream",
     "text": [
      "Data loaded in 0.7919 seconds, processing\n",
      "Bandpass cleaned in 1.5979 seconds.\n",
      "Stamps filtered in 14.0419 seconds\n",
      "Saving results\n",
      "Results aggregated in 0.0662 seconds\n",
      "Processing coarse channels 273-276\n"
     ]
    },
    {
     "name": "stderr",
     "output_type": "stream",
     "text": [
      " 90%|█████████ | 91/101 [25:07<02:46, 16.60s/it]"
     ]
    },
    {
     "name": "stdout",
     "output_type": "stream",
     "text": [
      "Data loaded in 0.8563 seconds, processing\n",
      "Bandpass cleaned in 1.6560 seconds.\n",
      "Stamps filtered in 13.7335 seconds\n",
      "Saving results\n",
      "Results aggregated in 0.0706 seconds\n",
      "Processing coarse channels 276-279\n"
     ]
    },
    {
     "name": "stderr",
     "output_type": "stream",
     "text": [
      " 91%|█████████ | 92/101 [25:24<02:28, 16.52s/it]"
     ]
    },
    {
     "name": "stdout",
     "output_type": "stream",
     "text": [
      "Data loaded in 0.8277 seconds, processing\n",
      "Bandpass cleaned in 1.6513 seconds.\n",
      "Stamps filtered in 14.4221 seconds\n",
      "Saving results\n",
      "Results aggregated in 0.0700 seconds\n",
      "Processing coarse channels 279-282\n"
     ]
    },
    {
     "name": "stderr",
     "output_type": "stream",
     "text": [
      " 92%|█████████▏| 93/101 [25:41<02:13, 16.66s/it]"
     ]
    },
    {
     "name": "stdout",
     "output_type": "stream",
     "text": [
      "Data loaded in 0.8146 seconds, processing\n",
      "Bandpass cleaned in 1.5721 seconds.\n",
      "Stamps filtered in 14.4667 seconds\n",
      "Saving results\n",
      "Results aggregated in 0.0678 seconds\n",
      "Processing coarse channels 282-285\n"
     ]
    },
    {
     "name": "stderr",
     "output_type": "stream",
     "text": [
      " 93%|█████████▎| 94/101 [25:58<01:57, 16.74s/it]"
     ]
    },
    {
     "name": "stdout",
     "output_type": "stream",
     "text": [
      "Data loaded in 0.7736 seconds, processing\n",
      "Bandpass cleaned in 1.6532 seconds.\n",
      "Stamps filtered in 14.2361 seconds\n",
      "Saving results\n",
      "Results aggregated in 0.0662 seconds\n",
      "Processing coarse channels 285-288\n"
     ]
    },
    {
     "name": "stderr",
     "output_type": "stream",
     "text": [
      " 94%|█████████▍| 95/101 [26:14<01:40, 16.74s/it]"
     ]
    },
    {
     "name": "stdout",
     "output_type": "stream",
     "text": [
      "Data loaded in 0.8245 seconds, processing\n",
      "Bandpass cleaned in 1.6210 seconds.\n",
      "Stamps filtered in 13.9149 seconds\n",
      "Saving results\n",
      "Results aggregated in 0.0717 seconds\n",
      "Processing coarse channels 288-291\n"
     ]
    },
    {
     "name": "stderr",
     "output_type": "stream",
     "text": [
      " 95%|█████████▌| 96/101 [26:31<01:23, 16.65s/it]"
     ]
    },
    {
     "name": "stdout",
     "output_type": "stream",
     "text": [
      "Data loaded in 0.8746 seconds, processing\n",
      "Bandpass cleaned in 1.6027 seconds.\n",
      "Stamps filtered in 14.3829 seconds\n",
      "Saving results\n",
      "Results aggregated in 0.0738 seconds\n",
      "Processing coarse channels 291-294\n"
     ]
    },
    {
     "name": "stderr",
     "output_type": "stream",
     "text": [
      " 96%|█████████▌| 97/101 [26:48<01:06, 16.74s/it]"
     ]
    },
    {
     "name": "stdout",
     "output_type": "stream",
     "text": [
      "Data loaded in 0.9085 seconds, processing\n",
      "Bandpass cleaned in 1.7279 seconds.\n",
      "Stamps filtered in 14.5489 seconds\n",
      "Saving results\n",
      "Results aggregated in 0.0622 seconds\n",
      "Processing coarse channels 294-297\n"
     ]
    },
    {
     "name": "stderr",
     "output_type": "stream",
     "text": [
      " 97%|█████████▋| 98/101 [27:05<00:50, 16.89s/it]"
     ]
    },
    {
     "name": "stdout",
     "output_type": "stream",
     "text": [
      "Data loaded in 0.7910 seconds, processing\n",
      "Bandpass cleaned in 1.5840 seconds.\n",
      "Stamps filtered in 14.5320 seconds\n",
      "Saving results\n",
      "Results aggregated in 0.0802 seconds\n",
      "Processing coarse channels 297-300\n"
     ]
    },
    {
     "name": "stderr",
     "output_type": "stream",
     "text": [
      " 98%|█████████▊| 99/101 [27:22<00:33, 16.92s/it]"
     ]
    },
    {
     "name": "stdout",
     "output_type": "stream",
     "text": [
      "Data loaded in 0.7774 seconds, processing\n",
      "Bandpass cleaned in 1.7265 seconds.\n",
      "Stamps filtered in 14.4930 seconds\n",
      "Saving results\n",
      "Results aggregated in 0.0696 seconds\n",
      "Processing coarse channels 300-303\n"
     ]
    },
    {
     "name": "stderr",
     "output_type": "stream",
     "text": [
      " 99%|█████████▉| 100/101 [27:39<00:16, 16.97s/it]"
     ]
    },
    {
     "name": "stdout",
     "output_type": "stream",
     "text": [
      "Data loaded in 0.8447 seconds, processing\n",
      "Bandpass cleaned in 1.6466 seconds.\n",
      "Stamps filtered in 14.0967 seconds\n",
      "Saving results\n"
     ]
    },
    {
     "name": "stderr",
     "output_type": "stream",
     "text": [
      "100%|██████████| 101/101 [27:56<00:00, 16.60s/it]\n"
     ]
    },
    {
     "name": "stdout",
     "output_type": "stream",
     "text": [
      "Results aggregated in 0.0671 seconds\n",
      "       level_0      index     statistic  pvalue        freqs\n",
      "59111    59111  314097536  79700.243302     0.0  1035.644894\n",
      "58886    58886  294466432  44111.059111     0.0  1091.308957\n",
      "58883    58883  293433216  41298.820685     0.0  1094.238644\n",
      "59099    59099  313064320  28119.088940     0.0  1038.574582\n",
      "31718    31718  134785152  13279.223370     0.0  1544.085772\n",
      "31719    31719  134785280  13160.149196     0.0  1544.085409\n",
      "36236    36236  137950208  13079.682001     0.0  1535.111245\n",
      "36086    36086  137931008  12682.257160     0.0  1535.165687\n",
      "3423      3423   62166016  10247.519019     0.0  1749.997580\n",
      "3402      3402   53210496   8052.541844     0.0  1775.390988\n",
      "3403      3403   53210624   8052.541527     0.0  1775.390625\n",
      "3435      3435   64575872   8052.515939     0.0  1743.164425\n",
      "303 303\n",
      "Finished Energy Detection on GBT_57515_81866_HIP44295_fine.h5 in 1682.7312 seconds\n",
      "/mnt_blpd7/datax/dl/GBT_57515_82215_HIP43343_fine.h5\n",
      "Header saved to ../../../../../../datax/scratch/pma/reverse_search/train/HIP44295-23/GBT_57515_82215_HIP43343_fine/header.pkl\n",
      "Processing 3 in parallel\n",
      "Processing coarse channels 0-3\n"
     ]
    },
    {
     "name": "stderr",
     "output_type": "stream",
     "text": [
      "  0%|          | 0/101 [00:00<?, ?it/s]"
     ]
    },
    {
     "name": "stdout",
     "output_type": "stream",
     "text": [
      "Data loaded in 0.9307 seconds, processing\n",
      "Bandpass cleaned in 1.7407 seconds.\n",
      "Stamps filtered in 13.8537 seconds\n",
      "Saving results\n"
     ]
    },
    {
     "name": "stderr",
     "output_type": "stream",
     "text": [
      "  1%|          | 1/101 [00:17<28:23, 17.03s/it]"
     ]
    },
    {
     "name": "stdout",
     "output_type": "stream",
     "text": [
      "Results aggregated in 0.4953 seconds\n",
      "Processing coarse channels 3-6\n",
      "Data loaded in 1.1089 seconds, processing\n",
      "Bandpass cleaned in 1.7682 seconds.\n",
      "Stamps filtered in 14.7202 seconds\n",
      "Saving results\n",
      "Results aggregated in 0.0545 seconds\n",
      "Processing coarse channels 6-9\n"
     ]
    },
    {
     "name": "stderr",
     "output_type": "stream",
     "text": [
      "  2%|▏         | 2/101 [00:34<28:42, 17.40s/it]"
     ]
    },
    {
     "name": "stdout",
     "output_type": "stream",
     "text": [
      "Data loaded in 0.9401 seconds, processing\n",
      "Bandpass cleaned in 1.6698 seconds.\n",
      "Stamps filtered in 14.3078 seconds\n",
      "Saving results\n",
      "Results aggregated in 0.0452 seconds\n",
      "Processing coarse channels 9-12\n"
     ]
    },
    {
     "name": "stderr",
     "output_type": "stream",
     "text": [
      "  3%|▎         | 3/101 [00:51<28:05, 17.20s/it]"
     ]
    },
    {
     "name": "stdout",
     "output_type": "stream",
     "text": [
      "Data loaded in 0.7971 seconds, processing\n",
      "Bandpass cleaned in 1.7271 seconds.\n",
      "Stamps filtered in 13.5949 seconds\n",
      "Saving results\n",
      "Results aggregated in 0.0378 seconds\n",
      "Processing coarse channels 12-15\n"
     ]
    },
    {
     "name": "stderr",
     "output_type": "stream",
     "text": [
      "  4%|▍         | 4/101 [01:07<27:08, 16.79s/it]"
     ]
    },
    {
     "name": "stdout",
     "output_type": "stream",
     "text": [
      "Data loaded in 0.9863 seconds, processing\n",
      "Bandpass cleaned in 1.6320 seconds.\n",
      "Stamps filtered in 13.4699 seconds\n",
      "Saving results\n",
      "Results aggregated in 0.0375 seconds\n",
      "Processing coarse channels 15-18\n"
     ]
    },
    {
     "name": "stderr",
     "output_type": "stream",
     "text": [
      "  5%|▍         | 5/101 [01:23<26:29, 16.56s/it]"
     ]
    },
    {
     "name": "stdout",
     "output_type": "stream",
     "text": [
      "Data loaded in 1.0018 seconds, processing\n",
      "Bandpass cleaned in 1.7123 seconds.\n",
      "Stamps filtered in 14.0873 seconds\n",
      "Saving results\n",
      "Results aggregated in 0.0338 seconds\n",
      "Processing coarse channels 18-21\n"
     ]
    },
    {
     "name": "stderr",
     "output_type": "stream",
     "text": [
      "  6%|▌         | 6/101 [01:40<26:22, 16.65s/it]"
     ]
    },
    {
     "name": "stdout",
     "output_type": "stream",
     "text": [
      "Data loaded in 0.9407 seconds, processing\n",
      "Bandpass cleaned in 1.6387 seconds.\n",
      "Stamps filtered in 13.3705 seconds\n",
      "Saving results\n",
      "Results aggregated in 0.0363 seconds\n",
      "Processing coarse channels 21-24\n"
     ]
    },
    {
     "name": "stderr",
     "output_type": "stream",
     "text": [
      "  7%|▋         | 7/101 [01:56<25:45, 16.44s/it]"
     ]
    },
    {
     "name": "stdout",
     "output_type": "stream",
     "text": [
      "Data loaded in 1.0118 seconds, processing\n",
      "Bandpass cleaned in 1.6288 seconds.\n",
      "Stamps filtered in 13.5548 seconds\n",
      "Saving results\n",
      "Results aggregated in 0.0348 seconds\n",
      "Processing coarse channels 24-27\n"
     ]
    },
    {
     "name": "stderr",
     "output_type": "stream",
     "text": [
      "  8%|▊         | 8/101 [02:13<25:22, 16.37s/it]"
     ]
    },
    {
     "name": "stdout",
     "output_type": "stream",
     "text": [
      "Data loaded in 0.8211 seconds, processing\n",
      "Bandpass cleaned in 1.6482 seconds.\n",
      "Stamps filtered in 13.5630 seconds\n",
      "Saving results\n",
      "Results aggregated in 0.0380 seconds\n",
      "Processing coarse channels 27-30\n"
     ]
    },
    {
     "name": "stderr",
     "output_type": "stream",
     "text": [
      "  9%|▉         | 9/101 [02:29<24:57, 16.28s/it]"
     ]
    },
    {
     "name": "stdout",
     "output_type": "stream",
     "text": [
      "Data loaded in 0.8276 seconds, processing\n",
      "Bandpass cleaned in 1.6756 seconds.\n",
      "Stamps filtered in 13.4154 seconds\n",
      "Saving results\n",
      "Results aggregated in 0.0367 seconds\n",
      "Processing coarse channels 30-33\n"
     ]
    },
    {
     "name": "stderr",
     "output_type": "stream",
     "text": [
      " 10%|▉         | 10/101 [02:45<24:32, 16.18s/it]"
     ]
    },
    {
     "name": "stdout",
     "output_type": "stream",
     "text": [
      "Data loaded in 0.7802 seconds, processing\n",
      "Bandpass cleaned in 1.5784 seconds.\n",
      "Stamps filtered in 14.0055 seconds\n",
      "Saving results\n",
      "Results aggregated in 0.0337 seconds\n",
      "Processing coarse channels 33-36\n"
     ]
    },
    {
     "name": "stderr",
     "output_type": "stream",
     "text": [
      " 11%|█         | 11/101 [03:01<24:22, 16.25s/it]"
     ]
    },
    {
     "name": "stdout",
     "output_type": "stream",
     "text": [
      "Data loaded in 0.7627 seconds, processing\n",
      "Bandpass cleaned in 1.6024 seconds.\n",
      "Stamps filtered in 14.5039 seconds\n",
      "Saving results\n",
      "Results aggregated in 0.0394 seconds\n",
      "Processing coarse channels 36-39\n"
     ]
    },
    {
     "name": "stderr",
     "output_type": "stream",
     "text": [
      " 12%|█▏        | 12/101 [03:18<24:24, 16.45s/it]"
     ]
    },
    {
     "name": "stdout",
     "output_type": "stream",
     "text": [
      "Data loaded in 1.0152 seconds, processing\n",
      "Bandpass cleaned in 1.6170 seconds.\n",
      "Stamps filtered in 13.3759 seconds\n",
      "Saving results\n",
      "Results aggregated in 0.0376 seconds\n",
      "Processing coarse channels 39-42\n"
     ]
    },
    {
     "name": "stderr",
     "output_type": "stream",
     "text": [
      " 13%|█▎        | 13/101 [03:34<23:57, 16.33s/it]"
     ]
    },
    {
     "name": "stdout",
     "output_type": "stream",
     "text": [
      "Data loaded in 0.8728 seconds, processing\n",
      "Bandpass cleaned in 1.6193 seconds.\n",
      "Stamps filtered in 14.2160 seconds\n",
      "Saving results\n",
      "Results aggregated in 0.0339 seconds\n",
      "Processing coarse channels 42-45\n"
     ]
    },
    {
     "name": "stderr",
     "output_type": "stream",
     "text": [
      " 14%|█▍        | 14/101 [03:51<23:51, 16.46s/it]"
     ]
    },
    {
     "name": "stdout",
     "output_type": "stream",
     "text": [
      "Data loaded in 0.8640 seconds, processing\n",
      "Bandpass cleaned in 1.7311 seconds.\n",
      "Stamps filtered in 14.0662 seconds\n",
      "Saving results\n",
      "Results aggregated in 0.0349 seconds\n",
      "Processing coarse channels 45-48\n"
     ]
    },
    {
     "name": "stderr",
     "output_type": "stream",
     "text": [
      " 15%|█▍        | 15/101 [04:07<23:41, 16.53s/it]"
     ]
    },
    {
     "name": "stdout",
     "output_type": "stream",
     "text": [
      "Data loaded in 0.8125 seconds, processing\n",
      "Bandpass cleaned in 1.6616 seconds.\n",
      "Stamps filtered in 13.8523 seconds\n",
      "Saving results\n",
      "Results aggregated in 0.0322 seconds\n",
      "Processing coarse channels 48-51\n"
     ]
    },
    {
     "name": "stderr",
     "output_type": "stream",
     "text": [
      " 16%|█▌        | 16/101 [04:24<23:20, 16.48s/it]"
     ]
    },
    {
     "name": "stdout",
     "output_type": "stream",
     "text": [
      "Data loaded in 0.8654 seconds, processing\n",
      "Bandpass cleaned in 1.6984 seconds.\n",
      "Stamps filtered in 14.2138 seconds\n",
      "Saving results\n",
      "Results aggregated in 0.0376 seconds\n",
      "Processing coarse channels 51-54\n"
     ]
    },
    {
     "name": "stderr",
     "output_type": "stream",
     "text": [
      " 17%|█▋        | 17/101 [04:41<23:13, 16.58s/it]"
     ]
    },
    {
     "name": "stdout",
     "output_type": "stream",
     "text": [
      "Data loaded in 0.8388 seconds, processing\n",
      "Bandpass cleaned in 1.6293 seconds.\n",
      "Stamps filtered in 14.1708 seconds\n",
      "Saving results\n",
      "Results aggregated in 0.0362 seconds\n",
      "Processing coarse channels 54-57\n"
     ]
    },
    {
     "name": "stderr",
     "output_type": "stream",
     "text": [
      " 18%|█▊        | 18/101 [04:57<22:58, 16.61s/it]"
     ]
    },
    {
     "name": "stdout",
     "output_type": "stream",
     "text": [
      "Data loaded in 0.7832 seconds, processing\n",
      "Bandpass cleaned in 1.7441 seconds.\n",
      "Stamps filtered in 14.1796 seconds\n",
      "Saving results\n",
      "Results aggregated in 0.0364 seconds\n",
      "Processing coarse channels 57-60\n"
     ]
    },
    {
     "name": "stderr",
     "output_type": "stream",
     "text": [
      " 19%|█▉        | 19/101 [05:14<22:45, 16.66s/it]"
     ]
    },
    {
     "name": "stdout",
     "output_type": "stream",
     "text": [
      "Data loaded in 0.9060 seconds, processing\n",
      "Bandpass cleaned in 1.6505 seconds.\n",
      "Stamps filtered in 14.1819 seconds\n",
      "Saving results\n",
      "Results aggregated in 0.0370 seconds\n",
      "Processing coarse channels 60-63\n"
     ]
    },
    {
     "name": "stderr",
     "output_type": "stream",
     "text": [
      " 20%|█▉        | 20/101 [05:31<22:32, 16.69s/it]"
     ]
    },
    {
     "name": "stdout",
     "output_type": "stream",
     "text": [
      "Data loaded in 0.8574 seconds, processing\n",
      "Bandpass cleaned in 1.6432 seconds.\n",
      "Stamps filtered in 14.0137 seconds\n",
      "Saving results\n",
      "Results aggregated in 0.0390 seconds\n",
      "Processing coarse channels 63-66\n"
     ]
    },
    {
     "name": "stderr",
     "output_type": "stream",
     "text": [
      " 21%|██        | 21/101 [05:47<22:12, 16.65s/it]"
     ]
    },
    {
     "name": "stdout",
     "output_type": "stream",
     "text": [
      "Data loaded in 0.9101 seconds, processing\n",
      "Bandpass cleaned in 1.6684 seconds.\n",
      "Stamps filtered in 14.3305 seconds\n",
      "Saving results\n",
      "Results aggregated in 0.0379 seconds\n",
      "Processing coarse channels 66-69\n"
     ]
    },
    {
     "name": "stderr",
     "output_type": "stream",
     "text": [
      " 22%|██▏       | 22/101 [06:04<22:02, 16.74s/it]"
     ]
    },
    {
     "name": "stdout",
     "output_type": "stream",
     "text": [
      "Data loaded in 0.8419 seconds, processing\n",
      "Bandpass cleaned in 1.5821 seconds.\n",
      "Stamps filtered in 14.1924 seconds\n",
      "Saving results\n",
      "Results aggregated in 0.0380 seconds\n",
      "Processing coarse channels 69-72\n"
     ]
    },
    {
     "name": "stderr",
     "output_type": "stream",
     "text": [
      " 23%|██▎       | 23/101 [06:21<21:44, 16.72s/it]"
     ]
    },
    {
     "name": "stdout",
     "output_type": "stream",
     "text": [
      "Data loaded in 0.8151 seconds, processing\n",
      "Bandpass cleaned in 1.6474 seconds.\n",
      "Stamps filtered in 14.1885 seconds\n",
      "Saving results\n",
      "Results aggregated in 0.0371 seconds\n",
      "Processing coarse channels 72-75\n"
     ]
    },
    {
     "name": "stderr",
     "output_type": "stream",
     "text": [
      " 24%|██▍       | 24/101 [06:38<21:26, 16.71s/it]"
     ]
    },
    {
     "name": "stdout",
     "output_type": "stream",
     "text": [
      "Data loaded in 0.7994 seconds, processing\n",
      "Bandpass cleaned in 1.8264 seconds.\n",
      "Stamps filtered in 14.3037 seconds\n",
      "Saving results\n",
      "Results aggregated in 0.0386 seconds\n",
      "Processing coarse channels 75-78\n"
     ]
    },
    {
     "name": "stderr",
     "output_type": "stream",
     "text": [
      " 25%|██▍       | 25/101 [06:55<21:16, 16.79s/it]"
     ]
    },
    {
     "name": "stdout",
     "output_type": "stream",
     "text": [
      "Data loaded in 0.8837 seconds, processing\n",
      "Bandpass cleaned in 1.6420 seconds.\n",
      "Stamps filtered in 14.2593 seconds\n",
      "Saving results\n",
      "Results aggregated in 0.0665 seconds\n",
      "Processing coarse channels 78-81\n"
     ]
    },
    {
     "name": "stderr",
     "output_type": "stream",
     "text": [
      " 26%|██▌       | 26/101 [07:12<21:00, 16.81s/it]"
     ]
    },
    {
     "name": "stdout",
     "output_type": "stream",
     "text": [
      "Data loaded in 0.8135 seconds, processing\n",
      "Bandpass cleaned in 1.6023 seconds.\n",
      "Stamps filtered in 14.0773 seconds\n",
      "Saving results\n",
      "Results aggregated in 0.1339 seconds\n",
      "Processing coarse channels 81-84\n"
     ]
    },
    {
     "name": "stderr",
     "output_type": "stream",
     "text": [
      " 27%|██▋       | 27/101 [07:28<20:40, 16.76s/it]"
     ]
    },
    {
     "name": "stdout",
     "output_type": "stream",
     "text": [
      "Data loaded in 0.8704 seconds, processing\n",
      "Bandpass cleaned in 1.6165 seconds.\n",
      "Stamps filtered in 14.1527 seconds\n",
      "Saving results\n",
      "Results aggregated in 0.0837 seconds\n",
      "Processing coarse channels 84-87\n"
     ]
    },
    {
     "name": "stderr",
     "output_type": "stream",
     "text": [
      " 28%|██▊       | 28/101 [07:45<20:22, 16.75s/it]"
     ]
    },
    {
     "name": "stdout",
     "output_type": "stream",
     "text": [
      "Data loaded in 0.8291 seconds, processing\n",
      "Bandpass cleaned in 1.6147 seconds.\n",
      "Stamps filtered in 14.4881 seconds\n",
      "Saving results\n",
      "Results aggregated in 0.0558 seconds\n",
      "Processing coarse channels 87-90\n"
     ]
    },
    {
     "name": "stderr",
     "output_type": "stream",
     "text": [
      " 29%|██▊       | 29/101 [08:02<20:11, 16.82s/it]"
     ]
    },
    {
     "name": "stdout",
     "output_type": "stream",
     "text": [
      "Data loaded in 0.7685 seconds, processing\n",
      "Bandpass cleaned in 1.5726 seconds.\n",
      "Stamps filtered in 14.2741 seconds\n",
      "Saving results\n",
      "Results aggregated in 0.0431 seconds\n",
      "Processing coarse channels 90-93\n"
     ]
    },
    {
     "name": "stderr",
     "output_type": "stream",
     "text": [
      " 30%|██▉       | 30/101 [08:19<19:51, 16.78s/it]"
     ]
    },
    {
     "name": "stdout",
     "output_type": "stream",
     "text": [
      "Data loaded in 0.9940 seconds, processing\n",
      "Bandpass cleaned in 1.6290 seconds.\n",
      "Stamps filtered in 14.0048 seconds\n",
      "Saving results\n",
      "Results aggregated in 0.0448 seconds\n",
      "Processing coarse channels 93-96\n"
     ]
    },
    {
     "name": "stderr",
     "output_type": "stream",
     "text": [
      " 31%|███       | 31/101 [08:35<19:32, 16.75s/it]"
     ]
    },
    {
     "name": "stdout",
     "output_type": "stream",
     "text": [
      "Data loaded in 0.8579 seconds, processing\n",
      "Bandpass cleaned in 1.7720 seconds.\n",
      "Stamps filtered in 14.1036 seconds\n",
      "Saving results\n",
      "Results aggregated in 0.0432 seconds\n",
      "Processing coarse channels 96-99\n"
     ]
    },
    {
     "name": "stderr",
     "output_type": "stream",
     "text": [
      " 32%|███▏      | 32/101 [08:52<19:16, 16.76s/it]"
     ]
    },
    {
     "name": "stdout",
     "output_type": "stream",
     "text": [
      "Data loaded in 0.9859 seconds, processing\n",
      "Bandpass cleaned in 1.6295 seconds.\n",
      "Stamps filtered in 13.9442 seconds\n",
      "Saving results\n",
      "Results aggregated in 0.0415 seconds\n",
      "Processing coarse channels 99-102\n"
     ]
    },
    {
     "name": "stderr",
     "output_type": "stream",
     "text": [
      " 33%|███▎      | 33/101 [09:09<18:56, 16.71s/it]"
     ]
    },
    {
     "name": "stdout",
     "output_type": "stream",
     "text": [
      "Data loaded in 0.7549 seconds, processing\n",
      "Bandpass cleaned in 1.6679 seconds.\n",
      "Stamps filtered in 14.3743 seconds\n",
      "Saving results\n"
     ]
    },
    {
     "name": "stderr",
     "output_type": "stream",
     "text": [
      " 34%|███▎      | 34/101 [09:26<18:49, 16.86s/it]"
     ]
    },
    {
     "name": "stdout",
     "output_type": "stream",
     "text": [
      "Results aggregated in 0.4045 seconds\n",
      "Processing coarse channels 102-105\n",
      "Data loaded in 0.7810 seconds, processing\n",
      "Bandpass cleaned in 1.6244 seconds.\n",
      "Stamps filtered in 14.1385 seconds\n",
      "Saving results\n"
     ]
    },
    {
     "name": "stderr",
     "output_type": "stream",
     "text": [
      " 35%|███▍      | 35/101 [09:43<18:35, 16.90s/it]"
     ]
    },
    {
     "name": "stdout",
     "output_type": "stream",
     "text": [
      "Results aggregated in 0.4398 seconds\n",
      "Processing coarse channels 105-108\n",
      "Data loaded in 0.8711 seconds, processing\n",
      "Bandpass cleaned in 1.6405 seconds.\n",
      "Stamps filtered in 14.0955 seconds\n",
      "Saving results\n",
      "Results aggregated in 0.0513 seconds\n",
      "Processing coarse channels 108-111\n"
     ]
    },
    {
     "name": "stderr",
     "output_type": "stream",
     "text": [
      " 36%|███▌      | 36/101 [10:00<18:14, 16.83s/it]"
     ]
    },
    {
     "name": "stdout",
     "output_type": "stream",
     "text": [
      "Data loaded in 0.7920 seconds, processing\n",
      "Bandpass cleaned in 1.7218 seconds.\n",
      "Stamps filtered in 14.2046 seconds\n",
      "Saving results\n"
     ]
    },
    {
     "name": "stderr",
     "output_type": "stream",
     "text": [
      " 37%|███▋      | 37/101 [10:17<18:02, 16.91s/it]"
     ]
    },
    {
     "name": "stdout",
     "output_type": "stream",
     "text": [
      "Results aggregated in 0.3604 seconds\n",
      "Processing coarse channels 111-114\n",
      "Data loaded in 0.9119 seconds, processing\n",
      "Bandpass cleaned in 1.6865 seconds.\n",
      "Stamps filtered in 14.2076 seconds\n",
      "Saving results\n",
      "Results aggregated in 0.1005 seconds\n",
      "Processing coarse channels 114-117\n"
     ]
    },
    {
     "name": "stderr",
     "output_type": "stream",
     "text": [
      " 38%|███▊      | 38/101 [10:34<17:45, 16.91s/it]"
     ]
    },
    {
     "name": "stdout",
     "output_type": "stream",
     "text": [
      "Data loaded in 0.8488 seconds, processing\n",
      "Bandpass cleaned in 1.6442 seconds.\n",
      "Stamps filtered in 14.1496 seconds\n",
      "Saving results\n",
      "Results aggregated in 0.0966 seconds\n",
      "Processing coarse channels 117-120\n"
     ]
    },
    {
     "name": "stderr",
     "output_type": "stream",
     "text": [
      " 39%|███▊      | 39/101 [10:50<17:25, 16.86s/it]"
     ]
    },
    {
     "name": "stdout",
     "output_type": "stream",
     "text": [
      "Data loaded in 0.7983 seconds, processing\n",
      "Bandpass cleaned in 1.7355 seconds.\n",
      "Stamps filtered in 14.2867 seconds\n",
      "Saving results\n"
     ]
    },
    {
     "name": "stderr",
     "output_type": "stream",
     "text": [
      " 40%|███▉      | 40/101 [11:08<17:20, 17.05s/it]"
     ]
    },
    {
     "name": "stdout",
     "output_type": "stream",
     "text": [
      "Results aggregated in 0.6522 seconds\n",
      "Processing coarse channels 120-123\n",
      "Data loaded in 0.8803 seconds, processing\n",
      "Bandpass cleaned in 1.7487 seconds.\n",
      "Stamps filtered in 13.9376 seconds\n",
      "Saving results\n",
      "Results aggregated in 0.1042 seconds\n",
      "Processing coarse channels 123-126\n"
     ]
    },
    {
     "name": "stderr",
     "output_type": "stream",
     "text": [
      " 41%|████      | 41/101 [11:24<16:56, 16.94s/it]"
     ]
    },
    {
     "name": "stdout",
     "output_type": "stream",
     "text": [
      "Data loaded in 0.8463 seconds, processing\n",
      "Bandpass cleaned in 1.8572 seconds.\n",
      "Stamps filtered in 14.2762 seconds\n",
      "Saving results\n"
     ]
    },
    {
     "name": "stderr",
     "output_type": "stream",
     "text": [
      " 42%|████▏     | 42/101 [11:42<16:53, 17.19s/it]"
     ]
    },
    {
     "name": "stdout",
     "output_type": "stream",
     "text": [
      "Results aggregated in 0.7639 seconds\n",
      "Processing coarse channels 126-129\n",
      "Data loaded in 1.3939 seconds, processing\n",
      "Bandpass cleaned in 1.6507 seconds.\n",
      "Stamps filtered in 14.5806 seconds\n",
      "Saving results\n"
     ]
    },
    {
     "name": "stderr",
     "output_type": "stream",
     "text": [
      " 43%|████▎     | 43/101 [12:01<16:58, 17.56s/it]"
     ]
    },
    {
     "name": "stdout",
     "output_type": "stream",
     "text": [
      "Results aggregated in 0.7962 seconds\n",
      "Processing coarse channels 129-132\n",
      "Data loaded in 0.8006 seconds, processing\n",
      "Bandpass cleaned in 1.6578 seconds.\n",
      "Stamps filtered in 14.5108 seconds\n",
      "Saving results\n"
     ]
    },
    {
     "name": "stderr",
     "output_type": "stream",
     "text": [
      " 44%|████▎     | 44/101 [12:18<16:40, 17.56s/it]"
     ]
    },
    {
     "name": "stdout",
     "output_type": "stream",
     "text": [
      "Results aggregated in 0.5756 seconds\n",
      "Processing coarse channels 132-135\n",
      "Data loaded in 0.8332 seconds, processing\n",
      "Bandpass cleaned in 1.6902 seconds.\n",
      "Stamps filtered in 14.0555 seconds\n",
      "Saving results\n"
     ]
    },
    {
     "name": "stderr",
     "output_type": "stream",
     "text": [
      " 45%|████▍     | 45/101 [12:35<16:18, 17.47s/it]"
     ]
    },
    {
     "name": "stdout",
     "output_type": "stream",
     "text": [
      "Results aggregated in 0.6654 seconds\n",
      "Processing coarse channels 135-138\n",
      "Data loaded in 0.8154 seconds, processing\n",
      "Bandpass cleaned in 1.7024 seconds.\n",
      "Stamps filtered in 14.2825 seconds\n",
      "Saving results\n",
      "Results aggregated in 0.0877 seconds\n",
      "Processing coarse channels 138-141\n"
     ]
    },
    {
     "name": "stderr",
     "output_type": "stream",
     "text": [
      " 46%|████▌     | 46/101 [12:52<15:51, 17.30s/it]"
     ]
    },
    {
     "name": "stdout",
     "output_type": "stream",
     "text": [
      "Data loaded in 0.9110 seconds, processing\n",
      "Bandpass cleaned in 1.7779 seconds.\n",
      "Stamps filtered in 14.0096 seconds\n",
      "Saving results\n",
      "Results aggregated in 0.0519 seconds\n",
      "Processing coarse channels 141-144\n"
     ]
    },
    {
     "name": "stderr",
     "output_type": "stream",
     "text": [
      " 47%|████▋     | 47/101 [13:09<15:25, 17.14s/it]"
     ]
    },
    {
     "name": "stdout",
     "output_type": "stream",
     "text": [
      "Data loaded in 0.7615 seconds, processing\n",
      "Bandpass cleaned in 1.6816 seconds.\n",
      "Stamps filtered in 14.2731 seconds\n",
      "Saving results\n",
      "Results aggregated in 0.0593 seconds\n",
      "Processing coarse channels 144-147\n"
     ]
    },
    {
     "name": "stderr",
     "output_type": "stream",
     "text": [
      " 48%|████▊     | 48/101 [13:26<15:02, 17.03s/it]"
     ]
    },
    {
     "name": "stdout",
     "output_type": "stream",
     "text": [
      "Data loaded in 0.8541 seconds, processing\n",
      "Bandpass cleaned in 1.6409 seconds.\n",
      "Stamps filtered in 14.2082 seconds\n",
      "Saving results\n",
      "Results aggregated in 0.0509 seconds\n",
      "Processing coarse channels 147-150\n"
     ]
    },
    {
     "name": "stderr",
     "output_type": "stream",
     "text": [
      " 49%|████▊     | 49/101 [13:43<14:41, 16.95s/it]"
     ]
    },
    {
     "name": "stdout",
     "output_type": "stream",
     "text": [
      "Data loaded in 0.7957 seconds, processing\n",
      "Bandpass cleaned in 1.6550 seconds.\n",
      "Stamps filtered in 14.2396 seconds\n",
      "Saving results\n",
      "Results aggregated in 0.0561 seconds\n",
      "Processing coarse channels 150-153\n"
     ]
    },
    {
     "name": "stderr",
     "output_type": "stream",
     "text": [
      " 50%|████▉     | 50/101 [13:59<14:21, 16.89s/it]"
     ]
    },
    {
     "name": "stdout",
     "output_type": "stream",
     "text": [
      "Data loaded in 0.8505 seconds, processing\n",
      "Bandpass cleaned in 1.6628 seconds.\n",
      "Stamps filtered in 14.1739 seconds\n",
      "Saving results\n",
      "Results aggregated in 0.0532 seconds\n",
      "Processing coarse channels 153-156\n"
     ]
    },
    {
     "name": "stderr",
     "output_type": "stream",
     "text": [
      " 50%|█████     | 51/101 [14:16<14:02, 16.85s/it]"
     ]
    },
    {
     "name": "stdout",
     "output_type": "stream",
     "text": [
      "Data loaded in 0.7876 seconds, processing\n",
      "Bandpass cleaned in 1.6715 seconds.\n",
      "Stamps filtered in 14.3517 seconds\n",
      "Saving results\n",
      "Results aggregated in 0.0537 seconds\n",
      "Processing coarse channels 156-159\n"
     ]
    },
    {
     "name": "stderr",
     "output_type": "stream",
     "text": [
      " 51%|█████▏    | 52/101 [14:33<13:45, 16.86s/it]"
     ]
    },
    {
     "name": "stdout",
     "output_type": "stream",
     "text": [
      "Data loaded in 0.8416 seconds, processing\n",
      "Bandpass cleaned in 1.6223 seconds.\n",
      "Stamps filtered in 14.2988 seconds\n",
      "Saving results\n",
      "Results aggregated in 0.0540 seconds\n",
      "Processing coarse channels 159-162\n"
     ]
    },
    {
     "name": "stderr",
     "output_type": "stream",
     "text": [
      " 52%|█████▏    | 53/101 [14:50<13:28, 16.85s/it]"
     ]
    },
    {
     "name": "stdout",
     "output_type": "stream",
     "text": [
      "Data loaded in 0.9006 seconds, processing\n",
      "Bandpass cleaned in 1.6737 seconds.\n",
      "Stamps filtered in 13.6695 seconds\n",
      "Saving results\n",
      "Results aggregated in 0.0537 seconds\n",
      "Processing coarse channels 162-165\n"
     ]
    },
    {
     "name": "stderr",
     "output_type": "stream",
     "text": [
      " 53%|█████▎    | 54/101 [15:06<13:04, 16.68s/it]"
     ]
    },
    {
     "name": "stdout",
     "output_type": "stream",
     "text": [
      "Data loaded in 0.7650 seconds, processing\n",
      "Bandpass cleaned in 1.6924 seconds.\n",
      "Stamps filtered in 14.2857 seconds\n",
      "Saving results\n",
      "Results aggregated in 0.0553 seconds\n",
      "Processing coarse channels 165-168\n"
     ]
    },
    {
     "name": "stderr",
     "output_type": "stream",
     "text": [
      " 54%|█████▍    | 55/101 [15:23<12:49, 16.72s/it]"
     ]
    },
    {
     "name": "stdout",
     "output_type": "stream",
     "text": [
      "Data loaded in 0.8457 seconds, processing\n",
      "Bandpass cleaned in 1.6598 seconds.\n",
      "Stamps filtered in 14.4409 seconds\n",
      "Saving results\n",
      "Results aggregated in 0.0531 seconds\n",
      "Processing coarse channels 168-171\n"
     ]
    },
    {
     "name": "stderr",
     "output_type": "stream",
     "text": [
      " 55%|█████▌    | 56/101 [15:40<12:36, 16.81s/it]"
     ]
    },
    {
     "name": "stdout",
     "output_type": "stream",
     "text": [
      "Data loaded in 0.7895 seconds, processing\n",
      "Bandpass cleaned in 1.6173 seconds.\n",
      "Stamps filtered in 14.3900 seconds\n",
      "Saving results\n",
      "Results aggregated in 0.0554 seconds\n",
      "Processing coarse channels 171-174\n"
     ]
    },
    {
     "name": "stderr",
     "output_type": "stream",
     "text": [
      " 56%|█████▋    | 57/101 [15:57<12:20, 16.82s/it]"
     ]
    },
    {
     "name": "stdout",
     "output_type": "stream",
     "text": [
      "Data loaded in 0.9025 seconds, processing\n",
      "Bandpass cleaned in 1.7102 seconds.\n",
      "Stamps filtered in 14.4046 seconds\n",
      "Saving results\n",
      "Results aggregated in 0.0488 seconds\n",
      "Processing coarse channels 174-177\n"
     ]
    },
    {
     "name": "stderr",
     "output_type": "stream",
     "text": [
      " 57%|█████▋    | 58/101 [16:14<12:06, 16.90s/it]"
     ]
    },
    {
     "name": "stdout",
     "output_type": "stream",
     "text": [
      "Data loaded in 0.8915 seconds, processing\n",
      "Bandpass cleaned in 1.7485 seconds.\n",
      "Stamps filtered in 14.2468 seconds\n",
      "Saving results\n",
      "Results aggregated in 0.0520 seconds\n",
      "Processing coarse channels 177-180\n"
     ]
    },
    {
     "name": "stderr",
     "output_type": "stream",
     "text": [
      " 58%|█████▊    | 59/101 [16:31<11:50, 16.91s/it]"
     ]
    },
    {
     "name": "stdout",
     "output_type": "stream",
     "text": [
      "Data loaded in 0.7925 seconds, processing\n",
      "Bandpass cleaned in 1.7068 seconds.\n",
      "Stamps filtered in 14.4328 seconds\n",
      "Saving results\n",
      "Results aggregated in 0.0580 seconds\n",
      "Processing coarse channels 180-183\n"
     ]
    },
    {
     "name": "stderr",
     "output_type": "stream",
     "text": [
      " 59%|█████▉    | 60/101 [16:48<11:34, 16.94s/it]"
     ]
    },
    {
     "name": "stdout",
     "output_type": "stream",
     "text": [
      "Data loaded in 0.8203 seconds, processing\n",
      "Bandpass cleaned in 2.0003 seconds.\n",
      "Stamps filtered in 14.4376 seconds\n",
      "Saving results\n",
      "Results aggregated in 0.0592 seconds\n",
      "Processing coarse channels 183-186\n"
     ]
    },
    {
     "name": "stderr",
     "output_type": "stream",
     "text": [
      " 60%|██████    | 61/101 [17:05<11:22, 17.05s/it]"
     ]
    },
    {
     "name": "stdout",
     "output_type": "stream",
     "text": [
      "Data loaded in 0.8235 seconds, processing\n",
      "Bandpass cleaned in 1.8017 seconds.\n",
      "Stamps filtered in 13.7266 seconds\n",
      "Saving results\n",
      "Results aggregated in 0.1056 seconds\n",
      "Processing coarse channels 186-189\n"
     ]
    },
    {
     "name": "stderr",
     "output_type": "stream",
     "text": [
      " 61%|██████▏   | 62/101 [17:22<10:58, 16.88s/it]"
     ]
    },
    {
     "name": "stdout",
     "output_type": "stream",
     "text": [
      "Data loaded in 0.7678 seconds, processing\n",
      "Bandpass cleaned in 1.6897 seconds.\n",
      "Stamps filtered in 14.2302 seconds\n",
      "Saving results\n",
      "Results aggregated in 0.0571 seconds\n",
      "Processing coarse channels 189-192\n"
     ]
    },
    {
     "name": "stderr",
     "output_type": "stream",
     "text": [
      " 62%|██████▏   | 63/101 [17:38<10:39, 16.84s/it]"
     ]
    },
    {
     "name": "stdout",
     "output_type": "stream",
     "text": [
      "Data loaded in 0.8595 seconds, processing\n",
      "Bandpass cleaned in 1.6630 seconds.\n",
      "Stamps filtered in 13.8048 seconds\n",
      "Saving results\n",
      "Results aggregated in 0.0588 seconds\n",
      "Processing coarse channels 192-195\n"
     ]
    },
    {
     "name": "stderr",
     "output_type": "stream",
     "text": [
      " 63%|██████▎   | 64/101 [17:55<10:18, 16.71s/it]"
     ]
    },
    {
     "name": "stdout",
     "output_type": "stream",
     "text": [
      "Data loaded in 0.7924 seconds, processing\n",
      "Bandpass cleaned in 1.9120 seconds.\n",
      "Stamps filtered in 14.4128 seconds\n",
      "Saving results\n",
      "Results aggregated in 0.0570 seconds\n",
      "Processing coarse channels 195-198\n"
     ]
    },
    {
     "name": "stderr",
     "output_type": "stream",
     "text": [
      " 64%|██████▍   | 65/101 [18:12<10:06, 16.85s/it]"
     ]
    },
    {
     "name": "stdout",
     "output_type": "stream",
     "text": [
      "Data loaded in 0.8469 seconds, processing\n",
      "Bandpass cleaned in 1.6541 seconds.\n",
      "Stamps filtered in 14.3157 seconds\n",
      "Saving results\n",
      "Results aggregated in 0.0570 seconds\n",
      "Processing coarse channels 198-201\n"
     ]
    },
    {
     "name": "stderr",
     "output_type": "stream",
     "text": [
      " 65%|██████▌   | 66/101 [18:29<09:50, 16.86s/it]"
     ]
    },
    {
     "name": "stdout",
     "output_type": "stream",
     "text": [
      "Data loaded in 0.8250 seconds, processing\n",
      "Bandpass cleaned in 1.6397 seconds.\n",
      "Stamps filtered in 13.9746 seconds\n",
      "Saving results\n",
      "Results aggregated in 0.0525 seconds\n",
      "Processing coarse channels 201-204\n"
     ]
    },
    {
     "name": "stderr",
     "output_type": "stream",
     "text": [
      " 66%|██████▋   | 67/101 [18:45<09:29, 16.75s/it]"
     ]
    },
    {
     "name": "stdout",
     "output_type": "stream",
     "text": [
      "Data loaded in 0.7859 seconds, processing\n",
      "Bandpass cleaned in 1.7216 seconds.\n",
      "Stamps filtered in 14.1814 seconds\n",
      "Saving results\n",
      "Results aggregated in 0.0569 seconds\n",
      "Processing coarse channels 204-207\n"
     ]
    },
    {
     "name": "stderr",
     "output_type": "stream",
     "text": [
      " 67%|██████▋   | 68/101 [19:02<09:12, 16.75s/it]"
     ]
    },
    {
     "name": "stdout",
     "output_type": "stream",
     "text": [
      "Data loaded in 0.8031 seconds, processing\n",
      "Bandpass cleaned in 1.6482 seconds.\n",
      "Stamps filtered in 14.5381 seconds\n",
      "Saving results\n",
      "Results aggregated in 0.0585 seconds\n",
      "Processing coarse channels 207-210\n"
     ]
    },
    {
     "name": "stderr",
     "output_type": "stream",
     "text": [
      " 68%|██████▊   | 69/101 [19:19<08:58, 16.84s/it]"
     ]
    },
    {
     "name": "stdout",
     "output_type": "stream",
     "text": [
      "Data loaded in 0.8061 seconds, processing\n",
      "Bandpass cleaned in 1.6393 seconds.\n",
      "Stamps filtered in 13.7940 seconds\n",
      "Saving results\n"
     ]
    },
    {
     "name": "stderr",
     "output_type": "stream",
     "text": [
      " 69%|██████▉   | 70/101 [19:36<08:40, 16.81s/it]"
     ]
    },
    {
     "name": "stdout",
     "output_type": "stream",
     "text": [
      "Results aggregated in 0.4719 seconds\n",
      "Processing coarse channels 210-213\n",
      "Data loaded in 0.9296 seconds, processing\n",
      "Bandpass cleaned in 2.0233 seconds.\n",
      "Stamps filtered in 14.5935 seconds\n",
      "Saving results\n",
      "Results aggregated in 0.0898 seconds\n",
      "Processing coarse channels 213-216\n"
     ]
    },
    {
     "name": "stderr",
     "output_type": "stream",
     "text": [
      " 70%|███████   | 71/101 [19:54<08:31, 17.06s/it]"
     ]
    },
    {
     "name": "stdout",
     "output_type": "stream",
     "text": [
      "Data loaded in 0.8090 seconds, processing\n",
      "Bandpass cleaned in 1.8839 seconds.\n",
      "Stamps filtered in 14.2138 seconds\n",
      "Saving results\n",
      "Results aggregated in 0.0485 seconds\n",
      "Processing coarse channels 216-219\n"
     ]
    },
    {
     "name": "stderr",
     "output_type": "stream",
     "text": [
      " 71%|███████▏  | 72/101 [20:10<08:13, 17.03s/it]"
     ]
    },
    {
     "name": "stdout",
     "output_type": "stream",
     "text": [
      "Data loaded in 0.8363 seconds, processing\n",
      "Bandpass cleaned in 1.6666 seconds.\n",
      "Stamps filtered in 14.4457 seconds\n",
      "Saving results\n"
     ]
    },
    {
     "name": "stderr",
     "output_type": "stream",
     "text": [
      " 72%|███████▏  | 73/101 [20:28<08:04, 17.31s/it]"
     ]
    },
    {
     "name": "stdout",
     "output_type": "stream",
     "text": [
      "Results aggregated in 0.9879 seconds\n",
      "Processing coarse channels 219-222\n",
      "Data loaded in 0.9691 seconds, processing\n",
      "Bandpass cleaned in 2.1498 seconds.\n",
      "Stamps filtered in 14.3413 seconds\n",
      "Saving results\n",
      "Results aggregated in 0.0902 seconds\n",
      "Processing coarse channels 222-225\n"
     ]
    },
    {
     "name": "stderr",
     "output_type": "stream",
     "text": [
      " 73%|███████▎  | 74/101 [20:46<07:49, 17.38s/it]"
     ]
    },
    {
     "name": "stdout",
     "output_type": "stream",
     "text": [
      "Data loaded in 0.8062 seconds, processing\n",
      "Bandpass cleaned in 1.6204 seconds.\n",
      "Stamps filtered in 14.4697 seconds\n",
      "Saving results\n",
      "Results aggregated in 0.0600 seconds\n",
      "Processing coarse channels 225-228\n"
     ]
    },
    {
     "name": "stderr",
     "output_type": "stream",
     "text": [
      " 74%|███████▍  | 75/101 [21:03<07:28, 17.26s/it]"
     ]
    },
    {
     "name": "stdout",
     "output_type": "stream",
     "text": [
      "Data loaded in 0.8912 seconds, processing\n",
      "Bandpass cleaned in 1.6549 seconds.\n",
      "Stamps filtered in 14.3189 seconds\n",
      "Saving results\n"
     ]
    },
    {
     "name": "stderr",
     "output_type": "stream",
     "text": [
      " 75%|███████▌  | 76/101 [21:21<07:15, 17.43s/it]"
     ]
    },
    {
     "name": "stdout",
     "output_type": "stream",
     "text": [
      "Results aggregated in 0.9529 seconds\n",
      "Processing coarse channels 228-231\n",
      "Data loaded in 0.8974 seconds, processing\n",
      "Bandpass cleaned in 2.3005 seconds.\n",
      "Stamps filtered in 14.2724 seconds\n",
      "Saving results\n",
      "Results aggregated in 0.1323 seconds\n",
      "Processing coarse channels 231-234\n"
     ]
    },
    {
     "name": "stderr",
     "output_type": "stream",
     "text": [
      " 76%|███████▌  | 77/101 [21:38<06:59, 17.48s/it]"
     ]
    },
    {
     "name": "stdout",
     "output_type": "stream",
     "text": [
      "Data loaded in 0.9306 seconds, processing\n",
      "Bandpass cleaned in 1.7636 seconds.\n",
      "Stamps filtered in 14.0721 seconds\n",
      "Saving results\n",
      "Results aggregated in 0.0573 seconds\n",
      "Processing coarse channels 234-237\n"
     ]
    },
    {
     "name": "stderr",
     "output_type": "stream",
     "text": [
      " 77%|███████▋  | 78/101 [21:55<06:37, 17.29s/it]"
     ]
    },
    {
     "name": "stdout",
     "output_type": "stream",
     "text": [
      "Data loaded in 0.9001 seconds, processing\n",
      "Bandpass cleaned in 1.8042 seconds.\n",
      "Stamps filtered in 13.8167 seconds\n",
      "Saving results\n",
      "Results aggregated in 0.0658 seconds\n",
      "Processing coarse channels 237-240\n"
     ]
    },
    {
     "name": "stderr",
     "output_type": "stream",
     "text": [
      " 78%|███████▊  | 79/101 [22:12<06:15, 17.08s/it]"
     ]
    },
    {
     "name": "stdout",
     "output_type": "stream",
     "text": [
      "Data loaded in 0.8176 seconds, processing\n",
      "Bandpass cleaned in 1.7752 seconds.\n",
      "Stamps filtered in 14.3844 seconds\n",
      "Saving results\n",
      "Results aggregated in 0.0721 seconds\n",
      "Processing coarse channels 240-243\n"
     ]
    },
    {
     "name": "stderr",
     "output_type": "stream",
     "text": [
      " 79%|███████▉  | 80/101 [22:29<05:58, 17.07s/it]"
     ]
    },
    {
     "name": "stdout",
     "output_type": "stream",
     "text": [
      "Data loaded in 0.9707 seconds, processing\n",
      "Bandpass cleaned in 1.6905 seconds.\n",
      "Stamps filtered in 14.4284 seconds\n",
      "Saving results\n"
     ]
    },
    {
     "name": "stderr",
     "output_type": "stream",
     "text": [
      " 80%|████████  | 81/101 [22:46<05:44, 17.22s/it]"
     ]
    },
    {
     "name": "stdout",
     "output_type": "stream",
     "text": [
      "Results aggregated in 0.4746 seconds\n",
      "Processing coarse channels 243-246\n",
      "Data loaded in 0.8844 seconds, processing\n",
      "Bandpass cleaned in 1.6737 seconds.\n",
      "Stamps filtered in 14.3679 seconds\n",
      "Saving results\n",
      "Results aggregated in 0.1871 seconds\n",
      "Processing coarse channels 246-249\n"
     ]
    },
    {
     "name": "stderr",
     "output_type": "stream",
     "text": [
      " 81%|████████  | 82/101 [23:04<05:26, 17.19s/it]"
     ]
    },
    {
     "name": "stdout",
     "output_type": "stream",
     "text": [
      "Data loaded in 0.9128 seconds, processing\n",
      "Bandpass cleaned in 1.6210 seconds.\n",
      "Stamps filtered in 14.1905 seconds\n",
      "Saving results\n",
      "Results aggregated in 0.0736 seconds\n",
      "Processing coarse channels 249-252\n"
     ]
    },
    {
     "name": "stderr",
     "output_type": "stream",
     "text": [
      " 82%|████████▏ | 83/101 [23:20<05:07, 17.08s/it]"
     ]
    },
    {
     "name": "stdout",
     "output_type": "stream",
     "text": [
      "Data loaded in 0.9205 seconds, processing\n",
      "Bandpass cleaned in 1.6220 seconds.\n",
      "Stamps filtered in 13.9825 seconds\n",
      "Saving results\n"
     ]
    },
    {
     "name": "stderr",
     "output_type": "stream",
     "text": [
      " 83%|████████▎ | 84/101 [23:37<04:49, 17.02s/it]"
     ]
    },
    {
     "name": "stdout",
     "output_type": "stream",
     "text": [
      "Results aggregated in 0.3452 seconds\n",
      "Processing coarse channels 252-255\n",
      "Data loaded in 0.8329 seconds, processing\n",
      "Bandpass cleaned in 1.7003 seconds.\n",
      "Stamps filtered in 14.2622 seconds\n",
      "Saving results\n"
     ]
    },
    {
     "name": "stderr",
     "output_type": "stream",
     "text": [
      " 84%|████████▍ | 85/101 [23:55<04:33, 17.11s/it]"
     ]
    },
    {
     "name": "stdout",
     "output_type": "stream",
     "text": [
      "Results aggregated in 0.5253 seconds\n",
      "Processing coarse channels 255-258\n",
      "Data loaded in 0.9290 seconds, processing\n",
      "Bandpass cleaned in 1.7978 seconds.\n",
      "Stamps filtered in 14.2631 seconds\n",
      "Saving results\n",
      "Results aggregated in 0.0868 seconds\n",
      "Processing coarse channels 258-261\n"
     ]
    },
    {
     "name": "stderr",
     "output_type": "stream",
     "text": [
      " 85%|████████▌ | 86/101 [24:12<04:16, 17.11s/it]"
     ]
    },
    {
     "name": "stdout",
     "output_type": "stream",
     "text": [
      "Data loaded in 0.9173 seconds, processing\n",
      "Bandpass cleaned in 1.6684 seconds.\n",
      "Stamps filtered in 14.1122 seconds\n",
      "Saving results\n",
      "Results aggregated in 0.0663 seconds\n",
      "Processing coarse channels 261-264\n"
     ]
    },
    {
     "name": "stderr",
     "output_type": "stream",
     "text": [
      " 86%|████████▌ | 87/101 [24:28<03:58, 17.01s/it]"
     ]
    },
    {
     "name": "stdout",
     "output_type": "stream",
     "text": [
      "Data loaded in 0.8189 seconds, processing\n",
      "Bandpass cleaned in 1.6805 seconds.\n",
      "Stamps filtered in 14.1835 seconds\n",
      "Saving results\n",
      "Results aggregated in 0.0637 seconds\n",
      "Processing coarse channels 264-267\n"
     ]
    },
    {
     "name": "stderr",
     "output_type": "stream",
     "text": [
      " 87%|████████▋ | 88/101 [24:45<03:40, 16.93s/it]"
     ]
    },
    {
     "name": "stdout",
     "output_type": "stream",
     "text": [
      "Data loaded in 0.9007 seconds, processing\n",
      "Bandpass cleaned in 1.7206 seconds.\n",
      "Stamps filtered in 13.9143 seconds\n",
      "Saving results\n",
      "Results aggregated in 0.0662 seconds\n",
      "Processing coarse channels 267-270\n"
     ]
    },
    {
     "name": "stderr",
     "output_type": "stream",
     "text": [
      " 88%|████████▊ | 89/101 [25:02<03:22, 16.83s/it]"
     ]
    },
    {
     "name": "stdout",
     "output_type": "stream",
     "text": [
      "Data loaded in 0.8950 seconds, processing\n",
      "Bandpass cleaned in 1.5951 seconds.\n",
      "Stamps filtered in 14.1686 seconds\n",
      "Saving results\n",
      "Results aggregated in 0.0654 seconds\n",
      "Processing coarse channels 270-273\n"
     ]
    },
    {
     "name": "stderr",
     "output_type": "stream",
     "text": [
      " 89%|████████▉ | 90/101 [25:19<03:04, 16.80s/it]"
     ]
    },
    {
     "name": "stdout",
     "output_type": "stream",
     "text": [
      "Data loaded in 0.8029 seconds, processing\n",
      "Bandpass cleaned in 1.6374 seconds.\n",
      "Stamps filtered in 14.4218 seconds\n",
      "Saving results\n",
      "Results aggregated in 0.0676 seconds\n",
      "Processing coarse channels 273-276\n"
     ]
    },
    {
     "name": "stderr",
     "output_type": "stream",
     "text": [
      " 90%|█████████ | 91/101 [25:35<02:48, 16.84s/it]"
     ]
    },
    {
     "name": "stdout",
     "output_type": "stream",
     "text": [
      "Data loaded in 0.8275 seconds, processing\n",
      "Bandpass cleaned in 1.6667 seconds.\n",
      "Stamps filtered in 14.4482 seconds\n",
      "Saving results\n",
      "Results aggregated in 0.0631 seconds\n",
      "Processing coarse channels 276-279\n"
     ]
    },
    {
     "name": "stderr",
     "output_type": "stream",
     "text": [
      " 91%|█████████ | 92/101 [25:53<02:32, 16.89s/it]"
     ]
    },
    {
     "name": "stdout",
     "output_type": "stream",
     "text": [
      "Data loaded in 0.8177 seconds, processing\n",
      "Bandpass cleaned in 1.7012 seconds.\n",
      "Stamps filtered in 14.5284 seconds\n",
      "Saving results\n",
      "Results aggregated in 0.0699 seconds\n",
      "Processing coarse channels 279-282\n"
     ]
    },
    {
     "name": "stderr",
     "output_type": "stream",
     "text": [
      " 92%|█████████▏| 93/101 [26:10<02:15, 16.96s/it]"
     ]
    },
    {
     "name": "stdout",
     "output_type": "stream",
     "text": [
      "Data loaded in 0.9283 seconds, processing\n",
      "Bandpass cleaned in 1.6784 seconds.\n",
      "Stamps filtered in 14.2365 seconds\n",
      "Saving results\n",
      "Results aggregated in 0.0643 seconds\n",
      "Processing coarse channels 282-285\n"
     ]
    },
    {
     "name": "stderr",
     "output_type": "stream",
     "text": [
      " 93%|█████████▎| 94/101 [26:27<01:58, 16.95s/it]"
     ]
    },
    {
     "name": "stdout",
     "output_type": "stream",
     "text": [
      "Data loaded in 0.9266 seconds, processing\n",
      "Bandpass cleaned in 1.6726 seconds.\n",
      "Stamps filtered in 14.1924 seconds\n",
      "Saving results\n",
      "Results aggregated in 0.0575 seconds\n",
      "Processing coarse channels 285-288\n"
     ]
    },
    {
     "name": "stderr",
     "output_type": "stream",
     "text": [
      " 94%|█████████▍| 95/101 [26:43<01:41, 16.92s/it]"
     ]
    },
    {
     "name": "stdout",
     "output_type": "stream",
     "text": [
      "Data loaded in 0.8797 seconds, processing\n",
      "Bandpass cleaned in 1.6373 seconds.\n",
      "Stamps filtered in 14.1754 seconds\n",
      "Saving results\n",
      "Results aggregated in 0.0663 seconds\n",
      "Processing coarse channels 288-291\n"
     ]
    },
    {
     "name": "stderr",
     "output_type": "stream",
     "text": [
      " 95%|█████████▌| 96/101 [27:00<01:24, 16.87s/it]"
     ]
    },
    {
     "name": "stdout",
     "output_type": "stream",
     "text": [
      "Data loaded in 0.8708 seconds, processing\n",
      "Bandpass cleaned in 1.6543 seconds.\n",
      "Stamps filtered in 14.2590 seconds\n",
      "Saving results\n",
      "Results aggregated in 0.0753 seconds\n",
      "Processing coarse channels 291-294\n"
     ]
    },
    {
     "name": "stderr",
     "output_type": "stream",
     "text": [
      " 96%|█████████▌| 97/101 [27:17<01:07, 16.87s/it]"
     ]
    },
    {
     "name": "stdout",
     "output_type": "stream",
     "text": [
      "Data loaded in 0.7947 seconds, processing\n",
      "Bandpass cleaned in 1.6484 seconds.\n",
      "Stamps filtered in 14.1839 seconds\n",
      "Saving results\n",
      "Results aggregated in 0.0640 seconds\n",
      "Processing coarse channels 294-297\n"
     ]
    },
    {
     "name": "stderr",
     "output_type": "stream",
     "text": [
      " 97%|█████████▋| 98/101 [27:34<00:50, 16.82s/it]"
     ]
    },
    {
     "name": "stdout",
     "output_type": "stream",
     "text": [
      "Data loaded in 0.8107 seconds, processing\n",
      "Bandpass cleaned in 1.6431 seconds.\n",
      "Stamps filtered in 13.9791 seconds\n",
      "Saving results\n",
      "Results aggregated in 0.0740 seconds\n",
      "Processing coarse channels 297-300\n"
     ]
    },
    {
     "name": "stderr",
     "output_type": "stream",
     "text": [
      " 98%|█████████▊| 99/101 [27:50<00:33, 16.73s/it]"
     ]
    },
    {
     "name": "stdout",
     "output_type": "stream",
     "text": [
      "Data loaded in 0.7964 seconds, processing\n",
      "Bandpass cleaned in 1.6452 seconds.\n",
      "Stamps filtered in 14.1802 seconds\n",
      "Saving results\n",
      "Results aggregated in 0.0616 seconds\n",
      "Processing coarse channels 300-303\n"
     ]
    },
    {
     "name": "stderr",
     "output_type": "stream",
     "text": [
      " 99%|█████████▉| 100/101 [28:07<00:16, 16.72s/it]"
     ]
    },
    {
     "name": "stdout",
     "output_type": "stream",
     "text": [
      "Data loaded in 0.7823 seconds, processing\n",
      "Bandpass cleaned in 1.6117 seconds.\n",
      "Stamps filtered in 14.2905 seconds\n",
      "Saving results\n"
     ]
    },
    {
     "name": "stderr",
     "output_type": "stream",
     "text": [
      "100%|██████████| 101/101 [28:24<00:00, 16.87s/it]\n"
     ]
    },
    {
     "name": "stdout",
     "output_type": "stream",
     "text": [
      "Results aggregated in 0.0665 seconds\n",
      "       level_0      index     statistic  pvalue        freqs\n",
      "75518    75518  294466432  2.971233e+04     0.0  1091.308957\n",
      "75761    75761  313064320  2.646206e+04     0.0  1038.574582\n",
      "75532    75532  295499648  1.920538e+04     0.0  1088.379269\n",
      "75772    75772  314097536  1.545114e+04     0.0  1035.644894\n",
      "10360    10360  108423296  1.547635e+06     0.0  1618.834905\n",
      "10359    10359  108423168  1.021019e+05     0.0  1618.835268\n",
      "10361    10361  108423424  2.443367e+04     0.0  1618.834542\n",
      "4413      4413   81795712  1.354678e+04     0.0  1694.337510\n",
      "4194      4194   62166016  1.022027e+04     0.0  1749.997580\n",
      "4136      4136   38745472  8.052550e+03     0.0  1816.406613\n",
      "4137      4137   38745600  8.052543e+03     0.0  1816.406250\n",
      "4186      4186   61476224  8.052527e+03     0.0  1751.953488\n",
      "303 303\n",
      "Finished Energy Detection on GBT_57515_82215_HIP43343_fine.h5 in 1714.9511 seconds\n",
      "/mnt_blpd7/datax/dl/GBT_57515_82563_HIP44295_fine.h5\n",
      "Header saved to ../../../../../../datax/scratch/pma/reverse_search/train/HIP44295-23/GBT_57515_82563_HIP44295_fine/header.pkl\n",
      "Processing 3 in parallel\n",
      "Processing coarse channels 0-3\n"
     ]
    },
    {
     "name": "stderr",
     "output_type": "stream",
     "text": [
      "  0%|          | 0/101 [00:00<?, ?it/s]"
     ]
    },
    {
     "name": "stdout",
     "output_type": "stream",
     "text": [
      "Data loaded in 1.6754 seconds, processing\n",
      "Bandpass cleaned in 1.7200 seconds.\n",
      "Stamps filtered in 13.6981 seconds\n",
      "Saving results\n"
     ]
    },
    {
     "name": "stderr",
     "output_type": "stream",
     "text": [
      "  1%|          | 1/101 [00:17<29:18, 17.59s/it]"
     ]
    },
    {
     "name": "stdout",
     "output_type": "stream",
     "text": [
      "Results aggregated in 0.4856 seconds\n",
      "Processing coarse channels 3-6\n",
      "Data loaded in 1.3420 seconds, processing\n",
      "Bandpass cleaned in 1.6646 seconds.\n",
      "Stamps filtered in 14.1045 seconds\n",
      "Saving results\n",
      "Results aggregated in 0.0438 seconds\n",
      "Processing coarse channels 6-9\n"
     ]
    },
    {
     "name": "stderr",
     "output_type": "stream",
     "text": [
      "  2%|▏         | 2/101 [00:34<28:36, 17.34s/it]"
     ]
    },
    {
     "name": "stdout",
     "output_type": "stream",
     "text": [
      "Data loaded in 1.1427 seconds, processing\n",
      "Bandpass cleaned in 1.6352 seconds.\n",
      "Stamps filtered in 13.8394 seconds\n",
      "Saving results\n",
      "Results aggregated in 0.0383 seconds\n",
      "Processing coarse channels 9-12\n"
     ]
    },
    {
     "name": "stderr",
     "output_type": "stream",
     "text": [
      "  3%|▎         | 3/101 [00:51<27:48, 17.03s/it]"
     ]
    },
    {
     "name": "stdout",
     "output_type": "stream",
     "text": [
      "Data loaded in 0.8193 seconds, processing\n",
      "Bandpass cleaned in 1.6179 seconds.\n",
      "Stamps filtered in 13.2020 seconds\n",
      "Saving results\n",
      "Results aggregated in 0.0377 seconds\n",
      "Processing coarse channels 12-15\n"
     ]
    },
    {
     "name": "stderr",
     "output_type": "stream",
     "text": [
      "  4%|▍         | 4/101 [01:07<26:40, 16.50s/it]"
     ]
    },
    {
     "name": "stdout",
     "output_type": "stream",
     "text": [
      "Data loaded in 0.9915 seconds, processing\n",
      "Bandpass cleaned in 1.6176 seconds.\n",
      "Stamps filtered in 13.8239 seconds\n",
      "Saving results\n",
      "Results aggregated in 0.0340 seconds\n",
      "Processing coarse channels 15-18\n"
     ]
    },
    {
     "name": "stderr",
     "output_type": "stream",
     "text": [
      "  5%|▍         | 5/101 [01:23<26:22, 16.49s/it]"
     ]
    },
    {
     "name": "stdout",
     "output_type": "stream",
     "text": [
      "Data loaded in 0.8092 seconds, processing\n",
      "Bandpass cleaned in 1.5976 seconds.\n",
      "Stamps filtered in 13.8048 seconds\n",
      "Saving results\n",
      "Results aggregated in 0.0366 seconds\n",
      "Processing coarse channels 18-21\n"
     ]
    },
    {
     "name": "stderr",
     "output_type": "stream",
     "text": [
      "  6%|▌         | 6/101 [01:39<25:58, 16.41s/it]"
     ]
    },
    {
     "name": "stdout",
     "output_type": "stream",
     "text": [
      "Data loaded in 0.7677 seconds, processing\n",
      "Bandpass cleaned in 1.6481 seconds.\n",
      "Stamps filtered in 13.2908 seconds\n",
      "Saving results\n",
      "Results aggregated in 0.0380 seconds\n",
      "Processing coarse channels 21-24\n"
     ]
    },
    {
     "name": "stderr",
     "output_type": "stream",
     "text": [
      "  7%|▋         | 7/101 [01:55<25:22, 16.20s/it]"
     ]
    },
    {
     "name": "stdout",
     "output_type": "stream",
     "text": [
      "Data loaded in 0.8837 seconds, processing\n",
      "Bandpass cleaned in 1.6126 seconds.\n",
      "Stamps filtered in 13.6727 seconds\n",
      "Saving results\n",
      "Results aggregated in 0.0361 seconds\n",
      "Processing coarse channels 24-27\n"
     ]
    },
    {
     "name": "stderr",
     "output_type": "stream",
     "text": [
      "  8%|▊         | 8/101 [02:11<25:06, 16.20s/it]"
     ]
    },
    {
     "name": "stdout",
     "output_type": "stream",
     "text": [
      "Data loaded in 0.7498 seconds, processing\n",
      "Bandpass cleaned in 1.6508 seconds.\n",
      "Stamps filtered in 14.0058 seconds\n",
      "Saving results\n",
      "Results aggregated in 0.0362 seconds\n",
      "Processing coarse channels 27-30\n"
     ]
    },
    {
     "name": "stderr",
     "output_type": "stream",
     "text": [
      "  9%|▉         | 9/101 [02:28<24:57, 16.28s/it]"
     ]
    },
    {
     "name": "stdout",
     "output_type": "stream",
     "text": [
      "Data loaded in 0.8145 seconds, processing\n",
      "Bandpass cleaned in 1.6745 seconds.\n",
      "Stamps filtered in 13.3988 seconds\n",
      "Saving results\n",
      "Results aggregated in 0.0369 seconds\n",
      "Processing coarse channels 30-33\n"
     ]
    },
    {
     "name": "stderr",
     "output_type": "stream",
     "text": [
      " 10%|▉         | 10/101 [02:44<24:31, 16.17s/it]"
     ]
    },
    {
     "name": "stdout",
     "output_type": "stream",
     "text": [
      "Data loaded in 0.7909 seconds, processing\n",
      "Bandpass cleaned in 1.6200 seconds.\n",
      "Stamps filtered in 13.6256 seconds\n",
      "Saving results\n",
      "Results aggregated in 0.0381 seconds\n",
      "Processing coarse channels 33-36\n"
     ]
    },
    {
     "name": "stderr",
     "output_type": "stream",
     "text": [
      " 11%|█         | 11/101 [03:00<24:13, 16.14s/it]"
     ]
    },
    {
     "name": "stdout",
     "output_type": "stream",
     "text": [
      "Data loaded in 0.8125 seconds, processing\n",
      "Bandpass cleaned in 1.6190 seconds.\n",
      "Stamps filtered in 13.7564 seconds\n",
      "Saving results\n",
      "Results aggregated in 0.0411 seconds\n",
      "Processing coarse channels 36-39\n"
     ]
    },
    {
     "name": "stderr",
     "output_type": "stream",
     "text": [
      " 12%|█▏        | 12/101 [03:16<23:59, 16.17s/it]"
     ]
    },
    {
     "name": "stdout",
     "output_type": "stream",
     "text": [
      "Data loaded in 0.8004 seconds, processing\n",
      "Bandpass cleaned in 1.5758 seconds.\n",
      "Stamps filtered in 13.8650 seconds\n",
      "Saving results\n",
      "Results aggregated in 0.0368 seconds\n",
      "Processing coarse channels 39-42\n"
     ]
    },
    {
     "name": "stderr",
     "output_type": "stream",
     "text": [
      " 13%|█▎        | 13/101 [03:32<23:46, 16.21s/it]"
     ]
    },
    {
     "name": "stdout",
     "output_type": "stream",
     "text": [
      "Data loaded in 0.7904 seconds, processing\n",
      "Bandpass cleaned in 1.6542 seconds.\n",
      "Stamps filtered in 13.8967 seconds\n",
      "Saving results\n",
      "Results aggregated in 0.0381 seconds\n",
      "Processing coarse channels 42-45\n"
     ]
    },
    {
     "name": "stderr",
     "output_type": "stream",
     "text": [
      " 14%|█▍        | 14/101 [03:49<23:34, 16.26s/it]"
     ]
    },
    {
     "name": "stdout",
     "output_type": "stream",
     "text": [
      "Data loaded in 0.7520 seconds, processing\n",
      "Bandpass cleaned in 1.5762 seconds.\n",
      "Stamps filtered in 13.7145 seconds\n",
      "Saving results\n",
      "Results aggregated in 0.0381 seconds\n",
      "Processing coarse channels 45-48\n"
     ]
    },
    {
     "name": "stderr",
     "output_type": "stream",
     "text": [
      " 15%|█▍        | 15/101 [04:05<23:13, 16.21s/it]"
     ]
    },
    {
     "name": "stdout",
     "output_type": "stream",
     "text": [
      "Data loaded in 0.8426 seconds, processing\n",
      "Bandpass cleaned in 1.6423 seconds.\n",
      "Stamps filtered in 13.6416 seconds\n",
      "Saving results\n",
      "Results aggregated in 0.0356 seconds\n",
      "Processing coarse channels 48-51\n"
     ]
    },
    {
     "name": "stderr",
     "output_type": "stream",
     "text": [
      " 16%|█▌        | 16/101 [04:21<22:56, 16.20s/it]"
     ]
    },
    {
     "name": "stdout",
     "output_type": "stream",
     "text": [
      "Data loaded in 0.7621 seconds, processing\n",
      "Bandpass cleaned in 1.7128 seconds.\n",
      "Stamps filtered in 13.6107 seconds\n",
      "Saving results\n",
      "Results aggregated in 0.0383 seconds\n",
      "Processing coarse channels 51-54\n"
     ]
    },
    {
     "name": "stderr",
     "output_type": "stream",
     "text": [
      " 17%|█▋        | 17/101 [04:37<22:38, 16.18s/it]"
     ]
    },
    {
     "name": "stdout",
     "output_type": "stream",
     "text": [
      "Data loaded in 0.9139 seconds, processing\n",
      "Bandpass cleaned in 1.7025 seconds.\n",
      "Stamps filtered in 13.7930 seconds\n",
      "Saving results\n",
      "Results aggregated in 0.0324 seconds\n",
      "Processing coarse channels 54-57\n"
     ]
    },
    {
     "name": "stderr",
     "output_type": "stream",
     "text": [
      " 18%|█▊        | 18/101 [04:54<22:29, 16.26s/it]"
     ]
    },
    {
     "name": "stdout",
     "output_type": "stream",
     "text": [
      "Data loaded in 0.7924 seconds, processing\n",
      "Bandpass cleaned in 1.5891 seconds.\n",
      "Stamps filtered in 13.9855 seconds\n",
      "Saving results\n",
      "Results aggregated in 0.0377 seconds\n",
      "Processing coarse channels 57-60\n"
     ]
    },
    {
     "name": "stderr",
     "output_type": "stream",
     "text": [
      " 19%|█▉        | 19/101 [05:10<22:16, 16.30s/it]"
     ]
    },
    {
     "name": "stdout",
     "output_type": "stream",
     "text": [
      "Data loaded in 0.9282 seconds, processing\n",
      "Bandpass cleaned in 1.6097 seconds.\n",
      "Stamps filtered in 13.9205 seconds\n",
      "Saving results\n",
      "Results aggregated in 0.0410 seconds\n",
      "Processing coarse channels 60-63\n"
     ]
    },
    {
     "name": "stderr",
     "output_type": "stream",
     "text": [
      " 20%|█▉        | 20/101 [05:26<22:05, 16.36s/it]"
     ]
    },
    {
     "name": "stdout",
     "output_type": "stream",
     "text": [
      "Data loaded in 0.8023 seconds, processing\n",
      "Bandpass cleaned in 1.8591 seconds.\n",
      "Stamps filtered in 13.8653 seconds\n",
      "Saving results\n",
      "Results aggregated in 0.0366 seconds\n",
      "Processing coarse channels 63-66\n"
     ]
    },
    {
     "name": "stderr",
     "output_type": "stream",
     "text": [
      " 21%|██        | 21/101 [05:43<21:54, 16.43s/it]"
     ]
    },
    {
     "name": "stdout",
     "output_type": "stream",
     "text": [
      "Data loaded in 0.7871 seconds, processing\n",
      "Bandpass cleaned in 1.6250 seconds.\n",
      "Stamps filtered in 13.7990 seconds\n",
      "Saving results\n",
      "Results aggregated in 0.0389 seconds\n",
      "Processing coarse channels 66-69\n"
     ]
    },
    {
     "name": "stderr",
     "output_type": "stream",
     "text": [
      " 22%|██▏       | 22/101 [05:59<21:33, 16.38s/it]"
     ]
    },
    {
     "name": "stdout",
     "output_type": "stream",
     "text": [
      "Data loaded in 0.8997 seconds, processing\n",
      "Bandpass cleaned in 1.6769 seconds.\n",
      "Stamps filtered in 14.1134 seconds\n",
      "Saving results\n",
      "Results aggregated in 0.0362 seconds\n",
      "Processing coarse channels 69-72\n"
     ]
    },
    {
     "name": "stderr",
     "output_type": "stream",
     "text": [
      " 23%|██▎       | 23/101 [06:16<21:25, 16.48s/it]"
     ]
    },
    {
     "name": "stdout",
     "output_type": "stream",
     "text": [
      "Data loaded in 0.7486 seconds, processing\n",
      "Bandpass cleaned in 1.8428 seconds.\n",
      "Stamps filtered in 13.9184 seconds\n",
      "Saving results\n",
      "Results aggregated in 0.0361 seconds\n",
      "Processing coarse channels 72-75\n"
     ]
    },
    {
     "name": "stderr",
     "output_type": "stream",
     "text": [
      " 24%|██▍       | 24/101 [06:33<21:10, 16.51s/it]"
     ]
    },
    {
     "name": "stdout",
     "output_type": "stream",
     "text": [
      "Data loaded in 0.8041 seconds, processing\n",
      "Bandpass cleaned in 1.6557 seconds.\n",
      "Stamps filtered in 13.9776 seconds\n",
      "Saving results\n",
      "Results aggregated in 0.0409 seconds\n",
      "Processing coarse channels 75-78\n"
     ]
    },
    {
     "name": "stderr",
     "output_type": "stream",
     "text": [
      " 25%|██▍       | 25/101 [06:49<20:53, 16.50s/it]"
     ]
    },
    {
     "name": "stdout",
     "output_type": "stream",
     "text": [
      "Data loaded in 0.8192 seconds, processing\n",
      "Bandpass cleaned in 1.5936 seconds.\n",
      "Stamps filtered in 13.6093 seconds\n",
      "Saving results\n",
      "Results aggregated in 0.0670 seconds\n",
      "Processing coarse channels 78-81\n"
     ]
    },
    {
     "name": "stderr",
     "output_type": "stream",
     "text": [
      " 26%|██▌       | 26/101 [07:05<20:28, 16.38s/it]"
     ]
    },
    {
     "name": "stdout",
     "output_type": "stream",
     "text": [
      "Data loaded in 0.7478 seconds, processing\n",
      "Bandpass cleaned in 1.8950 seconds.\n",
      "Stamps filtered in 13.9729 seconds\n",
      "Saving results\n",
      "Results aggregated in 0.1420 seconds\n",
      "Processing coarse channels 81-84\n"
     ]
    },
    {
     "name": "stderr",
     "output_type": "stream",
     "text": [
      " 27%|██▋       | 27/101 [07:22<20:20, 16.50s/it]"
     ]
    },
    {
     "name": "stdout",
     "output_type": "stream",
     "text": [
      "Data loaded in 0.7791 seconds, processing\n",
      "Bandpass cleaned in 1.6945 seconds.\n",
      "Stamps filtered in 13.7956 seconds\n",
      "Saving results\n",
      "Results aggregated in 0.0931 seconds\n",
      "Processing coarse channels 84-87\n"
     ]
    },
    {
     "name": "stderr",
     "output_type": "stream",
     "text": [
      " 28%|██▊       | 28/101 [07:38<20:01, 16.46s/it]"
     ]
    },
    {
     "name": "stdout",
     "output_type": "stream",
     "text": [
      "Data loaded in 0.7498 seconds, processing\n",
      "Bandpass cleaned in 1.6279 seconds.\n",
      "Stamps filtered in 13.4308 seconds\n",
      "Saving results\n",
      "Results aggregated in 0.1014 seconds\n",
      "Processing coarse channels 87-90\n"
     ]
    },
    {
     "name": "stderr",
     "output_type": "stream",
     "text": [
      " 29%|██▊       | 29/101 [07:54<19:33, 16.30s/it]"
     ]
    },
    {
     "name": "stdout",
     "output_type": "stream",
     "text": [
      "Data loaded in 0.7466 seconds, processing\n",
      "Bandpass cleaned in 1.6026 seconds.\n",
      "Stamps filtered in 13.5317 seconds\n",
      "Saving results\n",
      "Results aggregated in 0.0434 seconds\n",
      "Processing coarse channels 90-93\n"
     ]
    },
    {
     "name": "stderr",
     "output_type": "stream",
     "text": [
      " 30%|██▉       | 30/101 [08:10<19:09, 16.19s/it]"
     ]
    },
    {
     "name": "stdout",
     "output_type": "stream",
     "text": [
      "Data loaded in 0.8019 seconds, processing\n",
      "Bandpass cleaned in 1.5975 seconds.\n",
      "Stamps filtered in 14.0217 seconds\n",
      "Saving results\n",
      "Results aggregated in 0.0432 seconds\n",
      "Processing coarse channels 93-96\n"
     ]
    },
    {
     "name": "stderr",
     "output_type": "stream",
     "text": [
      " 31%|███       | 31/101 [08:27<18:59, 16.27s/it]"
     ]
    },
    {
     "name": "stdout",
     "output_type": "stream",
     "text": [
      "Data loaded in 0.7865 seconds, processing\n",
      "Bandpass cleaned in 1.6221 seconds.\n",
      "Stamps filtered in 14.1967 seconds\n",
      "Saving results\n",
      "Results aggregated in 0.0433 seconds\n",
      "Processing coarse channels 96-99\n"
     ]
    },
    {
     "name": "stderr",
     "output_type": "stream",
     "text": [
      " 32%|███▏      | 32/101 [08:43<18:50, 16.39s/it]"
     ]
    },
    {
     "name": "stdout",
     "output_type": "stream",
     "text": [
      "Data loaded in 0.8376 seconds, processing\n",
      "Bandpass cleaned in 1.5961 seconds.\n",
      "Stamps filtered in 13.8137 seconds\n",
      "Saving results\n",
      "Results aggregated in 0.0466 seconds\n",
      "Processing coarse channels 99-102\n"
     ]
    },
    {
     "name": "stderr",
     "output_type": "stream",
     "text": [
      " 33%|███▎      | 33/101 [09:00<18:32, 16.36s/it]"
     ]
    },
    {
     "name": "stdout",
     "output_type": "stream",
     "text": [
      "Data loaded in 0.7603 seconds, processing\n",
      "Bandpass cleaned in 1.6729 seconds.\n",
      "Stamps filtered in 13.7319 seconds\n",
      "Saving results\n"
     ]
    },
    {
     "name": "stderr",
     "output_type": "stream",
     "text": [
      " 34%|███▎      | 34/101 [09:16<18:18, 16.39s/it]"
     ]
    },
    {
     "name": "stdout",
     "output_type": "stream",
     "text": [
      "Results aggregated in 0.2840 seconds\n",
      "Processing coarse channels 102-105\n",
      "Data loaded in 0.8113 seconds, processing\n",
      "Bandpass cleaned in 1.6628 seconds.\n",
      "Stamps filtered in 13.9178 seconds\n",
      "Saving results\n"
     ]
    },
    {
     "name": "stderr",
     "output_type": "stream",
     "text": [
      " 35%|███▍      | 35/101 [09:33<18:09, 16.51s/it]"
     ]
    },
    {
     "name": "stdout",
     "output_type": "stream",
     "text": [
      "Results aggregated in 0.3833 seconds\n",
      "Processing coarse channels 105-108\n",
      "Data loaded in 0.8085 seconds, processing\n",
      "Bandpass cleaned in 1.7172 seconds.\n",
      "Stamps filtered in 13.7696 seconds\n",
      "Saving results\n",
      "Results aggregated in 0.0588 seconds\n",
      "Processing coarse channels 108-111\n"
     ]
    },
    {
     "name": "stderr",
     "output_type": "stream",
     "text": [
      " 36%|███▌      | 36/101 [09:49<17:50, 16.47s/it]"
     ]
    },
    {
     "name": "stdout",
     "output_type": "stream",
     "text": [
      "Data loaded in 0.7994 seconds, processing\n",
      "Bandpass cleaned in 1.6716 seconds.\n",
      "Stamps filtered in 13.4279 seconds\n",
      "Saving results\n"
     ]
    },
    {
     "name": "stderr",
     "output_type": "stream",
     "text": [
      " 37%|███▋      | 37/101 [10:05<17:30, 16.41s/it]"
     ]
    },
    {
     "name": "stdout",
     "output_type": "stream",
     "text": [
      "Results aggregated in 0.3742 seconds\n",
      "Processing coarse channels 111-114\n",
      "Data loaded in 0.7970 seconds, processing\n",
      "Bandpass cleaned in 1.6937 seconds.\n",
      "Stamps filtered in 13.8124 seconds\n",
      "Saving results\n",
      "Results aggregated in 0.1180 seconds\n",
      "Processing coarse channels 114-117\n"
     ]
    },
    {
     "name": "stderr",
     "output_type": "stream",
     "text": [
      " 38%|███▊      | 38/101 [10:22<17:14, 16.42s/it]"
     ]
    },
    {
     "name": "stdout",
     "output_type": "stream",
     "text": [
      "Data loaded in 0.8191 seconds, processing\n",
      "Bandpass cleaned in 1.8406 seconds.\n",
      "Stamps filtered in 13.7847 seconds\n",
      "Saving results\n",
      "Results aggregated in 0.0453 seconds\n",
      "Processing coarse channels 117-120\n"
     ]
    },
    {
     "name": "stderr",
     "output_type": "stream",
     "text": [
      " 39%|███▊      | 39/101 [10:38<16:59, 16.44s/it]"
     ]
    },
    {
     "name": "stdout",
     "output_type": "stream",
     "text": [
      "Data loaded in 0.8210 seconds, processing\n",
      "Bandpass cleaned in 1.6957 seconds.\n",
      "Stamps filtered in 13.8886 seconds\n",
      "Saving results\n"
     ]
    },
    {
     "name": "stderr",
     "output_type": "stream",
     "text": [
      " 40%|███▉      | 40/101 [10:55<16:49, 16.55s/it]"
     ]
    },
    {
     "name": "stdout",
     "output_type": "stream",
     "text": [
      "Results aggregated in 0.3999 seconds\n",
      "Processing coarse channels 120-123\n",
      "Data loaded in 0.8189 seconds, processing\n",
      "Bandpass cleaned in 1.7243 seconds.\n",
      "Stamps filtered in 13.8000 seconds\n",
      "Saving results\n",
      "Results aggregated in 0.0599 seconds\n",
      "Processing coarse channels 123-126\n"
     ]
    },
    {
     "name": "stderr",
     "output_type": "stream",
     "text": [
      " 41%|████      | 41/101 [11:12<16:30, 16.51s/it]"
     ]
    },
    {
     "name": "stdout",
     "output_type": "stream",
     "text": [
      "Data loaded in 0.7821 seconds, processing\n",
      "Bandpass cleaned in 1.7027 seconds.\n",
      "Stamps filtered in 14.1588 seconds\n",
      "Saving results\n"
     ]
    },
    {
     "name": "stderr",
     "output_type": "stream",
     "text": [
      " 42%|████▏     | 42/101 [11:29<16:30, 16.78s/it]"
     ]
    },
    {
     "name": "stdout",
     "output_type": "stream",
     "text": [
      "Results aggregated in 0.7523 seconds\n",
      "Processing coarse channels 126-129\n",
      "Data loaded in 0.9140 seconds, processing\n",
      "Bandpass cleaned in 1.7613 seconds.\n",
      "Stamps filtered in 14.0090 seconds\n",
      "Saving results\n"
     ]
    },
    {
     "name": "stderr",
     "output_type": "stream",
     "text": [
      " 43%|████▎     | 43/101 [11:46<16:24, 16.97s/it]"
     ]
    },
    {
     "name": "stdout",
     "output_type": "stream",
     "text": [
      "Results aggregated in 0.7023 seconds\n",
      "Processing coarse channels 129-132\n",
      "Data loaded in 0.8292 seconds, processing\n",
      "Bandpass cleaned in 1.9946 seconds.\n",
      "Stamps filtered in 13.5852 seconds\n",
      "Saving results\n"
     ]
    },
    {
     "name": "stderr",
     "output_type": "stream",
     "text": [
      " 44%|████▎     | 44/101 [12:03<16:08, 16.99s/it]"
     ]
    },
    {
     "name": "stdout",
     "output_type": "stream",
     "text": [
      "Results aggregated in 0.6147 seconds\n",
      "Processing coarse channels 132-135\n",
      "Data loaded in 0.9591 seconds, processing\n",
      "Bandpass cleaned in 1.8681 seconds.\n",
      "Stamps filtered in 13.8586 seconds\n",
      "Saving results\n"
     ]
    },
    {
     "name": "stderr",
     "output_type": "stream",
     "text": [
      " 45%|████▍     | 45/101 [12:21<15:57, 17.10s/it]"
     ]
    },
    {
     "name": "stdout",
     "output_type": "stream",
     "text": [
      "Results aggregated in 0.6517 seconds\n",
      "Processing coarse channels 135-138\n",
      "Data loaded in 0.8671 seconds, processing\n",
      "Bandpass cleaned in 2.0228 seconds.\n",
      "Stamps filtered in 14.3435 seconds\n",
      "Saving results\n",
      "Results aggregated in 0.0848 seconds\n",
      "Processing coarse channels 138-141\n"
     ]
    },
    {
     "name": "stderr",
     "output_type": "stream",
     "text": [
      " 46%|████▌     | 46/101 [12:38<15:44, 17.17s/it]"
     ]
    },
    {
     "name": "stdout",
     "output_type": "stream",
     "text": [
      "Data loaded in 0.8955 seconds, processing\n",
      "Bandpass cleaned in 1.7766 seconds.\n",
      "Stamps filtered in 13.7716 seconds\n",
      "Saving results\n",
      "Results aggregated in 0.0551 seconds\n",
      "Processing coarse channels 141-144\n"
     ]
    },
    {
     "name": "stderr",
     "output_type": "stream",
     "text": [
      " 47%|████▋     | 47/101 [12:55<15:16, 16.97s/it]"
     ]
    },
    {
     "name": "stdout",
     "output_type": "stream",
     "text": [
      "Data loaded in 0.8545 seconds, processing\n",
      "Bandpass cleaned in 1.6921 seconds.\n",
      "Stamps filtered in 13.5837 seconds\n",
      "Saving results\n",
      "Results aggregated in 0.0547 seconds\n",
      "Processing coarse channels 144-147\n"
     ]
    },
    {
     "name": "stderr",
     "output_type": "stream",
     "text": [
      " 48%|████▊     | 48/101 [13:11<14:47, 16.74s/it]"
     ]
    },
    {
     "name": "stdout",
     "output_type": "stream",
     "text": [
      "Data loaded in 0.8234 seconds, processing\n",
      "Bandpass cleaned in 1.7408 seconds.\n",
      "Stamps filtered in 13.6747 seconds\n",
      "Saving results\n",
      "Results aggregated in 0.0536 seconds\n",
      "Processing coarse channels 147-150\n"
     ]
    },
    {
     "name": "stderr",
     "output_type": "stream",
     "text": [
      " 49%|████▊     | 49/101 [13:27<14:23, 16.61s/it]"
     ]
    },
    {
     "name": "stdout",
     "output_type": "stream",
     "text": [
      "Data loaded in 0.9591 seconds, processing\n",
      "Bandpass cleaned in 1.6526 seconds.\n",
      "Stamps filtered in 13.8086 seconds\n",
      "Saving results\n",
      "Results aggregated in 0.0552 seconds\n",
      "Processing coarse channels 150-153\n"
     ]
    },
    {
     "name": "stderr",
     "output_type": "stream",
     "text": [
      " 50%|████▉     | 50/101 [13:44<14:04, 16.57s/it]"
     ]
    },
    {
     "name": "stdout",
     "output_type": "stream",
     "text": [
      "Data loaded in 0.8179 seconds, processing\n",
      "Bandpass cleaned in 1.7373 seconds.\n",
      "Stamps filtered in 13.4868 seconds\n",
      "Saving results\n",
      "Results aggregated in 0.0567 seconds\n",
      "Processing coarse channels 153-156\n"
     ]
    },
    {
     "name": "stderr",
     "output_type": "stream",
     "text": [
      " 50%|█████     | 51/101 [14:00<13:41, 16.43s/it]"
     ]
    },
    {
     "name": "stdout",
     "output_type": "stream",
     "text": [
      "Data loaded in 0.8471 seconds, processing\n",
      "Bandpass cleaned in 1.9338 seconds.\n",
      "Stamps filtered in 13.7347 seconds\n",
      "Saving results\n",
      "Results aggregated in 0.0570 seconds\n",
      "Processing coarse channels 156-159\n"
     ]
    },
    {
     "name": "stderr",
     "output_type": "stream",
     "text": [
      " 51%|█████▏    | 52/101 [14:16<13:27, 16.47s/it]"
     ]
    },
    {
     "name": "stdout",
     "output_type": "stream",
     "text": [
      "Data loaded in 1.0169 seconds, processing\n",
      "Bandpass cleaned in 1.6905 seconds.\n",
      "Stamps filtered in 13.5474 seconds\n",
      "Saving results\n",
      "Results aggregated in 0.0535 seconds\n",
      "Processing coarse channels 159-162\n"
     ]
    },
    {
     "name": "stderr",
     "output_type": "stream",
     "text": [
      " 52%|█████▏    | 53/101 [14:33<13:08, 16.43s/it]"
     ]
    },
    {
     "name": "stdout",
     "output_type": "stream",
     "text": [
      "Data loaded in 0.8444 seconds, processing\n",
      "Bandpass cleaned in 1.6360 seconds.\n",
      "Stamps filtered in 13.8998 seconds\n",
      "Saving results\n",
      "Results aggregated in 0.0550 seconds\n",
      "Processing coarse channels 162-165\n"
     ]
    },
    {
     "name": "stderr",
     "output_type": "stream",
     "text": [
      " 53%|█████▎    | 54/101 [14:49<12:52, 16.43s/it]"
     ]
    },
    {
     "name": "stdout",
     "output_type": "stream",
     "text": [
      "Data loaded in 0.8322 seconds, processing\n",
      "Bandpass cleaned in 1.6911 seconds.\n",
      "Stamps filtered in 13.5458 seconds\n",
      "Saving results\n",
      "Results aggregated in 0.0606 seconds\n",
      "Processing coarse channels 165-168\n"
     ]
    },
    {
     "name": "stderr",
     "output_type": "stream",
     "text": [
      " 54%|█████▍    | 55/101 [15:05<12:31, 16.34s/it]"
     ]
    },
    {
     "name": "stdout",
     "output_type": "stream",
     "text": [
      "Data loaded in 0.8768 seconds, processing\n",
      "Bandpass cleaned in 1.7221 seconds.\n",
      "Stamps filtered in 13.9830 seconds\n",
      "Saving results\n",
      "Results aggregated in 0.0532 seconds\n",
      "Processing coarse channels 168-171\n"
     ]
    },
    {
     "name": "stderr",
     "output_type": "stream",
     "text": [
      " 55%|█████▌    | 56/101 [15:22<12:19, 16.43s/it]"
     ]
    },
    {
     "name": "stdout",
     "output_type": "stream",
     "text": [
      "Data loaded in 0.8752 seconds, processing\n",
      "Bandpass cleaned in 1.7219 seconds.\n",
      "Stamps filtered in 13.8580 seconds\n",
      "Saving results\n",
      "Results aggregated in 0.0592 seconds\n",
      "Processing coarse channels 171-174\n"
     ]
    },
    {
     "name": "stderr",
     "output_type": "stream",
     "text": [
      " 56%|█████▋    | 57/101 [15:38<12:04, 16.46s/it]"
     ]
    },
    {
     "name": "stdout",
     "output_type": "stream",
     "text": [
      "Data loaded in 1.0364 seconds, processing\n",
      "Bandpass cleaned in 1.6835 seconds.\n",
      "Stamps filtered in 13.8058 seconds\n",
      "Saving results\n",
      "Results aggregated in 0.0558 seconds\n",
      "Processing coarse channels 174-177\n"
     ]
    },
    {
     "name": "stderr",
     "output_type": "stream",
     "text": [
      " 57%|█████▋    | 58/101 [15:55<11:49, 16.50s/it]"
     ]
    },
    {
     "name": "stdout",
     "output_type": "stream",
     "text": [
      "Data loaded in 0.7785 seconds, processing\n",
      "Bandpass cleaned in 1.6518 seconds.\n",
      "Stamps filtered in 13.6671 seconds\n",
      "Saving results\n",
      "Results aggregated in 0.0567 seconds\n",
      "Processing coarse channels 177-180\n"
     ]
    },
    {
     "name": "stderr",
     "output_type": "stream",
     "text": [
      " 58%|█████▊    | 59/101 [16:11<11:28, 16.40s/it]"
     ]
    },
    {
     "name": "stdout",
     "output_type": "stream",
     "text": [
      "Data loaded in 0.8294 seconds, processing\n",
      "Bandpass cleaned in 1.6194 seconds.\n",
      "Stamps filtered in 14.2540 seconds\n",
      "Saving results\n",
      "Results aggregated in 0.0548 seconds\n",
      "Processing coarse channels 180-183\n"
     ]
    },
    {
     "name": "stderr",
     "output_type": "stream",
     "text": [
      " 59%|█████▉    | 60/101 [16:28<11:16, 16.51s/it]"
     ]
    },
    {
     "name": "stdout",
     "output_type": "stream",
     "text": [
      "Data loaded in 0.8765 seconds, processing\n",
      "Bandpass cleaned in 1.6823 seconds.\n",
      "Stamps filtered in 14.1814 seconds\n",
      "Saving results\n",
      "Results aggregated in 0.0552 seconds\n",
      "Processing coarse channels 183-186\n"
     ]
    },
    {
     "name": "stderr",
     "output_type": "stream",
     "text": [
      " 60%|██████    | 61/101 [16:45<11:03, 16.60s/it]"
     ]
    },
    {
     "name": "stdout",
     "output_type": "stream",
     "text": [
      "Data loaded in 0.7855 seconds, processing\n",
      "Bandpass cleaned in 1.6610 seconds.\n",
      "Stamps filtered in 13.4861 seconds\n",
      "Saving results\n",
      "Results aggregated in 0.1808 seconds\n",
      "Processing coarse channels 186-189\n"
     ]
    },
    {
     "name": "stderr",
     "output_type": "stream",
     "text": [
      " 61%|██████▏   | 62/101 [17:01<10:41, 16.45s/it]"
     ]
    },
    {
     "name": "stdout",
     "output_type": "stream",
     "text": [
      "Data loaded in 0.8322 seconds, processing\n",
      "Bandpass cleaned in 1.6885 seconds.\n",
      "Stamps filtered in 13.6293 seconds\n",
      "Saving results\n",
      "Results aggregated in 0.0656 seconds\n",
      "Processing coarse channels 189-192\n"
     ]
    },
    {
     "name": "stderr",
     "output_type": "stream",
     "text": [
      " 62%|██████▏   | 63/101 [17:17<10:22, 16.39s/it]"
     ]
    },
    {
     "name": "stdout",
     "output_type": "stream",
     "text": [
      "Data loaded in 0.7884 seconds, processing\n",
      "Bandpass cleaned in 1.6765 seconds.\n",
      "Stamps filtered in 13.9556 seconds\n",
      "Saving results\n",
      "Results aggregated in 0.0625 seconds\n",
      "Processing coarse channels 192-195\n"
     ]
    },
    {
     "name": "stderr",
     "output_type": "stream",
     "text": [
      " 63%|██████▎   | 64/101 [17:34<10:07, 16.42s/it]"
     ]
    },
    {
     "name": "stdout",
     "output_type": "stream",
     "text": [
      "Data loaded in 0.8327 seconds, processing\n",
      "Bandpass cleaned in 1.6971 seconds.\n",
      "Stamps filtered in 13.7637 seconds\n",
      "Saving results\n",
      "Results aggregated in 0.0595 seconds\n",
      "Processing coarse channels 195-198\n"
     ]
    },
    {
     "name": "stderr",
     "output_type": "stream",
     "text": [
      " 64%|██████▍   | 65/101 [17:50<09:50, 16.40s/it]"
     ]
    },
    {
     "name": "stdout",
     "output_type": "stream",
     "text": [
      "Data loaded in 0.8039 seconds, processing\n",
      "Bandpass cleaned in 1.5814 seconds.\n",
      "Stamps filtered in 13.7139 seconds\n",
      "Saving results\n",
      "Results aggregated in 0.0586 seconds\n",
      "Processing coarse channels 198-201\n"
     ]
    },
    {
     "name": "stderr",
     "output_type": "stream",
     "text": [
      " 65%|██████▌   | 66/101 [18:06<09:31, 16.33s/it]"
     ]
    },
    {
     "name": "stdout",
     "output_type": "stream",
     "text": [
      "Data loaded in 0.8509 seconds, processing\n",
      "Bandpass cleaned in 1.6293 seconds.\n",
      "Stamps filtered in 13.8118 seconds\n",
      "Saving results\n",
      "Results aggregated in 0.0594 seconds\n",
      "Processing coarse channels 201-204\n"
     ]
    },
    {
     "name": "stderr",
     "output_type": "stream",
     "text": [
      " 66%|██████▋   | 67/101 [18:22<09:15, 16.34s/it]"
     ]
    },
    {
     "name": "stdout",
     "output_type": "stream",
     "text": [
      "Data loaded in 0.9215 seconds, processing\n",
      "Bandpass cleaned in 1.6962 seconds.\n",
      "Stamps filtered in 13.6460 seconds\n",
      "Saving results\n",
      "Results aggregated in 0.0592 seconds\n",
      "Processing coarse channels 204-207\n"
     ]
    },
    {
     "name": "stderr",
     "output_type": "stream",
     "text": [
      " 67%|██████▋   | 68/101 [18:39<08:59, 16.34s/it]"
     ]
    },
    {
     "name": "stdout",
     "output_type": "stream",
     "text": [
      "Data loaded in 0.7962 seconds, processing\n",
      "Bandpass cleaned in 1.7910 seconds.\n",
      "Stamps filtered in 13.7955 seconds\n",
      "Saving results\n",
      "Results aggregated in 0.0821 seconds\n",
      "Processing coarse channels 207-210\n"
     ]
    },
    {
     "name": "stderr",
     "output_type": "stream",
     "text": [
      " 68%|██████▊   | 69/101 [18:55<08:44, 16.38s/it]"
     ]
    },
    {
     "name": "stdout",
     "output_type": "stream",
     "text": [
      "Data loaded in 0.8816 seconds, processing\n",
      "Bandpass cleaned in 1.6737 seconds.\n",
      "Stamps filtered in 13.8294 seconds\n",
      "Saving results\n"
     ]
    },
    {
     "name": "stderr",
     "output_type": "stream",
     "text": [
      " 69%|██████▉   | 70/101 [19:12<08:32, 16.53s/it]"
     ]
    },
    {
     "name": "stdout",
     "output_type": "stream",
     "text": [
      "Results aggregated in 0.4770 seconds\n",
      "Processing coarse channels 210-213\n",
      "Data loaded in 0.9223 seconds, processing\n",
      "Bandpass cleaned in 2.0225 seconds.\n",
      "Stamps filtered in 14.0719 seconds\n",
      "Saving results\n",
      "Results aggregated in 0.1076 seconds\n",
      "Processing coarse channels 213-216\n"
     ]
    },
    {
     "name": "stderr",
     "output_type": "stream",
     "text": [
      " 70%|███████   | 71/101 [19:29<08:21, 16.71s/it]"
     ]
    },
    {
     "name": "stdout",
     "output_type": "stream",
     "text": [
      "Data loaded in 0.8131 seconds, processing\n",
      "Bandpass cleaned in 2.0743 seconds.\n",
      "Stamps filtered in 13.4248 seconds\n",
      "Saving results\n",
      "Results aggregated in 0.0768 seconds\n",
      "Processing coarse channels 216-219\n"
     ]
    },
    {
     "name": "stderr",
     "output_type": "stream",
     "text": [
      " 71%|███████▏  | 72/101 [19:46<08:01, 16.62s/it]"
     ]
    },
    {
     "name": "stdout",
     "output_type": "stream",
     "text": [
      "Data loaded in 0.7923 seconds, processing\n",
      "Bandpass cleaned in 1.6896 seconds.\n",
      "Stamps filtered in 13.9096 seconds\n",
      "Saving results\n"
     ]
    },
    {
     "name": "stderr",
     "output_type": "stream",
     "text": [
      " 72%|███████▏  | 73/101 [20:03<07:50, 16.80s/it]"
     ]
    },
    {
     "name": "stdout",
     "output_type": "stream",
     "text": [
      "Results aggregated in 0.8021 seconds\n",
      "Processing coarse channels 219-222\n",
      "Data loaded in 0.8534 seconds, processing\n",
      "Bandpass cleaned in 1.9234 seconds.\n",
      "Stamps filtered in 14.0945 seconds\n",
      "Saving results\n",
      "Results aggregated in 0.0913 seconds\n",
      "Processing coarse channels 222-225\n"
     ]
    },
    {
     "name": "stderr",
     "output_type": "stream",
     "text": [
      " 73%|███████▎  | 74/101 [20:20<07:34, 16.85s/it]"
     ]
    },
    {
     "name": "stdout",
     "output_type": "stream",
     "text": [
      "Data loaded in 0.8306 seconds, processing\n",
      "Bandpass cleaned in 1.6990 seconds.\n",
      "Stamps filtered in 13.9449 seconds\n",
      "Saving results\n",
      "Results aggregated in 0.0557 seconds\n",
      "Processing coarse channels 225-228\n"
     ]
    },
    {
     "name": "stderr",
     "output_type": "stream",
     "text": [
      " 74%|███████▍  | 75/101 [20:36<07:15, 16.75s/it]"
     ]
    },
    {
     "name": "stdout",
     "output_type": "stream",
     "text": [
      "Data loaded in 0.8594 seconds, processing\n",
      "Bandpass cleaned in 1.6703 seconds.\n",
      "Stamps filtered in 14.1458 seconds\n",
      "Saving results\n"
     ]
    },
    {
     "name": "stderr",
     "output_type": "stream",
     "text": [
      " 75%|███████▌  | 76/101 [20:54<07:05, 17.02s/it]"
     ]
    },
    {
     "name": "stdout",
     "output_type": "stream",
     "text": [
      "Results aggregated in 0.9416 seconds\n",
      "Processing coarse channels 228-231\n",
      "Data loaded in 0.8978 seconds, processing\n",
      "Bandpass cleaned in 1.6754 seconds.\n",
      "Stamps filtered in 14.0180 seconds\n",
      "Saving results\n"
     ]
    },
    {
     "name": "stderr",
     "output_type": "stream",
     "text": [
      " 76%|███████▌  | 77/101 [21:11<06:50, 17.09s/it]"
     ]
    },
    {
     "name": "stdout",
     "output_type": "stream",
     "text": [
      "Results aggregated in 0.6324 seconds\n",
      "Processing coarse channels 231-234\n",
      "Data loaded in 0.9600 seconds, processing\n",
      "Bandpass cleaned in 1.7131 seconds.\n",
      "Stamps filtered in 14.0160 seconds\n",
      "Saving results\n",
      "Results aggregated in 0.0791 seconds\n",
      "Processing coarse channels 234-237\n"
     ]
    },
    {
     "name": "stderr",
     "output_type": "stream",
     "text": [
      " 77%|███████▋  | 78/101 [21:28<06:30, 16.99s/it]"
     ]
    },
    {
     "name": "stdout",
     "output_type": "stream",
     "text": [
      "Data loaded in 0.8937 seconds, processing\n",
      "Bandpass cleaned in 1.6506 seconds.\n",
      "Stamps filtered in 13.8653 seconds\n",
      "Saving results\n",
      "Results aggregated in 0.0604 seconds\n",
      "Processing coarse channels 237-240\n"
     ]
    },
    {
     "name": "stderr",
     "output_type": "stream",
     "text": [
      " 78%|███████▊  | 79/101 [21:44<06:10, 16.84s/it]"
     ]
    },
    {
     "name": "stdout",
     "output_type": "stream",
     "text": [
      "Data loaded in 0.8661 seconds, processing\n",
      "Bandpass cleaned in 1.7013 seconds.\n",
      "Stamps filtered in 14.0791 seconds\n",
      "Saving results\n",
      "Results aggregated in 0.0667 seconds\n",
      "Processing coarse channels 240-243\n"
     ]
    },
    {
     "name": "stderr",
     "output_type": "stream",
     "text": [
      " 79%|███████▉  | 80/101 [22:01<05:52, 16.80s/it]"
     ]
    },
    {
     "name": "stdout",
     "output_type": "stream",
     "text": [
      "Data loaded in 0.8791 seconds, processing\n",
      "Bandpass cleaned in 1.5946 seconds.\n",
      "Stamps filtered in 13.3610 seconds\n",
      "Saving results\n"
     ]
    },
    {
     "name": "stderr",
     "output_type": "stream",
     "text": [
      " 80%|████████  | 81/101 [22:17<05:31, 16.58s/it]"
     ]
    },
    {
     "name": "stdout",
     "output_type": "stream",
     "text": [
      "Results aggregated in 0.2091 seconds\n",
      "Processing coarse channels 243-246\n",
      "Data loaded in 0.8489 seconds, processing\n",
      "Bandpass cleaned in 1.6971 seconds.\n",
      "Stamps filtered in 13.9346 seconds\n",
      "Saving results\n",
      "Results aggregated in 0.1056 seconds\n",
      "Processing coarse channels 246-249\n"
     ]
    },
    {
     "name": "stderr",
     "output_type": "stream",
     "text": [
      " 81%|████████  | 82/101 [22:34<05:15, 16.58s/it]"
     ]
    },
    {
     "name": "stdout",
     "output_type": "stream",
     "text": [
      "Data loaded in 1.0256 seconds, processing\n",
      "Bandpass cleaned in 1.6146 seconds.\n",
      "Stamps filtered in 14.0338 seconds\n",
      "Saving results\n",
      "Results aggregated in 0.0696 seconds\n",
      "Processing coarse channels 249-252\n"
     ]
    },
    {
     "name": "stderr",
     "output_type": "stream",
     "text": [
      " 82%|████████▏ | 83/101 [22:51<04:59, 16.63s/it]"
     ]
    },
    {
     "name": "stdout",
     "output_type": "stream",
     "text": [
      "Data loaded in 0.8835 seconds, processing\n",
      "Bandpass cleaned in 1.6112 seconds.\n",
      "Stamps filtered in 13.4641 seconds\n",
      "Saving results\n",
      "Results aggregated in 0.1026 seconds\n",
      "Processing coarse channels 252-255\n"
     ]
    },
    {
     "name": "stderr",
     "output_type": "stream",
     "text": [
      " 83%|████████▎ | 84/101 [23:07<04:39, 16.46s/it]"
     ]
    },
    {
     "name": "stdout",
     "output_type": "stream",
     "text": [
      "Data loaded in 0.9079 seconds, processing\n",
      "Bandpass cleaned in 1.7408 seconds.\n",
      "Stamps filtered in 13.7442 seconds\n",
      "Saving results\n",
      "Results aggregated in 0.1029 seconds\n",
      "Processing coarse channels 255-258\n"
     ]
    },
    {
     "name": "stderr",
     "output_type": "stream",
     "text": [
      " 84%|████████▍ | 85/101 [23:23<04:23, 16.48s/it]"
     ]
    },
    {
     "name": "stdout",
     "output_type": "stream",
     "text": [
      "Data loaded in 0.9966 seconds, processing\n",
      "Bandpass cleaned in 1.6523 seconds.\n",
      "Stamps filtered in 13.8396 seconds\n",
      "Saving results\n",
      "Results aggregated in 0.0626 seconds\n",
      "Processing coarse channels 258-261\n"
     ]
    },
    {
     "name": "stderr",
     "output_type": "stream",
     "text": [
      " 85%|████████▌ | 86/101 [23:40<04:07, 16.50s/it]"
     ]
    },
    {
     "name": "stdout",
     "output_type": "stream",
     "text": [
      "Data loaded in 0.8857 seconds, processing\n",
      "Bandpass cleaned in 1.6516 seconds.\n",
      "Stamps filtered in 13.8884 seconds\n",
      "Saving results\n",
      "Results aggregated in 0.0669 seconds\n",
      "Processing coarse channels 261-264\n"
     ]
    },
    {
     "name": "stderr",
     "output_type": "stream",
     "text": [
      " 86%|████████▌ | 87/101 [23:56<03:51, 16.50s/it]"
     ]
    },
    {
     "name": "stdout",
     "output_type": "stream",
     "text": [
      "Data loaded in 0.9502 seconds, processing\n",
      "Bandpass cleaned in 1.6504 seconds.\n",
      "Stamps filtered in 13.9505 seconds\n",
      "Saving results\n",
      "Results aggregated in 0.0653 seconds\n",
      "Processing coarse channels 264-267\n"
     ]
    },
    {
     "name": "stderr",
     "output_type": "stream",
     "text": [
      " 87%|████████▋ | 88/101 [24:13<03:34, 16.54s/it]"
     ]
    },
    {
     "name": "stdout",
     "output_type": "stream",
     "text": [
      "Data loaded in 0.9457 seconds, processing\n",
      "Bandpass cleaned in 1.6490 seconds.\n",
      "Stamps filtered in 13.7965 seconds\n",
      "Saving results\n",
      "Results aggregated in 0.0721 seconds\n",
      "Processing coarse channels 267-270\n"
     ]
    },
    {
     "name": "stderr",
     "output_type": "stream",
     "text": [
      " 88%|████████▊ | 89/101 [24:29<03:18, 16.52s/it]"
     ]
    },
    {
     "name": "stdout",
     "output_type": "stream",
     "text": [
      "Data loaded in 0.8171 seconds, processing\n",
      "Bandpass cleaned in 1.7195 seconds.\n",
      "Stamps filtered in 14.0957 seconds\n",
      "Saving results\n",
      "Results aggregated in 0.0631 seconds\n",
      "Processing coarse channels 270-273\n"
     ]
    },
    {
     "name": "stderr",
     "output_type": "stream",
     "text": [
      " 89%|████████▉ | 90/101 [24:46<03:02, 16.57s/it]"
     ]
    },
    {
     "name": "stdout",
     "output_type": "stream",
     "text": [
      "Data loaded in 0.9126 seconds, processing\n",
      "Bandpass cleaned in 1.6836 seconds.\n",
      "Stamps filtered in 13.8702 seconds\n",
      "Saving results\n",
      "Results aggregated in 0.0725 seconds\n",
      "Processing coarse channels 273-276\n"
     ]
    },
    {
     "name": "stderr",
     "output_type": "stream",
     "text": [
      " 90%|█████████ | 91/101 [25:03<02:45, 16.56s/it]"
     ]
    },
    {
     "name": "stdout",
     "output_type": "stream",
     "text": [
      "Data loaded in 0.8522 seconds, processing\n",
      "Bandpass cleaned in 1.6702 seconds.\n",
      "Stamps filtered in 13.9658 seconds\n",
      "Saving results\n",
      "Results aggregated in 0.0767 seconds\n",
      "Processing coarse channels 276-279\n"
     ]
    },
    {
     "name": "stderr",
     "output_type": "stream",
     "text": [
      " 91%|█████████ | 92/101 [25:19<02:29, 16.57s/it]"
     ]
    },
    {
     "name": "stdout",
     "output_type": "stream",
     "text": [
      "Data loaded in 0.9325 seconds, processing\n",
      "Bandpass cleaned in 1.6241 seconds.\n",
      "Stamps filtered in 13.6163 seconds\n",
      "Saving results\n",
      "Results aggregated in 0.0689 seconds\n",
      "Processing coarse channels 279-282\n"
     ]
    },
    {
     "name": "stderr",
     "output_type": "stream",
     "text": [
      " 92%|█████████▏| 93/101 [25:35<02:11, 16.47s/it]"
     ]
    },
    {
     "name": "stdout",
     "output_type": "stream",
     "text": [
      "Data loaded in 0.8716 seconds, processing\n",
      "Bandpass cleaned in 1.6966 seconds.\n",
      "Stamps filtered in 14.0848 seconds\n",
      "Saving results\n"
     ]
    },
    {
     "name": "stderr",
     "output_type": "stream",
     "text": [
      " 93%|█████████▎| 94/101 [25:53<01:56, 16.71s/it]"
     ]
    },
    {
     "name": "stdout",
     "output_type": "stream",
     "text": [
      "Results aggregated in 0.5900 seconds\n",
      "Processing coarse channels 282-285\n",
      "Data loaded in 0.8378 seconds, processing\n",
      "Bandpass cleaned in 1.7747 seconds.\n",
      "Stamps filtered in 14.0781 seconds\n",
      "Saving results\n"
     ]
    },
    {
     "name": "stderr",
     "output_type": "stream",
     "text": [
      " 94%|█████████▍| 95/101 [26:10<01:40, 16.77s/it]"
     ]
    },
    {
     "name": "stdout",
     "output_type": "stream",
     "text": [
      "Results aggregated in 0.2124 seconds\n",
      "Processing coarse channels 285-288\n",
      "Data loaded in 0.9438 seconds, processing\n",
      "Bandpass cleaned in 1.9693 seconds.\n",
      "Stamps filtered in 13.9113 seconds\n",
      "Saving results\n",
      "Results aggregated in 0.0730 seconds\n",
      "Processing coarse channels 288-291\n"
     ]
    },
    {
     "name": "stderr",
     "output_type": "stream",
     "text": [
      " 95%|█████████▌| 96/101 [26:26<01:24, 16.81s/it]"
     ]
    },
    {
     "name": "stdout",
     "output_type": "stream",
     "text": [
      "Data loaded in 0.8626 seconds, processing\n",
      "Bandpass cleaned in 1.6625 seconds.\n",
      "Stamps filtered in 13.7555 seconds\n",
      "Saving results\n",
      "Results aggregated in 0.0802 seconds\n",
      "Processing coarse channels 291-294\n"
     ]
    },
    {
     "name": "stderr",
     "output_type": "stream",
     "text": [
      " 96%|█████████▌| 97/101 [26:43<01:06, 16.68s/it]"
     ]
    },
    {
     "name": "stdout",
     "output_type": "stream",
     "text": [
      "Data loaded in 0.9315 seconds, processing\n",
      "Bandpass cleaned in 1.6811 seconds.\n",
      "Stamps filtered in 13.7852 seconds\n",
      "Saving results\n",
      "Results aggregated in 0.1011 seconds\n",
      "Processing coarse channels 294-297\n"
     ]
    },
    {
     "name": "stderr",
     "output_type": "stream",
     "text": [
      " 97%|█████████▋| 98/101 [26:59<00:49, 16.63s/it]"
     ]
    },
    {
     "name": "stdout",
     "output_type": "stream",
     "text": [
      "Data loaded in 0.8214 seconds, processing\n",
      "Bandpass cleaned in 1.6501 seconds.\n",
      "Stamps filtered in 13.8762 seconds\n",
      "Saving results\n",
      "Results aggregated in 0.0776 seconds\n",
      "Processing coarse channels 297-300\n"
     ]
    },
    {
     "name": "stderr",
     "output_type": "stream",
     "text": [
      " 98%|█████████▊| 99/101 [27:16<00:33, 16.57s/it]"
     ]
    },
    {
     "name": "stdout",
     "output_type": "stream",
     "text": [
      "Data loaded in 0.7910 seconds, processing\n",
      "Bandpass cleaned in 1.7756 seconds.\n",
      "Stamps filtered in 13.8620 seconds\n",
      "Saving results\n",
      "Results aggregated in 0.0716 seconds\n",
      "Processing coarse channels 300-303\n"
     ]
    },
    {
     "name": "stderr",
     "output_type": "stream",
     "text": [
      " 99%|█████████▉| 100/101 [27:32<00:16, 16.55s/it]"
     ]
    },
    {
     "name": "stdout",
     "output_type": "stream",
     "text": [
      "Data loaded in 0.7930 seconds, processing\n",
      "Bandpass cleaned in 1.6995 seconds.\n",
      "Stamps filtered in 13.8555 seconds\n",
      "Saving results\n"
     ]
    },
    {
     "name": "stderr",
     "output_type": "stream",
     "text": [
      "100%|██████████| 101/101 [27:49<00:00, 16.53s/it]\n"
     ]
    },
    {
     "name": "stdout",
     "output_type": "stream",
     "text": [
      "Results aggregated in 0.0643 seconds\n",
      "       level_0      index      statistic  pvalue        freqs\n",
      "72603    72603  313064320   28917.115938     0.0  1038.574582\n",
      "72615    72615  314097536   22311.770502     0.0  1035.644894\n",
      "69145    69145  294466432   19675.585884     0.0  1091.308957\n",
      "70946    70946  295499648   17291.017585     0.0  1088.379269\n",
      "8135      8135  107758080  878715.848818     0.0  1620.721127\n",
      "8134      8134  107757952   93768.477931     0.0  1620.721490\n",
      "8136      8136  107758208   26234.547228     0.0  1620.720764\n",
      "28497    28497  134785280   13288.605866     0.0  1544.085409\n",
      "3116      3116   67675520    8052.508138     0.0  1734.375363\n",
      "3117      3117   67675648    8052.502345     0.0  1734.375000\n",
      "3064      3064   50110848    8052.480579     0.0  1784.180050\n",
      "3065      3065   50110976    8052.480254     0.0  1784.179688\n",
      "303 303\n",
      "Finished Energy Detection on GBT_57515_82563_HIP44295_fine.h5 in 1678.0787 seconds\n",
      "/mnt_blpd7/datax/dl/GBT_57515_82909_HIP43412_fine.h5\n",
      "Header saved to ../../../../../../datax/scratch/pma/reverse_search/train/HIP44295-23/GBT_57515_82909_HIP43412_fine/header.pkl\n",
      "Processing 3 in parallel\n",
      "Processing coarse channels 0-3\n"
     ]
    },
    {
     "name": "stderr",
     "output_type": "stream",
     "text": [
      "  0%|          | 0/101 [00:00<?, ?it/s]"
     ]
    },
    {
     "name": "stdout",
     "output_type": "stream",
     "text": [
      "Data loaded in 1.4936 seconds, processing\n",
      "Bandpass cleaned in 1.5981 seconds.\n",
      "Stamps filtered in 14.5237 seconds\n",
      "Saving results\n"
     ]
    },
    {
     "name": "stderr",
     "output_type": "stream",
     "text": [
      "  1%|          | 1/101 [00:18<30:06, 18.07s/it]"
     ]
    },
    {
     "name": "stdout",
     "output_type": "stream",
     "text": [
      "Results aggregated in 0.4395 seconds\n",
      "Processing coarse channels 3-6\n",
      "Data loaded in 1.2380 seconds, processing\n",
      "Bandpass cleaned in 1.6775 seconds.\n",
      "Stamps filtered in 14.5593 seconds\n",
      "Saving results\n",
      "Results aggregated in 0.0463 seconds\n",
      "Processing coarse channels 6-9\n"
     ]
    },
    {
     "name": "stderr",
     "output_type": "stream",
     "text": [
      "  2%|▏         | 2/101 [00:35<29:17, 17.75s/it]"
     ]
    },
    {
     "name": "stdout",
     "output_type": "stream",
     "text": [
      "Data loaded in 0.9425 seconds, processing\n",
      "Bandpass cleaned in 1.5618 seconds.\n",
      "Stamps filtered in 14.7254 seconds\n",
      "Saving results\n",
      "Results aggregated in 0.0357 seconds\n",
      "Processing coarse channels 9-12\n"
     ]
    },
    {
     "name": "stderr",
     "output_type": "stream",
     "text": [
      "  3%|▎         | 3/101 [00:52<28:38, 17.53s/it]"
     ]
    },
    {
     "name": "stdout",
     "output_type": "stream",
     "text": [
      "Data loaded in 0.7644 seconds, processing\n",
      "Bandpass cleaned in 1.6711 seconds.\n",
      "Stamps filtered in 14.4248 seconds\n",
      "Saving results\n",
      "Results aggregated in 0.0379 seconds\n",
      "Processing coarse channels 12-15\n"
     ]
    },
    {
     "name": "stderr",
     "output_type": "stream",
     "text": [
      "  4%|▍         | 4/101 [01:09<27:56, 17.28s/it]"
     ]
    },
    {
     "name": "stdout",
     "output_type": "stream",
     "text": [
      "Data loaded in 0.9117 seconds, processing\n",
      "Bandpass cleaned in 1.6605 seconds.\n",
      "Stamps filtered in 14.7849 seconds\n",
      "Saving results\n",
      "Results aggregated in 0.0360 seconds\n",
      "Processing coarse channels 15-18\n"
     ]
    },
    {
     "name": "stderr",
     "output_type": "stream",
     "text": [
      "  5%|▍         | 5/101 [01:27<27:43, 17.33s/it]"
     ]
    },
    {
     "name": "stdout",
     "output_type": "stream",
     "text": [
      "Data loaded in 0.7839 seconds, processing\n",
      "Bandpass cleaned in 1.6452 seconds.\n",
      "Stamps filtered in 14.4540 seconds\n",
      "Saving results\n",
      "Results aggregated in 0.0372 seconds\n",
      "Processing coarse channels 18-21\n"
     ]
    },
    {
     "name": "stderr",
     "output_type": "stream",
     "text": [
      "  6%|▌         | 6/101 [01:44<27:13, 17.19s/it]"
     ]
    },
    {
     "name": "stdout",
     "output_type": "stream",
     "text": [
      "Data loaded in 0.7943 seconds, processing\n",
      "Bandpass cleaned in 1.5521 seconds.\n",
      "Stamps filtered in 14.4139 seconds\n",
      "Saving results\n",
      "Results aggregated in 0.0356 seconds\n",
      "Processing coarse channels 21-24\n"
     ]
    },
    {
     "name": "stderr",
     "output_type": "stream",
     "text": [
      "  7%|▋         | 7/101 [02:00<26:44, 17.06s/it]"
     ]
    },
    {
     "name": "stdout",
     "output_type": "stream",
     "text": [
      "Data loaded in 0.7887 seconds, processing\n",
      "Bandpass cleaned in 1.5980 seconds.\n",
      "Stamps filtered in 14.4409 seconds\n",
      "Saving results\n",
      "Results aggregated in 0.0356 seconds\n",
      "Processing coarse channels 24-27\n"
     ]
    },
    {
     "name": "stderr",
     "output_type": "stream",
     "text": [
      "  8%|▊         | 8/101 [02:17<26:21, 17.00s/it]"
     ]
    },
    {
     "name": "stdout",
     "output_type": "stream",
     "text": [
      "Data loaded in 0.7968 seconds, processing\n",
      "Bandpass cleaned in 1.7639 seconds.\n",
      "Stamps filtered in 14.3317 seconds\n",
      "Saving results\n",
      "Results aggregated in 0.0370 seconds\n",
      "Processing coarse channels 27-30\n"
     ]
    },
    {
     "name": "stderr",
     "output_type": "stream",
     "text": [
      "  9%|▉         | 9/101 [02:34<26:02, 16.98s/it]"
     ]
    },
    {
     "name": "stdout",
     "output_type": "stream",
     "text": [
      "Data loaded in 0.8558 seconds, processing\n",
      "Bandpass cleaned in 1.6073 seconds.\n",
      "Stamps filtered in 14.2094 seconds\n",
      "Saving results\n",
      "Results aggregated in 0.0345 seconds\n",
      "Processing coarse channels 30-33\n"
     ]
    },
    {
     "name": "stderr",
     "output_type": "stream",
     "text": [
      " 10%|▉         | 10/101 [02:51<25:37, 16.90s/it]"
     ]
    },
    {
     "name": "stdout",
     "output_type": "stream",
     "text": [
      "Data loaded in 0.7962 seconds, processing\n",
      "Bandpass cleaned in 1.5396 seconds.\n",
      "Stamps filtered in 14.5599 seconds\n",
      "Saving results\n",
      "Results aggregated in 0.0362 seconds\n",
      "Processing coarse channels 33-36\n"
     ]
    },
    {
     "name": "stderr",
     "output_type": "stream",
     "text": [
      " 11%|█         | 11/101 [03:08<25:22, 16.91s/it]"
     ]
    },
    {
     "name": "stdout",
     "output_type": "stream",
     "text": [
      "Data loaded in 0.7609 seconds, processing\n",
      "Bandpass cleaned in 1.7125 seconds.\n",
      "Stamps filtered in 14.4212 seconds\n",
      "Saving results\n",
      "Results aggregated in 0.0377 seconds\n",
      "Processing coarse channels 36-39\n"
     ]
    },
    {
     "name": "stderr",
     "output_type": "stream",
     "text": [
      " 12%|█▏        | 12/101 [03:25<25:05, 16.92s/it]"
     ]
    },
    {
     "name": "stdout",
     "output_type": "stream",
     "text": [
      "Data loaded in 0.7737 seconds, processing\n",
      "Bandpass cleaned in 1.5840 seconds.\n",
      "Stamps filtered in 14.7829 seconds\n",
      "Saving results\n",
      "Results aggregated in 0.0386 seconds\n",
      "Processing coarse channels 39-42\n"
     ]
    },
    {
     "name": "stderr",
     "output_type": "stream",
     "text": [
      " 13%|█▎        | 13/101 [03:42<24:56, 17.00s/it]"
     ]
    },
    {
     "name": "stdout",
     "output_type": "stream",
     "text": [
      "Data loaded in 0.8980 seconds, processing\n",
      "Bandpass cleaned in 1.6310 seconds.\n",
      "Stamps filtered in 14.5818 seconds\n",
      "Saving results\n",
      "Results aggregated in 0.0366 seconds\n",
      "Processing coarse channels 42-45\n"
     ]
    },
    {
     "name": "stderr",
     "output_type": "stream",
     "text": [
      " 14%|█▍        | 14/101 [03:59<24:43, 17.05s/it]"
     ]
    },
    {
     "name": "stdout",
     "output_type": "stream",
     "text": [
      "Data loaded in 0.8176 seconds, processing\n",
      "Bandpass cleaned in 1.6578 seconds.\n",
      "Stamps filtered in 14.4017 seconds\n",
      "Saving results\n",
      "Results aggregated in 0.0368 seconds\n",
      "Processing coarse channels 45-48\n"
     ]
    },
    {
     "name": "stderr",
     "output_type": "stream",
     "text": [
      " 15%|█▍        | 15/101 [04:16<24:22, 17.01s/it]"
     ]
    },
    {
     "name": "stdout",
     "output_type": "stream",
     "text": [
      "Data loaded in 0.7769 seconds, processing\n",
      "Bandpass cleaned in 1.6386 seconds.\n",
      "Stamps filtered in 14.4253 seconds\n",
      "Saving results\n",
      "Results aggregated in 0.0390 seconds\n",
      "Processing coarse channels 48-51\n"
     ]
    },
    {
     "name": "stderr",
     "output_type": "stream",
     "text": [
      " 16%|█▌        | 16/101 [04:33<24:02, 16.97s/it]"
     ]
    },
    {
     "name": "stdout",
     "output_type": "stream",
     "text": [
      "Data loaded in 0.8051 seconds, processing\n",
      "Bandpass cleaned in 1.6001 seconds.\n",
      "Stamps filtered in 14.3458 seconds\n",
      "Saving results\n",
      "Results aggregated in 0.0374 seconds\n",
      "Processing coarse channels 51-54\n"
     ]
    },
    {
     "name": "stderr",
     "output_type": "stream",
     "text": [
      " 17%|█▋        | 17/101 [04:50<23:41, 16.92s/it]"
     ]
    },
    {
     "name": "stdout",
     "output_type": "stream",
     "text": [
      "Data loaded in 0.8874 seconds, processing\n",
      "Bandpass cleaned in 1.6234 seconds.\n",
      "Stamps filtered in 14.5279 seconds\n",
      "Saving results\n",
      "Results aggregated in 0.0375 seconds\n",
      "Processing coarse channels 54-57\n"
     ]
    },
    {
     "name": "stderr",
     "output_type": "stream",
     "text": [
      " 18%|█▊        | 18/101 [05:07<23:28, 16.97s/it]"
     ]
    },
    {
     "name": "stdout",
     "output_type": "stream",
     "text": [
      "Data loaded in 0.7767 seconds, processing\n",
      "Bandpass cleaned in 1.7310 seconds.\n",
      "Stamps filtered in 14.4550 seconds\n",
      "Saving results\n",
      "Results aggregated in 0.0364 seconds\n",
      "Processing coarse channels 57-60\n"
     ]
    },
    {
     "name": "stderr",
     "output_type": "stream",
     "text": [
      " 19%|█▉        | 19/101 [05:24<23:12, 16.98s/it]"
     ]
    },
    {
     "name": "stdout",
     "output_type": "stream",
     "text": [
      "Data loaded in 0.8658 seconds, processing\n",
      "Bandpass cleaned in 1.6186 seconds.\n",
      "Stamps filtered in 14.3083 seconds\n",
      "Saving results\n",
      "Results aggregated in 0.0351 seconds\n",
      "Processing coarse channels 60-63\n"
     ]
    },
    {
     "name": "stderr",
     "output_type": "stream",
     "text": [
      " 20%|█▉        | 20/101 [05:41<22:51, 16.94s/it]"
     ]
    },
    {
     "name": "stdout",
     "output_type": "stream",
     "text": [
      "Data loaded in 0.8650 seconds, processing\n",
      "Bandpass cleaned in 1.6467 seconds.\n",
      "Stamps filtered in 14.4718 seconds\n",
      "Saving results\n",
      "Results aggregated in 0.0379 seconds\n",
      "Processing coarse channels 63-66\n"
     ]
    },
    {
     "name": "stderr",
     "output_type": "stream",
     "text": [
      " 21%|██        | 21/101 [05:58<22:37, 16.96s/it]"
     ]
    },
    {
     "name": "stdout",
     "output_type": "stream",
     "text": [
      "Data loaded in 0.7851 seconds, processing\n",
      "Bandpass cleaned in 1.6010 seconds.\n",
      "Stamps filtered in 14.2837 seconds\n",
      "Saving results\n",
      "Results aggregated in 0.0374 seconds\n",
      "Processing coarse channels 66-69\n"
     ]
    },
    {
     "name": "stderr",
     "output_type": "stream",
     "text": [
      " 22%|██▏       | 22/101 [06:14<22:14, 16.89s/it]"
     ]
    },
    {
     "name": "stdout",
     "output_type": "stream",
     "text": [
      "Data loaded in 0.8718 seconds, processing\n",
      "Bandpass cleaned in 1.6950 seconds.\n",
      "Stamps filtered in 14.5887 seconds\n",
      "Saving results\n",
      "Results aggregated in 0.0368 seconds\n",
      "Processing coarse channels 69-72\n"
     ]
    },
    {
     "name": "stderr",
     "output_type": "stream",
     "text": [
      " 23%|██▎       | 23/101 [06:32<22:04, 16.98s/it]"
     ]
    },
    {
     "name": "stdout",
     "output_type": "stream",
     "text": [
      "Data loaded in 0.8138 seconds, processing\n",
      "Bandpass cleaned in 1.5973 seconds.\n",
      "Stamps filtered in 14.1897 seconds\n",
      "Saving results\n",
      "Results aggregated in 0.0365 seconds\n",
      "Processing coarse channels 72-75\n"
     ]
    },
    {
     "name": "stderr",
     "output_type": "stream",
     "text": [
      " 24%|██▍       | 24/101 [06:48<21:39, 16.88s/it]"
     ]
    },
    {
     "name": "stdout",
     "output_type": "stream",
     "text": [
      "Data loaded in 0.8855 seconds, processing\n",
      "Bandpass cleaned in 1.6442 seconds.\n",
      "Stamps filtered in 14.4017 seconds\n",
      "Saving results\n",
      "Results aggregated in 0.0367 seconds\n",
      "Processing coarse channels 75-78\n"
     ]
    },
    {
     "name": "stderr",
     "output_type": "stream",
     "text": [
      " 25%|██▍       | 25/101 [07:05<21:25, 16.91s/it]"
     ]
    },
    {
     "name": "stdout",
     "output_type": "stream",
     "text": [
      "Data loaded in 0.8859 seconds, processing\n",
      "Bandpass cleaned in 1.7520 seconds.\n",
      "Stamps filtered in 14.0931 seconds\n",
      "Saving results\n",
      "Results aggregated in 0.0620 seconds\n",
      "Processing coarse channels 78-81\n"
     ]
    },
    {
     "name": "stderr",
     "output_type": "stream",
     "text": [
      " 26%|██▌       | 26/101 [07:22<21:05, 16.88s/it]"
     ]
    },
    {
     "name": "stdout",
     "output_type": "stream",
     "text": [
      "Data loaded in 0.7926 seconds, processing\n",
      "Bandpass cleaned in 1.6367 seconds.\n",
      "Stamps filtered in 14.0457 seconds\n",
      "Saving results\n",
      "Results aggregated in 0.1191 seconds\n",
      "Processing coarse channels 81-84\n"
     ]
    },
    {
     "name": "stderr",
     "output_type": "stream",
     "text": [
      " 27%|██▋       | 27/101 [07:39<20:42, 16.79s/it]"
     ]
    },
    {
     "name": "stdout",
     "output_type": "stream",
     "text": [
      "Data loaded in 0.8589 seconds, processing\n",
      "Bandpass cleaned in 1.6720 seconds.\n",
      "Stamps filtered in 14.5156 seconds\n",
      "Saving results\n",
      "Results aggregated in 0.1049 seconds\n",
      "Processing coarse channels 84-87\n"
     ]
    },
    {
     "name": "stderr",
     "output_type": "stream",
     "text": [
      " 28%|██▊       | 28/101 [07:56<20:34, 16.90s/it]"
     ]
    },
    {
     "name": "stdout",
     "output_type": "stream",
     "text": [
      "Data loaded in 0.7865 seconds, processing\n",
      "Bandpass cleaned in 1.6676 seconds.\n",
      "Stamps filtered in 14.4194 seconds\n",
      "Saving results\n",
      "Results aggregated in 0.0485 seconds\n",
      "Processing coarse channels 87-90\n"
     ]
    },
    {
     "name": "stderr",
     "output_type": "stream",
     "text": [
      " 29%|██▊       | 29/101 [08:13<20:17, 16.91s/it]"
     ]
    },
    {
     "name": "stdout",
     "output_type": "stream",
     "text": [
      "Data loaded in 0.8025 seconds, processing\n",
      "Bandpass cleaned in 1.6013 seconds.\n",
      "Stamps filtered in 14.2444 seconds\n",
      "Saving results\n",
      "Results aggregated in 0.0430 seconds\n",
      "Processing coarse channels 90-93\n"
     ]
    },
    {
     "name": "stderr",
     "output_type": "stream",
     "text": [
      " 30%|██▉       | 30/101 [08:29<19:56, 16.85s/it]"
     ]
    },
    {
     "name": "stdout",
     "output_type": "stream",
     "text": [
      "Data loaded in 0.8147 seconds, processing\n",
      "Bandpass cleaned in 1.6760 seconds.\n",
      "Stamps filtered in 14.4774 seconds\n",
      "Saving results\n",
      "Results aggregated in 0.0434 seconds\n",
      "Processing coarse channels 93-96\n"
     ]
    },
    {
     "name": "stderr",
     "output_type": "stream",
     "text": [
      " 31%|███       | 31/101 [08:46<19:42, 16.90s/it]"
     ]
    },
    {
     "name": "stdout",
     "output_type": "stream",
     "text": [
      "Data loaded in 0.7789 seconds, processing\n",
      "Bandpass cleaned in 1.6324 seconds.\n",
      "Stamps filtered in 14.6651 seconds\n",
      "Saving results\n",
      "Results aggregated in 0.0419 seconds\n",
      "Processing coarse channels 96-99\n"
     ]
    },
    {
     "name": "stderr",
     "output_type": "stream",
     "text": [
      " 32%|███▏      | 32/101 [09:04<19:30, 16.97s/it]"
     ]
    },
    {
     "name": "stdout",
     "output_type": "stream",
     "text": [
      "Data loaded in 0.8539 seconds, processing\n",
      "Bandpass cleaned in 1.6157 seconds.\n",
      "Stamps filtered in 14.2839 seconds\n",
      "Saving results\n",
      "Results aggregated in 0.0425 seconds\n",
      "Processing coarse channels 99-102\n"
     ]
    },
    {
     "name": "stderr",
     "output_type": "stream",
     "text": [
      " 33%|███▎      | 33/101 [09:20<19:10, 16.92s/it]"
     ]
    },
    {
     "name": "stdout",
     "output_type": "stream",
     "text": [
      "Data loaded in 0.8276 seconds, processing\n",
      "Bandpass cleaned in 1.6911 seconds.\n",
      "Stamps filtered in 14.5671 seconds\n",
      "Saving results\n"
     ]
    },
    {
     "name": "stderr",
     "output_type": "stream",
     "text": [
      " 34%|███▎      | 34/101 [09:38<19:02, 17.05s/it]"
     ]
    },
    {
     "name": "stdout",
     "output_type": "stream",
     "text": [
      "Results aggregated in 0.2514 seconds\n",
      "Processing coarse channels 102-105\n",
      "Data loaded in 0.7875 seconds, processing\n",
      "Bandpass cleaned in 1.6661 seconds.\n",
      "Stamps filtered in 14.4840 seconds\n",
      "Saving results\n"
     ]
    },
    {
     "name": "stderr",
     "output_type": "stream",
     "text": [
      " 35%|███▍      | 35/101 [09:55<18:51, 17.14s/it]"
     ]
    },
    {
     "name": "stdout",
     "output_type": "stream",
     "text": [
      "Results aggregated in 0.4122 seconds\n",
      "Processing coarse channels 105-108\n",
      "Data loaded in 0.8192 seconds, processing\n",
      "Bandpass cleaned in 1.7681 seconds.\n",
      "Stamps filtered in 14.3568 seconds\n",
      "Saving results\n",
      "Results aggregated in 0.0519 seconds\n",
      "Processing coarse channels 108-111\n"
     ]
    },
    {
     "name": "stderr",
     "output_type": "stream",
     "text": [
      " 36%|███▌      | 36/101 [10:12<18:31, 17.10s/it]"
     ]
    },
    {
     "name": "stdout",
     "output_type": "stream",
     "text": [
      "Data loaded in 0.7949 seconds, processing\n",
      "Bandpass cleaned in 1.5859 seconds.\n",
      "Stamps filtered in 14.6224 seconds\n",
      "Saving results\n"
     ]
    },
    {
     "name": "stderr",
     "output_type": "stream",
     "text": [
      " 37%|███▋      | 37/101 [10:30<18:22, 17.22s/it]"
     ]
    },
    {
     "name": "stdout",
     "output_type": "stream",
     "text": [
      "Results aggregated in 0.4768 seconds\n",
      "Processing coarse channels 111-114\n",
      "Data loaded in 0.8840 seconds, processing\n",
      "Bandpass cleaned in 1.9019 seconds.\n",
      "Stamps filtered in 14.6271 seconds\n",
      "Saving results\n",
      "Results aggregated in 0.1525 seconds\n",
      "Processing coarse channels 114-117\n"
     ]
    },
    {
     "name": "stderr",
     "output_type": "stream",
     "text": [
      " 38%|███▊      | 38/101 [10:47<18:11, 17.33s/it]"
     ]
    },
    {
     "name": "stdout",
     "output_type": "stream",
     "text": [
      "Data loaded in 0.8375 seconds, processing\n",
      "Bandpass cleaned in 1.6778 seconds.\n",
      "Stamps filtered in 14.6345 seconds\n",
      "Saving results\n",
      "Results aggregated in 0.0505 seconds\n",
      "Processing coarse channels 117-120\n"
     ]
    },
    {
     "name": "stderr",
     "output_type": "stream",
     "text": [
      " 39%|███▊      | 39/101 [11:04<17:51, 17.29s/it]"
     ]
    },
    {
     "name": "stdout",
     "output_type": "stream",
     "text": [
      "Data loaded in 0.8241 seconds, processing\n",
      "Bandpass cleaned in 1.6332 seconds.\n",
      "Stamps filtered in 14.4095 seconds\n",
      "Saving results\n"
     ]
    },
    {
     "name": "stderr",
     "output_type": "stream",
     "text": [
      " 40%|███▉      | 40/101 [11:22<17:35, 17.31s/it]"
     ]
    },
    {
     "name": "stdout",
     "output_type": "stream",
     "text": [
      "Results aggregated in 0.4801 seconds\n",
      "Processing coarse channels 120-123\n",
      "Data loaded in 0.8235 seconds, processing\n",
      "Bandpass cleaned in 1.6836 seconds.\n",
      "Stamps filtered in 14.2636 seconds\n",
      "Saving results\n",
      "Results aggregated in 0.0618 seconds\n",
      "Processing coarse channels 123-126\n"
     ]
    },
    {
     "name": "stderr",
     "output_type": "stream",
     "text": [
      " 41%|████      | 41/101 [11:39<17:10, 17.17s/it]"
     ]
    },
    {
     "name": "stdout",
     "output_type": "stream",
     "text": [
      "Data loaded in 0.7743 seconds, processing\n",
      "Bandpass cleaned in 1.6210 seconds.\n",
      "Stamps filtered in 14.4310 seconds\n",
      "Saving results\n"
     ]
    },
    {
     "name": "stderr",
     "output_type": "stream",
     "text": [
      " 42%|████▏     | 42/101 [11:56<17:00, 17.29s/it]"
     ]
    },
    {
     "name": "stdout",
     "output_type": "stream",
     "text": [
      "Results aggregated in 0.7393 seconds\n",
      "Processing coarse channels 126-129\n",
      "Data loaded in 0.8437 seconds, processing\n",
      "Bandpass cleaned in 1.7091 seconds.\n",
      "Stamps filtered in 14.4128 seconds\n",
      "Saving results\n"
     ]
    },
    {
     "name": "stderr",
     "output_type": "stream",
     "text": [
      " 43%|████▎     | 43/101 [12:14<16:48, 17.38s/it]"
     ]
    },
    {
     "name": "stdout",
     "output_type": "stream",
     "text": [
      "Results aggregated in 0.6163 seconds\n",
      "Processing coarse channels 129-132\n",
      "Data loaded in 0.7946 seconds, processing\n",
      "Bandpass cleaned in 1.8089 seconds.\n",
      "Stamps filtered in 14.9491 seconds\n",
      "Saving results\n"
     ]
    },
    {
     "name": "stderr",
     "output_type": "stream",
     "text": [
      " 44%|████▎     | 44/101 [12:32<16:43, 17.61s/it]"
     ]
    },
    {
     "name": "stdout",
     "output_type": "stream",
     "text": [
      "Results aggregated in 0.5715 seconds\n",
      "Processing coarse channels 132-135\n",
      "Data loaded in 0.9177 seconds, processing\n",
      "Bandpass cleaned in 1.7765 seconds.\n",
      "Stamps filtered in 14.4882 seconds\n",
      "Saving results\n"
     ]
    },
    {
     "name": "stderr",
     "output_type": "stream",
     "text": [
      " 45%|████▍     | 45/101 [12:50<16:30, 17.69s/it]"
     ]
    },
    {
     "name": "stdout",
     "output_type": "stream",
     "text": [
      "Results aggregated in 0.6652 seconds\n",
      "Processing coarse channels 135-138\n",
      "Data loaded in 0.9223 seconds, processing\n",
      "Bandpass cleaned in 2.0757 seconds.\n",
      "Stamps filtered in 14.7781 seconds\n",
      "Saving results\n",
      "Results aggregated in 0.0781 seconds\n",
      "Processing coarse channels 138-141\n"
     ]
    },
    {
     "name": "stderr",
     "output_type": "stream",
     "text": [
      " 46%|████▌     | 46/101 [13:08<16:15, 17.74s/it]"
     ]
    },
    {
     "name": "stdout",
     "output_type": "stream",
     "text": [
      "Data loaded in 0.8418 seconds, processing\n",
      "Bandpass cleaned in 1.6869 seconds.\n",
      "Stamps filtered in 14.4006 seconds\n",
      "Saving results\n",
      "Results aggregated in 0.0454 seconds\n",
      "Processing coarse channels 141-144\n"
     ]
    },
    {
     "name": "stderr",
     "output_type": "stream",
     "text": [
      " 47%|████▋     | 47/101 [13:25<15:45, 17.51s/it]"
     ]
    },
    {
     "name": "stdout",
     "output_type": "stream",
     "text": [
      "Data loaded in 0.8962 seconds, processing\n",
      "Bandpass cleaned in 1.8192 seconds.\n",
      "Stamps filtered in 14.4237 seconds\n",
      "Saving results\n",
      "Results aggregated in 0.0521 seconds\n",
      "Processing coarse channels 144-147\n"
     ]
    },
    {
     "name": "stderr",
     "output_type": "stream",
     "text": [
      " 48%|████▊     | 48/101 [13:42<15:23, 17.42s/it]"
     ]
    },
    {
     "name": "stdout",
     "output_type": "stream",
     "text": [
      "Data loaded in 0.8037 seconds, processing\n",
      "Bandpass cleaned in 1.6733 seconds.\n",
      "Stamps filtered in 14.2026 seconds\n",
      "Saving results\n",
      "Results aggregated in 0.0552 seconds\n",
      "Processing coarse channels 147-150\n"
     ]
    },
    {
     "name": "stderr",
     "output_type": "stream",
     "text": [
      " 49%|████▊     | 49/101 [13:59<14:55, 17.22s/it]"
     ]
    },
    {
     "name": "stdout",
     "output_type": "stream",
     "text": [
      "Data loaded in 0.8053 seconds, processing\n",
      "Bandpass cleaned in 1.7046 seconds.\n",
      "Stamps filtered in 14.3603 seconds\n",
      "Saving results\n",
      "Results aggregated in 0.0534 seconds\n",
      "Processing coarse channels 150-153\n"
     ]
    },
    {
     "name": "stderr",
     "output_type": "stream",
     "text": [
      " 50%|████▉     | 50/101 [14:15<14:33, 17.13s/it]"
     ]
    },
    {
     "name": "stdout",
     "output_type": "stream",
     "text": [
      "Data loaded in 0.7948 seconds, processing\n",
      "Bandpass cleaned in 1.6156 seconds.\n",
      "Stamps filtered in 14.5950 seconds\n",
      "Saving results\n",
      "Results aggregated in 0.0487 seconds\n",
      "Processing coarse channels 153-156\n"
     ]
    },
    {
     "name": "stderr",
     "output_type": "stream",
     "text": [
      " 50%|█████     | 51/101 [14:33<14:15, 17.11s/it]"
     ]
    },
    {
     "name": "stdout",
     "output_type": "stream",
     "text": [
      "Data loaded in 0.8319 seconds, processing\n",
      "Bandpass cleaned in 1.7328 seconds.\n",
      "Stamps filtered in 14.6494 seconds\n",
      "Saving results\n",
      "Results aggregated in 0.0512 seconds\n",
      "Processing coarse channels 156-159\n"
     ]
    },
    {
     "name": "stderr",
     "output_type": "stream",
     "text": [
      " 51%|█████▏    | 52/101 [14:50<14:00, 17.16s/it]"
     ]
    },
    {
     "name": "stdout",
     "output_type": "stream",
     "text": [
      "Data loaded in 0.8103 seconds, processing\n",
      "Bandpass cleaned in 1.6484 seconds.\n",
      "Stamps filtered in 14.6848 seconds\n",
      "Saving results\n",
      "Results aggregated in 0.0499 seconds\n",
      "Processing coarse channels 159-162\n"
     ]
    },
    {
     "name": "stderr",
     "output_type": "stream",
     "text": [
      " 52%|█████▏    | 53/101 [15:07<13:44, 17.17s/it]"
     ]
    },
    {
     "name": "stdout",
     "output_type": "stream",
     "text": [
      "Data loaded in 0.7621 seconds, processing\n",
      "Bandpass cleaned in 1.6570 seconds.\n",
      "Stamps filtered in 14.6313 seconds\n",
      "Saving results\n",
      "Results aggregated in 0.0542 seconds\n",
      "Processing coarse channels 162-165\n"
     ]
    },
    {
     "name": "stderr",
     "output_type": "stream",
     "text": [
      " 53%|█████▎    | 54/101 [15:24<13:26, 17.15s/it]"
     ]
    },
    {
     "name": "stdout",
     "output_type": "stream",
     "text": [
      "Data loaded in 0.8850 seconds, processing\n",
      "Bandpass cleaned in 1.6213 seconds.\n",
      "Stamps filtered in 14.1890 seconds\n",
      "Saving results\n",
      "Results aggregated in 0.0545 seconds\n",
      "Processing coarse channels 165-168\n"
     ]
    },
    {
     "name": "stderr",
     "output_type": "stream",
     "text": [
      " 54%|█████▍    | 55/101 [15:41<13:03, 17.03s/it]"
     ]
    },
    {
     "name": "stdout",
     "output_type": "stream",
     "text": [
      "Data loaded in 0.9323 seconds, processing\n",
      "Bandpass cleaned in 1.6442 seconds.\n",
      "Stamps filtered in 14.7084 seconds\n",
      "Saving results\n",
      "Results aggregated in 0.0547 seconds\n",
      "Processing coarse channels 168-171\n"
     ]
    },
    {
     "name": "stderr",
     "output_type": "stream",
     "text": [
      " 55%|█████▌    | 56/101 [15:58<12:50, 17.13s/it]"
     ]
    },
    {
     "name": "stdout",
     "output_type": "stream",
     "text": [
      "Data loaded in 0.8951 seconds, processing\n",
      "Bandpass cleaned in 1.6654 seconds.\n",
      "Stamps filtered in 14.4299 seconds\n",
      "Saving results\n",
      "Results aggregated in 0.0556 seconds\n",
      "Processing coarse channels 171-174\n"
     ]
    },
    {
     "name": "stderr",
     "output_type": "stream",
     "text": [
      " 56%|█████▋    | 57/101 [16:15<12:32, 17.11s/it]"
     ]
    },
    {
     "name": "stdout",
     "output_type": "stream",
     "text": [
      "Data loaded in 0.8286 seconds, processing\n",
      "Bandpass cleaned in 1.6867 seconds.\n",
      "Stamps filtered in 14.3459 seconds\n",
      "Saving results\n",
      "Results aggregated in 0.0525 seconds\n",
      "Processing coarse channels 174-177\n"
     ]
    },
    {
     "name": "stderr",
     "output_type": "stream",
     "text": [
      " 57%|█████▋    | 58/101 [16:32<12:13, 17.05s/it]"
     ]
    },
    {
     "name": "stdout",
     "output_type": "stream",
     "text": [
      "Data loaded in 0.9053 seconds, processing\n",
      "Bandpass cleaned in 1.6544 seconds.\n",
      "Stamps filtered in 14.5335 seconds\n",
      "Saving results\n",
      "Results aggregated in 0.0533 seconds\n",
      "Processing coarse channels 177-180\n"
     ]
    },
    {
     "name": "stderr",
     "output_type": "stream",
     "text": [
      " 58%|█████▊    | 59/101 [16:49<11:57, 17.08s/it]"
     ]
    },
    {
     "name": "stdout",
     "output_type": "stream",
     "text": [
      "Data loaded in 0.8033 seconds, processing\n",
      "Bandpass cleaned in 1.7392 seconds.\n",
      "Stamps filtered in 14.6097 seconds\n",
      "Saving results\n",
      "Results aggregated in 0.0528 seconds\n",
      "Processing coarse channels 180-183\n"
     ]
    },
    {
     "name": "stderr",
     "output_type": "stream",
     "text": [
      " 59%|█████▉    | 60/101 [17:07<11:41, 17.12s/it]"
     ]
    },
    {
     "name": "stdout",
     "output_type": "stream",
     "text": [
      "Data loaded in 0.9910 seconds, processing\n",
      "Bandpass cleaned in 1.7013 seconds.\n",
      "Stamps filtered in 14.5154 seconds\n",
      "Saving results\n",
      "Results aggregated in 0.0542 seconds\n",
      "Processing coarse channels 183-186\n"
     ]
    },
    {
     "name": "stderr",
     "output_type": "stream",
     "text": [
      " 60%|██████    | 61/101 [17:24<11:26, 17.17s/it]"
     ]
    },
    {
     "name": "stdout",
     "output_type": "stream",
     "text": [
      "Data loaded in 0.7614 seconds, processing\n",
      "Bandpass cleaned in 1.6541 seconds.\n",
      "Stamps filtered in 14.7677 seconds\n",
      "Saving results\n",
      "Results aggregated in 0.0550 seconds\n",
      "Processing coarse channels 186-189\n"
     ]
    },
    {
     "name": "stderr",
     "output_type": "stream",
     "text": [
      " 61%|██████▏   | 62/101 [17:41<11:10, 17.19s/it]"
     ]
    },
    {
     "name": "stdout",
     "output_type": "stream",
     "text": [
      "Data loaded in 0.8636 seconds, processing\n",
      "Bandpass cleaned in 1.5958 seconds.\n",
      "Stamps filtered in 14.5000 seconds\n",
      "Saving results\n",
      "Results aggregated in 0.0524 seconds\n",
      "Processing coarse channels 189-192\n"
     ]
    },
    {
     "name": "stderr",
     "output_type": "stream",
     "text": [
      " 62%|██████▏   | 63/101 [17:58<10:51, 17.14s/it]"
     ]
    },
    {
     "name": "stdout",
     "output_type": "stream",
     "text": [
      "Data loaded in 0.7872 seconds, processing\n",
      "Bandpass cleaned in 1.5848 seconds.\n",
      "Stamps filtered in 14.3312 seconds\n",
      "Saving results\n",
      "Results aggregated in 0.0528 seconds\n",
      "Processing coarse channels 192-195\n"
     ]
    },
    {
     "name": "stderr",
     "output_type": "stream",
     "text": [
      " 63%|██████▎   | 64/101 [18:15<10:29, 17.03s/it]"
     ]
    },
    {
     "name": "stdout",
     "output_type": "stream",
     "text": [
      "Data loaded in 0.8666 seconds, processing\n",
      "Bandpass cleaned in 1.6372 seconds.\n",
      "Stamps filtered in 14.6071 seconds\n",
      "Saving results\n",
      "Results aggregated in 0.0554 seconds\n",
      "Processing coarse channels 195-198\n"
     ]
    },
    {
     "name": "stderr",
     "output_type": "stream",
     "text": [
      " 64%|██████▍   | 65/101 [18:32<10:14, 17.07s/it]"
     ]
    },
    {
     "name": "stdout",
     "output_type": "stream",
     "text": [
      "Data loaded in 0.9129 seconds, processing\n",
      "Bandpass cleaned in 1.7227 seconds.\n",
      "Stamps filtered in 14.5642 seconds\n",
      "Saving results\n",
      "Results aggregated in 0.0487 seconds\n",
      "Processing coarse channels 198-201\n"
     ]
    },
    {
     "name": "stderr",
     "output_type": "stream",
     "text": [
      " 65%|██████▌   | 66/101 [18:49<09:59, 17.13s/it]"
     ]
    },
    {
     "name": "stdout",
     "output_type": "stream",
     "text": [
      "Data loaded in 0.8723 seconds, processing\n",
      "Bandpass cleaned in 1.6863 seconds.\n",
      "Stamps filtered in 14.5815 seconds\n",
      "Saving results\n",
      "Results aggregated in 0.0552 seconds\n",
      "Processing coarse channels 201-204\n"
     ]
    },
    {
     "name": "stderr",
     "output_type": "stream",
     "text": [
      " 66%|██████▋   | 67/101 [19:07<09:43, 17.15s/it]"
     ]
    },
    {
     "name": "stdout",
     "output_type": "stream",
     "text": [
      "Data loaded in 0.7754 seconds, processing\n",
      "Bandpass cleaned in 1.6971 seconds.\n",
      "Stamps filtered in 14.2667 seconds\n",
      "Saving results\n",
      "Results aggregated in 0.0536 seconds\n",
      "Processing coarse channels 204-207\n"
     ]
    },
    {
     "name": "stderr",
     "output_type": "stream",
     "text": [
      " 67%|██████▋   | 68/101 [19:23<09:22, 17.04s/it]"
     ]
    },
    {
     "name": "stdout",
     "output_type": "stream",
     "text": [
      "Data loaded in 0.9371 seconds, processing\n",
      "Bandpass cleaned in 1.6017 seconds.\n",
      "Stamps filtered in 14.5625 seconds\n",
      "Saving results\n",
      "Results aggregated in 0.0693 seconds\n",
      "Processing coarse channels 207-210\n"
     ]
    },
    {
     "name": "stderr",
     "output_type": "stream",
     "text": [
      " 68%|██████▊   | 69/101 [19:40<09:06, 17.09s/it]"
     ]
    },
    {
     "name": "stdout",
     "output_type": "stream",
     "text": [
      "Data loaded in 0.8186 seconds, processing\n",
      "Bandpass cleaned in 1.6449 seconds.\n",
      "Stamps filtered in 14.7071 seconds\n",
      "Saving results\n"
     ]
    },
    {
     "name": "stderr",
     "output_type": "stream",
     "text": [
      " 69%|██████▉   | 70/101 [19:58<08:55, 17.26s/it]"
     ]
    },
    {
     "name": "stdout",
     "output_type": "stream",
     "text": [
      "Results aggregated in 0.4839 seconds\n",
      "Processing coarse channels 210-213\n",
      "Data loaded in 0.8962 seconds, processing\n",
      "Bandpass cleaned in 2.8988 seconds.\n",
      "Stamps filtered in 14.6692 seconds\n",
      "Saving results\n",
      "Results aggregated in 0.0778 seconds\n",
      "Processing coarse channels 213-216\n"
     ]
    },
    {
     "name": "stderr",
     "output_type": "stream",
     "text": [
      " 70%|███████   | 71/101 [20:17<08:49, 17.65s/it]"
     ]
    },
    {
     "name": "stdout",
     "output_type": "stream",
     "text": [
      "Data loaded in 0.8651 seconds, processing\n",
      "Bandpass cleaned in 1.7511 seconds.\n",
      "Stamps filtered in 14.5599 seconds\n",
      "Saving results\n",
      "Results aggregated in 0.0505 seconds\n",
      "Processing coarse channels 216-219\n"
     ]
    },
    {
     "name": "stderr",
     "output_type": "stream",
     "text": [
      " 71%|███████▏  | 72/101 [20:34<08:28, 17.52s/it]"
     ]
    },
    {
     "name": "stdout",
     "output_type": "stream",
     "text": [
      "Data loaded in 0.8435 seconds, processing\n",
      "Bandpass cleaned in 1.7878 seconds.\n",
      "Stamps filtered in 14.4296 seconds\n",
      "Saving results\n",
      "Results aggregated in 0.0506 seconds\n",
      "Processing coarse channels 219-222\n"
     ]
    },
    {
     "name": "stderr",
     "output_type": "stream",
     "text": [
      " 72%|███████▏  | 73/101 [20:51<08:07, 17.40s/it]"
     ]
    },
    {
     "name": "stdout",
     "output_type": "stream",
     "text": [
      "Data loaded in 0.9046 seconds, processing\n",
      "Bandpass cleaned in 1.7317 seconds.\n",
      "Stamps filtered in 14.6273 seconds\n",
      "Saving results\n",
      "Results aggregated in 0.0549 seconds\n",
      "Processing coarse channels 222-225\n"
     ]
    },
    {
     "name": "stderr",
     "output_type": "stream",
     "text": [
      " 73%|███████▎  | 74/101 [21:08<07:49, 17.38s/it]"
     ]
    },
    {
     "name": "stdout",
     "output_type": "stream",
     "text": [
      "Data loaded in 0.8891 seconds, processing\n",
      "Bandpass cleaned in 1.7737 seconds.\n",
      "Stamps filtered in 14.7631 seconds\n",
      "Saving results\n",
      "Results aggregated in 0.0554 seconds\n",
      "Processing coarse channels 225-228\n"
     ]
    },
    {
     "name": "stderr",
     "output_type": "stream",
     "text": [
      " 74%|███████▍  | 75/101 [21:26<07:32, 17.41s/it]"
     ]
    },
    {
     "name": "stdout",
     "output_type": "stream",
     "text": [
      "Data loaded in 0.9756 seconds, processing\n",
      "Bandpass cleaned in 1.7978 seconds.\n",
      "Stamps filtered in 14.6330 seconds\n",
      "Saving results\n",
      "Results aggregated in 0.0621 seconds\n",
      "Processing coarse channels 228-231\n"
     ]
    },
    {
     "name": "stderr",
     "output_type": "stream",
     "text": [
      " 75%|███████▌  | 76/101 [21:43<07:15, 17.43s/it]"
     ]
    },
    {
     "name": "stdout",
     "output_type": "stream",
     "text": [
      "Data loaded in 0.9047 seconds, processing\n",
      "Bandpass cleaned in 1.7454 seconds.\n",
      "Stamps filtered in 14.4203 seconds\n",
      "Saving results\n",
      "Results aggregated in 0.0566 seconds\n",
      "Processing coarse channels 231-234\n"
     ]
    },
    {
     "name": "stderr",
     "output_type": "stream",
     "text": [
      " 76%|███████▌  | 77/101 [22:00<06:56, 17.34s/it]"
     ]
    },
    {
     "name": "stdout",
     "output_type": "stream",
     "text": [
      "Data loaded in 0.9119 seconds, processing\n",
      "Bandpass cleaned in 1.7095 seconds.\n",
      "Stamps filtered in 14.1266 seconds\n",
      "Saving results\n",
      "Results aggregated in 0.0530 seconds\n",
      "Processing coarse channels 234-237\n"
     ]
    },
    {
     "name": "stderr",
     "output_type": "stream",
     "text": [
      " 77%|███████▋  | 78/101 [22:17<06:35, 17.18s/it]"
     ]
    },
    {
     "name": "stdout",
     "output_type": "stream",
     "text": [
      "Data loaded in 0.9357 seconds, processing\n",
      "Bandpass cleaned in 1.8777 seconds.\n",
      "Stamps filtered in 14.2055 seconds\n",
      "Saving results\n",
      "Results aggregated in 0.0606 seconds\n",
      "Processing coarse channels 237-240\n"
     ]
    },
    {
     "name": "stderr",
     "output_type": "stream",
     "text": [
      " 78%|███████▊  | 79/101 [22:34<06:17, 17.15s/it]"
     ]
    },
    {
     "name": "stdout",
     "output_type": "stream",
     "text": [
      "Data loaded in 0.9131 seconds, processing\n",
      "Bandpass cleaned in 1.6751 seconds.\n",
      "Stamps filtered in 13.6422 seconds\n",
      "Saving results\n",
      "Results aggregated in 0.0541 seconds\n",
      "Processing coarse channels 240-243\n"
     ]
    },
    {
     "name": "stderr",
     "output_type": "stream",
     "text": [
      " 79%|███████▉  | 80/101 [22:51<05:54, 16.90s/it]"
     ]
    },
    {
     "name": "stdout",
     "output_type": "stream",
     "text": [
      "Data loaded in 0.8761 seconds, processing\n",
      "Bandpass cleaned in 1.6373 seconds.\n",
      "Stamps filtered in 14.4556 seconds\n",
      "Saving results\n",
      "Results aggregated in 0.1678 seconds\n",
      "Processing coarse channels 243-246\n"
     ]
    },
    {
     "name": "stderr",
     "output_type": "stream",
     "text": [
      " 80%|████████  | 81/101 [23:08<05:39, 16.97s/it]"
     ]
    },
    {
     "name": "stdout",
     "output_type": "stream",
     "text": [
      "Data loaded in 0.8536 seconds, processing\n",
      "Bandpass cleaned in 1.8065 seconds.\n",
      "Stamps filtered in 14.4299 seconds\n",
      "Saving results\n",
      "Results aggregated in 0.0739 seconds\n",
      "Processing coarse channels 246-249\n"
     ]
    },
    {
     "name": "stderr",
     "output_type": "stream",
     "text": [
      " 81%|████████  | 82/101 [23:25<05:23, 17.03s/it]"
     ]
    },
    {
     "name": "stdout",
     "output_type": "stream",
     "text": [
      "Data loaded in 0.9530 seconds, processing\n",
      "Bandpass cleaned in 1.8913 seconds.\n",
      "Stamps filtered in 14.4412 seconds\n",
      "Saving results\n",
      "Results aggregated in 0.0665 seconds\n",
      "Processing coarse channels 249-252\n"
     ]
    },
    {
     "name": "stderr",
     "output_type": "stream",
     "text": [
      " 82%|████████▏ | 83/101 [23:42<05:08, 17.13s/it]"
     ]
    },
    {
     "name": "stdout",
     "output_type": "stream",
     "text": [
      "Data loaded in 0.8566 seconds, processing\n",
      "Bandpass cleaned in 1.8629 seconds.\n",
      "Stamps filtered in 14.7676 seconds\n",
      "Saving results\n",
      "Results aggregated in 0.0704 seconds\n",
      "Processing coarse channels 252-255\n"
     ]
    },
    {
     "name": "stderr",
     "output_type": "stream",
     "text": [
      " 83%|████████▎ | 84/101 [24:00<04:53, 17.26s/it]"
     ]
    },
    {
     "name": "stdout",
     "output_type": "stream",
     "text": [
      "Data loaded in 0.8406 seconds, processing\n",
      "Bandpass cleaned in 1.6871 seconds.\n",
      "Stamps filtered in 14.7720 seconds\n",
      "Saving results\n",
      "Results aggregated in 0.0998 seconds\n",
      "Processing coarse channels 255-258\n"
     ]
    },
    {
     "name": "stderr",
     "output_type": "stream",
     "text": [
      " 84%|████████▍ | 85/101 [24:17<04:36, 17.30s/it]"
     ]
    },
    {
     "name": "stdout",
     "output_type": "stream",
     "text": [
      "Data loaded in 0.8422 seconds, processing\n",
      "Bandpass cleaned in 1.7650 seconds.\n",
      "Stamps filtered in 14.4311 seconds\n",
      "Saving results\n",
      "Results aggregated in 0.0663 seconds\n",
      "Processing coarse channels 258-261\n"
     ]
    },
    {
     "name": "stderr",
     "output_type": "stream",
     "text": [
      " 85%|████████▌ | 86/101 [24:34<04:18, 17.25s/it]"
     ]
    },
    {
     "name": "stdout",
     "output_type": "stream",
     "text": [
      "Data loaded in 0.9202 seconds, processing\n",
      "Bandpass cleaned in 1.6992 seconds.\n",
      "Stamps filtered in 14.5940 seconds\n",
      "Saving results\n",
      "Results aggregated in 0.0563 seconds\n",
      "Processing coarse channels 261-264\n"
     ]
    },
    {
     "name": "stderr",
     "output_type": "stream",
     "text": [
      " 86%|████████▌ | 87/101 [24:52<04:01, 17.26s/it]"
     ]
    },
    {
     "name": "stdout",
     "output_type": "stream",
     "text": [
      "Data loaded in 0.8523 seconds, processing\n",
      "Bandpass cleaned in 2.0381 seconds.\n",
      "Stamps filtered in 14.7068 seconds\n",
      "Saving results\n",
      "Results aggregated in 0.0647 seconds\n",
      "Processing coarse channels 264-267\n"
     ]
    },
    {
     "name": "stderr",
     "output_type": "stream",
     "text": [
      " 87%|████████▋ | 88/101 [25:09<03:45, 17.38s/it]"
     ]
    },
    {
     "name": "stdout",
     "output_type": "stream",
     "text": [
      "Data loaded in 0.9429 seconds, processing\n",
      "Bandpass cleaned in 1.7362 seconds.\n",
      "Stamps filtered in 14.6844 seconds\n",
      "Saving results\n",
      "Results aggregated in 0.0637 seconds\n",
      "Processing coarse channels 267-270\n"
     ]
    },
    {
     "name": "stderr",
     "output_type": "stream",
     "text": [
      " 88%|████████▊ | 89/101 [25:27<03:28, 17.40s/it]"
     ]
    },
    {
     "name": "stdout",
     "output_type": "stream",
     "text": [
      "Data loaded in 0.8741 seconds, processing\n",
      "Bandpass cleaned in 1.8476 seconds.\n",
      "Stamps filtered in 14.6144 seconds\n",
      "Saving results\n",
      "Results aggregated in 0.0617 seconds\n",
      "Processing coarse channels 270-273\n"
     ]
    },
    {
     "name": "stderr",
     "output_type": "stream",
     "text": [
      " 89%|████████▉ | 90/101 [25:44<03:11, 17.40s/it]"
     ]
    },
    {
     "name": "stdout",
     "output_type": "stream",
     "text": [
      "Data loaded in 0.8474 seconds, processing\n",
      "Bandpass cleaned in 1.6691 seconds.\n",
      "Stamps filtered in 14.4724 seconds\n",
      "Saving results\n",
      "Results aggregated in 0.0668 seconds\n",
      "Processing coarse channels 273-276\n"
     ]
    },
    {
     "name": "stderr",
     "output_type": "stream",
     "text": [
      " 90%|█████████ | 91/101 [26:01<02:52, 17.30s/it]"
     ]
    },
    {
     "name": "stdout",
     "output_type": "stream",
     "text": [
      "Data loaded in 0.9079 seconds, processing\n",
      "Bandpass cleaned in 1.8472 seconds.\n",
      "Stamps filtered in 14.4598 seconds\n",
      "Saving results\n",
      "Results aggregated in 0.0616 seconds\n",
      "Processing coarse channels 276-279\n"
     ]
    },
    {
     "name": "stderr",
     "output_type": "stream",
     "text": [
      " 91%|█████████ | 92/101 [26:19<02:35, 17.30s/it]"
     ]
    },
    {
     "name": "stdout",
     "output_type": "stream",
     "text": [
      "Data loaded in 0.8355 seconds, processing\n",
      "Bandpass cleaned in 1.7112 seconds.\n",
      "Stamps filtered in 14.5263 seconds\n",
      "Saving results\n",
      "Results aggregated in 0.0607 seconds\n",
      "Processing coarse channels 279-282\n"
     ]
    },
    {
     "name": "stderr",
     "output_type": "stream",
     "text": [
      " 92%|█████████▏| 93/101 [26:36<02:17, 17.25s/it]"
     ]
    },
    {
     "name": "stdout",
     "output_type": "stream",
     "text": [
      "Data loaded in 0.8196 seconds, processing\n",
      "Bandpass cleaned in 1.6878 seconds.\n",
      "Stamps filtered in 14.4677 seconds\n",
      "Saving results\n",
      "Results aggregated in 0.0625 seconds\n",
      "Processing coarse channels 282-285\n"
     ]
    },
    {
     "name": "stderr",
     "output_type": "stream",
     "text": [
      " 93%|█████████▎| 94/101 [26:53<02:00, 17.19s/it]"
     ]
    },
    {
     "name": "stdout",
     "output_type": "stream",
     "text": [
      "Data loaded in 0.8095 seconds, processing\n",
      "Bandpass cleaned in 1.6240 seconds.\n",
      "Stamps filtered in 14.7658 seconds\n",
      "Saving results\n",
      "Results aggregated in 0.0575 seconds\n",
      "Processing coarse channels 285-288\n"
     ]
    },
    {
     "name": "stderr",
     "output_type": "stream",
     "text": [
      " 94%|█████████▍| 95/101 [27:10<01:43, 17.21s/it]"
     ]
    },
    {
     "name": "stdout",
     "output_type": "stream",
     "text": [
      "Data loaded in 0.8450 seconds, processing\n",
      "Bandpass cleaned in 1.7264 seconds.\n",
      "Stamps filtered in 14.5701 seconds\n",
      "Saving results\n",
      "Results aggregated in 0.0615 seconds\n",
      "Processing coarse channels 288-291\n"
     ]
    },
    {
     "name": "stderr",
     "output_type": "stream",
     "text": [
      " 95%|█████████▌| 96/101 [27:27<01:26, 17.21s/it]"
     ]
    },
    {
     "name": "stdout",
     "output_type": "stream",
     "text": [
      "Data loaded in 0.8711 seconds, processing\n",
      "Bandpass cleaned in 1.6703 seconds.\n",
      "Stamps filtered in 14.4121 seconds\n",
      "Saving results\n",
      "Results aggregated in 0.0573 seconds\n",
      "Processing coarse channels 291-294\n"
     ]
    },
    {
     "name": "stderr",
     "output_type": "stream",
     "text": [
      " 96%|█████████▌| 97/101 [27:44<01:08, 17.15s/it]"
     ]
    },
    {
     "name": "stdout",
     "output_type": "stream",
     "text": [
      "Data loaded in 0.8071 seconds, processing\n",
      "Bandpass cleaned in 1.8119 seconds.\n",
      "Stamps filtered in 14.6851 seconds\n",
      "Saving results\n",
      "Results aggregated in 0.1161 seconds\n",
      "Processing coarse channels 294-297\n"
     ]
    },
    {
     "name": "stderr",
     "output_type": "stream",
     "text": [
      " 97%|█████████▋| 98/101 [28:02<00:51, 17.23s/it]"
     ]
    },
    {
     "name": "stdout",
     "output_type": "stream",
     "text": [
      "Data loaded in 0.7972 seconds, processing\n",
      "Bandpass cleaned in 1.7570 seconds.\n",
      "Stamps filtered in 14.6315 seconds\n",
      "Saving results\n",
      "Results aggregated in 0.0661 seconds\n",
      "Processing coarse channels 297-300\n"
     ]
    },
    {
     "name": "stderr",
     "output_type": "stream",
     "text": [
      " 98%|█████████▊| 99/101 [28:19<00:34, 17.24s/it]"
     ]
    },
    {
     "name": "stdout",
     "output_type": "stream",
     "text": [
      "Data loaded in 0.8238 seconds, processing\n",
      "Bandpass cleaned in 1.6630 seconds.\n",
      "Stamps filtered in 13.6918 seconds\n",
      "Saving results\n",
      "Results aggregated in 0.0638 seconds\n",
      "Processing coarse channels 300-303\n"
     ]
    },
    {
     "name": "stderr",
     "output_type": "stream",
     "text": [
      " 99%|█████████▉| 100/101 [28:35<00:16, 16.94s/it]"
     ]
    },
    {
     "name": "stdout",
     "output_type": "stream",
     "text": [
      "Data loaded in 0.8275 seconds, processing\n",
      "Bandpass cleaned in 1.6993 seconds.\n",
      "Stamps filtered in 14.4484 seconds\n",
      "Saving results\n"
     ]
    },
    {
     "name": "stderr",
     "output_type": "stream",
     "text": [
      "100%|██████████| 101/101 [28:52<00:00, 17.16s/it]\n"
     ]
    },
    {
     "name": "stdout",
     "output_type": "stream",
     "text": [
      "Results aggregated in 0.0620 seconds\n",
      "       level_0      index      statistic  pvalue        freqs\n",
      "46219    46219  307867648  434079.744775     0.0  1053.309763\n",
      "46215    46215  307867136  352389.942041     0.0  1053.311215\n",
      "46226    46226  307868544  337389.027181     0.0  1053.307222\n",
      "46212    46212  307866752  173891.316343     0.0  1053.312304\n",
      "29224    29224  134785408   13102.575276     0.0  1544.085046\n",
      "29225    29225  134785536   13069.104470     0.0  1544.084683\n",
      "29196    29196  134520192   13006.816104     0.0  1544.837067\n",
      "26087    26087  133408896   12994.817784     0.0  1547.988151\n",
      "3099      3099   65609216    8052.856848     0.0  1740.234375\n",
      "3098      3098   65609088    8052.856737     0.0  1740.234738\n",
      "3064      3064   55276928    8052.664730     0.0  1769.531613\n",
      "3065      3065   55277056    8052.663823     0.0  1769.531250\n",
      "303 303\n",
      "Finished Energy Detection on GBT_57515_82909_HIP43412_fine.h5 in 1738.3009 seconds\n",
      "/mnt_blpd7/datax/dl/GBT_57515_83255_HIP44295_fine.h5\n",
      "Header saved to ../../../../../../datax/scratch/pma/reverse_search/train/HIP44295-23/GBT_57515_83255_HIP44295_fine/header.pkl\n",
      "Processing 3 in parallel\n",
      "Processing coarse channels 0-3\n"
     ]
    },
    {
     "name": "stderr",
     "output_type": "stream",
     "text": [
      "  0%|          | 0/101 [00:00<?, ?it/s]"
     ]
    },
    {
     "name": "stdout",
     "output_type": "stream",
     "text": [
      "Data loaded in 1.8093 seconds, processing\n",
      "Bandpass cleaned in 1.6518 seconds.\n",
      "Stamps filtered in 13.9879 seconds\n",
      "Saving results\n"
     ]
    },
    {
     "name": "stderr",
     "output_type": "stream",
     "text": [
      "  1%|          | 1/101 [00:17<29:48, 17.89s/it]"
     ]
    },
    {
     "name": "stdout",
     "output_type": "stream",
     "text": [
      "Results aggregated in 0.4260 seconds\n",
      "Processing coarse channels 3-6\n",
      "Data loaded in 1.2532 seconds, processing\n",
      "Bandpass cleaned in 1.8849 seconds.\n",
      "Stamps filtered in 14.2281 seconds\n",
      "Saving results\n",
      "Results aggregated in 0.0524 seconds\n",
      "Processing coarse channels 6-9\n"
     ]
    },
    {
     "name": "stderr",
     "output_type": "stream",
     "text": [
      "  2%|▏         | 2/101 [00:35<29:03, 17.61s/it]"
     ]
    },
    {
     "name": "stdout",
     "output_type": "stream",
     "text": [
      "Data loaded in 1.1452 seconds, processing\n",
      "Bandpass cleaned in 1.5578 seconds.\n",
      "Stamps filtered in 14.5948 seconds\n",
      "Saving results\n",
      "Results aggregated in 0.0515 seconds\n",
      "Processing coarse channels 9-12\n"
     ]
    },
    {
     "name": "stderr",
     "output_type": "stream",
     "text": [
      "  3%|▎         | 3/101 [00:52<28:34, 17.50s/it]"
     ]
    },
    {
     "name": "stdout",
     "output_type": "stream",
     "text": [
      "Data loaded in 0.7764 seconds, processing\n",
      "Bandpass cleaned in 1.6345 seconds.\n",
      "Stamps filtered in 14.2575 seconds\n",
      "Saving results\n",
      "Results aggregated in 0.0352 seconds\n",
      "Processing coarse channels 12-15\n"
     ]
    },
    {
     "name": "stderr",
     "output_type": "stream",
     "text": [
      "  4%|▍         | 4/101 [01:09<27:47, 17.19s/it]"
     ]
    },
    {
     "name": "stdout",
     "output_type": "stream",
     "text": [
      "Data loaded in 1.0650 seconds, processing\n",
      "Bandpass cleaned in 1.6397 seconds.\n",
      "Stamps filtered in 14.2978 seconds\n",
      "Saving results\n",
      "Results aggregated in 0.0363 seconds\n",
      "Processing coarse channels 15-18\n"
     ]
    },
    {
     "name": "stderr",
     "output_type": "stream",
     "text": [
      "  5%|▍         | 5/101 [01:26<27:24, 17.14s/it]"
     ]
    },
    {
     "name": "stdout",
     "output_type": "stream",
     "text": [
      "Data loaded in 0.7469 seconds, processing\n",
      "Bandpass cleaned in 1.6242 seconds.\n",
      "Stamps filtered in 14.4227 seconds\n",
      "Saving results\n",
      "Results aggregated in 0.0380 seconds\n",
      "Processing coarse channels 18-21\n"
     ]
    },
    {
     "name": "stderr",
     "output_type": "stream",
     "text": [
      "  6%|▌         | 6/101 [01:43<26:58, 17.04s/it]"
     ]
    },
    {
     "name": "stdout",
     "output_type": "stream",
     "text": [
      "Data loaded in 0.9364 seconds, processing\n",
      "Bandpass cleaned in 1.6440 seconds.\n",
      "Stamps filtered in 14.4434 seconds\n",
      "Saving results\n",
      "Results aggregated in 0.0364 seconds\n",
      "Processing coarse channels 21-24\n"
     ]
    },
    {
     "name": "stderr",
     "output_type": "stream",
     "text": [
      "  7%|▋         | 7/101 [02:00<26:42, 17.05s/it]"
     ]
    },
    {
     "name": "stdout",
     "output_type": "stream",
     "text": [
      "Data loaded in 0.7816 seconds, processing\n",
      "Bandpass cleaned in 1.6395 seconds.\n",
      "Stamps filtered in 14.1726 seconds\n",
      "Saving results\n",
      "Results aggregated in 0.0369 seconds\n",
      "Processing coarse channels 24-27\n"
     ]
    },
    {
     "name": "stderr",
     "output_type": "stream",
     "text": [
      "  8%|▊         | 8/101 [02:16<26:13, 16.92s/it]"
     ]
    },
    {
     "name": "stdout",
     "output_type": "stream",
     "text": [
      "Data loaded in 0.7851 seconds, processing\n",
      "Bandpass cleaned in 1.6560 seconds.\n",
      "Stamps filtered in 14.1077 seconds\n",
      "Saving results\n",
      "Results aggregated in 0.0347 seconds\n",
      "Processing coarse channels 27-30\n"
     ]
    },
    {
     "name": "stderr",
     "output_type": "stream",
     "text": [
      "  9%|▉         | 9/101 [02:33<25:46, 16.82s/it]"
     ]
    },
    {
     "name": "stdout",
     "output_type": "stream",
     "text": [
      "Data loaded in 0.8736 seconds, processing\n",
      "Bandpass cleaned in 1.6962 seconds.\n",
      "Stamps filtered in 14.2684 seconds\n",
      "Saving results\n",
      "Results aggregated in 0.0400 seconds\n",
      "Processing coarse channels 30-33\n"
     ]
    },
    {
     "name": "stderr",
     "output_type": "stream",
     "text": [
      " 10%|▉         | 10/101 [02:50<25:32, 16.84s/it]"
     ]
    },
    {
     "name": "stdout",
     "output_type": "stream",
     "text": [
      "Data loaded in 0.8938 seconds, processing\n",
      "Bandpass cleaned in 1.6319 seconds.\n",
      "Stamps filtered in 14.2648 seconds\n",
      "Saving results\n",
      "Results aggregated in 0.0355 seconds\n",
      "Processing coarse channels 33-36\n"
     ]
    },
    {
     "name": "stderr",
     "output_type": "stream",
     "text": [
      " 11%|█         | 11/101 [03:07<25:15, 16.84s/it]"
     ]
    },
    {
     "name": "stdout",
     "output_type": "stream",
     "text": [
      "Data loaded in 0.7895 seconds, processing\n",
      "Bandpass cleaned in 1.7394 seconds.\n",
      "Stamps filtered in 14.2173 seconds\n",
      "Saving results\n",
      "Results aggregated in 0.0374 seconds\n",
      "Processing coarse channels 36-39\n"
     ]
    },
    {
     "name": "stderr",
     "output_type": "stream",
     "text": [
      " 12%|█▏        | 12/101 [03:24<24:57, 16.82s/it]"
     ]
    },
    {
     "name": "stdout",
     "output_type": "stream",
     "text": [
      "Data loaded in 0.7976 seconds, processing\n",
      "Bandpass cleaned in 1.6191 seconds.\n",
      "Stamps filtered in 14.2031 seconds\n",
      "Saving results\n",
      "Results aggregated in 0.0378 seconds\n",
      "Processing coarse channels 39-42\n"
     ]
    },
    {
     "name": "stderr",
     "output_type": "stream",
     "text": [
      " 13%|█▎        | 13/101 [03:40<24:36, 16.77s/it]"
     ]
    },
    {
     "name": "stdout",
     "output_type": "stream",
     "text": [
      "Data loaded in 0.7668 seconds, processing\n",
      "Bandpass cleaned in 1.5811 seconds.\n",
      "Stamps filtered in 14.4323 seconds\n",
      "Saving results\n",
      "Results aggregated in 0.0334 seconds\n",
      "Processing coarse channels 42-45\n"
     ]
    },
    {
     "name": "stderr",
     "output_type": "stream",
     "text": [
      " 14%|█▍        | 14/101 [03:57<24:20, 16.79s/it]"
     ]
    },
    {
     "name": "stdout",
     "output_type": "stream",
     "text": [
      "Data loaded in 0.8885 seconds, processing\n",
      "Bandpass cleaned in 1.7339 seconds.\n",
      "Stamps filtered in 14.6466 seconds\n",
      "Saving results\n",
      "Results aggregated in 0.0378 seconds\n",
      "Processing coarse channels 45-48\n"
     ]
    },
    {
     "name": "stderr",
     "output_type": "stream",
     "text": [
      " 15%|█▍        | 15/101 [04:14<24:17, 16.95s/it]"
     ]
    },
    {
     "name": "stdout",
     "output_type": "stream",
     "text": [
      "Data loaded in 0.7857 seconds, processing\n",
      "Bandpass cleaned in 1.5932 seconds.\n",
      "Stamps filtered in 14.4276 seconds\n",
      "Saving results\n",
      "Results aggregated in 0.0358 seconds\n",
      "Processing coarse channels 48-51\n"
     ]
    },
    {
     "name": "stderr",
     "output_type": "stream",
     "text": [
      " 16%|█▌        | 16/101 [04:31<23:58, 16.92s/it]"
     ]
    },
    {
     "name": "stdout",
     "output_type": "stream",
     "text": [
      "Data loaded in 0.8027 seconds, processing\n",
      "Bandpass cleaned in 1.5861 seconds.\n",
      "Stamps filtered in 14.5658 seconds\n",
      "Saving results\n",
      "Results aggregated in 0.0342 seconds\n",
      "Processing coarse channels 51-54\n"
     ]
    },
    {
     "name": "stderr",
     "output_type": "stream",
     "text": [
      " 17%|█▋        | 17/101 [04:48<23:43, 16.94s/it]"
     ]
    },
    {
     "name": "stdout",
     "output_type": "stream",
     "text": [
      "Data loaded in 0.7957 seconds, processing\n",
      "Bandpass cleaned in 1.5968 seconds.\n",
      "Stamps filtered in 14.4774 seconds\n",
      "Saving results\n",
      "Results aggregated in 0.0350 seconds\n",
      "Processing coarse channels 54-57\n"
     ]
    },
    {
     "name": "stderr",
     "output_type": "stream",
     "text": [
      " 18%|█▊        | 18/101 [05:05<23:25, 16.93s/it]"
     ]
    },
    {
     "name": "stdout",
     "output_type": "stream",
     "text": [
      "Data loaded in 0.7489 seconds, processing\n",
      "Bandpass cleaned in 1.7190 seconds.\n",
      "Stamps filtered in 14.5423 seconds\n",
      "Saving results\n",
      "Results aggregated in 0.0354 seconds\n",
      "Processing coarse channels 57-60\n"
     ]
    },
    {
     "name": "stderr",
     "output_type": "stream",
     "text": [
      " 19%|█▉        | 19/101 [05:22<23:11, 16.97s/it]"
     ]
    },
    {
     "name": "stdout",
     "output_type": "stream",
     "text": [
      "Data loaded in 0.9852 seconds, processing\n",
      "Bandpass cleaned in 1.7768 seconds.\n",
      "Stamps filtered in 14.6205 seconds\n",
      "Saving results\n",
      "Results aggregated in 0.0400 seconds\n",
      "Processing coarse channels 60-63\n"
     ]
    },
    {
     "name": "stderr",
     "output_type": "stream",
     "text": [
      " 20%|█▉        | 20/101 [05:40<23:05, 17.11s/it]"
     ]
    },
    {
     "name": "stdout",
     "output_type": "stream",
     "text": [
      "Data loaded in 0.8072 seconds, processing\n",
      "Bandpass cleaned in 1.7222 seconds.\n",
      "Stamps filtered in 14.4671 seconds\n",
      "Saving results\n",
      "Results aggregated in 0.0374 seconds\n",
      "Processing coarse channels 63-66\n"
     ]
    },
    {
     "name": "stderr",
     "output_type": "stream",
     "text": [
      " 21%|██        | 21/101 [05:57<22:47, 17.09s/it]"
     ]
    },
    {
     "name": "stdout",
     "output_type": "stream",
     "text": [
      "Data loaded in 0.7932 seconds, processing\n",
      "Bandpass cleaned in 1.9325 seconds.\n",
      "Stamps filtered in 14.7552 seconds\n",
      "Saving results\n",
      "Results aggregated in 0.0353 seconds\n",
      "Processing coarse channels 66-69\n"
     ]
    },
    {
     "name": "stderr",
     "output_type": "stream",
     "text": [
      " 22%|██▏       | 22/101 [06:14<22:40, 17.22s/it]"
     ]
    },
    {
     "name": "stdout",
     "output_type": "stream",
     "text": [
      "Data loaded in 0.7676 seconds, processing\n",
      "Bandpass cleaned in 1.6461 seconds.\n",
      "Stamps filtered in 14.2963 seconds\n",
      "Saving results\n",
      "Results aggregated in 0.0326 seconds\n",
      "Processing coarse channels 69-72\n"
     ]
    },
    {
     "name": "stderr",
     "output_type": "stream",
     "text": [
      " 23%|██▎       | 23/101 [06:31<22:12, 17.08s/it]"
     ]
    },
    {
     "name": "stdout",
     "output_type": "stream",
     "text": [
      "Data loaded in 0.7757 seconds, processing\n",
      "Bandpass cleaned in 1.6043 seconds.\n",
      "Stamps filtered in 14.1742 seconds\n",
      "Saving results\n",
      "Results aggregated in 0.0380 seconds\n",
      "Processing coarse channels 72-75\n"
     ]
    },
    {
     "name": "stderr",
     "output_type": "stream",
     "text": [
      " 24%|██▍       | 24/101 [06:48<21:43, 16.93s/it]"
     ]
    },
    {
     "name": "stdout",
     "output_type": "stream",
     "text": [
      "Data loaded in 0.8124 seconds, processing\n",
      "Bandpass cleaned in 1.5836 seconds.\n",
      "Stamps filtered in 14.3929 seconds\n",
      "Saving results\n",
      "Results aggregated in 0.0384 seconds\n",
      "Processing coarse channels 75-78\n"
     ]
    },
    {
     "name": "stderr",
     "output_type": "stream",
     "text": [
      " 25%|██▍       | 25/101 [07:04<21:24, 16.91s/it]"
     ]
    },
    {
     "name": "stdout",
     "output_type": "stream",
     "text": [
      "Data loaded in 0.8721 seconds, processing\n",
      "Bandpass cleaned in 1.6652 seconds.\n",
      "Stamps filtered in 14.0637 seconds\n",
      "Saving results\n",
      "Results aggregated in 0.0537 seconds\n",
      "Processing coarse channels 78-81\n"
     ]
    },
    {
     "name": "stderr",
     "output_type": "stream",
     "text": [
      " 26%|██▌       | 26/101 [07:21<21:02, 16.83s/it]"
     ]
    },
    {
     "name": "stdout",
     "output_type": "stream",
     "text": [
      "Data loaded in 0.7780 seconds, processing\n",
      "Bandpass cleaned in 1.6418 seconds.\n",
      "Stamps filtered in 14.6194 seconds\n",
      "Saving results\n",
      "Results aggregated in 0.1084 seconds\n",
      "Processing coarse channels 81-84\n"
     ]
    },
    {
     "name": "stderr",
     "output_type": "stream",
     "text": [
      " 27%|██▋       | 27/101 [07:38<20:52, 16.93s/it]"
     ]
    },
    {
     "name": "stdout",
     "output_type": "stream",
     "text": [
      "Data loaded in 0.7910 seconds, processing\n",
      "Bandpass cleaned in 2.0343 seconds.\n",
      "Stamps filtered in 14.5556 seconds\n",
      "Saving results\n",
      "Results aggregated in 0.0911 seconds\n",
      "Processing coarse channels 84-87\n"
     ]
    },
    {
     "name": "stderr",
     "output_type": "stream",
     "text": [
      " 28%|██▊       | 28/101 [07:56<20:48, 17.10s/it]"
     ]
    },
    {
     "name": "stdout",
     "output_type": "stream",
     "text": [
      "Data loaded in 0.7973 seconds, processing\n",
      "Bandpass cleaned in 1.8402 seconds.\n",
      "Stamps filtered in 14.2306 seconds\n",
      "Saving results\n",
      "Results aggregated in 0.0539 seconds\n",
      "Processing coarse channels 87-90\n"
     ]
    },
    {
     "name": "stderr",
     "output_type": "stream",
     "text": [
      " 29%|██▊       | 29/101 [08:13<20:27, 17.05s/it]"
     ]
    },
    {
     "name": "stdout",
     "output_type": "stream",
     "text": [
      "Data loaded in 0.7684 seconds, processing\n",
      "Bandpass cleaned in 1.6521 seconds.\n",
      "Stamps filtered in 14.4521 seconds\n",
      "Saving results\n",
      "Results aggregated in 0.0412 seconds\n",
      "Processing coarse channels 90-93\n"
     ]
    },
    {
     "name": "stderr",
     "output_type": "stream",
     "text": [
      " 30%|██▉       | 30/101 [08:30<20:07, 17.01s/it]"
     ]
    },
    {
     "name": "stdout",
     "output_type": "stream",
     "text": [
      "Data loaded in 0.7483 seconds, processing\n",
      "Bandpass cleaned in 1.6193 seconds.\n",
      "Stamps filtered in 14.3042 seconds\n",
      "Saving results\n",
      "Results aggregated in 0.0416 seconds\n",
      "Processing coarse channels 93-96\n"
     ]
    },
    {
     "name": "stderr",
     "output_type": "stream",
     "text": [
      " 31%|███       | 31/101 [08:46<19:44, 16.92s/it]"
     ]
    },
    {
     "name": "stdout",
     "output_type": "stream",
     "text": [
      "Data loaded in 0.8232 seconds, processing\n",
      "Bandpass cleaned in 2.1159 seconds.\n",
      "Stamps filtered in 14.2422 seconds\n",
      "Saving results\n",
      "Results aggregated in 0.0433 seconds\n",
      "Processing coarse channels 96-99\n"
     ]
    },
    {
     "name": "stderr",
     "output_type": "stream",
     "text": [
      " 32%|███▏      | 32/101 [09:03<19:34, 17.02s/it]"
     ]
    },
    {
     "name": "stdout",
     "output_type": "stream",
     "text": [
      "Data loaded in 0.8064 seconds, processing\n",
      "Bandpass cleaned in 1.6175 seconds.\n",
      "Stamps filtered in 14.5784 seconds\n",
      "Saving results\n",
      "Results aggregated in 0.0422 seconds\n",
      "Processing coarse channels 99-102\n"
     ]
    },
    {
     "name": "stderr",
     "output_type": "stream",
     "text": [
      " 33%|███▎      | 33/101 [09:21<19:17, 17.03s/it]"
     ]
    },
    {
     "name": "stdout",
     "output_type": "stream",
     "text": [
      "Data loaded in 0.8278 seconds, processing\n",
      "Bandpass cleaned in 1.6332 seconds.\n",
      "Stamps filtered in 14.5772 seconds\n",
      "Saving results\n"
     ]
    },
    {
     "name": "stderr",
     "output_type": "stream",
     "text": [
      " 34%|███▎      | 34/101 [09:38<19:06, 17.11s/it]"
     ]
    },
    {
     "name": "stdout",
     "output_type": "stream",
     "text": [
      "Results aggregated in 0.2559 seconds\n",
      "Processing coarse channels 102-105\n",
      "Data loaded in 0.8565 seconds, processing\n",
      "Bandpass cleaned in 1.7509 seconds.\n",
      "Stamps filtered in 14.3935 seconds\n",
      "Saving results\n"
     ]
    },
    {
     "name": "stderr",
     "output_type": "stream",
     "text": [
      " 35%|███▍      | 35/101 [09:55<18:55, 17.21s/it]"
     ]
    },
    {
     "name": "stdout",
     "output_type": "stream",
     "text": [
      "Results aggregated in 0.4191 seconds\n",
      "Processing coarse channels 105-108\n",
      "Data loaded in 0.7683 seconds, processing\n",
      "Bandpass cleaned in 1.7458 seconds.\n",
      "Stamps filtered in 14.6411 seconds\n",
      "Saving results\n",
      "Results aggregated in 0.0630 seconds\n",
      "Processing coarse channels 108-111\n"
     ]
    },
    {
     "name": "stderr",
     "output_type": "stream",
     "text": [
      " 36%|███▌      | 36/101 [10:13<18:38, 17.22s/it]"
     ]
    },
    {
     "name": "stdout",
     "output_type": "stream",
     "text": [
      "Data loaded in 0.8764 seconds, processing\n",
      "Bandpass cleaned in 1.6787 seconds.\n",
      "Stamps filtered in 14.4734 seconds\n",
      "Saving results\n"
     ]
    },
    {
     "name": "stderr",
     "output_type": "stream",
     "text": [
      " 37%|███▋      | 37/101 [10:30<18:27, 17.31s/it]"
     ]
    },
    {
     "name": "stdout",
     "output_type": "stream",
     "text": [
      "Results aggregated in 0.4766 seconds\n",
      "Processing coarse channels 111-114\n",
      "Data loaded in 0.8545 seconds, processing\n",
      "Bandpass cleaned in 1.7490 seconds.\n",
      "Stamps filtered in 14.4394 seconds\n",
      "Saving results\n",
      "Results aggregated in 0.1553 seconds\n",
      "Processing coarse channels 114-117\n"
     ]
    },
    {
     "name": "stderr",
     "output_type": "stream",
     "text": [
      " 38%|███▊      | 38/101 [10:47<18:08, 17.28s/it]"
     ]
    },
    {
     "name": "stdout",
     "output_type": "stream",
     "text": [
      "Data loaded in 0.9066 seconds, processing\n",
      "Bandpass cleaned in 1.7075 seconds.\n",
      "Stamps filtered in 14.1775 seconds\n",
      "Saving results\n",
      "Results aggregated in 0.0473 seconds\n",
      "Processing coarse channels 117-120\n"
     ]
    },
    {
     "name": "stderr",
     "output_type": "stream",
     "text": [
      " 39%|███▊      | 39/101 [11:04<17:43, 17.15s/it]"
     ]
    },
    {
     "name": "stdout",
     "output_type": "stream",
     "text": [
      "Data loaded in 0.8728 seconds, processing\n",
      "Bandpass cleaned in 1.7631 seconds.\n",
      "Stamps filtered in 14.1658 seconds\n",
      "Saving results\n"
     ]
    },
    {
     "name": "stderr",
     "output_type": "stream",
     "text": [
      " 40%|███▉      | 40/101 [11:21<17:29, 17.21s/it]"
     ]
    },
    {
     "name": "stdout",
     "output_type": "stream",
     "text": [
      "Results aggregated in 0.5262 seconds\n",
      "Processing coarse channels 120-123\n",
      "Data loaded in 0.7707 seconds, processing\n",
      "Bandpass cleaned in 1.6456 seconds.\n",
      "Stamps filtered in 14.2584 seconds\n",
      "Saving results\n",
      "Results aggregated in 0.0620 seconds\n",
      "Processing coarse channels 123-126\n"
     ]
    },
    {
     "name": "stderr",
     "output_type": "stream",
     "text": [
      " 41%|████      | 41/101 [11:38<17:04, 17.07s/it]"
     ]
    },
    {
     "name": "stdout",
     "output_type": "stream",
     "text": [
      "Data loaded in 0.8198 seconds, processing\n",
      "Bandpass cleaned in 1.6463 seconds.\n",
      "Stamps filtered in 14.4241 seconds\n",
      "Saving results\n"
     ]
    },
    {
     "name": "stderr",
     "output_type": "stream",
     "text": [
      " 42%|████▏     | 42/101 [11:56<16:56, 17.23s/it]"
     ]
    },
    {
     "name": "stdout",
     "output_type": "stream",
     "text": [
      "Results aggregated in 0.7087 seconds\n",
      "Processing coarse channels 126-129\n",
      "Data loaded in 0.8763 seconds, processing\n",
      "Bandpass cleaned in 1.7411 seconds.\n",
      "Stamps filtered in 14.1868 seconds\n",
      "Saving results\n"
     ]
    },
    {
     "name": "stderr",
     "output_type": "stream",
     "text": [
      " 43%|████▎     | 43/101 [12:13<16:44, 17.33s/it]"
     ]
    },
    {
     "name": "stdout",
     "output_type": "stream",
     "text": [
      "Results aggregated in 0.7242 seconds\n",
      "Processing coarse channels 129-132\n",
      "Data loaded in 0.8268 seconds, processing\n",
      "Bandpass cleaned in 2.2447 seconds.\n",
      "Stamps filtered in 14.8129 seconds\n",
      "Saving results\n"
     ]
    },
    {
     "name": "stderr",
     "output_type": "stream",
     "text": [
      " 44%|████▎     | 44/101 [12:32<16:46, 17.67s/it]"
     ]
    },
    {
     "name": "stdout",
     "output_type": "stream",
     "text": [
      "Results aggregated in 0.5579 seconds\n",
      "Processing coarse channels 132-135\n",
      "Data loaded in 0.9507 seconds, processing\n",
      "Bandpass cleaned in 1.8305 seconds.\n",
      "Stamps filtered in 14.5299 seconds\n",
      "Saving results\n"
     ]
    },
    {
     "name": "stderr",
     "output_type": "stream",
     "text": [
      " 45%|████▍     | 45/101 [12:50<16:36, 17.79s/it]"
     ]
    },
    {
     "name": "stdout",
     "output_type": "stream",
     "text": [
      "Results aggregated in 0.7531 seconds\n",
      "Processing coarse channels 135-138\n",
      "Data loaded in 0.8392 seconds, processing\n",
      "Bandpass cleaned in 1.8218 seconds.\n",
      "Stamps filtered in 14.0079 seconds\n",
      "Saving results\n",
      "Results aggregated in 0.0982 seconds\n",
      "Processing coarse channels 138-141\n"
     ]
    },
    {
     "name": "stderr",
     "output_type": "stream",
     "text": [
      " 46%|████▌     | 46/101 [13:07<16:01, 17.49s/it]"
     ]
    },
    {
     "name": "stdout",
     "output_type": "stream",
     "text": [
      "Data loaded in 0.8086 seconds, processing\n",
      "Bandpass cleaned in 1.6944 seconds.\n",
      "Stamps filtered in 14.5146 seconds\n",
      "Saving results\n",
      "Results aggregated in 0.0503 seconds\n",
      "Processing coarse channels 141-144\n"
     ]
    },
    {
     "name": "stderr",
     "output_type": "stream",
     "text": [
      " 47%|████▋     | 47/101 [13:24<15:37, 17.36s/it]"
     ]
    },
    {
     "name": "stdout",
     "output_type": "stream",
     "text": [
      "Data loaded in 0.8083 seconds, processing\n",
      "Bandpass cleaned in 1.7053 seconds.\n",
      "Stamps filtered in 14.4465 seconds\n",
      "Saving results\n",
      "Results aggregated in 0.0540 seconds\n",
      "Processing coarse channels 144-147\n"
     ]
    },
    {
     "name": "stderr",
     "output_type": "stream",
     "text": [
      " 48%|████▊     | 48/101 [13:41<15:14, 17.26s/it]"
     ]
    },
    {
     "name": "stdout",
     "output_type": "stream",
     "text": [
      "Data loaded in 0.8319 seconds, processing\n",
      "Bandpass cleaned in 1.7440 seconds.\n",
      "Stamps filtered in 14.2819 seconds\n",
      "Saving results\n",
      "Results aggregated in 0.0515 seconds\n",
      "Processing coarse channels 147-150\n"
     ]
    },
    {
     "name": "stderr",
     "output_type": "stream",
     "text": [
      " 49%|████▊     | 49/101 [13:58<14:52, 17.16s/it]"
     ]
    },
    {
     "name": "stdout",
     "output_type": "stream",
     "text": [
      "Data loaded in 0.9308 seconds, processing\n",
      "Bandpass cleaned in 1.6513 seconds.\n",
      "Stamps filtered in 14.6855 seconds\n",
      "Saving results\n",
      "Results aggregated in 0.0525 seconds\n",
      "Processing coarse channels 150-153\n"
     ]
    },
    {
     "name": "stderr",
     "output_type": "stream",
     "text": [
      " 50%|████▉     | 50/101 [14:15<14:37, 17.21s/it]"
     ]
    },
    {
     "name": "stdout",
     "output_type": "stream",
     "text": [
      "Data loaded in 0.8234 seconds, processing\n",
      "Bandpass cleaned in 1.7047 seconds.\n",
      "Stamps filtered in 14.3402 seconds\n",
      "Saving results\n",
      "Results aggregated in 0.0522 seconds\n",
      "Processing coarse channels 153-156\n"
     ]
    },
    {
     "name": "stderr",
     "output_type": "stream",
     "text": [
      " 50%|█████     | 51/101 [14:32<14:16, 17.12s/it]"
     ]
    },
    {
     "name": "stdout",
     "output_type": "stream",
     "text": [
      "Data loaded in 0.8367 seconds, processing\n",
      "Bandpass cleaned in 1.6854 seconds.\n",
      "Stamps filtered in 14.5671 seconds\n",
      "Saving results\n",
      "Results aggregated in 0.0552 seconds\n",
      "Processing coarse channels 156-159\n"
     ]
    },
    {
     "name": "stderr",
     "output_type": "stream",
     "text": [
      " 51%|█████▏    | 52/101 [14:49<13:59, 17.13s/it]"
     ]
    },
    {
     "name": "stdout",
     "output_type": "stream",
     "text": [
      "Data loaded in 0.8141 seconds, processing\n",
      "Bandpass cleaned in 1.7072 seconds.\n",
      "Stamps filtered in 14.5757 seconds\n",
      "Saving results\n",
      "Results aggregated in 0.0525 seconds\n",
      "Processing coarse channels 159-162\n"
     ]
    },
    {
     "name": "stderr",
     "output_type": "stream",
     "text": [
      " 52%|█████▏    | 53/101 [15:06<13:42, 17.14s/it]"
     ]
    },
    {
     "name": "stdout",
     "output_type": "stream",
     "text": [
      "Data loaded in 0.8035 seconds, processing\n",
      "Bandpass cleaned in 1.6834 seconds.\n",
      "Stamps filtered in 14.3144 seconds\n",
      "Saving results\n",
      "Results aggregated in 0.0534 seconds\n",
      "Processing coarse channels 162-165\n"
     ]
    },
    {
     "name": "stderr",
     "output_type": "stream",
     "text": [
      " 53%|█████▎    | 54/101 [15:23<13:21, 17.06s/it]"
     ]
    },
    {
     "name": "stdout",
     "output_type": "stream",
     "text": [
      "Data loaded in 1.0167 seconds, processing\n",
      "Bandpass cleaned in 1.7707 seconds.\n",
      "Stamps filtered in 14.6489 seconds\n",
      "Saving results\n",
      "Results aggregated in 0.0500 seconds\n",
      "Processing coarse channels 165-168\n"
     ]
    },
    {
     "name": "stderr",
     "output_type": "stream",
     "text": [
      " 54%|█████▍    | 55/101 [15:41<13:10, 17.19s/it]"
     ]
    },
    {
     "name": "stdout",
     "output_type": "stream",
     "text": [
      "Data loaded in 0.8625 seconds, processing\n",
      "Bandpass cleaned in 1.6751 seconds.\n",
      "Stamps filtered in 14.5531 seconds\n",
      "Saving results\n",
      "Results aggregated in 0.0527 seconds\n",
      "Processing coarse channels 168-171\n"
     ]
    },
    {
     "name": "stderr",
     "output_type": "stream",
     "text": [
      " 55%|█████▌    | 56/101 [15:58<12:52, 17.18s/it]"
     ]
    },
    {
     "name": "stdout",
     "output_type": "stream",
     "text": [
      "Data loaded in 0.8397 seconds, processing\n",
      "Bandpass cleaned in 1.8078 seconds.\n",
      "Stamps filtered in 14.2001 seconds\n",
      "Saving results\n",
      "Results aggregated in 0.0586 seconds\n",
      "Processing coarse channels 171-174\n"
     ]
    },
    {
     "name": "stderr",
     "output_type": "stream",
     "text": [
      " 56%|█████▋    | 57/101 [16:15<12:32, 17.10s/it]"
     ]
    },
    {
     "name": "stdout",
     "output_type": "stream",
     "text": [
      "Data loaded in 0.8695 seconds, processing\n",
      "Bandpass cleaned in 1.6263 seconds.\n",
      "Stamps filtered in 14.4011 seconds\n",
      "Saving results\n",
      "Results aggregated in 0.0540 seconds\n",
      "Processing coarse channels 174-177\n"
     ]
    },
    {
     "name": "stderr",
     "output_type": "stream",
     "text": [
      " 57%|█████▋    | 58/101 [16:32<12:13, 17.06s/it]"
     ]
    },
    {
     "name": "stdout",
     "output_type": "stream",
     "text": [
      "Data loaded in 0.9477 seconds, processing\n",
      "Bandpass cleaned in 1.6799 seconds.\n",
      "Stamps filtered in 14.6346 seconds\n",
      "Saving results\n",
      "Results aggregated in 0.0547 seconds\n",
      "Processing coarse channels 177-180\n"
     ]
    },
    {
     "name": "stderr",
     "output_type": "stream",
     "text": [
      " 58%|█████▊    | 59/101 [16:49<11:59, 17.14s/it]"
     ]
    },
    {
     "name": "stdout",
     "output_type": "stream",
     "text": [
      "Data loaded in 1.0199 seconds, processing\n",
      "Bandpass cleaned in 1.6727 seconds.\n",
      "Stamps filtered in 14.3016 seconds\n",
      "Saving results\n",
      "Results aggregated in 0.0548 seconds\n",
      "Processing coarse channels 180-183\n"
     ]
    },
    {
     "name": "stderr",
     "output_type": "stream",
     "text": [
      " 59%|█████▉    | 60/101 [17:06<11:41, 17.11s/it]"
     ]
    },
    {
     "name": "stdout",
     "output_type": "stream",
     "text": [
      "Data loaded in 0.9300 seconds, processing\n",
      "Bandpass cleaned in 1.6822 seconds.\n",
      "Stamps filtered in 14.4004 seconds\n",
      "Saving results\n",
      "Results aggregated in 0.0539 seconds\n",
      "Processing coarse channels 183-186\n"
     ]
    },
    {
     "name": "stderr",
     "output_type": "stream",
     "text": [
      " 60%|██████    | 61/101 [17:23<11:24, 17.10s/it]"
     ]
    },
    {
     "name": "stdout",
     "output_type": "stream",
     "text": [
      "Data loaded in 0.8961 seconds, processing\n",
      "Bandpass cleaned in 1.6323 seconds.\n",
      "Stamps filtered in 14.7465 seconds\n",
      "Saving results\n",
      "Results aggregated in 0.1771 seconds\n",
      "Processing coarse channels 186-189\n"
     ]
    },
    {
     "name": "stderr",
     "output_type": "stream",
     "text": [
      " 61%|██████▏   | 62/101 [17:41<11:11, 17.21s/it]"
     ]
    },
    {
     "name": "stdout",
     "output_type": "stream",
     "text": [
      "Data loaded in 0.7957 seconds, processing\n",
      "Bandpass cleaned in 1.6717 seconds.\n",
      "Stamps filtered in 14.5525 seconds\n",
      "Saving results\n",
      "Results aggregated in 0.0597 seconds\n",
      "Processing coarse channels 189-192\n"
     ]
    },
    {
     "name": "stderr",
     "output_type": "stream",
     "text": [
      " 62%|██████▏   | 63/101 [17:58<10:52, 17.17s/it]"
     ]
    },
    {
     "name": "stdout",
     "output_type": "stream",
     "text": [
      "Data loaded in 0.8843 seconds, processing\n",
      "Bandpass cleaned in 1.6658 seconds.\n",
      "Stamps filtered in 14.2425 seconds\n",
      "Saving results\n",
      "Results aggregated in 0.0562 seconds\n",
      "Processing coarse channels 192-195\n"
     ]
    },
    {
     "name": "stderr",
     "output_type": "stream",
     "text": [
      " 63%|██████▎   | 64/101 [18:14<10:31, 17.08s/it]"
     ]
    },
    {
     "name": "stdout",
     "output_type": "stream",
     "text": [
      "Data loaded in 0.9054 seconds, processing\n",
      "Bandpass cleaned in 1.6528 seconds.\n",
      "Stamps filtered in 14.4237 seconds\n",
      "Saving results\n",
      "Results aggregated in 0.0516 seconds\n",
      "Processing coarse channels 195-198\n"
     ]
    },
    {
     "name": "stderr",
     "output_type": "stream",
     "text": [
      " 64%|██████▍   | 65/101 [18:31<10:14, 17.07s/it]"
     ]
    },
    {
     "name": "stdout",
     "output_type": "stream",
     "text": [
      "Data loaded in 0.8001 seconds, processing\n",
      "Bandpass cleaned in 1.6991 seconds.\n",
      "Stamps filtered in 14.1287 seconds\n",
      "Saving results\n",
      "Results aggregated in 0.0575 seconds\n",
      "Processing coarse channels 198-201\n"
     ]
    },
    {
     "name": "stderr",
     "output_type": "stream",
     "text": [
      " 65%|██████▌   | 66/101 [18:48<09:53, 16.95s/it]"
     ]
    },
    {
     "name": "stdout",
     "output_type": "stream",
     "text": [
      "Data loaded in 0.8268 seconds, processing\n",
      "Bandpass cleaned in 1.6400 seconds.\n",
      "Stamps filtered in 14.3027 seconds\n",
      "Saving results\n",
      "Results aggregated in 0.0517 seconds\n",
      "Processing coarse channels 201-204\n"
     ]
    },
    {
     "name": "stderr",
     "output_type": "stream",
     "text": [
      " 66%|██████▋   | 67/101 [19:05<09:35, 16.92s/it]"
     ]
    },
    {
     "name": "stdout",
     "output_type": "stream",
     "text": [
      "Data loaded in 0.7958 seconds, processing\n",
      "Bandpass cleaned in 1.6265 seconds.\n",
      "Stamps filtered in 14.7203 seconds\n",
      "Saving results\n",
      "Results aggregated in 0.0553 seconds\n",
      "Processing coarse channels 204-207\n"
     ]
    },
    {
     "name": "stderr",
     "output_type": "stream",
     "text": [
      " 67%|██████▋   | 68/101 [19:22<09:21, 17.00s/it]"
     ]
    },
    {
     "name": "stdout",
     "output_type": "stream",
     "text": [
      "Data loaded in 0.9141 seconds, processing\n",
      "Bandpass cleaned in 1.7145 seconds.\n",
      "Stamps filtered in 14.3051 seconds\n",
      "Saving results\n",
      "Results aggregated in 0.0587 seconds\n",
      "Processing coarse channels 207-210\n"
     ]
    },
    {
     "name": "stderr",
     "output_type": "stream",
     "text": [
      " 68%|██████▊   | 69/101 [19:39<09:04, 17.00s/it]"
     ]
    },
    {
     "name": "stdout",
     "output_type": "stream",
     "text": [
      "Data loaded in 0.8277 seconds, processing\n",
      "Bandpass cleaned in 1.6510 seconds.\n",
      "Stamps filtered in 14.4572 seconds\n",
      "Saving results\n"
     ]
    },
    {
     "name": "stderr",
     "output_type": "stream",
     "text": [
      " 69%|██████▉   | 70/101 [19:57<08:50, 17.11s/it]"
     ]
    },
    {
     "name": "stdout",
     "output_type": "stream",
     "text": [
      "Results aggregated in 0.4050 seconds\n",
      "Processing coarse channels 210-213\n",
      "Data loaded in 0.8366 seconds, processing\n",
      "Bandpass cleaned in 1.7325 seconds.\n",
      "Stamps filtered in 14.3692 seconds\n",
      "Saving results\n",
      "Results aggregated in 0.0697 seconds\n",
      "Processing coarse channels 213-216\n"
     ]
    },
    {
     "name": "stderr",
     "output_type": "stream",
     "text": [
      " 70%|███████   | 71/101 [20:14<08:32, 17.08s/it]"
     ]
    },
    {
     "name": "stdout",
     "output_type": "stream",
     "text": [
      "Data loaded in 0.8735 seconds, processing\n",
      "Bandpass cleaned in 1.7252 seconds.\n",
      "Stamps filtered in 14.2989 seconds\n",
      "Saving results\n"
     ]
    },
    {
     "name": "stderr",
     "output_type": "stream",
     "text": [
      " 71%|███████▏  | 72/101 [20:31<08:16, 17.13s/it]"
     ]
    },
    {
     "name": "stdout",
     "output_type": "stream",
     "text": [
      "Results aggregated in 0.3362 seconds\n",
      "Processing coarse channels 216-219\n",
      "Data loaded in 0.8564 seconds, processing\n",
      "Bandpass cleaned in 1.7389 seconds.\n",
      "Stamps filtered in 14.3851 seconds\n",
      "Saving results\n"
     ]
    },
    {
     "name": "stderr",
     "output_type": "stream",
     "text": [
      " 72%|███████▏  | 73/101 [20:50<08:15, 17.69s/it]"
     ]
    },
    {
     "name": "stdout",
     "output_type": "stream",
     "text": [
      "Results aggregated in 1.9749 seconds\n",
      "Processing coarse channels 219-222\n",
      "Data loaded in 0.9441 seconds, processing\n",
      "Bandpass cleaned in 2.0198 seconds.\n",
      "Stamps filtered in 14.6834 seconds\n",
      "Saving results\n",
      "Results aggregated in 0.1144 seconds\n",
      "Processing coarse channels 222-225\n"
     ]
    },
    {
     "name": "stderr",
     "output_type": "stream",
     "text": [
      " 73%|███████▎  | 74/101 [21:08<07:58, 17.71s/it]"
     ]
    },
    {
     "name": "stdout",
     "output_type": "stream",
     "text": [
      "Data loaded in 0.9222 seconds, processing\n",
      "Bandpass cleaned in 1.6907 seconds.\n",
      "Stamps filtered in 14.5065 seconds\n",
      "Saving results\n",
      "Results aggregated in 0.0614 seconds\n",
      "Processing coarse channels 225-228\n"
     ]
    },
    {
     "name": "stderr",
     "output_type": "stream",
     "text": [
      " 74%|███████▍  | 75/101 [21:25<07:36, 17.55s/it]"
     ]
    },
    {
     "name": "stdout",
     "output_type": "stream",
     "text": [
      "Data loaded in 0.8366 seconds, processing\n",
      "Bandpass cleaned in 1.6939 seconds.\n",
      "Stamps filtered in 14.5543 seconds\n",
      "Saving results\n"
     ]
    },
    {
     "name": "stderr",
     "output_type": "stream",
     "text": [
      " 75%|███████▌  | 76/101 [21:43<07:26, 17.85s/it]"
     ]
    },
    {
     "name": "stdout",
     "output_type": "stream",
     "text": [
      "Results aggregated in 1.4223 seconds\n",
      "Processing coarse channels 228-231\n",
      "Data loaded in 0.9711 seconds, processing\n",
      "Bandpass cleaned in 1.7780 seconds.\n",
      "Stamps filtered in 14.5968 seconds\n",
      "Saving results\n"
     ]
    },
    {
     "name": "stderr",
     "output_type": "stream",
     "text": [
      " 76%|███████▌  | 77/101 [22:02<07:10, 17.95s/it]"
     ]
    },
    {
     "name": "stdout",
     "output_type": "stream",
     "text": [
      "Results aggregated in 0.8283 seconds\n",
      "Processing coarse channels 231-234\n",
      "Data loaded in 0.8980 seconds, processing\n",
      "Bandpass cleaned in 1.9708 seconds.\n",
      "Stamps filtered in 14.4435 seconds\n",
      "Saving results\n",
      "Results aggregated in 0.0945 seconds\n",
      "Processing coarse channels 234-237\n"
     ]
    },
    {
     "name": "stderr",
     "output_type": "stream",
     "text": [
      " 77%|███████▋  | 78/101 [22:19<06:49, 17.79s/it]"
     ]
    },
    {
     "name": "stdout",
     "output_type": "stream",
     "text": [
      "Data loaded in 0.8490 seconds, processing\n",
      "Bandpass cleaned in 1.7450 seconds.\n",
      "Stamps filtered in 14.1419 seconds\n",
      "Saving results\n",
      "Results aggregated in 0.0674 seconds\n",
      "Processing coarse channels 237-240\n"
     ]
    },
    {
     "name": "stderr",
     "output_type": "stream",
     "text": [
      " 78%|███████▊  | 79/101 [22:36<06:24, 17.50s/it]"
     ]
    },
    {
     "name": "stdout",
     "output_type": "stream",
     "text": [
      "Data loaded in 0.8738 seconds, processing\n",
      "Bandpass cleaned in 1.8174 seconds.\n",
      "Stamps filtered in 14.6831 seconds\n",
      "Saving results\n",
      "Results aggregated in 0.0683 seconds\n",
      "Processing coarse channels 240-243\n"
     ]
    },
    {
     "name": "stderr",
     "output_type": "stream",
     "text": [
      " 79%|███████▉  | 80/101 [22:53<06:07, 17.48s/it]"
     ]
    },
    {
     "name": "stdout",
     "output_type": "stream",
     "text": [
      "Data loaded in 0.9346 seconds, processing\n",
      "Bandpass cleaned in 1.7255 seconds.\n",
      "Stamps filtered in 14.3571 seconds\n",
      "Saving results\n",
      "Results aggregated in 0.1980 seconds\n",
      "Processing coarse channels 243-246\n"
     ]
    },
    {
     "name": "stderr",
     "output_type": "stream",
     "text": [
      " 80%|████████  | 81/101 [23:10<05:48, 17.41s/it]"
     ]
    },
    {
     "name": "stdout",
     "output_type": "stream",
     "text": [
      "Data loaded in 0.9482 seconds, processing\n",
      "Bandpass cleaned in 1.9353 seconds.\n",
      "Stamps filtered in 14.5682 seconds\n",
      "Saving results\n",
      "Results aggregated in 0.1158 seconds\n",
      "Processing coarse channels 246-249\n"
     ]
    },
    {
     "name": "stderr",
     "output_type": "stream",
     "text": [
      " 81%|████████  | 82/101 [23:28<05:31, 17.46s/it]"
     ]
    },
    {
     "name": "stdout",
     "output_type": "stream",
     "text": [
      "Data loaded in 0.9262 seconds, processing\n",
      "Bandpass cleaned in 1.6746 seconds.\n",
      "Stamps filtered in 14.2266 seconds\n",
      "Saving results\n",
      "Results aggregated in 0.0755 seconds\n",
      "Processing coarse channels 249-252\n"
     ]
    },
    {
     "name": "stderr",
     "output_type": "stream",
     "text": [
      " 82%|████████▏ | 83/101 [23:45<05:11, 17.29s/it]"
     ]
    },
    {
     "name": "stdout",
     "output_type": "stream",
     "text": [
      "Data loaded in 0.8463 seconds, processing\n",
      "Bandpass cleaned in 1.6835 seconds.\n",
      "Stamps filtered in 14.5416 seconds\n",
      "Saving results\n",
      "Results aggregated in 0.1415 seconds\n",
      "Processing coarse channels 252-255\n"
     ]
    },
    {
     "name": "stderr",
     "output_type": "stream",
     "text": [
      " 83%|████████▎ | 84/101 [24:02<04:53, 17.27s/it]"
     ]
    },
    {
     "name": "stdout",
     "output_type": "stream",
     "text": [
      "Data loaded in 0.9194 seconds, processing\n",
      "Bandpass cleaned in 1.6538 seconds.\n",
      "Stamps filtered in 14.6874 seconds\n",
      "Saving results\n",
      "Results aggregated in 0.1987 seconds\n",
      "Processing coarse channels 255-258\n"
     ]
    },
    {
     "name": "stderr",
     "output_type": "stream",
     "text": [
      " 84%|████████▍ | 85/101 [24:20<04:37, 17.33s/it]"
     ]
    },
    {
     "name": "stdout",
     "output_type": "stream",
     "text": [
      "Data loaded in 0.8240 seconds, processing\n",
      "Bandpass cleaned in 1.7101 seconds.\n",
      "Stamps filtered in 14.1937 seconds\n",
      "Saving results\n",
      "Results aggregated in 0.0741 seconds\n",
      "Processing coarse channels 258-261\n"
     ]
    },
    {
     "name": "stderr",
     "output_type": "stream",
     "text": [
      " 85%|████████▌ | 86/101 [24:36<04:17, 17.17s/it]"
     ]
    },
    {
     "name": "stdout",
     "output_type": "stream",
     "text": [
      "Data loaded in 0.8811 seconds, processing\n",
      "Bandpass cleaned in 1.6573 seconds.\n",
      "Stamps filtered in 14.6416 seconds\n",
      "Saving results\n",
      "Results aggregated in 0.0767 seconds\n",
      "Processing coarse channels 261-264\n"
     ]
    },
    {
     "name": "stderr",
     "output_type": "stream",
     "text": [
      " 86%|████████▌ | 87/101 [24:54<04:00, 17.20s/it]"
     ]
    },
    {
     "name": "stdout",
     "output_type": "stream",
     "text": [
      "Data loaded in 1.0613 seconds, processing\n",
      "Bandpass cleaned in 1.7181 seconds.\n",
      "Stamps filtered in 14.3820 seconds\n",
      "Saving results\n",
      "Results aggregated in 0.0752 seconds\n",
      "Processing coarse channels 264-267\n"
     ]
    },
    {
     "name": "stderr",
     "output_type": "stream",
     "text": [
      " 87%|████████▋ | 88/101 [25:11<03:43, 17.21s/it]"
     ]
    },
    {
     "name": "stdout",
     "output_type": "stream",
     "text": [
      "Data loaded in 0.8907 seconds, processing\n",
      "Bandpass cleaned in 1.6464 seconds.\n",
      "Stamps filtered in 14.3951 seconds\n",
      "Saving results\n",
      "Results aggregated in 0.0794 seconds\n",
      "Processing coarse channels 267-270\n"
     ]
    },
    {
     "name": "stderr",
     "output_type": "stream",
     "text": [
      " 88%|████████▊ | 89/101 [25:28<03:25, 17.16s/it]"
     ]
    },
    {
     "name": "stdout",
     "output_type": "stream",
     "text": [
      "Data loaded in 0.9692 seconds, processing\n",
      "Bandpass cleaned in 1.8230 seconds.\n",
      "Stamps filtered in 14.3924 seconds\n",
      "Saving results\n",
      "Results aggregated in 0.0731 seconds\n",
      "Processing coarse channels 270-273\n"
     ]
    },
    {
     "name": "stderr",
     "output_type": "stream",
     "text": [
      " 89%|████████▉ | 90/101 [25:45<03:09, 17.19s/it]"
     ]
    },
    {
     "name": "stdout",
     "output_type": "stream",
     "text": [
      "Data loaded in 0.8529 seconds, processing\n",
      "Bandpass cleaned in 1.6906 seconds.\n",
      "Stamps filtered in 14.5371 seconds\n",
      "Saving results\n",
      "Results aggregated in 0.0797 seconds\n",
      "Processing coarse channels 273-276\n"
     ]
    },
    {
     "name": "stderr",
     "output_type": "stream",
     "text": [
      " 90%|█████████ | 91/101 [26:02<02:51, 17.18s/it]"
     ]
    },
    {
     "name": "stdout",
     "output_type": "stream",
     "text": [
      "Data loaded in 0.9431 seconds, processing\n",
      "Bandpass cleaned in 1.6754 seconds.\n",
      "Stamps filtered in 14.7763 seconds\n",
      "Saving results\n",
      "Results aggregated in 0.0758 seconds\n",
      "Processing coarse channels 276-279\n"
     ]
    },
    {
     "name": "stderr",
     "output_type": "stream",
     "text": [
      " 91%|█████████ | 92/101 [26:20<02:35, 17.27s/it]"
     ]
    },
    {
     "name": "stdout",
     "output_type": "stream",
     "text": [
      "Data loaded in 0.8800 seconds, processing\n",
      "Bandpass cleaned in 1.7790 seconds.\n",
      "Stamps filtered in 14.6086 seconds\n",
      "Saving results\n",
      "Results aggregated in 0.0735 seconds\n",
      "Processing coarse channels 279-282\n"
     ]
    },
    {
     "name": "stderr",
     "output_type": "stream",
     "text": [
      " 92%|█████████▏| 93/101 [26:37<02:18, 17.29s/it]"
     ]
    },
    {
     "name": "stdout",
     "output_type": "stream",
     "text": [
      "Data loaded in 0.9794 seconds, processing\n",
      "Bandpass cleaned in 1.6371 seconds.\n",
      "Stamps filtered in 14.5347 seconds\n",
      "Saving results\n",
      "Results aggregated in 0.0733 seconds\n",
      "Processing coarse channels 282-285\n"
     ]
    },
    {
     "name": "stderr",
     "output_type": "stream",
     "text": [
      " 93%|█████████▎| 94/101 [26:54<02:00, 17.28s/it]"
     ]
    },
    {
     "name": "stdout",
     "output_type": "stream",
     "text": [
      "Data loaded in 0.8937 seconds, processing\n",
      "Bandpass cleaned in 1.8224 seconds.\n",
      "Stamps filtered in 14.5413 seconds\n",
      "Saving results\n",
      "Results aggregated in 0.0679 seconds\n",
      "Processing coarse channels 285-288\n"
     ]
    },
    {
     "name": "stderr",
     "output_type": "stream",
     "text": [
      " 94%|█████████▍| 95/101 [27:12<01:43, 17.29s/it]"
     ]
    },
    {
     "name": "stdout",
     "output_type": "stream",
     "text": [
      "Data loaded in 0.9351 seconds, processing\n",
      "Bandpass cleaned in 2.1527 seconds.\n",
      "Stamps filtered in 14.4908 seconds\n",
      "Saving results\n",
      "Results aggregated in 0.0795 seconds\n",
      "Processing coarse channels 288-291\n"
     ]
    },
    {
     "name": "stderr",
     "output_type": "stream",
     "text": [
      " 95%|█████████▌| 96/101 [27:29<01:27, 17.41s/it]"
     ]
    },
    {
     "name": "stdout",
     "output_type": "stream",
     "text": [
      "Data loaded in 0.8329 seconds, processing\n",
      "Bandpass cleaned in 1.7710 seconds.\n",
      "Stamps filtered in 14.3828 seconds\n",
      "Saving results\n",
      "Results aggregated in 0.0997 seconds\n",
      "Processing coarse channels 291-294\n"
     ]
    },
    {
     "name": "stderr",
     "output_type": "stream",
     "text": [
      " 96%|█████████▌| 97/101 [27:47<01:09, 17.31s/it]"
     ]
    },
    {
     "name": "stdout",
     "output_type": "stream",
     "text": [
      "Data loaded in 0.8594 seconds, processing\n",
      "Bandpass cleaned in 1.6760 seconds.\n",
      "Stamps filtered in 14.4389 seconds\n",
      "Saving results\n",
      "Results aggregated in 0.0977 seconds\n",
      "Processing coarse channels 294-297\n"
     ]
    },
    {
     "name": "stderr",
     "output_type": "stream",
     "text": [
      " 97%|█████████▋| 98/101 [28:04<00:51, 17.24s/it]"
     ]
    },
    {
     "name": "stdout",
     "output_type": "stream",
     "text": [
      "Data loaded in 0.8561 seconds, processing\n",
      "Bandpass cleaned in 1.7840 seconds.\n",
      "Stamps filtered in 13.8829 seconds\n",
      "Saving results\n",
      "Results aggregated in 0.0869 seconds\n",
      "Processing coarse channels 297-300\n"
     ]
    },
    {
     "name": "stderr",
     "output_type": "stream",
     "text": [
      " 98%|█████████▊| 99/101 [28:20<00:34, 17.06s/it]"
     ]
    },
    {
     "name": "stdout",
     "output_type": "stream",
     "text": [
      "Data loaded in 0.8499 seconds, processing\n",
      "Bandpass cleaned in 1.6700 seconds.\n",
      "Stamps filtered in 14.3237 seconds\n",
      "Saving results\n",
      "Results aggregated in 0.0751 seconds\n",
      "Processing coarse channels 300-303\n"
     ]
    },
    {
     "name": "stderr",
     "output_type": "stream",
     "text": [
      " 99%|█████████▉| 100/101 [28:37<00:17, 17.02s/it]"
     ]
    },
    {
     "name": "stdout",
     "output_type": "stream",
     "text": [
      "Data loaded in 0.8259 seconds, processing\n",
      "Bandpass cleaned in 1.6688 seconds.\n",
      "Stamps filtered in 14.5335 seconds\n",
      "Saving results\n"
     ]
    },
    {
     "name": "stderr",
     "output_type": "stream",
     "text": [
      "100%|██████████| 101/101 [28:54<00:00, 17.18s/it]\n"
     ]
    },
    {
     "name": "stdout",
     "output_type": "stream",
     "text": [
      "Results aggregated in 0.0744 seconds\n",
      "       level_0      index     statistic  pvalue        freqs\n",
      "81677    81677  293433216  64103.811233     0.0  1094.238644\n",
      "81701    81701  294466432  34761.644863     0.0  1091.308957\n",
      "82176    82176  313064320  28991.211523     0.0  1038.574582\n",
      "81736    81736  295499648  17521.823810     0.0  1088.379269\n",
      "4055      4055   86321664  13433.956292     0.0  1681.504158\n",
      "4056      4056   86321792  13411.494759     0.0  1681.503795\n",
      "3415      3415   81751168  12530.590458     0.0  1694.463815\n",
      "3416      3416   81751296  12522.820129     0.0  1694.463452\n",
      "3357      3357   78904576   8282.928866     0.0  1702.535336\n",
      "3226      3226   34612736   8052.571115     0.0  1828.125000\n",
      "3225      3225   34612608   8052.568886     0.0  1828.125363\n",
      "3314      3314   66642432   8052.530208     0.0  1737.304688\n",
      "303 303\n",
      "Finished Energy Detection on GBT_57515_83255_HIP44295_fine.h5 in 1746.1503 seconds\n",
      "/mnt_blpd7/datax/dl/GBT_57515_83602_HIP43418_fine.h5\n",
      "Header saved to ../../../../../../datax/scratch/pma/reverse_search/train/HIP44295-23/GBT_57515_83602_HIP43418_fine/header.pkl\n",
      "Processing 3 in parallel\n",
      "Processing coarse channels 0-3\n"
     ]
    },
    {
     "name": "stderr",
     "output_type": "stream",
     "text": [
      "  0%|          | 0/101 [00:00<?, ?it/s]"
     ]
    },
    {
     "name": "stdout",
     "output_type": "stream",
     "text": [
      "Data loaded in 1.3396 seconds, processing\n",
      "Bandpass cleaned in 1.6500 seconds.\n",
      "Stamps filtered in 13.6765 seconds\n",
      "Saving results\n"
     ]
    },
    {
     "name": "stderr",
     "output_type": "stream",
     "text": [
      "  1%|          | 1/101 [00:16<28:17, 16.97s/it]"
     ]
    },
    {
     "name": "stdout",
     "output_type": "stream",
     "text": [
      "Results aggregated in 0.2937 seconds\n",
      "Processing coarse channels 3-6\n",
      "Data loaded in 1.2245 seconds, processing\n",
      "Bandpass cleaned in 1.6717 seconds.\n",
      "Stamps filtered in 13.8648 seconds\n",
      "Saving results\n",
      "Results aggregated in 0.0436 seconds\n",
      "Processing coarse channels 6-9\n"
     ]
    },
    {
     "name": "stderr",
     "output_type": "stream",
     "text": [
      "  2%|▏         | 2/101 [00:33<27:50, 16.88s/it]"
     ]
    },
    {
     "name": "stdout",
     "output_type": "stream",
     "text": [
      "Data loaded in 1.2264 seconds, processing\n",
      "Bandpass cleaned in 1.7095 seconds.\n",
      "Stamps filtered in 13.7688 seconds\n",
      "Saving results\n",
      "Results aggregated in 0.0346 seconds\n",
      "Processing coarse channels 9-12\n"
     ]
    },
    {
     "name": "stderr",
     "output_type": "stream",
     "text": [
      "  3%|▎         | 3/101 [00:50<27:28, 16.82s/it]"
     ]
    },
    {
     "name": "stdout",
     "output_type": "stream",
     "text": [
      "Data loaded in 0.8149 seconds, processing\n",
      "Bandpass cleaned in 1.6053 seconds.\n",
      "Stamps filtered in 13.7577 seconds\n",
      "Saving results\n",
      "Results aggregated in 0.0361 seconds\n",
      "Processing coarse channels 12-15\n"
     ]
    },
    {
     "name": "stderr",
     "output_type": "stream",
     "text": [
      "  4%|▍         | 4/101 [01:06<26:48, 16.58s/it]"
     ]
    },
    {
     "name": "stdout",
     "output_type": "stream",
     "text": [
      "Data loaded in 0.9379 seconds, processing\n",
      "Bandpass cleaned in 1.5671 seconds.\n",
      "Stamps filtered in 13.5232 seconds\n",
      "Saving results\n",
      "Results aggregated in 0.0378 seconds\n",
      "Processing coarse channels 15-18\n"
     ]
    },
    {
     "name": "stderr",
     "output_type": "stream",
     "text": [
      "  5%|▍         | 5/101 [01:22<26:14, 16.40s/it]"
     ]
    },
    {
     "name": "stdout",
     "output_type": "stream",
     "text": [
      "Data loaded in 0.7797 seconds, processing\n",
      "Bandpass cleaned in 1.6484 seconds.\n",
      "Stamps filtered in 13.8216 seconds\n",
      "Saving results\n",
      "Results aggregated in 0.0385 seconds\n",
      "Processing coarse channels 18-21\n"
     ]
    },
    {
     "name": "stderr",
     "output_type": "stream",
     "text": [
      "  6%|▌         | 6/101 [01:39<25:54, 16.36s/it]"
     ]
    },
    {
     "name": "stdout",
     "output_type": "stream",
     "text": [
      "Data loaded in 0.8967 seconds, processing\n",
      "Bandpass cleaned in 1.6376 seconds.\n",
      "Stamps filtered in 13.9082 seconds\n",
      "Saving results\n",
      "Results aggregated in 0.0322 seconds\n",
      "Processing coarse channels 21-24\n"
     ]
    },
    {
     "name": "stderr",
     "output_type": "stream",
     "text": [
      "  7%|▋         | 7/101 [01:55<25:41, 16.40s/it]"
     ]
    },
    {
     "name": "stdout",
     "output_type": "stream",
     "text": [
      "Data loaded in 0.9160 seconds, processing\n",
      "Bandpass cleaned in 1.6409 seconds.\n",
      "Stamps filtered in 13.7421 seconds\n",
      "Saving results\n",
      "Results aggregated in 0.0362 seconds\n",
      "Processing coarse channels 24-27\n"
     ]
    },
    {
     "name": "stderr",
     "output_type": "stream",
     "text": [
      "  8%|▊         | 8/101 [02:11<25:23, 16.38s/it]"
     ]
    },
    {
     "name": "stdout",
     "output_type": "stream",
     "text": [
      "Data loaded in 0.7725 seconds, processing\n",
      "Bandpass cleaned in 1.7662 seconds.\n",
      "Stamps filtered in 13.8490 seconds\n",
      "Saving results\n",
      "Results aggregated in 0.0357 seconds\n",
      "Processing coarse channels 27-30\n"
     ]
    },
    {
     "name": "stderr",
     "output_type": "stream",
     "text": [
      "  9%|▉         | 9/101 [02:28<25:08, 16.40s/it]"
     ]
    },
    {
     "name": "stdout",
     "output_type": "stream",
     "text": [
      "Data loaded in 0.8553 seconds, processing\n",
      "Bandpass cleaned in 1.8516 seconds.\n",
      "Stamps filtered in 14.0013 seconds\n",
      "Saving results\n",
      "Results aggregated in 0.0358 seconds\n",
      "Processing coarse channels 30-33\n"
     ]
    },
    {
     "name": "stderr",
     "output_type": "stream",
     "text": [
      " 10%|▉         | 10/101 [02:45<25:02, 16.51s/it]"
     ]
    },
    {
     "name": "stdout",
     "output_type": "stream",
     "text": [
      "Data loaded in 0.7602 seconds, processing\n",
      "Bandpass cleaned in 1.7624 seconds.\n",
      "Stamps filtered in 13.1517 seconds\n",
      "Saving results\n",
      "Results aggregated in 0.0344 seconds\n",
      "Processing coarse channels 33-36\n"
     ]
    },
    {
     "name": "stderr",
     "output_type": "stream",
     "text": [
      " 11%|█         | 11/101 [03:00<24:23, 16.26s/it]"
     ]
    },
    {
     "name": "stdout",
     "output_type": "stream",
     "text": [
      "Data loaded in 0.8579 seconds, processing\n",
      "Bandpass cleaned in 1.5966 seconds.\n",
      "Stamps filtered in 13.7359 seconds\n",
      "Saving results\n",
      "Results aggregated in 0.0345 seconds\n",
      "Processing coarse channels 36-39\n"
     ]
    },
    {
     "name": "stderr",
     "output_type": "stream",
     "text": [
      " 12%|█▏        | 12/101 [03:17<24:06, 16.25s/it]"
     ]
    },
    {
     "name": "stdout",
     "output_type": "stream",
     "text": [
      "Data loaded in 0.7828 seconds, processing\n",
      "Bandpass cleaned in 1.6398 seconds.\n",
      "Stamps filtered in 13.6343 seconds\n",
      "Saving results\n",
      "Results aggregated in 0.0372 seconds\n",
      "Processing coarse channels 39-42\n"
     ]
    },
    {
     "name": "stderr",
     "output_type": "stream",
     "text": [
      " 13%|█▎        | 13/101 [03:33<23:46, 16.21s/it]"
     ]
    },
    {
     "name": "stdout",
     "output_type": "stream",
     "text": [
      "Data loaded in 0.7560 seconds, processing\n",
      "Bandpass cleaned in 1.7056 seconds.\n",
      "Stamps filtered in 13.7538 seconds\n",
      "Saving results\n",
      "Results aggregated in 0.0349 seconds\n",
      "Processing coarse channels 42-45\n"
     ]
    },
    {
     "name": "stderr",
     "output_type": "stream",
     "text": [
      " 14%|█▍        | 14/101 [03:49<23:31, 16.22s/it]"
     ]
    },
    {
     "name": "stdout",
     "output_type": "stream",
     "text": [
      "Data loaded in 0.7988 seconds, processing\n",
      "Bandpass cleaned in 1.5835 seconds.\n",
      "Stamps filtered in 13.7336 seconds\n",
      "Saving results\n",
      "Results aggregated in 0.0375 seconds\n",
      "Processing coarse channels 45-48\n"
     ]
    },
    {
     "name": "stderr",
     "output_type": "stream",
     "text": [
      " 15%|█▍        | 15/101 [04:05<23:13, 16.20s/it]"
     ]
    },
    {
     "name": "stdout",
     "output_type": "stream",
     "text": [
      "Data loaded in 0.7584 seconds, processing\n",
      "Bandpass cleaned in 1.6382 seconds.\n",
      "Stamps filtered in 13.7029 seconds\n",
      "Saving results\n",
      "Results aggregated in 0.0363 seconds\n",
      "Processing coarse channels 48-51\n"
     ]
    },
    {
     "name": "stderr",
     "output_type": "stream",
     "text": [
      " 16%|█▌        | 16/101 [04:21<22:55, 16.19s/it]"
     ]
    },
    {
     "name": "stdout",
     "output_type": "stream",
     "text": [
      "Data loaded in 0.7745 seconds, processing\n",
      "Bandpass cleaned in 1.6505 seconds.\n",
      "Stamps filtered in 13.6162 seconds\n",
      "Saving results\n",
      "Results aggregated in 0.0360 seconds\n",
      "Processing coarse channels 51-54\n"
     ]
    },
    {
     "name": "stderr",
     "output_type": "stream",
     "text": [
      " 17%|█▋        | 17/101 [04:37<22:37, 16.16s/it]"
     ]
    },
    {
     "name": "stdout",
     "output_type": "stream",
     "text": [
      "Data loaded in 0.7450 seconds, processing\n",
      "Bandpass cleaned in 1.7569 seconds.\n",
      "Stamps filtered in 13.8422 seconds\n",
      "Saving results\n",
      "Results aggregated in 0.0361 seconds\n",
      "Processing coarse channels 54-57\n"
     ]
    },
    {
     "name": "stderr",
     "output_type": "stream",
     "text": [
      " 18%|█▊        | 18/101 [04:54<22:26, 16.23s/it]"
     ]
    },
    {
     "name": "stdout",
     "output_type": "stream",
     "text": [
      "Data loaded in 0.8195 seconds, processing\n",
      "Bandpass cleaned in 1.6474 seconds.\n",
      "Stamps filtered in 13.6953 seconds\n",
      "Saving results\n",
      "Results aggregated in 0.0343 seconds\n",
      "Processing coarse channels 57-60\n"
     ]
    },
    {
     "name": "stderr",
     "output_type": "stream",
     "text": [
      " 19%|█▉        | 19/101 [05:10<22:09, 16.22s/it]"
     ]
    },
    {
     "name": "stdout",
     "output_type": "stream",
     "text": [
      "Data loaded in 0.8911 seconds, processing\n",
      "Bandpass cleaned in 1.6141 seconds.\n",
      "Stamps filtered in 13.7593 seconds\n",
      "Saving results\n",
      "Results aggregated in 0.0390 seconds\n",
      "Processing coarse channels 60-63\n"
     ]
    },
    {
     "name": "stderr",
     "output_type": "stream",
     "text": [
      " 20%|█▉        | 20/101 [05:26<21:55, 16.25s/it]"
     ]
    },
    {
     "name": "stdout",
     "output_type": "stream",
     "text": [
      "Data loaded in 0.7834 seconds, processing\n",
      "Bandpass cleaned in 1.6448 seconds.\n",
      "Stamps filtered in 13.8967 seconds\n",
      "Saving results\n",
      "Results aggregated in 0.0361 seconds\n",
      "Processing coarse channels 63-66\n"
     ]
    },
    {
     "name": "stderr",
     "output_type": "stream",
     "text": [
      " 21%|██        | 21/101 [05:43<21:42, 16.28s/it]"
     ]
    },
    {
     "name": "stdout",
     "output_type": "stream",
     "text": [
      "Data loaded in 0.7879 seconds, processing\n",
      "Bandpass cleaned in 1.6421 seconds.\n",
      "Stamps filtered in 13.7526 seconds\n",
      "Saving results\n",
      "Results aggregated in 0.0375 seconds\n",
      "Processing coarse channels 66-69\n"
     ]
    },
    {
     "name": "stderr",
     "output_type": "stream",
     "text": [
      " 22%|██▏       | 22/101 [05:59<21:25, 16.27s/it]"
     ]
    },
    {
     "name": "stdout",
     "output_type": "stream",
     "text": [
      "Data loaded in 0.8764 seconds, processing\n",
      "Bandpass cleaned in 1.6463 seconds.\n",
      "Stamps filtered in 13.6470 seconds\n",
      "Saving results\n",
      "Results aggregated in 0.0339 seconds\n",
      "Processing coarse channels 69-72\n"
     ]
    },
    {
     "name": "stderr",
     "output_type": "stream",
     "text": [
      " 23%|██▎       | 23/101 [06:15<21:07, 16.25s/it]"
     ]
    },
    {
     "name": "stdout",
     "output_type": "stream",
     "text": [
      "Data loaded in 0.7730 seconds, processing\n",
      "Bandpass cleaned in 1.6596 seconds.\n",
      "Stamps filtered in 13.9694 seconds\n",
      "Saving results\n",
      "Results aggregated in 0.0366 seconds\n",
      "Processing coarse channels 72-75\n"
     ]
    },
    {
     "name": "stderr",
     "output_type": "stream",
     "text": [
      " 24%|██▍       | 24/101 [06:31<20:55, 16.31s/it]"
     ]
    },
    {
     "name": "stdout",
     "output_type": "stream",
     "text": [
      "Data loaded in 0.7741 seconds, processing\n",
      "Bandpass cleaned in 1.6261 seconds.\n",
      "Stamps filtered in 13.7664 seconds\n",
      "Saving results\n",
      "Results aggregated in 0.1488 seconds\n",
      "Processing coarse channels 75-78\n"
     ]
    },
    {
     "name": "stderr",
     "output_type": "stream",
     "text": [
      " 25%|██▍       | 25/101 [06:48<20:39, 16.31s/it]"
     ]
    },
    {
     "name": "stdout",
     "output_type": "stream",
     "text": [
      "Data loaded in 0.7454 seconds, processing\n",
      "Bandpass cleaned in 1.6665 seconds.\n",
      "Stamps filtered in 13.7786 seconds\n",
      "Saving results\n",
      "Results aggregated in 0.0709 seconds\n",
      "Processing coarse channels 78-81\n"
     ]
    },
    {
     "name": "stderr",
     "output_type": "stream",
     "text": [
      " 26%|██▌       | 26/101 [07:04<20:22, 16.30s/it]"
     ]
    },
    {
     "name": "stdout",
     "output_type": "stream",
     "text": [
      "Data loaded in 0.8826 seconds, processing\n",
      "Bandpass cleaned in 1.6453 seconds.\n",
      "Stamps filtered in 13.8606 seconds\n",
      "Saving results\n",
      "Results aggregated in 0.1200 seconds\n",
      "Processing coarse channels 81-84\n"
     ]
    },
    {
     "name": "stderr",
     "output_type": "stream",
     "text": [
      " 27%|██▋       | 27/101 [07:21<20:11, 16.37s/it]"
     ]
    },
    {
     "name": "stdout",
     "output_type": "stream",
     "text": [
      "Data loaded in 0.8418 seconds, processing\n",
      "Bandpass cleaned in 1.6339 seconds.\n",
      "Stamps filtered in 13.7224 seconds\n",
      "Saving results\n",
      "Results aggregated in 0.0862 seconds\n",
      "Processing coarse channels 84-87\n"
     ]
    },
    {
     "name": "stderr",
     "output_type": "stream",
     "text": [
      " 28%|██▊       | 28/101 [07:37<19:53, 16.34s/it]"
     ]
    },
    {
     "name": "stdout",
     "output_type": "stream",
     "text": [
      "Data loaded in 0.7662 seconds, processing\n",
      "Bandpass cleaned in 1.6523 seconds.\n",
      "Stamps filtered in 13.5816 seconds\n",
      "Saving results\n",
      "Results aggregated in 0.0523 seconds\n",
      "Processing coarse channels 87-90\n"
     ]
    },
    {
     "name": "stderr",
     "output_type": "stream",
     "text": [
      " 29%|██▊       | 29/101 [07:53<19:30, 16.26s/it]"
     ]
    },
    {
     "name": "stdout",
     "output_type": "stream",
     "text": [
      "Data loaded in 0.7848 seconds, processing\n",
      "Bandpass cleaned in 1.6127 seconds.\n",
      "Stamps filtered in 13.3234 seconds\n",
      "Saving results\n",
      "Results aggregated in 0.0444 seconds\n",
      "Processing coarse channels 90-93\n"
     ]
    },
    {
     "name": "stderr",
     "output_type": "stream",
     "text": [
      " 30%|██▉       | 30/101 [08:09<19:04, 16.11s/it]"
     ]
    },
    {
     "name": "stdout",
     "output_type": "stream",
     "text": [
      "Data loaded in 0.7497 seconds, processing\n",
      "Bandpass cleaned in 1.6409 seconds.\n",
      "Stamps filtered in 13.7553 seconds\n",
      "Saving results\n",
      "Results aggregated in 0.0464 seconds\n",
      "Processing coarse channels 93-96\n"
     ]
    },
    {
     "name": "stderr",
     "output_type": "stream",
     "text": [
      " 31%|███       | 31/101 [08:25<18:49, 16.14s/it]"
     ]
    },
    {
     "name": "stdout",
     "output_type": "stream",
     "text": [
      "Data loaded in 0.9625 seconds, processing\n",
      "Bandpass cleaned in 1.7356 seconds.\n",
      "Stamps filtered in 13.9369 seconds\n",
      "Saving results\n",
      "Results aggregated in 0.0425 seconds\n",
      "Processing coarse channels 96-99\n"
     ]
    },
    {
     "name": "stderr",
     "output_type": "stream",
     "text": [
      " 32%|███▏      | 32/101 [08:42<18:44, 16.30s/it]"
     ]
    },
    {
     "name": "stdout",
     "output_type": "stream",
     "text": [
      "Data loaded in 0.7793 seconds, processing\n",
      "Bandpass cleaned in 1.5899 seconds.\n",
      "Stamps filtered in 13.7945 seconds\n",
      "Saving results\n",
      "Results aggregated in 0.0425 seconds\n",
      "Processing coarse channels 99-102\n"
     ]
    },
    {
     "name": "stderr",
     "output_type": "stream",
     "text": [
      " 33%|███▎      | 33/101 [08:58<18:26, 16.28s/it]"
     ]
    },
    {
     "name": "stdout",
     "output_type": "stream",
     "text": [
      "Data loaded in 0.8064 seconds, processing\n",
      "Bandpass cleaned in 1.6516 seconds.\n",
      "Stamps filtered in 13.8562 seconds\n",
      "Saving results\n"
     ]
    },
    {
     "name": "stderr",
     "output_type": "stream",
     "text": [
      " 34%|███▎      | 34/101 [09:15<18:19, 16.41s/it]"
     ]
    },
    {
     "name": "stdout",
     "output_type": "stream",
     "text": [
      "Results aggregated in 0.3937 seconds\n",
      "Processing coarse channels 102-105\n",
      "Data loaded in 0.7975 seconds, processing\n",
      "Bandpass cleaned in 1.9689 seconds.\n",
      "Stamps filtered in 13.8360 seconds\n",
      "Saving results\n"
     ]
    },
    {
     "name": "stderr",
     "output_type": "stream",
     "text": [
      " 35%|███▍      | 35/101 [09:32<18:15, 16.59s/it]"
     ]
    },
    {
     "name": "stdout",
     "output_type": "stream",
     "text": [
      "Results aggregated in 0.4012 seconds\n",
      "Processing coarse channels 105-108\n",
      "Data loaded in 0.7469 seconds, processing\n",
      "Bandpass cleaned in 1.6659 seconds.\n",
      "Stamps filtered in 13.5881 seconds\n",
      "Saving results\n",
      "Results aggregated in 0.0485 seconds\n",
      "Processing coarse channels 108-111\n"
     ]
    },
    {
     "name": "stderr",
     "output_type": "stream",
     "text": [
      " 36%|███▌      | 36/101 [09:48<17:48, 16.43s/it]"
     ]
    },
    {
     "name": "stdout",
     "output_type": "stream",
     "text": [
      "Data loaded in 0.9340 seconds, processing\n",
      "Bandpass cleaned in 1.6414 seconds.\n",
      "Stamps filtered in 13.7812 seconds\n",
      "Saving results\n"
     ]
    },
    {
     "name": "stderr",
     "output_type": "stream",
     "text": [
      " 37%|███▋      | 37/101 [10:04<17:40, 16.57s/it]"
     ]
    },
    {
     "name": "stdout",
     "output_type": "stream",
     "text": [
      "Results aggregated in 0.5077 seconds\n",
      "Processing coarse channels 111-114\n",
      "Data loaded in 0.7847 seconds, processing\n",
      "Bandpass cleaned in 1.8623 seconds.\n",
      "Stamps filtered in 13.8369 seconds\n",
      "Saving results\n",
      "Results aggregated in 0.1378 seconds\n",
      "Processing coarse channels 114-117\n"
     ]
    },
    {
     "name": "stderr",
     "output_type": "stream",
     "text": [
      " 38%|███▊      | 38/101 [10:21<17:24, 16.59s/it]"
     ]
    },
    {
     "name": "stdout",
     "output_type": "stream",
     "text": [
      "Data loaded in 0.9064 seconds, processing\n",
      "Bandpass cleaned in 1.8167 seconds.\n",
      "Stamps filtered in 13.7893 seconds\n",
      "Saving results\n",
      "Results aggregated in 0.0494 seconds\n",
      "Processing coarse channels 117-120\n"
     ]
    },
    {
     "name": "stderr",
     "output_type": "stream",
     "text": [
      " 39%|███▊      | 39/101 [10:38<17:08, 16.58s/it]"
     ]
    },
    {
     "name": "stdout",
     "output_type": "stream",
     "text": [
      "Data loaded in 0.7500 seconds, processing\n",
      "Bandpass cleaned in 1.6458 seconds.\n",
      "Stamps filtered in 13.9420 seconds\n",
      "Saving results\n"
     ]
    },
    {
     "name": "stderr",
     "output_type": "stream",
     "text": [
      " 40%|███▉      | 40/101 [10:55<16:58, 16.70s/it]"
     ]
    },
    {
     "name": "stdout",
     "output_type": "stream",
     "text": [
      "Results aggregated in 0.6379 seconds\n",
      "Processing coarse channels 120-123\n",
      "Data loaded in 0.7996 seconds, processing\n",
      "Bandpass cleaned in 1.6508 seconds.\n",
      "Stamps filtered in 14.2048 seconds\n",
      "Saving results\n",
      "Results aggregated in 0.0635 seconds\n",
      "Processing coarse channels 123-126\n"
     ]
    },
    {
     "name": "stderr",
     "output_type": "stream",
     "text": [
      " 41%|████      | 41/101 [11:11<16:42, 16.71s/it]"
     ]
    },
    {
     "name": "stdout",
     "output_type": "stream",
     "text": [
      "Data loaded in 1.0932 seconds, processing\n",
      "Bandpass cleaned in 1.6695 seconds.\n",
      "Stamps filtered in 13.5405 seconds\n",
      "Saving results\n"
     ]
    },
    {
     "name": "stderr",
     "output_type": "stream",
     "text": [
      " 42%|████▏     | 42/101 [11:28<16:30, 16.79s/it]"
     ]
    },
    {
     "name": "stdout",
     "output_type": "stream",
     "text": [
      "Results aggregated in 0.6462 seconds\n",
      "Processing coarse channels 126-129\n",
      "Data loaded in 0.7786 seconds, processing\n",
      "Bandpass cleaned in 1.7118 seconds.\n",
      "Stamps filtered in 14.0419 seconds\n",
      "Saving results\n"
     ]
    },
    {
     "name": "stderr",
     "output_type": "stream",
     "text": [
      " 43%|████▎     | 43/101 [11:45<16:18, 16.86s/it]"
     ]
    },
    {
     "name": "stdout",
     "output_type": "stream",
     "text": [
      "Results aggregated in 0.4936 seconds\n",
      "Processing coarse channels 129-132\n",
      "Data loaded in 0.8228 seconds, processing\n",
      "Bandpass cleaned in 1.7378 seconds.\n",
      "Stamps filtered in 13.5414 seconds\n",
      "Saving results\n"
     ]
    },
    {
     "name": "stderr",
     "output_type": "stream",
     "text": [
      " 44%|████▎     | 44/101 [12:02<15:53, 16.74s/it]"
     ]
    },
    {
     "name": "stdout",
     "output_type": "stream",
     "text": [
      "Results aggregated in 0.3253 seconds\n",
      "Processing coarse channels 132-135\n",
      "Data loaded in 0.8464 seconds, processing\n",
      "Bandpass cleaned in 2.1168 seconds.\n",
      "Stamps filtered in 14.1151 seconds\n",
      "Saving results\n"
     ]
    },
    {
     "name": "stderr",
     "output_type": "stream",
     "text": [
      " 45%|████▍     | 45/101 [12:19<15:51, 16.99s/it]"
     ]
    },
    {
     "name": "stdout",
     "output_type": "stream",
     "text": [
      "Results aggregated in 0.4861 seconds\n",
      "Processing coarse channels 135-138\n",
      "Data loaded in 0.8291 seconds, processing\n",
      "Bandpass cleaned in 1.7119 seconds.\n",
      "Stamps filtered in 14.1015 seconds\n",
      "Saving results\n",
      "Results aggregated in 0.0673 seconds\n",
      "Processing coarse channels 138-141\n"
     ]
    },
    {
     "name": "stderr",
     "output_type": "stream",
     "text": [
      " 46%|████▌     | 46/101 [12:36<15:29, 16.91s/it]"
     ]
    },
    {
     "name": "stdout",
     "output_type": "stream",
     "text": [
      "Data loaded in 0.9032 seconds, processing\n",
      "Bandpass cleaned in 1.6638 seconds.\n",
      "Stamps filtered in 13.7912 seconds\n",
      "Saving results\n",
      "Results aggregated in 0.0471 seconds\n",
      "Processing coarse channels 141-144\n"
     ]
    },
    {
     "name": "stderr",
     "output_type": "stream",
     "text": [
      " 47%|████▋     | 47/101 [12:53<15:04, 16.76s/it]"
     ]
    },
    {
     "name": "stdout",
     "output_type": "stream",
     "text": [
      "Data loaded in 0.7638 seconds, processing\n",
      "Bandpass cleaned in 1.6727 seconds.\n",
      "Stamps filtered in 13.4182 seconds\n",
      "Saving results\n",
      "Results aggregated in 0.0515 seconds\n",
      "Processing coarse channels 144-147\n"
     ]
    },
    {
     "name": "stderr",
     "output_type": "stream",
     "text": [
      " 48%|████▊     | 48/101 [13:08<14:34, 16.50s/it]"
     ]
    },
    {
     "name": "stdout",
     "output_type": "stream",
     "text": [
      "Data loaded in 0.9564 seconds, processing\n",
      "Bandpass cleaned in 1.6367 seconds.\n",
      "Stamps filtered in 13.8372 seconds\n",
      "Saving results\n",
      "Results aggregated in 0.0525 seconds\n",
      "Processing coarse channels 147-150\n"
     ]
    },
    {
     "name": "stderr",
     "output_type": "stream",
     "text": [
      " 49%|████▊     | 49/101 [13:25<14:18, 16.50s/it]"
     ]
    },
    {
     "name": "stdout",
     "output_type": "stream",
     "text": [
      "Data loaded in 0.8224 seconds, processing\n",
      "Bandpass cleaned in 1.6655 seconds.\n",
      "Stamps filtered in 13.7943 seconds\n",
      "Saving results\n",
      "Results aggregated in 0.0541 seconds\n",
      "Processing coarse channels 150-153\n"
     ]
    },
    {
     "name": "stderr",
     "output_type": "stream",
     "text": [
      " 50%|████▉     | 50/101 [13:41<13:59, 16.45s/it]"
     ]
    },
    {
     "name": "stdout",
     "output_type": "stream",
     "text": [
      "Data loaded in 0.8730 seconds, processing\n",
      "Bandpass cleaned in 1.5911 seconds.\n",
      "Stamps filtered in 13.6032 seconds\n",
      "Saving results\n",
      "Results aggregated in 0.0548 seconds\n",
      "Processing coarse channels 153-156\n"
     ]
    },
    {
     "name": "stderr",
     "output_type": "stream",
     "text": [
      " 50%|█████     | 51/101 [13:57<13:37, 16.36s/it]"
     ]
    },
    {
     "name": "stdout",
     "output_type": "stream",
     "text": [
      "Data loaded in 0.8318 seconds, processing\n",
      "Bandpass cleaned in 1.6701 seconds.\n",
      "Stamps filtered in 13.7924 seconds\n",
      "Saving results\n",
      "Results aggregated in 0.0517 seconds\n",
      "Processing coarse channels 156-159\n"
     ]
    },
    {
     "name": "stderr",
     "output_type": "stream",
     "text": [
      " 51%|█████▏    | 52/101 [14:14<13:21, 16.36s/it]"
     ]
    },
    {
     "name": "stdout",
     "output_type": "stream",
     "text": [
      "Data loaded in 0.8515 seconds, processing\n",
      "Bandpass cleaned in 1.6230 seconds.\n",
      "Stamps filtered in 13.9641 seconds\n",
      "Saving results\n",
      "Results aggregated in 0.0507 seconds\n",
      "Processing coarse channels 159-162\n"
     ]
    },
    {
     "name": "stderr",
     "output_type": "stream",
     "text": [
      " 52%|█████▏    | 53/101 [14:30<13:07, 16.40s/it]"
     ]
    },
    {
     "name": "stdout",
     "output_type": "stream",
     "text": [
      "Data loaded in 0.7964 seconds, processing\n",
      "Bandpass cleaned in 1.6407 seconds.\n",
      "Stamps filtered in 13.8605 seconds\n",
      "Saving results\n",
      "Results aggregated in 0.0568 seconds\n",
      "Processing coarse channels 162-165\n"
     ]
    },
    {
     "name": "stderr",
     "output_type": "stream",
     "text": [
      " 53%|█████▎    | 54/101 [14:47<12:50, 16.39s/it]"
     ]
    },
    {
     "name": "stdout",
     "output_type": "stream",
     "text": [
      "Data loaded in 0.8382 seconds, processing\n",
      "Bandpass cleaned in 1.7518 seconds.\n",
      "Stamps filtered in 13.9675 seconds\n",
      "Saving results\n",
      "Results aggregated in 0.0523 seconds\n",
      "Processing coarse channels 165-168\n"
     ]
    },
    {
     "name": "stderr",
     "output_type": "stream",
     "text": [
      " 54%|█████▍    | 55/101 [15:03<12:36, 16.46s/it]"
     ]
    },
    {
     "name": "stdout",
     "output_type": "stream",
     "text": [
      "Data loaded in 0.7824 seconds, processing\n",
      "Bandpass cleaned in 1.6366 seconds.\n",
      "Stamps filtered in 14.1528 seconds\n",
      "Saving results\n",
      "Results aggregated in 0.0517 seconds\n",
      "Processing coarse channels 168-171\n"
     ]
    },
    {
     "name": "stderr",
     "output_type": "stream",
     "text": [
      " 55%|█████▌    | 56/101 [15:20<12:22, 16.51s/it]"
     ]
    },
    {
     "name": "stdout",
     "output_type": "stream",
     "text": [
      "Data loaded in 0.9072 seconds, processing\n",
      "Bandpass cleaned in 1.6745 seconds.\n",
      "Stamps filtered in 13.6035 seconds\n",
      "Saving results\n",
      "Results aggregated in 0.0562 seconds\n",
      "Processing coarse channels 171-174\n"
     ]
    },
    {
     "name": "stderr",
     "output_type": "stream",
     "text": [
      " 56%|█████▋    | 57/101 [15:36<12:02, 16.43s/it]"
     ]
    },
    {
     "name": "stdout",
     "output_type": "stream",
     "text": [
      "Data loaded in 0.9894 seconds, processing\n",
      "Bandpass cleaned in 1.6917 seconds.\n",
      "Stamps filtered in 13.4808 seconds\n",
      "Saving results\n",
      "Results aggregated in 0.0511 seconds\n",
      "Processing coarse channels 174-177\n"
     ]
    },
    {
     "name": "stderr",
     "output_type": "stream",
     "text": [
      " 57%|█████▋    | 58/101 [15:52<11:43, 16.37s/it]"
     ]
    },
    {
     "name": "stdout",
     "output_type": "stream",
     "text": [
      "Data loaded in 0.7775 seconds, processing\n",
      "Bandpass cleaned in 1.5954 seconds.\n",
      "Stamps filtered in 13.5985 seconds\n",
      "Saving results\n",
      "Results aggregated in 0.0556 seconds\n",
      "Processing coarse channels 177-180\n"
     ]
    },
    {
     "name": "stderr",
     "output_type": "stream",
     "text": [
      " 58%|█████▊    | 59/101 [16:08<11:23, 16.27s/it]"
     ]
    },
    {
     "name": "stdout",
     "output_type": "stream",
     "text": [
      "Data loaded in 0.8144 seconds, processing\n",
      "Bandpass cleaned in 1.5700 seconds.\n",
      "Stamps filtered in 13.9689 seconds\n",
      "Saving results\n",
      "Results aggregated in 0.0611 seconds\n",
      "Processing coarse channels 180-183\n"
     ]
    },
    {
     "name": "stderr",
     "output_type": "stream",
     "text": [
      " 59%|█████▉    | 60/101 [16:25<11:08, 16.31s/it]"
     ]
    },
    {
     "name": "stdout",
     "output_type": "stream",
     "text": [
      "Data loaded in 0.7763 seconds, processing\n",
      "Bandpass cleaned in 1.6674 seconds.\n",
      "Stamps filtered in 13.4150 seconds\n",
      "Saving results\n",
      "Results aggregated in 0.0547 seconds\n",
      "Processing coarse channels 183-186\n"
     ]
    },
    {
     "name": "stderr",
     "output_type": "stream",
     "text": [
      " 60%|██████    | 61/101 [16:41<10:47, 16.20s/it]"
     ]
    },
    {
     "name": "stdout",
     "output_type": "stream",
     "text": [
      "Data loaded in 0.8131 seconds, processing\n",
      "Bandpass cleaned in 1.6187 seconds.\n",
      "Stamps filtered in 13.3693 seconds\n",
      "Saving results\n",
      "Results aggregated in 0.0606 seconds\n",
      "Processing coarse channels 186-189\n"
     ]
    },
    {
     "name": "stderr",
     "output_type": "stream",
     "text": [
      " 61%|██████▏   | 62/101 [16:57<10:27, 16.10s/it]"
     ]
    },
    {
     "name": "stdout",
     "output_type": "stream",
     "text": [
      "Data loaded in 0.7946 seconds, processing\n",
      "Bandpass cleaned in 1.6073 seconds.\n",
      "Stamps filtered in 14.0251 seconds\n",
      "Saving results\n",
      "Results aggregated in 0.0536 seconds\n",
      "Processing coarse channels 189-192\n"
     ]
    },
    {
     "name": "stderr",
     "output_type": "stream",
     "text": [
      " 62%|██████▏   | 63/101 [17:13<10:16, 16.22s/it]"
     ]
    },
    {
     "name": "stdout",
     "output_type": "stream",
     "text": [
      "Data loaded in 0.8853 seconds, processing\n",
      "Bandpass cleaned in 1.6574 seconds.\n",
      "Stamps filtered in 13.9454 seconds\n",
      "Saving results\n",
      "Results aggregated in 0.0503 seconds\n",
      "Processing coarse channels 192-195\n"
     ]
    },
    {
     "name": "stderr",
     "output_type": "stream",
     "text": [
      " 63%|██████▎   | 64/101 [17:30<10:03, 16.31s/it]"
     ]
    },
    {
     "name": "stdout",
     "output_type": "stream",
     "text": [
      "Data loaded in 0.8289 seconds, processing\n",
      "Bandpass cleaned in 1.7269 seconds.\n",
      "Stamps filtered in 13.7526 seconds\n",
      "Saving results\n",
      "Results aggregated in 0.0520 seconds\n",
      "Processing coarse channels 195-198\n"
     ]
    },
    {
     "name": "stderr",
     "output_type": "stream",
     "text": [
      " 64%|██████▍   | 65/101 [17:46<09:47, 16.33s/it]"
     ]
    },
    {
     "name": "stdout",
     "output_type": "stream",
     "text": [
      "Data loaded in 0.8284 seconds, processing\n",
      "Bandpass cleaned in 1.6261 seconds.\n",
      "Stamps filtered in 13.8140 seconds\n",
      "Saving results\n",
      "Results aggregated in 0.0518 seconds\n",
      "Processing coarse channels 198-201\n"
     ]
    },
    {
     "name": "stderr",
     "output_type": "stream",
     "text": [
      " 65%|██████▌   | 66/101 [18:02<09:31, 16.33s/it]"
     ]
    },
    {
     "name": "stdout",
     "output_type": "stream",
     "text": [
      "Data loaded in 0.8256 seconds, processing\n",
      "Bandpass cleaned in 1.7230 seconds.\n",
      "Stamps filtered in 14.3037 seconds\n",
      "Saving results\n",
      "Results aggregated in 0.0591 seconds\n",
      "Processing coarse channels 201-204\n"
     ]
    },
    {
     "name": "stderr",
     "output_type": "stream",
     "text": [
      " 66%|██████▋   | 67/101 [18:19<09:21, 16.51s/it]"
     ]
    },
    {
     "name": "stdout",
     "output_type": "stream",
     "text": [
      "Data loaded in 0.8340 seconds, processing\n",
      "Bandpass cleaned in 1.6604 seconds.\n",
      "Stamps filtered in 13.9018 seconds\n",
      "Saving results\n",
      "Results aggregated in 0.0527 seconds\n",
      "Processing coarse channels 204-207\n"
     ]
    },
    {
     "name": "stderr",
     "output_type": "stream",
     "text": [
      " 67%|██████▋   | 68/101 [18:36<09:04, 16.49s/it]"
     ]
    },
    {
     "name": "stdout",
     "output_type": "stream",
     "text": [
      "Data loaded in 0.7933 seconds, processing\n",
      "Bandpass cleaned in 1.6634 seconds.\n",
      "Stamps filtered in 13.3710 seconds\n",
      "Saving results\n",
      "Results aggregated in 0.0697 seconds\n",
      "Processing coarse channels 207-210\n"
     ]
    },
    {
     "name": "stderr",
     "output_type": "stream",
     "text": [
      " 68%|██████▊   | 69/101 [18:52<08:42, 16.32s/it]"
     ]
    },
    {
     "name": "stdout",
     "output_type": "stream",
     "text": [
      "Data loaded in 0.8911 seconds, processing\n",
      "Bandpass cleaned in 1.7053 seconds.\n",
      "Stamps filtered in 13.8934 seconds\n",
      "Saving results\n"
     ]
    },
    {
     "name": "stderr",
     "output_type": "stream",
     "text": [
      " 69%|██████▉   | 70/101 [19:09<08:32, 16.52s/it]"
     ]
    },
    {
     "name": "stdout",
     "output_type": "stream",
     "text": [
      "Results aggregated in 0.4924 seconds\n",
      "Processing coarse channels 210-213\n",
      "Data loaded in 0.8146 seconds, processing\n",
      "Bandpass cleaned in 2.0786 seconds.\n",
      "Stamps filtered in 13.8641 seconds\n",
      "Saving results\n",
      "Results aggregated in 0.1153 seconds\n",
      "Processing coarse channels 213-216\n"
     ]
    },
    {
     "name": "stderr",
     "output_type": "stream",
     "text": [
      " 70%|███████   | 71/101 [19:26<08:18, 16.63s/it]"
     ]
    },
    {
     "name": "stdout",
     "output_type": "stream",
     "text": [
      "Data loaded in 0.8010 seconds, processing\n",
      "Bandpass cleaned in 1.7015 seconds.\n",
      "Stamps filtered in 13.9006 seconds\n",
      "Saving results\n",
      "Results aggregated in 0.0553 seconds\n",
      "Processing coarse channels 216-219\n"
     ]
    },
    {
     "name": "stderr",
     "output_type": "stream",
     "text": [
      " 71%|███████▏  | 72/101 [19:42<08:00, 16.58s/it]"
     ]
    },
    {
     "name": "stdout",
     "output_type": "stream",
     "text": [
      "Data loaded in 0.8625 seconds, processing\n",
      "Bandpass cleaned in 1.7353 seconds.\n",
      "Stamps filtered in 13.9484 seconds\n",
      "Saving results\n",
      "Results aggregated in 0.0527 seconds\n",
      "Processing coarse channels 219-222\n"
     ]
    },
    {
     "name": "stderr",
     "output_type": "stream",
     "text": [
      " 72%|███████▏  | 73/101 [19:59<07:44, 16.59s/it]"
     ]
    },
    {
     "name": "stdout",
     "output_type": "stream",
     "text": [
      "Data loaded in 0.8425 seconds, processing\n",
      "Bandpass cleaned in 1.7093 seconds.\n",
      "Stamps filtered in 14.0047 seconds\n",
      "Saving results\n",
      "Results aggregated in 0.0556 seconds\n",
      "Processing coarse channels 222-225\n"
     ]
    },
    {
     "name": "stderr",
     "output_type": "stream",
     "text": [
      " 73%|███████▎  | 74/101 [20:15<07:28, 16.60s/it]"
     ]
    },
    {
     "name": "stdout",
     "output_type": "stream",
     "text": [
      "Data loaded in 1.0117 seconds, processing\n",
      "Bandpass cleaned in 1.7181 seconds.\n",
      "Stamps filtered in 13.9178 seconds\n",
      "Saving results\n",
      "Results aggregated in 0.0561 seconds\n",
      "Processing coarse channels 225-228\n"
     ]
    },
    {
     "name": "stderr",
     "output_type": "stream",
     "text": [
      " 74%|███████▍  | 75/101 [20:32<07:12, 16.63s/it]"
     ]
    },
    {
     "name": "stdout",
     "output_type": "stream",
     "text": [
      "Data loaded in 0.8206 seconds, processing\n",
      "Bandpass cleaned in 1.6757 seconds.\n",
      "Stamps filtered in 13.5563 seconds\n",
      "Saving results\n",
      "Results aggregated in 0.0626 seconds\n",
      "Processing coarse channels 228-231\n"
     ]
    },
    {
     "name": "stderr",
     "output_type": "stream",
     "text": [
      " 75%|███████▌  | 76/101 [20:48<06:51, 16.48s/it]"
     ]
    },
    {
     "name": "stdout",
     "output_type": "stream",
     "text": [
      "Data loaded in 0.9607 seconds, processing\n",
      "Bandpass cleaned in 1.6764 seconds.\n",
      "Stamps filtered in 13.9941 seconds\n",
      "Saving results\n"
     ]
    },
    {
     "name": "stderr",
     "output_type": "stream",
     "text": [
      " 76%|███████▌  | 77/101 [21:05<06:38, 16.61s/it]"
     ]
    },
    {
     "name": "stdout",
     "output_type": "stream",
     "text": [
      "Results aggregated in 0.2614 seconds\n",
      "Processing coarse channels 231-234\n",
      "Data loaded in 0.7971 seconds, processing\n",
      "Bandpass cleaned in 1.6771 seconds.\n",
      "Stamps filtered in 13.8137 seconds\n",
      "Saving results\n",
      "Results aggregated in 0.0605 seconds\n",
      "Processing coarse channels 234-237\n"
     ]
    },
    {
     "name": "stderr",
     "output_type": "stream",
     "text": [
      " 77%|███████▋  | 78/101 [21:21<06:20, 16.53s/it]"
     ]
    },
    {
     "name": "stdout",
     "output_type": "stream",
     "text": [
      "Data loaded in 0.8259 seconds, processing\n",
      "Bandpass cleaned in 1.6908 seconds.\n",
      "Stamps filtered in 13.8558 seconds\n",
      "Saving results\n",
      "Results aggregated in 0.0587 seconds\n",
      "Processing coarse channels 237-240\n"
     ]
    },
    {
     "name": "stderr",
     "output_type": "stream",
     "text": [
      " 78%|███████▊  | 79/101 [21:38<06:03, 16.50s/it]"
     ]
    },
    {
     "name": "stdout",
     "output_type": "stream",
     "text": [
      "Data loaded in 0.8967 seconds, processing\n",
      "Bandpass cleaned in 1.6398 seconds.\n",
      "Stamps filtered in 13.8617 seconds\n",
      "Saving results\n",
      "Results aggregated in 0.0583 seconds\n",
      "Processing coarse channels 240-243\n"
     ]
    },
    {
     "name": "stderr",
     "output_type": "stream",
     "text": [
      " 79%|███████▉  | 80/101 [21:54<05:46, 16.49s/it]"
     ]
    },
    {
     "name": "stdout",
     "output_type": "stream",
     "text": [
      "Data loaded in 0.8662 seconds, processing\n",
      "Bandpass cleaned in 1.6685 seconds.\n",
      "Stamps filtered in 13.9457 seconds\n",
      "Saving results\n",
      "Results aggregated in 0.1053 seconds\n",
      "Processing coarse channels 243-246\n"
     ]
    },
    {
     "name": "stderr",
     "output_type": "stream",
     "text": [
      " 80%|████████  | 81/101 [22:11<05:30, 16.52s/it]"
     ]
    },
    {
     "name": "stdout",
     "output_type": "stream",
     "text": [
      "Data loaded in 0.8034 seconds, processing\n",
      "Bandpass cleaned in 1.6631 seconds.\n",
      "Stamps filtered in 13.8286 seconds\n",
      "Saving results\n",
      "Results aggregated in 0.0686 seconds\n",
      "Processing coarse channels 246-249\n"
     ]
    },
    {
     "name": "stderr",
     "output_type": "stream",
     "text": [
      " 81%|████████  | 82/101 [22:27<05:13, 16.48s/it]"
     ]
    },
    {
     "name": "stdout",
     "output_type": "stream",
     "text": [
      "Data loaded in 0.8211 seconds, processing\n",
      "Bandpass cleaned in 1.6263 seconds.\n",
      "Stamps filtered in 13.9836 seconds\n",
      "Saving results\n",
      "Results aggregated in 0.0666 seconds\n",
      "Processing coarse channels 249-252\n"
     ]
    },
    {
     "name": "stderr",
     "output_type": "stream",
     "text": [
      " 82%|████████▏ | 83/101 [22:44<04:56, 16.49s/it]"
     ]
    },
    {
     "name": "stdout",
     "output_type": "stream",
     "text": [
      "Data loaded in 0.8208 seconds, processing\n",
      "Bandpass cleaned in 1.6426 seconds.\n",
      "Stamps filtered in 13.9004 seconds\n",
      "Saving results\n",
      "Results aggregated in 0.1110 seconds\n",
      "Processing coarse channels 252-255\n"
     ]
    },
    {
     "name": "stderr",
     "output_type": "stream",
     "text": [
      " 83%|████████▎ | 84/101 [23:00<04:40, 16.49s/it]"
     ]
    },
    {
     "name": "stdout",
     "output_type": "stream",
     "text": [
      "Data loaded in 0.9258 seconds, processing\n",
      "Bandpass cleaned in 1.6621 seconds.\n",
      "Stamps filtered in 13.5630 seconds\n",
      "Saving results\n",
      "Results aggregated in 0.1131 seconds\n",
      "Processing coarse channels 255-258\n"
     ]
    },
    {
     "name": "stderr",
     "output_type": "stream",
     "text": [
      " 84%|████████▍ | 85/101 [23:16<04:22, 16.42s/it]"
     ]
    },
    {
     "name": "stdout",
     "output_type": "stream",
     "text": [
      "Data loaded in 0.8151 seconds, processing\n",
      "Bandpass cleaned in 1.7095 seconds.\n",
      "Stamps filtered in 13.9111 seconds\n",
      "Saving results\n",
      "Results aggregated in 0.0621 seconds\n",
      "Processing coarse channels 258-261\n"
     ]
    },
    {
     "name": "stderr",
     "output_type": "stream",
     "text": [
      " 85%|████████▌ | 86/101 [23:33<04:06, 16.45s/it]"
     ]
    },
    {
     "name": "stdout",
     "output_type": "stream",
     "text": [
      "Data loaded in 0.9339 seconds, processing\n",
      "Bandpass cleaned in 1.7690 seconds.\n",
      "Stamps filtered in 13.9428 seconds\n",
      "Saving results\n",
      "Results aggregated in 0.0582 seconds\n",
      "Processing coarse channels 261-264\n"
     ]
    },
    {
     "name": "stderr",
     "output_type": "stream",
     "text": [
      " 86%|████████▌ | 87/101 [23:50<03:51, 16.53s/it]"
     ]
    },
    {
     "name": "stdout",
     "output_type": "stream",
     "text": [
      "Data loaded in 0.8519 seconds, processing\n",
      "Bandpass cleaned in 1.6937 seconds.\n",
      "Stamps filtered in 13.8328 seconds\n",
      "Saving results\n",
      "Results aggregated in 0.0589 seconds\n",
      "Processing coarse channels 264-267\n"
     ]
    },
    {
     "name": "stderr",
     "output_type": "stream",
     "text": [
      " 87%|████████▋ | 88/101 [24:06<03:34, 16.50s/it]"
     ]
    },
    {
     "name": "stdout",
     "output_type": "stream",
     "text": [
      "Data loaded in 0.8731 seconds, processing\n",
      "Bandpass cleaned in 1.7709 seconds.\n",
      "Stamps filtered in 13.9659 seconds\n",
      "Saving results\n",
      "Results aggregated in 0.0628 seconds\n",
      "Processing coarse channels 267-270\n"
     ]
    },
    {
     "name": "stderr",
     "output_type": "stream",
     "text": [
      " 88%|████████▊ | 89/101 [24:23<03:18, 16.56s/it]"
     ]
    },
    {
     "name": "stdout",
     "output_type": "stream",
     "text": [
      "Data loaded in 0.9687 seconds, processing\n",
      "Bandpass cleaned in 1.7041 seconds.\n",
      "Stamps filtered in 13.6504 seconds\n",
      "Saving results\n",
      "Results aggregated in 0.0615 seconds\n",
      "Processing coarse channels 270-273\n"
     ]
    },
    {
     "name": "stderr",
     "output_type": "stream",
     "text": [
      " 89%|████████▉ | 90/101 [24:39<03:01, 16.51s/it]"
     ]
    },
    {
     "name": "stdout",
     "output_type": "stream",
     "text": [
      "Data loaded in 0.8428 seconds, processing\n",
      "Bandpass cleaned in 1.6422 seconds.\n",
      "Stamps filtered in 13.6052 seconds\n",
      "Saving results\n",
      "Results aggregated in 0.0576 seconds\n",
      "Processing coarse channels 273-276\n"
     ]
    },
    {
     "name": "stderr",
     "output_type": "stream",
     "text": [
      " 90%|█████████ | 91/101 [24:55<02:44, 16.40s/it]"
     ]
    },
    {
     "name": "stdout",
     "output_type": "stream",
     "text": [
      "Data loaded in 0.9444 seconds, processing\n",
      "Bandpass cleaned in 1.6726 seconds.\n",
      "Stamps filtered in 13.7897 seconds\n",
      "Saving results\n",
      "Results aggregated in 0.0573 seconds\n",
      "Processing coarse channels 276-279\n"
     ]
    },
    {
     "name": "stderr",
     "output_type": "stream",
     "text": [
      " 91%|█████████ | 92/101 [25:12<02:27, 16.42s/it]"
     ]
    },
    {
     "name": "stdout",
     "output_type": "stream",
     "text": [
      "Data loaded in 0.8305 seconds, processing\n",
      "Bandpass cleaned in 1.6510 seconds.\n",
      "Stamps filtered in 13.9786 seconds\n",
      "Saving results\n",
      "Results aggregated in 0.0629 seconds\n",
      "Processing coarse channels 279-282\n"
     ]
    },
    {
     "name": "stderr",
     "output_type": "stream",
     "text": [
      " 92%|█████████▏| 93/101 [25:28<02:11, 16.45s/it]"
     ]
    },
    {
     "name": "stdout",
     "output_type": "stream",
     "text": [
      "Data loaded in 0.8505 seconds, processing\n",
      "Bandpass cleaned in 1.8224 seconds.\n",
      "Stamps filtered in 13.7865 seconds\n",
      "Saving results\n",
      "Results aggregated in 0.0614 seconds\n",
      "Processing coarse channels 282-285\n"
     ]
    },
    {
     "name": "stderr",
     "output_type": "stream",
     "text": [
      " 93%|█████████▎| 94/101 [25:45<01:55, 16.48s/it]"
     ]
    },
    {
     "name": "stdout",
     "output_type": "stream",
     "text": [
      "Data loaded in 0.9202 seconds, processing\n",
      "Bandpass cleaned in 1.6783 seconds.\n",
      "Stamps filtered in 13.7172 seconds\n",
      "Saving results\n",
      "Results aggregated in 0.0596 seconds\n",
      "Processing coarse channels 285-288\n"
     ]
    },
    {
     "name": "stderr",
     "output_type": "stream",
     "text": [
      " 94%|█████████▍| 95/101 [26:01<01:38, 16.45s/it]"
     ]
    },
    {
     "name": "stdout",
     "output_type": "stream",
     "text": [
      "Data loaded in 0.8514 seconds, processing\n",
      "Bandpass cleaned in 1.6798 seconds.\n",
      "Stamps filtered in 13.9389 seconds\n",
      "Saving results\n",
      "Results aggregated in 0.0760 seconds\n",
      "Processing coarse channels 288-291\n"
     ]
    },
    {
     "name": "stderr",
     "output_type": "stream",
     "text": [
      " 95%|█████████▌| 96/101 [26:18<01:22, 16.48s/it]"
     ]
    },
    {
     "name": "stdout",
     "output_type": "stream",
     "text": [
      "Data loaded in 1.0457 seconds, processing\n",
      "Bandpass cleaned in 1.6635 seconds.\n",
      "Stamps filtered in 13.9108 seconds\n",
      "Saving results\n",
      "Results aggregated in 0.0598 seconds\n",
      "Processing coarse channels 291-294\n"
     ]
    },
    {
     "name": "stderr",
     "output_type": "stream",
     "text": [
      " 96%|█████████▌| 97/101 [26:34<01:06, 16.54s/it]"
     ]
    },
    {
     "name": "stdout",
     "output_type": "stream",
     "text": [
      "Data loaded in 0.8090 seconds, processing\n",
      "Bandpass cleaned in 1.6726 seconds.\n",
      "Stamps filtered in 13.2483 seconds\n",
      "Saving results\n",
      "Results aggregated in 0.0670 seconds\n",
      "Processing coarse channels 294-297\n"
     ]
    },
    {
     "name": "stderr",
     "output_type": "stream",
     "text": [
      " 97%|█████████▋| 98/101 [26:50<00:48, 16.32s/it]"
     ]
    },
    {
     "name": "stdout",
     "output_type": "stream",
     "text": [
      "Data loaded in 0.8166 seconds, processing\n",
      "Bandpass cleaned in 1.6579 seconds.\n",
      "Stamps filtered in 13.9934 seconds\n",
      "Saving results\n",
      "Results aggregated in 0.0704 seconds\n",
      "Processing coarse channels 297-300\n"
     ]
    },
    {
     "name": "stderr",
     "output_type": "stream",
     "text": [
      " 98%|█████████▊| 99/101 [27:07<00:32, 16.39s/it]"
     ]
    },
    {
     "name": "stdout",
     "output_type": "stream",
     "text": [
      "Data loaded in 0.8017 seconds, processing\n",
      "Bandpass cleaned in 1.7529 seconds.\n",
      "Stamps filtered in 13.7047 seconds\n",
      "Saving results\n",
      "Results aggregated in 0.0663 seconds\n",
      "Processing coarse channels 300-303\n"
     ]
    },
    {
     "name": "stderr",
     "output_type": "stream",
     "text": [
      " 99%|█████████▉| 100/101 [27:23<00:16, 16.37s/it]"
     ]
    },
    {
     "name": "stdout",
     "output_type": "stream",
     "text": [
      "Data loaded in 0.8101 seconds, processing\n",
      "Bandpass cleaned in 1.7238 seconds.\n",
      "Stamps filtered in 14.0441 seconds\n",
      "Saving results\n"
     ]
    },
    {
     "name": "stderr",
     "output_type": "stream",
     "text": [
      "100%|██████████| 101/101 [27:40<00:00, 16.44s/it]\n"
     ]
    },
    {
     "name": "stdout",
     "output_type": "stream",
     "text": [
      "Results aggregated in 0.0599 seconds\n",
      "       level_0      index     statistic  pvalue        freqs\n",
      "45087    45087  314097536  42991.352521     0.0  1035.644894\n",
      "45076    45076  313064320  28374.615834     0.0  1038.574582\n",
      "44883    44883  295499648  25139.809154     0.0  1088.379269\n",
      "44922    44922  300219520  12054.402861     0.0  1074.996056\n",
      "32513    32513  136955392  12053.868253     0.0  1537.932049\n",
      "35243    35243  139220992  11929.965385     0.0  1531.507933\n",
      "30770    30770  134683008  11761.789946     0.0  1544.375402\n",
      "35214    35214  139217280  11648.996211     0.0  1531.518458\n",
      "3182      3182   78916736  12155.629670     0.0  1702.500857\n",
      "3089      3089   78904832  10080.330404     0.0  1702.534610\n",
      "2074      2074   55276928   8052.570969     0.0  1769.531613\n",
      "2075      2075   55277056   8052.570694     0.0  1769.531250\n",
      "303 303\n",
      "Finished Energy Detection on GBT_57515_83602_HIP43418_fine.h5 in 1665.3107 seconds\n",
      "HIP63503-523\n",
      "/mnt_blpd7/datax/dl/GBT_57684_57862_HIP63503_fine.h5\n",
      "Header saved to ../../../../../../datax/scratch/pma/reverse_search/train/HIP63503-523/GBT_57684_57862_HIP63503_fine/header.pkl\n",
      "Processing 7 in parallel\n",
      "Processing coarse channels 0-7\n"
     ]
    },
    {
     "name": "stderr",
     "output_type": "stream",
     "text": [
      "  0%|          | 0/49 [00:00<?, ?it/s]"
     ]
    },
    {
     "name": "stdout",
     "output_type": "stream",
     "text": [
      "Data loaded in 2.6162 seconds, processing\n",
      "Bandpass cleaned in 3.4523 seconds.\n",
      "Stamps filtered in 15.0012 seconds\n",
      "Saving results\n",
      "Results aggregated in 0.0615 seconds\n",
      "Processing coarse channels 7-14\n"
     ]
    },
    {
     "name": "stderr",
     "output_type": "stream",
     "text": [
      "  2%|▏         | 1/49 [00:21<16:55, 21.15s/it]"
     ]
    },
    {
     "name": "stdout",
     "output_type": "stream",
     "text": [
      "Data loaded in 1.9571 seconds, processing\n",
      "Bandpass cleaned in 3.4386 seconds.\n",
      "Stamps filtered in 14.7638 seconds\n",
      "Saving results\n",
      "Results aggregated in 0.0626 seconds\n",
      "Processing coarse channels 14-21\n"
     ]
    },
    {
     "name": "stderr",
     "output_type": "stream",
     "text": [
      "  4%|▍         | 2/49 [00:41<16:08, 20.61s/it]"
     ]
    },
    {
     "name": "stdout",
     "output_type": "stream",
     "text": [
      "Data loaded in 1.6581 seconds, processing\n",
      "Bandpass cleaned in 3.3887 seconds.\n",
      "Stamps filtered in 14.9207 seconds\n",
      "Saving results\n",
      "Results aggregated in 0.0618 seconds\n",
      "Processing coarse channels 21-28\n"
     ]
    },
    {
     "name": "stderr",
     "output_type": "stream",
     "text": [
      "  6%|▌         | 3/49 [01:01<15:36, 20.35s/it]"
     ]
    },
    {
     "name": "stdout",
     "output_type": "stream",
     "text": [
      "Data loaded in 1.7153 seconds, processing\n",
      "Bandpass cleaned in 3.2347 seconds.\n",
      "Stamps filtered in 15.0506 seconds\n",
      "Saving results\n",
      "Results aggregated in 0.0614 seconds\n",
      "Processing coarse channels 28-35\n"
     ]
    },
    {
     "name": "stderr",
     "output_type": "stream",
     "text": [
      "  8%|▊         | 4/49 [01:21<15:10, 20.24s/it]"
     ]
    },
    {
     "name": "stdout",
     "output_type": "stream",
     "text": [
      "Data loaded in 1.8366 seconds, processing\n",
      "Bandpass cleaned in 3.4061 seconds.\n",
      "Stamps filtered in 14.8316 seconds\n",
      "Saving results\n",
      "Results aggregated in 0.0598 seconds\n",
      "Processing coarse channels 35-42\n"
     ]
    },
    {
     "name": "stderr",
     "output_type": "stream",
     "text": [
      " 10%|█         | 5/49 [01:41<14:49, 20.21s/it]"
     ]
    },
    {
     "name": "stdout",
     "output_type": "stream",
     "text": [
      "Data loaded in 1.5921 seconds, processing\n",
      "Bandpass cleaned in 3.4973 seconds.\n",
      "Stamps filtered in 14.7582 seconds\n",
      "Saving results\n",
      "Results aggregated in 0.0690 seconds\n",
      "Processing coarse channels 42-49\n"
     ]
    },
    {
     "name": "stderr",
     "output_type": "stream",
     "text": [
      " 12%|█▏        | 6/49 [02:01<14:24, 20.11s/it]"
     ]
    },
    {
     "name": "stdout",
     "output_type": "stream",
     "text": [
      "Data loaded in 1.7572 seconds, processing\n",
      "Bandpass cleaned in 3.2072 seconds.\n",
      "Stamps filtered in 14.9182 seconds\n",
      "Saving results\n",
      "Results aggregated in 0.0632 seconds\n",
      "Processing coarse channels 49-56\n"
     ]
    },
    {
     "name": "stderr",
     "output_type": "stream",
     "text": [
      " 14%|█▍        | 7/49 [02:21<14:02, 20.06s/it]"
     ]
    },
    {
     "name": "stdout",
     "output_type": "stream",
     "text": [
      "Data loaded in 1.6357 seconds, processing\n",
      "Bandpass cleaned in 3.2842 seconds.\n",
      "Stamps filtered in 15.0207 seconds\n",
      "Saving results\n",
      "Results aggregated in 0.0710 seconds\n",
      "Processing coarse channels 56-63\n"
     ]
    },
    {
     "name": "stderr",
     "output_type": "stream",
     "text": [
      " 16%|█▋        | 8/49 [02:41<13:42, 20.05s/it]"
     ]
    },
    {
     "name": "stdout",
     "output_type": "stream",
     "text": [
      "Data loaded in 1.5909 seconds, processing\n",
      "Bandpass cleaned in 3.2161 seconds.\n",
      "Stamps filtered in 14.7736 seconds\n",
      "Saving results\n",
      "Results aggregated in 0.0667 seconds\n",
      "Processing coarse channels 63-70\n"
     ]
    },
    {
     "name": "stderr",
     "output_type": "stream",
     "text": [
      " 18%|█▊        | 9/49 [03:01<13:17, 19.93s/it]"
     ]
    },
    {
     "name": "stdout",
     "output_type": "stream",
     "text": [
      "Data loaded in 1.6362 seconds, processing\n",
      "Bandpass cleaned in 3.3307 seconds.\n",
      "Stamps filtered in 14.9030 seconds\n",
      "Saving results\n",
      "Results aggregated in 0.0673 seconds\n",
      "Processing coarse channels 70-77\n"
     ]
    },
    {
     "name": "stderr",
     "output_type": "stream",
     "text": [
      " 20%|██        | 10/49 [03:21<12:57, 19.94s/it]"
     ]
    },
    {
     "name": "stdout",
     "output_type": "stream",
     "text": [
      "Data loaded in 1.5399 seconds, processing\n",
      "Bandpass cleaned in 3.3211 seconds.\n",
      "Stamps filtered in 15.1366 seconds\n",
      "Saving results\n",
      "Results aggregated in 0.0609 seconds\n",
      "Processing coarse channels 77-84\n"
     ]
    },
    {
     "name": "stderr",
     "output_type": "stream",
     "text": [
      " 22%|██▏       | 11/49 [03:41<12:39, 19.98s/it]"
     ]
    },
    {
     "name": "stdout",
     "output_type": "stream",
     "text": [
      "Data loaded in 1.5414 seconds, processing\n",
      "Bandpass cleaned in 3.4660 seconds.\n",
      "Stamps filtered in 14.9858 seconds\n",
      "Saving results\n",
      "Results aggregated in 0.0641 seconds\n",
      "Processing coarse channels 84-91\n"
     ]
    },
    {
     "name": "stderr",
     "output_type": "stream",
     "text": [
      " 24%|██▍       | 12/49 [04:01<12:20, 20.00s/it]"
     ]
    },
    {
     "name": "stdout",
     "output_type": "stream",
     "text": [
      "Data loaded in 1.6870 seconds, processing\n",
      "Bandpass cleaned in 3.0918 seconds.\n",
      "Stamps filtered in 14.8271 seconds\n",
      "Saving results\n",
      "Results aggregated in 0.0649 seconds\n",
      "Processing coarse channels 91-98\n"
     ]
    },
    {
     "name": "stderr",
     "output_type": "stream",
     "text": [
      " 27%|██▋       | 13/49 [04:20<11:56, 19.91s/it]"
     ]
    },
    {
     "name": "stdout",
     "output_type": "stream",
     "text": [
      "Data loaded in 1.5535 seconds, processing\n",
      "Bandpass cleaned in 3.7777 seconds.\n",
      "Stamps filtered in 14.9928 seconds\n",
      "Saving results\n",
      "Results aggregated in 0.0693 seconds\n",
      "Processing coarse channels 98-105\n"
     ]
    },
    {
     "name": "stderr",
     "output_type": "stream",
     "text": [
      " 29%|██▊       | 14/49 [04:41<11:42, 20.06s/it]"
     ]
    },
    {
     "name": "stdout",
     "output_type": "stream",
     "text": [
      "Data loaded in 1.6890 seconds, processing\n",
      "Bandpass cleaned in 3.6985 seconds.\n",
      "Stamps filtered in 15.0384 seconds\n",
      "Saving results\n",
      "Results aggregated in 0.0637 seconds\n",
      "Processing coarse channels 105-112\n"
     ]
    },
    {
     "name": "stderr",
     "output_type": "stream",
     "text": [
      " 31%|███       | 15/49 [05:01<11:26, 20.19s/it]"
     ]
    },
    {
     "name": "stdout",
     "output_type": "stream",
     "text": [
      "Data loaded in 1.7151 seconds, processing\n",
      "Bandpass cleaned in 3.0547 seconds.\n",
      "Stamps filtered in 14.9589 seconds\n",
      "Saving results\n",
      "Results aggregated in 0.0621 seconds\n",
      "Processing coarse channels 112-119\n"
     ]
    },
    {
     "name": "stderr",
     "output_type": "stream",
     "text": [
      " 33%|███▎      | 16/49 [05:21<11:02, 20.07s/it]"
     ]
    },
    {
     "name": "stdout",
     "output_type": "stream",
     "text": [
      "Data loaded in 1.5831 seconds, processing\n",
      "Bandpass cleaned in 3.3653 seconds.\n",
      "Stamps filtered in 14.9582 seconds\n",
      "Saving results\n",
      "Results aggregated in 0.0640 seconds\n",
      "Processing coarse channels 119-126\n"
     ]
    },
    {
     "name": "stderr",
     "output_type": "stream",
     "text": [
      " 35%|███▍      | 17/49 [05:41<10:41, 20.05s/it]"
     ]
    },
    {
     "name": "stdout",
     "output_type": "stream",
     "text": [
      "Data loaded in 1.6885 seconds, processing\n",
      "Bandpass cleaned in 3.2748 seconds.\n",
      "Stamps filtered in 14.9539 seconds\n",
      "Saving results\n",
      "Results aggregated in 0.0673 seconds\n",
      "Processing coarse channels 126-133\n"
     ]
    },
    {
     "name": "stderr",
     "output_type": "stream",
     "text": [
      " 37%|███▋      | 18/49 [06:01<10:20, 20.03s/it]"
     ]
    },
    {
     "name": "stdout",
     "output_type": "stream",
     "text": [
      "Data loaded in 1.6357 seconds, processing\n",
      "Bandpass cleaned in 3.4394 seconds.\n",
      "Stamps filtered in 14.9293 seconds\n",
      "Saving results\n",
      "Results aggregated in 0.0749 seconds\n",
      "Processing coarse channels 133-140\n"
     ]
    },
    {
     "name": "stderr",
     "output_type": "stream",
     "text": [
      " 39%|███▉      | 19/49 [06:21<10:01, 20.05s/it]"
     ]
    },
    {
     "name": "stdout",
     "output_type": "stream",
     "text": [
      "Data loaded in 1.6837 seconds, processing\n",
      "Bandpass cleaned in 3.6640 seconds.\n",
      "Stamps filtered in 15.2988 seconds\n",
      "Saving results\n",
      "Results aggregated in 0.0706 seconds\n",
      "Processing coarse channels 140-147\n"
     ]
    },
    {
     "name": "stderr",
     "output_type": "stream",
     "text": [
      " 41%|████      | 20/49 [06:42<09:47, 20.25s/it]"
     ]
    },
    {
     "name": "stdout",
     "output_type": "stream",
     "text": [
      "Data loaded in 1.6908 seconds, processing\n",
      "Bandpass cleaned in 3.1345 seconds.\n",
      "Stamps filtered in 14.1967 seconds\n",
      "Saving results\n",
      "Results aggregated in 0.0697 seconds\n",
      "Processing coarse channels 147-154\n"
     ]
    },
    {
     "name": "stderr",
     "output_type": "stream",
     "text": [
      " 43%|████▎     | 21/49 [07:01<09:17, 19.91s/it]"
     ]
    },
    {
     "name": "stdout",
     "output_type": "stream",
     "text": [
      "Data loaded in 1.7115 seconds, processing\n",
      "Bandpass cleaned in 3.5274 seconds.\n",
      "Stamps filtered in 14.8720 seconds\n",
      "Saving results\n",
      "Results aggregated in 0.0679 seconds\n",
      "Processing coarse channels 154-161\n"
     ]
    },
    {
     "name": "stderr",
     "output_type": "stream",
     "text": [
      " 45%|████▍     | 22/49 [07:21<08:59, 19.99s/it]"
     ]
    },
    {
     "name": "stdout",
     "output_type": "stream",
     "text": [
      "Data loaded in 1.5708 seconds, processing\n",
      "Bandpass cleaned in 3.1512 seconds.\n",
      "Stamps filtered in 14.9419 seconds\n",
      "Saving results\n",
      "Results aggregated in 0.0642 seconds\n",
      "Processing coarse channels 161-168\n"
     ]
    },
    {
     "name": "stderr",
     "output_type": "stream",
     "text": [
      " 47%|████▋     | 23/49 [07:41<08:37, 19.92s/it]"
     ]
    },
    {
     "name": "stdout",
     "output_type": "stream",
     "text": [
      "Data loaded in 1.6334 seconds, processing\n",
      "Bandpass cleaned in 3.3965 seconds.\n",
      "Stamps filtered in 14.7153 seconds\n",
      "Saving results\n",
      "Results aggregated in 0.0879 seconds\n",
      "Processing coarse channels 168-175\n"
     ]
    },
    {
     "name": "stderr",
     "output_type": "stream",
     "text": [
      " 49%|████▉     | 24/49 [08:01<08:17, 19.89s/it]"
     ]
    },
    {
     "name": "stdout",
     "output_type": "stream",
     "text": [
      "Data loaded in 1.5805 seconds, processing\n",
      "Bandpass cleaned in 3.6922 seconds.\n",
      "Stamps filtered in 15.0616 seconds\n",
      "Saving results\n",
      "Results aggregated in 0.0734 seconds\n",
      "Processing coarse channels 175-182\n"
     ]
    },
    {
     "name": "stderr",
     "output_type": "stream",
     "text": [
      " 51%|█████     | 25/49 [08:21<08:01, 20.05s/it]"
     ]
    },
    {
     "name": "stdout",
     "output_type": "stream",
     "text": [
      "Data loaded in 1.6930 seconds, processing\n",
      "Bandpass cleaned in 3.6973 seconds.\n",
      "Stamps filtered in 14.8955 seconds\n",
      "Saving results\n",
      "Results aggregated in 0.0724 seconds\n",
      "Processing coarse channels 182-189\n"
     ]
    },
    {
     "name": "stderr",
     "output_type": "stream",
     "text": [
      " 53%|█████▎    | 26/49 [08:42<07:43, 20.15s/it]"
     ]
    },
    {
     "name": "stdout",
     "output_type": "stream",
     "text": [
      "Data loaded in 1.7490 seconds, processing\n",
      "Bandpass cleaned in 3.6329 seconds.\n",
      "Stamps filtered in 14.9270 seconds\n",
      "Saving results\n",
      "Results aggregated in 0.0733 seconds\n",
      "Processing coarse channels 189-196\n"
     ]
    },
    {
     "name": "stderr",
     "output_type": "stream",
     "text": [
      " 55%|█████▌    | 27/49 [09:02<07:24, 20.22s/it]"
     ]
    },
    {
     "name": "stdout",
     "output_type": "stream",
     "text": [
      "Data loaded in 1.6258 seconds, processing\n",
      "Bandpass cleaned in 3.8753 seconds.\n",
      "Stamps filtered in 14.7511 seconds\n",
      "Saving results\n",
      "Results aggregated in 0.0811 seconds\n",
      "Processing coarse channels 196-203\n"
     ]
    },
    {
     "name": "stderr",
     "output_type": "stream",
     "text": [
      " 57%|█████▋    | 28/49 [09:22<07:05, 20.26s/it]"
     ]
    },
    {
     "name": "stdout",
     "output_type": "stream",
     "text": [
      "Data loaded in 1.6289 seconds, processing\n",
      "Bandpass cleaned in 3.3561 seconds.\n",
      "Stamps filtered in 14.9233 seconds\n",
      "Saving results\n",
      "Results aggregated in 0.0969 seconds\n",
      "Processing coarse channels 203-210\n"
     ]
    },
    {
     "name": "stderr",
     "output_type": "stream",
     "text": [
      " 59%|█████▉    | 29/49 [09:42<06:43, 20.19s/it]"
     ]
    },
    {
     "name": "stdout",
     "output_type": "stream",
     "text": [
      "Data loaded in 1.9473 seconds, processing\n",
      "Bandpass cleaned in 3.1134 seconds.\n",
      "Stamps filtered in 15.0171 seconds\n",
      "Saving results\n",
      "Results aggregated in 0.1185 seconds\n",
      "Processing coarse channels 210-217\n"
     ]
    },
    {
     "name": "stderr",
     "output_type": "stream",
     "text": [
      " 61%|██████    | 30/49 [10:03<06:23, 20.19s/it]"
     ]
    },
    {
     "name": "stdout",
     "output_type": "stream",
     "text": [
      "Data loaded in 1.7807 seconds, processing\n",
      "Bandpass cleaned in 3.2670 seconds.\n",
      "Stamps filtered in 14.8654 seconds\n",
      "Saving results\n",
      "Results aggregated in 0.0734 seconds\n",
      "Processing coarse channels 217-224\n"
     ]
    },
    {
     "name": "stderr",
     "output_type": "stream",
     "text": [
      " 63%|██████▎   | 31/49 [10:23<06:02, 20.13s/it]"
     ]
    },
    {
     "name": "stdout",
     "output_type": "stream",
     "text": [
      "Data loaded in 1.6864 seconds, processing\n",
      "Bandpass cleaned in 3.7097 seconds.\n",
      "Stamps filtered in 14.6035 seconds\n",
      "Saving results\n",
      "Results aggregated in 0.0783 seconds\n",
      "Processing coarse channels 224-231\n"
     ]
    },
    {
     "name": "stderr",
     "output_type": "stream",
     "text": [
      " 65%|██████▌   | 32/49 [10:43<05:42, 20.12s/it]"
     ]
    },
    {
     "name": "stdout",
     "output_type": "stream",
     "text": [
      "Data loaded in 1.9199 seconds, processing\n",
      "Bandpass cleaned in 3.5579 seconds.\n",
      "Stamps filtered in 14.9458 seconds\n",
      "Saving results\n",
      "Results aggregated in 0.0696 seconds\n",
      "Processing coarse channels 231-238\n"
     ]
    },
    {
     "name": "stderr",
     "output_type": "stream",
     "text": [
      " 67%|██████▋   | 33/49 [11:03<05:23, 20.24s/it]"
     ]
    },
    {
     "name": "stdout",
     "output_type": "stream",
     "text": [
      "Data loaded in 1.6870 seconds, processing\n",
      "Bandpass cleaned in 3.7383 seconds.\n",
      "Stamps filtered in 15.1187 seconds\n",
      "Saving results\n"
     ]
    },
    {
     "name": "stderr",
     "output_type": "stream",
     "text": [
      " 69%|██████▉   | 34/49 [11:24<05:07, 20.48s/it]"
     ]
    },
    {
     "name": "stdout",
     "output_type": "stream",
     "text": [
      "Results aggregated in 0.4985 seconds\n",
      "Processing coarse channels 238-245\n",
      "Data loaded in 1.5921 seconds, processing\n",
      "Bandpass cleaned in 3.4538 seconds.\n",
      "Stamps filtered in 15.1285 seconds\n",
      "Saving results\n"
     ]
    },
    {
     "name": "stderr",
     "output_type": "stream",
     "text": [
      " 71%|███████▏  | 35/49 [11:45<04:46, 20.48s/it]"
     ]
    },
    {
     "name": "stdout",
     "output_type": "stream",
     "text": [
      "Results aggregated in 0.2837 seconds\n",
      "Processing coarse channels 245-252\n",
      "Data loaded in 1.6616 seconds, processing\n",
      "Bandpass cleaned in 3.4228 seconds.\n",
      "Stamps filtered in 15.1366 seconds\n",
      "Saving results\n",
      "Results aggregated in 0.0808 seconds\n",
      "Processing coarse channels 252-259\n"
     ]
    },
    {
     "name": "stderr",
     "output_type": "stream",
     "text": [
      " 73%|███████▎  | 36/49 [12:05<04:25, 20.43s/it]"
     ]
    },
    {
     "name": "stdout",
     "output_type": "stream",
     "text": [
      "Data loaded in 1.6366 seconds, processing\n",
      "Bandpass cleaned in 3.2604 seconds.\n",
      "Stamps filtered in 15.0926 seconds\n",
      "Saving results\n",
      "Results aggregated in 0.0739 seconds\n",
      "Processing coarse channels 259-266\n"
     ]
    },
    {
     "name": "stderr",
     "output_type": "stream",
     "text": [
      " 76%|███████▌  | 37/49 [12:25<04:03, 20.32s/it]"
     ]
    },
    {
     "name": "stdout",
     "output_type": "stream",
     "text": [
      "Data loaded in 1.8686 seconds, processing\n",
      "Bandpass cleaned in 3.2922 seconds.\n",
      "Stamps filtered in 14.9258 seconds\n",
      "Saving results\n",
      "Results aggregated in 0.0805 seconds\n",
      "Processing coarse channels 266-273\n"
     ]
    },
    {
     "name": "stderr",
     "output_type": "stream",
     "text": [
      " 78%|███████▊  | 38/49 [12:45<03:43, 20.28s/it]"
     ]
    },
    {
     "name": "stdout",
     "output_type": "stream",
     "text": [
      "Data loaded in 1.7482 seconds, processing\n",
      "Bandpass cleaned in 3.2292 seconds.\n",
      "Stamps filtered in 14.9608 seconds\n",
      "Saving results\n",
      "Results aggregated in 0.0844 seconds\n",
      "Processing coarse channels 273-280\n"
     ]
    },
    {
     "name": "stderr",
     "output_type": "stream",
     "text": [
      " 80%|███████▉  | 39/49 [13:05<03:22, 20.21s/it]"
     ]
    },
    {
     "name": "stdout",
     "output_type": "stream",
     "text": [
      "Data loaded in 1.7135 seconds, processing\n",
      "Bandpass cleaned in 3.1695 seconds.\n",
      "Stamps filtered in 14.8447 seconds\n",
      "Saving results\n",
      "Results aggregated in 0.0817 seconds\n",
      "Processing coarse channels 280-287\n"
     ]
    },
    {
     "name": "stderr",
     "output_type": "stream",
     "text": [
      " 82%|████████▏ | 40/49 [13:25<03:00, 20.09s/it]"
     ]
    },
    {
     "name": "stdout",
     "output_type": "stream",
     "text": [
      "Data loaded in 1.7146 seconds, processing\n",
      "Bandpass cleaned in 3.4216 seconds.\n",
      "Stamps filtered in 15.0045 seconds\n",
      "Saving results\n",
      "Results aggregated in 0.0798 seconds\n",
      "Processing coarse channels 287-294\n"
     ]
    },
    {
     "name": "stderr",
     "output_type": "stream",
     "text": [
      " 84%|████████▎ | 41/49 [13:45<02:41, 20.13s/it]"
     ]
    },
    {
     "name": "stdout",
     "output_type": "stream",
     "text": [
      "Data loaded in 1.6829 seconds, processing\n",
      "Bandpass cleaned in 3.7926 seconds.\n",
      "Stamps filtered in 14.7965 seconds\n",
      "Saving results\n",
      "Results aggregated in 0.0772 seconds\n",
      "Processing coarse channels 294-301\n"
     ]
    },
    {
     "name": "stderr",
     "output_type": "stream",
     "text": [
      " 86%|████████▌ | 42/49 [14:06<02:21, 20.20s/it]"
     ]
    },
    {
     "name": "stdout",
     "output_type": "stream",
     "text": [
      "Data loaded in 1.6198 seconds, processing\n",
      "Bandpass cleaned in 3.3073 seconds.\n",
      "Stamps filtered in 14.9689 seconds\n",
      "Saving results\n"
     ]
    },
    {
     "name": "stderr",
     "output_type": "stream",
     "text": [
      " 88%|████████▊ | 43/49 [14:26<02:01, 20.20s/it]"
     ]
    },
    {
     "name": "stdout",
     "output_type": "stream",
     "text": [
      "Results aggregated in 0.2767 seconds\n",
      "Processing coarse channels 301-308\n",
      "Data loaded in 1.5975 seconds, processing\n",
      "Bandpass cleaned in 3.2095 seconds.\n",
      "Stamps filtered in 15.1587 seconds\n",
      "Saving results\n",
      "Results aggregated in 0.0955 seconds\n",
      "Processing coarse channels 308-315\n"
     ]
    },
    {
     "name": "stderr",
     "output_type": "stream",
     "text": [
      " 90%|████████▉ | 44/49 [14:46<01:40, 20.16s/it]"
     ]
    },
    {
     "name": "stdout",
     "output_type": "stream",
     "text": [
      "Data loaded in 1.7078 seconds, processing\n",
      "Bandpass cleaned in 3.2721 seconds.\n",
      "Stamps filtered in 15.2093 seconds\n",
      "Saving results\n",
      "Results aggregated in 0.0767 seconds\n",
      "Processing coarse channels 315-322\n"
     ]
    },
    {
     "name": "stderr",
     "output_type": "stream",
     "text": [
      " 92%|█████████▏| 45/49 [15:06<01:20, 20.19s/it]"
     ]
    },
    {
     "name": "stdout",
     "output_type": "stream",
     "text": [
      "Data loaded in 1.5761 seconds, processing\n",
      "Bandpass cleaned in 3.1407 seconds.\n",
      "Stamps filtered in 15.1157 seconds\n",
      "Saving results\n",
      "Results aggregated in 0.0819 seconds\n",
      "Processing coarse channels 322-329\n"
     ]
    },
    {
     "name": "stderr",
     "output_type": "stream",
     "text": [
      " 94%|█████████▍| 46/49 [15:26<01:00, 20.11s/it]"
     ]
    },
    {
     "name": "stdout",
     "output_type": "stream",
     "text": [
      "Data loaded in 1.5648 seconds, processing\n",
      "Bandpass cleaned in 3.1566 seconds.\n",
      "Stamps filtered in 15.0349 seconds\n",
      "Saving results\n",
      "Results aggregated in 0.0804 seconds\n",
      "Processing coarse channels 329-336\n"
     ]
    },
    {
     "name": "stderr",
     "output_type": "stream",
     "text": [
      " 96%|█████████▌| 47/49 [15:46<00:40, 20.03s/it]"
     ]
    },
    {
     "name": "stdout",
     "output_type": "stream",
     "text": [
      "Data loaded in 1.6870 seconds, processing\n",
      "Bandpass cleaned in 3.1610 seconds.\n",
      "Stamps filtered in 14.7697 seconds\n",
      "Saving results\n",
      "Results aggregated in 0.0936 seconds\n",
      "Processing coarse channels 336-343\n"
     ]
    },
    {
     "name": "stderr",
     "output_type": "stream",
     "text": [
      " 98%|█████████▊| 48/49 [16:06<00:19, 19.94s/it]"
     ]
    },
    {
     "name": "stdout",
     "output_type": "stream",
     "text": [
      "Data loaded in 1.5835 seconds, processing\n",
      "Bandpass cleaned in 3.1860 seconds.\n",
      "Stamps filtered in 14.8684 seconds\n",
      "Saving results\n"
     ]
    },
    {
     "name": "stderr",
     "output_type": "stream",
     "text": [
      "100%|██████████| 49/49 [16:25<00:00, 20.12s/it]\n"
     ]
    },
    {
     "name": "stdout",
     "output_type": "stream",
     "text": [
      "Results aggregated in 0.0811 seconds\n",
      "      level_0      index     statistic  pvalue        freqs\n",
      "322       322  199942016  13975.102618     0.0  2244.200492\n",
      "321       321  199941888  13972.741180     0.0  2244.200850\n",
      "3212     3212  249331456  13423.362744     0.0  2106.207991\n",
      "3143     3143  249307776  13363.284835     0.0  2106.274152\n",
      "343 343\n",
      "Finished Energy Detection on GBT_57684_57862_HIP63503_fine.h5 in 988.7167 seconds\n",
      "/mnt_blpd7/datax/dl/GBT_57684_58202_HIP62578_fine.h5\n",
      "Header saved to ../../../../../../datax/scratch/pma/reverse_search/train/HIP63503-523/GBT_57684_58202_HIP62578_fine/header.pkl\n",
      "Processing 7 in parallel\n",
      "Processing coarse channels 0-7\n"
     ]
    },
    {
     "name": "stderr",
     "output_type": "stream",
     "text": [
      "  0%|          | 0/49 [00:00<?, ?it/s]"
     ]
    },
    {
     "name": "stdout",
     "output_type": "stream",
     "text": [
      "Data loaded in 2.8347 seconds, processing\n",
      "Bandpass cleaned in 3.1052 seconds.\n",
      "Stamps filtered in 15.0789 seconds\n",
      "Saving results\n",
      "Results aggregated in 0.0693 seconds\n",
      "Processing coarse channels 7-14\n"
     ]
    },
    {
     "name": "stderr",
     "output_type": "stream",
     "text": [
      "  2%|▏         | 1/49 [00:21<16:52, 21.10s/it]"
     ]
    },
    {
     "name": "stdout",
     "output_type": "stream",
     "text": [
      "Data loaded in 1.9139 seconds, processing\n",
      "Bandpass cleaned in 3.2036 seconds.\n",
      "Stamps filtered in 14.9198 seconds\n",
      "Saving results\n",
      "Results aggregated in 0.0691 seconds\n",
      "Processing coarse channels 14-21\n"
     ]
    },
    {
     "name": "stderr",
     "output_type": "stream",
     "text": [
      "  4%|▍         | 2/49 [00:41<16:04, 20.52s/it]"
     ]
    },
    {
     "name": "stdout",
     "output_type": "stream",
     "text": [
      "Data loaded in 1.5965 seconds, processing\n",
      "Bandpass cleaned in 3.0706 seconds.\n",
      "Stamps filtered in 14.9603 seconds\n",
      "Saving results\n",
      "Results aggregated in 0.0619 seconds\n",
      "Processing coarse channels 21-28\n"
     ]
    },
    {
     "name": "stderr",
     "output_type": "stream",
     "text": [
      "  6%|▌         | 3/49 [01:00<15:26, 20.15s/it]"
     ]
    },
    {
     "name": "stdout",
     "output_type": "stream",
     "text": [
      "Data loaded in 1.5542 seconds, processing\n",
      "Bandpass cleaned in 3.6121 seconds.\n",
      "Stamps filtered in 15.1190 seconds\n",
      "Saving results\n",
      "Results aggregated in 0.0620 seconds\n",
      "Processing coarse channels 28-35\n"
     ]
    },
    {
     "name": "stderr",
     "output_type": "stream",
     "text": [
      "  8%|▊         | 4/49 [01:21<15:10, 20.23s/it]"
     ]
    },
    {
     "name": "stdout",
     "output_type": "stream",
     "text": [
      "Data loaded in 1.8334 seconds, processing\n",
      "Bandpass cleaned in 3.2978 seconds.\n",
      "Stamps filtered in 14.6757 seconds\n",
      "Saving results\n",
      "Results aggregated in 0.0630 seconds\n",
      "Processing coarse channels 35-42\n"
     ]
    },
    {
     "name": "stderr",
     "output_type": "stream",
     "text": [
      " 10%|█         | 5/49 [01:41<14:44, 20.10s/it]"
     ]
    },
    {
     "name": "stdout",
     "output_type": "stream",
     "text": [
      "Data loaded in 1.7474 seconds, processing\n",
      "Bandpass cleaned in 3.3682 seconds.\n",
      "Stamps filtered in 14.7161 seconds\n",
      "Saving results\n",
      "Results aggregated in 0.0672 seconds\n",
      "Processing coarse channels 42-49\n"
     ]
    },
    {
     "name": "stderr",
     "output_type": "stream",
     "text": [
      " 12%|█▏        | 6/49 [02:01<14:21, 20.04s/it]"
     ]
    },
    {
     "name": "stdout",
     "output_type": "stream",
     "text": [
      "Data loaded in 1.6692 seconds, processing\n",
      "Bandpass cleaned in 3.3404 seconds.\n",
      "Stamps filtered in 15.0162 seconds\n",
      "Saving results\n",
      "Results aggregated in 0.0686 seconds\n",
      "Processing coarse channels 49-56\n"
     ]
    },
    {
     "name": "stderr",
     "output_type": "stream",
     "text": [
      " 14%|█▍        | 7/49 [02:21<14:02, 20.06s/it]"
     ]
    },
    {
     "name": "stdout",
     "output_type": "stream",
     "text": [
      "Data loaded in 1.5722 seconds, processing\n",
      "Bandpass cleaned in 3.6877 seconds.\n",
      "Stamps filtered in 14.8520 seconds\n",
      "Saving results\n",
      "Results aggregated in 0.0627 seconds\n",
      "Processing coarse channels 56-63\n"
     ]
    },
    {
     "name": "stderr",
     "output_type": "stream",
     "text": [
      " 16%|█▋        | 8/49 [02:41<13:44, 20.10s/it]"
     ]
    },
    {
     "name": "stdout",
     "output_type": "stream",
     "text": [
      "Data loaded in 1.5594 seconds, processing\n",
      "Bandpass cleaned in 3.6528 seconds.\n",
      "Stamps filtered in 15.0826 seconds\n",
      "Saving results\n",
      "Results aggregated in 0.0680 seconds\n",
      "Processing coarse channels 63-70\n"
     ]
    },
    {
     "name": "stderr",
     "output_type": "stream",
     "text": [
      " 18%|█▊        | 9/49 [03:01<13:27, 20.19s/it]"
     ]
    },
    {
     "name": "stdout",
     "output_type": "stream",
     "text": [
      "Data loaded in 1.7849 seconds, processing\n",
      "Bandpass cleaned in 3.3035 seconds.\n",
      "Stamps filtered in 14.9665 seconds\n",
      "Saving results\n",
      "Results aggregated in 0.0677 seconds\n",
      "Processing coarse channels 70-77\n"
     ]
    },
    {
     "name": "stderr",
     "output_type": "stream",
     "text": [
      " 20%|██        | 10/49 [03:21<13:06, 20.17s/it]"
     ]
    },
    {
     "name": "stdout",
     "output_type": "stream",
     "text": [
      "Data loaded in 1.6785 seconds, processing\n",
      "Bandpass cleaned in 3.3969 seconds.\n",
      "Stamps filtered in 14.7986 seconds\n",
      "Saving results\n",
      "Results aggregated in 0.0672 seconds\n",
      "Processing coarse channels 77-84\n"
     ]
    },
    {
     "name": "stderr",
     "output_type": "stream",
     "text": [
      " 22%|██▏       | 11/49 [03:41<12:43, 20.10s/it]"
     ]
    },
    {
     "name": "stdout",
     "output_type": "stream",
     "text": [
      "Data loaded in 1.5411 seconds, processing\n",
      "Bandpass cleaned in 3.3622 seconds.\n",
      "Stamps filtered in 15.0887 seconds\n",
      "Saving results\n",
      "Results aggregated in 0.0687 seconds\n",
      "Processing coarse channels 84-91\n"
     ]
    },
    {
     "name": "stderr",
     "output_type": "stream",
     "text": [
      " 24%|██▍       | 12/49 [04:01<12:23, 20.09s/it]"
     ]
    },
    {
     "name": "stdout",
     "output_type": "stream",
     "text": [
      "Data loaded in 1.6187 seconds, processing\n",
      "Bandpass cleaned in 3.8311 seconds.\n",
      "Stamps filtered in 14.9618 seconds\n",
      "Saving results\n",
      "Results aggregated in 0.0644 seconds\n",
      "Processing coarse channels 91-98\n"
     ]
    },
    {
     "name": "stderr",
     "output_type": "stream",
     "text": [
      " 27%|██▋       | 13/49 [04:22<12:07, 20.21s/it]"
     ]
    },
    {
     "name": "stdout",
     "output_type": "stream",
     "text": [
      "Data loaded in 1.6095 seconds, processing\n",
      "Bandpass cleaned in 3.8268 seconds.\n",
      "Stamps filtered in 15.0185 seconds\n",
      "Saving results\n",
      "Results aggregated in 0.0667 seconds\n",
      "Processing coarse channels 98-105\n"
     ]
    },
    {
     "name": "stderr",
     "output_type": "stream",
     "text": [
      " 29%|██▊       | 14/49 [04:42<11:50, 20.31s/it]"
     ]
    },
    {
     "name": "stdout",
     "output_type": "stream",
     "text": [
      "Data loaded in 1.8209 seconds, processing\n",
      "Bandpass cleaned in 3.8545 seconds.\n",
      "Stamps filtered in 15.1400 seconds\n",
      "Saving results\n",
      "Results aggregated in 0.0697 seconds\n",
      "Processing coarse channels 105-112\n"
     ]
    },
    {
     "name": "stderr",
     "output_type": "stream",
     "text": [
      " 31%|███       | 15/49 [05:03<11:36, 20.49s/it]"
     ]
    },
    {
     "name": "stdout",
     "output_type": "stream",
     "text": [
      "Data loaded in 1.5491 seconds, processing\n",
      "Bandpass cleaned in 3.5534 seconds.\n",
      "Stamps filtered in 15.0550 seconds\n",
      "Saving results\n",
      "Results aggregated in 0.0681 seconds\n",
      "Processing coarse channels 112-119\n"
     ]
    },
    {
     "name": "stderr",
     "output_type": "stream",
     "text": [
      " 33%|███▎      | 16/49 [05:24<11:13, 20.41s/it]"
     ]
    },
    {
     "name": "stdout",
     "output_type": "stream",
     "text": [
      "Data loaded in 1.5920 seconds, processing\n",
      "Bandpass cleaned in 3.4622 seconds.\n",
      "Stamps filtered in 14.9460 seconds\n",
      "Saving results\n",
      "Results aggregated in 0.0661 seconds\n",
      "Processing coarse channels 119-126\n"
     ]
    },
    {
     "name": "stderr",
     "output_type": "stream",
     "text": [
      " 35%|███▍      | 17/49 [05:44<10:49, 20.31s/it]"
     ]
    },
    {
     "name": "stdout",
     "output_type": "stream",
     "text": [
      "Data loaded in 1.6370 seconds, processing\n",
      "Bandpass cleaned in 3.3132 seconds.\n",
      "Stamps filtered in 15.4071 seconds\n",
      "Saving results\n",
      "Results aggregated in 0.0713 seconds\n",
      "Processing coarse channels 126-133\n"
     ]
    },
    {
     "name": "stderr",
     "output_type": "stream",
     "text": [
      " 37%|███▋      | 18/49 [06:04<10:30, 20.35s/it]"
     ]
    },
    {
     "name": "stdout",
     "output_type": "stream",
     "text": [
      "Data loaded in 1.6453 seconds, processing\n",
      "Bandpass cleaned in 3.6307 seconds.\n",
      "Stamps filtered in 14.6629 seconds\n",
      "Saving results\n",
      "Results aggregated in 0.0727 seconds\n",
      "Processing coarse channels 133-140\n"
     ]
    },
    {
     "name": "stderr",
     "output_type": "stream",
     "text": [
      " 39%|███▉      | 19/49 [06:24<10:07, 20.25s/it]"
     ]
    },
    {
     "name": "stdout",
     "output_type": "stream",
     "text": [
      "Data loaded in 1.7464 seconds, processing\n",
      "Bandpass cleaned in 3.2270 seconds.\n",
      "Stamps filtered in 14.8043 seconds\n",
      "Saving results\n",
      "Results aggregated in 0.0668 seconds\n",
      "Processing coarse channels 140-147\n"
     ]
    },
    {
     "name": "stderr",
     "output_type": "stream",
     "text": [
      " 41%|████      | 20/49 [06:44<09:43, 20.13s/it]"
     ]
    },
    {
     "name": "stdout",
     "output_type": "stream",
     "text": [
      "Data loaded in 1.5697 seconds, processing\n",
      "Bandpass cleaned in 3.3575 seconds.\n",
      "Stamps filtered in 14.6054 seconds\n",
      "Saving results\n",
      "Results aggregated in 0.0714 seconds\n",
      "Processing coarse channels 147-154\n"
     ]
    },
    {
     "name": "stderr",
     "output_type": "stream",
     "text": [
      " 43%|████▎     | 21/49 [07:04<09:19, 19.98s/it]"
     ]
    },
    {
     "name": "stdout",
     "output_type": "stream",
     "text": [
      "Data loaded in 1.6785 seconds, processing\n",
      "Bandpass cleaned in 3.7519 seconds.\n",
      "Stamps filtered in 14.8798 seconds\n",
      "Saving results\n",
      "Results aggregated in 0.0661 seconds\n",
      "Processing coarse channels 154-161\n"
     ]
    },
    {
     "name": "stderr",
     "output_type": "stream",
     "text": [
      " 45%|████▍     | 22/49 [07:24<09:02, 20.10s/it]"
     ]
    },
    {
     "name": "stdout",
     "output_type": "stream",
     "text": [
      "Data loaded in 1.5544 seconds, processing\n",
      "Bandpass cleaned in 3.4417 seconds.\n",
      "Stamps filtered in 14.9131 seconds\n",
      "Saving results\n",
      "Results aggregated in 0.0732 seconds\n",
      "Processing coarse channels 161-168\n"
     ]
    },
    {
     "name": "stderr",
     "output_type": "stream",
     "text": [
      " 47%|████▋     | 23/49 [07:44<08:41, 20.07s/it]"
     ]
    },
    {
     "name": "stdout",
     "output_type": "stream",
     "text": [
      "Data loaded in 1.6249 seconds, processing\n",
      "Bandpass cleaned in 3.3492 seconds.\n",
      "Stamps filtered in 14.9160 seconds\n",
      "Saving results\n",
      "Results aggregated in 0.0787 seconds\n",
      "Processing coarse channels 168-175\n"
     ]
    },
    {
     "name": "stderr",
     "output_type": "stream",
     "text": [
      " 49%|████▉     | 24/49 [08:04<08:21, 20.04s/it]"
     ]
    },
    {
     "name": "stdout",
     "output_type": "stream",
     "text": [
      "Data loaded in 1.6262 seconds, processing\n",
      "Bandpass cleaned in 3.4064 seconds.\n",
      "Stamps filtered in 15.1657 seconds\n",
      "Saving results\n",
      "Results aggregated in 0.0633 seconds\n",
      "Processing coarse channels 175-182\n"
     ]
    },
    {
     "name": "stderr",
     "output_type": "stream",
     "text": [
      " 51%|█████     | 25/49 [08:24<08:02, 20.11s/it]"
     ]
    },
    {
     "name": "stdout",
     "output_type": "stream",
     "text": [
      "Data loaded in 1.6530 seconds, processing\n",
      "Bandpass cleaned in 3.3567 seconds.\n",
      "Stamps filtered in 14.1091 seconds\n",
      "Saving results\n",
      "Results aggregated in 0.0688 seconds\n",
      "Processing coarse channels 182-189\n"
     ]
    },
    {
     "name": "stderr",
     "output_type": "stream",
     "text": [
      " 53%|█████▎    | 26/49 [08:43<07:36, 19.84s/it]"
     ]
    },
    {
     "name": "stdout",
     "output_type": "stream",
     "text": [
      "Data loaded in 1.6318 seconds, processing\n",
      "Bandpass cleaned in 3.6663 seconds.\n",
      "Stamps filtered in 15.0324 seconds\n",
      "Saving results\n",
      "Results aggregated in 0.0759 seconds\n",
      "Processing coarse channels 189-196\n"
     ]
    },
    {
     "name": "stderr",
     "output_type": "stream",
     "text": [
      " 55%|█████▌    | 27/49 [09:04<07:20, 20.01s/it]"
     ]
    },
    {
     "name": "stdout",
     "output_type": "stream",
     "text": [
      "Data loaded in 1.7971 seconds, processing\n",
      "Bandpass cleaned in 3.1446 seconds.\n",
      "Stamps filtered in 15.2424 seconds\n",
      "Saving results\n",
      "Results aggregated in 0.0962 seconds\n",
      "Processing coarse channels 196-203\n"
     ]
    },
    {
     "name": "stderr",
     "output_type": "stream",
     "text": [
      " 57%|█████▋    | 28/49 [09:24<07:01, 20.10s/it]"
     ]
    },
    {
     "name": "stdout",
     "output_type": "stream",
     "text": [
      "Data loaded in 1.5482 seconds, processing\n",
      "Bandpass cleaned in 3.4305 seconds.\n",
      "Stamps filtered in 15.3228 seconds\n",
      "Saving results\n",
      "Results aggregated in 0.0769 seconds\n",
      "Processing coarse channels 203-210\n"
     ]
    },
    {
     "name": "stderr",
     "output_type": "stream",
     "text": [
      " 59%|█████▉    | 29/49 [09:44<06:43, 20.18s/it]"
     ]
    },
    {
     "name": "stdout",
     "output_type": "stream",
     "text": [
      "Data loaded in 1.9297 seconds, processing\n",
      "Bandpass cleaned in 3.1257 seconds.\n",
      "Stamps filtered in 15.3128 seconds\n",
      "Saving results\n",
      "Results aggregated in 0.1032 seconds\n",
      "Processing coarse channels 210-217\n"
     ]
    },
    {
     "name": "stderr",
     "output_type": "stream",
     "text": [
      " 61%|██████    | 30/49 [10:05<06:25, 20.27s/it]"
     ]
    },
    {
     "name": "stdout",
     "output_type": "stream",
     "text": [
      "Data loaded in 1.6479 seconds, processing\n",
      "Bandpass cleaned in 3.7303 seconds.\n",
      "Stamps filtered in 15.1102 seconds\n",
      "Saving results\n",
      "Results aggregated in 0.0760 seconds\n",
      "Processing coarse channels 217-224\n"
     ]
    },
    {
     "name": "stderr",
     "output_type": "stream",
     "text": [
      " 63%|██████▎   | 31/49 [10:26<06:06, 20.36s/it]"
     ]
    },
    {
     "name": "stdout",
     "output_type": "stream",
     "text": [
      "Data loaded in 1.8979 seconds, processing\n",
      "Bandpass cleaned in 3.3781 seconds.\n",
      "Stamps filtered in 14.9579 seconds\n",
      "Saving results\n",
      "Results aggregated in 0.0723 seconds\n",
      "Processing coarse channels 224-231\n"
     ]
    },
    {
     "name": "stderr",
     "output_type": "stream",
     "text": [
      " 65%|██████▌   | 32/49 [10:46<05:45, 20.35s/it]"
     ]
    },
    {
     "name": "stdout",
     "output_type": "stream",
     "text": [
      "Data loaded in 1.7415 seconds, processing\n",
      "Bandpass cleaned in 3.2254 seconds.\n",
      "Stamps filtered in 15.4351 seconds\n",
      "Saving results\n",
      "Results aggregated in 0.0687 seconds\n",
      "Processing coarse channels 231-238\n"
     ]
    },
    {
     "name": "stderr",
     "output_type": "stream",
     "text": [
      " 67%|██████▋   | 33/49 [11:06<05:26, 20.39s/it]"
     ]
    },
    {
     "name": "stdout",
     "output_type": "stream",
     "text": [
      "Data loaded in 1.7240 seconds, processing\n",
      "Bandpass cleaned in 3.2172 seconds.\n",
      "Stamps filtered in 15.1735 seconds\n",
      "Saving results\n",
      "Results aggregated in 0.1648 seconds\n",
      "Processing coarse channels 238-245\n"
     ]
    },
    {
     "name": "stderr",
     "output_type": "stream",
     "text": [
      " 69%|██████▉   | 34/49 [11:27<05:05, 20.36s/it]"
     ]
    },
    {
     "name": "stdout",
     "output_type": "stream",
     "text": [
      "Data loaded in 1.5096 seconds, processing\n",
      "Bandpass cleaned in 3.5276 seconds.\n",
      "Stamps filtered in 14.6382 seconds\n",
      "Saving results\n",
      "Results aggregated in 0.1306 seconds\n",
      "Processing coarse channels 245-252\n"
     ]
    },
    {
     "name": "stderr",
     "output_type": "stream",
     "text": [
      " 71%|███████▏  | 35/49 [11:46<04:42, 20.20s/it]"
     ]
    },
    {
     "name": "stdout",
     "output_type": "stream",
     "text": [
      "Data loaded in 1.6445 seconds, processing\n",
      "Bandpass cleaned in 3.2367 seconds.\n",
      "Stamps filtered in 15.1726 seconds\n",
      "Saving results\n",
      "Results aggregated in 0.0851 seconds\n",
      "Processing coarse channels 252-259\n"
     ]
    },
    {
     "name": "stderr",
     "output_type": "stream",
     "text": [
      " 73%|███████▎  | 36/49 [12:07<04:22, 20.18s/it]"
     ]
    },
    {
     "name": "stdout",
     "output_type": "stream",
     "text": [
      "Data loaded in 1.8281 seconds, processing\n",
      "Bandpass cleaned in 3.1948 seconds.\n",
      "Stamps filtered in 15.0046 seconds\n",
      "Saving results\n",
      "Results aggregated in 0.0761 seconds\n",
      "Processing coarse channels 259-266\n"
     ]
    },
    {
     "name": "stderr",
     "output_type": "stream",
     "text": [
      " 76%|███████▌  | 37/49 [12:27<04:01, 20.16s/it]"
     ]
    },
    {
     "name": "stdout",
     "output_type": "stream",
     "text": [
      "Data loaded in 1.7060 seconds, processing\n",
      "Bandpass cleaned in 3.1524 seconds.\n",
      "Stamps filtered in 15.2425 seconds\n",
      "Saving results\n",
      "Results aggregated in 0.0833 seconds\n",
      "Processing coarse channels 266-273\n"
     ]
    },
    {
     "name": "stderr",
     "output_type": "stream",
     "text": [
      " 78%|███████▊  | 38/49 [12:47<03:41, 20.17s/it]"
     ]
    },
    {
     "name": "stdout",
     "output_type": "stream",
     "text": [
      "Data loaded in 1.6974 seconds, processing\n",
      "Bandpass cleaned in 3.1552 seconds.\n",
      "Stamps filtered in 14.8106 seconds\n",
      "Saving results\n",
      "Results aggregated in 0.0730 seconds\n",
      "Processing coarse channels 273-280\n"
     ]
    },
    {
     "name": "stderr",
     "output_type": "stream",
     "text": [
      " 80%|███████▉  | 39/49 [13:07<03:20, 20.04s/it]"
     ]
    },
    {
     "name": "stdout",
     "output_type": "stream",
     "text": [
      "Data loaded in 1.6730 seconds, processing\n",
      "Bandpass cleaned in 3.1313 seconds.\n",
      "Stamps filtered in 15.0668 seconds\n",
      "Saving results\n",
      "Results aggregated in 0.0844 seconds\n",
      "Processing coarse channels 280-287\n"
     ]
    },
    {
     "name": "stderr",
     "output_type": "stream",
     "text": [
      " 82%|████████▏ | 40/49 [13:27<03:00, 20.02s/it]"
     ]
    },
    {
     "name": "stdout",
     "output_type": "stream",
     "text": [
      "Data loaded in 1.6221 seconds, processing\n",
      "Bandpass cleaned in 3.1631 seconds.\n",
      "Stamps filtered in 14.6733 seconds\n",
      "Saving results\n",
      "Results aggregated in 0.0830 seconds\n",
      "Processing coarse channels 287-294\n"
     ]
    },
    {
     "name": "stderr",
     "output_type": "stream",
     "text": [
      " 84%|████████▎ | 41/49 [13:46<02:39, 19.88s/it]"
     ]
    },
    {
     "name": "stdout",
     "output_type": "stream",
     "text": [
      "Data loaded in 1.7998 seconds, processing\n",
      "Bandpass cleaned in 3.1518 seconds.\n",
      "Stamps filtered in 15.3223 seconds\n",
      "Saving results\n",
      "Results aggregated in 0.0875 seconds\n",
      "Processing coarse channels 294-301\n"
     ]
    },
    {
     "name": "stderr",
     "output_type": "stream",
     "text": [
      " 86%|████████▌ | 42/49 [14:07<02:20, 20.03s/it]"
     ]
    },
    {
     "name": "stdout",
     "output_type": "stream",
     "text": [
      "Data loaded in 1.7900 seconds, processing\n",
      "Bandpass cleaned in 3.1364 seconds.\n",
      "Stamps filtered in 15.0562 seconds\n",
      "Saving results\n"
     ]
    },
    {
     "name": "stderr",
     "output_type": "stream",
     "text": [
      " 88%|████████▊ | 43/49 [14:27<02:00, 20.14s/it]"
     ]
    },
    {
     "name": "stdout",
     "output_type": "stream",
     "text": [
      "Results aggregated in 0.4196 seconds\n",
      "Processing coarse channels 301-308\n",
      "Data loaded in 1.8308 seconds, processing\n",
      "Bandpass cleaned in 3.1999 seconds.\n",
      "Stamps filtered in 14.9973 seconds\n",
      "Saving results\n",
      "Results aggregated in 0.1055 seconds\n",
      "Processing coarse channels 308-315\n"
     ]
    },
    {
     "name": "stderr",
     "output_type": "stream",
     "text": [
      " 90%|████████▉ | 44/49 [14:47<01:40, 20.14s/it]"
     ]
    },
    {
     "name": "stdout",
     "output_type": "stream",
     "text": [
      "Data loaded in 1.8333 seconds, processing\n",
      "Bandpass cleaned in 3.1242 seconds.\n",
      "Stamps filtered in 15.6364 seconds\n",
      "Saving results\n",
      "Results aggregated in 0.0852 seconds\n",
      "Processing coarse channels 315-322\n"
     ]
    },
    {
     "name": "stderr",
     "output_type": "stream",
     "text": [
      " 92%|█████████▏| 45/49 [15:08<01:21, 20.31s/it]"
     ]
    },
    {
     "name": "stdout",
     "output_type": "stream",
     "text": [
      "Data loaded in 1.6279 seconds, processing\n",
      "Bandpass cleaned in 3.3881 seconds.\n",
      "Stamps filtered in 15.4449 seconds\n",
      "Saving results\n",
      "Results aggregated in 0.0814 seconds\n",
      "Processing coarse channels 322-329\n"
     ]
    },
    {
     "name": "stderr",
     "output_type": "stream",
     "text": [
      " 94%|█████████▍| 46/49 [15:28<01:01, 20.38s/it]"
     ]
    },
    {
     "name": "stdout",
     "output_type": "stream",
     "text": [
      "Data loaded in 1.9131 seconds, processing\n",
      "Bandpass cleaned in 3.5260 seconds.\n",
      "Stamps filtered in 14.9792 seconds\n",
      "Saving results\n",
      "Results aggregated in 0.0882 seconds\n",
      "Processing coarse channels 329-336\n"
     ]
    },
    {
     "name": "stderr",
     "output_type": "stream",
     "text": [
      " 96%|█████████▌| 47/49 [15:49<00:40, 20.42s/it]"
     ]
    },
    {
     "name": "stdout",
     "output_type": "stream",
     "text": [
      "Data loaded in 1.5857 seconds, processing\n",
      "Bandpass cleaned in 3.2500 seconds.\n",
      "Stamps filtered in 15.3021 seconds\n",
      "Saving results\n",
      "Results aggregated in 0.0944 seconds\n",
      "Processing coarse channels 336-343\n"
     ]
    },
    {
     "name": "stderr",
     "output_type": "stream",
     "text": [
      " 98%|█████████▊| 48/49 [16:09<00:20, 20.37s/it]"
     ]
    },
    {
     "name": "stdout",
     "output_type": "stream",
     "text": [
      "Data loaded in 1.5921 seconds, processing\n",
      "Bandpass cleaned in 3.2655 seconds.\n",
      "Stamps filtered in 15.6226 seconds\n",
      "Saving results\n"
     ]
    },
    {
     "name": "stderr",
     "output_type": "stream",
     "text": [
      "100%|██████████| 49/49 [16:30<00:00, 20.21s/it]\n"
     ]
    },
    {
     "name": "stdout",
     "output_type": "stream",
     "text": [
      "Results aggregated in 0.0813 seconds\n",
      "     level_0      index     statistic  pvalue        freqs\n",
      "325      325  206251392  11983.543411     0.0  2226.572299\n",
      "326      326  206251520  11762.819770     0.0  2226.571941\n",
      "333      333  206265472  10981.568889     0.0  2226.532960\n",
      "332      332  206265344  10960.592795     0.0  2226.533318\n",
      "343 343\n",
      "Finished Energy Detection on GBT_57684_58202_HIP62578_fine.h5 in 993.5272 seconds\n",
      "/mnt_blpd7/datax/dl/GBT_57684_58540_HIP63503_fine.h5\n",
      "Header saved to ../../../../../../datax/scratch/pma/reverse_search/train/HIP63503-523/GBT_57684_58540_HIP63503_fine/header.pkl\n",
      "Processing 7 in parallel\n",
      "Processing coarse channels 0-7\n"
     ]
    },
    {
     "name": "stderr",
     "output_type": "stream",
     "text": [
      "  0%|          | 0/49 [00:00<?, ?it/s]"
     ]
    },
    {
     "name": "stdout",
     "output_type": "stream",
     "text": [
      "Data loaded in 2.8803 seconds, processing\n",
      "Bandpass cleaned in 3.2677 seconds.\n",
      "Stamps filtered in 15.2387 seconds\n",
      "Saving results\n",
      "Results aggregated in 0.0584 seconds\n",
      "Processing coarse channels 7-14\n"
     ]
    },
    {
     "name": "stderr",
     "output_type": "stream",
     "text": [
      "  2%|▏         | 1/49 [00:21<17:09, 21.45s/it]"
     ]
    },
    {
     "name": "stdout",
     "output_type": "stream",
     "text": [
      "Data loaded in 2.0964 seconds, processing\n",
      "Bandpass cleaned in 3.0980 seconds.\n",
      "Stamps filtered in 14.8880 seconds\n",
      "Saving results\n",
      "Results aggregated in 0.0654 seconds\n",
      "Processing coarse channels 14-21\n"
     ]
    },
    {
     "name": "stderr",
     "output_type": "stream",
     "text": [
      "  4%|▍         | 2/49 [00:41<16:12, 20.69s/it]"
     ]
    },
    {
     "name": "stdout",
     "output_type": "stream",
     "text": [
      "Data loaded in 1.5699 seconds, processing\n",
      "Bandpass cleaned in 3.2953 seconds.\n",
      "Stamps filtered in 15.0818 seconds\n",
      "Saving results\n",
      "Results aggregated in 0.0698 seconds\n",
      "Processing coarse channels 21-28\n"
     ]
    },
    {
     "name": "stderr",
     "output_type": "stream",
     "text": [
      "  6%|▌         | 3/49 [01:01<15:38, 20.39s/it]"
     ]
    },
    {
     "name": "stdout",
     "output_type": "stream",
     "text": [
      "Data loaded in 2.1047 seconds, processing\n",
      "Bandpass cleaned in 3.4718 seconds.\n",
      "Stamps filtered in 15.3326 seconds\n",
      "Saving results\n",
      "Results aggregated in 0.0677 seconds\n",
      "Processing coarse channels 28-35\n"
     ]
    },
    {
     "name": "stderr",
     "output_type": "stream",
     "text": [
      "  8%|▊         | 4/49 [01:22<15:28, 20.63s/it]"
     ]
    },
    {
     "name": "stdout",
     "output_type": "stream",
     "text": [
      "Data loaded in 1.6096 seconds, processing\n",
      "Bandpass cleaned in 3.2279 seconds.\n",
      "Stamps filtered in 15.3821 seconds\n",
      "Saving results\n",
      "Results aggregated in 0.0674 seconds\n",
      "Processing coarse channels 35-42\n"
     ]
    },
    {
     "name": "stderr",
     "output_type": "stream",
     "text": [
      " 10%|█         | 5/49 [01:42<15:02, 20.51s/it]"
     ]
    },
    {
     "name": "stdout",
     "output_type": "stream",
     "text": [
      "Data loaded in 1.6445 seconds, processing\n",
      "Bandpass cleaned in 3.2910 seconds.\n",
      "Stamps filtered in 15.5875 seconds\n",
      "Saving results\n",
      "Results aggregated in 0.0729 seconds\n",
      "Processing coarse channels 42-49\n"
     ]
    },
    {
     "name": "stderr",
     "output_type": "stream",
     "text": [
      " 12%|█▏        | 6/49 [02:03<14:43, 20.54s/it]"
     ]
    },
    {
     "name": "stdout",
     "output_type": "stream",
     "text": [
      "Data loaded in 1.7370 seconds, processing\n",
      "Bandpass cleaned in 3.2698 seconds.\n",
      "Stamps filtered in 15.3790 seconds\n",
      "Saving results\n",
      "Results aggregated in 0.0669 seconds\n",
      "Processing coarse channels 49-56\n"
     ]
    },
    {
     "name": "stderr",
     "output_type": "stream",
     "text": [
      " 14%|█▍        | 7/49 [02:24<14:21, 20.52s/it]"
     ]
    },
    {
     "name": "stdout",
     "output_type": "stream",
     "text": [
      "Data loaded in 1.8653 seconds, processing\n",
      "Bandpass cleaned in 3.6289 seconds.\n",
      "Stamps filtered in 15.5199 seconds\n",
      "Saving results\n",
      "Results aggregated in 0.0707 seconds\n",
      "Processing coarse channels 56-63\n"
     ]
    },
    {
     "name": "stderr",
     "output_type": "stream",
     "text": [
      " 16%|█▋        | 8/49 [02:45<14:08, 20.70s/it]"
     ]
    },
    {
     "name": "stdout",
     "output_type": "stream",
     "text": [
      "Data loaded in 2.0256 seconds, processing\n",
      "Bandpass cleaned in 3.1864 seconds.\n",
      "Stamps filtered in 15.7860 seconds\n",
      "Saving results\n",
      "Results aggregated in 0.0695 seconds\n",
      "Processing coarse channels 63-70\n"
     ]
    },
    {
     "name": "stderr",
     "output_type": "stream",
     "text": [
      " 18%|█▊        | 9/49 [03:06<13:52, 20.82s/it]"
     ]
    },
    {
     "name": "stdout",
     "output_type": "stream",
     "text": [
      "Data loaded in 1.7879 seconds, processing\n",
      "Bandpass cleaned in 3.2778 seconds.\n",
      "Stamps filtered in 15.4665 seconds\n",
      "Saving results\n",
      "Results aggregated in 0.0763 seconds\n",
      "Processing coarse channels 70-77\n"
     ]
    },
    {
     "name": "stderr",
     "output_type": "stream",
     "text": [
      " 20%|██        | 10/49 [03:26<13:29, 20.76s/it]"
     ]
    },
    {
     "name": "stdout",
     "output_type": "stream",
     "text": [
      "Data loaded in 1.5906 seconds, processing\n",
      "Bandpass cleaned in 3.1083 seconds.\n",
      "Stamps filtered in 15.7897 seconds\n",
      "Saving results\n",
      "Results aggregated in 0.0717 seconds\n",
      "Processing coarse channels 77-84\n"
     ]
    },
    {
     "name": "stderr",
     "output_type": "stream",
     "text": [
      " 22%|██▏       | 11/49 [03:47<13:06, 20.70s/it]"
     ]
    },
    {
     "name": "stdout",
     "output_type": "stream",
     "text": [
      "Data loaded in 1.5093 seconds, processing\n",
      "Bandpass cleaned in 3.1761 seconds.\n",
      "Stamps filtered in 15.0888 seconds\n",
      "Saving results\n",
      "Results aggregated in 0.0636 seconds\n",
      "Processing coarse channels 84-91\n"
     ]
    },
    {
     "name": "stderr",
     "output_type": "stream",
     "text": [
      " 24%|██▍       | 12/49 [04:07<12:36, 20.44s/it]"
     ]
    },
    {
     "name": "stdout",
     "output_type": "stream",
     "text": [
      "Data loaded in 1.6403 seconds, processing\n",
      "Bandpass cleaned in 3.1732 seconds.\n",
      "Stamps filtered in 15.6463 seconds\n",
      "Saving results\n",
      "Results aggregated in 0.0688 seconds\n",
      "Processing coarse channels 91-98\n"
     ]
    },
    {
     "name": "stderr",
     "output_type": "stream",
     "text": [
      " 27%|██▋       | 13/49 [04:27<12:16, 20.47s/it]"
     ]
    },
    {
     "name": "stdout",
     "output_type": "stream",
     "text": [
      "Data loaded in 1.6814 seconds, processing\n",
      "Bandpass cleaned in 3.1099 seconds.\n",
      "Stamps filtered in 15.3324 seconds\n",
      "Saving results\n",
      "Results aggregated in 0.0697 seconds\n",
      "Processing coarse channels 98-105\n"
     ]
    },
    {
     "name": "stderr",
     "output_type": "stream",
     "text": [
      " 29%|██▊       | 14/49 [04:47<11:53, 20.39s/it]"
     ]
    },
    {
     "name": "stdout",
     "output_type": "stream",
     "text": [
      "Data loaded in 1.6109 seconds, processing\n",
      "Bandpass cleaned in 3.1613 seconds.\n",
      "Stamps filtered in 15.3422 seconds\n",
      "Saving results\n",
      "Results aggregated in 0.0704 seconds\n",
      "Processing coarse channels 105-112\n"
     ]
    },
    {
     "name": "stderr",
     "output_type": "stream",
     "text": [
      " 31%|███       | 15/49 [05:08<11:31, 20.33s/it]"
     ]
    },
    {
     "name": "stdout",
     "output_type": "stream",
     "text": [
      "Data loaded in 1.5605 seconds, processing\n",
      "Bandpass cleaned in 3.0948 seconds.\n",
      "Stamps filtered in 15.7876 seconds\n",
      "Saving results\n",
      "Results aggregated in 0.0701 seconds\n",
      "Processing coarse channels 112-119\n"
     ]
    },
    {
     "name": "stderr",
     "output_type": "stream",
     "text": [
      " 33%|███▎      | 16/49 [05:28<11:12, 20.39s/it]"
     ]
    },
    {
     "name": "stdout",
     "output_type": "stream",
     "text": [
      "Data loaded in 1.7195 seconds, processing\n",
      "Bandpass cleaned in 3.3859 seconds.\n",
      "Stamps filtered in 15.5453 seconds\n",
      "Saving results\n",
      "Results aggregated in 0.0690 seconds\n",
      "Processing coarse channels 119-126\n"
     ]
    },
    {
     "name": "stderr",
     "output_type": "stream",
     "text": [
      " 35%|███▍      | 17/49 [05:49<10:55, 20.49s/it]"
     ]
    },
    {
     "name": "stdout",
     "output_type": "stream",
     "text": [
      "Data loaded in 1.5493 seconds, processing\n",
      "Bandpass cleaned in 3.3057 seconds.\n",
      "Stamps filtered in 15.3117 seconds\n",
      "Saving results\n",
      "Results aggregated in 0.0735 seconds\n",
      "Processing coarse channels 126-133\n"
     ]
    },
    {
     "name": "stderr",
     "output_type": "stream",
     "text": [
      " 37%|███▋      | 18/49 [06:09<10:33, 20.42s/it]"
     ]
    },
    {
     "name": "stdout",
     "output_type": "stream",
     "text": [
      "Data loaded in 1.6590 seconds, processing\n",
      "Bandpass cleaned in 3.2449 seconds.\n",
      "Stamps filtered in 15.7743 seconds\n",
      "Saving results\n",
      "Results aggregated in 0.0691 seconds\n",
      "Processing coarse channels 133-140\n"
     ]
    },
    {
     "name": "stderr",
     "output_type": "stream",
     "text": [
      " 39%|███▉      | 19/49 [06:30<10:15, 20.52s/it]"
     ]
    },
    {
     "name": "stdout",
     "output_type": "stream",
     "text": [
      "Data loaded in 1.6562 seconds, processing\n",
      "Bandpass cleaned in 3.5220 seconds.\n",
      "Stamps filtered in 15.3568 seconds\n",
      "Saving results\n",
      "Results aggregated in 0.0732 seconds\n",
      "Processing coarse channels 140-147\n"
     ]
    },
    {
     "name": "stderr",
     "output_type": "stream",
     "text": [
      " 41%|████      | 20/49 [06:51<09:55, 20.55s/it]"
     ]
    },
    {
     "name": "stdout",
     "output_type": "stream",
     "text": [
      "Data loaded in 1.7963 seconds, processing\n",
      "Bandpass cleaned in 3.3044 seconds.\n",
      "Stamps filtered in 14.7651 seconds\n",
      "Saving results\n",
      "Results aggregated in 0.0642 seconds\n",
      "Processing coarse channels 147-154\n"
     ]
    },
    {
     "name": "stderr",
     "output_type": "stream",
     "text": [
      " 43%|████▎     | 21/49 [07:11<09:30, 20.37s/it]"
     ]
    },
    {
     "name": "stdout",
     "output_type": "stream",
     "text": [
      "Data loaded in 1.6550 seconds, processing\n",
      "Bandpass cleaned in 3.2241 seconds.\n",
      "Stamps filtered in 15.3403 seconds\n",
      "Saving results\n",
      "Results aggregated in 0.0685 seconds\n",
      "Processing coarse channels 154-161\n"
     ]
    },
    {
     "name": "stderr",
     "output_type": "stream",
     "text": [
      " 45%|████▍     | 22/49 [07:31<09:09, 20.35s/it]"
     ]
    },
    {
     "name": "stdout",
     "output_type": "stream",
     "text": [
      "Data loaded in 1.7445 seconds, processing\n",
      "Bandpass cleaned in 3.1717 seconds.\n",
      "Stamps filtered in 15.2390 seconds\n",
      "Saving results\n",
      "Results aggregated in 0.0728 seconds\n",
      "Processing coarse channels 161-168\n"
     ]
    },
    {
     "name": "stderr",
     "output_type": "stream",
     "text": [
      " 47%|████▋     | 23/49 [07:51<08:48, 20.32s/it]"
     ]
    },
    {
     "name": "stdout",
     "output_type": "stream",
     "text": [
      "Data loaded in 1.7397 seconds, processing\n",
      "Bandpass cleaned in 3.3803 seconds.\n",
      "Stamps filtered in 14.1895 seconds\n",
      "Saving results\n",
      "Results aggregated in 0.1153 seconds\n",
      "Processing coarse channels 168-175\n"
     ]
    },
    {
     "name": "stderr",
     "output_type": "stream",
     "text": [
      " 49%|████▉     | 24/49 [08:10<08:21, 20.05s/it]"
     ]
    },
    {
     "name": "stdout",
     "output_type": "stream",
     "text": [
      "Data loaded in 1.6915 seconds, processing\n",
      "Bandpass cleaned in 3.6069 seconds.\n",
      "Stamps filtered in 14.7992 seconds\n",
      "Saving results\n",
      "Results aggregated in 0.0735 seconds\n",
      "Processing coarse channels 175-182\n"
     ]
    },
    {
     "name": "stderr",
     "output_type": "stream",
     "text": [
      " 51%|█████     | 25/49 [08:31<08:02, 20.09s/it]"
     ]
    },
    {
     "name": "stdout",
     "output_type": "stream",
     "text": [
      "Data loaded in 1.8676 seconds, processing\n",
      "Bandpass cleaned in 3.7163 seconds.\n",
      "Stamps filtered in 15.2635 seconds\n",
      "Saving results\n",
      "Results aggregated in 0.0735 seconds\n",
      "Processing coarse channels 182-189\n"
     ]
    },
    {
     "name": "stderr",
     "output_type": "stream",
     "text": [
      " 53%|█████▎    | 26/49 [08:52<07:47, 20.34s/it]"
     ]
    },
    {
     "name": "stdout",
     "output_type": "stream",
     "text": [
      "Data loaded in 1.7826 seconds, processing\n",
      "Bandpass cleaned in 3.1150 seconds.\n",
      "Stamps filtered in 15.7026 seconds\n",
      "Saving results\n",
      "Results aggregated in 0.1367 seconds\n",
      "Processing coarse channels 189-196\n"
     ]
    },
    {
     "name": "stderr",
     "output_type": "stream",
     "text": [
      " 55%|█████▌    | 27/49 [09:12<07:30, 20.46s/it]"
     ]
    },
    {
     "name": "stdout",
     "output_type": "stream",
     "text": [
      "Data loaded in 1.6065 seconds, processing\n",
      "Bandpass cleaned in 3.2678 seconds.\n",
      "Stamps filtered in 14.8640 seconds\n",
      "Saving results\n",
      "Results aggregated in 0.0878 seconds\n",
      "Processing coarse channels 196-203\n"
     ]
    },
    {
     "name": "stderr",
     "output_type": "stream",
     "text": [
      " 57%|█████▋    | 28/49 [09:32<07:05, 20.28s/it]"
     ]
    },
    {
     "name": "stdout",
     "output_type": "stream",
     "text": [
      "Data loaded in 1.4812 seconds, processing\n",
      "Bandpass cleaned in 3.2385 seconds.\n",
      "Stamps filtered in 15.3321 seconds\n",
      "Saving results\n",
      "Results aggregated in 0.0908 seconds\n",
      "Processing coarse channels 203-210\n"
     ]
    },
    {
     "name": "stderr",
     "output_type": "stream",
     "text": [
      " 59%|█████▉    | 29/49 [09:52<06:44, 20.24s/it]"
     ]
    },
    {
     "name": "stdout",
     "output_type": "stream",
     "text": [
      "Data loaded in 1.6956 seconds, processing\n",
      "Bandpass cleaned in 3.2253 seconds.\n",
      "Stamps filtered in 15.6833 seconds\n",
      "Saving results\n",
      "Results aggregated in 0.1109 seconds\n",
      "Processing coarse channels 210-217\n"
     ]
    },
    {
     "name": "stderr",
     "output_type": "stream",
     "text": [
      " 61%|██████    | 30/49 [10:13<06:27, 20.38s/it]"
     ]
    },
    {
     "name": "stdout",
     "output_type": "stream",
     "text": [
      "Data loaded in 1.7406 seconds, processing\n",
      "Bandpass cleaned in 3.2149 seconds.\n",
      "Stamps filtered in 15.2065 seconds\n",
      "Saving results\n",
      "Results aggregated in 0.0780 seconds\n",
      "Processing coarse channels 217-224\n"
     ]
    },
    {
     "name": "stderr",
     "output_type": "stream",
     "text": [
      " 63%|██████▎   | 31/49 [10:33<06:06, 20.35s/it]"
     ]
    },
    {
     "name": "stdout",
     "output_type": "stream",
     "text": [
      "Data loaded in 1.9580 seconds, processing\n",
      "Bandpass cleaned in 3.0847 seconds.\n",
      "Stamps filtered in 15.5185 seconds\n",
      "Saving results\n",
      "Results aggregated in 0.0737 seconds\n",
      "Processing coarse channels 224-231\n"
     ]
    },
    {
     "name": "stderr",
     "output_type": "stream",
     "text": [
      " 65%|██████▌   | 32/49 [10:54<05:47, 20.43s/it]"
     ]
    },
    {
     "name": "stdout",
     "output_type": "stream",
     "text": [
      "Data loaded in 1.9102 seconds, processing\n",
      "Bandpass cleaned in 3.2176 seconds.\n",
      "Stamps filtered in 15.6893 seconds\n",
      "Saving results\n",
      "Results aggregated in 0.0770 seconds\n",
      "Processing coarse channels 231-238\n"
     ]
    },
    {
     "name": "stderr",
     "output_type": "stream",
     "text": [
      " 67%|██████▋   | 33/49 [11:15<05:29, 20.58s/it]"
     ]
    },
    {
     "name": "stdout",
     "output_type": "stream",
     "text": [
      "Data loaded in 1.9241 seconds, processing\n",
      "Bandpass cleaned in 3.5608 seconds.\n",
      "Stamps filtered in 15.2511 seconds\n",
      "Saving results\n",
      "Results aggregated in 0.1449 seconds\n",
      "Processing coarse channels 238-245\n"
     ]
    },
    {
     "name": "stderr",
     "output_type": "stream",
     "text": [
      " 69%|██████▉   | 34/49 [11:36<05:10, 20.67s/it]"
     ]
    },
    {
     "name": "stdout",
     "output_type": "stream",
     "text": [
      "Data loaded in 1.6427 seconds, processing\n",
      "Bandpass cleaned in 3.2906 seconds.\n",
      "Stamps filtered in 15.3711 seconds\n",
      "Saving results\n",
      "Results aggregated in 0.0925 seconds\n",
      "Processing coarse channels 245-252\n"
     ]
    },
    {
     "name": "stderr",
     "output_type": "stream",
     "text": [
      " 71%|███████▏  | 35/49 [11:56<04:48, 20.59s/it]"
     ]
    },
    {
     "name": "stdout",
     "output_type": "stream",
     "text": [
      "Data loaded in 1.6815 seconds, processing\n",
      "Bandpass cleaned in 3.2633 seconds.\n",
      "Stamps filtered in 15.2516 seconds\n",
      "Saving results\n",
      "Results aggregated in 0.0760 seconds\n",
      "Processing coarse channels 252-259\n"
     ]
    },
    {
     "name": "stderr",
     "output_type": "stream",
     "text": [
      " 73%|███████▎  | 36/49 [12:16<04:26, 20.50s/it]"
     ]
    },
    {
     "name": "stdout",
     "output_type": "stream",
     "text": [
      "Data loaded in 1.7604 seconds, processing\n",
      "Bandpass cleaned in 3.2732 seconds.\n",
      "Stamps filtered in 15.5341 seconds\n",
      "Saving results\n",
      "Results aggregated in 0.0832 seconds\n",
      "Processing coarse channels 259-266\n"
     ]
    },
    {
     "name": "stderr",
     "output_type": "stream",
     "text": [
      " 76%|███████▌  | 37/49 [12:37<04:06, 20.55s/it]"
     ]
    },
    {
     "name": "stdout",
     "output_type": "stream",
     "text": [
      "Data loaded in 1.6405 seconds, processing\n",
      "Bandpass cleaned in 3.3435 seconds.\n",
      "Stamps filtered in 15.1986 seconds\n",
      "Saving results\n",
      "Results aggregated in 0.0841 seconds\n",
      "Processing coarse channels 266-273\n"
     ]
    },
    {
     "name": "stderr",
     "output_type": "stream",
     "text": [
      " 78%|███████▊  | 38/49 [12:57<03:45, 20.47s/it]"
     ]
    },
    {
     "name": "stdout",
     "output_type": "stream",
     "text": [
      "Data loaded in 1.7620 seconds, processing\n",
      "Bandpass cleaned in 3.1781 seconds.\n",
      "Stamps filtered in 15.3286 seconds\n",
      "Saving results\n",
      "Results aggregated in 0.0817 seconds\n",
      "Processing coarse channels 273-280\n"
     ]
    },
    {
     "name": "stderr",
     "output_type": "stream",
     "text": [
      " 80%|███████▉  | 39/49 [13:18<03:24, 20.44s/it]"
     ]
    },
    {
     "name": "stdout",
     "output_type": "stream",
     "text": [
      "Data loaded in 1.6231 seconds, processing\n",
      "Bandpass cleaned in 3.1718 seconds.\n",
      "Stamps filtered in 15.3244 seconds\n",
      "Saving results\n",
      "Results aggregated in 0.0832 seconds\n",
      "Processing coarse channels 280-287\n"
     ]
    },
    {
     "name": "stderr",
     "output_type": "stream",
     "text": [
      " 82%|████████▏ | 40/49 [13:38<03:03, 20.37s/it]"
     ]
    },
    {
     "name": "stdout",
     "output_type": "stream",
     "text": [
      "Data loaded in 1.8903 seconds, processing\n",
      "Bandpass cleaned in 3.2097 seconds.\n",
      "Stamps filtered in 15.5568 seconds\n",
      "Saving results\n",
      "Results aggregated in 0.0826 seconds\n",
      "Processing coarse channels 287-294\n"
     ]
    },
    {
     "name": "stderr",
     "output_type": "stream",
     "text": [
      " 84%|████████▎ | 41/49 [13:59<02:43, 20.48s/it]"
     ]
    },
    {
     "name": "stdout",
     "output_type": "stream",
     "text": [
      "Data loaded in 1.8772 seconds, processing\n",
      "Bandpass cleaned in 3.8455 seconds.\n",
      "Stamps filtered in 15.0265 seconds\n",
      "Saving results\n",
      "Results aggregated in 0.0750 seconds\n",
      "Processing coarse channels 294-301\n"
     ]
    },
    {
     "name": "stderr",
     "output_type": "stream",
     "text": [
      " 86%|████████▌ | 42/49 [14:20<02:24, 20.59s/it]"
     ]
    },
    {
     "name": "stdout",
     "output_type": "stream",
     "text": [
      "Data loaded in 1.7649 seconds, processing\n",
      "Bandpass cleaned in 3.3592 seconds.\n",
      "Stamps filtered in 15.9237 seconds\n",
      "Saving results\n"
     ]
    },
    {
     "name": "stderr",
     "output_type": "stream",
     "text": [
      " 88%|████████▊ | 43/49 [14:41<02:04, 20.82s/it]"
     ]
    },
    {
     "name": "stdout",
     "output_type": "stream",
     "text": [
      "Results aggregated in 0.2846 seconds\n",
      "Processing coarse channels 301-308\n",
      "Data loaded in 1.9704 seconds, processing\n",
      "Bandpass cleaned in 3.3286 seconds.\n",
      "Stamps filtered in 15.5128 seconds\n",
      "Saving results\n",
      "Results aggregated in 0.1061 seconds\n",
      "Processing coarse channels 308-315\n"
     ]
    },
    {
     "name": "stderr",
     "output_type": "stream",
     "text": [
      " 90%|████████▉ | 44/49 [15:02<01:44, 20.85s/it]"
     ]
    },
    {
     "name": "stdout",
     "output_type": "stream",
     "text": [
      "Data loaded in 1.5721 seconds, processing\n",
      "Bandpass cleaned in 3.9852 seconds.\n",
      "Stamps filtered in 15.2288 seconds\n",
      "Saving results\n",
      "Results aggregated in 0.0850 seconds\n",
      "Processing coarse channels 315-322\n"
     ]
    },
    {
     "name": "stderr",
     "output_type": "stream",
     "text": [
      " 92%|█████████▏| 45/49 [15:23<01:23, 20.86s/it]"
     ]
    },
    {
     "name": "stdout",
     "output_type": "stream",
     "text": [
      "Data loaded in 1.6562 seconds, processing\n",
      "Bandpass cleaned in 3.2543 seconds.\n",
      "Stamps filtered in 15.3187 seconds\n",
      "Saving results\n",
      "Results aggregated in 0.0855 seconds\n",
      "Processing coarse channels 322-329\n"
     ]
    },
    {
     "name": "stderr",
     "output_type": "stream",
     "text": [
      " 94%|█████████▍| 46/49 [15:43<01:02, 20.70s/it]"
     ]
    },
    {
     "name": "stdout",
     "output_type": "stream",
     "text": [
      "Data loaded in 1.9266 seconds, processing\n",
      "Bandpass cleaned in 3.1807 seconds.\n",
      "Stamps filtered in 15.7276 seconds\n",
      "Saving results\n",
      "Results aggregated in 0.0839 seconds\n",
      "Processing coarse channels 329-336\n"
     ]
    },
    {
     "name": "stderr",
     "output_type": "stream",
     "text": [
      " 96%|█████████▌| 47/49 [16:04<00:41, 20.77s/it]"
     ]
    },
    {
     "name": "stdout",
     "output_type": "stream",
     "text": [
      "Data loaded in 1.6861 seconds, processing\n",
      "Bandpass cleaned in 3.1702 seconds.\n",
      "Stamps filtered in 15.5885 seconds\n",
      "Saving results\n",
      "Results aggregated in 0.0814 seconds\n",
      "Processing coarse channels 336-343\n"
     ]
    },
    {
     "name": "stderr",
     "output_type": "stream",
     "text": [
      " 98%|█████████▊| 48/49 [16:24<00:20, 20.70s/it]"
     ]
    },
    {
     "name": "stdout",
     "output_type": "stream",
     "text": [
      "Data loaded in 1.6716 seconds, processing\n",
      "Bandpass cleaned in 3.2533 seconds.\n",
      "Stamps filtered in 15.4992 seconds\n",
      "Saving results\n"
     ]
    },
    {
     "name": "stderr",
     "output_type": "stream",
     "text": [
      "100%|██████████| 49/49 [16:45<00:00, 20.52s/it]\n"
     ]
    },
    {
     "name": "stdout",
     "output_type": "stream",
     "text": [
      "Results aggregated in 0.0879 seconds\n",
      "      level_0      index     statistic  pvalue        freqs\n",
      "678       678  206251392  11989.943478     0.0  2226.572299\n",
      "946       946  219895680  11794.962213     0.0  2188.450599\n",
      "679       679  206251520  11779.835709     0.0  2226.571941\n",
      "1019     1019  219905024  11690.403778     0.0  2188.424492\n",
      "343 343\n",
      "Finished Energy Detection on GBT_57684_58540_HIP63503_fine.h5 in 1008.8843 seconds\n",
      "/mnt_blpd7/datax/dl/GBT_57684_58874_HIP62771_fine.h5\n",
      "Header saved to ../../../../../../datax/scratch/pma/reverse_search/train/HIP63503-523/GBT_57684_58874_HIP62771_fine/header.pkl\n",
      "Processing 7 in parallel\n",
      "Processing coarse channels 0-7\n"
     ]
    },
    {
     "name": "stderr",
     "output_type": "stream",
     "text": [
      "  0%|          | 0/49 [00:00<?, ?it/s]"
     ]
    },
    {
     "name": "stdout",
     "output_type": "stream",
     "text": [
      "Data loaded in 2.8000 seconds, processing\n",
      "Bandpass cleaned in 3.3033 seconds.\n",
      "Stamps filtered in 14.8439 seconds\n",
      "Saving results\n",
      "Results aggregated in 0.0651 seconds\n",
      "Processing coarse channels 7-14\n"
     ]
    },
    {
     "name": "stderr",
     "output_type": "stream",
     "text": [
      "  2%|▏         | 1/49 [00:21<16:49, 21.03s/it]"
     ]
    },
    {
     "name": "stdout",
     "output_type": "stream",
     "text": [
      "Data loaded in 1.7673 seconds, processing\n",
      "Bandpass cleaned in 3.2025 seconds.\n",
      "Stamps filtered in 15.3896 seconds\n",
      "Saving results\n",
      "Results aggregated in 0.0681 seconds\n",
      "Processing coarse channels 14-21\n"
     ]
    },
    {
     "name": "stderr",
     "output_type": "stream",
     "text": [
      "  4%|▍         | 2/49 [00:41<16:11, 20.68s/it]"
     ]
    },
    {
     "name": "stdout",
     "output_type": "stream",
     "text": [
      "Data loaded in 1.8885 seconds, processing\n",
      "Bandpass cleaned in 3.3000 seconds.\n",
      "Stamps filtered in 14.9179 seconds\n",
      "Saving results\n",
      "Results aggregated in 0.0699 seconds\n",
      "Processing coarse channels 21-28\n"
     ]
    },
    {
     "name": "stderr",
     "output_type": "stream",
     "text": [
      "  6%|▌         | 3/49 [01:01<15:41, 20.46s/it]"
     ]
    },
    {
     "name": "stdout",
     "output_type": "stream",
     "text": [
      "Data loaded in 1.6995 seconds, processing\n",
      "Bandpass cleaned in 3.2366 seconds.\n",
      "Stamps filtered in 15.2087 seconds\n",
      "Saving results\n",
      "Results aggregated in 0.0734 seconds\n",
      "Processing coarse channels 28-35\n"
     ]
    },
    {
     "name": "stderr",
     "output_type": "stream",
     "text": [
      "  8%|▊         | 4/49 [01:21<15:16, 20.37s/it]"
     ]
    },
    {
     "name": "stdout",
     "output_type": "stream",
     "text": [
      "Data loaded in 1.7308 seconds, processing\n",
      "Bandpass cleaned in 3.5528 seconds.\n",
      "Stamps filtered in 15.2807 seconds\n",
      "Saving results\n",
      "Results aggregated in 0.0705 seconds\n",
      "Processing coarse channels 35-42\n"
     ]
    },
    {
     "name": "stderr",
     "output_type": "stream",
     "text": [
      " 10%|█         | 5/49 [01:42<15:00, 20.47s/it]"
     ]
    },
    {
     "name": "stdout",
     "output_type": "stream",
     "text": [
      "Data loaded in 1.5574 seconds, processing\n",
      "Bandpass cleaned in 3.2619 seconds.\n",
      "Stamps filtered in 15.1793 seconds\n",
      "Saving results\n",
      "Results aggregated in 0.0723 seconds\n",
      "Processing coarse channels 42-49\n"
     ]
    },
    {
     "name": "stderr",
     "output_type": "stream",
     "text": [
      " 12%|█▏        | 6/49 [02:02<14:34, 20.34s/it]"
     ]
    },
    {
     "name": "stdout",
     "output_type": "stream",
     "text": [
      "Data loaded in 1.5811 seconds, processing\n",
      "Bandpass cleaned in 3.4569 seconds.\n",
      "Stamps filtered in 15.2513 seconds\n",
      "Saving results\n",
      "Results aggregated in 0.0650 seconds\n",
      "Processing coarse channels 49-56\n"
     ]
    },
    {
     "name": "stderr",
     "output_type": "stream",
     "text": [
      " 14%|█▍        | 7/49 [02:22<14:14, 20.35s/it]"
     ]
    },
    {
     "name": "stdout",
     "output_type": "stream",
     "text": [
      "Data loaded in 1.6145 seconds, processing\n",
      "Bandpass cleaned in 3.6096 seconds.\n",
      "Stamps filtered in 14.7456 seconds\n",
      "Saving results\n",
      "Results aggregated in 0.0618 seconds\n",
      "Processing coarse channels 56-63\n"
     ]
    },
    {
     "name": "stderr",
     "output_type": "stream",
     "text": [
      " 16%|█▋        | 8/49 [02:43<13:50, 20.25s/it]"
     ]
    },
    {
     "name": "stdout",
     "output_type": "stream",
     "text": [
      "Data loaded in 1.6416 seconds, processing\n",
      "Bandpass cleaned in 3.7233 seconds.\n",
      "Stamps filtered in 14.9104 seconds\n",
      "Saving results\n",
      "Results aggregated in 0.0605 seconds\n",
      "Processing coarse channels 63-70\n"
     ]
    },
    {
     "name": "stderr",
     "output_type": "stream",
     "text": [
      " 18%|█▊        | 9/49 [03:03<13:31, 20.28s/it]"
     ]
    },
    {
     "name": "stdout",
     "output_type": "stream",
     "text": [
      "Data loaded in 1.7153 seconds, processing\n",
      "Bandpass cleaned in 3.5403 seconds.\n",
      "Stamps filtered in 15.0479 seconds\n",
      "Saving results\n",
      "Results aggregated in 0.0595 seconds\n",
      "Processing coarse channels 70-77\n"
     ]
    },
    {
     "name": "stderr",
     "output_type": "stream",
     "text": [
      " 20%|██        | 10/49 [03:23<13:12, 20.31s/it]"
     ]
    },
    {
     "name": "stdout",
     "output_type": "stream",
     "text": [
      "Data loaded in 1.7676 seconds, processing\n",
      "Bandpass cleaned in 3.4228 seconds.\n",
      "Stamps filtered in 14.9609 seconds\n",
      "Saving results\n",
      "Results aggregated in 0.0700 seconds\n",
      "Processing coarse channels 77-84\n"
     ]
    },
    {
     "name": "stderr",
     "output_type": "stream",
     "text": [
      " 22%|██▏       | 11/49 [03:43<12:50, 20.29s/it]"
     ]
    },
    {
     "name": "stdout",
     "output_type": "stream",
     "text": [
      "Data loaded in 1.6796 seconds, processing\n",
      "Bandpass cleaned in 3.3273 seconds.\n",
      "Stamps filtered in 15.2052 seconds\n",
      "Saving results\n",
      "Results aggregated in 0.0618 seconds\n",
      "Processing coarse channels 84-91\n"
     ]
    },
    {
     "name": "stderr",
     "output_type": "stream",
     "text": [
      " 24%|██▍       | 12/49 [04:04<12:30, 20.29s/it]"
     ]
    },
    {
     "name": "stdout",
     "output_type": "stream",
     "text": [
      "Data loaded in 1.9495 seconds, processing\n",
      "Bandpass cleaned in 3.2622 seconds.\n",
      "Stamps filtered in 15.3669 seconds\n",
      "Saving results\n",
      "Results aggregated in 0.0704 seconds\n",
      "Processing coarse channels 91-98\n"
     ]
    },
    {
     "name": "stderr",
     "output_type": "stream",
     "text": [
      " 27%|██▋       | 13/49 [04:24<12:14, 20.40s/it]"
     ]
    },
    {
     "name": "stdout",
     "output_type": "stream",
     "text": [
      "Data loaded in 1.6035 seconds, processing\n",
      "Bandpass cleaned in 3.1406 seconds.\n",
      "Stamps filtered in 15.0056 seconds\n",
      "Saving results\n",
      "Results aggregated in 0.0700 seconds\n",
      "Processing coarse channels 98-105\n"
     ]
    },
    {
     "name": "stderr",
     "output_type": "stream",
     "text": [
      " 29%|██▊       | 14/49 [04:44<11:48, 20.23s/it]"
     ]
    },
    {
     "name": "stdout",
     "output_type": "stream",
     "text": [
      "Data loaded in 1.8995 seconds, processing\n",
      "Bandpass cleaned in 3.7806 seconds.\n",
      "Stamps filtered in 14.8271 seconds\n",
      "Saving results\n",
      "Results aggregated in 0.1071 seconds\n",
      "Processing coarse channels 105-112\n"
     ]
    },
    {
     "name": "stderr",
     "output_type": "stream",
     "text": [
      " 31%|███       | 15/49 [05:05<11:31, 20.35s/it]"
     ]
    },
    {
     "name": "stdout",
     "output_type": "stream",
     "text": [
      "Data loaded in 1.6355 seconds, processing\n",
      "Bandpass cleaned in 3.1241 seconds.\n",
      "Stamps filtered in 15.2001 seconds\n",
      "Saving results\n"
     ]
    },
    {
     "name": "stderr",
     "output_type": "stream",
     "text": [
      " 33%|███▎      | 16/49 [05:25<11:13, 20.40s/it]"
     ]
    },
    {
     "name": "stdout",
     "output_type": "stream",
     "text": [
      "Results aggregated in 0.5234 seconds\n",
      "Processing coarse channels 112-119\n",
      "Data loaded in 1.7866 seconds, processing\n",
      "Bandpass cleaned in 3.2779 seconds.\n",
      "Stamps filtered in 15.0049 seconds\n",
      "Saving results\n",
      "Results aggregated in 0.1035 seconds\n",
      "Processing coarse channels 119-126\n"
     ]
    },
    {
     "name": "stderr",
     "output_type": "stream",
     "text": [
      " 35%|███▍      | 17/49 [05:46<10:50, 20.33s/it]"
     ]
    },
    {
     "name": "stdout",
     "output_type": "stream",
     "text": [
      "Data loaded in 1.5754 seconds, processing\n",
      "Bandpass cleaned in 3.2050 seconds.\n",
      "Stamps filtered in 15.6101 seconds\n",
      "Saving results\n",
      "Results aggregated in 0.0768 seconds\n",
      "Processing coarse channels 126-133\n"
     ]
    },
    {
     "name": "stderr",
     "output_type": "stream",
     "text": [
      " 37%|███▋      | 18/49 [06:06<10:31, 20.38s/it]"
     ]
    },
    {
     "name": "stdout",
     "output_type": "stream",
     "text": [
      "Data loaded in 1.9760 seconds, processing\n",
      "Bandpass cleaned in 3.3667 seconds.\n",
      "Stamps filtered in 15.3356 seconds\n",
      "Saving results\n",
      "Results aggregated in 0.0957 seconds\n",
      "Processing coarse channels 133-140\n"
     ]
    },
    {
     "name": "stderr",
     "output_type": "stream",
     "text": [
      " 39%|███▉      | 19/49 [06:27<10:14, 20.50s/it]"
     ]
    },
    {
     "name": "stdout",
     "output_type": "stream",
     "text": [
      "Data loaded in 1.9994 seconds, processing\n",
      "Bandpass cleaned in 3.1094 seconds.\n",
      "Stamps filtered in 14.7539 seconds\n",
      "Saving results\n",
      "Results aggregated in 0.1166 seconds\n",
      "Processing coarse channels 140-147\n"
     ]
    },
    {
     "name": "stderr",
     "output_type": "stream",
     "text": [
      " 41%|████      | 20/49 [06:47<09:50, 20.35s/it]"
     ]
    },
    {
     "name": "stdout",
     "output_type": "stream",
     "text": [
      "Data loaded in 1.6693 seconds, processing\n",
      "Bandpass cleaned in 3.2269 seconds.\n",
      "Stamps filtered in 14.4789 seconds\n",
      "Saving results\n",
      "Results aggregated in 0.0745 seconds\n",
      "Processing coarse channels 147-154\n"
     ]
    },
    {
     "name": "stderr",
     "output_type": "stream",
     "text": [
      " 43%|████▎     | 21/49 [07:06<09:22, 20.08s/it]"
     ]
    },
    {
     "name": "stdout",
     "output_type": "stream",
     "text": [
      "Data loaded in 1.8870 seconds, processing\n",
      "Bandpass cleaned in 3.2875 seconds.\n",
      "Stamps filtered in 14.9552 seconds\n",
      "Saving results\n",
      "Results aggregated in 0.0812 seconds\n",
      "Processing coarse channels 154-161\n"
     ]
    },
    {
     "name": "stderr",
     "output_type": "stream",
     "text": [
      " 45%|████▍     | 22/49 [07:27<09:03, 20.12s/it]"
     ]
    },
    {
     "name": "stdout",
     "output_type": "stream",
     "text": [
      "Data loaded in 1.6227 seconds, processing\n",
      "Bandpass cleaned in 3.1648 seconds.\n",
      "Stamps filtered in 15.3034 seconds\n",
      "Saving results\n",
      "Results aggregated in 0.0876 seconds\n",
      "Processing coarse channels 161-168\n"
     ]
    },
    {
     "name": "stderr",
     "output_type": "stream",
     "text": [
      " 47%|████▋     | 23/49 [07:47<08:43, 20.14s/it]"
     ]
    },
    {
     "name": "stdout",
     "output_type": "stream",
     "text": [
      "Data loaded in 1.6469 seconds, processing\n",
      "Bandpass cleaned in 3.1105 seconds.\n",
      "Stamps filtered in 15.4148 seconds\n",
      "Saving results\n",
      "Results aggregated in 0.1719 seconds\n",
      "Processing coarse channels 168-175\n"
     ]
    },
    {
     "name": "stderr",
     "output_type": "stream",
     "text": [
      " 49%|████▉     | 24/49 [08:07<08:25, 20.21s/it]"
     ]
    },
    {
     "name": "stdout",
     "output_type": "stream",
     "text": [
      "Data loaded in 1.7423 seconds, processing\n",
      "Bandpass cleaned in 3.2064 seconds.\n",
      "Stamps filtered in 15.0539 seconds\n",
      "Saving results\n",
      "Results aggregated in 0.0827 seconds\n",
      "Processing coarse channels 175-182\n"
     ]
    },
    {
     "name": "stderr",
     "output_type": "stream",
     "text": [
      " 51%|█████     | 25/49 [08:27<08:04, 20.17s/it]"
     ]
    },
    {
     "name": "stdout",
     "output_type": "stream",
     "text": [
      "Data loaded in 1.6905 seconds, processing\n",
      "Bandpass cleaned in 3.2268 seconds.\n",
      "Stamps filtered in 15.1581 seconds\n",
      "Saving results\n",
      "Results aggregated in 0.0815 seconds\n",
      "Processing coarse channels 182-189\n"
     ]
    },
    {
     "name": "stderr",
     "output_type": "stream",
     "text": [
      " 53%|█████▎    | 26/49 [08:47<07:43, 20.17s/it]"
     ]
    },
    {
     "name": "stdout",
     "output_type": "stream",
     "text": [
      "Data loaded in 1.6268 seconds, processing\n",
      "Bandpass cleaned in 3.1292 seconds.\n",
      "Stamps filtered in 15.2306 seconds\n",
      "Saving results\n",
      "Results aggregated in 0.0948 seconds\n",
      "Processing coarse channels 189-196\n"
     ]
    },
    {
     "name": "stderr",
     "output_type": "stream",
     "text": [
      " 55%|█████▌    | 27/49 [09:07<07:23, 20.15s/it]"
     ]
    },
    {
     "name": "stdout",
     "output_type": "stream",
     "text": [
      "Data loaded in 1.6873 seconds, processing\n",
      "Bandpass cleaned in 3.1664 seconds.\n",
      "Stamps filtered in 15.3134 seconds\n",
      "Saving results\n",
      "Results aggregated in 0.1016 seconds\n",
      "Processing coarse channels 196-203\n"
     ]
    },
    {
     "name": "stderr",
     "output_type": "stream",
     "text": [
      " 57%|█████▋    | 28/49 [09:28<07:03, 20.19s/it]"
     ]
    },
    {
     "name": "stdout",
     "output_type": "stream",
     "text": [
      "Data loaded in 1.7630 seconds, processing\n",
      "Bandpass cleaned in 3.1582 seconds.\n",
      "Stamps filtered in 14.7218 seconds\n",
      "Saving results\n",
      "Results aggregated in 0.0993 seconds\n",
      "Processing coarse channels 203-210\n"
     ]
    },
    {
     "name": "stderr",
     "output_type": "stream",
     "text": [
      " 59%|█████▉    | 29/49 [09:47<06:41, 20.06s/it]"
     ]
    },
    {
     "name": "stdout",
     "output_type": "stream",
     "text": [
      "Data loaded in 1.6460 seconds, processing\n",
      "Bandpass cleaned in 3.2362 seconds.\n",
      "Stamps filtered in 15.0283 seconds\n",
      "Saving results\n",
      "Results aggregated in 0.1153 seconds\n",
      "Processing coarse channels 210-217\n"
     ]
    },
    {
     "name": "stderr",
     "output_type": "stream",
     "text": [
      " 61%|██████    | 30/49 [10:07<06:20, 20.05s/it]"
     ]
    },
    {
     "name": "stdout",
     "output_type": "stream",
     "text": [
      "Data loaded in 1.6491 seconds, processing\n",
      "Bandpass cleaned in 3.3969 seconds.\n",
      "Stamps filtered in 15.4434 seconds\n",
      "Saving results\n",
      "Results aggregated in 0.0824 seconds\n",
      "Processing coarse channels 217-224\n"
     ]
    },
    {
     "name": "stderr",
     "output_type": "stream",
     "text": [
      " 63%|██████▎   | 31/49 [10:28<06:03, 20.21s/it]"
     ]
    },
    {
     "name": "stdout",
     "output_type": "stream",
     "text": [
      "Data loaded in 1.7431 seconds, processing\n",
      "Bandpass cleaned in 3.7141 seconds.\n",
      "Stamps filtered in 15.1650 seconds\n",
      "Saving results\n",
      "Results aggregated in 0.0879 seconds\n",
      "Processing coarse channels 224-231\n"
     ]
    },
    {
     "name": "stderr",
     "output_type": "stream",
     "text": [
      " 65%|██████▌   | 32/49 [10:49<05:46, 20.36s/it]"
     ]
    },
    {
     "name": "stdout",
     "output_type": "stream",
     "text": [
      "Data loaded in 1.6477 seconds, processing\n",
      "Bandpass cleaned in 3.4007 seconds.\n",
      "Stamps filtered in 15.2499 seconds\n",
      "Saving results\n",
      "Results aggregated in 0.0849 seconds\n",
      "Processing coarse channels 231-238\n"
     ]
    },
    {
     "name": "stderr",
     "output_type": "stream",
     "text": [
      " 67%|██████▋   | 33/49 [11:09<05:25, 20.37s/it]"
     ]
    },
    {
     "name": "stdout",
     "output_type": "stream",
     "text": [
      "Data loaded in 1.7356 seconds, processing\n",
      "Bandpass cleaned in 3.4206 seconds.\n",
      "Stamps filtered in 15.4057 seconds\n",
      "Saving results\n",
      "Results aggregated in 0.1138 seconds\n",
      "Processing coarse channels 238-245\n"
     ]
    },
    {
     "name": "stderr",
     "output_type": "stream",
     "text": [
      " 69%|██████▉   | 34/49 [11:30<05:07, 20.47s/it]"
     ]
    },
    {
     "name": "stdout",
     "output_type": "stream",
     "text": [
      "Data loaded in 1.8264 seconds, processing\n",
      "Bandpass cleaned in 3.1945 seconds.\n",
      "Stamps filtered in 15.3673 seconds\n",
      "Saving results\n",
      "Results aggregated in 0.0886 seconds\n",
      "Processing coarse channels 245-252\n"
     ]
    },
    {
     "name": "stderr",
     "output_type": "stream",
     "text": [
      " 71%|███████▏  | 35/49 [11:50<04:46, 20.47s/it]"
     ]
    },
    {
     "name": "stdout",
     "output_type": "stream",
     "text": [
      "Data loaded in 1.6038 seconds, processing\n",
      "Bandpass cleaned in 3.0799 seconds.\n",
      "Stamps filtered in 14.2913 seconds\n",
      "Saving results\n",
      "Results aggregated in 0.0896 seconds\n",
      "Processing coarse channels 252-259\n"
     ]
    },
    {
     "name": "stderr",
     "output_type": "stream",
     "text": [
      " 73%|███████▎  | 36/49 [12:09<04:20, 20.05s/it]"
     ]
    },
    {
     "name": "stdout",
     "output_type": "stream",
     "text": [
      "Data loaded in 1.5676 seconds, processing\n",
      "Bandpass cleaned in 3.1778 seconds.\n",
      "Stamps filtered in 15.0774 seconds\n",
      "Saving results\n",
      "Results aggregated in 0.0913 seconds\n",
      "Processing coarse channels 259-266\n"
     ]
    },
    {
     "name": "stderr",
     "output_type": "stream",
     "text": [
      " 76%|███████▌  | 37/49 [12:29<04:00, 20.02s/it]"
     ]
    },
    {
     "name": "stdout",
     "output_type": "stream",
     "text": [
      "Data loaded in 1.9102 seconds, processing\n",
      "Bandpass cleaned in 3.3271 seconds.\n",
      "Stamps filtered in 15.2395 seconds\n",
      "Saving results\n",
      "Results aggregated in 0.0888 seconds\n",
      "Processing coarse channels 266-273\n"
     ]
    },
    {
     "name": "stderr",
     "output_type": "stream",
     "text": [
      " 78%|███████▊  | 38/49 [12:50<03:42, 20.18s/it]"
     ]
    },
    {
     "name": "stdout",
     "output_type": "stream",
     "text": [
      "Data loaded in 1.5594 seconds, processing\n",
      "Bandpass cleaned in 3.2945 seconds.\n",
      "Stamps filtered in 14.8725 seconds\n",
      "Saving results\n",
      "Results aggregated in 0.0861 seconds\n",
      "Processing coarse channels 273-280\n"
     ]
    },
    {
     "name": "stderr",
     "output_type": "stream",
     "text": [
      " 80%|███████▉  | 39/49 [13:10<03:20, 20.08s/it]"
     ]
    },
    {
     "name": "stdout",
     "output_type": "stream",
     "text": [
      "Data loaded in 1.7963 seconds, processing\n",
      "Bandpass cleaned in 3.3014 seconds.\n",
      "Stamps filtered in 15.3451 seconds\n",
      "Saving results\n",
      "Results aggregated in 0.0813 seconds\n",
      "Processing coarse channels 280-287\n"
     ]
    },
    {
     "name": "stderr",
     "output_type": "stream",
     "text": [
      " 82%|████████▏ | 40/49 [13:30<03:01, 20.21s/it]"
     ]
    },
    {
     "name": "stdout",
     "output_type": "stream",
     "text": [
      "Data loaded in 1.6211 seconds, processing\n",
      "Bandpass cleaned in 3.2755 seconds.\n",
      "Stamps filtered in 15.1704 seconds\n",
      "Saving results\n",
      "Results aggregated in 0.0808 seconds\n",
      "Processing coarse channels 287-294\n"
     ]
    },
    {
     "name": "stderr",
     "output_type": "stream",
     "text": [
      " 84%|████████▎ | 41/49 [13:50<02:41, 20.20s/it]"
     ]
    },
    {
     "name": "stdout",
     "output_type": "stream",
     "text": [
      "Data loaded in 1.7465 seconds, processing\n",
      "Bandpass cleaned in 3.2692 seconds.\n",
      "Stamps filtered in 15.3574 seconds\n",
      "Saving results\n",
      "Results aggregated in 0.0790 seconds\n",
      "Processing coarse channels 294-301\n"
     ]
    },
    {
     "name": "stderr",
     "output_type": "stream",
     "text": [
      " 86%|████████▌ | 42/49 [14:11<02:21, 20.28s/it]"
     ]
    },
    {
     "name": "stdout",
     "output_type": "stream",
     "text": [
      "Data loaded in 1.5765 seconds, processing\n",
      "Bandpass cleaned in 3.2786 seconds.\n",
      "Stamps filtered in 15.2669 seconds\n",
      "Saving results\n"
     ]
    },
    {
     "name": "stderr",
     "output_type": "stream",
     "text": [
      " 88%|████████▊ | 43/49 [14:32<02:02, 20.38s/it]"
     ]
    },
    {
     "name": "stdout",
     "output_type": "stream",
     "text": [
      "Results aggregated in 0.4972 seconds\n",
      "Processing coarse channels 301-308\n",
      "Data loaded in 1.9380 seconds, processing\n",
      "Bandpass cleaned in 3.2292 seconds.\n",
      "Stamps filtered in 15.1306 seconds\n",
      "Saving results\n",
      "Results aggregated in 0.1928 seconds\n",
      "Processing coarse channels 308-315\n"
     ]
    },
    {
     "name": "stderr",
     "output_type": "stream",
     "text": [
      " 90%|████████▉ | 44/49 [14:52<01:42, 20.42s/it]"
     ]
    },
    {
     "name": "stdout",
     "output_type": "stream",
     "text": [
      "Data loaded in 1.9455 seconds, processing\n",
      "Bandpass cleaned in 3.2739 seconds.\n",
      "Stamps filtered in 15.2419 seconds\n",
      "Saving results\n",
      "Results aggregated in 0.0818 seconds\n",
      "Processing coarse channels 315-322\n"
     ]
    },
    {
     "name": "stderr",
     "output_type": "stream",
     "text": [
      " 92%|█████████▏| 45/49 [15:13<01:21, 20.46s/it]"
     ]
    },
    {
     "name": "stdout",
     "output_type": "stream",
     "text": [
      "Data loaded in 1.6592 seconds, processing\n",
      "Bandpass cleaned in 3.3095 seconds.\n",
      "Stamps filtered in 14.7123 seconds\n",
      "Saving results\n",
      "Results aggregated in 0.0925 seconds\n",
      "Processing coarse channels 322-329\n"
     ]
    },
    {
     "name": "stderr",
     "output_type": "stream",
     "text": [
      " 94%|█████████▍| 46/49 [15:32<01:00, 20.26s/it]"
     ]
    },
    {
     "name": "stdout",
     "output_type": "stream",
     "text": [
      "Data loaded in 2.0006 seconds, processing\n",
      "Bandpass cleaned in 3.4433 seconds.\n",
      "Stamps filtered in 15.5976 seconds\n",
      "Saving results\n",
      "Results aggregated in 0.0921 seconds\n",
      "Processing coarse channels 329-336\n"
     ]
    },
    {
     "name": "stderr",
     "output_type": "stream",
     "text": [
      " 96%|█████████▌| 47/49 [15:54<00:41, 20.52s/it]"
     ]
    },
    {
     "name": "stdout",
     "output_type": "stream",
     "text": [
      "Data loaded in 1.7132 seconds, processing\n",
      "Bandpass cleaned in 3.2994 seconds.\n",
      "Stamps filtered in 15.2641 seconds\n",
      "Saving results\n",
      "Results aggregated in 0.0933 seconds\n",
      "Processing coarse channels 336-343\n"
     ]
    },
    {
     "name": "stderr",
     "output_type": "stream",
     "text": [
      " 98%|█████████▊| 48/49 [16:14<00:20, 20.48s/it]"
     ]
    },
    {
     "name": "stdout",
     "output_type": "stream",
     "text": [
      "Data loaded in 1.7978 seconds, processing\n",
      "Bandpass cleaned in 3.4761 seconds.\n",
      "Stamps filtered in 15.4853 seconds\n",
      "Saving results\n"
     ]
    },
    {
     "name": "stderr",
     "output_type": "stream",
     "text": [
      "100%|██████████| 49/49 [16:35<00:00, 20.31s/it]\n"
     ]
    },
    {
     "name": "stdout",
     "output_type": "stream",
     "text": [
      "Results aggregated in 0.0825 seconds\n",
      "      level_0      index     statistic  pvalue        freqs\n",
      "5188     5188  206251648  12943.177728     0.0  2226.571584\n",
      "5186     5186  206251392  12551.356440     0.0  2226.572299\n",
      "5187     5187  206251520  12127.083249     0.0  2226.571941\n",
      "5380     5380  219895552  11375.263660     0.0  2188.450956\n",
      "343 343\n",
      "Finished Energy Detection on GBT_57684_58874_HIP62771_fine.h5 in 998.8493 seconds\n",
      "/mnt_blpd7/datax/dl/GBT_57684_59208_HIP63503_fine.h5\n",
      "Header saved to ../../../../../../datax/scratch/pma/reverse_search/train/HIP63503-523/GBT_57684_59208_HIP63503_fine/header.pkl\n",
      "Processing 7 in parallel\n",
      "Processing coarse channels 0-7\n"
     ]
    },
    {
     "name": "stderr",
     "output_type": "stream",
     "text": [
      "  0%|          | 0/49 [00:00<?, ?it/s]"
     ]
    },
    {
     "name": "stdout",
     "output_type": "stream",
     "text": [
      "Data loaded in 2.7060 seconds, processing\n",
      "Bandpass cleaned in 3.1334 seconds.\n",
      "Stamps filtered in 14.5626 seconds\n",
      "Saving results\n",
      "Results aggregated in 0.0611 seconds\n",
      "Processing coarse channels 7-14\n"
     ]
    },
    {
     "name": "stderr",
     "output_type": "stream",
     "text": [
      "  2%|▏         | 1/49 [00:20<16:22, 20.47s/it]"
     ]
    },
    {
     "name": "stdout",
     "output_type": "stream",
     "text": [
      "Data loaded in 2.0642 seconds, processing\n",
      "Bandpass cleaned in 3.1589 seconds.\n",
      "Stamps filtered in 15.0471 seconds\n",
      "Saving results\n",
      "Results aggregated in 0.0729 seconds\n",
      "Processing coarse channels 14-21\n"
     ]
    },
    {
     "name": "stderr",
     "output_type": "stream",
     "text": [
      "  4%|▍         | 2/49 [00:40<15:58, 20.40s/it]"
     ]
    },
    {
     "name": "stdout",
     "output_type": "stream",
     "text": [
      "Data loaded in 1.6001 seconds, processing\n",
      "Bandpass cleaned in 3.0327 seconds.\n",
      "Stamps filtered in 15.3612 seconds\n",
      "Saving results\n",
      "Results aggregated in 0.0703 seconds\n",
      "Processing coarse channels 21-28\n"
     ]
    },
    {
     "name": "stderr",
     "output_type": "stream",
     "text": [
      "  6%|▌         | 3/49 [01:00<15:31, 20.26s/it]"
     ]
    },
    {
     "name": "stdout",
     "output_type": "stream",
     "text": [
      "Data loaded in 1.8713 seconds, processing\n",
      "Bandpass cleaned in 3.1206 seconds.\n",
      "Stamps filtered in 15.7052 seconds\n",
      "Saving results\n",
      "Results aggregated in 0.0709 seconds\n",
      "Processing coarse channels 28-35\n"
     ]
    },
    {
     "name": "stderr",
     "output_type": "stream",
     "text": [
      "  8%|▊         | 4/49 [01:21<15:20, 20.46s/it]"
     ]
    },
    {
     "name": "stdout",
     "output_type": "stream",
     "text": [
      "Data loaded in 1.5841 seconds, processing\n",
      "Bandpass cleaned in 3.2610 seconds.\n",
      "Stamps filtered in 15.4259 seconds\n",
      "Saving results\n",
      "Results aggregated in 0.0675 seconds\n",
      "Processing coarse channels 35-42\n"
     ]
    },
    {
     "name": "stderr",
     "output_type": "stream",
     "text": [
      " 10%|█         | 5/49 [01:42<14:58, 20.42s/it]"
     ]
    },
    {
     "name": "stdout",
     "output_type": "stream",
     "text": [
      "Data loaded in 1.7376 seconds, processing\n",
      "Bandpass cleaned in 3.1081 seconds.\n",
      "Stamps filtered in 15.5549 seconds\n",
      "Saving results\n",
      "Results aggregated in 0.0690 seconds\n",
      "Processing coarse channels 42-49\n"
     ]
    },
    {
     "name": "stderr",
     "output_type": "stream",
     "text": [
      " 12%|█▏        | 6/49 [02:02<14:39, 20.44s/it]"
     ]
    },
    {
     "name": "stdout",
     "output_type": "stream",
     "text": [
      "Data loaded in 1.7506 seconds, processing\n",
      "Bandpass cleaned in 3.1978 seconds.\n",
      "Stamps filtered in 14.6773 seconds\n",
      "Saving results\n",
      "Results aggregated in 0.0625 seconds\n",
      "Processing coarse channels 49-56\n"
     ]
    },
    {
     "name": "stderr",
     "output_type": "stream",
     "text": [
      " 14%|█▍        | 7/49 [02:22<14:08, 20.20s/it]"
     ]
    },
    {
     "name": "stdout",
     "output_type": "stream",
     "text": [
      "Data loaded in 1.6541 seconds, processing\n",
      "Bandpass cleaned in 3.4529 seconds.\n",
      "Stamps filtered in 15.7087 seconds\n",
      "Saving results\n",
      "Results aggregated in 0.0636 seconds\n",
      "Processing coarse channels 56-63\n"
     ]
    },
    {
     "name": "stderr",
     "output_type": "stream",
     "text": [
      " 16%|█▋        | 8/49 [02:43<13:57, 20.42s/it]"
     ]
    },
    {
     "name": "stdout",
     "output_type": "stream",
     "text": [
      "Data loaded in 1.5691 seconds, processing\n",
      "Bandpass cleaned in 3.3482 seconds.\n",
      "Stamps filtered in 15.4657 seconds\n",
      "Saving results\n",
      "Results aggregated in 0.0651 seconds\n",
      "Processing coarse channels 63-70\n"
     ]
    },
    {
     "name": "stderr",
     "output_type": "stream",
     "text": [
      " 18%|█▊        | 9/49 [03:03<13:37, 20.43s/it]"
     ]
    },
    {
     "name": "stdout",
     "output_type": "stream",
     "text": [
      "Data loaded in 1.6004 seconds, processing\n",
      "Bandpass cleaned in 3.7806 seconds.\n",
      "Stamps filtered in 15.4071 seconds\n",
      "Saving results\n",
      "Results aggregated in 0.0717 seconds\n",
      "Processing coarse channels 70-77\n"
     ]
    },
    {
     "name": "stderr",
     "output_type": "stream",
     "text": [
      " 20%|██        | 10/49 [03:24<13:22, 20.57s/it]"
     ]
    },
    {
     "name": "stdout",
     "output_type": "stream",
     "text": [
      "Data loaded in 1.6875 seconds, processing\n",
      "Bandpass cleaned in 3.8942 seconds.\n",
      "Stamps filtered in 15.7218 seconds\n",
      "Saving results\n",
      "Results aggregated in 0.0700 seconds\n",
      "Processing coarse channels 77-84\n"
     ]
    },
    {
     "name": "stderr",
     "output_type": "stream",
     "text": [
      " 22%|██▏       | 11/49 [03:45<13:11, 20.82s/it]"
     ]
    },
    {
     "name": "stdout",
     "output_type": "stream",
     "text": [
      "Data loaded in 1.7833 seconds, processing\n",
      "Bandpass cleaned in 3.2253 seconds.\n",
      "Stamps filtered in 15.0721 seconds\n",
      "Saving results\n",
      "Results aggregated in 0.0730 seconds\n",
      "Processing coarse channels 84-91\n"
     ]
    },
    {
     "name": "stderr",
     "output_type": "stream",
     "text": [
      " 24%|██▍       | 12/49 [04:05<12:42, 20.62s/it]"
     ]
    },
    {
     "name": "stdout",
     "output_type": "stream",
     "text": [
      "Data loaded in 1.7160 seconds, processing\n",
      "Bandpass cleaned in 3.7347 seconds.\n",
      "Stamps filtered in 15.6285 seconds\n",
      "Saving results\n",
      "Results aggregated in 0.0706 seconds\n",
      "Processing coarse channels 91-98\n"
     ]
    },
    {
     "name": "stderr",
     "output_type": "stream",
     "text": [
      " 27%|██▋       | 13/49 [04:27<12:28, 20.78s/it]"
     ]
    },
    {
     "name": "stdout",
     "output_type": "stream",
     "text": [
      "Data loaded in 1.7545 seconds, processing\n",
      "Bandpass cleaned in 3.1383 seconds.\n",
      "Stamps filtered in 15.7443 seconds\n",
      "Saving results\n",
      "Results aggregated in 0.0642 seconds\n",
      "Processing coarse channels 98-105\n"
     ]
    },
    {
     "name": "stderr",
     "output_type": "stream",
     "text": [
      " 29%|██▊       | 14/49 [04:47<12:06, 20.76s/it]"
     ]
    },
    {
     "name": "stdout",
     "output_type": "stream",
     "text": [
      "Data loaded in 1.6222 seconds, processing\n",
      "Bandpass cleaned in 3.1477 seconds.\n",
      "Stamps filtered in 15.5993 seconds\n",
      "Saving results\n",
      "Results aggregated in 0.0672 seconds\n",
      "Processing coarse channels 105-112\n"
     ]
    },
    {
     "name": "stderr",
     "output_type": "stream",
     "text": [
      " 31%|███       | 15/49 [05:08<11:42, 20.67s/it]"
     ]
    },
    {
     "name": "stdout",
     "output_type": "stream",
     "text": [
      "Data loaded in 1.5704 seconds, processing\n",
      "Bandpass cleaned in 3.4037 seconds.\n",
      "Stamps filtered in 15.4639 seconds\n",
      "Saving results\n",
      "Results aggregated in 0.1265 seconds\n",
      "Processing coarse channels 112-119\n"
     ]
    },
    {
     "name": "stderr",
     "output_type": "stream",
     "text": [
      " 33%|███▎      | 16/49 [05:28<11:21, 20.64s/it]"
     ]
    },
    {
     "name": "stdout",
     "output_type": "stream",
     "text": [
      "Data loaded in 1.5536 seconds, processing\n",
      "Bandpass cleaned in 3.3634 seconds.\n",
      "Stamps filtered in 15.3643 seconds\n",
      "Saving results\n",
      "Results aggregated in 0.0848 seconds\n",
      "Processing coarse channels 119-126\n"
     ]
    },
    {
     "name": "stderr",
     "output_type": "stream",
     "text": [
      " 35%|███▍      | 17/49 [05:49<10:57, 20.56s/it]"
     ]
    },
    {
     "name": "stdout",
     "output_type": "stream",
     "text": [
      "Data loaded in 1.6144 seconds, processing\n",
      "Bandpass cleaned in 3.5135 seconds.\n",
      "Stamps filtered in 15.4609 seconds\n",
      "Saving results\n",
      "Results aggregated in 0.0712 seconds\n",
      "Processing coarse channels 126-133\n"
     ]
    },
    {
     "name": "stderr",
     "output_type": "stream",
     "text": [
      " 37%|███▋      | 18/49 [06:09<10:38, 20.59s/it]"
     ]
    },
    {
     "name": "stdout",
     "output_type": "stream",
     "text": [
      "Data loaded in 1.7459 seconds, processing\n",
      "Bandpass cleaned in 3.3975 seconds.\n",
      "Stamps filtered in 15.3964 seconds\n",
      "Saving results\n",
      "Results aggregated in 0.0847 seconds\n",
      "Processing coarse channels 133-140\n"
     ]
    },
    {
     "name": "stderr",
     "output_type": "stream",
     "text": [
      " 39%|███▉      | 19/49 [06:30<10:18, 20.61s/it]"
     ]
    },
    {
     "name": "stdout",
     "output_type": "stream",
     "text": [
      "Data loaded in 1.8583 seconds, processing\n",
      "Bandpass cleaned in 3.3758 seconds.\n",
      "Stamps filtered in 15.5496 seconds\n",
      "Saving results\n",
      "Results aggregated in 0.0796 seconds\n",
      "Processing coarse channels 140-147\n"
     ]
    },
    {
     "name": "stderr",
     "output_type": "stream",
     "text": [
      " 41%|████      | 20/49 [06:51<09:59, 20.69s/it]"
     ]
    },
    {
     "name": "stdout",
     "output_type": "stream",
     "text": [
      "Data loaded in 1.6615 seconds, processing\n",
      "Bandpass cleaned in 3.6018 seconds.\n",
      "Stamps filtered in 15.8543 seconds\n",
      "Saving results\n",
      "Results aggregated in 0.0789 seconds\n",
      "Processing coarse channels 147-154\n"
     ]
    },
    {
     "name": "stderr",
     "output_type": "stream",
     "text": [
      " 43%|████▎     | 21/49 [07:12<09:43, 20.84s/it]"
     ]
    },
    {
     "name": "stdout",
     "output_type": "stream",
     "text": [
      "Data loaded in 1.7248 seconds, processing\n",
      "Bandpass cleaned in 3.5532 seconds.\n",
      "Stamps filtered in 14.5277 seconds\n",
      "Saving results\n",
      "Results aggregated in 0.0777 seconds\n",
      "Processing coarse channels 154-161\n"
     ]
    },
    {
     "name": "stderr",
     "output_type": "stream",
     "text": [
      " 45%|████▍     | 22/49 [07:32<09:15, 20.56s/it]"
     ]
    },
    {
     "name": "stdout",
     "output_type": "stream",
     "text": [
      "Data loaded in 1.6596 seconds, processing\n",
      "Bandpass cleaned in 3.2610 seconds.\n",
      "Stamps filtered in 15.3064 seconds\n",
      "Saving results\n",
      "Results aggregated in 0.0735 seconds\n",
      "Processing coarse channels 161-168\n"
     ]
    },
    {
     "name": "stderr",
     "output_type": "stream",
     "text": [
      " 47%|████▋     | 23/49 [07:52<08:52, 20.48s/it]"
     ]
    },
    {
     "name": "stdout",
     "output_type": "stream",
     "text": [
      "Data loaded in 2.0185 seconds, processing\n",
      "Bandpass cleaned in 3.1396 seconds.\n",
      "Stamps filtered in 15.3196 seconds\n",
      "Saving results\n",
      "Results aggregated in 0.1373 seconds\n",
      "Processing coarse channels 168-175\n"
     ]
    },
    {
     "name": "stderr",
     "output_type": "stream",
     "text": [
      " 49%|████▉     | 24/49 [08:13<08:33, 20.53s/it]"
     ]
    },
    {
     "name": "stdout",
     "output_type": "stream",
     "text": [
      "Data loaded in 1.6269 seconds, processing\n",
      "Bandpass cleaned in 3.6739 seconds.\n",
      "Stamps filtered in 15.4168 seconds\n",
      "Saving results\n",
      "Results aggregated in 0.0821 seconds\n",
      "Processing coarse channels 175-182\n"
     ]
    },
    {
     "name": "stderr",
     "output_type": "stream",
     "text": [
      " 51%|█████     | 25/49 [08:34<08:14, 20.61s/it]"
     ]
    },
    {
     "name": "stdout",
     "output_type": "stream",
     "text": [
      "Data loaded in 1.5624 seconds, processing\n",
      "Bandpass cleaned in 3.2543 seconds.\n",
      "Stamps filtered in 15.4562 seconds\n",
      "Saving results\n",
      "Results aggregated in 0.0790 seconds\n",
      "Processing coarse channels 182-189\n"
     ]
    },
    {
     "name": "stderr",
     "output_type": "stream",
     "text": [
      " 53%|█████▎    | 26/49 [08:54<07:52, 20.54s/it]"
     ]
    },
    {
     "name": "stdout",
     "output_type": "stream",
     "text": [
      "Data loaded in 2.1122 seconds, processing\n",
      "Bandpass cleaned in 3.2816 seconds.\n",
      "Stamps filtered in 15.5136 seconds\n",
      "Saving results\n",
      "Results aggregated in 0.1079 seconds\n",
      "Processing coarse channels 189-196\n"
     ]
    },
    {
     "name": "stderr",
     "output_type": "stream",
     "text": [
      " 55%|█████▌    | 27/49 [09:15<07:35, 20.68s/it]"
     ]
    },
    {
     "name": "stdout",
     "output_type": "stream",
     "text": [
      "Data loaded in 1.5421 seconds, processing\n",
      "Bandpass cleaned in 3.2769 seconds.\n",
      "Stamps filtered in 15.8000 seconds\n",
      "Saving results\n",
      "Results aggregated in 0.1657 seconds\n",
      "Processing coarse channels 196-203\n"
     ]
    },
    {
     "name": "stderr",
     "output_type": "stream",
     "text": [
      " 57%|█████▋    | 28/49 [09:36<07:15, 20.72s/it]"
     ]
    },
    {
     "name": "stdout",
     "output_type": "stream",
     "text": [
      "Data loaded in 1.6826 seconds, processing\n",
      "Bandpass cleaned in 3.2862 seconds.\n",
      "Stamps filtered in 15.7276 seconds\n",
      "Saving results\n",
      "Results aggregated in 0.1363 seconds\n",
      "Processing coarse channels 203-210\n"
     ]
    },
    {
     "name": "stderr",
     "output_type": "stream",
     "text": [
      " 59%|█████▉    | 29/49 [09:57<06:55, 20.75s/it]"
     ]
    },
    {
     "name": "stdout",
     "output_type": "stream",
     "text": [
      "Data loaded in 1.7245 seconds, processing\n",
      "Bandpass cleaned in 3.2239 seconds.\n",
      "Stamps filtered in 15.5949 seconds\n",
      "Saving results\n",
      "Results aggregated in 0.1390 seconds\n",
      "Processing coarse channels 210-217\n"
     ]
    },
    {
     "name": "stderr",
     "output_type": "stream",
     "text": [
      " 61%|██████    | 30/49 [10:18<06:33, 20.74s/it]"
     ]
    },
    {
     "name": "stdout",
     "output_type": "stream",
     "text": [
      "Data loaded in 1.7598 seconds, processing\n",
      "Bandpass cleaned in 3.2443 seconds.\n",
      "Stamps filtered in 15.0278 seconds\n",
      "Saving results\n",
      "Results aggregated in 0.0801 seconds\n",
      "Processing coarse channels 217-224\n"
     ]
    },
    {
     "name": "stderr",
     "output_type": "stream",
     "text": [
      " 63%|██████▎   | 31/49 [10:38<06:09, 20.55s/it]"
     ]
    },
    {
     "name": "stdout",
     "output_type": "stream",
     "text": [
      "Data loaded in 1.6245 seconds, processing\n",
      "Bandpass cleaned in 3.1221 seconds.\n",
      "Stamps filtered in 14.8205 seconds\n",
      "Saving results\n",
      "Results aggregated in 0.0900 seconds\n",
      "Processing coarse channels 224-231\n"
     ]
    },
    {
     "name": "stderr",
     "output_type": "stream",
     "text": [
      " 65%|██████▌   | 32/49 [10:57<05:44, 20.29s/it]"
     ]
    },
    {
     "name": "stdout",
     "output_type": "stream",
     "text": [
      "Data loaded in 1.7235 seconds, processing\n",
      "Bandpass cleaned in 3.1237 seconds.\n",
      "Stamps filtered in 15.4873 seconds\n",
      "Saving results\n",
      "Results aggregated in 0.0907 seconds\n",
      "Processing coarse channels 231-238\n"
     ]
    },
    {
     "name": "stderr",
     "output_type": "stream",
     "text": [
      " 67%|██████▋   | 33/49 [11:18<05:25, 20.33s/it]"
     ]
    },
    {
     "name": "stdout",
     "output_type": "stream",
     "text": [
      "Data loaded in 1.7011 seconds, processing\n",
      "Bandpass cleaned in 3.3151 seconds.\n",
      "Stamps filtered in 15.0416 seconds\n",
      "Saving results\n",
      "Results aggregated in 0.1082 seconds\n",
      "Processing coarse channels 238-245\n"
     ]
    },
    {
     "name": "stderr",
     "output_type": "stream",
     "text": [
      " 69%|██████▉   | 34/49 [11:38<05:04, 20.29s/it]"
     ]
    },
    {
     "name": "stdout",
     "output_type": "stream",
     "text": [
      "Data loaded in 1.6200 seconds, processing\n",
      "Bandpass cleaned in 3.2660 seconds.\n",
      "Stamps filtered in 16.0165 seconds\n",
      "Saving results\n",
      "Results aggregated in 0.0878 seconds\n",
      "Processing coarse channels 245-252\n"
     ]
    },
    {
     "name": "stderr",
     "output_type": "stream",
     "text": [
      " 71%|███████▏  | 35/49 [11:59<04:47, 20.50s/it]"
     ]
    },
    {
     "name": "stdout",
     "output_type": "stream",
     "text": [
      "Data loaded in 1.8916 seconds, processing\n",
      "Bandpass cleaned in 3.3687 seconds.\n",
      "Stamps filtered in 14.7674 seconds\n",
      "Saving results\n",
      "Results aggregated in 0.0818 seconds\n",
      "Processing coarse channels 252-259\n"
     ]
    },
    {
     "name": "stderr",
     "output_type": "stream",
     "text": [
      " 73%|███████▎  | 36/49 [12:19<04:25, 20.39s/it]"
     ]
    },
    {
     "name": "stdout",
     "output_type": "stream",
     "text": [
      "Data loaded in 1.6823 seconds, processing\n",
      "Bandpass cleaned in 3.1868 seconds.\n",
      "Stamps filtered in 15.3521 seconds\n",
      "Saving results\n",
      "Results aggregated in 0.0903 seconds\n",
      "Processing coarse channels 259-266\n"
     ]
    },
    {
     "name": "stderr",
     "output_type": "stream",
     "text": [
      " 76%|███████▌  | 37/49 [12:39<04:04, 20.37s/it]"
     ]
    },
    {
     "name": "stdout",
     "output_type": "stream",
     "text": [
      "Data loaded in 1.9388 seconds, processing\n",
      "Bandpass cleaned in 3.6172 seconds.\n",
      "Stamps filtered in 15.1969 seconds\n",
      "Saving results\n",
      "Results aggregated in 0.1728 seconds\n",
      "Processing coarse channels 266-273\n"
     ]
    },
    {
     "name": "stderr",
     "output_type": "stream",
     "text": [
      " 78%|███████▊  | 38/49 [13:00<03:45, 20.54s/it]"
     ]
    },
    {
     "name": "stdout",
     "output_type": "stream",
     "text": [
      "Data loaded in 1.9855 seconds, processing\n",
      "Bandpass cleaned in 3.2310 seconds.\n",
      "Stamps filtered in 15.7020 seconds\n",
      "Saving results\n",
      "Results aggregated in 0.0872 seconds\n",
      "Processing coarse channels 273-280\n"
     ]
    },
    {
     "name": "stderr",
     "output_type": "stream",
     "text": [
      " 80%|███████▉  | 39/49 [13:21<03:26, 20.68s/it]"
     ]
    },
    {
     "name": "stdout",
     "output_type": "stream",
     "text": [
      "Data loaded in 1.6039 seconds, processing\n",
      "Bandpass cleaned in 3.2510 seconds.\n",
      "Stamps filtered in 14.5423 seconds\n",
      "Saving results\n",
      "Results aggregated in 0.0878 seconds\n",
      "Processing coarse channels 280-287\n"
     ]
    },
    {
     "name": "stderr",
     "output_type": "stream",
     "text": [
      " 82%|████████▏ | 40/49 [13:41<03:02, 20.33s/it]"
     ]
    },
    {
     "name": "stdout",
     "output_type": "stream",
     "text": [
      "Data loaded in 1.8005 seconds, processing\n",
      "Bandpass cleaned in 3.3121 seconds.\n",
      "Stamps filtered in 15.5279 seconds\n",
      "Saving results\n",
      "Results aggregated in 0.0915 seconds\n",
      "Processing coarse channels 287-294\n"
     ]
    },
    {
     "name": "stderr",
     "output_type": "stream",
     "text": [
      " 84%|████████▎ | 41/49 [14:02<02:43, 20.45s/it]"
     ]
    },
    {
     "name": "stdout",
     "output_type": "stream",
     "text": [
      "Data loaded in 1.8780 seconds, processing\n",
      "Bandpass cleaned in 3.1354 seconds.\n",
      "Stamps filtered in 14.5623 seconds\n",
      "Saving results\n",
      "Results aggregated in 0.0935 seconds\n",
      "Processing coarse channels 294-301\n"
     ]
    },
    {
     "name": "stderr",
     "output_type": "stream",
     "text": [
      " 86%|████████▌ | 42/49 [14:21<02:21, 20.22s/it]"
     ]
    },
    {
     "name": "stdout",
     "output_type": "stream",
     "text": [
      "Data loaded in 1.6766 seconds, processing\n",
      "Bandpass cleaned in 3.2908 seconds.\n",
      "Stamps filtered in 15.4462 seconds\n",
      "Saving results\n"
     ]
    },
    {
     "name": "stderr",
     "output_type": "stream",
     "text": [
      " 88%|████████▊ | 43/49 [14:42<02:02, 20.40s/it]"
     ]
    },
    {
     "name": "stdout",
     "output_type": "stream",
     "text": [
      "Results aggregated in 0.3759 seconds\n",
      "Processing coarse channels 301-308\n",
      "Data loaded in 1.6594 seconds, processing\n",
      "Bandpass cleaned in 3.5067 seconds.\n",
      "Stamps filtered in 15.7474 seconds\n",
      "Saving results\n",
      "Results aggregated in 0.1187 seconds\n",
      "Processing coarse channels 308-315\n"
     ]
    },
    {
     "name": "stderr",
     "output_type": "stream",
     "text": [
      " 90%|████████▉ | 44/49 [15:03<01:42, 20.59s/it]"
     ]
    },
    {
     "name": "stdout",
     "output_type": "stream",
     "text": [
      "Data loaded in 1.7012 seconds, processing\n",
      "Bandpass cleaned in 3.8231 seconds.\n",
      "Stamps filtered in 15.3725 seconds\n",
      "Saving results\n",
      "Results aggregated in 0.0962 seconds\n",
      "Processing coarse channels 315-322\n"
     ]
    },
    {
     "name": "stderr",
     "output_type": "stream",
     "text": [
      " 92%|█████████▏| 45/49 [15:24<01:22, 20.71s/it]"
     ]
    },
    {
     "name": "stdout",
     "output_type": "stream",
     "text": [
      "Data loaded in 1.7584 seconds, processing\n",
      "Bandpass cleaned in 3.3524 seconds.\n",
      "Stamps filtered in 15.2318 seconds\n",
      "Saving results\n",
      "Results aggregated in 0.0899 seconds\n",
      "Processing coarse channels 322-329\n"
     ]
    },
    {
     "name": "stderr",
     "output_type": "stream",
     "text": [
      " 94%|█████████▍| 46/49 [15:45<01:01, 20.63s/it]"
     ]
    },
    {
     "name": "stdout",
     "output_type": "stream",
     "text": [
      "Data loaded in 1.8899 seconds, processing\n",
      "Bandpass cleaned in 3.2262 seconds.\n",
      "Stamps filtered in 15.4377 seconds\n",
      "Saving results\n",
      "Results aggregated in 0.0892 seconds\n",
      "Processing coarse channels 329-336\n"
     ]
    },
    {
     "name": "stderr",
     "output_type": "stream",
     "text": [
      " 96%|█████████▌| 47/49 [16:05<00:41, 20.64s/it]"
     ]
    },
    {
     "name": "stdout",
     "output_type": "stream",
     "text": [
      "Data loaded in 1.5884 seconds, processing\n",
      "Bandpass cleaned in 3.3659 seconds.\n",
      "Stamps filtered in 15.3655 seconds\n",
      "Saving results\n",
      "Results aggregated in 0.1061 seconds\n",
      "Processing coarse channels 336-343\n"
     ]
    },
    {
     "name": "stderr",
     "output_type": "stream",
     "text": [
      " 98%|█████████▊| 48/49 [16:26<00:20, 20.58s/it]"
     ]
    },
    {
     "name": "stdout",
     "output_type": "stream",
     "text": [
      "Data loaded in 1.5424 seconds, processing\n",
      "Bandpass cleaned in 3.4921 seconds.\n",
      "Stamps filtered in 15.3427 seconds\n",
      "Saving results\n"
     ]
    },
    {
     "name": "stderr",
     "output_type": "stream",
     "text": [
      "100%|██████████| 49/49 [16:46<00:00, 20.54s/it]\n"
     ]
    },
    {
     "name": "stdout",
     "output_type": "stream",
     "text": [
      "Results aggregated in 0.0943 seconds\n",
      "      level_0      index     statistic  pvalue        freqs\n",
      "2093     2093  206260608  13327.224831     0.0  2226.546550\n",
      "2092     2092  206260480  13323.834166     0.0  2226.546907\n",
      "2089     2089  206251648  11118.391105     0.0  2226.571584\n",
      "2088     2088  206251520  11111.407939     0.0  2226.571941\n",
      "343 343\n",
      "Finished Energy Detection on GBT_57684_59208_HIP63503_fine.h5 in 1010.5598 seconds\n",
      "/mnt_blpd7/datax/dl/GBT_57684_59542_HIP62781_fine.h5\n",
      "Header saved to ../../../../../../datax/scratch/pma/reverse_search/train/HIP63503-523/GBT_57684_59542_HIP62781_fine/header.pkl\n",
      "Processing 7 in parallel\n",
      "Processing coarse channels 0-7\n"
     ]
    },
    {
     "name": "stderr",
     "output_type": "stream",
     "text": [
      "  0%|          | 0/49 [00:00<?, ?it/s]"
     ]
    },
    {
     "name": "stdout",
     "output_type": "stream",
     "text": [
      "Data loaded in 2.6849 seconds, processing\n",
      "Bandpass cleaned in 3.2209 seconds.\n",
      "Stamps filtered in 15.5489 seconds\n",
      "Saving results\n",
      "Results aggregated in 0.0631 seconds\n",
      "Processing coarse channels 7-14\n"
     ]
    },
    {
     "name": "stderr",
     "output_type": "stream",
     "text": [
      "  2%|▏         | 1/49 [00:21<17:13, 21.53s/it]"
     ]
    },
    {
     "name": "stdout",
     "output_type": "stream",
     "text": [
      "Data loaded in 1.9952 seconds, processing\n",
      "Bandpass cleaned in 3.6845 seconds.\n",
      "Stamps filtered in 15.9429 seconds\n",
      "Saving results\n",
      "Results aggregated in 0.0684 seconds\n",
      "Processing coarse channels 14-21\n"
     ]
    },
    {
     "name": "stderr",
     "output_type": "stream",
     "text": [
      "  4%|▍         | 2/49 [00:43<16:56, 21.63s/it]"
     ]
    },
    {
     "name": "stdout",
     "output_type": "stream",
     "text": [
      "Data loaded in 1.6398 seconds, processing\n",
      "Bandpass cleaned in 3.3223 seconds.\n",
      "Stamps filtered in 15.8988 seconds\n",
      "Saving results\n",
      "Results aggregated in 0.0739 seconds\n",
      "Processing coarse channels 21-28\n"
     ]
    },
    {
     "name": "stderr",
     "output_type": "stream",
     "text": [
      "  6%|▌         | 3/49 [01:04<16:20, 21.32s/it]"
     ]
    },
    {
     "name": "stdout",
     "output_type": "stream",
     "text": [
      "Data loaded in 1.8421 seconds, processing\n",
      "Bandpass cleaned in 3.3207 seconds.\n",
      "Stamps filtered in 15.7270 seconds\n",
      "Saving results\n",
      "Results aggregated in 0.0656 seconds\n",
      "Processing coarse channels 28-35\n"
     ]
    },
    {
     "name": "stderr",
     "output_type": "stream",
     "text": [
      "  8%|▊         | 4/49 [01:25<15:53, 21.18s/it]"
     ]
    },
    {
     "name": "stdout",
     "output_type": "stream",
     "text": [
      "Data loaded in 1.9655 seconds, processing\n",
      "Bandpass cleaned in 3.3183 seconds.\n",
      "Stamps filtered in 15.0508 seconds\n",
      "Saving results\n",
      "Results aggregated in 0.0692 seconds\n",
      "Processing coarse channels 35-42\n"
     ]
    },
    {
     "name": "stderr",
     "output_type": "stream",
     "text": [
      " 10%|█         | 5/49 [01:45<15:19, 20.91s/it]"
     ]
    },
    {
     "name": "stdout",
     "output_type": "stream",
     "text": [
      "Data loaded in 1.6250 seconds, processing\n",
      "Bandpass cleaned in 3.2012 seconds.\n",
      "Stamps filtered in 15.2838 seconds\n",
      "Saving results\n",
      "Results aggregated in 0.0748 seconds\n",
      "Processing coarse channels 42-49\n"
     ]
    },
    {
     "name": "stderr",
     "output_type": "stream",
     "text": [
      " 12%|█▏        | 6/49 [02:05<14:48, 20.66s/it]"
     ]
    },
    {
     "name": "stdout",
     "output_type": "stream",
     "text": [
      "Data loaded in 2.1724 seconds, processing\n",
      "Bandpass cleaned in 3.1857 seconds.\n",
      "Stamps filtered in 15.7218 seconds\n",
      "Saving results\n",
      "Results aggregated in 0.0704 seconds\n",
      "Processing coarse channels 49-56\n"
     ]
    },
    {
     "name": "stderr",
     "output_type": "stream",
     "text": [
      " 14%|█▍        | 7/49 [02:26<14:34, 20.83s/it]"
     ]
    },
    {
     "name": "stdout",
     "output_type": "stream",
     "text": [
      "Data loaded in 1.4969 seconds, processing\n",
      "Bandpass cleaned in 3.1250 seconds.\n",
      "Stamps filtered in 15.5534 seconds\n",
      "Saving results\n",
      "Results aggregated in 0.0704 seconds\n",
      "Processing coarse channels 56-63\n"
     ]
    },
    {
     "name": "stderr",
     "output_type": "stream",
     "text": [
      " 16%|█▋        | 8/49 [02:47<14:06, 20.65s/it]"
     ]
    },
    {
     "name": "stdout",
     "output_type": "stream",
     "text": [
      "Data loaded in 1.4741 seconds, processing\n",
      "Bandpass cleaned in 3.2414 seconds.\n",
      "Stamps filtered in 14.8055 seconds\n",
      "Saving results\n",
      "Results aggregated in 0.0636 seconds\n",
      "Processing coarse channels 63-70\n"
     ]
    },
    {
     "name": "stderr",
     "output_type": "stream",
     "text": [
      " 18%|█▊        | 9/49 [03:06<13:32, 20.32s/it]"
     ]
    },
    {
     "name": "stdout",
     "output_type": "stream",
     "text": [
      "Data loaded in 1.7746 seconds, processing\n",
      "Bandpass cleaned in 3.1769 seconds.\n",
      "Stamps filtered in 15.7913 seconds\n",
      "Saving results\n",
      "Results aggregated in 0.0704 seconds\n",
      "Processing coarse channels 70-77\n"
     ]
    },
    {
     "name": "stderr",
     "output_type": "stream",
     "text": [
      " 20%|██        | 10/49 [03:27<13:18, 20.47s/it]"
     ]
    },
    {
     "name": "stdout",
     "output_type": "stream",
     "text": [
      "Data loaded in 1.6599 seconds, processing\n",
      "Bandpass cleaned in 3.0939 seconds.\n",
      "Stamps filtered in 16.2392 seconds\n",
      "Saving results\n",
      "Results aggregated in 0.0695 seconds\n",
      "Processing coarse channels 77-84\n"
     ]
    },
    {
     "name": "stderr",
     "output_type": "stream",
     "text": [
      " 22%|██▏       | 11/49 [03:48<13:05, 20.66s/it]"
     ]
    },
    {
     "name": "stdout",
     "output_type": "stream",
     "text": [
      "Data loaded in 1.6609 seconds, processing\n",
      "Bandpass cleaned in 3.3805 seconds.\n",
      "Stamps filtered in 15.9680 seconds\n",
      "Saving results\n",
      "Results aggregated in 0.0652 seconds\n",
      "Processing coarse channels 84-91\n"
     ]
    },
    {
     "name": "stderr",
     "output_type": "stream",
     "text": [
      " 24%|██▍       | 12/49 [04:09<12:49, 20.79s/it]"
     ]
    },
    {
     "name": "stdout",
     "output_type": "stream",
     "text": [
      "Data loaded in 1.6080 seconds, processing\n",
      "Bandpass cleaned in 3.2779 seconds.\n",
      "Stamps filtered in 15.4443 seconds\n",
      "Saving results\n",
      "Results aggregated in 0.0694 seconds\n",
      "Processing coarse channels 91-98\n"
     ]
    },
    {
     "name": "stderr",
     "output_type": "stream",
     "text": [
      " 27%|██▋       | 13/49 [04:30<12:24, 20.68s/it]"
     ]
    },
    {
     "name": "stdout",
     "output_type": "stream",
     "text": [
      "Data loaded in 1.6968 seconds, processing\n",
      "Bandpass cleaned in 3.3468 seconds.\n",
      "Stamps filtered in 16.0058 seconds\n",
      "Saving results\n",
      "Results aggregated in 0.0710 seconds\n",
      "Processing coarse channels 98-105\n"
     ]
    },
    {
     "name": "stderr",
     "output_type": "stream",
     "text": [
      " 29%|██▊       | 14/49 [04:51<12:08, 20.81s/it]"
     ]
    },
    {
     "name": "stdout",
     "output_type": "stream",
     "text": [
      "Data loaded in 1.6485 seconds, processing\n",
      "Bandpass cleaned in 3.4398 seconds.\n",
      "Stamps filtered in 15.7092 seconds\n",
      "Saving results\n",
      "Results aggregated in 0.0729 seconds\n",
      "Processing coarse channels 105-112\n"
     ]
    },
    {
     "name": "stderr",
     "output_type": "stream",
     "text": [
      " 31%|███       | 15/49 [05:12<11:48, 20.83s/it]"
     ]
    },
    {
     "name": "stdout",
     "output_type": "stream",
     "text": [
      "Data loaded in 1.8113 seconds, processing\n",
      "Bandpass cleaned in 3.2087 seconds.\n",
      "Stamps filtered in 15.7778 seconds\n",
      "Saving results\n",
      "Results aggregated in 0.0649 seconds\n",
      "Processing coarse channels 112-119\n"
     ]
    },
    {
     "name": "stderr",
     "output_type": "stream",
     "text": [
      " 33%|███▎      | 16/49 [05:33<11:27, 20.85s/it]"
     ]
    },
    {
     "name": "stdout",
     "output_type": "stream",
     "text": [
      "Data loaded in 1.6555 seconds, processing\n",
      "Bandpass cleaned in 3.4001 seconds.\n",
      "Stamps filtered in 16.0516 seconds\n",
      "Saving results\n",
      "Results aggregated in 0.0724 seconds\n",
      "Processing coarse channels 119-126\n"
     ]
    },
    {
     "name": "stderr",
     "output_type": "stream",
     "text": [
      " 35%|███▍      | 17/49 [05:54<11:10, 20.95s/it]"
     ]
    },
    {
     "name": "stdout",
     "output_type": "stream",
     "text": [
      "Data loaded in 1.5713 seconds, processing\n",
      "Bandpass cleaned in 3.2725 seconds.\n",
      "Stamps filtered in 16.0166 seconds\n",
      "Saving results\n",
      "Results aggregated in 0.0750 seconds\n",
      "Processing coarse channels 126-133\n"
     ]
    },
    {
     "name": "stderr",
     "output_type": "stream",
     "text": [
      " 37%|███▋      | 18/49 [06:15<10:49, 20.95s/it]"
     ]
    },
    {
     "name": "stdout",
     "output_type": "stream",
     "text": [
      "Data loaded in 1.7572 seconds, processing\n",
      "Bandpass cleaned in 3.2473 seconds.\n",
      "Stamps filtered in 15.8981 seconds\n",
      "Saving results\n",
      "Results aggregated in 0.0771 seconds\n",
      "Processing coarse channels 133-140\n"
     ]
    },
    {
     "name": "stderr",
     "output_type": "stream",
     "text": [
      " 39%|███▉      | 19/49 [06:36<10:28, 20.96s/it]"
     ]
    },
    {
     "name": "stdout",
     "output_type": "stream",
     "text": [
      "Data loaded in 1.6848 seconds, processing\n",
      "Bandpass cleaned in 3.4067 seconds.\n",
      "Stamps filtered in 15.8466 seconds\n",
      "Saving results\n",
      "Results aggregated in 0.0775 seconds\n",
      "Processing coarse channels 140-147\n"
     ]
    },
    {
     "name": "stderr",
     "output_type": "stream",
     "text": [
      " 41%|████      | 20/49 [06:57<10:08, 20.98s/it]"
     ]
    },
    {
     "name": "stdout",
     "output_type": "stream",
     "text": [
      "Data loaded in 1.7752 seconds, processing\n",
      "Bandpass cleaned in 3.4305 seconds.\n",
      "Stamps filtered in 15.4390 seconds\n",
      "Saving results\n",
      "Results aggregated in 0.0708 seconds\n",
      "Processing coarse channels 147-154\n"
     ]
    },
    {
     "name": "stderr",
     "output_type": "stream",
     "text": [
      " 43%|████▎     | 21/49 [07:17<09:45, 20.90s/it]"
     ]
    },
    {
     "name": "stdout",
     "output_type": "stream",
     "text": [
      "Data loaded in 1.6342 seconds, processing\n",
      "Bandpass cleaned in 3.2143 seconds.\n",
      "Stamps filtered in 15.3214 seconds\n",
      "Saving results\n",
      "Results aggregated in 0.0717 seconds\n",
      "Processing coarse channels 154-161\n"
     ]
    },
    {
     "name": "stderr",
     "output_type": "stream",
     "text": [
      " 45%|████▍     | 22/49 [07:38<09:19, 20.71s/it]"
     ]
    },
    {
     "name": "stdout",
     "output_type": "stream",
     "text": [
      "Data loaded in 1.9968 seconds, processing\n",
      "Bandpass cleaned in 3.3840 seconds.\n",
      "Stamps filtered in 15.6504 seconds\n",
      "Saving results\n",
      "Results aggregated in 0.0750 seconds\n",
      "Processing coarse channels 161-168\n"
     ]
    },
    {
     "name": "stderr",
     "output_type": "stream",
     "text": [
      " 47%|████▋     | 23/49 [07:59<09:01, 20.83s/it]"
     ]
    },
    {
     "name": "stdout",
     "output_type": "stream",
     "text": [
      "Data loaded in 1.5902 seconds, processing\n",
      "Bandpass cleaned in 3.7932 seconds.\n",
      "Stamps filtered in 14.7277 seconds\n",
      "Saving results\n",
      "Results aggregated in 0.1017 seconds\n",
      "Processing coarse channels 168-175\n"
     ]
    },
    {
     "name": "stderr",
     "output_type": "stream",
     "text": [
      " 49%|████▉     | 24/49 [08:19<08:36, 20.65s/it]"
     ]
    },
    {
     "name": "stdout",
     "output_type": "stream",
     "text": [
      "Data loaded in 1.5256 seconds, processing\n",
      "Bandpass cleaned in 3.3857 seconds.\n",
      "Stamps filtered in 15.9784 seconds\n",
      "Saving results\n",
      "Results aggregated in 0.0674 seconds\n",
      "Processing coarse channels 175-182\n"
     ]
    },
    {
     "name": "stderr",
     "output_type": "stream",
     "text": [
      " 51%|█████     | 25/49 [08:40<08:17, 20.75s/it]"
     ]
    },
    {
     "name": "stdout",
     "output_type": "stream",
     "text": [
      "Data loaded in 1.9942 seconds, processing\n",
      "Bandpass cleaned in 3.8368 seconds.\n",
      "Stamps filtered in 15.5216 seconds\n",
      "Saving results\n",
      "Results aggregated in 0.0680 seconds\n",
      "Processing coarse channels 182-189\n"
     ]
    },
    {
     "name": "stderr",
     "output_type": "stream",
     "text": [
      " 53%|█████▎    | 26/49 [09:01<08:01, 20.95s/it]"
     ]
    },
    {
     "name": "stdout",
     "output_type": "stream",
     "text": [
      "Data loaded in 1.6833 seconds, processing\n",
      "Bandpass cleaned in 3.3837 seconds.\n",
      "Stamps filtered in 15.1004 seconds\n",
      "Saving results\n",
      "Results aggregated in 0.0762 seconds\n",
      "Processing coarse channels 189-196\n"
     ]
    },
    {
     "name": "stderr",
     "output_type": "stream",
     "text": [
      " 55%|█████▌    | 27/49 [09:22<07:36, 20.74s/it]"
     ]
    },
    {
     "name": "stdout",
     "output_type": "stream",
     "text": [
      "Data loaded in 1.9223 seconds, processing\n",
      "Bandpass cleaned in 3.1925 seconds.\n",
      "Stamps filtered in 16.0363 seconds\n",
      "Saving results\n",
      "Results aggregated in 0.0967 seconds\n",
      "Processing coarse channels 196-203\n"
     ]
    },
    {
     "name": "stderr",
     "output_type": "stream",
     "text": [
      " 57%|█████▋    | 28/49 [09:43<07:18, 20.90s/it]"
     ]
    },
    {
     "name": "stdout",
     "output_type": "stream",
     "text": [
      "Data loaded in 1.7500 seconds, processing\n",
      "Bandpass cleaned in 3.4684 seconds.\n",
      "Stamps filtered in 16.0208 seconds\n",
      "Saving results\n",
      "Results aggregated in 0.1020 seconds\n",
      "Processing coarse channels 203-210\n"
     ]
    },
    {
     "name": "stderr",
     "output_type": "stream",
     "text": [
      " 59%|█████▉    | 29/49 [10:04<07:00, 21.03s/it]"
     ]
    },
    {
     "name": "stdout",
     "output_type": "stream",
     "text": [
      "Data loaded in 1.6355 seconds, processing\n",
      "Bandpass cleaned in 3.5561 seconds.\n",
      "Stamps filtered in 15.1181 seconds\n",
      "Saving results\n",
      "Results aggregated in 0.1076 seconds\n",
      "Processing coarse channels 210-217\n"
     ]
    },
    {
     "name": "stderr",
     "output_type": "stream",
     "text": [
      " 61%|██████    | 30/49 [10:25<06:36, 20.85s/it]"
     ]
    },
    {
     "name": "stdout",
     "output_type": "stream",
     "text": [
      "Data loaded in 1.8132 seconds, processing\n",
      "Bandpass cleaned in 3.3516 seconds.\n",
      "Stamps filtered in 15.6039 seconds\n",
      "Saving results\n",
      "Results aggregated in 0.0796 seconds\n",
      "Processing coarse channels 217-224\n"
     ]
    },
    {
     "name": "stderr",
     "output_type": "stream",
     "text": [
      " 63%|██████▎   | 31/49 [10:46<06:15, 20.85s/it]"
     ]
    },
    {
     "name": "stdout",
     "output_type": "stream",
     "text": [
      "Data loaded in 1.5893 seconds, processing\n",
      "Bandpass cleaned in 3.4475 seconds.\n",
      "Stamps filtered in 16.0158 seconds\n",
      "Saving results\n",
      "Results aggregated in 0.0751 seconds\n",
      "Processing coarse channels 224-231\n"
     ]
    },
    {
     "name": "stderr",
     "output_type": "stream",
     "text": [
      " 65%|██████▌   | 32/49 [11:07<05:55, 20.94s/it]"
     ]
    },
    {
     "name": "stdout",
     "output_type": "stream",
     "text": [
      "Data loaded in 1.7088 seconds, processing\n",
      "Bandpass cleaned in 3.1361 seconds.\n",
      "Stamps filtered in 15.7875 seconds\n",
      "Saving results\n",
      "Results aggregated in 0.0833 seconds\n",
      "Processing coarse channels 231-238\n"
     ]
    },
    {
     "name": "stderr",
     "output_type": "stream",
     "text": [
      " 67%|██████▋   | 33/49 [11:27<05:34, 20.88s/it]"
     ]
    },
    {
     "name": "stdout",
     "output_type": "stream",
     "text": [
      "Data loaded in 1.7950 seconds, processing\n",
      "Bandpass cleaned in 3.5715 seconds.\n",
      "Stamps filtered in 14.6426 seconds\n",
      "Saving results\n",
      "Results aggregated in 0.1486 seconds\n",
      "Processing coarse channels 238-245\n"
     ]
    },
    {
     "name": "stderr",
     "output_type": "stream",
     "text": [
      " 69%|██████▉   | 34/49 [11:48<05:09, 20.66s/it]"
     ]
    },
    {
     "name": "stdout",
     "output_type": "stream",
     "text": [
      "Data loaded in 1.6840 seconds, processing\n",
      "Bandpass cleaned in 3.1486 seconds.\n",
      "Stamps filtered in 15.8601 seconds\n",
      "Saving results\n",
      "Results aggregated in 0.1074 seconds\n",
      "Processing coarse channels 245-252\n"
     ]
    },
    {
     "name": "stderr",
     "output_type": "stream",
     "text": [
      " 71%|███████▏  | 35/49 [12:08<04:49, 20.71s/it]"
     ]
    },
    {
     "name": "stdout",
     "output_type": "stream",
     "text": [
      "Data loaded in 2.0559 seconds, processing\n",
      "Bandpass cleaned in 3.3067 seconds.\n",
      "Stamps filtered in 15.7327 seconds\n",
      "Saving results\n",
      "Results aggregated in 0.0799 seconds\n",
      "Processing coarse channels 252-259\n"
     ]
    },
    {
     "name": "stderr",
     "output_type": "stream",
     "text": [
      " 73%|███████▎  | 36/49 [12:30<04:31, 20.85s/it]"
     ]
    },
    {
     "name": "stdout",
     "output_type": "stream",
     "text": [
      "Data loaded in 2.0360 seconds, processing\n",
      "Bandpass cleaned in 3.2390 seconds.\n",
      "Stamps filtered in 14.8750 seconds\n",
      "Saving results\n",
      "Results aggregated in 0.0844 seconds\n",
      "Processing coarse channels 259-266\n"
     ]
    },
    {
     "name": "stderr",
     "output_type": "stream",
     "text": [
      " 76%|███████▌  | 37/49 [12:50<04:08, 20.67s/it]"
     ]
    },
    {
     "name": "stdout",
     "output_type": "stream",
     "text": [
      "Data loaded in 1.6647 seconds, processing\n",
      "Bandpass cleaned in 3.5219 seconds.\n",
      "Stamps filtered in 15.6169 seconds\n",
      "Saving results\n",
      "Results aggregated in 0.0838 seconds\n",
      "Processing coarse channels 266-273\n"
     ]
    },
    {
     "name": "stderr",
     "output_type": "stream",
     "text": [
      " 78%|███████▊  | 38/49 [13:11<03:48, 20.74s/it]"
     ]
    },
    {
     "name": "stdout",
     "output_type": "stream",
     "text": [
      "Data loaded in 2.0297 seconds, processing\n",
      "Bandpass cleaned in 3.3667 seconds.\n",
      "Stamps filtered in 14.8696 seconds\n",
      "Saving results\n",
      "Results aggregated in 0.0743 seconds\n",
      "Processing coarse channels 273-280\n"
     ]
    },
    {
     "name": "stderr",
     "output_type": "stream",
     "text": [
      " 80%|███████▉  | 39/49 [13:31<03:26, 20.62s/it]"
     ]
    },
    {
     "name": "stdout",
     "output_type": "stream",
     "text": [
      "Data loaded in 1.7119 seconds, processing\n",
      "Bandpass cleaned in 3.1152 seconds.\n",
      "Stamps filtered in 15.8345 seconds\n",
      "Saving results\n",
      "Results aggregated in 0.0741 seconds\n",
      "Processing coarse channels 280-287\n"
     ]
    },
    {
     "name": "stderr",
     "output_type": "stream",
     "text": [
      " 82%|████████▏ | 40/49 [13:52<03:05, 20.66s/it]"
     ]
    },
    {
     "name": "stdout",
     "output_type": "stream",
     "text": [
      "Data loaded in 1.7096 seconds, processing\n",
      "Bandpass cleaned in 3.2442 seconds.\n",
      "Stamps filtered in 15.7095 seconds\n",
      "Saving results\n",
      "Results aggregated in 0.0791 seconds\n",
      "Processing coarse channels 287-294\n"
     ]
    },
    {
     "name": "stderr",
     "output_type": "stream",
     "text": [
      " 84%|████████▎ | 41/49 [14:13<02:45, 20.69s/it]"
     ]
    },
    {
     "name": "stdout",
     "output_type": "stream",
     "text": [
      "Data loaded in 1.6126 seconds, processing\n",
      "Bandpass cleaned in 3.3080 seconds.\n",
      "Stamps filtered in 15.6368 seconds\n",
      "Saving results\n",
      "Results aggregated in 0.0770 seconds\n",
      "Processing coarse channels 294-301\n"
     ]
    },
    {
     "name": "stderr",
     "output_type": "stream",
     "text": [
      " 86%|████████▌ | 42/49 [14:33<02:24, 20.68s/it]"
     ]
    },
    {
     "name": "stdout",
     "output_type": "stream",
     "text": [
      "Data loaded in 1.6374 seconds, processing\n",
      "Bandpass cleaned in 3.1732 seconds.\n",
      "Stamps filtered in 15.7899 seconds\n",
      "Saving results\n"
     ]
    },
    {
     "name": "stderr",
     "output_type": "stream",
     "text": [
      " 88%|████████▊ | 43/49 [14:55<02:05, 20.84s/it]"
     ]
    },
    {
     "name": "stdout",
     "output_type": "stream",
     "text": [
      "Results aggregated in 0.6171 seconds\n",
      "Processing coarse channels 301-308\n",
      "Data loaded in 1.6939 seconds, processing\n",
      "Bandpass cleaned in 3.3423 seconds.\n",
      "Stamps filtered in 15.8156 seconds\n",
      "Saving results\n",
      "Results aggregated in 0.1586 seconds\n",
      "Processing coarse channels 308-315\n"
     ]
    },
    {
     "name": "stderr",
     "output_type": "stream",
     "text": [
      " 90%|████████▉ | 44/49 [15:16<01:44, 20.90s/it]"
     ]
    },
    {
     "name": "stdout",
     "output_type": "stream",
     "text": [
      "Data loaded in 1.7231 seconds, processing\n",
      "Bandpass cleaned in 3.1922 seconds.\n",
      "Stamps filtered in 16.1738 seconds\n",
      "Saving results\n",
      "Results aggregated in 0.0834 seconds\n",
      "Processing coarse channels 315-322\n"
     ]
    },
    {
     "name": "stderr",
     "output_type": "stream",
     "text": [
      " 92%|█████████▏| 45/49 [15:37<01:23, 20.98s/it]"
     ]
    },
    {
     "name": "stdout",
     "output_type": "stream",
     "text": [
      "Data loaded in 1.6049 seconds, processing\n",
      "Bandpass cleaned in 3.2680 seconds.\n",
      "Stamps filtered in 15.4729 seconds\n",
      "Saving results\n",
      "Results aggregated in 0.1027 seconds\n",
      "Processing coarse channels 322-329\n"
     ]
    },
    {
     "name": "stderr",
     "output_type": "stream",
     "text": [
      " 94%|█████████▍| 46/49 [15:57<01:02, 20.83s/it]"
     ]
    },
    {
     "name": "stdout",
     "output_type": "stream",
     "text": [
      "Data loaded in 1.8422 seconds, processing\n",
      "Bandpass cleaned in 3.2499 seconds.\n",
      "Stamps filtered in 15.9888 seconds\n",
      "Saving results\n",
      "Results aggregated in 0.0953 seconds\n",
      "Processing coarse channels 329-336\n"
     ]
    },
    {
     "name": "stderr",
     "output_type": "stream",
     "text": [
      " 96%|█████████▌| 47/49 [16:18<00:41, 20.93s/it]"
     ]
    },
    {
     "name": "stdout",
     "output_type": "stream",
     "text": [
      "Data loaded in 1.8730 seconds, processing\n",
      "Bandpass cleaned in 3.3462 seconds.\n",
      "Stamps filtered in 15.4440 seconds\n",
      "Saving results\n",
      "Results aggregated in 0.0906 seconds\n",
      "Processing coarse channels 336-343\n"
     ]
    },
    {
     "name": "stderr",
     "output_type": "stream",
     "text": [
      " 98%|█████████▊| 48/49 [16:39<00:20, 20.88s/it]"
     ]
    },
    {
     "name": "stdout",
     "output_type": "stream",
     "text": [
      "Data loaded in 1.7061 seconds, processing\n",
      "Bandpass cleaned in 3.2555 seconds.\n",
      "Stamps filtered in 15.5805 seconds\n",
      "Saving results\n"
     ]
    },
    {
     "name": "stderr",
     "output_type": "stream",
     "text": [
      "100%|██████████| 49/49 [17:00<00:00, 20.82s/it]\n"
     ]
    },
    {
     "name": "stdout",
     "output_type": "stream",
     "text": [
      "Results aggregated in 0.0953 seconds\n",
      "     level_0      index     statistic  pvalue        freqs\n",
      "476      476  206260480  13100.147787     0.0  2226.546907\n",
      "477      477  206260608  13076.952258     0.0  2226.546550\n",
      "481      481  206265472  12748.253074     0.0  2226.532960\n",
      "482      482  206265600  12716.867346     0.0  2226.532602\n",
      "343 343\n",
      "Finished Energy Detection on GBT_57684_59542_HIP62781_fine.h5 in 1023.6246 seconds\n",
      "AND_XI-2274\n",
      "/mnt_blpd13/datax/dl/GBT_58385_23147_AND_XI_fine.h5\n"
     ]
    },
    {
     "name": "stderr",
     "output_type": "stream",
     "text": [
      "Traceback (most recent call last):\n",
      "  File \"/mnt_home/pma/projects/Reverse_Radio_Search/data_generator/energy_detection.py\", line 38, in <module>\n",
      "    header = read_header(input_file)\n",
      "  File \"/mnt_home/pma/projects/Reverse_Radio_Search/data_generator/utils.py\", line 8, in read_header\n",
      "    h5_file = h5py.File(filename, \"r\")\n",
      "  File \"/home/pma/.conda/envs/ml_jax/lib/python3.10/site-packages/h5py/_hl/files.py\", line 533, in __init__\n",
      "    fid = make_fid(name, mode, userblock_size, fapl, fcpl, swmr=swmr)\n",
      "  File \"/home/pma/.conda/envs/ml_jax/lib/python3.10/site-packages/h5py/_hl/files.py\", line 226, in make_fid\n",
      "    fid = h5f.open(name, flags, fapl=fapl)\n",
      "  File \"h5py/_objects.pyx\", line 54, in h5py._objects.with_phil.wrapper\n",
      "  File \"h5py/_objects.pyx\", line 55, in h5py._objects.with_phil.wrapper\n",
      "  File \"h5py/h5f.pyx\", line 106, in h5py.h5f.open\n",
      "FileNotFoundError: [Errno 2] Unable to open file (unable to open file: name = '/mnt_blpd13/datax/dl/GBT_58385_23147_AND_XI_fine.h5', errno = 2, error message = 'No such file or directory', flags = 0, o_flags = 0)\n"
     ]
    },
    {
     "name": "stdout",
     "output_type": "stream",
     "text": [
      "/mnt_blpd13/datax/dl/GBT_58385_23516_HIP3046_fine.h5\n"
     ]
    },
    {
     "name": "stderr",
     "output_type": "stream",
     "text": [
      "Traceback (most recent call last):\n",
      "  File \"/mnt_home/pma/projects/Reverse_Radio_Search/data_generator/energy_detection.py\", line 38, in <module>\n",
      "    header = read_header(input_file)\n",
      "  File \"/mnt_home/pma/projects/Reverse_Radio_Search/data_generator/utils.py\", line 8, in read_header\n",
      "    h5_file = h5py.File(filename, \"r\")\n",
      "  File \"/home/pma/.conda/envs/ml_jax/lib/python3.10/site-packages/h5py/_hl/files.py\", line 533, in __init__\n",
      "    fid = make_fid(name, mode, userblock_size, fapl, fcpl, swmr=swmr)\n",
      "  File \"/home/pma/.conda/envs/ml_jax/lib/python3.10/site-packages/h5py/_hl/files.py\", line 226, in make_fid\n",
      "    fid = h5f.open(name, flags, fapl=fapl)\n",
      "  File \"h5py/_objects.pyx\", line 54, in h5py._objects.with_phil.wrapper\n",
      "  File \"h5py/_objects.pyx\", line 55, in h5py._objects.with_phil.wrapper\n",
      "  File \"h5py/h5f.pyx\", line 106, in h5py.h5f.open\n",
      "FileNotFoundError: [Errno 2] Unable to open file (unable to open file: name = '/mnt_blpd13/datax/dl/GBT_58385_23516_HIP3046_fine.h5', errno = 2, error message = 'No such file or directory', flags = 0, o_flags = 0)\n"
     ]
    },
    {
     "name": "stdout",
     "output_type": "stream",
     "text": [
      "/mnt_blpd13/datax/dl/GBT_58385_23881_AND_XI_fine.h5\n"
     ]
    },
    {
     "name": "stderr",
     "output_type": "stream",
     "text": [
      "Traceback (most recent call last):\n",
      "  File \"/mnt_home/pma/projects/Reverse_Radio_Search/data_generator/energy_detection.py\", line 38, in <module>\n",
      "    header = read_header(input_file)\n",
      "  File \"/mnt_home/pma/projects/Reverse_Radio_Search/data_generator/utils.py\", line 8, in read_header\n",
      "    h5_file = h5py.File(filename, \"r\")\n",
      "  File \"/home/pma/.conda/envs/ml_jax/lib/python3.10/site-packages/h5py/_hl/files.py\", line 533, in __init__\n",
      "    fid = make_fid(name, mode, userblock_size, fapl, fcpl, swmr=swmr)\n",
      "  File \"/home/pma/.conda/envs/ml_jax/lib/python3.10/site-packages/h5py/_hl/files.py\", line 226, in make_fid\n",
      "    fid = h5f.open(name, flags, fapl=fapl)\n",
      "  File \"h5py/_objects.pyx\", line 54, in h5py._objects.with_phil.wrapper\n",
      "  File \"h5py/_objects.pyx\", line 55, in h5py._objects.with_phil.wrapper\n",
      "  File \"h5py/h5f.pyx\", line 106, in h5py.h5f.open\n",
      "FileNotFoundError: [Errno 2] Unable to open file (unable to open file: name = '/mnt_blpd13/datax/dl/GBT_58385_23881_AND_XI_fine.h5', errno = 2, error message = 'No such file or directory', flags = 0, o_flags = 0)\n"
     ]
    },
    {
     "name": "stdout",
     "output_type": "stream",
     "text": [
      "/mnt_blpd13/datax/dl/GBT_58385_24244_HIP3109_fine.h5\n"
     ]
    },
    {
     "name": "stderr",
     "output_type": "stream",
     "text": [
      "Traceback (most recent call last):\n",
      "  File \"/mnt_home/pma/projects/Reverse_Radio_Search/data_generator/energy_detection.py\", line 38, in <module>\n",
      "    header = read_header(input_file)\n",
      "  File \"/mnt_home/pma/projects/Reverse_Radio_Search/data_generator/utils.py\", line 8, in read_header\n",
      "    h5_file = h5py.File(filename, \"r\")\n",
      "  File \"/home/pma/.conda/envs/ml_jax/lib/python3.10/site-packages/h5py/_hl/files.py\", line 533, in __init__\n",
      "    fid = make_fid(name, mode, userblock_size, fapl, fcpl, swmr=swmr)\n",
      "  File \"/home/pma/.conda/envs/ml_jax/lib/python3.10/site-packages/h5py/_hl/files.py\", line 226, in make_fid\n",
      "    fid = h5f.open(name, flags, fapl=fapl)\n",
      "  File \"h5py/_objects.pyx\", line 54, in h5py._objects.with_phil.wrapper\n",
      "  File \"h5py/_objects.pyx\", line 55, in h5py._objects.with_phil.wrapper\n",
      "  File \"h5py/h5f.pyx\", line 106, in h5py.h5f.open\n",
      "FileNotFoundError: [Errno 2] Unable to open file (unable to open file: name = '/mnt_blpd13/datax/dl/GBT_58385_24244_HIP3109_fine.h5', errno = 2, error message = 'No such file or directory', flags = 0, o_flags = 0)\n"
     ]
    },
    {
     "name": "stdout",
     "output_type": "stream",
     "text": [
      "/mnt_blpd13/datax/dl/GBT_58385_24604_AND_XI_fine.h5\n"
     ]
    },
    {
     "name": "stderr",
     "output_type": "stream",
     "text": [
      "Traceback (most recent call last):\n",
      "  File \"/mnt_home/pma/projects/Reverse_Radio_Search/data_generator/energy_detection.py\", line 38, in <module>\n",
      "    header = read_header(input_file)\n",
      "  File \"/mnt_home/pma/projects/Reverse_Radio_Search/data_generator/utils.py\", line 8, in read_header\n",
      "    h5_file = h5py.File(filename, \"r\")\n",
      "  File \"/home/pma/.conda/envs/ml_jax/lib/python3.10/site-packages/h5py/_hl/files.py\", line 533, in __init__\n",
      "    fid = make_fid(name, mode, userblock_size, fapl, fcpl, swmr=swmr)\n",
      "  File \"/home/pma/.conda/envs/ml_jax/lib/python3.10/site-packages/h5py/_hl/files.py\", line 226, in make_fid\n",
      "    fid = h5f.open(name, flags, fapl=fapl)\n",
      "  File \"h5py/_objects.pyx\", line 54, in h5py._objects.with_phil.wrapper\n",
      "  File \"h5py/_objects.pyx\", line 55, in h5py._objects.with_phil.wrapper\n",
      "  File \"h5py/h5f.pyx\", line 106, in h5py.h5f.open\n",
      "FileNotFoundError: [Errno 2] Unable to open file (unable to open file: name = '/mnt_blpd13/datax/dl/GBT_58385_24604_AND_XI_fine.h5', errno = 2, error message = 'No such file or directory', flags = 0, o_flags = 0)\n"
     ]
    },
    {
     "name": "stdout",
     "output_type": "stream",
     "text": [
      "/mnt_blpd13/datax/dl/GBT_58385_24959_HIP3176_fine.h5\n"
     ]
    },
    {
     "name": "stderr",
     "output_type": "stream",
     "text": [
      "Traceback (most recent call last):\n",
      "  File \"/mnt_home/pma/projects/Reverse_Radio_Search/data_generator/energy_detection.py\", line 38, in <module>\n",
      "    header = read_header(input_file)\n",
      "  File \"/mnt_home/pma/projects/Reverse_Radio_Search/data_generator/utils.py\", line 8, in read_header\n",
      "    h5_file = h5py.File(filename, \"r\")\n",
      "  File \"/home/pma/.conda/envs/ml_jax/lib/python3.10/site-packages/h5py/_hl/files.py\", line 533, in __init__\n",
      "    fid = make_fid(name, mode, userblock_size, fapl, fcpl, swmr=swmr)\n",
      "  File \"/home/pma/.conda/envs/ml_jax/lib/python3.10/site-packages/h5py/_hl/files.py\", line 226, in make_fid\n",
      "    fid = h5f.open(name, flags, fapl=fapl)\n",
      "  File \"h5py/_objects.pyx\", line 54, in h5py._objects.with_phil.wrapper\n",
      "  File \"h5py/_objects.pyx\", line 55, in h5py._objects.with_phil.wrapper\n",
      "  File \"h5py/h5f.pyx\", line 106, in h5py.h5f.open\n",
      "FileNotFoundError: [Errno 2] Unable to open file (unable to open file: name = '/mnt_blpd13/datax/dl/GBT_58385_24959_HIP3176_fine.h5', errno = 2, error message = 'No such file or directory', flags = 0, o_flags = 0)\n"
     ]
    },
    {
     "name": "stdout",
     "output_type": "stream",
     "text": [
      "HIP36393-1253\n",
      "/mnt_blpd7/datax2/dl/GBT_57677_40760_HIP36393_fine.h5\n",
      "Header saved to ../../../../../../datax/scratch/pma/reverse_search/train/HIP36393-1253/GBT_57677_40760_HIP36393_fine/header.pkl\n",
      "Processing 28 in parallel\n",
      "Processing coarse channels 0-28\n"
     ]
    },
    {
     "name": "stderr",
     "output_type": "stream",
     "text": [
      "  0%|          | 0/11 [00:00<?, ?it/s]"
     ]
    },
    {
     "name": "stdout",
     "output_type": "stream",
     "text": [
      "Data loaded in 12.2251 seconds, processing\n",
      "Bandpass cleaned in 14.1558 seconds.\n",
      "Stamps filtered in 22.9391 seconds\n",
      "Saving results\n"
     ]
    },
    {
     "name": "stderr",
     "output_type": "stream",
     "text": [
      "  9%|▉         | 1/11 [00:49<08:17, 49.74s/it]"
     ]
    },
    {
     "name": "stdout",
     "output_type": "stream",
     "text": [
      "Results aggregated in 0.3912 seconds\n",
      "Processing coarse channels 28-56\n",
      "Data loaded in 8.6814 seconds, processing\n",
      "Bandpass cleaned in 13.5973 seconds.\n",
      "Stamps filtered in 23.7776 seconds\n",
      "Saving results\n"
     ]
    },
    {
     "name": "stderr",
     "output_type": "stream",
     "text": [
      " 18%|█▊        | 2/11 [01:36<07:09, 47.77s/it]"
     ]
    },
    {
     "name": "stdout",
     "output_type": "stream",
     "text": [
      "Results aggregated in 0.3113 seconds\n",
      "Processing coarse channels 56-84\n",
      "Data loaded in 7.8033 seconds, processing\n",
      "Bandpass cleaned in 12.3873 seconds.\n",
      "Stamps filtered in 23.2975 seconds\n",
      "Saving results\n"
     ]
    },
    {
     "name": "stderr",
     "output_type": "stream",
     "text": [
      " 27%|██▋       | 3/11 [02:19<06:07, 45.96s/it]"
     ]
    },
    {
     "name": "stdout",
     "output_type": "stream",
     "text": [
      "Results aggregated in 0.3086 seconds\n",
      "Processing coarse channels 84-112\n",
      "Data loaded in 6.3874 seconds, processing\n",
      "Bandpass cleaned in 12.5735 seconds.\n",
      "Stamps filtered in 23.5984 seconds\n",
      "Saving results\n"
     ]
    },
    {
     "name": "stderr",
     "output_type": "stream",
     "text": [
      " 36%|███▋      | 4/11 [03:03<05:14, 44.99s/it]"
     ]
    },
    {
     "name": "stdout",
     "output_type": "stream",
     "text": [
      "Results aggregated in 0.9149 seconds\n",
      "Processing coarse channels 112-140\n",
      "Data loaded in 6.6339 seconds, processing\n",
      "Bandpass cleaned in 12.6338 seconds.\n",
      "Stamps filtered in 23.6263 seconds\n",
      "Saving results\n"
     ]
    },
    {
     "name": "stderr",
     "output_type": "stream",
     "text": [
      " 45%|████▌     | 5/11 [03:47<04:28, 44.75s/it]"
     ]
    },
    {
     "name": "stdout",
     "output_type": "stream",
     "text": [
      "Results aggregated in 1.4052 seconds\n",
      "Processing coarse channels 140-168\n",
      "Data loaded in 6.7094 seconds, processing\n",
      "Bandpass cleaned in 12.9082 seconds.\n",
      "Stamps filtered in 24.4491 seconds\n",
      "Saving results\n"
     ]
    },
    {
     "name": "stderr",
     "output_type": "stream",
     "text": [
      " 55%|█████▍    | 6/11 [04:32<03:43, 44.71s/it]"
     ]
    },
    {
     "name": "stdout",
     "output_type": "stream",
     "text": [
      "Results aggregated in 0.5490 seconds\n",
      "Processing coarse channels 168-196\n",
      "Data loaded in 7.5691 seconds, processing\n",
      "Bandpass cleaned in 14.2225 seconds.\n",
      "Stamps filtered in 24.2403 seconds\n",
      "Saving results\n"
     ]
    },
    {
     "name": "stderr",
     "output_type": "stream",
     "text": [
      " 64%|██████▎   | 7/11 [05:18<03:01, 45.28s/it]"
     ]
    },
    {
     "name": "stdout",
     "output_type": "stream",
     "text": [
      "Results aggregated in 0.3869 seconds\n",
      "Processing coarse channels 196-224\n",
      "Data loaded in 7.1738 seconds, processing\n",
      "Bandpass cleaned in 13.5556 seconds.\n",
      "Stamps filtered in 23.6433 seconds\n",
      "Saving results\n"
     ]
    },
    {
     "name": "stderr",
     "output_type": "stream",
     "text": [
      " 73%|███████▎  | 8/11 [06:03<02:15, 45.14s/it]"
     ]
    },
    {
     "name": "stdout",
     "output_type": "stream",
     "text": [
      "Results aggregated in 0.4476 seconds\n",
      "Processing coarse channels 224-252\n",
      "Data loaded in 7.2818 seconds, processing\n",
      "Bandpass cleaned in 12.8534 seconds.\n",
      "Stamps filtered in 23.2602 seconds\n",
      "Saving results\n"
     ]
    },
    {
     "name": "stderr",
     "output_type": "stream",
     "text": [
      " 82%|████████▏ | 9/11 [06:47<01:29, 44.73s/it]"
     ]
    },
    {
     "name": "stdout",
     "output_type": "stream",
     "text": [
      "Results aggregated in 0.4004 seconds\n",
      "Processing coarse channels 252-280\n",
      "Data loaded in 7.5094 seconds, processing\n",
      "Bandpass cleaned in 12.7938 seconds.\n",
      "Stamps filtered in 23.9114 seconds\n",
      "Saving results\n"
     ]
    },
    {
     "name": "stderr",
     "output_type": "stream",
     "text": [
      " 91%|█████████ | 10/11 [07:32<00:44, 44.70s/it]"
     ]
    },
    {
     "name": "stdout",
     "output_type": "stream",
     "text": [
      "Results aggregated in 0.4175 seconds\n",
      "Processing coarse channels 280-308\n",
      "Data loaded in 7.3972 seconds, processing\n",
      "Bandpass cleaned in 12.3453 seconds.\n",
      "Stamps filtered in 24.0129 seconds\n",
      "Saving results\n"
     ]
    },
    {
     "name": "stderr",
     "output_type": "stream",
     "text": [
      "100%|██████████| 11/11 [08:16<00:00, 45.12s/it]\n"
     ]
    },
    {
     "name": "stdout",
     "output_type": "stream",
     "text": [
      "Results aggregated in 0.3874 seconds\n",
      "       level_0      index     statistic  pvalue        freqs\n",
      "17599    17599  264416256   9632.937985     0.0  1187.499046\n",
      "17602    17602  264416640   9073.455580     0.0  1187.497973\n",
      "17441    17441  243948032   8476.299923     0.0  1244.686604\n",
      "17531    17531  253724416   8207.524942     0.0  1217.371702\n",
      "14188    14188  139002368  10801.654418     0.0  1537.901402\n",
      "11690    11690  134593408   9280.458025     0.0  1550.219893\n",
      "14625    14625  139929216   9245.083498     0.0  1535.311818\n",
      "12960    12960  135791104   9162.341044     0.0  1546.873569\n",
      "781        781   80984704   7770.411789     0.0  1700.000882\n",
      "772        772   45193344   7070.676286     0.0  1800.000787\n",
      "765        765    9402240   6610.355254     0.0  1899.999976\n",
      "763        763    9401984   6247.745983     0.0  1900.000691\n",
      "308 308\n",
      "Finished Energy Detection on GBT_57677_40760_HIP36393_fine.h5 in 499.9573 seconds\n",
      "/mnt_blpd7/datax2/dl/GBT_57677_41142_HIP35193_fine.h5\n",
      "Header saved to ../../../../../../datax/scratch/pma/reverse_search/train/HIP36393-1253/GBT_57677_41142_HIP35193_fine/header.pkl\n",
      "Processing 28 in parallel\n",
      "Processing coarse channels 0-28\n"
     ]
    },
    {
     "name": "stderr",
     "output_type": "stream",
     "text": [
      "  0%|          | 0/11 [00:00<?, ?it/s]"
     ]
    },
    {
     "name": "stdout",
     "output_type": "stream",
     "text": [
      "Data loaded in 9.6838 seconds, processing\n",
      "Bandpass cleaned in 13.3188 seconds.\n",
      "Stamps filtered in 23.3096 seconds\n",
      "Saving results\n"
     ]
    },
    {
     "name": "stderr",
     "output_type": "stream",
     "text": [
      "  9%|▉         | 1/11 [00:46<07:48, 46.85s/it]"
     ]
    },
    {
     "name": "stdout",
     "output_type": "stream",
     "text": [
      "Results aggregated in 0.5199 seconds\n",
      "Processing coarse channels 28-56\n",
      "Data loaded in 8.0296 seconds, processing\n",
      "Bandpass cleaned in 12.3821 seconds.\n",
      "Stamps filtered in 23.8994 seconds\n",
      "Saving results\n"
     ]
    },
    {
     "name": "stderr",
     "output_type": "stream",
     "text": [
      " 18%|█▊        | 2/11 [01:31<06:50, 45.56s/it]"
     ]
    },
    {
     "name": "stdout",
     "output_type": "stream",
     "text": [
      "Results aggregated in 0.3295 seconds\n",
      "Processing coarse channels 56-84\n",
      "Data loaded in 6.5460 seconds, processing\n",
      "Bandpass cleaned in 12.2908 seconds.\n",
      "Stamps filtered in 23.3381 seconds\n",
      "Saving results\n"
     ]
    },
    {
     "name": "stderr",
     "output_type": "stream",
     "text": [
      " 27%|██▋       | 3/11 [02:14<05:53, 44.16s/it]"
     ]
    },
    {
     "name": "stdout",
     "output_type": "stream",
     "text": [
      "Results aggregated in 0.2965 seconds\n",
      "Processing coarse channels 84-112\n",
      "Data loaded in 6.6229 seconds, processing\n",
      "Bandpass cleaned in 12.5197 seconds.\n",
      "Stamps filtered in 21.5254 seconds\n",
      "Saving results\n"
     ]
    },
    {
     "name": "stderr",
     "output_type": "stream",
     "text": [
      " 36%|███▋      | 4/11 [02:55<05:02, 43.15s/it]"
     ]
    },
    {
     "name": "stdout",
     "output_type": "stream",
     "text": [
      "Results aggregated in 0.8999 seconds\n",
      "Processing coarse channels 112-140\n",
      "Data loaded in 7.0964 seconds, processing\n",
      "Bandpass cleaned in 12.9735 seconds.\n",
      "Stamps filtered in 22.6287 seconds\n",
      "Saving results\n"
     ]
    },
    {
     "name": "stderr",
     "output_type": "stream",
     "text": [
      " 45%|████▌     | 5/11 [03:39<04:21, 43.53s/it]"
     ]
    },
    {
     "name": "stdout",
     "output_type": "stream",
     "text": [
      "Results aggregated in 1.4855 seconds\n",
      "Processing coarse channels 140-168\n",
      "Data loaded in 7.1219 seconds, processing\n",
      "Bandpass cleaned in 12.2993 seconds.\n",
      "Stamps filtered in 22.3475 seconds\n",
      "Saving results\n"
     ]
    },
    {
     "name": "stderr",
     "output_type": "stream",
     "text": [
      " 55%|█████▍    | 6/11 [04:22<03:35, 43.12s/it]"
     ]
    },
    {
     "name": "stdout",
     "output_type": "stream",
     "text": [
      "Results aggregated in 0.5240 seconds\n",
      "Processing coarse channels 168-196\n",
      "Data loaded in 6.8241 seconds, processing\n",
      "Bandpass cleaned in 12.3207 seconds.\n",
      "Stamps filtered in 21.9145 seconds\n",
      "Saving results\n"
     ]
    },
    {
     "name": "stderr",
     "output_type": "stream",
     "text": [
      " 64%|██████▎   | 7/11 [05:03<02:50, 42.58s/it]"
     ]
    },
    {
     "name": "stdout",
     "output_type": "stream",
     "text": [
      "Results aggregated in 0.3767 seconds\n",
      "Processing coarse channels 196-224\n",
      "Data loaded in 7.1185 seconds, processing\n",
      "Bandpass cleaned in 12.0392 seconds.\n",
      "Stamps filtered in 22.1322 seconds\n",
      "Saving results\n"
     ]
    },
    {
     "name": "stderr",
     "output_type": "stream",
     "text": [
      " 73%|███████▎  | 8/11 [05:45<02:06, 42.29s/it]"
     ]
    },
    {
     "name": "stdout",
     "output_type": "stream",
     "text": [
      "Results aggregated in 0.3619 seconds\n",
      "Processing coarse channels 224-252\n",
      "Data loaded in 7.4159 seconds, processing\n",
      "Bandpass cleaned in 13.3276 seconds.\n",
      "Stamps filtered in 23.1605 seconds\n",
      "Saving results\n"
     ]
    },
    {
     "name": "stderr",
     "output_type": "stream",
     "text": [
      " 82%|████████▏ | 9/11 [06:29<01:25, 42.93s/it]"
     ]
    },
    {
     "name": "stdout",
     "output_type": "stream",
     "text": [
      "Results aggregated in 0.4094 seconds\n",
      "Processing coarse channels 252-280\n",
      "Data loaded in 7.1669 seconds, processing\n",
      "Bandpass cleaned in 12.0879 seconds.\n",
      "Stamps filtered in 23.4136 seconds\n",
      "Saving results\n"
     ]
    },
    {
     "name": "stderr",
     "output_type": "stream",
     "text": [
      " 91%|█████████ | 10/11 [07:12<00:42, 42.97s/it]"
     ]
    },
    {
     "name": "stdout",
     "output_type": "stream",
     "text": [
      "Results aggregated in 0.3636 seconds\n",
      "Processing coarse channels 280-308\n",
      "Data loaded in 7.8480 seconds, processing\n",
      "Bandpass cleaned in 12.3923 seconds.\n",
      "Stamps filtered in 22.8606 seconds\n",
      "Saving results\n"
     ]
    },
    {
     "name": "stderr",
     "output_type": "stream",
     "text": [
      "100%|██████████| 11/11 [07:56<00:00, 43.28s/it]\n"
     ]
    },
    {
     "name": "stdout",
     "output_type": "stream",
     "text": [
      "Results aggregated in 0.3528 seconds\n",
      "       level_0      index     statistic  pvalue        freqs\n",
      "19010    19010  264416256   9315.210460     0.0  1187.499046\n",
      "18870    18870  225510400   8046.478417     0.0  1296.200752\n",
      "18973    18973  259940736   7794.266399     0.0  1200.003505\n",
      "19013    19013  264416640   7768.624944     0.0  1187.497973\n",
      "13521    13521  133490688  10847.488502     0.0  1553.300858\n",
      "12239    12239  132405120  10654.478697     0.0  1556.333899\n",
      "16015    16015  139002368  10449.139553     0.0  1537.901402\n",
      "13533    13533  133496064  10374.013003     0.0  1553.285837\n",
      "1683      1683   80984704   7834.032426     0.0  1700.000882\n",
      "1674      1674   45193728   7793.117111     0.0  1799.999714\n",
      "1671      1671   45193344   6918.419117     0.0  1800.000787\n",
      "1664      1664    9402240   6287.831210     0.0  1899.999976\n",
      "308 308\n",
      "Finished Energy Detection on GBT_57677_41142_HIP35193_fine.h5 in 479.5785 seconds\n",
      "/mnt_blpd7/datax2/dl/GBT_57677_41523_HIP36393_fine.h5\n",
      "Header saved to ../../../../../../datax/scratch/pma/reverse_search/train/HIP36393-1253/GBT_57677_41523_HIP36393_fine/header.pkl\n",
      "Processing 28 in parallel\n",
      "Processing coarse channels 0-28\n"
     ]
    },
    {
     "name": "stderr",
     "output_type": "stream",
     "text": [
      "  0%|          | 0/11 [00:00<?, ?it/s]"
     ]
    },
    {
     "name": "stdout",
     "output_type": "stream",
     "text": [
      "Data loaded in 8.6433 seconds, processing\n",
      "Bandpass cleaned in 13.2406 seconds.\n",
      "Stamps filtered in 25.0040 seconds\n",
      "Saving results\n"
     ]
    },
    {
     "name": "stderr",
     "output_type": "stream",
     "text": [
      "  9%|▉         | 1/11 [00:47<07:53, 47.32s/it]"
     ]
    },
    {
     "name": "stdout",
     "output_type": "stream",
     "text": [
      "Results aggregated in 0.4053 seconds\n",
      "Processing coarse channels 28-56\n",
      "Data loaded in 7.7718 seconds, processing\n",
      "Bandpass cleaned in 12.2492 seconds.\n",
      "Stamps filtered in 24.4718 seconds\n",
      "Saving results\n"
     ]
    },
    {
     "name": "stderr",
     "output_type": "stream",
     "text": [
      " 18%|█▊        | 2/11 [01:32<06:52, 45.84s/it]"
     ]
    },
    {
     "name": "stdout",
     "output_type": "stream",
     "text": [
      "Results aggregated in 0.2907 seconds\n",
      "Processing coarse channels 56-84\n",
      "Data loaded in 6.8784 seconds, processing\n",
      "Bandpass cleaned in 12.7361 seconds.\n",
      "Stamps filtered in 24.2795 seconds\n",
      "Saving results\n"
     ]
    },
    {
     "name": "stderr",
     "output_type": "stream",
     "text": [
      " 27%|██▋       | 3/11 [02:16<06:00, 45.11s/it]"
     ]
    },
    {
     "name": "stdout",
     "output_type": "stream",
     "text": [
      "Results aggregated in 0.3183 seconds\n",
      "Processing coarse channels 84-112\n",
      "Data loaded in 6.9173 seconds, processing\n",
      "Bandpass cleaned in 12.0467 seconds.\n",
      "Stamps filtered in 24.8025 seconds\n",
      "Saving results\n"
     ]
    },
    {
     "name": "stderr",
     "output_type": "stream",
     "text": [
      " 36%|███▋      | 4/11 [03:01<05:14, 44.97s/it]"
     ]
    },
    {
     "name": "stdout",
     "output_type": "stream",
     "text": [
      "Results aggregated in 0.9573 seconds\n",
      "Processing coarse channels 112-140\n",
      "Data loaded in 7.1576 seconds, processing\n",
      "Bandpass cleaned in 13.8035 seconds.\n",
      "Stamps filtered in 23.1522 seconds\n",
      "Saving results\n"
     ]
    },
    {
     "name": "stderr",
     "output_type": "stream",
     "text": [
      " 45%|████▌     | 5/11 [03:46<04:31, 45.18s/it]"
     ]
    },
    {
     "name": "stdout",
     "output_type": "stream",
     "text": [
      "Results aggregated in 1.4034 seconds\n",
      "Processing coarse channels 140-168\n",
      "Data loaded in 6.6940 seconds, processing\n",
      "Bandpass cleaned in 12.7851 seconds.\n",
      "Stamps filtered in 23.0833 seconds\n",
      "Saving results\n"
     ]
    },
    {
     "name": "stderr",
     "output_type": "stream",
     "text": [
      " 55%|█████▍    | 6/11 [04:29<03:42, 44.48s/it]"
     ]
    },
    {
     "name": "stdout",
     "output_type": "stream",
     "text": [
      "Results aggregated in 0.5428 seconds\n",
      "Processing coarse channels 168-196\n",
      "Data loaded in 6.4072 seconds, processing\n",
      "Bandpass cleaned in 11.9772 seconds.\n",
      "Stamps filtered in 22.8907 seconds\n",
      "Saving results\n"
     ]
    },
    {
     "name": "stderr",
     "output_type": "stream",
     "text": [
      " 64%|██████▎   | 7/11 [05:11<02:54, 43.58s/it]"
     ]
    },
    {
     "name": "stdout",
     "output_type": "stream",
     "text": [
      "Results aggregated in 0.4384 seconds\n",
      "Processing coarse channels 196-224\n",
      "Data loaded in 6.6618 seconds, processing\n",
      "Bandpass cleaned in 12.3226 seconds.\n",
      "Stamps filtered in 22.9563 seconds\n",
      "Saving results\n"
     ]
    },
    {
     "name": "stderr",
     "output_type": "stream",
     "text": [
      " 73%|███████▎  | 8/11 [05:54<02:09, 43.31s/it]"
     ]
    },
    {
     "name": "stdout",
     "output_type": "stream",
     "text": [
      "Results aggregated in 0.7734 seconds\n",
      "Processing coarse channels 224-252\n",
      "Data loaded in 6.8257 seconds, processing\n",
      "Bandpass cleaned in 17.9441 seconds.\n",
      "Stamps filtered in 25.1044 seconds\n",
      "Saving results\n"
     ]
    },
    {
     "name": "stderr",
     "output_type": "stream",
     "text": [
      " 82%|████████▏ | 9/11 [06:44<01:31, 45.54s/it]"
     ]
    },
    {
     "name": "stdout",
     "output_type": "stream",
     "text": [
      "Results aggregated in 0.5358 seconds\n",
      "Processing coarse channels 252-280\n",
      "Data loaded in 6.8424 seconds, processing\n",
      "Bandpass cleaned in 12.8415 seconds.\n",
      "Stamps filtered in 25.4294 seconds\n",
      "Saving results\n"
     ]
    },
    {
     "name": "stderr",
     "output_type": "stream",
     "text": [
      " 91%|█████████ | 10/11 [07:30<00:45, 45.55s/it]"
     ]
    },
    {
     "name": "stdout",
     "output_type": "stream",
     "text": [
      "Results aggregated in 0.4241 seconds\n",
      "Processing coarse channels 280-308\n",
      "Data loaded in 7.1049 seconds, processing\n",
      "Bandpass cleaned in 12.5042 seconds.\n",
      "Stamps filtered in 25.4596 seconds\n",
      "Saving results\n"
     ]
    },
    {
     "name": "stderr",
     "output_type": "stream",
     "text": [
      "100%|██████████| 11/11 [08:15<00:00, 45.07s/it]\n"
     ]
    },
    {
     "name": "stdout",
     "output_type": "stream",
     "text": [
      "Results aggregated in 0.4284 seconds\n",
      "       level_0      index    statistic  pvalue        freqs\n",
      "19701    19701  225510400  9141.915570     0.0  1296.200752\n",
      "20224    20224  286785920  8021.985776     0.0  1124.998927\n",
      "19741    19741  243947776  7890.028305     0.0  1244.687319\n",
      "19802    19802  259940736  7828.116784     0.0  1200.003505\n",
      "13437    13437  138991104  9692.004933     0.0  1537.932873\n",
      "13441    13441  139002368  9675.281481     0.0  1537.901402\n",
      "855        855  100095360  9565.593169     0.0  1646.606326\n",
      "10925    10925  133067648  9519.442313     0.0  1554.482818\n",
      "704        704   80984704  7836.872962     0.0  1700.000882\n",
      "689        689   45193344  6859.931815     0.0  1800.000787\n",
      "692        692   45193728  6597.789848     0.0  1799.999714\n",
      "682        682    9402240  5930.396200     0.0  1899.999976\n",
      "308 308\n",
      "Finished Energy Detection on GBT_57677_41523_HIP36393_fine.h5 in 499.1145 seconds\n",
      "/mnt_blpd7/datax2/dl/GBT_57677_41907_HIP35298_fine.h5\n",
      "Header saved to ../../../../../../datax/scratch/pma/reverse_search/train/HIP36393-1253/GBT_57677_41907_HIP35298_fine/header.pkl\n",
      "Processing 28 in parallel\n",
      "Processing coarse channels 0-28\n"
     ]
    },
    {
     "name": "stderr",
     "output_type": "stream",
     "text": [
      "  0%|          | 0/11 [00:00<?, ?it/s]"
     ]
    },
    {
     "name": "stdout",
     "output_type": "stream",
     "text": [
      "Data loaded in 8.5090 seconds, processing\n",
      "Bandpass cleaned in 12.9197 seconds.\n",
      "Stamps filtered in 23.7206 seconds\n",
      "Saving results\n"
     ]
    },
    {
     "name": "stderr",
     "output_type": "stream",
     "text": [
      "  9%|▉         | 1/11 [00:45<07:38, 45.80s/it]"
     ]
    },
    {
     "name": "stdout",
     "output_type": "stream",
     "text": [
      "Results aggregated in 0.6273 seconds\n",
      "Processing coarse channels 28-56\n",
      "Data loaded in 8.1366 seconds, processing\n",
      "Bandpass cleaned in 14.3447 seconds.\n",
      "Stamps filtered in 23.8151 seconds\n",
      "Saving results\n"
     ]
    },
    {
     "name": "stderr",
     "output_type": "stream",
     "text": [
      " 18%|█▊        | 2/11 [01:32<06:56, 46.31s/it]"
     ]
    },
    {
     "name": "stdout",
     "output_type": "stream",
     "text": [
      "Results aggregated in 0.3495 seconds\n",
      "Processing coarse channels 56-84\n",
      "Data loaded in 7.5416 seconds, processing\n",
      "Bandpass cleaned in 13.9853 seconds.\n",
      "Stamps filtered in 23.8755 seconds\n",
      "Saving results\n"
     ]
    },
    {
     "name": "stderr",
     "output_type": "stream",
     "text": [
      " 27%|██▋       | 3/11 [02:18<06:08, 46.06s/it]"
     ]
    },
    {
     "name": "stdout",
     "output_type": "stream",
     "text": [
      "Results aggregated in 0.3336 seconds\n",
      "Processing coarse channels 84-112\n",
      "Data loaded in 6.7702 seconds, processing\n",
      "Bandpass cleaned in 13.8980 seconds.\n",
      "Stamps filtered in 23.7999 seconds\n",
      "Saving results\n"
     ]
    },
    {
     "name": "stderr",
     "output_type": "stream",
     "text": [
      " 36%|███▋      | 4/11 [03:03<05:20, 45.84s/it]"
     ]
    },
    {
     "name": "stdout",
     "output_type": "stream",
     "text": [
      "Results aggregated in 1.0031 seconds\n",
      "Processing coarse channels 112-140\n",
      "Data loaded in 7.4192 seconds, processing\n",
      "Bandpass cleaned in 14.0743 seconds.\n",
      "Stamps filtered in 24.7570 seconds\n",
      "Saving results\n"
     ]
    },
    {
     "name": "stderr",
     "output_type": "stream",
     "text": [
      " 45%|████▌     | 5/11 [03:51<04:38, 46.43s/it]"
     ]
    },
    {
     "name": "stdout",
     "output_type": "stream",
     "text": [
      "Results aggregated in 1.1971 seconds\n",
      "Processing coarse channels 140-168\n",
      "Data loaded in 7.6802 seconds, processing\n",
      "Bandpass cleaned in 13.2533 seconds.\n",
      "Stamps filtered in 24.4082 seconds\n",
      "Saving results\n"
     ]
    },
    {
     "name": "stderr",
     "output_type": "stream",
     "text": [
      " 55%|█████▍    | 6/11 [04:37<03:51, 46.24s/it]"
     ]
    },
    {
     "name": "stdout",
     "output_type": "stream",
     "text": [
      "Results aggregated in 0.4962 seconds\n",
      "Processing coarse channels 168-196\n",
      "Data loaded in 7.4053 seconds, processing\n",
      "Bandpass cleaned in 12.7320 seconds.\n",
      "Stamps filtered in 24.2235 seconds\n",
      "Saving results\n"
     ]
    },
    {
     "name": "stderr",
     "output_type": "stream",
     "text": [
      " 64%|██████▎   | 7/11 [05:22<03:04, 46.03s/it]"
     ]
    },
    {
     "name": "stdout",
     "output_type": "stream",
     "text": [
      "Results aggregated in 1.2024 seconds\n",
      "Processing coarse channels 196-224\n",
      "Data loaded in 7.4647 seconds, processing\n",
      "Bandpass cleaned in 13.7717 seconds.\n",
      "Stamps filtered in 24.0181 seconds\n",
      "Saving results\n"
     ]
    },
    {
     "name": "stderr",
     "output_type": "stream",
     "text": [
      " 73%|███████▎  | 8/11 [06:08<02:17, 45.97s/it]"
     ]
    },
    {
     "name": "stdout",
     "output_type": "stream",
     "text": [
      "Results aggregated in 0.5709 seconds\n",
      "Processing coarse channels 224-252\n",
      "Data loaded in 6.6782 seconds, processing\n",
      "Bandpass cleaned in 14.3431 seconds.\n",
      "Stamps filtered in 23.9377 seconds\n",
      "Saving results\n"
     ]
    },
    {
     "name": "stderr",
     "output_type": "stream",
     "text": [
      " 82%|████████▏ | 9/11 [06:54<01:32, 46.04s/it]"
     ]
    },
    {
     "name": "stdout",
     "output_type": "stream",
     "text": [
      "Results aggregated in 1.2073 seconds\n",
      "Processing coarse channels 252-280\n",
      "Data loaded in 8.2671 seconds, processing\n",
      "Bandpass cleaned in 13.5510 seconds.\n",
      "Stamps filtered in 24.1649 seconds\n",
      "Saving results\n"
     ]
    },
    {
     "name": "stderr",
     "output_type": "stream",
     "text": [
      " 91%|█████████ | 10/11 [07:41<00:46, 46.21s/it]"
     ]
    },
    {
     "name": "stdout",
     "output_type": "stream",
     "text": [
      "Results aggregated in 0.6025 seconds\n",
      "Processing coarse channels 280-308\n",
      "Data loaded in 7.3927 seconds, processing\n",
      "Bandpass cleaned in 12.8204 seconds.\n",
      "Stamps filtered in 24.1326 seconds\n",
      "Saving results\n"
     ]
    },
    {
     "name": "stderr",
     "output_type": "stream",
     "text": [
      "100%|██████████| 11/11 [08:26<00:00, 46.01s/it]\n"
     ]
    },
    {
     "name": "stdout",
     "output_type": "stream",
     "text": [
      "Results aggregated in 0.4377 seconds\n",
      "       level_0      index     statistic  pvalue        freqs\n",
      "20995    20995  195225216  13408.268735     0.0  1380.816579\n",
      "19734    19734  195063424  12697.865694     0.0  1381.268620\n",
      "21346    21346  195270656  12358.337115     0.0  1380.689621\n",
      "20322    20322  195138944  12299.970113     0.0  1381.057620\n",
      "12580    12580  133067648   9855.346377     0.0  1554.482818\n",
      "15375    15375  139002368   9814.269053     0.0  1537.901402\n",
      "15371    15371  138991104   9681.046149     0.0  1537.932873\n",
      "10434    10434  131816448   9511.784093     0.0  1557.978630\n",
      "1816      1816   80872576  19283.728208     0.0  1700.314164\n",
      "1820      1820   80984704   8100.380664     0.0  1700.000882\n",
      "1804      1804   45193344   6909.247965     0.0  1800.000787\n",
      "1807      1807   45193728   6496.159914     0.0  1799.999714\n",
      "308 308\n",
      "Finished Energy Detection on GBT_57677_41907_HIP35298_fine.h5 in 509.9129 seconds\n",
      "/mnt_blpd7/datax2/dl/GBT_57677_42288_HIP36393_fine.h5\n",
      "Header saved to ../../../../../../datax/scratch/pma/reverse_search/train/HIP36393-1253/GBT_57677_42288_HIP36393_fine/header.pkl\n",
      "Processing 28 in parallel\n",
      "Processing coarse channels 0-28\n"
     ]
    },
    {
     "name": "stderr",
     "output_type": "stream",
     "text": [
      "  0%|          | 0/11 [00:00<?, ?it/s]"
     ]
    },
    {
     "name": "stdout",
     "output_type": "stream",
     "text": [
      "Data loaded in 9.5294 seconds, processing\n",
      "Bandpass cleaned in 14.0540 seconds.\n",
      "Stamps filtered in 23.5365 seconds\n",
      "Saving results\n"
     ]
    },
    {
     "name": "stderr",
     "output_type": "stream",
     "text": [
      "  9%|▉         | 1/11 [00:47<07:55, 47.51s/it]"
     ]
    },
    {
     "name": "stdout",
     "output_type": "stream",
     "text": [
      "Results aggregated in 0.3682 seconds\n",
      "Processing coarse channels 28-56\n",
      "Data loaded in 7.5362 seconds, processing\n",
      "Bandpass cleaned in 12.1305 seconds.\n",
      "Stamps filtered in 23.3542 seconds\n",
      "Saving results\n"
     ]
    },
    {
     "name": "stderr",
     "output_type": "stream",
     "text": [
      " 18%|█▊        | 2/11 [01:30<06:45, 45.05s/it]"
     ]
    },
    {
     "name": "stdout",
     "output_type": "stream",
     "text": [
      "Results aggregated in 0.2958 seconds\n",
      "Processing coarse channels 56-84\n",
      "Data loaded in 6.8325 seconds, processing\n",
      "Bandpass cleaned in 12.2445 seconds.\n",
      "Stamps filtered in 24.1120 seconds\n",
      "Saving results\n"
     ]
    },
    {
     "name": "stderr",
     "output_type": "stream",
     "text": [
      " 27%|██▋       | 3/11 [02:14<05:54, 44.35s/it]"
     ]
    },
    {
     "name": "stdout",
     "output_type": "stream",
     "text": [
      "Results aggregated in 0.2974 seconds\n",
      "Processing coarse channels 84-112\n",
      "Data loaded in 6.3398 seconds, processing\n",
      "Bandpass cleaned in 12.2224 seconds.\n",
      "Stamps filtered in 24.3182 seconds\n",
      "Saving results\n"
     ]
    },
    {
     "name": "stderr",
     "output_type": "stream",
     "text": [
      " 36%|███▋      | 4/11 [02:58<05:09, 44.18s/it]"
     ]
    },
    {
     "name": "stdout",
     "output_type": "stream",
     "text": [
      "Results aggregated in 1.0124 seconds\n",
      "Processing coarse channels 112-140\n",
      "Data loaded in 7.2028 seconds, processing\n",
      "Bandpass cleaned in 13.6765 seconds.\n",
      "Stamps filtered in 24.0279 seconds\n",
      "Saving results\n"
     ]
    },
    {
     "name": "stderr",
     "output_type": "stream",
     "text": [
      " 45%|████▌     | 5/11 [03:44<04:28, 44.80s/it]"
     ]
    },
    {
     "name": "stdout",
     "output_type": "stream",
     "text": [
      "Results aggregated in 0.9761 seconds\n",
      "Processing coarse channels 140-168\n",
      "Data loaded in 7.6072 seconds, processing\n",
      "Bandpass cleaned in 12.0137 seconds.\n",
      "Stamps filtered in 23.9863 seconds\n",
      "Saving results\n"
     ]
    },
    {
     "name": "stderr",
     "output_type": "stream",
     "text": [
      " 55%|█████▍    | 6/11 [04:28<03:43, 44.62s/it]"
     ]
    },
    {
     "name": "stdout",
     "output_type": "stream",
     "text": [
      "Results aggregated in 0.6268 seconds\n",
      "Processing coarse channels 168-196\n",
      "Data loaded in 7.9737 seconds, processing\n",
      "Bandpass cleaned in 12.0299 seconds.\n",
      "Stamps filtered in 23.8918 seconds\n",
      "Saving results\n"
     ]
    },
    {
     "name": "stderr",
     "output_type": "stream",
     "text": [
      " 64%|██████▎   | 7/11 [05:12<02:58, 44.54s/it]"
     ]
    },
    {
     "name": "stdout",
     "output_type": "stream",
     "text": [
      "Results aggregated in 0.4485 seconds\n",
      "Processing coarse channels 196-224\n",
      "Data loaded in 7.0662 seconds, processing\n",
      "Bandpass cleaned in 12.2100 seconds.\n",
      "Stamps filtered in 23.8774 seconds\n",
      "Saving results\n"
     ]
    },
    {
     "name": "stderr",
     "output_type": "stream",
     "text": [
      " 73%|███████▎  | 8/11 [05:56<02:12, 44.27s/it]"
     ]
    },
    {
     "name": "stdout",
     "output_type": "stream",
     "text": [
      "Results aggregated in 0.5296 seconds\n",
      "Processing coarse channels 224-252\n",
      "Data loaded in 6.5342 seconds, processing\n",
      "Bandpass cleaned in 13.6836 seconds.\n",
      "Stamps filtered in 24.0972 seconds\n",
      "Saving results\n"
     ]
    },
    {
     "name": "stderr",
     "output_type": "stream",
     "text": [
      " 82%|████████▏ | 9/11 [06:41<01:28, 44.46s/it]"
     ]
    },
    {
     "name": "stdout",
     "output_type": "stream",
     "text": [
      "Results aggregated in 0.5369 seconds\n",
      "Processing coarse channels 252-280\n",
      "Data loaded in 6.6742 seconds, processing\n",
      "Bandpass cleaned in 12.0727 seconds.\n",
      "Stamps filtered in 23.9572 seconds\n",
      "Saving results\n"
     ]
    },
    {
     "name": "stderr",
     "output_type": "stream",
     "text": [
      " 91%|█████████ | 10/11 [07:24<00:44, 44.08s/it]"
     ]
    },
    {
     "name": "stdout",
     "output_type": "stream",
     "text": [
      "Results aggregated in 0.4918 seconds\n",
      "Processing coarse channels 280-308\n",
      "Data loaded in 7.2830 seconds, processing\n",
      "Bandpass cleaned in 12.0863 seconds.\n",
      "Stamps filtered in 23.5720 seconds\n",
      "Saving results\n"
     ]
    },
    {
     "name": "stderr",
     "output_type": "stream",
     "text": [
      "100%|██████████| 11/11 [08:08<00:00, 44.37s/it]\n"
     ]
    },
    {
     "name": "stdout",
     "output_type": "stream",
     "text": [
      "Results aggregated in 0.4550 seconds\n",
      "       level_0      index     statistic  pvalue        freqs\n",
      "14352    14352  225510400  10941.030692     0.0  1296.200752\n",
      "14350    14350  225510144   8334.844313     0.0  1296.201468\n",
      "14351    14351  225510272   8131.019867     0.0  1296.201110\n",
      "15385    15385  264416640   8025.418372     0.0  1187.497973\n",
      "11473    11473  139002368  10977.642828     0.0  1537.901402\n",
      "9114      9114  132536192  10189.648389     0.0  1555.967689\n",
      "9106      9106  132530816   9917.056385     0.0  1555.982709\n",
      "7879      7879  131815936   9732.840801     0.0  1557.980061\n",
      "360        360   45193728   9617.883519     0.0  1799.999714\n",
      "367        367   80984704   7773.698911     0.0  1700.000882\n",
      "357        357   45193344   6815.477687     0.0  1800.000787\n",
      "350        350    9402240   6099.705353     0.0  1899.999976\n",
      "308 308\n",
      "Finished Energy Detection on GBT_57677_42288_HIP36393_fine.h5 in 491.0545 seconds\n",
      "/mnt_blpd7/datax2/dl/GBT_57677_42663_HIP35345_fine.h5\n",
      "Header saved to ../../../../../../datax/scratch/pma/reverse_search/train/HIP36393-1253/GBT_57677_42663_HIP35345_fine/header.pkl\n",
      "Processing 28 in parallel\n",
      "Processing coarse channels 0-28\n"
     ]
    },
    {
     "name": "stderr",
     "output_type": "stream",
     "text": [
      "  0%|          | 0/11 [00:00<?, ?it/s]"
     ]
    },
    {
     "name": "stdout",
     "output_type": "stream",
     "text": [
      "Data loaded in 8.9337 seconds, processing\n",
      "Bandpass cleaned in 13.1077 seconds.\n",
      "Stamps filtered in 24.9618 seconds\n",
      "Saving results\n"
     ]
    },
    {
     "name": "stderr",
     "output_type": "stream",
     "text": [
      "  9%|▉         | 1/11 [00:47<07:53, 47.34s/it]"
     ]
    },
    {
     "name": "stdout",
     "output_type": "stream",
     "text": [
      "Results aggregated in 0.3129 seconds\n",
      "Processing coarse channels 28-56\n",
      "Data loaded in 7.1300 seconds, processing\n",
      "Bandpass cleaned in 12.4955 seconds.\n",
      "Stamps filtered in 25.0451 seconds\n",
      "Saving results\n"
     ]
    },
    {
     "name": "stderr",
     "output_type": "stream",
     "text": [
      " 18%|█▊        | 2/11 [01:32<06:53, 45.94s/it]"
     ]
    },
    {
     "name": "stdout",
     "output_type": "stream",
     "text": [
      "Results aggregated in 0.2818 seconds\n",
      "Processing coarse channels 56-84\n",
      "Data loaded in 6.7737 seconds, processing\n",
      "Bandpass cleaned in 13.7225 seconds.\n",
      "Stamps filtered in 25.5173 seconds\n",
      "Saving results\n"
     ]
    },
    {
     "name": "stderr",
     "output_type": "stream",
     "text": [
      " 27%|██▋       | 3/11 [02:18<06:09, 46.14s/it]"
     ]
    },
    {
     "name": "stdout",
     "output_type": "stream",
     "text": [
      "Results aggregated in 0.3264 seconds\n",
      "Processing coarse channels 84-112\n",
      "Data loaded in 8.0934 seconds, processing\n",
      "Bandpass cleaned in 13.6187 seconds.\n",
      "Stamps filtered in 24.7213 seconds\n",
      "Saving results\n"
     ]
    },
    {
     "name": "stderr",
     "output_type": "stream",
     "text": [
      " 36%|███▋      | 4/11 [03:05<05:26, 46.57s/it]"
     ]
    },
    {
     "name": "stdout",
     "output_type": "stream",
     "text": [
      "Results aggregated in 0.7867 seconds\n",
      "Processing coarse channels 112-140\n",
      "Data loaded in 7.8372 seconds, processing\n",
      "Bandpass cleaned in 13.4144 seconds.\n",
      "Stamps filtered in 24.3764 seconds\n",
      "Saving results\n"
     ]
    },
    {
     "name": "stderr",
     "output_type": "stream",
     "text": [
      " 45%|████▌     | 5/11 [03:52<04:39, 46.61s/it]"
     ]
    },
    {
     "name": "stdout",
     "output_type": "stream",
     "text": [
      "Results aggregated in 1.0094 seconds\n",
      "Processing coarse channels 140-168\n",
      "Data loaded in 7.8207 seconds, processing\n",
      "Bandpass cleaned in 14.9650 seconds.\n",
      "Stamps filtered in 25.2359 seconds\n",
      "Saving results\n"
     ]
    },
    {
     "name": "stderr",
     "output_type": "stream",
     "text": [
      " 55%|█████▍    | 6/11 [04:41<03:56, 47.26s/it]"
     ]
    },
    {
     "name": "stdout",
     "output_type": "stream",
     "text": [
      "Results aggregated in 0.4841 seconds\n",
      "Processing coarse channels 168-196\n",
      "Data loaded in 6.6913 seconds, processing\n",
      "Bandpass cleaned in 11.8984 seconds.\n",
      "Stamps filtered in 25.1115 seconds\n",
      "Saving results\n"
     ]
    },
    {
     "name": "stderr",
     "output_type": "stream",
     "text": [
      " 64%|██████▎   | 7/11 [05:25<03:05, 46.25s/it]"
     ]
    },
    {
     "name": "stdout",
     "output_type": "stream",
     "text": [
      "Results aggregated in 0.4575 seconds\n",
      "Processing coarse channels 196-224\n",
      "Data loaded in 6.5600 seconds, processing\n",
      "Bandpass cleaned in 14.6101 seconds.\n",
      "Stamps filtered in 24.9282 seconds\n",
      "Saving results\n"
     ]
    },
    {
     "name": "stderr",
     "output_type": "stream",
     "text": [
      " 73%|███████▎  | 8/11 [06:11<02:19, 46.35s/it]"
     ]
    },
    {
     "name": "stdout",
     "output_type": "stream",
     "text": [
      "Results aggregated in 0.4340 seconds\n",
      "Processing coarse channels 224-252\n",
      "Data loaded in 7.4821 seconds, processing\n",
      "Bandpass cleaned in 12.5420 seconds.\n",
      "Stamps filtered in 25.4496 seconds\n",
      "Saving results\n"
     ]
    },
    {
     "name": "stderr",
     "output_type": "stream",
     "text": [
      " 82%|████████▏ | 9/11 [06:57<01:32, 46.21s/it]"
     ]
    },
    {
     "name": "stdout",
     "output_type": "stream",
     "text": [
      "Results aggregated in 0.3971 seconds\n",
      "Processing coarse channels 252-280\n",
      "Data loaded in 6.9287 seconds, processing\n",
      "Bandpass cleaned in 14.6170 seconds.\n",
      "Stamps filtered in 24.8819 seconds\n",
      "Saving results\n"
     ]
    },
    {
     "name": "stderr",
     "output_type": "stream",
     "text": [
      " 91%|█████████ | 10/11 [07:44<00:46, 46.44s/it]"
     ]
    },
    {
     "name": "stdout",
     "output_type": "stream",
     "text": [
      "Results aggregated in 0.5125 seconds\n",
      "Processing coarse channels 280-308\n",
      "Data loaded in 7.8390 seconds, processing\n",
      "Bandpass cleaned in 11.9067 seconds.\n",
      "Stamps filtered in 24.4593 seconds\n",
      "Saving results\n"
     ]
    },
    {
     "name": "stderr",
     "output_type": "stream",
     "text": [
      "100%|██████████| 11/11 [08:29<00:00, 46.30s/it]\n"
     ]
    },
    {
     "name": "stdout",
     "output_type": "stream",
     "text": [
      "Results aggregated in 0.3927 seconds\n",
      "       level_0      index     statistic  pvalue        freqs\n",
      "13184    13184  225510400  12132.740598     0.0  1296.200752\n",
      "13182    13182  225510144   8336.967687     0.0  1296.201468\n",
      "13183    13183  225510272   8197.084094     0.0  1296.201110\n",
      "12882    12882  215339136   8157.168164     0.0  1324.618936\n",
      "10664    10664  139002368  12321.656075     0.0  1537.901402\n",
      "10667    10667  139002752  12171.222293     0.0  1537.900329\n",
      "10038    10038  136791680  10361.652230     0.0  1544.077992\n",
      "10353    10353  137875840  10264.536778     0.0  1541.048884\n",
      "217        217   80984704   7868.987214     0.0  1700.000882\n",
      "199        199   45193344   7023.880475     0.0  1800.000787\n",
      "202        202   45193728   6553.396811     0.0  1799.999714\n",
      "192        192    9402240   6438.621117     0.0  1899.999976\n",
      "308 308\n",
      "Finished Energy Detection on GBT_57677_42663_HIP35345_fine.h5 in 511.9603 seconds\n",
      "HIP48477-589\n",
      "/mnt_blpd7/datax/dl/GBT_57698_45852_HIP48477_fine.h5\n",
      "Header saved to ../../../../../../datax/scratch/pma/reverse_search/train/HIP48477-589/GBT_57698_45852_HIP48477_fine/header.pkl\n",
      "Processing 7 in parallel\n",
      "Processing coarse channels 0-7\n"
     ]
    },
    {
     "name": "stderr",
     "output_type": "stream",
     "text": [
      "  0%|          | 0/49 [00:00<?, ?it/s]"
     ]
    },
    {
     "name": "stdout",
     "output_type": "stream",
     "text": [
      "Data loaded in 3.4003 seconds, processing\n",
      "Bandpass cleaned in 3.2849 seconds.\n",
      "Stamps filtered in 16.1261 seconds\n",
      "Saving results\n",
      "Results aggregated in 0.0669 seconds\n",
      "Processing coarse channels 7-14\n"
     ]
    },
    {
     "name": "stderr",
     "output_type": "stream",
     "text": [
      "  2%|▏         | 1/49 [00:22<18:18, 22.90s/it]"
     ]
    },
    {
     "name": "stdout",
     "output_type": "stream",
     "text": [
      "Data loaded in 2.0265 seconds, processing\n",
      "Bandpass cleaned in 3.1871 seconds.\n",
      "Stamps filtered in 16.5176 seconds\n",
      "Saving results\n",
      "Results aggregated in 0.0737 seconds\n",
      "Processing coarse channels 14-21\n"
     ]
    },
    {
     "name": "stderr",
     "output_type": "stream",
     "text": [
      "  4%|▍         | 2/49 [00:44<17:26, 22.26s/it]"
     ]
    },
    {
     "name": "stdout",
     "output_type": "stream",
     "text": [
      "Data loaded in 2.1387 seconds, processing\n",
      "Bandpass cleaned in 3.2568 seconds.\n",
      "Stamps filtered in 16.4273 seconds\n",
      "Saving results\n",
      "Results aggregated in 0.0690 seconds\n",
      "Processing coarse channels 21-28\n"
     ]
    },
    {
     "name": "stderr",
     "output_type": "stream",
     "text": [
      "  6%|▌         | 3/49 [01:06<16:56, 22.10s/it]"
     ]
    },
    {
     "name": "stdout",
     "output_type": "stream",
     "text": [
      "Data loaded in 2.0620 seconds, processing\n",
      "Bandpass cleaned in 3.1521 seconds.\n",
      "Stamps filtered in 16.3953 seconds\n",
      "Saving results\n",
      "Results aggregated in 0.0626 seconds\n",
      "Processing coarse channels 28-35\n"
     ]
    },
    {
     "name": "stderr",
     "output_type": "stream",
     "text": [
      "  8%|▊         | 4/49 [01:28<16:27, 21.93s/it]"
     ]
    },
    {
     "name": "stdout",
     "output_type": "stream",
     "text": [
      "Data loaded in 1.5580 seconds, processing\n",
      "Bandpass cleaned in 3.1801 seconds.\n",
      "Stamps filtered in 16.3502 seconds\n",
      "Saving results\n",
      "Results aggregated in 0.0707 seconds\n",
      "Processing coarse channels 35-42\n"
     ]
    },
    {
     "name": "stderr",
     "output_type": "stream",
     "text": [
      " 10%|█         | 5/49 [01:49<15:53, 21.66s/it]"
     ]
    },
    {
     "name": "stdout",
     "output_type": "stream",
     "text": [
      "Data loaded in 1.9347 seconds, processing\n",
      "Bandpass cleaned in 3.2766 seconds.\n",
      "Stamps filtered in 15.6355 seconds\n",
      "Saving results\n",
      "Results aggregated in 0.0693 seconds\n",
      "Processing coarse channels 42-49\n"
     ]
    },
    {
     "name": "stderr",
     "output_type": "stream",
     "text": [
      " 12%|█▏        | 6/49 [02:10<15:20, 21.41s/it]"
     ]
    },
    {
     "name": "stdout",
     "output_type": "stream",
     "text": [
      "Data loaded in 1.6599 seconds, processing\n",
      "Bandpass cleaned in 3.2575 seconds.\n",
      "Stamps filtered in 16.3116 seconds\n",
      "Saving results\n",
      "Results aggregated in 0.0655 seconds\n",
      "Processing coarse channels 49-56\n"
     ]
    },
    {
     "name": "stderr",
     "output_type": "stream",
     "text": [
      " 14%|█▍        | 7/49 [02:31<14:57, 21.38s/it]"
     ]
    },
    {
     "name": "stdout",
     "output_type": "stream",
     "text": [
      "Data loaded in 2.1075 seconds, processing\n",
      "Bandpass cleaned in 3.8819 seconds.\n",
      "Stamps filtered in 15.8271 seconds\n",
      "Saving results\n",
      "Results aggregated in 0.0654 seconds\n",
      "Processing coarse channels 56-63\n"
     ]
    },
    {
     "name": "stderr",
     "output_type": "stream",
     "text": [
      " 16%|█▋        | 8/49 [02:53<14:43, 21.54s/it]"
     ]
    },
    {
     "name": "stdout",
     "output_type": "stream",
     "text": [
      "Data loaded in 1.6526 seconds, processing\n",
      "Bandpass cleaned in 3.0643 seconds.\n",
      "Stamps filtered in 16.5643 seconds\n",
      "Saving results\n",
      "Results aggregated in 0.0716 seconds\n",
      "Processing coarse channels 63-70\n"
     ]
    },
    {
     "name": "stderr",
     "output_type": "stream",
     "text": [
      " 18%|█▊        | 9/49 [03:14<14:19, 21.49s/it]"
     ]
    },
    {
     "name": "stdout",
     "output_type": "stream",
     "text": [
      "Data loaded in 2.1987 seconds, processing\n",
      "Bandpass cleaned in 3.2568 seconds.\n",
      "Stamps filtered in 16.3404 seconds\n",
      "Saving results\n",
      "Results aggregated in 0.0945 seconds\n",
      "Processing coarse channels 70-77\n"
     ]
    },
    {
     "name": "stderr",
     "output_type": "stream",
     "text": [
      " 20%|██        | 10/49 [03:36<14:02, 21.62s/it]"
     ]
    },
    {
     "name": "stdout",
     "output_type": "stream",
     "text": [
      "Data loaded in 1.5821 seconds, processing\n",
      "Bandpass cleaned in 3.0850 seconds.\n",
      "Stamps filtered in 16.2724 seconds\n",
      "Saving results\n",
      "Results aggregated in 0.0842 seconds\n",
      "Processing coarse channels 77-84\n"
     ]
    },
    {
     "name": "stderr",
     "output_type": "stream",
     "text": [
      " 22%|██▏       | 11/49 [03:57<13:34, 21.44s/it]"
     ]
    },
    {
     "name": "stdout",
     "output_type": "stream",
     "text": [
      "Data loaded in 1.6310 seconds, processing\n",
      "Bandpass cleaned in 3.0544 seconds.\n",
      "Stamps filtered in 15.7758 seconds\n",
      "Saving results\n",
      "Results aggregated in 0.0695 seconds\n",
      "Processing coarse channels 84-91\n"
     ]
    },
    {
     "name": "stderr",
     "output_type": "stream",
     "text": [
      " 24%|██▍       | 12/49 [04:18<13:03, 21.17s/it]"
     ]
    },
    {
     "name": "stdout",
     "output_type": "stream",
     "text": [
      "Data loaded in 1.7218 seconds, processing\n",
      "Bandpass cleaned in 3.3880 seconds.\n",
      "Stamps filtered in 16.4494 seconds\n",
      "Saving results\n",
      "Results aggregated in 0.0725 seconds\n",
      "Processing coarse channels 91-98\n"
     ]
    },
    {
     "name": "stderr",
     "output_type": "stream",
     "text": [
      " 27%|██▋       | 13/49 [04:40<12:47, 21.31s/it]"
     ]
    },
    {
     "name": "stdout",
     "output_type": "stream",
     "text": [
      "Data loaded in 1.9909 seconds, processing\n",
      "Bandpass cleaned in 3.2613 seconds.\n",
      "Stamps filtered in 15.8879 seconds\n",
      "Saving results\n",
      "Results aggregated in 0.0731 seconds\n",
      "Processing coarse channels 98-105\n"
     ]
    },
    {
     "name": "stderr",
     "output_type": "stream",
     "text": [
      " 29%|██▊       | 14/49 [05:01<12:24, 21.29s/it]"
     ]
    },
    {
     "name": "stdout",
     "output_type": "stream",
     "text": [
      "Data loaded in 1.6710 seconds, processing\n",
      "Bandpass cleaned in 3.2741 seconds.\n",
      "Stamps filtered in 16.2415 seconds\n",
      "Saving results\n",
      "Results aggregated in 0.0759 seconds\n",
      "Processing coarse channels 105-112\n"
     ]
    },
    {
     "name": "stderr",
     "output_type": "stream",
     "text": [
      " 31%|███       | 15/49 [05:22<12:03, 21.28s/it]"
     ]
    },
    {
     "name": "stdout",
     "output_type": "stream",
     "text": [
      "Data loaded in 1.6393 seconds, processing\n",
      "Bandpass cleaned in 3.1815 seconds.\n",
      "Stamps filtered in 16.0918 seconds\n",
      "Saving results\n",
      "Results aggregated in 0.0715 seconds\n",
      "Processing coarse channels 112-119\n"
     ]
    },
    {
     "name": "stderr",
     "output_type": "stream",
     "text": [
      " 33%|███▎      | 16/49 [05:43<11:39, 21.20s/it]"
     ]
    },
    {
     "name": "stdout",
     "output_type": "stream",
     "text": [
      "Data loaded in 1.9255 seconds, processing\n",
      "Bandpass cleaned in 3.3337 seconds.\n",
      "Stamps filtered in 15.7669 seconds\n",
      "Saving results\n",
      "Results aggregated in 0.0782 seconds\n",
      "Processing coarse channels 119-126\n"
     ]
    },
    {
     "name": "stderr",
     "output_type": "stream",
     "text": [
      " 35%|███▍      | 17/49 [06:04<11:17, 21.17s/it]"
     ]
    },
    {
     "name": "stdout",
     "output_type": "stream",
     "text": [
      "Data loaded in 1.5222 seconds, processing\n",
      "Bandpass cleaned in 3.2508 seconds.\n",
      "Stamps filtered in 15.7189 seconds\n",
      "Saving results\n",
      "Results aggregated in 0.0713 seconds\n",
      "Processing coarse channels 126-133\n"
     ]
    },
    {
     "name": "stderr",
     "output_type": "stream",
     "text": [
      " 37%|███▋      | 18/49 [06:25<10:50, 20.99s/it]"
     ]
    },
    {
     "name": "stdout",
     "output_type": "stream",
     "text": [
      "Data loaded in 1.7019 seconds, processing\n",
      "Bandpass cleaned in 3.1448 seconds.\n",
      "Stamps filtered in 16.0673 seconds\n",
      "Saving results\n",
      "Results aggregated in 0.0781 seconds\n",
      "Processing coarse channels 133-140\n"
     ]
    },
    {
     "name": "stderr",
     "output_type": "stream",
     "text": [
      " 39%|███▉      | 19/49 [06:46<10:29, 21.00s/it]"
     ]
    },
    {
     "name": "stdout",
     "output_type": "stream",
     "text": [
      "Data loaded in 1.7143 seconds, processing\n",
      "Bandpass cleaned in 3.2031 seconds.\n",
      "Stamps filtered in 16.3715 seconds\n",
      "Saving results\n",
      "Results aggregated in 0.0747 seconds\n",
      "Processing coarse channels 140-147\n"
     ]
    },
    {
     "name": "stderr",
     "output_type": "stream",
     "text": [
      " 41%|████      | 20/49 [07:07<10:12, 21.11s/it]"
     ]
    },
    {
     "name": "stdout",
     "output_type": "stream",
     "text": [
      "Data loaded in 1.5779 seconds, processing\n",
      "Bandpass cleaned in 3.0747 seconds.\n",
      "Stamps filtered in 16.0467 seconds\n",
      "Saving results\n",
      "Results aggregated in 0.0717 seconds\n",
      "Processing coarse channels 147-154\n"
     ]
    },
    {
     "name": "stderr",
     "output_type": "stream",
     "text": [
      " 43%|████▎     | 21/49 [07:28<09:48, 21.01s/it]"
     ]
    },
    {
     "name": "stdout",
     "output_type": "stream",
     "text": [
      "Data loaded in 1.8788 seconds, processing\n",
      "Bandpass cleaned in 3.3073 seconds.\n",
      "Stamps filtered in 15.8976 seconds\n",
      "Saving results\n",
      "Results aggregated in 0.0700 seconds\n",
      "Processing coarse channels 154-161\n"
     ]
    },
    {
     "name": "stderr",
     "output_type": "stream",
     "text": [
      " 45%|████▍     | 22/49 [07:49<09:28, 21.06s/it]"
     ]
    },
    {
     "name": "stdout",
     "output_type": "stream",
     "text": [
      "Data loaded in 1.6580 seconds, processing\n",
      "Bandpass cleaned in 3.0850 seconds.\n",
      "Stamps filtered in 15.8551 seconds\n",
      "Saving results\n"
     ]
    },
    {
     "name": "stderr",
     "output_type": "stream",
     "text": [
      " 47%|████▋     | 23/49 [08:10<09:06, 21.01s/it]"
     ]
    },
    {
     "name": "stdout",
     "output_type": "stream",
     "text": [
      "Results aggregated in 0.2873 seconds\n",
      "Processing coarse channels 161-168\n",
      "Data loaded in 1.6719 seconds, processing\n",
      "Bandpass cleaned in 3.1530 seconds.\n",
      "Stamps filtered in 16.0270 seconds\n",
      "Saving results\n"
     ]
    },
    {
     "name": "stderr",
     "output_type": "stream",
     "text": [
      " 49%|████▉     | 24/49 [08:31<08:48, 21.12s/it]"
     ]
    },
    {
     "name": "stdout",
     "output_type": "stream",
     "text": [
      "Results aggregated in 0.5092 seconds\n",
      "Processing coarse channels 168-175\n",
      "Data loaded in 1.6452 seconds, processing\n",
      "Bandpass cleaned in 3.1541 seconds.\n",
      "Stamps filtered in 16.5257 seconds\n",
      "Saving results\n",
      "Results aggregated in 0.1467 seconds\n",
      "Processing coarse channels 175-182\n"
     ]
    },
    {
     "name": "stderr",
     "output_type": "stream",
     "text": [
      " 51%|█████     | 25/49 [08:53<08:29, 21.23s/it]"
     ]
    },
    {
     "name": "stdout",
     "output_type": "stream",
     "text": [
      "Data loaded in 1.6215 seconds, processing\n",
      "Bandpass cleaned in 3.1988 seconds.\n",
      "Stamps filtered in 16.7711 seconds\n",
      "Saving results\n",
      "Results aggregated in 0.0926 seconds\n",
      "Processing coarse channels 182-189\n"
     ]
    },
    {
     "name": "stderr",
     "output_type": "stream",
     "text": [
      " 53%|█████▎    | 26/49 [09:15<08:11, 21.37s/it]"
     ]
    },
    {
     "name": "stdout",
     "output_type": "stream",
     "text": [
      "Data loaded in 1.7202 seconds, processing\n",
      "Bandpass cleaned in 3.2693 seconds.\n",
      "Stamps filtered in 16.2759 seconds\n",
      "Saving results\n",
      "Results aggregated in 0.1060 seconds\n",
      "Processing coarse channels 189-196\n"
     ]
    },
    {
     "name": "stderr",
     "output_type": "stream",
     "text": [
      " 55%|█████▌    | 27/49 [09:36<07:50, 21.37s/it]"
     ]
    },
    {
     "name": "stdout",
     "output_type": "stream",
     "text": [
      "Data loaded in 2.6677 seconds, processing\n",
      "Bandpass cleaned in 5.2585 seconds.\n",
      "Stamps filtered in 16.2039 seconds\n",
      "Saving results\n",
      "Results aggregated in 0.0912 seconds\n",
      "Processing coarse channels 196-203\n"
     ]
    },
    {
     "name": "stderr",
     "output_type": "stream",
     "text": [
      " 57%|█████▋    | 28/49 [10:00<07:46, 22.23s/it]"
     ]
    },
    {
     "name": "stdout",
     "output_type": "stream",
     "text": [
      "Data loaded in 1.6237 seconds, processing\n",
      "Bandpass cleaned in 3.4778 seconds.\n",
      "Stamps filtered in 16.4056 seconds\n",
      "Saving results\n",
      "Results aggregated in 0.1236 seconds\n",
      "Processing coarse channels 203-210\n"
     ]
    },
    {
     "name": "stderr",
     "output_type": "stream",
     "text": [
      " 59%|█████▉    | 29/49 [10:22<07:21, 22.05s/it]"
     ]
    },
    {
     "name": "stdout",
     "output_type": "stream",
     "text": [
      "Data loaded in 2.2945 seconds, processing\n",
      "Bandpass cleaned in 3.7307 seconds.\n",
      "Stamps filtered in 16.9365 seconds\n",
      "Saving results\n"
     ]
    },
    {
     "name": "stderr",
     "output_type": "stream",
     "text": [
      " 61%|██████    | 30/49 [10:45<07:06, 22.45s/it]"
     ]
    },
    {
     "name": "stdout",
     "output_type": "stream",
     "text": [
      "Results aggregated in 0.4040 seconds\n",
      "Processing coarse channels 210-217\n",
      "Data loaded in 2.7292 seconds, processing\n",
      "Bandpass cleaned in 3.6952 seconds.\n",
      "Stamps filtered in 15.9926 seconds\n",
      "Saving results\n",
      "Results aggregated in 0.1126 seconds\n",
      "Processing coarse channels 217-224\n"
     ]
    },
    {
     "name": "stderr",
     "output_type": "stream",
     "text": [
      " 63%|██████▎   | 31/49 [11:08<06:44, 22.48s/it]"
     ]
    },
    {
     "name": "stdout",
     "output_type": "stream",
     "text": [
      "Data loaded in 1.7236 seconds, processing\n",
      "Bandpass cleaned in 3.2532 seconds.\n",
      "Stamps filtered in 17.2690 seconds\n",
      "Saving results\n",
      "Results aggregated in 0.1082 seconds\n",
      "Processing coarse channels 224-231\n"
     ]
    },
    {
     "name": "stderr",
     "output_type": "stream",
     "text": [
      " 65%|██████▌   | 32/49 [11:30<06:21, 22.45s/it]"
     ]
    },
    {
     "name": "stdout",
     "output_type": "stream",
     "text": [
      "Data loaded in 1.9785 seconds, processing\n",
      "Bandpass cleaned in 3.4070 seconds.\n",
      "Stamps filtered in 15.9278 seconds\n",
      "Saving results\n",
      "Results aggregated in 0.0848 seconds\n",
      "Processing coarse channels 231-238\n"
     ]
    },
    {
     "name": "stderr",
     "output_type": "stream",
     "text": [
      " 67%|██████▋   | 33/49 [11:52<05:54, 22.13s/it]"
     ]
    },
    {
     "name": "stdout",
     "output_type": "stream",
     "text": [
      "Data loaded in 1.9776 seconds, processing\n",
      "Bandpass cleaned in 3.7244 seconds.\n",
      "Stamps filtered in 16.6380 seconds\n",
      "Saving results\n",
      "Results aggregated in 0.1629 seconds\n",
      "Processing coarse channels 238-245\n"
     ]
    },
    {
     "name": "stderr",
     "output_type": "stream",
     "text": [
      " 69%|██████▉   | 34/49 [12:14<05:33, 22.25s/it]"
     ]
    },
    {
     "name": "stdout",
     "output_type": "stream",
     "text": [
      "Data loaded in 1.9601 seconds, processing\n",
      "Bandpass cleaned in 3.4586 seconds.\n",
      "Stamps filtered in 16.5345 seconds\n",
      "Saving results\n",
      "Results aggregated in 0.1305 seconds\n",
      "Processing coarse channels 245-252\n"
     ]
    },
    {
     "name": "stderr",
     "output_type": "stream",
     "text": [
      " 71%|███████▏  | 35/49 [12:36<05:10, 22.20s/it]"
     ]
    },
    {
     "name": "stdout",
     "output_type": "stream",
     "text": [
      "Data loaded in 1.7227 seconds, processing\n",
      "Bandpass cleaned in 3.2058 seconds.\n",
      "Stamps filtered in 16.1653 seconds\n",
      "Saving results\n",
      "Results aggregated in 0.1040 seconds\n",
      "Processing coarse channels 252-259\n"
     ]
    },
    {
     "name": "stderr",
     "output_type": "stream",
     "text": [
      " 73%|███████▎  | 36/49 [12:57<04:44, 21.90s/it]"
     ]
    },
    {
     "name": "stdout",
     "output_type": "stream",
     "text": [
      "Data loaded in 2.7899 seconds, processing\n",
      "Bandpass cleaned in 3.5873 seconds.\n",
      "Stamps filtered in 16.6039 seconds\n",
      "Saving results\n",
      "Results aggregated in 0.1022 seconds\n",
      "Processing coarse channels 259-266\n"
     ]
    },
    {
     "name": "stderr",
     "output_type": "stream",
     "text": [
      " 76%|███████▌  | 37/49 [13:20<04:27, 22.26s/it]"
     ]
    },
    {
     "name": "stdout",
     "output_type": "stream",
     "text": [
      "Data loaded in 2.0273 seconds, processing\n",
      "Bandpass cleaned in 3.5514 seconds.\n",
      "Stamps filtered in 16.6645 seconds\n",
      "Saving results\n",
      "Results aggregated in 0.0908 seconds\n",
      "Processing coarse channels 266-273\n"
     ]
    },
    {
     "name": "stderr",
     "output_type": "stream",
     "text": [
      " 78%|███████▊  | 38/49 [13:43<04:05, 22.29s/it]"
     ]
    },
    {
     "name": "stdout",
     "output_type": "stream",
     "text": [
      "Data loaded in 1.7734 seconds, processing\n",
      "Bandpass cleaned in 3.3083 seconds.\n",
      "Stamps filtered in 16.9968 seconds\n",
      "Saving results\n",
      "Results aggregated in 0.1033 seconds\n",
      "Processing coarse channels 273-280\n"
     ]
    },
    {
     "name": "stderr",
     "output_type": "stream",
     "text": [
      " 80%|███████▉  | 39/49 [14:05<03:42, 22.26s/it]"
     ]
    },
    {
     "name": "stdout",
     "output_type": "stream",
     "text": [
      "Data loaded in 1.8086 seconds, processing\n",
      "Bandpass cleaned in 3.2072 seconds.\n",
      "Stamps filtered in 16.3675 seconds\n",
      "Saving results\n",
      "Results aggregated in 0.1120 seconds\n",
      "Processing coarse channels 280-287\n"
     ]
    },
    {
     "name": "stderr",
     "output_type": "stream",
     "text": [
      " 82%|████████▏ | 40/49 [14:26<03:18, 22.03s/it]"
     ]
    },
    {
     "name": "stdout",
     "output_type": "stream",
     "text": [
      "Data loaded in 1.7081 seconds, processing\n",
      "Bandpass cleaned in 3.1130 seconds.\n",
      "Stamps filtered in 16.3365 seconds\n",
      "Saving results\n",
      "Results aggregated in 0.1102 seconds\n",
      "Processing coarse channels 287-294\n"
     ]
    },
    {
     "name": "stderr",
     "output_type": "stream",
     "text": [
      " 84%|████████▎ | 41/49 [14:48<02:54, 21.81s/it]"
     ]
    },
    {
     "name": "stdout",
     "output_type": "stream",
     "text": [
      "Data loaded in 4.9496 seconds, processing\n",
      "Bandpass cleaned in 4.1327 seconds.\n",
      "Stamps filtered in 15.8958 seconds\n",
      "Saving results\n",
      "Results aggregated in 0.1234 seconds\n",
      "Processing coarse channels 294-301\n"
     ]
    },
    {
     "name": "stderr",
     "output_type": "stream",
     "text": [
      " 86%|████████▌ | 42/49 [15:13<02:39, 22.80s/it]"
     ]
    },
    {
     "name": "stdout",
     "output_type": "stream",
     "text": [
      "Data loaded in 1.6297 seconds, processing\n",
      "Bandpass cleaned in 3.5912 seconds.\n",
      "Stamps filtered in 16.5909 seconds\n",
      "Saving results\n"
     ]
    },
    {
     "name": "stderr",
     "output_type": "stream",
     "text": [
      " 88%|████████▊ | 43/49 [15:35<02:16, 22.72s/it]"
     ]
    },
    {
     "name": "stdout",
     "output_type": "stream",
     "text": [
      "Results aggregated in 0.6904 seconds\n",
      "Processing coarse channels 301-308\n",
      "Data loaded in 1.7596 seconds, processing\n",
      "Bandpass cleaned in 3.8964 seconds.\n",
      "Stamps filtered in 17.1773 seconds\n",
      "Saving results\n"
     ]
    },
    {
     "name": "stderr",
     "output_type": "stream",
     "text": [
      " 90%|████████▉ | 44/49 [15:58<01:54, 22.82s/it]"
     ]
    },
    {
     "name": "stdout",
     "output_type": "stream",
     "text": [
      "Results aggregated in 0.2120 seconds\n",
      "Processing coarse channels 308-315\n",
      "Data loaded in 2.2561 seconds, processing\n",
      "Bandpass cleaned in 3.8078 seconds.\n",
      "Stamps filtered in 16.5379 seconds\n",
      "Saving results\n",
      "Results aggregated in 0.0941 seconds\n",
      "Processing coarse channels 315-322\n"
     ]
    },
    {
     "name": "stderr",
     "output_type": "stream",
     "text": [
      " 92%|█████████▏| 45/49 [16:21<01:31, 22.79s/it]"
     ]
    },
    {
     "name": "stdout",
     "output_type": "stream",
     "text": [
      "Data loaded in 1.8128 seconds, processing\n",
      "Bandpass cleaned in 3.4064 seconds.\n",
      "Stamps filtered in 16.3487 seconds\n",
      "Saving results\n",
      "Results aggregated in 0.1278 seconds\n",
      "Processing coarse channels 322-329\n"
     ]
    },
    {
     "name": "stderr",
     "output_type": "stream",
     "text": [
      " 94%|█████████▍| 46/49 [16:43<01:07, 22.46s/it]"
     ]
    },
    {
     "name": "stdout",
     "output_type": "stream",
     "text": [
      "Data loaded in 2.8089 seconds, processing\n",
      "Bandpass cleaned in 4.9099 seconds.\n",
      "Stamps filtered in 16.3378 seconds\n",
      "Saving results\n",
      "Results aggregated in 0.1252 seconds\n",
      "Processing coarse channels 329-336\n"
     ]
    },
    {
     "name": "stderr",
     "output_type": "stream",
     "text": [
      " 96%|█████████▌| 47/49 [17:07<00:45, 22.98s/it]"
     ]
    },
    {
     "name": "stdout",
     "output_type": "stream",
     "text": [
      "Data loaded in 2.5068 seconds, processing\n",
      "Bandpass cleaned in 3.7197 seconds.\n",
      "Stamps filtered in 16.5964 seconds\n",
      "Saving results\n",
      "Results aggregated in 0.1057 seconds\n",
      "Processing coarse channels 336-343\n"
     ]
    },
    {
     "name": "stderr",
     "output_type": "stream",
     "text": [
      " 98%|█████████▊| 48/49 [17:30<00:22, 22.97s/it]"
     ]
    },
    {
     "name": "stdout",
     "output_type": "stream",
     "text": [
      "Data loaded in 1.6393 seconds, processing\n",
      "Bandpass cleaned in 3.3169 seconds.\n",
      "Stamps filtered in 17.9004 seconds\n",
      "Saving results\n"
     ]
    },
    {
     "name": "stderr",
     "output_type": "stream",
     "text": [
      "100%|██████████| 49/49 [17:53<00:00, 21.91s/it]\n"
     ]
    },
    {
     "name": "stdout",
     "output_type": "stream",
     "text": [
      "Results aggregated in 0.1175 seconds\n",
      "      level_0      index     statistic  pvalue        freqs\n",
      "9361     9361  219915520  11787.852944     0.0  2188.395166\n",
      "9101     9101  219882240  11721.915358     0.0  2188.488150\n",
      "9319     9319  219910144  11684.611902     0.0  2188.410187\n",
      "9389     9389  219919104  11674.734913     0.0  2188.385153\n",
      "343 343\n",
      "Finished Energy Detection on GBT_57698_45852_HIP48477_fine.h5 in 1077.6117 seconds\n",
      "/mnt_blpd7/datax/dl/GBT_57698_46195_HIP47463_fine.h5\n",
      "Header saved to ../../../../../../datax/scratch/pma/reverse_search/train/HIP48477-589/GBT_57698_46195_HIP47463_fine/header.pkl\n",
      "Processing 7 in parallel\n",
      "Processing coarse channels 0-7\n"
     ]
    },
    {
     "name": "stderr",
     "output_type": "stream",
     "text": [
      "  0%|          | 0/49 [00:00<?, ?it/s]"
     ]
    },
    {
     "name": "stdout",
     "output_type": "stream",
     "text": [
      "Data loaded in 4.0407 seconds, processing\n",
      "Bandpass cleaned in 4.5065 seconds.\n",
      "Stamps filtered in 16.2768 seconds\n",
      "Saving results\n",
      "Results aggregated in 0.0916 seconds\n",
      "Processing coarse channels 7-14\n"
     ]
    },
    {
     "name": "stderr",
     "output_type": "stream",
     "text": [
      "  2%|▏         | 1/49 [00:24<19:56, 24.93s/it]"
     ]
    },
    {
     "name": "stdout",
     "output_type": "stream",
     "text": [
      "Data loaded in 2.5219 seconds, processing\n",
      "Bandpass cleaned in 3.4911 seconds.\n",
      "Stamps filtered in 15.8825 seconds\n",
      "Saving results\n",
      "Results aggregated in 0.0730 seconds\n",
      "Processing coarse channels 14-21\n"
     ]
    },
    {
     "name": "stderr",
     "output_type": "stream",
     "text": [
      "  4%|▍         | 2/49 [00:46<18:10, 23.20s/it]"
     ]
    },
    {
     "name": "stdout",
     "output_type": "stream",
     "text": [
      "Data loaded in 1.6568 seconds, processing\n",
      "Bandpass cleaned in 3.2234 seconds.\n",
      "Stamps filtered in 16.2716 seconds\n",
      "Saving results\n",
      "Results aggregated in 0.0943 seconds\n",
      "Processing coarse channels 21-28\n"
     ]
    },
    {
     "name": "stderr",
     "output_type": "stream",
     "text": [
      "  6%|▌         | 3/49 [01:08<17:06, 22.31s/it]"
     ]
    },
    {
     "name": "stdout",
     "output_type": "stream",
     "text": [
      "Data loaded in 1.6774 seconds, processing\n",
      "Bandpass cleaned in 3.1662 seconds.\n",
      "Stamps filtered in 16.2816 seconds\n",
      "Saving results\n",
      "Results aggregated in 0.0971 seconds\n",
      "Processing coarse channels 28-35\n"
     ]
    },
    {
     "name": "stderr",
     "output_type": "stream",
     "text": [
      "  8%|▊         | 4/49 [01:29<16:24, 21.89s/it]"
     ]
    },
    {
     "name": "stdout",
     "output_type": "stream",
     "text": [
      "Data loaded in 1.9305 seconds, processing\n",
      "Bandpass cleaned in 3.9457 seconds.\n",
      "Stamps filtered in 16.5347 seconds\n",
      "Saving results\n",
      "Results aggregated in 0.0993 seconds\n",
      "Processing coarse channels 35-42\n"
     ]
    },
    {
     "name": "stderr",
     "output_type": "stream",
     "text": [
      " 10%|█         | 5/49 [01:51<16:13, 22.12s/it]"
     ]
    },
    {
     "name": "stdout",
     "output_type": "stream",
     "text": [
      "Data loaded in 3.4402 seconds, processing\n",
      "Bandpass cleaned in 5.4411 seconds.\n",
      "Stamps filtered in 15.8661 seconds\n",
      "Saving results\n",
      "Results aggregated in 0.1007 seconds\n",
      "Processing coarse channels 42-49\n"
     ]
    },
    {
     "name": "stderr",
     "output_type": "stream",
     "text": [
      " 12%|█▏        | 6/49 [02:16<16:31, 23.05s/it]"
     ]
    },
    {
     "name": "stdout",
     "output_type": "stream",
     "text": [
      "Data loaded in 1.6702 seconds, processing\n",
      "Bandpass cleaned in 3.9078 seconds.\n",
      "Stamps filtered in 15.9713 seconds\n",
      "Saving results\n",
      "Results aggregated in 0.0775 seconds\n",
      "Processing coarse channels 49-56\n"
     ]
    },
    {
     "name": "stderr",
     "output_type": "stream",
     "text": [
      " 14%|█▍        | 7/49 [02:38<15:48, 22.59s/it]"
     ]
    },
    {
     "name": "stdout",
     "output_type": "stream",
     "text": [
      "Data loaded in 1.7821 seconds, processing\n",
      "Bandpass cleaned in 3.4418 seconds.\n",
      "Stamps filtered in 15.7344 seconds\n",
      "Saving results\n",
      "Results aggregated in 0.0689 seconds\n",
      "Processing coarse channels 56-63\n"
     ]
    },
    {
     "name": "stderr",
     "output_type": "stream",
     "text": [
      " 16%|█▋        | 8/49 [02:59<15:05, 22.10s/it]"
     ]
    },
    {
     "name": "stdout",
     "output_type": "stream",
     "text": [
      "Data loaded in 2.2606 seconds, processing\n",
      "Bandpass cleaned in 3.3490 seconds.\n",
      "Stamps filtered in 16.1864 seconds\n",
      "Saving results\n",
      "Results aggregated in 0.0774 seconds\n",
      "Processing coarse channels 63-70\n"
     ]
    },
    {
     "name": "stderr",
     "output_type": "stream",
     "text": [
      " 18%|█▊        | 9/49 [03:21<14:41, 22.03s/it]"
     ]
    },
    {
     "name": "stdout",
     "output_type": "stream",
     "text": [
      "Data loaded in 2.2473 seconds, processing\n",
      "Bandpass cleaned in 3.2709 seconds.\n",
      "Stamps filtered in 15.4019 seconds\n",
      "Saving results\n"
     ]
    },
    {
     "name": "stderr",
     "output_type": "stream",
     "text": [
      " 20%|██        | 10/49 [03:42<14:10, 21.80s/it]"
     ]
    },
    {
     "name": "stdout",
     "output_type": "stream",
     "text": [
      "Results aggregated in 0.3427 seconds\n",
      "Processing coarse channels 70-77\n",
      "Data loaded in 2.0992 seconds, processing\n",
      "Bandpass cleaned in 3.3871 seconds.\n",
      "Stamps filtered in 17.2295 seconds\n",
      "Saving results\n",
      "Results aggregated in 0.0850 seconds\n",
      "Processing coarse channels 77-84\n"
     ]
    },
    {
     "name": "stderr",
     "output_type": "stream",
     "text": [
      " 22%|██▏       | 11/49 [04:05<14:00, 22.11s/it]"
     ]
    },
    {
     "name": "stdout",
     "output_type": "stream",
     "text": [
      "Data loaded in 1.5312 seconds, processing\n",
      "Bandpass cleaned in 3.8286 seconds.\n",
      "Stamps filtered in 15.3845 seconds\n",
      "Saving results\n",
      "Results aggregated in 0.0767 seconds\n",
      "Processing coarse channels 84-91\n"
     ]
    },
    {
     "name": "stderr",
     "output_type": "stream",
     "text": [
      " 24%|██▍       | 12/49 [04:26<13:23, 21.72s/it]"
     ]
    },
    {
     "name": "stdout",
     "output_type": "stream",
     "text": [
      "Data loaded in 1.5686 seconds, processing\n",
      "Bandpass cleaned in 3.2094 seconds.\n",
      "Stamps filtered in 15.9113 seconds\n",
      "Saving results\n",
      "Results aggregated in 0.0776 seconds\n",
      "Processing coarse channels 91-98\n"
     ]
    },
    {
     "name": "stderr",
     "output_type": "stream",
     "text": [
      " 27%|██▋       | 13/49 [04:47<12:51, 21.44s/it]"
     ]
    },
    {
     "name": "stdout",
     "output_type": "stream",
     "text": [
      "Data loaded in 1.7034 seconds, processing\n",
      "Bandpass cleaned in 3.1681 seconds.\n",
      "Stamps filtered in 15.8537 seconds\n",
      "Saving results\n",
      "Results aggregated in 0.0725 seconds\n",
      "Processing coarse channels 98-105\n"
     ]
    },
    {
     "name": "stderr",
     "output_type": "stream",
     "text": [
      " 29%|██▊       | 14/49 [05:07<12:23, 21.25s/it]"
     ]
    },
    {
     "name": "stdout",
     "output_type": "stream",
     "text": [
      "Data loaded in 1.6994 seconds, processing\n",
      "Bandpass cleaned in 3.5210 seconds.\n",
      "Stamps filtered in 16.2539 seconds\n",
      "Saving results\n",
      "Results aggregated in 0.0760 seconds\n",
      "Processing coarse channels 105-112\n"
     ]
    },
    {
     "name": "stderr",
     "output_type": "stream",
     "text": [
      " 31%|███       | 15/49 [05:29<12:05, 21.34s/it]"
     ]
    },
    {
     "name": "stdout",
     "output_type": "stream",
     "text": [
      "Data loaded in 1.8754 seconds, processing\n",
      "Bandpass cleaned in 3.2080 seconds.\n",
      "Stamps filtered in 16.2355 seconds\n",
      "Saving results\n"
     ]
    },
    {
     "name": "stderr",
     "output_type": "stream",
     "text": [
      " 33%|███▎      | 16/49 [05:51<11:47, 21.45s/it]"
     ]
    },
    {
     "name": "stdout",
     "output_type": "stream",
     "text": [
      "Results aggregated in 0.3852 seconds\n",
      "Processing coarse channels 112-119\n",
      "Data loaded in 1.6837 seconds, processing\n",
      "Bandpass cleaned in 3.1563 seconds.\n",
      "Stamps filtered in 16.1872 seconds\n",
      "Saving results\n",
      "Results aggregated in 0.1308 seconds\n",
      "Processing coarse channels 119-126\n"
     ]
    },
    {
     "name": "stderr",
     "output_type": "stream",
     "text": [
      " 35%|███▍      | 17/49 [06:12<11:23, 21.37s/it]"
     ]
    },
    {
     "name": "stdout",
     "output_type": "stream",
     "text": [
      "Data loaded in 1.6288 seconds, processing\n",
      "Bandpass cleaned in 3.2503 seconds.\n",
      "Stamps filtered in 15.5513 seconds\n",
      "Saving results\n",
      "Results aggregated in 0.0971 seconds\n",
      "Processing coarse channels 126-133\n"
     ]
    },
    {
     "name": "stderr",
     "output_type": "stream",
     "text": [
      " 37%|███▋      | 18/49 [06:32<10:54, 21.12s/it]"
     ]
    },
    {
     "name": "stdout",
     "output_type": "stream",
     "text": [
      "Data loaded in 1.7256 seconds, processing\n",
      "Bandpass cleaned in 4.8421 seconds.\n",
      "Stamps filtered in 16.6972 seconds\n",
      "Saving results\n",
      "Results aggregated in 0.1055 seconds\n",
      "Processing coarse channels 133-140\n"
     ]
    },
    {
     "name": "stderr",
     "output_type": "stream",
     "text": [
      " 39%|███▉      | 19/49 [06:56<10:53, 21.80s/it]"
     ]
    },
    {
     "name": "stdout",
     "output_type": "stream",
     "text": [
      "Data loaded in 1.6114 seconds, processing\n",
      "Bandpass cleaned in 3.2940 seconds.\n",
      "Stamps filtered in 15.9718 seconds\n",
      "Saving results\n",
      "Results aggregated in 0.1240 seconds\n",
      "Processing coarse channels 140-147\n"
     ]
    },
    {
     "name": "stderr",
     "output_type": "stream",
     "text": [
      " 41%|████      | 20/49 [07:17<10:25, 21.56s/it]"
     ]
    },
    {
     "name": "stdout",
     "output_type": "stream",
     "text": [
      "Data loaded in 2.1011 seconds, processing\n",
      "Bandpass cleaned in 4.2150 seconds.\n",
      "Stamps filtered in 15.7412 seconds\n",
      "Saving results\n",
      "Results aggregated in 0.0947 seconds\n",
      "Processing coarse channels 147-154\n"
     ]
    },
    {
     "name": "stderr",
     "output_type": "stream",
     "text": [
      " 43%|████▎     | 21/49 [07:39<10:08, 21.75s/it]"
     ]
    },
    {
     "name": "stdout",
     "output_type": "stream",
     "text": [
      "Data loaded in 1.7508 seconds, processing\n",
      "Bandpass cleaned in 4.5013 seconds.\n",
      "Stamps filtered in 16.2209 seconds\n",
      "Saving results\n",
      "Results aggregated in 0.0945 seconds\n",
      "Processing coarse channels 154-161\n"
     ]
    },
    {
     "name": "stderr",
     "output_type": "stream",
     "text": [
      " 45%|████▍     | 22/49 [08:02<09:53, 22.00s/it]"
     ]
    },
    {
     "name": "stdout",
     "output_type": "stream",
     "text": [
      "Data loaded in 1.6275 seconds, processing\n",
      "Bandpass cleaned in 3.2722 seconds.\n",
      "Stamps filtered in 16.1949 seconds\n",
      "Saving results\n"
     ]
    },
    {
     "name": "stderr",
     "output_type": "stream",
     "text": [
      " 47%|████▋     | 23/49 [08:23<09:28, 21.86s/it]"
     ]
    },
    {
     "name": "stdout",
     "output_type": "stream",
     "text": [
      "Results aggregated in 0.4455 seconds\n",
      "Processing coarse channels 161-168\n",
      "Data loaded in 1.7640 seconds, processing\n",
      "Bandpass cleaned in 4.4624 seconds.\n",
      "Stamps filtered in 16.2070 seconds\n",
      "Saving results\n"
     ]
    },
    {
     "name": "stderr",
     "output_type": "stream",
     "text": [
      " 49%|████▉     | 24/49 [08:46<09:14, 22.19s/it]"
     ]
    },
    {
     "name": "stdout",
     "output_type": "stream",
     "text": [
      "Results aggregated in 0.4978 seconds\n",
      "Processing coarse channels 168-175\n",
      "Data loaded in 1.6394 seconds, processing\n",
      "Bandpass cleaned in 4.7796 seconds.\n",
      "Stamps filtered in 16.7896 seconds\n",
      "Saving results\n",
      "Results aggregated in 0.1352 seconds\n",
      "Processing coarse channels 175-182\n"
     ]
    },
    {
     "name": "stderr",
     "output_type": "stream",
     "text": [
      " 51%|█████     | 25/49 [09:09<09:00, 22.54s/it]"
     ]
    },
    {
     "name": "stdout",
     "output_type": "stream",
     "text": [
      "Data loaded in 1.9588 seconds, processing\n",
      "Bandpass cleaned in 4.7124 seconds.\n",
      "Stamps filtered in 15.8833 seconds\n",
      "Saving results\n",
      "Results aggregated in 0.1279 seconds\n",
      "Processing coarse channels 182-189\n"
     ]
    },
    {
     "name": "stderr",
     "output_type": "stream",
     "text": [
      " 53%|█████▎    | 26/49 [09:32<08:39, 22.59s/it]"
     ]
    },
    {
     "name": "stdout",
     "output_type": "stream",
     "text": [
      "Data loaded in 1.9294 seconds, processing\n",
      "Bandpass cleaned in 4.2742 seconds.\n",
      "Stamps filtered in 16.6369 seconds\n",
      "Saving results\n",
      "Results aggregated in 0.1178 seconds\n",
      "Processing coarse channels 189-196\n"
     ]
    },
    {
     "name": "stderr",
     "output_type": "stream",
     "text": [
      " 55%|█████▌    | 27/49 [09:55<08:19, 22.70s/it]"
     ]
    },
    {
     "name": "stdout",
     "output_type": "stream",
     "text": [
      "Data loaded in 3.3648 seconds, processing\n",
      "Bandpass cleaned in 4.9494 seconds.\n",
      "Stamps filtered in 16.6777 seconds\n",
      "Saving results\n",
      "Results aggregated in 0.0953 seconds\n",
      "Processing coarse channels 196-203\n"
     ]
    },
    {
     "name": "stderr",
     "output_type": "stream",
     "text": [
      " 57%|█████▋    | 28/49 [10:20<08:11, 23.42s/it]"
     ]
    },
    {
     "name": "stdout",
     "output_type": "stream",
     "text": [
      "Data loaded in 2.0950 seconds, processing\n",
      "Bandpass cleaned in 3.4887 seconds.\n",
      "Stamps filtered in 16.1746 seconds\n",
      "Saving results\n",
      "Results aggregated in 0.1396 seconds\n",
      "Processing coarse channels 203-210\n"
     ]
    },
    {
     "name": "stderr",
     "output_type": "stream",
     "text": [
      " 59%|█████▉    | 29/49 [10:42<07:39, 22.97s/it]"
     ]
    },
    {
     "name": "stdout",
     "output_type": "stream",
     "text": [
      "Data loaded in 1.8221 seconds, processing\n",
      "Bandpass cleaned in 3.4977 seconds.\n",
      "Stamps filtered in 17.0884 seconds\n",
      "Saving results\n"
     ]
    },
    {
     "name": "stderr",
     "output_type": "stream",
     "text": [
      " 61%|██████    | 30/49 [11:06<07:20, 23.20s/it]"
     ]
    },
    {
     "name": "stdout",
     "output_type": "stream",
     "text": [
      "Results aggregated in 1.3128 seconds\n",
      "Processing coarse channels 210-217\n",
      "Data loaded in 2.1917 seconds, processing\n",
      "Bandpass cleaned in 4.0116 seconds.\n",
      "Stamps filtered in 16.3141 seconds\n",
      "Saving results\n"
     ]
    },
    {
     "name": "stderr",
     "output_type": "stream",
     "text": [
      " 63%|██████▎   | 31/49 [11:29<06:55, 23.06s/it]"
     ]
    },
    {
     "name": "stdout",
     "output_type": "stream",
     "text": [
      "Results aggregated in 0.2078 seconds\n",
      "Processing coarse channels 217-224\n",
      "Data loaded in 2.1521 seconds, processing\n",
      "Bandpass cleaned in 3.5396 seconds.\n",
      "Stamps filtered in 15.5857 seconds\n",
      "Saving results\n",
      "Results aggregated in 0.1405 seconds\n",
      "Processing coarse channels 224-231\n"
     ]
    },
    {
     "name": "stderr",
     "output_type": "stream",
     "text": [
      " 65%|██████▌   | 32/49 [11:50<06:23, 22.57s/it]"
     ]
    },
    {
     "name": "stdout",
     "output_type": "stream",
     "text": [
      "Data loaded in 2.3160 seconds, processing\n",
      "Bandpass cleaned in 3.4491 seconds.\n",
      "Stamps filtered in 15.9101 seconds\n",
      "Saving results\n",
      "Results aggregated in 0.1076 seconds\n",
      "Processing coarse channels 231-238\n"
     ]
    },
    {
     "name": "stderr",
     "output_type": "stream",
     "text": [
      " 67%|██████▋   | 33/49 [12:12<05:57, 22.34s/it]"
     ]
    },
    {
     "name": "stdout",
     "output_type": "stream",
     "text": [
      "Data loaded in 1.7187 seconds, processing\n",
      "Bandpass cleaned in 3.2540 seconds.\n",
      "Stamps filtered in 15.5591 seconds\n",
      "Saving results\n"
     ]
    },
    {
     "name": "stderr",
     "output_type": "stream",
     "text": [
      " 69%|██████▉   | 34/49 [12:33<05:30, 22.02s/it]"
     ]
    },
    {
     "name": "stdout",
     "output_type": "stream",
     "text": [
      "Results aggregated in 0.7074 seconds\n",
      "Processing coarse channels 238-245\n",
      "Data loaded in 1.7820 seconds, processing\n",
      "Bandpass cleaned in 5.9341 seconds.\n",
      "Stamps filtered in 16.4108 seconds\n",
      "Saving results\n"
     ]
    },
    {
     "name": "stderr",
     "output_type": "stream",
     "text": [
      " 71%|███████▏  | 35/49 [12:58<05:18, 22.77s/it]"
     ]
    },
    {
     "name": "stdout",
     "output_type": "stream",
     "text": [
      "Results aggregated in 0.4033 seconds\n",
      "Processing coarse channels 245-252\n",
      "Data loaded in 1.6926 seconds, processing\n",
      "Bandpass cleaned in 3.2302 seconds.\n",
      "Stamps filtered in 15.9771 seconds\n",
      "Saving results\n",
      "Results aggregated in 0.1123 seconds\n",
      "Processing coarse channels 252-259\n"
     ]
    },
    {
     "name": "stderr",
     "output_type": "stream",
     "text": [
      " 73%|███████▎  | 36/49 [13:19<04:49, 22.25s/it]"
     ]
    },
    {
     "name": "stdout",
     "output_type": "stream",
     "text": [
      "Data loaded in 1.7056 seconds, processing\n",
      "Bandpass cleaned in 3.3180 seconds.\n",
      "Stamps filtered in 15.8620 seconds\n",
      "Saving results\n",
      "Results aggregated in 0.1064 seconds\n",
      "Processing coarse channels 259-266\n"
     ]
    },
    {
     "name": "stderr",
     "output_type": "stream",
     "text": [
      " 76%|███████▌  | 37/49 [13:40<04:22, 21.88s/it]"
     ]
    },
    {
     "name": "stdout",
     "output_type": "stream",
     "text": [
      "Data loaded in 1.8971 seconds, processing\n",
      "Bandpass cleaned in 4.1897 seconds.\n",
      "Stamps filtered in 15.7149 seconds\n",
      "Saving results\n",
      "Results aggregated in 0.1215 seconds\n",
      "Processing coarse channels 266-273\n"
     ]
    },
    {
     "name": "stderr",
     "output_type": "stream",
     "text": [
      " 78%|███████▊  | 38/49 [14:02<04:00, 21.89s/it]"
     ]
    },
    {
     "name": "stdout",
     "output_type": "stream",
     "text": [
      "Data loaded in 1.6979 seconds, processing\n",
      "Bandpass cleaned in 3.3051 seconds.\n",
      "Stamps filtered in 16.0161 seconds\n",
      "Saving results\n",
      "Results aggregated in 0.1016 seconds\n",
      "Processing coarse channels 273-280\n"
     ]
    },
    {
     "name": "stderr",
     "output_type": "stream",
     "text": [
      " 80%|███████▉  | 39/49 [14:23<03:36, 21.67s/it]"
     ]
    },
    {
     "name": "stdout",
     "output_type": "stream",
     "text": [
      "Data loaded in 1.7202 seconds, processing\n",
      "Bandpass cleaned in 4.4212 seconds.\n",
      "Stamps filtered in 16.6216 seconds\n",
      "Saving results\n",
      "Results aggregated in 0.1234 seconds\n",
      "Processing coarse channels 280-287\n"
     ]
    },
    {
     "name": "stderr",
     "output_type": "stream",
     "text": [
      " 82%|████████▏ | 40/49 [14:46<03:18, 22.03s/it]"
     ]
    },
    {
     "name": "stdout",
     "output_type": "stream",
     "text": [
      "Data loaded in 1.8736 seconds, processing\n",
      "Bandpass cleaned in 5.3361 seconds.\n",
      "Stamps filtered in 16.6962 seconds\n",
      "Saving results\n"
     ]
    },
    {
     "name": "stderr",
     "output_type": "stream",
     "text": [
      " 84%|████████▎ | 41/49 [15:10<03:01, 22.66s/it]"
     ]
    },
    {
     "name": "stdout",
     "output_type": "stream",
     "text": [
      "Results aggregated in 0.2014 seconds\n",
      "Processing coarse channels 287-294\n",
      "Data loaded in 1.8827 seconds, processing\n",
      "Bandpass cleaned in 3.9077 seconds.\n",
      "Stamps filtered in 16.3132 seconds\n",
      "Saving results\n",
      "Results aggregated in 0.1695 seconds\n",
      "Processing coarse channels 294-301\n"
     ]
    },
    {
     "name": "stderr",
     "output_type": "stream",
     "text": [
      " 86%|████████▌ | 42/49 [15:32<02:37, 22.55s/it]"
     ]
    },
    {
     "name": "stdout",
     "output_type": "stream",
     "text": [
      "Data loaded in 2.5440 seconds, processing\n",
      "Bandpass cleaned in 5.3490 seconds.\n",
      "Stamps filtered in 16.7623 seconds\n",
      "Saving results\n"
     ]
    },
    {
     "name": "stderr",
     "output_type": "stream",
     "text": [
      " 88%|████████▊ | 43/49 [15:57<02:20, 23.41s/it]"
     ]
    },
    {
     "name": "stdout",
     "output_type": "stream",
     "text": [
      "Results aggregated in 0.7133 seconds\n",
      "Processing coarse channels 301-308\n",
      "Data loaded in 1.8004 seconds, processing\n",
      "Bandpass cleaned in 3.9075 seconds.\n",
      "Stamps filtered in 16.6002 seconds\n",
      "Saving results\n",
      "Results aggregated in 0.1527 seconds\n",
      "Processing coarse channels 308-315\n"
     ]
    },
    {
     "name": "stderr",
     "output_type": "stream",
     "text": [
      " 90%|████████▉ | 44/49 [16:20<01:55, 23.13s/it]"
     ]
    },
    {
     "name": "stdout",
     "output_type": "stream",
     "text": [
      "Data loaded in 1.7986 seconds, processing\n",
      "Bandpass cleaned in 3.4174 seconds.\n",
      "Stamps filtered in 16.1018 seconds\n",
      "Saving results\n",
      "Results aggregated in 0.1130 seconds\n",
      "Processing coarse channels 315-322\n"
     ]
    },
    {
     "name": "stderr",
     "output_type": "stream",
     "text": [
      " 92%|█████████▏| 45/49 [16:41<01:30, 22.62s/it]"
     ]
    },
    {
     "name": "stdout",
     "output_type": "stream",
     "text": [
      "Data loaded in 2.1814 seconds, processing\n",
      "Bandpass cleaned in 3.3635 seconds.\n",
      "Stamps filtered in 16.7552 seconds\n",
      "Saving results\n",
      "Results aggregated in 0.1620 seconds\n",
      "Processing coarse channels 322-329\n"
     ]
    },
    {
     "name": "stderr",
     "output_type": "stream",
     "text": [
      " 94%|█████████▍| 46/49 [17:04<01:07, 22.58s/it]"
     ]
    },
    {
     "name": "stdout",
     "output_type": "stream",
     "text": [
      "Data loaded in 2.0459 seconds, processing\n",
      "Bandpass cleaned in 5.2272 seconds.\n",
      "Stamps filtered in 17.9864 seconds\n",
      "Saving results\n",
      "Results aggregated in 0.1488 seconds\n",
      "Processing coarse channels 329-336\n"
     ]
    },
    {
     "name": "stderr",
     "output_type": "stream",
     "text": [
      " 96%|█████████▌| 47/49 [17:29<00:46, 23.43s/it]"
     ]
    },
    {
     "name": "stdout",
     "output_type": "stream",
     "text": [
      "Data loaded in 1.5703 seconds, processing\n",
      "Bandpass cleaned in 4.8558 seconds.\n",
      "Stamps filtered in 16.3120 seconds\n",
      "Saving results\n",
      "Results aggregated in 0.1729 seconds\n",
      "Processing coarse channels 336-343\n"
     ]
    },
    {
     "name": "stderr",
     "output_type": "stream",
     "text": [
      " 98%|█████████▊| 48/49 [17:52<00:23, 23.28s/it]"
     ]
    },
    {
     "name": "stdout",
     "output_type": "stream",
     "text": [
      "Data loaded in 1.8664 seconds, processing\n",
      "Bandpass cleaned in 4.9843 seconds.\n",
      "Stamps filtered in 16.5436 seconds\n",
      "Saving results\n"
     ]
    },
    {
     "name": "stderr",
     "output_type": "stream",
     "text": [
      "100%|██████████| 49/49 [18:16<00:00, 22.37s/it]\n"
     ]
    },
    {
     "name": "stdout",
     "output_type": "stream",
     "text": [
      "Results aggregated in 0.1399 seconds\n",
      "       level_0      index     statistic  pvalue        freqs\n",
      "16278    16278  217072256  23331.721767     0.0  2196.339154\n",
      "16235    16235  217066752  20265.132656     0.0  2196.354532\n",
      "16334    16334  217079424  15297.016044     0.0  2196.319127\n",
      "16320    16320  217077632  15122.839050     0.0  2196.324134\n",
      "343 343\n",
      "Finished Energy Detection on GBT_57698_46195_HIP47463_fine.h5 in 1101.3465 seconds\n",
      "/mnt_blpd7/datax/dl/GBT_57698_46538_HIP48477_fine.h5\n",
      "Header saved to ../../../../../../datax/scratch/pma/reverse_search/train/HIP48477-589/GBT_57698_46538_HIP48477_fine/header.pkl\n",
      "Processing 7 in parallel\n",
      "Processing coarse channels 0-7\n"
     ]
    },
    {
     "name": "stderr",
     "output_type": "stream",
     "text": [
      "  0%|          | 0/49 [00:00<?, ?it/s]"
     ]
    },
    {
     "name": "stdout",
     "output_type": "stream",
     "text": [
      "Data loaded in 2.9977 seconds, processing\n",
      "Bandpass cleaned in 5.3128 seconds.\n",
      "Stamps filtered in 17.0182 seconds\n",
      "Saving results\n",
      "Results aggregated in 0.0944 seconds\n",
      "Processing coarse channels 7-14\n"
     ]
    },
    {
     "name": "stderr",
     "output_type": "stream",
     "text": [
      "  2%|▏         | 1/49 [00:25<20:21, 25.45s/it]"
     ]
    },
    {
     "name": "stdout",
     "output_type": "stream",
     "text": [
      "Data loaded in 1.9002 seconds, processing\n",
      "Bandpass cleaned in 4.5340 seconds.\n",
      "Stamps filtered in 15.9115 seconds\n",
      "Saving results\n",
      "Results aggregated in 0.0717 seconds\n",
      "Processing coarse channels 14-21\n"
     ]
    },
    {
     "name": "stderr",
     "output_type": "stream",
     "text": [
      "  4%|▍         | 2/49 [00:47<18:32, 23.67s/it]"
     ]
    },
    {
     "name": "stdout",
     "output_type": "stream",
     "text": [
      "Data loaded in 1.8677 seconds, processing\n",
      "Bandpass cleaned in 3.4197 seconds.\n",
      "Stamps filtered in 17.1787 seconds\n",
      "Saving results\n",
      "Results aggregated in 0.0722 seconds\n",
      "Processing coarse channels 21-28\n"
     ]
    },
    {
     "name": "stderr",
     "output_type": "stream",
     "text": [
      "  6%|▌         | 3/49 [01:10<17:45, 23.16s/it]"
     ]
    },
    {
     "name": "stdout",
     "output_type": "stream",
     "text": [
      "Data loaded in 2.1641 seconds, processing\n",
      "Bandpass cleaned in 3.5998 seconds.\n",
      "Stamps filtered in 15.6723 seconds\n",
      "Saving results\n",
      "Results aggregated in 0.0679 seconds\n",
      "Processing coarse channels 28-35\n"
     ]
    },
    {
     "name": "stderr",
     "output_type": "stream",
     "text": [
      "  8%|▊         | 4/49 [01:31<16:53, 22.51s/it]"
     ]
    },
    {
     "name": "stdout",
     "output_type": "stream",
     "text": [
      "Data loaded in 1.9923 seconds, processing\n",
      "Bandpass cleaned in 4.0768 seconds.\n",
      "Stamps filtered in 16.2485 seconds\n",
      "Saving results\n",
      "Results aggregated in 0.0874 seconds\n",
      "Processing coarse channels 35-42\n"
     ]
    },
    {
     "name": "stderr",
     "output_type": "stream",
     "text": [
      " 10%|█         | 5/49 [01:54<16:29, 22.48s/it]"
     ]
    },
    {
     "name": "stdout",
     "output_type": "stream",
     "text": [
      "Data loaded in 3.0775 seconds, processing\n",
      "Bandpass cleaned in 4.1716 seconds.\n",
      "Stamps filtered in 15.5332 seconds\n",
      "Saving results\n",
      "Results aggregated in 0.0680 seconds\n",
      "Processing coarse channels 42-49\n"
     ]
    },
    {
     "name": "stderr",
     "output_type": "stream",
     "text": [
      " 12%|█▏        | 6/49 [02:17<16:12, 22.61s/it]"
     ]
    },
    {
     "name": "stdout",
     "output_type": "stream",
     "text": [
      "Data loaded in 1.5885 seconds, processing\n",
      "Bandpass cleaned in 3.2844 seconds.\n",
      "Stamps filtered in 15.8545 seconds\n",
      "Saving results\n",
      "Results aggregated in 0.0645 seconds\n",
      "Processing coarse channels 49-56\n"
     ]
    },
    {
     "name": "stderr",
     "output_type": "stream",
     "text": [
      " 14%|█▍        | 7/49 [02:38<15:24, 22.02s/it]"
     ]
    },
    {
     "name": "stdout",
     "output_type": "stream",
     "text": [
      "Data loaded in 2.1148 seconds, processing\n",
      "Bandpass cleaned in 3.3908 seconds.\n",
      "Stamps filtered in 15.5545 seconds\n",
      "Saving results\n",
      "Results aggregated in 0.0716 seconds\n",
      "Processing coarse channels 56-63\n"
     ]
    },
    {
     "name": "stderr",
     "output_type": "stream",
     "text": [
      " 16%|█▋        | 8/49 [02:59<14:51, 21.74s/it]"
     ]
    },
    {
     "name": "stdout",
     "output_type": "stream",
     "text": [
      "Data loaded in 1.7725 seconds, processing\n",
      "Bandpass cleaned in 3.3363 seconds.\n",
      "Stamps filtered in 16.3528 seconds\n",
      "Saving results\n",
      "Results aggregated in 0.0898 seconds\n",
      "Processing coarse channels 63-70\n"
     ]
    },
    {
     "name": "stderr",
     "output_type": "stream",
     "text": [
      " 18%|█▊        | 9/49 [03:20<14:27, 21.69s/it]"
     ]
    },
    {
     "name": "stdout",
     "output_type": "stream",
     "text": [
      "Data loaded in 1.8896 seconds, processing\n",
      "Bandpass cleaned in 6.2117 seconds.\n",
      "Stamps filtered in 16.1661 seconds\n",
      "Saving results\n",
      "Results aggregated in 0.1017 seconds\n",
      "Processing coarse channels 70-77\n"
     ]
    },
    {
     "name": "stderr",
     "output_type": "stream",
     "text": [
      " 20%|██        | 10/49 [03:45<14:38, 22.52s/it]"
     ]
    },
    {
     "name": "stdout",
     "output_type": "stream",
     "text": [
      "Data loaded in 1.6687 seconds, processing\n",
      "Bandpass cleaned in 3.3601 seconds.\n",
      "Stamps filtered in 15.5028 seconds\n",
      "Saving results\n",
      "Results aggregated in 0.0692 seconds\n",
      "Processing coarse channels 77-84\n"
     ]
    },
    {
     "name": "stderr",
     "output_type": "stream",
     "text": [
      " 22%|██▏       | 11/49 [04:05<13:53, 21.94s/it]"
     ]
    },
    {
     "name": "stdout",
     "output_type": "stream",
     "text": [
      "Data loaded in 1.6956 seconds, processing\n",
      "Bandpass cleaned in 3.4790 seconds.\n",
      "Stamps filtered in 16.2063 seconds\n",
      "Saving results\n",
      "Results aggregated in 0.0747 seconds\n",
      "Processing coarse channels 84-91\n"
     ]
    },
    {
     "name": "stderr",
     "output_type": "stream",
     "text": [
      " 24%|██▍       | 12/49 [04:27<13:26, 21.79s/it]"
     ]
    },
    {
     "name": "stdout",
     "output_type": "stream",
     "text": [
      "Data loaded in 2.3204 seconds, processing\n",
      "Bandpass cleaned in 3.2126 seconds.\n",
      "Stamps filtered in 16.0432 seconds\n",
      "Saving results\n",
      "Results aggregated in 0.0703 seconds\n",
      "Processing coarse channels 91-98\n"
     ]
    },
    {
     "name": "stderr",
     "output_type": "stream",
     "text": [
      " 27%|██▋       | 13/49 [04:48<13:03, 21.75s/it]"
     ]
    },
    {
     "name": "stdout",
     "output_type": "stream",
     "text": [
      "Data loaded in 1.9490 seconds, processing\n",
      "Bandpass cleaned in 3.9782 seconds.\n",
      "Stamps filtered in 16.0440 seconds\n",
      "Saving results\n",
      "Results aggregated in 0.0749 seconds\n",
      "Processing coarse channels 98-105\n"
     ]
    },
    {
     "name": "stderr",
     "output_type": "stream",
     "text": [
      " 29%|██▊       | 14/49 [05:10<12:44, 21.85s/it]"
     ]
    },
    {
     "name": "stdout",
     "output_type": "stream",
     "text": [
      "Data loaded in 1.5728 seconds, processing\n",
      "Bandpass cleaned in 3.1000 seconds.\n",
      "Stamps filtered in 15.8139 seconds\n",
      "Saving results\n"
     ]
    },
    {
     "name": "stderr",
     "output_type": "stream",
     "text": [
      " 31%|███       | 15/49 [05:31<12:11, 21.51s/it]"
     ]
    },
    {
     "name": "stdout",
     "output_type": "stream",
     "text": [
      "Results aggregated in 0.2203 seconds\n",
      "Processing coarse channels 105-112\n",
      "Data loaded in 1.6493 seconds, processing\n",
      "Bandpass cleaned in 3.2291 seconds.\n",
      "Stamps filtered in 16.3263 seconds\n",
      "Saving results\n"
     ]
    },
    {
     "name": "stderr",
     "output_type": "stream",
     "text": [
      " 33%|███▎      | 16/49 [05:53<11:48, 21.48s/it]"
     ]
    },
    {
     "name": "stdout",
     "output_type": "stream",
     "text": [
      "Results aggregated in 0.2009 seconds\n",
      "Processing coarse channels 112-119\n",
      "Data loaded in 1.6718 seconds, processing\n",
      "Bandpass cleaned in 3.2093 seconds.\n",
      "Stamps filtered in 15.7006 seconds\n",
      "Saving results\n",
      "Results aggregated in 0.1430 seconds\n",
      "Processing coarse channels 119-126\n"
     ]
    },
    {
     "name": "stderr",
     "output_type": "stream",
     "text": [
      " 35%|███▍      | 17/49 [06:13<11:20, 21.26s/it]"
     ]
    },
    {
     "name": "stdout",
     "output_type": "stream",
     "text": [
      "Data loaded in 1.8619 seconds, processing\n",
      "Bandpass cleaned in 3.4042 seconds.\n",
      "Stamps filtered in 15.6924 seconds\n",
      "Saving results\n",
      "Results aggregated in 0.1048 seconds\n",
      "Processing coarse channels 126-133\n"
     ]
    },
    {
     "name": "stderr",
     "output_type": "stream",
     "text": [
      " 37%|███▋      | 18/49 [06:34<10:57, 21.20s/it]"
     ]
    },
    {
     "name": "stdout",
     "output_type": "stream",
     "text": [
      "Data loaded in 1.7900 seconds, processing\n",
      "Bandpass cleaned in 3.3829 seconds.\n",
      "Stamps filtered in 15.6415 seconds\n",
      "Saving results\n",
      "Results aggregated in 0.0970 seconds\n",
      "Processing coarse channels 133-140\n"
     ]
    },
    {
     "name": "stderr",
     "output_type": "stream",
     "text": [
      " 39%|███▉      | 19/49 [06:55<10:33, 21.12s/it]"
     ]
    },
    {
     "name": "stdout",
     "output_type": "stream",
     "text": [
      "Data loaded in 1.7141 seconds, processing\n",
      "Bandpass cleaned in 3.1770 seconds.\n",
      "Stamps filtered in 15.7918 seconds\n",
      "Saving results\n",
      "Results aggregated in 0.0943 seconds\n",
      "Processing coarse channels 140-147\n"
     ]
    },
    {
     "name": "stderr",
     "output_type": "stream",
     "text": [
      " 41%|████      | 20/49 [07:16<10:09, 21.02s/it]"
     ]
    },
    {
     "name": "stdout",
     "output_type": "stream",
     "text": [
      "Data loaded in 1.6714 seconds, processing\n",
      "Bandpass cleaned in 3.2829 seconds.\n",
      "Stamps filtered in 16.2101 seconds\n",
      "Saving results\n",
      "Results aggregated in 0.1011 seconds\n",
      "Processing coarse channels 147-154\n"
     ]
    },
    {
     "name": "stderr",
     "output_type": "stream",
     "text": [
      " 43%|████▎     | 21/49 [07:37<09:50, 21.09s/it]"
     ]
    },
    {
     "name": "stdout",
     "output_type": "stream",
     "text": [
      "Data loaded in 1.9462 seconds, processing\n",
      "Bandpass cleaned in 3.5287 seconds.\n",
      "Stamps filtered in 16.6390 seconds\n",
      "Saving results\n",
      "Results aggregated in 0.0994 seconds\n",
      "Processing coarse channels 154-161\n"
     ]
    },
    {
     "name": "stderr",
     "output_type": "stream",
     "text": [
      " 45%|████▍     | 22/49 [08:00<09:38, 21.43s/it]"
     ]
    },
    {
     "name": "stdout",
     "output_type": "stream",
     "text": [
      "Data loaded in 2.1352 seconds, processing\n",
      "Bandpass cleaned in 4.6756 seconds.\n",
      "Stamps filtered in 16.0969 seconds\n",
      "Saving results\n"
     ]
    },
    {
     "name": "stderr",
     "output_type": "stream",
     "text": [
      " 47%|████▋     | 23/49 [08:23<09:31, 21.96s/it]"
     ]
    },
    {
     "name": "stdout",
     "output_type": "stream",
     "text": [
      "Results aggregated in 0.2777 seconds\n",
      "Processing coarse channels 161-168\n",
      "Data loaded in 1.5364 seconds, processing\n",
      "Bandpass cleaned in 3.4901 seconds.\n",
      "Stamps filtered in 15.9938 seconds\n",
      "Saving results\n"
     ]
    },
    {
     "name": "stderr",
     "output_type": "stream",
     "text": [
      " 49%|████▉     | 24/49 [08:44<09:06, 21.84s/it]"
     ]
    },
    {
     "name": "stdout",
     "output_type": "stream",
     "text": [
      "Results aggregated in 0.5258 seconds\n",
      "Processing coarse channels 168-175\n",
      "Data loaded in 1.8520 seconds, processing\n",
      "Bandpass cleaned in 3.4649 seconds.\n",
      "Stamps filtered in 16.5650 seconds\n",
      "Saving results\n",
      "Results aggregated in 0.1377 seconds\n",
      "Processing coarse channels 175-182\n"
     ]
    },
    {
     "name": "stderr",
     "output_type": "stream",
     "text": [
      " 51%|█████     | 25/49 [09:06<08:45, 21.90s/it]"
     ]
    },
    {
     "name": "stdout",
     "output_type": "stream",
     "text": [
      "Data loaded in 1.7436 seconds, processing\n",
      "Bandpass cleaned in 3.3959 seconds.\n",
      "Stamps filtered in 16.4963 seconds\n",
      "Saving results\n",
      "Results aggregated in 0.0964 seconds\n",
      "Processing coarse channels 182-189\n"
     ]
    },
    {
     "name": "stderr",
     "output_type": "stream",
     "text": [
      " 53%|█████▎    | 26/49 [09:28<08:22, 21.85s/it]"
     ]
    },
    {
     "name": "stdout",
     "output_type": "stream",
     "text": [
      "Data loaded in 1.7251 seconds, processing\n",
      "Bandpass cleaned in 3.3727 seconds.\n",
      "Stamps filtered in 16.0526 seconds\n",
      "Saving results\n",
      "Results aggregated in 0.1071 seconds\n",
      "Processing coarse channels 189-196\n"
     ]
    },
    {
     "name": "stderr",
     "output_type": "stream",
     "text": [
      " 55%|█████▌    | 27/49 [09:49<07:56, 21.68s/it]"
     ]
    },
    {
     "name": "stdout",
     "output_type": "stream",
     "text": [
      "Data loaded in 1.7578 seconds, processing\n",
      "Bandpass cleaned in 3.2357 seconds.\n",
      "Stamps filtered in 15.7705 seconds\n",
      "Saving results\n",
      "Results aggregated in 0.1222 seconds\n",
      "Processing coarse channels 196-203\n"
     ]
    },
    {
     "name": "stderr",
     "output_type": "stream",
     "text": [
      " 57%|█████▋    | 28/49 [10:10<07:30, 21.44s/it]"
     ]
    },
    {
     "name": "stdout",
     "output_type": "stream",
     "text": [
      "Data loaded in 1.7075 seconds, processing\n",
      "Bandpass cleaned in 3.5655 seconds.\n",
      "Stamps filtered in 17.0458 seconds\n",
      "Saving results\n",
      "Results aggregated in 0.1450 seconds\n",
      "Processing coarse channels 203-210\n"
     ]
    },
    {
     "name": "stderr",
     "output_type": "stream",
     "text": [
      " 59%|█████▉    | 29/49 [10:33<07:15, 21.75s/it]"
     ]
    },
    {
     "name": "stdout",
     "output_type": "stream",
     "text": [
      "Data loaded in 3.2957 seconds, processing\n",
      "Bandpass cleaned in 4.2136 seconds.\n",
      "Stamps filtered in 16.1700 seconds\n",
      "Saving results\n"
     ]
    },
    {
     "name": "stderr",
     "output_type": "stream",
     "text": [
      " 61%|██████    | 30/49 [10:57<07:07, 22.50s/it]"
     ]
    },
    {
     "name": "stdout",
     "output_type": "stream",
     "text": [
      "Results aggregated in 0.5431 seconds\n",
      "Processing coarse channels 210-217\n",
      "Data loaded in 1.7581 seconds, processing\n",
      "Bandpass cleaned in 3.8139 seconds.\n",
      "Stamps filtered in 16.3723 seconds\n",
      "Saving results\n"
     ]
    },
    {
     "name": "stderr",
     "output_type": "stream",
     "text": [
      " 63%|██████▎   | 31/49 [11:19<06:43, 22.40s/it]"
     ]
    },
    {
     "name": "stdout",
     "output_type": "stream",
     "text": [
      "Results aggregated in 0.2076 seconds\n",
      "Processing coarse channels 217-224\n",
      "Data loaded in 1.7430 seconds, processing\n",
      "Bandpass cleaned in 3.4615 seconds.\n",
      "Stamps filtered in 15.5402 seconds\n",
      "Saving results\n",
      "Results aggregated in 0.1210 seconds\n",
      "Processing coarse channels 224-231\n"
     ]
    },
    {
     "name": "stderr",
     "output_type": "stream",
     "text": [
      " 65%|██████▌   | 32/49 [11:40<06:13, 21.94s/it]"
     ]
    },
    {
     "name": "stdout",
     "output_type": "stream",
     "text": [
      "Data loaded in 2.0276 seconds, processing\n",
      "Bandpass cleaned in 3.4665 seconds.\n",
      "Stamps filtered in 16.2481 seconds\n",
      "Saving results\n",
      "Results aggregated in 0.0977 seconds\n",
      "Processing coarse channels 231-238\n"
     ]
    },
    {
     "name": "stderr",
     "output_type": "stream",
     "text": [
      " 67%|██████▋   | 33/49 [12:02<05:50, 21.91s/it]"
     ]
    },
    {
     "name": "stdout",
     "output_type": "stream",
     "text": [
      "Data loaded in 1.9531 seconds, processing\n",
      "Bandpass cleaned in 3.4811 seconds.\n",
      "Stamps filtered in 16.2432 seconds\n",
      "Saving results\n"
     ]
    },
    {
     "name": "stderr",
     "output_type": "stream",
     "text": [
      " 69%|██████▉   | 34/49 [12:24<05:29, 21.98s/it]"
     ]
    },
    {
     "name": "stdout",
     "output_type": "stream",
     "text": [
      "Results aggregated in 0.4489 seconds\n",
      "Processing coarse channels 238-245\n",
      "Data loaded in 2.1602 seconds, processing\n",
      "Bandpass cleaned in 3.5140 seconds.\n",
      "Stamps filtered in 15.9093 seconds\n",
      "Saving results\n"
     ]
    },
    {
     "name": "stderr",
     "output_type": "stream",
     "text": [
      " 71%|███████▏  | 35/49 [12:46<05:07, 21.96s/it]"
     ]
    },
    {
     "name": "stdout",
     "output_type": "stream",
     "text": [
      "Results aggregated in 0.2973 seconds\n",
      "Processing coarse channels 245-252\n",
      "Data loaded in 1.6247 seconds, processing\n",
      "Bandpass cleaned in 3.2739 seconds.\n",
      "Stamps filtered in 16.1719 seconds\n",
      "Saving results\n",
      "Results aggregated in 0.1133 seconds\n",
      "Processing coarse channels 252-259\n"
     ]
    },
    {
     "name": "stderr",
     "output_type": "stream",
     "text": [
      " 73%|███████▎  | 36/49 [13:07<04:42, 21.73s/it]"
     ]
    },
    {
     "name": "stdout",
     "output_type": "stream",
     "text": [
      "Data loaded in 1.8566 seconds, processing\n",
      "Bandpass cleaned in 3.2464 seconds.\n",
      "Stamps filtered in 15.7160 seconds\n",
      "Saving results\n",
      "Results aggregated in 0.1120 seconds\n",
      "Processing coarse channels 259-266\n"
     ]
    },
    {
     "name": "stderr",
     "output_type": "stream",
     "text": [
      " 76%|███████▌  | 37/49 [13:28<04:17, 21.49s/it]"
     ]
    },
    {
     "name": "stdout",
     "output_type": "stream",
     "text": [
      "Data loaded in 1.5622 seconds, processing\n",
      "Bandpass cleaned in 3.4930 seconds.\n",
      "Stamps filtered in 15.8767 seconds\n",
      "Saving results\n",
      "Results aggregated in 0.1115 seconds\n",
      "Processing coarse channels 266-273\n"
     ]
    },
    {
     "name": "stderr",
     "output_type": "stream",
     "text": [
      " 78%|███████▊  | 38/49 [13:49<03:54, 21.36s/it]"
     ]
    },
    {
     "name": "stdout",
     "output_type": "stream",
     "text": [
      "Data loaded in 2.8664 seconds, processing\n",
      "Bandpass cleaned in 4.2860 seconds.\n",
      "Stamps filtered in 16.7181 seconds\n",
      "Saving results\n",
      "Results aggregated in 0.1185 seconds\n",
      "Processing coarse channels 273-280\n"
     ]
    },
    {
     "name": "stderr",
     "output_type": "stream",
     "text": [
      " 80%|███████▉  | 39/49 [14:13<03:41, 22.16s/it]"
     ]
    },
    {
     "name": "stdout",
     "output_type": "stream",
     "text": [
      "Data loaded in 1.6865 seconds, processing\n",
      "Bandpass cleaned in 3.8926 seconds.\n",
      "Stamps filtered in 16.5890 seconds\n",
      "Saving results\n",
      "Results aggregated in 0.1212 seconds\n",
      "Processing coarse channels 280-287\n"
     ]
    },
    {
     "name": "stderr",
     "output_type": "stream",
     "text": [
      " 82%|████████▏ | 40/49 [14:35<03:19, 22.20s/it]"
     ]
    },
    {
     "name": "stdout",
     "output_type": "stream",
     "text": [
      "Data loaded in 1.5546 seconds, processing\n",
      "Bandpass cleaned in 3.2714 seconds.\n",
      "Stamps filtered in 16.4456 seconds\n",
      "Saving results\n",
      "Results aggregated in 0.1149 seconds\n",
      "Processing coarse channels 287-294\n"
     ]
    },
    {
     "name": "stderr",
     "output_type": "stream",
     "text": [
      " 84%|████████▎ | 41/49 [14:57<02:55, 21.96s/it]"
     ]
    },
    {
     "name": "stdout",
     "output_type": "stream",
     "text": [
      "Data loaded in 2.3120 seconds, processing\n",
      "Bandpass cleaned in 5.2459 seconds.\n",
      "Stamps filtered in 16.4939 seconds\n",
      "Saving results\n",
      "Results aggregated in 0.1530 seconds\n",
      "Processing coarse channels 294-301\n"
     ]
    },
    {
     "name": "stderr",
     "output_type": "stream",
     "text": [
      " 86%|████████▌ | 42/49 [15:21<02:38, 22.64s/it]"
     ]
    },
    {
     "name": "stdout",
     "output_type": "stream",
     "text": [
      "Data loaded in 1.6345 seconds, processing\n",
      "Bandpass cleaned in 3.3943 seconds.\n",
      "Stamps filtered in 16.1366 seconds\n",
      "Saving results\n"
     ]
    },
    {
     "name": "stderr",
     "output_type": "stream",
     "text": [
      " 88%|████████▊ | 43/49 [15:43<02:14, 22.41s/it]"
     ]
    },
    {
     "name": "stdout",
     "output_type": "stream",
     "text": [
      "Results aggregated in 0.7056 seconds\n",
      "Processing coarse channels 301-308\n",
      "Data loaded in 1.7236 seconds, processing\n",
      "Bandpass cleaned in 3.3337 seconds.\n",
      "Stamps filtered in 16.2702 seconds\n",
      "Saving results\n",
      "Results aggregated in 0.1785 seconds\n",
      "Processing coarse channels 308-315\n"
     ]
    },
    {
     "name": "stderr",
     "output_type": "stream",
     "text": [
      " 90%|████████▉ | 44/49 [16:04<01:50, 22.14s/it]"
     ]
    },
    {
     "name": "stdout",
     "output_type": "stream",
     "text": [
      "Data loaded in 1.7470 seconds, processing\n",
      "Bandpass cleaned in 3.3711 seconds.\n",
      "Stamps filtered in 15.9119 seconds\n",
      "Saving results\n",
      "Results aggregated in 0.1034 seconds\n",
      "Processing coarse channels 315-322\n"
     ]
    },
    {
     "name": "stderr",
     "output_type": "stream",
     "text": [
      " 92%|█████████▏| 45/49 [16:26<01:27, 21.84s/it]"
     ]
    },
    {
     "name": "stdout",
     "output_type": "stream",
     "text": [
      "Data loaded in 2.0075 seconds, processing\n",
      "Bandpass cleaned in 3.3860 seconds.\n",
      "Stamps filtered in 16.2868 seconds\n",
      "Saving results\n",
      "Results aggregated in 0.1477 seconds\n",
      "Processing coarse channels 322-329\n"
     ]
    },
    {
     "name": "stderr",
     "output_type": "stream",
     "text": [
      " 94%|█████████▍| 46/49 [16:47<01:05, 21.84s/it]"
     ]
    },
    {
     "name": "stdout",
     "output_type": "stream",
     "text": [
      "Data loaded in 1.7744 seconds, processing\n",
      "Bandpass cleaned in 5.2508 seconds.\n",
      "Stamps filtered in 16.0542 seconds\n",
      "Saving results\n",
      "Results aggregated in 0.1696 seconds\n",
      "Processing coarse channels 329-336\n"
     ]
    },
    {
     "name": "stderr",
     "output_type": "stream",
     "text": [
      " 96%|█████████▌| 47/49 [17:11<00:44, 22.27s/it]"
     ]
    },
    {
     "name": "stdout",
     "output_type": "stream",
     "text": [
      "Data loaded in 1.9920 seconds, processing\n",
      "Bandpass cleaned in 3.6207 seconds.\n",
      "Stamps filtered in 16.2470 seconds\n",
      "Saving results\n",
      "Results aggregated in 0.1126 seconds\n",
      "Processing coarse channels 336-343\n"
     ]
    },
    {
     "name": "stderr",
     "output_type": "stream",
     "text": [
      " 98%|█████████▊| 48/49 [17:33<00:22, 22.18s/it]"
     ]
    },
    {
     "name": "stdout",
     "output_type": "stream",
     "text": [
      "Data loaded in 1.6666 seconds, processing\n",
      "Bandpass cleaned in 3.3671 seconds.\n",
      "Stamps filtered in 15.8566 seconds\n",
      "Saving results\n"
     ]
    },
    {
     "name": "stderr",
     "output_type": "stream",
     "text": [
      "100%|██████████| 49/49 [17:54<00:00, 21.92s/it]\n"
     ]
    },
    {
     "name": "stdout",
     "output_type": "stream",
     "text": [
      "Results aggregated in 0.1115 seconds\n",
      "       level_0      index     statistic  pvalue        freqs\n",
      "8667      8667  199940864  14063.023993     0.0  2244.203711\n",
      "8666      8666  199940736  14062.711775     0.0  2244.204068\n",
      "16316    16316  249697792  12152.738930     0.0  2105.184460\n",
      "16143    16143  249621376  12116.747876     0.0  2105.397964\n",
      "343 343\n",
      "Finished Energy Detection on GBT_57698_46538_HIP48477_fine.h5 in 1078.7927 seconds\n",
      "/mnt_blpd7/datax/dl/GBT_57698_46878_HIP47735_fine.h5\n",
      "Header saved to ../../../../../../datax/scratch/pma/reverse_search/train/HIP48477-589/GBT_57698_46878_HIP47735_fine/header.pkl\n",
      "Processing 7 in parallel\n",
      "Processing coarse channels 0-7\n"
     ]
    },
    {
     "name": "stderr",
     "output_type": "stream",
     "text": [
      "  0%|          | 0/49 [00:00<?, ?it/s]"
     ]
    },
    {
     "name": "stdout",
     "output_type": "stream",
     "text": [
      "Data loaded in 2.8456 seconds, processing\n",
      "Bandpass cleaned in 3.4904 seconds.\n",
      "Stamps filtered in 16.0614 seconds\n",
      "Saving results\n",
      "Results aggregated in 0.0713 seconds\n",
      "Processing coarse channels 7-14\n"
     ]
    },
    {
     "name": "stderr",
     "output_type": "stream",
     "text": [
      "  2%|▏         | 1/49 [00:22<17:59, 22.48s/it]"
     ]
    },
    {
     "name": "stdout",
     "output_type": "stream",
     "text": [
      "Data loaded in 2.3035 seconds, processing\n",
      "Bandpass cleaned in 3.2918 seconds.\n",
      "Stamps filtered in 16.5513 seconds\n",
      "Saving results\n",
      "Results aggregated in 0.0776 seconds\n",
      "Processing coarse channels 14-21\n"
     ]
    },
    {
     "name": "stderr",
     "output_type": "stream",
     "text": [
      "  4%|▍         | 2/49 [00:44<17:29, 22.34s/it]"
     ]
    },
    {
     "name": "stdout",
     "output_type": "stream",
     "text": [
      "Data loaded in 1.8938 seconds, processing\n",
      "Bandpass cleaned in 3.4620 seconds.\n",
      "Stamps filtered in 16.1351 seconds\n",
      "Saving results\n",
      "Results aggregated in 0.0705 seconds\n",
      "Processing coarse channels 21-28\n"
     ]
    },
    {
     "name": "stderr",
     "output_type": "stream",
     "text": [
      "  6%|▌         | 3/49 [01:06<16:51, 21.99s/it]"
     ]
    },
    {
     "name": "stdout",
     "output_type": "stream",
     "text": [
      "Data loaded in 3.9983 seconds, processing\n",
      "Bandpass cleaned in 4.1453 seconds.\n",
      "Stamps filtered in 16.1242 seconds\n",
      "Saving results\n",
      "Results aggregated in 0.0724 seconds\n",
      "Processing coarse channels 28-35\n"
     ]
    },
    {
     "name": "stderr",
     "output_type": "stream",
     "text": [
      "  8%|▊         | 4/49 [01:30<17:11, 22.93s/it]"
     ]
    },
    {
     "name": "stdout",
     "output_type": "stream",
     "text": [
      "Data loaded in 1.7704 seconds, processing\n",
      "Bandpass cleaned in 3.3772 seconds.\n",
      "Stamps filtered in 16.6300 seconds\n",
      "Saving results\n",
      "Results aggregated in 0.0701 seconds\n",
      "Processing coarse channels 35-42\n"
     ]
    },
    {
     "name": "stderr",
     "output_type": "stream",
     "text": [
      " 10%|█         | 5/49 [01:52<16:31, 22.54s/it]"
     ]
    },
    {
     "name": "stdout",
     "output_type": "stream",
     "text": [
      "Data loaded in 2.3393 seconds, processing\n",
      "Bandpass cleaned in 4.9324 seconds.\n",
      "Stamps filtered in 16.1885 seconds\n",
      "Saving results\n",
      "Results aggregated in 0.0926 seconds\n",
      "Processing coarse channels 42-49\n"
     ]
    },
    {
     "name": "stderr",
     "output_type": "stream",
     "text": [
      " 12%|█▏        | 6/49 [02:16<16:24, 22.89s/it]"
     ]
    },
    {
     "name": "stdout",
     "output_type": "stream",
     "text": [
      "Data loaded in 2.6368 seconds, processing\n",
      "Bandpass cleaned in 4.4422 seconds.\n",
      "Stamps filtered in 16.3688 seconds\n",
      "Saving results\n",
      "Results aggregated in 0.0652 seconds\n",
      "Processing coarse channels 49-56\n"
     ]
    },
    {
     "name": "stderr",
     "output_type": "stream",
     "text": [
      " 14%|█▍        | 7/49 [02:39<16:10, 23.10s/it]"
     ]
    },
    {
     "name": "stdout",
     "output_type": "stream",
     "text": [
      "Data loaded in 1.8419 seconds, processing\n",
      "Bandpass cleaned in 3.6770 seconds.\n",
      "Stamps filtered in 16.9364 seconds\n",
      "Saving results\n",
      "Results aggregated in 0.0746 seconds\n",
      "Processing coarse channels 56-63\n"
     ]
    },
    {
     "name": "stderr",
     "output_type": "stream",
     "text": [
      " 16%|█▋        | 8/49 [03:02<15:39, 22.92s/it]"
     ]
    },
    {
     "name": "stdout",
     "output_type": "stream",
     "text": [
      "Data loaded in 1.7662 seconds, processing\n",
      "Bandpass cleaned in 3.5552 seconds.\n",
      "Stamps filtered in 17.6022 seconds\n",
      "Saving results\n",
      "Results aggregated in 0.0721 seconds\n",
      "Processing coarse channels 63-70\n"
     ]
    },
    {
     "name": "stderr",
     "output_type": "stream",
     "text": [
      " 18%|█▊        | 9/49 [03:25<15:17, 22.95s/it]"
     ]
    },
    {
     "name": "stdout",
     "output_type": "stream",
     "text": [
      "Data loaded in 2.1653 seconds, processing\n",
      "Bandpass cleaned in 3.4508 seconds.\n",
      "Stamps filtered in 16.2399 seconds\n",
      "Saving results\n",
      "Results aggregated in 0.0979 seconds\n",
      "Processing coarse channels 70-77\n"
     ]
    },
    {
     "name": "stderr",
     "output_type": "stream",
     "text": [
      " 20%|██        | 10/49 [03:47<14:43, 22.65s/it]"
     ]
    },
    {
     "name": "stdout",
     "output_type": "stream",
     "text": [
      "Data loaded in 1.9032 seconds, processing\n",
      "Bandpass cleaned in 3.7030 seconds.\n",
      "Stamps filtered in 16.6055 seconds\n",
      "Saving results\n",
      "Results aggregated in 0.0774 seconds\n",
      "Processing coarse channels 77-84\n"
     ]
    },
    {
     "name": "stderr",
     "output_type": "stream",
     "text": [
      " 22%|██▏       | 11/49 [04:09<14:16, 22.54s/it]"
     ]
    },
    {
     "name": "stdout",
     "output_type": "stream",
     "text": [
      "Data loaded in 1.6780 seconds, processing\n",
      "Bandpass cleaned in 4.2185 seconds.\n",
      "Stamps filtered in 16.2223 seconds\n",
      "Saving results\n",
      "Results aggregated in 0.0748 seconds\n",
      "Processing coarse channels 84-91\n"
     ]
    },
    {
     "name": "stderr",
     "output_type": "stream",
     "text": [
      " 24%|██▍       | 12/49 [04:31<13:50, 22.44s/it]"
     ]
    },
    {
     "name": "stdout",
     "output_type": "stream",
     "text": [
      "Data loaded in 1.5414 seconds, processing\n",
      "Bandpass cleaned in 3.4739 seconds.\n",
      "Stamps filtered in 16.4925 seconds\n",
      "Saving results\n",
      "Results aggregated in 0.0755 seconds\n",
      "Processing coarse channels 91-98\n"
     ]
    },
    {
     "name": "stderr",
     "output_type": "stream",
     "text": [
      " 27%|██▋       | 13/49 [04:53<13:18, 22.18s/it]"
     ]
    },
    {
     "name": "stdout",
     "output_type": "stream",
     "text": [
      "Data loaded in 2.4522 seconds, processing\n",
      "Bandpass cleaned in 3.6595 seconds.\n",
      "Stamps filtered in 16.5627 seconds\n",
      "Saving results\n",
      "Results aggregated in 0.0759 seconds\n",
      "Processing coarse channels 98-105\n"
     ]
    },
    {
     "name": "stderr",
     "output_type": "stream",
     "text": [
      " 29%|██▊       | 14/49 [05:16<13:02, 22.36s/it]"
     ]
    },
    {
     "name": "stdout",
     "output_type": "stream",
     "text": [
      "Data loaded in 1.6408 seconds, processing\n",
      "Bandpass cleaned in 3.4979 seconds.\n",
      "Stamps filtered in 16.2591 seconds\n",
      "Saving results\n",
      "Results aggregated in 0.0732 seconds\n",
      "Processing coarse channels 105-112\n"
     ]
    },
    {
     "name": "stderr",
     "output_type": "stream",
     "text": [
      " 31%|███       | 15/49 [05:37<12:31, 22.10s/it]"
     ]
    },
    {
     "name": "stdout",
     "output_type": "stream",
     "text": [
      "Data loaded in 1.9645 seconds, processing\n",
      "Bandpass cleaned in 3.4254 seconds.\n",
      "Stamps filtered in 16.2733 seconds\n",
      "Saving results\n",
      "Results aggregated in 0.0957 seconds\n",
      "Processing coarse channels 112-119\n"
     ]
    },
    {
     "name": "stderr",
     "output_type": "stream",
     "text": [
      " 33%|███▎      | 16/49 [05:59<12:05, 22.00s/it]"
     ]
    },
    {
     "name": "stdout",
     "output_type": "stream",
     "text": [
      "Data loaded in 2.8009 seconds, processing\n",
      "Bandpass cleaned in 5.3804 seconds.\n",
      "Stamps filtered in 16.2492 seconds\n",
      "Saving results\n",
      "Results aggregated in 0.0895 seconds\n",
      "Processing coarse channels 119-126\n"
     ]
    },
    {
     "name": "stderr",
     "output_type": "stream",
     "text": [
      " 35%|███▍      | 17/49 [06:23<12:08, 22.76s/it]"
     ]
    },
    {
     "name": "stdout",
     "output_type": "stream",
     "text": [
      "Data loaded in 2.0923 seconds, processing\n",
      "Bandpass cleaned in 3.9220 seconds.\n",
      "Stamps filtered in 15.6910 seconds\n",
      "Saving results\n",
      "Results aggregated in 0.0912 seconds\n",
      "Processing coarse channels 126-133\n"
     ]
    },
    {
     "name": "stderr",
     "output_type": "stream",
     "text": [
      " 37%|███▋      | 18/49 [06:45<11:36, 22.47s/it]"
     ]
    },
    {
     "name": "stdout",
     "output_type": "stream",
     "text": [
      "Data loaded in 1.9034 seconds, processing\n",
      "Bandpass cleaned in 3.2969 seconds.\n",
      "Stamps filtered in 15.5463 seconds\n",
      "Saving results\n",
      "Results aggregated in 0.0837 seconds\n",
      "Processing coarse channels 133-140\n"
     ]
    },
    {
     "name": "stderr",
     "output_type": "stream",
     "text": [
      " 39%|███▉      | 19/49 [07:06<10:59, 21.98s/it]"
     ]
    },
    {
     "name": "stdout",
     "output_type": "stream",
     "text": [
      "Data loaded in 1.8033 seconds, processing\n",
      "Bandpass cleaned in 3.6152 seconds.\n",
      "Stamps filtered in 15.6280 seconds\n",
      "Saving results\n",
      "Results aggregated in 0.0806 seconds\n",
      "Processing coarse channels 140-147\n"
     ]
    },
    {
     "name": "stderr",
     "output_type": "stream",
     "text": [
      " 41%|████      | 20/49 [07:27<10:30, 21.73s/it]"
     ]
    },
    {
     "name": "stdout",
     "output_type": "stream",
     "text": [
      "Data loaded in 1.6580 seconds, processing\n",
      "Bandpass cleaned in 3.2435 seconds.\n",
      "Stamps filtered in 16.4578 seconds\n",
      "Saving results\n",
      "Results aggregated in 0.0877 seconds\n",
      "Processing coarse channels 147-154\n"
     ]
    },
    {
     "name": "stderr",
     "output_type": "stream",
     "text": [
      " 43%|████▎     | 21/49 [07:49<10:06, 21.65s/it]"
     ]
    },
    {
     "name": "stdout",
     "output_type": "stream",
     "text": [
      "Data loaded in 4.5957 seconds, processing\n",
      "Bandpass cleaned in 4.0699 seconds.\n",
      "Stamps filtered in 15.6978 seconds\n",
      "Saving results\n",
      "Results aggregated in 0.1021 seconds\n",
      "Processing coarse channels 154-161\n"
     ]
    },
    {
     "name": "stderr",
     "output_type": "stream",
     "text": [
      " 45%|████▍     | 22/49 [08:13<10:07, 22.50s/it]"
     ]
    },
    {
     "name": "stdout",
     "output_type": "stream",
     "text": [
      "Data loaded in 1.8664 seconds, processing\n",
      "Bandpass cleaned in 3.4273 seconds.\n",
      "Stamps filtered in 15.7354 seconds\n",
      "Saving results\n"
     ]
    },
    {
     "name": "stderr",
     "output_type": "stream",
     "text": [
      " 47%|████▋     | 23/49 [08:35<09:37, 22.20s/it]"
     ]
    },
    {
     "name": "stdout",
     "output_type": "stream",
     "text": [
      "Results aggregated in 0.4428 seconds\n",
      "Processing coarse channels 161-168\n",
      "Data loaded in 1.7657 seconds, processing\n",
      "Bandpass cleaned in 3.3468 seconds.\n",
      "Stamps filtered in 16.0056 seconds\n",
      "Saving results\n"
     ]
    },
    {
     "name": "stderr",
     "output_type": "stream",
     "text": [
      " 49%|████▉     | 24/49 [08:56<09:11, 22.04s/it]"
     ]
    },
    {
     "name": "stdout",
     "output_type": "stream",
     "text": [
      "Results aggregated in 0.5547 seconds\n",
      "Processing coarse channels 168-175\n",
      "Data loaded in 2.6740 seconds, processing\n",
      "Bandpass cleaned in 4.0813 seconds.\n",
      "Stamps filtered in 15.5366 seconds\n",
      "Saving results\n",
      "Results aggregated in 0.1344 seconds\n",
      "Processing coarse channels 175-182\n"
     ]
    },
    {
     "name": "stderr",
     "output_type": "stream",
     "text": [
      " 51%|█████     | 25/49 [09:19<08:51, 22.16s/it]"
     ]
    },
    {
     "name": "stdout",
     "output_type": "stream",
     "text": [
      "Data loaded in 1.6811 seconds, processing\n",
      "Bandpass cleaned in 3.5276 seconds.\n",
      "Stamps filtered in 15.4062 seconds\n",
      "Saving results\n",
      "Results aggregated in 0.0898 seconds\n",
      "Processing coarse channels 182-189\n"
     ]
    },
    {
     "name": "stderr",
     "output_type": "stream",
     "text": [
      " 53%|█████▎    | 26/49 [09:39<08:19, 21.73s/it]"
     ]
    },
    {
     "name": "stdout",
     "output_type": "stream",
     "text": [
      "Data loaded in 2.2165 seconds, processing\n",
      "Bandpass cleaned in 3.6276 seconds.\n",
      "Stamps filtered in 15.2358 seconds\n",
      "Saving results\n",
      "Results aggregated in 0.1029 seconds\n",
      "Processing coarse channels 189-196\n"
     ]
    },
    {
     "name": "stderr",
     "output_type": "stream",
     "text": [
      " 55%|█████▌    | 27/49 [10:01<07:54, 21.57s/it]"
     ]
    },
    {
     "name": "stdout",
     "output_type": "stream",
     "text": [
      "Data loaded in 1.8330 seconds, processing\n",
      "Bandpass cleaned in 3.2632 seconds.\n",
      "Stamps filtered in 15.4485 seconds\n",
      "Saving results\n",
      "Results aggregated in 0.0989 seconds\n",
      "Processing coarse channels 196-203\n"
     ]
    },
    {
     "name": "stderr",
     "output_type": "stream",
     "text": [
      " 57%|█████▋    | 28/49 [10:21<07:27, 21.29s/it]"
     ]
    },
    {
     "name": "stdout",
     "output_type": "stream",
     "text": [
      "Data loaded in 1.7903 seconds, processing\n",
      "Bandpass cleaned in 3.3565 seconds.\n",
      "Stamps filtered in 15.4279 seconds\n",
      "Saving results\n",
      "Results aggregated in 0.0990 seconds\n",
      "Processing coarse channels 203-210\n"
     ]
    },
    {
     "name": "stderr",
     "output_type": "stream",
     "text": [
      " 59%|█████▉    | 29/49 [10:42<07:02, 21.11s/it]"
     ]
    },
    {
     "name": "stdout",
     "output_type": "stream",
     "text": [
      "Data loaded in 1.6195 seconds, processing\n",
      "Bandpass cleaned in 3.5527 seconds.\n",
      "Stamps filtered in 15.3242 seconds\n",
      "Saving results\n"
     ]
    },
    {
     "name": "stderr",
     "output_type": "stream",
     "text": [
      " 61%|██████    | 30/49 [11:03<06:40, 21.08s/it]"
     ]
    },
    {
     "name": "stdout",
     "output_type": "stream",
     "text": [
      "Results aggregated in 0.5123 seconds\n",
      "Processing coarse channels 210-217\n",
      "Data loaded in 1.6721 seconds, processing\n",
      "Bandpass cleaned in 3.5713 seconds.\n",
      "Stamps filtered in 15.8000 seconds\n",
      "Saving results\n",
      "Results aggregated in 0.1221 seconds\n",
      "Processing coarse channels 217-224\n"
     ]
    },
    {
     "name": "stderr",
     "output_type": "stream",
     "text": [
      " 63%|██████▎   | 31/49 [11:24<06:19, 21.11s/it]"
     ]
    },
    {
     "name": "stdout",
     "output_type": "stream",
     "text": [
      "Data loaded in 1.7672 seconds, processing\n",
      "Bandpass cleaned in 3.3821 seconds.\n",
      "Stamps filtered in 16.0312 seconds\n",
      "Saving results\n",
      "Results aggregated in 0.1096 seconds\n",
      "Processing coarse channels 224-231\n"
     ]
    },
    {
     "name": "stderr",
     "output_type": "stream",
     "text": [
      " 65%|██████▌   | 32/49 [11:45<05:59, 21.17s/it]"
     ]
    },
    {
     "name": "stdout",
     "output_type": "stream",
     "text": [
      "Data loaded in 1.7928 seconds, processing\n",
      "Bandpass cleaned in 3.2817 seconds.\n",
      "Stamps filtered in 15.5458 seconds\n",
      "Saving results\n",
      "Results aggregated in 0.1001 seconds\n",
      "Processing coarse channels 231-238\n"
     ]
    },
    {
     "name": "stderr",
     "output_type": "stream",
     "text": [
      " 67%|██████▋   | 33/49 [12:06<05:36, 21.04s/it]"
     ]
    },
    {
     "name": "stdout",
     "output_type": "stream",
     "text": [
      "Data loaded in 1.6912 seconds, processing\n",
      "Bandpass cleaned in 3.2713 seconds.\n",
      "Stamps filtered in 15.1938 seconds\n",
      "Saving results\n",
      "Results aggregated in 0.1162 seconds\n",
      "Processing coarse channels 238-245\n"
     ]
    },
    {
     "name": "stderr",
     "output_type": "stream",
     "text": [
      " 69%|██████▉   | 34/49 [12:26<05:12, 20.81s/it]"
     ]
    },
    {
     "name": "stdout",
     "output_type": "stream",
     "text": [
      "Data loaded in 1.6137 seconds, processing\n",
      "Bandpass cleaned in 3.2869 seconds.\n",
      "Stamps filtered in 15.6162 seconds\n",
      "Saving results\n",
      "Results aggregated in 0.1115 seconds\n",
      "Processing coarse channels 245-252\n"
     ]
    },
    {
     "name": "stderr",
     "output_type": "stream",
     "text": [
      " 71%|███████▏  | 35/49 [12:47<04:50, 20.76s/it]"
     ]
    },
    {
     "name": "stdout",
     "output_type": "stream",
     "text": [
      "Data loaded in 1.9496 seconds, processing\n",
      "Bandpass cleaned in 4.1707 seconds.\n",
      "Stamps filtered in 16.1906 seconds\n",
      "Saving results\n",
      "Results aggregated in 0.1224 seconds\n",
      "Processing coarse channels 252-259\n"
     ]
    },
    {
     "name": "stderr",
     "output_type": "stream",
     "text": [
      " 73%|███████▎  | 36/49 [13:09<04:36, 21.27s/it]"
     ]
    },
    {
     "name": "stdout",
     "output_type": "stream",
     "text": [
      "Data loaded in 1.6635 seconds, processing\n",
      "Bandpass cleaned in 4.1505 seconds.\n",
      "Stamps filtered in 15.8799 seconds\n",
      "Saving results\n",
      "Results aggregated in 0.0976 seconds\n",
      "Processing coarse channels 259-266\n"
     ]
    },
    {
     "name": "stderr",
     "output_type": "stream",
     "text": [
      " 76%|███████▌  | 37/49 [13:31<04:17, 21.43s/it]"
     ]
    },
    {
     "name": "stdout",
     "output_type": "stream",
     "text": [
      "Data loaded in 1.9582 seconds, processing\n",
      "Bandpass cleaned in 4.0561 seconds.\n",
      "Stamps filtered in 15.5956 seconds\n",
      "Saving results\n",
      "Results aggregated in 0.1050 seconds\n",
      "Processing coarse channels 266-273\n"
     ]
    },
    {
     "name": "stderr",
     "output_type": "stream",
     "text": [
      " 78%|███████▊  | 38/49 [13:53<03:56, 21.52s/it]"
     ]
    },
    {
     "name": "stdout",
     "output_type": "stream",
     "text": [
      "Data loaded in 1.8036 seconds, processing\n",
      "Bandpass cleaned in 4.8823 seconds.\n",
      "Stamps filtered in 15.7228 seconds\n",
      "Saving results\n",
      "Results aggregated in 0.1058 seconds\n",
      "Processing coarse channels 273-280\n"
     ]
    },
    {
     "name": "stderr",
     "output_type": "stream",
     "text": [
      " 80%|███████▉  | 39/49 [14:16<03:38, 21.82s/it]"
     ]
    },
    {
     "name": "stdout",
     "output_type": "stream",
     "text": [
      "Data loaded in 1.8293 seconds, processing\n",
      "Bandpass cleaned in 3.4141 seconds.\n",
      "Stamps filtered in 15.3183 seconds\n",
      "Saving results\n",
      "Results aggregated in 0.1263 seconds\n",
      "Processing coarse channels 280-287\n"
     ]
    },
    {
     "name": "stderr",
     "output_type": "stream",
     "text": [
      " 82%|████████▏ | 40/49 [14:36<03:13, 21.48s/it]"
     ]
    },
    {
     "name": "stdout",
     "output_type": "stream",
     "text": [
      "Data loaded in 1.9138 seconds, processing\n",
      "Bandpass cleaned in 3.4044 seconds.\n",
      "Stamps filtered in 15.4387 seconds\n",
      "Saving results\n",
      "Results aggregated in 0.1105 seconds\n",
      "Processing coarse channels 287-294\n"
     ]
    },
    {
     "name": "stderr",
     "output_type": "stream",
     "text": [
      " 84%|████████▎ | 41/49 [14:57<02:50, 21.30s/it]"
     ]
    },
    {
     "name": "stdout",
     "output_type": "stream",
     "text": [
      "Data loaded in 1.7557 seconds, processing\n",
      "Bandpass cleaned in 3.3749 seconds.\n",
      "Stamps filtered in 14.7894 seconds\n",
      "Saving results\n",
      "Results aggregated in 0.1156 seconds\n",
      "Processing coarse channels 294-301\n"
     ]
    },
    {
     "name": "stderr",
     "output_type": "stream",
     "text": [
      " 86%|████████▌ | 42/49 [15:17<02:26, 20.93s/it]"
     ]
    },
    {
     "name": "stdout",
     "output_type": "stream",
     "text": [
      "Data loaded in 1.7731 seconds, processing\n",
      "Bandpass cleaned in 3.4148 seconds.\n",
      "Stamps filtered in 15.6861 seconds\n",
      "Saving results\n"
     ]
    },
    {
     "name": "stderr",
     "output_type": "stream",
     "text": [
      " 88%|████████▊ | 43/49 [15:39<02:06, 21.11s/it]"
     ]
    },
    {
     "name": "stdout",
     "output_type": "stream",
     "text": [
      "Results aggregated in 0.6344 seconds\n",
      "Processing coarse channels 301-308\n",
      "Data loaded in 1.8435 seconds, processing\n",
      "Bandpass cleaned in 3.3688 seconds.\n",
      "Stamps filtered in 15.6946 seconds\n",
      "Saving results\n",
      "Results aggregated in 0.1739 seconds\n",
      "Processing coarse channels 308-315\n"
     ]
    },
    {
     "name": "stderr",
     "output_type": "stream",
     "text": [
      " 90%|████████▉ | 44/49 [16:00<01:45, 21.10s/it]"
     ]
    },
    {
     "name": "stdout",
     "output_type": "stream",
     "text": [
      "Data loaded in 2.1000 seconds, processing\n",
      "Bandpass cleaned in 3.4945 seconds.\n",
      "Stamps filtered in 15.8157 seconds\n",
      "Saving results\n",
      "Results aggregated in 0.1090 seconds\n",
      "Processing coarse channels 315-322\n"
     ]
    },
    {
     "name": "stderr",
     "output_type": "stream",
     "text": [
      " 92%|█████████▏| 45/49 [16:21<01:24, 21.23s/it]"
     ]
    },
    {
     "name": "stdout",
     "output_type": "stream",
     "text": [
      "Data loaded in 2.7134 seconds, processing\n",
      "Bandpass cleaned in 4.1943 seconds.\n",
      "Stamps filtered in 18.7202 seconds\n",
      "Saving results\n",
      "Results aggregated in 0.1332 seconds\n",
      "Processing coarse channels 322-329\n"
     ]
    },
    {
     "name": "stderr",
     "output_type": "stream",
     "text": [
      " 94%|█████████▍| 46/49 [16:47<01:07, 22.60s/it]"
     ]
    },
    {
     "name": "stdout",
     "output_type": "stream",
     "text": [
      "Data loaded in 1.7191 seconds, processing\n",
      "Bandpass cleaned in 3.7363 seconds.\n",
      "Stamps filtered in 15.6745 seconds\n",
      "Saving results\n",
      "Results aggregated in 0.1337 seconds\n",
      "Processing coarse channels 329-336\n"
     ]
    },
    {
     "name": "stderr",
     "output_type": "stream",
     "text": [
      " 96%|█████████▌| 47/49 [17:08<00:44, 22.20s/it]"
     ]
    },
    {
     "name": "stdout",
     "output_type": "stream",
     "text": [
      "Data loaded in 1.8338 seconds, processing\n",
      "Bandpass cleaned in 3.5098 seconds.\n",
      "Stamps filtered in 16.2037 seconds\n",
      "Saving results\n",
      "Results aggregated in 0.1155 seconds\n",
      "Processing coarse channels 336-343\n"
     ]
    },
    {
     "name": "stderr",
     "output_type": "stream",
     "text": [
      " 98%|█████████▊| 48/49 [17:30<00:22, 22.04s/it]"
     ]
    },
    {
     "name": "stdout",
     "output_type": "stream",
     "text": [
      "Data loaded in 1.7231 seconds, processing\n",
      "Bandpass cleaned in 4.4659 seconds.\n",
      "Stamps filtered in 15.9233 seconds\n",
      "Saving results\n"
     ]
    },
    {
     "name": "stderr",
     "output_type": "stream",
     "text": [
      "100%|██████████| 49/49 [17:52<00:00, 21.89s/it]\n"
     ]
    },
    {
     "name": "stdout",
     "output_type": "stream",
     "text": [
      "Results aggregated in 0.1194 seconds\n",
      "       level_0      index     statistic  pvalue        freqs\n",
      "11360    11360  219878144  13574.685866     0.0  2188.499594\n",
      "11416    11416  219885312  13497.352746     0.0  2188.479567\n",
      "11329    11329  219874176  13410.224097     0.0  2188.510680\n",
      "11330    11330  219874304  13378.931597     0.0  2188.510323\n",
      "343 343\n",
      "Finished Energy Detection on GBT_57698_46878_HIP47735_fine.h5 in 1076.6560 seconds\n",
      "/mnt_blpd7/datax/dl/GBT_57698_47218_HIP48477_fine.h5\n",
      "Header saved to ../../../../../../datax/scratch/pma/reverse_search/train/HIP48477-589/GBT_57698_47218_HIP48477_fine/header.pkl\n",
      "Processing 7 in parallel\n",
      "Processing coarse channels 0-7\n"
     ]
    },
    {
     "name": "stderr",
     "output_type": "stream",
     "text": [
      "  0%|          | 0/49 [00:00<?, ?it/s]"
     ]
    },
    {
     "name": "stdout",
     "output_type": "stream",
     "text": [
      "Data loaded in 2.8279 seconds, processing\n",
      "Bandpass cleaned in 3.3064 seconds.\n",
      "Stamps filtered in 15.8760 seconds\n",
      "Saving results\n",
      "Results aggregated in 0.1934 seconds\n",
      "Processing coarse channels 7-14\n"
     ]
    },
    {
     "name": "stderr",
     "output_type": "stream",
     "text": [
      "  2%|▏         | 1/49 [00:22<17:46, 22.22s/it]"
     ]
    },
    {
     "name": "stdout",
     "output_type": "stream",
     "text": [
      "Data loaded in 2.1575 seconds, processing\n",
      "Bandpass cleaned in 3.5805 seconds.\n",
      "Stamps filtered in 15.8917 seconds\n",
      "Saving results\n",
      "Results aggregated in 0.0670 seconds\n",
      "Processing coarse channels 14-21\n"
     ]
    },
    {
     "name": "stderr",
     "output_type": "stream",
     "text": [
      "  4%|▍         | 2/49 [00:43<17:10, 21.92s/it]"
     ]
    },
    {
     "name": "stdout",
     "output_type": "stream",
     "text": [
      "Data loaded in 1.7815 seconds, processing\n",
      "Bandpass cleaned in 3.3471 seconds.\n",
      "Stamps filtered in 15.7850 seconds\n",
      "Saving results\n"
     ]
    },
    {
     "name": "stderr",
     "output_type": "stream",
     "text": [
      "  6%|▌         | 3/49 [01:05<16:33, 21.59s/it]"
     ]
    },
    {
     "name": "stdout",
     "output_type": "stream",
     "text": [
      "Results aggregated in 0.2694 seconds\n",
      "Processing coarse channels 21-28\n",
      "Data loaded in 1.6668 seconds, processing\n",
      "Bandpass cleaned in 3.3964 seconds.\n",
      "Stamps filtered in 16.1247 seconds\n",
      "Saving results\n",
      "Results aggregated in 0.1211 seconds\n",
      "Processing coarse channels 28-35\n"
     ]
    },
    {
     "name": "stderr",
     "output_type": "stream",
     "text": [
      "  8%|▊         | 4/49 [01:26<16:06, 21.48s/it]"
     ]
    },
    {
     "name": "stdout",
     "output_type": "stream",
     "text": [
      "Data loaded in 1.7793 seconds, processing\n",
      "Bandpass cleaned in 3.5268 seconds.\n",
      "Stamps filtered in 17.1624 seconds\n",
      "Saving results\n",
      "Results aggregated in 0.0935 seconds\n",
      "Processing coarse channels 35-42\n"
     ]
    },
    {
     "name": "stderr",
     "output_type": "stream",
     "text": [
      " 10%|█         | 5/49 [01:49<16:02, 21.88s/it]"
     ]
    },
    {
     "name": "stdout",
     "output_type": "stream",
     "text": [
      "Data loaded in 2.3356 seconds, processing\n",
      "Bandpass cleaned in 4.1999 seconds.\n",
      "Stamps filtered in 16.0499 seconds\n",
      "Saving results\n",
      "Results aggregated in 0.0811 seconds\n",
      "Processing coarse channels 42-49\n"
     ]
    },
    {
     "name": "stderr",
     "output_type": "stream",
     "text": [
      " 12%|█▏        | 6/49 [02:11<15:52, 22.15s/it]"
     ]
    },
    {
     "name": "stdout",
     "output_type": "stream",
     "text": [
      "Data loaded in 1.6678 seconds, processing\n",
      "Bandpass cleaned in 3.3622 seconds.\n",
      "Stamps filtered in 16.5020 seconds\n",
      "Saving results\n",
      "Results aggregated in 0.0745 seconds\n",
      "Processing coarse channels 49-56\n"
     ]
    },
    {
     "name": "stderr",
     "output_type": "stream",
     "text": [
      " 14%|█▍        | 7/49 [02:33<15:23, 21.98s/it]"
     ]
    },
    {
     "name": "stdout",
     "output_type": "stream",
     "text": [
      "Data loaded in 1.6755 seconds, processing\n",
      "Bandpass cleaned in 3.2548 seconds.\n",
      "Stamps filtered in 15.9348 seconds\n",
      "Saving results\n",
      "Results aggregated in 0.0777 seconds\n",
      "Processing coarse channels 56-63\n"
     ]
    },
    {
     "name": "stderr",
     "output_type": "stream",
     "text": [
      " 16%|█▋        | 8/49 [02:54<14:47, 21.65s/it]"
     ]
    },
    {
     "name": "stdout",
     "output_type": "stream",
     "text": [
      "Data loaded in 1.7603 seconds, processing\n",
      "Bandpass cleaned in 3.3440 seconds.\n",
      "Stamps filtered in 16.1123 seconds\n",
      "Saving results\n",
      "Results aggregated in 0.0978 seconds\n",
      "Processing coarse channels 63-70\n"
     ]
    },
    {
     "name": "stderr",
     "output_type": "stream",
     "text": [
      " 18%|█▊        | 9/49 [03:15<14:21, 21.55s/it]"
     ]
    },
    {
     "name": "stdout",
     "output_type": "stream",
     "text": [
      "Data loaded in 1.7171 seconds, processing\n",
      "Bandpass cleaned in 3.6495 seconds.\n",
      "Stamps filtered in 17.4596 seconds\n",
      "Saving results\n"
     ]
    },
    {
     "name": "stderr",
     "output_type": "stream",
     "text": [
      " 20%|██        | 10/49 [03:38<14:21, 22.09s/it]"
     ]
    },
    {
     "name": "stdout",
     "output_type": "stream",
     "text": [
      "Results aggregated in 0.4646 seconds\n",
      "Processing coarse channels 70-77\n",
      "Data loaded in 2.4384 seconds, processing\n",
      "Bandpass cleaned in 3.6789 seconds.\n",
      "Stamps filtered in 15.8675 seconds\n",
      "Saving results\n",
      "Results aggregated in 0.0904 seconds\n",
      "Processing coarse channels 77-84\n"
     ]
    },
    {
     "name": "stderr",
     "output_type": "stream",
     "text": [
      " 22%|██▏       | 11/49 [04:00<13:59, 22.09s/it]"
     ]
    },
    {
     "name": "stdout",
     "output_type": "stream",
     "text": [
      "Data loaded in 1.5954 seconds, processing\n",
      "Bandpass cleaned in 3.4976 seconds.\n",
      "Stamps filtered in 16.0044 seconds\n",
      "Saving results\n",
      "Results aggregated in 0.0768 seconds\n",
      "Processing coarse channels 84-91\n"
     ]
    },
    {
     "name": "stderr",
     "output_type": "stream",
     "text": [
      " 24%|██▍       | 12/49 [04:22<13:27, 21.82s/it]"
     ]
    },
    {
     "name": "stdout",
     "output_type": "stream",
     "text": [
      "Data loaded in 1.6474 seconds, processing\n",
      "Bandpass cleaned in 3.3416 seconds.\n",
      "Stamps filtered in 15.6435 seconds\n",
      "Saving results\n",
      "Results aggregated in 0.0803 seconds\n",
      "Processing coarse channels 91-98\n"
     ]
    },
    {
     "name": "stderr",
     "output_type": "stream",
     "text": [
      " 27%|██▋       | 13/49 [04:42<12:53, 21.49s/it]"
     ]
    },
    {
     "name": "stdout",
     "output_type": "stream",
     "text": [
      "Data loaded in 2.1416 seconds, processing\n",
      "Bandpass cleaned in 3.7082 seconds.\n",
      "Stamps filtered in 15.8097 seconds\n",
      "Saving results\n",
      "Results aggregated in 0.0816 seconds\n",
      "Processing coarse channels 98-105\n"
     ]
    },
    {
     "name": "stderr",
     "output_type": "stream",
     "text": [
      " 29%|██▊       | 14/49 [05:04<12:34, 21.57s/it]"
     ]
    },
    {
     "name": "stdout",
     "output_type": "stream",
     "text": [
      "Data loaded in 1.8795 seconds, processing\n",
      "Bandpass cleaned in 3.6718 seconds.\n",
      "Stamps filtered in 16.0434 seconds\n",
      "Saving results\n",
      "Results aggregated in 0.0794 seconds\n",
      "Processing coarse channels 105-112\n"
     ]
    },
    {
     "name": "stderr",
     "output_type": "stream",
     "text": [
      " 31%|███       | 15/49 [05:26<12:14, 21.60s/it]"
     ]
    },
    {
     "name": "stdout",
     "output_type": "stream",
     "text": [
      "Data loaded in 1.8101 seconds, processing\n",
      "Bandpass cleaned in 3.4166 seconds.\n",
      "Stamps filtered in 16.1541 seconds\n",
      "Saving results\n",
      "Results aggregated in 0.0823 seconds\n",
      "Processing coarse channels 112-119\n"
     ]
    },
    {
     "name": "stderr",
     "output_type": "stream",
     "text": [
      " 33%|███▎      | 16/49 [05:47<11:51, 21.57s/it]"
     ]
    },
    {
     "name": "stdout",
     "output_type": "stream",
     "text": [
      "Data loaded in 2.1411 seconds, processing\n",
      "Bandpass cleaned in 3.4643 seconds.\n",
      "Stamps filtered in 16.3711 seconds\n",
      "Saving results\n",
      "Results aggregated in 0.0879 seconds\n",
      "Processing coarse channels 119-126\n"
     ]
    },
    {
     "name": "stderr",
     "output_type": "stream",
     "text": [
      " 35%|███▍      | 17/49 [06:09<11:34, 21.72s/it]"
     ]
    },
    {
     "name": "stdout",
     "output_type": "stream",
     "text": [
      "Data loaded in 1.6856 seconds, processing\n",
      "Bandpass cleaned in 3.5574 seconds.\n",
      "Stamps filtered in 16.6808 seconds\n",
      "Saving results\n",
      "Results aggregated in 0.0884 seconds\n",
      "Processing coarse channels 126-133\n"
     ]
    },
    {
     "name": "stderr",
     "output_type": "stream",
     "text": [
      " 37%|███▋      | 18/49 [06:31<11:16, 21.81s/it]"
     ]
    },
    {
     "name": "stdout",
     "output_type": "stream",
     "text": [
      "Data loaded in 2.1807 seconds, processing\n",
      "Bandpass cleaned in 3.4657 seconds.\n",
      "Stamps filtered in 16.2403 seconds\n",
      "Saving results\n",
      "Results aggregated in 0.0960 seconds\n",
      "Processing coarse channels 133-140\n"
     ]
    },
    {
     "name": "stderr",
     "output_type": "stream",
     "text": [
      " 39%|███▉      | 19/49 [06:53<10:55, 21.87s/it]"
     ]
    },
    {
     "name": "stdout",
     "output_type": "stream",
     "text": [
      "Data loaded in 1.8714 seconds, processing\n",
      "Bandpass cleaned in 4.8740 seconds.\n",
      "Stamps filtered in 15.5352 seconds\n",
      "Saving results\n",
      "Results aggregated in 0.1074 seconds\n",
      "Processing coarse channels 140-147\n"
     ]
    },
    {
     "name": "stderr",
     "output_type": "stream",
     "text": [
      " 41%|████      | 20/49 [07:16<10:38, 22.03s/it]"
     ]
    },
    {
     "name": "stdout",
     "output_type": "stream",
     "text": [
      "Data loaded in 1.8691 seconds, processing\n",
      "Bandpass cleaned in 3.4057 seconds.\n",
      "Stamps filtered in 16.1773 seconds\n",
      "Saving results\n",
      "Results aggregated in 0.0858 seconds\n",
      "Processing coarse channels 147-154\n"
     ]
    },
    {
     "name": "stderr",
     "output_type": "stream",
     "text": [
      " 43%|████▎     | 21/49 [07:37<10:12, 21.88s/it]"
     ]
    },
    {
     "name": "stdout",
     "output_type": "stream",
     "text": [
      "Data loaded in 2.0372 seconds, processing\n",
      "Bandpass cleaned in 3.4711 seconds.\n",
      "Stamps filtered in 16.7107 seconds\n",
      "Saving results\n",
      "Results aggregated in 0.0788 seconds\n",
      "Processing coarse channels 154-161\n"
     ]
    },
    {
     "name": "stderr",
     "output_type": "stream",
     "text": [
      " 45%|████▍     | 22/49 [08:00<09:54, 22.01s/it]"
     ]
    },
    {
     "name": "stdout",
     "output_type": "stream",
     "text": [
      "Data loaded in 2.2345 seconds, processing\n",
      "Bandpass cleaned in 4.0740 seconds.\n",
      "Stamps filtered in 16.7761 seconds\n",
      "Saving results\n"
     ]
    },
    {
     "name": "stderr",
     "output_type": "stream",
     "text": [
      " 47%|████▋     | 23/49 [08:23<09:42, 22.41s/it]"
     ]
    },
    {
     "name": "stdout",
     "output_type": "stream",
     "text": [
      "Results aggregated in 0.2541 seconds\n",
      "Processing coarse channels 161-168\n",
      "Data loaded in 2.0425 seconds, processing\n",
      "Bandpass cleaned in 3.9202 seconds.\n",
      "Stamps filtered in 16.1941 seconds\n",
      "Saving results\n"
     ]
    },
    {
     "name": "stderr",
     "output_type": "stream",
     "text": [
      " 49%|████▉     | 24/49 [08:46<09:22, 22.49s/it]"
     ]
    },
    {
     "name": "stdout",
     "output_type": "stream",
     "text": [
      "Results aggregated in 0.5027 seconds\n",
      "Processing coarse channels 168-175\n",
      "Data loaded in 1.7268 seconds, processing\n",
      "Bandpass cleaned in 3.8261 seconds.\n",
      "Stamps filtered in 17.5125 seconds\n",
      "Saving results\n",
      "Results aggregated in 0.1075 seconds\n",
      "Processing coarse channels 175-182\n"
     ]
    },
    {
     "name": "stderr",
     "output_type": "stream",
     "text": [
      " 51%|█████     | 25/49 [09:09<09:04, 22.70s/it]"
     ]
    },
    {
     "name": "stdout",
     "output_type": "stream",
     "text": [
      "Data loaded in 2.8623 seconds, processing\n",
      "Bandpass cleaned in 3.9438 seconds.\n",
      "Stamps filtered in 15.9358 seconds\n",
      "Saving results\n",
      "Results aggregated in 0.1241 seconds\n",
      "Processing coarse channels 182-189\n"
     ]
    },
    {
     "name": "stderr",
     "output_type": "stream",
     "text": [
      " 53%|█████▎    | 26/49 [09:32<08:43, 22.75s/it]"
     ]
    },
    {
     "name": "stdout",
     "output_type": "stream",
     "text": [
      "Data loaded in 1.7159 seconds, processing\n",
      "Bandpass cleaned in 3.3710 seconds.\n",
      "Stamps filtered in 15.6893 seconds\n",
      "Saving results\n",
      "Results aggregated in 0.1017 seconds\n",
      "Processing coarse channels 189-196\n"
     ]
    },
    {
     "name": "stderr",
     "output_type": "stream",
     "text": [
      " 55%|█████▌    | 27/49 [09:53<08:08, 22.19s/it]"
     ]
    },
    {
     "name": "stdout",
     "output_type": "stream",
     "text": [
      "Data loaded in 1.7464 seconds, processing\n",
      "Bandpass cleaned in 3.2886 seconds.\n",
      "Stamps filtered in 16.4007 seconds\n",
      "Saving results\n",
      "Results aggregated in 0.1092 seconds\n",
      "Processing coarse channels 196-203\n"
     ]
    },
    {
     "name": "stderr",
     "output_type": "stream",
     "text": [
      " 57%|█████▋    | 28/49 [10:14<07:42, 22.00s/it]"
     ]
    },
    {
     "name": "stdout",
     "output_type": "stream",
     "text": [
      "Data loaded in 2.0053 seconds, processing\n",
      "Bandpass cleaned in 3.5446 seconds.\n",
      "Stamps filtered in 16.4214 seconds\n",
      "Saving results\n",
      "Results aggregated in 0.1236 seconds\n",
      "Processing coarse channels 203-210\n"
     ]
    },
    {
     "name": "stderr",
     "output_type": "stream",
     "text": [
      " 59%|█████▉    | 29/49 [10:36<07:20, 22.04s/it]"
     ]
    },
    {
     "name": "stdout",
     "output_type": "stream",
     "text": [
      "Data loaded in 1.7240 seconds, processing\n",
      "Bandpass cleaned in 3.7539 seconds.\n",
      "Stamps filtered in 16.5313 seconds\n",
      "Saving results\n"
     ]
    },
    {
     "name": "stderr",
     "output_type": "stream",
     "text": [
      " 61%|██████    | 30/49 [10:59<07:02, 22.21s/it]"
     ]
    },
    {
     "name": "stdout",
     "output_type": "stream",
     "text": [
      "Results aggregated in 0.5955 seconds\n",
      "Processing coarse channels 210-217\n",
      "Data loaded in 3.0500 seconds, processing\n",
      "Bandpass cleaned in 4.8619 seconds.\n",
      "Stamps filtered in 16.1032 seconds\n",
      "Saving results\n",
      "Results aggregated in 0.1473 seconds\n",
      "Processing coarse channels 217-224\n"
     ]
    },
    {
     "name": "stderr",
     "output_type": "stream",
     "text": [
      " 63%|██████▎   | 31/49 [11:23<06:50, 22.80s/it]"
     ]
    },
    {
     "name": "stdout",
     "output_type": "stream",
     "text": [
      "Data loaded in 1.7395 seconds, processing\n",
      "Bandpass cleaned in 3.7564 seconds.\n",
      "Stamps filtered in 16.6355 seconds\n",
      "Saving results\n",
      "Results aggregated in 0.1424 seconds\n",
      "Processing coarse channels 224-231\n"
     ]
    },
    {
     "name": "stderr",
     "output_type": "stream",
     "text": [
      " 65%|██████▌   | 32/49 [11:45<06:24, 22.65s/it]"
     ]
    },
    {
     "name": "stdout",
     "output_type": "stream",
     "text": [
      "Data loaded in 1.6946 seconds, processing\n",
      "Bandpass cleaned in 3.5410 seconds.\n",
      "Stamps filtered in 16.4675 seconds\n",
      "Saving results\n",
      "Results aggregated in 0.1080 seconds\n",
      "Processing coarse channels 231-238\n"
     ]
    },
    {
     "name": "stderr",
     "output_type": "stream",
     "text": [
      " 67%|██████▋   | 33/49 [12:07<05:58, 22.40s/it]"
     ]
    },
    {
     "name": "stdout",
     "output_type": "stream",
     "text": [
      "Data loaded in 2.2077 seconds, processing\n",
      "Bandpass cleaned in 3.3133 seconds.\n",
      "Stamps filtered in 16.1954 seconds\n",
      "Saving results\n",
      "Results aggregated in 0.1401 seconds\n",
      "Processing coarse channels 238-245\n"
     ]
    },
    {
     "name": "stderr",
     "output_type": "stream",
     "text": [
      " 69%|██████▉   | 34/49 [12:29<05:33, 22.24s/it]"
     ]
    },
    {
     "name": "stdout",
     "output_type": "stream",
     "text": [
      "Data loaded in 1.6217 seconds, processing\n",
      "Bandpass cleaned in 3.9752 seconds.\n",
      "Stamps filtered in 16.3677 seconds\n",
      "Saving results\n",
      "Results aggregated in 0.1413 seconds\n",
      "Processing coarse channels 245-252\n"
     ]
    },
    {
     "name": "stderr",
     "output_type": "stream",
     "text": [
      " 71%|███████▏  | 35/49 [12:51<05:10, 22.20s/it]"
     ]
    },
    {
     "name": "stdout",
     "output_type": "stream",
     "text": [
      "Data loaded in 2.4098 seconds, processing\n",
      "Bandpass cleaned in 4.0959 seconds.\n",
      "Stamps filtered in 16.5668 seconds\n",
      "Saving results\n",
      "Results aggregated in 0.1085 seconds\n",
      "Processing coarse channels 252-259\n"
     ]
    },
    {
     "name": "stderr",
     "output_type": "stream",
     "text": [
      " 73%|███████▎  | 36/49 [13:14<04:52, 22.50s/it]"
     ]
    },
    {
     "name": "stdout",
     "output_type": "stream",
     "text": [
      "Data loaded in 1.6841 seconds, processing\n",
      "Bandpass cleaned in 3.8157 seconds.\n",
      "Stamps filtered in 16.7865 seconds\n",
      "Saving results\n",
      "Results aggregated in 0.1086 seconds\n",
      "Processing coarse channels 259-266\n"
     ]
    },
    {
     "name": "stderr",
     "output_type": "stream",
     "text": [
      " 76%|███████▌  | 37/49 [13:37<04:29, 22.47s/it]"
     ]
    },
    {
     "name": "stdout",
     "output_type": "stream",
     "text": [
      "Data loaded in 1.9053 seconds, processing\n",
      "Bandpass cleaned in 3.3453 seconds.\n",
      "Stamps filtered in 17.3713 seconds\n",
      "Saving results\n",
      "Results aggregated in 0.1406 seconds\n",
      "Processing coarse channels 266-273\n"
     ]
    },
    {
     "name": "stderr",
     "output_type": "stream",
     "text": [
      " 78%|███████▊  | 38/49 [14:00<04:08, 22.56s/it]"
     ]
    },
    {
     "name": "stdout",
     "output_type": "stream",
     "text": [
      "Data loaded in 1.9151 seconds, processing\n",
      "Bandpass cleaned in 3.9223 seconds.\n",
      "Stamps filtered in 16.3224 seconds\n",
      "Saving results\n",
      "Results aggregated in 0.1073 seconds\n",
      "Processing coarse channels 273-280\n"
     ]
    },
    {
     "name": "stderr",
     "output_type": "stream",
     "text": [
      " 80%|███████▉  | 39/49 [14:22<03:44, 22.48s/it]"
     ]
    },
    {
     "name": "stdout",
     "output_type": "stream",
     "text": [
      "Data loaded in 2.0601 seconds, processing\n",
      "Bandpass cleaned in 4.5265 seconds.\n",
      "Stamps filtered in 15.3418 seconds\n",
      "Saving results\n",
      "Results aggregated in 0.1173 seconds\n",
      "Processing coarse channels 280-287\n"
     ]
    },
    {
     "name": "stderr",
     "output_type": "stream",
     "text": [
      " 82%|████████▏ | 40/49 [14:44<03:21, 22.35s/it]"
     ]
    },
    {
     "name": "stdout",
     "output_type": "stream",
     "text": [
      "Data loaded in 2.2639 seconds, processing\n",
      "Bandpass cleaned in 3.5359 seconds.\n",
      "Stamps filtered in 15.6128 seconds\n",
      "Saving results\n",
      "Results aggregated in 0.1459 seconds\n",
      "Processing coarse channels 287-294\n"
     ]
    },
    {
     "name": "stderr",
     "output_type": "stream",
     "text": [
      " 84%|████████▎ | 41/49 [15:06<02:56, 22.12s/it]"
     ]
    },
    {
     "name": "stdout",
     "output_type": "stream",
     "text": [
      "Data loaded in 1.8092 seconds, processing\n",
      "Bandpass cleaned in 3.3815 seconds.\n",
      "Stamps filtered in 15.4726 seconds\n",
      "Saving results\n",
      "Results aggregated in 0.1515 seconds\n",
      "Processing coarse channels 294-301\n"
     ]
    },
    {
     "name": "stderr",
     "output_type": "stream",
     "text": [
      " 86%|████████▌ | 42/49 [15:26<02:32, 21.73s/it]"
     ]
    },
    {
     "name": "stdout",
     "output_type": "stream",
     "text": [
      "Data loaded in 1.7925 seconds, processing\n",
      "Bandpass cleaned in 3.3395 seconds.\n",
      "Stamps filtered in 16.0338 seconds\n",
      "Saving results\n"
     ]
    },
    {
     "name": "stderr",
     "output_type": "stream",
     "text": [
      " 88%|████████▊ | 43/49 [15:48<02:10, 21.71s/it]"
     ]
    },
    {
     "name": "stdout",
     "output_type": "stream",
     "text": [
      "Results aggregated in 0.4700 seconds\n",
      "Processing coarse channels 301-308\n",
      "Data loaded in 1.6136 seconds, processing\n",
      "Bandpass cleaned in 3.4933 seconds.\n",
      "Stamps filtered in 17.0088 seconds\n",
      "Saving results\n",
      "Results aggregated in 0.1502 seconds\n",
      "Processing coarse channels 308-315\n"
     ]
    },
    {
     "name": "stderr",
     "output_type": "stream",
     "text": [
      " 90%|████████▉ | 44/49 [16:10<01:49, 21.88s/it]"
     ]
    },
    {
     "name": "stdout",
     "output_type": "stream",
     "text": [
      "Data loaded in 2.9559 seconds, processing\n",
      "Bandpass cleaned in 4.5399 seconds.\n",
      "Stamps filtered in 16.3814 seconds\n",
      "Saving results\n",
      "Results aggregated in 0.1192 seconds\n",
      "Processing coarse channels 315-322\n"
     ]
    },
    {
     "name": "stderr",
     "output_type": "stream",
     "text": [
      " 92%|█████████▏| 45/49 [16:34<01:30, 22.52s/it]"
     ]
    },
    {
     "name": "stdout",
     "output_type": "stream",
     "text": [
      "Data loaded in 1.7015 seconds, processing\n",
      "Bandpass cleaned in 3.6586 seconds.\n",
      "Stamps filtered in 16.4277 seconds\n",
      "Saving results\n"
     ]
    },
    {
     "name": "stderr",
     "output_type": "stream",
     "text": [
      " 94%|█████████▍| 46/49 [16:56<01:07, 22.37s/it]"
     ]
    },
    {
     "name": "stdout",
     "output_type": "stream",
     "text": [
      "Results aggregated in 0.2215 seconds\n",
      "Processing coarse channels 322-329\n",
      "Data loaded in 1.8640 seconds, processing\n",
      "Bandpass cleaned in 3.3458 seconds.\n",
      "Stamps filtered in 17.6227 seconds\n",
      "Saving results\n",
      "Results aggregated in 0.1590 seconds\n",
      "Processing coarse channels 329-336\n"
     ]
    },
    {
     "name": "stderr",
     "output_type": "stream",
     "text": [
      " 96%|█████████▌| 47/49 [17:19<00:45, 22.56s/it]"
     ]
    },
    {
     "name": "stdout",
     "output_type": "stream",
     "text": [
      "Data loaded in 3.4981 seconds, processing\n",
      "Bandpass cleaned in 5.3748 seconds.\n",
      "Stamps filtered in 16.0395 seconds\n",
      "Saving results\n",
      "Results aggregated in 0.1150 seconds\n",
      "Processing coarse channels 336-343\n"
     ]
    },
    {
     "name": "stderr",
     "output_type": "stream",
     "text": [
      " 98%|█████████▊| 48/49 [17:44<00:23, 23.30s/it]"
     ]
    },
    {
     "name": "stdout",
     "output_type": "stream",
     "text": [
      "Data loaded in 1.6942 seconds, processing\n",
      "Bandpass cleaned in 3.5022 seconds.\n",
      "Stamps filtered in 16.5560 seconds\n",
      "Saving results\n"
     ]
    },
    {
     "name": "stderr",
     "output_type": "stream",
     "text": [
      "100%|██████████| 49/49 [18:07<00:00, 22.20s/it]\n"
     ]
    },
    {
     "name": "stdout",
     "output_type": "stream",
     "text": [
      "Results aggregated in 1.2056 seconds\n",
      "       level_0      index     statistic  pvalue        freqs\n",
      "11564    11564  205591296  13554.738831     0.0  2228.416586\n",
      "20326    20326  336899712  12665.084000     0.0  1861.545110\n",
      "20322    20322  336899200  12635.476908     0.0  1861.546540\n",
      "3903      3903   68462976  12632.356972     0.0  2611.548686\n",
      "343 343\n",
      "Finished Energy Detection on GBT_57698_47218_HIP48477_fine.h5 in 1092.6891 seconds\n",
      "/mnt_blpd7/datax/dl/GBT_57698_47555_HIP47906_fine.h5\n",
      "Header saved to ../../../../../../datax/scratch/pma/reverse_search/train/HIP48477-589/GBT_57698_47555_HIP47906_fine/header.pkl\n",
      "Processing 7 in parallel\n",
      "Processing coarse channels 0-7\n"
     ]
    },
    {
     "name": "stderr",
     "output_type": "stream",
     "text": [
      "  0%|          | 0/49 [00:00<?, ?it/s]"
     ]
    },
    {
     "name": "stdout",
     "output_type": "stream",
     "text": [
      "Data loaded in 2.8859 seconds, processing\n",
      "Bandpass cleaned in 3.1756 seconds.\n",
      "Stamps filtered in 14.8355 seconds\n",
      "Saving results\n",
      "Results aggregated in 0.0676 seconds\n",
      "Processing coarse channels 7-14\n"
     ]
    },
    {
     "name": "stderr",
     "output_type": "stream",
     "text": [
      "  2%|▏         | 1/49 [00:20<16:46, 20.98s/it]"
     ]
    },
    {
     "name": "stdout",
     "output_type": "stream",
     "text": [
      "Data loaded in 1.9078 seconds, processing\n",
      "Bandpass cleaned in 3.1216 seconds.\n",
      "Stamps filtered in 15.2025 seconds\n",
      "Saving results\n",
      "Results aggregated in 0.0735 seconds\n",
      "Processing coarse channels 14-21\n"
     ]
    },
    {
     "name": "stderr",
     "output_type": "stream",
     "text": [
      "  4%|▍         | 2/49 [00:41<16:07, 20.59s/it]"
     ]
    },
    {
     "name": "stdout",
     "output_type": "stream",
     "text": [
      "Data loaded in 1.5709 seconds, processing\n",
      "Bandpass cleaned in 5.1771 seconds.\n",
      "Stamps filtered in 15.5223 seconds\n",
      "Saving results\n",
      "Results aggregated in 0.0846 seconds\n",
      "Processing coarse channels 21-28\n"
     ]
    },
    {
     "name": "stderr",
     "output_type": "stream",
     "text": [
      "  6%|▌         | 3/49 [01:03<16:24, 21.41s/it]"
     ]
    },
    {
     "name": "stdout",
     "output_type": "stream",
     "text": [
      "Data loaded in 1.8923 seconds, processing\n",
      "Bandpass cleaned in 4.2731 seconds.\n",
      "Stamps filtered in 15.5850 seconds\n",
      "Saving results\n",
      "Results aggregated in 0.0769 seconds\n",
      "Processing coarse channels 28-35\n"
     ]
    },
    {
     "name": "stderr",
     "output_type": "stream",
     "text": [
      "  8%|▊         | 4/49 [01:25<16:10, 21.58s/it]"
     ]
    },
    {
     "name": "stdout",
     "output_type": "stream",
     "text": [
      "Data loaded in 1.9462 seconds, processing\n",
      "Bandpass cleaned in 5.3625 seconds.\n",
      "Stamps filtered in 15.3274 seconds\n",
      "Saving results\n",
      "Results aggregated in 0.0793 seconds\n",
      "Processing coarse channels 35-42\n"
     ]
    },
    {
     "name": "stderr",
     "output_type": "stream",
     "text": [
      " 10%|█         | 5/49 [01:48<16:07, 21.99s/it]"
     ]
    },
    {
     "name": "stdout",
     "output_type": "stream",
     "text": [
      "Data loaded in 1.8116 seconds, processing\n",
      "Bandpass cleaned in 3.6011 seconds.\n",
      "Stamps filtered in 14.8566 seconds\n",
      "Saving results\n",
      "Results aggregated in 0.0718 seconds\n",
      "Processing coarse channels 42-49\n"
     ]
    },
    {
     "name": "stderr",
     "output_type": "stream",
     "text": [
      " 12%|█▏        | 6/49 [02:08<15:21, 21.44s/it]"
     ]
    },
    {
     "name": "stdout",
     "output_type": "stream",
     "text": [
      "Data loaded in 2.0619 seconds, processing\n",
      "Bandpass cleaned in 3.8107 seconds.\n",
      "Stamps filtered in 14.8379 seconds\n",
      "Saving results\n",
      "Results aggregated in 0.0676 seconds\n",
      "Processing coarse channels 49-56\n"
     ]
    },
    {
     "name": "stderr",
     "output_type": "stream",
     "text": [
      " 14%|█▍        | 7/49 [02:29<14:51, 21.23s/it]"
     ]
    },
    {
     "name": "stdout",
     "output_type": "stream",
     "text": [
      "Data loaded in 1.9677 seconds, processing\n",
      "Bandpass cleaned in 3.8466 seconds.\n",
      "Stamps filtered in 16.2148 seconds\n",
      "Saving results\n",
      "Results aggregated in 0.0847 seconds\n",
      "Processing coarse channels 56-63\n"
     ]
    },
    {
     "name": "stderr",
     "output_type": "stream",
     "text": [
      " 16%|█▋        | 8/49 [02:51<14:42, 21.51s/it]"
     ]
    },
    {
     "name": "stdout",
     "output_type": "stream",
     "text": [
      "Data loaded in 1.6505 seconds, processing\n",
      "Bandpass cleaned in 4.9848 seconds.\n",
      "Stamps filtered in 15.1694 seconds\n",
      "Saving results\n",
      "Results aggregated in 0.0713 seconds\n",
      "Processing coarse channels 63-70\n"
     ]
    },
    {
     "name": "stderr",
     "output_type": "stream",
     "text": [
      " 18%|█▊        | 9/49 [03:13<14:25, 21.63s/it]"
     ]
    },
    {
     "name": "stdout",
     "output_type": "stream",
     "text": [
      "Data loaded in 2.0617 seconds, processing\n",
      "Bandpass cleaned in 3.7338 seconds.\n",
      "Stamps filtered in 15.7931 seconds\n",
      "Saving results\n",
      "Results aggregated in 0.0888 seconds\n",
      "Processing coarse channels 70-77\n"
     ]
    },
    {
     "name": "stderr",
     "output_type": "stream",
     "text": [
      " 20%|██        | 10/49 [03:35<14:04, 21.65s/it]"
     ]
    },
    {
     "name": "stdout",
     "output_type": "stream",
     "text": [
      "Data loaded in 1.6818 seconds, processing\n",
      "Bandpass cleaned in 3.1636 seconds.\n",
      "Stamps filtered in 14.8516 seconds\n",
      "Saving results\n",
      "Results aggregated in 0.0743 seconds\n",
      "Processing coarse channels 77-84\n"
     ]
    },
    {
     "name": "stderr",
     "output_type": "stream",
     "text": [
      " 22%|██▏       | 11/49 [03:54<13:20, 21.08s/it]"
     ]
    },
    {
     "name": "stdout",
     "output_type": "stream",
     "text": [
      "Data loaded in 1.6647 seconds, processing\n",
      "Bandpass cleaned in 3.2589 seconds.\n",
      "Stamps filtered in 15.1700 seconds\n",
      "Saving results\n",
      "Results aggregated in 0.0682 seconds\n",
      "Processing coarse channels 84-91\n"
     ]
    },
    {
     "name": "stderr",
     "output_type": "stream",
     "text": [
      " 24%|██▍       | 12/49 [04:15<12:49, 20.80s/it]"
     ]
    },
    {
     "name": "stdout",
     "output_type": "stream",
     "text": [
      "Data loaded in 1.5190 seconds, processing\n",
      "Bandpass cleaned in 3.1799 seconds.\n",
      "Stamps filtered in 14.5260 seconds\n",
      "Saving results\n",
      "Results aggregated in 0.0650 seconds\n",
      "Processing coarse channels 91-98\n"
     ]
    },
    {
     "name": "stderr",
     "output_type": "stream",
     "text": [
      " 27%|██▋       | 13/49 [04:34<12:12, 20.35s/it]"
     ]
    },
    {
     "name": "stdout",
     "output_type": "stream",
     "text": [
      "Data loaded in 1.4834 seconds, processing\n",
      "Bandpass cleaned in 3.3602 seconds.\n",
      "Stamps filtered in 15.0492 seconds\n",
      "Saving results\n",
      "Results aggregated in 0.0694 seconds\n",
      "Processing coarse channels 98-105\n"
     ]
    },
    {
     "name": "stderr",
     "output_type": "stream",
     "text": [
      " 29%|██▊       | 14/49 [04:54<11:48, 20.24s/it]"
     ]
    },
    {
     "name": "stdout",
     "output_type": "stream",
     "text": [
      "Data loaded in 1.7916 seconds, processing\n",
      "Bandpass cleaned in 3.2944 seconds.\n",
      "Stamps filtered in 14.7355 seconds\n",
      "Saving results\n",
      "Results aggregated in 0.0701 seconds\n",
      "Processing coarse channels 105-112\n"
     ]
    },
    {
     "name": "stderr",
     "output_type": "stream",
     "text": [
      " 31%|███       | 15/49 [05:14<11:24, 20.14s/it]"
     ]
    },
    {
     "name": "stdout",
     "output_type": "stream",
     "text": [
      "Data loaded in 1.8062 seconds, processing\n",
      "Bandpass cleaned in 3.1991 seconds.\n",
      "Stamps filtered in 14.8993 seconds\n",
      "Saving results\n",
      "Results aggregated in 0.0664 seconds\n",
      "Processing coarse channels 112-119\n"
     ]
    },
    {
     "name": "stderr",
     "output_type": "stream",
     "text": [
      " 33%|███▎      | 16/49 [05:34<11:02, 20.09s/it]"
     ]
    },
    {
     "name": "stdout",
     "output_type": "stream",
     "text": [
      "Data loaded in 1.6738 seconds, processing\n",
      "Bandpass cleaned in 3.7921 seconds.\n",
      "Stamps filtered in 15.4324 seconds\n",
      "Saving results\n",
      "Results aggregated in 0.0757 seconds\n",
      "Processing coarse channels 119-126\n"
     ]
    },
    {
     "name": "stderr",
     "output_type": "stream",
     "text": [
      " 35%|███▍      | 17/49 [05:55<10:51, 20.36s/it]"
     ]
    },
    {
     "name": "stdout",
     "output_type": "stream",
     "text": [
      "Data loaded in 2.0547 seconds, processing\n",
      "Bandpass cleaned in 4.3010 seconds.\n",
      "Stamps filtered in 16.3670 seconds\n",
      "Saving results\n",
      "Results aggregated in 0.0741 seconds\n",
      "Processing coarse channels 126-133\n"
     ]
    },
    {
     "name": "stderr",
     "output_type": "stream",
     "text": [
      " 37%|███▋      | 18/49 [06:18<10:53, 21.10s/it]"
     ]
    },
    {
     "name": "stdout",
     "output_type": "stream",
     "text": [
      "Data loaded in 2.3505 seconds, processing\n",
      "Bandpass cleaned in 3.7349 seconds.\n",
      "Stamps filtered in 15.6419 seconds\n",
      "Saving results\n",
      "Results aggregated in 0.0943 seconds\n",
      "Processing coarse channels 133-140\n"
     ]
    },
    {
     "name": "stderr",
     "output_type": "stream",
     "text": [
      " 39%|███▉      | 19/49 [06:39<10:39, 21.32s/it]"
     ]
    },
    {
     "name": "stdout",
     "output_type": "stream",
     "text": [
      "Data loaded in 1.6415 seconds, processing\n",
      "Bandpass cleaned in 3.6280 seconds.\n",
      "Stamps filtered in 15.2173 seconds\n",
      "Saving results\n",
      "Results aggregated in 0.0706 seconds\n",
      "Processing coarse channels 140-147\n"
     ]
    },
    {
     "name": "stderr",
     "output_type": "stream",
     "text": [
      " 41%|████      | 20/49 [07:00<10:11, 21.09s/it]"
     ]
    },
    {
     "name": "stdout",
     "output_type": "stream",
     "text": [
      "Data loaded in 1.8618 seconds, processing\n",
      "Bandpass cleaned in 4.8632 seconds.\n",
      "Stamps filtered in 15.4675 seconds\n",
      "Saving results\n",
      "Results aggregated in 0.1015 seconds\n",
      "Processing coarse channels 147-154\n"
     ]
    },
    {
     "name": "stderr",
     "output_type": "stream",
     "text": [
      " 43%|████▎     | 21/49 [07:22<10:00, 21.46s/it]"
     ]
    },
    {
     "name": "stdout",
     "output_type": "stream",
     "text": [
      "Data loaded in 2.9421 seconds, processing\n",
      "Bandpass cleaned in 5.1981 seconds.\n",
      "Stamps filtered in 15.0992 seconds\n",
      "Saving results\n",
      "Results aggregated in 0.0740 seconds\n",
      "Processing coarse channels 154-161\n"
     ]
    },
    {
     "name": "stderr",
     "output_type": "stream",
     "text": [
      " 45%|████▍     | 22/49 [07:46<09:54, 22.02s/it]"
     ]
    },
    {
     "name": "stdout",
     "output_type": "stream",
     "text": [
      "Data loaded in 2.1118 seconds, processing\n",
      "Bandpass cleaned in 3.5791 seconds.\n",
      "Stamps filtered in 15.0591 seconds\n",
      "Saving results\n"
     ]
    },
    {
     "name": "stderr",
     "output_type": "stream",
     "text": [
      " 47%|████▋     | 23/49 [08:07<09:26, 21.78s/it]"
     ]
    },
    {
     "name": "stdout",
     "output_type": "stream",
     "text": [
      "Results aggregated in 0.4550 seconds\n",
      "Processing coarse channels 161-168\n",
      "Data loaded in 1.8047 seconds, processing\n",
      "Bandpass cleaned in 3.2491 seconds.\n",
      "Stamps filtered in 14.4568 seconds\n",
      "Saving results\n"
     ]
    },
    {
     "name": "stderr",
     "output_type": "stream",
     "text": [
      " 49%|████▉     | 24/49 [08:27<08:51, 21.26s/it]"
     ]
    },
    {
     "name": "stdout",
     "output_type": "stream",
     "text": [
      "Results aggregated in 0.5140 seconds\n",
      "Processing coarse channels 168-175\n",
      "Data loaded in 1.7584 seconds, processing\n",
      "Bandpass cleaned in 3.1887 seconds.\n",
      "Stamps filtered in 14.7938 seconds\n",
      "Saving results\n",
      "Results aggregated in 0.1268 seconds\n",
      "Processing coarse channels 175-182\n"
     ]
    },
    {
     "name": "stderr",
     "output_type": "stream",
     "text": [
      " 51%|█████     | 25/49 [08:47<08:20, 20.84s/it]"
     ]
    },
    {
     "name": "stdout",
     "output_type": "stream",
     "text": [
      "Data loaded in 1.5842 seconds, processing\n",
      "Bandpass cleaned in 3.3997 seconds.\n",
      "Stamps filtered in 15.2814 seconds\n",
      "Saving results\n",
      "Results aggregated in 0.0865 seconds\n",
      "Processing coarse channels 182-189\n"
     ]
    },
    {
     "name": "stderr",
     "output_type": "stream",
     "text": [
      " 53%|█████▎    | 26/49 [09:07<07:56, 20.70s/it]"
     ]
    },
    {
     "name": "stdout",
     "output_type": "stream",
     "text": [
      "Data loaded in 1.7734 seconds, processing\n",
      "Bandpass cleaned in 3.3174 seconds.\n",
      "Stamps filtered in 15.8776 seconds\n",
      "Saving results\n",
      "Results aggregated in 0.0979 seconds\n",
      "Processing coarse channels 189-196\n"
     ]
    },
    {
     "name": "stderr",
     "output_type": "stream",
     "text": [
      " 55%|█████▌    | 27/49 [09:28<07:37, 20.81s/it]"
     ]
    },
    {
     "name": "stdout",
     "output_type": "stream",
     "text": [
      "Data loaded in 2.4939 seconds, processing\n",
      "Bandpass cleaned in 4.1297 seconds.\n",
      "Stamps filtered in 14.9314 seconds\n",
      "Saving results\n",
      "Results aggregated in 0.0884 seconds\n",
      "Processing coarse channels 196-203\n"
     ]
    },
    {
     "name": "stderr",
     "output_type": "stream",
     "text": [
      " 57%|█████▋    | 28/49 [09:50<07:22, 21.07s/it]"
     ]
    },
    {
     "name": "stdout",
     "output_type": "stream",
     "text": [
      "Data loaded in 1.7607 seconds, processing\n",
      "Bandpass cleaned in 3.5276 seconds.\n",
      "Stamps filtered in 14.9817 seconds\n",
      "Saving results\n",
      "Results aggregated in 0.0915 seconds\n",
      "Processing coarse channels 203-210\n"
     ]
    },
    {
     "name": "stderr",
     "output_type": "stream",
     "text": [
      " 59%|█████▉    | 29/49 [10:10<06:57, 20.86s/it]"
     ]
    },
    {
     "name": "stdout",
     "output_type": "stream",
     "text": [
      "Data loaded in 1.6323 seconds, processing\n",
      "Bandpass cleaned in 3.4038 seconds.\n",
      "Stamps filtered in 14.7100 seconds\n",
      "Saving results\n"
     ]
    },
    {
     "name": "stderr",
     "output_type": "stream",
     "text": [
      " 61%|██████    | 30/49 [10:30<06:32, 20.66s/it]"
     ]
    },
    {
     "name": "stdout",
     "output_type": "stream",
     "text": [
      "Results aggregated in 0.4511 seconds\n",
      "Processing coarse channels 210-217\n",
      "Data loaded in 1.6699 seconds, processing\n",
      "Bandpass cleaned in 3.8717 seconds.\n",
      "Stamps filtered in 15.1307 seconds\n",
      "Saving results\n",
      "Results aggregated in 0.1292 seconds\n",
      "Processing coarse channels 217-224\n"
     ]
    },
    {
     "name": "stderr",
     "output_type": "stream",
     "text": [
      " 63%|██████▎   | 31/49 [10:51<06:12, 20.71s/it]"
     ]
    },
    {
     "name": "stdout",
     "output_type": "stream",
     "text": [
      "Data loaded in 2.1840 seconds, processing\n",
      "Bandpass cleaned in 3.3005 seconds.\n",
      "Stamps filtered in 15.7701 seconds\n",
      "Saving results\n",
      "Results aggregated in 0.1046 seconds\n",
      "Processing coarse channels 224-231\n"
     ]
    },
    {
     "name": "stderr",
     "output_type": "stream",
     "text": [
      " 65%|██████▌   | 32/49 [11:13<05:55, 20.91s/it]"
     ]
    },
    {
     "name": "stdout",
     "output_type": "stream",
     "text": [
      "Data loaded in 1.6934 seconds, processing\n",
      "Bandpass cleaned in 3.4687 seconds.\n",
      "Stamps filtered in 15.4488 seconds\n",
      "Saving results\n",
      "Results aggregated in 0.0956 seconds\n",
      "Processing coarse channels 231-238\n"
     ]
    },
    {
     "name": "stderr",
     "output_type": "stream",
     "text": [
      " 67%|██████▋   | 33/49 [11:33<05:33, 20.85s/it]"
     ]
    },
    {
     "name": "stdout",
     "output_type": "stream",
     "text": [
      "Data loaded in 1.7737 seconds, processing\n",
      "Bandpass cleaned in 3.6810 seconds.\n",
      "Stamps filtered in 14.9256 seconds\n",
      "Saving results\n",
      "Results aggregated in 0.0874 seconds\n",
      "Processing coarse channels 238-245\n"
     ]
    },
    {
     "name": "stderr",
     "output_type": "stream",
     "text": [
      " 69%|██████▉   | 34/49 [11:54<05:11, 20.74s/it]"
     ]
    },
    {
     "name": "stdout",
     "output_type": "stream",
     "text": [
      "Data loaded in 1.9257 seconds, processing\n",
      "Bandpass cleaned in 3.4862 seconds.\n",
      "Stamps filtered in 15.0167 seconds\n",
      "Saving results\n",
      "Results aggregated in 0.0931 seconds\n",
      "Processing coarse channels 245-252\n"
     ]
    },
    {
     "name": "stderr",
     "output_type": "stream",
     "text": [
      " 71%|███████▏  | 35/49 [12:14<04:49, 20.68s/it]"
     ]
    },
    {
     "name": "stdout",
     "output_type": "stream",
     "text": [
      "Data loaded in 1.6473 seconds, processing\n",
      "Bandpass cleaned in 3.4249 seconds.\n",
      "Stamps filtered in 14.8787 seconds\n",
      "Saving results\n",
      "Results aggregated in 0.0861 seconds\n",
      "Processing coarse channels 252-259\n"
     ]
    },
    {
     "name": "stderr",
     "output_type": "stream",
     "text": [
      " 73%|███████▎  | 36/49 [12:34<04:26, 20.49s/it]"
     ]
    },
    {
     "name": "stdout",
     "output_type": "stream",
     "text": [
      "Data loaded in 1.7349 seconds, processing\n",
      "Bandpass cleaned in 3.4518 seconds.\n",
      "Stamps filtered in 15.4322 seconds\n",
      "Saving results\n",
      "Results aggregated in 0.0974 seconds\n",
      "Processing coarse channels 259-266\n"
     ]
    },
    {
     "name": "stderr",
     "output_type": "stream",
     "text": [
      " 76%|███████▌  | 37/49 [12:55<04:06, 20.56s/it]"
     ]
    },
    {
     "name": "stdout",
     "output_type": "stream",
     "text": [
      "Data loaded in 1.8572 seconds, processing\n",
      "Bandpass cleaned in 3.5969 seconds.\n",
      "Stamps filtered in 16.2599 seconds\n",
      "Saving results\n",
      "Results aggregated in 0.0908 seconds\n",
      "Processing coarse channels 266-273\n"
     ]
    },
    {
     "name": "stderr",
     "output_type": "stream",
     "text": [
      " 78%|███████▊  | 38/49 [13:17<03:50, 20.94s/it]"
     ]
    },
    {
     "name": "stdout",
     "output_type": "stream",
     "text": [
      "Data loaded in 2.4396 seconds, processing\n",
      "Bandpass cleaned in 4.0850 seconds.\n",
      "Stamps filtered in 14.9873 seconds\n",
      "Saving results\n",
      "Results aggregated in 0.0829 seconds\n",
      "Processing coarse channels 273-280\n"
     ]
    },
    {
     "name": "stderr",
     "output_type": "stream",
     "text": [
      " 80%|███████▉  | 39/49 [13:39<03:31, 21.14s/it]"
     ]
    },
    {
     "name": "stdout",
     "output_type": "stream",
     "text": [
      "Data loaded in 1.6100 seconds, processing\n",
      "Bandpass cleaned in 3.4588 seconds.\n",
      "Stamps filtered in 14.6758 seconds\n",
      "Saving results\n",
      "Results aggregated in 0.1021 seconds\n",
      "Processing coarse channels 280-287\n"
     ]
    },
    {
     "name": "stderr",
     "output_type": "stream",
     "text": [
      " 82%|████████▏ | 40/49 [13:58<03:06, 20.75s/it]"
     ]
    },
    {
     "name": "stdout",
     "output_type": "stream",
     "text": [
      "Data loaded in 1.7420 seconds, processing\n",
      "Bandpass cleaned in 3.4619 seconds.\n",
      "Stamps filtered in 16.6626 seconds\n",
      "Saving results\n",
      "Results aggregated in 0.0961 seconds\n",
      "Processing coarse channels 287-294\n"
     ]
    },
    {
     "name": "stderr",
     "output_type": "stream",
     "text": [
      " 84%|████████▎ | 41/49 [14:20<02:48, 21.12s/it]"
     ]
    },
    {
     "name": "stdout",
     "output_type": "stream",
     "text": [
      "Data loaded in 1.8578 seconds, processing\n",
      "Bandpass cleaned in 3.6312 seconds.\n",
      "Stamps filtered in 15.1072 seconds\n",
      "Saving results\n",
      "Results aggregated in 0.1192 seconds\n",
      "Processing coarse channels 294-301\n"
     ]
    },
    {
     "name": "stderr",
     "output_type": "stream",
     "text": [
      " 86%|████████▌ | 42/49 [14:41<02:27, 21.00s/it]"
     ]
    },
    {
     "name": "stdout",
     "output_type": "stream",
     "text": [
      "Data loaded in 1.7014 seconds, processing\n",
      "Bandpass cleaned in 3.4379 seconds.\n",
      "Stamps filtered in 17.4060 seconds\n",
      "Saving results\n"
     ]
    },
    {
     "name": "stderr",
     "output_type": "stream",
     "text": [
      " 88%|████████▊ | 43/49 [15:06<02:12, 22.06s/it]"
     ]
    },
    {
     "name": "stdout",
     "output_type": "stream",
     "text": [
      "Results aggregated in 1.9609 seconds\n",
      "Processing coarse channels 301-308\n",
      "Data loaded in 1.6085 seconds, processing\n",
      "Bandpass cleaned in 3.9300 seconds.\n",
      "Stamps filtered in 14.9462 seconds\n",
      "Saving results\n",
      "Results aggregated in 0.1726 seconds\n",
      "Processing coarse channels 308-315\n"
     ]
    },
    {
     "name": "stderr",
     "output_type": "stream",
     "text": [
      " 90%|████████▉ | 44/49 [15:26<01:48, 21.64s/it]"
     ]
    },
    {
     "name": "stdout",
     "output_type": "stream",
     "text": [
      "Data loaded in 1.8238 seconds, processing\n",
      "Bandpass cleaned in 3.3010 seconds.\n",
      "Stamps filtered in 14.4201 seconds\n",
      "Saving results\n",
      "Results aggregated in 0.0957 seconds\n",
      "Processing coarse channels 315-322\n"
     ]
    },
    {
     "name": "stderr",
     "output_type": "stream",
     "text": [
      " 92%|█████████▏| 45/49 [15:46<01:24, 21.04s/it]"
     ]
    },
    {
     "name": "stdout",
     "output_type": "stream",
     "text": [
      "Data loaded in 1.8192 seconds, processing\n",
      "Bandpass cleaned in 3.4369 seconds.\n",
      "Stamps filtered in 15.3979 seconds\n",
      "Saving results\n",
      "Results aggregated in 0.1433 seconds\n",
      "Processing coarse channels 322-329\n"
     ]
    },
    {
     "name": "stderr",
     "output_type": "stream",
     "text": [
      " 94%|█████████▍| 46/49 [16:07<01:02, 20.97s/it]"
     ]
    },
    {
     "name": "stdout",
     "output_type": "stream",
     "text": [
      "Data loaded in 1.7737 seconds, processing\n",
      "Bandpass cleaned in 3.5235 seconds.\n",
      "Stamps filtered in 15.4825 seconds\n",
      "Saving results\n",
      "Results aggregated in 0.1217 seconds\n",
      "Processing coarse channels 329-336\n"
     ]
    },
    {
     "name": "stderr",
     "output_type": "stream",
     "text": [
      " 96%|█████████▌| 47/49 [16:28<00:41, 20.96s/it]"
     ]
    },
    {
     "name": "stdout",
     "output_type": "stream",
     "text": [
      "Data loaded in 1.6228 seconds, processing\n",
      "Bandpass cleaned in 3.7118 seconds.\n",
      "Stamps filtered in 15.1053 seconds\n",
      "Saving results\n",
      "Results aggregated in 0.1235 seconds\n",
      "Processing coarse channels 336-343\n"
     ]
    },
    {
     "name": "stderr",
     "output_type": "stream",
     "text": [
      " 98%|█████████▊| 48/49 [16:48<00:20, 20.84s/it]"
     ]
    },
    {
     "name": "stdout",
     "output_type": "stream",
     "text": [
      "Data loaded in 2.0092 seconds, processing\n",
      "Bandpass cleaned in 3.5790 seconds.\n",
      "Stamps filtered in 15.9546 seconds\n",
      "Saving results\n"
     ]
    },
    {
     "name": "stderr",
     "output_type": "stream",
     "text": [
      "100%|██████████| 49/49 [17:10<00:00, 21.03s/it]\n"
     ]
    },
    {
     "name": "stdout",
     "output_type": "stream",
     "text": [
      "Results aggregated in 0.1065 seconds\n",
      "       level_0      index     statistic  pvalue        freqs\n",
      "11136    11136  219923968  12421.615193     0.0  2188.371563\n",
      "10747    10747  219874176  12416.215047     0.0  2188.510680\n",
      "10803    10803  219881344  12404.013824     0.0  2188.490653\n",
      "10748    10748  219874304  12378.295139     0.0  2188.510323\n",
      "343 343\n",
      "Finished Energy Detection on GBT_57698_47555_HIP47906_fine.h5 in 1033.7264 seconds\n"
     ]
    }
   ],
   "source": [
    "from tqdm import tqdm\n",
    "df = pd.read_csv(\"train_directories.csv\")\n",
    "energy_detection_folder = \"../../../../../../datax/scratch/pma/reverse_search/train_large/\"\n",
    "\n",
    "for el in df.columns[1:]:\n",
    "    print(el)\n",
    "    directory_list = df[el].to_list()\n",
    "    os.mkdir(energy_detection_folder+el)\n",
    "    for directory in directory_list:\n",
    "        file_location = \"../../../../../..\" + directory\n",
    "        print(directory)\n",
    "        name = directory.split('/')[-1].split(\".\")[0]\n",
    "        os.mkdir(energy_detection_folder+el+\"/\"+name)\n",
    "        os.system(\"python3 energy_detection.py \"+ \n",
    "              directory +\" \"+energy_detection_folder+el+\"/\"+name)   "
   ]
  },
  {
   "cell_type": "markdown",
   "id": "7fef690b-8250-48b9-aea4-bcd3e8150dde",
   "metadata": {},
   "source": [
    "# Negative Training Case\n",
    "Collect a few background noise"
   ]
  },
  {
   "cell_type": "code",
   "execution_count": 3,
   "id": "04c63a94-b4e2-48f6-89fa-3fb599f8f9f3",
   "metadata": {
    "collapsed": true,
    "jupyter": {
     "outputs_hidden": true
    },
    "tags": []
   },
   "outputs": [
    {
     "name": "stdout",
     "output_type": "stream",
     "text": [
      "Header saved to ../../../../../../datax/scratch/pma/reverse_search//train_negative/header.pkl\n",
      "Processing 3 in parallel\n",
      "Processing coarse channels 0-3\n"
     ]
    },
    {
     "name": "stderr",
     "output_type": "stream",
     "text": [
      "  0%|          | 0/101 [00:00<?, ?it/s]"
     ]
    },
    {
     "name": "stdout",
     "output_type": "stream",
     "text": [
      "Data loaded in 0.8820 seconds, processing\n",
      "Bandpass cleaned in 1.5928 seconds.\n",
      "Stamps filtered in 13.9121 seconds\n",
      "Saving results\n"
     ]
    },
    {
     "name": "stderr",
     "output_type": "stream",
     "text": [
      "  1%|          | 1/101 [00:19<31:42, 19.03s/it]"
     ]
    },
    {
     "name": "stdout",
     "output_type": "stream",
     "text": [
      "Results aggregated in 2.6081 seconds\n",
      "Processing coarse channels 3-6\n",
      "Data loaded in 2.3896 seconds, processing\n",
      "Bandpass cleaned in 6.3412 seconds.\n",
      "Stamps filtered in 14.4758 seconds\n",
      "Saving results\n"
     ]
    },
    {
     "name": "stderr",
     "output_type": "stream",
     "text": [
      "  2%|▏         | 2/101 [00:50<43:37, 26.44s/it]"
     ]
    },
    {
     "name": "stdout",
     "output_type": "stream",
     "text": [
      "Results aggregated in 8.3559 seconds\n",
      "Processing coarse channels 6-9\n",
      "Data loaded in 0.9694 seconds, processing\n",
      "Bandpass cleaned in 2.2108 seconds.\n",
      "Stamps filtered in 14.2926 seconds\n",
      "Saving results\n"
     ]
    },
    {
     "name": "stderr",
     "output_type": "stream",
     "text": [
      "  3%|▎         | 3/101 [01:12<40:01, 24.51s/it]"
     ]
    },
    {
     "name": "stdout",
     "output_type": "stream",
     "text": [
      "Results aggregated in 4.6923 seconds\n",
      "Processing coarse channels 9-12\n",
      "Data loaded in 0.9139 seconds, processing\n",
      "Bandpass cleaned in 2.8597 seconds.\n",
      "Stamps filtered in 14.6034 seconds\n",
      "Saving results\n"
     ]
    },
    {
     "name": "stderr",
     "output_type": "stream",
     "text": [
      "  4%|▍         | 4/101 [01:36<38:55, 24.08s/it]"
     ]
    },
    {
     "name": "stdout",
     "output_type": "stream",
     "text": [
      "Results aggregated in 4.9975 seconds\n",
      "Processing coarse channels 12-15\n",
      "Data loaded in 1.0100 seconds, processing\n",
      "Bandpass cleaned in 2.5244 seconds.\n",
      "Stamps filtered in 14.2534 seconds\n",
      "Saving results\n"
     ]
    },
    {
     "name": "stderr",
     "output_type": "stream",
     "text": [
      "  5%|▍         | 5/101 [01:58<37:35, 23.49s/it]"
     ]
    },
    {
     "name": "stdout",
     "output_type": "stream",
     "text": [
      "Results aggregated in 4.6364 seconds\n",
      "Processing coarse channels 15-18\n",
      "Data loaded in 1.0299 seconds, processing\n",
      "Bandpass cleaned in 2.4598 seconds.\n",
      "Stamps filtered in 14.2969 seconds\n",
      "Saving results\n"
     ]
    },
    {
     "name": "stderr",
     "output_type": "stream",
     "text": [
      "  6%|▌         | 6/101 [02:20<36:10, 22.85s/it]"
     ]
    },
    {
     "name": "stdout",
     "output_type": "stream",
     "text": [
      "Results aggregated in 3.7643 seconds\n",
      "Processing coarse channels 18-21\n",
      "Data loaded in 1.0622 seconds, processing\n",
      "Bandpass cleaned in 2.5487 seconds.\n",
      "Stamps filtered in 14.1032 seconds\n",
      "Saving results\n"
     ]
    },
    {
     "name": "stderr",
     "output_type": "stream",
     "text": [
      "  7%|▋         | 7/101 [02:41<34:55, 22.29s/it]"
     ]
    },
    {
     "name": "stdout",
     "output_type": "stream",
     "text": [
      "Results aggregated in 3.3766 seconds\n",
      "Processing coarse channels 21-24\n",
      "Data loaded in 1.1560 seconds, processing\n",
      "Bandpass cleaned in 2.9836 seconds.\n",
      "Stamps filtered in 14.3113 seconds\n",
      "Saving results\n"
     ]
    },
    {
     "name": "stderr",
     "output_type": "stream",
     "text": [
      "  8%|▊         | 8/101 [03:04<34:48, 22.46s/it]"
     ]
    },
    {
     "name": "stdout",
     "output_type": "stream",
     "text": [
      "Results aggregated in 4.3354 seconds\n",
      "Processing coarse channels 24-27\n",
      "Data loaded in 1.1510 seconds, processing\n",
      "Bandpass cleaned in 2.8083 seconds.\n",
      "Stamps filtered in 13.9000 seconds\n",
      "Saving results\n"
     ]
    },
    {
     "name": "stderr",
     "output_type": "stream",
     "text": [
      "  9%|▉         | 9/101 [03:26<34:23, 22.43s/it]"
     ]
    },
    {
     "name": "stdout",
     "output_type": "stream",
     "text": [
      "Results aggregated in 4.4446 seconds\n",
      "Processing coarse channels 27-30\n",
      "Data loaded in 1.2205 seconds, processing\n",
      "Bandpass cleaned in 2.3137 seconds.\n",
      "Stamps filtered in 14.1747 seconds\n",
      "Saving results\n"
     ]
    },
    {
     "name": "stderr",
     "output_type": "stream",
     "text": [
      " 10%|▉         | 10/101 [03:48<33:55, 22.37s/it]"
     ]
    },
    {
     "name": "stdout",
     "output_type": "stream",
     "text": [
      "Results aggregated in 4.4963 seconds\n",
      "Processing coarse channels 30-33\n",
      "Data loaded in 1.1571 seconds, processing\n",
      "Bandpass cleaned in 2.6105 seconds.\n",
      "Stamps filtered in 14.0926 seconds\n",
      "Saving results\n"
     ]
    },
    {
     "name": "stderr",
     "output_type": "stream",
     "text": [
      " 11%|█         | 11/101 [04:10<33:24, 22.27s/it]"
     ]
    },
    {
     "name": "stdout",
     "output_type": "stream",
     "text": [
      "Results aggregated in 4.1333 seconds\n",
      "Processing coarse channels 33-36\n",
      "Data loaded in 1.0635 seconds, processing\n",
      "Bandpass cleaned in 2.6630 seconds.\n",
      "Stamps filtered in 14.2959 seconds\n",
      "Saving results\n"
     ]
    },
    {
     "name": "stderr",
     "output_type": "stream",
     "text": [
      " 12%|█▏        | 12/101 [04:33<33:15, 22.42s/it]"
     ]
    },
    {
     "name": "stdout",
     "output_type": "stream",
     "text": [
      "Results aggregated in 4.6947 seconds\n",
      "Processing coarse channels 36-39\n",
      "Data loaded in 1.1554 seconds, processing\n",
      "Bandpass cleaned in 2.5810 seconds.\n",
      "Stamps filtered in 14.3503 seconds\n",
      "Saving results\n"
     ]
    },
    {
     "name": "stderr",
     "output_type": "stream",
     "text": [
      " 13%|█▎        | 13/101 [04:56<32:51, 22.40s/it]"
     ]
    },
    {
     "name": "stdout",
     "output_type": "stream",
     "text": [
      "Results aggregated in 4.2413 seconds\n",
      "Processing coarse channels 39-42\n",
      "Data loaded in 1.0873 seconds, processing\n",
      "Bandpass cleaned in 3.3101 seconds.\n",
      "Stamps filtered in 14.2372 seconds\n",
      "Saving results\n"
     ]
    },
    {
     "name": "stderr",
     "output_type": "stream",
     "text": [
      " 14%|█▍        | 14/101 [05:19<32:52, 22.68s/it]"
     ]
    },
    {
     "name": "stdout",
     "output_type": "stream",
     "text": [
      "Results aggregated in 4.6286 seconds\n",
      "Processing coarse channels 42-45\n",
      "Data loaded in 1.2087 seconds, processing\n",
      "Bandpass cleaned in 2.0917 seconds.\n",
      "Stamps filtered in 14.0791 seconds\n",
      "Saving results\n"
     ]
    },
    {
     "name": "stderr",
     "output_type": "stream",
     "text": [
      " 15%|█▍        | 15/101 [05:39<31:36, 22.06s/it]"
     ]
    },
    {
     "name": "stdout",
     "output_type": "stream",
     "text": [
      "Results aggregated in 3.2058 seconds\n",
      "Processing coarse channels 45-48\n",
      "Data loaded in 1.1516 seconds, processing\n",
      "Bandpass cleaned in 1.9673 seconds.\n",
      "Stamps filtered in 14.1821 seconds\n",
      "Saving results\n"
     ]
    },
    {
     "name": "stderr",
     "output_type": "stream",
     "text": [
      " 16%|█▌        | 16/101 [06:00<30:35, 21.59s/it]"
     ]
    },
    {
     "name": "stdout",
     "output_type": "stream",
     "text": [
      "Results aggregated in 3.1704 seconds\n",
      "Processing coarse channels 48-51\n",
      "Data loaded in 1.0394 seconds, processing\n",
      "Bandpass cleaned in 2.2567 seconds.\n",
      "Stamps filtered in 14.3214 seconds\n",
      "Saving results\n"
     ]
    },
    {
     "name": "stderr",
     "output_type": "stream",
     "text": [
      " 17%|█▋        | 17/101 [06:22<30:11, 21.56s/it]"
     ]
    },
    {
     "name": "stdout",
     "output_type": "stream",
     "text": [
      "Results aggregated in 3.8371 seconds\n",
      "Processing coarse channels 51-54\n",
      "Data loaded in 1.1095 seconds, processing\n",
      "Bandpass cleaned in 2.2513 seconds.\n",
      "Stamps filtered in 14.4412 seconds\n",
      "Saving results\n"
     ]
    },
    {
     "name": "stderr",
     "output_type": "stream",
     "text": [
      " 18%|█▊        | 18/101 [06:44<30:04, 21.74s/it]"
     ]
    },
    {
     "name": "stdout",
     "output_type": "stream",
     "text": [
      "Results aggregated in 4.3192 seconds\n",
      "Processing coarse channels 54-57\n",
      "Data loaded in 1.2433 seconds, processing\n",
      "Bandpass cleaned in 2.6230 seconds.\n",
      "Stamps filtered in 14.2259 seconds\n",
      "Saving results\n"
     ]
    },
    {
     "name": "stderr",
     "output_type": "stream",
     "text": [
      " 19%|█▉        | 19/101 [07:06<29:48, 21.82s/it]"
     ]
    },
    {
     "name": "stdout",
     "output_type": "stream",
     "text": [
      "Results aggregated in 3.8497 seconds\n",
      "Processing coarse channels 57-60\n",
      "Data loaded in 1.1255 seconds, processing\n",
      "Bandpass cleaned in 3.1202 seconds.\n",
      "Stamps filtered in 14.8484 seconds\n",
      "Saving results\n"
     ]
    },
    {
     "name": "stderr",
     "output_type": "stream",
     "text": [
      " 20%|█▉        | 20/101 [07:29<30:10, 22.36s/it]"
     ]
    },
    {
     "name": "stdout",
     "output_type": "stream",
     "text": [
      "Results aggregated in 4.4750 seconds\n",
      "Processing coarse channels 60-63\n",
      "Data loaded in 1.2282 seconds, processing\n",
      "Bandpass cleaned in 2.9171 seconds.\n",
      "Stamps filtered in 14.1125 seconds\n",
      "Saving results\n"
     ]
    },
    {
     "name": "stderr",
     "output_type": "stream",
     "text": [
      " 21%|██        | 21/101 [07:53<30:14, 22.69s/it]"
     ]
    },
    {
     "name": "stdout",
     "output_type": "stream",
     "text": [
      "Results aggregated in 5.1599 seconds\n",
      "Processing coarse channels 63-66\n",
      "Data loaded in 1.2917 seconds, processing\n",
      "Bandpass cleaned in 2.5938 seconds.\n",
      "Stamps filtered in 14.2749 seconds\n",
      "Saving results\n"
     ]
    },
    {
     "name": "stderr",
     "output_type": "stream",
     "text": [
      " 22%|██▏       | 22/101 [08:15<29:41, 22.55s/it]"
     ]
    },
    {
     "name": "stdout",
     "output_type": "stream",
     "text": [
      "Results aggregated in 4.0356 seconds\n",
      "Processing coarse channels 66-69\n",
      "Data loaded in 1.0801 seconds, processing\n",
      "Bandpass cleaned in 3.0642 seconds.\n",
      "Stamps filtered in 14.5649 seconds\n",
      "Saving results\n"
     ]
    },
    {
     "name": "stderr",
     "output_type": "stream",
     "text": [
      " 23%|██▎       | 23/101 [08:37<29:15, 22.51s/it]"
     ]
    },
    {
     "name": "stdout",
     "output_type": "stream",
     "text": [
      "Results aggregated in 3.6630 seconds\n",
      "Processing coarse channels 69-72\n",
      "Data loaded in 1.1217 seconds, processing\n",
      "Bandpass cleaned in 3.3587 seconds.\n",
      "Stamps filtered in 14.2620 seconds\n",
      "Saving results\n"
     ]
    },
    {
     "name": "stderr",
     "output_type": "stream",
     "text": [
      " 24%|██▍       | 24/101 [09:00<28:47, 22.44s/it]"
     ]
    },
    {
     "name": "stdout",
     "output_type": "stream",
     "text": [
      "Results aggregated in 3.4917 seconds\n",
      "Processing coarse channels 72-75\n",
      "Data loaded in 1.2120 seconds, processing\n",
      "Bandpass cleaned in 3.2966 seconds.\n",
      "Stamps filtered in 14.1754 seconds\n",
      "Saving results\n"
     ]
    },
    {
     "name": "stderr",
     "output_type": "stream",
     "text": [
      " 25%|██▍       | 25/101 [09:23<28:47, 22.73s/it]"
     ]
    },
    {
     "name": "stdout",
     "output_type": "stream",
     "text": [
      "Results aggregated in 4.6879 seconds\n",
      "Processing coarse channels 75-78\n",
      "Data loaded in 1.0939 seconds, processing\n",
      "Bandpass cleaned in 2.9235 seconds.\n",
      "Stamps filtered in 14.3618 seconds\n",
      "Saving results\n"
     ]
    },
    {
     "name": "stderr",
     "output_type": "stream",
     "text": [
      " 26%|██▌       | 26/101 [09:46<28:24, 22.73s/it]"
     ]
    },
    {
     "name": "stdout",
     "output_type": "stream",
     "text": [
      "Results aggregated in 4.3054 seconds\n",
      "Processing coarse channels 78-81\n",
      "Data loaded in 1.2680 seconds, processing\n",
      "Bandpass cleaned in 1.9253 seconds.\n",
      "Stamps filtered in 14.0904 seconds\n",
      "Saving results\n"
     ]
    },
    {
     "name": "stderr",
     "output_type": "stream",
     "text": [
      " 27%|██▋       | 27/101 [10:07<27:34, 22.36s/it]"
     ]
    },
    {
     "name": "stdout",
     "output_type": "stream",
     "text": [
      "Results aggregated in 4.1720 seconds\n",
      "Processing coarse channels 81-84\n",
      "Data loaded in 1.1602 seconds, processing\n",
      "Bandpass cleaned in 2.1993 seconds.\n",
      "Stamps filtered in 14.2216 seconds\n",
      "Saving results\n"
     ]
    },
    {
     "name": "stderr",
     "output_type": "stream",
     "text": [
      " 28%|██▊       | 28/101 [10:29<26:55, 22.13s/it]"
     ]
    },
    {
     "name": "stdout",
     "output_type": "stream",
     "text": [
      "Results aggregated in 3.9746 seconds\n",
      "Processing coarse channels 84-87\n",
      "Data loaded in 1.2827 seconds, processing\n",
      "Bandpass cleaned in 2.4208 seconds.\n",
      "Stamps filtered in 14.3889 seconds\n",
      "Saving results\n"
     ]
    },
    {
     "name": "stderr",
     "output_type": "stream",
     "text": [
      " 29%|██▊       | 29/101 [10:51<26:27, 22.04s/it]"
     ]
    },
    {
     "name": "stdout",
     "output_type": "stream",
     "text": [
      "Results aggregated in 3.7213 seconds\n",
      "Processing coarse channels 87-90\n",
      "Data loaded in 1.1443 seconds, processing\n",
      "Bandpass cleaned in 3.6762 seconds.\n",
      "Stamps filtered in 14.1085 seconds\n",
      "Saving results\n"
     ]
    },
    {
     "name": "stderr",
     "output_type": "stream",
     "text": [
      " 30%|██▉       | 30/101 [11:14<26:33, 22.45s/it]"
     ]
    },
    {
     "name": "stdout",
     "output_type": "stream",
     "text": [
      "Results aggregated in 4.4234 seconds\n",
      "Processing coarse channels 90-93\n",
      "Data loaded in 1.1980 seconds, processing\n",
      "Bandpass cleaned in 2.1729 seconds.\n",
      "Stamps filtered in 14.1201 seconds\n",
      "Saving results\n"
     ]
    },
    {
     "name": "stderr",
     "output_type": "stream",
     "text": [
      " 31%|███       | 31/101 [11:36<25:52, 22.17s/it]"
     ]
    },
    {
     "name": "stdout",
     "output_type": "stream",
     "text": [
      "Results aggregated in 4.0009 seconds\n",
      "Processing coarse channels 93-96\n",
      "Data loaded in 1.2444 seconds, processing\n",
      "Bandpass cleaned in 2.7036 seconds.\n",
      "Stamps filtered in 14.4516 seconds\n",
      "Saving results\n"
     ]
    },
    {
     "name": "stderr",
     "output_type": "stream",
     "text": [
      " 32%|███▏      | 32/101 [11:58<25:30, 22.18s/it]"
     ]
    },
    {
     "name": "stdout",
     "output_type": "stream",
     "text": [
      "Results aggregated in 3.7581 seconds\n",
      "Processing coarse channels 96-99\n",
      "Data loaded in 1.3892 seconds, processing\n",
      "Bandpass cleaned in 2.2410 seconds.\n",
      "Stamps filtered in 14.8653 seconds\n",
      "Saving results\n"
     ]
    },
    {
     "name": "stderr",
     "output_type": "stream",
     "text": [
      " 33%|███▎      | 33/101 [12:20<25:17, 22.31s/it]"
     ]
    },
    {
     "name": "stdout",
     "output_type": "stream",
     "text": [
      "Results aggregated in 4.0824 seconds\n",
      "Processing coarse channels 99-102\n",
      "Data loaded in 1.1930 seconds, processing\n",
      "Bandpass cleaned in 2.6468 seconds.\n",
      "Stamps filtered in 14.1867 seconds\n",
      "Saving results\n"
     ]
    },
    {
     "name": "stderr",
     "output_type": "stream",
     "text": [
      " 34%|███▎      | 34/101 [12:43<24:58, 22.37s/it]"
     ]
    },
    {
     "name": "stdout",
     "output_type": "stream",
     "text": [
      "Results aggregated in 4.4353 seconds\n",
      "Processing coarse channels 102-105\n",
      "Data loaded in 1.2675 seconds, processing\n",
      "Bandpass cleaned in 2.8025 seconds.\n",
      "Stamps filtered in 14.6221 seconds\n",
      "Saving results\n"
     ]
    },
    {
     "name": "stderr",
     "output_type": "stream",
     "text": [
      " 35%|███▍      | 35/101 [13:08<25:22, 23.06s/it]"
     ]
    },
    {
     "name": "stdout",
     "output_type": "stream",
     "text": [
      "Results aggregated in 5.9633 seconds\n",
      "Processing coarse channels 105-108\n",
      "Data loaded in 1.2218 seconds, processing\n",
      "Bandpass cleaned in 2.6459 seconds.\n",
      "Stamps filtered in 14.7581 seconds\n",
      "Saving results\n"
     ]
    },
    {
     "name": "stderr",
     "output_type": "stream",
     "text": [
      " 36%|███▌      | 36/101 [13:30<24:52, 22.96s/it]"
     ]
    },
    {
     "name": "stdout",
     "output_type": "stream",
     "text": [
      "Results aggregated in 4.0535 seconds\n",
      "Processing coarse channels 108-111\n",
      "Data loaded in 1.4274 seconds, processing\n",
      "Bandpass cleaned in 2.3427 seconds.\n",
      "Stamps filtered in 14.7834 seconds\n",
      "Saving results\n"
     ]
    },
    {
     "name": "stderr",
     "output_type": "stream",
     "text": [
      " 37%|███▋      | 37/101 [13:52<24:13, 22.72s/it]"
     ]
    },
    {
     "name": "stdout",
     "output_type": "stream",
     "text": [
      "Results aggregated in 3.5539 seconds\n",
      "Processing coarse channels 111-114\n",
      "Data loaded in 1.2355 seconds, processing\n",
      "Bandpass cleaned in 2.2563 seconds.\n",
      "Stamps filtered in 14.3994 seconds\n",
      "Saving results\n"
     ]
    },
    {
     "name": "stderr",
     "output_type": "stream",
     "text": [
      " 38%|███▊      | 38/101 [14:14<23:36, 22.48s/it]"
     ]
    },
    {
     "name": "stdout",
     "output_type": "stream",
     "text": [
      "Results aggregated in 4.0108 seconds\n",
      "Processing coarse channels 114-117\n",
      "Data loaded in 1.3049 seconds, processing\n",
      "Bandpass cleaned in 2.7927 seconds.\n",
      "Stamps filtered in 14.1871 seconds\n",
      "Saving results\n"
     ]
    },
    {
     "name": "stderr",
     "output_type": "stream",
     "text": [
      " 39%|███▊      | 39/101 [14:37<23:10, 22.43s/it]"
     ]
    },
    {
     "name": "stdout",
     "output_type": "stream",
     "text": [
      "Results aggregated in 4.0059 seconds\n",
      "Processing coarse channels 117-120\n",
      "Data loaded in 1.3269 seconds, processing\n",
      "Bandpass cleaned in 2.4088 seconds.\n",
      "Stamps filtered in 14.6654 seconds\n",
      "Saving results\n"
     ]
    },
    {
     "name": "stderr",
     "output_type": "stream",
     "text": [
      " 40%|███▉      | 40/101 [15:00<22:55, 22.56s/it]"
     ]
    },
    {
     "name": "stdout",
     "output_type": "stream",
     "text": [
      "Results aggregated in 4.4121 seconds\n",
      "Processing coarse channels 120-123\n",
      "Data loaded in 1.3704 seconds, processing\n",
      "Bandpass cleaned in 2.4965 seconds.\n",
      "Stamps filtered in 14.3135 seconds\n",
      "Saving results\n"
     ]
    },
    {
     "name": "stderr",
     "output_type": "stream",
     "text": [
      " 41%|████      | 41/101 [15:25<23:18, 23.30s/it]"
     ]
    },
    {
     "name": "stdout",
     "output_type": "stream",
     "text": [
      "Results aggregated in 6.8198 seconds\n",
      "Processing coarse channels 123-126\n",
      "Data loaded in 1.3450 seconds, processing\n",
      "Bandpass cleaned in 2.3776 seconds.\n",
      "Stamps filtered in 13.8903 seconds\n",
      "Saving results\n"
     ]
    },
    {
     "name": "stderr",
     "output_type": "stream",
     "text": [
      " 42%|████▏     | 42/101 [15:45<22:01, 22.39s/it]"
     ]
    },
    {
     "name": "stdout",
     "output_type": "stream",
     "text": [
      "Results aggregated in 2.6136 seconds\n",
      "Processing coarse channels 126-129\n",
      "Data loaded in 1.3301 seconds, processing\n",
      "Bandpass cleaned in 2.3616 seconds.\n",
      "Stamps filtered in 14.1219 seconds\n",
      "Saving results\n"
     ]
    },
    {
     "name": "stderr",
     "output_type": "stream",
     "text": [
      " 43%|████▎     | 43/101 [16:06<21:22, 22.11s/it]"
     ]
    },
    {
     "name": "stdout",
     "output_type": "stream",
     "text": [
      "Results aggregated in 3.6098 seconds\n",
      "Processing coarse channels 129-132\n",
      "Data loaded in 1.6307 seconds, processing\n",
      "Bandpass cleaned in 3.3659 seconds.\n",
      "Stamps filtered in 14.5077 seconds\n",
      "Saving results\n"
     ]
    },
    {
     "name": "stderr",
     "output_type": "stream",
     "text": [
      " 44%|████▎     | 44/101 [16:30<21:23, 22.52s/it]"
     ]
    },
    {
     "name": "stdout",
     "output_type": "stream",
     "text": [
      "Results aggregated in 3.9051 seconds\n",
      "Processing coarse channels 132-135\n",
      "Data loaded in 1.3964 seconds, processing\n",
      "Bandpass cleaned in 3.3977 seconds.\n",
      "Stamps filtered in 14.7537 seconds\n",
      "Saving results\n"
     ]
    },
    {
     "name": "stderr",
     "output_type": "stream",
     "text": [
      " 45%|████▍     | 45/101 [16:52<20:59, 22.50s/it]"
     ]
    },
    {
     "name": "stdout",
     "output_type": "stream",
     "text": [
      "Results aggregated in 2.8513 seconds\n",
      "Processing coarse channels 135-138\n",
      "Data loaded in 1.3284 seconds, processing\n",
      "Bandpass cleaned in 2.3450 seconds.\n",
      "Stamps filtered in 14.2096 seconds\n",
      "Saving results\n"
     ]
    },
    {
     "name": "stderr",
     "output_type": "stream",
     "text": [
      " 46%|████▌     | 46/101 [17:14<20:21, 22.20s/it]"
     ]
    },
    {
     "name": "stdout",
     "output_type": "stream",
     "text": [
      "Results aggregated in 3.5982 seconds\n",
      "Processing coarse channels 138-141\n",
      "Data loaded in 1.2878 seconds, processing\n",
      "Bandpass cleaned in 3.0227 seconds.\n",
      "Stamps filtered in 14.0589 seconds\n",
      "Saving results\n"
     ]
    },
    {
     "name": "stderr",
     "output_type": "stream",
     "text": [
      " 47%|████▋     | 47/101 [17:40<21:03, 23.41s/it]"
     ]
    },
    {
     "name": "stdout",
     "output_type": "stream",
     "text": [
      "Results aggregated in 7.7931 seconds\n",
      "Processing coarse channels 141-144\n",
      "Data loaded in 1.6545 seconds, processing\n",
      "Bandpass cleaned in 5.3887 seconds.\n",
      "Stamps filtered in 14.8589 seconds\n",
      "Saving results\n"
     ]
    },
    {
     "name": "stderr",
     "output_type": "stream",
     "text": [
      " 48%|████▊     | 48/101 [18:12<22:50, 25.86s/it]"
     ]
    },
    {
     "name": "stdout",
     "output_type": "stream",
     "text": [
      "Results aggregated in 9.6136 seconds\n",
      "Processing coarse channels 144-147\n",
      "Data loaded in 1.5161 seconds, processing\n",
      "Bandpass cleaned in 8.3543 seconds.\n",
      "Stamps filtered in 16.0219 seconds\n",
      "Saving results\n"
     ]
    },
    {
     "name": "stderr",
     "output_type": "stream",
     "text": [
      " 49%|████▊     | 49/101 [18:48<25:07, 29.00s/it]"
     ]
    },
    {
     "name": "stdout",
     "output_type": "stream",
     "text": [
      "Results aggregated in 10.3681 seconds\n",
      "Processing coarse channels 147-150\n",
      "Data loaded in 3.0064 seconds, processing\n",
      "Bandpass cleaned in 6.7808 seconds.\n",
      "Stamps filtered in 14.5196 seconds\n",
      "Saving results\n"
     ]
    },
    {
     "name": "stderr",
     "output_type": "stream",
     "text": [
      " 50%|████▉     | 50/101 [19:24<26:29, 31.17s/it]"
     ]
    },
    {
     "name": "stdout",
     "output_type": "stream",
     "text": [
      "Results aggregated in 11.8505 seconds\n",
      "Processing coarse channels 150-153\n",
      "Data loaded in 2.8272 seconds, processing\n",
      "Bandpass cleaned in 6.5156 seconds.\n",
      "Stamps filtered in 15.4146 seconds\n",
      "Saving results\n"
     ]
    },
    {
     "name": "stderr",
     "output_type": "stream",
     "text": [
      " 50%|█████     | 51/101 [19:58<26:44, 32.08s/it]"
     ]
    },
    {
     "name": "stdout",
     "output_type": "stream",
     "text": [
      "Results aggregated in 9.3984 seconds\n",
      "Processing coarse channels 153-156\n",
      "Data loaded in 3.0050 seconds, processing\n",
      "Bandpass cleaned in 8.5762 seconds.\n",
      "Stamps filtered in 14.5622 seconds\n",
      "Saving results\n"
     ]
    },
    {
     "name": "stderr",
     "output_type": "stream",
     "text": [
      " 51%|█████▏    | 52/101 [20:36<27:39, 33.87s/it]"
     ]
    },
    {
     "name": "stdout",
     "output_type": "stream",
     "text": [
      "Results aggregated in 11.8053 seconds\n",
      "Processing coarse channels 156-159\n",
      "Data loaded in 3.2163 seconds, processing\n",
      "Bandpass cleaned in 6.4635 seconds.\n",
      "Stamps filtered in 15.7958 seconds\n",
      "Saving results\n"
     ]
    },
    {
     "name": "stderr",
     "output_type": "stream",
     "text": [
      " 52%|█████▏    | 53/101 [21:14<28:05, 35.11s/it]"
     ]
    },
    {
     "name": "stdout",
     "output_type": "stream",
     "text": [
      "Results aggregated in 12.4462 seconds\n",
      "Processing coarse channels 159-162\n",
      "Data loaded in 3.2166 seconds, processing\n",
      "Bandpass cleaned in 6.6379 seconds.\n",
      "Stamps filtered in 14.8197 seconds\n",
      "Saving results\n"
     ]
    },
    {
     "name": "stderr",
     "output_type": "stream",
     "text": [
      " 53%|█████▎    | 54/101 [21:50<27:40, 35.33s/it]"
     ]
    },
    {
     "name": "stdout",
     "output_type": "stream",
     "text": [
      "Results aggregated in 11.1038 seconds\n",
      "Processing coarse channels 162-165\n",
      "Data loaded in 3.5582 seconds, processing\n",
      "Bandpass cleaned in 7.4306 seconds.\n",
      "Stamps filtered in 14.6823 seconds\n",
      "Saving results\n"
     ]
    },
    {
     "name": "stderr",
     "output_type": "stream",
     "text": [
      " 54%|█████▍    | 55/101 [22:29<27:46, 36.22s/it]"
     ]
    },
    {
     "name": "stdout",
     "output_type": "stream",
     "text": [
      "Results aggregated in 12.5344 seconds\n",
      "Processing coarse channels 165-168\n",
      "Data loaded in 3.2784 seconds, processing\n",
      "Bandpass cleaned in 6.9875 seconds.\n",
      "Stamps filtered in 15.4332 seconds\n",
      "Saving results\n"
     ]
    },
    {
     "name": "stderr",
     "output_type": "stream",
     "text": [
      " 55%|█████▌    | 56/101 [23:05<27:18, 36.42s/it]"
     ]
    },
    {
     "name": "stdout",
     "output_type": "stream",
     "text": [
      "Results aggregated in 11.1157 seconds\n",
      "Processing coarse channels 168-171\n",
      "Data loaded in 3.4896 seconds, processing\n",
      "Bandpass cleaned in 7.0495 seconds.\n",
      "Stamps filtered in 14.9267 seconds\n",
      "Saving results\n"
     ]
    },
    {
     "name": "stderr",
     "output_type": "stream",
     "text": [
      " 56%|█████▋    | 57/101 [23:43<27:01, 36.86s/it]"
     ]
    },
    {
     "name": "stdout",
     "output_type": "stream",
     "text": [
      "Results aggregated in 12.3423 seconds\n",
      "Processing coarse channels 171-174\n",
      "Data loaded in 3.7232 seconds, processing\n",
      "Bandpass cleaned in 6.9159 seconds.\n",
      "Stamps filtered in 15.5254 seconds\n",
      "Saving results\n"
     ]
    },
    {
     "name": "stderr",
     "output_type": "stream",
     "text": [
      " 57%|█████▋    | 58/101 [24:22<26:44, 37.32s/it]"
     ]
    },
    {
     "name": "stdout",
     "output_type": "stream",
     "text": [
      "Results aggregated in 12.1613 seconds\n",
      "Processing coarse channels 174-177\n",
      "Data loaded in 3.9915 seconds, processing\n",
      "Bandpass cleaned in 6.8257 seconds.\n",
      "Stamps filtered in 15.6758 seconds\n",
      "Saving results\n"
     ]
    },
    {
     "name": "stderr",
     "output_type": "stream",
     "text": [
      " 58%|█████▊    | 59/101 [25:00<26:22, 37.68s/it]"
     ]
    },
    {
     "name": "stdout",
     "output_type": "stream",
     "text": [
      "Results aggregated in 11.9584 seconds\n",
      "Processing coarse channels 177-180\n",
      "Data loaded in 3.7476 seconds, processing\n",
      "Bandpass cleaned in 7.4019 seconds.\n",
      "Stamps filtered in 15.3785 seconds\n",
      "Saving results\n"
     ]
    },
    {
     "name": "stderr",
     "output_type": "stream",
     "text": [
      " 59%|█████▉    | 60/101 [25:39<25:54, 37.91s/it]"
     ]
    },
    {
     "name": "stdout",
     "output_type": "stream",
     "text": [
      "Results aggregated in 11.8536 seconds\n",
      "Processing coarse channels 180-183\n",
      "Data loaded in 3.9385 seconds, processing\n",
      "Bandpass cleaned in 8.0314 seconds.\n",
      "Stamps filtered in 15.1153 seconds\n",
      "Saving results\n"
     ]
    },
    {
     "name": "stderr",
     "output_type": "stream",
     "text": [
      " 60%|██████    | 61/101 [26:18<25:31, 38.29s/it]"
     ]
    },
    {
     "name": "stdout",
     "output_type": "stream",
     "text": [
      "Results aggregated in 11.9952 seconds\n",
      "Processing coarse channels 183-186\n",
      "Data loaded in 3.0667 seconds, processing\n",
      "Bandpass cleaned in 6.1428 seconds.\n",
      "Stamps filtered in 16.0052 seconds\n",
      "Saving results\n"
     ]
    },
    {
     "name": "stderr",
     "output_type": "stream",
     "text": [
      " 61%|██████▏   | 62/101 [26:54<24:23, 37.53s/it]"
     ]
    },
    {
     "name": "stdout",
     "output_type": "stream",
     "text": [
      "Results aggregated in 10.4784 seconds\n",
      "Processing coarse channels 186-189\n",
      "Data loaded in 3.4256 seconds, processing\n",
      "Bandpass cleaned in 6.6378 seconds.\n",
      "Stamps filtered in 16.6630 seconds\n",
      "Saving results\n"
     ]
    },
    {
     "name": "stderr",
     "output_type": "stream",
     "text": [
      " 62%|██████▏   | 63/101 [27:33<24:08, 38.11s/it]"
     ]
    },
    {
     "name": "stdout",
     "output_type": "stream",
     "text": [
      "Results aggregated in 12.6629 seconds\n",
      "Processing coarse channels 189-192\n",
      "Data loaded in 3.8803 seconds, processing\n",
      "Bandpass cleaned in 6.9973 seconds.\n",
      "Stamps filtered in 16.0991 seconds\n",
      "Saving results\n"
     ]
    },
    {
     "name": "stderr",
     "output_type": "stream",
     "text": [
      " 63%|██████▎   | 64/101 [28:12<23:40, 38.40s/it]"
     ]
    },
    {
     "name": "stdout",
     "output_type": "stream",
     "text": [
      "Results aggregated in 12.0248 seconds\n",
      "Processing coarse channels 192-195\n",
      "Data loaded in 4.5955 seconds, processing\n",
      "Bandpass cleaned in 6.8942 seconds.\n",
      "Stamps filtered in 17.1028 seconds\n",
      "Saving results\n"
     ]
    },
    {
     "name": "stderr",
     "output_type": "stream",
     "text": [
      " 64%|██████▍   | 65/101 [28:54<23:34, 39.29s/it]"
     ]
    },
    {
     "name": "stdout",
     "output_type": "stream",
     "text": [
      "Results aggregated in 12.6987 seconds\n",
      "Processing coarse channels 195-198\n",
      "Data loaded in 3.8070 seconds, processing\n",
      "Bandpass cleaned in 7.7379 seconds.\n",
      "Stamps filtered in 15.5162 seconds\n",
      "Saving results\n"
     ]
    },
    {
     "name": "stderr",
     "output_type": "stream",
     "text": [
      " 65%|██████▌   | 66/101 [29:33<22:55, 39.29s/it]"
     ]
    },
    {
     "name": "stdout",
     "output_type": "stream",
     "text": [
      "Results aggregated in 12.1468 seconds\n",
      "Processing coarse channels 198-201\n",
      "Data loaded in 3.8158 seconds, processing\n",
      "Bandpass cleaned in 8.7728 seconds.\n",
      "Stamps filtered in 16.8980 seconds\n",
      "Saving results\n"
     ]
    },
    {
     "name": "stderr",
     "output_type": "stream",
     "text": [
      " 66%|██████▋   | 67/101 [30:15<22:44, 40.14s/it]"
     ]
    },
    {
     "name": "stdout",
     "output_type": "stream",
     "text": [
      "Results aggregated in 12.5479 seconds\n",
      "Processing coarse channels 201-204\n",
      "Data loaded in 3.6573 seconds, processing\n",
      "Bandpass cleaned in 6.7245 seconds.\n",
      "Stamps filtered in 16.8597 seconds\n",
      "Saving results\n"
     ]
    },
    {
     "name": "stderr",
     "output_type": "stream",
     "text": [
      " 67%|██████▋   | 68/101 [30:54<21:58, 39.95s/it]"
     ]
    },
    {
     "name": "stdout",
     "output_type": "stream",
     "text": [
      "Results aggregated in 12.2216 seconds\n",
      "Processing coarse channels 204-207\n",
      "Data loaded in 2.3748 seconds, processing\n",
      "Bandpass cleaned in 8.0865 seconds.\n",
      "Stamps filtered in 15.6994 seconds\n",
      "Saving results\n"
     ]
    },
    {
     "name": "stderr",
     "output_type": "stream",
     "text": [
      " 68%|██████▊   | 69/101 [31:33<21:04, 39.51s/it]"
     ]
    },
    {
     "name": "stdout",
     "output_type": "stream",
     "text": [
      "Results aggregated in 12.2492 seconds\n",
      "Processing coarse channels 207-210\n",
      "Data loaded in 4.5578 seconds, processing\n",
      "Bandpass cleaned in 7.9397 seconds.\n",
      "Stamps filtered in 16.5290 seconds\n",
      "Saving results\n"
     ]
    },
    {
     "name": "stderr",
     "output_type": "stream",
     "text": [
      " 69%|██████▉   | 70/101 [32:12<20:19, 39.33s/it]"
     ]
    },
    {
     "name": "stdout",
     "output_type": "stream",
     "text": [
      "Results aggregated in 9.8358 seconds\n",
      "Processing coarse channels 210-213\n",
      "Data loaded in 4.0677 seconds, processing\n",
      "Bandpass cleaned in 7.6562 seconds.\n",
      "Stamps filtered in 17.4243 seconds\n",
      "Saving results\n"
     ]
    },
    {
     "name": "stderr",
     "output_type": "stream",
     "text": [
      " 70%|███████   | 71/101 [32:55<20:11, 40.38s/it]"
     ]
    },
    {
     "name": "stdout",
     "output_type": "stream",
     "text": [
      "Results aggregated in 13.6173 seconds\n",
      "Processing coarse channels 213-216\n",
      "Data loaded in 2.7846 seconds, processing\n",
      "Bandpass cleaned in 9.1555 seconds.\n",
      "Stamps filtered in 16.9156 seconds\n",
      "Saving results\n"
     ]
    },
    {
     "name": "stderr",
     "output_type": "stream",
     "text": [
      " 71%|███████▏  | 72/101 [33:35<19:26, 40.23s/it]"
     ]
    },
    {
     "name": "stdout",
     "output_type": "stream",
     "text": [
      "Results aggregated in 10.9275 seconds\n",
      "Processing coarse channels 216-219\n",
      "Data loaded in 4.9992 seconds, processing\n",
      "Bandpass cleaned in 8.1233 seconds.\n",
      "Stamps filtered in 17.6314 seconds\n",
      "Saving results\n"
     ]
    },
    {
     "name": "stderr",
     "output_type": "stream",
     "text": [
      " 72%|███████▏  | 73/101 [34:18<19:12, 41.16s/it]"
     ]
    },
    {
     "name": "stdout",
     "output_type": "stream",
     "text": [
      "Results aggregated in 12.5140 seconds\n",
      "Processing coarse channels 219-222\n",
      "Data loaded in 4.2776 seconds, processing\n",
      "Bandpass cleaned in 8.5924 seconds.\n",
      "Stamps filtered in 17.4548 seconds\n",
      "Saving results\n"
     ]
    },
    {
     "name": "stderr",
     "output_type": "stream",
     "text": [
      " 73%|███████▎  | 74/101 [35:02<18:52, 41.93s/it]"
     ]
    },
    {
     "name": "stdout",
     "output_type": "stream",
     "text": [
      "Results aggregated in 13.3320 seconds\n",
      "Processing coarse channels 222-225\n",
      "Data loaded in 4.8286 seconds, processing\n",
      "Bandpass cleaned in 9.6811 seconds.\n",
      "Stamps filtered in 16.9397 seconds\n",
      "Saving results\n"
     ]
    },
    {
     "name": "stderr",
     "output_type": "stream",
     "text": [
      " 74%|███████▍  | 75/101 [35:45<18:20, 42.34s/it]"
     ]
    },
    {
     "name": "stdout",
     "output_type": "stream",
     "text": [
      "Results aggregated in 11.7760 seconds\n",
      "Processing coarse channels 225-228\n",
      "Data loaded in 4.5090 seconds, processing\n",
      "Bandpass cleaned in 9.0413 seconds.\n",
      "Stamps filtered in 17.9836 seconds\n",
      "Saving results\n"
     ]
    },
    {
     "name": "stderr",
     "output_type": "stream",
     "text": [
      " 75%|███████▌  | 76/101 [36:29<17:53, 42.95s/it]"
     ]
    },
    {
     "name": "stdout",
     "output_type": "stream",
     "text": [
      "Results aggregated in 12.7507 seconds\n",
      "Processing coarse channels 228-231\n",
      "Data loaded in 3.3566 seconds, processing\n",
      "Bandpass cleaned in 4.7608 seconds.\n",
      "Stamps filtered in 17.3758 seconds\n",
      "Saving results\n"
     ]
    },
    {
     "name": "stderr",
     "output_type": "stream",
     "text": [
      " 76%|███████▌  | 77/101 [37:00<15:44, 39.34s/it]"
     ]
    },
    {
     "name": "stdout",
     "output_type": "stream",
     "text": [
      "Results aggregated in 5.3678 seconds\n",
      "Processing coarse channels 231-234\n",
      "Data loaded in 3.8195 seconds, processing\n",
      "Bandpass cleaned in 4.6158 seconds.\n",
      "Stamps filtered in 16.6159 seconds\n",
      "Saving results\n"
     ]
    },
    {
     "name": "stderr",
     "output_type": "stream",
     "text": [
      " 77%|███████▋  | 78/101 [37:36<14:41, 38.32s/it]"
     ]
    },
    {
     "name": "stdout",
     "output_type": "stream",
     "text": [
      "Results aggregated in 10.8428 seconds\n",
      "Processing coarse channels 234-237\n",
      "Data loaded in 3.0458 seconds, processing\n",
      "Bandpass cleaned in 6.0466 seconds.\n",
      "Stamps filtered in 16.8263 seconds\n",
      "Saving results\n"
     ]
    },
    {
     "name": "stderr",
     "output_type": "stream",
     "text": [
      " 78%|███████▊  | 79/101 [38:13<13:54, 37.91s/it]"
     ]
    },
    {
     "name": "stdout",
     "output_type": "stream",
     "text": [
      "Results aggregated in 10.9915 seconds\n",
      "Processing coarse channels 237-240\n",
      "Data loaded in 4.3512 seconds, processing\n",
      "Bandpass cleaned in 6.4816 seconds.\n",
      "Stamps filtered in 18.2974 seconds\n",
      "Saving results\n"
     ]
    },
    {
     "name": "stderr",
     "output_type": "stream",
     "text": [
      " 79%|███████▉  | 80/101 [38:51<13:17, 37.99s/it]"
     ]
    },
    {
     "name": "stdout",
     "output_type": "stream",
     "text": [
      "Results aggregated in 8.9921 seconds\n",
      "Processing coarse channels 240-243\n",
      "Data loaded in 3.0820 seconds, processing\n",
      "Bandpass cleaned in 3.9411 seconds.\n",
      "Stamps filtered in 16.2415 seconds\n",
      "Saving results\n"
     ]
    },
    {
     "name": "stderr",
     "output_type": "stream",
     "text": [
      " 80%|████████  | 81/101 [39:19<11:39, 34.97s/it]"
     ]
    },
    {
     "name": "stdout",
     "output_type": "stream",
     "text": [
      "Results aggregated in 4.6022 seconds\n",
      "Processing coarse channels 243-246\n",
      "Data loaded in 3.0973 seconds, processing\n",
      "Bandpass cleaned in 4.2883 seconds.\n",
      "Stamps filtered in 15.7538 seconds\n",
      "Saving results\n"
     ]
    },
    {
     "name": "stderr",
     "output_type": "stream",
     "text": [
      " 81%|████████  | 82/101 [39:50<10:38, 33.58s/it]"
     ]
    },
    {
     "name": "stdout",
     "output_type": "stream",
     "text": [
      "Results aggregated in 7.1592 seconds\n",
      "Processing coarse channels 246-249\n",
      "Data loaded in 4.3459 seconds, processing\n",
      "Bandpass cleaned in 6.5162 seconds.\n",
      "Stamps filtered in 17.0011 seconds\n",
      "Saving results\n"
     ]
    },
    {
     "name": "stderr",
     "output_type": "stream",
     "text": [
      " 82%|████████▏ | 83/101 [40:28<10:30, 35.01s/it]"
     ]
    },
    {
     "name": "stdout",
     "output_type": "stream",
     "text": [
      "Results aggregated in 10.4077 seconds\n",
      "Processing coarse channels 249-252\n",
      "Data loaded in 3.0614 seconds, processing\n",
      "Bandpass cleaned in 7.6923 seconds.\n",
      "Stamps filtered in 18.3919 seconds\n",
      "Saving results\n"
     ]
    },
    {
     "name": "stderr",
     "output_type": "stream",
     "text": [
      " 83%|████████▎ | 84/101 [41:06<10:13, 36.08s/it]"
     ]
    },
    {
     "name": "stdout",
     "output_type": "stream",
     "text": [
      "Results aggregated in 9.3551 seconds\n",
      "Processing coarse channels 252-255\n",
      "Data loaded in 6.0174 seconds, processing\n",
      "Bandpass cleaned in 8.5553 seconds.\n",
      "Stamps filtered in 18.4839 seconds\n",
      "Saving results\n"
     ]
    },
    {
     "name": "stderr",
     "output_type": "stream",
     "text": [
      " 84%|████████▍ | 85/101 [41:51<10:18, 38.67s/it]"
     ]
    },
    {
     "name": "stdout",
     "output_type": "stream",
     "text": [
      "Results aggregated in 11.5722 seconds\n",
      "Processing coarse channels 255-258\n",
      "Data loaded in 4.9982 seconds, processing\n",
      "Bandpass cleaned in 9.0551 seconds.\n",
      "Stamps filtered in 16.0700 seconds\n",
      "Saving results\n"
     ]
    },
    {
     "name": "stderr",
     "output_type": "stream",
     "text": [
      " 85%|████████▌ | 86/101 [42:35<10:04, 40.32s/it]"
     ]
    },
    {
     "name": "stdout",
     "output_type": "stream",
     "text": [
      "Results aggregated in 13.9692 seconds\n",
      "Processing coarse channels 258-261\n",
      "Data loaded in 4.6857 seconds, processing\n",
      "Bandpass cleaned in 9.8300 seconds.\n",
      "Stamps filtered in 18.3083 seconds\n",
      "Saving results\n"
     ]
    },
    {
     "name": "stderr",
     "output_type": "stream",
     "text": [
      " 86%|████████▌ | 87/101 [43:21<09:45, 41.83s/it]"
     ]
    },
    {
     "name": "stdout",
     "output_type": "stream",
     "text": [
      "Results aggregated in 12.4643 seconds\n",
      "Processing coarse channels 261-264\n",
      "Data loaded in 4.7762 seconds, processing\n",
      "Bandpass cleaned in 9.4618 seconds.\n",
      "Stamps filtered in 18.2132 seconds\n",
      "Saving results\n"
     ]
    },
    {
     "name": "stderr",
     "output_type": "stream",
     "text": [
      " 87%|████████▋ | 88/101 [44:07<09:22, 43.29s/it]"
     ]
    },
    {
     "name": "stdout",
     "output_type": "stream",
     "text": [
      "Results aggregated in 14.1599 seconds\n",
      "Processing coarse channels 264-267\n",
      "Data loaded in 4.6862 seconds, processing\n",
      "Bandpass cleaned in 10.0002 seconds.\n",
      "Stamps filtered in 18.1782 seconds\n",
      "Saving results\n"
     ]
    },
    {
     "name": "stderr",
     "output_type": "stream",
     "text": [
      " 88%|████████▊ | 89/101 [44:53<08:49, 44.12s/it]"
     ]
    },
    {
     "name": "stdout",
     "output_type": "stream",
     "text": [
      "Results aggregated in 13.1190 seconds\n",
      "Processing coarse channels 267-270\n",
      "Data loaded in 6.4779 seconds, processing\n",
      "Bandpass cleaned in 9.4596 seconds.\n",
      "Stamps filtered in 18.4911 seconds\n",
      "Saving results\n"
     ]
    },
    {
     "name": "stderr",
     "output_type": "stream",
     "text": [
      " 89%|████████▉ | 90/101 [45:41<08:15, 45.03s/it]"
     ]
    },
    {
     "name": "stdout",
     "output_type": "stream",
     "text": [
      "Results aggregated in 12.6692 seconds\n",
      "Processing coarse channels 270-273\n",
      "Data loaded in 5.3719 seconds, processing\n",
      "Bandpass cleaned in 10.5331 seconds.\n",
      "Stamps filtered in 19.2300 seconds\n",
      "Saving results\n"
     ]
    },
    {
     "name": "stderr",
     "output_type": "stream",
     "text": [
      " 90%|█████████ | 91/101 [46:30<07:43, 46.32s/it]"
     ]
    },
    {
     "name": "stdout",
     "output_type": "stream",
     "text": [
      "Results aggregated in 14.0997 seconds\n",
      "Processing coarse channels 273-276\n",
      "Data loaded in 4.9459 seconds, processing\n",
      "Bandpass cleaned in 10.2790 seconds.\n",
      "Stamps filtered in 19.2135 seconds\n",
      "Saving results\n"
     ]
    },
    {
     "name": "stderr",
     "output_type": "stream",
     "text": [
      " 91%|█████████ | 92/101 [47:17<06:59, 46.65s/it]"
     ]
    },
    {
     "name": "stdout",
     "output_type": "stream",
     "text": [
      "Results aggregated in 12.9019 seconds\n",
      "Processing coarse channels 276-279\n",
      "Data loaded in 5.3785 seconds, processing\n",
      "Bandpass cleaned in 9.6796 seconds.\n",
      "Stamps filtered in 17.8284 seconds\n",
      "Saving results\n"
     ]
    },
    {
     "name": "stderr",
     "output_type": "stream",
     "text": [
      " 92%|█████████▏| 93/101 [48:04<06:13, 46.64s/it]"
     ]
    },
    {
     "name": "stdout",
     "output_type": "stream",
     "text": [
      "Results aggregated in 13.6642 seconds\n",
      "Processing coarse channels 279-282\n",
      "Data loaded in 6.3120 seconds, processing\n",
      "Bandpass cleaned in 9.9941 seconds.\n",
      "Stamps filtered in 19.4648 seconds\n",
      "Saving results\n"
     ]
    },
    {
     "name": "stderr",
     "output_type": "stream",
     "text": [
      " 93%|█████████▎| 94/101 [48:52<05:29, 47.09s/it]"
     ]
    },
    {
     "name": "stdout",
     "output_type": "stream",
     "text": [
      "Results aggregated in 12.2845 seconds\n",
      "Processing coarse channels 282-285\n",
      "Data loaded in 5.1922 seconds, processing\n",
      "Bandpass cleaned in 10.4111 seconds.\n",
      "Stamps filtered in 17.4603 seconds\n",
      "Saving results\n"
     ]
    },
    {
     "name": "stderr",
     "output_type": "stream",
     "text": [
      " 94%|█████████▍| 95/101 [49:40<04:43, 47.19s/it]"
     ]
    },
    {
     "name": "stdout",
     "output_type": "stream",
     "text": [
      "Results aggregated in 14.2849 seconds\n",
      "Processing coarse channels 285-288\n",
      "Data loaded in 6.8323 seconds, processing\n",
      "Bandpass cleaned in 10.6843 seconds.\n",
      "Stamps filtered in 16.6865 seconds\n",
      "Saving results\n"
     ]
    },
    {
     "name": "stderr",
     "output_type": "stream",
     "text": [
      " 95%|█████████▌| 96/101 [50:27<03:57, 47.41s/it]"
     ]
    },
    {
     "name": "stdout",
     "output_type": "stream",
     "text": [
      "Results aggregated in 13.6463 seconds\n",
      "Processing coarse channels 288-291\n",
      "Data loaded in 5.1288 seconds, processing\n",
      "Bandpass cleaned in 8.5934 seconds.\n",
      "Stamps filtered in 18.8948 seconds\n",
      "Saving results\n"
     ]
    },
    {
     "name": "stderr",
     "output_type": "stream",
     "text": [
      " 96%|█████████▌| 97/101 [51:13<03:07, 46.99s/it]"
     ]
    },
    {
     "name": "stdout",
     "output_type": "stream",
     "text": [
      "Results aggregated in 13.3281 seconds\n",
      "Processing coarse channels 291-294\n",
      "Data loaded in 5.1204 seconds, processing\n",
      "Bandpass cleaned in 10.1891 seconds.\n",
      "Stamps filtered in 19.1375 seconds\n",
      "Saving results\n"
     ]
    },
    {
     "name": "stderr",
     "output_type": "stream",
     "text": [
      " 97%|█████████▋| 98/101 [52:02<02:22, 47.50s/it]"
     ]
    },
    {
     "name": "stdout",
     "output_type": "stream",
     "text": [
      "Results aggregated in 14.1459 seconds\n",
      "Processing coarse channels 294-297\n",
      "Data loaded in 5.9256 seconds, processing\n",
      "Bandpass cleaned in 10.4183 seconds.\n",
      "Stamps filtered in 17.9172 seconds\n",
      "Saving results\n"
     ]
    },
    {
     "name": "stderr",
     "output_type": "stream",
     "text": [
      " 98%|█████████▊| 99/101 [52:50<01:35, 47.64s/it]"
     ]
    },
    {
     "name": "stdout",
     "output_type": "stream",
     "text": [
      "Results aggregated in 13.6243 seconds\n",
      "Processing coarse channels 297-300\n",
      "Data loaded in 5.0955 seconds, processing\n",
      "Bandpass cleaned in 10.9149 seconds.\n",
      "Stamps filtered in 18.4586 seconds\n",
      "Saving results\n"
     ]
    },
    {
     "name": "stderr",
     "output_type": "stream",
     "text": [
      " 99%|█████████▉| 100/101 [53:39<00:48, 48.13s/it]"
     ]
    },
    {
     "name": "stdout",
     "output_type": "stream",
     "text": [
      "Results aggregated in 14.7271 seconds\n",
      "Processing coarse channels 300-303\n",
      "Data loaded in 6.0936 seconds, processing\n",
      "Bandpass cleaned in 11.2147 seconds.\n",
      "Stamps filtered in 19.4943 seconds\n",
      "Saving results\n"
     ]
    },
    {
     "name": "stderr",
     "output_type": "stream",
     "text": [
      "100%|██████████| 101/101 [54:31<00:00, 32.39s/it]\n"
     ]
    },
    {
     "name": "stdout",
     "output_type": "stream",
     "text": [
      "Results aggregated in 14.3828 seconds\n",
      "Finished Energy Detection on GBT_57515_81866_HIP44295_fine.h5 in 3818.8995 seconds\n"
     ]
    },
    {
     "data": {
      "text/plain": [
       "0"
      ]
     },
     "execution_count": 3,
     "metadata": {},
     "output_type": "execute_result"
    }
   ],
   "source": [
    "# directory = '../../../../../../../mnt_blpd7/datax/dl/GBT_57515_81866_HIP44295_fine.h5'\n",
    "# energy_detection_folder = \"../../../../../../datax/scratch/pma/reverse_search/\"\n",
    "\n",
    "# os.system(\"python3 energy_detection-negative.py \"+ \n",
    "#               directory +\" \"+energy_detection_folder+\"/train_negative\")   "
   ]
  },
  {
   "cell_type": "markdown",
   "id": "cd673f47-e759-4c63-b2e2-5a05e3225ed1",
   "metadata": {},
   "source": [
    "# Test Filter"
   ]
  },
  {
   "cell_type": "code",
   "execution_count": 6,
   "id": "45214c73-5f03-419e-b9a2-fffd8360658f",
   "metadata": {
    "collapsed": true,
    "jupyter": {
     "outputs_hidden": true
    },
    "tags": []
   },
   "outputs": [
    {
     "name": "stdout",
     "output_type": "stream",
     "text": [
      "HIP104887-1850\n",
      "/mnt_blpd9/datax/dl/GBT_57691_04379_HIP104887_fine.h5\n",
      "Header saved to ../../../../../../datax/scratch/pma/reverse_search/test/HIP104887-1850/GBT_57691_04379_HIP104887_fine/header.pkl\n",
      "Processing 28 in parallel\n",
      "Processing coarse channels 0-28\n"
     ]
    },
    {
     "name": "stderr",
     "output_type": "stream",
     "text": [
      "  0%|          | 0/11 [00:00<?, ?it/s]"
     ]
    },
    {
     "name": "stdout",
     "output_type": "stream",
     "text": [
      "Data loaded in 11.5450 seconds, processing\n",
      "Bandpass cleaned in 16.0847 seconds.\n",
      "Stamps filtered in 25.2101 seconds\n",
      "Saving results\n"
     ]
    },
    {
     "name": "stderr",
     "output_type": "stream",
     "text": [
      "  9%|▉         | 1/11 [00:53<08:51, 53.12s/it]"
     ]
    },
    {
     "name": "stdout",
     "output_type": "stream",
     "text": [
      "Results aggregated in 0.2643 seconds\n",
      "Processing coarse channels 28-56\n",
      "Data loaded in 7.4814 seconds, processing\n",
      "Bandpass cleaned in 14.9629 seconds.\n",
      "Stamps filtered in 24.6974 seconds\n",
      "Saving results\n"
     ]
    },
    {
     "name": "stderr",
     "output_type": "stream",
     "text": [
      " 18%|█▊        | 2/11 [01:40<07:28, 49.80s/it]"
     ]
    },
    {
     "name": "stdout",
     "output_type": "stream",
     "text": [
      "Results aggregated in 0.3064 seconds\n",
      "Processing coarse channels 56-84\n",
      "Data loaded in 7.1311 seconds, processing\n",
      "Bandpass cleaned in 12.2555 seconds.\n",
      "Stamps filtered in 23.6066 seconds\n",
      "Saving results\n"
     ]
    },
    {
     "name": "stderr",
     "output_type": "stream",
     "text": [
      " 27%|██▋       | 3/11 [02:23<06:14, 46.82s/it]"
     ]
    },
    {
     "name": "stdout",
     "output_type": "stream",
     "text": [
      "Results aggregated in 0.2693 seconds\n",
      "Processing coarse channels 84-112\n",
      "Data loaded in 6.8081 seconds, processing\n",
      "Bandpass cleaned in 12.5417 seconds.\n",
      "Stamps filtered in 23.4234 seconds\n",
      "Saving results\n"
     ]
    },
    {
     "name": "stderr",
     "output_type": "stream",
     "text": [
      " 36%|███▋      | 4/11 [03:06<05:17, 45.35s/it]"
     ]
    },
    {
     "name": "stdout",
     "output_type": "stream",
     "text": [
      "Results aggregated in 0.2907 seconds\n",
      "Processing coarse channels 112-140\n",
      "Data loaded in 7.0249 seconds, processing\n",
      "Bandpass cleaned in 12.4590 seconds.\n",
      "Stamps filtered in 23.3491 seconds\n",
      "Saving results\n"
     ]
    },
    {
     "name": "stderr",
     "output_type": "stream",
     "text": [
      " 45%|████▌     | 5/11 [03:50<04:27, 44.59s/it]"
     ]
    },
    {
     "name": "stdout",
     "output_type": "stream",
     "text": [
      "Results aggregated in 0.3924 seconds\n",
      "Processing coarse channels 140-168\n",
      "Data loaded in 6.5486 seconds, processing\n",
      "Bandpass cleaned in 12.3035 seconds.\n",
      "Stamps filtered in 24.0473 seconds\n",
      "Saving results\n"
     ]
    },
    {
     "name": "stderr",
     "output_type": "stream",
     "text": [
      " 55%|█████▍    | 6/11 [04:33<03:40, 44.13s/it]"
     ]
    },
    {
     "name": "stdout",
     "output_type": "stream",
     "text": [
      "Results aggregated in 0.3145 seconds\n",
      "Processing coarse channels 168-196\n",
      "Data loaded in 6.8504 seconds, processing\n",
      "Bandpass cleaned in 13.9124 seconds.\n",
      "Stamps filtered in 23.1586 seconds\n",
      "Saving results\n"
     ]
    },
    {
     "name": "stderr",
     "output_type": "stream",
     "text": [
      " 64%|██████▎   | 7/11 [05:17<02:56, 44.21s/it]"
     ]
    },
    {
     "name": "stdout",
     "output_type": "stream",
     "text": [
      "Results aggregated in 0.4243 seconds\n",
      "Processing coarse channels 196-224\n",
      "Data loaded in 6.2479 seconds, processing\n",
      "Bandpass cleaned in 14.6426 seconds.\n",
      "Stamps filtered in 23.0933 seconds\n",
      "Saving results\n"
     ]
    },
    {
     "name": "stderr",
     "output_type": "stream",
     "text": [
      " 73%|███████▎  | 8/11 [06:02<02:12, 44.31s/it]"
     ]
    },
    {
     "name": "stdout",
     "output_type": "stream",
     "text": [
      "Results aggregated in 0.5210 seconds\n",
      "Processing coarse channels 224-252\n",
      "Data loaded in 6.7352 seconds, processing\n",
      "Bandpass cleaned in 12.5779 seconds.\n",
      "Stamps filtered in 23.6512 seconds\n",
      "Saving results\n"
     ]
    },
    {
     "name": "stderr",
     "output_type": "stream",
     "text": [
      " 82%|████████▏ | 9/11 [06:45<01:28, 44.01s/it]"
     ]
    },
    {
     "name": "stdout",
     "output_type": "stream",
     "text": [
      "Results aggregated in 0.3772 seconds\n",
      "Processing coarse channels 252-280\n",
      "Data loaded in 8.0187 seconds, processing\n",
      "Bandpass cleaned in 12.0344 seconds.\n",
      "Stamps filtered in 23.9213 seconds\n",
      "Saving results\n"
     ]
    },
    {
     "name": "stderr",
     "output_type": "stream",
     "text": [
      " 91%|█████████ | 10/11 [07:30<00:44, 44.34s/it]"
     ]
    },
    {
     "name": "stdout",
     "output_type": "stream",
     "text": [
      "Results aggregated in 1.0519 seconds\n",
      "Processing coarse channels 280-308\n",
      "Data loaded in 7.1626 seconds, processing\n",
      "Bandpass cleaned in 12.0710 seconds.\n",
      "Stamps filtered in 24.6972 seconds\n",
      "Saving results\n"
     ]
    },
    {
     "name": "stderr",
     "output_type": "stream",
     "text": [
      "100%|██████████| 11/11 [08:15<00:00, 45.02s/it]\n"
     ]
    },
    {
     "name": "stdout",
     "output_type": "stream",
     "text": [
      "Results aggregated in 0.4734 seconds\n",
      "      level_0      index     statistic  pvalue        freqs\n",
      "1192     1192  176958592  10556.663681     0.0  2226.384187\n",
      "1915     1915  190544128  10403.976005     0.0  2188.426638\n",
      "1717     1717  189085952  10366.231807     0.0  2192.500734\n",
      "1718     1718  189086080  10360.810144     0.0  2192.500377\n",
      "308 308\n",
      "Finished Energy Detection on GBT_57691_04379_HIP104887_fine.h5 in 498.0905 seconds\n",
      "/mnt_blpd9/datax/dl/GBT_57691_04732_HIP103749_fine.h5\n",
      "Header saved to ../../../../../../datax/scratch/pma/reverse_search/test/HIP104887-1850/GBT_57691_04732_HIP103749_fine/header.pkl\n",
      "Processing 28 in parallel\n",
      "Processing coarse channels 0-28\n"
     ]
    },
    {
     "name": "stderr",
     "output_type": "stream",
     "text": [
      "  0%|          | 0/11 [00:00<?, ?it/s]"
     ]
    },
    {
     "name": "stdout",
     "output_type": "stream",
     "text": [
      "Data loaded in 8.9182 seconds, processing\n",
      "Bandpass cleaned in 12.5785 seconds.\n",
      "Stamps filtered in 23.3477 seconds\n",
      "Saving results\n"
     ]
    },
    {
     "name": "stderr",
     "output_type": "stream",
     "text": [
      "  9%|▉         | 1/11 [00:45<07:31, 45.14s/it]"
     ]
    },
    {
     "name": "stdout",
     "output_type": "stream",
     "text": [
      "Results aggregated in 0.2757 seconds\n",
      "Processing coarse channels 28-56\n",
      "Data loaded in 7.5545 seconds, processing\n",
      "Bandpass cleaned in 13.9438 seconds.\n",
      "Stamps filtered in 23.0302 seconds\n",
      "Saving results\n"
     ]
    },
    {
     "name": "stderr",
     "output_type": "stream",
     "text": [
      " 18%|█▊        | 2/11 [01:29<06:44, 44.96s/it]"
     ]
    },
    {
     "name": "stdout",
     "output_type": "stream",
     "text": [
      "Results aggregated in 0.2753 seconds\n",
      "Processing coarse channels 56-84\n",
      "Data loaded in 7.1086 seconds, processing\n",
      "Bandpass cleaned in 12.4917 seconds.\n",
      "Stamps filtered in 22.6993 seconds\n",
      "Saving results\n"
     ]
    },
    {
     "name": "stderr",
     "output_type": "stream",
     "text": [
      " 27%|██▋       | 3/11 [02:12<05:51, 43.88s/it]"
     ]
    },
    {
     "name": "stdout",
     "output_type": "stream",
     "text": [
      "Results aggregated in 0.2744 seconds\n",
      "Processing coarse channels 84-112\n",
      "Data loaded in 7.3238 seconds, processing\n",
      "Bandpass cleaned in 12.4542 seconds.\n",
      "Stamps filtered in 24.0585 seconds\n",
      "Saving results\n"
     ]
    },
    {
     "name": "stderr",
     "output_type": "stream",
     "text": [
      " 36%|███▋      | 4/11 [02:56<05:07, 44.00s/it]"
     ]
    },
    {
     "name": "stdout",
     "output_type": "stream",
     "text": [
      "Results aggregated in 0.3162 seconds\n",
      "Processing coarse channels 112-140\n",
      "Data loaded in 7.5570 seconds, processing\n",
      "Bandpass cleaned in 14.2122 seconds.\n",
      "Stamps filtered in 23.7561 seconds\n",
      "Saving results\n"
     ]
    },
    {
     "name": "stderr",
     "output_type": "stream",
     "text": [
      " 45%|████▌     | 5/11 [03:42<04:28, 44.70s/it]"
     ]
    },
    {
     "name": "stdout",
     "output_type": "stream",
     "text": [
      "Results aggregated in 0.3918 seconds\n",
      "Processing coarse channels 140-168\n",
      "Data loaded in 6.9125 seconds, processing\n",
      "Bandpass cleaned in 12.4068 seconds.\n",
      "Stamps filtered in 23.9558 seconds\n",
      "Saving results\n"
     ]
    },
    {
     "name": "stderr",
     "output_type": "stream",
     "text": [
      " 55%|█████▍    | 6/11 [04:26<03:41, 44.32s/it]"
     ]
    },
    {
     "name": "stdout",
     "output_type": "stream",
     "text": [
      "Results aggregated in 0.3035 seconds\n",
      "Processing coarse channels 168-196\n",
      "Data loaded in 6.8496 seconds, processing\n",
      "Bandpass cleaned in 14.2109 seconds.\n",
      "Stamps filtered in 24.1199 seconds\n",
      "Saving results\n"
     ]
    },
    {
     "name": "stderr",
     "output_type": "stream",
     "text": [
      " 64%|██████▎   | 7/11 [05:11<02:58, 44.72s/it]"
     ]
    },
    {
     "name": "stdout",
     "output_type": "stream",
     "text": [
      "Results aggregated in 0.3389 seconds\n",
      "Processing coarse channels 196-224\n",
      "Data loaded in 6.5704 seconds, processing\n",
      "Bandpass cleaned in 13.7308 seconds.\n",
      "Stamps filtered in 23.7713 seconds\n",
      "Saving results\n"
     ]
    },
    {
     "name": "stderr",
     "output_type": "stream",
     "text": [
      " 73%|███████▎  | 8/11 [05:56<02:13, 44.64s/it]"
     ]
    },
    {
     "name": "stdout",
     "output_type": "stream",
     "text": [
      "Results aggregated in 0.3718 seconds\n",
      "Processing coarse channels 224-252\n",
      "Data loaded in 6.9110 seconds, processing\n",
      "Bandpass cleaned in 14.0834 seconds.\n",
      "Stamps filtered in 23.7775 seconds\n",
      "Saving results\n"
     ]
    },
    {
     "name": "stderr",
     "output_type": "stream",
     "text": [
      " 82%|████████▏ | 9/11 [06:41<01:29, 44.79s/it]"
     ]
    },
    {
     "name": "stdout",
     "output_type": "stream",
     "text": [
      "Results aggregated in 0.3218 seconds\n",
      "Processing coarse channels 252-280\n",
      "Data loaded in 7.9529 seconds, processing\n",
      "Bandpass cleaned in 14.3699 seconds.\n",
      "Stamps filtered in 24.3567 seconds\n",
      "Saving results\n"
     ]
    },
    {
     "name": "stderr",
     "output_type": "stream",
     "text": [
      " 91%|█████████ | 10/11 [07:28<00:45, 45.65s/it]"
     ]
    },
    {
     "name": "stdout",
     "output_type": "stream",
     "text": [
      "Results aggregated in 0.8878 seconds\n",
      "Processing coarse channels 280-308\n",
      "Data loaded in 8.4524 seconds, processing\n",
      "Bandpass cleaned in 12.3803 seconds.\n",
      "Stamps filtered in 24.1572 seconds\n",
      "Saving results\n"
     ]
    },
    {
     "name": "stderr",
     "output_type": "stream",
     "text": [
      "100%|██████████| 11/11 [08:14<00:00, 44.95s/it]\n"
     ]
    },
    {
     "name": "stdout",
     "output_type": "stream",
     "text": [
      "Results aggregated in 0.4580 seconds\n",
      "     level_0      index     statistic  pvalue        freqs\n",
      "873      873  190535552  12508.461703     0.0  2188.450599\n",
      "962      962  190546944  11954.259809     0.0  2188.418770\n",
      "905      905  190539648  11904.091329     0.0  2188.439155\n",
      "906      906  190539776  11863.274790     0.0  2188.438797\n",
      "308 308\n",
      "Finished Energy Detection on GBT_57691_04732_HIP103749_fine.h5 in 498.3745 seconds\n",
      "/mnt_blpd9/datax/dl/GBT_57691_05084_HIP104887_fine.h5\n",
      "Header saved to ../../../../../../datax/scratch/pma/reverse_search/test/HIP104887-1850/GBT_57691_05084_HIP104887_fine/header.pkl\n",
      "Processing 28 in parallel\n",
      "Processing coarse channels 0-28\n"
     ]
    },
    {
     "name": "stderr",
     "output_type": "stream",
     "text": [
      "  0%|          | 0/11 [00:00<?, ?it/s]"
     ]
    },
    {
     "name": "stdout",
     "output_type": "stream",
     "text": [
      "Data loaded in 8.6433 seconds, processing\n",
      "Bandpass cleaned in 13.6118 seconds.\n",
      "Stamps filtered in 23.6470 seconds\n",
      "Saving results\n"
     ]
    },
    {
     "name": "stderr",
     "output_type": "stream",
     "text": [
      "  9%|▉         | 1/11 [00:46<07:41, 46.19s/it]"
     ]
    },
    {
     "name": "stdout",
     "output_type": "stream",
     "text": [
      "Results aggregated in 0.2698 seconds\n",
      "Processing coarse channels 28-56\n",
      "Data loaded in 8.1130 seconds, processing\n",
      "Bandpass cleaned in 14.0529 seconds.\n",
      "Stamps filtered in 22.9988 seconds\n",
      "Saving results\n"
     ]
    },
    {
     "name": "stderr",
     "output_type": "stream",
     "text": [
      " 18%|█▊        | 2/11 [01:31<06:51, 45.76s/it]"
     ]
    },
    {
     "name": "stdout",
     "output_type": "stream",
     "text": [
      "Results aggregated in 0.2764 seconds\n",
      "Processing coarse channels 56-84\n",
      "Data loaded in 8.1160 seconds, processing\n",
      "Bandpass cleaned in 13.1396 seconds.\n",
      "Stamps filtered in 24.0660 seconds\n",
      "Saving results\n"
     ]
    },
    {
     "name": "stderr",
     "output_type": "stream",
     "text": [
      " 27%|██▋       | 3/11 [02:17<06:05, 45.69s/it]"
     ]
    },
    {
     "name": "stdout",
     "output_type": "stream",
     "text": [
      "Results aggregated in 0.2745 seconds\n",
      "Processing coarse channels 84-112\n",
      "Data loaded in 7.0330 seconds, processing\n",
      "Bandpass cleaned in 14.3417 seconds.\n",
      "Stamps filtered in 24.1485 seconds\n",
      "Saving results\n"
     ]
    },
    {
     "name": "stderr",
     "output_type": "stream",
     "text": [
      " 36%|███▋      | 4/11 [03:03<05:20, 45.74s/it]"
     ]
    },
    {
     "name": "stdout",
     "output_type": "stream",
     "text": [
      "Results aggregated in 0.2740 seconds\n",
      "Processing coarse channels 112-140\n",
      "Data loaded in 6.4975 seconds, processing\n",
      "Bandpass cleaned in 12.7144 seconds.\n",
      "Stamps filtered in 24.1818 seconds\n",
      "Saving results\n"
     ]
    },
    {
     "name": "stderr",
     "output_type": "stream",
     "text": [
      " 45%|████▌     | 5/11 [03:46<04:30, 45.03s/it]"
     ]
    },
    {
     "name": "stdout",
     "output_type": "stream",
     "text": [
      "Results aggregated in 0.3602 seconds\n",
      "Processing coarse channels 140-168\n",
      "Data loaded in 6.3729 seconds, processing\n",
      "Bandpass cleaned in 13.8474 seconds.\n",
      "Stamps filtered in 23.5585 seconds\n",
      "Saving results\n"
     ]
    },
    {
     "name": "stderr",
     "output_type": "stream",
     "text": [
      " 55%|█████▍    | 6/11 [04:30<03:43, 44.71s/it]"
     ]
    },
    {
     "name": "stdout",
     "output_type": "stream",
     "text": [
      "Results aggregated in 0.2956 seconds\n",
      "Processing coarse channels 168-196\n",
      "Data loaded in 6.3228 seconds, processing\n",
      "Bandpass cleaned in 12.8257 seconds.\n",
      "Stamps filtered in 23.5546 seconds\n",
      "Saving results\n"
     ]
    },
    {
     "name": "stderr",
     "output_type": "stream",
     "text": [
      " 64%|██████▎   | 7/11 [05:14<02:56, 44.17s/it]"
     ]
    },
    {
     "name": "stdout",
     "output_type": "stream",
     "text": [
      "Results aggregated in 0.3306 seconds\n",
      "Processing coarse channels 196-224\n",
      "Data loaded in 7.8782 seconds, processing\n",
      "Bandpass cleaned in 12.3869 seconds.\n",
      "Stamps filtered in 24.2965 seconds\n",
      "Saving results\n"
     ]
    },
    {
     "name": "stderr",
     "output_type": "stream",
     "text": [
      " 73%|███████▎  | 8/11 [05:58<02:13, 44.40s/it]"
     ]
    },
    {
     "name": "stdout",
     "output_type": "stream",
     "text": [
      "Results aggregated in 0.3091 seconds\n",
      "Processing coarse channels 224-252\n",
      "Data loaded in 6.6033 seconds, processing\n",
      "Bandpass cleaned in 13.5436 seconds.\n",
      "Stamps filtered in 23.2331 seconds\n",
      "Saving results\n"
     ]
    },
    {
     "name": "stderr",
     "output_type": "stream",
     "text": [
      " 82%|████████▏ | 9/11 [06:42<01:28, 44.19s/it]"
     ]
    },
    {
     "name": "stdout",
     "output_type": "stream",
     "text": [
      "Results aggregated in 0.3360 seconds\n",
      "Processing coarse channels 252-280\n",
      "Data loaded in 6.2563 seconds, processing\n",
      "Bandpass cleaned in 14.0157 seconds.\n",
      "Stamps filtered in 23.5294 seconds\n",
      "Saving results\n"
     ]
    },
    {
     "name": "stderr",
     "output_type": "stream",
     "text": [
      " 91%|█████████ | 10/11 [07:27<00:44, 44.39s/it]"
     ]
    },
    {
     "name": "stdout",
     "output_type": "stream",
     "text": [
      "Results aggregated in 1.0085 seconds\n",
      "Processing coarse channels 280-308\n",
      "Data loaded in 7.4056 seconds, processing\n",
      "Bandpass cleaned in 12.9930 seconds.\n",
      "Stamps filtered in 23.6005 seconds\n",
      "Saving results\n"
     ]
    },
    {
     "name": "stderr",
     "output_type": "stream",
     "text": [
      "100%|██████████| 11/11 [08:11<00:00, 44.72s/it]\n"
     ]
    },
    {
     "name": "stdout",
     "output_type": "stream",
     "text": [
      "Results aggregated in 0.4707 seconds\n",
      "      level_0      index     statistic  pvalue        freqs\n",
      "1415     1415  190542848  12577.836937     0.0  2188.430214\n",
      "1422     1422  190543744  12314.929969     0.0  2188.427711\n",
      "1449     1449  190547200  12234.859618     0.0  2188.418055\n",
      "1414     1414  190542720  12069.743024     0.0  2188.430572\n",
      "308 308\n",
      "Finished Energy Detection on GBT_57691_05084_HIP104887_fine.h5 in 494.7149 seconds\n",
      "/mnt_blpd9/datax/dl/GBT_57691_05425_HIP103782_fine.h5\n",
      "Header saved to ../../../../../../datax/scratch/pma/reverse_search/test/HIP104887-1850/GBT_57691_05425_HIP103782_fine/header.pkl\n",
      "Processing 28 in parallel\n",
      "Processing coarse channels 0-28\n"
     ]
    },
    {
     "name": "stderr",
     "output_type": "stream",
     "text": [
      "  0%|          | 0/11 [00:00<?, ?it/s]"
     ]
    },
    {
     "name": "stdout",
     "output_type": "stream",
     "text": [
      "Data loaded in 8.2467 seconds, processing\n",
      "Bandpass cleaned in 13.1173 seconds.\n",
      "Stamps filtered in 23.4063 seconds\n",
      "Saving results\n"
     ]
    },
    {
     "name": "stderr",
     "output_type": "stream",
     "text": [
      "  9%|▉         | 1/11 [00:45<07:30, 45.07s/it]"
     ]
    },
    {
     "name": "stdout",
     "output_type": "stream",
     "text": [
      "Results aggregated in 0.2838 seconds\n",
      "Processing coarse channels 28-56\n",
      "Data loaded in 7.5000 seconds, processing\n",
      "Bandpass cleaned in 13.2064 seconds.\n",
      "Stamps filtered in 23.9410 seconds\n",
      "Saving results\n"
     ]
    },
    {
     "name": "stderr",
     "output_type": "stream",
     "text": [
      " 18%|█▊        | 2/11 [01:30<06:45, 45.04s/it]"
     ]
    },
    {
     "name": "stdout",
     "output_type": "stream",
     "text": [
      "Results aggregated in 0.3459 seconds\n",
      "Processing coarse channels 56-84\n",
      "Data loaded in 6.8701 seconds, processing\n",
      "Bandpass cleaned in 13.0085 seconds.\n",
      "Stamps filtered in 22.6914 seconds\n",
      "Saving results\n"
     ]
    },
    {
     "name": "stderr",
     "output_type": "stream",
     "text": [
      " 27%|██▋       | 3/11 [02:12<05:52, 44.06s/it]"
     ]
    },
    {
     "name": "stdout",
     "output_type": "stream",
     "text": [
      "Results aggregated in 0.2911 seconds\n",
      "Processing coarse channels 84-112\n",
      "Data loaded in 7.2240 seconds, processing\n",
      "Bandpass cleaned in 12.0436 seconds.\n",
      "Stamps filtered in 23.3822 seconds\n",
      "Saving results\n"
     ]
    },
    {
     "name": "stderr",
     "output_type": "stream",
     "text": [
      " 36%|███▋      | 4/11 [02:55<05:05, 43.63s/it]"
     ]
    },
    {
     "name": "stdout",
     "output_type": "stream",
     "text": [
      "Results aggregated in 0.3075 seconds\n",
      "Processing coarse channels 112-140\n",
      "Data loaded in 6.6805 seconds, processing\n",
      "Bandpass cleaned in 11.8241 seconds.\n",
      "Stamps filtered in 22.7491 seconds\n",
      "Saving results\n"
     ]
    },
    {
     "name": "stderr",
     "output_type": "stream",
     "text": [
      " 45%|████▌     | 5/11 [03:37<04:17, 42.90s/it]"
     ]
    },
    {
     "name": "stdout",
     "output_type": "stream",
     "text": [
      "Results aggregated in 0.3424 seconds\n",
      "Processing coarse channels 140-168\n",
      "Data loaded in 6.9093 seconds, processing\n",
      "Bandpass cleaned in 13.0454 seconds.\n",
      "Stamps filtered in 22.9593 seconds\n",
      "Saving results\n"
     ]
    },
    {
     "name": "stderr",
     "output_type": "stream",
     "text": [
      " 55%|█████▍    | 6/11 [04:20<03:35, 43.06s/it]"
     ]
    },
    {
     "name": "stdout",
     "output_type": "stream",
     "text": [
      "Results aggregated in 0.4225 seconds\n",
      "Processing coarse channels 168-196\n",
      "Data loaded in 6.1424 seconds, processing\n",
      "Bandpass cleaned in 12.7328 seconds.\n",
      "Stamps filtered in 22.5610 seconds\n",
      "Saving results\n"
     ]
    },
    {
     "name": "stderr",
     "output_type": "stream",
     "text": [
      " 64%|██████▎   | 7/11 [05:02<02:50, 42.68s/it]"
     ]
    },
    {
     "name": "stdout",
     "output_type": "stream",
     "text": [
      "Results aggregated in 0.4437 seconds\n",
      "Processing coarse channels 196-224\n",
      "Data loaded in 6.2877 seconds, processing\n",
      "Bandpass cleaned in 13.8414 seconds.\n",
      "Stamps filtered in 23.0589 seconds\n",
      "Saving results\n"
     ]
    },
    {
     "name": "stderr",
     "output_type": "stream",
     "text": [
      " 73%|███████▎  | 8/11 [05:46<02:08, 42.97s/it]"
     ]
    },
    {
     "name": "stdout",
     "output_type": "stream",
     "text": [
      "Results aggregated in 0.3757 seconds\n",
      "Processing coarse channels 224-252\n",
      "Data loaded in 7.2512 seconds, processing\n",
      "Bandpass cleaned in 12.5637 seconds.\n",
      "Stamps filtered in 22.2114 seconds\n",
      "Saving results\n"
     ]
    },
    {
     "name": "stderr",
     "output_type": "stream",
     "text": [
      " 82%|████████▏ | 9/11 [06:28<01:25, 42.81s/it]"
     ]
    },
    {
     "name": "stdout",
     "output_type": "stream",
     "text": [
      "Results aggregated in 0.3935 seconds\n",
      "Processing coarse channels 252-280\n",
      "Data loaded in 7.1249 seconds, processing\n",
      "Bandpass cleaned in 12.0776 seconds.\n",
      "Stamps filtered in 23.0853 seconds\n",
      "Saving results\n"
     ]
    },
    {
     "name": "stderr",
     "output_type": "stream",
     "text": [
      " 91%|█████████ | 10/11 [07:12<00:42, 42.94s/it]"
     ]
    },
    {
     "name": "stdout",
     "output_type": "stream",
     "text": [
      "Results aggregated in 0.9416 seconds\n",
      "Processing coarse channels 280-308\n",
      "Data loaded in 7.9604 seconds, processing\n",
      "Bandpass cleaned in 12.2796 seconds.\n",
      "Stamps filtered in 23.3412 seconds\n",
      "Saving results\n"
     ]
    },
    {
     "name": "stderr",
     "output_type": "stream",
     "text": [
      "100%|██████████| 11/11 [07:56<00:00, 43.29s/it]\n"
     ]
    },
    {
     "name": "stdout",
     "output_type": "stream",
     "text": [
      "Results aggregated in 0.4545 seconds\n",
      "      level_0      index     statistic  pvalue        freqs\n",
      "2900     2900  190547712  12016.178243     0.0  2188.416624\n",
      "2896     2896  190547200  11906.046856     0.0  2188.418055\n",
      "2869     2869  190543744  11849.111453     0.0  2188.427711\n",
      "2806     2806  190535680  11783.313886     0.0  2188.450241\n",
      "308 308\n",
      "Finished Energy Detection on GBT_57691_05425_HIP103782_fine.h5 in 479.1773 seconds\n",
      "/mnt_blpd9/datax/dl/GBT_57691_05766_HIP104887_fine.h5\n",
      "Header saved to ../../../../../../datax/scratch/pma/reverse_search/test/HIP104887-1850/GBT_57691_05766_HIP104887_fine/header.pkl\n",
      "Processing 28 in parallel\n",
      "Processing coarse channels 0-28\n"
     ]
    },
    {
     "name": "stderr",
     "output_type": "stream",
     "text": [
      "  0%|          | 0/11 [00:00<?, ?it/s]"
     ]
    },
    {
     "name": "stdout",
     "output_type": "stream",
     "text": [
      "Data loaded in 8.7129 seconds, processing\n",
      "Bandpass cleaned in 12.9396 seconds.\n",
      "Stamps filtered in 23.5395 seconds\n",
      "Saving results\n"
     ]
    },
    {
     "name": "stderr",
     "output_type": "stream",
     "text": [
      "  9%|▉         | 1/11 [00:45<07:34, 45.48s/it]"
     ]
    },
    {
     "name": "stdout",
     "output_type": "stream",
     "text": [
      "Results aggregated in 0.2699 seconds\n",
      "Processing coarse channels 28-56\n",
      "Data loaded in 8.3802 seconds, processing\n",
      "Bandpass cleaned in 12.8180 seconds.\n",
      "Stamps filtered in 23.3388 seconds\n",
      "Saving results\n"
     ]
    },
    {
     "name": "stderr",
     "output_type": "stream",
     "text": [
      " 18%|█▊        | 2/11 [01:30<06:45, 45.10s/it]"
     ]
    },
    {
     "name": "stdout",
     "output_type": "stream",
     "text": [
      "Results aggregated in 0.2746 seconds\n",
      "Processing coarse channels 56-84\n",
      "Data loaded in 6.5944 seconds, processing\n",
      "Bandpass cleaned in 12.3299 seconds.\n",
      "Stamps filtered in 23.9414 seconds\n",
      "Saving results\n"
     ]
    },
    {
     "name": "stderr",
     "output_type": "stream",
     "text": [
      " 27%|██▋       | 3/11 [02:13<05:54, 44.26s/it]"
     ]
    },
    {
     "name": "stdout",
     "output_type": "stream",
     "text": [
      "Results aggregated in 0.3687 seconds\n",
      "Processing coarse channels 84-112\n",
      "Data loaded in 6.6806 seconds, processing\n",
      "Bandpass cleaned in 12.9878 seconds.\n",
      "Stamps filtered in 23.6747 seconds\n",
      "Saving results\n"
     ]
    },
    {
     "name": "stderr",
     "output_type": "stream",
     "text": [
      " 36%|███▋      | 4/11 [02:57<05:08, 44.02s/it]"
     ]
    },
    {
     "name": "stdout",
     "output_type": "stream",
     "text": [
      "Results aggregated in 0.3068 seconds\n",
      "Processing coarse channels 112-140\n",
      "Data loaded in 5.9497 seconds, processing\n",
      "Bandpass cleaned in 12.4383 seconds.\n",
      "Stamps filtered in 23.2106 seconds\n",
      "Saving results\n"
     ]
    },
    {
     "name": "stderr",
     "output_type": "stream",
     "text": [
      " 45%|████▌     | 5/11 [03:39<04:20, 43.34s/it]"
     ]
    },
    {
     "name": "stdout",
     "output_type": "stream",
     "text": [
      "Results aggregated in 0.4922 seconds\n",
      "Processing coarse channels 140-168\n",
      "Data loaded in 6.6285 seconds, processing\n",
      "Bandpass cleaned in 12.2769 seconds.\n",
      "Stamps filtered in 23.5583 seconds\n",
      "Saving results\n"
     ]
    },
    {
     "name": "stderr",
     "output_type": "stream",
     "text": [
      " 55%|█████▍    | 6/11 [04:22<03:35, 43.17s/it]"
     ]
    },
    {
     "name": "stdout",
     "output_type": "stream",
     "text": [
      "Results aggregated in 0.3553 seconds\n",
      "Processing coarse channels 168-196\n",
      "Data loaded in 7.1642 seconds, processing\n",
      "Bandpass cleaned in 12.4315 seconds.\n",
      "Stamps filtered in 22.8698 seconds\n",
      "Saving results\n"
     ]
    },
    {
     "name": "stderr",
     "output_type": "stream",
     "text": [
      " 64%|██████▎   | 7/11 [05:05<02:52, 43.07s/it]"
     ]
    },
    {
     "name": "stdout",
     "output_type": "stream",
     "text": [
      "Results aggregated in 0.3760 seconds\n",
      "Processing coarse channels 196-224\n",
      "Data loaded in 5.9654 seconds, processing\n",
      "Bandpass cleaned in 13.3457 seconds.\n",
      "Stamps filtered in 23.4879 seconds\n",
      "Saving results\n"
     ]
    },
    {
     "name": "stderr",
     "output_type": "stream",
     "text": [
      " 73%|███████▎  | 8/11 [05:48<02:09, 43.10s/it]"
     ]
    },
    {
     "name": "stdout",
     "output_type": "stream",
     "text": [
      "Results aggregated in 0.3509 seconds\n",
      "Processing coarse channels 224-252\n",
      "Data loaded in 6.6778 seconds, processing\n",
      "Bandpass cleaned in 12.1305 seconds.\n",
      "Stamps filtered in 23.5151 seconds\n",
      "Saving results\n"
     ]
    },
    {
     "name": "stderr",
     "output_type": "stream",
     "text": [
      " 82%|████████▏ | 9/11 [06:30<01:25, 42.97s/it]"
     ]
    },
    {
     "name": "stdout",
     "output_type": "stream",
     "text": [
      "Results aggregated in 0.3471 seconds\n",
      "Processing coarse channels 252-280\n",
      "Data loaded in 7.5039 seconds, processing\n",
      "Bandpass cleaned in 12.4736 seconds.\n",
      "Stamps filtered in 22.7420 seconds\n",
      "Saving results\n"
     ]
    },
    {
     "name": "stderr",
     "output_type": "stream",
     "text": [
      " 91%|█████████ | 10/11 [07:14<00:43, 43.17s/it]"
     ]
    },
    {
     "name": "stdout",
     "output_type": "stream",
     "text": [
      "Results aggregated in 0.8780 seconds\n",
      "Processing coarse channels 280-308\n",
      "Data loaded in 7.0745 seconds, processing\n",
      "Bandpass cleaned in 14.1695 seconds.\n",
      "Stamps filtered in 23.5302 seconds\n",
      "Saving results\n"
     ]
    },
    {
     "name": "stderr",
     "output_type": "stream",
     "text": [
      "100%|██████████| 11/11 [07:59<00:00, 43.62s/it]\n"
     ]
    },
    {
     "name": "stdout",
     "output_type": "stream",
     "text": [
      "Results aggregated in 0.4665 seconds\n",
      "      level_0      index     statistic  pvalue        freqs\n",
      "2012     2012  172342144  10839.433658     0.0  2239.282393\n",
      "2013     2013  172342272  10839.103569     0.0  2239.282036\n",
      "2006     2006  171190144  10816.779227     0.0  2242.501044\n",
      "2005     2005  171190016  10739.709568     0.0  2242.501402\n",
      "308 308\n",
      "Finished Energy Detection on GBT_57691_05766_HIP104887_fine.h5 in 482.4744 seconds\n",
      "/mnt_blpd9/datax/dl/GBT_57691_06113_HIP103793_fine.h5\n",
      "Header saved to ../../../../../../datax/scratch/pma/reverse_search/test/HIP104887-1850/GBT_57691_06113_HIP103793_fine/header.pkl\n",
      "Processing 28 in parallel\n",
      "Processing coarse channels 0-28\n"
     ]
    },
    {
     "name": "stderr",
     "output_type": "stream",
     "text": [
      "  0%|          | 0/11 [00:00<?, ?it/s]"
     ]
    },
    {
     "name": "stdout",
     "output_type": "stream",
     "text": [
      "Data loaded in 8.3765 seconds, processing\n",
      "Bandpass cleaned in 11.9392 seconds.\n",
      "Stamps filtered in 23.9595 seconds\n",
      "Saving results\n"
     ]
    },
    {
     "name": "stderr",
     "output_type": "stream",
     "text": [
      "  9%|▉         | 1/11 [00:44<07:25, 44.58s/it]"
     ]
    },
    {
     "name": "stdout",
     "output_type": "stream",
     "text": [
      "Results aggregated in 0.2864 seconds\n",
      "Processing coarse channels 28-56\n",
      "Data loaded in 7.7960 seconds, processing\n",
      "Bandpass cleaned in 11.6760 seconds.\n",
      "Stamps filtered in 23.0276 seconds\n",
      "Saving results\n"
     ]
    },
    {
     "name": "stderr",
     "output_type": "stream",
     "text": [
      " 18%|█▊        | 2/11 [01:27<06:31, 43.54s/it]"
     ]
    },
    {
     "name": "stdout",
     "output_type": "stream",
     "text": [
      "Results aggregated in 0.2840 seconds\n",
      "Processing coarse channels 56-84\n",
      "Data loaded in 8.5772 seconds, processing\n",
      "Bandpass cleaned in 13.1325 seconds.\n",
      "Stamps filtered in 22.8515 seconds\n",
      "Saving results\n"
     ]
    },
    {
     "name": "stderr",
     "output_type": "stream",
     "text": [
      " 27%|██▋       | 3/11 [02:12<05:53, 44.15s/it]"
     ]
    },
    {
     "name": "stdout",
     "output_type": "stream",
     "text": [
      "Results aggregated in 0.3083 seconds\n",
      "Processing coarse channels 84-112\n",
      "Data loaded in 6.2188 seconds, processing\n",
      "Bandpass cleaned in 13.0249 seconds.\n",
      "Stamps filtered in 23.4360 seconds\n",
      "Saving results\n"
     ]
    },
    {
     "name": "stderr",
     "output_type": "stream",
     "text": [
      " 36%|███▋      | 4/11 [02:55<05:05, 43.70s/it]"
     ]
    },
    {
     "name": "stdout",
     "output_type": "stream",
     "text": [
      "Results aggregated in 0.2997 seconds\n",
      "Processing coarse channels 112-140\n",
      "Data loaded in 7.8006 seconds, processing\n",
      "Bandpass cleaned in 13.8170 seconds.\n",
      "Stamps filtered in 22.5093 seconds\n",
      "Saving results\n"
     ]
    },
    {
     "name": "stderr",
     "output_type": "stream",
     "text": [
      " 45%|████▌     | 5/11 [03:39<04:23, 43.99s/it]"
     ]
    },
    {
     "name": "stdout",
     "output_type": "stream",
     "text": [
      "Results aggregated in 0.3515 seconds\n",
      "Processing coarse channels 140-168\n",
      "Data loaded in 7.2042 seconds, processing\n",
      "Bandpass cleaned in 14.5639 seconds.\n",
      "Stamps filtered in 23.4537 seconds\n",
      "Saving results\n"
     ]
    },
    {
     "name": "stderr",
     "output_type": "stream",
     "text": [
      " 55%|█████▍    | 6/11 [04:25<03:42, 44.51s/it]"
     ]
    },
    {
     "name": "stdout",
     "output_type": "stream",
     "text": [
      "Results aggregated in 0.2898 seconds\n",
      "Processing coarse channels 168-196\n",
      "Data loaded in 6.4347 seconds, processing\n",
      "Bandpass cleaned in 14.7723 seconds.\n",
      "Stamps filtered in 23.4578 seconds\n",
      "Saving results\n"
     ]
    },
    {
     "name": "stderr",
     "output_type": "stream",
     "text": [
      " 64%|██████▎   | 7/11 [05:10<02:58, 44.68s/it]"
     ]
    },
    {
     "name": "stdout",
     "output_type": "stream",
     "text": [
      "Results aggregated in 0.3469 seconds\n",
      "Processing coarse channels 196-224\n",
      "Data loaded in 7.1153 seconds, processing\n",
      "Bandpass cleaned in 14.5104 seconds.\n",
      "Stamps filtered in 23.5890 seconds\n",
      "Saving results\n"
     ]
    },
    {
     "name": "stderr",
     "output_type": "stream",
     "text": [
      " 73%|███████▎  | 8/11 [05:55<02:14, 44.96s/it]"
     ]
    },
    {
     "name": "stdout",
     "output_type": "stream",
     "text": [
      "Results aggregated in 0.3299 seconds\n",
      "Processing coarse channels 224-252\n",
      "Data loaded in 6.7046 seconds, processing\n",
      "Bandpass cleaned in 15.2280 seconds.\n",
      "Stamps filtered in 23.3697 seconds\n",
      "Saving results\n"
     ]
    },
    {
     "name": "stderr",
     "output_type": "stream",
     "text": [
      " 82%|████████▏ | 9/11 [06:41<01:30, 45.19s/it]"
     ]
    },
    {
     "name": "stdout",
     "output_type": "stream",
     "text": [
      "Results aggregated in 0.3650 seconds\n",
      "Processing coarse channels 252-280\n",
      "Data loaded in 6.4515 seconds, processing\n",
      "Bandpass cleaned in 13.9868 seconds.\n",
      "Stamps filtered in 23.4499 seconds\n",
      "Saving results\n"
     ]
    },
    {
     "name": "stderr",
     "output_type": "stream",
     "text": [
      " 91%|█████████ | 10/11 [07:26<00:45, 45.05s/it]"
     ]
    },
    {
     "name": "stdout",
     "output_type": "stream",
     "text": [
      "Results aggregated in 0.8302 seconds\n",
      "Processing coarse channels 280-308\n",
      "Data loaded in 6.5242 seconds, processing\n",
      "Bandpass cleaned in 14.6328 seconds.\n",
      "Stamps filtered in 23.9774 seconds\n",
      "Saving results\n"
     ]
    },
    {
     "name": "stderr",
     "output_type": "stream",
     "text": [
      "100%|██████████| 11/11 [08:11<00:00, 44.72s/it]\n"
     ]
    },
    {
     "name": "stdout",
     "output_type": "stream",
     "text": [
      "Results aggregated in 0.4425 seconds\n",
      "      level_0      index     statistic  pvalue        freqs\n",
      "913       913  188710400  11308.855770     0.0  2193.550014\n",
      "1034     1034  189758976  11302.423643     0.0  2190.620327\n",
      "642       642  171189120  11011.113721     0.0  2242.503905\n",
      "643       643  171189248  11011.109145     0.0  2242.503548\n",
      "308 308\n",
      "Finished Energy Detection on GBT_57691_06113_HIP103793_fine.h5 in 494.9713 seconds\n",
      "HIP87579-1008\n",
      "/mnt_blpd7/datax/dl/GBT_57907_34727_HIP87579_fine.h5\n",
      "Header saved to ../../../../../../datax/scratch/pma/reverse_search/test/HIP87579-1008/GBT_57907_34727_HIP87579_fine/header.pkl\n",
      "Processing 7 in parallel\n",
      "Processing coarse channels 0-7\n"
     ]
    },
    {
     "name": "stderr",
     "output_type": "stream",
     "text": [
      "  0%|          | 0/49 [00:00<?, ?it/s]"
     ]
    },
    {
     "name": "stdout",
     "output_type": "stream",
     "text": [
      "Data loaded in 3.3584 seconds, processing\n",
      "Bandpass cleaned in 3.3532 seconds.\n",
      "Stamps filtered in 15.3336 seconds\n",
      "Saving results\n",
      "Results aggregated in 0.0705 seconds\n",
      "Processing coarse channels 7-14\n"
     ]
    },
    {
     "name": "stderr",
     "output_type": "stream",
     "text": [
      "  2%|▏         | 1/49 [00:22<17:42, 22.13s/it]"
     ]
    },
    {
     "name": "stdout",
     "output_type": "stream",
     "text": [
      "Data loaded in 1.6955 seconds, processing\n",
      "Bandpass cleaned in 3.3161 seconds.\n",
      "Stamps filtered in 15.0695 seconds\n",
      "Saving results\n",
      "Results aggregated in 0.0736 seconds\n",
      "Processing coarse channels 14-21\n"
     ]
    },
    {
     "name": "stderr",
     "output_type": "stream",
     "text": [
      "  4%|▍         | 2/49 [00:42<16:25, 20.98s/it]"
     ]
    },
    {
     "name": "stdout",
     "output_type": "stream",
     "text": [
      "Data loaded in 1.8093 seconds, processing\n",
      "Bandpass cleaned in 3.3120 seconds.\n",
      "Stamps filtered in 15.1696 seconds\n",
      "Saving results\n",
      "Results aggregated in 0.0732 seconds\n",
      "Processing coarse channels 21-28\n"
     ]
    },
    {
     "name": "stderr",
     "output_type": "stream",
     "text": [
      "  6%|▌         | 3/49 [01:02<15:52, 20.70s/it]"
     ]
    },
    {
     "name": "stdout",
     "output_type": "stream",
     "text": [
      "Data loaded in 1.6534 seconds, processing\n",
      "Bandpass cleaned in 3.3430 seconds.\n",
      "Stamps filtered in 14.7448 seconds\n",
      "Saving results\n",
      "Results aggregated in 0.0690 seconds\n",
      "Processing coarse channels 28-35\n"
     ]
    },
    {
     "name": "stderr",
     "output_type": "stream",
     "text": [
      "  8%|▊         | 4/49 [01:22<15:16, 20.36s/it]"
     ]
    },
    {
     "name": "stdout",
     "output_type": "stream",
     "text": [
      "Data loaded in 1.6072 seconds, processing\n",
      "Bandpass cleaned in 3.3152 seconds.\n",
      "Stamps filtered in 15.3786 seconds\n",
      "Saving results\n",
      "Results aggregated in 0.0726 seconds\n",
      "Processing coarse channels 35-42\n"
     ]
    },
    {
     "name": "stderr",
     "output_type": "stream",
     "text": [
      " 10%|█         | 5/49 [01:42<14:56, 20.37s/it]"
     ]
    },
    {
     "name": "stdout",
     "output_type": "stream",
     "text": [
      "Data loaded in 1.7855 seconds, processing\n",
      "Bandpass cleaned in 3.2897 seconds.\n",
      "Stamps filtered in 14.5968 seconds\n",
      "Saving results\n",
      "Results aggregated in 0.0708 seconds\n",
      "Processing coarse channels 42-49\n"
     ]
    },
    {
     "name": "stderr",
     "output_type": "stream",
     "text": [
      " 12%|█▏        | 6/49 [02:02<14:26, 20.16s/it]"
     ]
    },
    {
     "name": "stdout",
     "output_type": "stream",
     "text": [
      "Data loaded in 1.7240 seconds, processing\n",
      "Bandpass cleaned in 3.5049 seconds.\n",
      "Stamps filtered in 14.7457 seconds\n",
      "Saving results\n",
      "Results aggregated in 0.0693 seconds\n",
      "Processing coarse channels 49-56\n"
     ]
    },
    {
     "name": "stderr",
     "output_type": "stream",
     "text": [
      " 14%|█▍        | 7/49 [02:22<14:05, 20.13s/it]"
     ]
    },
    {
     "name": "stdout",
     "output_type": "stream",
     "text": [
      "Data loaded in 1.8176 seconds, processing\n",
      "Bandpass cleaned in 3.4853 seconds.\n",
      "Stamps filtered in 14.7054 seconds\n",
      "Saving results\n",
      "Results aggregated in 0.0697 seconds\n",
      "Processing coarse channels 56-63\n"
     ]
    },
    {
     "name": "stderr",
     "output_type": "stream",
     "text": [
      " 16%|█▋        | 8/49 [02:42<13:44, 20.12s/it]"
     ]
    },
    {
     "name": "stdout",
     "output_type": "stream",
     "text": [
      "Data loaded in 1.8285 seconds, processing\n",
      "Bandpass cleaned in 3.1434 seconds.\n",
      "Stamps filtered in 15.3797 seconds\n",
      "Saving results\n",
      "Results aggregated in 0.0727 seconds\n",
      "Processing coarse channels 63-70\n"
     ]
    },
    {
     "name": "stderr",
     "output_type": "stream",
     "text": [
      " 18%|█▊        | 9/49 [03:03<13:28, 20.22s/it]"
     ]
    },
    {
     "name": "stdout",
     "output_type": "stream",
     "text": [
      "Data loaded in 1.7185 seconds, processing\n",
      "Bandpass cleaned in 3.0887 seconds.\n",
      "Stamps filtered in 15.3245 seconds\n",
      "Saving results\n",
      "Results aggregated in 0.0735 seconds\n",
      "Processing coarse channels 70-77\n"
     ]
    },
    {
     "name": "stderr",
     "output_type": "stream",
     "text": [
      " 20%|██        | 10/49 [03:23<13:08, 20.22s/it]"
     ]
    },
    {
     "name": "stdout",
     "output_type": "stream",
     "text": [
      "Data loaded in 1.7316 seconds, processing\n",
      "Bandpass cleaned in 3.2422 seconds.\n",
      "Stamps filtered in 15.0348 seconds\n",
      "Saving results\n",
      "Results aggregated in 0.0624 seconds\n",
      "Processing coarse channels 77-84\n"
     ]
    },
    {
     "name": "stderr",
     "output_type": "stream",
     "text": [
      " 22%|██▏       | 11/49 [03:43<12:46, 20.18s/it]"
     ]
    },
    {
     "name": "stdout",
     "output_type": "stream",
     "text": [
      "Data loaded in 1.7754 seconds, processing\n",
      "Bandpass cleaned in 3.6279 seconds.\n",
      "Stamps filtered in 14.9874 seconds\n",
      "Saving results\n",
      "Results aggregated in 0.0712 seconds\n",
      "Processing coarse channels 84-91\n"
     ]
    },
    {
     "name": "stderr",
     "output_type": "stream",
     "text": [
      " 24%|██▍       | 12/49 [04:04<12:29, 20.27s/it]"
     ]
    },
    {
     "name": "stdout",
     "output_type": "stream",
     "text": [
      "Data loaded in 1.6261 seconds, processing\n",
      "Bandpass cleaned in 3.1402 seconds.\n",
      "Stamps filtered in 15.1543 seconds\n",
      "Saving results\n",
      "Results aggregated in 0.0640 seconds\n",
      "Processing coarse channels 91-98\n"
     ]
    },
    {
     "name": "stderr",
     "output_type": "stream",
     "text": [
      " 27%|██▋       | 13/49 [04:24<12:06, 20.18s/it]"
     ]
    },
    {
     "name": "stdout",
     "output_type": "stream",
     "text": [
      "Data loaded in 1.5490 seconds, processing\n",
      "Bandpass cleaned in 3.2352 seconds.\n",
      "Stamps filtered in 15.0263 seconds\n",
      "Saving results\n",
      "Results aggregated in 0.0689 seconds\n",
      "Processing coarse channels 98-105\n"
     ]
    },
    {
     "name": "stderr",
     "output_type": "stream",
     "text": [
      " 29%|██▊       | 14/49 [04:43<11:43, 20.10s/it]"
     ]
    },
    {
     "name": "stdout",
     "output_type": "stream",
     "text": [
      "Data loaded in 1.6284 seconds, processing\n",
      "Bandpass cleaned in 3.5494 seconds.\n",
      "Stamps filtered in 14.9206 seconds\n",
      "Saving results\n",
      "Results aggregated in 0.1017 seconds\n",
      "Processing coarse channels 105-112\n"
     ]
    },
    {
     "name": "stderr",
     "output_type": "stream",
     "text": [
      " 31%|███       | 15/49 [05:04<11:24, 20.13s/it]"
     ]
    },
    {
     "name": "stdout",
     "output_type": "stream",
     "text": [
      "Data loaded in 1.4865 seconds, processing\n",
      "Bandpass cleaned in 3.1810 seconds.\n",
      "Stamps filtered in 15.0455 seconds\n",
      "Saving results\n",
      "Results aggregated in 0.1157 seconds\n",
      "Processing coarse channels 112-119\n"
     ]
    },
    {
     "name": "stderr",
     "output_type": "stream",
     "text": [
      " 33%|███▎      | 16/49 [05:23<11:01, 20.04s/it]"
     ]
    },
    {
     "name": "stdout",
     "output_type": "stream",
     "text": [
      "Data loaded in 2.0479 seconds, processing\n",
      "Bandpass cleaned in 3.2275 seconds.\n",
      "Stamps filtered in 15.3111 seconds\n",
      "Saving results\n",
      "Results aggregated in 0.0759 seconds\n",
      "Processing coarse channels 119-126\n"
     ]
    },
    {
     "name": "stderr",
     "output_type": "stream",
     "text": [
      " 35%|███▍      | 17/49 [05:44<10:47, 20.23s/it]"
     ]
    },
    {
     "name": "stdout",
     "output_type": "stream",
     "text": [
      "Data loaded in 1.5043 seconds, processing\n",
      "Bandpass cleaned in 3.3207 seconds.\n",
      "Stamps filtered in 14.8663 seconds\n",
      "Saving results\n",
      "Results aggregated in 0.0847 seconds\n",
      "Processing coarse channels 126-133\n"
     ]
    },
    {
     "name": "stderr",
     "output_type": "stream",
     "text": [
      " 37%|███▋      | 18/49 [06:04<10:23, 20.10s/it]"
     ]
    },
    {
     "name": "stdout",
     "output_type": "stream",
     "text": [
      "Data loaded in 1.5628 seconds, processing\n",
      "Bandpass cleaned in 3.2066 seconds.\n",
      "Stamps filtered in 14.9674 seconds\n",
      "Saving results\n",
      "Results aggregated in 0.0896 seconds\n",
      "Processing coarse channels 133-140\n"
     ]
    },
    {
     "name": "stderr",
     "output_type": "stream",
     "text": [
      " 39%|███▉      | 19/49 [06:24<10:00, 20.02s/it]"
     ]
    },
    {
     "name": "stdout",
     "output_type": "stream",
     "text": [
      "Data loaded in 1.8515 seconds, processing\n",
      "Bandpass cleaned in 3.2691 seconds.\n",
      "Stamps filtered in 14.7626 seconds\n",
      "Saving results\n",
      "Results aggregated in 0.0701 seconds\n",
      "Processing coarse channels 140-147\n"
     ]
    },
    {
     "name": "stderr",
     "output_type": "stream",
     "text": [
      " 41%|████      | 20/49 [06:44<09:40, 20.00s/it]"
     ]
    },
    {
     "name": "stdout",
     "output_type": "stream",
     "text": [
      "Data loaded in 1.7977 seconds, processing\n",
      "Bandpass cleaned in 3.2999 seconds.\n",
      "Stamps filtered in 15.0709 seconds\n",
      "Saving results\n",
      "Results aggregated in 0.0768 seconds\n",
      "Processing coarse channels 147-154\n"
     ]
    },
    {
     "name": "stderr",
     "output_type": "stream",
     "text": [
      " 43%|████▎     | 21/49 [07:04<09:22, 20.08s/it]"
     ]
    },
    {
     "name": "stdout",
     "output_type": "stream",
     "text": [
      "Data loaded in 1.5470 seconds, processing\n",
      "Bandpass cleaned in 3.1792 seconds.\n",
      "Stamps filtered in 15.1949 seconds\n",
      "Saving results\n",
      "Results aggregated in 0.0705 seconds\n",
      "Processing coarse channels 154-161\n"
     ]
    },
    {
     "name": "stderr",
     "output_type": "stream",
     "text": [
      " 45%|████▍     | 22/49 [07:24<09:01, 20.06s/it]"
     ]
    },
    {
     "name": "stdout",
     "output_type": "stream",
     "text": [
      "Data loaded in 1.6620 seconds, processing\n",
      "Bandpass cleaned in 3.2407 seconds.\n",
      "Stamps filtered in 14.4812 seconds\n",
      "Saving results\n",
      "Results aggregated in 0.0837 seconds\n",
      "Processing coarse channels 161-168\n"
     ]
    },
    {
     "name": "stderr",
     "output_type": "stream",
     "text": [
      " 47%|████▋     | 23/49 [07:43<08:36, 19.88s/it]"
     ]
    },
    {
     "name": "stdout",
     "output_type": "stream",
     "text": [
      "Data loaded in 2.0528 seconds, processing\n",
      "Bandpass cleaned in 3.1867 seconds.\n",
      "Stamps filtered in 14.2259 seconds\n",
      "Saving results\n",
      "Results aggregated in 0.1551 seconds\n",
      "Processing coarse channels 168-175\n"
     ]
    },
    {
     "name": "stderr",
     "output_type": "stream",
     "text": [
      " 49%|████▉     | 24/49 [08:03<08:15, 19.81s/it]"
     ]
    },
    {
     "name": "stdout",
     "output_type": "stream",
     "text": [
      "Data loaded in 1.7446 seconds, processing\n",
      "Bandpass cleaned in 3.3461 seconds.\n",
      "Stamps filtered in 14.4404 seconds\n",
      "Saving results\n",
      "Results aggregated in 0.0710 seconds\n",
      "Processing coarse channels 175-182\n"
     ]
    },
    {
     "name": "stderr",
     "output_type": "stream",
     "text": [
      " 51%|█████     | 25/49 [08:23<07:53, 19.75s/it]"
     ]
    },
    {
     "name": "stdout",
     "output_type": "stream",
     "text": [
      "Data loaded in 1.8247 seconds, processing\n",
      "Bandpass cleaned in 3.3212 seconds.\n",
      "Stamps filtered in 15.0613 seconds\n",
      "Saving results\n",
      "Results aggregated in 0.0756 seconds\n",
      "Processing coarse channels 182-189\n"
     ]
    },
    {
     "name": "stderr",
     "output_type": "stream",
     "text": [
      " 53%|█████▎    | 26/49 [08:43<07:37, 19.91s/it]"
     ]
    },
    {
     "name": "stdout",
     "output_type": "stream",
     "text": [
      "Data loaded in 1.5941 seconds, processing\n",
      "Bandpass cleaned in 3.7099 seconds.\n",
      "Stamps filtered in 15.0734 seconds\n",
      "Saving results\n",
      "Results aggregated in 0.0838 seconds\n",
      "Processing coarse channels 189-196\n"
     ]
    },
    {
     "name": "stderr",
     "output_type": "stream",
     "text": [
      " 55%|█████▌    | 27/49 [09:03<07:21, 20.08s/it]"
     ]
    },
    {
     "name": "stdout",
     "output_type": "stream",
     "text": [
      "Data loaded in 1.6194 seconds, processing\n",
      "Bandpass cleaned in 3.1618 seconds.\n",
      "Stamps filtered in 14.8276 seconds\n",
      "Saving results\n",
      "Results aggregated in 0.0773 seconds\n",
      "Processing coarse channels 196-203\n"
     ]
    },
    {
     "name": "stderr",
     "output_type": "stream",
     "text": [
      " 57%|█████▋    | 28/49 [09:23<06:59, 19.96s/it]"
     ]
    },
    {
     "name": "stdout",
     "output_type": "stream",
     "text": [
      "Data loaded in 1.7613 seconds, processing\n",
      "Bandpass cleaned in 3.2549 seconds.\n",
      "Stamps filtered in 15.2177 seconds\n",
      "Saving results\n",
      "Results aggregated in 0.0803 seconds\n",
      "Processing coarse channels 203-210\n"
     ]
    },
    {
     "name": "stderr",
     "output_type": "stream",
     "text": [
      " 59%|█████▉    | 29/49 [09:43<06:41, 20.07s/it]"
     ]
    },
    {
     "name": "stdout",
     "output_type": "stream",
     "text": [
      "Data loaded in 1.6261 seconds, processing\n",
      "Bandpass cleaned in 3.6558 seconds.\n",
      "Stamps filtered in 14.3214 seconds\n",
      "Saving results\n"
     ]
    },
    {
     "name": "stderr",
     "output_type": "stream",
     "text": [
      " 61%|██████    | 30/49 [10:04<06:24, 20.24s/it]"
     ]
    },
    {
     "name": "stdout",
     "output_type": "stream",
     "text": [
      "Results aggregated in 1.0153 seconds\n",
      "Processing coarse channels 210-217\n",
      "Data loaded in 1.8739 seconds, processing\n",
      "Bandpass cleaned in 3.4100 seconds.\n",
      "Stamps filtered in 15.3475 seconds\n",
      "Saving results\n",
      "Results aggregated in 0.1543 seconds\n",
      "Processing coarse channels 217-224\n"
     ]
    },
    {
     "name": "stderr",
     "output_type": "stream",
     "text": [
      " 63%|██████▎   | 31/49 [10:25<06:07, 20.41s/it]"
     ]
    },
    {
     "name": "stdout",
     "output_type": "stream",
     "text": [
      "Data loaded in 1.7068 seconds, processing\n",
      "Bandpass cleaned in 3.3698 seconds.\n",
      "Stamps filtered in 14.7106 seconds\n",
      "Saving results\n",
      "Results aggregated in 0.0841 seconds\n",
      "Processing coarse channels 224-231\n"
     ]
    },
    {
     "name": "stderr",
     "output_type": "stream",
     "text": [
      " 65%|██████▌   | 32/49 [10:45<05:44, 20.25s/it]"
     ]
    },
    {
     "name": "stdout",
     "output_type": "stream",
     "text": [
      "Data loaded in 1.7576 seconds, processing\n",
      "Bandpass cleaned in 3.6420 seconds.\n",
      "Stamps filtered in 15.2723 seconds\n",
      "Saving results\n",
      "Results aggregated in 0.0867 seconds\n",
      "Processing coarse channels 231-238\n"
     ]
    },
    {
     "name": "stderr",
     "output_type": "stream",
     "text": [
      " 67%|██████▋   | 33/49 [11:06<05:26, 20.41s/it]"
     ]
    },
    {
     "name": "stdout",
     "output_type": "stream",
     "text": [
      "Data loaded in 1.7593 seconds, processing\n",
      "Bandpass cleaned in 3.1988 seconds.\n",
      "Stamps filtered in 15.2537 seconds\n",
      "Saving results\n",
      "Results aggregated in 0.0942 seconds\n",
      "Processing coarse channels 238-245\n"
     ]
    },
    {
     "name": "stderr",
     "output_type": "stream",
     "text": [
      " 69%|██████▉   | 34/49 [11:26<05:05, 20.38s/it]"
     ]
    },
    {
     "name": "stdout",
     "output_type": "stream",
     "text": [
      "Data loaded in 1.6969 seconds, processing\n",
      "Bandpass cleaned in 3.2632 seconds.\n",
      "Stamps filtered in 15.0770 seconds\n",
      "Saving results\n",
      "Results aggregated in 0.0873 seconds\n",
      "Processing coarse channels 245-252\n"
     ]
    },
    {
     "name": "stderr",
     "output_type": "stream",
     "text": [
      " 71%|███████▏  | 35/49 [11:46<04:44, 20.31s/it]"
     ]
    },
    {
     "name": "stdout",
     "output_type": "stream",
     "text": [
      "Data loaded in 1.5978 seconds, processing\n",
      "Bandpass cleaned in 3.0670 seconds.\n",
      "Stamps filtered in 15.0768 seconds\n",
      "Saving results\n",
      "Results aggregated in 0.0768 seconds\n",
      "Processing coarse channels 252-259\n"
     ]
    },
    {
     "name": "stderr",
     "output_type": "stream",
     "text": [
      " 73%|███████▎  | 36/49 [12:06<04:22, 20.16s/it]"
     ]
    },
    {
     "name": "stdout",
     "output_type": "stream",
     "text": [
      "Data loaded in 1.8673 seconds, processing\n",
      "Bandpass cleaned in 3.1495 seconds.\n",
      "Stamps filtered in 15.3060 seconds\n",
      "Saving results\n",
      "Results aggregated in 0.0825 seconds\n",
      "Processing coarse channels 259-266\n"
     ]
    },
    {
     "name": "stderr",
     "output_type": "stream",
     "text": [
      " 76%|███████▌  | 37/49 [12:26<04:02, 20.24s/it]"
     ]
    },
    {
     "name": "stdout",
     "output_type": "stream",
     "text": [
      "Data loaded in 1.7041 seconds, processing\n",
      "Bandpass cleaned in 3.7072 seconds.\n",
      "Stamps filtered in 15.1791 seconds\n",
      "Saving results\n",
      "Results aggregated in 0.0975 seconds\n",
      "Processing coarse channels 266-273\n"
     ]
    },
    {
     "name": "stderr",
     "output_type": "stream",
     "text": [
      " 78%|███████▊  | 38/49 [12:47<03:44, 20.38s/it]"
     ]
    },
    {
     "name": "stdout",
     "output_type": "stream",
     "text": [
      "Data loaded in 1.8829 seconds, processing\n",
      "Bandpass cleaned in 3.4042 seconds.\n",
      "Stamps filtered in 14.9678 seconds\n",
      "Saving results\n",
      "Results aggregated in 0.0871 seconds\n",
      "Processing coarse channels 273-280\n"
     ]
    },
    {
     "name": "stderr",
     "output_type": "stream",
     "text": [
      " 80%|███████▉  | 39/49 [13:07<03:23, 20.37s/it]"
     ]
    },
    {
     "name": "stdout",
     "output_type": "stream",
     "text": [
      "Data loaded in 1.6563 seconds, processing\n",
      "Bandpass cleaned in 3.2756 seconds.\n",
      "Stamps filtered in 15.1776 seconds\n",
      "Saving results\n"
     ]
    },
    {
     "name": "stderr",
     "output_type": "stream",
     "text": [
      " 82%|████████▏ | 40/49 [13:28<03:03, 20.40s/it]"
     ]
    },
    {
     "name": "stdout",
     "output_type": "stream",
     "text": [
      "Results aggregated in 0.3286 seconds\n",
      "Processing coarse channels 280-287\n",
      "Data loaded in 1.7744 seconds, processing\n",
      "Bandpass cleaned in 3.4481 seconds.\n",
      "Stamps filtered in 14.9294 seconds\n",
      "Saving results\n"
     ]
    },
    {
     "name": "stderr",
     "output_type": "stream",
     "text": [
      " 84%|████████▎ | 41/49 [13:48<02:43, 20.46s/it]"
     ]
    },
    {
     "name": "stdout",
     "output_type": "stream",
     "text": [
      "Results aggregated in 0.4495 seconds\n",
      "Processing coarse channels 287-294\n",
      "Data loaded in 1.8160 seconds, processing\n",
      "Bandpass cleaned in 3.5699 seconds.\n",
      "Stamps filtered in 14.9016 seconds\n",
      "Saving results\n"
     ]
    },
    {
     "name": "stderr",
     "output_type": "stream",
     "text": [
      " 86%|████████▌ | 42/49 [14:11<02:26, 21.00s/it]"
     ]
    },
    {
     "name": "stdout",
     "output_type": "stream",
     "text": [
      "Results aggregated in 1.9495 seconds\n",
      "Processing coarse channels 294-301\n",
      "Data loaded in 1.8545 seconds, processing\n",
      "Bandpass cleaned in 4.1942 seconds.\n",
      "Stamps filtered in 15.4285 seconds\n",
      "Saving results\n"
     ]
    },
    {
     "name": "stderr",
     "output_type": "stream",
     "text": [
      " 88%|████████▊ | 43/49 [14:34<02:09, 21.59s/it]"
     ]
    },
    {
     "name": "stdout",
     "output_type": "stream",
     "text": [
      "Results aggregated in 1.4505 seconds\n",
      "Processing coarse channels 301-308\n",
      "Data loaded in 2.0056 seconds, processing\n",
      "Bandpass cleaned in 3.6098 seconds.\n",
      "Stamps filtered in 15.3617 seconds\n",
      "Saving results\n",
      "Results aggregated in 0.1967 seconds\n",
      "Processing coarse channels 308-315\n"
     ]
    },
    {
     "name": "stderr",
     "output_type": "stream",
     "text": [
      " 90%|████████▉ | 44/49 [14:55<01:47, 21.47s/it]"
     ]
    },
    {
     "name": "stdout",
     "output_type": "stream",
     "text": [
      "Data loaded in 1.9862 seconds, processing\n",
      "Bandpass cleaned in 3.5784 seconds.\n",
      "Stamps filtered in 15.0827 seconds\n",
      "Saving results\n",
      "Results aggregated in 0.1021 seconds\n",
      "Processing coarse channels 315-322\n"
     ]
    },
    {
     "name": "stderr",
     "output_type": "stream",
     "text": [
      " 92%|█████████▏| 45/49 [15:16<01:25, 21.26s/it]"
     ]
    },
    {
     "name": "stdout",
     "output_type": "stream",
     "text": [
      "Data loaded in 2.0091 seconds, processing\n",
      "Bandpass cleaned in 3.3635 seconds.\n",
      "Stamps filtered in 15.6838 seconds\n",
      "Saving results\n",
      "Results aggregated in 0.0938 seconds\n",
      "Processing coarse channels 322-329\n"
     ]
    },
    {
     "name": "stderr",
     "output_type": "stream",
     "text": [
      " 94%|█████████▍| 46/49 [15:37<01:03, 21.23s/it]"
     ]
    },
    {
     "name": "stdout",
     "output_type": "stream",
     "text": [
      "Data loaded in 1.6400 seconds, processing\n",
      "Bandpass cleaned in 3.2205 seconds.\n",
      "Stamps filtered in 15.0933 seconds\n",
      "Saving results\n",
      "Results aggregated in 0.1070 seconds\n",
      "Processing coarse channels 329-336\n"
     ]
    },
    {
     "name": "stderr",
     "output_type": "stream",
     "text": [
      " 96%|█████████▌| 47/49 [15:57<00:41, 20.88s/it]"
     ]
    },
    {
     "name": "stdout",
     "output_type": "stream",
     "text": [
      "Data loaded in 2.0511 seconds, processing\n",
      "Bandpass cleaned in 3.4351 seconds.\n",
      "Stamps filtered in 15.1384 seconds\n",
      "Saving results\n",
      "Results aggregated in 0.0927 seconds\n",
      "Processing coarse channels 336-343\n"
     ]
    },
    {
     "name": "stderr",
     "output_type": "stream",
     "text": [
      " 98%|█████████▊| 48/49 [16:18<00:20, 20.83s/it]"
     ]
    },
    {
     "name": "stdout",
     "output_type": "stream",
     "text": [
      "Data loaded in 1.5368 seconds, processing\n",
      "Bandpass cleaned in 3.4854 seconds.\n",
      "Stamps filtered in 15.0752 seconds\n",
      "Saving results\n"
     ]
    },
    {
     "name": "stderr",
     "output_type": "stream",
     "text": [
      "100%|██████████| 49/49 [16:38<00:00, 20.37s/it]\n"
     ]
    },
    {
     "name": "stdout",
     "output_type": "stream",
     "text": [
      "Results aggregated in 0.0943 seconds\n",
      "      level_0      index     statistic  pvalue        freqs\n",
      "9926     9926  219901952  11818.729454     0.0  2188.433075\n",
      "9866     9866  219894272  11704.241114     0.0  2188.454533\n",
      "9865     9865  219894144  11660.975543     0.0  2188.454890\n",
      "9955     9955  219905664  11508.387605     0.0  2188.422704\n",
      "343 343\n",
      "Finished Energy Detection on GBT_57907_34727_HIP87579_fine.h5 in 1002.3407 seconds\n",
      "/mnt_blpd7/datax/dl/GBT_57907_35062_HIP87059_fine.h5\n",
      "Header saved to ../../../../../../datax/scratch/pma/reverse_search/test/HIP87579-1008/GBT_57907_35062_HIP87059_fine/header.pkl\n",
      "Processing 7 in parallel\n",
      "Processing coarse channels 0-7\n"
     ]
    },
    {
     "name": "stderr",
     "output_type": "stream",
     "text": [
      "  0%|          | 0/49 [00:00<?, ?it/s]"
     ]
    },
    {
     "name": "stdout",
     "output_type": "stream",
     "text": [
      "Data loaded in 2.6544 seconds, processing\n",
      "Bandpass cleaned in 3.1581 seconds.\n",
      "Stamps filtered in 14.7468 seconds\n",
      "Saving results\n",
      "Results aggregated in 0.0687 seconds\n",
      "Processing coarse channels 7-14\n"
     ]
    },
    {
     "name": "stderr",
     "output_type": "stream",
     "text": [
      "  2%|▏         | 1/49 [00:20<16:30, 20.64s/it]"
     ]
    },
    {
     "name": "stdout",
     "output_type": "stream",
     "text": [
      "Data loaded in 2.4568 seconds, processing\n",
      "Bandpass cleaned in 3.0511 seconds.\n",
      "Stamps filtered in 15.5887 seconds\n",
      "Saving results\n",
      "Results aggregated in 0.0692 seconds\n",
      "Processing coarse channels 14-21\n"
     ]
    },
    {
     "name": "stderr",
     "output_type": "stream",
     "text": [
      "  4%|▍         | 2/49 [00:41<16:24, 20.96s/it]"
     ]
    },
    {
     "name": "stdout",
     "output_type": "stream",
     "text": [
      "Data loaded in 1.9546 seconds, processing\n",
      "Bandpass cleaned in 3.2575 seconds.\n",
      "Stamps filtered in 15.7895 seconds\n",
      "Saving results\n",
      "Results aggregated in 0.0699 seconds\n",
      "Processing coarse channels 21-28\n"
     ]
    },
    {
     "name": "stderr",
     "output_type": "stream",
     "text": [
      "  6%|▌         | 3/49 [01:02<16:06, 21.01s/it]"
     ]
    },
    {
     "name": "stdout",
     "output_type": "stream",
     "text": [
      "Data loaded in 1.6478 seconds, processing\n",
      "Bandpass cleaned in 3.3031 seconds.\n",
      "Stamps filtered in 14.8165 seconds\n",
      "Saving results\n",
      "Results aggregated in 0.0683 seconds\n",
      "Processing coarse channels 28-35\n"
     ]
    },
    {
     "name": "stderr",
     "output_type": "stream",
     "text": [
      "  8%|▊         | 4/49 [01:22<15:24, 20.55s/it]"
     ]
    },
    {
     "name": "stdout",
     "output_type": "stream",
     "text": [
      "Data loaded in 1.6852 seconds, processing\n",
      "Bandpass cleaned in 3.0057 seconds.\n",
      "Stamps filtered in 15.0740 seconds\n",
      "Saving results\n",
      "Results aggregated in 0.0659 seconds\n",
      "Processing coarse channels 35-42\n"
     ]
    },
    {
     "name": "stderr",
     "output_type": "stream",
     "text": [
      " 10%|█         | 5/49 [01:42<14:53, 20.30s/it]"
     ]
    },
    {
     "name": "stdout",
     "output_type": "stream",
     "text": [
      "Data loaded in 1.6791 seconds, processing\n",
      "Bandpass cleaned in 3.1247 seconds.\n",
      "Stamps filtered in 16.1386 seconds\n",
      "Saving results\n",
      "Results aggregated in 0.0676 seconds\n",
      "Processing coarse channels 42-49\n"
     ]
    },
    {
     "name": "stderr",
     "output_type": "stream",
     "text": [
      " 12%|█▏        | 6/49 [02:03<14:43, 20.54s/it]"
     ]
    },
    {
     "name": "stdout",
     "output_type": "stream",
     "text": [
      "Data loaded in 1.8896 seconds, processing\n",
      "Bandpass cleaned in 3.5226 seconds.\n",
      "Stamps filtered in 15.4233 seconds\n",
      "Saving results\n",
      "Results aggregated in 0.0618 seconds\n",
      "Processing coarse channels 49-56\n"
     ]
    },
    {
     "name": "stderr",
     "output_type": "stream",
     "text": [
      " 14%|█▍        | 7/49 [02:24<14:27, 20.66s/it]"
     ]
    },
    {
     "name": "stdout",
     "output_type": "stream",
     "text": [
      "Data loaded in 1.7735 seconds, processing\n",
      "Bandpass cleaned in 3.4472 seconds.\n",
      "Stamps filtered in 15.5998 seconds\n",
      "Saving results\n",
      "Results aggregated in 0.0682 seconds\n",
      "Processing coarse channels 56-63\n"
     ]
    },
    {
     "name": "stderr",
     "output_type": "stream",
     "text": [
      " 16%|█▋        | 8/49 [02:45<14:10, 20.74s/it]"
     ]
    },
    {
     "name": "stdout",
     "output_type": "stream",
     "text": [
      "Data loaded in 1.7403 seconds, processing\n",
      "Bandpass cleaned in 3.3938 seconds.\n",
      "Stamps filtered in 15.8270 seconds\n",
      "Saving results\n",
      "Results aggregated in 0.0683 seconds\n",
      "Processing coarse channels 63-70\n"
     ]
    },
    {
     "name": "stderr",
     "output_type": "stream",
     "text": [
      " 18%|█▊        | 9/49 [03:06<13:53, 20.83s/it]"
     ]
    },
    {
     "name": "stdout",
     "output_type": "stream",
     "text": [
      "Data loaded in 1.6536 seconds, processing\n",
      "Bandpass cleaned in 3.2984 seconds.\n",
      "Stamps filtered in 15.7200 seconds\n",
      "Saving results\n",
      "Results aggregated in 0.0716 seconds\n",
      "Processing coarse channels 70-77\n"
     ]
    },
    {
     "name": "stderr",
     "output_type": "stream",
     "text": [
      " 20%|██        | 10/49 [03:27<13:31, 20.81s/it]"
     ]
    },
    {
     "name": "stdout",
     "output_type": "stream",
     "text": [
      "Data loaded in 1.7492 seconds, processing\n",
      "Bandpass cleaned in 3.2656 seconds.\n",
      "Stamps filtered in 15.8351 seconds\n",
      "Saving results\n",
      "Results aggregated in 0.0619 seconds\n",
      "Processing coarse channels 77-84\n"
     ]
    },
    {
     "name": "stderr",
     "output_type": "stream",
     "text": [
      " 22%|██▏       | 11/49 [03:48<13:12, 20.84s/it]"
     ]
    },
    {
     "name": "stdout",
     "output_type": "stream",
     "text": [
      "Data loaded in 1.7139 seconds, processing\n",
      "Bandpass cleaned in 3.5523 seconds.\n",
      "Stamps filtered in 15.8417 seconds\n",
      "Saving results\n",
      "Results aggregated in 0.0701 seconds\n",
      "Processing coarse channels 84-91\n"
     ]
    },
    {
     "name": "stderr",
     "output_type": "stream",
     "text": [
      " 24%|██▍       | 12/49 [04:09<12:55, 20.95s/it]"
     ]
    },
    {
     "name": "stdout",
     "output_type": "stream",
     "text": [
      "Data loaded in 1.7054 seconds, processing\n",
      "Bandpass cleaned in 4.4013 seconds.\n",
      "Stamps filtered in 14.8511 seconds\n",
      "Saving results\n",
      "Results aggregated in 0.0703 seconds\n",
      "Processing coarse channels 91-98\n"
     ]
    },
    {
     "name": "stderr",
     "output_type": "stream",
     "text": [
      " 27%|██▋       | 13/49 [04:30<12:35, 20.98s/it]"
     ]
    },
    {
     "name": "stdout",
     "output_type": "stream",
     "text": [
      "Data loaded in 1.8482 seconds, processing\n",
      "Bandpass cleaned in 3.3184 seconds.\n",
      "Stamps filtered in 15.9275 seconds\n",
      "Saving results\n",
      "Results aggregated in 0.0643 seconds\n",
      "Processing coarse channels 98-105\n"
     ]
    },
    {
     "name": "stderr",
     "output_type": "stream",
     "text": [
      " 29%|██▊       | 14/49 [04:51<12:16, 21.04s/it]"
     ]
    },
    {
     "name": "stdout",
     "output_type": "stream",
     "text": [
      "Data loaded in 1.6314 seconds, processing\n",
      "Bandpass cleaned in 3.1765 seconds.\n",
      "Stamps filtered in 15.5841 seconds\n",
      "Saving results\n",
      "Results aggregated in 0.0680 seconds\n",
      "Processing coarse channels 105-112\n"
     ]
    },
    {
     "name": "stderr",
     "output_type": "stream",
     "text": [
      " 31%|███       | 15/49 [05:12<11:49, 20.87s/it]"
     ]
    },
    {
     "name": "stdout",
     "output_type": "stream",
     "text": [
      "Data loaded in 1.7166 seconds, processing\n",
      "Bandpass cleaned in 3.2511 seconds.\n",
      "Stamps filtered in 15.8022 seconds\n",
      "Saving results\n",
      "Results aggregated in 0.0615 seconds\n",
      "Processing coarse channels 112-119\n"
     ]
    },
    {
     "name": "stderr",
     "output_type": "stream",
     "text": [
      " 33%|███▎      | 16/49 [05:32<11:28, 20.86s/it]"
     ]
    },
    {
     "name": "stdout",
     "output_type": "stream",
     "text": [
      "Data loaded in 1.5719 seconds, processing\n",
      "Bandpass cleaned in 3.2797 seconds.\n",
      "Stamps filtered in 15.4330 seconds\n",
      "Saving results\n",
      "Results aggregated in 0.0695 seconds\n",
      "Processing coarse channels 119-126\n"
     ]
    },
    {
     "name": "stderr",
     "output_type": "stream",
     "text": [
      " 35%|███▍      | 17/49 [05:53<11:02, 20.71s/it]"
     ]
    },
    {
     "name": "stdout",
     "output_type": "stream",
     "text": [
      "Data loaded in 1.6012 seconds, processing\n",
      "Bandpass cleaned in 3.3183 seconds.\n",
      "Stamps filtered in 15.7138 seconds\n",
      "Saving results\n",
      "Results aggregated in 0.0647 seconds\n",
      "Processing coarse channels 126-133\n"
     ]
    },
    {
     "name": "stderr",
     "output_type": "stream",
     "text": [
      " 37%|███▋      | 18/49 [06:13<10:42, 20.71s/it]"
     ]
    },
    {
     "name": "stdout",
     "output_type": "stream",
     "text": [
      "Data loaded in 1.6533 seconds, processing\n",
      "Bandpass cleaned in 3.2754 seconds.\n",
      "Stamps filtered in 15.8103 seconds\n",
      "Saving results\n",
      "Results aggregated in 0.0757 seconds\n",
      "Processing coarse channels 133-140\n"
     ]
    },
    {
     "name": "stderr",
     "output_type": "stream",
     "text": [
      " 39%|███▉      | 19/49 [06:34<10:22, 20.74s/it]"
     ]
    },
    {
     "name": "stdout",
     "output_type": "stream",
     "text": [
      "Data loaded in 1.5858 seconds, processing\n",
      "Bandpass cleaned in 3.5349 seconds.\n",
      "Stamps filtered in 15.6527 seconds\n",
      "Saving results\n",
      "Results aggregated in 0.0716 seconds\n",
      "Processing coarse channels 140-147\n"
     ]
    },
    {
     "name": "stderr",
     "output_type": "stream",
     "text": [
      " 41%|████      | 20/49 [06:55<10:02, 20.78s/it]"
     ]
    },
    {
     "name": "stdout",
     "output_type": "stream",
     "text": [
      "Data loaded in 1.5846 seconds, processing\n",
      "Bandpass cleaned in 3.3934 seconds.\n",
      "Stamps filtered in 15.5054 seconds\n",
      "Saving results\n",
      "Results aggregated in 0.0641 seconds\n",
      "Processing coarse channels 147-154\n"
     ]
    },
    {
     "name": "stderr",
     "output_type": "stream",
     "text": [
      " 43%|████▎     | 21/49 [07:16<09:39, 20.71s/it]"
     ]
    },
    {
     "name": "stdout",
     "output_type": "stream",
     "text": [
      "Data loaded in 1.5519 seconds, processing\n",
      "Bandpass cleaned in 3.2430 seconds.\n",
      "Stamps filtered in 15.5715 seconds\n",
      "Saving results\n",
      "Results aggregated in 0.0705 seconds\n",
      "Processing coarse channels 154-161\n"
     ]
    },
    {
     "name": "stderr",
     "output_type": "stream",
     "text": [
      " 45%|████▍     | 22/49 [07:36<09:17, 20.63s/it]"
     ]
    },
    {
     "name": "stdout",
     "output_type": "stream",
     "text": [
      "Data loaded in 1.6812 seconds, processing\n",
      "Bandpass cleaned in 3.1872 seconds.\n",
      "Stamps filtered in 15.6720 seconds\n",
      "Saving results\n",
      "Results aggregated in 0.0742 seconds\n",
      "Processing coarse channels 161-168\n"
     ]
    },
    {
     "name": "stderr",
     "output_type": "stream",
     "text": [
      " 47%|████▋     | 23/49 [07:57<08:56, 20.63s/it]"
     ]
    },
    {
     "name": "stdout",
     "output_type": "stream",
     "text": [
      "Data loaded in 1.7219 seconds, processing\n",
      "Bandpass cleaned in 3.3610 seconds.\n",
      "Stamps filtered in 15.3669 seconds\n",
      "Saving results\n",
      "Results aggregated in 0.1552 seconds\n",
      "Processing coarse channels 168-175\n"
     ]
    },
    {
     "name": "stderr",
     "output_type": "stream",
     "text": [
      " 49%|████▉     | 24/49 [08:17<08:35, 20.63s/it]"
     ]
    },
    {
     "name": "stdout",
     "output_type": "stream",
     "text": [
      "Data loaded in 1.5806 seconds, processing\n",
      "Bandpass cleaned in 3.2479 seconds.\n",
      "Stamps filtered in 15.4294 seconds\n",
      "Saving results\n",
      "Results aggregated in 0.0800 seconds\n",
      "Processing coarse channels 175-182\n"
     ]
    },
    {
     "name": "stderr",
     "output_type": "stream",
     "text": [
      " 51%|█████     | 25/49 [08:38<08:13, 20.54s/it]"
     ]
    },
    {
     "name": "stdout",
     "output_type": "stream",
     "text": [
      "Data loaded in 1.7069 seconds, processing\n",
      "Bandpass cleaned in 3.5844 seconds.\n",
      "Stamps filtered in 15.8209 seconds\n",
      "Saving results\n",
      "Results aggregated in 0.0796 seconds\n",
      "Processing coarse channels 182-189\n"
     ]
    },
    {
     "name": "stderr",
     "output_type": "stream",
     "text": [
      " 53%|█████▎    | 26/49 [08:59<07:57, 20.74s/it]"
     ]
    },
    {
     "name": "stdout",
     "output_type": "stream",
     "text": [
      "Data loaded in 1.5899 seconds, processing\n",
      "Bandpass cleaned in 3.7591 seconds.\n",
      "Stamps filtered in 15.7035 seconds\n",
      "Saving results\n",
      "Results aggregated in 0.0893 seconds\n",
      "Processing coarse channels 189-196\n"
     ]
    },
    {
     "name": "stderr",
     "output_type": "stream",
     "text": [
      " 55%|█████▌    | 27/49 [09:20<07:39, 20.87s/it]"
     ]
    },
    {
     "name": "stdout",
     "output_type": "stream",
     "text": [
      "Data loaded in 1.7397 seconds, processing\n",
      "Bandpass cleaned in 3.2367 seconds.\n",
      "Stamps filtered in 15.9064 seconds\n",
      "Saving results\n",
      "Results aggregated in 0.1100 seconds\n",
      "Processing coarse channels 196-203\n"
     ]
    },
    {
     "name": "stderr",
     "output_type": "stream",
     "text": [
      " 57%|█████▋    | 28/49 [09:41<07:19, 20.91s/it]"
     ]
    },
    {
     "name": "stdout",
     "output_type": "stream",
     "text": [
      "Data loaded in 1.9370 seconds, processing\n",
      "Bandpass cleaned in 3.7873 seconds.\n",
      "Stamps filtered in 16.0122 seconds\n",
      "Saving results\n",
      "Results aggregated in 0.0849 seconds\n",
      "Processing coarse channels 203-210\n"
     ]
    },
    {
     "name": "stderr",
     "output_type": "stream",
     "text": [
      " 59%|█████▉    | 29/49 [10:03<07:03, 21.18s/it]"
     ]
    },
    {
     "name": "stdout",
     "output_type": "stream",
     "text": [
      "Data loaded in 1.6770 seconds, processing\n",
      "Bandpass cleaned in 3.2004 seconds.\n",
      "Stamps filtered in 15.9404 seconds\n",
      "Saving results\n"
     ]
    },
    {
     "name": "stderr",
     "output_type": "stream",
     "text": [
      " 61%|██████    | 30/49 [10:25<06:46, 21.39s/it]"
     ]
    },
    {
     "name": "stdout",
     "output_type": "stream",
     "text": [
      "Results aggregated in 1.0374 seconds\n",
      "Processing coarse channels 210-217\n",
      "Data loaded in 1.6752 seconds, processing\n",
      "Bandpass cleaned in 4.3555 seconds.\n",
      "Stamps filtered in 16.2751 seconds\n",
      "Saving results\n",
      "Results aggregated in 0.1759 seconds\n",
      "Processing coarse channels 217-224\n"
     ]
    },
    {
     "name": "stderr",
     "output_type": "stream",
     "text": [
      " 63%|██████▎   | 31/49 [10:47<06:31, 21.72s/it]"
     ]
    },
    {
     "name": "stdout",
     "output_type": "stream",
     "text": [
      "Data loaded in 1.6344 seconds, processing\n",
      "Bandpass cleaned in 3.2274 seconds.\n",
      "Stamps filtered in 15.3195 seconds\n",
      "Saving results\n",
      "Results aggregated in 0.0751 seconds\n",
      "Processing coarse channels 224-231\n"
     ]
    },
    {
     "name": "stderr",
     "output_type": "stream",
     "text": [
      " 65%|██████▌   | 32/49 [11:08<06:01, 21.29s/it]"
     ]
    },
    {
     "name": "stdout",
     "output_type": "stream",
     "text": [
      "Data loaded in 1.7055 seconds, processing\n",
      "Bandpass cleaned in 3.5124 seconds.\n",
      "Stamps filtered in 15.2937 seconds\n",
      "Saving results\n",
      "Results aggregated in 0.0795 seconds\n",
      "Processing coarse channels 231-238\n"
     ]
    },
    {
     "name": "stderr",
     "output_type": "stream",
     "text": [
      " 67%|██████▋   | 33/49 [11:28<05:37, 21.08s/it]"
     ]
    },
    {
     "name": "stdout",
     "output_type": "stream",
     "text": [
      "Data loaded in 1.6598 seconds, processing\n",
      "Bandpass cleaned in 3.1536 seconds.\n",
      "Stamps filtered in 15.3963 seconds\n",
      "Saving results\n",
      "Results aggregated in 0.0942 seconds\n",
      "Processing coarse channels 238-245\n"
     ]
    },
    {
     "name": "stderr",
     "output_type": "stream",
     "text": [
      " 69%|██████▉   | 34/49 [11:48<05:12, 20.85s/it]"
     ]
    },
    {
     "name": "stdout",
     "output_type": "stream",
     "text": [
      "Data loaded in 2.1289 seconds, processing\n",
      "Bandpass cleaned in 3.3178 seconds.\n",
      "Stamps filtered in 16.0300 seconds\n",
      "Saving results\n",
      "Results aggregated in 0.0869 seconds\n",
      "Processing coarse channels 245-252\n"
     ]
    },
    {
     "name": "stderr",
     "output_type": "stream",
     "text": [
      " 71%|███████▏  | 35/49 [12:10<04:54, 21.07s/it]"
     ]
    },
    {
     "name": "stdout",
     "output_type": "stream",
     "text": [
      "Data loaded in 1.6504 seconds, processing\n",
      "Bandpass cleaned in 3.1174 seconds.\n",
      "Stamps filtered in 14.7238 seconds\n",
      "Saving results\n",
      "Results aggregated in 0.0780 seconds\n",
      "Processing coarse channels 252-259\n"
     ]
    },
    {
     "name": "stderr",
     "output_type": "stream",
     "text": [
      " 73%|███████▎  | 36/49 [12:30<04:28, 20.62s/it]"
     ]
    },
    {
     "name": "stdout",
     "output_type": "stream",
     "text": [
      "Data loaded in 1.7552 seconds, processing\n",
      "Bandpass cleaned in 3.3101 seconds.\n",
      "Stamps filtered in 15.6746 seconds\n",
      "Saving results\n",
      "Results aggregated in 0.0835 seconds\n",
      "Processing coarse channels 259-266\n"
     ]
    },
    {
     "name": "stderr",
     "output_type": "stream",
     "text": [
      " 76%|███████▌  | 37/49 [12:50<04:08, 20.69s/it]"
     ]
    },
    {
     "name": "stdout",
     "output_type": "stream",
     "text": [
      "Data loaded in 1.6675 seconds, processing\n",
      "Bandpass cleaned in 3.3564 seconds.\n",
      "Stamps filtered in 15.3081 seconds\n",
      "Saving results\n",
      "Results aggregated in 0.0887 seconds\n",
      "Processing coarse channels 266-273\n"
     ]
    },
    {
     "name": "stderr",
     "output_type": "stream",
     "text": [
      " 78%|███████▊  | 38/49 [13:11<03:46, 20.61s/it]"
     ]
    },
    {
     "name": "stdout",
     "output_type": "stream",
     "text": [
      "Data loaded in 1.7422 seconds, processing\n",
      "Bandpass cleaned in 3.2869 seconds.\n",
      "Stamps filtered in 15.6621 seconds\n",
      "Saving results\n",
      "Results aggregated in 0.0769 seconds\n",
      "Processing coarse channels 273-280\n"
     ]
    },
    {
     "name": "stderr",
     "output_type": "stream",
     "text": [
      " 80%|███████▉  | 39/49 [13:32<03:26, 20.66s/it]"
     ]
    },
    {
     "name": "stdout",
     "output_type": "stream",
     "text": [
      "Data loaded in 1.6776 seconds, processing\n",
      "Bandpass cleaned in 3.2851 seconds.\n",
      "Stamps filtered in 15.6069 seconds\n",
      "Saving results\n"
     ]
    },
    {
     "name": "stderr",
     "output_type": "stream",
     "text": [
      " 82%|████████▏ | 40/49 [13:53<03:07, 20.82s/it]"
     ]
    },
    {
     "name": "stdout",
     "output_type": "stream",
     "text": [
      "Results aggregated in 0.6189 seconds\n",
      "Processing coarse channels 280-287\n",
      "Data loaded in 1.8767 seconds, processing\n",
      "Bandpass cleaned in 4.1013 seconds.\n",
      "Stamps filtered in 16.3687 seconds\n",
      "Saving results\n"
     ]
    },
    {
     "name": "stderr",
     "output_type": "stream",
     "text": [
      " 84%|████████▎ | 41/49 [14:16<02:51, 21.49s/it]"
     ]
    },
    {
     "name": "stdout",
     "output_type": "stream",
     "text": [
      "Results aggregated in 0.6894 seconds\n",
      "Processing coarse channels 287-294\n",
      "Data loaded in 1.7274 seconds, processing\n",
      "Bandpass cleaned in 3.9170 seconds.\n",
      "Stamps filtered in 15.4736 seconds\n",
      "Saving results\n"
     ]
    },
    {
     "name": "stderr",
     "output_type": "stream",
     "text": [
      " 86%|████████▌ | 42/49 [14:40<02:35, 22.15s/it]"
     ]
    },
    {
     "name": "stdout",
     "output_type": "stream",
     "text": [
      "Results aggregated in 2.5388 seconds\n",
      "Processing coarse channels 294-301\n",
      "Data loaded in 1.9622 seconds, processing\n",
      "Bandpass cleaned in 4.1619 seconds.\n",
      "Stamps filtered in 15.5705 seconds\n",
      "Saving results\n"
     ]
    },
    {
     "name": "stderr",
     "output_type": "stream",
     "text": [
      " 88%|████████▊ | 43/49 [15:03<02:15, 22.56s/it]"
     ]
    },
    {
     "name": "stdout",
     "output_type": "stream",
     "text": [
      "Results aggregated in 1.7984 seconds\n",
      "Processing coarse channels 301-308\n",
      "Data loaded in 1.8412 seconds, processing\n",
      "Bandpass cleaned in 3.6814 seconds.\n",
      "Stamps filtered in 15.5752 seconds\n",
      "Saving results\n"
     ]
    },
    {
     "name": "stderr",
     "output_type": "stream",
     "text": [
      " 90%|████████▉ | 44/49 [15:25<01:51, 22.20s/it]"
     ]
    },
    {
     "name": "stdout",
     "output_type": "stream",
     "text": [
      "Results aggregated in 0.2603 seconds\n",
      "Processing coarse channels 308-315\n",
      "Data loaded in 1.7834 seconds, processing\n",
      "Bandpass cleaned in 3.2565 seconds.\n",
      "Stamps filtered in 15.3677 seconds\n",
      "Saving results\n",
      "Results aggregated in 0.1032 seconds\n",
      "Processing coarse channels 315-322\n"
     ]
    },
    {
     "name": "stderr",
     "output_type": "stream",
     "text": [
      " 92%|█████████▏| 45/49 [15:45<01:26, 21.70s/it]"
     ]
    },
    {
     "name": "stdout",
     "output_type": "stream",
     "text": [
      "Data loaded in 1.9563 seconds, processing\n",
      "Bandpass cleaned in 3.4891 seconds.\n",
      "Stamps filtered in 15.8733 seconds\n",
      "Saving results\n",
      "Results aggregated in 0.1141 seconds\n",
      "Processing coarse channels 322-329\n"
     ]
    },
    {
     "name": "stderr",
     "output_type": "stream",
     "text": [
      " 94%|█████████▍| 46/49 [16:06<01:04, 21.62s/it]"
     ]
    },
    {
     "name": "stdout",
     "output_type": "stream",
     "text": [
      "Data loaded in 1.8279 seconds, processing\n",
      "Bandpass cleaned in 3.3755 seconds.\n",
      "Stamps filtered in 15.9162 seconds\n",
      "Saving results\n",
      "Results aggregated in 0.1029 seconds\n",
      "Processing coarse channels 329-336\n"
     ]
    },
    {
     "name": "stderr",
     "output_type": "stream",
     "text": [
      " 96%|█████████▌| 47/49 [16:28<00:43, 21.50s/it]"
     ]
    },
    {
     "name": "stdout",
     "output_type": "stream",
     "text": [
      "Data loaded in 1.6431 seconds, processing\n",
      "Bandpass cleaned in 3.2649 seconds.\n",
      "Stamps filtered in 15.9060 seconds\n",
      "Saving results\n",
      "Results aggregated in 0.1073 seconds\n",
      "Processing coarse channels 336-343\n"
     ]
    },
    {
     "name": "stderr",
     "output_type": "stream",
     "text": [
      " 98%|█████████▊| 48/49 [16:49<00:21, 21.33s/it]"
     ]
    },
    {
     "name": "stdout",
     "output_type": "stream",
     "text": [
      "Data loaded in 1.7064 seconds, processing\n",
      "Bandpass cleaned in 3.5667 seconds.\n",
      "Stamps filtered in 15.2622 seconds\n",
      "Saving results\n"
     ]
    },
    {
     "name": "stderr",
     "output_type": "stream",
     "text": [
      "100%|██████████| 49/49 [17:09<00:00, 21.02s/it]\n"
     ]
    },
    {
     "name": "stdout",
     "output_type": "stream",
     "text": [
      "Results aggregated in 0.1071 seconds\n",
      "       level_0      index     statistic  pvalue        freqs\n",
      "10388    10388  276601728  12612.078654     0.0  2030.015731\n",
      "10389    10389  276601856  12596.345848     0.0  2030.015373\n",
      "55350    55350  355991552  12492.258889     0.0  1808.203125\n",
      "55361    55361  359137280  12490.040783     0.0  1799.414062\n",
      "343 343\n",
      "Finished Energy Detection on GBT_57907_35062_HIP87059_fine.h5 in 1034.2872 seconds\n",
      "/mnt_blpd7/datax/dl/GBT_57907_35397_HIP87579_fine.h5\n",
      "Header saved to ../../../../../../datax/scratch/pma/reverse_search/test/HIP87579-1008/GBT_57907_35397_HIP87579_fine/header.pkl\n",
      "Processing 7 in parallel\n",
      "Processing coarse channels 0-7\n"
     ]
    },
    {
     "name": "stderr",
     "output_type": "stream",
     "text": [
      "  0%|          | 0/49 [00:00<?, ?it/s]"
     ]
    },
    {
     "name": "stdout",
     "output_type": "stream",
     "text": [
      "Data loaded in 3.1076 seconds, processing\n",
      "Bandpass cleaned in 3.3639 seconds.\n",
      "Stamps filtered in 14.3521 seconds\n",
      "Saving results\n",
      "Results aggregated in 0.0643 seconds\n",
      "Processing coarse channels 7-14\n"
     ]
    },
    {
     "name": "stderr",
     "output_type": "stream",
     "text": [
      "  2%|▏         | 1/49 [00:20<16:43, 20.90s/it]"
     ]
    },
    {
     "name": "stdout",
     "output_type": "stream",
     "text": [
      "Data loaded in 2.4008 seconds, processing\n",
      "Bandpass cleaned in 3.2125 seconds.\n",
      "Stamps filtered in 14.7102 seconds\n",
      "Saving results\n",
      "Results aggregated in 0.0618 seconds\n",
      "Processing coarse channels 14-21\n"
     ]
    },
    {
     "name": "stderr",
     "output_type": "stream",
     "text": [
      "  4%|▍         | 2/49 [00:41<16:08, 20.60s/it]"
     ]
    },
    {
     "name": "stdout",
     "output_type": "stream",
     "text": [
      "Data loaded in 1.7124 seconds, processing\n",
      "Bandpass cleaned in 3.3029 seconds.\n",
      "Stamps filtered in 15.0833 seconds\n",
      "Saving results\n",
      "Results aggregated in 0.0729 seconds\n",
      "Processing coarse channels 21-28\n"
     ]
    },
    {
     "name": "stderr",
     "output_type": "stream",
     "text": [
      "  6%|▌         | 3/49 [01:01<15:39, 20.41s/it]"
     ]
    },
    {
     "name": "stdout",
     "output_type": "stream",
     "text": [
      "Data loaded in 1.5539 seconds, processing\n",
      "Bandpass cleaned in 3.0997 seconds.\n",
      "Stamps filtered in 14.3688 seconds\n",
      "Saving results\n",
      "Results aggregated in 0.0680 seconds\n",
      "Processing coarse channels 28-35\n"
     ]
    },
    {
     "name": "stderr",
     "output_type": "stream",
     "text": [
      "  8%|▊         | 4/49 [01:20<14:55, 19.90s/it]"
     ]
    },
    {
     "name": "stdout",
     "output_type": "stream",
     "text": [
      "Data loaded in 1.5341 seconds, processing\n",
      "Bandpass cleaned in 3.5246 seconds.\n",
      "Stamps filtered in 15.2109 seconds\n",
      "Saving results\n",
      "Results aggregated in 0.0727 seconds\n",
      "Processing coarse channels 35-42\n"
     ]
    },
    {
     "name": "stderr",
     "output_type": "stream",
     "text": [
      " 10%|█         | 5/49 [01:40<14:42, 20.06s/it]"
     ]
    },
    {
     "name": "stdout",
     "output_type": "stream",
     "text": [
      "Data loaded in 1.5752 seconds, processing\n",
      "Bandpass cleaned in 3.1619 seconds.\n",
      "Stamps filtered in 15.0856 seconds\n",
      "Saving results\n",
      "Results aggregated in 0.0743 seconds\n",
      "Processing coarse channels 42-49\n"
     ]
    },
    {
     "name": "stderr",
     "output_type": "stream",
     "text": [
      " 12%|█▏        | 6/49 [02:00<14:20, 20.01s/it]"
     ]
    },
    {
     "name": "stdout",
     "output_type": "stream",
     "text": [
      "Data loaded in 1.8153 seconds, processing\n",
      "Bandpass cleaned in 3.2226 seconds.\n",
      "Stamps filtered in 15.2021 seconds\n",
      "Saving results\n",
      "Results aggregated in 0.0700 seconds\n",
      "Processing coarse channels 49-56\n"
     ]
    },
    {
     "name": "stderr",
     "output_type": "stream",
     "text": [
      " 14%|█▍        | 7/49 [02:21<14:04, 20.11s/it]"
     ]
    },
    {
     "name": "stdout",
     "output_type": "stream",
     "text": [
      "Data loaded in 1.6332 seconds, processing\n",
      "Bandpass cleaned in 3.1997 seconds.\n",
      "Stamps filtered in 15.5928 seconds\n",
      "Saving results\n",
      "Results aggregated in 0.0718 seconds\n",
      "Processing coarse channels 56-63\n"
     ]
    },
    {
     "name": "stderr",
     "output_type": "stream",
     "text": [
      " 16%|█▋        | 8/49 [02:41<13:49, 20.24s/it]"
     ]
    },
    {
     "name": "stdout",
     "output_type": "stream",
     "text": [
      "Data loaded in 1.7197 seconds, processing\n",
      "Bandpass cleaned in 3.2516 seconds.\n",
      "Stamps filtered in 15.3910 seconds\n",
      "Saving results\n",
      "Results aggregated in 0.0697 seconds\n",
      "Processing coarse channels 63-70\n"
     ]
    },
    {
     "name": "stderr",
     "output_type": "stream",
     "text": [
      " 18%|█▊        | 9/49 [03:02<13:32, 20.30s/it]"
     ]
    },
    {
     "name": "stdout",
     "output_type": "stream",
     "text": [
      "Data loaded in 1.7536 seconds, processing\n",
      "Bandpass cleaned in 3.4508 seconds.\n",
      "Stamps filtered in 15.6842 seconds\n",
      "Saving results\n",
      "Results aggregated in 0.0752 seconds\n",
      "Processing coarse channels 70-77\n"
     ]
    },
    {
     "name": "stderr",
     "output_type": "stream",
     "text": [
      " 20%|██        | 10/49 [03:23<13:19, 20.51s/it]"
     ]
    },
    {
     "name": "stdout",
     "output_type": "stream",
     "text": [
      "Data loaded in 1.6547 seconds, processing\n",
      "Bandpass cleaned in 3.3805 seconds.\n",
      "Stamps filtered in 15.6426 seconds\n",
      "Saving results\n",
      "Results aggregated in 0.0710 seconds\n",
      "Processing coarse channels 77-84\n"
     ]
    },
    {
     "name": "stderr",
     "output_type": "stream",
     "text": [
      " 22%|██▏       | 11/49 [03:43<13:02, 20.59s/it]"
     ]
    },
    {
     "name": "stdout",
     "output_type": "stream",
     "text": [
      "Data loaded in 1.7194 seconds, processing\n",
      "Bandpass cleaned in 3.8293 seconds.\n",
      "Stamps filtered in 15.3649 seconds\n",
      "Saving results\n",
      "Results aggregated in 0.0711 seconds\n",
      "Processing coarse channels 84-91\n"
     ]
    },
    {
     "name": "stderr",
     "output_type": "stream",
     "text": [
      " 24%|██▍       | 12/49 [04:04<12:46, 20.71s/it]"
     ]
    },
    {
     "name": "stdout",
     "output_type": "stream",
     "text": [
      "Data loaded in 1.5729 seconds, processing\n",
      "Bandpass cleaned in 3.5820 seconds.\n",
      "Stamps filtered in 15.4477 seconds\n",
      "Saving results\n",
      "Results aggregated in 0.0716 seconds\n",
      "Processing coarse channels 91-98\n"
     ]
    },
    {
     "name": "stderr",
     "output_type": "stream",
     "text": [
      " 27%|██▋       | 13/49 [04:25<12:25, 20.71s/it]"
     ]
    },
    {
     "name": "stdout",
     "output_type": "stream",
     "text": [
      "Data loaded in 1.9361 seconds, processing\n",
      "Bandpass cleaned in 3.8147 seconds.\n",
      "Stamps filtered in 14.9503 seconds\n",
      "Saving results\n",
      "Results aggregated in 0.0619 seconds\n",
      "Processing coarse channels 98-105\n"
     ]
    },
    {
     "name": "stderr",
     "output_type": "stream",
     "text": [
      " 29%|██▊       | 14/49 [04:46<12:05, 20.73s/it]"
     ]
    },
    {
     "name": "stdout",
     "output_type": "stream",
     "text": [
      "Data loaded in 1.6151 seconds, processing\n",
      "Bandpass cleaned in 3.2712 seconds.\n",
      "Stamps filtered in 15.3699 seconds\n",
      "Saving results\n",
      "Results aggregated in 0.0644 seconds\n",
      "Processing coarse channels 105-112\n"
     ]
    },
    {
     "name": "stderr",
     "output_type": "stream",
     "text": [
      " 31%|███       | 15/49 [05:06<11:40, 20.61s/it]"
     ]
    },
    {
     "name": "stdout",
     "output_type": "stream",
     "text": [
      "Data loaded in 1.5099 seconds, processing\n",
      "Bandpass cleaned in 3.1135 seconds.\n",
      "Stamps filtered in 15.3151 seconds\n",
      "Saving results\n",
      "Results aggregated in 0.0723 seconds\n",
      "Processing coarse channels 112-119\n"
     ]
    },
    {
     "name": "stderr",
     "output_type": "stream",
     "text": [
      " 33%|███▎      | 16/49 [05:26<11:14, 20.43s/it]"
     ]
    },
    {
     "name": "stdout",
     "output_type": "stream",
     "text": [
      "Data loaded in 1.5892 seconds, processing\n",
      "Bandpass cleaned in 3.3012 seconds.\n",
      "Stamps filtered in 15.5649 seconds\n",
      "Saving results\n",
      "Results aggregated in 0.0696 seconds\n",
      "Processing coarse channels 119-126\n"
     ]
    },
    {
     "name": "stderr",
     "output_type": "stream",
     "text": [
      " 35%|███▍      | 17/49 [05:47<10:54, 20.46s/it]"
     ]
    },
    {
     "name": "stdout",
     "output_type": "stream",
     "text": [
      "Data loaded in 1.8538 seconds, processing\n",
      "Bandpass cleaned in 3.2291 seconds.\n",
      "Stamps filtered in 15.0227 seconds\n",
      "Saving results\n",
      "Results aggregated in 0.0749 seconds\n",
      "Processing coarse channels 126-133\n"
     ]
    },
    {
     "name": "stderr",
     "output_type": "stream",
     "text": [
      " 37%|███▋      | 18/49 [06:07<10:31, 20.38s/it]"
     ]
    },
    {
     "name": "stdout",
     "output_type": "stream",
     "text": [
      "Data loaded in 1.7582 seconds, processing\n",
      "Bandpass cleaned in 3.0954 seconds.\n",
      "Stamps filtered in 15.6344 seconds\n",
      "Saving results\n",
      "Results aggregated in 0.0722 seconds\n",
      "Processing coarse channels 133-140\n"
     ]
    },
    {
     "name": "stderr",
     "output_type": "stream",
     "text": [
      " 39%|███▉      | 19/49 [06:27<10:13, 20.44s/it]"
     ]
    },
    {
     "name": "stdout",
     "output_type": "stream",
     "text": [
      "Data loaded in 1.8439 seconds, processing\n",
      "Bandpass cleaned in 3.0314 seconds.\n",
      "Stamps filtered in 15.5219 seconds\n",
      "Saving results\n",
      "Results aggregated in 0.0651 seconds\n",
      "Processing coarse channels 140-147\n"
     ]
    },
    {
     "name": "stderr",
     "output_type": "stream",
     "text": [
      " 41%|████      | 20/49 [06:48<09:52, 20.45s/it]"
     ]
    },
    {
     "name": "stdout",
     "output_type": "stream",
     "text": [
      "Data loaded in 1.6678 seconds, processing\n",
      "Bandpass cleaned in 3.2380 seconds.\n",
      "Stamps filtered in 15.3219 seconds\n",
      "Saving results\n",
      "Results aggregated in 0.0710 seconds\n",
      "Processing coarse channels 147-154\n"
     ]
    },
    {
     "name": "stderr",
     "output_type": "stream",
     "text": [
      " 43%|████▎     | 21/49 [07:08<09:31, 20.41s/it]"
     ]
    },
    {
     "name": "stdout",
     "output_type": "stream",
     "text": [
      "Data loaded in 1.7585 seconds, processing\n",
      "Bandpass cleaned in 3.2454 seconds.\n",
      "Stamps filtered in 15.6889 seconds\n",
      "Saving results\n",
      "Results aggregated in 0.0699 seconds\n",
      "Processing coarse channels 154-161\n"
     ]
    },
    {
     "name": "stderr",
     "output_type": "stream",
     "text": [
      " 45%|████▍     | 22/49 [07:29<09:13, 20.52s/it]"
     ]
    },
    {
     "name": "stdout",
     "output_type": "stream",
     "text": [
      "Data loaded in 1.6512 seconds, processing\n",
      "Bandpass cleaned in 3.7926 seconds.\n",
      "Stamps filtered in 15.1275 seconds\n",
      "Saving results\n",
      "Results aggregated in 0.0703 seconds\n",
      "Processing coarse channels 161-168\n"
     ]
    },
    {
     "name": "stderr",
     "output_type": "stream",
     "text": [
      " 47%|████▋     | 23/49 [07:50<08:54, 20.56s/it]"
     ]
    },
    {
     "name": "stdout",
     "output_type": "stream",
     "text": [
      "Data loaded in 1.5572 seconds, processing\n",
      "Bandpass cleaned in 3.5463 seconds.\n",
      "Stamps filtered in 15.3364 seconds\n",
      "Saving results\n",
      "Results aggregated in 0.1167 seconds\n",
      "Processing coarse channels 168-175\n"
     ]
    },
    {
     "name": "stderr",
     "output_type": "stream",
     "text": [
      " 49%|████▉     | 24/49 [08:10<08:34, 20.56s/it]"
     ]
    },
    {
     "name": "stdout",
     "output_type": "stream",
     "text": [
      "Data loaded in 1.6088 seconds, processing\n",
      "Bandpass cleaned in 3.3276 seconds.\n",
      "Stamps filtered in 15.7720 seconds\n",
      "Saving results\n",
      "Results aggregated in 0.0756 seconds\n",
      "Processing coarse channels 175-182\n"
     ]
    },
    {
     "name": "stderr",
     "output_type": "stream",
     "text": [
      " 51%|█████     | 25/49 [08:31<08:15, 20.63s/it]"
     ]
    },
    {
     "name": "stdout",
     "output_type": "stream",
     "text": [
      "Data loaded in 1.6695 seconds, processing\n",
      "Bandpass cleaned in 3.5470 seconds.\n",
      "Stamps filtered in 14.4138 seconds\n",
      "Saving results\n",
      "Results aggregated in 0.0742 seconds\n",
      "Processing coarse channels 182-189\n"
     ]
    },
    {
     "name": "stderr",
     "output_type": "stream",
     "text": [
      " 53%|█████▎    | 26/49 [08:51<07:48, 20.36s/it]"
     ]
    },
    {
     "name": "stdout",
     "output_type": "stream",
     "text": [
      "Data loaded in 1.5439 seconds, processing\n",
      "Bandpass cleaned in 3.4288 seconds.\n",
      "Stamps filtered in 15.4521 seconds\n",
      "Saving results\n",
      "Results aggregated in 0.0823 seconds\n",
      "Processing coarse channels 189-196\n"
     ]
    },
    {
     "name": "stderr",
     "output_type": "stream",
     "text": [
      " 55%|█████▌    | 27/49 [09:11<07:28, 20.40s/it]"
     ]
    },
    {
     "name": "stdout",
     "output_type": "stream",
     "text": [
      "Data loaded in 1.6246 seconds, processing\n",
      "Bandpass cleaned in 3.8522 seconds.\n",
      "Stamps filtered in 15.3907 seconds\n",
      "Saving results\n",
      "Results aggregated in 0.1085 seconds\n",
      "Processing coarse channels 196-203\n"
     ]
    },
    {
     "name": "stderr",
     "output_type": "stream",
     "text": [
      " 57%|█████▋    | 28/49 [09:32<07:12, 20.58s/it]"
     ]
    },
    {
     "name": "stdout",
     "output_type": "stream",
     "text": [
      "Data loaded in 1.6037 seconds, processing\n",
      "Bandpass cleaned in 3.5959 seconds.\n",
      "Stamps filtered in 15.4762 seconds\n",
      "Saving results\n",
      "Results aggregated in 0.0793 seconds\n",
      "Processing coarse channels 203-210\n"
     ]
    },
    {
     "name": "stderr",
     "output_type": "stream",
     "text": [
      " 59%|█████▉    | 29/49 [09:53<06:52, 20.64s/it]"
     ]
    },
    {
     "name": "stdout",
     "output_type": "stream",
     "text": [
      "Data loaded in 1.6813 seconds, processing\n",
      "Bandpass cleaned in 3.6814 seconds.\n",
      "Stamps filtered in 15.4729 seconds\n",
      "Saving results\n"
     ]
    },
    {
     "name": "stderr",
     "output_type": "stream",
     "text": [
      " 61%|██████    | 30/49 [10:15<06:38, 21.00s/it]"
     ]
    },
    {
     "name": "stdout",
     "output_type": "stream",
     "text": [
      "Results aggregated in 0.9856 seconds\n",
      "Processing coarse channels 210-217\n",
      "Data loaded in 1.7372 seconds, processing\n",
      "Bandpass cleaned in 3.3388 seconds.\n",
      "Stamps filtered in 15.5342 seconds\n",
      "Saving results\n",
      "Results aggregated in 0.1365 seconds\n",
      "Processing coarse channels 217-224\n"
     ]
    },
    {
     "name": "stderr",
     "output_type": "stream",
     "text": [
      " 63%|██████▎   | 31/49 [10:36<06:16, 20.92s/it]"
     ]
    },
    {
     "name": "stdout",
     "output_type": "stream",
     "text": [
      "Data loaded in 1.6808 seconds, processing\n",
      "Bandpass cleaned in 3.6802 seconds.\n",
      "Stamps filtered in 15.0777 seconds\n",
      "Saving results\n",
      "Results aggregated in 0.0862 seconds\n",
      "Processing coarse channels 224-231\n"
     ]
    },
    {
     "name": "stderr",
     "output_type": "stream",
     "text": [
      " 65%|██████▌   | 32/49 [10:56<05:53, 20.81s/it]"
     ]
    },
    {
     "name": "stdout",
     "output_type": "stream",
     "text": [
      "Data loaded in 1.6717 seconds, processing\n",
      "Bandpass cleaned in 3.5035 seconds.\n",
      "Stamps filtered in 15.0757 seconds\n",
      "Saving results\n",
      "Results aggregated in 0.0781 seconds\n",
      "Processing coarse channels 231-238\n"
     ]
    },
    {
     "name": "stderr",
     "output_type": "stream",
     "text": [
      " 67%|██████▋   | 33/49 [11:17<05:30, 20.67s/it]"
     ]
    },
    {
     "name": "stdout",
     "output_type": "stream",
     "text": [
      "Data loaded in 1.7565 seconds, processing\n",
      "Bandpass cleaned in 3.3505 seconds.\n",
      "Stamps filtered in 15.6319 seconds\n",
      "Saving results\n",
      "Results aggregated in 0.0914 seconds\n",
      "Processing coarse channels 238-245\n"
     ]
    },
    {
     "name": "stderr",
     "output_type": "stream",
     "text": [
      " 69%|██████▉   | 34/49 [11:37<05:10, 20.72s/it]"
     ]
    },
    {
     "name": "stdout",
     "output_type": "stream",
     "text": [
      "Data loaded in 1.9136 seconds, processing\n",
      "Bandpass cleaned in 3.6164 seconds.\n",
      "Stamps filtered in 15.2826 seconds\n",
      "Saving results\n",
      "Results aggregated in 0.0733 seconds\n",
      "Processing coarse channels 245-252\n"
     ]
    },
    {
     "name": "stderr",
     "output_type": "stream",
     "text": [
      " 71%|███████▏  | 35/49 [11:58<04:50, 20.77s/it]"
     ]
    },
    {
     "name": "stdout",
     "output_type": "stream",
     "text": [
      "Data loaded in 1.6384 seconds, processing\n",
      "Bandpass cleaned in 3.4159 seconds.\n",
      "Stamps filtered in 15.2594 seconds\n",
      "Saving results\n",
      "Results aggregated in 0.0849 seconds\n",
      "Processing coarse channels 252-259\n"
     ]
    },
    {
     "name": "stderr",
     "output_type": "stream",
     "text": [
      " 73%|███████▎  | 36/49 [12:19<04:28, 20.66s/it]"
     ]
    },
    {
     "name": "stdout",
     "output_type": "stream",
     "text": [
      "Data loaded in 2.2521 seconds, processing\n",
      "Bandpass cleaned in 3.3765 seconds.\n",
      "Stamps filtered in 15.0336 seconds\n",
      "Saving results\n",
      "Results aggregated in 0.0798 seconds\n",
      "Processing coarse channels 259-266\n"
     ]
    },
    {
     "name": "stderr",
     "output_type": "stream",
     "text": [
      " 76%|███████▌  | 37/49 [12:39<04:08, 20.69s/it]"
     ]
    },
    {
     "name": "stdout",
     "output_type": "stream",
     "text": [
      "Data loaded in 1.8540 seconds, processing\n",
      "Bandpass cleaned in 3.2936 seconds.\n",
      "Stamps filtered in 15.6067 seconds\n",
      "Saving results\n",
      "Results aggregated in 0.0833 seconds\n",
      "Processing coarse channels 266-273\n"
     ]
    },
    {
     "name": "stderr",
     "output_type": "stream",
     "text": [
      " 78%|███████▊  | 38/49 [13:00<03:48, 20.74s/it]"
     ]
    },
    {
     "name": "stdout",
     "output_type": "stream",
     "text": [
      "Data loaded in 2.0403 seconds, processing\n",
      "Bandpass cleaned in 3.7487 seconds.\n",
      "Stamps filtered in 15.3592 seconds\n",
      "Saving results\n",
      "Results aggregated in 0.0830 seconds\n",
      "Processing coarse channels 273-280\n"
     ]
    },
    {
     "name": "stderr",
     "output_type": "stream",
     "text": [
      " 80%|███████▉  | 39/49 [13:22<03:28, 20.89s/it]"
     ]
    },
    {
     "name": "stdout",
     "output_type": "stream",
     "text": [
      "Data loaded in 1.7765 seconds, processing\n",
      "Bandpass cleaned in 3.5629 seconds.\n",
      "Stamps filtered in 15.2403 seconds\n",
      "Saving results\n"
     ]
    },
    {
     "name": "stderr",
     "output_type": "stream",
     "text": [
      " 82%|████████▏ | 40/49 [13:43<03:08, 20.94s/it]"
     ]
    },
    {
     "name": "stdout",
     "output_type": "stream",
     "text": [
      "Results aggregated in 0.4725 seconds\n",
      "Processing coarse channels 280-287\n",
      "Data loaded in 1.8288 seconds, processing\n",
      "Bandpass cleaned in 3.9732 seconds.\n",
      "Stamps filtered in 15.6156 seconds\n",
      "Saving results\n"
     ]
    },
    {
     "name": "stderr",
     "output_type": "stream",
     "text": [
      " 84%|████████▎ | 41/49 [14:05<02:50, 21.26s/it]"
     ]
    },
    {
     "name": "stdout",
     "output_type": "stream",
     "text": [
      "Results aggregated in 0.5573 seconds\n",
      "Processing coarse channels 287-294\n",
      "Data loaded in 1.7597 seconds, processing\n",
      "Bandpass cleaned in 3.8551 seconds.\n",
      "Stamps filtered in 15.5444 seconds\n",
      "Saving results\n"
     ]
    },
    {
     "name": "stderr",
     "output_type": "stream",
     "text": [
      " 86%|████████▌ | 42/49 [14:27<02:31, 21.71s/it]"
     ]
    },
    {
     "name": "stdout",
     "output_type": "stream",
     "text": [
      "Results aggregated in 1.5794 seconds\n",
      "Processing coarse channels 294-301\n",
      "Data loaded in 1.8479 seconds, processing\n",
      "Bandpass cleaned in 4.0125 seconds.\n",
      "Stamps filtered in 15.6558 seconds\n",
      "Saving results\n"
     ]
    },
    {
     "name": "stderr",
     "output_type": "stream",
     "text": [
      " 88%|████████▊ | 43/49 [14:50<02:12, 22.11s/it]"
     ]
    },
    {
     "name": "stdout",
     "output_type": "stream",
     "text": [
      "Results aggregated in 1.5088 seconds\n",
      "Processing coarse channels 301-308\n",
      "Data loaded in 1.7610 seconds, processing\n",
      "Bandpass cleaned in 3.7252 seconds.\n",
      "Stamps filtered in 15.5321 seconds\n",
      "Saving results\n"
     ]
    },
    {
     "name": "stderr",
     "output_type": "stream",
     "text": [
      " 90%|████████▉ | 44/49 [15:12<01:49, 21.86s/it]"
     ]
    },
    {
     "name": "stdout",
     "output_type": "stream",
     "text": [
      "Results aggregated in 0.2495 seconds\n",
      "Processing coarse channels 308-315\n",
      "Data loaded in 1.6847 seconds, processing\n",
      "Bandpass cleaned in 3.4342 seconds.\n",
      "Stamps filtered in 15.5148 seconds\n",
      "Saving results\n",
      "Results aggregated in 0.1068 seconds\n",
      "Processing coarse channels 315-322\n"
     ]
    },
    {
     "name": "stderr",
     "output_type": "stream",
     "text": [
      " 92%|█████████▏| 45/49 [15:32<01:26, 21.53s/it]"
     ]
    },
    {
     "name": "stdout",
     "output_type": "stream",
     "text": [
      "Data loaded in 1.6342 seconds, processing\n",
      "Bandpass cleaned in 3.3239 seconds.\n",
      "Stamps filtered in 15.1991 seconds\n",
      "Saving results\n",
      "Results aggregated in 0.1014 seconds\n",
      "Processing coarse channels 322-329\n"
     ]
    },
    {
     "name": "stderr",
     "output_type": "stream",
     "text": [
      " 94%|█████████▍| 46/49 [15:53<01:03, 21.15s/it]"
     ]
    },
    {
     "name": "stdout",
     "output_type": "stream",
     "text": [
      "Data loaded in 1.8557 seconds, processing\n",
      "Bandpass cleaned in 3.8384 seconds.\n",
      "Stamps filtered in 15.5163 seconds\n",
      "Saving results\n",
      "Results aggregated in 0.1016 seconds\n",
      "Processing coarse channels 329-336\n"
     ]
    },
    {
     "name": "stderr",
     "output_type": "stream",
     "text": [
      " 96%|█████████▌| 47/49 [16:14<00:42, 21.20s/it]"
     ]
    },
    {
     "name": "stdout",
     "output_type": "stream",
     "text": [
      "Data loaded in 1.8532 seconds, processing\n",
      "Bandpass cleaned in 3.3005 seconds.\n",
      "Stamps filtered in 15.2802 seconds\n",
      "Saving results\n",
      "Results aggregated in 0.1093 seconds\n",
      "Processing coarse channels 336-343\n"
     ]
    },
    {
     "name": "stderr",
     "output_type": "stream",
     "text": [
      " 98%|█████████▊| 48/49 [16:35<00:21, 21.01s/it]"
     ]
    },
    {
     "name": "stdout",
     "output_type": "stream",
     "text": [
      "Data loaded in 1.7616 seconds, processing\n",
      "Bandpass cleaned in 3.3109 seconds.\n",
      "Stamps filtered in 15.5283 seconds\n",
      "Saving results\n"
     ]
    },
    {
     "name": "stderr",
     "output_type": "stream",
     "text": [
      "100%|██████████| 49/49 [16:55<00:00, 20.73s/it]\n"
     ]
    },
    {
     "name": "stdout",
     "output_type": "stream",
     "text": [
      "Results aggregated in 0.1016 seconds\n",
      "      level_0      index     statistic  pvalue        freqs\n",
      "9691     9691  219906048  11949.246882     0.0  2188.421631\n",
      "9621     9621  219897088  11439.061379     0.0  2188.446665\n",
      "9610     9610  219895680  10996.669578     0.0  2188.450599\n",
      "9663     9663  219902464  10792.838295     0.0  2188.431644\n",
      "343 343\n",
      "Finished Energy Detection on GBT_57907_35397_HIP87579_fine.h5 in 1019.8960 seconds\n",
      "/mnt_blpd7/datax/dl/GBT_57907_35736_HIP87225_fine.h5\n",
      "Header saved to ../../../../../../datax/scratch/pma/reverse_search/test/HIP87579-1008/GBT_57907_35736_HIP87225_fine/header.pkl\n",
      "Processing 7 in parallel\n",
      "Processing coarse channels 0-7\n"
     ]
    },
    {
     "name": "stderr",
     "output_type": "stream",
     "text": [
      "  0%|          | 0/49 [00:00<?, ?it/s]"
     ]
    },
    {
     "name": "stdout",
     "output_type": "stream",
     "text": [
      "Data loaded in 3.3977 seconds, processing\n",
      "Bandpass cleaned in 3.2414 seconds.\n",
      "Stamps filtered in 15.3431 seconds\n",
      "Saving results\n",
      "Results aggregated in 0.0616 seconds\n",
      "Processing coarse channels 7-14\n"
     ]
    },
    {
     "name": "stderr",
     "output_type": "stream",
     "text": [
      "  2%|▏         | 1/49 [00:22<17:38, 22.05s/it]"
     ]
    },
    {
     "name": "stdout",
     "output_type": "stream",
     "text": [
      "Data loaded in 1.9059 seconds, processing\n",
      "Bandpass cleaned in 3.5377 seconds.\n",
      "Stamps filtered in 15.1336 seconds\n",
      "Saving results\n",
      "Results aggregated in 0.0688 seconds\n",
      "Processing coarse channels 14-21\n"
     ]
    },
    {
     "name": "stderr",
     "output_type": "stream",
     "text": [
      "  4%|▍         | 2/49 [00:42<16:38, 21.23s/it]"
     ]
    },
    {
     "name": "stdout",
     "output_type": "stream",
     "text": [
      "Data loaded in 1.6951 seconds, processing\n",
      "Bandpass cleaned in 3.4611 seconds.\n",
      "Stamps filtered in 15.0862 seconds\n",
      "Saving results\n",
      "Results aggregated in 0.0668 seconds\n",
      "Processing coarse channels 21-28\n"
     ]
    },
    {
     "name": "stderr",
     "output_type": "stream",
     "text": [
      "  6%|▌         | 3/49 [01:03<15:57, 20.82s/it]"
     ]
    },
    {
     "name": "stdout",
     "output_type": "stream",
     "text": [
      "Data loaded in 1.7479 seconds, processing\n",
      "Bandpass cleaned in 3.1934 seconds.\n",
      "Stamps filtered in 14.3423 seconds\n",
      "Saving results\n",
      "Results aggregated in 0.0657 seconds\n",
      "Processing coarse channels 28-35\n"
     ]
    },
    {
     "name": "stderr",
     "output_type": "stream",
     "text": [
      "  8%|▊         | 4/49 [01:22<15:10, 20.24s/it]"
     ]
    },
    {
     "name": "stdout",
     "output_type": "stream",
     "text": [
      "Data loaded in 1.6454 seconds, processing\n",
      "Bandpass cleaned in 3.1513 seconds.\n",
      "Stamps filtered in 14.6687 seconds\n",
      "Saving results\n",
      "Results aggregated in 0.0689 seconds\n",
      "Processing coarse channels 35-42\n"
     ]
    },
    {
     "name": "stderr",
     "output_type": "stream",
     "text": [
      " 10%|█         | 5/49 [01:41<14:39, 19.99s/it]"
     ]
    },
    {
     "name": "stdout",
     "output_type": "stream",
     "text": [
      "Data loaded in 1.7731 seconds, processing\n",
      "Bandpass cleaned in 3.2453 seconds.\n",
      "Stamps filtered in 14.3411 seconds\n",
      "Saving results\n",
      "Results aggregated in 0.0739 seconds\n",
      "Processing coarse channels 42-49\n"
     ]
    },
    {
     "name": "stderr",
     "output_type": "stream",
     "text": [
      " 12%|█▏        | 6/49 [02:01<14:11, 19.80s/it]"
     ]
    },
    {
     "name": "stdout",
     "output_type": "stream",
     "text": [
      "Data loaded in 1.6133 seconds, processing\n",
      "Bandpass cleaned in 3.2130 seconds.\n",
      "Stamps filtered in 15.1476 seconds\n",
      "Saving results\n",
      "Results aggregated in 0.0727 seconds\n",
      "Processing coarse channels 49-56\n"
     ]
    },
    {
     "name": "stderr",
     "output_type": "stream",
     "text": [
      " 14%|█▍        | 7/49 [02:21<13:55, 19.89s/it]"
     ]
    },
    {
     "name": "stdout",
     "output_type": "stream",
     "text": [
      "Data loaded in 1.5649 seconds, processing\n",
      "Bandpass cleaned in 3.5443 seconds.\n",
      "Stamps filtered in 14.7865 seconds\n",
      "Saving results\n",
      "Results aggregated in 0.0745 seconds\n",
      "Processing coarse channels 56-63\n"
     ]
    },
    {
     "name": "stderr",
     "output_type": "stream",
     "text": [
      " 16%|█▋        | 8/49 [02:41<13:36, 19.92s/it]"
     ]
    },
    {
     "name": "stdout",
     "output_type": "stream",
     "text": [
      "Data loaded in 1.5767 seconds, processing\n",
      "Bandpass cleaned in 3.2574 seconds.\n",
      "Stamps filtered in 14.5465 seconds\n",
      "Saving results\n",
      "Results aggregated in 0.0639 seconds\n",
      "Processing coarse channels 63-70\n"
     ]
    },
    {
     "name": "stderr",
     "output_type": "stream",
     "text": [
      " 18%|█▊        | 9/49 [03:00<13:10, 19.77s/it]"
     ]
    },
    {
     "name": "stdout",
     "output_type": "stream",
     "text": [
      "Data loaded in 1.5417 seconds, processing\n",
      "Bandpass cleaned in 3.2711 seconds.\n",
      "Stamps filtered in 14.8938 seconds\n",
      "Saving results\n",
      "Results aggregated in 0.0660 seconds\n",
      "Processing coarse channels 70-77\n"
     ]
    },
    {
     "name": "stderr",
     "output_type": "stream",
     "text": [
      " 20%|██        | 10/49 [03:20<12:51, 19.78s/it]"
     ]
    },
    {
     "name": "stdout",
     "output_type": "stream",
     "text": [
      "Data loaded in 1.6703 seconds, processing\n",
      "Bandpass cleaned in 3.2843 seconds.\n",
      "Stamps filtered in 14.2730 seconds\n",
      "Saving results\n",
      "Results aggregated in 0.0744 seconds\n",
      "Processing coarse channels 77-84\n"
     ]
    },
    {
     "name": "stderr",
     "output_type": "stream",
     "text": [
      " 22%|██▏       | 11/49 [03:39<12:26, 19.64s/it]"
     ]
    },
    {
     "name": "stdout",
     "output_type": "stream",
     "text": [
      "Data loaded in 1.9165 seconds, processing\n",
      "Bandpass cleaned in 3.3980 seconds.\n",
      "Stamps filtered in 15.3558 seconds\n",
      "Saving results\n",
      "Results aggregated in 0.0669 seconds\n",
      "Processing coarse channels 84-91\n"
     ]
    },
    {
     "name": "stderr",
     "output_type": "stream",
     "text": [
      " 24%|██▍       | 12/49 [04:00<12:19, 19.97s/it]"
     ]
    },
    {
     "name": "stdout",
     "output_type": "stream",
     "text": [
      "Data loaded in 1.6677 seconds, processing\n",
      "Bandpass cleaned in 3.0490 seconds.\n",
      "Stamps filtered in 15.3699 seconds\n",
      "Saving results\n",
      "Results aggregated in 0.0695 seconds\n",
      "Processing coarse channels 91-98\n"
     ]
    },
    {
     "name": "stderr",
     "output_type": "stream",
     "text": [
      " 27%|██▋       | 13/49 [04:20<12:01, 20.03s/it]"
     ]
    },
    {
     "name": "stdout",
     "output_type": "stream",
     "text": [
      "Data loaded in 1.5865 seconds, processing\n",
      "Bandpass cleaned in 3.5591 seconds.\n",
      "Stamps filtered in 15.4315 seconds\n",
      "Saving results\n",
      "Results aggregated in 0.0685 seconds\n",
      "Processing coarse channels 98-105\n"
     ]
    },
    {
     "name": "stderr",
     "output_type": "stream",
     "text": [
      " 29%|██▊       | 14/49 [04:41<11:47, 20.22s/it]"
     ]
    },
    {
     "name": "stdout",
     "output_type": "stream",
     "text": [
      "Data loaded in 1.4799 seconds, processing\n",
      "Bandpass cleaned in 3.4170 seconds.\n",
      "Stamps filtered in 15.3129 seconds\n",
      "Saving results\n"
     ]
    },
    {
     "name": "stderr",
     "output_type": "stream",
     "text": [
      " 31%|███       | 15/49 [05:02<11:31, 20.35s/it]"
     ]
    },
    {
     "name": "stdout",
     "output_type": "stream",
     "text": [
      "Results aggregated in 0.4139 seconds\n",
      "Processing coarse channels 105-112\n",
      "Data loaded in 1.6092 seconds, processing\n",
      "Bandpass cleaned in 3.9157 seconds.\n",
      "Stamps filtered in 15.3446 seconds\n",
      "Saving results\n"
     ]
    },
    {
     "name": "stderr",
     "output_type": "stream",
     "text": [
      " 33%|███▎      | 16/49 [05:24<11:35, 21.06s/it]"
     ]
    },
    {
     "name": "stdout",
     "output_type": "stream",
     "text": [
      "Results aggregated in 1.8296 seconds\n",
      "Processing coarse channels 112-119\n",
      "Data loaded in 1.7387 seconds, processing\n",
      "Bandpass cleaned in 3.7719 seconds.\n",
      "Stamps filtered in 14.7582 seconds\n",
      "Saving results\n",
      "Results aggregated in 0.1736 seconds\n",
      "Processing coarse channels 119-126\n"
     ]
    },
    {
     "name": "stderr",
     "output_type": "stream",
     "text": [
      " 35%|███▍      | 17/49 [05:45<11:08, 20.88s/it]"
     ]
    },
    {
     "name": "stdout",
     "output_type": "stream",
     "text": [
      "Data loaded in 1.6003 seconds, processing\n",
      "Bandpass cleaned in 3.3169 seconds.\n",
      "Stamps filtered in 14.9906 seconds\n",
      "Saving results\n",
      "Results aggregated in 0.0742 seconds\n",
      "Processing coarse channels 126-133\n"
     ]
    },
    {
     "name": "stderr",
     "output_type": "stream",
     "text": [
      " 37%|███▋      | 18/49 [06:05<10:39, 20.61s/it]"
     ]
    },
    {
     "name": "stdout",
     "output_type": "stream",
     "text": [
      "Data loaded in 1.7756 seconds, processing\n",
      "Bandpass cleaned in 3.0829 seconds.\n",
      "Stamps filtered in 15.2307 seconds\n",
      "Saving results\n",
      "Results aggregated in 0.0928 seconds\n",
      "Processing coarse channels 133-140\n"
     ]
    },
    {
     "name": "stderr",
     "output_type": "stream",
     "text": [
      " 39%|███▉      | 19/49 [06:25<10:14, 20.49s/it]"
     ]
    },
    {
     "name": "stdout",
     "output_type": "stream",
     "text": [
      "Data loaded in 1.5170 seconds, processing\n",
      "Bandpass cleaned in 3.2484 seconds.\n",
      "Stamps filtered in 15.3257 seconds\n",
      "Saving results\n",
      "Results aggregated in 0.0795 seconds\n",
      "Processing coarse channels 140-147\n"
     ]
    },
    {
     "name": "stderr",
     "output_type": "stream",
     "text": [
      " 41%|████      | 20/49 [06:45<09:51, 20.40s/it]"
     ]
    },
    {
     "name": "stdout",
     "output_type": "stream",
     "text": [
      "Data loaded in 1.7291 seconds, processing\n",
      "Bandpass cleaned in 3.4209 seconds.\n",
      "Stamps filtered in 15.3130 seconds\n",
      "Saving results\n",
      "Results aggregated in 0.0727 seconds\n",
      "Processing coarse channels 147-154\n"
     ]
    },
    {
     "name": "stderr",
     "output_type": "stream",
     "text": [
      " 43%|████▎     | 21/49 [07:06<09:32, 20.44s/it]"
     ]
    },
    {
     "name": "stdout",
     "output_type": "stream",
     "text": [
      "Data loaded in 1.7711 seconds, processing\n",
      "Bandpass cleaned in 3.1203 seconds.\n",
      "Stamps filtered in 15.2708 seconds\n",
      "Saving results\n",
      "Results aggregated in 0.0784 seconds\n",
      "Processing coarse channels 154-161\n"
     ]
    },
    {
     "name": "stderr",
     "output_type": "stream",
     "text": [
      " 45%|████▍     | 22/49 [07:26<09:10, 20.39s/it]"
     ]
    },
    {
     "name": "stdout",
     "output_type": "stream",
     "text": [
      "Data loaded in 1.6679 seconds, processing\n",
      "Bandpass cleaned in 3.1454 seconds.\n",
      "Stamps filtered in 14.7714 seconds\n",
      "Saving results\n",
      "Results aggregated in 0.0789 seconds\n",
      "Processing coarse channels 161-168\n"
     ]
    },
    {
     "name": "stderr",
     "output_type": "stream",
     "text": [
      " 47%|████▋     | 23/49 [07:46<08:44, 20.17s/it]"
     ]
    },
    {
     "name": "stdout",
     "output_type": "stream",
     "text": [
      "Data loaded in 1.6664 seconds, processing\n",
      "Bandpass cleaned in 3.2019 seconds.\n",
      "Stamps filtered in 15.4062 seconds\n",
      "Saving results\n",
      "Results aggregated in 0.1446 seconds\n",
      "Processing coarse channels 168-175\n"
     ]
    },
    {
     "name": "stderr",
     "output_type": "stream",
     "text": [
      " 49%|████▉     | 24/49 [08:06<08:26, 20.25s/it]"
     ]
    },
    {
     "name": "stdout",
     "output_type": "stream",
     "text": [
      "Data loaded in 1.8034 seconds, processing\n",
      "Bandpass cleaned in 3.0600 seconds.\n",
      "Stamps filtered in 14.7010 seconds\n",
      "Saving results\n",
      "Results aggregated in 0.0828 seconds\n",
      "Processing coarse channels 175-182\n"
     ]
    },
    {
     "name": "stderr",
     "output_type": "stream",
     "text": [
      " 51%|█████     | 25/49 [08:26<08:01, 20.07s/it]"
     ]
    },
    {
     "name": "stdout",
     "output_type": "stream",
     "text": [
      "Data loaded in 1.6941 seconds, processing\n",
      "Bandpass cleaned in 3.0864 seconds.\n",
      "Stamps filtered in 15.1690 seconds\n",
      "Saving results\n",
      "Results aggregated in 0.0847 seconds\n",
      "Processing coarse channels 182-189\n"
     ]
    },
    {
     "name": "stderr",
     "output_type": "stream",
     "text": [
      " 53%|█████▎    | 26/49 [08:46<07:41, 20.06s/it]"
     ]
    },
    {
     "name": "stdout",
     "output_type": "stream",
     "text": [
      "Data loaded in 1.5817 seconds, processing\n",
      "Bandpass cleaned in 3.1993 seconds.\n",
      "Stamps filtered in 15.4300 seconds\n",
      "Saving results\n",
      "Results aggregated in 0.0859 seconds\n",
      "Processing coarse channels 189-196\n"
     ]
    },
    {
     "name": "stderr",
     "output_type": "stream",
     "text": [
      " 55%|█████▌    | 27/49 [09:06<07:23, 20.14s/it]"
     ]
    },
    {
     "name": "stdout",
     "output_type": "stream",
     "text": [
      "Data loaded in 1.6922 seconds, processing\n",
      "Bandpass cleaned in 3.0905 seconds.\n",
      "Stamps filtered in 15.4567 seconds\n",
      "Saving results\n",
      "Results aggregated in 0.0912 seconds\n",
      "Processing coarse channels 196-203\n"
     ]
    },
    {
     "name": "stderr",
     "output_type": "stream",
     "text": [
      " 57%|█████▋    | 28/49 [09:27<07:04, 20.20s/it]"
     ]
    },
    {
     "name": "stdout",
     "output_type": "stream",
     "text": [
      "Data loaded in 1.5581 seconds, processing\n",
      "Bandpass cleaned in 3.3387 seconds.\n",
      "Stamps filtered in 14.7653 seconds\n",
      "Saving results\n",
      "Results aggregated in 0.0836 seconds\n",
      "Processing coarse channels 203-210\n"
     ]
    },
    {
     "name": "stderr",
     "output_type": "stream",
     "text": [
      " 59%|█████▉    | 29/49 [09:46<06:41, 20.06s/it]"
     ]
    },
    {
     "name": "stdout",
     "output_type": "stream",
     "text": [
      "Data loaded in 1.8430 seconds, processing\n",
      "Bandpass cleaned in 3.1457 seconds.\n",
      "Stamps filtered in 15.6517 seconds\n",
      "Saving results\n"
     ]
    },
    {
     "name": "stderr",
     "output_type": "stream",
     "text": [
      " 61%|██████    | 30/49 [10:08<06:30, 20.58s/it]"
     ]
    },
    {
     "name": "stdout",
     "output_type": "stream",
     "text": [
      "Results aggregated in 1.1050 seconds\n",
      "Processing coarse channels 210-217\n",
      "Data loaded in 1.8499 seconds, processing\n",
      "Bandpass cleaned in 4.8113 seconds.\n",
      "Stamps filtered in 15.4767 seconds\n",
      "Saving results\n",
      "Results aggregated in 0.1577 seconds\n",
      "Processing coarse channels 217-224\n"
     ]
    },
    {
     "name": "stderr",
     "output_type": "stream",
     "text": [
      " 63%|██████▎   | 31/49 [10:30<06:19, 21.10s/it]"
     ]
    },
    {
     "name": "stdout",
     "output_type": "stream",
     "text": [
      "Data loaded in 1.6389 seconds, processing\n",
      "Bandpass cleaned in 3.2740 seconds.\n",
      "Stamps filtered in 15.1713 seconds\n",
      "Saving results\n",
      "Results aggregated in 0.0888 seconds\n",
      "Processing coarse channels 224-231\n"
     ]
    },
    {
     "name": "stderr",
     "output_type": "stream",
     "text": [
      " 65%|██████▌   | 32/49 [10:51<05:53, 20.82s/it]"
     ]
    },
    {
     "name": "stdout",
     "output_type": "stream",
     "text": [
      "Data loaded in 2.0033 seconds, processing\n",
      "Bandpass cleaned in 3.6484 seconds.\n",
      "Stamps filtered in 15.4959 seconds\n",
      "Saving results\n",
      "Results aggregated in 0.0813 seconds\n",
      "Processing coarse channels 231-238\n"
     ]
    },
    {
     "name": "stderr",
     "output_type": "stream",
     "text": [
      " 67%|██████▋   | 33/49 [11:12<05:35, 20.95s/it]"
     ]
    },
    {
     "name": "stdout",
     "output_type": "stream",
     "text": [
      "Data loaded in 1.8186 seconds, processing\n",
      "Bandpass cleaned in 3.1620 seconds.\n",
      "Stamps filtered in 15.5213 seconds\n",
      "Saving results\n",
      "Results aggregated in 0.0945 seconds\n",
      "Processing coarse channels 238-245\n"
     ]
    },
    {
     "name": "stderr",
     "output_type": "stream",
     "text": [
      " 69%|██████▉   | 34/49 [11:32<05:12, 20.84s/it]"
     ]
    },
    {
     "name": "stdout",
     "output_type": "stream",
     "text": [
      "Data loaded in 1.9022 seconds, processing\n",
      "Bandpass cleaned in 3.2718 seconds.\n",
      "Stamps filtered in 15.1746 seconds\n",
      "Saving results\n",
      "Results aggregated in 0.0858 seconds\n",
      "Processing coarse channels 245-252\n"
     ]
    },
    {
     "name": "stderr",
     "output_type": "stream",
     "text": [
      " 71%|███████▏  | 35/49 [11:53<04:50, 20.73s/it]"
     ]
    },
    {
     "name": "stdout",
     "output_type": "stream",
     "text": [
      "Data loaded in 1.9785 seconds, processing\n",
      "Bandpass cleaned in 3.0692 seconds.\n",
      "Stamps filtered in 15.5897 seconds\n",
      "Saving results\n",
      "Results aggregated in 0.0787 seconds\n",
      "Processing coarse channels 252-259\n"
     ]
    },
    {
     "name": "stderr",
     "output_type": "stream",
     "text": [
      " 73%|███████▎  | 36/49 [12:14<04:29, 20.73s/it]"
     ]
    },
    {
     "name": "stdout",
     "output_type": "stream",
     "text": [
      "Data loaded in 1.8525 seconds, processing\n",
      "Bandpass cleaned in 3.2802 seconds.\n",
      "Stamps filtered in 15.0761 seconds\n",
      "Saving results\n",
      "Results aggregated in 0.0911 seconds\n",
      "Processing coarse channels 259-266\n"
     ]
    },
    {
     "name": "stderr",
     "output_type": "stream",
     "text": [
      " 76%|███████▌  | 37/49 [12:34<04:07, 20.60s/it]"
     ]
    },
    {
     "name": "stdout",
     "output_type": "stream",
     "text": [
      "Data loaded in 1.9427 seconds, processing\n",
      "Bandpass cleaned in 3.3281 seconds.\n",
      "Stamps filtered in 15.1618 seconds\n",
      "Saving results\n",
      "Results aggregated in 0.0861 seconds\n",
      "Processing coarse channels 266-273\n"
     ]
    },
    {
     "name": "stderr",
     "output_type": "stream",
     "text": [
      " 78%|███████▊  | 38/49 [12:54<03:46, 20.58s/it]"
     ]
    },
    {
     "name": "stdout",
     "output_type": "stream",
     "text": [
      "Data loaded in 1.5901 seconds, processing\n",
      "Bandpass cleaned in 3.5190 seconds.\n",
      "Stamps filtered in 15.4353 seconds\n",
      "Saving results\n",
      "Results aggregated in 0.0798 seconds\n",
      "Processing coarse channels 273-280\n"
     ]
    },
    {
     "name": "stderr",
     "output_type": "stream",
     "text": [
      " 80%|███████▉  | 39/49 [13:15<03:25, 20.60s/it]"
     ]
    },
    {
     "name": "stdout",
     "output_type": "stream",
     "text": [
      "Data loaded in 1.7496 seconds, processing\n",
      "Bandpass cleaned in 3.5141 seconds.\n",
      "Stamps filtered in 14.9944 seconds\n",
      "Saving results\n"
     ]
    },
    {
     "name": "stderr",
     "output_type": "stream",
     "text": [
      " 82%|████████▏ | 40/49 [13:36<03:06, 20.75s/it]"
     ]
    },
    {
     "name": "stdout",
     "output_type": "stream",
     "text": [
      "Results aggregated in 0.8226 seconds\n",
      "Processing coarse channels 280-287\n",
      "Data loaded in 1.7534 seconds, processing\n",
      "Bandpass cleaned in 3.3207 seconds.\n",
      "Stamps filtered in 15.3875 seconds\n",
      "Saving results\n"
     ]
    },
    {
     "name": "stderr",
     "output_type": "stream",
     "text": [
      " 84%|████████▎ | 41/49 [13:57<02:46, 20.86s/it]"
     ]
    },
    {
     "name": "stdout",
     "output_type": "stream",
     "text": [
      "Results aggregated in 0.6526 seconds\n",
      "Processing coarse channels 287-294\n",
      "Data loaded in 1.8787 seconds, processing\n",
      "Bandpass cleaned in 5.0984 seconds.\n",
      "Stamps filtered in 15.9508 seconds\n",
      "Saving results\n"
     ]
    },
    {
     "name": "stderr",
     "output_type": "stream",
     "text": [
      " 86%|████████▌ | 42/49 [14:24<02:37, 22.49s/it]"
     ]
    },
    {
     "name": "stdout",
     "output_type": "stream",
     "text": [
      "Results aggregated in 3.3059 seconds\n",
      "Processing coarse channels 294-301\n",
      "Data loaded in 1.7160 seconds, processing\n",
      "Bandpass cleaned in 4.5683 seconds.\n",
      "Stamps filtered in 15.8102 seconds\n",
      "Saving results\n"
     ]
    },
    {
     "name": "stderr",
     "output_type": "stream",
     "text": [
      " 88%|████████▊ | 43/49 [14:47<02:16, 22.77s/it]"
     ]
    },
    {
     "name": "stdout",
     "output_type": "stream",
     "text": [
      "Results aggregated in 1.3105 seconds\n",
      "Processing coarse channels 301-308\n",
      "Data loaded in 1.7616 seconds, processing\n",
      "Bandpass cleaned in 3.6834 seconds.\n",
      "Stamps filtered in 14.6722 seconds\n",
      "Saving results\n"
     ]
    },
    {
     "name": "stderr",
     "output_type": "stream",
     "text": [
      " 90%|████████▉ | 44/49 [15:07<01:50, 22.05s/it]"
     ]
    },
    {
     "name": "stdout",
     "output_type": "stream",
     "text": [
      "Results aggregated in 0.2188 seconds\n",
      "Processing coarse channels 308-315\n",
      "Data loaded in 1.8749 seconds, processing\n",
      "Bandpass cleaned in 3.4164 seconds.\n",
      "Stamps filtered in 15.3987 seconds\n",
      "Saving results\n",
      "Results aggregated in 0.1045 seconds\n",
      "Processing coarse channels 315-322\n"
     ]
    },
    {
     "name": "stderr",
     "output_type": "stream",
     "text": [
      " 92%|█████████▏| 45/49 [15:28<01:26, 21.67s/it]"
     ]
    },
    {
     "name": "stdout",
     "output_type": "stream",
     "text": [
      "Data loaded in 1.8826 seconds, processing\n",
      "Bandpass cleaned in 3.5949 seconds.\n",
      "Stamps filtered in 15.3900 seconds\n",
      "Saving results\n",
      "Results aggregated in 0.1109 seconds\n",
      "Processing coarse channels 322-329\n"
     ]
    },
    {
     "name": "stderr",
     "output_type": "stream",
     "text": [
      " 94%|█████████▍| 46/49 [15:49<01:04, 21.47s/it]"
     ]
    },
    {
     "name": "stdout",
     "output_type": "stream",
     "text": [
      "Data loaded in 1.7519 seconds, processing\n",
      "Bandpass cleaned in 3.4470 seconds.\n",
      "Stamps filtered in 14.2497 seconds\n",
      "Saving results\n",
      "Results aggregated in 0.1253 seconds\n",
      "Processing coarse channels 329-336\n"
     ]
    },
    {
     "name": "stderr",
     "output_type": "stream",
     "text": [
      " 96%|█████████▌| 47/49 [16:09<00:41, 20.90s/it]"
     ]
    },
    {
     "name": "stdout",
     "output_type": "stream",
     "text": [
      "Data loaded in 1.7610 seconds, processing\n",
      "Bandpass cleaned in 3.2509 seconds.\n",
      "Stamps filtered in 15.2277 seconds\n",
      "Saving results\n",
      "Results aggregated in 0.1196 seconds\n",
      "Processing coarse channels 336-343\n"
     ]
    },
    {
     "name": "stderr",
     "output_type": "stream",
     "text": [
      " 98%|█████████▊| 48/49 [16:29<00:20, 20.74s/it]"
     ]
    },
    {
     "name": "stdout",
     "output_type": "stream",
     "text": [
      "Data loaded in 1.7381 seconds, processing\n",
      "Bandpass cleaned in 3.2769 seconds.\n",
      "Stamps filtered in 14.7561 seconds\n",
      "Saving results\n"
     ]
    },
    {
     "name": "stderr",
     "output_type": "stream",
     "text": [
      "100%|██████████| 49/49 [16:49<00:00, 20.60s/it]\n"
     ]
    },
    {
     "name": "stdout",
     "output_type": "stream",
     "text": [
      "Results aggregated in 0.1192 seconds\n",
      "       level_0      index     statistic  pvalue        freqs\n",
      "24650    24650  216761728  11393.681569     0.0  2197.206759\n",
      "20038    20038  198778112  11115.917194     0.0  2247.452402\n",
      "24651    24651  216761856  10937.570061     0.0  2197.206402\n",
      "29429    29429  219901056  10886.330662     0.0  2188.435578\n",
      "343 343\n",
      "Finished Energy Detection on GBT_57907_35736_HIP87225_fine.h5 in 1014.9975 seconds\n",
      "/mnt_blpd7/datax/dl/GBT_57907_36075_HIP87579_fine.h5\n",
      "Header saved to ../../../../../../datax/scratch/pma/reverse_search/test/HIP87579-1008/GBT_57907_36075_HIP87579_fine/header.pkl\n",
      "Processing 7 in parallel\n",
      "Processing coarse channels 0-7\n"
     ]
    },
    {
     "name": "stderr",
     "output_type": "stream",
     "text": [
      "  0%|          | 0/49 [00:00<?, ?it/s]"
     ]
    },
    {
     "name": "stdout",
     "output_type": "stream",
     "text": [
      "Data loaded in 2.7562 seconds, processing\n",
      "Bandpass cleaned in 3.4715 seconds.\n",
      "Stamps filtered in 15.2600 seconds\n",
      "Saving results\n",
      "Results aggregated in 0.0704 seconds\n",
      "Processing coarse channels 7-14\n"
     ]
    },
    {
     "name": "stderr",
     "output_type": "stream",
     "text": [
      "  2%|▏         | 1/49 [00:21<17:15, 21.57s/it]"
     ]
    },
    {
     "name": "stdout",
     "output_type": "stream",
     "text": [
      "Data loaded in 2.1305 seconds, processing\n",
      "Bandpass cleaned in 3.2315 seconds.\n",
      "Stamps filtered in 14.1682 seconds\n",
      "Saving results\n",
      "Results aggregated in 0.0743 seconds\n",
      "Processing coarse channels 14-21\n"
     ]
    },
    {
     "name": "stderr",
     "output_type": "stream",
     "text": [
      "  4%|▍         | 2/49 [00:41<15:59, 20.42s/it]"
     ]
    },
    {
     "name": "stdout",
     "output_type": "stream",
     "text": [
      "Data loaded in 1.9525 seconds, processing\n",
      "Bandpass cleaned in 3.3779 seconds.\n",
      "Stamps filtered in 14.2920 seconds\n",
      "Saving results\n",
      "Results aggregated in 0.0680 seconds\n",
      "Processing coarse channels 21-28\n"
     ]
    },
    {
     "name": "stderr",
     "output_type": "stream",
     "text": [
      "  6%|▌         | 3/49 [01:00<15:24, 20.09s/it]"
     ]
    },
    {
     "name": "stdout",
     "output_type": "stream",
     "text": [
      "Data loaded in 1.8222 seconds, processing\n",
      "Bandpass cleaned in 3.2043 seconds.\n",
      "Stamps filtered in 14.8004 seconds\n",
      "Saving results\n",
      "Results aggregated in 0.0642 seconds\n",
      "Processing coarse channels 28-35\n"
     ]
    },
    {
     "name": "stderr",
     "output_type": "stream",
     "text": [
      "  8%|▊         | 4/49 [01:20<15:00, 20.02s/it]"
     ]
    },
    {
     "name": "stdout",
     "output_type": "stream",
     "text": [
      "Data loaded in 1.9029 seconds, processing\n",
      "Bandpass cleaned in 3.2637 seconds.\n",
      "Stamps filtered in 14.9443 seconds\n",
      "Saving results\n",
      "Results aggregated in 0.0694 seconds\n",
      "Processing coarse channels 35-42\n"
     ]
    },
    {
     "name": "stderr",
     "output_type": "stream",
     "text": [
      " 10%|█         | 5/49 [01:40<14:43, 20.08s/it]"
     ]
    },
    {
     "name": "stdout",
     "output_type": "stream",
     "text": [
      "Data loaded in 1.8302 seconds, processing\n",
      "Bandpass cleaned in 3.2631 seconds.\n",
      "Stamps filtered in 15.0087 seconds\n",
      "Saving results\n",
      "Results aggregated in 0.0684 seconds\n",
      "Processing coarse channels 42-49\n"
     ]
    },
    {
     "name": "stderr",
     "output_type": "stream",
     "text": [
      " 12%|█▏        | 6/49 [02:01<14:24, 20.12s/it]"
     ]
    },
    {
     "name": "stdout",
     "output_type": "stream",
     "text": [
      "Data loaded in 2.0271 seconds, processing\n",
      "Bandpass cleaned in 3.1899 seconds.\n",
      "Stamps filtered in 15.1379 seconds\n",
      "Saving results\n",
      "Results aggregated in 0.0738 seconds\n",
      "Processing coarse channels 49-56\n"
     ]
    },
    {
     "name": "stderr",
     "output_type": "stream",
     "text": [
      " 14%|█▍        | 7/49 [02:21<14:09, 20.22s/it]"
     ]
    },
    {
     "name": "stdout",
     "output_type": "stream",
     "text": [
      "Data loaded in 1.6615 seconds, processing\n",
      "Bandpass cleaned in 3.1194 seconds.\n",
      "Stamps filtered in 15.0928 seconds\n",
      "Saving results\n",
      "Results aggregated in 0.0670 seconds\n",
      "Processing coarse channels 56-63\n"
     ]
    },
    {
     "name": "stderr",
     "output_type": "stream",
     "text": [
      " 16%|█▋        | 8/49 [02:41<13:45, 20.14s/it]"
     ]
    },
    {
     "name": "stdout",
     "output_type": "stream",
     "text": [
      "Data loaded in 1.5744 seconds, processing\n",
      "Bandpass cleaned in 3.2775 seconds.\n",
      "Stamps filtered in 15.0535 seconds\n",
      "Saving results\n",
      "Results aggregated in 0.0701 seconds\n",
      "Processing coarse channels 63-70\n"
     ]
    },
    {
     "name": "stderr",
     "output_type": "stream",
     "text": [
      " 18%|█▊        | 9/49 [03:01<13:23, 20.09s/it]"
     ]
    },
    {
     "name": "stdout",
     "output_type": "stream",
     "text": [
      "Data loaded in 1.6017 seconds, processing\n",
      "Bandpass cleaned in 3.2515 seconds.\n",
      "Stamps filtered in 14.8951 seconds\n",
      "Saving results\n",
      "Results aggregated in 0.0731 seconds\n",
      "Processing coarse channels 70-77\n"
     ]
    },
    {
     "name": "stderr",
     "output_type": "stream",
     "text": [
      " 20%|██        | 10/49 [03:21<13:00, 20.01s/it]"
     ]
    },
    {
     "name": "stdout",
     "output_type": "stream",
     "text": [
      "Data loaded in 1.6701 seconds, processing\n",
      "Bandpass cleaned in 3.4076 seconds.\n",
      "Stamps filtered in 15.0999 seconds\n",
      "Saving results\n",
      "Results aggregated in 0.0640 seconds\n",
      "Processing coarse channels 77-84\n"
     ]
    },
    {
     "name": "stderr",
     "output_type": "stream",
     "text": [
      " 22%|██▏       | 11/49 [03:41<12:43, 20.08s/it]"
     ]
    },
    {
     "name": "stdout",
     "output_type": "stream",
     "text": [
      "Data loaded in 1.6860 seconds, processing\n",
      "Bandpass cleaned in 3.1359 seconds.\n",
      "Stamps filtered in 14.7427 seconds\n",
      "Saving results\n",
      "Results aggregated in 0.0640 seconds\n",
      "Processing coarse channels 84-91\n"
     ]
    },
    {
     "name": "stderr",
     "output_type": "stream",
     "text": [
      " 24%|██▍       | 12/49 [04:01<12:18, 19.95s/it]"
     ]
    },
    {
     "name": "stdout",
     "output_type": "stream",
     "text": [
      "Data loaded in 1.5044 seconds, processing\n",
      "Bandpass cleaned in 3.3923 seconds.\n",
      "Stamps filtered in 15.1552 seconds\n",
      "Saving results\n",
      "Results aggregated in 0.0688 seconds\n",
      "Processing coarse channels 91-98\n"
     ]
    },
    {
     "name": "stderr",
     "output_type": "stream",
     "text": [
      " 27%|██▋       | 13/49 [04:21<12:00, 20.00s/it]"
     ]
    },
    {
     "name": "stdout",
     "output_type": "stream",
     "text": [
      "Data loaded in 1.7794 seconds, processing\n",
      "Bandpass cleaned in 3.2820 seconds.\n",
      "Stamps filtered in 15.1592 seconds\n",
      "Saving results\n",
      "Results aggregated in 0.0724 seconds\n",
      "Processing coarse channels 98-105\n"
     ]
    },
    {
     "name": "stderr",
     "output_type": "stream",
     "text": [
      " 29%|██▊       | 14/49 [04:41<11:43, 20.10s/it]"
     ]
    },
    {
     "name": "stdout",
     "output_type": "stream",
     "text": [
      "Data loaded in 1.9928 seconds, processing\n",
      "Bandpass cleaned in 3.2373 seconds.\n",
      "Stamps filtered in 15.3627 seconds\n",
      "Saving results\n"
     ]
    },
    {
     "name": "stderr",
     "output_type": "stream",
     "text": [
      " 31%|███       | 15/49 [05:02<11:30, 20.31s/it]"
     ]
    },
    {
     "name": "stdout",
     "output_type": "stream",
     "text": [
      "Results aggregated in 0.2017 seconds\n",
      "Processing coarse channels 105-112\n",
      "Data loaded in 1.7354 seconds, processing\n",
      "Bandpass cleaned in 3.6753 seconds.\n",
      "Stamps filtered in 14.9099 seconds\n",
      "Saving results\n",
      "Results aggregated in 0.1467 seconds\n",
      "Processing coarse channels 112-119\n"
     ]
    },
    {
     "name": "stderr",
     "output_type": "stream",
     "text": [
      " 33%|███▎      | 16/49 [05:23<11:11, 20.36s/it]"
     ]
    },
    {
     "name": "stdout",
     "output_type": "stream",
     "text": [
      "Data loaded in 1.7548 seconds, processing\n",
      "Bandpass cleaned in 3.6773 seconds.\n",
      "Stamps filtered in 15.2675 seconds\n",
      "Saving results\n",
      "Results aggregated in 0.0797 seconds\n",
      "Processing coarse channels 119-126\n"
     ]
    },
    {
     "name": "stderr",
     "output_type": "stream",
     "text": [
      " 35%|███▍      | 17/49 [05:43<10:55, 20.49s/it]"
     ]
    },
    {
     "name": "stdout",
     "output_type": "stream",
     "text": [
      "Data loaded in 1.7380 seconds, processing\n",
      "Bandpass cleaned in 3.2836 seconds.\n",
      "Stamps filtered in 15.2644 seconds\n",
      "Saving results\n",
      "Results aggregated in 0.0947 seconds\n",
      "Processing coarse channels 126-133\n"
     ]
    },
    {
     "name": "stderr",
     "output_type": "stream",
     "text": [
      " 37%|███▋      | 18/49 [06:04<10:34, 20.46s/it]"
     ]
    },
    {
     "name": "stdout",
     "output_type": "stream",
     "text": [
      "Data loaded in 1.6723 seconds, processing\n",
      "Bandpass cleaned in 3.1762 seconds.\n",
      "Stamps filtered in 14.9179 seconds\n",
      "Saving results\n",
      "Results aggregated in 0.0900 seconds\n",
      "Processing coarse channels 133-140\n"
     ]
    },
    {
     "name": "stderr",
     "output_type": "stream",
     "text": [
      " 39%|███▉      | 19/49 [06:24<10:08, 20.28s/it]"
     ]
    },
    {
     "name": "stdout",
     "output_type": "stream",
     "text": [
      "Data loaded in 1.6311 seconds, processing\n",
      "Bandpass cleaned in 3.3078 seconds.\n",
      "Stamps filtered in 14.8983 seconds\n",
      "Saving results\n",
      "Results aggregated in 0.0892 seconds\n",
      "Processing coarse channels 140-147\n"
     ]
    },
    {
     "name": "stderr",
     "output_type": "stream",
     "text": [
      " 41%|████      | 20/49 [06:43<09:45, 20.18s/it]"
     ]
    },
    {
     "name": "stdout",
     "output_type": "stream",
     "text": [
      "Data loaded in 1.7220 seconds, processing\n",
      "Bandpass cleaned in 3.4469 seconds.\n",
      "Stamps filtered in 14.9808 seconds\n",
      "Saving results\n",
      "Results aggregated in 0.0834 seconds\n",
      "Processing coarse channels 147-154\n"
     ]
    },
    {
     "name": "stderr",
     "output_type": "stream",
     "text": [
      " 43%|████▎     | 21/49 [07:04<09:25, 20.20s/it]"
     ]
    },
    {
     "name": "stdout",
     "output_type": "stream",
     "text": [
      "Data loaded in 1.6962 seconds, processing\n",
      "Bandpass cleaned in 3.2446 seconds.\n",
      "Stamps filtered in 14.9227 seconds\n",
      "Saving results\n",
      "Results aggregated in 0.0739 seconds\n",
      "Processing coarse channels 154-161\n"
     ]
    },
    {
     "name": "stderr",
     "output_type": "stream",
     "text": [
      " 45%|████▍     | 22/49 [07:24<09:03, 20.12s/it]"
     ]
    },
    {
     "name": "stdout",
     "output_type": "stream",
     "text": [
      "Data loaded in 1.7347 seconds, processing\n",
      "Bandpass cleaned in 3.3517 seconds.\n",
      "Stamps filtered in 15.1958 seconds\n",
      "Saving results\n",
      "Results aggregated in 0.0865 seconds\n",
      "Processing coarse channels 161-168\n"
     ]
    },
    {
     "name": "stderr",
     "output_type": "stream",
     "text": [
      " 47%|████▋     | 23/49 [07:44<08:45, 20.20s/it]"
     ]
    },
    {
     "name": "stdout",
     "output_type": "stream",
     "text": [
      "Data loaded in 1.6169 seconds, processing\n",
      "Bandpass cleaned in 3.3712 seconds.\n",
      "Stamps filtered in 15.5861 seconds\n",
      "Saving results\n",
      "Results aggregated in 0.1613 seconds\n",
      "Processing coarse channels 168-175\n"
     ]
    },
    {
     "name": "stderr",
     "output_type": "stream",
     "text": [
      " 49%|████▉     | 24/49 [08:05<08:29, 20.36s/it]"
     ]
    },
    {
     "name": "stdout",
     "output_type": "stream",
     "text": [
      "Data loaded in 1.7526 seconds, processing\n",
      "Bandpass cleaned in 3.8737 seconds.\n",
      "Stamps filtered in 15.6894 seconds\n",
      "Saving results\n",
      "Results aggregated in 0.1049 seconds\n",
      "Processing coarse channels 175-182\n"
     ]
    },
    {
     "name": "stderr",
     "output_type": "stream",
     "text": [
      " 51%|█████     | 25/49 [08:26<08:16, 20.69s/it]"
     ]
    },
    {
     "name": "stdout",
     "output_type": "stream",
     "text": [
      "Data loaded in 1.5987 seconds, processing\n",
      "Bandpass cleaned in 3.5354 seconds.\n",
      "Stamps filtered in 14.9094 seconds\n",
      "Saving results\n",
      "Results aggregated in 0.0812 seconds\n",
      "Processing coarse channels 182-189\n"
     ]
    },
    {
     "name": "stderr",
     "output_type": "stream",
     "text": [
      " 53%|█████▎    | 26/49 [08:46<07:51, 20.52s/it]"
     ]
    },
    {
     "name": "stdout",
     "output_type": "stream",
     "text": [
      "Data loaded in 1.5319 seconds, processing\n",
      "Bandpass cleaned in 3.5602 seconds.\n",
      "Stamps filtered in 15.1709 seconds\n",
      "Saving results\n",
      "Results aggregated in 0.0909 seconds\n",
      "Processing coarse channels 189-196\n"
     ]
    },
    {
     "name": "stderr",
     "output_type": "stream",
     "text": [
      " 55%|█████▌    | 27/49 [09:07<07:30, 20.47s/it]"
     ]
    },
    {
     "name": "stdout",
     "output_type": "stream",
     "text": [
      "Data loaded in 1.6132 seconds, processing\n",
      "Bandpass cleaned in 3.5836 seconds.\n",
      "Stamps filtered in 15.1569 seconds\n",
      "Saving results\n",
      "Results aggregated in 0.0905 seconds\n",
      "Processing coarse channels 196-203\n"
     ]
    },
    {
     "name": "stderr",
     "output_type": "stream",
     "text": [
      " 57%|█████▋    | 28/49 [09:27<07:09, 20.47s/it]"
     ]
    },
    {
     "name": "stdout",
     "output_type": "stream",
     "text": [
      "Data loaded in 1.9838 seconds, processing\n",
      "Bandpass cleaned in 3.0702 seconds.\n",
      "Stamps filtered in 15.2530 seconds\n",
      "Saving results\n",
      "Results aggregated in 0.0895 seconds\n",
      "Processing coarse channels 203-210\n"
     ]
    },
    {
     "name": "stderr",
     "output_type": "stream",
     "text": [
      " 59%|█████▉    | 29/49 [09:48<06:48, 20.45s/it]"
     ]
    },
    {
     "name": "stdout",
     "output_type": "stream",
     "text": [
      "Data loaded in 1.6366 seconds, processing\n",
      "Bandpass cleaned in 3.2461 seconds.\n",
      "Stamps filtered in 15.3088 seconds\n",
      "Saving results\n"
     ]
    },
    {
     "name": "stderr",
     "output_type": "stream",
     "text": [
      " 61%|██████    | 30/49 [10:09<06:32, 20.67s/it]"
     ]
    },
    {
     "name": "stdout",
     "output_type": "stream",
     "text": [
      "Results aggregated in 0.9642 seconds\n",
      "Processing coarse channels 210-217\n",
      "Data loaded in 1.5875 seconds, processing\n",
      "Bandpass cleaned in 3.4748 seconds.\n",
      "Stamps filtered in 14.9444 seconds\n",
      "Saving results\n",
      "Results aggregated in 0.1480 seconds\n",
      "Processing coarse channels 217-224\n"
     ]
    },
    {
     "name": "stderr",
     "output_type": "stream",
     "text": [
      " 63%|██████▎   | 31/49 [10:29<06:09, 20.52s/it]"
     ]
    },
    {
     "name": "stdout",
     "output_type": "stream",
     "text": [
      "Data loaded in 1.6797 seconds, processing\n",
      "Bandpass cleaned in 3.2674 seconds.\n",
      "Stamps filtered in 15.0186 seconds\n",
      "Saving results\n",
      "Results aggregated in 0.0895 seconds\n",
      "Processing coarse channels 224-231\n"
     ]
    },
    {
     "name": "stderr",
     "output_type": "stream",
     "text": [
      " 65%|██████▌   | 32/49 [10:49<05:46, 20.38s/it]"
     ]
    },
    {
     "name": "stdout",
     "output_type": "stream",
     "text": [
      "Data loaded in 1.7842 seconds, processing\n",
      "Bandpass cleaned in 3.4460 seconds.\n",
      "Stamps filtered in 15.2677 seconds\n",
      "Saving results\n",
      "Results aggregated in 0.0834 seconds\n",
      "Processing coarse channels 231-238\n"
     ]
    },
    {
     "name": "stderr",
     "output_type": "stream",
     "text": [
      " 67%|██████▋   | 33/49 [11:10<05:27, 20.44s/it]"
     ]
    },
    {
     "name": "stdout",
     "output_type": "stream",
     "text": [
      "Data loaded in 1.7080 seconds, processing\n",
      "Bandpass cleaned in 3.2909 seconds.\n",
      "Stamps filtered in 14.6300 seconds\n",
      "Saving results\n",
      "Results aggregated in 0.0899 seconds\n",
      "Processing coarse channels 238-245\n"
     ]
    },
    {
     "name": "stderr",
     "output_type": "stream",
     "text": [
      " 69%|██████▉   | 34/49 [11:29<05:03, 20.23s/it]"
     ]
    },
    {
     "name": "stdout",
     "output_type": "stream",
     "text": [
      "Data loaded in 1.8288 seconds, processing\n",
      "Bandpass cleaned in 3.2017 seconds.\n",
      "Stamps filtered in 14.5738 seconds\n",
      "Saving results\n",
      "Results aggregated in 0.0883 seconds\n",
      "Processing coarse channels 245-252\n"
     ]
    },
    {
     "name": "stderr",
     "output_type": "stream",
     "text": [
      " 71%|███████▏  | 35/49 [11:49<04:40, 20.07s/it]"
     ]
    },
    {
     "name": "stdout",
     "output_type": "stream",
     "text": [
      "Data loaded in 1.6778 seconds, processing\n",
      "Bandpass cleaned in 3.3443 seconds.\n",
      "Stamps filtered in 15.0886 seconds\n",
      "Saving results\n",
      "Results aggregated in 0.0905 seconds\n",
      "Processing coarse channels 252-259\n"
     ]
    },
    {
     "name": "stderr",
     "output_type": "stream",
     "text": [
      " 73%|███████▎  | 36/49 [12:09<04:21, 20.11s/it]"
     ]
    },
    {
     "name": "stdout",
     "output_type": "stream",
     "text": [
      "Data loaded in 1.6812 seconds, processing\n",
      "Bandpass cleaned in 3.3111 seconds.\n",
      "Stamps filtered in 15.2269 seconds\n",
      "Saving results\n",
      "Results aggregated in 0.0808 seconds\n",
      "Processing coarse channels 259-266\n"
     ]
    },
    {
     "name": "stderr",
     "output_type": "stream",
     "text": [
      " 76%|███████▌  | 37/49 [12:30<04:02, 20.17s/it]"
     ]
    },
    {
     "name": "stdout",
     "output_type": "stream",
     "text": [
      "Data loaded in 1.7396 seconds, processing\n",
      "Bandpass cleaned in 3.2872 seconds.\n",
      "Stamps filtered in 15.1340 seconds\n",
      "Saving results\n",
      "Results aggregated in 0.0800 seconds\n",
      "Processing coarse channels 266-273\n"
     ]
    },
    {
     "name": "stderr",
     "output_type": "stream",
     "text": [
      " 78%|███████▊  | 38/49 [12:50<03:42, 20.20s/it]"
     ]
    },
    {
     "name": "stdout",
     "output_type": "stream",
     "text": [
      "Data loaded in 1.6802 seconds, processing\n",
      "Bandpass cleaned in 3.4614 seconds.\n",
      "Stamps filtered in 15.0321 seconds\n",
      "Saving results\n",
      "Results aggregated in 0.0823 seconds\n",
      "Processing coarse channels 273-280\n"
     ]
    },
    {
     "name": "stderr",
     "output_type": "stream",
     "text": [
      " 80%|███████▉  | 39/49 [13:10<03:22, 20.22s/it]"
     ]
    },
    {
     "name": "stdout",
     "output_type": "stream",
     "text": [
      "Data loaded in 1.8240 seconds, processing\n",
      "Bandpass cleaned in 3.3451 seconds.\n",
      "Stamps filtered in 15.1961 seconds\n",
      "Saving results\n"
     ]
    },
    {
     "name": "stderr",
     "output_type": "stream",
     "text": [
      " 82%|████████▏ | 40/49 [13:31<03:04, 20.46s/it]"
     ]
    },
    {
     "name": "stdout",
     "output_type": "stream",
     "text": [
      "Results aggregated in 0.6280 seconds\n",
      "Processing coarse channels 280-287\n",
      "Data loaded in 1.6918 seconds, processing\n",
      "Bandpass cleaned in 3.4495 seconds.\n",
      "Stamps filtered in 15.3282 seconds\n",
      "Saving results\n"
     ]
    },
    {
     "name": "stderr",
     "output_type": "stream",
     "text": [
      " 84%|████████▎ | 41/49 [13:52<02:45, 20.63s/it]"
     ]
    },
    {
     "name": "stdout",
     "output_type": "stream",
     "text": [
      "Results aggregated in 0.5502 seconds\n",
      "Processing coarse channels 287-294\n",
      "Data loaded in 1.5602 seconds, processing\n",
      "Bandpass cleaned in 3.9112 seconds.\n",
      "Stamps filtered in 14.9187 seconds\n",
      "Saving results\n"
     ]
    },
    {
     "name": "stderr",
     "output_type": "stream",
     "text": [
      " 86%|████████▌ | 42/49 [14:15<02:29, 21.41s/it]"
     ]
    },
    {
     "name": "stdout",
     "output_type": "stream",
     "text": [
      "Results aggregated in 2.7895 seconds\n",
      "Processing coarse channels 294-301\n",
      "Data loaded in 1.8011 seconds, processing\n",
      "Bandpass cleaned in 4.6810 seconds.\n",
      "Stamps filtered in 15.2854 seconds\n",
      "Saving results\n"
     ]
    },
    {
     "name": "stderr",
     "output_type": "stream",
     "text": [
      " 88%|████████▊ | 43/49 [14:38<02:11, 21.85s/it]"
     ]
    },
    {
     "name": "stdout",
     "output_type": "stream",
     "text": [
      "Results aggregated in 1.0942 seconds\n",
      "Processing coarse channels 301-308\n",
      "Data loaded in 1.6251 seconds, processing\n",
      "Bandpass cleaned in 3.9137 seconds.\n",
      "Stamps filtered in 15.5335 seconds\n",
      "Saving results\n"
     ]
    },
    {
     "name": "stderr",
     "output_type": "stream",
     "text": [
      " 90%|████████▉ | 44/49 [15:00<01:48, 21.68s/it]"
     ]
    },
    {
     "name": "stdout",
     "output_type": "stream",
     "text": [
      "Results aggregated in 0.2023 seconds\n",
      "Processing coarse channels 308-315\n",
      "Data loaded in 1.8322 seconds, processing\n",
      "Bandpass cleaned in 3.8052 seconds.\n",
      "Stamps filtered in 15.3752 seconds\n",
      "Saving results\n",
      "Results aggregated in 0.1034 seconds\n",
      "Processing coarse channels 315-322\n"
     ]
    },
    {
     "name": "stderr",
     "output_type": "stream",
     "text": [
      " 92%|█████████▏| 45/49 [15:21<01:26, 21.52s/it]"
     ]
    },
    {
     "name": "stdout",
     "output_type": "stream",
     "text": [
      "Data loaded in 1.9579 seconds, processing\n",
      "Bandpass cleaned in 3.3600 seconds.\n",
      "Stamps filtered in 14.9790 seconds\n",
      "Saving results\n",
      "Results aggregated in 0.1102 seconds\n",
      "Processing coarse channels 322-329\n"
     ]
    },
    {
     "name": "stderr",
     "output_type": "stream",
     "text": [
      " 94%|█████████▍| 46/49 [15:41<01:03, 21.19s/it]"
     ]
    },
    {
     "name": "stdout",
     "output_type": "stream",
     "text": [
      "Data loaded in 1.8592 seconds, processing\n",
      "Bandpass cleaned in 3.3078 seconds.\n",
      "Stamps filtered in 15.2319 seconds\n",
      "Saving results\n",
      "Results aggregated in 0.1074 seconds\n",
      "Processing coarse channels 329-336\n"
     ]
    },
    {
     "name": "stderr",
     "output_type": "stream",
     "text": [
      " 96%|█████████▌| 47/49 [16:02<00:41, 20.99s/it]"
     ]
    },
    {
     "name": "stdout",
     "output_type": "stream",
     "text": [
      "Data loaded in 1.7040 seconds, processing\n",
      "Bandpass cleaned in 3.3141 seconds.\n",
      "Stamps filtered in 15.1357 seconds\n",
      "Saving results\n",
      "Results aggregated in 0.1093 seconds\n",
      "Processing coarse channels 336-343\n"
     ]
    },
    {
     "name": "stderr",
     "output_type": "stream",
     "text": [
      " 98%|█████████▊| 48/49 [16:22<00:20, 20.77s/it]"
     ]
    },
    {
     "name": "stdout",
     "output_type": "stream",
     "text": [
      "Data loaded in 1.6594 seconds, processing\n",
      "Bandpass cleaned in 3.4591 seconds.\n",
      "Stamps filtered in 15.2536 seconds\n",
      "Saving results\n"
     ]
    },
    {
     "name": "stderr",
     "output_type": "stream",
     "text": [
      "100%|██████████| 49/49 [16:42<00:00, 20.47s/it]\n"
     ]
    },
    {
     "name": "stdout",
     "output_type": "stream",
     "text": [
      "Results aggregated in 0.1089 seconds\n",
      "       level_0      index     statistic  pvalue        freqs\n",
      "10139    10139  217390848  11120.761775     0.0  2195.449018\n",
      "10409    10409  217425408  11086.817696     0.0  2195.352459\n",
      "9143      9143  217263360  10922.217797     0.0  2195.805216\n",
      "9992      9992  217372032  10649.708328     0.0  2195.501590\n",
      "343 343\n",
      "Finished Energy Detection on GBT_57907_36075_HIP87579_fine.h5 in 1007.1389 seconds\n",
      "/mnt_blpd7/datax/dl/GBT_57907_36414_HIP87278_fine.h5\n",
      "Header saved to ../../../../../../datax/scratch/pma/reverse_search/test/HIP87579-1008/GBT_57907_36414_HIP87278_fine/header.pkl\n",
      "Processing 7 in parallel\n",
      "Processing coarse channels 0-7\n"
     ]
    },
    {
     "name": "stderr",
     "output_type": "stream",
     "text": [
      "  0%|          | 0/49 [00:00<?, ?it/s]"
     ]
    },
    {
     "name": "stdout",
     "output_type": "stream",
     "text": [
      "Data loaded in 2.8514 seconds, processing\n",
      "Bandpass cleaned in 3.3997 seconds.\n",
      "Stamps filtered in 15.1174 seconds\n",
      "Saving results\n",
      "Results aggregated in 0.0639 seconds\n",
      "Processing coarse channels 7-14\n"
     ]
    },
    {
     "name": "stderr",
     "output_type": "stream",
     "text": [
      "  2%|▏         | 1/49 [00:21<17:09, 21.44s/it]"
     ]
    },
    {
     "name": "stdout",
     "output_type": "stream",
     "text": [
      "Data loaded in 2.0344 seconds, processing\n",
      "Bandpass cleaned in 3.1056 seconds.\n",
      "Stamps filtered in 15.2193 seconds\n",
      "Saving results\n",
      "Results aggregated in 0.0672 seconds\n",
      "Processing coarse channels 14-21\n"
     ]
    },
    {
     "name": "stderr",
     "output_type": "stream",
     "text": [
      "  4%|▍         | 2/49 [00:41<16:20, 20.85s/it]"
     ]
    },
    {
     "name": "stdout",
     "output_type": "stream",
     "text": [
      "Data loaded in 1.8528 seconds, processing\n",
      "Bandpass cleaned in 3.1307 seconds.\n",
      "Stamps filtered in 14.5418 seconds\n",
      "Saving results\n",
      "Results aggregated in 0.0716 seconds\n",
      "Processing coarse channels 21-28\n"
     ]
    },
    {
     "name": "stderr",
     "output_type": "stream",
     "text": [
      "  6%|▌         | 3/49 [01:01<15:33, 20.28s/it]"
     ]
    },
    {
     "name": "stdout",
     "output_type": "stream",
     "text": [
      "Data loaded in 2.0928 seconds, processing\n",
      "Bandpass cleaned in 3.4835 seconds.\n",
      "Stamps filtered in 15.4003 seconds\n",
      "Saving results\n",
      "Results aggregated in 0.0681 seconds\n",
      "Processing coarse channels 28-35\n"
     ]
    },
    {
     "name": "stderr",
     "output_type": "stream",
     "text": [
      "  8%|▊         | 4/49 [01:22<15:26, 20.59s/it]"
     ]
    },
    {
     "name": "stdout",
     "output_type": "stream",
     "text": [
      "Data loaded in 1.9202 seconds, processing\n",
      "Bandpass cleaned in 3.2405 seconds.\n",
      "Stamps filtered in 15.1983 seconds\n",
      "Saving results\n",
      "Results aggregated in 0.0725 seconds\n",
      "Processing coarse channels 35-42\n"
     ]
    },
    {
     "name": "stderr",
     "output_type": "stream",
     "text": [
      " 10%|█         | 5/49 [01:42<15:03, 20.54s/it]"
     ]
    },
    {
     "name": "stdout",
     "output_type": "stream",
     "text": [
      "Data loaded in 1.9290 seconds, processing\n",
      "Bandpass cleaned in 3.3580 seconds.\n",
      "Stamps filtered in 14.9705 seconds\n",
      "Saving results\n",
      "Results aggregated in 0.0732 seconds\n",
      "Processing coarse channels 42-49\n"
     ]
    },
    {
     "name": "stderr",
     "output_type": "stream",
     "text": [
      " 12%|█▏        | 6/49 [02:03<14:40, 20.47s/it]"
     ]
    },
    {
     "name": "stdout",
     "output_type": "stream",
     "text": [
      "Data loaded in 1.5948 seconds, processing\n",
      "Bandpass cleaned in 3.1129 seconds.\n",
      "Stamps filtered in 15.2352 seconds\n",
      "Saving results\n",
      "Results aggregated in 0.0714 seconds\n",
      "Processing coarse channels 49-56\n"
     ]
    },
    {
     "name": "stderr",
     "output_type": "stream",
     "text": [
      " 14%|█▍        | 7/49 [02:23<14:13, 20.33s/it]"
     ]
    },
    {
     "name": "stdout",
     "output_type": "stream",
     "text": [
      "Data loaded in 1.6498 seconds, processing\n",
      "Bandpass cleaned in 3.1533 seconds.\n",
      "Stamps filtered in 15.5645 seconds\n",
      "Saving results\n",
      "Results aggregated in 0.0672 seconds\n",
      "Processing coarse channels 56-63\n"
     ]
    },
    {
     "name": "stderr",
     "output_type": "stream",
     "text": [
      " 16%|█▋        | 8/49 [02:43<13:54, 20.36s/it]"
     ]
    },
    {
     "name": "stdout",
     "output_type": "stream",
     "text": [
      "Data loaded in 1.6143 seconds, processing\n",
      "Bandpass cleaned in 3.2018 seconds.\n",
      "Stamps filtered in 15.3855 seconds\n",
      "Saving results\n",
      "Results aggregated in 0.0684 seconds\n",
      "Processing coarse channels 63-70\n"
     ]
    },
    {
     "name": "stderr",
     "output_type": "stream",
     "text": [
      " 18%|█▊        | 9/49 [03:04<13:33, 20.34s/it]"
     ]
    },
    {
     "name": "stdout",
     "output_type": "stream",
     "text": [
      "Data loaded in 1.5896 seconds, processing\n",
      "Bandpass cleaned in 3.2290 seconds.\n",
      "Stamps filtered in 15.1161 seconds\n",
      "Saving results\n",
      "Results aggregated in 0.0652 seconds\n",
      "Processing coarse channels 70-77\n"
     ]
    },
    {
     "name": "stderr",
     "output_type": "stream",
     "text": [
      " 20%|██        | 10/49 [03:24<13:09, 20.24s/it]"
     ]
    },
    {
     "name": "stdout",
     "output_type": "stream",
     "text": [
      "Data loaded in 1.7600 seconds, processing\n",
      "Bandpass cleaned in 3.7145 seconds.\n",
      "Stamps filtered in 15.4781 seconds\n",
      "Saving results\n",
      "Results aggregated in 0.0746 seconds\n",
      "Processing coarse channels 77-84\n"
     ]
    },
    {
     "name": "stderr",
     "output_type": "stream",
     "text": [
      " 22%|██▏       | 11/49 [03:45<12:58, 20.48s/it]"
     ]
    },
    {
     "name": "stdout",
     "output_type": "stream",
     "text": [
      "Data loaded in 1.5724 seconds, processing\n",
      "Bandpass cleaned in 3.3263 seconds.\n",
      "Stamps filtered in 15.5124 seconds\n",
      "Saving results\n",
      "Results aggregated in 0.0688 seconds\n",
      "Processing coarse channels 84-91\n"
     ]
    },
    {
     "name": "stderr",
     "output_type": "stream",
     "text": [
      " 24%|██▍       | 12/49 [04:05<12:38, 20.49s/it]"
     ]
    },
    {
     "name": "stdout",
     "output_type": "stream",
     "text": [
      "Data loaded in 1.6961 seconds, processing\n",
      "Bandpass cleaned in 3.1530 seconds.\n",
      "Stamps filtered in 15.4203 seconds\n",
      "Saving results\n",
      "Results aggregated in 0.0624 seconds\n",
      "Processing coarse channels 91-98\n"
     ]
    },
    {
     "name": "stderr",
     "output_type": "stream",
     "text": [
      " 27%|██▋       | 13/49 [04:25<12:15, 20.44s/it]"
     ]
    },
    {
     "name": "stdout",
     "output_type": "stream",
     "text": [
      "Data loaded in 1.5995 seconds, processing\n",
      "Bandpass cleaned in 3.1445 seconds.\n",
      "Stamps filtered in 15.3495 seconds\n",
      "Saving results\n",
      "Results aggregated in 0.0616 seconds\n",
      "Processing coarse channels 98-105\n"
     ]
    },
    {
     "name": "stderr",
     "output_type": "stream",
     "text": [
      " 29%|██▊       | 14/49 [04:46<11:52, 20.36s/it]"
     ]
    },
    {
     "name": "stdout",
     "output_type": "stream",
     "text": [
      "Data loaded in 1.8617 seconds, processing\n",
      "Bandpass cleaned in 3.1770 seconds.\n",
      "Stamps filtered in 15.3929 seconds\n",
      "Saving results\n",
      "Results aggregated in 0.0753 seconds\n",
      "Processing coarse channels 105-112\n"
     ]
    },
    {
     "name": "stderr",
     "output_type": "stream",
     "text": [
      " 31%|███       | 15/49 [05:06<11:33, 20.41s/it]"
     ]
    },
    {
     "name": "stdout",
     "output_type": "stream",
     "text": [
      "Data loaded in 1.6847 seconds, processing\n",
      "Bandpass cleaned in 3.4186 seconds.\n",
      "Stamps filtered in 15.4657 seconds\n",
      "Saving results\n",
      "Results aggregated in 0.0705 seconds\n",
      "Processing coarse channels 112-119\n"
     ]
    },
    {
     "name": "stderr",
     "output_type": "stream",
     "text": [
      " 33%|███▎      | 16/49 [05:27<11:15, 20.48s/it]"
     ]
    },
    {
     "name": "stdout",
     "output_type": "stream",
     "text": [
      "Data loaded in 1.6339 seconds, processing\n",
      "Bandpass cleaned in 3.6240 seconds.\n",
      "Stamps filtered in 15.5793 seconds\n",
      "Saving results\n",
      "Results aggregated in 0.0734 seconds\n",
      "Processing coarse channels 119-126\n"
     ]
    },
    {
     "name": "stderr",
     "output_type": "stream",
     "text": [
      " 35%|███▍      | 17/49 [05:48<10:59, 20.61s/it]"
     ]
    },
    {
     "name": "stdout",
     "output_type": "stream",
     "text": [
      "Data loaded in 1.4878 seconds, processing\n",
      "Bandpass cleaned in 3.3299 seconds.\n",
      "Stamps filtered in 15.2487 seconds\n",
      "Saving results\n",
      "Results aggregated in 0.0726 seconds\n",
      "Processing coarse channels 126-133\n"
     ]
    },
    {
     "name": "stderr",
     "output_type": "stream",
     "text": [
      " 37%|███▋      | 18/49 [06:08<10:34, 20.47s/it]"
     ]
    },
    {
     "name": "stdout",
     "output_type": "stream",
     "text": [
      "Data loaded in 1.5742 seconds, processing\n",
      "Bandpass cleaned in 3.3760 seconds.\n",
      "Stamps filtered in 15.2963 seconds\n",
      "Saving results\n",
      "Results aggregated in 0.0853 seconds\n",
      "Processing coarse channels 133-140\n"
     ]
    },
    {
     "name": "stderr",
     "output_type": "stream",
     "text": [
      " 39%|███▉      | 19/49 [06:28<10:13, 20.43s/it]"
     ]
    },
    {
     "name": "stdout",
     "output_type": "stream",
     "text": [
      "Data loaded in 1.6008 seconds, processing\n",
      "Bandpass cleaned in 3.2211 seconds.\n",
      "Stamps filtered in 15.2362 seconds\n",
      "Saving results\n",
      "Results aggregated in 0.0669 seconds\n",
      "Processing coarse channels 140-147\n"
     ]
    },
    {
     "name": "stderr",
     "output_type": "stream",
     "text": [
      " 41%|████      | 20/49 [06:48<09:50, 20.35s/it]"
     ]
    },
    {
     "name": "stdout",
     "output_type": "stream",
     "text": [
      "Data loaded in 1.5493 seconds, processing\n",
      "Bandpass cleaned in 3.2782 seconds.\n",
      "Stamps filtered in 15.4263 seconds\n",
      "Saving results\n",
      "Results aggregated in 0.0656 seconds\n",
      "Processing coarse channels 147-154\n"
     ]
    },
    {
     "name": "stderr",
     "output_type": "stream",
     "text": [
      " 43%|████▎     | 21/49 [07:09<09:29, 20.34s/it]"
     ]
    },
    {
     "name": "stdout",
     "output_type": "stream",
     "text": [
      "Data loaded in 1.5824 seconds, processing\n",
      "Bandpass cleaned in 3.7720 seconds.\n",
      "Stamps filtered in 15.5364 seconds\n",
      "Saving results\n",
      "Results aggregated in 0.0710 seconds\n",
      "Processing coarse channels 154-161\n"
     ]
    },
    {
     "name": "stderr",
     "output_type": "stream",
     "text": [
      " 45%|████▍     | 22/49 [07:30<09:14, 20.53s/it]"
     ]
    },
    {
     "name": "stdout",
     "output_type": "stream",
     "text": [
      "Data loaded in 1.5816 seconds, processing\n",
      "Bandpass cleaned in 3.3442 seconds.\n",
      "Stamps filtered in 15.1001 seconds\n",
      "Saving results\n",
      "Results aggregated in 0.0701 seconds\n",
      "Processing coarse channels 161-168\n"
     ]
    },
    {
     "name": "stderr",
     "output_type": "stream",
     "text": [
      " 47%|████▋     | 23/49 [07:50<08:50, 20.40s/it]"
     ]
    },
    {
     "name": "stdout",
     "output_type": "stream",
     "text": [
      "Data loaded in 1.6343 seconds, processing\n",
      "Bandpass cleaned in 3.3156 seconds.\n",
      "Stamps filtered in 15.1114 seconds\n",
      "Saving results\n",
      "Results aggregated in 0.1645 seconds\n",
      "Processing coarse channels 168-175\n"
     ]
    },
    {
     "name": "stderr",
     "output_type": "stream",
     "text": [
      " 49%|████▉     | 24/49 [08:10<08:28, 20.36s/it]"
     ]
    },
    {
     "name": "stdout",
     "output_type": "stream",
     "text": [
      "Data loaded in 1.6516 seconds, processing\n",
      "Bandpass cleaned in 3.3480 seconds.\n",
      "Stamps filtered in 15.2857 seconds\n",
      "Saving results\n",
      "Results aggregated in 0.0808 seconds\n",
      "Processing coarse channels 175-182\n"
     ]
    },
    {
     "name": "stderr",
     "output_type": "stream",
     "text": [
      " 51%|█████     | 25/49 [08:30<08:08, 20.36s/it]"
     ]
    },
    {
     "name": "stdout",
     "output_type": "stream",
     "text": [
      "Data loaded in 1.8284 seconds, processing\n",
      "Bandpass cleaned in 3.4404 seconds.\n",
      "Stamps filtered in 15.0068 seconds\n",
      "Saving results\n",
      "Results aggregated in 0.0821 seconds\n",
      "Processing coarse channels 182-189\n"
     ]
    },
    {
     "name": "stderr",
     "output_type": "stream",
     "text": [
      " 53%|█████▎    | 26/49 [08:51<07:48, 20.36s/it]"
     ]
    },
    {
     "name": "stdout",
     "output_type": "stream",
     "text": [
      "Data loaded in 1.5758 seconds, processing\n",
      "Bandpass cleaned in 3.4462 seconds.\n",
      "Stamps filtered in 15.2965 seconds\n",
      "Saving results\n",
      "Results aggregated in 0.0826 seconds\n",
      "Processing coarse channels 189-196\n"
     ]
    },
    {
     "name": "stderr",
     "output_type": "stream",
     "text": [
      " 55%|█████▌    | 27/49 [09:11<07:28, 20.38s/it]"
     ]
    },
    {
     "name": "stdout",
     "output_type": "stream",
     "text": [
      "Data loaded in 1.8206 seconds, processing\n",
      "Bandpass cleaned in 3.6448 seconds.\n",
      "Stamps filtered in 15.3113 seconds\n",
      "Saving results\n",
      "Results aggregated in 0.0886 seconds\n",
      "Processing coarse channels 196-203\n"
     ]
    },
    {
     "name": "stderr",
     "output_type": "stream",
     "text": [
      " 57%|█████▋    | 28/49 [09:32<07:11, 20.53s/it]"
     ]
    },
    {
     "name": "stdout",
     "output_type": "stream",
     "text": [
      "Data loaded in 1.8777 seconds, processing\n",
      "Bandpass cleaned in 3.9928 seconds.\n",
      "Stamps filtered in 14.5958 seconds\n",
      "Saving results\n",
      "Results aggregated in 0.0799 seconds\n",
      "Processing coarse channels 203-210\n"
     ]
    },
    {
     "name": "stderr",
     "output_type": "stream",
     "text": [
      " 59%|█████▉    | 29/49 [09:53<06:50, 20.54s/it]"
     ]
    },
    {
     "name": "stdout",
     "output_type": "stream",
     "text": [
      "Data loaded in 1.9920 seconds, processing\n",
      "Bandpass cleaned in 3.3610 seconds.\n",
      "Stamps filtered in 15.1912 seconds\n",
      "Saving results\n"
     ]
    },
    {
     "name": "stderr",
     "output_type": "stream",
     "text": [
      " 61%|██████    | 30/49 [10:14<06:37, 20.91s/it]"
     ]
    },
    {
     "name": "stdout",
     "output_type": "stream",
     "text": [
      "Results aggregated in 1.1994 seconds\n",
      "Processing coarse channels 210-217\n",
      "Data loaded in 1.9520 seconds, processing\n",
      "Bandpass cleaned in 3.4960 seconds.\n",
      "Stamps filtered in 15.5007 seconds\n",
      "Saving results\n",
      "Results aggregated in 0.1533 seconds\n",
      "Processing coarse channels 217-224\n"
     ]
    },
    {
     "name": "stderr",
     "output_type": "stream",
     "text": [
      " 63%|██████▎   | 31/49 [10:35<06:17, 20.97s/it]"
     ]
    },
    {
     "name": "stdout",
     "output_type": "stream",
     "text": [
      "Data loaded in 1.8392 seconds, processing\n",
      "Bandpass cleaned in 3.2722 seconds.\n",
      "Stamps filtered in 15.4531 seconds\n",
      "Saving results\n",
      "Results aggregated in 0.0864 seconds\n",
      "Processing coarse channels 224-231\n"
     ]
    },
    {
     "name": "stderr",
     "output_type": "stream",
     "text": [
      " 65%|██████▌   | 32/49 [10:56<05:54, 20.88s/it]"
     ]
    },
    {
     "name": "stdout",
     "output_type": "stream",
     "text": [
      "Data loaded in 1.7527 seconds, processing\n",
      "Bandpass cleaned in 3.1727 seconds.\n",
      "Stamps filtered in 15.3586 seconds\n",
      "Saving results\n",
      "Results aggregated in 0.0795 seconds\n",
      "Processing coarse channels 231-238\n"
     ]
    },
    {
     "name": "stderr",
     "output_type": "stream",
     "text": [
      " 67%|██████▋   | 33/49 [11:17<05:31, 20.72s/it]"
     ]
    },
    {
     "name": "stdout",
     "output_type": "stream",
     "text": [
      "Data loaded in 2.0932 seconds, processing\n",
      "Bandpass cleaned in 3.3287 seconds.\n",
      "Stamps filtered in 15.3348 seconds\n",
      "Saving results\n",
      "Results aggregated in 0.0917 seconds\n",
      "Processing coarse channels 238-245\n"
     ]
    },
    {
     "name": "stderr",
     "output_type": "stream",
     "text": [
      " 69%|██████▉   | 34/49 [11:37<05:11, 20.77s/it]"
     ]
    },
    {
     "name": "stdout",
     "output_type": "stream",
     "text": [
      "Data loaded in 1.8934 seconds, processing\n",
      "Bandpass cleaned in 3.6204 seconds.\n",
      "Stamps filtered in 15.0654 seconds\n",
      "Saving results\n",
      "Results aggregated in 0.0852 seconds\n",
      "Processing coarse channels 245-252\n"
     ]
    },
    {
     "name": "stderr",
     "output_type": "stream",
     "text": [
      " 71%|███████▏  | 35/49 [11:58<04:50, 20.74s/it]"
     ]
    },
    {
     "name": "stdout",
     "output_type": "stream",
     "text": [
      "Data loaded in 1.5797 seconds, processing\n",
      "Bandpass cleaned in 3.5343 seconds.\n",
      "Stamps filtered in 14.9538 seconds\n",
      "Saving results\n",
      "Results aggregated in 0.0865 seconds\n",
      "Processing coarse channels 252-259\n"
     ]
    },
    {
     "name": "stderr",
     "output_type": "stream",
     "text": [
      " 73%|███████▎  | 36/49 [12:18<04:27, 20.57s/it]"
     ]
    },
    {
     "name": "stdout",
     "output_type": "stream",
     "text": [
      "Data loaded in 1.6881 seconds, processing\n",
      "Bandpass cleaned in 3.1876 seconds.\n",
      "Stamps filtered in 15.2445 seconds\n",
      "Saving results\n",
      "Results aggregated in 0.0830 seconds\n",
      "Processing coarse channels 259-266\n"
     ]
    },
    {
     "name": "stderr",
     "output_type": "stream",
     "text": [
      " 76%|███████▌  | 37/49 [12:38<04:05, 20.46s/it]"
     ]
    },
    {
     "name": "stdout",
     "output_type": "stream",
     "text": [
      "Data loaded in 2.0327 seconds, processing\n",
      "Bandpass cleaned in 3.5118 seconds.\n",
      "Stamps filtered in 15.0842 seconds\n",
      "Saving results\n",
      "Results aggregated in 0.0813 seconds\n",
      "Processing coarse channels 266-273\n"
     ]
    },
    {
     "name": "stderr",
     "output_type": "stream",
     "text": [
      " 78%|███████▊  | 38/49 [12:59<03:45, 20.54s/it]"
     ]
    },
    {
     "name": "stdout",
     "output_type": "stream",
     "text": [
      "Data loaded in 2.0870 seconds, processing\n",
      "Bandpass cleaned in 3.3450 seconds.\n",
      "Stamps filtered in 15.4217 seconds\n",
      "Saving results\n",
      "Results aggregated in 0.0846 seconds\n",
      "Processing coarse channels 273-280\n"
     ]
    },
    {
     "name": "stderr",
     "output_type": "stream",
     "text": [
      " 80%|███████▉  | 39/49 [13:20<03:26, 20.66s/it]"
     ]
    },
    {
     "name": "stdout",
     "output_type": "stream",
     "text": [
      "Data loaded in 1.8023 seconds, processing\n",
      "Bandpass cleaned in 3.2676 seconds.\n",
      "Stamps filtered in 15.1650 seconds\n",
      "Saving results\n",
      "Results aggregated in 0.1934 seconds\n",
      "Processing coarse channels 280-287\n"
     ]
    },
    {
     "name": "stderr",
     "output_type": "stream",
     "text": [
      " 82%|████████▏ | 40/49 [13:41<03:05, 20.59s/it]"
     ]
    },
    {
     "name": "stdout",
     "output_type": "stream",
     "text": [
      "Data loaded in 1.5896 seconds, processing\n",
      "Bandpass cleaned in 3.5893 seconds.\n",
      "Stamps filtered in 15.2135 seconds\n",
      "Saving results\n"
     ]
    },
    {
     "name": "stderr",
     "output_type": "stream",
     "text": [
      " 84%|████████▎ | 41/49 [14:01<02:45, 20.65s/it]"
     ]
    },
    {
     "name": "stdout",
     "output_type": "stream",
     "text": [
      "Results aggregated in 0.3803 seconds\n",
      "Processing coarse channels 287-294\n",
      "Data loaded in 1.5366 seconds, processing\n",
      "Bandpass cleaned in 3.7116 seconds.\n",
      "Stamps filtered in 15.1751 seconds\n",
      "Saving results\n"
     ]
    },
    {
     "name": "stderr",
     "output_type": "stream",
     "text": [
      " 86%|████████▌ | 42/49 [14:23<02:27, 21.02s/it]"
     ]
    },
    {
     "name": "stdout",
     "output_type": "stream",
     "text": [
      "Results aggregated in 1.4181 seconds\n",
      "Processing coarse channels 294-301\n",
      "Data loaded in 1.7610 seconds, processing\n",
      "Bandpass cleaned in 4.9313 seconds.\n",
      "Stamps filtered in 15.4296 seconds\n",
      "Saving results\n"
     ]
    },
    {
     "name": "stderr",
     "output_type": "stream",
     "text": [
      " 88%|████████▊ | 43/49 [14:47<02:10, 21.70s/it]"
     ]
    },
    {
     "name": "stdout",
     "output_type": "stream",
     "text": [
      "Results aggregated in 1.1438 seconds\n",
      "Processing coarse channels 301-308\n",
      "Data loaded in 1.7660 seconds, processing\n",
      "Bandpass cleaned in 3.6988 seconds.\n",
      "Stamps filtered in 15.1659 seconds\n",
      "Saving results\n"
     ]
    },
    {
     "name": "stderr",
     "output_type": "stream",
     "text": [
      " 90%|████████▉ | 44/49 [15:07<01:47, 21.46s/it]"
     ]
    },
    {
     "name": "stdout",
     "output_type": "stream",
     "text": [
      "Results aggregated in 0.2457 seconds\n",
      "Processing coarse channels 308-315\n",
      "Data loaded in 1.9512 seconds, processing\n",
      "Bandpass cleaned in 3.3521 seconds.\n",
      "Stamps filtered in 15.3350 seconds\n",
      "Saving results\n",
      "Results aggregated in 0.0958 seconds\n",
      "Processing coarse channels 315-322\n"
     ]
    },
    {
     "name": "stderr",
     "output_type": "stream",
     "text": [
      " 92%|█████████▏| 45/49 [15:28<01:24, 21.24s/it]"
     ]
    },
    {
     "name": "stdout",
     "output_type": "stream",
     "text": [
      "Data loaded in 1.8315 seconds, processing\n",
      "Bandpass cleaned in 3.5197 seconds.\n",
      "Stamps filtered in 15.3487 seconds\n",
      "Saving results\n",
      "Results aggregated in 0.1080 seconds\n",
      "Processing coarse channels 322-329\n"
     ]
    },
    {
     "name": "stderr",
     "output_type": "stream",
     "text": [
      " 94%|█████████▍| 46/49 [15:49<01:03, 21.12s/it]"
     ]
    },
    {
     "name": "stdout",
     "output_type": "stream",
     "text": [
      "Data loaded in 1.7352 seconds, processing\n",
      "Bandpass cleaned in 3.2083 seconds.\n",
      "Stamps filtered in 15.1459 seconds\n",
      "Saving results\n",
      "Results aggregated in 0.1141 seconds\n",
      "Processing coarse channels 329-336\n"
     ]
    },
    {
     "name": "stderr",
     "output_type": "stream",
     "text": [
      " 96%|█████████▌| 47/49 [16:09<00:41, 20.85s/it]"
     ]
    },
    {
     "name": "stdout",
     "output_type": "stream",
     "text": [
      "Data loaded in 1.5564 seconds, processing\n",
      "Bandpass cleaned in 3.5198 seconds.\n",
      "Stamps filtered in 15.3017 seconds\n",
      "Saving results\n",
      "Results aggregated in 0.1077 seconds\n",
      "Processing coarse channels 336-343\n"
     ]
    },
    {
     "name": "stderr",
     "output_type": "stream",
     "text": [
      " 98%|█████████▊| 48/49 [16:30<00:20, 20.74s/it]"
     ]
    },
    {
     "name": "stdout",
     "output_type": "stream",
     "text": [
      "Data loaded in 1.6120 seconds, processing\n",
      "Bandpass cleaned in 3.4575 seconds.\n",
      "Stamps filtered in 15.1940 seconds\n",
      "Saving results\n"
     ]
    },
    {
     "name": "stderr",
     "output_type": "stream",
     "text": [
      "100%|██████████| 49/49 [16:50<00:00, 20.62s/it]\n"
     ]
    },
    {
     "name": "stdout",
     "output_type": "stream",
     "text": [
      "Results aggregated in 0.0977 seconds\n",
      "       level_0      index     statistic  pvalue        freqs\n",
      "11399    11399  219900160  11666.340894     0.0  2188.438082\n",
      "6049      6049  216761984  11581.354493     0.0  2197.206044\n",
      "6050      6050  216762112  11579.603434     0.0  2197.205687\n",
      "11444    11444  219905920  11366.836510     0.0  2188.421988\n",
      "343 343\n",
      "Finished Energy Detection on GBT_57907_36414_HIP87278_fine.h5 in 1014.2865 seconds\n"
     ]
    }
   ],
   "source": [
    "from tqdm import tqdm\n",
    "df = pd.read_csv(\"test_directories.csv\")\n",
    "energy_detection_folder = \"../../../../../../datax/scratch/pma/reverse_search/test_large/\"\n",
    "\n",
    "for el in df.columns[1:]:\n",
    "    print(el)\n",
    "    directory_list = df[el].to_list()\n",
    "    os.mkdir(energy_detection_folder+el)\n",
    "    for directory in directory_list:\n",
    "        file_location = \"../../../../../..\" + directory\n",
    "        print(directory)\n",
    "        name = directory.split('/')[-1].split(\".\")[0]\n",
    "        os.mkdir(energy_detection_folder+el+\"/\"+name)\n",
    "        os.system(\"python3 energy_detection.py \"+ \n",
    "              directory +\" \"+energy_detection_folder+el+\"/\"+name)   "
   ]
  },
  {
   "cell_type": "markdown",
   "id": "6fdf193c-4a87-4e7f-8c95-0586e3ed17a5",
   "metadata": {},
   "source": [
    "# Test Negative Case"
   ]
  },
  {
   "cell_type": "code",
   "execution_count": 4,
   "id": "4bb6e51c-a5c2-4819-8f2d-4119a72ad063",
   "metadata": {
    "collapsed": true,
    "jupyter": {
     "outputs_hidden": true
    },
    "tags": []
   },
   "outputs": [
    {
     "name": "stdout",
     "output_type": "stream",
     "text": [
      "Header saved to ../../../../../../datax/scratch/pma/reverse_search//test_negative/header.pkl\n",
      "Processing 28 in parallel\n",
      "Processing coarse channels 0-28\n"
     ]
    },
    {
     "name": "stderr",
     "output_type": "stream",
     "text": [
      "  0%|          | 0/11 [00:00<?, ?it/s]"
     ]
    },
    {
     "name": "stdout",
     "output_type": "stream",
     "text": [
      "Data loaded in 9.1897 seconds, processing\n",
      "Bandpass cleaned in 14.0124 seconds.\n",
      "Stamps filtered in 24.0385 seconds\n",
      "Saving results\n"
     ]
    },
    {
     "name": "stderr",
     "output_type": "stream",
     "text": [
      "  9%|▉         | 1/11 [01:13<12:19, 73.91s/it]"
     ]
    },
    {
     "name": "stdout",
     "output_type": "stream",
     "text": [
      "Results aggregated in 26.3210 seconds\n",
      "Processing coarse channels 28-56\n",
      "Data loaded in 11.3715 seconds, processing\n",
      "Bandpass cleaned in 16.7047 seconds.\n",
      "Stamps filtered in 28.0325 seconds\n",
      "Saving results\n"
     ]
    },
    {
     "name": "stderr",
     "output_type": "stream",
     "text": [
      " 18%|█▊        | 2/11 [02:42<12:23, 82.59s/it]"
     ]
    },
    {
     "name": "stdout",
     "output_type": "stream",
     "text": [
      "Results aggregated in 32.2770 seconds\n",
      "Processing coarse channels 56-84\n",
      "Data loaded in 10.3232 seconds, processing\n",
      "Bandpass cleaned in 16.1708 seconds.\n",
      "Stamps filtered in 28.1169 seconds\n",
      "Saving results\n"
     ]
    },
    {
     "name": "stderr",
     "output_type": "stream",
     "text": [
      " 27%|██▋       | 3/11 [04:06<11:05, 83.25s/it]"
     ]
    },
    {
     "name": "stdout",
     "output_type": "stream",
     "text": [
      "Results aggregated in 29.1333 seconds\n",
      "Processing coarse channels 84-112\n",
      "Data loaded in 11.1906 seconds, processing\n",
      "Bandpass cleaned in 16.7449 seconds.\n",
      "Stamps filtered in 28.9112 seconds\n",
      "Saving results\n"
     ]
    },
    {
     "name": "stderr",
     "output_type": "stream",
     "text": [
      " 36%|███▋      | 4/11 [05:32<09:50, 84.38s/it]"
     ]
    },
    {
     "name": "stdout",
     "output_type": "stream",
     "text": [
      "Results aggregated in 29.0178 seconds\n",
      "Processing coarse channels 112-140\n",
      "Data loaded in 10.9794 seconds, processing\n",
      "Bandpass cleaned in 16.1818 seconds.\n",
      "Stamps filtered in 29.0801 seconds\n",
      "Saving results\n"
     ]
    },
    {
     "name": "stderr",
     "output_type": "stream",
     "text": [
      " 45%|████▌     | 5/11 [07:00<08:32, 85.45s/it]"
     ]
    },
    {
     "name": "stdout",
     "output_type": "stream",
     "text": [
      "Results aggregated in 30.8303 seconds\n",
      "Processing coarse channels 140-168\n",
      "Data loaded in 11.4636 seconds, processing\n",
      "Bandpass cleaned in 17.5991 seconds.\n",
      "Stamps filtered in 28.5518 seconds\n",
      "Saving results\n"
     ]
    },
    {
     "name": "stderr",
     "output_type": "stream",
     "text": [
      " 55%|█████▍    | 6/11 [08:27<07:11, 86.23s/it]"
     ]
    },
    {
     "name": "stdout",
     "output_type": "stream",
     "text": [
      "Results aggregated in 29.8358 seconds\n",
      "Processing coarse channels 168-196\n",
      "Data loaded in 10.6407 seconds, processing\n",
      "Bandpass cleaned in 16.8839 seconds.\n",
      "Stamps filtered in 27.9933 seconds\n",
      "Saving results\n"
     ]
    },
    {
     "name": "stderr",
     "output_type": "stream",
     "text": [
      " 64%|██████▎   | 7/11 [09:53<05:43, 85.97s/it]"
     ]
    },
    {
     "name": "stdout",
     "output_type": "stream",
     "text": [
      "Results aggregated in 29.6272 seconds\n",
      "Processing coarse channels 196-224\n",
      "Data loaded in 12.5575 seconds, processing\n",
      "Bandpass cleaned in 16.7152 seconds.\n",
      "Stamps filtered in 28.4527 seconds\n",
      "Saving results\n"
     ]
    },
    {
     "name": "stderr",
     "output_type": "stream",
     "text": [
      " 73%|███████▎  | 8/11 [11:20<04:18, 86.25s/it]"
     ]
    },
    {
     "name": "stdout",
     "output_type": "stream",
     "text": [
      "Results aggregated in 28.8410 seconds\n",
      "Processing coarse channels 224-252\n",
      "Data loaded in 11.5857 seconds, processing\n",
      "Bandpass cleaned in 16.7302 seconds.\n",
      "Stamps filtered in 28.6395 seconds\n",
      "Saving results\n"
     ]
    },
    {
     "name": "stderr",
     "output_type": "stream",
     "text": [
      " 82%|████████▏ | 9/11 [12:46<02:52, 86.37s/it]"
     ]
    },
    {
     "name": "stdout",
     "output_type": "stream",
     "text": [
      "Results aggregated in 29.3546 seconds\n",
      "Processing coarse channels 252-280\n",
      "Data loaded in 11.9213 seconds, processing\n",
      "Bandpass cleaned in 16.5721 seconds.\n",
      "Stamps filtered in 28.6045 seconds\n",
      "Saving results\n"
     ]
    },
    {
     "name": "stderr",
     "output_type": "stream",
     "text": [
      " 91%|█████████ | 10/11 [14:12<01:26, 86.34s/it]"
     ]
    },
    {
     "name": "stdout",
     "output_type": "stream",
     "text": [
      "Results aggregated in 28.8749 seconds\n",
      "Processing coarse channels 280-308\n",
      "Data loaded in 12.5254 seconds, processing\n",
      "Bandpass cleaned in 16.2560 seconds.\n",
      "Stamps filtered in 28.2189 seconds\n",
      "Saving results\n"
     ]
    },
    {
     "name": "stderr",
     "output_type": "stream",
     "text": [
      "100%|██████████| 11/11 [15:38<00:00, 85.32s/it]\n"
     ]
    },
    {
     "name": "stdout",
     "output_type": "stream",
     "text": [
      "Results aggregated in 28.2756 seconds\n",
      "Finished Energy Detection on GBT_57691_04379_HIP104887_fine.h5 in 1228.1568 seconds\n"
     ]
    },
    {
     "data": {
      "text/plain": [
       "0"
      ]
     },
     "execution_count": 4,
     "metadata": {},
     "output_type": "execute_result"
    }
   ],
   "source": [
    "# import os\n",
    "# directory = '../../../../../../../mnt_blpd9/datax/dl/GBT_57691_04379_HIP104887_fine.h5'\n",
    "\n",
    "# energy_detection_folder = \"../../../../../../datax/scratch/pma/reverse_search/\"\n",
    "\n",
    "# os.system(\"python3 energy_detection-negative.py \"+ \n",
    "#               directory +\" \"+energy_detection_folder+\"/test_negative\") "
   ]
  }
 ],
 "metadata": {
  "kernelspec": {
   "display_name": "Python 3",
   "language": "python",
   "name": "python3"
  },
  "language_info": {
   "codemirror_mode": {
    "name": "ipython",
    "version": 3
   },
   "file_extension": ".py",
   "mimetype": "text/x-python",
   "name": "python",
   "nbconvert_exporter": "python",
   "pygments_lexer": "ipython3",
   "version": "3.10.6"
  }
 },
 "nbformat": 4,
 "nbformat_minor": 5
}
