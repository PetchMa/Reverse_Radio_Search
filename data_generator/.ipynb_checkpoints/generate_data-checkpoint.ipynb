{
 "cells": [
  {
   "cell_type": "code",
   "execution_count": 1,
   "id": "704928fa-0dd7-466a-a7f4-faba5a533cde",
   "metadata": {},
   "outputs": [],
   "source": [
    "import os\n",
    "from blimpy import Waterfall\n",
    "import numpy as np\n",
    "import sys\n",
    "import matplotlib.pyplot as plt\n",
    "import pandas as pd"
   ]
  },
  {
   "cell_type": "markdown",
   "id": "8c21438b-13a8-49c7-83cd-2423d212c79a",
   "metadata": {},
   "source": [
    "# Find Training Data"
   ]
  },
  {
   "cell_type": "code",
   "execution_count": 2,
   "id": "cf7bb61d-b0a6-4693-8919-353c23eedb89",
   "metadata": {},
   "outputs": [
    {
     "name": "stdout",
     "output_type": "stream",
     "text": [
      "--2022-12-14 21:13:48--  https://raw.githubusercontent.com/PetchMa/ML_GBT_SETI/main/data_archive/fine_cadences_formatted_updated_big.csv\n",
      "Resolving raw.githubusercontent.com (raw.githubusercontent.com)... 185.199.109.133, 185.199.111.133, 185.199.110.133, ...\n",
      "Connecting to raw.githubusercontent.com (raw.githubusercontent.com)|185.199.109.133|:443... connected.\n",
      "HTTP request sent, awaiting response... 200 OK\n",
      "Length: 759438 (742K) [text/plain]\n",
      "Saving to: ‘fine_cadences_formatted_updated_big.csv.1’\n",
      "\n",
      "fine_cadences_forma 100%[===================>] 741.64K  --.-KB/s    in 0.02s   \n",
      "\n",
      "2022-12-14 21:13:48 (29.6 MB/s) - ‘fine_cadences_formatted_updated_big.csv.1’ saved [759438/759438]\n",
      "\n"
     ]
    }
   ],
   "source": [
    "!wget https://raw.githubusercontent.com/PetchMa/ML_GBT_SETI/main/data_archive/fine_cadences_formatted_updated_big.csv"
   ]
  },
  {
   "cell_type": "code",
   "execution_count": 3,
   "id": "0b1fdd2a-bf07-45b5-835f-22f7997f7b2f",
   "metadata": {},
   "outputs": [
    {
     "name": "stdout",
     "output_type": "stream",
     "text": [
      "['HIP44295-23' 'HIP63503-523' 'AND_XI-2274' 'HIP36393-1253' 'HIP48477-589']\n",
      "\n",
      "['HIP104887-1850' 'HIP87579-1008']\n"
     ]
    }
   ],
   "source": [
    "# df = pd.read_csv(\"fine_cadences_formatted_updated_big.csv\")\n",
    "# all_targets = df.columns[1:]\n",
    "\n",
    "# # randomly select 10 for training\n",
    "# num_cadence_training = 5\n",
    "# training_target= np.random.choice(all_targets, num_cadence_training, replace=False) \n",
    "# print(training_target)\n",
    "# training_data_directory = df[training_target]\n",
    "# training_data_directory.to_csv(\"train_directories.csv\")\n",
    "# print()\n",
    "# # randomly select 3 for test\n",
    "# num_cadence_test = 2\n",
    "# test_target = np.random.choice(all_targets, num_cadence_test, replace=False) \n",
    "# print(test_target)\n",
    "# testing_data_directory = df[test_target]\n",
    "# testing_data_directory.to_csv(\"test_directories.csv\")\n",
    "\n",
    "# new_untouched_df = df.drop(test_target, axis = 1).drop(training_target, axis = 1)\n",
    "# new_untouched_df.to_csv(\"untouched_list.csv\")"
   ]
  },
  {
   "cell_type": "markdown",
   "id": "0d5cab1d-a663-412c-9416-57c08f5d8e77",
   "metadata": {},
   "source": [
    "# Filter Signals Training"
   ]
  },
  {
   "cell_type": "code",
   "execution_count": 8,
   "id": "3568ae33-a4e9-4e55-b760-b035629e821c",
   "metadata": {},
   "outputs": [
    {
     "data": {
      "text/plain": [
       "'GBT_57515_81866_HIP44295_fine'"
      ]
     },
     "execution_count": 8,
     "metadata": {},
     "output_type": "execute_result"
    }
   ],
   "source": [
    "\"/mnt_blpd7/datax/dl/GBT_57515_81866_HIP44295_fine.h5\""
   ]
  },
  {
   "cell_type": "code",
   "execution_count": null,
   "id": "9c59a902-c054-42d7-b1f0-4d3e32e498b2",
   "metadata": {
    "tags": []
   },
   "outputs": [
    {
     "name": "stdout",
     "output_type": "stream",
     "text": [
      "HIP44295-23\n",
      "/mnt_blpd7/datax/dl/GBT_57515_81866_HIP44295_fine.h5\n",
      "Header saved to ../../../../../../datax/scratch/pma/reverse_search/train/HIP44295-23/header.pkl\n",
      "Processing 3 in parallel\n",
      "Processing coarse channels 0-3\n"
     ]
    },
    {
     "name": "stderr",
     "output_type": "stream",
     "text": [
      "  0%|          | 0/101 [00:00<?, ?it/s]"
     ]
    },
    {
     "name": "stdout",
     "output_type": "stream",
     "text": [
      "Data loaded in 1.9637 seconds, processing\n",
      "Bandpass cleaned in 1.6881 seconds.\n",
      "Stamps filtered in 14.3295 seconds\n",
      "Saving results\n"
     ]
    },
    {
     "name": "stderr",
     "output_type": "stream",
     "text": [
      "  1%|          | 1/101 [00:18<30:44, 18.44s/it]"
     ]
    },
    {
     "name": "stdout",
     "output_type": "stream",
     "text": [
      "Results aggregated in 0.4457 seconds\n",
      "Processing coarse channels 3-6\n",
      "Data loaded in 1.1412 seconds, processing\n",
      "Bandpass cleaned in 1.6456 seconds.\n",
      "Stamps filtered in 14.5314 seconds\n",
      "Saving results\n",
      "Results aggregated in 0.0475 seconds\n",
      "Processing coarse channels 6-9\n"
     ]
    },
    {
     "name": "stderr",
     "output_type": "stream",
     "text": [
      "  2%|▏         | 2/101 [00:35<29:23, 17.81s/it]"
     ]
    },
    {
     "name": "stdout",
     "output_type": "stream",
     "text": [
      "Data loaded in 1.1040 seconds, processing\n",
      "Bandpass cleaned in 1.5893 seconds.\n",
      "Stamps filtered in 13.7987 seconds\n",
      "Saving results\n",
      "Results aggregated in 0.0382 seconds\n",
      "Processing coarse channels 9-12\n"
     ]
    },
    {
     "name": "stderr",
     "output_type": "stream",
     "text": [
      "  3%|▎         | 3/101 [00:52<28:08, 17.23s/it]"
     ]
    },
    {
     "name": "stdout",
     "output_type": "stream",
     "text": [
      "Data loaded in 0.7938 seconds, processing\n",
      "Bandpass cleaned in 1.5827 seconds.\n",
      "Stamps filtered in 14.5784 seconds\n",
      "Saving results\n",
      "Results aggregated in 0.0382 seconds\n",
      "Processing coarse channels 12-15\n"
     ]
    },
    {
     "name": "stderr",
     "output_type": "stream",
     "text": [
      "  4%|▍         | 4/101 [01:09<27:42, 17.14s/it]"
     ]
    },
    {
     "name": "stdout",
     "output_type": "stream",
     "text": [
      "Data loaded in 0.9191 seconds, processing\n",
      "Bandpass cleaned in 1.6223 seconds.\n",
      "Stamps filtered in 14.8416 seconds\n",
      "Saving results\n",
      "Results aggregated in 0.0386 seconds\n",
      "Processing coarse channels 15-18\n"
     ]
    },
    {
     "name": "stderr",
     "output_type": "stream",
     "text": [
      "  5%|▍         | 5/101 [01:26<27:35, 17.25s/it]"
     ]
    },
    {
     "name": "stdout",
     "output_type": "stream",
     "text": [
      "Data loaded in 0.8138 seconds, processing\n",
      "Bandpass cleaned in 1.6490 seconds.\n",
      "Stamps filtered in 13.5463 seconds\n",
      "Saving results\n",
      "Results aggregated in 0.0419 seconds\n",
      "Processing coarse channels 18-21\n"
     ]
    },
    {
     "name": "stderr",
     "output_type": "stream",
     "text": [
      "  6%|▌         | 6/101 [01:42<26:39, 16.84s/it]"
     ]
    },
    {
     "name": "stdout",
     "output_type": "stream",
     "text": [
      "Data loaded in 0.8806 seconds, processing\n",
      "Bandpass cleaned in 1.6373 seconds.\n",
      "Stamps filtered in 14.4585 seconds\n",
      "Saving results\n",
      "Results aggregated in 0.0374 seconds\n",
      "Processing coarse channels 21-24\n"
     ]
    },
    {
     "name": "stderr",
     "output_type": "stream",
     "text": [
      "  7%|▋         | 7/101 [01:59<26:28, 16.90s/it]"
     ]
    },
    {
     "name": "stdout",
     "output_type": "stream",
     "text": [
      "Data loaded in 0.7675 seconds, processing\n",
      "Bandpass cleaned in 1.5376 seconds.\n",
      "Stamps filtered in 13.3888 seconds\n",
      "Saving results\n",
      "Results aggregated in 0.0404 seconds\n",
      "Processing coarse channels 24-27\n"
     ]
    },
    {
     "name": "stderr",
     "output_type": "stream",
     "text": [
      "  8%|▊         | 8/101 [02:15<25:37, 16.53s/it]"
     ]
    },
    {
     "name": "stdout",
     "output_type": "stream",
     "text": [
      "Data loaded in 0.8431 seconds, processing\n",
      "Bandpass cleaned in 1.6514 seconds.\n",
      "Stamps filtered in 13.8066 seconds\n",
      "Saving results\n",
      "Results aggregated in 0.0400 seconds\n",
      "Processing coarse channels 27-30\n"
     ]
    },
    {
     "name": "stderr",
     "output_type": "stream",
     "text": [
      "  9%|▉         | 9/101 [02:31<25:15, 16.48s/it]"
     ]
    },
    {
     "name": "stdout",
     "output_type": "stream",
     "text": [
      "Data loaded in 0.8033 seconds, processing\n",
      "Bandpass cleaned in 1.5537 seconds.\n",
      "Stamps filtered in 13.5580 seconds\n",
      "Saving results\n",
      "Results aggregated in 0.0370 seconds\n",
      "Processing coarse channels 30-33\n"
     ]
    },
    {
     "name": "stderr",
     "output_type": "stream",
     "text": [
      " 10%|▉         | 10/101 [02:47<24:44, 16.32s/it]"
     ]
    },
    {
     "name": "stdout",
     "output_type": "stream",
     "text": [
      "Data loaded in 0.8654 seconds, processing\n",
      "Bandpass cleaned in 1.7187 seconds.\n",
      "Stamps filtered in 13.6947 seconds\n",
      "Saving results\n",
      "Results aggregated in 0.0354 seconds\n",
      "Processing coarse channels 33-36\n"
     ]
    },
    {
     "name": "stderr",
     "output_type": "stream",
     "text": [
      " 11%|█         | 11/101 [03:04<24:28, 16.32s/it]"
     ]
    },
    {
     "name": "stdout",
     "output_type": "stream",
     "text": [
      "Data loaded in 0.8140 seconds, processing\n",
      "Bandpass cleaned in 1.6247 seconds.\n",
      "Stamps filtered in 13.8328 seconds\n",
      "Saving results\n",
      "Results aggregated in 0.0402 seconds\n",
      "Processing coarse channels 36-39\n"
     ]
    },
    {
     "name": "stderr",
     "output_type": "stream",
     "text": [
      " 12%|█▏        | 12/101 [03:20<24:12, 16.32s/it]"
     ]
    },
    {
     "name": "stdout",
     "output_type": "stream",
     "text": [
      "Data loaded in 0.7783 seconds, processing\n",
      "Bandpass cleaned in 1.6058 seconds.\n",
      "Stamps filtered in 14.5681 seconds\n",
      "Saving results\n",
      "Results aggregated in 0.0394 seconds\n",
      "Processing coarse channels 39-42\n"
     ]
    },
    {
     "name": "stderr",
     "output_type": "stream",
     "text": [
      " 13%|█▎        | 13/101 [03:37<24:14, 16.52s/it]"
     ]
    },
    {
     "name": "stdout",
     "output_type": "stream",
     "text": [
      "Data loaded in 0.7841 seconds, processing\n",
      "Bandpass cleaned in 1.5768 seconds.\n",
      "Stamps filtered in 13.7790 seconds\n",
      "Saving results\n",
      "Results aggregated in 0.0383 seconds\n",
      "Processing coarse channels 42-45\n"
     ]
    },
    {
     "name": "stderr",
     "output_type": "stream",
     "text": [
      " 14%|█▍        | 14/101 [03:53<23:48, 16.42s/it]"
     ]
    },
    {
     "name": "stdout",
     "output_type": "stream",
     "text": [
      "Data loaded in 0.8074 seconds, processing\n",
      "Bandpass cleaned in 1.5883 seconds.\n",
      "Stamps filtered in 13.6182 seconds\n",
      "Saving results\n",
      "Results aggregated in 0.0394 seconds\n",
      "Processing coarse channels 45-48\n"
     ]
    },
    {
     "name": "stderr",
     "output_type": "stream",
     "text": [
      " 15%|█▍        | 15/101 [04:09<23:22, 16.31s/it]"
     ]
    },
    {
     "name": "stdout",
     "output_type": "stream",
     "text": [
      "Data loaded in 0.8129 seconds, processing\n",
      "Bandpass cleaned in 1.7140 seconds.\n",
      "Stamps filtered in 14.5040 seconds\n",
      "Saving results\n",
      "Results aggregated in 0.0410 seconds\n",
      "Processing coarse channels 48-51\n"
     ]
    },
    {
     "name": "stderr",
     "output_type": "stream",
     "text": [
      " 16%|█▌        | 16/101 [04:26<23:26, 16.54s/it]"
     ]
    },
    {
     "name": "stdout",
     "output_type": "stream",
     "text": [
      "Data loaded in 0.8107 seconds, processing\n",
      "Bandpass cleaned in 1.6043 seconds.\n",
      "Stamps filtered in 13.8921 seconds\n",
      "Saving results\n",
      "Results aggregated in 0.0366 seconds\n",
      "Processing coarse channels 51-54\n"
     ]
    },
    {
     "name": "stderr",
     "output_type": "stream",
     "text": [
      " 17%|█▋        | 17/101 [04:43<23:04, 16.49s/it]"
     ]
    },
    {
     "name": "stdout",
     "output_type": "stream",
     "text": [
      "Data loaded in 0.7820 seconds, processing\n",
      "Bandpass cleaned in 1.5793 seconds.\n",
      "Stamps filtered in 13.6582 seconds\n",
      "Saving results\n",
      "Results aggregated in 0.0409 seconds\n",
      "Processing coarse channels 54-57\n"
     ]
    },
    {
     "name": "stderr",
     "output_type": "stream",
     "text": [
      " 18%|█▊        | 18/101 [04:59<22:37, 16.36s/it]"
     ]
    },
    {
     "name": "stdout",
     "output_type": "stream",
     "text": [
      "Data loaded in 0.7672 seconds, processing\n",
      "Bandpass cleaned in 1.6997 seconds.\n",
      "Stamps filtered in 14.5509 seconds\n",
      "Saving results\n",
      "Results aggregated in 0.0421 seconds\n",
      "Processing coarse channels 57-60\n"
     ]
    },
    {
     "name": "stderr",
     "output_type": "stream",
     "text": [
      " 19%|█▉        | 19/101 [05:16<22:39, 16.57s/it]"
     ]
    },
    {
     "name": "stdout",
     "output_type": "stream",
     "text": [
      "Data loaded in 0.8501 seconds, processing\n",
      "Bandpass cleaned in 1.5870 seconds.\n",
      "Stamps filtered in 13.6217 seconds\n",
      "Saving results\n",
      "Results aggregated in 0.0403 seconds\n",
      "Processing coarse channels 60-63\n"
     ]
    },
    {
     "name": "stderr",
     "output_type": "stream",
     "text": [
      " 20%|█▉        | 20/101 [05:32<22:11, 16.43s/it]"
     ]
    },
    {
     "name": "stdout",
     "output_type": "stream",
     "text": [
      "Data loaded in 0.8006 seconds, processing\n",
      "Bandpass cleaned in 1.5377 seconds.\n",
      "Stamps filtered in 14.7845 seconds\n",
      "Saving results\n",
      "Results aggregated in 0.0389 seconds\n",
      "Processing coarse channels 63-66\n"
     ]
    },
    {
     "name": "stderr",
     "output_type": "stream",
     "text": [
      " 21%|██        | 21/101 [05:49<22:12, 16.65s/it]"
     ]
    },
    {
     "name": "stdout",
     "output_type": "stream",
     "text": [
      "Data loaded in 0.8422 seconds, processing\n",
      "Bandpass cleaned in 1.5878 seconds.\n",
      "Stamps filtered in 14.3084 seconds\n",
      "Saving results\n",
      "Results aggregated in 0.0401 seconds\n",
      "Processing coarse channels 66-69\n"
     ]
    },
    {
     "name": "stderr",
     "output_type": "stream",
     "text": [
      " 22%|██▏       | 22/101 [06:06<21:58, 16.69s/it]"
     ]
    },
    {
     "name": "stdout",
     "output_type": "stream",
     "text": [
      "Data loaded in 0.7898 seconds, processing\n",
      "Bandpass cleaned in 1.7507 seconds.\n",
      "Stamps filtered in 13.8117 seconds\n",
      "Saving results\n",
      "Results aggregated in 0.0381 seconds\n",
      "Processing coarse channels 69-72\n"
     ]
    },
    {
     "name": "stderr",
     "output_type": "stream",
     "text": [
      " 23%|██▎       | 23/101 [06:22<21:35, 16.60s/it]"
     ]
    },
    {
     "name": "stdout",
     "output_type": "stream",
     "text": [
      "Data loaded in 0.7804 seconds, processing\n",
      "Bandpass cleaned in 1.5743 seconds.\n",
      "Stamps filtered in 14.0117 seconds\n",
      "Saving results\n",
      "Results aggregated in 0.0401 seconds\n",
      "Processing coarse channels 72-75\n"
     ]
    },
    {
     "name": "stderr",
     "output_type": "stream",
     "text": [
      " 24%|██▍       | 24/101 [06:39<21:14, 16.55s/it]"
     ]
    },
    {
     "name": "stdout",
     "output_type": "stream",
     "text": [
      "Data loaded in 0.8507 seconds, processing\n",
      "Bandpass cleaned in 1.5964 seconds.\n",
      "Stamps filtered in 14.6766 seconds\n",
      "Saving results\n",
      "Results aggregated in 0.0406 seconds\n",
      "Processing coarse channels 75-78\n"
     ]
    },
    {
     "name": "stderr",
     "output_type": "stream",
     "text": [
      " 25%|██▍       | 25/101 [06:56<21:11, 16.73s/it]"
     ]
    },
    {
     "name": "stdout",
     "output_type": "stream",
     "text": [
      "Data loaded in 0.8027 seconds, processing\n",
      "Bandpass cleaned in 1.6422 seconds.\n",
      "Stamps filtered in 13.7842 seconds\n",
      "Saving results\n",
      "Results aggregated in 0.0874 seconds\n",
      "Processing coarse channels 78-81\n"
     ]
    },
    {
     "name": "stderr",
     "output_type": "stream",
     "text": [
      " 26%|██▌       | 26/101 [07:12<20:45, 16.61s/it]"
     ]
    },
    {
     "name": "stdout",
     "output_type": "stream",
     "text": [
      "Data loaded in 0.8588 seconds, processing\n",
      "Bandpass cleaned in 1.6553 seconds.\n",
      "Stamps filtered in 14.9534 seconds\n",
      "Saving results\n",
      "Results aggregated in 0.1424 seconds\n",
      "Processing coarse channels 81-84\n"
     ]
    },
    {
     "name": "stderr",
     "output_type": "stream",
     "text": [
      " 27%|██▋       | 27/101 [07:30<20:51, 16.91s/it]"
     ]
    },
    {
     "name": "stdout",
     "output_type": "stream",
     "text": [
      "Data loaded in 0.7988 seconds, processing\n",
      "Bandpass cleaned in 1.5850 seconds.\n",
      "Stamps filtered in 15.0208 seconds\n",
      "Saving results\n",
      "Results aggregated in 0.1457 seconds\n",
      "Processing coarse channels 84-87\n"
     ]
    },
    {
     "name": "stderr",
     "output_type": "stream",
     "text": [
      " 28%|██▊       | 28/101 [07:47<20:48, 17.11s/it]"
     ]
    },
    {
     "name": "stdout",
     "output_type": "stream",
     "text": [
      "Data loaded in 0.7978 seconds, processing\n",
      "Bandpass cleaned in 1.6436 seconds.\n",
      "Stamps filtered in 13.8675 seconds\n",
      "Saving results\n",
      "Results aggregated in 0.0649 seconds\n",
      "Processing coarse channels 87-90\n"
     ]
    },
    {
     "name": "stderr",
     "output_type": "stream",
     "text": [
      " 29%|██▊       | 29/101 [08:04<20:16, 16.89s/it]"
     ]
    },
    {
     "name": "stdout",
     "output_type": "stream",
     "text": [
      "Data loaded in 0.8303 seconds, processing\n",
      "Bandpass cleaned in 1.5631 seconds.\n",
      "Stamps filtered in 13.5333 seconds\n",
      "Saving results\n",
      "Results aggregated in 0.0459 seconds\n",
      "Processing coarse channels 90-93\n"
     ]
    },
    {
     "name": "stderr",
     "output_type": "stream",
     "text": [
      " 30%|██▉       | 30/101 [08:20<19:39, 16.62s/it]"
     ]
    },
    {
     "name": "stdout",
     "output_type": "stream",
     "text": [
      "Data loaded in 0.7784 seconds, processing\n",
      "Bandpass cleaned in 1.5678 seconds.\n",
      "Stamps filtered in 14.6155 seconds\n",
      "Saving results\n",
      "Results aggregated in 0.0436 seconds\n",
      "Processing coarse channels 93-96\n"
     ]
    },
    {
     "name": "stderr",
     "output_type": "stream",
     "text": [
      " 31%|███       | 31/101 [08:37<19:31, 16.74s/it]"
     ]
    },
    {
     "name": "stdout",
     "output_type": "stream",
     "text": [
      "Data loaded in 0.8364 seconds, processing\n",
      "Bandpass cleaned in 1.6753 seconds.\n",
      "Stamps filtered in 14.4830 seconds\n",
      "Saving results\n",
      "Results aggregated in 0.0456 seconds\n",
      "Processing coarse channels 96-99\n"
     ]
    },
    {
     "name": "stderr",
     "output_type": "stream",
     "text": [
      " 32%|███▏      | 32/101 [08:54<19:21, 16.83s/it]"
     ]
    },
    {
     "name": "stdout",
     "output_type": "stream",
     "text": [
      "Data loaded in 0.9375 seconds, processing\n",
      "Bandpass cleaned in 1.5951 seconds.\n",
      "Stamps filtered in 14.0541 seconds\n",
      "Saving results\n",
      "Results aggregated in 0.0434 seconds\n",
      "Processing coarse channels 99-102\n"
     ]
    },
    {
     "name": "stderr",
     "output_type": "stream",
     "text": [
      " 33%|███▎      | 33/101 [09:10<19:00, 16.77s/it]"
     ]
    },
    {
     "name": "stdout",
     "output_type": "stream",
     "text": [
      "Data loaded in 0.9449 seconds, processing\n",
      "Bandpass cleaned in 1.5766 seconds.\n",
      "Stamps filtered in 13.6373 seconds\n",
      "Saving results\n"
     ]
    },
    {
     "name": "stderr",
     "output_type": "stream",
     "text": [
      " 34%|███▎      | 34/101 [09:27<18:36, 16.67s/it]"
     ]
    },
    {
     "name": "stdout",
     "output_type": "stream",
     "text": [
      "Results aggregated in 0.2562 seconds\n",
      "Processing coarse channels 102-105\n",
      "Data loaded in 0.8498 seconds, processing\n",
      "Bandpass cleaned in 1.6618 seconds.\n",
      "Stamps filtered in 14.2454 seconds\n",
      "Saving results\n"
     ]
    },
    {
     "name": "stderr",
     "output_type": "stream",
     "text": [
      " 35%|███▍      | 35/101 [09:44<18:27, 16.79s/it]"
     ]
    },
    {
     "name": "stdout",
     "output_type": "stream",
     "text": [
      "Results aggregated in 0.2966 seconds\n",
      "Processing coarse channels 105-108\n",
      "Data loaded in 0.8065 seconds, processing\n",
      "Bandpass cleaned in 1.6057 seconds.\n",
      "Stamps filtered in 13.6484 seconds\n",
      "Saving results\n",
      "Results aggregated in 0.0517 seconds\n",
      "Processing coarse channels 108-111\n"
     ]
    },
    {
     "name": "stderr",
     "output_type": "stream",
     "text": [
      " 36%|███▌      | 36/101 [10:00<17:58, 16.59s/it]"
     ]
    },
    {
     "name": "stdout",
     "output_type": "stream",
     "text": [
      "Data loaded in 0.8628 seconds, processing\n",
      "Bandpass cleaned in 1.6587 seconds.\n",
      "Stamps filtered in 13.5216 seconds\n",
      "Saving results\n"
     ]
    },
    {
     "name": "stderr",
     "output_type": "stream",
     "text": [
      " 37%|███▋      | 37/101 [10:17<17:39, 16.56s/it]"
     ]
    },
    {
     "name": "stdout",
     "output_type": "stream",
     "text": [
      "Results aggregated in 0.4358 seconds\n",
      "Processing coarse channels 111-114\n",
      "Data loaded in 0.7616 seconds, processing\n",
      "Bandpass cleaned in 1.6133 seconds.\n",
      "Stamps filtered in 13.7414 seconds\n",
      "Saving results\n",
      "Results aggregated in 0.1337 seconds\n",
      "Processing coarse channels 114-117\n"
     ]
    },
    {
     "name": "stderr",
     "output_type": "stream",
     "text": [
      " 38%|███▊      | 38/101 [10:33<17:17, 16.47s/it]"
     ]
    },
    {
     "name": "stdout",
     "output_type": "stream",
     "text": [
      "Data loaded in 0.9358 seconds, processing\n",
      "Bandpass cleaned in 1.6294 seconds.\n",
      "Stamps filtered in 14.7868 seconds\n",
      "Saving results\n",
      "Results aggregated in 0.1487 seconds\n",
      "Processing coarse channels 117-120\n"
     ]
    },
    {
     "name": "stderr",
     "output_type": "stream",
     "text": [
      " 39%|███▊      | 39/101 [10:50<17:20, 16.78s/it]"
     ]
    },
    {
     "name": "stdout",
     "output_type": "stream",
     "text": [
      "Data loaded in 0.8827 seconds, processing\n",
      "Bandpass cleaned in 1.6135 seconds.\n",
      "Stamps filtered in 13.5170 seconds\n",
      "Saving results\n"
     ]
    },
    {
     "name": "stderr",
     "output_type": "stream",
     "text": [
      " 40%|███▉      | 40/101 [11:07<17:01, 16.75s/it]"
     ]
    },
    {
     "name": "stdout",
     "output_type": "stream",
     "text": [
      "Results aggregated in 0.6444 seconds\n",
      "Processing coarse channels 120-123\n",
      "Data loaded in 0.8226 seconds, processing\n",
      "Bandpass cleaned in 1.6881 seconds.\n",
      "Stamps filtered in 13.8979 seconds\n",
      "Saving results\n",
      "Results aggregated in 0.1163 seconds\n",
      "Processing coarse channels 123-126\n"
     ]
    },
    {
     "name": "stderr",
     "output_type": "stream",
     "text": [
      " 41%|████      | 41/101 [11:24<16:41, 16.68s/it]"
     ]
    },
    {
     "name": "stdout",
     "output_type": "stream",
     "text": [
      "Data loaded in 0.8758 seconds, processing\n",
      "Bandpass cleaned in 1.6244 seconds.\n",
      "Stamps filtered in 14.0098 seconds\n",
      "Saving results\n"
     ]
    },
    {
     "name": "stderr",
     "output_type": "stream",
     "text": [
      " 42%|████▏     | 42/101 [11:41<16:33, 16.83s/it]"
     ]
    },
    {
     "name": "stdout",
     "output_type": "stream",
     "text": [
      "Results aggregated in 0.6562 seconds\n",
      "Processing coarse channels 126-129\n",
      "Data loaded in 0.7719 seconds, processing\n",
      "Bandpass cleaned in 1.6177 seconds.\n",
      "Stamps filtered in 13.5802 seconds\n",
      "Saving results\n"
     ]
    },
    {
     "name": "stderr",
     "output_type": "stream",
     "text": [
      " 43%|████▎     | 43/101 [11:58<16:16, 16.84s/it]"
     ]
    },
    {
     "name": "stdout",
     "output_type": "stream",
     "text": [
      "Results aggregated in 0.8512 seconds\n",
      "Processing coarse channels 129-132\n",
      "Data loaded in 0.7991 seconds, processing\n",
      "Bandpass cleaned in 1.6388 seconds.\n",
      "Stamps filtered in 14.7421 seconds\n",
      "Saving results\n"
     ]
    },
    {
     "name": "stderr",
     "output_type": "stream",
     "text": [
      " 44%|████▎     | 44/101 [12:15<16:15, 17.12s/it]"
     ]
    },
    {
     "name": "stdout",
     "output_type": "stream",
     "text": [
      "Results aggregated in 0.5883 seconds\n",
      "Processing coarse channels 132-135\n",
      "Data loaded in 0.8632 seconds, processing\n",
      "Bandpass cleaned in 1.5979 seconds.\n",
      "Stamps filtered in 13.9870 seconds\n",
      "Saving results\n"
     ]
    },
    {
     "name": "stderr",
     "output_type": "stream",
     "text": [
      " 45%|████▍     | 45/101 [12:32<15:56, 17.08s/it]"
     ]
    },
    {
     "name": "stdout",
     "output_type": "stream",
     "text": [
      "Results aggregated in 0.5116 seconds\n",
      "Processing coarse channels 135-138\n",
      "Data loaded in 0.8587 seconds, processing\n",
      "Bandpass cleaned in 1.6893 seconds.\n",
      "Stamps filtered in 14.8949 seconds\n",
      "Saving results\n",
      "Results aggregated in 0.0748 seconds\n",
      "Processing coarse channels 138-141\n"
     ]
    },
    {
     "name": "stderr",
     "output_type": "stream",
     "text": [
      " 46%|████▌     | 46/101 [12:50<15:46, 17.21s/it]"
     ]
    },
    {
     "name": "stdout",
     "output_type": "stream",
     "text": [
      "Data loaded in 0.8099 seconds, processing\n",
      "Bandpass cleaned in 1.7643 seconds.\n",
      "Stamps filtered in 13.9676 seconds\n",
      "Saving results\n",
      "Results aggregated in 0.0560 seconds\n",
      "Processing coarse channels 141-144\n"
     ]
    },
    {
     "name": "stderr",
     "output_type": "stream",
     "text": [
      " 47%|████▋     | 47/101 [13:06<15:19, 17.03s/it]"
     ]
    },
    {
     "name": "stdout",
     "output_type": "stream",
     "text": [
      "Data loaded in 0.8466 seconds, processing\n",
      "Bandpass cleaned in 1.5500 seconds.\n",
      "Stamps filtered in 14.7801 seconds\n",
      "Saving results\n",
      "Results aggregated in 0.0603 seconds\n",
      "Processing coarse channels 144-147\n"
     ]
    },
    {
     "name": "stderr",
     "output_type": "stream",
     "text": [
      " 48%|████▊     | 48/101 [13:24<15:05, 17.09s/it]"
     ]
    },
    {
     "name": "stdout",
     "output_type": "stream",
     "text": [
      "Data loaded in 0.8051 seconds, processing\n",
      "Bandpass cleaned in 1.6373 seconds.\n",
      "Stamps filtered in 14.7623 seconds\n",
      "Saving results\n",
      "Results aggregated in 0.0580 seconds\n",
      "Processing coarse channels 147-150\n"
     ]
    },
    {
     "name": "stderr",
     "output_type": "stream",
     "text": [
      " 49%|████▊     | 49/101 [13:41<14:51, 17.15s/it]"
     ]
    },
    {
     "name": "stdout",
     "output_type": "stream",
     "text": [
      "Data loaded in 0.8573 seconds, processing\n",
      "Bandpass cleaned in 1.6241 seconds.\n",
      "Stamps filtered in 13.5156 seconds\n",
      "Saving results\n",
      "Results aggregated in 0.0576 seconds\n",
      "Processing coarse channels 150-153\n"
     ]
    },
    {
     "name": "stderr",
     "output_type": "stream",
     "text": [
      " 50%|████▉     | 50/101 [13:57<14:17, 16.82s/it]"
     ]
    },
    {
     "name": "stdout",
     "output_type": "stream",
     "text": [
      "Data loaded in 0.7853 seconds, processing\n",
      "Bandpass cleaned in 1.6082 seconds.\n",
      "Stamps filtered in 14.6022 seconds\n",
      "Saving results\n",
      "Results aggregated in 0.0561 seconds\n",
      "Processing coarse channels 153-156\n"
     ]
    },
    {
     "name": "stderr",
     "output_type": "stream",
     "text": [
      " 50%|█████     | 51/101 [14:14<14:04, 16.89s/it]"
     ]
    },
    {
     "name": "stdout",
     "output_type": "stream",
     "text": [
      "Data loaded in 0.7768 seconds, processing\n",
      "Bandpass cleaned in 1.5877 seconds.\n",
      "Stamps filtered in 13.5348 seconds\n",
      "Saving results\n",
      "Results aggregated in 0.0552 seconds\n",
      "Processing coarse channels 156-159\n"
     ]
    },
    {
     "name": "stderr",
     "output_type": "stream",
     "text": [
      " 51%|█████▏    | 52/101 [14:30<13:34, 16.61s/it]"
     ]
    },
    {
     "name": "stdout",
     "output_type": "stream",
     "text": [
      "Data loaded in 0.8320 seconds, processing\n",
      "Bandpass cleaned in 1.5723 seconds.\n",
      "Stamps filtered in 14.5406 seconds\n",
      "Saving results\n",
      "Results aggregated in 0.0531 seconds\n",
      "Processing coarse channels 159-162\n"
     ]
    },
    {
     "name": "stderr",
     "output_type": "stream",
     "text": [
      " 52%|█████▏    | 53/101 [14:47<13:23, 16.73s/it]"
     ]
    },
    {
     "name": "stdout",
     "output_type": "stream",
     "text": [
      "Data loaded in 0.7737 seconds, processing\n",
      "Bandpass cleaned in 1.5837 seconds.\n",
      "Stamps filtered in 14.0856 seconds\n",
      "Saving results\n",
      "Results aggregated in 0.0596 seconds\n",
      "Processing coarse channels 162-165\n"
     ]
    },
    {
     "name": "stderr",
     "output_type": "stream",
     "text": [
      " 53%|█████▎    | 54/101 [15:04<13:03, 16.66s/it]"
     ]
    },
    {
     "name": "stdout",
     "output_type": "stream",
     "text": [
      "Data loaded in 1.0570 seconds, processing\n",
      "Bandpass cleaned in 1.6022 seconds.\n",
      "Stamps filtered in 14.6182 seconds\n",
      "Saving results\n",
      "Results aggregated in 0.0582 seconds\n",
      "Processing coarse channels 165-168\n"
     ]
    },
    {
     "name": "stderr",
     "output_type": "stream",
     "text": [
      " 54%|█████▍    | 55/101 [15:21<12:55, 16.87s/it]"
     ]
    },
    {
     "name": "stdout",
     "output_type": "stream",
     "text": [
      "Data loaded in 0.7825 seconds, processing\n",
      "Bandpass cleaned in 1.6362 seconds.\n",
      "Stamps filtered in 14.3431 seconds\n",
      "Saving results\n",
      "Results aggregated in 0.0562 seconds\n",
      "Processing coarse channels 168-171\n"
     ]
    },
    {
     "name": "stderr",
     "output_type": "stream",
     "text": [
      " 55%|█████▌    | 56/101 [15:38<12:38, 16.86s/it]"
     ]
    },
    {
     "name": "stdout",
     "output_type": "stream",
     "text": [
      "Data loaded in 0.7768 seconds, processing\n",
      "Bandpass cleaned in 1.6602 seconds.\n",
      "Stamps filtered in 14.5335 seconds\n",
      "Saving results\n",
      "Results aggregated in 0.0586 seconds\n",
      "Processing coarse channels 171-174\n"
     ]
    },
    {
     "name": "stderr",
     "output_type": "stream",
     "text": [
      " 56%|█████▋    | 57/101 [15:55<12:24, 16.91s/it]"
     ]
    },
    {
     "name": "stdout",
     "output_type": "stream",
     "text": [
      "Data loaded in 0.9215 seconds, processing\n",
      "Bandpass cleaned in 1.6217 seconds.\n",
      "Stamps filtered in 14.0735 seconds\n",
      "Saving results\n",
      "Results aggregated in 0.0560 seconds\n",
      "Processing coarse channels 174-177\n"
     ]
    },
    {
     "name": "stderr",
     "output_type": "stream",
     "text": [
      " 57%|█████▋    | 58/101 [16:11<12:04, 16.84s/it]"
     ]
    },
    {
     "name": "stdout",
     "output_type": "stream",
     "text": [
      "Data loaded in 0.7856 seconds, processing\n",
      "Bandpass cleaned in 1.5913 seconds.\n",
      "Stamps filtered in 14.7685 seconds\n",
      "Saving results\n",
      "Results aggregated in 0.0575 seconds\n",
      "Processing coarse channels 177-180\n"
     ]
    },
    {
     "name": "stderr",
     "output_type": "stream",
     "text": [
      " 58%|█████▊    | 59/101 [16:29<11:51, 16.95s/it]"
     ]
    },
    {
     "name": "stdout",
     "output_type": "stream",
     "text": [
      "Data loaded in 0.9000 seconds, processing\n",
      "Bandpass cleaned in 1.6588 seconds.\n",
      "Stamps filtered in 14.1959 seconds\n",
      "Saving results\n",
      "Results aggregated in 0.0570 seconds\n",
      "Processing coarse channels 180-183\n"
     ]
    },
    {
     "name": "stderr",
     "output_type": "stream",
     "text": [
      " 59%|█████▉    | 60/101 [16:46<11:33, 16.91s/it]"
     ]
    },
    {
     "name": "stdout",
     "output_type": "stream",
     "text": [
      "Data loaded in 0.9084 seconds, processing\n",
      "Bandpass cleaned in 1.6493 seconds.\n",
      "Stamps filtered in 13.7815 seconds\n",
      "Saving results\n",
      "Results aggregated in 0.0587 seconds\n",
      "Processing coarse channels 183-186\n"
     ]
    },
    {
     "name": "stderr",
     "output_type": "stream",
     "text": [
      " 60%|██████    | 61/101 [17:02<11:10, 16.76s/it]"
     ]
    },
    {
     "name": "stdout",
     "output_type": "stream",
     "text": [
      "Data loaded in 0.9214 seconds, processing\n",
      "Bandpass cleaned in 1.6476 seconds.\n",
      "Stamps filtered in 14.8494 seconds\n",
      "Saving results\n",
      "Results aggregated in 0.0630 seconds\n",
      "Processing coarse channels 186-189\n"
     ]
    },
    {
     "name": "stderr",
     "output_type": "stream",
     "text": [
      " 61%|██████▏   | 62/101 [17:19<11:02, 16.98s/it]"
     ]
    },
    {
     "name": "stdout",
     "output_type": "stream",
     "text": [
      "Data loaded in 0.8230 seconds, processing\n",
      "Bandpass cleaned in 1.5915 seconds.\n",
      "Stamps filtered in 14.6141 seconds\n",
      "Saving results\n",
      "Results aggregated in 0.0555 seconds\n",
      "Processing coarse channels 189-192\n"
     ]
    },
    {
     "name": "stderr",
     "output_type": "stream",
     "text": [
      " 62%|██████▏   | 63/101 [17:36<10:46, 17.01s/it]"
     ]
    },
    {
     "name": "stdout",
     "output_type": "stream",
     "text": [
      "Data loaded in 0.8239 seconds, processing\n",
      "Bandpass cleaned in 1.5853 seconds.\n",
      "Stamps filtered in 14.7900 seconds\n",
      "Saving results\n",
      "Results aggregated in 0.0585 seconds\n",
      "Processing coarse channels 192-195\n"
     ]
    },
    {
     "name": "stderr",
     "output_type": "stream",
     "text": [
      " 63%|██████▎   | 64/101 [17:54<10:32, 17.09s/it]"
     ]
    },
    {
     "name": "stdout",
     "output_type": "stream",
     "text": [
      "Data loaded in 0.8980 seconds, processing\n",
      "Bandpass cleaned in 1.6712 seconds.\n",
      "Stamps filtered in 14.9428 seconds\n",
      "Saving results\n",
      "Results aggregated in 0.0558 seconds\n",
      "Processing coarse channels 195-198\n"
     ]
    },
    {
     "name": "stderr",
     "output_type": "stream",
     "text": [
      " 64%|██████▍   | 65/101 [18:11<10:20, 17.23s/it]"
     ]
    },
    {
     "name": "stdout",
     "output_type": "stream",
     "text": [
      "Data loaded in 0.7657 seconds, processing\n",
      "Bandpass cleaned in 1.6456 seconds.\n",
      "Stamps filtered in 13.5985 seconds\n",
      "Saving results\n",
      "Results aggregated in 0.0551 seconds\n",
      "Processing coarse channels 198-201\n"
     ]
    },
    {
     "name": "stderr",
     "output_type": "stream",
     "text": [
      " 65%|██████▌   | 66/101 [18:27<09:50, 16.89s/it]"
     ]
    },
    {
     "name": "stdout",
     "output_type": "stream",
     "text": [
      "Data loaded in 0.9310 seconds, processing\n",
      "Bandpass cleaned in 1.6388 seconds.\n",
      "Stamps filtered in 14.6800 seconds\n",
      "Saving results\n",
      "Results aggregated in 0.0556 seconds\n",
      "Processing coarse channels 201-204\n"
     ]
    },
    {
     "name": "stderr",
     "output_type": "stream",
     "text": [
      " 66%|██████▋   | 67/101 [18:45<09:38, 17.01s/it]"
     ]
    },
    {
     "name": "stdout",
     "output_type": "stream",
     "text": [
      "Data loaded in 0.9058 seconds, processing\n",
      "Bandpass cleaned in 1.6754 seconds.\n",
      "Stamps filtered in 13.7080 seconds\n",
      "Saving results\n",
      "Results aggregated in 0.0596 seconds\n",
      "Processing coarse channels 204-207\n"
     ]
    },
    {
     "name": "stderr",
     "output_type": "stream",
     "text": [
      " 67%|██████▋   | 68/101 [19:01<09:14, 16.82s/it]"
     ]
    },
    {
     "name": "stdout",
     "output_type": "stream",
     "text": [
      "Data loaded in 0.7587 seconds, processing\n",
      "Bandpass cleaned in 1.6093 seconds.\n",
      "Stamps filtered in 14.3070 seconds\n",
      "Saving results\n",
      "Results aggregated in 0.1139 seconds\n",
      "Processing coarse channels 207-210\n"
     ]
    },
    {
     "name": "stderr",
     "output_type": "stream",
     "text": [
      " 68%|██████▊   | 69/101 [19:18<08:57, 16.81s/it]"
     ]
    },
    {
     "name": "stdout",
     "output_type": "stream",
     "text": [
      "Data loaded in 0.8923 seconds, processing\n",
      "Bandpass cleaned in 1.5911 seconds.\n",
      "Stamps filtered in 13.9187 seconds\n",
      "Saving results\n"
     ]
    },
    {
     "name": "stderr",
     "output_type": "stream",
     "text": [
      " 69%|██████▉   | 70/101 [19:35<08:42, 16.84s/it]"
     ]
    },
    {
     "name": "stdout",
     "output_type": "stream",
     "text": [
      "Results aggregated in 0.4912 seconds\n",
      "Processing coarse channels 210-213\n",
      "Data loaded in 0.7727 seconds, processing\n",
      "Bandpass cleaned in 1.6046 seconds.\n",
      "Stamps filtered in 14.8414 seconds\n",
      "Saving results\n",
      "Results aggregated in 0.0824 seconds\n",
      "Processing coarse channels 213-216\n"
     ]
    },
    {
     "name": "stderr",
     "output_type": "stream",
     "text": [
      " 70%|███████   | 71/101 [19:52<08:29, 16.98s/it]"
     ]
    },
    {
     "name": "stdout",
     "output_type": "stream",
     "text": [
      "Data loaded in 0.9287 seconds, processing\n",
      "Bandpass cleaned in 1.6582 seconds.\n",
      "Stamps filtered in 14.9757 seconds\n",
      "Saving results\n",
      "Results aggregated in 0.0612 seconds\n",
      "Processing coarse channels 216-219\n"
     ]
    },
    {
     "name": "stderr",
     "output_type": "stream",
     "text": [
      " 71%|███████▏  | 72/101 [20:10<08:18, 17.18s/it]"
     ]
    },
    {
     "name": "stdout",
     "output_type": "stream",
     "text": [
      "Data loaded in 0.8538 seconds, processing\n",
      "Bandpass cleaned in 1.7348 seconds.\n",
      "Stamps filtered in 14.8038 seconds\n",
      "Saving results\n",
      "Results aggregated in 0.0587 seconds\n",
      "Processing coarse channels 219-222\n"
     ]
    },
    {
     "name": "stderr",
     "output_type": "stream",
     "text": [
      " 72%|███████▏  | 73/101 [20:27<08:03, 17.26s/it]"
     ]
    },
    {
     "name": "stdout",
     "output_type": "stream",
     "text": [
      "Data loaded in 0.9355 seconds, processing\n",
      "Bandpass cleaned in 1.6656 seconds.\n",
      "Stamps filtered in 14.1863 seconds\n",
      "Saving results\n",
      "Results aggregated in 0.0589 seconds\n",
      "Processing coarse channels 222-225\n"
     ]
    },
    {
     "name": "stderr",
     "output_type": "stream",
     "text": [
      " 73%|███████▎  | 74/101 [20:44<07:42, 17.14s/it]"
     ]
    },
    {
     "name": "stdout",
     "output_type": "stream",
     "text": [
      "Data loaded in 0.8705 seconds, processing\n",
      "Bandpass cleaned in 1.5934 seconds.\n",
      "Stamps filtered in 13.9813 seconds\n",
      "Saving results\n",
      "Results aggregated in 0.0619 seconds\n",
      "Processing coarse channels 225-228\n"
     ]
    },
    {
     "name": "stderr",
     "output_type": "stream",
     "text": [
      " 74%|███████▍  | 75/101 [21:01<07:20, 16.95s/it]"
     ]
    },
    {
     "name": "stdout",
     "output_type": "stream",
     "text": [
      "Data loaded in 0.7562 seconds, processing\n",
      "Bandpass cleaned in 1.5911 seconds.\n",
      "Stamps filtered in 14.1049 seconds\n",
      "Saving results\n",
      "Results aggregated in 0.0708 seconds\n",
      "Processing coarse channels 228-231\n"
     ]
    },
    {
     "name": "stderr",
     "output_type": "stream",
     "text": [
      " 75%|███████▌  | 76/101 [21:17<07:00, 16.83s/it]"
     ]
    },
    {
     "name": "stdout",
     "output_type": "stream",
     "text": [
      "Data loaded in 0.8209 seconds, processing\n",
      "Bandpass cleaned in 1.6783 seconds.\n",
      "Stamps filtered in 14.1919 seconds\n",
      "Saving results\n",
      "Results aggregated in 0.0614 seconds\n",
      "Processing coarse channels 231-234\n"
     ]
    },
    {
     "name": "stderr",
     "output_type": "stream",
     "text": [
      " 76%|███████▌  | 77/101 [21:34<06:43, 16.81s/it]"
     ]
    },
    {
     "name": "stdout",
     "output_type": "stream",
     "text": [
      "Data loaded in 0.9557 seconds, processing\n",
      "Bandpass cleaned in 1.7225 seconds.\n",
      "Stamps filtered in 14.3280 seconds\n",
      "Saving results\n",
      "Results aggregated in 0.0573 seconds\n",
      "Processing coarse channels 234-237\n"
     ]
    },
    {
     "name": "stderr",
     "output_type": "stream",
     "text": [
      " 77%|███████▋  | 78/101 [21:51<06:28, 16.89s/it]"
     ]
    },
    {
     "name": "stdout",
     "output_type": "stream",
     "text": [
      "Data loaded in 0.7725 seconds, processing\n",
      "Bandpass cleaned in 1.5933 seconds.\n",
      "Stamps filtered in 14.9979 seconds\n",
      "Saving results\n",
      "Results aggregated in 0.0639 seconds\n",
      "Processing coarse channels 237-240\n"
     ]
    },
    {
     "name": "stderr",
     "output_type": "stream",
     "text": [
      " 78%|███████▊  | 79/101 [22:08<06:15, 17.05s/it]"
     ]
    },
    {
     "name": "stdout",
     "output_type": "stream",
     "text": [
      "Data loaded in 0.9686 seconds, processing\n",
      "Bandpass cleaned in 1.6329 seconds.\n",
      "Stamps filtered in 14.6605 seconds\n",
      "Saving results\n",
      "Results aggregated in 0.0877 seconds\n",
      "Processing coarse channels 240-243\n"
     ]
    },
    {
     "name": "stderr",
     "output_type": "stream",
     "text": [
      " 79%|███████▉  | 80/101 [22:26<06:00, 17.14s/it]"
     ]
    },
    {
     "name": "stdout",
     "output_type": "stream",
     "text": [
      "Data loaded in 0.7956 seconds, processing\n",
      "Bandpass cleaned in 1.6135 seconds.\n",
      "Stamps filtered in 13.7209 seconds\n",
      "Saving results\n"
     ]
    },
    {
     "name": "stderr",
     "output_type": "stream",
     "text": [
      " 80%|████████  | 81/101 [22:42<05:39, 16.99s/it]"
     ]
    },
    {
     "name": "stdout",
     "output_type": "stream",
     "text": [
      "Results aggregated in 0.4984 seconds\n",
      "Processing coarse channels 243-246\n",
      "Data loaded in 0.8197 seconds, processing\n",
      "Bandpass cleaned in 1.6258 seconds.\n",
      "Stamps filtered in 14.6677 seconds\n",
      "Saving results\n"
     ]
    },
    {
     "name": "stderr",
     "output_type": "stream",
     "text": [
      " 81%|████████  | 82/101 [23:00<05:24, 17.10s/it]"
     ]
    },
    {
     "name": "stdout",
     "output_type": "stream",
     "text": [
      "Results aggregated in 0.2355 seconds\n",
      "Processing coarse channels 246-249\n",
      "Data loaded in 0.8791 seconds, processing\n",
      "Bandpass cleaned in 1.6305 seconds.\n",
      "Stamps filtered in 14.1460 seconds\n",
      "Saving results\n",
      "Results aggregated in 0.0679 seconds\n",
      "Processing coarse channels 249-252\n"
     ]
    },
    {
     "name": "stderr",
     "output_type": "stream",
     "text": [
      " 82%|████████▏ | 83/101 [23:16<05:05, 16.99s/it]"
     ]
    },
    {
     "name": "stdout",
     "output_type": "stream",
     "text": [
      "Data loaded in 0.7919 seconds, processing\n",
      "Bandpass cleaned in 1.6071 seconds.\n",
      "Stamps filtered in 13.5361 seconds\n",
      "Saving results\n"
     ]
    },
    {
     "name": "stderr",
     "output_type": "stream",
     "text": [
      " 83%|████████▎ | 84/101 [23:33<04:45, 16.80s/it]"
     ]
    },
    {
     "name": "stdout",
     "output_type": "stream",
     "text": [
      "Results aggregated in 0.3941 seconds\n",
      "Processing coarse channels 252-255\n",
      "Data loaded in 0.7978 seconds, processing\n",
      "Bandpass cleaned in 1.6499 seconds.\n",
      "Stamps filtered in 14.2918 seconds\n",
      "Saving results\n"
     ]
    },
    {
     "name": "stderr",
     "output_type": "stream",
     "text": [
      " 84%|████████▍ | 85/101 [23:50<04:30, 16.93s/it]"
     ]
    },
    {
     "name": "stdout",
     "output_type": "stream",
     "text": [
      "Results aggregated in 0.4897 seconds\n",
      "Processing coarse channels 255-258\n",
      "Data loaded in 0.8531 seconds, processing\n",
      "Bandpass cleaned in 1.5638 seconds.\n",
      "Stamps filtered in 14.8420 seconds\n",
      "Saving results\n",
      "Results aggregated in 0.0762 seconds\n",
      "Processing coarse channels 258-261\n"
     ]
    },
    {
     "name": "stderr",
     "output_type": "stream",
     "text": [
      " 85%|████████▌ | 86/101 [24:07<04:15, 17.05s/it]"
     ]
    },
    {
     "name": "stdout",
     "output_type": "stream",
     "text": [
      "Data loaded in 0.8094 seconds, processing\n",
      "Bandpass cleaned in 1.7358 seconds.\n",
      "Stamps filtered in 13.5646 seconds\n",
      "Saving results\n",
      "Results aggregated in 0.0594 seconds\n",
      "Processing coarse channels 261-264\n"
     ]
    },
    {
     "name": "stderr",
     "output_type": "stream",
     "text": [
      " 86%|████████▌ | 87/101 [24:24<03:55, 16.79s/it]"
     ]
    },
    {
     "name": "stdout",
     "output_type": "stream",
     "text": [
      "Data loaded in 0.9511 seconds, processing\n",
      "Bandpass cleaned in 1.6302 seconds.\n",
      "Stamps filtered in 13.5355 seconds\n",
      "Saving results\n",
      "Results aggregated in 0.0751 seconds\n",
      "Processing coarse channels 264-267\n"
     ]
    },
    {
     "name": "stderr",
     "output_type": "stream",
     "text": [
      " 87%|████████▋ | 88/101 [24:40<03:35, 16.61s/it]"
     ]
    },
    {
     "name": "stdout",
     "output_type": "stream",
     "text": [
      "Data loaded in 0.7928 seconds, processing\n",
      "Bandpass cleaned in 1.6387 seconds.\n",
      "Stamps filtered in 14.8299 seconds\n",
      "Saving results\n",
      "Results aggregated in 0.0764 seconds\n",
      "Processing coarse channels 267-270\n"
     ]
    },
    {
     "name": "stderr",
     "output_type": "stream",
     "text": [
      " 88%|████████▊ | 89/101 [24:57<03:21, 16.83s/it]"
     ]
    },
    {
     "name": "stdout",
     "output_type": "stream",
     "text": [
      "Data loaded in 0.8344 seconds, processing\n",
      "Bandpass cleaned in 1.7182 seconds.\n",
      "Stamps filtered in 13.8435 seconds\n",
      "Saving results\n",
      "Results aggregated in 0.0771 seconds\n",
      "Processing coarse channels 270-273\n"
     ]
    },
    {
     "name": "stderr",
     "output_type": "stream",
     "text": [
      " 89%|████████▉ | 90/101 [25:14<03:03, 16.73s/it]"
     ]
    },
    {
     "name": "stdout",
     "output_type": "stream",
     "text": [
      "Data loaded in 0.8501 seconds, processing\n",
      "Bandpass cleaned in 1.5995 seconds.\n",
      "Stamps filtered in 13.5827 seconds\n",
      "Saving results\n",
      "Results aggregated in 0.0747 seconds\n",
      "Processing coarse channels 273-276\n"
     ]
    },
    {
     "name": "stderr",
     "output_type": "stream",
     "text": [
      " 90%|█████████ | 91/101 [25:30<02:45, 16.54s/it]"
     ]
    },
    {
     "name": "stdout",
     "output_type": "stream",
     "text": [
      "Data loaded in 0.8796 seconds, processing\n",
      "Bandpass cleaned in 1.6477 seconds.\n",
      "Stamps filtered in 13.6692 seconds\n",
      "Saving results\n",
      "Results aggregated in 0.0717 seconds\n",
      "Processing coarse channels 276-279\n"
     ]
    },
    {
     "name": "stderr",
     "output_type": "stream",
     "text": [
      " 91%|█████████ | 92/101 [25:46<02:28, 16.46s/it]"
     ]
    },
    {
     "name": "stdout",
     "output_type": "stream",
     "text": [
      "Data loaded in 0.8405 seconds, processing\n",
      "Bandpass cleaned in 1.6643 seconds.\n",
      "Stamps filtered in 13.6036 seconds\n",
      "Saving results\n",
      "Results aggregated in 0.0734 seconds\n",
      "Processing coarse channels 279-282\n"
     ]
    },
    {
     "name": "stderr",
     "output_type": "stream",
     "text": [
      " 92%|█████████▏| 93/101 [26:02<02:11, 16.38s/it]"
     ]
    },
    {
     "name": "stdout",
     "output_type": "stream",
     "text": [
      "Data loaded in 0.8803 seconds, processing\n",
      "Bandpass cleaned in 1.6013 seconds.\n",
      "Stamps filtered in 15.0797 seconds\n",
      "Saving results\n",
      "Results aggregated in 0.0733 seconds\n",
      "Processing coarse channels 282-285\n"
     ]
    },
    {
     "name": "stderr",
     "output_type": "stream",
     "text": [
      " 93%|█████████▎| 94/101 [26:20<01:57, 16.76s/it]"
     ]
    },
    {
     "name": "stdout",
     "output_type": "stream",
     "text": [
      "Data loaded in 1.0052 seconds, processing\n",
      "Bandpass cleaned in 1.6414 seconds.\n",
      "Stamps filtered in 13.4938 seconds\n",
      "Saving results\n",
      "Results aggregated in 0.0674 seconds\n",
      "Processing coarse channels 285-288\n"
     ]
    },
    {
     "name": "stderr",
     "output_type": "stream",
     "text": [
      " 94%|█████████▍| 95/101 [26:36<01:39, 16.60s/it]"
     ]
    },
    {
     "name": "stdout",
     "output_type": "stream",
     "text": [
      "Data loaded in 0.8483 seconds, processing\n",
      "Bandpass cleaned in 1.5750 seconds.\n",
      "Stamps filtered in 13.7710 seconds\n",
      "Saving results\n",
      "Results aggregated in 0.0733 seconds\n",
      "Processing coarse channels 288-291\n"
     ]
    },
    {
     "name": "stderr",
     "output_type": "stream",
     "text": [
      " 95%|█████████▌| 96/101 [26:52<01:22, 16.50s/it]"
     ]
    },
    {
     "name": "stdout",
     "output_type": "stream",
     "text": [
      "Data loaded in 0.7795 seconds, processing\n",
      "Bandpass cleaned in 1.6769 seconds.\n",
      "Stamps filtered in 13.6590 seconds\n",
      "Saving results\n",
      "Results aggregated in 0.0699 seconds\n",
      "Processing coarse channels 291-294\n"
     ]
    },
    {
     "name": "stderr",
     "output_type": "stream",
     "text": [
      " 96%|█████████▌| 97/101 [27:08<01:05, 16.41s/it]"
     ]
    },
    {
     "name": "stdout",
     "output_type": "stream",
     "text": [
      "Data loaded in 0.9106 seconds, processing\n",
      "Bandpass cleaned in 1.6919 seconds.\n",
      "Stamps filtered in 13.6415 seconds\n",
      "Saving results\n",
      "Results aggregated in 0.0745 seconds\n",
      "Processing coarse channels 294-297\n"
     ]
    },
    {
     "name": "stderr",
     "output_type": "stream",
     "text": [
      " 97%|█████████▋| 98/101 [27:25<00:49, 16.38s/it]"
     ]
    },
    {
     "name": "stdout",
     "output_type": "stream",
     "text": [
      "Data loaded in 0.7890 seconds, processing\n",
      "Bandpass cleaned in 1.6191 seconds.\n",
      "Stamps filtered in 13.7635 seconds\n",
      "Saving results\n",
      "Results aggregated in 0.0777 seconds\n",
      "Processing coarse channels 297-300\n"
     ]
    },
    {
     "name": "stderr",
     "output_type": "stream",
     "text": [
      " 98%|█████████▊| 99/101 [27:41<00:32, 16.35s/it]"
     ]
    },
    {
     "name": "stdout",
     "output_type": "stream",
     "text": [
      "Data loaded in 0.7902 seconds, processing\n",
      "Bandpass cleaned in 1.6574 seconds.\n",
      "Stamps filtered in 14.8023 seconds\n",
      "Saving results\n",
      "Results aggregated in 0.0722 seconds\n",
      "Processing coarse channels 300-303\n"
     ]
    },
    {
     "name": "stderr",
     "output_type": "stream",
     "text": [
      " 99%|█████████▉| 100/101 [27:58<00:16, 16.64s/it]"
     ]
    },
    {
     "name": "stdout",
     "output_type": "stream",
     "text": [
      "Data loaded in 0.8148 seconds, processing\n",
      "Bandpass cleaned in 1.6674 seconds.\n",
      "Stamps filtered in 13.8126 seconds\n",
      "Saving results\n"
     ]
    },
    {
     "name": "stderr",
     "output_type": "stream",
     "text": [
      "100%|██████████| 101/101 [28:15<00:00, 16.78s/it]\n"
     ]
    },
    {
     "name": "stdout",
     "output_type": "stream",
     "text": [
      "Results aggregated in 0.0712 seconds\n",
      "/mnt_blpd7/datax/dl/GBT_57515_82215_HIP43343_fine.h5\n"
     ]
    },
    {
     "name": "stderr",
     "output_type": "stream",
     "text": [
      "Traceback (most recent call last):\n",
      "  File \"/mnt_home/pma/projects/Reverse_Radio_Search/data_generator/energy_detection.py\", line 174, in <module>\n",
      "    filtered_stack = full_stack[filtered_df.index.values]\n",
      "NameError: name 'filtered_df' is not defined\n"
     ]
    },
    {
     "name": "stdout",
     "output_type": "stream",
     "text": [
      "Header saved to ../../../../../../datax/scratch/pma/reverse_search/train/HIP44295-23/header.pkl\n",
      "Processing 3 in parallel\n",
      "Processing coarse channels 0-3\n"
     ]
    },
    {
     "name": "stderr",
     "output_type": "stream",
     "text": [
      "  0%|          | 0/101 [00:00<?, ?it/s]"
     ]
    },
    {
     "name": "stdout",
     "output_type": "stream",
     "text": [
      "Data loaded in 1.4517 seconds, processing\n",
      "Bandpass cleaned in 1.7048 seconds.\n",
      "Stamps filtered in 14.4706 seconds\n",
      "Saving results\n"
     ]
    },
    {
     "name": "stderr",
     "output_type": "stream",
     "text": [
      "  1%|          | 1/101 [00:18<30:09, 18.10s/it]"
     ]
    },
    {
     "name": "stdout",
     "output_type": "stream",
     "text": [
      "Results aggregated in 0.4536 seconds\n",
      "Processing coarse channels 3-6\n",
      "Data loaded in 1.0980 seconds, processing\n",
      "Bandpass cleaned in 1.6412 seconds.\n",
      "Stamps filtered in 13.8651 seconds\n",
      "Saving results\n",
      "Results aggregated in 0.0433 seconds\n",
      "Processing coarse channels 6-9\n"
     ]
    },
    {
     "name": "stderr",
     "output_type": "stream",
     "text": [
      "  2%|▏         | 2/101 [00:34<28:27, 17.25s/it]"
     ]
    },
    {
     "name": "stdout",
     "output_type": "stream",
     "text": [
      "Data loaded in 0.9085 seconds, processing\n",
      "Bandpass cleaned in 1.6080 seconds.\n",
      "Stamps filtered in 13.8254 seconds\n",
      "Saving results\n",
      "Results aggregated in 0.0478 seconds\n",
      "Processing coarse channels 9-12\n"
     ]
    },
    {
     "name": "stderr",
     "output_type": "stream",
     "text": [
      "  3%|▎         | 3/101 [00:51<27:32, 16.86s/it]"
     ]
    },
    {
     "name": "stdout",
     "output_type": "stream",
     "text": [
      "Data loaded in 0.7829 seconds, processing\n",
      "Bandpass cleaned in 1.6812 seconds.\n"
     ]
    },
    {
     "name": "stderr",
     "output_type": "stream",
     "text": [
      "Process ForkPoolWorker-44:\n",
      "Process ForkPoolWorker-45:\n",
      "Process ForkPoolWorker-43:\n",
      "  3%|▎         | 3/101 [01:04<34:57, 21.40s/it]\n",
      "Traceback (most recent call last):\n",
      "  File \"/mnt_home/pma/projects/Reverse_Radio_Search/data_generator/energy_detection.py\", line 118, in <module>\n",
      "    chan_hits = p.map(threshold_hits, range(parallel_coarse_chans))\n",
      "  File \"/home/pma/.conda/envs/ml_jax/lib/python3.10/multiprocessing/pool.py\", line 367, in map\n",
      "    return self._map_async(func, iterable, mapstar, chunksize).get()\n",
      "  File \"/home/pma/.conda/envs/ml_jax/lib/python3.10/multiprocessing/pool.py\", line 768, in get\n",
      "    self.wait(timeout)\n",
      "  File \"/home/pma/.conda/envs/ml_jax/lib/python3.10/multiprocessing/pool.py\", line 765, in wait\n",
      "    self._event.wait(timeout)\n",
      "  File \"/home/pma/.conda/envs/ml_jax/lib/python3.10/threading.py\", line 607, in wait\n",
      "    signaled = self._cond.wait(timeout)\n",
      "  File \"/home/pma/.conda/envs/ml_jax/lib/python3.10/threading.py\", line 320, in wait\n",
      "    waiter.acquire()\n",
      "KeyboardInterrupt\n"
     ]
    },
    {
     "name": "stdout",
     "output_type": "stream",
     "text": [
      "/mnt_blpd7/datax/dl/GBT_57515_82563_HIP44295_fine.h5\n",
      "/mnt_blpd7/datax/dl/GBT_57515_82909_HIP43412_fine.h5\n",
      "/mnt_blpd7/datax/dl/GBT_57515_83255_HIP44295_fine.h5\n"
     ]
    },
    {
     "name": "stderr",
     "output_type": "stream",
     "text": [
      "Traceback (most recent call last):\n",
      "  File \"/mnt_home/pma/projects/Reverse_Radio_Search/data_generator/energy_detection.py\", line 1, in <module>\n",
      "    import numpy as np\n",
      "  File \"/home/pma/.conda/envs/ml_jax/lib/python3.10/site-packages/numpy/__init__.py\", line 143, in <module>\n",
      "    from . import lib\n",
      "  File \"/home/pma/.conda/envs/ml_jax/lib/python3.10/site-packages/numpy/lib/__init__.py\", line 25, in <module>\n",
      "    from .index_tricks import *\n",
      "  File \"/home/pma/.conda/envs/ml_jax/lib/python3.10/site-packages/numpy/lib/index_tricks.py\", line 12, in <module>\n",
      "    import numpy.matrixlib as matrixlib\n",
      "  File \"/home/pma/.conda/envs/ml_jax/lib/python3.10/site-packages/numpy/matrixlib/__init__.py\", line 4, in <module>\n",
      "    from .defmatrix import *\n",
      "  File \"/home/pma/.conda/envs/ml_jax/lib/python3.10/site-packages/numpy/matrixlib/defmatrix.py\", line 11, in <module>\n",
      "    from numpy.linalg import matrix_power\n",
      "  File \"/home/pma/.conda/envs/ml_jax/lib/python3.10/site-packages/numpy/linalg/__init__.py\", line 73, in <module>\n",
      "    from . import linalg\n",
      "  File \"/home/pma/.conda/envs/ml_jax/lib/python3.10/site-packages/numpy/linalg/linalg.py\", line 33, in <module>\n",
      "    from numpy.lib.twodim_base import triu, eye\n",
      "  File \"/home/pma/.conda/envs/ml_jax/lib/python3.10/site-packages/numpy/lib/twodim_base.py\", line 433, in <module>\n",
      "    _tri_with_like = array_function_dispatch(\n",
      "KeyboardInterrupt\n",
      "Traceback (most recent call last):\n",
      "  File \"/home/pma/.conda/envs/ml_jax/lib/python3.10/subprocess.py\", line 69, in <module>\n",
      "    import msvcrt\n",
      "ModuleNotFoundError: No module named 'msvcrt'\n",
      "\n",
      "During handling of the above exception, another exception occurred:\n",
      "\n",
      "Traceback (most recent call last):\n",
      "  File \"/mnt_home/pma/projects/Reverse_Radio_Search/data_generator/energy_detection.py\", line 1, in <module>\n",
      "    import numpy as np\n",
      "  File \"/home/pma/.conda/envs/ml_jax/lib/python3.10/site-packages/numpy/__init__.py\", line 140, in <module>\n",
      "    from . import core\n",
      "  File \"/home/pma/.conda/envs/ml_jax/lib/python3.10/site-packages/numpy/core/__init__.py\", line 100, in <module>\n",
      "    from . import _add_newdocs_scalars\n",
      "  File \"/home/pma/.conda/envs/ml_jax/lib/python3.10/site-packages/numpy/core/_add_newdocs_scalars.py\", line 9, in <module>\n",
      "    import platform\n",
      "  File \"/home/pma/.conda/envs/ml_jax/lib/python3.10/platform.py\", line 119, in <module>\n",
      "    import subprocess\n",
      "  File \"/home/pma/.conda/envs/ml_jax/lib/python3.10/subprocess.py\", line 75, in <module>\n",
      "    import select\n",
      "KeyboardInterrupt\n"
     ]
    },
    {
     "name": "stdout",
     "output_type": "stream",
     "text": [
      "/mnt_blpd7/datax/dl/GBT_57515_83602_HIP43418_fine.h5\n"
     ]
    },
    {
     "name": "stderr",
     "output_type": "stream",
     "text": [
      "Traceback (most recent call last):\n",
      "  File \"/mnt_home/pma/projects/Reverse_Radio_Search/data_generator/energy_detection.py\", line 1, in <module>\n",
      "    import numpy as np\n",
      "  File \"/home/pma/.conda/envs/ml_jax/lib/python3.10/site-packages/numpy/__init__.py\", line 225, in <module>\n",
      "    core.getlimits._register_known_types()\n",
      "  File \"/home/pma/.conda/envs/ml_jax/lib/python3.10/site-packages/numpy/core/getlimits.py\", line 226, in _register_known_types\n",
      "    float128_ma = MachArLike(ld,\n",
      "  File \"/home/pma/.conda/envs/ml_jax/lib/python3.10/site-packages/numpy/core/getlimits.py\", line 58, in __init__\n",
      "    self._str_xmax = self._float_to_str(self.xmax)\n",
      "  File \"/home/pma/.conda/envs/ml_jax/lib/python3.10/site-packages/numpy/core/getlimits.py\", line 119, in _float_to_str\n",
      "    return self.params['fmt'] % array(_fr0(value)[0], self.ftype)\n",
      "  File \"/home/pma/.conda/envs/ml_jax/lib/python3.10/site-packages/numpy/core/getlimits.py\", line 19, in _fr0\n",
      "    a = a.copy()\n",
      "KeyboardInterrupt\n"
     ]
    },
    {
     "name": "stdout",
     "output_type": "stream",
     "text": [
      "HIP63503-523\n",
      "/mnt_blpd7/datax/dl/GBT_57684_57862_HIP63503_fine.h5\n"
     ]
    },
    {
     "name": "stderr",
     "output_type": "stream",
     "text": [
      "Traceback (most recent call last):\n",
      "  File \"/mnt_home/pma/projects/Reverse_Radio_Search/data_generator/energy_detection.py\", line 1, in <module>\n",
      "    import numpy as np\n",
      "  File \"/home/pma/.conda/envs/ml_jax/lib/python3.10/site-packages/numpy/__init__.py\", line 143, in <module>\n",
      "    from . import lib\n",
      "  File \"/home/pma/.conda/envs/ml_jax/lib/python3.10/site-packages/numpy/lib/__init__.py\", line 25, in <module>\n",
      "    from .index_tricks import *\n",
      "  File \"/home/pma/.conda/envs/ml_jax/lib/python3.10/site-packages/numpy/lib/index_tricks.py\", line 12, in <module>\n",
      "    import numpy.matrixlib as matrixlib\n",
      "  File \"/home/pma/.conda/envs/ml_jax/lib/python3.10/site-packages/numpy/matrixlib/__init__.py\", line 4, in <module>\n",
      "    from .defmatrix import *\n",
      "  File \"/home/pma/.conda/envs/ml_jax/lib/python3.10/site-packages/numpy/matrixlib/defmatrix.py\", line 11, in <module>\n",
      "    from numpy.linalg import matrix_power\n",
      "  File \"<frozen importlib._bootstrap>\", line 1027, in _find_and_load\n",
      "  File \"<frozen importlib._bootstrap>\", line 1002, in _find_and_load_unlocked\n",
      "  File \"<frozen importlib._bootstrap>\", line 945, in _find_spec\n",
      "  File \"<frozen importlib._bootstrap_external>\", line 1439, in find_spec\n",
      "  File \"<frozen importlib._bootstrap_external>\", line 1411, in _get_spec\n",
      "  File \"<frozen importlib._bootstrap_external>\", line 1544, in find_spec\n",
      "  File \"<frozen importlib._bootstrap_external>\", line 147, in _path_stat\n",
      "KeyboardInterrupt\n"
     ]
    },
    {
     "name": "stdout",
     "output_type": "stream",
     "text": [
      "/mnt_blpd7/datax/dl/GBT_57684_58202_HIP62578_fine.h5\n",
      "Header saved to ../../../../../../datax/scratch/pma/reverse_search/train/HIP63503-523/header.pkl\n",
      "Processing 7 in parallel\n",
      "Processing coarse channels 0-7\n"
     ]
    },
    {
     "name": "stderr",
     "output_type": "stream",
     "text": [
      "  0%|          | 0/49 [00:00<?, ?it/s]"
     ]
    },
    {
     "name": "stdout",
     "output_type": "stream",
     "text": [
      "Data loaded in 2.7783 seconds, processing\n",
      "Bandpass cleaned in 3.1203 seconds.\n",
      "Stamps filtered in 15.0920 seconds\n",
      "Saving results\n",
      "Results aggregated in 0.0619 seconds\n",
      "Processing coarse channels 7-14\n"
     ]
    },
    {
     "name": "stderr",
     "output_type": "stream",
     "text": [
      "  2%|▏         | 1/49 [00:21<16:50, 21.06s/it]"
     ]
    },
    {
     "name": "stdout",
     "output_type": "stream",
     "text": [
      "Data loaded in 2.1162 seconds, processing\n",
      "Bandpass cleaned in 3.1543 seconds.\n",
      "Stamps filtered in 14.6414 seconds\n",
      "Saving results\n",
      "Results aggregated in 0.0689 seconds\n",
      "Processing coarse channels 14-21\n"
     ]
    },
    {
     "name": "stderr",
     "output_type": "stream",
     "text": [
      "  4%|▍         | 2/49 [00:41<16:00, 20.43s/it]"
     ]
    },
    {
     "name": "stdout",
     "output_type": "stream",
     "text": [
      "Data loaded in 1.5413 seconds, processing\n",
      "Bandpass cleaned in 3.2887 seconds.\n",
      "Stamps filtered in 15.6577 seconds\n",
      "Saving results\n",
      "Results aggregated in 0.0647 seconds\n",
      "Processing coarse channels 21-28\n"
     ]
    },
    {
     "name": "stderr",
     "output_type": "stream",
     "text": [
      "  6%|▌         | 3/49 [01:01<15:42, 20.49s/it]"
     ]
    },
    {
     "name": "stdout",
     "output_type": "stream",
     "text": [
      "Data loaded in 1.8940 seconds, processing\n",
      "Bandpass cleaned in 3.4638 seconds.\n",
      "Stamps filtered in 14.3191 seconds\n",
      "Saving results\n",
      "Results aggregated in 0.0694 seconds\n",
      "Processing coarse channels 28-35\n"
     ]
    },
    {
     "name": "stderr",
     "output_type": "stream",
     "text": [
      "  8%|▊         | 4/49 [01:21<15:09, 20.20s/it]"
     ]
    },
    {
     "name": "stdout",
     "output_type": "stream",
     "text": [
      "Data loaded in 1.7615 seconds, processing\n",
      "Bandpass cleaned in 3.4626 seconds.\n",
      "Stamps filtered in 14.2539 seconds\n",
      "Saving results\n",
      "Results aggregated in 0.0700 seconds\n",
      "Processing coarse channels 35-42\n"
     ]
    },
    {
     "name": "stderr",
     "output_type": "stream",
     "text": [
      " 10%|█         | 5/49 [01:40<14:38, 19.97s/it]"
     ]
    },
    {
     "name": "stdout",
     "output_type": "stream",
     "text": [
      "Data loaded in 1.5132 seconds, processing\n",
      "Bandpass cleaned in 3.1959 seconds.\n",
      "Stamps filtered in 14.2605 seconds\n",
      "Saving results\n",
      "Results aggregated in 0.0701 seconds\n",
      "Processing coarse channels 42-49\n"
     ]
    },
    {
     "name": "stderr",
     "output_type": "stream",
     "text": [
      " 12%|█▏        | 6/49 [01:59<14:05, 19.66s/it]"
     ]
    },
    {
     "name": "stdout",
     "output_type": "stream",
     "text": [
      "Data loaded in 1.6601 seconds, processing\n",
      "Bandpass cleaned in 3.1997 seconds.\n",
      "Stamps filtered in 15.4091 seconds\n",
      "Saving results\n",
      "Results aggregated in 0.0696 seconds\n",
      "Processing coarse channels 49-56\n"
     ]
    },
    {
     "name": "stderr",
     "output_type": "stream",
     "text": [
      " 14%|█▍        | 7/49 [02:20<13:55, 19.89s/it]"
     ]
    },
    {
     "name": "stdout",
     "output_type": "stream",
     "text": [
      "Data loaded in 1.7080 seconds, processing\n",
      "Bandpass cleaned in 3.2754 seconds.\n"
     ]
    },
    {
     "name": "stderr",
     "output_type": "stream",
     "text": [
      "Process ForkPoolWorker-214:\n",
      "Process ForkPoolWorker-215:\n",
      "Process ForkPoolWorker-212:\n",
      "Process ForkPoolWorker-216:\n",
      "Process ForkPoolWorker-217:\n",
      "Process ForkPoolWorker-211:\n",
      "Process ForkPoolWorker-213:\n",
      " 14%|█▍        | 7/49 [02:34<15:27, 22.08s/it]\n",
      "Traceback (most recent call last):\n",
      "  File \"/mnt_home/pma/projects/Reverse_Radio_Search/data_generator/energy_detection.py\", line 118, in <module>\n",
      "    chan_hits = p.map(threshold_hits, range(parallel_coarse_chans))\n",
      "  File \"/home/pma/.conda/envs/ml_jax/lib/python3.10/multiprocessing/pool.py\", line 367, in map\n",
      "    return self._map_async(func, iterable, mapstar, chunksize).get()\n",
      "  File \"/home/pma/.conda/envs/ml_jax/lib/python3.10/multiprocessing/pool.py\", line 768, in get\n",
      "    self.wait(timeout)\n",
      "  File \"/home/pma/.conda/envs/ml_jax/lib/python3.10/multiprocessing/pool.py\", line 765, in wait\n",
      "    self._event.wait(timeout)\n",
      "  File \"/home/pma/.conda/envs/ml_jax/lib/python3.10/threading.py\", line 607, in wait\n",
      "    signaled = self._cond.wait(timeout)\n",
      "  File \"/home/pma/.conda/envs/ml_jax/lib/python3.10/threading.py\", line 320, in wait\n",
      "    waiter.acquire()\n",
      "KeyboardInterrupt\n"
     ]
    },
    {
     "name": "stdout",
     "output_type": "stream",
     "text": [
      "/mnt_blpd7/datax/dl/GBT_57684_58540_HIP63503_fine.h5\n",
      "/mnt_blpd7/datax/dl/GBT_57684_58874_HIP62771_fine.h5\n",
      "/mnt_blpd7/datax/dl/GBT_57684_59208_HIP63503_fine.h5\n",
      "/mnt_blpd7/datax/dl/GBT_57684_59542_HIP62781_fine.h5\n",
      "AND_XI-2274\n",
      "/mnt_blpd13/datax/dl/GBT_58385_23147_AND_XI_fine.h5\n",
      "/mnt_blpd13/datax/dl/GBT_58385_23516_HIP3046_fine.h5\n"
     ]
    }
   ],
   "source": [
    "from tqdm import tqdm\n",
    "df = pd.read_csv(\"train_directories.csv\")\n",
    "energy_detection_folder = \"../../../../../../datax/scratch/pma/reverse_search/train/\"\n",
    "\n",
    "for el in df.columns[1:]:\n",
    "    print(el)\n",
    "    directory_list = df[el].to_list()\n",
    "    os.mkdir(energy_detection_folder+el)\n",
    "    for directory in directory_list:\n",
    "        file_location = \"../../../../../..\" + directory\n",
    "        print(directory)\n",
    "        name = directory.split('/')[-1].split(\".\")[0]\n",
    "        os.mkdir(energy_detection_folder+el+\"/\"+name)\n",
    "        os.system(\"python3 energy_detection.py \"+ \n",
    "              directory +\" \"+energy_detection_folder+el+\"/\"+name)   "
   ]
  },
  {
   "cell_type": "markdown",
   "id": "7fef690b-8250-48b9-aea4-bcd3e8150dde",
   "metadata": {},
   "source": [
    "# Negative Training Case\n",
    "Collect a few background noise"
   ]
  },
  {
   "cell_type": "code",
   "execution_count": null,
   "id": "04c63a94-b4e2-48f6-89fa-3fb599f8f9f3",
   "metadata": {},
   "outputs": [],
   "source": [
    "os.system(\"python3 energy_detection_negative.py \"+ \n",
    "              directory +\" \"+energy_detection_folder+el+\"/train_negative\")   "
   ]
  }
 ],
 "metadata": {
  "kernelspec": {
   "display_name": "Python 3",
   "language": "python",
   "name": "python3"
  },
  "language_info": {
   "codemirror_mode": {
    "name": "ipython",
    "version": 3
   },
   "file_extension": ".py",
   "mimetype": "text/x-python",
   "name": "python",
   "nbconvert_exporter": "python",
   "pygments_lexer": "ipython3",
   "version": "3.10.6"
  }
 },
 "nbformat": 4,
 "nbformat_minor": 5
}
