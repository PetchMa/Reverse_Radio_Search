{
 "cells": [
  {
   "cell_type": "code",
   "execution_count": 12,
   "id": "8f0581cb-9d53-4ec4-8968-c4ebd110f887",
   "metadata": {},
   "outputs": [
    {
     "name": "stdout",
     "output_type": "stream",
     "text": [
      "/mnt_blpd7/datax/dl/GBT_57684_57862_HIP63503_fine.h5\n"
     ]
    }
   ],
   "source": [
    "from blimpy import Waterfall\n",
    "import pandas as pd\n",
    "df = pd.read_csv(\"train_directories.csv\")\n",
    "df\n",
    "print(df['HIP63503-523'].to_list()[0])"
   ]
  },
  {
   "cell_type": "code",
   "execution_count": 14,
   "id": "ec94237e-980b-4bc9-b33a-fcd83379e45c",
   "metadata": {},
   "outputs": [
    {
     "data": {
      "text/plain": [
       "715.2557373046875"
      ]
     },
     "execution_count": 14,
     "metadata": {},
     "output_type": "execute_result"
    }
   ],
   "source": [
    "2.7939677238464355*256\n"
   ]
  },
  {
   "cell_type": "code",
   "execution_count": 13,
   "id": "fe103cff-145e-4219-bb60-3e2671a2c226",
   "metadata": {},
   "outputs": [
    {
     "name": "stdout",
     "output_type": "stream",
     "text": [
      "\n",
      "--- File Info ---\n",
      "DIMENSION_LABELS : [b'frequency' b'feed_id' b'time']\n",
      "        az_start :                              0.0\n",
      "       data_type :                                1\n",
      "            fch1 :                2802.83203125 MHz\n",
      "            foff :      -2.7939677238464355e-06 MHz\n",
      "      machine_id :                               20\n",
      "           nbits :                               32\n",
      "          nchans :                        359661568\n",
      "            nifs :                                1\n",
      "     source_name :                         HIP63503\n",
      "         src_dej :                     56:21:57.984\n",
      "         src_raj :                      13:00:43.88\n",
      "    telescope_id :                                6\n",
      "           tsamp :                     18.253611008\n",
      "   tstart (ISOT) :          2016-10-23T16:04:22.000\n",
      "    tstart (MJD) :               57684.669699074075\n",
      "        za_start :                              0.0\n",
      "\n",
      "Num ints in file :                               16\n",
      "      File shape :               (16, 1, 359661568)\n",
      "--- Selection Info ---\n",
      "Data selection shape :               (16, 1, 359661568)\n",
      "Minimum freq (MHz) :               1797.9492215439677\n",
      "Maximum freq (MHz) :                    2802.83203125\n"
     ]
    }
   ],
   "source": [
    "Waterfall(\"../../../../../../../../mnt_blpd7/datax/dl/GBT_57684_57862_HIP63503_fine.h5\", load_data=False).info()"
   ]
  }
 ],
 "metadata": {
  "kernelspec": {
   "display_name": "Python 3",
   "language": "python",
   "name": "python3"
  },
  "language_info": {
   "codemirror_mode": {
    "name": "ipython",
    "version": 3
   },
   "file_extension": ".py",
   "mimetype": "text/x-python",
   "name": "python",
   "nbconvert_exporter": "python",
   "pygments_lexer": "ipython3",
   "version": "3.9.0"
  }
 },
 "nbformat": 4,
 "nbformat_minor": 5
}
