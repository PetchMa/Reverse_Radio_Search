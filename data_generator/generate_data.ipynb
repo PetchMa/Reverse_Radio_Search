{
 "cells": [
  {
   "cell_type": "code",
   "execution_count": 1,
   "id": "704928fa-0dd7-466a-a7f4-faba5a533cde",
   "metadata": {},
   "outputs": [],
   "source": [
    "import os\n",
    "from blimpy import Waterfall\n",
    "import numpy as np\n",
    "import sys\n",
    "import matplotlib.pyplot as plt\n",
    "import pandas as pd"
   ]
  },
  {
   "cell_type": "markdown",
   "id": "8c21438b-13a8-49c7-83cd-2423d212c79a",
   "metadata": {},
   "source": [
    "# Find Training Data"
   ]
  },
  {
   "cell_type": "code",
   "execution_count": 2,
   "id": "cf7bb61d-b0a6-4693-8919-353c23eedb89",
   "metadata": {},
   "outputs": [],
   "source": [
    "# !wget https://raw.githubusercontent.com/PetchMa/ML_GBT_SETI/main/data_archive/fine_cadences_formatted_updated_big.csv"
   ]
  },
  {
   "cell_type": "code",
   "execution_count": 3,
   "id": "0b1fdd2a-bf07-45b5-835f-22f7997f7b2f",
   "metadata": {},
   "outputs": [],
   "source": [
    "# df = pd.read_csv(\"fine_cadences_formatted_updated_big.csv\")\n",
    "# all_targets = df.columns[1:]\n",
    "\n",
    "# # randomly select 10 for training\n",
    "# num_cadence_training = 5\n",
    "# training_target= np.random.choice(all_targets, num_cadence_training, replace=False) \n",
    "# print(training_target)\n",
    "# training_data_directory = df[training_target]\n",
    "# training_data_directory.to_csv(\"train_directories.csv\")\n",
    "# print()\n",
    "# # randomly select 3 for test\n",
    "# num_cadence_test = 2\n",
    "# test_target = np.random.choice(all_targets, num_cadence_test, replace=False) \n",
    "# print(test_target)\n",
    "# testing_data_directory = df[test_target]\n",
    "# testing_data_directory.to_csv(\"test_directories.csv\")\n",
    "\n",
    "# new_untouched_df = df.drop(test_target, axis = 1).drop(training_target, axis = 1)\n",
    "# new_untouched_df.to_csv(\"untouched_list.csv\")"
   ]
  },
  {
   "cell_type": "markdown",
   "id": "0d5cab1d-a663-412c-9416-57c08f5d8e77",
   "metadata": {},
   "source": [
    "# Filter Signals Training"
   ]
  },
  {
   "cell_type": "code",
   "execution_count": null,
   "id": "9c59a902-c054-42d7-b1f0-4d3e32e498b2",
   "metadata": {
    "tags": []
   },
   "outputs": [
    {
     "name": "stdout",
     "output_type": "stream",
     "text": [
      "HIP44295-23\n",
      "/mnt_blpd7/datax/dl/GBT_57515_81866_HIP44295_fine.h5\n",
      "Header saved to ../../../../../../datax/scratch/pma/reverse_search/train_large/HIP44295-23/GBT_57515_81866_HIP44295_fine/header.pkl\n",
      "Processing 3 in parallel\n",
      "Processing coarse channels 0-3\n"
     ]
    },
    {
     "name": "stderr",
     "output_type": "stream",
     "text": [
      "  0%|          | 0/101 [00:00<?, ?it/s]"
     ]
    },
    {
     "name": "stdout",
     "output_type": "stream",
     "text": [
      "Data loaded in 0.9479 seconds, processing\n",
      "Bandpass cleaned in 1.7029 seconds.\n",
      "Stamps filtered in 15.1753 seconds\n",
      "Saving results\n"
     ]
    },
    {
     "name": "stderr",
     "output_type": "stream",
     "text": [
      "  1%|          | 1/101 [00:18<31:11, 18.72s/it]"
     ]
    },
    {
     "name": "stdout",
     "output_type": "stream",
     "text": [
      "Results aggregated in 0.8732 seconds\n",
      "Processing coarse channels 3-6\n",
      "Data loaded in 1.1563 seconds, processing\n",
      "Bandpass cleaned in 1.7534 seconds.\n",
      "Stamps filtered in 15.6413 seconds\n",
      "Saving results\n",
      "Results aggregated in 0.0660 seconds\n",
      "Processing coarse channels 6-9\n"
     ]
    },
    {
     "name": "stderr",
     "output_type": "stream",
     "text": [
      "  2%|▏         | 2/101 [00:37<30:47, 18.66s/it]"
     ]
    },
    {
     "name": "stdout",
     "output_type": "stream",
     "text": [
      "Data loaded in 0.7234 seconds, processing\n",
      "Bandpass cleaned in 1.6319 seconds.\n",
      "Stamps filtered in 15.8837 seconds\n",
      "Saving results\n",
      "Results aggregated in 0.0306 seconds\n",
      "Processing coarse channels 9-12\n"
     ]
    },
    {
     "name": "stderr",
     "output_type": "stream",
     "text": [
      "  3%|▎         | 3/101 [00:55<30:11, 18.49s/it]"
     ]
    },
    {
     "name": "stdout",
     "output_type": "stream",
     "text": [
      "Data loaded in 0.7820 seconds, processing\n",
      "Bandpass cleaned in 1.7322 seconds.\n",
      "Stamps filtered in 16.1949 seconds\n",
      "Saving results\n",
      "Results aggregated in 0.0323 seconds\n",
      "Processing coarse channels 12-15\n"
     ]
    },
    {
     "name": "stderr",
     "output_type": "stream",
     "text": [
      "  4%|▍         | 4/101 [01:14<30:03, 18.59s/it]"
     ]
    },
    {
     "name": "stdout",
     "output_type": "stream",
     "text": [
      "Data loaded in 0.7884 seconds, processing\n",
      "Bandpass cleaned in 1.6416 seconds.\n",
      "Stamps filtered in 15.3079 seconds\n",
      "Saving results\n",
      "Results aggregated in 0.0301 seconds\n",
      "Processing coarse channels 15-18\n"
     ]
    },
    {
     "name": "stderr",
     "output_type": "stream",
     "text": [
      "  5%|▍         | 5/101 [01:32<29:16, 18.29s/it]"
     ]
    },
    {
     "name": "stdout",
     "output_type": "stream",
     "text": [
      "Data loaded in 0.7793 seconds, processing\n",
      "Bandpass cleaned in 1.7179 seconds.\n",
      "Stamps filtered in 14.9828 seconds\n",
      "Saving results\n",
      "Results aggregated in 0.0349 seconds\n",
      "Processing coarse channels 18-21\n"
     ]
    },
    {
     "name": "stderr",
     "output_type": "stream",
     "text": [
      "  6%|▌         | 6/101 [01:49<28:33, 18.03s/it]"
     ]
    },
    {
     "name": "stdout",
     "output_type": "stream",
     "text": [
      "Data loaded in 0.9466 seconds, processing\n",
      "Bandpass cleaned in 1.7123 seconds.\n",
      "Stamps filtered in 15.3683 seconds\n",
      "Saving results\n",
      "Results aggregated in 0.0330 seconds\n",
      "Processing coarse channels 21-24\n"
     ]
    },
    {
     "name": "stderr",
     "output_type": "stream",
     "text": [
      "  7%|▋         | 7/101 [02:07<28:16, 18.04s/it]"
     ]
    },
    {
     "name": "stdout",
     "output_type": "stream",
     "text": [
      "Data loaded in 0.7853 seconds, processing\n",
      "Bandpass cleaned in 1.6850 seconds.\n",
      "Stamps filtered in 15.4205 seconds\n",
      "Saving results\n",
      "Results aggregated in 0.0288 seconds\n",
      "Processing coarse channels 24-27\n"
     ]
    },
    {
     "name": "stderr",
     "output_type": "stream",
     "text": [
      "  8%|▊         | 8/101 [02:25<27:54, 18.01s/it]"
     ]
    },
    {
     "name": "stdout",
     "output_type": "stream",
     "text": [
      "Data loaded in 0.7751 seconds, processing\n",
      "Bandpass cleaned in 1.7130 seconds.\n",
      "Stamps filtered in 15.4429 seconds\n",
      "Saving results\n",
      "Results aggregated in 0.0326 seconds\n",
      "Processing coarse channels 27-30\n"
     ]
    },
    {
     "name": "stderr",
     "output_type": "stream",
     "text": [
      "  9%|▉         | 9/101 [02:43<27:35, 17.99s/it]"
     ]
    },
    {
     "name": "stdout",
     "output_type": "stream",
     "text": [
      "Data loaded in 0.7921 seconds, processing\n",
      "Bandpass cleaned in 1.7044 seconds.\n",
      "Stamps filtered in 15.4989 seconds\n",
      "Saving results\n",
      "Results aggregated in 0.0339 seconds\n",
      "Processing coarse channels 30-33\n"
     ]
    },
    {
     "name": "stderr",
     "output_type": "stream",
     "text": [
      " 10%|▉         | 10/101 [03:01<27:18, 18.01s/it]"
     ]
    },
    {
     "name": "stdout",
     "output_type": "stream",
     "text": [
      "Data loaded in 0.7768 seconds, processing\n",
      "Bandpass cleaned in 1.6616 seconds.\n",
      "Stamps filtered in 15.8487 seconds\n",
      "Saving results\n",
      "Results aggregated in 0.0328 seconds\n",
      "Processing coarse channels 33-36\n"
     ]
    },
    {
     "name": "stderr",
     "output_type": "stream",
     "text": [
      " 11%|█         | 11/101 [03:19<27:09, 18.10s/it]"
     ]
    },
    {
     "name": "stdout",
     "output_type": "stream",
     "text": [
      "Data loaded in 0.8172 seconds, processing\n",
      "Bandpass cleaned in 1.7069 seconds.\n",
      "Stamps filtered in 15.2300 seconds\n",
      "Saving results\n",
      "Results aggregated in 0.0325 seconds\n",
      "Processing coarse channels 36-39\n"
     ]
    },
    {
     "name": "stderr",
     "output_type": "stream",
     "text": [
      " 12%|█▏        | 12/101 [03:37<26:42, 18.01s/it]"
     ]
    },
    {
     "name": "stdout",
     "output_type": "stream",
     "text": [
      "Data loaded in 0.7443 seconds, processing\n",
      "Bandpass cleaned in 1.6922 seconds.\n",
      "Stamps filtered in 15.1589 seconds\n",
      "Saving results\n",
      "Results aggregated in 0.0319 seconds\n",
      "Processing coarse channels 39-42\n"
     ]
    },
    {
     "name": "stderr",
     "output_type": "stream",
     "text": [
      " 13%|█▎        | 13/101 [03:55<26:14, 17.90s/it]"
     ]
    },
    {
     "name": "stdout",
     "output_type": "stream",
     "text": [
      "Data loaded in 0.7440 seconds, processing\n",
      "Bandpass cleaned in 1.6735 seconds.\n",
      "Stamps filtered in 16.5755 seconds\n",
      "Saving results\n",
      "Results aggregated in 0.0345 seconds\n",
      "Processing coarse channels 42-45\n"
     ]
    },
    {
     "name": "stderr",
     "output_type": "stream",
     "text": [
      " 14%|█▍        | 14/101 [04:14<26:26, 18.24s/it]"
     ]
    },
    {
     "name": "stdout",
     "output_type": "stream",
     "text": [
      "Data loaded in 0.7862 seconds, processing\n",
      "Bandpass cleaned in 1.7067 seconds.\n",
      "Stamps filtered in 15.7907 seconds\n",
      "Saving results\n",
      "Results aggregated in 0.0351 seconds\n",
      "Processing coarse channels 45-48\n"
     ]
    },
    {
     "name": "stderr",
     "output_type": "stream",
     "text": [
      " 15%|█▍        | 15/101 [04:32<26:10, 18.26s/it]"
     ]
    },
    {
     "name": "stdout",
     "output_type": "stream",
     "text": [
      "Data loaded in 0.7688 seconds, processing\n",
      "Bandpass cleaned in 1.7314 seconds.\n",
      "Stamps filtered in 15.6548 seconds\n",
      "Saving results\n",
      "Results aggregated in 0.0339 seconds\n",
      "Processing coarse channels 48-51\n"
     ]
    },
    {
     "name": "stderr",
     "output_type": "stream",
     "text": [
      " 16%|█▌        | 16/101 [04:50<25:50, 18.24s/it]"
     ]
    },
    {
     "name": "stdout",
     "output_type": "stream",
     "text": [
      "Data loaded in 0.7562 seconds, processing\n",
      "Bandpass cleaned in 1.6669 seconds.\n",
      "Stamps filtered in 15.4832 seconds\n",
      "Saving results\n",
      "Results aggregated in 0.0316 seconds\n",
      "Processing coarse channels 51-54\n"
     ]
    },
    {
     "name": "stderr",
     "output_type": "stream",
     "text": [
      " 17%|█▋        | 17/101 [05:08<25:24, 18.15s/it]"
     ]
    },
    {
     "name": "stdout",
     "output_type": "stream",
     "text": [
      "Data loaded in 0.7563 seconds, processing\n",
      "Bandpass cleaned in 1.6704 seconds.\n",
      "Stamps filtered in 16.2321 seconds\n",
      "Saving results\n",
      "Results aggregated in 0.0328 seconds\n",
      "Processing coarse channels 54-57\n"
     ]
    },
    {
     "name": "stderr",
     "output_type": "stream",
     "text": [
      " 18%|█▊        | 18/101 [05:27<25:20, 18.32s/it]"
     ]
    },
    {
     "name": "stdout",
     "output_type": "stream",
     "text": [
      "Data loaded in 0.7567 seconds, processing\n",
      "Bandpass cleaned in 1.6940 seconds.\n",
      "Stamps filtered in 15.4622 seconds\n",
      "Saving results\n",
      "Results aggregated in 0.0343 seconds\n",
      "Processing coarse channels 57-60\n"
     ]
    },
    {
     "name": "stderr",
     "output_type": "stream",
     "text": [
      " 19%|█▉        | 19/101 [05:45<24:53, 18.21s/it]"
     ]
    },
    {
     "name": "stdout",
     "output_type": "stream",
     "text": [
      "Data loaded in 1.1465 seconds, processing\n",
      "Bandpass cleaned in 1.6017 seconds.\n",
      "Stamps filtered in 15.6296 seconds\n",
      "Saving results\n",
      "Results aggregated in 0.0346 seconds\n",
      "Processing coarse channels 60-63\n"
     ]
    },
    {
     "name": "stderr",
     "output_type": "stream",
     "text": [
      " 20%|█▉        | 20/101 [06:03<24:39, 18.27s/it]"
     ]
    },
    {
     "name": "stdout",
     "output_type": "stream",
     "text": [
      "Data loaded in 0.7746 seconds, processing\n",
      "Bandpass cleaned in 1.6944 seconds.\n",
      "Stamps filtered in 15.3426 seconds\n",
      "Saving results\n",
      "Results aggregated in 0.0326 seconds\n",
      "Processing coarse channels 63-66\n"
     ]
    },
    {
     "name": "stderr",
     "output_type": "stream",
     "text": [
      " 21%|██        | 21/101 [06:21<24:11, 18.15s/it]"
     ]
    },
    {
     "name": "stdout",
     "output_type": "stream",
     "text": [
      "Data loaded in 0.7420 seconds, processing\n",
      "Bandpass cleaned in 1.6250 seconds.\n",
      "Stamps filtered in 15.1460 seconds\n",
      "Saving results\n",
      "Results aggregated in 0.0333 seconds\n",
      "Processing coarse channels 66-69\n"
     ]
    },
    {
     "name": "stderr",
     "output_type": "stream",
     "text": [
      " 22%|██▏       | 22/101 [06:39<23:39, 17.97s/it]"
     ]
    },
    {
     "name": "stdout",
     "output_type": "stream",
     "text": [
      "Data loaded in 0.7564 seconds, processing\n",
      "Bandpass cleaned in 1.6521 seconds.\n",
      "Stamps filtered in 15.4825 seconds\n",
      "Saving results\n",
      "Results aggregated in 0.0327 seconds\n",
      "Processing coarse channels 69-72\n"
     ]
    },
    {
     "name": "stderr",
     "output_type": "stream",
     "text": [
      " 23%|██▎       | 23/101 [06:57<23:20, 17.96s/it]"
     ]
    },
    {
     "name": "stdout",
     "output_type": "stream",
     "text": [
      "Data loaded in 0.7535 seconds, processing\n",
      "Bandpass cleaned in 1.5687 seconds.\n",
      "Stamps filtered in 15.3464 seconds\n",
      "Saving results\n",
      "Results aggregated in 0.0343 seconds\n",
      "Processing coarse channels 72-75\n"
     ]
    },
    {
     "name": "stderr",
     "output_type": "stream",
     "text": [
      " 24%|██▍       | 24/101 [07:15<22:56, 17.88s/it]"
     ]
    },
    {
     "name": "stdout",
     "output_type": "stream",
     "text": [
      "Data loaded in 0.7469 seconds, processing\n",
      "Bandpass cleaned in 1.6176 seconds.\n",
      "Stamps filtered in 15.6917 seconds\n",
      "Saving results\n",
      "Results aggregated in 0.0342 seconds\n",
      "Processing coarse channels 75-78\n"
     ]
    },
    {
     "name": "stderr",
     "output_type": "stream",
     "text": [
      " 25%|██▍       | 25/101 [07:33<22:43, 17.95s/it]"
     ]
    },
    {
     "name": "stdout",
     "output_type": "stream",
     "text": [
      "Data loaded in 0.7931 seconds, processing\n",
      "Bandpass cleaned in 1.7218 seconds.\n",
      "Stamps filtered in 15.1050 seconds\n",
      "Saving results\n",
      "Results aggregated in 0.0730 seconds\n",
      "Processing coarse channels 78-81\n"
     ]
    },
    {
     "name": "stderr",
     "output_type": "stream",
     "text": [
      " 26%|██▌       | 26/101 [07:50<22:20, 17.87s/it]"
     ]
    },
    {
     "name": "stdout",
     "output_type": "stream",
     "text": [
      "Data loaded in 0.7977 seconds, processing\n",
      "Bandpass cleaned in 1.5642 seconds.\n",
      "Stamps filtered in 15.6026 seconds\n",
      "Saving results\n"
     ]
    },
    {
     "name": "stderr",
     "output_type": "stream",
     "text": [
      " 27%|██▋       | 27/101 [08:09<22:11, 17.99s/it]"
     ]
    },
    {
     "name": "stdout",
     "output_type": "stream",
     "text": [
      "Results aggregated in 0.2810 seconds\n",
      "Processing coarse channels 81-84\n",
      "Data loaded in 0.8005 seconds, processing\n",
      "Bandpass cleaned in 1.7124 seconds.\n",
      "Stamps filtered in 15.6121 seconds\n",
      "Saving results\n",
      "Results aggregated in 0.1862 seconds\n",
      "Processing coarse channels 84-87\n"
     ]
    },
    {
     "name": "stderr",
     "output_type": "stream",
     "text": [
      " 28%|██▊       | 28/101 [08:27<22:00, 18.09s/it]"
     ]
    },
    {
     "name": "stdout",
     "output_type": "stream",
     "text": [
      "Data loaded in 0.7649 seconds, processing\n",
      "Bandpass cleaned in 1.6103 seconds.\n",
      "Stamps filtered in 15.5283 seconds\n",
      "Saving results\n",
      "Results aggregated in 0.0920 seconds\n",
      "Processing coarse channels 87-90\n"
     ]
    },
    {
     "name": "stderr",
     "output_type": "stream",
     "text": [
      " 29%|██▊       | 29/101 [08:45<21:40, 18.06s/it]"
     ]
    },
    {
     "name": "stdout",
     "output_type": "stream",
     "text": [
      "Data loaded in 0.7867 seconds, processing\n",
      "Bandpass cleaned in 1.6089 seconds.\n",
      "Stamps filtered in 15.8471 seconds\n",
      "Saving results\n",
      "Results aggregated in 0.0437 seconds\n",
      "Processing coarse channels 90-93\n"
     ]
    },
    {
     "name": "stderr",
     "output_type": "stream",
     "text": [
      " 30%|██▉       | 30/101 [09:03<21:27, 18.13s/it]"
     ]
    },
    {
     "name": "stdout",
     "output_type": "stream",
     "text": [
      "Data loaded in 0.7528 seconds, processing\n",
      "Bandpass cleaned in 1.6975 seconds.\n",
      "Stamps filtered in 15.2973 seconds\n",
      "Saving results\n",
      "Results aggregated in 0.0440 seconds\n",
      "Processing coarse channels 93-96\n"
     ]
    },
    {
     "name": "stderr",
     "output_type": "stream",
     "text": [
      " 31%|███       | 31/101 [09:21<21:02, 18.03s/it]"
     ]
    },
    {
     "name": "stdout",
     "output_type": "stream",
     "text": [
      "Data loaded in 0.9586 seconds, processing\n",
      "Bandpass cleaned in 1.6488 seconds.\n",
      "Stamps filtered in 15.5014 seconds\n",
      "Saving results\n",
      "Results aggregated in 0.0645 seconds\n",
      "Processing coarse channels 96-99\n"
     ]
    },
    {
     "name": "stderr",
     "output_type": "stream",
     "text": [
      " 32%|███▏      | 32/101 [09:39<20:47, 18.08s/it]"
     ]
    },
    {
     "name": "stdout",
     "output_type": "stream",
     "text": [
      "Data loaded in 0.7438 seconds, processing\n",
      "Bandpass cleaned in 1.5545 seconds.\n",
      "Stamps filtered in 15.7855 seconds\n",
      "Saving results\n",
      "Results aggregated in 0.0661 seconds\n",
      "Processing coarse channels 99-102\n"
     ]
    },
    {
     "name": "stderr",
     "output_type": "stream",
     "text": [
      " 33%|███▎      | 33/101 [09:57<20:30, 18.10s/it]"
     ]
    },
    {
     "name": "stdout",
     "output_type": "stream",
     "text": [
      "Data loaded in 0.7698 seconds, processing\n",
      "Bandpass cleaned in 1.6870 seconds.\n",
      "Stamps filtered in 15.9250 seconds\n",
      "Saving results\n"
     ]
    },
    {
     "name": "stderr",
     "output_type": "stream",
     "text": [
      " 34%|███▎      | 34/101 [10:16<20:32, 18.39s/it]"
     ]
    },
    {
     "name": "stdout",
     "output_type": "stream",
     "text": [
      "Results aggregated in 0.6717 seconds\n",
      "Processing coarse channels 102-105\n",
      "Data loaded in 0.8256 seconds, processing\n",
      "Bandpass cleaned in 1.6891 seconds.\n",
      "Stamps filtered in 15.0843 seconds\n",
      "Saving results\n"
     ]
    },
    {
     "name": "stderr",
     "output_type": "stream",
     "text": [
      " 35%|███▍      | 35/101 [10:35<20:19, 18.48s/it]"
     ]
    },
    {
     "name": "stdout",
     "output_type": "stream",
     "text": [
      "Results aggregated in 1.0564 seconds\n",
      "Processing coarse channels 105-108\n",
      "Data loaded in 0.8246 seconds, processing\n",
      "Bandpass cleaned in 1.7422 seconds.\n",
      "Stamps filtered in 15.5041 seconds\n",
      "Saving results\n",
      "Results aggregated in 0.0714 seconds\n",
      "Processing coarse channels 108-111\n"
     ]
    },
    {
     "name": "stderr",
     "output_type": "stream",
     "text": [
      " 36%|███▌      | 36/101 [10:53<19:54, 18.38s/it]"
     ]
    },
    {
     "name": "stdout",
     "output_type": "stream",
     "text": [
      "Data loaded in 0.7347 seconds, processing\n",
      "Bandpass cleaned in 1.6159 seconds.\n",
      "Stamps filtered in 15.1207 seconds\n",
      "Saving results\n"
     ]
    },
    {
     "name": "stderr",
     "output_type": "stream",
     "text": [
      " 37%|███▋      | 37/101 [11:12<19:34, 18.35s/it]"
     ]
    },
    {
     "name": "stdout",
     "output_type": "stream",
     "text": [
      "Results aggregated in 0.8064 seconds\n",
      "Processing coarse channels 111-114\n",
      "Data loaded in 0.8050 seconds, processing\n",
      "Bandpass cleaned in 1.7366 seconds.\n",
      "Stamps filtered in 15.3121 seconds\n",
      "Saving results\n"
     ]
    },
    {
     "name": "stderr",
     "output_type": "stream",
     "text": [
      " 38%|███▊      | 38/101 [11:30<19:19, 18.40s/it]"
     ]
    },
    {
     "name": "stdout",
     "output_type": "stream",
     "text": [
      "Results aggregated in 0.6377 seconds\n",
      "Processing coarse channels 114-117\n",
      "Data loaded in 0.7658 seconds, processing\n",
      "Bandpass cleaned in 1.6331 seconds.\n",
      "Stamps filtered in 15.3309 seconds\n",
      "Saving results\n"
     ]
    },
    {
     "name": "stderr",
     "output_type": "stream",
     "text": [
      " 39%|███▊      | 39/101 [11:48<19:01, 18.41s/it]"
     ]
    },
    {
     "name": "stdout",
     "output_type": "stream",
     "text": [
      "Results aggregated in 0.7002 seconds\n",
      "Processing coarse channels 117-120\n",
      "Data loaded in 0.7886 seconds, processing\n",
      "Bandpass cleaned in 1.6381 seconds.\n",
      "Stamps filtered in 15.3652 seconds\n",
      "Saving results\n"
     ]
    },
    {
     "name": "stderr",
     "output_type": "stream",
     "text": [
      " 40%|███▉      | 40/101 [12:08<19:01, 18.72s/it]"
     ]
    },
    {
     "name": "stdout",
     "output_type": "stream",
     "text": [
      "Results aggregated in 1.6172 seconds\n",
      "Processing coarse channels 120-123\n",
      "Data loaded in 0.8203 seconds, processing\n",
      "Bandpass cleaned in 1.8152 seconds.\n",
      "Stamps filtered in 15.3409 seconds\n",
      "Saving results\n"
     ]
    },
    {
     "name": "stderr",
     "output_type": "stream",
     "text": [
      " 41%|████      | 41/101 [12:26<18:36, 18.61s/it]"
     ]
    },
    {
     "name": "stdout",
     "output_type": "stream",
     "text": [
      "Results aggregated in 0.3623 seconds\n",
      "Processing coarse channels 123-126\n",
      "Data loaded in 0.8084 seconds, processing\n",
      "Bandpass cleaned in 1.7229 seconds.\n",
      "Stamps filtered in 15.2532 seconds\n",
      "Saving results\n"
     ]
    },
    {
     "name": "stderr",
     "output_type": "stream",
     "text": [
      " 42%|████▏     | 42/101 [12:45<18:22, 18.69s/it]"
     ]
    },
    {
     "name": "stdout",
     "output_type": "stream",
     "text": [
      "Results aggregated in 1.0855 seconds\n",
      "Processing coarse channels 126-129\n",
      "Data loaded in 0.8231 seconds, processing\n",
      "Bandpass cleaned in 1.6291 seconds.\n",
      "Stamps filtered in 15.6795 seconds\n",
      "Saving results\n"
     ]
    },
    {
     "name": "stderr",
     "output_type": "stream",
     "text": [
      " 43%|████▎     | 43/101 [13:04<18:12, 18.84s/it]"
     ]
    },
    {
     "name": "stdout",
     "output_type": "stream",
     "text": [
      "Results aggregated in 1.0375 seconds\n",
      "Processing coarse channels 129-132\n",
      "Data loaded in 0.8018 seconds, processing\n",
      "Bandpass cleaned in 1.7836 seconds.\n",
      "Stamps filtered in 15.4409 seconds\n",
      "Saving results\n"
     ]
    },
    {
     "name": "stderr",
     "output_type": "stream",
     "text": [
      " 44%|████▎     | 44/101 [13:23<17:56, 18.88s/it]"
     ]
    },
    {
     "name": "stdout",
     "output_type": "stream",
     "text": [
      "Results aggregated in 0.9396 seconds\n",
      "Processing coarse channels 132-135\n",
      "Data loaded in 0.8505 seconds, processing\n",
      "Bandpass cleaned in 1.7778 seconds.\n",
      "Stamps filtered in 15.5108 seconds\n",
      "Saving results\n"
     ]
    },
    {
     "name": "stderr",
     "output_type": "stream",
     "text": [
      " 45%|████▍     | 45/101 [13:42<17:37, 18.89s/it]"
     ]
    },
    {
     "name": "stdout",
     "output_type": "stream",
     "text": [
      "Results aggregated in 0.7363 seconds\n",
      "Processing coarse channels 135-138\n",
      "Data loaded in 0.7907 seconds, processing\n",
      "Bandpass cleaned in 1.6939 seconds.\n",
      "Stamps filtered in 15.3406 seconds\n",
      "Saving results\n",
      "Results aggregated in 0.0792 seconds\n",
      "Processing coarse channels 138-141\n"
     ]
    },
    {
     "name": "stderr",
     "output_type": "stream",
     "text": [
      " 46%|████▌     | 46/101 [14:00<17:02, 18.59s/it]"
     ]
    },
    {
     "name": "stdout",
     "output_type": "stream",
     "text": [
      "Data loaded in 0.7960 seconds, processing\n",
      "Bandpass cleaned in 1.7169 seconds.\n",
      "Stamps filtered in 16.0822 seconds\n",
      "Saving results\n",
      "Results aggregated in 0.0513 seconds\n",
      "Processing coarse channels 141-144\n"
     ]
    },
    {
     "name": "stderr",
     "output_type": "stream",
     "text": [
      " 47%|████▋     | 47/101 [14:19<16:44, 18.61s/it]"
     ]
    },
    {
     "name": "stdout",
     "output_type": "stream",
     "text": [
      "Data loaded in 0.7704 seconds, processing\n",
      "Bandpass cleaned in 1.6362 seconds.\n",
      "Stamps filtered in 15.1901 seconds\n",
      "Saving results\n",
      "Results aggregated in 0.0522 seconds\n",
      "Processing coarse channels 144-147\n"
     ]
    },
    {
     "name": "stderr",
     "output_type": "stream",
     "text": [
      " 48%|████▊     | 48/101 [14:36<16:11, 18.32s/it]"
     ]
    },
    {
     "name": "stdout",
     "output_type": "stream",
     "text": [
      "Data loaded in 0.8062 seconds, processing\n",
      "Bandpass cleaned in 1.7568 seconds.\n",
      "Stamps filtered in 16.1900 seconds\n",
      "Saving results\n",
      "Results aggregated in 0.0514 seconds\n",
      "Processing coarse channels 147-150\n"
     ]
    },
    {
     "name": "stderr",
     "output_type": "stream",
     "text": [
      " 49%|████▊     | 49/101 [14:55<16:00, 18.47s/it]"
     ]
    },
    {
     "name": "stdout",
     "output_type": "stream",
     "text": [
      "Data loaded in 0.8208 seconds, processing\n",
      "Bandpass cleaned in 1.7232 seconds.\n",
      "Stamps filtered in 15.0463 seconds\n",
      "Saving results\n",
      "Results aggregated in 0.0494 seconds\n",
      "Processing coarse channels 150-153\n"
     ]
    },
    {
     "name": "stderr",
     "output_type": "stream",
     "text": [
      " 50%|████▉     | 50/101 [15:13<15:29, 18.22s/it]"
     ]
    },
    {
     "name": "stdout",
     "output_type": "stream",
     "text": [
      "Data loaded in 0.7647 seconds, processing\n",
      "Bandpass cleaned in 1.6383 seconds.\n",
      "Stamps filtered in 15.3666 seconds\n",
      "Saving results\n",
      "Results aggregated in 0.0511 seconds\n",
      "Processing coarse channels 153-156\n"
     ]
    },
    {
     "name": "stderr",
     "output_type": "stream",
     "text": [
      " 50%|█████     | 51/101 [15:31<15:05, 18.10s/it]"
     ]
    },
    {
     "name": "stdout",
     "output_type": "stream",
     "text": [
      "Data loaded in 0.7788 seconds, processing\n",
      "Bandpass cleaned in 1.7460 seconds.\n",
      "Stamps filtered in 15.5643 seconds\n",
      "Saving results\n",
      "Results aggregated in 0.0550 seconds\n",
      "Processing coarse channels 156-159\n"
     ]
    },
    {
     "name": "stderr",
     "output_type": "stream",
     "text": [
      " 51%|█████▏    | 52/101 [15:49<14:47, 18.12s/it]"
     ]
    },
    {
     "name": "stdout",
     "output_type": "stream",
     "text": [
      "Data loaded in 0.8004 seconds, processing\n",
      "Bandpass cleaned in 1.6951 seconds.\n",
      "Stamps filtered in 16.3086 seconds\n",
      "Saving results\n",
      "Results aggregated in 0.0555 seconds\n",
      "Processing coarse channels 159-162\n"
     ]
    },
    {
     "name": "stderr",
     "output_type": "stream",
     "text": [
      " 52%|█████▏    | 53/101 [16:08<14:40, 18.34s/it]"
     ]
    },
    {
     "name": "stdout",
     "output_type": "stream",
     "text": [
      "Data loaded in 0.8056 seconds, processing\n",
      "Bandpass cleaned in 1.7283 seconds.\n",
      "Stamps filtered in 15.2822 seconds\n",
      "Saving results\n",
      "Results aggregated in 0.0536 seconds\n",
      "Processing coarse channels 162-165\n"
     ]
    },
    {
     "name": "stderr",
     "output_type": "stream",
     "text": [
      " 53%|█████▎    | 54/101 [16:26<14:15, 18.20s/it]"
     ]
    },
    {
     "name": "stdout",
     "output_type": "stream",
     "text": [
      "Data loaded in 0.7878 seconds, processing\n",
      "Bandpass cleaned in 1.6376 seconds.\n",
      "Stamps filtered in 14.5751 seconds\n",
      "Saving results\n",
      "Results aggregated in 0.0613 seconds\n",
      "Processing coarse channels 165-168\n"
     ]
    },
    {
     "name": "stderr",
     "output_type": "stream",
     "text": [
      " 54%|█████▍    | 55/101 [16:43<13:41, 17.86s/it]"
     ]
    },
    {
     "name": "stdout",
     "output_type": "stream",
     "text": [
      "Data loaded in 0.8267 seconds, processing\n",
      "Bandpass cleaned in 1.6552 seconds.\n",
      "Stamps filtered in 16.5130 seconds\n",
      "Saving results\n",
      "Results aggregated in 0.0531 seconds\n",
      "Processing coarse channels 168-171\n"
     ]
    },
    {
     "name": "stderr",
     "output_type": "stream",
     "text": [
      " 55%|█████▌    | 56/101 [17:02<13:39, 18.22s/it]"
     ]
    },
    {
     "name": "stdout",
     "output_type": "stream",
     "text": [
      "Data loaded in 0.7779 seconds, processing\n",
      "Bandpass cleaned in 1.6898 seconds.\n",
      "Stamps filtered in 16.2084 seconds\n",
      "Saving results\n",
      "Results aggregated in 0.0559 seconds\n",
      "Processing coarse channels 171-174\n"
     ]
    },
    {
     "name": "stderr",
     "output_type": "stream",
     "text": [
      " 56%|█████▋    | 57/101 [17:20<13:28, 18.38s/it]"
     ]
    },
    {
     "name": "stdout",
     "output_type": "stream",
     "text": [
      "Data loaded in 0.9388 seconds, processing\n",
      "Bandpass cleaned in 1.6488 seconds.\n",
      "Stamps filtered in 15.0999 seconds\n",
      "Saving results\n",
      "Results aggregated in 0.0559 seconds\n",
      "Processing coarse channels 174-177\n"
     ]
    },
    {
     "name": "stderr",
     "output_type": "stream",
     "text": [
      " 57%|█████▋    | 58/101 [17:38<13:02, 18.19s/it]"
     ]
    },
    {
     "name": "stdout",
     "output_type": "stream",
     "text": [
      "Data loaded in 0.8024 seconds, processing\n",
      "Bandpass cleaned in 1.5823 seconds.\n",
      "Stamps filtered in 15.3768 seconds\n",
      "Saving results\n",
      "Results aggregated in 0.0548 seconds\n",
      "Processing coarse channels 177-180\n"
     ]
    },
    {
     "name": "stderr",
     "output_type": "stream",
     "text": [
      " 58%|█████▊    | 59/101 [17:56<12:39, 18.08s/it]"
     ]
    },
    {
     "name": "stdout",
     "output_type": "stream",
     "text": [
      "Data loaded in 0.8148 seconds, processing\n",
      "Bandpass cleaned in 1.7374 seconds.\n",
      "Stamps filtered in 15.4582 seconds\n",
      "Saving results\n",
      "Results aggregated in 0.0543 seconds\n",
      "Processing coarse channels 180-183\n"
     ]
    },
    {
     "name": "stderr",
     "output_type": "stream",
     "text": [
      " 59%|█████▉    | 60/101 [18:14<12:21, 18.08s/it]"
     ]
    },
    {
     "name": "stdout",
     "output_type": "stream",
     "text": [
      "Data loaded in 0.7573 seconds, processing\n",
      "Bandpass cleaned in 1.6002 seconds.\n",
      "Stamps filtered in 16.1540 seconds\n",
      "Saving results\n",
      "Results aggregated in 0.0572 seconds\n",
      "Processing coarse channels 183-186\n"
     ]
    },
    {
     "name": "stderr",
     "output_type": "stream",
     "text": [
      " 60%|██████    | 61/101 [18:33<12:09, 18.23s/it]"
     ]
    },
    {
     "name": "stdout",
     "output_type": "stream",
     "text": [
      "Data loaded in 0.7674 seconds, processing\n",
      "Bandpass cleaned in 1.6376 seconds.\n",
      "Stamps filtered in 15.5298 seconds\n",
      "Saving results\n",
      "Results aggregated in 0.0589 seconds\n",
      "Processing coarse channels 186-189\n"
     ]
    },
    {
     "name": "stderr",
     "output_type": "stream",
     "text": [
      " 61%|██████▏   | 62/101 [18:51<11:48, 18.16s/it]"
     ]
    },
    {
     "name": "stdout",
     "output_type": "stream",
     "text": [
      "Data loaded in 0.8886 seconds, processing\n",
      "Bandpass cleaned in 1.7449 seconds.\n",
      "Stamps filtered in 15.8293 seconds\n",
      "Saving results\n",
      "Results aggregated in 0.0507 seconds\n",
      "Processing coarse channels 189-192\n"
     ]
    },
    {
     "name": "stderr",
     "output_type": "stream",
     "text": [
      " 62%|██████▏   | 63/101 [19:09<11:34, 18.27s/it]"
     ]
    },
    {
     "name": "stdout",
     "output_type": "stream",
     "text": [
      "Data loaded in 0.8105 seconds, processing\n",
      "Bandpass cleaned in 1.7290 seconds.\n",
      "Stamps filtered in 15.5667 seconds\n",
      "Saving results\n",
      "Results aggregated in 0.0543 seconds\n",
      "Processing coarse channels 192-195\n"
     ]
    },
    {
     "name": "stderr",
     "output_type": "stream",
     "text": [
      " 63%|██████▎   | 64/101 [19:27<11:14, 18.24s/it]"
     ]
    },
    {
     "name": "stdout",
     "output_type": "stream",
     "text": [
      "Data loaded in 0.8280 seconds, processing\n",
      "Bandpass cleaned in 1.6765 seconds.\n",
      "Stamps filtered in 16.1660 seconds\n",
      "Saving results\n",
      "Results aggregated in 0.0546 seconds\n",
      "Processing coarse channels 195-198\n"
     ]
    },
    {
     "name": "stderr",
     "output_type": "stream",
     "text": [
      " 64%|██████▍   | 65/101 [19:46<11:01, 18.39s/it]"
     ]
    },
    {
     "name": "stdout",
     "output_type": "stream",
     "text": [
      "Data loaded in 0.8119 seconds, processing\n",
      "Bandpass cleaned in 1.7443 seconds.\n",
      "Stamps filtered in 15.5369 seconds\n",
      "Saving results\n",
      "Results aggregated in 0.0497 seconds\n",
      "Processing coarse channels 198-201\n"
     ]
    },
    {
     "name": "stderr",
     "output_type": "stream",
     "text": [
      " 65%|██████▌   | 66/101 [20:04<10:41, 18.31s/it]"
     ]
    },
    {
     "name": "stdout",
     "output_type": "stream",
     "text": [
      "Data loaded in 0.7889 seconds, processing\n",
      "Bandpass cleaned in 1.7368 seconds.\n",
      "Stamps filtered in 16.0158 seconds\n",
      "Saving results\n",
      "Results aggregated in 0.0555 seconds\n",
      "Processing coarse channels 201-204\n"
     ]
    },
    {
     "name": "stderr",
     "output_type": "stream",
     "text": [
      " 66%|██████▋   | 67/101 [20:23<10:25, 18.40s/it]"
     ]
    },
    {
     "name": "stdout",
     "output_type": "stream",
     "text": [
      "Data loaded in 0.7828 seconds, processing\n",
      "Bandpass cleaned in 1.6842 seconds.\n",
      "Stamps filtered in 15.5508 seconds\n",
      "Saving results\n",
      "Results aggregated in 0.0530 seconds\n",
      "Processing coarse channels 204-207\n"
     ]
    },
    {
     "name": "stderr",
     "output_type": "stream",
     "text": [
      " 67%|██████▋   | 68/101 [20:41<10:04, 18.30s/it]"
     ]
    },
    {
     "name": "stdout",
     "output_type": "stream",
     "text": [
      "Data loaded in 0.8112 seconds, processing\n",
      "Bandpass cleaned in 1.7278 seconds.\n",
      "Stamps filtered in 15.6676 seconds\n",
      "Saving results\n",
      "Results aggregated in 0.1630 seconds\n",
      "Processing coarse channels 207-210\n"
     ]
    },
    {
     "name": "stderr",
     "output_type": "stream",
     "text": [
      " 68%|██████▊   | 69/101 [20:59<09:46, 18.33s/it]"
     ]
    },
    {
     "name": "stdout",
     "output_type": "stream",
     "text": [
      "Data loaded in 1.0040 seconds, processing\n",
      "Bandpass cleaned in 1.7535 seconds.\n",
      "Stamps filtered in 15.2944 seconds\n",
      "Saving results\n"
     ]
    },
    {
     "name": "stderr",
     "output_type": "stream",
     "text": [
      " 69%|██████▉   | 70/101 [21:19<09:38, 18.65s/it]"
     ]
    },
    {
     "name": "stdout",
     "output_type": "stream",
     "text": [
      "Results aggregated in 1.3295 seconds\n",
      "Processing coarse channels 210-213\n",
      "Data loaded in 0.8078 seconds, processing\n",
      "Bandpass cleaned in 1.7325 seconds.\n",
      "Stamps filtered in 15.5787 seconds\n",
      "Saving results\n",
      "Results aggregated in 0.1110 seconds\n",
      "Processing coarse channels 213-216\n"
     ]
    },
    {
     "name": "stderr",
     "output_type": "stream",
     "text": [
      " 70%|███████   | 71/101 [21:37<09:15, 18.53s/it]"
     ]
    },
    {
     "name": "stdout",
     "output_type": "stream",
     "text": [
      "Data loaded in 0.8000 seconds, processing\n",
      "Bandpass cleaned in 1.7237 seconds.\n",
      "Stamps filtered in 16.5322 seconds\n",
      "Saving results\n",
      "Results aggregated in 0.0546 seconds\n",
      "Processing coarse channels 216-219\n"
     ]
    },
    {
     "name": "stderr",
     "output_type": "stream",
     "text": [
      " 71%|███████▏  | 72/101 [21:56<09:02, 18.70s/it]"
     ]
    },
    {
     "name": "stdout",
     "output_type": "stream",
     "text": [
      "Data loaded in 0.8217 seconds, processing\n",
      "Bandpass cleaned in 1.6968 seconds.\n",
      "Stamps filtered in 15.6879 seconds\n",
      "Saving results\n"
     ]
    },
    {
     "name": "stderr",
     "output_type": "stream",
     "text": [
      " 72%|███████▏  | 73/101 [22:15<08:48, 18.88s/it]"
     ]
    },
    {
     "name": "stdout",
     "output_type": "stream",
     "text": [
      "Results aggregated in 1.0608 seconds\n",
      "Processing coarse channels 219-222\n",
      "Data loaded in 0.9152 seconds, processing\n",
      "Bandpass cleaned in 1.6524 seconds.\n",
      "Stamps filtered in 15.6165 seconds\n",
      "Saving results\n",
      "Results aggregated in 0.0892 seconds\n",
      "Processing coarse channels 222-225\n"
     ]
    },
    {
     "name": "stderr",
     "output_type": "stream",
     "text": [
      " 73%|███████▎  | 74/101 [22:34<08:24, 18.70s/it]"
     ]
    },
    {
     "name": "stdout",
     "output_type": "stream",
     "text": [
      "Data loaded in 0.7921 seconds, processing\n",
      "Bandpass cleaned in 1.7097 seconds.\n",
      "Stamps filtered in 15.7551 seconds\n",
      "Saving results\n",
      "Results aggregated in 0.0585 seconds\n",
      "Processing coarse channels 225-228\n"
     ]
    },
    {
     "name": "stderr",
     "output_type": "stream",
     "text": [
      " 74%|███████▍  | 75/101 [22:52<08:03, 18.59s/it]"
     ]
    },
    {
     "name": "stdout",
     "output_type": "stream",
     "text": [
      "Data loaded in 0.9694 seconds, processing\n",
      "Bandpass cleaned in 1.6499 seconds.\n",
      "Stamps filtered in 15.7064 seconds\n",
      "Saving results\n",
      "Results aggregated in 0.1069 seconds\n",
      "Processing coarse channels 228-231\n"
     ]
    },
    {
     "name": "stderr",
     "output_type": "stream",
     "text": [
      " 75%|███████▌  | 76/101 [23:10<07:43, 18.54s/it]"
     ]
    },
    {
     "name": "stdout",
     "output_type": "stream",
     "text": [
      "Data loaded in 0.7884 seconds, processing\n",
      "Bandpass cleaned in 1.7188 seconds.\n",
      "Stamps filtered in 15.2903 seconds\n",
      "Saving results\n",
      "Results aggregated in 0.0550 seconds\n",
      "Processing coarse channels 231-234\n"
     ]
    },
    {
     "name": "stderr",
     "output_type": "stream",
     "text": [
      " 76%|███████▌  | 77/101 [23:28<07:20, 18.34s/it]"
     ]
    },
    {
     "name": "stdout",
     "output_type": "stream",
     "text": [
      "Data loaded in 0.7670 seconds, processing\n",
      "Bandpass cleaned in 1.6365 seconds.\n",
      "Stamps filtered in 16.5396 seconds\n",
      "Saving results\n",
      "Results aggregated in 0.0586 seconds\n",
      "Processing coarse channels 234-237\n"
     ]
    },
    {
     "name": "stderr",
     "output_type": "stream",
     "text": [
      " 77%|███████▋  | 78/101 [23:47<07:06, 18.54s/it]"
     ]
    },
    {
     "name": "stdout",
     "output_type": "stream",
     "text": [
      "Data loaded in 0.7698 seconds, processing\n",
      "Bandpass cleaned in 1.6475 seconds.\n",
      "Stamps filtered in 15.3548 seconds\n",
      "Saving results\n",
      "Results aggregated in 0.0707 seconds\n",
      "Processing coarse channels 237-240\n"
     ]
    },
    {
     "name": "stderr",
     "output_type": "stream",
     "text": [
      " 78%|███████▊  | 79/101 [24:05<06:43, 18.33s/it]"
     ]
    },
    {
     "name": "stdout",
     "output_type": "stream",
     "text": [
      "Data loaded in 0.7922 seconds, processing\n",
      "Bandpass cleaned in 1.5546 seconds.\n",
      "Stamps filtered in 14.2686 seconds\n",
      "Saving results\n"
     ]
    },
    {
     "name": "stderr",
     "output_type": "stream",
     "text": [
      " 79%|███████▉  | 80/101 [24:22<06:17, 17.96s/it]"
     ]
    },
    {
     "name": "stdout",
     "output_type": "stream",
     "text": [
      "Results aggregated in 0.4733 seconds\n",
      "Processing coarse channels 240-243\n",
      "Data loaded in 0.8120 seconds, processing\n",
      "Bandpass cleaned in 1.6949 seconds.\n",
      "Stamps filtered in 15.4987 seconds\n",
      "Saving results\n"
     ]
    },
    {
     "name": "stderr",
     "output_type": "stream",
     "text": [
      " 80%|████████  | 81/101 [24:43<06:15, 18.75s/it]"
     ]
    },
    {
     "name": "stdout",
     "output_type": "stream",
     "text": [
      "Results aggregated in 2.5514 seconds\n",
      "Processing coarse channels 243-246\n",
      "Data loaded in 0.8416 seconds, processing\n",
      "Bandpass cleaned in 1.7117 seconds.\n",
      "Stamps filtered in 16.4132 seconds\n",
      "Saving results\n"
     ]
    },
    {
     "name": "stderr",
     "output_type": "stream",
     "text": [
      " 81%|████████  | 82/101 [25:03<06:04, 19.20s/it]"
     ]
    },
    {
     "name": "stdout",
     "output_type": "stream",
     "text": [
      "Results aggregated in 1.2550 seconds\n",
      "Processing coarse channels 246-249\n",
      "Data loaded in 0.9956 seconds, processing\n",
      "Bandpass cleaned in 1.6871 seconds.\n",
      "Stamps filtered in 15.2532 seconds\n",
      "Saving results\n",
      "Results aggregated in 0.1455 seconds\n",
      "Processing coarse channels 249-252\n"
     ]
    },
    {
     "name": "stderr",
     "output_type": "stream",
     "text": [
      " 82%|████████▏ | 83/101 [25:21<05:39, 18.87s/it]"
     ]
    },
    {
     "name": "stdout",
     "output_type": "stream",
     "text": [
      "Data loaded in 0.8467 seconds, processing\n",
      "Bandpass cleaned in 1.7855 seconds.\n",
      "Stamps filtered in 15.9610 seconds\n",
      "Saving results\n"
     ]
    },
    {
     "name": "stderr",
     "output_type": "stream",
     "text": [
      " 83%|████████▎ | 84/101 [25:42<05:29, 19.35s/it]"
     ]
    },
    {
     "name": "stdout",
     "output_type": "stream",
     "text": [
      "Results aggregated in 1.8718 seconds\n",
      "Processing coarse channels 252-255\n",
      "Data loaded in 0.8495 seconds, processing\n",
      "Bandpass cleaned in 1.6906 seconds.\n",
      "Stamps filtered in 16.7417 seconds\n",
      "Saving results\n"
     ]
    },
    {
     "name": "stderr",
     "output_type": "stream",
     "text": [
      " 84%|████████▍ | 85/101 [26:03<05:19, 19.97s/it]"
     ]
    },
    {
     "name": "stdout",
     "output_type": "stream",
     "text": [
      "Results aggregated in 2.0905 seconds\n",
      "Processing coarse channels 255-258\n",
      "Data loaded in 0.8477 seconds, processing\n",
      "Bandpass cleaned in 1.7027 seconds.\n",
      "Stamps filtered in 15.3115 seconds\n",
      "Saving results\n",
      "Results aggregated in 0.1542 seconds\n",
      "Processing coarse channels 258-261\n"
     ]
    },
    {
     "name": "stderr",
     "output_type": "stream",
     "text": [
      " 85%|████████▌ | 86/101 [26:21<04:50, 19.39s/it]"
     ]
    },
    {
     "name": "stdout",
     "output_type": "stream",
     "text": [
      "Data loaded in 0.7548 seconds, processing\n",
      "Bandpass cleaned in 1.6684 seconds.\n",
      "Stamps filtered in 15.7644 seconds\n",
      "Saving results\n",
      "Results aggregated in 0.0658 seconds\n",
      "Processing coarse channels 261-264\n"
     ]
    },
    {
     "name": "stderr",
     "output_type": "stream",
     "text": [
      " 86%|████████▌ | 87/101 [26:39<04:26, 19.05s/it]"
     ]
    },
    {
     "name": "stdout",
     "output_type": "stream",
     "text": [
      "Data loaded in 0.8836 seconds, processing\n",
      "Bandpass cleaned in 1.6078 seconds.\n",
      "Stamps filtered in 15.3435 seconds\n",
      "Saving results\n",
      "Results aggregated in 0.0789 seconds\n",
      "Processing coarse channels 264-267\n"
     ]
    },
    {
     "name": "stderr",
     "output_type": "stream",
     "text": [
      " 87%|████████▋ | 88/101 [26:57<04:03, 18.71s/it]"
     ]
    },
    {
     "name": "stdout",
     "output_type": "stream",
     "text": [
      "Data loaded in 0.8274 seconds, processing\n",
      "Bandpass cleaned in 1.8063 seconds.\n",
      "Stamps filtered in 15.4071 seconds\n",
      "Saving results\n",
      "Results aggregated in 0.0747 seconds\n",
      "Processing coarse channels 267-270\n"
     ]
    },
    {
     "name": "stderr",
     "output_type": "stream",
     "text": [
      " 88%|████████▊ | 89/101 [27:15<03:42, 18.53s/it]"
     ]
    },
    {
     "name": "stdout",
     "output_type": "stream",
     "text": [
      "Data loaded in 0.7913 seconds, processing\n",
      "Bandpass cleaned in 1.6936 seconds.\n",
      "Stamps filtered in 16.2307 seconds\n",
      "Saving results\n",
      "Results aggregated in 0.0720 seconds\n",
      "Processing coarse channels 270-273\n"
     ]
    },
    {
     "name": "stderr",
     "output_type": "stream",
     "text": [
      " 89%|████████▉ | 90/101 [27:34<03:24, 18.61s/it]"
     ]
    },
    {
     "name": "stdout",
     "output_type": "stream",
     "text": [
      "Data loaded in 0.9100 seconds, processing\n",
      "Bandpass cleaned in 1.7409 seconds.\n",
      "Stamps filtered in 15.8968 seconds\n",
      "Saving results\n",
      "Results aggregated in 0.0691 seconds\n",
      "Processing coarse channels 273-276\n"
     ]
    },
    {
     "name": "stderr",
     "output_type": "stream",
     "text": [
      " 90%|█████████ | 91/101 [27:53<03:06, 18.61s/it]"
     ]
    },
    {
     "name": "stdout",
     "output_type": "stream",
     "text": [
      "Data loaded in 0.8134 seconds, processing\n",
      "Bandpass cleaned in 1.6765 seconds.\n",
      "Stamps filtered in 16.0930 seconds\n",
      "Saving results\n",
      "Results aggregated in 0.0727 seconds\n",
      "Processing coarse channels 276-279\n"
     ]
    },
    {
     "name": "stderr",
     "output_type": "stream",
     "text": [
      " 91%|█████████ | 92/101 [28:11<02:47, 18.63s/it]"
     ]
    },
    {
     "name": "stdout",
     "output_type": "stream",
     "text": [
      "Data loaded in 0.9423 seconds, processing\n",
      "Bandpass cleaned in 1.7373 seconds.\n",
      "Stamps filtered in 15.2087 seconds\n",
      "Saving results\n",
      "Results aggregated in 0.0733 seconds\n",
      "Processing coarse channels 279-282\n"
     ]
    },
    {
     "name": "stderr",
     "output_type": "stream",
     "text": [
      " 92%|█████████▏| 93/101 [28:29<02:27, 18.43s/it]"
     ]
    },
    {
     "name": "stdout",
     "output_type": "stream",
     "text": [
      "Data loaded in 0.7978 seconds, processing\n",
      "Bandpass cleaned in 1.5979 seconds.\n",
      "Stamps filtered in 14.3138 seconds\n",
      "Saving results\n",
      "Results aggregated in 0.1003 seconds\n",
      "Processing coarse channels 282-285\n"
     ]
    },
    {
     "name": "stderr",
     "output_type": "stream",
     "text": [
      " 93%|█████████▎| 94/101 [28:46<02:05, 17.95s/it]"
     ]
    },
    {
     "name": "stdout",
     "output_type": "stream",
     "text": [
      "Data loaded in 0.8159 seconds, processing\n",
      "Bandpass cleaned in 1.6893 seconds.\n",
      "Stamps filtered in 15.5539 seconds\n",
      "Saving results\n",
      "Results aggregated in 0.0857 seconds\n",
      "Processing coarse channels 285-288\n"
     ]
    },
    {
     "name": "stderr",
     "output_type": "stream",
     "text": [
      " 94%|█████████▍| 95/101 [29:04<01:48, 18.01s/it]"
     ]
    },
    {
     "name": "stdout",
     "output_type": "stream",
     "text": [
      "Data loaded in 0.9378 seconds, processing\n",
      "Bandpass cleaned in 1.6162 seconds.\n",
      "Stamps filtered in 14.7980 seconds\n",
      "Saving results\n",
      "Results aggregated in 0.0897 seconds\n",
      "Processing coarse channels 288-291\n"
     ]
    },
    {
     "name": "stderr",
     "output_type": "stream",
     "text": [
      " 95%|█████████▌| 96/101 [29:22<01:29, 17.84s/it]"
     ]
    },
    {
     "name": "stdout",
     "output_type": "stream",
     "text": [
      "Data loaded in 0.8362 seconds, processing\n",
      "Bandpass cleaned in 1.7170 seconds.\n",
      "Stamps filtered in 15.2383 seconds\n",
      "Saving results\n",
      "Results aggregated in 0.1169 seconds\n",
      "Processing coarse channels 291-294\n"
     ]
    },
    {
     "name": "stderr",
     "output_type": "stream",
     "text": [
      " 96%|█████████▌| 97/101 [29:40<01:11, 17.86s/it]"
     ]
    },
    {
     "name": "stdout",
     "output_type": "stream",
     "text": [
      "Data loaded in 0.7848 seconds, processing\n",
      "Bandpass cleaned in 1.6998 seconds.\n",
      "Stamps filtered in 15.3995 seconds\n",
      "Saving results\n",
      "Results aggregated in 0.0699 seconds\n",
      "Processing coarse channels 294-297\n"
     ]
    },
    {
     "name": "stderr",
     "output_type": "stream",
     "text": [
      " 97%|█████████▋| 98/101 [29:58<00:53, 17.89s/it]"
     ]
    },
    {
     "name": "stdout",
     "output_type": "stream",
     "text": [
      "Data loaded in 0.7893 seconds, processing\n",
      "Bandpass cleaned in 1.6936 seconds.\n",
      "Stamps filtered in 15.5806 seconds\n",
      "Saving results\n",
      "Results aggregated in 0.0777 seconds\n",
      "Processing coarse channels 297-300\n"
     ]
    },
    {
     "name": "stderr",
     "output_type": "stream",
     "text": [
      " 98%|█████████▊| 99/101 [30:16<00:35, 17.97s/it]"
     ]
    },
    {
     "name": "stdout",
     "output_type": "stream",
     "text": [
      "Data loaded in 0.7759 seconds, processing\n",
      "Bandpass cleaned in 1.6463 seconds.\n",
      "Stamps filtered in 15.4551 seconds\n",
      "Saving results\n",
      "Results aggregated in 0.0720 seconds\n",
      "Processing coarse channels 300-303\n"
     ]
    },
    {
     "name": "stderr",
     "output_type": "stream",
     "text": [
      " 99%|█████████▉| 100/101 [30:34<00:17, 17.97s/it]"
     ]
    },
    {
     "name": "stdout",
     "output_type": "stream",
     "text": [
      "Data loaded in 0.8350 seconds, processing\n",
      "Bandpass cleaned in 1.7531 seconds.\n",
      "Stamps filtered in 15.9502 seconds\n",
      "Saving results\n"
     ]
    },
    {
     "name": "stderr",
     "output_type": "stream",
     "text": [
      "100%|██████████| 101/101 [30:52<00:00, 18.35s/it]\n"
     ]
    },
    {
     "name": "stdout",
     "output_type": "stream",
     "text": [
      "Results aggregated in 0.0671 seconds\n",
      "        level_0      index     statistic  pvalue        freqs\n",
      "191856   191856  314097536  79700.243302     0.0  1035.644894\n",
      "190886   190886  294466432  44111.059111     0.0  1091.308957\n",
      "190849   190849  293433216  41298.820685     0.0  1094.238644\n",
      "191842   191842  313064320  28119.088940     0.0  1038.574582\n",
      "80121     80121  134785152  13279.223370     0.0  1544.085772\n",
      "80122     80122  134785280  13160.149196     0.0  1544.085409\n",
      "87507     87507  137950208  13079.682001     0.0  1535.111245\n",
      "87357     87357  137931008  12682.257160     0.0  1535.165687\n",
      "7899       7899   62166016  10247.519019     0.0  1749.997580\n",
      "7874       7874   53210496   8052.541844     0.0  1775.390988\n",
      "7875       7875   53210624   8052.541527     0.0  1775.390625\n",
      "7912       7912   64575872   8052.515939     0.0  1743.164425\n",
      "303 303\n",
      "Finished Energy Detection on GBT_57515_81866_HIP44295_fine.h5 in 1861.0986 seconds\n",
      "/mnt_blpd7/datax/dl/GBT_57515_82215_HIP43343_fine.h5\n",
      "Header saved to ../../../../../../datax/scratch/pma/reverse_search/train_large/HIP44295-23/GBT_57515_82215_HIP43343_fine/header.pkl\n",
      "Processing 3 in parallel\n",
      "Processing coarse channels 0-3\n"
     ]
    },
    {
     "name": "stderr",
     "output_type": "stream",
     "text": [
      "  0%|          | 0/101 [00:00<?, ?it/s]"
     ]
    },
    {
     "name": "stdout",
     "output_type": "stream",
     "text": [
      "Data loaded in 0.9336 seconds, processing\n",
      "Bandpass cleaned in 1.7195 seconds.\n",
      "Stamps filtered in 15.8401 seconds\n",
      "Saving results\n"
     ]
    },
    {
     "name": "stderr",
     "output_type": "stream",
     "text": [
      "  1%|          | 1/101 [00:19<32:21, 19.42s/it]"
     ]
    },
    {
     "name": "stdout",
     "output_type": "stream",
     "text": [
      "Results aggregated in 0.9023 seconds\n",
      "Processing coarse channels 3-6\n",
      "Data loaded in 0.9620 seconds, processing\n",
      "Bandpass cleaned in 1.5594 seconds.\n",
      "Stamps filtered in 15.4928 seconds\n",
      "Saving results\n"
     ]
    },
    {
     "name": "stderr",
     "output_type": "stream",
     "text": [
      "  2%|▏         | 2/101 [00:37<30:54, 18.73s/it]"
     ]
    },
    {
     "name": "stdout",
     "output_type": "stream",
     "text": [
      "Results aggregated in 0.2274 seconds\n",
      "Processing coarse channels 6-9\n",
      "Data loaded in 0.9721 seconds, processing\n",
      "Bandpass cleaned in 1.6271 seconds.\n",
      "Stamps filtered in 14.7087 seconds\n",
      "Saving results\n",
      "Results aggregated in 0.1160 seconds\n",
      "Processing coarse channels 9-12\n"
     ]
    },
    {
     "name": "stderr",
     "output_type": "stream",
     "text": [
      "  3%|▎         | 3/101 [00:55<29:37, 18.14s/it]"
     ]
    },
    {
     "name": "stdout",
     "output_type": "stream",
     "text": [
      "Data loaded in 0.7849 seconds, processing\n",
      "Bandpass cleaned in 1.5886 seconds.\n",
      "Stamps filtered in 15.6390 seconds\n",
      "Saving results\n",
      "Results aggregated in 0.0423 seconds\n",
      "Processing coarse channels 12-15\n"
     ]
    },
    {
     "name": "stderr",
     "output_type": "stream",
     "text": [
      "  4%|▍         | 4/101 [01:13<29:16, 18.11s/it]"
     ]
    },
    {
     "name": "stdout",
     "output_type": "stream",
     "text": [
      "Data loaded in 0.8260 seconds, processing\n",
      "Bandpass cleaned in 1.6060 seconds.\n",
      "Stamps filtered in 15.4070 seconds\n",
      "Saving results\n",
      "Results aggregated in 0.0387 seconds\n",
      "Processing coarse channels 15-18\n"
     ]
    },
    {
     "name": "stderr",
     "output_type": "stream",
     "text": [
      "  5%|▍         | 5/101 [01:31<28:50, 18.03s/it]"
     ]
    },
    {
     "name": "stdout",
     "output_type": "stream",
     "text": [
      "Data loaded in 0.8448 seconds, processing\n",
      "Bandpass cleaned in 1.5990 seconds.\n",
      "Stamps filtered in 15.3103 seconds\n",
      "Saving results\n",
      "Results aggregated in 0.0433 seconds\n",
      "Processing coarse channels 18-21\n"
     ]
    },
    {
     "name": "stderr",
     "output_type": "stream",
     "text": [
      "  6%|▌         | 6/101 [01:48<28:25, 17.95s/it]"
     ]
    },
    {
     "name": "stdout",
     "output_type": "stream",
     "text": [
      "Data loaded in 0.8015 seconds, processing\n",
      "Bandpass cleaned in 1.5893 seconds.\n",
      "Stamps filtered in 15.4569 seconds\n",
      "Saving results\n",
      "Results aggregated in 0.0373 seconds\n",
      "Processing coarse channels 21-24\n"
     ]
    },
    {
     "name": "stderr",
     "output_type": "stream",
     "text": [
      "  7%|▋         | 7/101 [02:06<28:05, 17.93s/it]"
     ]
    },
    {
     "name": "stdout",
     "output_type": "stream",
     "text": [
      "Data loaded in 0.7965 seconds, processing\n",
      "Bandpass cleaned in 1.5990 seconds.\n",
      "Stamps filtered in 15.5239 seconds\n",
      "Saving results\n",
      "Results aggregated in 0.0400 seconds\n",
      "Processing coarse channels 24-27\n"
     ]
    },
    {
     "name": "stderr",
     "output_type": "stream",
     "text": [
      "  8%|▊         | 8/101 [02:24<27:48, 17.94s/it]"
     ]
    },
    {
     "name": "stdout",
     "output_type": "stream",
     "text": [
      "Data loaded in 0.7448 seconds, processing\n",
      "Bandpass cleaned in 1.6469 seconds.\n",
      "Stamps filtered in 15.4177 seconds\n",
      "Saving results\n",
      "Results aggregated in 0.0349 seconds\n",
      "Processing coarse channels 27-30\n"
     ]
    },
    {
     "name": "stderr",
     "output_type": "stream",
     "text": [
      "  9%|▉         | 9/101 [02:42<27:28, 17.91s/it]"
     ]
    },
    {
     "name": "stdout",
     "output_type": "stream",
     "text": [
      "Data loaded in 0.8174 seconds, processing\n",
      "Bandpass cleaned in 1.5940 seconds.\n",
      "Stamps filtered in 14.0582 seconds\n",
      "Saving results\n",
      "Results aggregated in 0.0424 seconds\n",
      "Processing coarse channels 30-33\n"
     ]
    },
    {
     "name": "stderr",
     "output_type": "stream",
     "text": [
      " 10%|▉         | 10/101 [02:59<26:30, 17.48s/it]"
     ]
    },
    {
     "name": "stdout",
     "output_type": "stream",
     "text": [
      "Data loaded in 0.7614 seconds, processing\n",
      "Bandpass cleaned in 1.6909 seconds.\n",
      "Stamps filtered in 14.1070 seconds\n",
      "Saving results\n",
      "Results aggregated in 0.0391 seconds\n",
      "Processing coarse channels 33-36\n"
     ]
    },
    {
     "name": "stderr",
     "output_type": "stream",
     "text": [
      " 11%|█         | 11/101 [03:15<25:49, 17.21s/it]"
     ]
    },
    {
     "name": "stdout",
     "output_type": "stream",
     "text": [
      "Data loaded in 0.7819 seconds, processing\n",
      "Bandpass cleaned in 1.6684 seconds.\n",
      "Stamps filtered in 14.3731 seconds\n",
      "Saving results\n",
      "Results aggregated in 0.0412 seconds\n",
      "Processing coarse channels 36-39\n"
     ]
    },
    {
     "name": "stderr",
     "output_type": "stream",
     "text": [
      " 12%|█▏        | 12/101 [03:32<25:22, 17.11s/it]"
     ]
    },
    {
     "name": "stdout",
     "output_type": "stream",
     "text": [
      "Data loaded in 0.8395 seconds, processing\n",
      "Bandpass cleaned in 1.5790 seconds.\n",
      "Stamps filtered in 14.9661 seconds\n",
      "Saving results\n",
      "Results aggregated in 0.0410 seconds\n",
      "Processing coarse channels 39-42\n"
     ]
    },
    {
     "name": "stderr",
     "output_type": "stream",
     "text": [
      " 13%|█▎        | 13/101 [03:49<25:14, 17.21s/it]"
     ]
    },
    {
     "name": "stdout",
     "output_type": "stream",
     "text": [
      "Data loaded in 0.7711 seconds, processing\n",
      "Bandpass cleaned in 1.6010 seconds.\n",
      "Stamps filtered in 14.8342 seconds\n",
      "Saving results\n",
      "Results aggregated in 0.0416 seconds\n",
      "Processing coarse channels 42-45\n"
     ]
    },
    {
     "name": "stderr",
     "output_type": "stream",
     "text": [
      " 14%|█▍        | 14/101 [04:07<24:58, 17.22s/it]"
     ]
    },
    {
     "name": "stdout",
     "output_type": "stream",
     "text": [
      "Data loaded in 0.7861 seconds, processing\n",
      "Bandpass cleaned in 1.5771 seconds.\n",
      "Stamps filtered in 14.1948 seconds\n",
      "Saving results\n",
      "Results aggregated in 0.0422 seconds\n",
      "Processing coarse channels 45-48\n"
     ]
    },
    {
     "name": "stderr",
     "output_type": "stream",
     "text": [
      " 15%|█▍        | 15/101 [04:23<24:25, 17.04s/it]"
     ]
    },
    {
     "name": "stdout",
     "output_type": "stream",
     "text": [
      "Data loaded in 0.7772 seconds, processing\n",
      "Bandpass cleaned in 1.5520 seconds.\n",
      "Stamps filtered in 14.0837 seconds\n",
      "Saving results\n",
      "Results aggregated in 0.0481 seconds\n",
      "Processing coarse channels 48-51\n"
     ]
    },
    {
     "name": "stderr",
     "output_type": "stream",
     "text": [
      " 16%|█▌        | 16/101 [04:40<23:53, 16.87s/it]"
     ]
    },
    {
     "name": "stdout",
     "output_type": "stream",
     "text": [
      "Data loaded in 0.7519 seconds, processing\n",
      "Bandpass cleaned in 1.6242 seconds.\n",
      "Stamps filtered in 14.5274 seconds\n",
      "Saving results\n",
      "Results aggregated in 0.0418 seconds\n",
      "Processing coarse channels 51-54\n"
     ]
    },
    {
     "name": "stderr",
     "output_type": "stream",
     "text": [
      " 17%|█▋        | 17/101 [04:57<23:38, 16.89s/it]"
     ]
    },
    {
     "name": "stdout",
     "output_type": "stream",
     "text": [
      "Data loaded in 0.7910 seconds, processing\n",
      "Bandpass cleaned in 1.5718 seconds.\n",
      "Stamps filtered in 14.7746 seconds\n",
      "Saving results\n",
      "Results aggregated in 0.0405 seconds\n",
      "Processing coarse channels 54-57\n"
     ]
    },
    {
     "name": "stderr",
     "output_type": "stream",
     "text": [
      " 18%|█▊        | 18/101 [05:14<23:29, 16.98s/it]"
     ]
    },
    {
     "name": "stdout",
     "output_type": "stream",
     "text": [
      "Data loaded in 0.7653 seconds, processing\n",
      "Bandpass cleaned in 1.5955 seconds.\n",
      "Stamps filtered in 15.1974 seconds\n",
      "Saving results\n",
      "Results aggregated in 0.0346 seconds\n",
      "Processing coarse channels 57-60\n"
     ]
    },
    {
     "name": "stderr",
     "output_type": "stream",
     "text": [
      " 19%|█▉        | 19/101 [05:32<23:27, 17.17s/it]"
     ]
    },
    {
     "name": "stdout",
     "output_type": "stream",
     "text": [
      "Data loaded in 0.9377 seconds, processing\n",
      "Bandpass cleaned in 1.6058 seconds.\n",
      "Stamps filtered in 13.9966 seconds\n",
      "Saving results\n",
      "Results aggregated in 0.0457 seconds\n",
      "Processing coarse channels 60-63\n"
     ]
    },
    {
     "name": "stderr",
     "output_type": "stream",
     "text": [
      " 20%|█▉        | 20/101 [05:48<22:56, 16.99s/it]"
     ]
    },
    {
     "name": "stdout",
     "output_type": "stream",
     "text": [
      "Data loaded in 0.7839 seconds, processing\n",
      "Bandpass cleaned in 1.5847 seconds.\n",
      "Stamps filtered in 14.0916 seconds\n",
      "Saving results\n",
      "Results aggregated in 0.0421 seconds\n",
      "Processing coarse channels 63-66\n"
     ]
    },
    {
     "name": "stderr",
     "output_type": "stream",
     "text": [
      " 21%|██        | 21/101 [06:05<22:27, 16.85s/it]"
     ]
    },
    {
     "name": "stdout",
     "output_type": "stream",
     "text": [
      "Data loaded in 0.7604 seconds, processing\n",
      "Bandpass cleaned in 1.5777 seconds.\n",
      "Stamps filtered in 14.1659 seconds\n",
      "Saving results\n",
      "Results aggregated in 0.0450 seconds\n",
      "Processing coarse channels 66-69\n"
     ]
    },
    {
     "name": "stderr",
     "output_type": "stream",
     "text": [
      " 22%|██▏       | 22/101 [06:21<22:04, 16.76s/it]"
     ]
    },
    {
     "name": "stdout",
     "output_type": "stream",
     "text": [
      "Data loaded in 0.8519 seconds, processing\n",
      "Bandpass cleaned in 1.6637 seconds.\n",
      "Stamps filtered in 14.7178 seconds\n",
      "Saving results\n",
      "Results aggregated in 0.0419 seconds\n",
      "Processing coarse channels 69-72\n"
     ]
    },
    {
     "name": "stderr",
     "output_type": "stream",
     "text": [
      " 23%|██▎       | 23/101 [06:38<21:59, 16.92s/it]"
     ]
    },
    {
     "name": "stdout",
     "output_type": "stream",
     "text": [
      "Data loaded in 0.7701 seconds, processing\n",
      "Bandpass cleaned in 1.6403 seconds.\n",
      "Stamps filtered in 14.3971 seconds\n",
      "Saving results\n",
      "Results aggregated in 0.0419 seconds\n",
      "Processing coarse channels 72-75\n"
     ]
    },
    {
     "name": "stderr",
     "output_type": "stream",
     "text": [
      " 24%|██▍       | 24/101 [06:55<21:41, 16.90s/it]"
     ]
    },
    {
     "name": "stdout",
     "output_type": "stream",
     "text": [
      "Data loaded in 0.7709 seconds, processing\n",
      "Bandpass cleaned in 1.6139 seconds.\n",
      "Stamps filtered in 14.7489 seconds\n",
      "Saving results\n",
      "Results aggregated in 0.0402 seconds\n",
      "Processing coarse channels 75-78\n"
     ]
    },
    {
     "name": "stderr",
     "output_type": "stream",
     "text": [
      " 25%|██▍       | 25/101 [07:13<21:30, 16.98s/it]"
     ]
    },
    {
     "name": "stdout",
     "output_type": "stream",
     "text": [
      "Data loaded in 0.7782 seconds, processing\n",
      "Bandpass cleaned in 1.6345 seconds.\n",
      "Stamps filtered in 14.2358 seconds\n",
      "Saving results\n",
      "Results aggregated in 0.0841 seconds\n",
      "Processing coarse channels 78-81\n"
     ]
    },
    {
     "name": "stderr",
     "output_type": "stream",
     "text": [
      " 26%|██▌       | 26/101 [07:29<21:08, 16.91s/it]"
     ]
    },
    {
     "name": "stdout",
     "output_type": "stream",
     "text": [
      "Data loaded in 0.7426 seconds, processing\n",
      "Bandpass cleaned in 1.6614 seconds.\n",
      "Stamps filtered in 14.4283 seconds\n",
      "Saving results\n",
      "Results aggregated in 0.1821 seconds\n",
      "Processing coarse channels 81-84\n"
     ]
    },
    {
     "name": "stderr",
     "output_type": "stream",
     "text": [
      " 27%|██▋       | 27/101 [07:46<20:53, 16.94s/it]"
     ]
    },
    {
     "name": "stdout",
     "output_type": "stream",
     "text": [
      "Data loaded in 0.7981 seconds, processing\n",
      "Bandpass cleaned in 1.6122 seconds.\n",
      "Stamps filtered in 14.7546 seconds\n",
      "Saving results\n",
      "Results aggregated in 0.0990 seconds\n",
      "Processing coarse channels 84-87\n"
     ]
    },
    {
     "name": "stderr",
     "output_type": "stream",
     "text": [
      " 28%|██▊       | 28/101 [08:04<20:44, 17.04s/it]"
     ]
    },
    {
     "name": "stdout",
     "output_type": "stream",
     "text": [
      "Data loaded in 0.7418 seconds, processing\n",
      "Bandpass cleaned in 1.6054 seconds.\n",
      "Stamps filtered in 14.3923 seconds\n",
      "Saving results\n",
      "Results aggregated in 0.0870 seconds\n",
      "Processing coarse channels 87-90\n"
     ]
    },
    {
     "name": "stderr",
     "output_type": "stream",
     "text": [
      " 29%|██▊       | 29/101 [08:20<20:22, 16.98s/it]"
     ]
    },
    {
     "name": "stdout",
     "output_type": "stream",
     "text": [
      "Data loaded in 0.8168 seconds, processing\n",
      "Bandpass cleaned in 1.6730 seconds.\n",
      "Stamps filtered in 13.8806 seconds\n",
      "Saving results\n",
      "Results aggregated in 0.0437 seconds\n",
      "Processing coarse channels 90-93\n"
     ]
    },
    {
     "name": "stderr",
     "output_type": "stream",
     "text": [
      " 30%|██▉       | 30/101 [08:37<19:53, 16.81s/it]"
     ]
    },
    {
     "name": "stdout",
     "output_type": "stream",
     "text": [
      "Data loaded in 0.8155 seconds, processing\n",
      "Bandpass cleaned in 1.5933 seconds.\n",
      "Stamps filtered in 14.7570 seconds\n",
      "Saving results\n",
      "Results aggregated in 0.0489 seconds\n",
      "Processing coarse channels 93-96\n"
     ]
    },
    {
     "name": "stderr",
     "output_type": "stream",
     "text": [
      " 31%|███       | 31/101 [08:54<19:45, 16.94s/it]"
     ]
    },
    {
     "name": "stdout",
     "output_type": "stream",
     "text": [
      "Data loaded in 0.7705 seconds, processing\n",
      "Bandpass cleaned in 1.6695 seconds.\n",
      "Stamps filtered in 14.1482 seconds\n",
      "Saving results\n",
      "Results aggregated in 0.0461 seconds\n",
      "Processing coarse channels 96-99\n"
     ]
    },
    {
     "name": "stderr",
     "output_type": "stream",
     "text": [
      " 32%|███▏      | 32/101 [09:11<19:22, 16.85s/it]"
     ]
    },
    {
     "name": "stdout",
     "output_type": "stream",
     "text": [
      "Data loaded in 0.8624 seconds, processing\n",
      "Bandpass cleaned in 1.6283 seconds.\n",
      "Stamps filtered in 14.6016 seconds\n",
      "Saving results\n",
      "Results aggregated in 0.0430 seconds\n",
      "Processing coarse channels 99-102\n"
     ]
    },
    {
     "name": "stderr",
     "output_type": "stream",
     "text": [
      " 33%|███▎      | 33/101 [09:28<19:11, 16.94s/it]"
     ]
    },
    {
     "name": "stdout",
     "output_type": "stream",
     "text": [
      "Data loaded in 0.7544 seconds, processing\n",
      "Bandpass cleaned in 1.6242 seconds.\n",
      "Stamps filtered in 14.9166 seconds\n",
      "Saving results\n"
     ]
    },
    {
     "name": "stderr",
     "output_type": "stream",
     "text": [
      " 34%|███▎      | 34/101 [09:46<19:27, 17.43s/it]"
     ]
    },
    {
     "name": "stdout",
     "output_type": "stream",
     "text": [
      "Results aggregated in 1.2635 seconds\n",
      "Processing coarse channels 102-105\n",
      "Data loaded in 0.7601 seconds, processing\n",
      "Bandpass cleaned in 1.6157 seconds.\n",
      "Stamps filtered in 14.6144 seconds\n",
      "Saving results\n"
     ]
    },
    {
     "name": "stderr",
     "output_type": "stream",
     "text": [
      " 35%|███▍      | 35/101 [10:05<19:42, 17.92s/it]"
     ]
    },
    {
     "name": "stdout",
     "output_type": "stream",
     "text": [
      "Results aggregated in 2.0411 seconds\n",
      "Processing coarse channels 105-108\n",
      "Data loaded in 0.8297 seconds, processing\n",
      "Bandpass cleaned in 1.6586 seconds.\n",
      "Stamps filtered in 14.5423 seconds\n",
      "Saving results\n",
      "Results aggregated in 0.1257 seconds\n",
      "Processing coarse channels 108-111\n"
     ]
    },
    {
     "name": "stderr",
     "output_type": "stream",
     "text": [
      " 36%|███▌      | 36/101 [10:23<19:10, 17.69s/it]"
     ]
    },
    {
     "name": "stdout",
     "output_type": "stream",
     "text": [
      "Data loaded in 0.7529 seconds, processing\n",
      "Bandpass cleaned in 1.7800 seconds.\n",
      "Stamps filtered in 14.7677 seconds\n",
      "Saving results\n"
     ]
    },
    {
     "name": "stderr",
     "output_type": "stream",
     "text": [
      " 37%|███▋      | 37/101 [10:41<18:59, 17.81s/it]"
     ]
    },
    {
     "name": "stdout",
     "output_type": "stream",
     "text": [
      "Results aggregated in 0.7601 seconds\n",
      "Processing coarse channels 111-114\n",
      "Data loaded in 0.8093 seconds, processing\n",
      "Bandpass cleaned in 1.6703 seconds.\n",
      "Stamps filtered in 14.3678 seconds\n",
      "Saving results\n"
     ]
    },
    {
     "name": "stderr",
     "output_type": "stream",
     "text": [
      " 38%|███▊      | 38/101 [10:58<18:32, 17.65s/it]"
     ]
    },
    {
     "name": "stdout",
     "output_type": "stream",
     "text": [
      "Results aggregated in 0.4282 seconds\n",
      "Processing coarse channels 114-117\n",
      "Data loaded in 0.7728 seconds, processing\n",
      "Bandpass cleaned in 1.6065 seconds.\n",
      "Stamps filtered in 14.3950 seconds\n",
      "Saving results\n"
     ]
    },
    {
     "name": "stderr",
     "output_type": "stream",
     "text": [
      " 39%|███▊      | 39/101 [11:15<18:08, 17.55s/it]"
     ]
    },
    {
     "name": "stdout",
     "output_type": "stream",
     "text": [
      "Results aggregated in 0.5258 seconds\n",
      "Processing coarse channels 117-120\n",
      "Data loaded in 0.8143 seconds, processing\n",
      "Bandpass cleaned in 1.7419 seconds.\n",
      "Stamps filtered in 15.1211 seconds\n",
      "Saving results\n"
     ]
    },
    {
     "name": "stderr",
     "output_type": "stream",
     "text": [
      " 40%|███▉      | 40/101 [11:35<18:25, 18.13s/it]"
     ]
    },
    {
     "name": "stdout",
     "output_type": "stream",
     "text": [
      "Results aggregated in 1.7754 seconds\n",
      "Processing coarse channels 120-123\n",
      "Data loaded in 0.9274 seconds, processing\n",
      "Bandpass cleaned in 1.7028 seconds.\n",
      "Stamps filtered in 14.0434 seconds\n",
      "Saving results\n"
     ]
    },
    {
     "name": "stderr",
     "output_type": "stream",
     "text": [
      " 41%|████      | 41/101 [11:52<17:49, 17.83s/it]"
     ]
    },
    {
     "name": "stdout",
     "output_type": "stream",
     "text": [
      "Results aggregated in 0.4339 seconds\n",
      "Processing coarse channels 123-126\n",
      "Data loaded in 0.7749 seconds, processing\n",
      "Bandpass cleaned in 1.6047 seconds.\n",
      "Stamps filtered in 14.1150 seconds\n",
      "Saving results\n"
     ]
    },
    {
     "name": "stderr",
     "output_type": "stream",
     "text": [
      " 42%|████▏     | 42/101 [12:10<17:34, 17.87s/it]"
     ]
    },
    {
     "name": "stdout",
     "output_type": "stream",
     "text": [
      "Results aggregated in 1.4553 seconds\n",
      "Processing coarse channels 126-129\n",
      "Data loaded in 0.9828 seconds, processing\n",
      "Bandpass cleaned in 1.6011 seconds.\n",
      "Stamps filtered in 14.4526 seconds\n",
      "Saving results\n"
     ]
    },
    {
     "name": "stderr",
     "output_type": "stream",
     "text": [
      " 43%|████▎     | 43/101 [12:28<17:20, 17.93s/it]"
     ]
    },
    {
     "name": "stdout",
     "output_type": "stream",
     "text": [
      "Results aggregated in 1.0251 seconds\n",
      "Processing coarse channels 129-132\n",
      "Data loaded in 0.9255 seconds, processing\n",
      "Bandpass cleaned in 1.6871 seconds.\n",
      "Stamps filtered in 14.6940 seconds\n",
      "Saving results\n"
     ]
    },
    {
     "name": "stderr",
     "output_type": "stream",
     "text": [
      " 44%|████▎     | 44/101 [12:46<17:05, 17.99s/it]"
     ]
    },
    {
     "name": "stdout",
     "output_type": "stream",
     "text": [
      "Results aggregated in 0.7826 seconds\n",
      "Processing coarse channels 132-135\n",
      "Data loaded in 1.8898 seconds, processing\n",
      "Bandpass cleaned in 1.8326 seconds.\n",
      "Stamps filtered in 15.0161 seconds\n",
      "Saving results\n"
     ]
    },
    {
     "name": "stderr",
     "output_type": "stream",
     "text": [
      " 45%|████▍     | 45/101 [13:06<17:12, 18.44s/it]"
     ]
    },
    {
     "name": "stdout",
     "output_type": "stream",
     "text": [
      "Results aggregated in 0.7319 seconds\n",
      "Processing coarse channels 135-138\n",
      "Data loaded in 1.2200 seconds, processing\n",
      "Bandpass cleaned in 1.6526 seconds.\n",
      "Stamps filtered in 14.5716 seconds\n",
      "Saving results\n",
      "Results aggregated in 0.0854 seconds\n",
      "Processing coarse channels 138-141\n"
     ]
    },
    {
     "name": "stderr",
     "output_type": "stream",
     "text": [
      " 46%|████▌     | 46/101 [13:23<16:39, 18.17s/it]"
     ]
    },
    {
     "name": "stdout",
     "output_type": "stream",
     "text": [
      "Data loaded in 0.7927 seconds, processing\n",
      "Bandpass cleaned in 1.6807 seconds.\n",
      "Stamps filtered in 14.2611 seconds\n",
      "Saving results\n",
      "Results aggregated in 0.0597 seconds\n",
      "Processing coarse channels 141-144\n"
     ]
    },
    {
     "name": "stderr",
     "output_type": "stream",
     "text": [
      " 47%|████▋     | 47/101 [13:40<15:58, 17.76s/it]"
     ]
    },
    {
     "name": "stdout",
     "output_type": "stream",
     "text": [
      "Data loaded in 1.1791 seconds, processing\n",
      "Bandpass cleaned in 1.6413 seconds.\n",
      "Stamps filtered in 14.4133 seconds\n",
      "Saving results\n",
      "Results aggregated in 0.0675 seconds\n",
      "Processing coarse channels 144-147\n"
     ]
    },
    {
     "name": "stderr",
     "output_type": "stream",
     "text": [
      " 48%|████▊     | 48/101 [13:57<15:34, 17.62s/it]"
     ]
    },
    {
     "name": "stdout",
     "output_type": "stream",
     "text": [
      "Data loaded in 0.7814 seconds, processing\n",
      "Bandpass cleaned in 1.6842 seconds.\n",
      "Stamps filtered in 14.5104 seconds\n",
      "Saving results\n",
      "Results aggregated in 0.0544 seconds\n",
      "Processing coarse channels 147-150\n"
     ]
    },
    {
     "name": "stderr",
     "output_type": "stream",
     "text": [
      " 49%|████▊     | 49/101 [14:14<15:07, 17.45s/it]"
     ]
    },
    {
     "name": "stdout",
     "output_type": "stream",
     "text": [
      "Data loaded in 1.2226 seconds, processing\n",
      "Bandpass cleaned in 1.6378 seconds.\n",
      "Stamps filtered in 15.5273 seconds\n",
      "Saving results\n",
      "Results aggregated in 0.0592 seconds\n",
      "Processing coarse channels 150-153\n"
     ]
    },
    {
     "name": "stderr",
     "output_type": "stream",
     "text": [
      " 50%|████▉     | 50/101 [14:33<15:05, 17.75s/it]"
     ]
    },
    {
     "name": "stdout",
     "output_type": "stream",
     "text": [
      "Data loaded in 1.3908 seconds, processing\n",
      "Bandpass cleaned in 1.6282 seconds.\n",
      "Stamps filtered in 14.2618 seconds\n",
      "Saving results\n",
      "Results aggregated in 0.0548 seconds\n",
      "Processing coarse channels 153-156\n"
     ]
    },
    {
     "name": "stderr",
     "output_type": "stream",
     "text": [
      " 50%|█████     | 51/101 [14:50<14:41, 17.63s/it]"
     ]
    },
    {
     "name": "stdout",
     "output_type": "stream",
     "text": [
      "Data loaded in 0.7819 seconds, processing\n",
      "Bandpass cleaned in 1.6526 seconds.\n",
      "Stamps filtered in 14.3355 seconds\n",
      "Saving results\n",
      "Results aggregated in 0.0565 seconds\n",
      "Processing coarse channels 156-159\n"
     ]
    },
    {
     "name": "stderr",
     "output_type": "stream",
     "text": [
      " 51%|█████▏    | 52/101 [15:07<14:12, 17.39s/it]"
     ]
    },
    {
     "name": "stdout",
     "output_type": "stream",
     "text": [
      "Data loaded in 1.1966 seconds, processing\n",
      "Bandpass cleaned in 1.6372 seconds.\n",
      "Stamps filtered in 14.0948 seconds\n",
      "Saving results\n",
      "Results aggregated in 0.0548 seconds\n",
      "Processing coarse channels 159-162\n"
     ]
    },
    {
     "name": "stderr",
     "output_type": "stream",
     "text": [
      " 52%|█████▏    | 53/101 [15:24<13:48, 17.27s/it]"
     ]
    },
    {
     "name": "stdout",
     "output_type": "stream",
     "text": [
      "Data loaded in 0.8907 seconds, processing\n",
      "Bandpass cleaned in 1.6027 seconds.\n",
      "Stamps filtered in 15.0056 seconds\n",
      "Saving results\n",
      "Results aggregated in 0.0538 seconds\n",
      "Processing coarse channels 162-165\n"
     ]
    },
    {
     "name": "stderr",
     "output_type": "stream",
     "text": [
      " 53%|█████▎    | 54/101 [15:41<13:35, 17.36s/it]"
     ]
    },
    {
     "name": "stdout",
     "output_type": "stream",
     "text": [
      "Data loaded in 1.1417 seconds, processing\n",
      "Bandpass cleaned in 1.5847 seconds.\n",
      "Stamps filtered in 15.1381 seconds\n",
      "Saving results\n",
      "Results aggregated in 0.0657 seconds\n",
      "Processing coarse channels 165-168\n"
     ]
    },
    {
     "name": "stderr",
     "output_type": "stream",
     "text": [
      " 54%|█████▍    | 55/101 [15:59<13:26, 17.53s/it]"
     ]
    },
    {
     "name": "stdout",
     "output_type": "stream",
     "text": [
      "Data loaded in 1.3735 seconds, processing\n",
      "Bandpass cleaned in 1.6705 seconds.\n",
      "Stamps filtered in 15.0523 seconds\n",
      "Saving results\n",
      "Results aggregated in 0.0557 seconds\n",
      "Processing coarse channels 168-171\n"
     ]
    },
    {
     "name": "stderr",
     "output_type": "stream",
     "text": [
      " 55%|█████▌    | 56/101 [16:18<13:17, 17.72s/it]"
     ]
    },
    {
     "name": "stdout",
     "output_type": "stream",
     "text": [
      "Data loaded in 0.8073 seconds, processing\n",
      "Bandpass cleaned in 1.6205 seconds.\n",
      "Stamps filtered in 14.3013 seconds\n",
      "Saving results\n",
      "Results aggregated in 0.0597 seconds\n",
      "Processing coarse channels 171-174\n"
     ]
    },
    {
     "name": "stderr",
     "output_type": "stream",
     "text": [
      " 56%|█████▋    | 57/101 [16:34<12:47, 17.44s/it]"
     ]
    },
    {
     "name": "stdout",
     "output_type": "stream",
     "text": [
      "Data loaded in 1.3907 seconds, processing\n",
      "Bandpass cleaned in 1.6356 seconds.\n",
      "Stamps filtered in 14.2709 seconds\n",
      "Saving results\n",
      "Results aggregated in 0.0552 seconds\n",
      "Processing coarse channels 174-177\n"
     ]
    },
    {
     "name": "stderr",
     "output_type": "stream",
     "text": [
      " 57%|█████▋    | 58/101 [16:52<12:28, 17.42s/it]"
     ]
    },
    {
     "name": "stdout",
     "output_type": "stream",
     "text": [
      "Data loaded in 1.0374 seconds, processing\n",
      "Bandpass cleaned in 1.6142 seconds.\n",
      "Stamps filtered in 14.7033 seconds\n",
      "Saving results\n",
      "Results aggregated in 0.0584 seconds\n",
      "Processing coarse channels 177-180\n"
     ]
    },
    {
     "name": "stderr",
     "output_type": "stream",
     "text": [
      " 58%|█████▊    | 59/101 [17:09<12:11, 17.42s/it]"
     ]
    },
    {
     "name": "stdout",
     "output_type": "stream",
     "text": [
      "Data loaded in 0.7881 seconds, processing\n",
      "Bandpass cleaned in 1.6453 seconds.\n",
      "Stamps filtered in 14.3208 seconds\n",
      "Saving results\n",
      "Results aggregated in 0.0654 seconds\n",
      "Processing coarse channels 180-183\n"
     ]
    },
    {
     "name": "stderr",
     "output_type": "stream",
     "text": [
      " 59%|█████▉    | 60/101 [17:26<11:46, 17.24s/it]"
     ]
    },
    {
     "name": "stdout",
     "output_type": "stream",
     "text": [
      "Data loaded in 1.2165 seconds, processing\n",
      "Bandpass cleaned in 1.7915 seconds.\n",
      "Stamps filtered in 14.7191 seconds\n",
      "Saving results\n",
      "Results aggregated in 0.0518 seconds\n",
      "Processing coarse channels 183-186\n"
     ]
    },
    {
     "name": "stderr",
     "output_type": "stream",
     "text": [
      " 60%|██████    | 61/101 [17:44<11:36, 17.40s/it]"
     ]
    },
    {
     "name": "stdout",
     "output_type": "stream",
     "text": [
      "Data loaded in 0.7945 seconds, processing\n",
      "Bandpass cleaned in 1.6145 seconds.\n",
      "Stamps filtered in 14.5912 seconds\n",
      "Saving results\n"
     ]
    },
    {
     "name": "stderr",
     "output_type": "stream",
     "text": [
      " 61%|██████▏   | 62/101 [18:01<11:18, 17.39s/it]"
     ]
    },
    {
     "name": "stdout",
     "output_type": "stream",
     "text": [
      "Results aggregated in 0.3514 seconds\n",
      "Processing coarse channels 186-189\n",
      "Data loaded in 1.1894 seconds, processing\n",
      "Bandpass cleaned in 1.6498 seconds.\n",
      "Stamps filtered in 14.2703 seconds\n",
      "Saving results\n",
      "Results aggregated in 0.0638 seconds\n",
      "Processing coarse channels 189-192\n"
     ]
    },
    {
     "name": "stderr",
     "output_type": "stream",
     "text": [
      " 62%|██████▏   | 63/101 [18:18<10:58, 17.33s/it]"
     ]
    },
    {
     "name": "stdout",
     "output_type": "stream",
     "text": [
      "Data loaded in 1.0447 seconds, processing\n",
      "Bandpass cleaned in 1.6832 seconds.\n",
      "Stamps filtered in 15.1653 seconds\n",
      "Saving results\n",
      "Results aggregated in 0.0596 seconds\n",
      "Processing coarse channels 192-195\n"
     ]
    },
    {
     "name": "stderr",
     "output_type": "stream",
     "text": [
      " 63%|██████▎   | 64/101 [18:36<10:48, 17.52s/it]"
     ]
    },
    {
     "name": "stdout",
     "output_type": "stream",
     "text": [
      "Data loaded in 1.0292 seconds, processing\n",
      "Bandpass cleaned in 1.6517 seconds.\n",
      "Stamps filtered in 14.5023 seconds\n",
      "Saving results\n",
      "Results aggregated in 0.0573 seconds\n",
      "Processing coarse channels 195-198\n"
     ]
    },
    {
     "name": "stderr",
     "output_type": "stream",
     "text": [
      " 64%|██████▍   | 65/101 [18:53<10:27, 17.44s/it]"
     ]
    },
    {
     "name": "stdout",
     "output_type": "stream",
     "text": [
      "Data loaded in 1.3814 seconds, processing\n",
      "Bandpass cleaned in 1.7343 seconds.\n",
      "Stamps filtered in 14.3681 seconds\n",
      "Saving results\n",
      "Results aggregated in 0.0667 seconds\n",
      "Processing coarse channels 198-201\n"
     ]
    },
    {
     "name": "stderr",
     "output_type": "stream",
     "text": [
      " 65%|██████▌   | 66/101 [19:11<10:11, 17.47s/it]"
     ]
    },
    {
     "name": "stdout",
     "output_type": "stream",
     "text": [
      "Data loaded in 0.7868 seconds, processing\n",
      "Bandpass cleaned in 1.6494 seconds.\n",
      "Stamps filtered in 14.4464 seconds\n",
      "Saving results\n",
      "Results aggregated in 0.0662 seconds\n",
      "Processing coarse channels 201-204\n"
     ]
    },
    {
     "name": "stderr",
     "output_type": "stream",
     "text": [
      " 66%|██████▋   | 67/101 [19:28<09:48, 17.32s/it]"
     ]
    },
    {
     "name": "stdout",
     "output_type": "stream",
     "text": [
      "Data loaded in 1.2023 seconds, processing\n",
      "Bandpass cleaned in 1.6744 seconds.\n",
      "Stamps filtered in 14.5773 seconds\n",
      "Saving results\n",
      "Results aggregated in 0.0610 seconds\n",
      "Processing coarse channels 204-207\n"
     ]
    },
    {
     "name": "stderr",
     "output_type": "stream",
     "text": [
      " 67%|██████▋   | 68/101 [19:46<09:33, 17.38s/it]"
     ]
    },
    {
     "name": "stdout",
     "output_type": "stream",
     "text": [
      "Data loaded in 1.0484 seconds, processing\n",
      "Bandpass cleaned in 1.6428 seconds.\n",
      "Stamps filtered in 14.4306 seconds\n",
      "Saving results\n",
      "Results aggregated in 0.1155 seconds\n",
      "Processing coarse channels 207-210\n"
     ]
    },
    {
     "name": "stderr",
     "output_type": "stream",
     "text": [
      " 68%|██████▊   | 69/101 [20:03<09:14, 17.34s/it]"
     ]
    },
    {
     "name": "stdout",
     "output_type": "stream",
     "text": [
      "Data loaded in 1.2155 seconds, processing\n",
      "Bandpass cleaned in 1.6283 seconds.\n",
      "Stamps filtered in 14.4563 seconds\n",
      "Saving results\n"
     ]
    },
    {
     "name": "stderr",
     "output_type": "stream",
     "text": [
      " 69%|██████▉   | 70/101 [20:21<09:06, 17.63s/it]"
     ]
    },
    {
     "name": "stdout",
     "output_type": "stream",
     "text": [
      "Results aggregated in 0.9948 seconds\n",
      "Processing coarse channels 210-213\n",
      "Data loaded in 1.5213 seconds, processing\n",
      "Bandpass cleaned in 1.7522 seconds.\n",
      "Stamps filtered in 14.7619 seconds\n",
      "Saving results\n",
      "Results aggregated in 0.1497 seconds\n",
      "Processing coarse channels 213-216\n"
     ]
    },
    {
     "name": "stderr",
     "output_type": "stream",
     "text": [
      " 70%|███████   | 71/101 [20:39<08:54, 17.80s/it]"
     ]
    },
    {
     "name": "stdout",
     "output_type": "stream",
     "text": [
      "Data loaded in 0.7974 seconds, processing\n",
      "Bandpass cleaned in 1.6774 seconds.\n",
      "Stamps filtered in 14.3811 seconds\n",
      "Saving results\n",
      "Results aggregated in 0.1246 seconds\n",
      "Processing coarse channels 216-219\n"
     ]
    },
    {
     "name": "stderr",
     "output_type": "stream",
     "text": [
      " 71%|███████▏  | 72/101 [20:56<08:29, 17.56s/it]"
     ]
    },
    {
     "name": "stdout",
     "output_type": "stream",
     "text": [
      "Data loaded in 1.1831 seconds, processing\n",
      "Bandpass cleaned in 1.6009 seconds.\n",
      "Stamps filtered in 14.4599 seconds\n",
      "Saving results\n"
     ]
    },
    {
     "name": "stderr",
     "output_type": "stream",
     "text": [
      " 72%|███████▏  | 73/101 [21:15<08:24, 18.02s/it]"
     ]
    },
    {
     "name": "stdout",
     "output_type": "stream",
     "text": [
      "Results aggregated in 1.8373 seconds\n",
      "Processing coarse channels 219-222\n",
      "Data loaded in 1.2002 seconds, processing\n",
      "Bandpass cleaned in 1.6359 seconds.\n",
      "Stamps filtered in 14.5605 seconds\n",
      "Saving results\n",
      "Results aggregated in 0.1311 seconds\n",
      "Processing coarse channels 222-225\n"
     ]
    },
    {
     "name": "stderr",
     "output_type": "stream",
     "text": [
      " 73%|███████▎  | 74/101 [21:33<08:02, 17.88s/it]"
     ]
    },
    {
     "name": "stdout",
     "output_type": "stream",
     "text": [
      "Data loaded in 0.9781 seconds, processing\n",
      "Bandpass cleaned in 1.7059 seconds.\n",
      "Stamps filtered in 15.4102 seconds\n",
      "Saving results\n",
      "Results aggregated in 0.0595 seconds\n",
      "Processing coarse channels 225-228\n"
     ]
    },
    {
     "name": "stderr",
     "output_type": "stream",
     "text": [
      " 74%|███████▍  | 75/101 [21:51<07:47, 17.96s/it]"
     ]
    },
    {
     "name": "stdout",
     "output_type": "stream",
     "text": [
      "Data loaded in 1.3374 seconds, processing\n",
      "Bandpass cleaned in 1.6545 seconds.\n",
      "Stamps filtered in 14.4034 seconds\n",
      "Saving results\n"
     ]
    },
    {
     "name": "stderr",
     "output_type": "stream",
     "text": [
      " 75%|███████▌  | 76/101 [22:10<07:35, 18.24s/it]"
     ]
    },
    {
     "name": "stdout",
     "output_type": "stream",
     "text": [
      "Results aggregated in 1.4759 seconds\n",
      "Processing coarse channels 228-231\n",
      "Data loaded in 0.8817 seconds, processing\n",
      "Bandpass cleaned in 1.6945 seconds.\n",
      "Stamps filtered in 14.6155 seconds\n",
      "Saving results\n"
     ]
    },
    {
     "name": "stderr",
     "output_type": "stream",
     "text": [
      " 76%|███████▌  | 77/101 [22:28<07:16, 18.17s/it]"
     ]
    },
    {
     "name": "stdout",
     "output_type": "stream",
     "text": [
      "Results aggregated in 0.8058 seconds\n",
      "Processing coarse channels 231-234\n",
      "Data loaded in 1.4231 seconds, processing\n",
      "Bandpass cleaned in 1.6618 seconds.\n",
      "Stamps filtered in 14.6699 seconds\n",
      "Saving results\n",
      "Results aggregated in 0.0772 seconds\n",
      "Processing coarse channels 234-237\n"
     ]
    },
    {
     "name": "stderr",
     "output_type": "stream",
     "text": [
      " 77%|███████▋  | 78/101 [22:46<06:55, 18.07s/it]"
     ]
    },
    {
     "name": "stdout",
     "output_type": "stream",
     "text": [
      "Data loaded in 1.1862 seconds, processing\n",
      "Bandpass cleaned in 1.6045 seconds.\n",
      "Stamps filtered in 15.4254 seconds\n",
      "Saving results\n",
      "Results aggregated in 0.0777 seconds\n",
      "Processing coarse channels 237-240\n"
     ]
    },
    {
     "name": "stderr",
     "output_type": "stream",
     "text": [
      " 78%|███████▊  | 79/101 [23:04<06:39, 18.14s/it]"
     ]
    },
    {
     "name": "stdout",
     "output_type": "stream",
     "text": [
      "Data loaded in 0.8043 seconds, processing\n",
      "Bandpass cleaned in 1.6899 seconds.\n",
      "Stamps filtered in 14.2207 seconds\n",
      "Saving results\n"
     ]
    },
    {
     "name": "stderr",
     "output_type": "stream",
     "text": [
      " 79%|███████▉  | 80/101 [23:21<06:14, 17.85s/it]"
     ]
    },
    {
     "name": "stdout",
     "output_type": "stream",
     "text": [
      "Results aggregated in 0.4617 seconds\n",
      "Processing coarse channels 240-243\n",
      "Data loaded in 1.4361 seconds, processing\n",
      "Bandpass cleaned in 1.6666 seconds.\n",
      "Stamps filtered in 15.3108 seconds\n",
      "Saving results\n"
     ]
    },
    {
     "name": "stderr",
     "output_type": "stream",
     "text": [
      " 80%|████████  | 81/101 [23:42<06:15, 18.78s/it]"
     ]
    },
    {
     "name": "stdout",
     "output_type": "stream",
     "text": [
      "Results aggregated in 2.4849 seconds\n",
      "Processing coarse channels 243-246\n",
      "Data loaded in 0.8097 seconds, processing\n",
      "Bandpass cleaned in 1.7318 seconds.\n",
      "Stamps filtered in 14.5483 seconds\n",
      "Saving results\n"
     ]
    },
    {
     "name": "stderr",
     "output_type": "stream",
     "text": [
      " 81%|████████  | 82/101 [24:01<05:54, 18.64s/it]"
     ]
    },
    {
     "name": "stdout",
     "output_type": "stream",
     "text": [
      "Results aggregated in 1.1971 seconds\n",
      "Processing coarse channels 246-249\n",
      "Data loaded in 1.4464 seconds, processing\n",
      "Bandpass cleaned in 1.7268 seconds.\n",
      "Stamps filtered in 14.2453 seconds\n",
      "Saving results\n",
      "Results aggregated in 0.1655 seconds\n",
      "Processing coarse channels 249-252\n"
     ]
    },
    {
     "name": "stderr",
     "output_type": "stream",
     "text": [
      " 82%|████████▏ | 83/101 [24:18<05:29, 18.32s/it]"
     ]
    },
    {
     "name": "stdout",
     "output_type": "stream",
     "text": [
      "Data loaded in 1.1879 seconds, processing\n",
      "Bandpass cleaned in 1.6319 seconds.\n",
      "Stamps filtered in 15.3004 seconds\n",
      "Saving results\n"
     ]
    },
    {
     "name": "stderr",
     "output_type": "stream",
     "text": [
      " 83%|████████▎ | 84/101 [24:38<05:20, 18.85s/it]"
     ]
    },
    {
     "name": "stdout",
     "output_type": "stream",
     "text": [
      "Results aggregated in 1.9177 seconds\n",
      "Processing coarse channels 252-255\n",
      "Data loaded in 0.8531 seconds, processing\n",
      "Bandpass cleaned in 1.7235 seconds.\n",
      "Stamps filtered in 14.7972 seconds\n",
      "Saving results\n"
     ]
    },
    {
     "name": "stderr",
     "output_type": "stream",
     "text": [
      " 84%|████████▍ | 85/101 [24:58<05:05, 19.11s/it]"
     ]
    },
    {
     "name": "stdout",
     "output_type": "stream",
     "text": [
      "Results aggregated in 2.3081 seconds\n",
      "Processing coarse channels 255-258\n",
      "Data loaded in 1.3628 seconds, processing\n",
      "Bandpass cleaned in 1.7097 seconds.\n",
      "Stamps filtered in 15.5027 seconds\n",
      "Saving results\n",
      "Results aggregated in 0.1615 seconds\n",
      "Processing coarse channels 258-261\n"
     ]
    },
    {
     "name": "stderr",
     "output_type": "stream",
     "text": [
      " 85%|████████▌ | 86/101 [25:17<04:44, 19.00s/it]"
     ]
    },
    {
     "name": "stdout",
     "output_type": "stream",
     "text": [
      "Data loaded in 0.8407 seconds, processing\n",
      "Bandpass cleaned in 1.6671 seconds.\n",
      "Stamps filtered in 15.2561 seconds\n",
      "Saving results\n",
      "Results aggregated in 0.0916 seconds\n",
      "Processing coarse channels 261-264\n"
     ]
    },
    {
     "name": "stderr",
     "output_type": "stream",
     "text": [
      " 86%|████████▌ | 87/101 [25:35<04:21, 18.66s/it]"
     ]
    },
    {
     "name": "stdout",
     "output_type": "stream",
     "text": [
      "Data loaded in 1.3505 seconds, processing\n",
      "Bandpass cleaned in 1.7332 seconds.\n",
      "Stamps filtered in 14.7557 seconds\n",
      "Saving results\n",
      "Results aggregated in 0.0831 seconds\n",
      "Processing coarse channels 264-267\n"
     ]
    },
    {
     "name": "stderr",
     "output_type": "stream",
     "text": [
      " 87%|████████▋ | 88/101 [25:52<03:59, 18.44s/it]"
     ]
    },
    {
     "name": "stdout",
     "output_type": "stream",
     "text": [
      "Data loaded in 1.3024 seconds, processing\n",
      "Bandpass cleaned in 1.7124 seconds.\n",
      "Stamps filtered in 15.2212 seconds\n",
      "Saving results\n",
      "Results aggregated in 0.1389 seconds\n",
      "Processing coarse channels 267-270\n"
     ]
    },
    {
     "name": "stderr",
     "output_type": "stream",
     "text": [
      " 88%|████████▊ | 89/101 [26:11<03:41, 18.42s/it]"
     ]
    },
    {
     "name": "stdout",
     "output_type": "stream",
     "text": [
      "Data loaded in 0.8046 seconds, processing\n",
      "Bandpass cleaned in 1.6455 seconds.\n",
      "Stamps filtered in 14.6309 seconds\n",
      "Saving results\n",
      "Results aggregated in 0.0772 seconds\n",
      "Processing coarse channels 270-273\n"
     ]
    },
    {
     "name": "stderr",
     "output_type": "stream",
     "text": [
      " 89%|████████▉ | 90/101 [26:28<03:18, 18.04s/it]"
     ]
    },
    {
     "name": "stdout",
     "output_type": "stream",
     "text": [
      "Data loaded in 1.1216 seconds, processing\n",
      "Bandpass cleaned in 1.6675 seconds.\n",
      "Stamps filtered in 15.1364 seconds\n",
      "Saving results\n",
      "Results aggregated in 0.0782 seconds\n",
      "Processing coarse channels 273-276\n"
     ]
    },
    {
     "name": "stderr",
     "output_type": "stream",
     "text": [
      " 90%|█████████ | 91/101 [26:46<03:00, 18.03s/it]"
     ]
    },
    {
     "name": "stdout",
     "output_type": "stream",
     "text": [
      "Data loaded in 0.8067 seconds, processing\n",
      "Bandpass cleaned in 1.6660 seconds.\n",
      "Stamps filtered in 14.4595 seconds\n",
      "Saving results\n",
      "Results aggregated in 0.0815 seconds\n",
      "Processing coarse channels 276-279\n"
     ]
    },
    {
     "name": "stderr",
     "output_type": "stream",
     "text": [
      " 91%|█████████ | 92/101 [27:03<02:39, 17.73s/it]"
     ]
    },
    {
     "name": "stdout",
     "output_type": "stream",
     "text": [
      "Data loaded in 1.2811 seconds, processing\n",
      "Bandpass cleaned in 1.6745 seconds.\n",
      "Stamps filtered in 14.5057 seconds\n",
      "Saving results\n",
      "Results aggregated in 0.0802 seconds\n",
      "Processing coarse channels 279-282\n"
     ]
    },
    {
     "name": "stderr",
     "output_type": "stream",
     "text": [
      " 92%|█████████▏| 93/101 [27:21<02:21, 17.68s/it]"
     ]
    },
    {
     "name": "stdout",
     "output_type": "stream",
     "text": [
      "Data loaded in 1.3313 seconds, processing\n",
      "Bandpass cleaned in 1.7774 seconds.\n",
      "Stamps filtered in 14.4999 seconds\n",
      "Saving results\n"
     ]
    },
    {
     "name": "stderr",
     "output_type": "stream",
     "text": [
      " 93%|█████████▎| 94/101 [27:39<02:04, 17.82s/it]"
     ]
    },
    {
     "name": "stdout",
     "output_type": "stream",
     "text": [
      "Results aggregated in 0.5438 seconds\n",
      "Processing coarse channels 282-285\n",
      "Data loaded in 0.7922 seconds, processing\n",
      "Bandpass cleaned in 1.7183 seconds.\n",
      "Stamps filtered in 14.4942 seconds\n",
      "Saving results\n",
      "Results aggregated in 0.1425 seconds\n",
      "Processing coarse channels 285-288\n"
     ]
    },
    {
     "name": "stderr",
     "output_type": "stream",
     "text": [
      " 94%|█████████▍| 95/101 [27:56<01:45, 17.62s/it]"
     ]
    },
    {
     "name": "stdout",
     "output_type": "stream",
     "text": [
      "Data loaded in 1.2491 seconds, processing\n",
      "Bandpass cleaned in 1.7460 seconds.\n",
      "Stamps filtered in 14.6172 seconds\n",
      "Saving results\n",
      "Results aggregated in 0.0896 seconds\n",
      "Processing coarse channels 288-291\n"
     ]
    },
    {
     "name": "stderr",
     "output_type": "stream",
     "text": [
      " 95%|█████████▌| 96/101 [28:14<01:28, 17.65s/it]"
     ]
    },
    {
     "name": "stdout",
     "output_type": "stream",
     "text": [
      "Data loaded in 0.9058 seconds, processing\n",
      "Bandpass cleaned in 1.6921 seconds.\n",
      "Stamps filtered in 14.8832 seconds\n",
      "Saving results\n",
      "Results aggregated in 0.1628 seconds\n",
      "Processing coarse channels 291-294\n"
     ]
    },
    {
     "name": "stderr",
     "output_type": "stream",
     "text": [
      " 96%|█████████▌| 97/101 [28:31<01:10, 17.65s/it]"
     ]
    },
    {
     "name": "stdout",
     "output_type": "stream",
     "text": [
      "Data loaded in 1.4027 seconds, processing\n",
      "Bandpass cleaned in 1.6399 seconds.\n",
      "Stamps filtered in 14.4071 seconds\n",
      "Saving results\n",
      "Results aggregated in 0.0842 seconds\n",
      "Processing coarse channels 294-297\n"
     ]
    },
    {
     "name": "stderr",
     "output_type": "stream",
     "text": [
      " 97%|█████████▋| 98/101 [28:49<00:52, 17.62s/it]"
     ]
    },
    {
     "name": "stdout",
     "output_type": "stream",
     "text": [
      "Data loaded in 1.1240 seconds, processing\n",
      "Bandpass cleaned in 1.7055 seconds.\n",
      "Stamps filtered in 14.4263 seconds\n",
      "Saving results\n",
      "Results aggregated in 0.0931 seconds\n",
      "Processing coarse channels 297-300\n"
     ]
    },
    {
     "name": "stderr",
     "output_type": "stream",
     "text": [
      " 98%|█████████▊| 99/101 [29:06<00:35, 17.54s/it]"
     ]
    },
    {
     "name": "stdout",
     "output_type": "stream",
     "text": [
      "Data loaded in 0.8384 seconds, processing\n",
      "Bandpass cleaned in 1.6550 seconds.\n",
      "Stamps filtered in 14.2018 seconds\n",
      "Saving results\n",
      "Results aggregated in 0.0752 seconds\n",
      "Processing coarse channels 300-303\n"
     ]
    },
    {
     "name": "stderr",
     "output_type": "stream",
     "text": [
      " 99%|█████████▉| 100/101 [29:23<00:17, 17.31s/it]"
     ]
    },
    {
     "name": "stdout",
     "output_type": "stream",
     "text": [
      "Data loaded in 0.8129 seconds, processing\n",
      "Bandpass cleaned in 1.6967 seconds.\n",
      "Stamps filtered in 14.6587 seconds\n",
      "Saving results\n"
     ]
    },
    {
     "name": "stderr",
     "output_type": "stream",
     "text": [
      "100%|██████████| 101/101 [29:40<00:00, 17.63s/it]\n"
     ]
    },
    {
     "name": "stdout",
     "output_type": "stream",
     "text": [
      "Results aggregated in 0.0732 seconds\n",
      "        level_0      index     statistic  pvalue        freqs\n",
      "238101   238101  294466432  2.971233e+04     0.0  1091.308957\n",
      "240056   240056  313064320  2.646206e+04     0.0  1038.574582\n",
      "238239   238239  295499648  1.920538e+04     0.0  1088.379269\n",
      "240067   240067  314097536  1.545114e+04     0.0  1035.644894\n",
      "35569     35569  108423296  1.547635e+06     0.0  1618.834905\n",
      "35568     35568  108423168  1.021019e+05     0.0  1618.835268\n",
      "35570     35570  108423424  2.443367e+04     0.0  1618.834542\n",
      "10393     10393   81795712  1.354678e+04     0.0  1694.337510\n",
      "10084     10084   62166016  1.022027e+04     0.0  1749.997580\n",
      "10006     10006   38745472  8.052550e+03     0.0  1816.406613\n",
      "10007     10007   38745600  8.052543e+03     0.0  1816.406250\n",
      "10071     10071   61476224  8.052527e+03     0.0  1751.953488\n",
      "303 303\n",
      "Finished Energy Detection on GBT_57515_82215_HIP43343_fine.h5 in 1791.1695 seconds\n",
      "/mnt_blpd7/datax/dl/GBT_57515_82563_HIP44295_fine.h5\n",
      "Header saved to ../../../../../../datax/scratch/pma/reverse_search/train_large/HIP44295-23/GBT_57515_82563_HIP44295_fine/header.pkl\n",
      "Processing 3 in parallel\n",
      "Processing coarse channels 0-3\n"
     ]
    },
    {
     "name": "stderr",
     "output_type": "stream",
     "text": [
      "  0%|          | 0/101 [00:00<?, ?it/s]"
     ]
    },
    {
     "name": "stdout",
     "output_type": "stream",
     "text": [
      "Data loaded in 2.1693 seconds, processing\n",
      "Bandpass cleaned in 1.6524 seconds.\n",
      "Stamps filtered in 13.7748 seconds\n",
      "Saving results\n"
     ]
    },
    {
     "name": "stderr",
     "output_type": "stream",
     "text": [
      "  1%|          | 1/101 [00:18<30:53, 18.53s/it]"
     ]
    },
    {
     "name": "stdout",
     "output_type": "stream",
     "text": [
      "Results aggregated in 0.9157 seconds\n",
      "Processing coarse channels 3-6\n",
      "Data loaded in 1.4502 seconds, processing\n",
      "Bandpass cleaned in 1.6922 seconds.\n",
      "Stamps filtered in 13.5827 seconds\n",
      "Saving results\n",
      "Results aggregated in 0.1350 seconds\n",
      "Processing coarse channels 6-9\n"
     ]
    },
    {
     "name": "stderr",
     "output_type": "stream",
     "text": [
      "  2%|▏         | 2/101 [00:35<28:57, 17.55s/it]"
     ]
    },
    {
     "name": "stdout",
     "output_type": "stream",
     "text": [
      "Data loaded in 1.6582 seconds, processing\n",
      "Bandpass cleaned in 1.7255 seconds.\n",
      "Stamps filtered in 13.5578 seconds\n",
      "Saving results\n",
      "Results aggregated in 0.0731 seconds\n",
      "Processing coarse channels 9-12\n"
     ]
    },
    {
     "name": "stderr",
     "output_type": "stream",
     "text": [
      "  3%|▎         | 3/101 [00:52<28:16, 17.31s/it]"
     ]
    },
    {
     "name": "stdout",
     "output_type": "stream",
     "text": [
      "Data loaded in 0.7550 seconds, processing\n",
      "Bandpass cleaned in 1.6234 seconds.\n",
      "Stamps filtered in 12.9449 seconds\n",
      "Saving results\n",
      "Results aggregated in 0.0361 seconds\n",
      "Processing coarse channels 12-15\n"
     ]
    },
    {
     "name": "stderr",
     "output_type": "stream",
     "text": [
      "  4%|▍         | 4/101 [01:07<26:44, 16.54s/it]"
     ]
    },
    {
     "name": "stdout",
     "output_type": "stream",
     "text": [
      "Data loaded in 1.6229 seconds, processing\n",
      "Bandpass cleaned in 1.5736 seconds.\n",
      "Stamps filtered in 13.2396 seconds\n",
      "Saving results\n",
      "Results aggregated in 0.0382 seconds\n",
      "Processing coarse channels 15-18\n"
     ]
    },
    {
     "name": "stderr",
     "output_type": "stream",
     "text": [
      "  5%|▍         | 5/101 [01:24<26:25, 16.52s/it]"
     ]
    },
    {
     "name": "stdout",
     "output_type": "stream",
     "text": [
      "Data loaded in 0.9889 seconds, processing\n",
      "Bandpass cleaned in 1.6292 seconds.\n",
      "Stamps filtered in 13.3261 seconds\n",
      "Saving results\n",
      "Results aggregated in 0.0382 seconds\n",
      "Processing coarse channels 18-21\n"
     ]
    },
    {
     "name": "stderr",
     "output_type": "stream",
     "text": [
      "  6%|▌         | 6/101 [01:40<25:52, 16.34s/it]"
     ]
    },
    {
     "name": "stdout",
     "output_type": "stream",
     "text": [
      "Data loaded in 1.2341 seconds, processing\n",
      "Bandpass cleaned in 1.7465 seconds.\n",
      "Stamps filtered in 13.1038 seconds\n",
      "Saving results\n",
      "Results aggregated in 0.0389 seconds\n",
      "Processing coarse channels 21-24\n"
     ]
    },
    {
     "name": "stderr",
     "output_type": "stream",
     "text": [
      "  7%|▋         | 7/101 [01:56<25:29, 16.27s/it]"
     ]
    },
    {
     "name": "stdout",
     "output_type": "stream",
     "text": [
      "Data loaded in 1.4391 seconds, processing\n",
      "Bandpass cleaned in 1.7241 seconds.\n",
      "Stamps filtered in 12.9117 seconds\n",
      "Saving results\n",
      "Results aggregated in 0.0368 seconds\n",
      "Processing coarse channels 24-27\n"
     ]
    },
    {
     "name": "stderr",
     "output_type": "stream",
     "text": [
      "  8%|▊         | 8/101 [02:12<25:08, 16.22s/it]"
     ]
    },
    {
     "name": "stdout",
     "output_type": "stream",
     "text": [
      "Data loaded in 1.0847 seconds, processing\n",
      "Bandpass cleaned in 1.5987 seconds.\n",
      "Stamps filtered in 13.1042 seconds\n",
      "Saving results\n",
      "Results aggregated in 0.0383 seconds\n",
      "Processing coarse channels 27-30\n"
     ]
    },
    {
     "name": "stderr",
     "output_type": "stream",
     "text": [
      "  9%|▉         | 9/101 [02:28<24:41, 16.10s/it]"
     ]
    },
    {
     "name": "stdout",
     "output_type": "stream",
     "text": [
      "Data loaded in 1.1659 seconds, processing\n",
      "Bandpass cleaned in 1.5870 seconds.\n",
      "Stamps filtered in 12.9814 seconds\n",
      "Saving results\n",
      "Results aggregated in 0.0385 seconds\n",
      "Processing coarse channels 30-33\n"
     ]
    },
    {
     "name": "stderr",
     "output_type": "stream",
     "text": [
      " 10%|▉         | 10/101 [02:44<24:16, 16.00s/it]"
     ]
    },
    {
     "name": "stdout",
     "output_type": "stream",
     "text": [
      "Data loaded in 1.1603 seconds, processing\n",
      "Bandpass cleaned in 1.6093 seconds.\n",
      "Stamps filtered in 13.2101 seconds\n",
      "Saving results\n",
      "Results aggregated in 0.0341 seconds\n",
      "Processing coarse channels 33-36\n"
     ]
    },
    {
     "name": "stderr",
     "output_type": "stream",
     "text": [
      " 11%|█         | 11/101 [03:00<24:00, 16.01s/it]"
     ]
    },
    {
     "name": "stdout",
     "output_type": "stream",
     "text": [
      "Data loaded in 1.3533 seconds, processing\n",
      "Bandpass cleaned in 1.6251 seconds.\n",
      "Stamps filtered in 13.0285 seconds\n",
      "Saving results\n",
      "Results aggregated in 0.0383 seconds\n",
      "Processing coarse channels 36-39\n"
     ]
    },
    {
     "name": "stderr",
     "output_type": "stream",
     "text": [
      " 12%|█▏        | 12/101 [03:16<23:45, 16.02s/it]"
     ]
    },
    {
     "name": "stdout",
     "output_type": "stream",
     "text": [
      "Data loaded in 1.1016 seconds, processing\n",
      "Bandpass cleaned in 1.5992 seconds.\n",
      "Stamps filtered in 13.2281 seconds\n",
      "Saving results\n",
      "Results aggregated in 0.0400 seconds\n",
      "Processing coarse channels 39-42\n"
     ]
    },
    {
     "name": "stderr",
     "output_type": "stream",
     "text": [
      " 13%|█▎        | 13/101 [03:32<23:28, 16.01s/it]"
     ]
    },
    {
     "name": "stdout",
     "output_type": "stream",
     "text": [
      "Data loaded in 1.1320 seconds, processing\n",
      "Bandpass cleaned in 1.5697 seconds.\n",
      "Stamps filtered in 12.9498 seconds\n",
      "Saving results\n",
      "Results aggregated in 0.0361 seconds\n",
      "Processing coarse channels 42-45\n"
     ]
    },
    {
     "name": "stderr",
     "output_type": "stream",
     "text": [
      " 14%|█▍        | 14/101 [03:47<23:04, 15.91s/it]"
     ]
    },
    {
     "name": "stdout",
     "output_type": "stream",
     "text": [
      "Data loaded in 1.0349 seconds, processing\n",
      "Bandpass cleaned in 1.6017 seconds.\n",
      "Stamps filtered in 12.9703 seconds\n",
      "Saving results\n",
      "Results aggregated in 0.0371 seconds\n",
      "Processing coarse channels 45-48\n"
     ]
    },
    {
     "name": "stderr",
     "output_type": "stream",
     "text": [
      " 15%|█▍        | 15/101 [04:03<22:41, 15.83s/it]"
     ]
    },
    {
     "name": "stdout",
     "output_type": "stream",
     "text": [
      "Data loaded in 1.1197 seconds, processing\n",
      "Bandpass cleaned in 1.5380 seconds.\n",
      "Stamps filtered in 12.9256 seconds\n",
      "Saving results\n",
      "Results aggregated in 0.0375 seconds\n",
      "Processing coarse channels 48-51\n"
     ]
    },
    {
     "name": "stderr",
     "output_type": "stream",
     "text": [
      " 16%|█▌        | 16/101 [04:19<22:20, 15.77s/it]"
     ]
    },
    {
     "name": "stdout",
     "output_type": "stream",
     "text": [
      "Data loaded in 1.2372 seconds, processing\n",
      "Bandpass cleaned in 1.5875 seconds.\n",
      "Stamps filtered in 12.9915 seconds\n",
      "Saving results\n",
      "Results aggregated in 0.0379 seconds\n",
      "Processing coarse channels 51-54\n"
     ]
    },
    {
     "name": "stderr",
     "output_type": "stream",
     "text": [
      " 17%|█▋        | 17/101 [04:35<22:07, 15.80s/it]"
     ]
    },
    {
     "name": "stdout",
     "output_type": "stream",
     "text": [
      "Data loaded in 1.1909 seconds, processing\n",
      "Bandpass cleaned in 1.5634 seconds.\n",
      "Stamps filtered in 12.8744 seconds\n",
      "Saving results\n",
      "Results aggregated in 0.0406 seconds\n",
      "Processing coarse channels 54-57\n"
     ]
    },
    {
     "name": "stderr",
     "output_type": "stream",
     "text": [
      " 18%|█▊        | 18/101 [04:50<21:48, 15.76s/it]"
     ]
    },
    {
     "name": "stdout",
     "output_type": "stream",
     "text": [
      "Data loaded in 1.3259 seconds, processing\n",
      "Bandpass cleaned in 1.7886 seconds.\n",
      "Stamps filtered in 13.7905 seconds\n",
      "Saving results\n",
      "Results aggregated in 0.0404 seconds\n",
      "Processing coarse channels 57-60\n"
     ]
    },
    {
     "name": "stderr",
     "output_type": "stream",
     "text": [
      " 19%|█▉        | 19/101 [05:07<22:01, 16.12s/it]"
     ]
    },
    {
     "name": "stdout",
     "output_type": "stream",
     "text": [
      "Data loaded in 1.1163 seconds, processing\n",
      "Bandpass cleaned in 1.6137 seconds.\n",
      "Stamps filtered in 12.6952 seconds\n",
      "Saving results\n",
      "Results aggregated in 0.0415 seconds\n",
      "Processing coarse channels 60-63\n"
     ]
    },
    {
     "name": "stderr",
     "output_type": "stream",
     "text": [
      " 20%|█▉        | 20/101 [05:23<21:30, 15.93s/it]"
     ]
    },
    {
     "name": "stdout",
     "output_type": "stream",
     "text": [
      "Data loaded in 1.1201 seconds, processing\n",
      "Bandpass cleaned in 1.6379 seconds.\n",
      "Stamps filtered in 12.7017 seconds\n",
      "Saving results\n",
      "Results aggregated in 0.0374 seconds\n",
      "Processing coarse channels 63-66\n"
     ]
    },
    {
     "name": "stderr",
     "output_type": "stream",
     "text": [
      " 21%|██        | 21/101 [05:38<21:03, 15.80s/it]"
     ]
    },
    {
     "name": "stdout",
     "output_type": "stream",
     "text": [
      "Data loaded in 1.3615 seconds, processing\n",
      "Bandpass cleaned in 1.5267 seconds.\n",
      "Stamps filtered in 13.0190 seconds\n",
      "Saving results\n",
      "Results aggregated in 0.0368 seconds\n",
      "Processing coarse channels 66-69\n"
     ]
    },
    {
     "name": "stderr",
     "output_type": "stream",
     "text": [
      " 22%|██▏       | 22/101 [05:54<20:51, 15.85s/it]"
     ]
    },
    {
     "name": "stdout",
     "output_type": "stream",
     "text": [
      "Data loaded in 1.2036 seconds, processing\n",
      "Bandpass cleaned in 1.6303 seconds.\n",
      "Stamps filtered in 12.9717 seconds\n",
      "Saving results\n",
      "Results aggregated in 0.0356 seconds\n",
      "Processing coarse channels 69-72\n"
     ]
    },
    {
     "name": "stderr",
     "output_type": "stream",
     "text": [
      " 23%|██▎       | 23/101 [06:10<20:35, 15.85s/it]"
     ]
    },
    {
     "name": "stdout",
     "output_type": "stream",
     "text": [
      "Data loaded in 1.2245 seconds, processing\n",
      "Bandpass cleaned in 1.5689 seconds.\n",
      "Stamps filtered in 13.1303 seconds\n",
      "Saving results\n",
      "Results aggregated in 0.0373 seconds\n",
      "Processing coarse channels 72-75\n"
     ]
    },
    {
     "name": "stderr",
     "output_type": "stream",
     "text": [
      " 24%|██▍       | 24/101 [06:26<20:22, 15.88s/it]"
     ]
    },
    {
     "name": "stdout",
     "output_type": "stream",
     "text": [
      "Data loaded in 1.1336 seconds, processing\n",
      "Bandpass cleaned in 1.6136 seconds.\n",
      "Stamps filtered in 13.1492 seconds\n",
      "Saving results\n",
      "Results aggregated in 0.0378 seconds\n",
      "Processing coarse channels 75-78\n"
     ]
    },
    {
     "name": "stderr",
     "output_type": "stream",
     "text": [
      " 25%|██▍       | 25/101 [06:42<20:08, 15.90s/it]"
     ]
    },
    {
     "name": "stdout",
     "output_type": "stream",
     "text": [
      "Data loaded in 1.0893 seconds, processing\n",
      "Bandpass cleaned in 1.6182 seconds.\n",
      "Stamps filtered in 13.1863 seconds\n",
      "Saving results\n",
      "Results aggregated in 0.0766 seconds\n",
      "Processing coarse channels 78-81\n"
     ]
    },
    {
     "name": "stderr",
     "output_type": "stream",
     "text": [
      " 26%|██▌       | 26/101 [06:58<19:54, 15.92s/it]"
     ]
    },
    {
     "name": "stdout",
     "output_type": "stream",
     "text": [
      "Data loaded in 1.2921 seconds, processing\n",
      "Bandpass cleaned in 1.5792 seconds.\n",
      "Stamps filtered in 12.8618 seconds\n",
      "Saving results\n"
     ]
    },
    {
     "name": "stderr",
     "output_type": "stream",
     "text": [
      " 27%|██▋       | 27/101 [07:14<19:39, 15.94s/it]"
     ]
    },
    {
     "name": "stdout",
     "output_type": "stream",
     "text": [
      "Results aggregated in 0.2504 seconds\n",
      "Processing coarse channels 81-84\n",
      "Data loaded in 1.1285 seconds, processing\n",
      "Bandpass cleaned in 1.6374 seconds.\n",
      "Stamps filtered in 12.7751 seconds\n",
      "Saving results\n",
      "Results aggregated in 0.1232 seconds\n",
      "Processing coarse channels 84-87\n"
     ]
    },
    {
     "name": "stderr",
     "output_type": "stream",
     "text": [
      " 28%|██▊       | 28/101 [07:29<19:17, 15.86s/it]"
     ]
    },
    {
     "name": "stdout",
     "output_type": "stream",
     "text": [
      "Data loaded in 1.3983 seconds, processing\n",
      "Bandpass cleaned in 1.6455 seconds.\n",
      "Stamps filtered in 12.9205 seconds\n",
      "Saving results\n",
      "Results aggregated in 0.1515 seconds\n",
      "Processing coarse channels 87-90\n"
     ]
    },
    {
     "name": "stderr",
     "output_type": "stream",
     "text": [
      " 29%|██▊       | 29/101 [07:46<19:07, 15.94s/it]"
     ]
    },
    {
     "name": "stdout",
     "output_type": "stream",
     "text": [
      "Data loaded in 1.2659 seconds, processing\n",
      "Bandpass cleaned in 1.6570 seconds.\n",
      "Stamps filtered in 13.0028 seconds\n",
      "Saving results\n",
      "Results aggregated in 0.0454 seconds\n",
      "Processing coarse channels 90-93\n"
     ]
    },
    {
     "name": "stderr",
     "output_type": "stream",
     "text": [
      " 30%|██▉       | 30/101 [08:02<18:52, 15.95s/it]"
     ]
    },
    {
     "name": "stdout",
     "output_type": "stream",
     "text": [
      "Data loaded in 1.1287 seconds, processing\n",
      "Bandpass cleaned in 1.6421 seconds.\n",
      "Stamps filtered in 12.8437 seconds\n",
      "Saving results\n",
      "Results aggregated in 0.0454 seconds\n",
      "Processing coarse channels 93-96\n"
     ]
    },
    {
     "name": "stderr",
     "output_type": "stream",
     "text": [
      " 31%|███       | 31/101 [08:17<18:30, 15.87s/it]"
     ]
    },
    {
     "name": "stdout",
     "output_type": "stream",
     "text": [
      "Data loaded in 1.0312 seconds, processing\n",
      "Bandpass cleaned in 1.5920 seconds.\n",
      "Stamps filtered in 13.2726 seconds\n",
      "Saving results\n",
      "Results aggregated in 0.0432 seconds\n",
      "Processing coarse channels 96-99\n"
     ]
    },
    {
     "name": "stderr",
     "output_type": "stream",
     "text": [
      " 32%|███▏      | 32/101 [08:33<18:16, 15.89s/it]"
     ]
    },
    {
     "name": "stdout",
     "output_type": "stream",
     "text": [
      "Data loaded in 1.2279 seconds, processing\n",
      "Bandpass cleaned in 1.6492 seconds.\n",
      "Stamps filtered in 13.3573 seconds\n",
      "Saving results\n",
      "Results aggregated in 0.0438 seconds\n",
      "Processing coarse channels 99-102\n"
     ]
    },
    {
     "name": "stderr",
     "output_type": "stream",
     "text": [
      " 33%|███▎      | 33/101 [08:49<18:08, 16.01s/it]"
     ]
    },
    {
     "name": "stdout",
     "output_type": "stream",
     "text": [
      "Data loaded in 1.1090 seconds, processing\n",
      "Bandpass cleaned in 1.5662 seconds.\n",
      "Stamps filtered in 12.9785 seconds\n",
      "Saving results\n"
     ]
    },
    {
     "name": "stderr",
     "output_type": "stream",
     "text": [
      " 34%|███▎      | 34/101 [09:06<18:12, 16.30s/it]"
     ]
    },
    {
     "name": "stdout",
     "output_type": "stream",
     "text": [
      "Results aggregated in 1.3003 seconds\n",
      "Processing coarse channels 102-105\n",
      "Data loaded in 1.0174 seconds, processing\n",
      "Bandpass cleaned in 1.7569 seconds.\n",
      "Stamps filtered in 13.7645 seconds\n",
      "Saving results\n"
     ]
    },
    {
     "name": "stderr",
     "output_type": "stream",
     "text": [
      " 35%|███▍      | 35/101 [09:25<18:44, 17.04s/it]"
     ]
    },
    {
     "name": "stdout",
     "output_type": "stream",
     "text": [
      "Results aggregated in 2.2087 seconds\n",
      "Processing coarse channels 105-108\n",
      "Data loaded in 1.4032 seconds, processing\n",
      "Bandpass cleaned in 1.6731 seconds.\n",
      "Stamps filtered in 13.8981 seconds\n",
      "Saving results\n"
     ]
    },
    {
     "name": "stderr",
     "output_type": "stream",
     "text": [
      " 36%|███▌      | 36/101 [09:42<18:30, 17.08s/it]"
     ]
    },
    {
     "name": "stdout",
     "output_type": "stream",
     "text": [
      "Results aggregated in 0.2009 seconds\n",
      "Processing coarse channels 108-111\n",
      "Data loaded in 1.3548 seconds, processing\n",
      "Bandpass cleaned in 1.6728 seconds.\n",
      "Stamps filtered in 13.5826 seconds\n",
      "Saving results\n"
     ]
    },
    {
     "name": "stderr",
     "output_type": "stream",
     "text": [
      " 37%|███▋      | 37/101 [10:00<18:23, 17.24s/it]"
     ]
    },
    {
     "name": "stdout",
     "output_type": "stream",
     "text": [
      "Results aggregated in 0.9971 seconds\n",
      "Processing coarse channels 111-114\n",
      "Data loaded in 1.3317 seconds, processing\n",
      "Bandpass cleaned in 1.6526 seconds.\n",
      "Stamps filtered in 13.5953 seconds\n",
      "Saving results\n",
      "Results aggregated in 0.1654 seconds\n",
      "Processing coarse channels 114-117\n"
     ]
    },
    {
     "name": "stderr",
     "output_type": "stream",
     "text": [
      " 38%|███▊      | 38/101 [10:17<17:57, 17.10s/it]"
     ]
    },
    {
     "name": "stdout",
     "output_type": "stream",
     "text": [
      "Data loaded in 1.1910 seconds, processing\n",
      "Bandpass cleaned in 1.5834 seconds.\n",
      "Stamps filtered in 13.3690 seconds\n",
      "Saving results\n",
      "Results aggregated in 0.0643 seconds\n",
      "Processing coarse channels 117-120\n"
     ]
    },
    {
     "name": "stderr",
     "output_type": "stream",
     "text": [
      " 39%|███▊      | 39/101 [10:33<17:23, 16.83s/it]"
     ]
    },
    {
     "name": "stdout",
     "output_type": "stream",
     "text": [
      "Data loaded in 1.0498 seconds, processing\n",
      "Bandpass cleaned in 1.6174 seconds.\n",
      "Stamps filtered in 13.5129 seconds\n",
      "Saving results\n"
     ]
    },
    {
     "name": "stderr",
     "output_type": "stream",
     "text": [
      " 40%|███▉      | 40/101 [10:50<17:12, 16.93s/it]"
     ]
    },
    {
     "name": "stdout",
     "output_type": "stream",
     "text": [
      "Results aggregated in 0.9645 seconds\n",
      "Processing coarse channels 120-123\n",
      "Data loaded in 1.2725 seconds, processing\n",
      "Bandpass cleaned in 1.6227 seconds.\n",
      "Stamps filtered in 13.4124 seconds\n",
      "Saving results\n",
      "Results aggregated in 0.0862 seconds\n",
      "Processing coarse channels 123-126\n"
     ]
    },
    {
     "name": "stderr",
     "output_type": "stream",
     "text": [
      " 41%|████      | 41/101 [11:07<16:46, 16.77s/it]"
     ]
    },
    {
     "name": "stdout",
     "output_type": "stream",
     "text": [
      "Data loaded in 1.2464 seconds, processing\n",
      "Bandpass cleaned in 1.6117 seconds.\n",
      "Stamps filtered in 13.4906 seconds\n",
      "Saving results\n"
     ]
    },
    {
     "name": "stderr",
     "output_type": "stream",
     "text": [
      " 42%|████▏     | 42/101 [11:24<16:37, 16.91s/it]"
     ]
    },
    {
     "name": "stdout",
     "output_type": "stream",
     "text": [
      "Results aggregated in 0.8789 seconds\n",
      "Processing coarse channels 126-129\n",
      "Data loaded in 1.3483 seconds, processing\n",
      "Bandpass cleaned in 1.6153 seconds.\n",
      "Stamps filtered in 13.5640 seconds\n",
      "Saving results\n"
     ]
    },
    {
     "name": "stderr",
     "output_type": "stream",
     "text": [
      " 43%|████▎     | 43/101 [11:41<16:31, 17.09s/it]"
     ]
    },
    {
     "name": "stdout",
     "output_type": "stream",
     "text": [
      "Results aggregated in 0.9593 seconds\n",
      "Processing coarse channels 129-132\n",
      "Data loaded in 1.3139 seconds, processing\n",
      "Bandpass cleaned in 1.6041 seconds.\n",
      "Stamps filtered in 13.2282 seconds\n",
      "Saving results\n"
     ]
    },
    {
     "name": "stderr",
     "output_type": "stream",
     "text": [
      " 44%|████▎     | 44/101 [11:58<16:11, 17.05s/it]"
     ]
    },
    {
     "name": "stdout",
     "output_type": "stream",
     "text": [
      "Results aggregated in 0.7944 seconds\n",
      "Processing coarse channels 132-135\n",
      "Data loaded in 1.1589 seconds, processing\n",
      "Bandpass cleaned in 1.6644 seconds.\n",
      "Stamps filtered in 13.6412 seconds\n",
      "Saving results\n"
     ]
    },
    {
     "name": "stderr",
     "output_type": "stream",
     "text": [
      " 45%|████▍     | 45/101 [12:16<15:59, 17.13s/it]"
     ]
    },
    {
     "name": "stdout",
     "output_type": "stream",
     "text": [
      "Results aggregated in 0.8427 seconds\n",
      "Processing coarse channels 135-138\n",
      "Data loaded in 1.1347 seconds, processing\n",
      "Bandpass cleaned in 1.6336 seconds.\n",
      "Stamps filtered in 13.5659 seconds\n",
      "Saving results\n",
      "Results aggregated in 0.0977 seconds\n",
      "Processing coarse channels 138-141\n"
     ]
    },
    {
     "name": "stderr",
     "output_type": "stream",
     "text": [
      " 46%|████▌     | 46/101 [12:32<15:30, 16.92s/it]"
     ]
    },
    {
     "name": "stdout",
     "output_type": "stream",
     "text": [
      "Data loaded in 1.3989 seconds, processing\n",
      "Bandpass cleaned in 1.5984 seconds.\n",
      "Stamps filtered in 13.5225 seconds\n",
      "Saving results\n",
      "Results aggregated in 0.0565 seconds\n",
      "Processing coarse channels 141-144\n"
     ]
    },
    {
     "name": "stderr",
     "output_type": "stream",
     "text": [
      " 47%|████▋     | 47/101 [12:49<15:08, 16.82s/it]"
     ]
    },
    {
     "name": "stdout",
     "output_type": "stream",
     "text": [
      "Data loaded in 0.8421 seconds, processing\n",
      "Bandpass cleaned in 1.6082 seconds.\n",
      "Stamps filtered in 13.8126 seconds\n",
      "Saving results\n",
      "Results aggregated in 0.0615 seconds\n",
      "Processing coarse channels 144-147\n"
     ]
    },
    {
     "name": "stderr",
     "output_type": "stream",
     "text": [
      " 48%|████▊     | 48/101 [13:05<14:43, 16.67s/it]"
     ]
    },
    {
     "name": "stdout",
     "output_type": "stream",
     "text": [
      "Data loaded in 1.0973 seconds, processing\n",
      "Bandpass cleaned in 1.6065 seconds.\n",
      "Stamps filtered in 12.7348 seconds\n",
      "Saving results\n",
      "Results aggregated in 0.0570 seconds\n",
      "Processing coarse channels 147-150\n"
     ]
    },
    {
     "name": "stderr",
     "output_type": "stream",
     "text": [
      " 49%|████▊     | 49/101 [13:20<14:08, 16.32s/it]"
     ]
    },
    {
     "name": "stdout",
     "output_type": "stream",
     "text": [
      "Data loaded in 1.1773 seconds, processing\n",
      "Bandpass cleaned in 1.7076 seconds.\n",
      "Stamps filtered in 13.5408 seconds\n",
      "Saving results\n",
      "Results aggregated in 0.0527 seconds\n",
      "Processing coarse channels 150-153\n"
     ]
    },
    {
     "name": "stderr",
     "output_type": "stream",
     "text": [
      " 50%|████▉     | 50/101 [13:37<13:54, 16.37s/it]"
     ]
    },
    {
     "name": "stdout",
     "output_type": "stream",
     "text": [
      "Data loaded in 1.3276 seconds, processing\n",
      "Bandpass cleaned in 1.6110 seconds.\n",
      "Stamps filtered in 13.5596 seconds\n",
      "Saving results\n",
      "Results aggregated in 0.0506 seconds\n",
      "Processing coarse channels 153-156\n"
     ]
    },
    {
     "name": "stderr",
     "output_type": "stream",
     "text": [
      " 50%|█████     | 51/101 [13:53<13:41, 16.43s/it]"
     ]
    },
    {
     "name": "stdout",
     "output_type": "stream",
     "text": [
      "Data loaded in 1.5400 seconds, processing\n",
      "Bandpass cleaned in 1.6057 seconds.\n",
      "Stamps filtered in 13.0380 seconds\n",
      "Saving results\n",
      "Results aggregated in 0.0573 seconds\n",
      "Processing coarse channels 156-159\n"
     ]
    },
    {
     "name": "stderr",
     "output_type": "stream",
     "text": [
      " 51%|█████▏    | 52/101 [14:10<13:22, 16.37s/it]"
     ]
    },
    {
     "name": "stdout",
     "output_type": "stream",
     "text": [
      "Data loaded in 0.9928 seconds, processing\n",
      "Bandpass cleaned in 1.6414 seconds.\n",
      "Stamps filtered in 12.7480 seconds\n",
      "Saving results\n",
      "Results aggregated in 0.0568 seconds\n",
      "Processing coarse channels 159-162\n"
     ]
    },
    {
     "name": "stderr",
     "output_type": "stream",
     "text": [
      " 52%|█████▏    | 53/101 [14:25<12:52, 16.09s/it]"
     ]
    },
    {
     "name": "stdout",
     "output_type": "stream",
     "text": [
      "Data loaded in 1.1342 seconds, processing\n",
      "Bandpass cleaned in 1.6415 seconds.\n",
      "Stamps filtered in 13.2953 seconds\n",
      "Saving results\n",
      "Results aggregated in 0.0532 seconds\n",
      "Processing coarse channels 162-165\n"
     ]
    },
    {
     "name": "stderr",
     "output_type": "stream",
     "text": [
      " 53%|█████▎    | 54/101 [14:41<12:36, 16.11s/it]"
     ]
    },
    {
     "name": "stdout",
     "output_type": "stream",
     "text": [
      "Data loaded in 1.1049 seconds, processing\n",
      "Bandpass cleaned in 1.6406 seconds.\n",
      "Stamps filtered in 12.9060 seconds\n",
      "Saving results\n",
      "Results aggregated in 0.0626 seconds\n",
      "Processing coarse channels 165-168\n"
     ]
    },
    {
     "name": "stderr",
     "output_type": "stream",
     "text": [
      " 54%|█████▍    | 55/101 [14:57<12:15, 15.99s/it]"
     ]
    },
    {
     "name": "stdout",
     "output_type": "stream",
     "text": [
      "Data loaded in 0.9282 seconds, processing\n",
      "Bandpass cleaned in 1.6843 seconds.\n",
      "Stamps filtered in 13.0849 seconds\n",
      "Saving results\n",
      "Results aggregated in 0.0565 seconds\n",
      "Processing coarse channels 168-171\n"
     ]
    },
    {
     "name": "stderr",
     "output_type": "stream",
     "text": [
      " 55%|█████▌    | 56/101 [15:13<11:56, 15.92s/it]"
     ]
    },
    {
     "name": "stdout",
     "output_type": "stream",
     "text": [
      "Data loaded in 1.3001 seconds, processing\n",
      "Bandpass cleaned in 1.6210 seconds.\n",
      "Stamps filtered in 13.2558 seconds\n",
      "Saving results\n",
      "Results aggregated in 0.0579 seconds\n",
      "Processing coarse channels 171-174\n"
     ]
    },
    {
     "name": "stderr",
     "output_type": "stream",
     "text": [
      " 56%|█████▋    | 57/101 [15:29<11:44, 16.02s/it]"
     ]
    },
    {
     "name": "stdout",
     "output_type": "stream",
     "text": [
      "Data loaded in 1.0369 seconds, processing\n",
      "Bandpass cleaned in 1.6338 seconds.\n",
      "Stamps filtered in 13.8727 seconds\n",
      "Saving results\n",
      "Results aggregated in 0.0524 seconds\n",
      "Processing coarse channels 174-177\n"
     ]
    },
    {
     "name": "stderr",
     "output_type": "stream",
     "text": [
      " 57%|█████▋    | 58/101 [15:46<11:36, 16.19s/it]"
     ]
    },
    {
     "name": "stdout",
     "output_type": "stream",
     "text": [
      "Data loaded in 1.3332 seconds, processing\n",
      "Bandpass cleaned in 1.5812 seconds.\n",
      "Stamps filtered in 13.8052 seconds\n",
      "Saving results\n",
      "Results aggregated in 0.0526 seconds\n",
      "Processing coarse channels 177-180\n"
     ]
    },
    {
     "name": "stderr",
     "output_type": "stream",
     "text": [
      " 58%|█████▊    | 59/101 [16:02<11:27, 16.37s/it]"
     ]
    },
    {
     "name": "stdout",
     "output_type": "stream",
     "text": [
      "Data loaded in 1.0857 seconds, processing\n",
      "Bandpass cleaned in 1.6106 seconds.\n",
      "Stamps filtered in 12.8764 seconds\n",
      "Saving results\n",
      "Results aggregated in 0.0595 seconds\n",
      "Processing coarse channels 180-183\n"
     ]
    },
    {
     "name": "stderr",
     "output_type": "stream",
     "text": [
      " 59%|█████▉    | 60/101 [16:18<11:02, 16.15s/it]"
     ]
    },
    {
     "name": "stdout",
     "output_type": "stream",
     "text": [
      "Data loaded in 0.9067 seconds, processing\n",
      "Bandpass cleaned in 1.6543 seconds.\n",
      "Stamps filtered in 13.6551 seconds\n",
      "Saving results\n",
      "Results aggregated in 0.0510 seconds\n",
      "Processing coarse channels 183-186\n"
     ]
    },
    {
     "name": "stderr",
     "output_type": "stream",
     "text": [
      " 60%|██████    | 61/101 [16:34<10:47, 16.19s/it]"
     ]
    },
    {
     "name": "stdout",
     "output_type": "stream",
     "text": [
      "Data loaded in 1.4503 seconds, processing\n",
      "Bandpass cleaned in 1.6372 seconds.\n",
      "Stamps filtered in 13.5346 seconds\n",
      "Saving results\n"
     ]
    },
    {
     "name": "stderr",
     "output_type": "stream",
     "text": [
      " 61%|██████▏   | 62/101 [16:52<10:44, 16.52s/it]"
     ]
    },
    {
     "name": "stdout",
     "output_type": "stream",
     "text": [
      "Results aggregated in 0.6801 seconds\n",
      "Processing coarse channels 186-189\n",
      "Data loaded in 1.0289 seconds, processing\n",
      "Bandpass cleaned in 1.6310 seconds.\n",
      "Stamps filtered in 13.1661 seconds\n",
      "Saving results\n",
      "Results aggregated in 0.1327 seconds\n",
      "Processing coarse channels 189-192\n"
     ]
    },
    {
     "name": "stderr",
     "output_type": "stream",
     "text": [
      " 62%|██████▏   | 63/101 [17:08<10:21, 16.36s/it]"
     ]
    },
    {
     "name": "stdout",
     "output_type": "stream",
     "text": [
      "Data loaded in 1.4146 seconds, processing\n",
      "Bandpass cleaned in 1.6880 seconds.\n",
      "Stamps filtered in 12.9801 seconds\n",
      "Saving results\n",
      "Results aggregated in 0.0592 seconds\n",
      "Processing coarse channels 192-195\n"
     ]
    },
    {
     "name": "stderr",
     "output_type": "stream",
     "text": [
      " 63%|██████▎   | 64/101 [17:24<10:02, 16.29s/it]"
     ]
    },
    {
     "name": "stdout",
     "output_type": "stream",
     "text": [
      "Data loaded in 0.9394 seconds, processing\n",
      "Bandpass cleaned in 1.6034 seconds.\n",
      "Stamps filtered in 12.8046 seconds\n",
      "Saving results\n",
      "Results aggregated in 0.0643 seconds\n",
      "Processing coarse channels 195-198\n"
     ]
    },
    {
     "name": "stderr",
     "output_type": "stream",
     "text": [
      " 64%|██████▍   | 65/101 [17:39<09:37, 16.03s/it]"
     ]
    },
    {
     "name": "stdout",
     "output_type": "stream",
     "text": [
      "Data loaded in 0.9116 seconds, processing\n",
      "Bandpass cleaned in 1.6495 seconds.\n",
      "Stamps filtered in 13.8454 seconds\n",
      "Saving results\n",
      "Results aggregated in 0.0646 seconds\n",
      "Processing coarse channels 198-201\n"
     ]
    },
    {
     "name": "stderr",
     "output_type": "stream",
     "text": [
      " 65%|██████▌   | 66/101 [17:56<09:25, 16.17s/it]"
     ]
    },
    {
     "name": "stdout",
     "output_type": "stream",
     "text": [
      "Data loaded in 1.3522 seconds, processing\n",
      "Bandpass cleaned in 1.6497 seconds.\n",
      "Stamps filtered in 12.9463 seconds\n",
      "Saving results\n",
      "Results aggregated in 0.0602 seconds\n",
      "Processing coarse channels 201-204\n"
     ]
    },
    {
     "name": "stderr",
     "output_type": "stream",
     "text": [
      " 66%|██████▋   | 67/101 [18:12<09:08, 16.12s/it]"
     ]
    },
    {
     "name": "stdout",
     "output_type": "stream",
     "text": [
      "Data loaded in 1.0110 seconds, processing\n",
      "Bandpass cleaned in 1.6080 seconds.\n",
      "Stamps filtered in 13.3138 seconds\n",
      "Saving results\n",
      "Results aggregated in 0.0618 seconds\n",
      "Processing coarse channels 204-207\n"
     ]
    },
    {
     "name": "stderr",
     "output_type": "stream",
     "text": [
      " 67%|██████▋   | 68/101 [18:28<08:50, 16.08s/it]"
     ]
    },
    {
     "name": "stdout",
     "output_type": "stream",
     "text": [
      "Data loaded in 1.3419 seconds, processing\n",
      "Bandpass cleaned in 1.6570 seconds.\n",
      "Stamps filtered in 13.7274 seconds\n",
      "Saving results\n",
      "Results aggregated in 0.1223 seconds\n",
      "Processing coarse channels 207-210\n"
     ]
    },
    {
     "name": "stderr",
     "output_type": "stream",
     "text": [
      " 68%|██████▊   | 69/101 [18:44<08:42, 16.32s/it]"
     ]
    },
    {
     "name": "stdout",
     "output_type": "stream",
     "text": [
      "Data loaded in 1.1552 seconds, processing\n",
      "Bandpass cleaned in 1.6435 seconds.\n",
      "Stamps filtered in 13.8971 seconds\n",
      "Saving results\n"
     ]
    },
    {
     "name": "stderr",
     "output_type": "stream",
     "text": [
      " 69%|██████▉   | 70/101 [19:02<08:39, 16.77s/it]"
     ]
    },
    {
     "name": "stdout",
     "output_type": "stream",
     "text": [
      "Results aggregated in 1.1054 seconds\n",
      "Processing coarse channels 210-213\n",
      "Data loaded in 1.0729 seconds, processing\n",
      "Bandpass cleaned in 1.5977 seconds.\n",
      "Stamps filtered in 13.8895 seconds\n",
      "Saving results\n"
     ]
    },
    {
     "name": "stderr",
     "output_type": "stream",
     "text": [
      " 70%|███████   | 71/101 [19:19<08:23, 16.78s/it]"
     ]
    },
    {
     "name": "stdout",
     "output_type": "stream",
     "text": [
      "Results aggregated in 0.2290 seconds\n",
      "Processing coarse channels 213-216\n",
      "Data loaded in 1.4377 seconds, processing\n",
      "Bandpass cleaned in 1.5530 seconds.\n",
      "Stamps filtered in 13.4756 seconds\n",
      "Saving results\n"
     ]
    },
    {
     "name": "stderr",
     "output_type": "stream",
     "text": [
      " 71%|███████▏  | 72/101 [19:37<08:12, 16.98s/it]"
     ]
    },
    {
     "name": "stdout",
     "output_type": "stream",
     "text": [
      "Results aggregated in 0.9543 seconds\n",
      "Processing coarse channels 216-219\n",
      "Data loaded in 1.3219 seconds, processing\n",
      "Bandpass cleaned in 1.6893 seconds.\n",
      "Stamps filtered in 13.8671 seconds\n",
      "Saving results\n"
     ]
    },
    {
     "name": "stderr",
     "output_type": "stream",
     "text": [
      " 72%|███████▏  | 73/101 [19:54<08:03, 17.26s/it]"
     ]
    },
    {
     "name": "stdout",
     "output_type": "stream",
     "text": [
      "Results aggregated in 1.0242 seconds\n",
      "Processing coarse channels 219-222\n",
      "Data loaded in 1.4368 seconds, processing\n",
      "Bandpass cleaned in 1.8074 seconds.\n",
      "Stamps filtered in 12.6909 seconds\n",
      "Saving results\n",
      "Results aggregated in 0.1123 seconds\n",
      "Processing coarse channels 222-225\n"
     ]
    },
    {
     "name": "stderr",
     "output_type": "stream",
     "text": [
      " 73%|███████▎  | 74/101 [20:11<07:36, 16.90s/it]"
     ]
    },
    {
     "name": "stdout",
     "output_type": "stream",
     "text": [
      "Data loaded in 1.2440 seconds, processing\n",
      "Bandpass cleaned in 1.6366 seconds.\n",
      "Stamps filtered in 13.4845 seconds\n",
      "Saving results\n",
      "Results aggregated in 0.0675 seconds\n",
      "Processing coarse channels 225-228\n"
     ]
    },
    {
     "name": "stderr",
     "output_type": "stream",
     "text": [
      " 74%|███████▍  | 75/101 [20:27<07:15, 16.76s/it]"
     ]
    },
    {
     "name": "stdout",
     "output_type": "stream",
     "text": [
      "Data loaded in 1.2891 seconds, processing\n",
      "Bandpass cleaned in 1.6815 seconds.\n",
      "Stamps filtered in 13.3155 seconds\n",
      "Saving results\n"
     ]
    },
    {
     "name": "stderr",
     "output_type": "stream",
     "text": [
      " 75%|███████▌  | 76/101 [20:45<07:05, 17.03s/it]"
     ]
    },
    {
     "name": "stdout",
     "output_type": "stream",
     "text": [
      "Results aggregated in 1.3352 seconds\n",
      "Processing coarse channels 228-231\n",
      "Data loaded in 1.2064 seconds, processing\n",
      "Bandpass cleaned in 1.6661 seconds.\n",
      "Stamps filtered in 13.1679 seconds\n",
      "Saving results\n"
     ]
    },
    {
     "name": "stderr",
     "output_type": "stream",
     "text": [
      " 76%|███████▌  | 77/101 [21:02<06:50, 17.11s/it]"
     ]
    },
    {
     "name": "stdout",
     "output_type": "stream",
     "text": [
      "Results aggregated in 1.2284 seconds\n",
      "Processing coarse channels 231-234\n",
      "Data loaded in 1.1534 seconds, processing\n",
      "Bandpass cleaned in 1.7589 seconds.\n",
      "Stamps filtered in 13.1610 seconds\n",
      "Saving results\n",
      "Results aggregated in 0.1011 seconds\n",
      "Processing coarse channels 234-237\n"
     ]
    },
    {
     "name": "stderr",
     "output_type": "stream",
     "text": [
      " 77%|███████▋  | 78/101 [21:18<06:27, 16.83s/it]"
     ]
    },
    {
     "name": "stdout",
     "output_type": "stream",
     "text": [
      "Data loaded in 1.2706 seconds, processing\n",
      "Bandpass cleaned in 1.7249 seconds.\n",
      "Stamps filtered in 13.9427 seconds\n",
      "Saving results\n",
      "Results aggregated in 0.0761 seconds\n",
      "Processing coarse channels 237-240\n"
     ]
    },
    {
     "name": "stderr",
     "output_type": "stream",
     "text": [
      " 78%|███████▊  | 79/101 [21:35<06:11, 16.89s/it]"
     ]
    },
    {
     "name": "stdout",
     "output_type": "stream",
     "text": [
      "Data loaded in 1.1964 seconds, processing\n",
      "Bandpass cleaned in 1.6347 seconds.\n",
      "Stamps filtered in 13.8110 seconds\n",
      "Saving results\n"
     ]
    },
    {
     "name": "stderr",
     "output_type": "stream",
     "text": [
      " 79%|███████▉  | 80/101 [21:52<05:55, 16.93s/it]"
     ]
    },
    {
     "name": "stdout",
     "output_type": "stream",
     "text": [
      "Results aggregated in 0.3693 seconds\n",
      "Processing coarse channels 240-243\n",
      "Data loaded in 1.5248 seconds, processing\n",
      "Bandpass cleaned in 1.6629 seconds.\n",
      "Stamps filtered in 13.2294 seconds\n",
      "Saving results\n"
     ]
    },
    {
     "name": "stderr",
     "output_type": "stream",
     "text": [
      " 80%|████████  | 81/101 [22:11<05:51, 17.57s/it]"
     ]
    },
    {
     "name": "stdout",
     "output_type": "stream",
     "text": [
      "Results aggregated in 2.6269 seconds\n",
      "Processing coarse channels 243-246\n",
      "Data loaded in 1.1605 seconds, processing\n",
      "Bandpass cleaned in 1.6914 seconds.\n",
      "Stamps filtered in 13.0057 seconds\n",
      "Saving results\n"
     ]
    },
    {
     "name": "stderr",
     "output_type": "stream",
     "text": [
      " 81%|████████  | 82/101 [22:28<05:30, 17.41s/it]"
     ]
    },
    {
     "name": "stdout",
     "output_type": "stream",
     "text": [
      "Results aggregated in 1.1485 seconds\n",
      "Processing coarse channels 246-249\n",
      "Data loaded in 1.3243 seconds, processing\n",
      "Bandpass cleaned in 1.6869 seconds.\n",
      "Stamps filtered in 12.9988 seconds\n",
      "Saving results\n",
      "Results aggregated in 0.1156 seconds\n",
      "Processing coarse channels 249-252\n"
     ]
    },
    {
     "name": "stderr",
     "output_type": "stream",
     "text": [
      " 82%|████████▏ | 83/101 [22:44<05:06, 17.02s/it]"
     ]
    },
    {
     "name": "stdout",
     "output_type": "stream",
     "text": [
      "Data loaded in 1.1888 seconds, processing\n",
      "Bandpass cleaned in 1.6343 seconds.\n",
      "Stamps filtered in 13.4848 seconds\n",
      "Saving results\n"
     ]
    },
    {
     "name": "stderr",
     "output_type": "stream",
     "text": [
      " 83%|████████▎ | 84/101 [23:02<04:53, 17.28s/it]"
     ]
    },
    {
     "name": "stdout",
     "output_type": "stream",
     "text": [
      "Results aggregated in 1.5316 seconds\n",
      "Processing coarse channels 252-255\n",
      "Data loaded in 1.3103 seconds, processing\n",
      "Bandpass cleaned in 1.6643 seconds.\n",
      "Stamps filtered in 13.0932 seconds\n",
      "Saving results\n"
     ]
    },
    {
     "name": "stderr",
     "output_type": "stream",
     "text": [
      " 84%|████████▍ | 85/101 [23:20<04:40, 17.51s/it]"
     ]
    },
    {
     "name": "stdout",
     "output_type": "stream",
     "text": [
      "Results aggregated in 1.9676 seconds\n",
      "Processing coarse channels 255-258\n",
      "Data loaded in 1.0319 seconds, processing\n",
      "Bandpass cleaned in 1.6830 seconds.\n",
      "Stamps filtered in 13.0351 seconds\n",
      "Saving results\n",
      "Results aggregated in 0.1508 seconds\n",
      "Processing coarse channels 258-261\n"
     ]
    },
    {
     "name": "stderr",
     "output_type": "stream",
     "text": [
      " 85%|████████▌ | 86/101 [23:36<04:15, 17.03s/it]"
     ]
    },
    {
     "name": "stdout",
     "output_type": "stream",
     "text": [
      "Data loaded in 1.2198 seconds, processing\n",
      "Bandpass cleaned in 1.6753 seconds.\n",
      "Stamps filtered in 12.8033 seconds\n",
      "Saving results\n",
      "Results aggregated in 0.0787 seconds\n",
      "Processing coarse channels 261-264\n"
     ]
    },
    {
     "name": "stderr",
     "output_type": "stream",
     "text": [
      " 86%|████████▌ | 87/101 [23:52<03:53, 16.66s/it]"
     ]
    },
    {
     "name": "stdout",
     "output_type": "stream",
     "text": [
      "Data loaded in 0.9555 seconds, processing\n",
      "Bandpass cleaned in 1.7137 seconds.\n",
      "Stamps filtered in 13.5879 seconds\n",
      "Saving results\n",
      "Results aggregated in 0.1349 seconds\n",
      "Processing coarse channels 264-267\n"
     ]
    },
    {
     "name": "stderr",
     "output_type": "stream",
     "text": [
      " 87%|████████▋ | 88/101 [24:08<03:35, 16.58s/it]"
     ]
    },
    {
     "name": "stdout",
     "output_type": "stream",
     "text": [
      "Data loaded in 0.9854 seconds, processing\n",
      "Bandpass cleaned in 1.6076 seconds.\n",
      "Stamps filtered in 13.7238 seconds\n",
      "Saving results\n",
      "Results aggregated in 0.0768 seconds\n",
      "Processing coarse channels 267-270\n"
     ]
    },
    {
     "name": "stderr",
     "output_type": "stream",
     "text": [
      " 88%|████████▊ | 89/101 [24:25<03:18, 16.53s/it]"
     ]
    },
    {
     "name": "stdout",
     "output_type": "stream",
     "text": [
      "Data loaded in 1.4525 seconds, processing\n",
      "Bandpass cleaned in 1.6760 seconds.\n",
      "Stamps filtered in 13.0479 seconds\n",
      "Saving results\n",
      "Results aggregated in 0.1542 seconds\n",
      "Processing coarse channels 270-273\n"
     ]
    },
    {
     "name": "stderr",
     "output_type": "stream",
     "text": [
      " 89%|████████▉ | 90/101 [24:41<03:01, 16.47s/it]"
     ]
    },
    {
     "name": "stdout",
     "output_type": "stream",
     "text": [
      "Data loaded in 1.3854 seconds, processing\n",
      "Bandpass cleaned in 1.6403 seconds.\n",
      "Stamps filtered in 13.1841 seconds\n",
      "Saving results\n",
      "Results aggregated in 0.0897 seconds\n",
      "Processing coarse channels 273-276\n"
     ]
    },
    {
     "name": "stderr",
     "output_type": "stream",
     "text": [
      " 90%|█████████ | 91/101 [24:57<02:44, 16.42s/it]"
     ]
    },
    {
     "name": "stdout",
     "output_type": "stream",
     "text": [
      "Data loaded in 1.3987 seconds, processing\n",
      "Bandpass cleaned in 1.7827 seconds.\n",
      "Stamps filtered in 13.1641 seconds\n",
      "Saving results\n",
      "Results aggregated in 0.1594 seconds\n",
      "Processing coarse channels 276-279\n"
     ]
    },
    {
     "name": "stderr",
     "output_type": "stream",
     "text": [
      " 91%|█████████ | 92/101 [25:14<02:28, 16.45s/it]"
     ]
    },
    {
     "name": "stdout",
     "output_type": "stream",
     "text": [
      "Data loaded in 1.1296 seconds, processing\n",
      "Bandpass cleaned in 1.7090 seconds.\n",
      "Stamps filtered in 13.7997 seconds\n",
      "Saving results\n",
      "Results aggregated in 0.0963 seconds\n",
      "Processing coarse channels 279-282\n"
     ]
    },
    {
     "name": "stderr",
     "output_type": "stream",
     "text": [
      " 92%|█████████▏| 93/101 [25:31<02:12, 16.54s/it]"
     ]
    },
    {
     "name": "stdout",
     "output_type": "stream",
     "text": [
      "Data loaded in 0.9691 seconds, processing\n",
      "Bandpass cleaned in 1.6714 seconds.\n",
      "Stamps filtered in 13.4048 seconds\n",
      "Saving results\n"
     ]
    },
    {
     "name": "stderr",
     "output_type": "stream",
     "text": [
      " 93%|█████████▎| 94/101 [25:48<01:57, 16.84s/it]"
     ]
    },
    {
     "name": "stdout",
     "output_type": "stream",
     "text": [
      "Results aggregated in 1.4624 seconds\n",
      "Processing coarse channels 282-285\n",
      "Data loaded in 1.3393 seconds, processing\n",
      "Bandpass cleaned in 1.6453 seconds.\n",
      "Stamps filtered in 13.3653 seconds\n",
      "Saving results\n"
     ]
    },
    {
     "name": "stderr",
     "output_type": "stream",
     "text": [
      " 94%|█████████▍| 95/101 [26:05<01:40, 16.82s/it]"
     ]
    },
    {
     "name": "stdout",
     "output_type": "stream",
     "text": [
      "Results aggregated in 0.4265 seconds\n",
      "Processing coarse channels 285-288\n",
      "Data loaded in 1.2039 seconds, processing\n",
      "Bandpass cleaned in 1.6798 seconds.\n",
      "Stamps filtered in 12.9147 seconds\n",
      "Saving results\n",
      "Results aggregated in 0.0902 seconds\n",
      "Processing coarse channels 288-291\n"
     ]
    },
    {
     "name": "stderr",
     "output_type": "stream",
     "text": [
      " 95%|█████████▌| 96/101 [26:21<01:22, 16.54s/it]"
     ]
    },
    {
     "name": "stdout",
     "output_type": "stream",
     "text": [
      "Data loaded in 1.4378 seconds, processing\n",
      "Bandpass cleaned in 1.5978 seconds.\n",
      "Stamps filtered in 13.0849 seconds\n",
      "Saving results\n",
      "Results aggregated in 0.1642 seconds\n",
      "Processing coarse channels 291-294\n"
     ]
    },
    {
     "name": "stderr",
     "output_type": "stream",
     "text": [
      " 96%|█████████▌| 97/101 [26:37<01:05, 16.47s/it]"
     ]
    },
    {
     "name": "stdout",
     "output_type": "stream",
     "text": [
      "Data loaded in 1.3120 seconds, processing\n",
      "Bandpass cleaned in 1.7257 seconds.\n",
      "Stamps filtered in 13.0683 seconds\n",
      "Saving results\n"
     ]
    },
    {
     "name": "stderr",
     "output_type": "stream",
     "text": [
      " 97%|█████████▋| 98/101 [26:54<00:49, 16.44s/it]"
     ]
    },
    {
     "name": "stdout",
     "output_type": "stream",
     "text": [
      "Results aggregated in 0.2478 seconds\n",
      "Processing coarse channels 294-297\n",
      "Data loaded in 1.0371 seconds, processing\n",
      "Bandpass cleaned in 1.6635 seconds.\n",
      "Stamps filtered in 13.6004 seconds\n",
      "Saving results\n",
      "Results aggregated in 0.0966 seconds\n",
      "Processing coarse channels 297-300\n"
     ]
    },
    {
     "name": "stderr",
     "output_type": "stream",
     "text": [
      " 98%|█████████▊| 99/101 [27:10<00:32, 16.43s/it]"
     ]
    },
    {
     "name": "stdout",
     "output_type": "stream",
     "text": [
      "Data loaded in 0.8141 seconds, processing\n",
      "Bandpass cleaned in 1.6209 seconds.\n",
      "Stamps filtered in 13.4228 seconds\n",
      "Saving results\n",
      "Results aggregated in 0.0841 seconds\n",
      "Processing coarse channels 300-303\n"
     ]
    },
    {
     "name": "stderr",
     "output_type": "stream",
     "text": [
      " 99%|█████████▉| 100/101 [27:26<00:16, 16.28s/it]"
     ]
    },
    {
     "name": "stdout",
     "output_type": "stream",
     "text": [
      "Data loaded in 0.8006 seconds, processing\n",
      "Bandpass cleaned in 1.5960 seconds.\n",
      "Stamps filtered in 13.3050 seconds\n",
      "Saving results\n"
     ]
    },
    {
     "name": "stderr",
     "output_type": "stream",
     "text": [
      "100%|██████████| 101/101 [27:42<00:00, 16.46s/it]\n"
     ]
    },
    {
     "name": "stdout",
     "output_type": "stream",
     "text": [
      "Results aggregated in 0.0829 seconds\n",
      "        level_0      index      statistic  pvalue        freqs\n",
      "233742   233742  313064320   28917.115938     0.0  1038.574582\n",
      "233756   233756  314097536   22311.770502     0.0  1035.644894\n",
      "222262   222262  294466432   19675.585884     0.0  1091.308957\n",
      "228060   228060  295499648   17291.017585     0.0  1088.379269\n",
      "29249     29249  107758080  878715.848818     0.0  1620.721127\n",
      "29248     29248  107757952   93768.477931     0.0  1620.721490\n",
      "29250     29250  107758208   26234.547228     0.0  1620.720764\n",
      "78384     78384  134785280   13288.605866     0.0  1544.085409\n",
      "7689       7689   67675520    8052.508138     0.0  1734.375363\n",
      "7690       7690   67675648    8052.502345     0.0  1734.375000\n",
      "7631       7631   50110848    8052.480579     0.0  1784.180050\n",
      "7632       7632   50110976    8052.480254     0.0  1784.179688\n",
      "303 303\n",
      "Finished Energy Detection on GBT_57515_82563_HIP44295_fine.h5 in 1676.4838 seconds\n",
      "/mnt_blpd7/datax/dl/GBT_57515_82909_HIP43412_fine.h5\n",
      "Header saved to ../../../../../../datax/scratch/pma/reverse_search/train_large/HIP44295-23/GBT_57515_82909_HIP43412_fine/header.pkl\n",
      "Processing 3 in parallel\n",
      "Processing coarse channels 0-3\n"
     ]
    },
    {
     "name": "stderr",
     "output_type": "stream",
     "text": [
      "  0%|          | 0/101 [00:00<?, ?it/s]"
     ]
    },
    {
     "name": "stdout",
     "output_type": "stream",
     "text": [
      "Data loaded in 2.6903 seconds, processing\n",
      "Bandpass cleaned in 1.6209 seconds.\n",
      "Stamps filtered in 14.2540 seconds\n",
      "Saving results\n"
     ]
    },
    {
     "name": "stderr",
     "output_type": "stream",
     "text": [
      "  1%|          | 1/101 [00:19<32:12, 19.33s/it]"
     ]
    },
    {
     "name": "stdout",
     "output_type": "stream",
     "text": [
      "Results aggregated in 0.7455 seconds\n",
      "Processing coarse channels 3-6\n",
      "Data loaded in 1.4124 seconds, processing\n",
      "Bandpass cleaned in 1.6940 seconds.\n",
      "Stamps filtered in 14.9123 seconds\n",
      "Saving results\n",
      "Results aggregated in 0.1700 seconds\n",
      "Processing coarse channels 6-9\n"
     ]
    },
    {
     "name": "stderr",
     "output_type": "stream",
     "text": [
      "  2%|▏         | 2/101 [00:37<30:47, 18.66s/it]"
     ]
    },
    {
     "name": "stdout",
     "output_type": "stream",
     "text": [
      "Data loaded in 1.4287 seconds, processing\n",
      "Bandpass cleaned in 1.6170 seconds.\n",
      "Stamps filtered in 14.1682 seconds\n",
      "Saving results\n",
      "Results aggregated in 0.0368 seconds\n",
      "Processing coarse channels 9-12\n"
     ]
    },
    {
     "name": "stderr",
     "output_type": "stream",
     "text": [
      "  3%|▎         | 3/101 [00:54<29:26, 18.02s/it]"
     ]
    },
    {
     "name": "stdout",
     "output_type": "stream",
     "text": [
      "Data loaded in 1.0655 seconds, processing\n",
      "Bandpass cleaned in 1.5841 seconds.\n",
      "Stamps filtered in 14.1241 seconds\n",
      "Saving results\n",
      "Results aggregated in 0.0371 seconds\n",
      "Processing coarse channels 12-15\n"
     ]
    },
    {
     "name": "stderr",
     "output_type": "stream",
     "text": [
      "  4%|▍         | 4/101 [01:11<28:21, 17.55s/it]"
     ]
    },
    {
     "name": "stdout",
     "output_type": "stream",
     "text": [
      "Data loaded in 1.3723 seconds, processing\n",
      "Bandpass cleaned in 1.5999 seconds.\n",
      "Stamps filtered in 14.3584 seconds\n",
      "Saving results\n",
      "Results aggregated in 0.0399 seconds\n",
      "Processing coarse channels 15-18\n"
     ]
    },
    {
     "name": "stderr",
     "output_type": "stream",
     "text": [
      "  5%|▍         | 5/101 [01:28<27:58, 17.48s/it]"
     ]
    },
    {
     "name": "stdout",
     "output_type": "stream",
     "text": [
      "Data loaded in 1.2858 seconds, processing\n",
      "Bandpass cleaned in 1.6467 seconds.\n",
      "Stamps filtered in 14.5284 seconds\n",
      "Saving results\n",
      "Results aggregated in 0.0399 seconds\n",
      "Processing coarse channels 18-21\n"
     ]
    },
    {
     "name": "stderr",
     "output_type": "stream",
     "text": [
      "  6%|▌         | 6/101 [01:46<27:41, 17.49s/it]"
     ]
    },
    {
     "name": "stdout",
     "output_type": "stream",
     "text": [
      "Data loaded in 1.5998 seconds, processing\n",
      "Bandpass cleaned in 1.6594 seconds.\n",
      "Stamps filtered in 14.5115 seconds\n",
      "Saving results\n",
      "Results aggregated in 0.0361 seconds\n",
      "Processing coarse channels 21-24\n"
     ]
    },
    {
     "name": "stderr",
     "output_type": "stream",
     "text": [
      "  7%|▋         | 7/101 [02:04<27:34, 17.60s/it]"
     ]
    },
    {
     "name": "stdout",
     "output_type": "stream",
     "text": [
      "Data loaded in 0.7961 seconds, processing\n",
      "Bandpass cleaned in 1.6233 seconds.\n",
      "Stamps filtered in 14.3585 seconds\n",
      "Saving results\n",
      "Results aggregated in 0.0342 seconds\n",
      "Processing coarse channels 24-27\n"
     ]
    },
    {
     "name": "stderr",
     "output_type": "stream",
     "text": [
      "  8%|▊         | 8/101 [02:21<26:53, 17.35s/it]"
     ]
    },
    {
     "name": "stdout",
     "output_type": "stream",
     "text": [
      "Data loaded in 1.3792 seconds, processing\n",
      "Bandpass cleaned in 1.7698 seconds.\n",
      "Stamps filtered in 13.9904 seconds\n",
      "Saving results\n",
      "Results aggregated in 0.0380 seconds\n",
      "Processing coarse channels 27-30\n"
     ]
    },
    {
     "name": "stderr",
     "output_type": "stream",
     "text": [
      "  9%|▉         | 9/101 [02:38<26:31, 17.30s/it]"
     ]
    },
    {
     "name": "stdout",
     "output_type": "stream",
     "text": [
      "Data loaded in 0.8122 seconds, processing\n",
      "Bandpass cleaned in 1.5587 seconds.\n",
      "Stamps filtered in 14.1573 seconds\n",
      "Saving results\n",
      "Results aggregated in 0.0372 seconds\n",
      "Processing coarse channels 30-33\n"
     ]
    },
    {
     "name": "stderr",
     "output_type": "stream",
     "text": [
      " 10%|▉         | 10/101 [02:54<25:53, 17.07s/it]"
     ]
    },
    {
     "name": "stdout",
     "output_type": "stream",
     "text": [
      "Data loaded in 1.2741 seconds, processing\n",
      "Bandpass cleaned in 1.6048 seconds.\n",
      "Stamps filtered in 14.3882 seconds\n",
      "Saving results\n",
      "Results aggregated in 0.0375 seconds\n",
      "Processing coarse channels 33-36\n"
     ]
    },
    {
     "name": "stderr",
     "output_type": "stream",
     "text": [
      " 11%|█         | 11/101 [03:12<25:43, 17.15s/it]"
     ]
    },
    {
     "name": "stdout",
     "output_type": "stream",
     "text": [
      "Data loaded in 1.2631 seconds, processing\n",
      "Bandpass cleaned in 1.5424 seconds.\n",
      "Stamps filtered in 14.2221 seconds\n",
      "Saving results\n",
      "Results aggregated in 0.0363 seconds\n",
      "Processing coarse channels 36-39\n"
     ]
    },
    {
     "name": "stderr",
     "output_type": "stream",
     "text": [
      " 12%|█▏        | 12/101 [03:29<25:23, 17.12s/it]"
     ]
    },
    {
     "name": "stdout",
     "output_type": "stream",
     "text": [
      "Data loaded in 0.7218 seconds, processing\n",
      "Bandpass cleaned in 1.6008 seconds.\n",
      "Stamps filtered in 14.3744 seconds\n",
      "Saving results\n",
      "Results aggregated in 0.0359 seconds\n",
      "Processing coarse channels 39-42\n"
     ]
    },
    {
     "name": "stderr",
     "output_type": "stream",
     "text": [
      " 13%|█▎        | 13/101 [03:45<24:56, 17.01s/it]"
     ]
    },
    {
     "name": "stdout",
     "output_type": "stream",
     "text": [
      "Data loaded in 1.3093 seconds, processing\n",
      "Bandpass cleaned in 1.5721 seconds.\n",
      "Stamps filtered in 14.4731 seconds\n",
      "Saving results\n",
      "Results aggregated in 0.0395 seconds\n",
      "Processing coarse channels 42-45\n"
     ]
    },
    {
     "name": "stderr",
     "output_type": "stream",
     "text": [
      " 14%|█▍        | 14/101 [04:03<24:49, 17.13s/it]"
     ]
    },
    {
     "name": "stdout",
     "output_type": "stream",
     "text": [
      "Data loaded in 1.1106 seconds, processing\n",
      "Bandpass cleaned in 1.5529 seconds.\n",
      "Stamps filtered in 13.9817 seconds\n",
      "Saving results\n",
      "Results aggregated in 0.0412 seconds\n",
      "Processing coarse channels 45-48\n"
     ]
    },
    {
     "name": "stderr",
     "output_type": "stream",
     "text": [
      " 15%|█▍        | 15/101 [04:20<24:21, 17.00s/it]"
     ]
    },
    {
     "name": "stdout",
     "output_type": "stream",
     "text": [
      "Data loaded in 1.0333 seconds, processing\n",
      "Bandpass cleaned in 1.5756 seconds.\n",
      "Stamps filtered in 14.0362 seconds\n",
      "Saving results\n",
      "Results aggregated in 0.0387 seconds\n",
      "Processing coarse channels 48-51\n"
     ]
    },
    {
     "name": "stderr",
     "output_type": "stream",
     "text": [
      " 16%|█▌        | 16/101 [04:36<23:56, 16.90s/it]"
     ]
    },
    {
     "name": "stdout",
     "output_type": "stream",
     "text": [
      "Data loaded in 1.1547 seconds, processing\n",
      "Bandpass cleaned in 1.5780 seconds.\n",
      "Stamps filtered in 14.1215 seconds\n",
      "Saving results\n",
      "Results aggregated in 0.0378 seconds\n",
      "Processing coarse channels 51-54\n"
     ]
    },
    {
     "name": "stderr",
     "output_type": "stream",
     "text": [
      " 17%|█▋        | 17/101 [04:53<23:39, 16.90s/it]"
     ]
    },
    {
     "name": "stdout",
     "output_type": "stream",
     "text": [
      "Data loaded in 0.7591 seconds, processing\n",
      "Bandpass cleaned in 1.5328 seconds.\n",
      "Stamps filtered in 14.1721 seconds\n",
      "Saving results\n",
      "Results aggregated in 0.0383 seconds\n",
      "Processing coarse channels 54-57\n"
     ]
    },
    {
     "name": "stderr",
     "output_type": "stream",
     "text": [
      " 18%|█▊        | 18/101 [05:10<23:13, 16.78s/it]"
     ]
    },
    {
     "name": "stdout",
     "output_type": "stream",
     "text": [
      "Data loaded in 1.2870 seconds, processing\n",
      "Bandpass cleaned in 1.5654 seconds.\n",
      "Stamps filtered in 13.8891 seconds\n",
      "Saving results\n",
      "Results aggregated in 0.0383 seconds\n",
      "Processing coarse channels 57-60\n"
     ]
    },
    {
     "name": "stderr",
     "output_type": "stream",
     "text": [
      " 19%|█▉        | 19/101 [05:26<22:56, 16.79s/it]"
     ]
    },
    {
     "name": "stdout",
     "output_type": "stream",
     "text": [
      "Data loaded in 1.1484 seconds, processing\n",
      "Bandpass cleaned in 1.6114 seconds.\n",
      "Stamps filtered in 14.2459 seconds\n",
      "Saving results\n",
      "Results aggregated in 0.0389 seconds\n",
      "Processing coarse channels 60-63\n"
     ]
    },
    {
     "name": "stderr",
     "output_type": "stream",
     "text": [
      " 20%|█▉        | 20/101 [05:44<22:46, 16.87s/it]"
     ]
    },
    {
     "name": "stdout",
     "output_type": "stream",
     "text": [
      "Data loaded in 0.9768 seconds, processing\n",
      "Bandpass cleaned in 1.6150 seconds.\n",
      "Stamps filtered in 14.2478 seconds\n",
      "Saving results\n",
      "Results aggregated in 0.0394 seconds\n",
      "Processing coarse channels 63-66\n"
     ]
    },
    {
     "name": "stderr",
     "output_type": "stream",
     "text": [
      " 21%|██        | 21/101 [06:00<22:29, 16.87s/it]"
     ]
    },
    {
     "name": "stdout",
     "output_type": "stream",
     "text": [
      "Data loaded in 1.5068 seconds, processing\n",
      "Bandpass cleaned in 1.7646 seconds.\n",
      "Stamps filtered in 14.4358 seconds\n",
      "Saving results\n",
      "Results aggregated in 0.0349 seconds\n",
      "Processing coarse channels 66-69\n"
     ]
    },
    {
     "name": "stderr",
     "output_type": "stream",
     "text": [
      " 22%|██▏       | 22/101 [06:18<22:33, 17.13s/it]"
     ]
    },
    {
     "name": "stdout",
     "output_type": "stream",
     "text": [
      "Data loaded in 0.7720 seconds, processing\n",
      "Bandpass cleaned in 1.5566 seconds.\n",
      "Stamps filtered in 14.4152 seconds\n",
      "Saving results\n",
      "Results aggregated in 0.0378 seconds\n",
      "Processing coarse channels 69-72\n"
     ]
    },
    {
     "name": "stderr",
     "output_type": "stream",
     "text": [
      " 23%|██▎       | 23/101 [06:35<22:08, 17.03s/it]"
     ]
    },
    {
     "name": "stdout",
     "output_type": "stream",
     "text": [
      "Data loaded in 1.2998 seconds, processing\n",
      "Bandpass cleaned in 1.6524 seconds.\n",
      "Stamps filtered in 14.2102 seconds\n",
      "Saving results\n",
      "Results aggregated in 0.0394 seconds\n",
      "Processing coarse channels 72-75\n"
     ]
    },
    {
     "name": "stderr",
     "output_type": "stream",
     "text": [
      " 24%|██▍       | 24/101 [06:52<21:55, 17.08s/it]"
     ]
    },
    {
     "name": "stdout",
     "output_type": "stream",
     "text": [
      "Data loaded in 0.9830 seconds, processing\n",
      "Bandpass cleaned in 1.6708 seconds.\n",
      "Stamps filtered in 14.5210 seconds\n",
      "Saving results\n",
      "Results aggregated in 0.0333 seconds\n",
      "Processing coarse channels 75-78\n"
     ]
    },
    {
     "name": "stderr",
     "output_type": "stream",
     "text": [
      " 25%|██▍       | 25/101 [07:09<21:41, 17.12s/it]"
     ]
    },
    {
     "name": "stdout",
     "output_type": "stream",
     "text": [
      "Data loaded in 1.5347 seconds, processing\n",
      "Bandpass cleaned in 1.6180 seconds.\n",
      "Stamps filtered in 14.1889 seconds\n",
      "Saving results\n",
      "Results aggregated in 0.0772 seconds\n",
      "Processing coarse channels 78-81\n"
     ]
    },
    {
     "name": "stderr",
     "output_type": "stream",
     "text": [
      " 26%|██▌       | 26/101 [07:27<21:31, 17.21s/it]"
     ]
    },
    {
     "name": "stdout",
     "output_type": "stream",
     "text": [
      "Data loaded in 1.3657 seconds, processing\n",
      "Bandpass cleaned in 1.6698 seconds.\n",
      "Stamps filtered in 13.8964 seconds\n",
      "Saving results\n",
      "Results aggregated in 0.1572 seconds\n",
      "Processing coarse channels 81-84\n"
     ]
    },
    {
     "name": "stderr",
     "output_type": "stream",
     "text": [
      " 27%|██▋       | 27/101 [07:44<21:11, 17.18s/it]"
     ]
    },
    {
     "name": "stdout",
     "output_type": "stream",
     "text": [
      "Data loaded in 0.7725 seconds, processing\n",
      "Bandpass cleaned in 1.5827 seconds.\n",
      "Stamps filtered in 14.1008 seconds\n",
      "Saving results\n",
      "Results aggregated in 0.1574 seconds\n",
      "Processing coarse channels 84-87\n"
     ]
    },
    {
     "name": "stderr",
     "output_type": "stream",
     "text": [
      " 28%|██▊       | 28/101 [08:01<20:41, 17.01s/it]"
     ]
    },
    {
     "name": "stdout",
     "output_type": "stream",
     "text": [
      "Data loaded in 1.1236 seconds, processing\n",
      "Bandpass cleaned in 1.6402 seconds.\n",
      "Stamps filtered in 13.8547 seconds\n",
      "Saving results\n",
      "Results aggregated in 0.0830 seconds\n",
      "Processing coarse channels 87-90\n"
     ]
    },
    {
     "name": "stderr",
     "output_type": "stream",
     "text": [
      " 29%|██▊       | 29/101 [08:17<20:18, 16.92s/it]"
     ]
    },
    {
     "name": "stdout",
     "output_type": "stream",
     "text": [
      "Data loaded in 0.8990 seconds, processing\n",
      "Bandpass cleaned in 1.6146 seconds.\n",
      "Stamps filtered in 14.0882 seconds\n",
      "Saving results\n",
      "Results aggregated in 0.0478 seconds\n",
      "Processing coarse channels 90-93\n"
     ]
    },
    {
     "name": "stderr",
     "output_type": "stream",
     "text": [
      " 30%|██▉       | 30/101 [08:34<19:55, 16.84s/it]"
     ]
    },
    {
     "name": "stdout",
     "output_type": "stream",
     "text": [
      "Data loaded in 1.0270 seconds, processing\n",
      "Bandpass cleaned in 1.6378 seconds.\n",
      "Stamps filtered in 13.8468 seconds\n",
      "Saving results\n",
      "Results aggregated in 0.0484 seconds\n",
      "Processing coarse channels 93-96\n"
     ]
    },
    {
     "name": "stderr",
     "output_type": "stream",
     "text": [
      " 31%|███       | 31/101 [08:50<19:33, 16.76s/it]"
     ]
    },
    {
     "name": "stdout",
     "output_type": "stream",
     "text": [
      "Data loaded in 1.1899 seconds, processing\n",
      "Bandpass cleaned in 1.5881 seconds.\n",
      "Stamps filtered in 13.8715 seconds\n",
      "Saving results\n",
      "Results aggregated in 0.0464 seconds\n",
      "Processing coarse channels 96-99\n"
     ]
    },
    {
     "name": "stderr",
     "output_type": "stream",
     "text": [
      " 32%|███▏      | 32/101 [09:07<19:15, 16.74s/it]"
     ]
    },
    {
     "name": "stdout",
     "output_type": "stream",
     "text": [
      "Data loaded in 0.9225 seconds, processing\n",
      "Bandpass cleaned in 1.6279 seconds.\n",
      "Stamps filtered in 13.8611 seconds\n",
      "Saving results\n",
      "Results aggregated in 0.0459 seconds\n",
      "Processing coarse channels 99-102\n"
     ]
    },
    {
     "name": "stderr",
     "output_type": "stream",
     "text": [
      " 33%|███▎      | 33/101 [09:24<18:52, 16.66s/it]"
     ]
    },
    {
     "name": "stdout",
     "output_type": "stream",
     "text": [
      "Data loaded in 1.0514 seconds, processing\n",
      "Bandpass cleaned in 1.5572 seconds.\n",
      "Stamps filtered in 13.9612 seconds\n",
      "Saving results\n"
     ]
    },
    {
     "name": "stderr",
     "output_type": "stream",
     "text": [
      " 34%|███▎      | 34/101 [09:41<18:46, 16.81s/it]"
     ]
    },
    {
     "name": "stdout",
     "output_type": "stream",
     "text": [
      "Results aggregated in 0.5853 seconds\n",
      "Processing coarse channels 102-105\n",
      "Data loaded in 0.8498 seconds, processing\n",
      "Bandpass cleaned in 1.6107 seconds.\n",
      "Stamps filtered in 14.3464 seconds\n",
      "Saving results\n"
     ]
    },
    {
     "name": "stderr",
     "output_type": "stream",
     "text": [
      " 35%|███▍      | 35/101 [09:59<18:54, 17.19s/it]"
     ]
    },
    {
     "name": "stdout",
     "output_type": "stream",
     "text": [
      "Results aggregated in 1.2559 seconds\n",
      "Processing coarse channels 105-108\n",
      "Data loaded in 1.0495 seconds, processing\n",
      "Bandpass cleaned in 1.6635 seconds.\n",
      "Stamps filtered in 14.1432 seconds\n",
      "Saving results\n",
      "Results aggregated in 0.1287 seconds\n",
      "Processing coarse channels 108-111\n"
     ]
    },
    {
     "name": "stderr",
     "output_type": "stream",
     "text": [
      " 36%|███▌      | 36/101 [10:16<18:33, 17.13s/it]"
     ]
    },
    {
     "name": "stdout",
     "output_type": "stream",
     "text": [
      "Data loaded in 1.0113 seconds, processing\n",
      "Bandpass cleaned in 1.5653 seconds.\n",
      "Stamps filtered in 14.4843 seconds\n",
      "Saving results\n"
     ]
    },
    {
     "name": "stderr",
     "output_type": "stream",
     "text": [
      " 37%|███▋      | 37/101 [10:34<18:37, 17.45s/it]"
     ]
    },
    {
     "name": "stdout",
     "output_type": "stream",
     "text": [
      "Results aggregated in 1.1213 seconds\n",
      "Processing coarse channels 111-114\n",
      "Data loaded in 0.8722 seconds, processing\n",
      "Bandpass cleaned in 1.6240 seconds.\n",
      "Stamps filtered in 14.0925 seconds\n",
      "Saving results\n"
     ]
    },
    {
     "name": "stderr",
     "output_type": "stream",
     "text": [
      " 38%|███▊      | 38/101 [10:51<18:07, 17.26s/it]"
     ]
    },
    {
     "name": "stdout",
     "output_type": "stream",
     "text": [
      "Results aggregated in 0.2136 seconds\n",
      "Processing coarse channels 114-117\n",
      "Data loaded in 1.2634 seconds, processing\n",
      "Bandpass cleaned in 1.5901 seconds.\n",
      "Stamps filtered in 14.2802 seconds\n",
      "Saving results\n"
     ]
    },
    {
     "name": "stderr",
     "output_type": "stream",
     "text": [
      " 39%|███▊      | 39/101 [11:08<17:52, 17.30s/it]"
     ]
    },
    {
     "name": "stdout",
     "output_type": "stream",
     "text": [
      "Results aggregated in 0.2319 seconds\n",
      "Processing coarse channels 117-120\n",
      "Data loaded in 0.9632 seconds, processing\n",
      "Bandpass cleaned in 1.5477 seconds.\n",
      "Stamps filtered in 14.3607 seconds\n",
      "Saving results\n"
     ]
    },
    {
     "name": "stderr",
     "output_type": "stream",
     "text": [
      " 40%|███▉      | 40/101 [11:26<17:49, 17.53s/it]"
     ]
    },
    {
     "name": "stdout",
     "output_type": "stream",
     "text": [
      "Results aggregated in 1.1878 seconds\n",
      "Processing coarse channels 120-123\n",
      "Data loaded in 1.0752 seconds, processing\n",
      "Bandpass cleaned in 1.6413 seconds.\n",
      "Stamps filtered in 14.4890 seconds\n",
      "Saving results\n"
     ]
    },
    {
     "name": "stderr",
     "output_type": "stream",
     "text": [
      " 41%|████      | 41/101 [11:44<17:30, 17.50s/it]"
     ]
    },
    {
     "name": "stdout",
     "output_type": "stream",
     "text": [
      "Results aggregated in 0.2151 seconds\n",
      "Processing coarse channels 123-126\n",
      "Data loaded in 1.6246 seconds, processing\n",
      "Bandpass cleaned in 1.7513 seconds.\n",
      "Stamps filtered in 14.2468 seconds\n",
      "Saving results\n"
     ]
    },
    {
     "name": "stderr",
     "output_type": "stream",
     "text": [
      " 42%|████▏     | 42/101 [12:02<17:30, 17.80s/it]"
     ]
    },
    {
     "name": "stdout",
     "output_type": "stream",
     "text": [
      "Results aggregated in 0.8732 seconds\n",
      "Processing coarse channels 126-129\n",
      "Data loaded in 0.7964 seconds, processing\n",
      "Bandpass cleaned in 1.6738 seconds.\n",
      "Stamps filtered in 14.4522 seconds\n",
      "Saving results\n"
     ]
    },
    {
     "name": "stderr",
     "output_type": "stream",
     "text": [
      " 43%|████▎     | 43/101 [12:20<17:11, 17.78s/it]"
     ]
    },
    {
     "name": "stdout",
     "output_type": "stream",
     "text": [
      "Results aggregated in 0.7976 seconds\n",
      "Processing coarse channels 129-132\n",
      "Data loaded in 1.3762 seconds, processing\n",
      "Bandpass cleaned in 1.7083 seconds.\n",
      "Stamps filtered in 14.4845 seconds\n",
      "Saving results\n"
     ]
    },
    {
     "name": "stderr",
     "output_type": "stream",
     "text": [
      " 44%|████▎     | 44/101 [12:38<17:03, 17.96s/it]"
     ]
    },
    {
     "name": "stdout",
     "output_type": "stream",
     "text": [
      "Results aggregated in 0.7875 seconds\n",
      "Processing coarse channels 132-135\n",
      "Data loaded in 1.2468 seconds, processing\n",
      "Bandpass cleaned in 1.6226 seconds.\n",
      "Stamps filtered in 14.5506 seconds\n",
      "Saving results\n"
     ]
    },
    {
     "name": "stderr",
     "output_type": "stream",
     "text": [
      " 45%|████▍     | 45/101 [12:57<16:51, 18.06s/it]"
     ]
    },
    {
     "name": "stdout",
     "output_type": "stream",
     "text": [
      "Results aggregated in 0.8772 seconds\n",
      "Processing coarse channels 135-138\n",
      "Data loaded in 0.9744 seconds, processing\n",
      "Bandpass cleaned in 1.6746 seconds.\n",
      "Stamps filtered in 14.6310 seconds\n",
      "Saving results\n",
      "Results aggregated in 0.0920 seconds\n",
      "Processing coarse channels 138-141\n"
     ]
    },
    {
     "name": "stderr",
     "output_type": "stream",
     "text": [
      " 46%|████▌     | 46/101 [13:14<16:22, 17.86s/it]"
     ]
    },
    {
     "name": "stdout",
     "output_type": "stream",
     "text": [
      "Data loaded in 1.1288 seconds, processing\n",
      "Bandpass cleaned in 1.6277 seconds.\n",
      "Stamps filtered in 14.2794 seconds\n",
      "Saving results\n",
      "Results aggregated in 0.0580 seconds\n",
      "Processing coarse channels 141-144\n"
     ]
    },
    {
     "name": "stderr",
     "output_type": "stream",
     "text": [
      " 47%|████▋     | 47/101 [13:31<15:52, 17.63s/it]"
     ]
    },
    {
     "name": "stdout",
     "output_type": "stream",
     "text": [
      "Data loaded in 0.7883 seconds, processing\n",
      "Bandpass cleaned in 1.6521 seconds.\n",
      "Stamps filtered in 14.1910 seconds\n",
      "Saving results\n",
      "Results aggregated in 0.0645 seconds\n",
      "Processing coarse channels 144-147\n"
     ]
    },
    {
     "name": "stderr",
     "output_type": "stream",
     "text": [
      " 48%|████▊     | 48/101 [13:48<15:19, 17.35s/it]"
     ]
    },
    {
     "name": "stdout",
     "output_type": "stream",
     "text": [
      "Data loaded in 1.3268 seconds, processing\n",
      "Bandpass cleaned in 1.7145 seconds.\n",
      "Stamps filtered in 14.1842 seconds\n",
      "Saving results\n",
      "Results aggregated in 0.0650 seconds\n",
      "Processing coarse channels 147-150\n"
     ]
    },
    {
     "name": "stderr",
     "output_type": "stream",
     "text": [
      " 49%|████▊     | 49/101 [14:05<15:01, 17.34s/it]"
     ]
    },
    {
     "name": "stdout",
     "output_type": "stream",
     "text": [
      "Data loaded in 1.1898 seconds, processing\n",
      "Bandpass cleaned in 1.7018 seconds.\n",
      "Stamps filtered in 14.2451 seconds\n",
      "Saving results\n",
      "Results aggregated in 0.0677 seconds\n",
      "Processing coarse channels 150-153\n"
     ]
    },
    {
     "name": "stderr",
     "output_type": "stream",
     "text": [
      " 50%|████▉     | 50/101 [14:22<14:42, 17.30s/it]"
     ]
    },
    {
     "name": "stdout",
     "output_type": "stream",
     "text": [
      "Data loaded in 1.0391 seconds, processing\n",
      "Bandpass cleaned in 1.6091 seconds.\n",
      "Stamps filtered in 14.2662 seconds\n",
      "Saving results\n",
      "Results aggregated in 0.0653 seconds\n",
      "Processing coarse channels 153-156\n"
     ]
    },
    {
     "name": "stderr",
     "output_type": "stream",
     "text": [
      " 50%|█████     | 51/101 [14:39<14:20, 17.20s/it]"
     ]
    },
    {
     "name": "stdout",
     "output_type": "stream",
     "text": [
      "Data loaded in 1.1354 seconds, processing\n",
      "Bandpass cleaned in 1.7891 seconds.\n",
      "Stamps filtered in 14.3437 seconds\n",
      "Saving results\n",
      "Results aggregated in 0.0638 seconds\n",
      "Processing coarse channels 156-159\n"
     ]
    },
    {
     "name": "stderr",
     "output_type": "stream",
     "text": [
      " 51%|█████▏    | 52/101 [14:57<14:05, 17.25s/it]"
     ]
    },
    {
     "name": "stdout",
     "output_type": "stream",
     "text": [
      "Data loaded in 0.8958 seconds, processing\n",
      "Bandpass cleaned in 1.6947 seconds.\n",
      "Stamps filtered in 14.6380 seconds\n",
      "Saving results\n",
      "Results aggregated in 0.0659 seconds\n",
      "Processing coarse channels 159-162\n"
     ]
    },
    {
     "name": "stderr",
     "output_type": "stream",
     "text": [
      " 52%|█████▏    | 53/101 [15:14<13:48, 17.26s/it]"
     ]
    },
    {
     "name": "stdout",
     "output_type": "stream",
     "text": [
      "Data loaded in 1.4333 seconds, processing\n",
      "Bandpass cleaned in 2.0246 seconds.\n",
      "Stamps filtered in 14.4784 seconds\n",
      "Saving results\n",
      "Results aggregated in 0.0677 seconds\n",
      "Processing coarse channels 162-165\n"
     ]
    },
    {
     "name": "stderr",
     "output_type": "stream",
     "text": [
      " 53%|█████▎    | 54/101 [15:32<13:41, 17.49s/it]"
     ]
    },
    {
     "name": "stdout",
     "output_type": "stream",
     "text": [
      "Data loaded in 1.1436 seconds, processing\n",
      "Bandpass cleaned in 1.6352 seconds.\n",
      "Stamps filtered in 13.9628 seconds\n",
      "Saving results\n",
      "Results aggregated in 0.0664 seconds\n",
      "Processing coarse channels 165-168\n"
     ]
    },
    {
     "name": "stderr",
     "output_type": "stream",
     "text": [
      " 54%|█████▍    | 55/101 [15:49<13:15, 17.29s/it]"
     ]
    },
    {
     "name": "stdout",
     "output_type": "stream",
     "text": [
      "Data loaded in 1.2336 seconds, processing\n",
      "Bandpass cleaned in 1.6740 seconds.\n",
      "Stamps filtered in 13.8682 seconds\n",
      "Saving results\n",
      "Results aggregated in 0.0632 seconds\n",
      "Processing coarse channels 168-171\n"
     ]
    },
    {
     "name": "stderr",
     "output_type": "stream",
     "text": [
      " 55%|█████▌    | 56/101 [16:06<12:51, 17.15s/it]"
     ]
    },
    {
     "name": "stdout",
     "output_type": "stream",
     "text": [
      "Data loaded in 1.2179 seconds, processing\n",
      "Bandpass cleaned in 1.7534 seconds.\n",
      "Stamps filtered in 13.9126 seconds\n",
      "Saving results\n",
      "Results aggregated in 0.0672 seconds\n",
      "Processing coarse channels 171-174\n"
     ]
    },
    {
     "name": "stderr",
     "output_type": "stream",
     "text": [
      " 56%|█████▋    | 57/101 [16:23<12:32, 17.10s/it]"
     ]
    },
    {
     "name": "stdout",
     "output_type": "stream",
     "text": [
      "Data loaded in 0.7962 seconds, processing\n",
      "Bandpass cleaned in 1.6393 seconds.\n",
      "Stamps filtered in 14.4167 seconds\n",
      "Saving results\n",
      "Results aggregated in 0.0613 seconds\n",
      "Processing coarse channels 174-177\n"
     ]
    },
    {
     "name": "stderr",
     "output_type": "stream",
     "text": [
      " 57%|█████▋    | 58/101 [16:40<12:12, 17.04s/it]"
     ]
    },
    {
     "name": "stdout",
     "output_type": "stream",
     "text": [
      "Data loaded in 1.1950 seconds, processing\n",
      "Bandpass cleaned in 1.8431 seconds.\n",
      "Stamps filtered in 14.1322 seconds\n",
      "Saving results\n",
      "Results aggregated in 0.0698 seconds\n",
      "Processing coarse channels 177-180\n"
     ]
    },
    {
     "name": "stderr",
     "output_type": "stream",
     "text": [
      " 58%|█████▊    | 59/101 [16:57<11:58, 17.10s/it]"
     ]
    },
    {
     "name": "stdout",
     "output_type": "stream",
     "text": [
      "Data loaded in 1.0742 seconds, processing\n",
      "Bandpass cleaned in 1.6609 seconds.\n",
      "Stamps filtered in 14.5486 seconds\n",
      "Saving results\n",
      "Results aggregated in 0.0578 seconds\n",
      "Processing coarse channels 180-183\n"
     ]
    },
    {
     "name": "stderr",
     "output_type": "stream",
     "text": [
      " 59%|█████▉    | 60/101 [17:14<11:44, 17.18s/it]"
     ]
    },
    {
     "name": "stdout",
     "output_type": "stream",
     "text": [
      "Data loaded in 1.0679 seconds, processing\n",
      "Bandpass cleaned in 1.5701 seconds.\n",
      "Stamps filtered in 14.4151 seconds\n",
      "Saving results\n",
      "Results aggregated in 0.0646 seconds\n",
      "Processing coarse channels 183-186\n"
     ]
    },
    {
     "name": "stderr",
     "output_type": "stream",
     "text": [
      " 60%|██████    | 61/101 [17:31<11:26, 17.16s/it]"
     ]
    },
    {
     "name": "stdout",
     "output_type": "stream",
     "text": [
      "Data loaded in 1.2518 seconds, processing\n",
      "Bandpass cleaned in 1.6820 seconds.\n",
      "Stamps filtered in 14.4129 seconds\n",
      "Saving results\n",
      "Results aggregated in 0.0773 seconds\n",
      "Processing coarse channels 186-189\n"
     ]
    },
    {
     "name": "stderr",
     "output_type": "stream",
     "text": [
      " 61%|██████▏   | 62/101 [17:49<11:12, 17.24s/it]"
     ]
    },
    {
     "name": "stdout",
     "output_type": "stream",
     "text": [
      "Data loaded in 0.7974 seconds, processing\n",
      "Bandpass cleaned in 1.6384 seconds.\n",
      "Stamps filtered in 14.2351 seconds\n",
      "Saving results\n",
      "Results aggregated in 0.0627 seconds\n",
      "Processing coarse channels 189-192\n"
     ]
    },
    {
     "name": "stderr",
     "output_type": "stream",
     "text": [
      " 62%|██████▏   | 63/101 [18:05<10:49, 17.09s/it]"
     ]
    },
    {
     "name": "stdout",
     "output_type": "stream",
     "text": [
      "Data loaded in 1.4357 seconds, processing\n",
      "Bandpass cleaned in 1.8002 seconds.\n",
      "Stamps filtered in 14.3718 seconds\n",
      "Saving results\n",
      "Results aggregated in 0.0580 seconds\n",
      "Processing coarse channels 192-195\n"
     ]
    },
    {
     "name": "stderr",
     "output_type": "stream",
     "text": [
      " 63%|██████▎   | 64/101 [18:23<10:38, 17.27s/it]"
     ]
    },
    {
     "name": "stdout",
     "output_type": "stream",
     "text": [
      "Data loaded in 1.3148 seconds, processing\n",
      "Bandpass cleaned in 1.6189 seconds.\n",
      "Stamps filtered in 14.5033 seconds\n",
      "Saving results\n",
      "Results aggregated in 0.0686 seconds\n",
      "Processing coarse channels 195-198\n"
     ]
    },
    {
     "name": "stderr",
     "output_type": "stream",
     "text": [
      " 64%|██████▍   | 65/101 [18:41<10:24, 17.34s/it]"
     ]
    },
    {
     "name": "stdout",
     "output_type": "stream",
     "text": [
      "Data loaded in 1.1033 seconds, processing\n",
      "Bandpass cleaned in 1.7302 seconds.\n",
      "Stamps filtered in 13.9124 seconds\n",
      "Saving results\n",
      "Results aggregated in 0.0607 seconds\n",
      "Processing coarse channels 198-201\n"
     ]
    },
    {
     "name": "stderr",
     "output_type": "stream",
     "text": [
      " 65%|██████▌   | 66/101 [18:57<10:01, 17.18s/it]"
     ]
    },
    {
     "name": "stdout",
     "output_type": "stream",
     "text": [
      "Data loaded in 1.3721 seconds, processing\n",
      "Bandpass cleaned in 1.6642 seconds.\n",
      "Stamps filtered in 14.3758 seconds\n",
      "Saving results\n",
      "Results aggregated in 0.0580 seconds\n",
      "Processing coarse channels 201-204\n"
     ]
    },
    {
     "name": "stderr",
     "output_type": "stream",
     "text": [
      " 66%|██████▋   | 67/101 [19:15<09:47, 17.27s/it]"
     ]
    },
    {
     "name": "stdout",
     "output_type": "stream",
     "text": [
      "Data loaded in 0.8144 seconds, processing\n",
      "Bandpass cleaned in 1.6319 seconds.\n",
      "Stamps filtered in 13.9294 seconds\n",
      "Saving results\n",
      "Results aggregated in 0.0704 seconds\n",
      "Processing coarse channels 204-207\n"
     ]
    },
    {
     "name": "stderr",
     "output_type": "stream",
     "text": [
      " 67%|██████▋   | 68/101 [19:31<09:21, 17.03s/it]"
     ]
    },
    {
     "name": "stdout",
     "output_type": "stream",
     "text": [
      "Data loaded in 1.5629 seconds, processing\n",
      "Bandpass cleaned in 1.5596 seconds.\n",
      "Stamps filtered in 13.7429 seconds\n",
      "Saving results\n",
      "Results aggregated in 0.1551 seconds\n",
      "Processing coarse channels 207-210\n"
     ]
    },
    {
     "name": "stderr",
     "output_type": "stream",
     "text": [
      " 68%|██████▊   | 69/101 [19:48<09:04, 17.03s/it]"
     ]
    },
    {
     "name": "stdout",
     "output_type": "stream",
     "text": [
      "Data loaded in 1.1912 seconds, processing\n",
      "Bandpass cleaned in 1.6248 seconds.\n",
      "Stamps filtered in 14.1107 seconds\n",
      "Saving results\n"
     ]
    },
    {
     "name": "stderr",
     "output_type": "stream",
     "text": [
      " 69%|██████▉   | 70/101 [20:06<08:57, 17.34s/it]"
     ]
    },
    {
     "name": "stdout",
     "output_type": "stream",
     "text": [
      "Results aggregated in 1.1317 seconds\n",
      "Processing coarse channels 210-213\n",
      "Data loaded in 0.8574 seconds, processing\n",
      "Bandpass cleaned in 1.6914 seconds.\n",
      "Stamps filtered in 13.8721 seconds\n",
      "Saving results\n"
     ]
    },
    {
     "name": "stderr",
     "output_type": "stream",
     "text": [
      " 70%|███████   | 71/101 [20:24<08:42, 17.43s/it]"
     ]
    },
    {
     "name": "stdout",
     "output_type": "stream",
     "text": [
      "Results aggregated in 1.1867 seconds\n",
      "Processing coarse channels 213-216\n",
      "Data loaded in 1.0448 seconds, processing\n",
      "Bandpass cleaned in 1.6793 seconds.\n",
      "Stamps filtered in 13.9042 seconds\n",
      "Saving results\n",
      "Results aggregated in 0.0830 seconds\n",
      "Processing coarse channels 216-219\n"
     ]
    },
    {
     "name": "stderr",
     "output_type": "stream",
     "text": [
      " 71%|███████▏  | 72/101 [20:41<08:19, 17.22s/it]"
     ]
    },
    {
     "name": "stdout",
     "output_type": "stream",
     "text": [
      "Data loaded in 0.7682 seconds, processing\n",
      "Bandpass cleaned in 1.6834 seconds.\n",
      "Stamps filtered in 14.1960 seconds\n",
      "Saving results\n"
     ]
    },
    {
     "name": "stderr",
     "output_type": "stream",
     "text": [
      " 72%|███████▏  | 73/101 [20:58<08:05, 17.33s/it]"
     ]
    },
    {
     "name": "stdout",
     "output_type": "stream",
     "text": [
      "Results aggregated in 0.9421 seconds\n",
      "Processing coarse channels 219-222\n",
      "Data loaded in 1.3683 seconds, processing\n",
      "Bandpass cleaned in 1.8003 seconds.\n",
      "Stamps filtered in 14.1830 seconds\n",
      "Saving results\n",
      "Results aggregated in 0.1024 seconds\n",
      "Processing coarse channels 222-225\n"
     ]
    },
    {
     "name": "stderr",
     "output_type": "stream",
     "text": [
      " 73%|███████▎  | 74/101 [21:16<07:49, 17.37s/it]"
     ]
    },
    {
     "name": "stdout",
     "output_type": "stream",
     "text": [
      "Data loaded in 1.3444 seconds, processing\n",
      "Bandpass cleaned in 1.6533 seconds.\n",
      "Stamps filtered in 13.8357 seconds\n",
      "Saving results\n",
      "Results aggregated in 0.0671 seconds\n",
      "Processing coarse channels 225-228\n"
     ]
    },
    {
     "name": "stderr",
     "output_type": "stream",
     "text": [
      " 74%|███████▍  | 75/101 [21:33<07:28, 17.23s/it]"
     ]
    },
    {
     "name": "stdout",
     "output_type": "stream",
     "text": [
      "Data loaded in 0.8958 seconds, processing\n",
      "Bandpass cleaned in 1.6457 seconds.\n",
      "Stamps filtered in 13.9198 seconds\n",
      "Saving results\n"
     ]
    },
    {
     "name": "stderr",
     "output_type": "stream",
     "text": [
      " 75%|███████▌  | 76/101 [21:51<07:14, 17.38s/it]"
     ]
    },
    {
     "name": "stdout",
     "output_type": "stream",
     "text": [
      "Results aggregated in 1.2419 seconds\n",
      "Processing coarse channels 228-231\n",
      "Data loaded in 1.1849 seconds, processing\n",
      "Bandpass cleaned in 1.6566 seconds.\n",
      "Stamps filtered in 14.6500 seconds\n",
      "Saving results\n"
     ]
    },
    {
     "name": "stderr",
     "output_type": "stream",
     "text": [
      " 76%|███████▌  | 77/101 [22:08<06:59, 17.50s/it]"
     ]
    },
    {
     "name": "stdout",
     "output_type": "stream",
     "text": [
      "Results aggregated in 0.2690 seconds\n",
      "Processing coarse channels 231-234\n",
      "Data loaded in 0.9168 seconds, processing\n",
      "Bandpass cleaned in 1.6913 seconds.\n",
      "Stamps filtered in 14.3293 seconds\n",
      "Saving results\n"
     ]
    },
    {
     "name": "stderr",
     "output_type": "stream",
     "text": [
      " 77%|███████▋  | 78/101 [22:26<06:43, 17.52s/it]"
     ]
    },
    {
     "name": "stdout",
     "output_type": "stream",
     "text": [
      "Results aggregated in 0.6360 seconds\n",
      "Processing coarse channels 234-237\n",
      "Data loaded in 1.4649 seconds, processing\n",
      "Bandpass cleaned in 2.0598 seconds.\n",
      "Stamps filtered in 14.4457 seconds\n",
      "Saving results\n"
     ]
    },
    {
     "name": "stderr",
     "output_type": "stream",
     "text": [
      " 78%|███████▊  | 79/101 [22:45<06:33, 17.87s/it]"
     ]
    },
    {
     "name": "stdout",
     "output_type": "stream",
     "text": [
      "Results aggregated in 0.7052 seconds\n",
      "Processing coarse channels 237-240\n",
      "Data loaded in 1.5677 seconds, processing\n",
      "Bandpass cleaned in 1.8235 seconds.\n",
      "Stamps filtered in 14.5661 seconds\n",
      "Saving results\n"
     ]
    },
    {
     "name": "stderr",
     "output_type": "stream",
     "text": [
      " 79%|███████▉  | 80/101 [23:03<06:17, 17.96s/it]"
     ]
    },
    {
     "name": "stdout",
     "output_type": "stream",
     "text": [
      "Results aggregated in 0.1993 seconds\n",
      "Processing coarse channels 240-243\n",
      "Data loaded in 0.7922 seconds, processing\n",
      "Bandpass cleaned in 1.7235 seconds.\n",
      "Stamps filtered in 14.7350 seconds\n",
      "Saving results\n"
     ]
    },
    {
     "name": "stderr",
     "output_type": "stream",
     "text": [
      " 80%|████████  | 81/101 [23:23<06:13, 18.66s/it]"
     ]
    },
    {
     "name": "stdout",
     "output_type": "stream",
     "text": [
      "Results aggregated in 3.0004 seconds\n",
      "Processing coarse channels 243-246\n",
      "Data loaded in 1.2401 seconds, processing\n",
      "Bandpass cleaned in 2.3529 seconds.\n",
      "Stamps filtered in 14.9126 seconds\n",
      "Saving results\n"
     ]
    },
    {
     "name": "stderr",
     "output_type": "stream",
     "text": [
      " 81%|████████  | 82/101 [23:42<05:58, 18.86s/it]"
     ]
    },
    {
     "name": "stdout",
     "output_type": "stream",
     "text": [
      "Results aggregated in 0.7911 seconds\n",
      "Processing coarse channels 246-249\n",
      "Data loaded in 1.0057 seconds, processing\n",
      "Bandpass cleaned in 2.0339 seconds.\n",
      "Stamps filtered in 14.3272 seconds\n",
      "Saving results\n",
      "Results aggregated in 0.1122 seconds\n",
      "Processing coarse channels 249-252\n"
     ]
    },
    {
     "name": "stderr",
     "output_type": "stream",
     "text": [
      " 82%|████████▏ | 83/101 [24:00<05:32, 18.44s/it]"
     ]
    },
    {
     "name": "stdout",
     "output_type": "stream",
     "text": [
      "Data loaded in 0.9786 seconds, processing\n",
      "Bandpass cleaned in 1.7419 seconds.\n",
      "Stamps filtered in 14.6574 seconds\n",
      "Saving results\n"
     ]
    },
    {
     "name": "stderr",
     "output_type": "stream",
     "text": [
      " 83%|████████▎ | 84/101 [24:18<05:13, 18.47s/it]"
     ]
    },
    {
     "name": "stdout",
     "output_type": "stream",
     "text": [
      "Results aggregated in 1.1302 seconds\n",
      "Processing coarse channels 252-255\n",
      "Data loaded in 1.3511 seconds, processing\n",
      "Bandpass cleaned in 2.3409 seconds.\n",
      "Stamps filtered in 14.5245 seconds\n",
      "Saving results\n"
     ]
    },
    {
     "name": "stderr",
     "output_type": "stream",
     "text": [
      " 84%|████████▍ | 85/101 [24:39<05:07, 19.22s/it]"
     ]
    },
    {
     "name": "stdout",
     "output_type": "stream",
     "text": [
      "Results aggregated in 2.7415 seconds\n",
      "Processing coarse channels 255-258\n",
      "Data loaded in 0.8614 seconds, processing\n",
      "Bandpass cleaned in 2.9993 seconds.\n",
      "Stamps filtered in 14.1845 seconds\n",
      "Saving results\n",
      "Results aggregated in 0.1352 seconds\n",
      "Processing coarse channels 258-261\n"
     ]
    },
    {
     "name": "stderr",
     "output_type": "stream",
     "text": [
      " 85%|████████▌ | 86/101 [24:58<04:43, 18.92s/it]"
     ]
    },
    {
     "name": "stdout",
     "output_type": "stream",
     "text": [
      "Data loaded in 1.4784 seconds, processing\n",
      "Bandpass cleaned in 1.7252 seconds.\n",
      "Stamps filtered in 14.4404 seconds\n",
      "Saving results\n",
      "Results aggregated in 0.0789 seconds\n",
      "Processing coarse channels 261-264\n"
     ]
    },
    {
     "name": "stderr",
     "output_type": "stream",
     "text": [
      " 86%|████████▌ | 87/101 [25:15<04:19, 18.56s/it]"
     ]
    },
    {
     "name": "stdout",
     "output_type": "stream",
     "text": [
      "Data loaded in 1.3185 seconds, processing\n",
      "Bandpass cleaned in 1.7462 seconds.\n",
      "Stamps filtered in 14.4583 seconds\n",
      "Saving results\n",
      "Results aggregated in 0.0915 seconds\n",
      "Processing coarse channels 264-267\n"
     ]
    },
    {
     "name": "stderr",
     "output_type": "stream",
     "text": [
      " 87%|████████▋ | 88/101 [25:33<03:57, 18.28s/it]"
     ]
    },
    {
     "name": "stdout",
     "output_type": "stream",
     "text": [
      "Data loaded in 1.0307 seconds, processing\n",
      "Bandpass cleaned in 1.7068 seconds.\n",
      "Stamps filtered in 14.3427 seconds\n",
      "Saving results\n",
      "Results aggregated in 0.0855 seconds\n",
      "Processing coarse channels 267-270\n"
     ]
    },
    {
     "name": "stderr",
     "output_type": "stream",
     "text": [
      " 88%|████████▊ | 89/101 [25:50<03:35, 17.95s/it]"
     ]
    },
    {
     "name": "stdout",
     "output_type": "stream",
     "text": [
      "Data loaded in 1.4982 seconds, processing\n",
      "Bandpass cleaned in 1.7828 seconds.\n",
      "Stamps filtered in 14.5759 seconds\n",
      "Saving results\n",
      "Results aggregated in 0.0888 seconds\n",
      "Processing coarse channels 270-273\n"
     ]
    },
    {
     "name": "stderr",
     "output_type": "stream",
     "text": [
      " 89%|████████▉ | 90/101 [26:08<03:17, 17.95s/it]"
     ]
    },
    {
     "name": "stdout",
     "output_type": "stream",
     "text": [
      "Data loaded in 1.3072 seconds, processing\n",
      "Bandpass cleaned in 1.6875 seconds.\n",
      "Stamps filtered in 14.3573 seconds\n",
      "Saving results\n",
      "Results aggregated in 0.0931 seconds\n",
      "Processing coarse channels 273-276\n"
     ]
    },
    {
     "name": "stderr",
     "output_type": "stream",
     "text": [
      " 90%|█████████ | 91/101 [26:25<02:57, 17.80s/it]"
     ]
    },
    {
     "name": "stdout",
     "output_type": "stream",
     "text": [
      "Data loaded in 1.2707 seconds, processing\n",
      "Bandpass cleaned in 1.9480 seconds.\n",
      "Stamps filtered in 14.6733 seconds\n",
      "Saving results\n",
      "Results aggregated in 0.1125 seconds\n",
      "Processing coarse channels 276-279\n"
     ]
    },
    {
     "name": "stderr",
     "output_type": "stream",
     "text": [
      " 91%|█████████ | 92/101 [26:43<02:40, 17.86s/it]"
     ]
    },
    {
     "name": "stdout",
     "output_type": "stream",
     "text": [
      "Data loaded in 1.3385 seconds, processing\n",
      "Bandpass cleaned in 1.6681 seconds.\n",
      "Stamps filtered in 14.3968 seconds\n",
      "Saving results\n",
      "Results aggregated in 0.1275 seconds\n",
      "Processing coarse channels 279-282\n"
     ]
    },
    {
     "name": "stderr",
     "output_type": "stream",
     "text": [
      " 92%|█████████▏| 93/101 [27:01<02:22, 17.77s/it]"
     ]
    },
    {
     "name": "stdout",
     "output_type": "stream",
     "text": [
      "Data loaded in 1.3683 seconds, processing\n",
      "Bandpass cleaned in 1.6994 seconds.\n",
      "Stamps filtered in 14.1524 seconds\n",
      "Saving results\n",
      "Results aggregated in 0.1904 seconds\n",
      "Processing coarse channels 282-285\n"
     ]
    },
    {
     "name": "stderr",
     "output_type": "stream",
     "text": [
      " 93%|█████████▎| 94/101 [27:18<02:03, 17.67s/it]"
     ]
    },
    {
     "name": "stdout",
     "output_type": "stream",
     "text": [
      "Data loaded in 1.3052 seconds, processing\n",
      "Bandpass cleaned in 1.7032 seconds.\n",
      "Stamps filtered in 14.4873 seconds\n",
      "Saving results\n"
     ]
    },
    {
     "name": "stderr",
     "output_type": "stream",
     "text": [
      " 94%|█████████▍| 95/101 [27:36<01:46, 17.69s/it]"
     ]
    },
    {
     "name": "stdout",
     "output_type": "stream",
     "text": [
      "Results aggregated in 0.2160 seconds\n",
      "Processing coarse channels 285-288\n",
      "Data loaded in 1.1083 seconds, processing\n",
      "Bandpass cleaned in 1.7317 seconds.\n",
      "Stamps filtered in 14.4048 seconds\n",
      "Saving results\n",
      "Results aggregated in 0.1543 seconds\n",
      "Processing coarse channels 288-291\n"
     ]
    },
    {
     "name": "stderr",
     "output_type": "stream",
     "text": [
      " 95%|█████████▌| 96/101 [27:54<01:28, 17.60s/it]"
     ]
    },
    {
     "name": "stdout",
     "output_type": "stream",
     "text": [
      "Data loaded in 1.2261 seconds, processing\n",
      "Bandpass cleaned in 1.7527 seconds.\n",
      "Stamps filtered in 14.4430 seconds\n",
      "Saving results\n",
      "Results aggregated in 0.1371 seconds\n",
      "Processing coarse channels 291-294\n"
     ]
    },
    {
     "name": "stderr",
     "output_type": "stream",
     "text": [
      " 96%|█████████▌| 97/101 [28:11<01:10, 17.60s/it]"
     ]
    },
    {
     "name": "stdout",
     "output_type": "stream",
     "text": [
      "Data loaded in 1.0567 seconds, processing\n",
      "Bandpass cleaned in 1.7322 seconds.\n",
      "Stamps filtered in 14.4929 seconds\n",
      "Saving results\n"
     ]
    },
    {
     "name": "stderr",
     "output_type": "stream",
     "text": [
      " 97%|█████████▋| 98/101 [28:29<00:52, 17.63s/it]"
     ]
    },
    {
     "name": "stdout",
     "output_type": "stream",
     "text": [
      "Results aggregated in 0.4043 seconds\n",
      "Processing coarse channels 294-297\n",
      "Data loaded in 0.9572 seconds, processing\n",
      "Bandpass cleaned in 2.5042 seconds.\n",
      "Stamps filtered in 14.5292 seconds\n",
      "Saving results\n",
      "Results aggregated in 0.1338 seconds\n",
      "Processing coarse channels 297-300\n"
     ]
    },
    {
     "name": "stderr",
     "output_type": "stream",
     "text": [
      " 98%|█████████▊| 99/101 [28:47<00:35, 17.79s/it]"
     ]
    },
    {
     "name": "stdout",
     "output_type": "stream",
     "text": [
      "Data loaded in 0.9223 seconds, processing\n",
      "Bandpass cleaned in 1.6839 seconds.\n",
      "Stamps filtered in 14.5581 seconds\n",
      "Saving results\n",
      "Results aggregated in 0.1028 seconds\n",
      "Processing coarse channels 300-303\n"
     ]
    },
    {
     "name": "stderr",
     "output_type": "stream",
     "text": [
      " 99%|█████████▉| 100/101 [29:04<00:17, 17.63s/it]"
     ]
    },
    {
     "name": "stdout",
     "output_type": "stream",
     "text": [
      "Data loaded in 0.7859 seconds, processing\n",
      "Bandpass cleaned in 1.8487 seconds.\n",
      "Stamps filtered in 14.8697 seconds\n",
      "Saving results\n"
     ]
    },
    {
     "name": "stderr",
     "output_type": "stream",
     "text": [
      "100%|██████████| 101/101 [29:22<00:00, 17.45s/it]\n"
     ]
    },
    {
     "name": "stdout",
     "output_type": "stream",
     "text": [
      "Results aggregated in 0.0967 seconds\n",
      "        level_0      index      statistic  pvalue        freqs\n",
      "176121   176121  307867648  434079.744775     0.0  1053.309763\n",
      "176117   176117  307867136  352389.942041     0.0  1053.311215\n",
      "176128   176128  307868544  337389.027181     0.0  1053.307222\n",
      "176114   176114  307866752  173891.316343     0.0  1053.312304\n",
      "64354     64354  134785408   13102.575276     0.0  1544.085046\n",
      "64355     64355  134785536   13069.104470     0.0  1544.084683\n",
      "64315     64315  134520192   13006.816104     0.0  1544.837067\n",
      "59967     59967  133408896   12994.817784     0.0  1547.988151\n",
      "7596       7596   65609216    8052.856848     0.0  1740.234375\n",
      "7595       7595   65609088    8052.856737     0.0  1740.234738\n",
      "7559       7559   55276928    8052.664730     0.0  1769.531613\n",
      "7560       7560   55277056    8052.663823     0.0  1769.531250\n",
      "303 303\n",
      "Finished Energy Detection on GBT_57515_82909_HIP43412_fine.h5 in 1791.1613 seconds\n",
      "/mnt_blpd7/datax/dl/GBT_57515_83255_HIP44295_fine.h5\n",
      "Header saved to ../../../../../../datax/scratch/pma/reverse_search/train_large/HIP44295-23/GBT_57515_83255_HIP44295_fine/header.pkl\n",
      "Processing 3 in parallel\n",
      "Processing coarse channels 0-3\n"
     ]
    },
    {
     "name": "stderr",
     "output_type": "stream",
     "text": [
      "  0%|          | 0/101 [00:00<?, ?it/s]"
     ]
    },
    {
     "name": "stdout",
     "output_type": "stream",
     "text": [
      "Data loaded in 1.8527 seconds, processing\n",
      "Bandpass cleaned in 1.6135 seconds.\n",
      "Stamps filtered in 13.9163 seconds\n",
      "Saving results\n"
     ]
    },
    {
     "name": "stderr",
     "output_type": "stream",
     "text": [
      "  1%|          | 1/101 [00:18<30:38, 18.39s/it]"
     ]
    },
    {
     "name": "stdout",
     "output_type": "stream",
     "text": [
      "Results aggregated in 0.9790 seconds\n",
      "Processing coarse channels 3-6\n",
      "Data loaded in 1.6605 seconds, processing\n",
      "Bandpass cleaned in 1.7054 seconds.\n",
      "Stamps filtered in 13.6844 seconds\n",
      "Saving results\n",
      "Results aggregated in 0.0968 seconds\n",
      "Processing coarse channels 6-9\n"
     ]
    },
    {
     "name": "stderr",
     "output_type": "stream",
     "text": [
      "  2%|▏         | 2/101 [00:35<29:08, 17.66s/it]"
     ]
    },
    {
     "name": "stdout",
     "output_type": "stream",
     "text": [
      "Data loaded in 1.8356 seconds, processing\n",
      "Bandpass cleaned in 1.6177 seconds.\n",
      "Stamps filtered in 13.9216 seconds\n",
      "Saving results\n"
     ]
    },
    {
     "name": "stderr",
     "output_type": "stream",
     "text": [
      "  3%|▎         | 3/101 [00:53<28:55, 17.71s/it]"
     ]
    },
    {
     "name": "stdout",
     "output_type": "stream",
     "text": [
      "Results aggregated in 0.3879 seconds\n",
      "Processing coarse channels 9-12\n",
      "Data loaded in 0.7717 seconds, processing\n",
      "Bandpass cleaned in 1.5907 seconds.\n",
      "Stamps filtered in 13.0854 seconds\n",
      "Saving results\n",
      "Results aggregated in 0.0512 seconds\n",
      "Processing coarse channels 12-15\n"
     ]
    },
    {
     "name": "stderr",
     "output_type": "stream",
     "text": [
      "  4%|▍         | 4/101 [01:08<27:13, 16.84s/it]"
     ]
    },
    {
     "name": "stdout",
     "output_type": "stream",
     "text": [
      "Data loaded in 1.3441 seconds, processing\n",
      "Bandpass cleaned in 1.7867 seconds.\n",
      "Stamps filtered in 13.5444 seconds\n",
      "Saving results\n",
      "Results aggregated in 0.0352 seconds\n",
      "Processing coarse channels 15-18\n"
     ]
    },
    {
     "name": "stderr",
     "output_type": "stream",
     "text": [
      "  5%|▍         | 5/101 [01:25<26:52, 16.80s/it]"
     ]
    },
    {
     "name": "stdout",
     "output_type": "stream",
     "text": [
      "Data loaded in 1.1001 seconds, processing\n",
      "Bandpass cleaned in 1.5775 seconds.\n",
      "Stamps filtered in 13.4123 seconds\n",
      "Saving results\n",
      "Results aggregated in 0.0382 seconds\n",
      "Processing coarse channels 18-21\n"
     ]
    },
    {
     "name": "stderr",
     "output_type": "stream",
     "text": [
      "  6%|▌         | 6/101 [01:41<26:14, 16.57s/it]"
     ]
    },
    {
     "name": "stdout",
     "output_type": "stream",
     "text": [
      "Data loaded in 1.2036 seconds, processing\n",
      "Bandpass cleaned in 1.5628 seconds.\n",
      "Stamps filtered in 12.9466 seconds\n",
      "Saving results\n",
      "Results aggregated in 0.0368 seconds\n",
      "Processing coarse channels 21-24\n"
     ]
    },
    {
     "name": "stderr",
     "output_type": "stream",
     "text": [
      "  7%|▋         | 7/101 [01:57<25:32, 16.31s/it]"
     ]
    },
    {
     "name": "stdout",
     "output_type": "stream",
     "text": [
      "Data loaded in 1.5338 seconds, processing\n",
      "Bandpass cleaned in 1.6111 seconds.\n",
      "Stamps filtered in 13.8183 seconds\n",
      "Saving results\n",
      "Results aggregated in 0.0379 seconds\n",
      "Processing coarse channels 24-27\n"
     ]
    },
    {
     "name": "stderr",
     "output_type": "stream",
     "text": [
      "  8%|▊         | 8/101 [02:14<25:37, 16.53s/it]"
     ]
    },
    {
     "name": "stdout",
     "output_type": "stream",
     "text": [
      "Data loaded in 0.9133 seconds, processing\n",
      "Bandpass cleaned in 1.6226 seconds.\n",
      "Stamps filtered in 13.6673 seconds\n",
      "Saving results\n",
      "Results aggregated in 0.0365 seconds\n",
      "Processing coarse channels 27-30\n"
     ]
    },
    {
     "name": "stderr",
     "output_type": "stream",
     "text": [
      "  9%|▉         | 9/101 [02:30<25:12, 16.44s/it]"
     ]
    },
    {
     "name": "stdout",
     "output_type": "stream",
     "text": [
      "Data loaded in 1.3221 seconds, processing\n",
      "Bandpass cleaned in 1.6393 seconds.\n",
      "Stamps filtered in 13.7021 seconds\n",
      "Saving results\n",
      "Results aggregated in 0.0377 seconds\n",
      "Processing coarse channels 30-33\n"
     ]
    },
    {
     "name": "stderr",
     "output_type": "stream",
     "text": [
      " 10%|▉         | 10/101 [02:47<25:03, 16.53s/it]"
     ]
    },
    {
     "name": "stdout",
     "output_type": "stream",
     "text": [
      "Data loaded in 1.0081 seconds, processing\n",
      "Bandpass cleaned in 1.6007 seconds.\n",
      "Stamps filtered in 13.5273 seconds\n",
      "Saving results\n",
      "Results aggregated in 0.0366 seconds\n",
      "Processing coarse channels 33-36\n"
     ]
    },
    {
     "name": "stderr",
     "output_type": "stream",
     "text": [
      " 11%|█         | 11/101 [03:03<24:37, 16.42s/it]"
     ]
    },
    {
     "name": "stdout",
     "output_type": "stream",
     "text": [
      "Data loaded in 0.9966 seconds, processing\n",
      "Bandpass cleaned in 1.6481 seconds.\n",
      "Stamps filtered in 13.2326 seconds\n",
      "Saving results\n",
      "Results aggregated in 0.0356 seconds\n",
      "Processing coarse channels 36-39\n"
     ]
    },
    {
     "name": "stderr",
     "output_type": "stream",
     "text": [
      " 12%|█▏        | 12/101 [03:19<24:08, 16.27s/it]"
     ]
    },
    {
     "name": "stdout",
     "output_type": "stream",
     "text": [
      "Data loaded in 1.2678 seconds, processing\n",
      "Bandpass cleaned in 1.5615 seconds.\n",
      "Stamps filtered in 13.5900 seconds\n",
      "Saving results\n",
      "Results aggregated in 0.0381 seconds\n",
      "Processing coarse channels 39-42\n"
     ]
    },
    {
     "name": "stderr",
     "output_type": "stream",
     "text": [
      " 13%|█▎        | 13/101 [03:35<23:57, 16.33s/it]"
     ]
    },
    {
     "name": "stdout",
     "output_type": "stream",
     "text": [
      "Data loaded in 0.7808 seconds, processing\n",
      "Bandpass cleaned in 1.6119 seconds.\n",
      "Stamps filtered in 13.4455 seconds\n",
      "Saving results\n",
      "Results aggregated in 0.0353 seconds\n",
      "Processing coarse channels 42-45\n"
     ]
    },
    {
     "name": "stderr",
     "output_type": "stream",
     "text": [
      " 14%|█▍        | 14/101 [03:51<23:28, 16.19s/it]"
     ]
    },
    {
     "name": "stdout",
     "output_type": "stream",
     "text": [
      "Data loaded in 1.4540 seconds, processing\n",
      "Bandpass cleaned in 1.5478 seconds.\n",
      "Stamps filtered in 13.6516 seconds\n",
      "Saving results\n",
      "Results aggregated in 0.0370 seconds\n",
      "Processing coarse channels 45-48\n"
     ]
    },
    {
     "name": "stderr",
     "output_type": "stream",
     "text": [
      " 15%|█▍        | 15/101 [04:08<23:25, 16.35s/it]"
     ]
    },
    {
     "name": "stdout",
     "output_type": "stream",
     "text": [
      "Data loaded in 0.9148 seconds, processing\n",
      "Bandpass cleaned in 1.6412 seconds.\n",
      "Stamps filtered in 13.2586 seconds\n",
      "Saving results\n",
      "Results aggregated in 0.0373 seconds\n",
      "Processing coarse channels 48-51\n"
     ]
    },
    {
     "name": "stderr",
     "output_type": "stream",
     "text": [
      " 16%|█▌        | 16/101 [04:24<22:57, 16.20s/it]"
     ]
    },
    {
     "name": "stdout",
     "output_type": "stream",
     "text": [
      "Data loaded in 1.0466 seconds, processing\n",
      "Bandpass cleaned in 1.5558 seconds.\n",
      "Stamps filtered in 13.4180 seconds\n",
      "Saving results\n",
      "Results aggregated in 0.0354 seconds\n",
      "Processing coarse channels 51-54\n"
     ]
    },
    {
     "name": "stderr",
     "output_type": "stream",
     "text": [
      " 17%|█▋        | 17/101 [04:40<22:37, 16.16s/it]"
     ]
    },
    {
     "name": "stdout",
     "output_type": "stream",
     "text": [
      "Data loaded in 1.1729 seconds, processing\n",
      "Bandpass cleaned in 1.5903 seconds.\n",
      "Stamps filtered in 13.6845 seconds\n",
      "Saving results\n",
      "Results aggregated in 0.0363 seconds\n",
      "Processing coarse channels 54-57\n"
     ]
    },
    {
     "name": "stderr",
     "output_type": "stream",
     "text": [
      " 18%|█▊        | 18/101 [04:56<22:29, 16.26s/it]"
     ]
    },
    {
     "name": "stdout",
     "output_type": "stream",
     "text": [
      "Data loaded in 0.9413 seconds, processing\n",
      "Bandpass cleaned in 1.6083 seconds.\n",
      "Stamps filtered in 13.7026 seconds\n",
      "Saving results\n",
      "Results aggregated in 0.0400 seconds\n",
      "Processing coarse channels 57-60\n"
     ]
    },
    {
     "name": "stderr",
     "output_type": "stream",
     "text": [
      " 19%|█▉        | 19/101 [05:13<22:14, 16.27s/it]"
     ]
    },
    {
     "name": "stdout",
     "output_type": "stream",
     "text": [
      "Data loaded in 1.3564 seconds, processing\n",
      "Bandpass cleaned in 1.5415 seconds.\n",
      "Stamps filtered in 13.6010 seconds\n",
      "Saving results\n",
      "Results aggregated in 0.0395 seconds\n",
      "Processing coarse channels 60-63\n"
     ]
    },
    {
     "name": "stderr",
     "output_type": "stream",
     "text": [
      " 20%|█▉        | 20/101 [05:29<22:04, 16.36s/it]"
     ]
    },
    {
     "name": "stdout",
     "output_type": "stream",
     "text": [
      "Data loaded in 0.7816 seconds, processing\n",
      "Bandpass cleaned in 1.6008 seconds.\n",
      "Stamps filtered in 13.4307 seconds\n",
      "Saving results\n",
      "Results aggregated in 0.0375 seconds\n",
      "Processing coarse channels 63-66\n"
     ]
    },
    {
     "name": "stderr",
     "output_type": "stream",
     "text": [
      " 21%|██        | 21/101 [05:45<21:36, 16.21s/it]"
     ]
    },
    {
     "name": "stdout",
     "output_type": "stream",
     "text": [
      "Data loaded in 1.3441 seconds, processing\n",
      "Bandpass cleaned in 1.6208 seconds.\n",
      "Stamps filtered in 13.8525 seconds\n",
      "Saving results\n",
      "Results aggregated in 0.0392 seconds\n",
      "Processing coarse channels 66-69\n"
     ]
    },
    {
     "name": "stderr",
     "output_type": "stream",
     "text": [
      " 22%|██▏       | 22/101 [06:02<21:36, 16.41s/it]"
     ]
    },
    {
     "name": "stdout",
     "output_type": "stream",
     "text": [
      "Data loaded in 1.0494 seconds, processing\n",
      "Bandpass cleaned in 1.5887 seconds.\n",
      "Stamps filtered in 13.7020 seconds\n",
      "Saving results\n",
      "Results aggregated in 0.0367 seconds\n",
      "Processing coarse channels 69-72\n"
     ]
    },
    {
     "name": "stderr",
     "output_type": "stream",
     "text": [
      " 23%|██▎       | 23/101 [06:18<21:19, 16.40s/it]"
     ]
    },
    {
     "name": "stdout",
     "output_type": "stream",
     "text": [
      "Data loaded in 0.9938 seconds, processing\n",
      "Bandpass cleaned in 1.5746 seconds.\n",
      "Stamps filtered in 13.8202 seconds\n",
      "Saving results\n",
      "Results aggregated in 0.0390 seconds\n",
      "Processing coarse channels 72-75\n"
     ]
    },
    {
     "name": "stderr",
     "output_type": "stream",
     "text": [
      " 24%|██▍       | 24/101 [06:35<21:03, 16.41s/it]"
     ]
    },
    {
     "name": "stdout",
     "output_type": "stream",
     "text": [
      "Data loaded in 1.3656 seconds, processing\n",
      "Bandpass cleaned in 1.6598 seconds.\n",
      "Stamps filtered in 13.5503 seconds\n",
      "Saving results\n",
      "Results aggregated in 0.0508 seconds\n",
      "Processing coarse channels 75-78\n"
     ]
    },
    {
     "name": "stderr",
     "output_type": "stream",
     "text": [
      " 25%|██▍       | 25/101 [06:52<20:52, 16.48s/it]"
     ]
    },
    {
     "name": "stdout",
     "output_type": "stream",
     "text": [
      "Data loaded in 0.8747 seconds, processing\n",
      "Bandpass cleaned in 1.5963 seconds.\n",
      "Stamps filtered in 13.8017 seconds\n",
      "Saving results\n",
      "Results aggregated in 0.0637 seconds\n",
      "Processing coarse channels 78-81\n"
     ]
    },
    {
     "name": "stderr",
     "output_type": "stream",
     "text": [
      " 26%|██▌       | 26/101 [07:08<20:33, 16.44s/it]"
     ]
    },
    {
     "name": "stdout",
     "output_type": "stream",
     "text": [
      "Data loaded in 1.2126 seconds, processing\n",
      "Bandpass cleaned in 1.7421 seconds.\n",
      "Stamps filtered in 13.4422 seconds\n",
      "Saving results\n",
      "Results aggregated in 0.1531 seconds\n",
      "Processing coarse channels 81-84\n"
     ]
    },
    {
     "name": "stderr",
     "output_type": "stream",
     "text": [
      " 27%|██▋       | 27/101 [07:24<20:19, 16.48s/it]"
     ]
    },
    {
     "name": "stdout",
     "output_type": "stream",
     "text": [
      "Data loaded in 0.9766 seconds, processing\n",
      "Bandpass cleaned in 1.6388 seconds.\n",
      "Stamps filtered in 13.9144 seconds\n",
      "Saving results\n",
      "Results aggregated in 0.1157 seconds\n",
      "Processing coarse channels 84-87\n"
     ]
    },
    {
     "name": "stderr",
     "output_type": "stream",
     "text": [
      " 28%|██▊       | 28/101 [07:41<20:06, 16.53s/it]"
     ]
    },
    {
     "name": "stdout",
     "output_type": "stream",
     "text": [
      "Data loaded in 1.1992 seconds, processing\n",
      "Bandpass cleaned in 1.5829 seconds.\n",
      "Stamps filtered in 13.7523 seconds\n",
      "Saving results\n",
      "Results aggregated in 0.0811 seconds\n",
      "Processing coarse channels 87-90\n"
     ]
    },
    {
     "name": "stderr",
     "output_type": "stream",
     "text": [
      " 29%|██▊       | 29/101 [07:58<19:52, 16.56s/it]"
     ]
    },
    {
     "name": "stdout",
     "output_type": "stream",
     "text": [
      "Data loaded in 1.1877 seconds, processing\n",
      "Bandpass cleaned in 1.6789 seconds.\n",
      "Stamps filtered in 13.5114 seconds\n",
      "Saving results\n",
      "Results aggregated in 0.0355 seconds\n",
      "Processing coarse channels 90-93\n"
     ]
    },
    {
     "name": "stderr",
     "output_type": "stream",
     "text": [
      " 30%|██▉       | 30/101 [08:14<19:32, 16.52s/it]"
     ]
    },
    {
     "name": "stdout",
     "output_type": "stream",
     "text": [
      "Data loaded in 0.8438 seconds, processing\n",
      "Bandpass cleaned in 1.6361 seconds.\n",
      "Stamps filtered in 13.6705 seconds\n",
      "Saving results\n",
      "Results aggregated in 0.0436 seconds\n",
      "Processing coarse channels 93-96\n"
     ]
    },
    {
     "name": "stderr",
     "output_type": "stream",
     "text": [
      " 31%|███       | 31/101 [08:30<19:09, 16.42s/it]"
     ]
    },
    {
     "name": "stdout",
     "output_type": "stream",
     "text": [
      "Data loaded in 1.3584 seconds, processing\n",
      "Bandpass cleaned in 1.6193 seconds.\n",
      "Stamps filtered in 13.4761 seconds\n",
      "Saving results\n",
      "Results aggregated in 0.0386 seconds\n",
      "Processing coarse channels 96-99\n"
     ]
    },
    {
     "name": "stderr",
     "output_type": "stream",
     "text": [
      " 32%|███▏      | 32/101 [08:47<18:54, 16.45s/it]"
     ]
    },
    {
     "name": "stdout",
     "output_type": "stream",
     "text": [
      "Data loaded in 1.0694 seconds, processing\n",
      "Bandpass cleaned in 1.5697 seconds.\n",
      "Stamps filtered in 13.5279 seconds\n",
      "Saving results\n",
      "Results aggregated in 0.0388 seconds\n",
      "Processing coarse channels 99-102\n"
     ]
    },
    {
     "name": "stderr",
     "output_type": "stream",
     "text": [
      " 33%|███▎      | 33/101 [09:03<18:33, 16.38s/it]"
     ]
    },
    {
     "name": "stdout",
     "output_type": "stream",
     "text": [
      "Data loaded in 1.2265 seconds, processing\n",
      "Bandpass cleaned in 1.5667 seconds.\n",
      "Stamps filtered in 13.2278 seconds\n",
      "Saving results\n"
     ]
    },
    {
     "name": "stderr",
     "output_type": "stream",
     "text": [
      " 34%|███▎      | 34/101 [09:20<18:37, 16.68s/it]"
     ]
    },
    {
     "name": "stdout",
     "output_type": "stream",
     "text": [
      "Results aggregated in 1.3518 seconds\n",
      "Processing coarse channels 102-105\n",
      "Data loaded in 1.1898 seconds, processing\n",
      "Bandpass cleaned in 1.6676 seconds.\n",
      "Stamps filtered in 13.8485 seconds\n",
      "Saving results\n"
     ]
    },
    {
     "name": "stderr",
     "output_type": "stream",
     "text": [
      " 35%|███▍      | 35/101 [09:39<19:00, 17.28s/it]"
     ]
    },
    {
     "name": "stdout",
     "output_type": "stream",
     "text": [
      "Results aggregated in 1.9388 seconds\n",
      "Processing coarse channels 105-108\n",
      "Data loaded in 1.0319 seconds, processing\n",
      "Bandpass cleaned in 1.8565 seconds.\n",
      "Stamps filtered in 13.7604 seconds\n",
      "Saving results\n",
      "Results aggregated in 0.1585 seconds\n",
      "Processing coarse channels 108-111\n"
     ]
    },
    {
     "name": "stderr",
     "output_type": "stream",
     "text": [
      " 36%|███▌      | 36/101 [09:56<18:34, 17.14s/it]"
     ]
    },
    {
     "name": "stdout",
     "output_type": "stream",
     "text": [
      "Data loaded in 1.3881 seconds, processing\n",
      "Bandpass cleaned in 1.7730 seconds.\n",
      "Stamps filtered in 13.8671 seconds\n",
      "Saving results\n"
     ]
    },
    {
     "name": "stderr",
     "output_type": "stream",
     "text": [
      " 37%|███▋      | 37/101 [10:14<18:41, 17.52s/it]"
     ]
    },
    {
     "name": "stdout",
     "output_type": "stream",
     "text": [
      "Results aggregated in 1.3339 seconds\n",
      "Processing coarse channels 111-114\n",
      "Data loaded in 1.0446 seconds, processing\n",
      "Bandpass cleaned in 1.9453 seconds.\n",
      "Stamps filtered in 13.8413 seconds\n",
      "Saving results\n",
      "Results aggregated in 0.1923 seconds\n",
      "Processing coarse channels 114-117\n"
     ]
    },
    {
     "name": "stderr",
     "output_type": "stream",
     "text": [
      " 38%|███▊      | 38/101 [10:31<18:14, 17.37s/it]"
     ]
    },
    {
     "name": "stdout",
     "output_type": "stream",
     "text": [
      "Data loaded in 1.1833 seconds, processing\n",
      "Bandpass cleaned in 1.6507 seconds.\n",
      "Stamps filtered in 13.7927 seconds\n",
      "Saving results\n",
      "Results aggregated in 0.0715 seconds\n",
      "Processing coarse channels 117-120\n"
     ]
    },
    {
     "name": "stderr",
     "output_type": "stream",
     "text": [
      " 39%|███▊      | 39/101 [10:48<17:44, 17.18s/it]"
     ]
    },
    {
     "name": "stdout",
     "output_type": "stream",
     "text": [
      "Data loaded in 1.4093 seconds, processing\n",
      "Bandpass cleaned in 1.6548 seconds.\n",
      "Stamps filtered in 13.9475 seconds\n",
      "Saving results\n"
     ]
    },
    {
     "name": "stderr",
     "output_type": "stream",
     "text": [
      " 40%|███▉      | 40/101 [11:07<17:51, 17.56s/it]"
     ]
    },
    {
     "name": "stdout",
     "output_type": "stream",
     "text": [
      "Results aggregated in 1.4093 seconds\n",
      "Processing coarse channels 120-123\n",
      "Data loaded in 0.9938 seconds, processing\n",
      "Bandpass cleaned in 1.6153 seconds.\n",
      "Stamps filtered in 13.9357 seconds\n",
      "Saving results\n",
      "Results aggregated in 0.1114 seconds\n",
      "Processing coarse channels 123-126\n"
     ]
    },
    {
     "name": "stderr",
     "output_type": "stream",
     "text": [
      " 41%|████      | 41/101 [11:23<17:17, 17.29s/it]"
     ]
    },
    {
     "name": "stdout",
     "output_type": "stream",
     "text": [
      "Data loaded in 1.3346 seconds, processing\n",
      "Bandpass cleaned in 1.6510 seconds.\n",
      "Stamps filtered in 13.7049 seconds\n",
      "Saving results\n"
     ]
    },
    {
     "name": "stderr",
     "output_type": "stream",
     "text": [
      " 42%|████▏     | 42/101 [11:41<17:08, 17.43s/it]"
     ]
    },
    {
     "name": "stdout",
     "output_type": "stream",
     "text": [
      "Results aggregated in 1.0272 seconds\n",
      "Processing coarse channels 126-129\n",
      "Data loaded in 1.0550 seconds, processing\n",
      "Bandpass cleaned in 1.8920 seconds.\n",
      "Stamps filtered in 13.7116 seconds\n",
      "Saving results\n"
     ]
    },
    {
     "name": "stderr",
     "output_type": "stream",
     "text": [
      " 43%|████▎     | 43/101 [11:59<16:56, 17.53s/it]"
     ]
    },
    {
     "name": "stdout",
     "output_type": "stream",
     "text": [
      "Results aggregated in 1.0935 seconds\n",
      "Processing coarse channels 129-132\n",
      "Data loaded in 1.4303 seconds, processing\n",
      "Bandpass cleaned in 1.7106 seconds.\n",
      "Stamps filtered in 13.6658 seconds\n",
      "Saving results\n"
     ]
    },
    {
     "name": "stderr",
     "output_type": "stream",
     "text": [
      " 44%|████▎     | 44/101 [12:17<16:43, 17.61s/it]"
     ]
    },
    {
     "name": "stdout",
     "output_type": "stream",
     "text": [
      "Results aggregated in 0.9804 seconds\n",
      "Processing coarse channels 132-135\n",
      "Data loaded in 1.3196 seconds, processing\n",
      "Bandpass cleaned in 1.7560 seconds.\n",
      "Stamps filtered in 13.9527 seconds\n",
      "Saving results\n"
     ]
    },
    {
     "name": "stderr",
     "output_type": "stream",
     "text": [
      " 45%|████▍     | 45/101 [12:35<16:33, 17.75s/it]"
     ]
    },
    {
     "name": "stdout",
     "output_type": "stream",
     "text": [
      "Results aggregated in 1.0218 seconds\n",
      "Processing coarse channels 135-138\n",
      "Data loaded in 1.0030 seconds, processing\n",
      "Bandpass cleaned in 1.7497 seconds.\n",
      "Stamps filtered in 13.6412 seconds\n",
      "Saving results\n",
      "Results aggregated in 0.1073 seconds\n",
      "Processing coarse channels 138-141\n"
     ]
    },
    {
     "name": "stderr",
     "output_type": "stream",
     "text": [
      " 46%|████▌     | 46/101 [12:51<15:55, 17.38s/it]"
     ]
    },
    {
     "name": "stdout",
     "output_type": "stream",
     "text": [
      "Data loaded in 1.5731 seconds, processing\n",
      "Bandpass cleaned in 1.6714 seconds.\n",
      "Stamps filtered in 13.7569 seconds\n",
      "Saving results\n",
      "Results aggregated in 0.0600 seconds\n",
      "Processing coarse channels 141-144\n"
     ]
    },
    {
     "name": "stderr",
     "output_type": "stream",
     "text": [
      " 47%|████▋     | 47/101 [13:08<15:33, 17.29s/it]"
     ]
    },
    {
     "name": "stdout",
     "output_type": "stream",
     "text": [
      "Data loaded in 1.2820 seconds, processing\n",
      "Bandpass cleaned in 1.6937 seconds.\n",
      "Stamps filtered in 13.8366 seconds\n",
      "Saving results\n",
      "Results aggregated in 0.0609 seconds\n",
      "Processing coarse channels 144-147\n"
     ]
    },
    {
     "name": "stderr",
     "output_type": "stream",
     "text": [
      " 48%|████▊     | 48/101 [13:25<15:09, 17.16s/it]"
     ]
    },
    {
     "name": "stdout",
     "output_type": "stream",
     "text": [
      "Data loaded in 1.0870 seconds, processing\n",
      "Bandpass cleaned in 1.5896 seconds.\n",
      "Stamps filtered in 13.1823 seconds\n",
      "Saving results\n",
      "Results aggregated in 0.0586 seconds\n",
      "Processing coarse channels 147-150\n"
     ]
    },
    {
     "name": "stderr",
     "output_type": "stream",
     "text": [
      " 49%|████▊     | 49/101 [13:41<14:33, 16.79s/it]"
     ]
    },
    {
     "name": "stdout",
     "output_type": "stream",
     "text": [
      "Data loaded in 1.2496 seconds, processing\n",
      "Bandpass cleaned in 1.5593 seconds.\n",
      "Stamps filtered in 13.7329 seconds\n",
      "Saving results\n",
      "Results aggregated in 0.0605 seconds\n",
      "Processing coarse channels 150-153\n"
     ]
    },
    {
     "name": "stderr",
     "output_type": "stream",
     "text": [
      " 50%|████▉     | 50/101 [13:58<14:13, 16.74s/it]"
     ]
    },
    {
     "name": "stdout",
     "output_type": "stream",
     "text": [
      "Data loaded in 1.0775 seconds, processing\n",
      "Bandpass cleaned in 1.6596 seconds.\n",
      "Stamps filtered in 13.6026 seconds\n",
      "Saving results\n",
      "Results aggregated in 0.0526 seconds\n",
      "Processing coarse channels 153-156\n"
     ]
    },
    {
     "name": "stderr",
     "output_type": "stream",
     "text": [
      " 50%|█████     | 51/101 [14:14<13:51, 16.64s/it]"
     ]
    },
    {
     "name": "stdout",
     "output_type": "stream",
     "text": [
      "Data loaded in 1.2648 seconds, processing\n",
      "Bandpass cleaned in 1.6757 seconds.\n",
      "Stamps filtered in 13.7345 seconds\n",
      "Saving results\n",
      "Results aggregated in 0.0590 seconds\n",
      "Processing coarse channels 156-159\n"
     ]
    },
    {
     "name": "stderr",
     "output_type": "stream",
     "text": [
      " 51%|█████▏    | 52/101 [14:31<13:36, 16.67s/it]"
     ]
    },
    {
     "name": "stdout",
     "output_type": "stream",
     "text": [
      "Data loaded in 1.3004 seconds, processing\n",
      "Bandpass cleaned in 1.7676 seconds.\n",
      "Stamps filtered in 13.8100 seconds\n",
      "Saving results\n",
      "Results aggregated in 0.0521 seconds\n",
      "Processing coarse channels 159-162\n"
     ]
    },
    {
     "name": "stderr",
     "output_type": "stream",
     "text": [
      " 52%|█████▏    | 53/101 [14:48<13:23, 16.75s/it]"
     ]
    },
    {
     "name": "stdout",
     "output_type": "stream",
     "text": [
      "Data loaded in 1.0963 seconds, processing\n",
      "Bandpass cleaned in 1.6397 seconds.\n",
      "Stamps filtered in 13.6842 seconds\n",
      "Saving results\n",
      "Results aggregated in 0.0576 seconds\n",
      "Processing coarse channels 162-165\n"
     ]
    },
    {
     "name": "stderr",
     "output_type": "stream",
     "text": [
      " 53%|█████▎    | 54/101 [15:04<13:03, 16.67s/it]"
     ]
    },
    {
     "name": "stdout",
     "output_type": "stream",
     "text": [
      "Data loaded in 1.1515 seconds, processing\n",
      "Bandpass cleaned in 1.6500 seconds.\n",
      "Stamps filtered in 13.2864 seconds\n",
      "Saving results\n",
      "Results aggregated in 0.0628 seconds\n",
      "Processing coarse channels 165-168\n"
     ]
    },
    {
     "name": "stderr",
     "output_type": "stream",
     "text": [
      " 54%|█████▍    | 55/101 [15:20<12:39, 16.52s/it]"
     ]
    },
    {
     "name": "stdout",
     "output_type": "stream",
     "text": [
      "Data loaded in 0.8658 seconds, processing\n",
      "Bandpass cleaned in 1.5953 seconds.\n",
      "Stamps filtered in 13.8124 seconds\n",
      "Saving results\n",
      "Results aggregated in 0.0510 seconds\n",
      "Processing coarse channels 168-171\n"
     ]
    },
    {
     "name": "stderr",
     "output_type": "stream",
     "text": [
      " 55%|█████▌    | 56/101 [15:37<12:20, 16.46s/it]"
     ]
    },
    {
     "name": "stdout",
     "output_type": "stream",
     "text": [
      "Data loaded in 1.2732 seconds, processing\n",
      "Bandpass cleaned in 1.5588 seconds.\n",
      "Stamps filtered in 13.9241 seconds\n",
      "Saving results\n",
      "Results aggregated in 0.0603 seconds\n",
      "Processing coarse channels 171-174\n"
     ]
    },
    {
     "name": "stderr",
     "output_type": "stream",
     "text": [
      " 56%|█████▋    | 57/101 [15:53<12:09, 16.57s/it]"
     ]
    },
    {
     "name": "stdout",
     "output_type": "stream",
     "text": [
      "Data loaded in 1.3433 seconds, processing\n",
      "Bandpass cleaned in 1.6654 seconds.\n",
      "Stamps filtered in 13.8612 seconds\n",
      "Saving results\n",
      "Results aggregated in 0.0517 seconds\n",
      "Processing coarse channels 174-177\n"
     ]
    },
    {
     "name": "stderr",
     "output_type": "stream",
     "text": [
      " 57%|█████▋    | 58/101 [16:10<11:57, 16.68s/it]"
     ]
    },
    {
     "name": "stdout",
     "output_type": "stream",
     "text": [
      "Data loaded in 1.0763 seconds, processing\n",
      "Bandpass cleaned in 1.5870 seconds.\n",
      "Stamps filtered in 13.4535 seconds\n",
      "Saving results\n",
      "Results aggregated in 0.0585 seconds\n",
      "Processing coarse channels 177-180\n"
     ]
    },
    {
     "name": "stderr",
     "output_type": "stream",
     "text": [
      " 58%|█████▊    | 59/101 [16:27<11:34, 16.53s/it]"
     ]
    },
    {
     "name": "stdout",
     "output_type": "stream",
     "text": [
      "Data loaded in 0.9424 seconds, processing\n",
      "Bandpass cleaned in 1.6202 seconds.\n",
      "Stamps filtered in 13.8249 seconds\n",
      "Saving results\n",
      "Results aggregated in 0.0548 seconds\n",
      "Processing coarse channels 180-183\n"
     ]
    },
    {
     "name": "stderr",
     "output_type": "stream",
     "text": [
      " 59%|█████▉    | 60/101 [16:43<11:16, 16.50s/it]"
     ]
    },
    {
     "name": "stdout",
     "output_type": "stream",
     "text": [
      "Data loaded in 0.8682 seconds, processing\n",
      "Bandpass cleaned in 1.6080 seconds.\n",
      "Stamps filtered in 13.6438 seconds\n",
      "Saving results\n",
      "Results aggregated in 0.1388 seconds\n",
      "Processing coarse channels 183-186\n"
     ]
    },
    {
     "name": "stderr",
     "output_type": "stream",
     "text": [
      " 60%|██████    | 61/101 [16:59<10:57, 16.43s/it]"
     ]
    },
    {
     "name": "stdout",
     "output_type": "stream",
     "text": [
      "Data loaded in 1.3610 seconds, processing\n",
      "Bandpass cleaned in 1.7569 seconds.\n",
      "Stamps filtered in 13.4052 seconds\n",
      "Saving results\n"
     ]
    },
    {
     "name": "stderr",
     "output_type": "stream",
     "text": [
      " 61%|██████▏   | 62/101 [17:17<10:55, 16.82s/it]"
     ]
    },
    {
     "name": "stdout",
     "output_type": "stream",
     "text": [
      "Results aggregated in 1.1791 seconds\n",
      "Processing coarse channels 186-189\n",
      "Data loaded in 1.2084 seconds, processing\n",
      "Bandpass cleaned in 2.4799 seconds.\n",
      "Stamps filtered in 14.1102 seconds\n",
      "Saving results\n",
      "Results aggregated in 0.0935 seconds\n",
      "Processing coarse channels 189-192\n"
     ]
    },
    {
     "name": "stderr",
     "output_type": "stream",
     "text": [
      " 62%|██████▏   | 63/101 [17:35<10:51, 17.14s/it]"
     ]
    },
    {
     "name": "stdout",
     "output_type": "stream",
     "text": [
      "Data loaded in 1.0445 seconds, processing\n",
      "Bandpass cleaned in 1.5747 seconds.\n",
      "Stamps filtered in 13.7817 seconds\n",
      "Saving results\n",
      "Results aggregated in 0.0546 seconds\n",
      "Processing coarse channels 192-195\n"
     ]
    },
    {
     "name": "stderr",
     "output_type": "stream",
     "text": [
      " 63%|██████▎   | 64/101 [17:51<10:26, 16.94s/it]"
     ]
    },
    {
     "name": "stdout",
     "output_type": "stream",
     "text": [
      "Data loaded in 1.1415 seconds, processing\n",
      "Bandpass cleaned in 1.5992 seconds.\n",
      "Stamps filtered in 13.4686 seconds\n",
      "Saving results\n",
      "Results aggregated in 0.0594 seconds\n",
      "Processing coarse channels 195-198\n"
     ]
    },
    {
     "name": "stderr",
     "output_type": "stream",
     "text": [
      " 64%|██████▍   | 65/101 [18:08<10:02, 16.74s/it]"
     ]
    },
    {
     "name": "stdout",
     "output_type": "stream",
     "text": [
      "Data loaded in 0.9442 seconds, processing\n",
      "Bandpass cleaned in 1.6674 seconds.\n",
      "Stamps filtered in 13.6231 seconds\n",
      "Saving results\n",
      "Results aggregated in 0.0683 seconds\n",
      "Processing coarse channels 198-201\n"
     ]
    },
    {
     "name": "stderr",
     "output_type": "stream",
     "text": [
      " 65%|██████▌   | 66/101 [18:24<09:41, 16.61s/it]"
     ]
    },
    {
     "name": "stdout",
     "output_type": "stream",
     "text": [
      "Data loaded in 1.3198 seconds, processing\n",
      "Bandpass cleaned in 1.9635 seconds.\n",
      "Stamps filtered in 13.4092 seconds\n",
      "Saving results\n",
      "Results aggregated in 0.0582 seconds\n",
      "Processing coarse channels 201-204\n"
     ]
    },
    {
     "name": "stderr",
     "output_type": "stream",
     "text": [
      " 66%|██████▋   | 67/101 [18:41<09:26, 16.65s/it]"
     ]
    },
    {
     "name": "stdout",
     "output_type": "stream",
     "text": [
      "Data loaded in 1.8172 seconds, processing\n",
      "Bandpass cleaned in 1.8634 seconds.\n",
      "Stamps filtered in 13.6157 seconds\n",
      "Saving results\n",
      "Results aggregated in 0.0558 seconds\n",
      "Processing coarse channels 204-207\n"
     ]
    },
    {
     "name": "stderr",
     "output_type": "stream",
     "text": [
      " 67%|██████▋   | 68/101 [18:58<09:16, 16.87s/it]"
     ]
    },
    {
     "name": "stdout",
     "output_type": "stream",
     "text": [
      "Data loaded in 0.8610 seconds, processing\n",
      "Bandpass cleaned in 1.6820 seconds.\n",
      "Stamps filtered in 13.3662 seconds\n",
      "Saving results\n",
      "Results aggregated in 0.1023 seconds\n",
      "Processing coarse channels 207-210\n"
     ]
    },
    {
     "name": "stderr",
     "output_type": "stream",
     "text": [
      " 68%|██████▊   | 69/101 [19:14<08:51, 16.61s/it]"
     ]
    },
    {
     "name": "stdout",
     "output_type": "stream",
     "text": [
      "Data loaded in 1.3157 seconds, processing\n",
      "Bandpass cleaned in 1.8442 seconds.\n",
      "Stamps filtered in 13.3281 seconds\n",
      "Saving results\n"
     ]
    },
    {
     "name": "stderr",
     "output_type": "stream",
     "text": [
      " 69%|██████▉   | 70/101 [19:32<08:42, 16.87s/it]"
     ]
    },
    {
     "name": "stdout",
     "output_type": "stream",
     "text": [
      "Results aggregated in 0.9573 seconds\n",
      "Processing coarse channels 210-213\n",
      "Data loaded in 1.1634 seconds, processing\n",
      "Bandpass cleaned in 1.8463 seconds.\n",
      "Stamps filtered in 13.8166 seconds\n",
      "Saving results\n"
     ]
    },
    {
     "name": "stderr",
     "output_type": "stream",
     "text": [
      " 70%|███████   | 71/101 [19:50<08:38, 17.27s/it]"
     ]
    },
    {
     "name": "stdout",
     "output_type": "stream",
     "text": [
      "Results aggregated in 1.3703 seconds\n",
      "Processing coarse channels 213-216\n",
      "Data loaded in 1.4358 seconds, processing\n",
      "Bandpass cleaned in 1.8830 seconds.\n",
      "Stamps filtered in 13.6593 seconds\n",
      "Saving results\n"
     ]
    },
    {
     "name": "stderr",
     "output_type": "stream",
     "text": [
      " 71%|███████▏  | 72/101 [20:10<08:42, 18.03s/it]"
     ]
    },
    {
     "name": "stdout",
     "output_type": "stream",
     "text": [
      "Results aggregated in 2.7782 seconds\n",
      "Processing coarse channels 216-219\n",
      "Data loaded in 1.2537 seconds, processing\n",
      "Bandpass cleaned in 2.5194 seconds.\n",
      "Stamps filtered in 13.9306 seconds\n",
      "Saving results\n"
     ]
    },
    {
     "name": "stderr",
     "output_type": "stream",
     "text": [
      " 72%|███████▏  | 73/101 [20:31<08:55, 19.12s/it]"
     ]
    },
    {
     "name": "stdout",
     "output_type": "stream",
     "text": [
      "Results aggregated in 3.9429 seconds\n",
      "Processing coarse channels 219-222\n",
      "Data loaded in 1.0141 seconds, processing\n",
      "Bandpass cleaned in 2.1360 seconds.\n",
      "Stamps filtered in 13.6206 seconds\n",
      "Saving results\n"
     ]
    },
    {
     "name": "stderr",
     "output_type": "stream",
     "text": [
      " 73%|███████▎  | 74/101 [20:48<08:20, 18.52s/it]"
     ]
    },
    {
     "name": "stdout",
     "output_type": "stream",
     "text": [
      "Results aggregated in 0.3437 seconds\n",
      "Processing coarse channels 222-225\n",
      "Data loaded in 1.2716 seconds, processing\n",
      "Bandpass cleaned in 1.7680 seconds.\n",
      "Stamps filtered in 13.6027 seconds\n",
      "Saving results\n"
     ]
    },
    {
     "name": "stderr",
     "output_type": "stream",
     "text": [
      " 74%|███████▍  | 75/101 [21:06<07:52, 18.18s/it]"
     ]
    },
    {
     "name": "stdout",
     "output_type": "stream",
     "text": [
      "Results aggregated in 0.7367 seconds\n",
      "Processing coarse channels 225-228\n",
      "Data loaded in 1.0325 seconds, processing\n",
      "Bandpass cleaned in 1.8498 seconds.\n",
      "Stamps filtered in 13.7277 seconds\n",
      "Saving results\n"
     ]
    },
    {
     "name": "stderr",
     "output_type": "stream",
     "text": [
      " 75%|███████▌  | 76/101 [21:25<07:42, 18.49s/it]"
     ]
    },
    {
     "name": "stdout",
     "output_type": "stream",
     "text": [
      "Results aggregated in 2.5696 seconds\n",
      "Processing coarse channels 228-231\n",
      "Data loaded in 1.4742 seconds, processing\n",
      "Bandpass cleaned in 2.8422 seconds.\n",
      "Stamps filtered in 14.1092 seconds\n",
      "Saving results\n"
     ]
    },
    {
     "name": "stderr",
     "output_type": "stream",
     "text": [
      " 76%|███████▌  | 77/101 [21:46<07:41, 19.23s/it]"
     ]
    },
    {
     "name": "stdout",
     "output_type": "stream",
     "text": [
      "Results aggregated in 2.5027 seconds\n",
      "Processing coarse channels 231-234\n",
      "Data loaded in 1.1911 seconds, processing\n",
      "Bandpass cleaned in 2.1118 seconds.\n",
      "Stamps filtered in 13.9116 seconds\n",
      "Saving results\n"
     ]
    },
    {
     "name": "stderr",
     "output_type": "stream",
     "text": [
      " 77%|███████▋  | 78/101 [22:04<07:14, 18.88s/it]"
     ]
    },
    {
     "name": "stdout",
     "output_type": "stream",
     "text": [
      "Results aggregated in 0.8211 seconds\n",
      "Processing coarse channels 234-237\n",
      "Data loaded in 0.9905 seconds, processing\n",
      "Bandpass cleaned in 1.9151 seconds.\n",
      "Stamps filtered in 13.7327 seconds\n",
      "Saving results\n"
     ]
    },
    {
     "name": "stderr",
     "output_type": "stream",
     "text": [
      " 78%|███████▊  | 79/101 [22:21<06:41, 18.27s/it]"
     ]
    },
    {
     "name": "stdout",
     "output_type": "stream",
     "text": [
      "Results aggregated in 0.2022 seconds\n",
      "Processing coarse channels 237-240\n",
      "Data loaded in 1.2335 seconds, processing\n",
      "Bandpass cleaned in 1.7670 seconds.\n",
      "Stamps filtered in 13.8538 seconds\n",
      "Saving results\n"
     ]
    },
    {
     "name": "stderr",
     "output_type": "stream",
     "text": [
      " 79%|███████▉  | 80/101 [22:38<06:16, 17.94s/it]"
     ]
    },
    {
     "name": "stdout",
     "output_type": "stream",
     "text": [
      "Results aggregated in 0.2922 seconds\n",
      "Processing coarse channels 240-243\n",
      "Data loaded in 1.1876 seconds, processing\n",
      "Bandpass cleaned in 1.8345 seconds.\n",
      "Stamps filtered in 13.7000 seconds\n",
      "Saving results\n"
     ]
    },
    {
     "name": "stderr",
     "output_type": "stream",
     "text": [
      " 80%|████████  | 81/101 [22:59<06:14, 18.71s/it]"
     ]
    },
    {
     "name": "stdout",
     "output_type": "stream",
     "text": [
      "Results aggregated in 3.7429 seconds\n",
      "Processing coarse channels 243-246\n",
      "Data loaded in 1.4802 seconds, processing\n",
      "Bandpass cleaned in 1.9441 seconds.\n",
      "Stamps filtered in 13.7625 seconds\n",
      "Saving results\n"
     ]
    },
    {
     "name": "stderr",
     "output_type": "stream",
     "text": [
      " 81%|████████  | 82/101 [23:17<05:51, 18.52s/it]"
     ]
    },
    {
     "name": "stdout",
     "output_type": "stream",
     "text": [
      "Results aggregated in 0.8949 seconds\n",
      "Processing coarse channels 246-249\n",
      "Data loaded in 1.2737 seconds, processing\n",
      "Bandpass cleaned in 1.8170 seconds.\n",
      "Stamps filtered in 13.6631 seconds\n",
      "Saving results\n",
      "Results aggregated in 0.1350 seconds\n",
      "Processing coarse channels 249-252\n"
     ]
    },
    {
     "name": "stderr",
     "output_type": "stream",
     "text": [
      " 82%|████████▏ | 83/101 [23:34<05:24, 18.04s/it]"
     ]
    },
    {
     "name": "stdout",
     "output_type": "stream",
     "text": [
      "Data loaded in 1.2137 seconds, processing\n",
      "Bandpass cleaned in 1.7860 seconds.\n",
      "Stamps filtered in 14.0643 seconds\n",
      "Saving results\n"
     ]
    },
    {
     "name": "stderr",
     "output_type": "stream",
     "text": [
      " 83%|████████▎ | 84/101 [23:52<05:08, 18.14s/it]"
     ]
    },
    {
     "name": "stdout",
     "output_type": "stream",
     "text": [
      "Results aggregated in 1.3045 seconds\n",
      "Processing coarse channels 252-255\n",
      "Data loaded in 1.2457 seconds, processing\n",
      "Bandpass cleaned in 2.1813 seconds.\n",
      "Stamps filtered in 13.5945 seconds\n",
      "Saving results\n"
     ]
    },
    {
     "name": "stderr",
     "output_type": "stream",
     "text": [
      " 84%|████████▍ | 85/101 [24:12<04:58, 18.63s/it]"
     ]
    },
    {
     "name": "stdout",
     "output_type": "stream",
     "text": [
      "Results aggregated in 2.7293 seconds\n",
      "Processing coarse channels 255-258\n",
      "Data loaded in 1.2237 seconds, processing\n",
      "Bandpass cleaned in 2.4596 seconds.\n",
      "Stamps filtered in 13.8718 seconds\n",
      "Saving results\n",
      "Results aggregated in 0.1563 seconds\n",
      "Processing coarse channels 258-261\n"
     ]
    },
    {
     "name": "stderr",
     "output_type": "stream",
     "text": [
      " 85%|████████▌ | 86/101 [24:29<04:35, 18.36s/it]"
     ]
    },
    {
     "name": "stdout",
     "output_type": "stream",
     "text": [
      "Data loaded in 1.0188 seconds, processing\n",
      "Bandpass cleaned in 1.7296 seconds.\n",
      "Stamps filtered in 13.6885 seconds\n",
      "Saving results\n",
      "Results aggregated in 0.1131 seconds\n",
      "Processing coarse channels 261-264\n"
     ]
    },
    {
     "name": "stderr",
     "output_type": "stream",
     "text": [
      " 86%|████████▌ | 87/101 [24:46<04:09, 17.82s/it]"
     ]
    },
    {
     "name": "stdout",
     "output_type": "stream",
     "text": [
      "Data loaded in 1.0603 seconds, processing\n",
      "Bandpass cleaned in 1.8323 seconds.\n",
      "Stamps filtered in 13.7274 seconds\n",
      "Saving results\n",
      "Results aggregated in 0.1367 seconds\n",
      "Processing coarse channels 264-267\n"
     ]
    },
    {
     "name": "stderr",
     "output_type": "stream",
     "text": [
      " 87%|████████▋ | 88/101 [25:03<03:47, 17.50s/it]"
     ]
    },
    {
     "name": "stdout",
     "output_type": "stream",
     "text": [
      "Data loaded in 1.2977 seconds, processing\n",
      "Bandpass cleaned in 1.8568 seconds.\n",
      "Stamps filtered in 13.5064 seconds\n",
      "Saving results\n",
      "Results aggregated in 0.1165 seconds\n",
      "Processing coarse channels 267-270\n"
     ]
    },
    {
     "name": "stderr",
     "output_type": "stream",
     "text": [
      " 88%|████████▊ | 89/101 [25:19<03:27, 17.29s/it]"
     ]
    },
    {
     "name": "stdout",
     "output_type": "stream",
     "text": [
      "Data loaded in 1.1818 seconds, processing\n",
      "Bandpass cleaned in 1.8588 seconds.\n",
      "Stamps filtered in 13.6434 seconds\n",
      "Saving results\n",
      "Results aggregated in 0.1095 seconds\n",
      "Processing coarse channels 270-273\n"
     ]
    },
    {
     "name": "stderr",
     "output_type": "stream",
     "text": [
      " 89%|████████▉ | 90/101 [25:36<03:08, 17.14s/it]"
     ]
    },
    {
     "name": "stdout",
     "output_type": "stream",
     "text": [
      "Data loaded in 1.2396 seconds, processing\n",
      "Bandpass cleaned in 1.8611 seconds.\n",
      "Stamps filtered in 13.7094 seconds\n",
      "Saving results\n",
      "Results aggregated in 0.1108 seconds\n",
      "Processing coarse channels 273-276\n"
     ]
    },
    {
     "name": "stderr",
     "output_type": "stream",
     "text": [
      " 90%|█████████ | 91/101 [25:53<02:50, 17.08s/it]"
     ]
    },
    {
     "name": "stdout",
     "output_type": "stream",
     "text": [
      "Data loaded in 1.2291 seconds, processing\n",
      "Bandpass cleaned in 1.8366 seconds.\n",
      "Stamps filtered in 13.4317 seconds\n",
      "Saving results\n",
      "Results aggregated in 0.1230 seconds\n",
      "Processing coarse channels 276-279\n"
     ]
    },
    {
     "name": "stderr",
     "output_type": "stream",
     "text": [
      " 91%|█████████ | 92/101 [26:10<02:32, 16.94s/it]"
     ]
    },
    {
     "name": "stdout",
     "output_type": "stream",
     "text": [
      "Data loaded in 1.4744 seconds, processing\n",
      "Bandpass cleaned in 1.8278 seconds.\n",
      "Stamps filtered in 13.9735 seconds\n",
      "Saving results\n",
      "Results aggregated in 0.1139 seconds\n",
      "Processing coarse channels 279-282\n"
     ]
    },
    {
     "name": "stderr",
     "output_type": "stream",
     "text": [
      " 92%|█████████▏| 93/101 [26:27<02:16, 17.08s/it]"
     ]
    },
    {
     "name": "stdout",
     "output_type": "stream",
     "text": [
      "Data loaded in 1.3066 seconds, processing\n",
      "Bandpass cleaned in 1.8187 seconds.\n",
      "Stamps filtered in 13.7347 seconds\n",
      "Saving results\n",
      "Results aggregated in 0.1673 seconds\n",
      "Processing coarse channels 282-285\n"
     ]
    },
    {
     "name": "stderr",
     "output_type": "stream",
     "text": [
      " 93%|█████████▎| 94/101 [26:44<01:59, 17.07s/it]"
     ]
    },
    {
     "name": "stdout",
     "output_type": "stream",
     "text": [
      "Data loaded in 1.2844 seconds, processing\n",
      "Bandpass cleaned in 2.0064 seconds.\n",
      "Stamps filtered in 13.9356 seconds\n",
      "Saving results\n",
      "Results aggregated in 0.1206 seconds\n",
      "Processing coarse channels 285-288\n"
     ]
    },
    {
     "name": "stderr",
     "output_type": "stream",
     "text": [
      " 94%|█████████▍| 95/101 [27:02<01:42, 17.15s/it]"
     ]
    },
    {
     "name": "stdout",
     "output_type": "stream",
     "text": [
      "Data loaded in 1.4193 seconds, processing\n",
      "Bandpass cleaned in 1.8788 seconds.\n",
      "Stamps filtered in 13.9519 seconds\n",
      "Saving results\n",
      "Results aggregated in 0.1096 seconds\n",
      "Processing coarse channels 288-291\n"
     ]
    },
    {
     "name": "stderr",
     "output_type": "stream",
     "text": [
      " 95%|█████████▌| 96/101 [27:19<01:26, 17.22s/it]"
     ]
    },
    {
     "name": "stdout",
     "output_type": "stream",
     "text": [
      "Data loaded in 1.3758 seconds, processing\n",
      "Bandpass cleaned in 1.7843 seconds.\n",
      "Stamps filtered in 13.7153 seconds\n",
      "Saving results\n"
     ]
    },
    {
     "name": "stderr",
     "output_type": "stream",
     "text": [
      " 96%|█████████▌| 97/101 [27:36<01:09, 17.30s/it]"
     ]
    },
    {
     "name": "stdout",
     "output_type": "stream",
     "text": [
      "Results aggregated in 0.6029 seconds\n",
      "Processing coarse channels 291-294\n",
      "Data loaded in 1.1051 seconds, processing\n",
      "Bandpass cleaned in 1.9075 seconds.\n",
      "Stamps filtered in 13.7839 seconds\n",
      "Saving results\n"
     ]
    },
    {
     "name": "stderr",
     "output_type": "stream",
     "text": [
      " 97%|█████████▋| 98/101 [27:54<00:52, 17.44s/it]"
     ]
    },
    {
     "name": "stdout",
     "output_type": "stream",
     "text": [
      "Results aggregated in 0.9595 seconds\n",
      "Processing coarse channels 294-297\n",
      "Data loaded in 1.2712 seconds, processing\n",
      "Bandpass cleaned in 4.1543 seconds.\n",
      "Stamps filtered in 13.9891 seconds\n",
      "Saving results\n",
      "Results aggregated in 0.1819 seconds\n",
      "Processing coarse channels 297-300\n"
     ]
    },
    {
     "name": "stderr",
     "output_type": "stream",
     "text": [
      " 98%|█████████▊| 99/101 [28:14<00:36, 18.09s/it]"
     ]
    },
    {
     "name": "stdout",
     "output_type": "stream",
     "text": [
      "Data loaded in 1.0854 seconds, processing\n",
      "Bandpass cleaned in 1.9833 seconds.\n",
      "Stamps filtered in 13.7750 seconds\n",
      "Saving results\n",
      "Results aggregated in 0.1321 seconds\n",
      "Processing coarse channels 300-303\n"
     ]
    },
    {
     "name": "stderr",
     "output_type": "stream",
     "text": [
      " 99%|█████████▉| 100/101 [28:31<00:17, 17.76s/it]"
     ]
    },
    {
     "name": "stdout",
     "output_type": "stream",
     "text": [
      "Data loaded in 0.8406 seconds, processing\n",
      "Bandpass cleaned in 1.8029 seconds.\n",
      "Stamps filtered in 13.8937 seconds\n",
      "Saving results\n"
     ]
    },
    {
     "name": "stderr",
     "output_type": "stream",
     "text": [
      "100%|██████████| 101/101 [28:48<00:00, 17.11s/it]\n"
     ]
    },
    {
     "name": "stdout",
     "output_type": "stream",
     "text": [
      "Results aggregated in 0.1297 seconds\n",
      "        level_0      index     statistic  pvalue        freqs\n",
      "272185   272185  293433216  64103.811233     0.0  1094.238644\n",
      "272224   272224  294466432  34761.644863     0.0  1091.308957\n",
      "282108   282108  313064320  28991.211523     0.0  1038.574582\n",
      "272526   272526  295499648  17521.823810     0.0  1088.379269\n",
      "13303     13303   86321664  13433.956292     0.0  1681.504158\n",
      "13304     13304   86321792  13411.494759     0.0  1681.503795\n",
      "12243     12243   81751168  12530.590458     0.0  1694.463815\n",
      "12244     12244   81751296  12522.820129     0.0  1694.463452\n",
      "12115     12115   78904576   8282.928866     0.0  1702.535336\n",
      "11913     11913   34612736   8052.571115     0.0  1828.125000\n",
      "11912     11912   34612608   8052.568886     0.0  1828.125363\n",
      "12013     12013   66642432   8052.530208     0.0  1737.304688\n",
      "303 303\n",
      "Finished Energy Detection on GBT_57515_83255_HIP44295_fine.h5 in 1879.0034 seconds\n",
      "/mnt_blpd7/datax/dl/GBT_57515_83602_HIP43418_fine.h5\n",
      "Header saved to ../../../../../../datax/scratch/pma/reverse_search/train_large/HIP44295-23/GBT_57515_83602_HIP43418_fine/header.pkl\n",
      "Processing 3 in parallel\n",
      "Processing coarse channels 0-3\n"
     ]
    },
    {
     "name": "stderr",
     "output_type": "stream",
     "text": [
      "  0%|          | 0/101 [00:00<?, ?it/s]"
     ]
    },
    {
     "name": "stdout",
     "output_type": "stream",
     "text": [
      "Data loaded in 1.9747 seconds, processing\n",
      "Bandpass cleaned in 1.6333 seconds.\n",
      "Stamps filtered in 12.8192 seconds\n",
      "Saving results\n"
     ]
    },
    {
     "name": "stderr",
     "output_type": "stream",
     "text": [
      "  1%|          | 1/101 [00:17<28:28, 17.08s/it]"
     ]
    },
    {
     "name": "stdout",
     "output_type": "stream",
     "text": [
      "Results aggregated in 0.6388 seconds\n",
      "Processing coarse channels 3-6\n",
      "Data loaded in 1.6367 seconds, processing\n",
      "Bandpass cleaned in 1.6834 seconds.\n",
      "Stamps filtered in 14.2726 seconds\n",
      "Saving results\n",
      "Results aggregated in 0.0660 seconds\n",
      "Processing coarse channels 6-9\n"
     ]
    },
    {
     "name": "stderr",
     "output_type": "stream",
     "text": [
      "  2%|▏         | 2/101 [00:34<28:45, 17.43s/it]"
     ]
    },
    {
     "name": "stdout",
     "output_type": "stream",
     "text": [
      "Data loaded in 1.8421 seconds, processing\n",
      "Bandpass cleaned in 1.6246 seconds.\n",
      "Stamps filtered in 13.5652 seconds\n",
      "Saving results\n",
      "Results aggregated in 0.0338 seconds\n",
      "Processing coarse channels 9-12\n"
     ]
    },
    {
     "name": "stderr",
     "output_type": "stream",
     "text": [
      "  3%|▎         | 3/101 [00:51<28:11, 17.26s/it]"
     ]
    },
    {
     "name": "stdout",
     "output_type": "stream",
     "text": [
      "Data loaded in 1.0406 seconds, processing\n",
      "Bandpass cleaned in 1.6019 seconds.\n",
      "Stamps filtered in 13.8409 seconds\n",
      "Saving results\n",
      "Results aggregated in 0.0339 seconds\n",
      "Processing coarse channels 12-15\n"
     ]
    },
    {
     "name": "stderr",
     "output_type": "stream",
     "text": [
      "  4%|▍         | 4/101 [01:08<27:26, 16.97s/it]"
     ]
    },
    {
     "name": "stdout",
     "output_type": "stream",
     "text": [
      "Data loaded in 1.3358 seconds, processing\n",
      "Bandpass cleaned in 1.5452 seconds.\n",
      "Stamps filtered in 13.2427 seconds\n",
      "Saving results\n",
      "Results aggregated in 0.0343 seconds\n",
      "Processing coarse channels 15-18\n"
     ]
    },
    {
     "name": "stderr",
     "output_type": "stream",
     "text": [
      "  5%|▍         | 5/101 [01:24<26:41, 16.68s/it]"
     ]
    },
    {
     "name": "stdout",
     "output_type": "stream",
     "text": [
      "Data loaded in 0.8357 seconds, processing\n",
      "Bandpass cleaned in 1.6197 seconds.\n",
      "Stamps filtered in 13.7671 seconds\n",
      "Saving results\n",
      "Results aggregated in 0.0319 seconds\n",
      "Processing coarse channels 18-21\n"
     ]
    },
    {
     "name": "stderr",
     "output_type": "stream",
     "text": [
      "  6%|▌         | 6/101 [01:40<26:11, 16.54s/it]"
     ]
    },
    {
     "name": "stdout",
     "output_type": "stream",
     "text": [
      "Data loaded in 1.5611 seconds, processing\n",
      "Bandpass cleaned in 1.5653 seconds.\n",
      "Stamps filtered in 13.5340 seconds\n",
      "Saving results\n",
      "Results aggregated in 0.0351 seconds\n",
      "Processing coarse channels 21-24\n"
     ]
    },
    {
     "name": "stderr",
     "output_type": "stream",
     "text": [
      "  7%|▋         | 7/101 [01:57<25:59, 16.59s/it]"
     ]
    },
    {
     "name": "stdout",
     "output_type": "stream",
     "text": [
      "Data loaded in 0.9834 seconds, processing\n",
      "Bandpass cleaned in 1.6328 seconds.\n",
      "Stamps filtered in 13.6573 seconds\n",
      "Saving results\n",
      "Results aggregated in 0.0306 seconds\n",
      "Processing coarse channels 24-27\n"
     ]
    },
    {
     "name": "stderr",
     "output_type": "stream",
     "text": [
      "  8%|▊         | 8/101 [02:13<25:34, 16.50s/it]"
     ]
    },
    {
     "name": "stdout",
     "output_type": "stream",
     "text": [
      "Data loaded in 1.0315 seconds, processing\n",
      "Bandpass cleaned in 1.5756 seconds.\n",
      "Stamps filtered in 13.6811 seconds\n",
      "Saving results\n",
      "Results aggregated in 0.0357 seconds\n",
      "Processing coarse channels 27-30\n"
     ]
    },
    {
     "name": "stderr",
     "output_type": "stream",
     "text": [
      "  9%|▉         | 9/101 [02:30<25:13, 16.45s/it]"
     ]
    },
    {
     "name": "stdout",
     "output_type": "stream",
     "text": [
      "Data loaded in 1.5456 seconds, processing\n",
      "Bandpass cleaned in 1.5364 seconds.\n",
      "Stamps filtered in 13.0012 seconds\n",
      "Saving results\n",
      "Results aggregated in 0.0331 seconds\n",
      "Processing coarse channels 30-33\n"
     ]
    },
    {
     "name": "stderr",
     "output_type": "stream",
     "text": [
      " 10%|▉         | 10/101 [02:46<24:47, 16.35s/it]"
     ]
    },
    {
     "name": "stdout",
     "output_type": "stream",
     "text": [
      "Data loaded in 2.1499 seconds, processing\n",
      "Bandpass cleaned in 1.6138 seconds.\n",
      "Stamps filtered in 13.0939 seconds\n",
      "Saving results\n",
      "Results aggregated in 0.0361 seconds\n",
      "Processing coarse channels 33-36\n"
     ]
    },
    {
     "name": "stderr",
     "output_type": "stream",
     "text": [
      " 11%|█         | 11/101 [03:03<24:46, 16.52s/it]"
     ]
    },
    {
     "name": "stdout",
     "output_type": "stream",
     "text": [
      "Data loaded in 0.8509 seconds, processing\n",
      "Bandpass cleaned in 1.6012 seconds.\n",
      "Stamps filtered in 13.9425 seconds\n",
      "Saving results\n",
      "Results aggregated in 0.0356 seconds\n",
      "Processing coarse channels 36-39\n"
     ]
    },
    {
     "name": "stderr",
     "output_type": "stream",
     "text": [
      " 12%|█▏        | 12/101 [03:19<24:27, 16.49s/it]"
     ]
    },
    {
     "name": "stdout",
     "output_type": "stream",
     "text": [
      "Data loaded in 1.0617 seconds, processing\n",
      "Bandpass cleaned in 1.6397 seconds.\n",
      "Stamps filtered in 13.8202 seconds\n",
      "Saving results\n",
      "Results aggregated in 0.0317 seconds\n",
      "Processing coarse channels 39-42\n"
     ]
    },
    {
     "name": "stderr",
     "output_type": "stream",
     "text": [
      " 13%|█▎        | 13/101 [03:36<24:13, 16.51s/it]"
     ]
    },
    {
     "name": "stdout",
     "output_type": "stream",
     "text": [
      "Data loaded in 1.0399 seconds, processing\n",
      "Bandpass cleaned in 1.6244 seconds.\n",
      "Stamps filtered in 13.6659 seconds\n",
      "Saving results\n",
      "Results aggregated in 0.0346 seconds\n",
      "Processing coarse channels 42-45\n"
     ]
    },
    {
     "name": "stderr",
     "output_type": "stream",
     "text": [
      " 14%|█▍        | 14/101 [03:52<23:52, 16.47s/it]"
     ]
    },
    {
     "name": "stdout",
     "output_type": "stream",
     "text": [
      "Data loaded in 1.1359 seconds, processing\n",
      "Bandpass cleaned in 1.5323 seconds.\n",
      "Stamps filtered in 13.3655 seconds\n",
      "Saving results\n",
      "Results aggregated in 0.0350 seconds\n",
      "Processing coarse channels 45-48\n"
     ]
    },
    {
     "name": "stderr",
     "output_type": "stream",
     "text": [
      " 15%|█▍        | 15/101 [04:08<23:26, 16.35s/it]"
     ]
    },
    {
     "name": "stdout",
     "output_type": "stream",
     "text": [
      "Data loaded in 0.7386 seconds, processing\n",
      "Bandpass cleaned in 1.6038 seconds.\n",
      "Stamps filtered in 13.6809 seconds\n",
      "Saving results\n",
      "Results aggregated in 0.0354 seconds\n",
      "Processing coarse channels 48-51\n"
     ]
    },
    {
     "name": "stderr",
     "output_type": "stream",
     "text": [
      " 16%|█▌        | 16/101 [04:24<23:02, 16.27s/it]"
     ]
    },
    {
     "name": "stdout",
     "output_type": "stream",
     "text": [
      "Data loaded in 1.2230 seconds, processing\n",
      "Bandpass cleaned in 1.6659 seconds.\n",
      "Stamps filtered in 13.4352 seconds\n",
      "Saving results\n",
      "Results aggregated in 0.0368 seconds\n",
      "Processing coarse channels 51-54\n"
     ]
    },
    {
     "name": "stderr",
     "output_type": "stream",
     "text": [
      " 17%|█▋        | 17/101 [04:41<22:48, 16.30s/it]"
     ]
    },
    {
     "name": "stdout",
     "output_type": "stream",
     "text": [
      "Data loaded in 1.0676 seconds, processing\n",
      "Bandpass cleaned in 1.5440 seconds.\n",
      "Stamps filtered in 13.1783 seconds\n",
      "Saving results\n",
      "Results aggregated in 0.0365 seconds\n",
      "Processing coarse channels 54-57\n"
     ]
    },
    {
     "name": "stderr",
     "output_type": "stream",
     "text": [
      " 18%|█▊        | 18/101 [04:56<22:21, 16.16s/it]"
     ]
    },
    {
     "name": "stdout",
     "output_type": "stream",
     "text": [
      "Data loaded in 1.0389 seconds, processing\n",
      "Bandpass cleaned in 1.7287 seconds.\n",
      "Stamps filtered in 12.9704 seconds\n",
      "Saving results\n",
      "Results aggregated in 0.0328 seconds\n",
      "Processing coarse channels 57-60\n"
     ]
    },
    {
     "name": "stderr",
     "output_type": "stream",
     "text": [
      " 19%|█▉        | 19/101 [05:12<21:55, 16.04s/it]"
     ]
    },
    {
     "name": "stdout",
     "output_type": "stream",
     "text": [
      "Data loaded in 1.1399 seconds, processing\n",
      "Bandpass cleaned in 1.5613 seconds.\n",
      "Stamps filtered in 12.8096 seconds\n",
      "Saving results\n",
      "Results aggregated in 0.0357 seconds\n",
      "Processing coarse channels 60-63\n"
     ]
    },
    {
     "name": "stderr",
     "output_type": "stream",
     "text": [
      " 20%|█▉        | 20/101 [05:28<21:27, 15.90s/it]"
     ]
    },
    {
     "name": "stdout",
     "output_type": "stream",
     "text": [
      "Data loaded in 1.0687 seconds, processing\n",
      "Bandpass cleaned in 1.6062 seconds.\n",
      "Stamps filtered in 13.2820 seconds\n",
      "Saving results\n",
      "Results aggregated in 0.0351 seconds\n",
      "Processing coarse channels 63-66\n"
     ]
    },
    {
     "name": "stderr",
     "output_type": "stream",
     "text": [
      " 21%|██        | 21/101 [05:44<21:14, 15.93s/it]"
     ]
    },
    {
     "name": "stdout",
     "output_type": "stream",
     "text": [
      "Data loaded in 1.2798 seconds, processing\n",
      "Bandpass cleaned in 1.6265 seconds.\n",
      "Stamps filtered in 13.5313 seconds\n",
      "Saving results\n",
      "Results aggregated in 0.0328 seconds\n",
      "Processing coarse channels 66-69\n"
     ]
    },
    {
     "name": "stderr",
     "output_type": "stream",
     "text": [
      " 22%|██▏       | 22/101 [06:00<21:11, 16.09s/it]"
     ]
    },
    {
     "name": "stdout",
     "output_type": "stream",
     "text": [
      "Data loaded in 1.0925 seconds, processing\n",
      "Bandpass cleaned in 1.6044 seconds.\n",
      "Stamps filtered in 13.5686 seconds\n",
      "Saving results\n",
      "Results aggregated in 0.0369 seconds\n",
      "Processing coarse channels 69-72\n"
     ]
    },
    {
     "name": "stderr",
     "output_type": "stream",
     "text": [
      " 23%|██▎       | 23/101 [06:16<21:00, 16.16s/it]"
     ]
    },
    {
     "name": "stdout",
     "output_type": "stream",
     "text": [
      "Data loaded in 1.1516 seconds, processing\n",
      "Bandpass cleaned in 1.7113 seconds.\n",
      "Stamps filtered in 13.5731 seconds\n",
      "Saving results\n",
      "Results aggregated in 0.0340 seconds\n",
      "Processing coarse channels 72-75\n"
     ]
    },
    {
     "name": "stderr",
     "output_type": "stream",
     "text": [
      " 24%|██▍       | 24/101 [06:33<20:51, 16.25s/it]"
     ]
    },
    {
     "name": "stdout",
     "output_type": "stream",
     "text": [
      "Data loaded in 1.1845 seconds, processing\n",
      "Bandpass cleaned in 1.6883 seconds.\n",
      "Stamps filtered in 13.6545 seconds\n",
      "Saving results\n"
     ]
    },
    {
     "name": "stderr",
     "output_type": "stream",
     "text": [
      " 25%|██▍       | 25/101 [06:50<20:53, 16.49s/it]"
     ]
    },
    {
     "name": "stdout",
     "output_type": "stream",
     "text": [
      "Results aggregated in 0.5039 seconds\n",
      "Processing coarse channels 75-78\n",
      "Data loaded in 1.1625 seconds, processing\n",
      "Bandpass cleaned in 1.6732 seconds.\n",
      "Stamps filtered in 13.5126 seconds\n",
      "Saving results\n",
      "Results aggregated in 0.1005 seconds\n",
      "Processing coarse channels 78-81\n"
     ]
    },
    {
     "name": "stderr",
     "output_type": "stream",
     "text": [
      " 26%|██▌       | 26/101 [07:06<20:36, 16.48s/it]"
     ]
    },
    {
     "name": "stdout",
     "output_type": "stream",
     "text": [
      "Data loaded in 1.3103 seconds, processing\n",
      "Bandpass cleaned in 1.7421 seconds.\n",
      "Stamps filtered in 13.6000 seconds\n",
      "Saving results\n",
      "Results aggregated in 0.1881 seconds\n",
      "Processing coarse channels 81-84\n"
     ]
    },
    {
     "name": "stderr",
     "output_type": "stream",
     "text": [
      " 27%|██▋       | 27/101 [07:23<20:27, 16.59s/it]"
     ]
    },
    {
     "name": "stdout",
     "output_type": "stream",
     "text": [
      "Data loaded in 1.3475 seconds, processing\n",
      "Bandpass cleaned in 1.8427 seconds.\n",
      "Stamps filtered in 13.8720 seconds\n",
      "Saving results\n",
      "Results aggregated in 0.1057 seconds\n",
      "Processing coarse channels 84-87\n"
     ]
    },
    {
     "name": "stderr",
     "output_type": "stream",
     "text": [
      " 28%|██▊       | 28/101 [07:40<20:24, 16.77s/it]"
     ]
    },
    {
     "name": "stdout",
     "output_type": "stream",
     "text": [
      "Data loaded in 1.1939 seconds, processing\n",
      "Bandpass cleaned in 1.7862 seconds.\n",
      "Stamps filtered in 13.6304 seconds\n",
      "Saving results\n",
      "Results aggregated in 0.0901 seconds\n",
      "Processing coarse channels 87-90\n"
     ]
    },
    {
     "name": "stderr",
     "output_type": "stream",
     "text": [
      " 29%|██▊       | 29/101 [07:57<20:06, 16.75s/it]"
     ]
    },
    {
     "name": "stdout",
     "output_type": "stream",
     "text": [
      "Data loaded in 1.3338 seconds, processing\n",
      "Bandpass cleaned in 1.7903 seconds.\n",
      "Stamps filtered in 13.6932 seconds\n",
      "Saving results\n",
      "Results aggregated in 0.0424 seconds\n",
      "Processing coarse channels 90-93\n"
     ]
    },
    {
     "name": "stderr",
     "output_type": "stream",
     "text": [
      " 30%|██▉       | 30/101 [08:14<19:51, 16.79s/it]"
     ]
    },
    {
     "name": "stdout",
     "output_type": "stream",
     "text": [
      "Data loaded in 0.8862 seconds, processing\n",
      "Bandpass cleaned in 1.6174 seconds.\n",
      "Stamps filtered in 13.6830 seconds\n",
      "Saving results\n",
      "Results aggregated in 0.0464 seconds\n",
      "Processing coarse channels 93-96\n"
     ]
    },
    {
     "name": "stderr",
     "output_type": "stream",
     "text": [
      " 31%|███       | 31/101 [08:30<19:23, 16.62s/it]"
     ]
    },
    {
     "name": "stdout",
     "output_type": "stream",
     "text": [
      "Data loaded in 1.3099 seconds, processing\n",
      "Bandpass cleaned in 1.6026 seconds.\n",
      "Stamps filtered in 13.4756 seconds\n",
      "Saving results\n",
      "Results aggregated in 0.0435 seconds\n",
      "Processing coarse channels 96-99\n"
     ]
    },
    {
     "name": "stderr",
     "output_type": "stream",
     "text": [
      " 32%|███▏      | 32/101 [08:47<19:03, 16.57s/it]"
     ]
    },
    {
     "name": "stdout",
     "output_type": "stream",
     "text": [
      "Data loaded in 1.4518 seconds, processing\n",
      "Bandpass cleaned in 1.8185 seconds.\n",
      "Stamps filtered in 13.4421 seconds\n",
      "Saving results\n",
      "Results aggregated in 0.0441 seconds\n",
      "Processing coarse channels 99-102\n"
     ]
    },
    {
     "name": "stderr",
     "output_type": "stream",
     "text": [
      " 33%|███▎      | 33/101 [09:04<18:50, 16.63s/it]"
     ]
    },
    {
     "name": "stdout",
     "output_type": "stream",
     "text": [
      "Data loaded in 1.1215 seconds, processing\n",
      "Bandpass cleaned in 1.6342 seconds.\n",
      "Stamps filtered in 13.5799 seconds\n",
      "Saving results\n"
     ]
    },
    {
     "name": "stderr",
     "output_type": "stream",
     "text": [
      " 34%|███▎      | 34/101 [09:21<18:44, 16.79s/it]"
     ]
    },
    {
     "name": "stdout",
     "output_type": "stream",
     "text": [
      "Results aggregated in 0.7986 seconds\n",
      "Processing coarse channels 102-105\n",
      "Data loaded in 1.4210 seconds, processing\n",
      "Bandpass cleaned in 1.6727 seconds.\n",
      "Stamps filtered in 13.7321 seconds\n",
      "Saving results\n"
     ]
    },
    {
     "name": "stderr",
     "output_type": "stream",
     "text": [
      " 35%|███▍      | 35/101 [09:39<18:53, 17.17s/it]"
     ]
    },
    {
     "name": "stdout",
     "output_type": "stream",
     "text": [
      "Results aggregated in 1.2163 seconds\n",
      "Processing coarse channels 105-108\n",
      "Data loaded in 1.0186 seconds, processing\n",
      "Bandpass cleaned in 1.8227 seconds.\n",
      "Stamps filtered in 13.6707 seconds\n",
      "Saving results\n",
      "Results aggregated in 0.1020 seconds\n",
      "Processing coarse channels 108-111\n"
     ]
    },
    {
     "name": "stderr",
     "output_type": "stream",
     "text": [
      " 36%|███▌      | 36/101 [09:55<18:25, 17.01s/it]"
     ]
    },
    {
     "name": "stdout",
     "output_type": "stream",
     "text": [
      "Data loaded in 1.2652 seconds, processing\n",
      "Bandpass cleaned in 1.7381 seconds.\n",
      "Stamps filtered in 13.3265 seconds\n",
      "Saving results\n"
     ]
    },
    {
     "name": "stderr",
     "output_type": "stream",
     "text": [
      " 37%|███▋      | 37/101 [10:13<18:18, 17.16s/it]"
     ]
    },
    {
     "name": "stdout",
     "output_type": "stream",
     "text": [
      "Results aggregated in 1.1616 seconds\n",
      "Processing coarse channels 111-114\n",
      "Data loaded in 1.1734 seconds, processing\n",
      "Bandpass cleaned in 1.8062 seconds.\n",
      "Stamps filtered in 13.6561 seconds\n",
      "Saving results\n"
     ]
    },
    {
     "name": "stderr",
     "output_type": "stream",
     "text": [
      " 38%|███▊      | 38/101 [10:30<17:55, 17.07s/it]"
     ]
    },
    {
     "name": "stdout",
     "output_type": "stream",
     "text": [
      "Results aggregated in 0.2242 seconds\n",
      "Processing coarse channels 114-117\n",
      "Data loaded in 1.1877 seconds, processing\n",
      "Bandpass cleaned in 1.6834 seconds.\n",
      "Stamps filtered in 13.5694 seconds\n",
      "Saving results\n",
      "Results aggregated in 0.1769 seconds\n",
      "Processing coarse channels 117-120\n"
     ]
    },
    {
     "name": "stderr",
     "output_type": "stream",
     "text": [
      " 39%|███▊      | 39/101 [10:46<17:30, 16.94s/it]"
     ]
    },
    {
     "name": "stdout",
     "output_type": "stream",
     "text": [
      "Data loaded in 1.2893 seconds, processing\n",
      "Bandpass cleaned in 1.6049 seconds.\n",
      "Stamps filtered in 13.5210 seconds\n",
      "Saving results\n"
     ]
    },
    {
     "name": "stderr",
     "output_type": "stream",
     "text": [
      " 40%|███▉      | 40/101 [11:04<17:28, 17.18s/it]"
     ]
    },
    {
     "name": "stdout",
     "output_type": "stream",
     "text": [
      "Results aggregated in 1.3021 seconds\n",
      "Processing coarse channels 120-123\n",
      "Data loaded in 1.1608 seconds, processing\n",
      "Bandpass cleaned in 1.7064 seconds.\n",
      "Stamps filtered in 13.8057 seconds\n",
      "Saving results\n",
      "Results aggregated in 0.1450 seconds\n",
      "Processing coarse channels 123-126\n"
     ]
    },
    {
     "name": "stderr",
     "output_type": "stream",
     "text": [
      " 41%|████      | 41/101 [11:21<17:04, 17.08s/it]"
     ]
    },
    {
     "name": "stdout",
     "output_type": "stream",
     "text": [
      "Data loaded in 1.3169 seconds, processing\n",
      "Bandpass cleaned in 1.8648 seconds.\n",
      "Stamps filtered in 13.7496 seconds\n",
      "Saving results\n"
     ]
    },
    {
     "name": "stderr",
     "output_type": "stream",
     "text": [
      " 42%|████▏     | 42/101 [11:39<17:00, 17.30s/it]"
     ]
    },
    {
     "name": "stdout",
     "output_type": "stream",
     "text": [
      "Results aggregated in 0.8699 seconds\n",
      "Processing coarse channels 126-129\n",
      "Data loaded in 1.2405 seconds, processing\n",
      "Bandpass cleaned in 1.7507 seconds.\n",
      "Stamps filtered in 13.6760 seconds\n",
      "Saving results\n"
     ]
    },
    {
     "name": "stderr",
     "output_type": "stream",
     "text": [
      " 43%|████▎     | 43/101 [11:56<16:47, 17.37s/it]"
     ]
    },
    {
     "name": "stdout",
     "output_type": "stream",
     "text": [
      "Results aggregated in 0.8360 seconds\n",
      "Processing coarse channels 129-132\n",
      "Data loaded in 1.0489 seconds, processing\n",
      "Bandpass cleaned in 1.7523 seconds.\n",
      "Stamps filtered in 13.6429 seconds\n",
      "Saving results\n"
     ]
    },
    {
     "name": "stderr",
     "output_type": "stream",
     "text": [
      " 44%|████▎     | 44/101 [12:13<16:25, 17.28s/it]"
     ]
    },
    {
     "name": "stdout",
     "output_type": "stream",
     "text": [
      "Results aggregated in 0.6097 seconds\n",
      "Processing coarse channels 132-135\n",
      "Data loaded in 1.1741 seconds, processing\n",
      "Bandpass cleaned in 1.7828 seconds.\n",
      "Stamps filtered in 13.9054 seconds\n",
      "Saving results\n"
     ]
    },
    {
     "name": "stderr",
     "output_type": "stream",
     "text": [
      " 45%|████▍     | 45/101 [12:31<16:11, 17.35s/it]"
     ]
    },
    {
     "name": "stdout",
     "output_type": "stream",
     "text": [
      "Results aggregated in 0.6320 seconds\n",
      "Processing coarse channels 135-138\n",
      "Data loaded in 1.1072 seconds, processing\n",
      "Bandpass cleaned in 1.6988 seconds.\n",
      "Stamps filtered in 13.7024 seconds\n",
      "Saving results\n",
      "Results aggregated in 0.0814 seconds\n",
      "Processing coarse channels 138-141\n"
     ]
    },
    {
     "name": "stderr",
     "output_type": "stream",
     "text": [
      " 46%|████▌     | 46/101 [12:48<15:42, 17.13s/it]"
     ]
    },
    {
     "name": "stdout",
     "output_type": "stream",
     "text": [
      "Data loaded in 1.2126 seconds, processing\n",
      "Bandpass cleaned in 1.6843 seconds.\n",
      "Stamps filtered in 13.4664 seconds\n",
      "Saving results\n",
      "Results aggregated in 0.0582 seconds\n",
      "Processing coarse channels 141-144\n"
     ]
    },
    {
     "name": "stderr",
     "output_type": "stream",
     "text": [
      " 47%|████▋     | 47/101 [13:04<15:13, 16.92s/it]"
     ]
    },
    {
     "name": "stdout",
     "output_type": "stream",
     "text": [
      "Data loaded in 2.2233 seconds, processing\n",
      "Bandpass cleaned in 1.7026 seconds.\n",
      "Stamps filtered in 13.5645 seconds\n",
      "Saving results\n",
      "Results aggregated in 0.0648 seconds\n",
      "Processing coarse channels 144-147\n"
     ]
    },
    {
     "name": "stderr",
     "output_type": "stream",
     "text": [
      " 48%|████▊     | 48/101 [13:22<15:06, 17.11s/it]"
     ]
    },
    {
     "name": "stdout",
     "output_type": "stream",
     "text": [
      "Data loaded in 1.1589 seconds, processing\n",
      "Bandpass cleaned in 1.7022 seconds.\n",
      "Stamps filtered in 13.6263 seconds\n",
      "Saving results\n",
      "Results aggregated in 0.0574 seconds\n",
      "Processing coarse channels 147-150\n"
     ]
    },
    {
     "name": "stderr",
     "output_type": "stream",
     "text": [
      " 49%|████▊     | 49/101 [13:38<14:41, 16.94s/it]"
     ]
    },
    {
     "name": "stdout",
     "output_type": "stream",
     "text": [
      "Data loaded in 1.3541 seconds, processing\n",
      "Bandpass cleaned in 1.6465 seconds.\n",
      "Stamps filtered in 13.4340 seconds\n",
      "Saving results\n",
      "Results aggregated in 0.0613 seconds\n",
      "Processing coarse channels 150-153\n"
     ]
    },
    {
     "name": "stderr",
     "output_type": "stream",
     "text": [
      " 50%|████▉     | 50/101 [13:55<14:17, 16.81s/it]"
     ]
    },
    {
     "name": "stdout",
     "output_type": "stream",
     "text": [
      "Data loaded in 1.1585 seconds, processing\n",
      "Bandpass cleaned in 1.6276 seconds.\n",
      "Stamps filtered in 13.3560 seconds\n",
      "Saving results\n",
      "Results aggregated in 0.0594 seconds\n",
      "Processing coarse channels 153-156\n"
     ]
    },
    {
     "name": "stderr",
     "output_type": "stream",
     "text": [
      " 50%|█████     | 51/101 [14:11<13:51, 16.63s/it]"
     ]
    },
    {
     "name": "stdout",
     "output_type": "stream",
     "text": [
      "Data loaded in 1.4594 seconds, processing\n",
      "Bandpass cleaned in 1.6933 seconds.\n",
      "Stamps filtered in 13.5962 seconds\n",
      "Saving results\n",
      "Results aggregated in 0.0611 seconds\n",
      "Processing coarse channels 156-159\n"
     ]
    },
    {
     "name": "stderr",
     "output_type": "stream",
     "text": [
      " 51%|█████▏    | 52/101 [14:28<13:37, 16.69s/it]"
     ]
    },
    {
     "name": "stdout",
     "output_type": "stream",
     "text": [
      "Data loaded in 1.0606 seconds, processing\n",
      "Bandpass cleaned in 1.7169 seconds.\n",
      "Stamps filtered in 13.7029 seconds\n",
      "Saving results\n",
      "Results aggregated in 0.0600 seconds\n",
      "Processing coarse channels 159-162\n"
     ]
    },
    {
     "name": "stderr",
     "output_type": "stream",
     "text": [
      " 52%|█████▏    | 53/101 [14:44<13:19, 16.65s/it]"
     ]
    },
    {
     "name": "stdout",
     "output_type": "stream",
     "text": [
      "Data loaded in 1.0788 seconds, processing\n",
      "Bandpass cleaned in 1.6198 seconds.\n",
      "Stamps filtered in 13.7559 seconds\n",
      "Saving results\n",
      "Results aggregated in 0.0616 seconds\n",
      "Processing coarse channels 162-165\n"
     ]
    },
    {
     "name": "stderr",
     "output_type": "stream",
     "text": [
      " 53%|█████▎    | 54/101 [15:01<13:00, 16.61s/it]"
     ]
    },
    {
     "name": "stdout",
     "output_type": "stream",
     "text": [
      "Data loaded in 1.1324 seconds, processing\n",
      "Bandpass cleaned in 1.6210 seconds.\n",
      "Stamps filtered in 13.4587 seconds\n",
      "Saving results\n",
      "Results aggregated in 0.0568 seconds\n",
      "Processing coarse channels 165-168\n"
     ]
    },
    {
     "name": "stderr",
     "output_type": "stream",
     "text": [
      " 54%|█████▍    | 55/101 [15:17<12:39, 16.51s/it]"
     ]
    },
    {
     "name": "stdout",
     "output_type": "stream",
     "text": [
      "Data loaded in 1.0884 seconds, processing\n",
      "Bandpass cleaned in 1.6577 seconds.\n",
      "Stamps filtered in 13.6452 seconds\n",
      "Saving results\n",
      "Results aggregated in 0.0569 seconds\n",
      "Processing coarse channels 168-171\n"
     ]
    },
    {
     "name": "stderr",
     "output_type": "stream",
     "text": [
      " 55%|█████▌    | 56/101 [15:33<12:22, 16.50s/it]"
     ]
    },
    {
     "name": "stdout",
     "output_type": "stream",
     "text": [
      "Data loaded in 1.4395 seconds, processing\n",
      "Bandpass cleaned in 1.6376 seconds.\n",
      "Stamps filtered in 13.4446 seconds\n",
      "Saving results\n",
      "Results aggregated in 0.0555 seconds\n",
      "Processing coarse channels 171-174\n"
     ]
    },
    {
     "name": "stderr",
     "output_type": "stream",
     "text": [
      " 56%|█████▋    | 57/101 [15:50<12:07, 16.52s/it]"
     ]
    },
    {
     "name": "stdout",
     "output_type": "stream",
     "text": [
      "Data loaded in 1.1828 seconds, processing\n",
      "Bandpass cleaned in 1.5941 seconds.\n",
      "Stamps filtered in 13.5999 seconds\n",
      "Saving results\n",
      "Results aggregated in 0.0611 seconds\n",
      "Processing coarse channels 174-177\n"
     ]
    },
    {
     "name": "stderr",
     "output_type": "stream",
     "text": [
      " 57%|█████▋    | 58/101 [16:06<11:49, 16.50s/it]"
     ]
    },
    {
     "name": "stdout",
     "output_type": "stream",
     "text": [
      "Data loaded in 0.9993 seconds, processing\n",
      "Bandpass cleaned in 1.6405 seconds.\n",
      "Stamps filtered in 13.6755 seconds\n",
      "Saving results\n",
      "Results aggregated in 0.0582 seconds\n",
      "Processing coarse channels 177-180\n"
     ]
    },
    {
     "name": "stderr",
     "output_type": "stream",
     "text": [
      " 58%|█████▊    | 59/101 [16:23<11:31, 16.47s/it]"
     ]
    },
    {
     "name": "stdout",
     "output_type": "stream",
     "text": [
      "Data loaded in 1.2717 seconds, processing\n",
      "Bandpass cleaned in 1.8171 seconds.\n",
      "Stamps filtered in 13.5530 seconds\n",
      "Saving results\n",
      "Results aggregated in 0.0647 seconds\n",
      "Processing coarse channels 180-183\n"
     ]
    },
    {
     "name": "stderr",
     "output_type": "stream",
     "text": [
      " 59%|█████▉    | 60/101 [16:40<11:18, 16.54s/it]"
     ]
    },
    {
     "name": "stdout",
     "output_type": "stream",
     "text": [
      "Data loaded in 1.0723 seconds, processing\n",
      "Bandpass cleaned in 1.6442 seconds.\n",
      "Stamps filtered in 13.9273 seconds\n",
      "Saving results\n",
      "Results aggregated in 0.0602 seconds\n",
      "Processing coarse channels 183-186\n"
     ]
    },
    {
     "name": "stderr",
     "output_type": "stream",
     "text": [
      " 60%|██████    | 61/101 [16:56<11:03, 16.59s/it]"
     ]
    },
    {
     "name": "stdout",
     "output_type": "stream",
     "text": [
      "Data loaded in 1.2624 seconds, processing\n",
      "Bandpass cleaned in 1.8514 seconds.\n",
      "Stamps filtered in 13.7699 seconds\n",
      "Saving results\n",
      "Results aggregated in 0.0815 seconds\n",
      "Processing coarse channels 186-189\n"
     ]
    },
    {
     "name": "stderr",
     "output_type": "stream",
     "text": [
      " 61%|██████▏   | 62/101 [17:13<10:51, 16.71s/it]"
     ]
    },
    {
     "name": "stdout",
     "output_type": "stream",
     "text": [
      "Data loaded in 1.3160 seconds, processing\n",
      "Bandpass cleaned in 1.6665 seconds.\n",
      "Stamps filtered in 13.7863 seconds\n",
      "Saving results\n",
      "Results aggregated in 0.0609 seconds\n",
      "Processing coarse channels 189-192\n"
     ]
    },
    {
     "name": "stderr",
     "output_type": "stream",
     "text": [
      " 62%|██████▏   | 63/101 [17:30<10:36, 16.75s/it]"
     ]
    },
    {
     "name": "stdout",
     "output_type": "stream",
     "text": [
      "Data loaded in 1.0544 seconds, processing\n",
      "Bandpass cleaned in 1.6610 seconds.\n",
      "Stamps filtered in 13.6532 seconds\n",
      "Saving results\n",
      "Results aggregated in 0.0645 seconds\n",
      "Processing coarse channels 192-195\n"
     ]
    },
    {
     "name": "stderr",
     "output_type": "stream",
     "text": [
      " 63%|██████▎   | 64/101 [17:47<10:16, 16.66s/it]"
     ]
    },
    {
     "name": "stdout",
     "output_type": "stream",
     "text": [
      "Data loaded in 1.2767 seconds, processing\n",
      "Bandpass cleaned in 1.6914 seconds.\n",
      "Stamps filtered in 13.6622 seconds\n",
      "Saving results\n",
      "Results aggregated in 0.0677 seconds\n",
      "Processing coarse channels 195-198\n"
     ]
    },
    {
     "name": "stderr",
     "output_type": "stream",
     "text": [
      " 64%|██████▍   | 65/101 [18:03<10:00, 16.67s/it]"
     ]
    },
    {
     "name": "stdout",
     "output_type": "stream",
     "text": [
      "Data loaded in 1.1759 seconds, processing\n",
      "Bandpass cleaned in 1.7432 seconds.\n",
      "Stamps filtered in 13.6382 seconds\n",
      "Saving results\n",
      "Results aggregated in 0.0570 seconds\n",
      "Processing coarse channels 198-201\n"
     ]
    },
    {
     "name": "stderr",
     "output_type": "stream",
     "text": [
      " 65%|██████▌   | 66/101 [18:20<09:43, 16.66s/it]"
     ]
    },
    {
     "name": "stdout",
     "output_type": "stream",
     "text": [
      "Data loaded in 1.1984 seconds, processing\n",
      "Bandpass cleaned in 1.6608 seconds.\n",
      "Stamps filtered in 13.4628 seconds\n",
      "Saving results\n",
      "Results aggregated in 0.0548 seconds\n",
      "Processing coarse channels 201-204\n"
     ]
    },
    {
     "name": "stderr",
     "output_type": "stream",
     "text": [
      " 66%|██████▋   | 67/101 [18:36<09:23, 16.58s/it]"
     ]
    },
    {
     "name": "stdout",
     "output_type": "stream",
     "text": [
      "Data loaded in 1.1443 seconds, processing\n",
      "Bandpass cleaned in 1.8701 seconds.\n",
      "Stamps filtered in 13.7134 seconds\n",
      "Saving results\n",
      "Results aggregated in 0.0688 seconds\n",
      "Processing coarse channels 204-207\n"
     ]
    },
    {
     "name": "stderr",
     "output_type": "stream",
     "text": [
      " 67%|██████▋   | 68/101 [18:53<09:09, 16.65s/it]"
     ]
    },
    {
     "name": "stdout",
     "output_type": "stream",
     "text": [
      "Data loaded in 1.1527 seconds, processing\n",
      "Bandpass cleaned in 1.6032 seconds.\n",
      "Stamps filtered in 13.5345 seconds\n",
      "Saving results\n",
      "Results aggregated in 0.1406 seconds\n",
      "Processing coarse channels 207-210\n"
     ]
    },
    {
     "name": "stderr",
     "output_type": "stream",
     "text": [
      " 68%|██████▊   | 69/101 [19:10<08:50, 16.59s/it]"
     ]
    },
    {
     "name": "stdout",
     "output_type": "stream",
     "text": [
      "Data loaded in 1.2544 seconds, processing\n",
      "Bandpass cleaned in 1.6595 seconds.\n",
      "Stamps filtered in 13.5837 seconds\n",
      "Saving results\n"
     ]
    },
    {
     "name": "stderr",
     "output_type": "stream",
     "text": [
      " 69%|██████▉   | 70/101 [19:27<08:43, 16.88s/it]"
     ]
    },
    {
     "name": "stdout",
     "output_type": "stream",
     "text": [
      "Results aggregated in 1.0445 seconds\n",
      "Processing coarse channels 210-213\n",
      "Data loaded in 1.1425 seconds, processing\n",
      "Bandpass cleaned in 1.6935 seconds.\n",
      "Stamps filtered in 13.6068 seconds\n",
      "Saving results\n",
      "Results aggregated in 0.1470 seconds\n",
      "Processing coarse channels 213-216\n"
     ]
    },
    {
     "name": "stderr",
     "output_type": "stream",
     "text": [
      " 70%|███████   | 71/101 [19:44<08:23, 16.80s/it]"
     ]
    },
    {
     "name": "stdout",
     "output_type": "stream",
     "text": [
      "Data loaded in 1.3563 seconds, processing\n",
      "Bandpass cleaned in 1.6630 seconds.\n",
      "Stamps filtered in 13.7676 seconds\n",
      "Saving results\n",
      "Results aggregated in 0.0588 seconds\n",
      "Processing coarse channels 216-219\n"
     ]
    },
    {
     "name": "stderr",
     "output_type": "stream",
     "text": [
      " 71%|███████▏  | 72/101 [20:01<08:07, 16.82s/it]"
     ]
    },
    {
     "name": "stdout",
     "output_type": "stream",
     "text": [
      "Data loaded in 1.2478 seconds, processing\n",
      "Bandpass cleaned in 1.6045 seconds.\n",
      "Stamps filtered in 13.7673 seconds\n",
      "Saving results\n",
      "Results aggregated in 0.0612 seconds\n",
      "Processing coarse channels 219-222\n"
     ]
    },
    {
     "name": "stderr",
     "output_type": "stream",
     "text": [
      " 72%|███████▏  | 73/101 [20:17<07:49, 16.78s/it]"
     ]
    },
    {
     "name": "stdout",
     "output_type": "stream",
     "text": [
      "Data loaded in 1.0731 seconds, processing\n",
      "Bandpass cleaned in 1.6133 seconds.\n",
      "Stamps filtered in 13.5222 seconds\n",
      "Saving results\n",
      "Results aggregated in 0.0565 seconds\n",
      "Processing coarse channels 222-225\n"
     ]
    },
    {
     "name": "stderr",
     "output_type": "stream",
     "text": [
      " 73%|███████▎  | 74/101 [20:34<07:28, 16.63s/it]"
     ]
    },
    {
     "name": "stdout",
     "output_type": "stream",
     "text": [
      "Data loaded in 1.2574 seconds, processing\n",
      "Bandpass cleaned in 1.6354 seconds.\n",
      "Stamps filtered in 13.6112 seconds\n",
      "Saving results\n",
      "Results aggregated in 0.0640 seconds\n",
      "Processing coarse channels 225-228\n"
     ]
    },
    {
     "name": "stderr",
     "output_type": "stream",
     "text": [
      " 74%|███████▍  | 75/101 [20:50<07:11, 16.61s/it]"
     ]
    },
    {
     "name": "stdout",
     "output_type": "stream",
     "text": [
      "Data loaded in 0.8583 seconds, processing\n",
      "Bandpass cleaned in 1.6475 seconds.\n",
      "Stamps filtered in 13.4810 seconds\n",
      "Saving results\n",
      "Results aggregated in 0.0749 seconds\n",
      "Processing coarse channels 228-231\n"
     ]
    },
    {
     "name": "stderr",
     "output_type": "stream",
     "text": [
      " 75%|███████▌  | 76/101 [21:06<06:51, 16.45s/it]"
     ]
    },
    {
     "name": "stdout",
     "output_type": "stream",
     "text": [
      "Data loaded in 1.3258 seconds, processing\n",
      "Bandpass cleaned in 1.7006 seconds.\n",
      "Stamps filtered in 13.5828 seconds\n",
      "Saving results\n"
     ]
    },
    {
     "name": "stderr",
     "output_type": "stream",
     "text": [
      " 76%|███████▌  | 77/101 [21:23<06:38, 16.61s/it]"
     ]
    },
    {
     "name": "stdout",
     "output_type": "stream",
     "text": [
      "Results aggregated in 0.3523 seconds\n",
      "Processing coarse channels 231-234\n",
      "Data loaded in 1.0843 seconds, processing\n",
      "Bandpass cleaned in 1.6806 seconds.\n",
      "Stamps filtered in 13.4264 seconds\n",
      "Saving results\n",
      "Results aggregated in 0.0603 seconds\n",
      "Processing coarse channels 234-237\n"
     ]
    },
    {
     "name": "stderr",
     "output_type": "stream",
     "text": [
      " 77%|███████▋  | 78/101 [21:39<06:19, 16.50s/it]"
     ]
    },
    {
     "name": "stdout",
     "output_type": "stream",
     "text": [
      "Data loaded in 1.1155 seconds, processing\n",
      "Bandpass cleaned in 1.6074 seconds.\n",
      "Stamps filtered in 13.5217 seconds\n",
      "Saving results\n",
      "Results aggregated in 0.0726 seconds\n",
      "Processing coarse channels 237-240\n"
     ]
    },
    {
     "name": "stderr",
     "output_type": "stream",
     "text": [
      " 78%|███████▊  | 79/101 [21:56<06:01, 16.45s/it]"
     ]
    },
    {
     "name": "stdout",
     "output_type": "stream",
     "text": [
      "Data loaded in 1.4323 seconds, processing\n",
      "Bandpass cleaned in 1.5897 seconds.\n",
      "Stamps filtered in 13.2579 seconds\n",
      "Saving results\n",
      "Results aggregated in 0.1359 seconds\n",
      "Processing coarse channels 240-243\n"
     ]
    },
    {
     "name": "stderr",
     "output_type": "stream",
     "text": [
      " 79%|███████▉  | 80/101 [22:12<05:45, 16.45s/it]"
     ]
    },
    {
     "name": "stdout",
     "output_type": "stream",
     "text": [
      "Data loaded in 0.7690 seconds, processing\n",
      "Bandpass cleaned in 1.6703 seconds.\n",
      "Stamps filtered in 13.4930 seconds\n",
      "Saving results\n"
     ]
    },
    {
     "name": "stderr",
     "output_type": "stream",
     "text": [
      " 80%|████████  | 81/101 [22:30<05:35, 16.76s/it]"
     ]
    },
    {
     "name": "stdout",
     "output_type": "stream",
     "text": [
      "Results aggregated in 1.5439 seconds\n",
      "Processing coarse channels 243-246\n",
      "Data loaded in 1.3377 seconds, processing\n",
      "Bandpass cleaned in 1.7340 seconds.\n",
      "Stamps filtered in 13.2563 seconds\n",
      "Saving results\n"
     ]
    },
    {
     "name": "stderr",
     "output_type": "stream",
     "text": [
      " 81%|████████  | 82/101 [22:47<05:19, 16.80s/it]"
     ]
    },
    {
     "name": "stdout",
     "output_type": "stream",
     "text": [
      "Results aggregated in 0.5301 seconds\n",
      "Processing coarse channels 246-249\n",
      "Data loaded in 1.2135 seconds, processing\n",
      "Bandpass cleaned in 1.6532 seconds.\n",
      "Stamps filtered in 13.4012 seconds\n",
      "Saving results\n",
      "Results aggregated in 0.0838 seconds\n",
      "Processing coarse channels 249-252\n"
     ]
    },
    {
     "name": "stderr",
     "output_type": "stream",
     "text": [
      " 82%|████████▏ | 83/101 [23:03<05:00, 16.67s/it]"
     ]
    },
    {
     "name": "stdout",
     "output_type": "stream",
     "text": [
      "Data loaded in 1.2109 seconds, processing\n",
      "Bandpass cleaned in 1.6391 seconds.\n",
      "Stamps filtered in 13.5524 seconds\n",
      "Saving results\n"
     ]
    },
    {
     "name": "stderr",
     "output_type": "stream",
     "text": [
      " 83%|████████▎ | 84/101 [23:20<04:47, 16.91s/it]"
     ]
    },
    {
     "name": "stdout",
     "output_type": "stream",
     "text": [
      "Results aggregated in 1.0486 seconds\n",
      "Processing coarse channels 252-255\n",
      "Data loaded in 1.4298 seconds, processing\n",
      "Bandpass cleaned in 1.6848 seconds.\n",
      "Stamps filtered in 13.6775 seconds\n",
      "Saving results\n"
     ]
    },
    {
     "name": "stderr",
     "output_type": "stream",
     "text": [
      " 84%|████████▍ | 85/101 [23:38<04:36, 17.26s/it]"
     ]
    },
    {
     "name": "stdout",
     "output_type": "stream",
     "text": [
      "Results aggregated in 1.2727 seconds\n",
      "Processing coarse channels 255-258\n",
      "Data loaded in 1.1862 seconds, processing\n",
      "Bandpass cleaned in 1.7039 seconds.\n",
      "Stamps filtered in 13.1628 seconds\n",
      "Saving results\n",
      "Results aggregated in 0.1074 seconds\n",
      "Processing coarse channels 258-261\n"
     ]
    },
    {
     "name": "stderr",
     "output_type": "stream",
     "text": [
      " 85%|████████▌ | 86/101 [23:55<04:14, 16.94s/it]"
     ]
    },
    {
     "name": "stdout",
     "output_type": "stream",
     "text": [
      "Data loaded in 0.9139 seconds, processing\n",
      "Bandpass cleaned in 1.6446 seconds.\n",
      "Stamps filtered in 14.1341 seconds\n",
      "Saving results\n",
      "Results aggregated in 0.0631 seconds\n",
      "Processing coarse channels 261-264\n"
     ]
    },
    {
     "name": "stderr",
     "output_type": "stream",
     "text": [
      " 86%|████████▌ | 87/101 [24:11<03:56, 16.88s/it]"
     ]
    },
    {
     "name": "stdout",
     "output_type": "stream",
     "text": [
      "Data loaded in 1.5747 seconds, processing\n",
      "Bandpass cleaned in 1.6586 seconds.\n",
      "Stamps filtered in 13.5516 seconds\n",
      "Saving results\n",
      "Results aggregated in 0.0699 seconds\n",
      "Processing coarse channels 264-267\n"
     ]
    },
    {
     "name": "stderr",
     "output_type": "stream",
     "text": [
      " 87%|████████▋ | 88/101 [24:28<03:39, 16.88s/it]"
     ]
    },
    {
     "name": "stdout",
     "output_type": "stream",
     "text": [
      "Data loaded in 1.0056 seconds, processing\n",
      "Bandpass cleaned in 1.6150 seconds.\n",
      "Stamps filtered in 13.5392 seconds\n",
      "Saving results\n",
      "Results aggregated in 0.0785 seconds\n",
      "Processing coarse channels 267-270\n"
     ]
    },
    {
     "name": "stderr",
     "output_type": "stream",
     "text": [
      " 88%|████████▊ | 89/101 [24:45<03:20, 16.69s/it]"
     ]
    },
    {
     "name": "stdout",
     "output_type": "stream",
     "text": [
      "Data loaded in 1.2683 seconds, processing\n",
      "Bandpass cleaned in 1.6042 seconds.\n",
      "Stamps filtered in 13.7280 seconds\n",
      "Saving results\n",
      "Results aggregated in 0.0834 seconds\n",
      "Processing coarse channels 270-273\n"
     ]
    },
    {
     "name": "stderr",
     "output_type": "stream",
     "text": [
      " 89%|████████▉ | 90/101 [25:01<03:03, 16.69s/it]"
     ]
    },
    {
     "name": "stdout",
     "output_type": "stream",
     "text": [
      "Data loaded in 1.2571 seconds, processing\n",
      "Bandpass cleaned in 1.6281 seconds.\n",
      "Stamps filtered in 13.5077 seconds\n",
      "Saving results\n",
      "Results aggregated in 0.0694 seconds\n",
      "Processing coarse channels 273-276\n"
     ]
    },
    {
     "name": "stderr",
     "output_type": "stream",
     "text": [
      " 90%|█████████ | 91/101 [25:18<02:46, 16.63s/it]"
     ]
    },
    {
     "name": "stdout",
     "output_type": "stream",
     "text": [
      "Data loaded in 0.9069 seconds, processing\n",
      "Bandpass cleaned in 1.6381 seconds.\n",
      "Stamps filtered in 13.6422 seconds\n",
      "Saving results\n",
      "Results aggregated in 0.0729 seconds\n",
      "Processing coarse channels 276-279\n"
     ]
    },
    {
     "name": "stderr",
     "output_type": "stream",
     "text": [
      " 91%|█████████ | 92/101 [25:34<02:28, 16.52s/it]"
     ]
    },
    {
     "name": "stdout",
     "output_type": "stream",
     "text": [
      "Data loaded in 1.3507 seconds, processing\n",
      "Bandpass cleaned in 1.6413 seconds.\n",
      "Stamps filtered in 13.8937 seconds\n",
      "Saving results\n",
      "Results aggregated in 0.0694 seconds\n",
      "Processing coarse channels 279-282\n"
     ]
    },
    {
     "name": "stderr",
     "output_type": "stream",
     "text": [
      " 92%|█████████▏| 93/101 [25:51<02:13, 16.65s/it]"
     ]
    },
    {
     "name": "stdout",
     "output_type": "stream",
     "text": [
      "Data loaded in 0.8728 seconds, processing\n",
      "Bandpass cleaned in 1.6500 seconds.\n",
      "Stamps filtered in 13.5572 seconds\n",
      "Saving results\n",
      "Results aggregated in 0.1647 seconds\n",
      "Processing coarse channels 282-285\n"
     ]
    },
    {
     "name": "stderr",
     "output_type": "stream",
     "text": [
      " 93%|█████████▎| 94/101 [26:07<01:55, 16.54s/it]"
     ]
    },
    {
     "name": "stdout",
     "output_type": "stream",
     "text": [
      "Data loaded in 1.3012 seconds, processing\n",
      "Bandpass cleaned in 1.6732 seconds.\n",
      "Stamps filtered in 13.4884 seconds\n",
      "Saving results\n",
      "Results aggregated in 0.0817 seconds\n",
      "Processing coarse channels 285-288\n"
     ]
    },
    {
     "name": "stderr",
     "output_type": "stream",
     "text": [
      " 94%|█████████▍| 95/101 [26:24<01:39, 16.54s/it]"
     ]
    },
    {
     "name": "stdout",
     "output_type": "stream",
     "text": [
      "Data loaded in 1.3966 seconds, processing\n",
      "Bandpass cleaned in 1.6345 seconds.\n",
      "Stamps filtered in 13.4561 seconds\n",
      "Saving results\n",
      "Results aggregated in 0.0786 seconds\n",
      "Processing coarse channels 288-291\n"
     ]
    },
    {
     "name": "stderr",
     "output_type": "stream",
     "text": [
      " 95%|█████████▌| 96/101 [26:40<01:22, 16.55s/it]"
     ]
    },
    {
     "name": "stdout",
     "output_type": "stream",
     "text": [
      "Data loaded in 1.0766 seconds, processing\n",
      "Bandpass cleaned in 1.6288 seconds.\n",
      "Stamps filtered in 13.6601 seconds\n",
      "Saving results\n",
      "Results aggregated in 0.0762 seconds\n",
      "Processing coarse channels 291-294\n"
     ]
    },
    {
     "name": "stderr",
     "output_type": "stream",
     "text": [
      " 96%|█████████▌| 97/101 [26:57<01:06, 16.52s/it]"
     ]
    },
    {
     "name": "stdout",
     "output_type": "stream",
     "text": [
      "Data loaded in 1.4772 seconds, processing\n",
      "Bandpass cleaned in 1.6538 seconds.\n",
      "Stamps filtered in 13.4462 seconds\n",
      "Saving results\n",
      "Results aggregated in 0.0897 seconds\n",
      "Processing coarse channels 294-297\n"
     ]
    },
    {
     "name": "stderr",
     "output_type": "stream",
     "text": [
      " 97%|█████████▋| 98/101 [27:13<00:49, 16.57s/it]"
     ]
    },
    {
     "name": "stdout",
     "output_type": "stream",
     "text": [
      "Data loaded in 1.0480 seconds, processing\n",
      "Bandpass cleaned in 1.7896 seconds.\n",
      "Stamps filtered in 13.6071 seconds\n",
      "Saving results\n",
      "Results aggregated in 0.1055 seconds\n",
      "Processing coarse channels 297-300\n"
     ]
    },
    {
     "name": "stderr",
     "output_type": "stream",
     "text": [
      " 98%|█████████▊| 99/101 [27:30<00:33, 16.57s/it]"
     ]
    },
    {
     "name": "stdout",
     "output_type": "stream",
     "text": [
      "Data loaded in 0.8172 seconds, processing\n",
      "Bandpass cleaned in 1.7257 seconds.\n",
      "Stamps filtered in 13.5963 seconds\n",
      "Saving results\n",
      "Results aggregated in 0.0802 seconds\n",
      "Processing coarse channels 300-303\n"
     ]
    },
    {
     "name": "stderr",
     "output_type": "stream",
     "text": [
      " 99%|█████████▉| 100/101 [27:46<00:16, 16.47s/it]"
     ]
    },
    {
     "name": "stdout",
     "output_type": "stream",
     "text": [
      "Data loaded in 0.8037 seconds, processing\n",
      "Bandpass cleaned in 1.5746 seconds.\n",
      "Stamps filtered in 13.4354 seconds\n",
      "Saving results\n"
     ]
    },
    {
     "name": "stderr",
     "output_type": "stream",
     "text": [
      "100%|██████████| 101/101 [28:02<00:00, 16.66s/it]\n"
     ]
    },
    {
     "name": "stdout",
     "output_type": "stream",
     "text": [
      "Results aggregated in 0.0679 seconds\n",
      "        level_0      index     statistic  pvalue        freqs\n",
      "132905   132905  314097536  42991.352521     0.0  1035.644894\n",
      "132894   132894  313064320  28374.615834     0.0  1038.574582\n",
      "132255   132255  295499648  25139.809154     0.0  1088.379269\n",
      "132415   132415  300219520  12054.402861     0.0  1074.996056\n",
      "73522     73522  136955392  12053.868253     0.0  1537.932049\n",
      "77343     77343  139220992  11929.965385     0.0  1531.507933\n",
      "69320     69320  134683008  11761.789946     0.0  1544.375402\n",
      "77314     77314  139217280  11648.996211     0.0  1531.518458\n",
      "9591       9591   78916736  12155.629670     0.0  1702.500857\n",
      "9498       9498   78904832  10080.330404     0.0  1702.534610\n",
      "5789       5789   55276928   8052.570969     0.0  1769.531613\n",
      "5790       5790   55277056   8052.570694     0.0  1769.531250\n",
      "303 303\n",
      "Finished Energy Detection on GBT_57515_83602_HIP43418_fine.h5 in 1698.7068 seconds\n",
      "HIP63503-523\n",
      "/mnt_blpd7/datax/dl/GBT_57684_57862_HIP63503_fine.h5\n",
      "Header saved to ../../../../../../datax/scratch/pma/reverse_search/train_large/HIP63503-523/GBT_57684_57862_HIP63503_fine/header.pkl\n",
      "Processing 7 in parallel\n",
      "Processing coarse channels 0-7\n"
     ]
    },
    {
     "name": "stderr",
     "output_type": "stream",
     "text": [
      "  0%|          | 0/49 [00:00<?, ?it/s]"
     ]
    },
    {
     "name": "stdout",
     "output_type": "stream",
     "text": [
      "Data loaded in 3.3987 seconds, processing\n",
      "Bandpass cleaned in 3.4033 seconds.\n",
      "Stamps filtered in 14.9206 seconds\n",
      "Saving results\n",
      "Results aggregated in 0.0668 seconds\n",
      "Processing coarse channels 7-14\n"
     ]
    },
    {
     "name": "stderr",
     "output_type": "stream",
     "text": [
      "  2%|▏         | 1/49 [00:21<17:26, 21.80s/it]"
     ]
    },
    {
     "name": "stdout",
     "output_type": "stream",
     "text": [
      "Data loaded in 2.2174 seconds, processing\n",
      "Bandpass cleaned in 3.4086 seconds.\n",
      "Stamps filtered in 14.9863 seconds\n",
      "Saving results\n",
      "Results aggregated in 0.0637 seconds\n",
      "Processing coarse channels 14-21\n"
     ]
    },
    {
     "name": "stderr",
     "output_type": "stream",
     "text": [
      "  4%|▍         | 2/49 [00:42<16:33, 21.14s/it]"
     ]
    },
    {
     "name": "stdout",
     "output_type": "stream",
     "text": [
      "Data loaded in 2.0723 seconds, processing\n",
      "Bandpass cleaned in 3.1772 seconds.\n",
      "Stamps filtered in 14.8839 seconds\n",
      "Saving results\n",
      "Results aggregated in 0.0610 seconds\n",
      "Processing coarse channels 21-28\n"
     ]
    },
    {
     "name": "stderr",
     "output_type": "stream",
     "text": [
      "  6%|▌         | 3/49 [01:02<15:52, 20.72s/it]"
     ]
    },
    {
     "name": "stdout",
     "output_type": "stream",
     "text": [
      "Data loaded in 2.0609 seconds, processing\n",
      "Bandpass cleaned in 3.4392 seconds.\n",
      "Stamps filtered in 14.8578 seconds\n",
      "Saving results\n",
      "Results aggregated in 0.0629 seconds\n",
      "Processing coarse channels 28-35\n"
     ]
    },
    {
     "name": "stderr",
     "output_type": "stream",
     "text": [
      "  8%|▊         | 4/49 [01:23<15:27, 20.60s/it]"
     ]
    },
    {
     "name": "stdout",
     "output_type": "stream",
     "text": [
      "Data loaded in 2.2875 seconds, processing\n",
      "Bandpass cleaned in 3.2668 seconds.\n",
      "Stamps filtered in 14.7651 seconds\n",
      "Saving results\n",
      "Results aggregated in 0.0650 seconds\n",
      "Processing coarse channels 35-42\n"
     ]
    },
    {
     "name": "stderr",
     "output_type": "stream",
     "text": [
      " 10%|█         | 5/49 [01:43<15:03, 20.53s/it]"
     ]
    },
    {
     "name": "stdout",
     "output_type": "stream",
     "text": [
      "Data loaded in 1.7319 seconds, processing\n",
      "Bandpass cleaned in 3.5225 seconds.\n",
      "Stamps filtered in 14.7724 seconds\n",
      "Saving results\n",
      "Results aggregated in 0.0694 seconds\n",
      "Processing coarse channels 42-49\n"
     ]
    },
    {
     "name": "stderr",
     "output_type": "stream",
     "text": [
      " 12%|█▏        | 6/49 [02:03<14:36, 20.39s/it]"
     ]
    },
    {
     "name": "stdout",
     "output_type": "stream",
     "text": [
      "Data loaded in 2.3274 seconds, processing\n",
      "Bandpass cleaned in 3.3142 seconds.\n",
      "Stamps filtered in 14.9053 seconds\n",
      "Saving results\n",
      "Results aggregated in 0.0674 seconds\n",
      "Processing coarse channels 49-56\n"
     ]
    },
    {
     "name": "stderr",
     "output_type": "stream",
     "text": [
      " 14%|█▍        | 7/49 [02:24<14:19, 20.46s/it]"
     ]
    },
    {
     "name": "stdout",
     "output_type": "stream",
     "text": [
      "Data loaded in 2.2025 seconds, processing\n",
      "Bandpass cleaned in 3.2449 seconds.\n",
      "Stamps filtered in 14.6531 seconds\n",
      "Saving results\n",
      "Results aggregated in 0.0669 seconds\n",
      "Processing coarse channels 56-63\n"
     ]
    },
    {
     "name": "stderr",
     "output_type": "stream",
     "text": [
      " 16%|█▋        | 8/49 [02:44<13:55, 20.37s/it]"
     ]
    },
    {
     "name": "stdout",
     "output_type": "stream",
     "text": [
      "Data loaded in 1.7084 seconds, processing\n",
      "Bandpass cleaned in 3.2633 seconds.\n",
      "Stamps filtered in 14.7877 seconds\n",
      "Saving results\n",
      "Results aggregated in 0.0673 seconds\n",
      "Processing coarse channels 63-70\n"
     ]
    },
    {
     "name": "stderr",
     "output_type": "stream",
     "text": [
      " 18%|█▊        | 9/49 [03:04<13:28, 20.21s/it]"
     ]
    },
    {
     "name": "stdout",
     "output_type": "stream",
     "text": [
      "Data loaded in 2.1126 seconds, processing\n",
      "Bandpass cleaned in 3.2616 seconds.\n",
      "Stamps filtered in 14.7692 seconds\n",
      "Saving results\n",
      "Results aggregated in 0.0612 seconds\n",
      "Processing coarse channels 70-77\n"
     ]
    },
    {
     "name": "stderr",
     "output_type": "stream",
     "text": [
      " 20%|██        | 10/49 [03:24<13:08, 20.21s/it]"
     ]
    },
    {
     "name": "stdout",
     "output_type": "stream",
     "text": [
      "Data loaded in 1.9258 seconds, processing\n",
      "Bandpass cleaned in 3.3152 seconds.\n",
      "Stamps filtered in 14.8300 seconds\n",
      "Saving results\n",
      "Results aggregated in 0.0608 seconds\n",
      "Processing coarse channels 77-84\n"
     ]
    },
    {
     "name": "stderr",
     "output_type": "stream",
     "text": [
      " 22%|██▏       | 11/49 [03:44<12:47, 20.19s/it]"
     ]
    },
    {
     "name": "stdout",
     "output_type": "stream",
     "text": [
      "Data loaded in 2.0124 seconds, processing\n",
      "Bandpass cleaned in 3.2702 seconds.\n",
      "Stamps filtered in 14.7705 seconds\n",
      "Saving results\n",
      "Results aggregated in 0.0711 seconds\n",
      "Processing coarse channels 84-91\n"
     ]
    },
    {
     "name": "stderr",
     "output_type": "stream",
     "text": [
      " 24%|██▍       | 12/49 [04:04<12:26, 20.17s/it]"
     ]
    },
    {
     "name": "stdout",
     "output_type": "stream",
     "text": [
      "Data loaded in 1.9652 seconds, processing\n",
      "Bandpass cleaned in 3.2024 seconds.\n",
      "Stamps filtered in 14.6328 seconds\n",
      "Saving results\n",
      "Results aggregated in 0.0674 seconds\n",
      "Processing coarse channels 91-98\n"
     ]
    },
    {
     "name": "stderr",
     "output_type": "stream",
     "text": [
      " 27%|██▋       | 13/49 [04:24<12:03, 20.08s/it]"
     ]
    },
    {
     "name": "stdout",
     "output_type": "stream",
     "text": [
      "Data loaded in 1.9174 seconds, processing\n",
      "Bandpass cleaned in 3.3894 seconds.\n",
      "Stamps filtered in 14.7313 seconds\n",
      "Saving results\n",
      "Results aggregated in 0.0657 seconds\n",
      "Processing coarse channels 98-105\n"
     ]
    },
    {
     "name": "stderr",
     "output_type": "stream",
     "text": [
      " 29%|██▊       | 14/49 [04:44<11:43, 20.09s/it]"
     ]
    },
    {
     "name": "stdout",
     "output_type": "stream",
     "text": [
      "Data loaded in 2.5072 seconds, processing\n",
      "Bandpass cleaned in 3.2532 seconds.\n",
      "Stamps filtered in 14.8726 seconds\n",
      "Saving results\n",
      "Results aggregated in 0.0665 seconds\n",
      "Processing coarse channels 105-112\n"
     ]
    },
    {
     "name": "stderr",
     "output_type": "stream",
     "text": [
      " 31%|███       | 15/49 [05:05<11:29, 20.28s/it]"
     ]
    },
    {
     "name": "stdout",
     "output_type": "stream",
     "text": [
      "Data loaded in 2.0774 seconds, processing\n",
      "Bandpass cleaned in 3.3045 seconds.\n",
      "Stamps filtered in 14.8690 seconds\n",
      "Saving results\n",
      "Results aggregated in 0.0612 seconds\n",
      "Processing coarse channels 112-119\n"
     ]
    },
    {
     "name": "stderr",
     "output_type": "stream",
     "text": [
      " 33%|███▎      | 16/49 [05:25<11:09, 20.29s/it]"
     ]
    },
    {
     "name": "stdout",
     "output_type": "stream",
     "text": [
      "Data loaded in 2.0102 seconds, processing\n",
      "Bandpass cleaned in 3.3216 seconds.\n",
      "Stamps filtered in 14.6034 seconds\n",
      "Saving results\n",
      "Results aggregated in 0.0737 seconds\n",
      "Processing coarse channels 119-126\n"
     ]
    },
    {
     "name": "stderr",
     "output_type": "stream",
     "text": [
      " 35%|███▍      | 17/49 [05:45<10:46, 20.21s/it]"
     ]
    },
    {
     "name": "stdout",
     "output_type": "stream",
     "text": [
      "Data loaded in 1.9873 seconds, processing\n",
      "Bandpass cleaned in 3.2211 seconds.\n",
      "Stamps filtered in 14.7486 seconds\n",
      "Saving results\n",
      "Results aggregated in 0.0743 seconds\n",
      "Processing coarse channels 126-133\n"
     ]
    },
    {
     "name": "stderr",
     "output_type": "stream",
     "text": [
      " 37%|███▋      | 18/49 [06:05<10:25, 20.16s/it]"
     ]
    },
    {
     "name": "stdout",
     "output_type": "stream",
     "text": [
      "Data loaded in 1.8826 seconds, processing\n",
      "Bandpass cleaned in 3.1089 seconds.\n",
      "Stamps filtered in 14.7553 seconds\n",
      "Saving results\n",
      "Results aggregated in 0.0801 seconds\n",
      "Processing coarse channels 133-140\n"
     ]
    },
    {
     "name": "stderr",
     "output_type": "stream",
     "text": [
      " 39%|███▉      | 19/49 [06:25<10:01, 20.07s/it]"
     ]
    },
    {
     "name": "stdout",
     "output_type": "stream",
     "text": [
      "Data loaded in 2.0051 seconds, processing\n",
      "Bandpass cleaned in 3.1181 seconds.\n",
      "Stamps filtered in 14.8327 seconds\n",
      "Saving results\n",
      "Results aggregated in 0.0697 seconds\n",
      "Processing coarse channels 140-147\n"
     ]
    },
    {
     "name": "stderr",
     "output_type": "stream",
     "text": [
      " 41%|████      | 20/49 [06:45<09:41, 20.06s/it]"
     ]
    },
    {
     "name": "stdout",
     "output_type": "stream",
     "text": [
      "Data loaded in 1.8091 seconds, processing\n",
      "Bandpass cleaned in 3.1986 seconds.\n",
      "Stamps filtered in 14.7826 seconds\n",
      "Saving results\n",
      "Results aggregated in 0.0703 seconds\n",
      "Processing coarse channels 147-154\n"
     ]
    },
    {
     "name": "stderr",
     "output_type": "stream",
     "text": [
      " 43%|████▎     | 21/49 [07:05<09:20, 20.00s/it]"
     ]
    },
    {
     "name": "stdout",
     "output_type": "stream",
     "text": [
      "Data loaded in 1.8855 seconds, processing\n",
      "Bandpass cleaned in 3.1122 seconds.\n",
      "Stamps filtered in 14.8897 seconds\n",
      "Saving results\n",
      "Results aggregated in 0.0647 seconds\n",
      "Processing coarse channels 154-161\n"
     ]
    },
    {
     "name": "stderr",
     "output_type": "stream",
     "text": [
      " 45%|████▍     | 22/49 [07:25<08:59, 19.99s/it]"
     ]
    },
    {
     "name": "stdout",
     "output_type": "stream",
     "text": [
      "Data loaded in 2.1560 seconds, processing\n",
      "Bandpass cleaned in 3.3534 seconds.\n",
      "Stamps filtered in 14.5024 seconds\n",
      "Saving results\n",
      "Results aggregated in 0.0777 seconds\n",
      "Processing coarse channels 161-168\n"
     ]
    },
    {
     "name": "stderr",
     "output_type": "stream",
     "text": [
      " 47%|████▋     | 23/49 [07:45<08:40, 20.02s/it]"
     ]
    },
    {
     "name": "stdout",
     "output_type": "stream",
     "text": [
      "Data loaded in 1.8991 seconds, processing\n",
      "Bandpass cleaned in 3.5820 seconds.\n",
      "Stamps filtered in 14.9169 seconds\n",
      "Saving results\n",
      "Results aggregated in 0.1335 seconds\n",
      "Processing coarse channels 168-175\n"
     ]
    },
    {
     "name": "stderr",
     "output_type": "stream",
     "text": [
      " 49%|████▉     | 24/49 [08:06<08:24, 20.18s/it]"
     ]
    },
    {
     "name": "stdout",
     "output_type": "stream",
     "text": [
      "Data loaded in 1.8682 seconds, processing\n",
      "Bandpass cleaned in 3.0468 seconds.\n",
      "Stamps filtered in 14.7689 seconds\n",
      "Saving results\n",
      "Results aggregated in 0.0745 seconds\n",
      "Processing coarse channels 175-182\n"
     ]
    },
    {
     "name": "stderr",
     "output_type": "stream",
     "text": [
      " 51%|█████     | 25/49 [08:26<08:01, 20.06s/it]"
     ]
    },
    {
     "name": "stdout",
     "output_type": "stream",
     "text": [
      "Data loaded in 1.7895 seconds, processing\n",
      "Bandpass cleaned in 3.2819 seconds.\n",
      "Stamps filtered in 15.0414 seconds\n",
      "Saving results\n",
      "Results aggregated in 0.0690 seconds\n",
      "Processing coarse channels 182-189\n"
     ]
    },
    {
     "name": "stderr",
     "output_type": "stream",
     "text": [
      " 53%|█████▎    | 26/49 [08:46<07:42, 20.10s/it]"
     ]
    },
    {
     "name": "stdout",
     "output_type": "stream",
     "text": [
      "Data loaded in 1.9367 seconds, processing\n",
      "Bandpass cleaned in 3.3774 seconds.\n",
      "Stamps filtered in 14.8474 seconds\n",
      "Saving results\n",
      "Results aggregated in 0.0686 seconds\n",
      "Processing coarse channels 189-196\n"
     ]
    },
    {
     "name": "stderr",
     "output_type": "stream",
     "text": [
      " 55%|█████▌    | 27/49 [09:06<07:23, 20.14s/it]"
     ]
    },
    {
     "name": "stdout",
     "output_type": "stream",
     "text": [
      "Data loaded in 1.7373 seconds, processing\n",
      "Bandpass cleaned in 3.5843 seconds.\n",
      "Stamps filtered in 14.9587 seconds\n",
      "Saving results\n",
      "Results aggregated in 0.1138 seconds\n",
      "Processing coarse channels 196-203\n"
     ]
    },
    {
     "name": "stderr",
     "output_type": "stream",
     "text": [
      " 57%|█████▋    | 28/49 [09:26<07:04, 20.22s/it]"
     ]
    },
    {
     "name": "stdout",
     "output_type": "stream",
     "text": [
      "Data loaded in 1.8465 seconds, processing\n",
      "Bandpass cleaned in 3.1746 seconds.\n",
      "Stamps filtered in 15.1277 seconds\n",
      "Saving results\n"
     ]
    },
    {
     "name": "stderr",
     "output_type": "stream",
     "text": [
      " 59%|█████▉    | 29/49 [09:47<06:45, 20.28s/it]"
     ]
    },
    {
     "name": "stdout",
     "output_type": "stream",
     "text": [
      "Results aggregated in 0.2586 seconds\n",
      "Processing coarse channels 203-210\n",
      "Data loaded in 2.1108 seconds, processing\n",
      "Bandpass cleaned in 3.1076 seconds.\n",
      "Stamps filtered in 14.7346 seconds\n",
      "Saving results\n",
      "Results aggregated in 0.1203 seconds\n",
      "Processing coarse channels 210-217\n"
     ]
    },
    {
     "name": "stderr",
     "output_type": "stream",
     "text": [
      " 61%|██████    | 30/49 [10:07<06:24, 20.22s/it]"
     ]
    },
    {
     "name": "stdout",
     "output_type": "stream",
     "text": [
      "Data loaded in 1.9817 seconds, processing\n",
      "Bandpass cleaned in 3.1441 seconds.\n",
      "Stamps filtered in 14.8353 seconds\n",
      "Saving results\n",
      "Results aggregated in 0.0755 seconds\n",
      "Processing coarse channels 217-224\n"
     ]
    },
    {
     "name": "stderr",
     "output_type": "stream",
     "text": [
      " 63%|██████▎   | 31/49 [10:27<06:03, 20.17s/it]"
     ]
    },
    {
     "name": "stdout",
     "output_type": "stream",
     "text": [
      "Data loaded in 1.7757 seconds, processing\n",
      "Bandpass cleaned in 3.4991 seconds.\n",
      "Stamps filtered in 14.8183 seconds\n",
      "Saving results\n",
      "Results aggregated in 0.0751 seconds\n",
      "Processing coarse channels 224-231\n"
     ]
    },
    {
     "name": "stderr",
     "output_type": "stream",
     "text": [
      " 65%|██████▌   | 32/49 [10:47<05:42, 20.17s/it]"
     ]
    },
    {
     "name": "stdout",
     "output_type": "stream",
     "text": [
      "Data loaded in 1.8495 seconds, processing\n",
      "Bandpass cleaned in 3.5867 seconds.\n",
      "Stamps filtered in 14.7895 seconds\n",
      "Saving results\n",
      "Results aggregated in 0.0870 seconds\n",
      "Processing coarse channels 231-238\n"
     ]
    },
    {
     "name": "stderr",
     "output_type": "stream",
     "text": [
      " 67%|██████▋   | 33/49 [11:07<05:23, 20.22s/it]"
     ]
    },
    {
     "name": "stdout",
     "output_type": "stream",
     "text": [
      "Data loaded in 2.0207 seconds, processing\n",
      "Bandpass cleaned in 3.6421 seconds.\n",
      "Stamps filtered in 14.9050 seconds\n",
      "Saving results\n"
     ]
    },
    {
     "name": "stderr",
     "output_type": "stream",
     "text": [
      " 69%|██████▉   | 34/49 [11:29<05:07, 20.52s/it]"
     ]
    },
    {
     "name": "stdout",
     "output_type": "stream",
     "text": [
      "Results aggregated in 0.6356 seconds\n",
      "Processing coarse channels 238-245\n",
      "Data loaded in 1.5640 seconds, processing\n",
      "Bandpass cleaned in 3.1792 seconds.\n",
      "Stamps filtered in 14.9846 seconds\n",
      "Saving results\n"
     ]
    },
    {
     "name": "stderr",
     "output_type": "stream",
     "text": [
      " 71%|███████▏  | 35/49 [11:49<04:45, 20.40s/it]"
     ]
    },
    {
     "name": "stdout",
     "output_type": "stream",
     "text": [
      "Results aggregated in 0.3724 seconds\n",
      "Processing coarse channels 245-252\n",
      "Data loaded in 1.8576 seconds, processing\n",
      "Bandpass cleaned in 3.7659 seconds.\n",
      "Stamps filtered in 15.0187 seconds\n",
      "Saving results\n",
      "Results aggregated in 0.0855 seconds\n",
      "Processing coarse channels 252-259\n"
     ]
    },
    {
     "name": "stderr",
     "output_type": "stream",
     "text": [
      " 73%|███████▎  | 36/49 [12:09<04:26, 20.50s/it]"
     ]
    },
    {
     "name": "stdout",
     "output_type": "stream",
     "text": [
      "Data loaded in 1.9208 seconds, processing\n",
      "Bandpass cleaned in 3.5888 seconds.\n",
      "Stamps filtered in 14.7998 seconds\n",
      "Saving results\n",
      "Results aggregated in 0.0896 seconds\n",
      "Processing coarse channels 259-266\n"
     ]
    },
    {
     "name": "stderr",
     "output_type": "stream",
     "text": [
      " 76%|███████▌  | 37/49 [12:30<04:05, 20.47s/it]"
     ]
    },
    {
     "name": "stdout",
     "output_type": "stream",
     "text": [
      "Data loaded in 1.9993 seconds, processing\n",
      "Bandpass cleaned in 3.6516 seconds.\n",
      "Stamps filtered in 14.8099 seconds\n",
      "Saving results\n",
      "Results aggregated in 0.0908 seconds\n",
      "Processing coarse channels 266-273\n"
     ]
    },
    {
     "name": "stderr",
     "output_type": "stream",
     "text": [
      " 78%|███████▊  | 38/49 [12:50<03:45, 20.50s/it]"
     ]
    },
    {
     "name": "stdout",
     "output_type": "stream",
     "text": [
      "Data loaded in 1.9254 seconds, processing\n",
      "Bandpass cleaned in 3.0893 seconds.\n",
      "Stamps filtered in 15.1274 seconds\n",
      "Saving results\n",
      "Results aggregated in 0.0814 seconds\n",
      "Processing coarse channels 273-280\n"
     ]
    },
    {
     "name": "stderr",
     "output_type": "stream",
     "text": [
      " 80%|███████▉  | 39/49 [13:11<03:24, 20.42s/it]"
     ]
    },
    {
     "name": "stdout",
     "output_type": "stream",
     "text": [
      "Data loaded in 1.8419 seconds, processing\n",
      "Bandpass cleaned in 3.8010 seconds.\n",
      "Stamps filtered in 14.9502 seconds\n",
      "Saving results\n",
      "Results aggregated in 0.0807 seconds\n",
      "Processing coarse channels 280-287\n"
     ]
    },
    {
     "name": "stderr",
     "output_type": "stream",
     "text": [
      " 82%|████████▏ | 40/49 [13:31<03:04, 20.50s/it]"
     ]
    },
    {
     "name": "stdout",
     "output_type": "stream",
     "text": [
      "Data loaded in 2.0541 seconds, processing\n",
      "Bandpass cleaned in 3.2969 seconds.\n",
      "Stamps filtered in 15.0952 seconds\n",
      "Saving results\n",
      "Results aggregated in 0.0908 seconds\n",
      "Processing coarse channels 287-294\n"
     ]
    },
    {
     "name": "stderr",
     "output_type": "stream",
     "text": [
      " 84%|████████▎ | 41/49 [13:52<02:44, 20.52s/it]"
     ]
    },
    {
     "name": "stdout",
     "output_type": "stream",
     "text": [
      "Data loaded in 1.9247 seconds, processing\n",
      "Bandpass cleaned in 3.3553 seconds.\n",
      "Stamps filtered in 15.2583 seconds\n",
      "Saving results\n",
      "Results aggregated in 0.1043 seconds\n",
      "Processing coarse channels 294-301\n"
     ]
    },
    {
     "name": "stderr",
     "output_type": "stream",
     "text": [
      " 86%|████████▌ | 42/49 [14:13<02:23, 20.56s/it]"
     ]
    },
    {
     "name": "stdout",
     "output_type": "stream",
     "text": [
      "Data loaded in 1.9657 seconds, processing\n",
      "Bandpass cleaned in 3.1269 seconds.\n",
      "Stamps filtered in 15.4043 seconds\n",
      "Saving results\n"
     ]
    },
    {
     "name": "stderr",
     "output_type": "stream",
     "text": [
      " 88%|████████▊ | 43/49 [14:34<02:05, 20.87s/it]"
     ]
    },
    {
     "name": "stdout",
     "output_type": "stream",
     "text": [
      "Results aggregated in 1.0764 seconds\n",
      "Processing coarse channels 301-308\n",
      "Data loaded in 2.0494 seconds, processing\n",
      "Bandpass cleaned in 3.3865 seconds.\n",
      "Stamps filtered in 15.0155 seconds\n",
      "Saving results\n"
     ]
    },
    {
     "name": "stderr",
     "output_type": "stream",
     "text": [
      " 90%|████████▉ | 44/49 [14:55<01:44, 20.82s/it]"
     ]
    },
    {
     "name": "stdout",
     "output_type": "stream",
     "text": [
      "Results aggregated in 0.2422 seconds\n",
      "Processing coarse channels 308-315\n",
      "Data loaded in 1.8631 seconds, processing\n",
      "Bandpass cleaned in 3.6169 seconds.\n",
      "Stamps filtered in 14.9163 seconds\n",
      "Saving results\n",
      "Results aggregated in 0.0915 seconds\n",
      "Processing coarse channels 315-322\n"
     ]
    },
    {
     "name": "stderr",
     "output_type": "stream",
     "text": [
      " 92%|█████████▏| 45/49 [15:15<01:22, 20.72s/it]"
     ]
    },
    {
     "name": "stdout",
     "output_type": "stream",
     "text": [
      "Data loaded in 2.0733 seconds, processing\n",
      "Bandpass cleaned in 3.2269 seconds.\n",
      "Stamps filtered in 14.9489 seconds\n",
      "Saving results\n",
      "Results aggregated in 0.0892 seconds\n",
      "Processing coarse channels 322-329\n"
     ]
    },
    {
     "name": "stderr",
     "output_type": "stream",
     "text": [
      " 94%|█████████▍| 46/49 [15:36<01:01, 20.61s/it]"
     ]
    },
    {
     "name": "stdout",
     "output_type": "stream",
     "text": [
      "Data loaded in 1.9417 seconds, processing\n",
      "Bandpass cleaned in 3.5842 seconds.\n",
      "Stamps filtered in 15.1349 seconds\n",
      "Saving results\n",
      "Results aggregated in 0.0997 seconds\n",
      "Processing coarse channels 329-336\n"
     ]
    },
    {
     "name": "stderr",
     "output_type": "stream",
     "text": [
      " 96%|█████████▌| 47/49 [15:57<00:41, 20.66s/it]"
     ]
    },
    {
     "name": "stdout",
     "output_type": "stream",
     "text": [
      "Data loaded in 1.8047 seconds, processing\n",
      "Bandpass cleaned in 3.1488 seconds.\n",
      "Stamps filtered in 14.8075 seconds\n",
      "Saving results\n",
      "Results aggregated in 0.0944 seconds\n",
      "Processing coarse channels 336-343\n"
     ]
    },
    {
     "name": "stderr",
     "output_type": "stream",
     "text": [
      " 98%|█████████▊| 48/49 [16:16<00:20, 20.42s/it]"
     ]
    },
    {
     "name": "stdout",
     "output_type": "stream",
     "text": [
      "Data loaded in 1.5715 seconds, processing\n",
      "Bandpass cleaned in 3.1967 seconds.\n",
      "Stamps filtered in 15.1822 seconds\n",
      "Saving results\n"
     ]
    },
    {
     "name": "stderr",
     "output_type": "stream",
     "text": [
      "100%|██████████| 49/49 [16:36<00:00, 20.35s/it]\n"
     ]
    },
    {
     "name": "stdout",
     "output_type": "stream",
     "text": [
      "Results aggregated in 0.0972 seconds\n",
      "      level_0      index     statistic  pvalue        freqs\n",
      "1039     1039  199942016  13975.102618     0.0  2244.200492\n",
      "1038     1038  199941888  13972.741180     0.0  2244.200850\n",
      "6586     6586  249331456  13423.362744     0.0  2106.207991\n",
      "6502     6502  249307776  13363.284835     0.0  2106.274152\n",
      "343 343\n",
      "Finished Energy Detection on GBT_57684_57862_HIP63503_fine.h5 in 999.7995 seconds\n",
      "/mnt_blpd7/datax/dl/GBT_57684_58202_HIP62578_fine.h5\n",
      "Header saved to ../../../../../../datax/scratch/pma/reverse_search/train_large/HIP63503-523/GBT_57684_58202_HIP62578_fine/header.pkl\n",
      "Processing 7 in parallel\n",
      "Processing coarse channels 0-7\n"
     ]
    },
    {
     "name": "stderr",
     "output_type": "stream",
     "text": [
      "  0%|          | 0/49 [00:00<?, ?it/s]"
     ]
    },
    {
     "name": "stdout",
     "output_type": "stream",
     "text": [
      "Data loaded in 3.3532 seconds, processing\n",
      "Bandpass cleaned in 3.3671 seconds.\n",
      "Stamps filtered in 14.5639 seconds\n",
      "Saving results\n",
      "Results aggregated in 0.0651 seconds\n",
      "Processing coarse channels 7-14\n"
     ]
    },
    {
     "name": "stderr",
     "output_type": "stream",
     "text": [
      "  2%|▏         | 1/49 [00:21<17:05, 21.36s/it]"
     ]
    },
    {
     "name": "stdout",
     "output_type": "stream",
     "text": [
      "Data loaded in 2.3712 seconds, processing\n",
      "Bandpass cleaned in 3.2360 seconds.\n",
      "Stamps filtered in 14.4886 seconds\n",
      "Saving results\n",
      "Results aggregated in 0.0620 seconds\n",
      "Processing coarse channels 14-21\n"
     ]
    },
    {
     "name": "stderr",
     "output_type": "stream",
     "text": [
      "  4%|▍         | 2/49 [00:41<16:10, 20.66s/it]"
     ]
    },
    {
     "name": "stdout",
     "output_type": "stream",
     "text": [
      "Data loaded in 2.2341 seconds, processing\n",
      "Bandpass cleaned in 3.3703 seconds.\n",
      "Stamps filtered in 15.1819 seconds\n",
      "Saving results\n",
      "Results aggregated in 0.0607 seconds\n",
      "Processing coarse channels 21-28\n"
     ]
    },
    {
     "name": "stderr",
     "output_type": "stream",
     "text": [
      "  6%|▌         | 3/49 [01:02<15:54, 20.75s/it]"
     ]
    },
    {
     "name": "stdout",
     "output_type": "stream",
     "text": [
      "Data loaded in 2.5613 seconds, processing\n",
      "Bandpass cleaned in 3.3076 seconds.\n",
      "Stamps filtered in 14.6557 seconds\n",
      "Saving results\n",
      "Results aggregated in 0.0656 seconds\n",
      "Processing coarse channels 28-35\n"
     ]
    },
    {
     "name": "stderr",
     "output_type": "stream",
     "text": [
      "  8%|▊         | 4/49 [01:22<15:31, 20.69s/it]"
     ]
    },
    {
     "name": "stdout",
     "output_type": "stream",
     "text": [
      "Data loaded in 2.2152 seconds, processing\n",
      "Bandpass cleaned in 3.0465 seconds.\n",
      "Stamps filtered in 14.1543 seconds\n",
      "Saving results\n",
      "Results aggregated in 0.0677 seconds\n",
      "Processing coarse channels 35-42\n"
     ]
    },
    {
     "name": "stderr",
     "output_type": "stream",
     "text": [
      " 10%|█         | 5/49 [01:42<14:51, 20.26s/it]"
     ]
    },
    {
     "name": "stdout",
     "output_type": "stream",
     "text": [
      "Data loaded in 2.3590 seconds, processing\n",
      "Bandpass cleaned in 3.5198 seconds.\n",
      "Stamps filtered in 14.0762 seconds\n",
      "Saving results\n",
      "Results aggregated in 0.0676 seconds\n",
      "Processing coarse channels 42-49\n"
     ]
    },
    {
     "name": "stderr",
     "output_type": "stream",
     "text": [
      " 12%|█▏        | 6/49 [02:02<14:27, 20.18s/it]"
     ]
    },
    {
     "name": "stdout",
     "output_type": "stream",
     "text": [
      "Data loaded in 2.3171 seconds, processing\n",
      "Bandpass cleaned in 3.2035 seconds.\n",
      "Stamps filtered in 14.8183 seconds\n",
      "Saving results\n",
      "Results aggregated in 0.0602 seconds\n",
      "Processing coarse channels 49-56\n"
     ]
    },
    {
     "name": "stderr",
     "output_type": "stream",
     "text": [
      " 14%|█▍        | 7/49 [02:22<14:10, 20.26s/it]"
     ]
    },
    {
     "name": "stdout",
     "output_type": "stream",
     "text": [
      "Data loaded in 2.2174 seconds, processing\n",
      "Bandpass cleaned in 3.3531 seconds.\n",
      "Stamps filtered in 14.0527 seconds\n",
      "Saving results\n",
      "Results aggregated in 0.0675 seconds\n",
      "Processing coarse channels 56-63\n"
     ]
    },
    {
     "name": "stderr",
     "output_type": "stream",
     "text": [
      " 16%|█▋        | 8/49 [02:42<13:43, 20.08s/it]"
     ]
    },
    {
     "name": "stdout",
     "output_type": "stream",
     "text": [
      "Data loaded in 2.0196 seconds, processing\n",
      "Bandpass cleaned in 3.4341 seconds.\n",
      "Stamps filtered in 14.3019 seconds\n",
      "Saving results\n",
      "Results aggregated in 0.0648 seconds\n",
      "Processing coarse channels 63-70\n"
     ]
    },
    {
     "name": "stderr",
     "output_type": "stream",
     "text": [
      " 18%|█▊        | 9/49 [03:02<13:20, 20.00s/it]"
     ]
    },
    {
     "name": "stdout",
     "output_type": "stream",
     "text": [
      "Data loaded in 1.8980 seconds, processing\n",
      "Bandpass cleaned in 3.7865 seconds.\n",
      "Stamps filtered in 13.9950 seconds\n",
      "Saving results\n",
      "Results aggregated in 0.0668 seconds\n",
      "Processing coarse channels 70-77\n"
     ]
    },
    {
     "name": "stderr",
     "output_type": "stream",
     "text": [
      " 20%|██        | 10/49 [03:22<12:57, 19.93s/it]"
     ]
    },
    {
     "name": "stdout",
     "output_type": "stream",
     "text": [
      "Data loaded in 1.7116 seconds, processing\n",
      "Bandpass cleaned in 3.6176 seconds.\n",
      "Stamps filtered in 14.0215 seconds\n",
      "Saving results\n",
      "Results aggregated in 0.0671 seconds\n",
      "Processing coarse channels 77-84\n"
     ]
    },
    {
     "name": "stderr",
     "output_type": "stream",
     "text": [
      " 22%|██▏       | 11/49 [03:41<12:31, 19.78s/it]"
     ]
    },
    {
     "name": "stdout",
     "output_type": "stream",
     "text": [
      "Data loaded in 1.8792 seconds, processing\n",
      "Bandpass cleaned in 3.1845 seconds.\n",
      "Stamps filtered in 14.2357 seconds\n",
      "Saving results\n",
      "Results aggregated in 0.0696 seconds\n",
      "Processing coarse channels 84-91\n"
     ]
    },
    {
     "name": "stderr",
     "output_type": "stream",
     "text": [
      " 24%|██▍       | 12/49 [04:01<12:07, 19.66s/it]"
     ]
    },
    {
     "name": "stdout",
     "output_type": "stream",
     "text": [
      "Data loaded in 1.8422 seconds, processing\n",
      "Bandpass cleaned in 3.1127 seconds.\n",
      "Stamps filtered in 14.7759 seconds\n",
      "Saving results\n",
      "Results aggregated in 0.0717 seconds\n",
      "Processing coarse channels 91-98\n"
     ]
    },
    {
     "name": "stderr",
     "output_type": "stream",
     "text": [
      " 27%|██▋       | 13/49 [04:20<11:49, 19.71s/it]"
     ]
    },
    {
     "name": "stdout",
     "output_type": "stream",
     "text": [
      "Data loaded in 1.6419 seconds, processing\n",
      "Bandpass cleaned in 3.2205 seconds.\n",
      "Stamps filtered in 14.1578 seconds\n",
      "Saving results\n",
      "Results aggregated in 0.0663 seconds\n",
      "Processing coarse channels 98-105\n"
     ]
    },
    {
     "name": "stderr",
     "output_type": "stream",
     "text": [
      " 29%|██▊       | 14/49 [04:39<11:23, 19.52s/it]"
     ]
    },
    {
     "name": "stdout",
     "output_type": "stream",
     "text": [
      "Data loaded in 1.9477 seconds, processing\n",
      "Bandpass cleaned in 3.2380 seconds.\n",
      "Stamps filtered in 15.0257 seconds\n",
      "Saving results\n",
      "Results aggregated in 0.0890 seconds\n",
      "Processing coarse channels 105-112\n"
     ]
    },
    {
     "name": "stderr",
     "output_type": "stream",
     "text": [
      " 31%|███       | 15/49 [05:00<11:11, 19.76s/it]"
     ]
    },
    {
     "name": "stdout",
     "output_type": "stream",
     "text": [
      "Data loaded in 1.9082 seconds, processing\n",
      "Bandpass cleaned in 3.2320 seconds.\n",
      "Stamps filtered in 14.3904 seconds\n",
      "Saving results\n",
      "Results aggregated in 0.0760 seconds\n",
      "Processing coarse channels 112-119\n"
     ]
    },
    {
     "name": "stderr",
     "output_type": "stream",
     "text": [
      " 33%|███▎      | 16/49 [05:19<10:50, 19.72s/it]"
     ]
    },
    {
     "name": "stdout",
     "output_type": "stream",
     "text": [
      "Data loaded in 2.1634 seconds, processing\n",
      "Bandpass cleaned in 3.7800 seconds.\n",
      "Stamps filtered in 14.2008 seconds\n",
      "Saving results\n",
      "Results aggregated in 0.0730 seconds\n",
      "Processing coarse channels 119-126\n"
     ]
    },
    {
     "name": "stderr",
     "output_type": "stream",
     "text": [
      " 35%|███▍      | 17/49 [05:40<10:35, 19.87s/it]"
     ]
    },
    {
     "name": "stdout",
     "output_type": "stream",
     "text": [
      "Data loaded in 1.6153 seconds, processing\n",
      "Bandpass cleaned in 3.2773 seconds.\n",
      "Stamps filtered in 13.9640 seconds\n",
      "Saving results\n",
      "Results aggregated in 0.0841 seconds\n",
      "Processing coarse channels 126-133\n"
     ]
    },
    {
     "name": "stderr",
     "output_type": "stream",
     "text": [
      " 37%|███▋      | 18/49 [05:59<10:07, 19.59s/it]"
     ]
    },
    {
     "name": "stdout",
     "output_type": "stream",
     "text": [
      "Data loaded in 1.7374 seconds, processing\n",
      "Bandpass cleaned in 3.6153 seconds.\n",
      "Stamps filtered in 14.7466 seconds\n",
      "Saving results\n",
      "Results aggregated in 0.0832 seconds\n",
      "Processing coarse channels 133-140\n"
     ]
    },
    {
     "name": "stderr",
     "output_type": "stream",
     "text": [
      " 39%|███▉      | 19/49 [06:19<09:53, 19.77s/it]"
     ]
    },
    {
     "name": "stdout",
     "output_type": "stream",
     "text": [
      "Data loaded in 1.5926 seconds, processing\n",
      "Bandpass cleaned in 3.4906 seconds.\n",
      "Stamps filtered in 14.0721 seconds\n",
      "Saving results\n",
      "Results aggregated in 0.0676 seconds\n",
      "Processing coarse channels 140-147\n"
     ]
    },
    {
     "name": "stderr",
     "output_type": "stream",
     "text": [
      " 41%|████      | 20/49 [06:38<09:28, 19.61s/it]"
     ]
    },
    {
     "name": "stdout",
     "output_type": "stream",
     "text": [
      "Data loaded in 1.9002 seconds, processing\n",
      "Bandpass cleaned in 3.3690 seconds.\n",
      "Stamps filtered in 14.6341 seconds\n",
      "Saving results\n",
      "Results aggregated in 0.0692 seconds\n",
      "Processing coarse channels 147-154\n"
     ]
    },
    {
     "name": "stderr",
     "output_type": "stream",
     "text": [
      " 43%|████▎     | 21/49 [06:58<09:12, 19.72s/it]"
     ]
    },
    {
     "name": "stdout",
     "output_type": "stream",
     "text": [
      "Data loaded in 1.7731 seconds, processing\n",
      "Bandpass cleaned in 3.5193 seconds.\n",
      "Stamps filtered in 13.9624 seconds\n",
      "Saving results\n",
      "Results aggregated in 0.0682 seconds\n",
      "Processing coarse channels 154-161\n"
     ]
    },
    {
     "name": "stderr",
     "output_type": "stream",
     "text": [
      " 45%|████▍     | 22/49 [07:17<08:49, 19.61s/it]"
     ]
    },
    {
     "name": "stdout",
     "output_type": "stream",
     "text": [
      "Data loaded in 1.8642 seconds, processing\n",
      "Bandpass cleaned in 3.1371 seconds.\n",
      "Stamps filtered in 14.2576 seconds\n",
      "Saving results\n",
      "Results aggregated in 0.0787 seconds\n",
      "Processing coarse channels 161-168\n"
     ]
    },
    {
     "name": "stderr",
     "output_type": "stream",
     "text": [
      " 47%|████▋     | 23/49 [07:37<08:27, 19.53s/it]"
     ]
    },
    {
     "name": "stdout",
     "output_type": "stream",
     "text": [
      "Data loaded in 2.0451 seconds, processing\n",
      "Bandpass cleaned in 3.3493 seconds.\n",
      "Stamps filtered in 14.7489 seconds\n",
      "Saving results\n",
      "Results aggregated in 0.1189 seconds\n",
      "Processing coarse channels 168-175\n"
     ]
    },
    {
     "name": "stderr",
     "output_type": "stream",
     "text": [
      " 49%|████▉     | 24/49 [07:57<08:13, 19.75s/it]"
     ]
    },
    {
     "name": "stdout",
     "output_type": "stream",
     "text": [
      "Data loaded in 1.9800 seconds, processing\n",
      "Bandpass cleaned in 3.4352 seconds.\n",
      "Stamps filtered in 14.4831 seconds\n",
      "Saving results\n",
      "Results aggregated in 0.0709 seconds\n",
      "Processing coarse channels 175-182\n"
     ]
    },
    {
     "name": "stderr",
     "output_type": "stream",
     "text": [
      " 51%|█████     | 25/49 [08:17<07:55, 19.82s/it]"
     ]
    },
    {
     "name": "stdout",
     "output_type": "stream",
     "text": [
      "Data loaded in 1.8994 seconds, processing\n",
      "Bandpass cleaned in 3.3985 seconds.\n",
      "Stamps filtered in 14.4426 seconds\n",
      "Saving results\n",
      "Results aggregated in 0.0721 seconds\n",
      "Processing coarse channels 182-189\n"
     ]
    },
    {
     "name": "stderr",
     "output_type": "stream",
     "text": [
      " 53%|█████▎    | 26/49 [08:37<07:35, 19.82s/it]"
     ]
    },
    {
     "name": "stdout",
     "output_type": "stream",
     "text": [
      "Data loaded in 1.8478 seconds, processing\n",
      "Bandpass cleaned in 3.1734 seconds.\n",
      "Stamps filtered in 14.6832 seconds\n",
      "Saving results\n",
      "Results aggregated in 0.0762 seconds\n",
      "Processing coarse channels 189-196\n"
     ]
    },
    {
     "name": "stderr",
     "output_type": "stream",
     "text": [
      " 55%|█████▌    | 27/49 [08:57<07:15, 19.81s/it]"
     ]
    },
    {
     "name": "stdout",
     "output_type": "stream",
     "text": [
      "Data loaded in 1.6280 seconds, processing\n",
      "Bandpass cleaned in 3.0963 seconds.\n",
      "Stamps filtered in 14.8510 seconds\n",
      "Saving results\n",
      "Results aggregated in 0.1153 seconds\n",
      "Processing coarse channels 196-203\n"
     ]
    },
    {
     "name": "stderr",
     "output_type": "stream",
     "text": [
      " 57%|█████▋    | 28/49 [09:16<06:55, 19.78s/it]"
     ]
    },
    {
     "name": "stdout",
     "output_type": "stream",
     "text": [
      "Data loaded in 2.0622 seconds, processing\n",
      "Bandpass cleaned in 3.8171 seconds.\n",
      "Stamps filtered in 14.8599 seconds\n",
      "Saving results\n",
      "Results aggregated in 0.1145 seconds\n",
      "Processing coarse channels 203-210\n"
     ]
    },
    {
     "name": "stderr",
     "output_type": "stream",
     "text": [
      " 59%|█████▉    | 29/49 [09:37<06:42, 20.11s/it]"
     ]
    },
    {
     "name": "stdout",
     "output_type": "stream",
     "text": [
      "Data loaded in 1.6222 seconds, processing\n",
      "Bandpass cleaned in 3.6024 seconds.\n",
      "Stamps filtered in 14.6244 seconds\n",
      "Saving results\n",
      "Results aggregated in 0.0985 seconds\n",
      "Processing coarse channels 210-217\n"
     ]
    },
    {
     "name": "stderr",
     "output_type": "stream",
     "text": [
      " 61%|██████    | 30/49 [09:57<06:21, 20.06s/it]"
     ]
    },
    {
     "name": "stdout",
     "output_type": "stream",
     "text": [
      "Data loaded in 1.8590 seconds, processing\n",
      "Bandpass cleaned in 3.1410 seconds.\n",
      "Stamps filtered in 14.2703 seconds\n",
      "Saving results\n",
      "Results aggregated in 0.0721 seconds\n",
      "Processing coarse channels 217-224\n"
     ]
    },
    {
     "name": "stderr",
     "output_type": "stream",
     "text": [
      " 63%|██████▎   | 31/49 [10:16<05:57, 19.85s/it]"
     ]
    },
    {
     "name": "stdout",
     "output_type": "stream",
     "text": [
      "Data loaded in 2.0847 seconds, processing\n",
      "Bandpass cleaned in 3.2963 seconds.\n",
      "Stamps filtered in 14.2850 seconds\n",
      "Saving results\n",
      "Results aggregated in 0.0742 seconds\n",
      "Processing coarse channels 224-231\n"
     ]
    },
    {
     "name": "stderr",
     "output_type": "stream",
     "text": [
      " 65%|██████▌   | 32/49 [10:36<05:36, 19.82s/it]"
     ]
    },
    {
     "name": "stdout",
     "output_type": "stream",
     "text": [
      "Data loaded in 1.4637 seconds, processing\n",
      "Bandpass cleaned in 3.1760 seconds.\n",
      "Stamps filtered in 13.8940 seconds\n",
      "Saving results\n",
      "Results aggregated in 0.0789 seconds\n",
      "Processing coarse channels 231-238\n"
     ]
    },
    {
     "name": "stderr",
     "output_type": "stream",
     "text": [
      " 67%|██████▋   | 33/49 [10:55<05:11, 19.46s/it]"
     ]
    },
    {
     "name": "stdout",
     "output_type": "stream",
     "text": [
      "Data loaded in 1.8788 seconds, processing\n",
      "Bandpass cleaned in 3.6837 seconds.\n",
      "Stamps filtered in 13.9614 seconds\n",
      "Saving results\n"
     ]
    },
    {
     "name": "stderr",
     "output_type": "stream",
     "text": [
      " 69%|██████▉   | 34/49 [11:15<04:53, 19.58s/it]"
     ]
    },
    {
     "name": "stdout",
     "output_type": "stream",
     "text": [
      "Results aggregated in 0.3242 seconds\n",
      "Processing coarse channels 238-245\n",
      "Data loaded in 1.8604 seconds, processing\n",
      "Bandpass cleaned in 3.6446 seconds.\n",
      "Stamps filtered in 13.9313 seconds\n",
      "Saving results\n",
      "Results aggregated in 0.1761 seconds\n",
      "Processing coarse channels 245-252\n"
     ]
    },
    {
     "name": "stderr",
     "output_type": "stream",
     "text": [
      " 71%|███████▏  | 35/49 [11:34<04:34, 19.59s/it]"
     ]
    },
    {
     "name": "stdout",
     "output_type": "stream",
     "text": [
      "Data loaded in 2.1020 seconds, processing\n",
      "Bandpass cleaned in 3.7034 seconds.\n",
      "Stamps filtered in 14.7308 seconds\n",
      "Saving results\n",
      "Results aggregated in 0.0767 seconds\n",
      "Processing coarse channels 252-259\n"
     ]
    },
    {
     "name": "stderr",
     "output_type": "stream",
     "text": [
      " 73%|███████▎  | 36/49 [11:55<04:18, 19.90s/it]"
     ]
    },
    {
     "name": "stdout",
     "output_type": "stream",
     "text": [
      "Data loaded in 1.9359 seconds, processing\n",
      "Bandpass cleaned in 3.6112 seconds.\n",
      "Stamps filtered in 14.3833 seconds\n",
      "Saving results\n",
      "Results aggregated in 0.0740 seconds\n",
      "Processing coarse channels 259-266\n"
     ]
    },
    {
     "name": "stderr",
     "output_type": "stream",
     "text": [
      " 76%|███████▌  | 37/49 [12:15<03:59, 19.94s/it]"
     ]
    },
    {
     "name": "stdout",
     "output_type": "stream",
     "text": [
      "Data loaded in 2.0870 seconds, processing\n",
      "Bandpass cleaned in 3.7698 seconds.\n",
      "Stamps filtered in 14.2378 seconds\n",
      "Saving results\n",
      "Results aggregated in 0.0754 seconds\n",
      "Processing coarse channels 266-273\n"
     ]
    },
    {
     "name": "stderr",
     "output_type": "stream",
     "text": [
      " 78%|███████▊  | 38/49 [12:35<03:40, 20.01s/it]"
     ]
    },
    {
     "name": "stdout",
     "output_type": "stream",
     "text": [
      "Data loaded in 2.0853 seconds, processing\n",
      "Bandpass cleaned in 3.2643 seconds.\n",
      "Stamps filtered in 14.8526 seconds\n",
      "Saving results\n",
      "Results aggregated in 0.0801 seconds\n",
      "Processing coarse channels 273-280\n"
     ]
    },
    {
     "name": "stderr",
     "output_type": "stream",
     "text": [
      " 80%|███████▉  | 39/49 [12:55<03:20, 20.09s/it]"
     ]
    },
    {
     "name": "stdout",
     "output_type": "stream",
     "text": [
      "Data loaded in 2.0927 seconds, processing\n",
      "Bandpass cleaned in 3.2742 seconds.\n",
      "Stamps filtered in 14.2456 seconds\n",
      "Saving results\n",
      "Results aggregated in 0.0790 seconds\n",
      "Processing coarse channels 280-287\n"
     ]
    },
    {
     "name": "stderr",
     "output_type": "stream",
     "text": [
      " 82%|████████▏ | 40/49 [13:15<02:59, 19.98s/it]"
     ]
    },
    {
     "name": "stdout",
     "output_type": "stream",
     "text": [
      "Data loaded in 1.9805 seconds, processing\n",
      "Bandpass cleaned in 3.2089 seconds.\n",
      "Stamps filtered in 14.4583 seconds\n",
      "Saving results\n",
      "Results aggregated in 0.0850 seconds\n",
      "Processing coarse channels 287-294\n"
     ]
    },
    {
     "name": "stderr",
     "output_type": "stream",
     "text": [
      " 84%|████████▎ | 41/49 [13:35<02:39, 19.91s/it]"
     ]
    },
    {
     "name": "stdout",
     "output_type": "stream",
     "text": [
      "Data loaded in 1.6792 seconds, processing\n",
      "Bandpass cleaned in 3.5705 seconds.\n",
      "Stamps filtered in 14.9381 seconds\n",
      "Saving results\n",
      "Results aggregated in 0.0773 seconds\n",
      "Processing coarse channels 294-301\n"
     ]
    },
    {
     "name": "stderr",
     "output_type": "stream",
     "text": [
      " 86%|████████▌ | 42/49 [13:55<02:20, 20.02s/it]"
     ]
    },
    {
     "name": "stdout",
     "output_type": "stream",
     "text": [
      "Data loaded in 1.9621 seconds, processing\n",
      "Bandpass cleaned in 3.6216 seconds.\n",
      "Stamps filtered in 14.6675 seconds\n",
      "Saving results\n"
     ]
    },
    {
     "name": "stderr",
     "output_type": "stream",
     "text": [
      " 88%|████████▊ | 43/49 [14:16<02:02, 20.38s/it]"
     ]
    },
    {
     "name": "stdout",
     "output_type": "stream",
     "text": [
      "Results aggregated in 0.9514 seconds\n",
      "Processing coarse channels 301-308\n",
      "Data loaded in 2.1888 seconds, processing\n",
      "Bandpass cleaned in 3.3426 seconds.\n",
      "Stamps filtered in 14.4055 seconds\n",
      "Saving results\n"
     ]
    },
    {
     "name": "stderr",
     "output_type": "stream",
     "text": [
      " 90%|████████▉ | 44/49 [14:37<01:41, 20.33s/it]"
     ]
    },
    {
     "name": "stdout",
     "output_type": "stream",
     "text": [
      "Results aggregated in 0.2683 seconds\n",
      "Processing coarse channels 308-315\n",
      "Data loaded in 1.9213 seconds, processing\n",
      "Bandpass cleaned in 3.7617 seconds.\n",
      "Stamps filtered in 13.9774 seconds\n",
      "Saving results\n",
      "Results aggregated in 0.0834 seconds\n",
      "Processing coarse channels 315-322\n"
     ]
    },
    {
     "name": "stderr",
     "output_type": "stream",
     "text": [
      " 92%|█████████▏| 45/49 [14:56<01:20, 20.16s/it]"
     ]
    },
    {
     "name": "stdout",
     "output_type": "stream",
     "text": [
      "Data loaded in 1.9730 seconds, processing\n",
      "Bandpass cleaned in 3.4218 seconds.\n",
      "Stamps filtered in 13.9657 seconds\n",
      "Saving results\n",
      "Results aggregated in 0.0913 seconds\n",
      "Processing coarse channels 322-329\n"
     ]
    },
    {
     "name": "stderr",
     "output_type": "stream",
     "text": [
      " 94%|█████████▍| 46/49 [15:16<00:59, 19.95s/it]"
     ]
    },
    {
     "name": "stdout",
     "output_type": "stream",
     "text": [
      "Data loaded in 2.1770 seconds, processing\n",
      "Bandpass cleaned in 3.4384 seconds.\n",
      "Stamps filtered in 14.6739 seconds\n",
      "Saving results\n",
      "Results aggregated in 0.0972 seconds\n",
      "Processing coarse channels 329-336\n"
     ]
    },
    {
     "name": "stderr",
     "output_type": "stream",
     "text": [
      " 96%|█████████▌| 47/49 [15:36<00:40, 20.08s/it]"
     ]
    },
    {
     "name": "stdout",
     "output_type": "stream",
     "text": [
      "Data loaded in 1.9423 seconds, processing\n",
      "Bandpass cleaned in 3.6527 seconds.\n",
      "Stamps filtered in 14.8157 seconds\n",
      "Saving results\n",
      "Results aggregated in 0.0944 seconds\n",
      "Processing coarse channels 336-343\n"
     ]
    },
    {
     "name": "stderr",
     "output_type": "stream",
     "text": [
      " 98%|█████████▊| 48/49 [15:57<00:20, 20.21s/it]"
     ]
    },
    {
     "name": "stdout",
     "output_type": "stream",
     "text": [
      "Data loaded in 1.6746 seconds, processing\n",
      "Bandpass cleaned in 3.4366 seconds.\n",
      "Stamps filtered in 14.4951 seconds\n",
      "Saving results\n"
     ]
    },
    {
     "name": "stderr",
     "output_type": "stream",
     "text": [
      "100%|██████████| 49/49 [16:16<00:00, 19.94s/it]\n"
     ]
    },
    {
     "name": "stdout",
     "output_type": "stream",
     "text": [
      "Results aggregated in 0.0854 seconds\n",
      "     level_0      index     statistic  pvalue        freqs\n",
      "917      917  206251392  11983.543411     0.0  2226.572299\n",
      "918      918  206251520  11762.819770     0.0  2226.571941\n",
      "929      929  206265472  10981.568889     0.0  2226.532960\n",
      "928      928  206265344  10960.592795     0.0  2226.533318\n",
      "343 343\n",
      "Finished Energy Detection on GBT_57684_58202_HIP62578_fine.h5 in 980.0255 seconds\n",
      "/mnt_blpd7/datax/dl/GBT_57684_58540_HIP63503_fine.h5\n",
      "Header saved to ../../../../../../datax/scratch/pma/reverse_search/train_large/HIP63503-523/GBT_57684_58540_HIP63503_fine/header.pkl\n",
      "Processing 7 in parallel\n",
      "Processing coarse channels 0-7\n"
     ]
    },
    {
     "name": "stderr",
     "output_type": "stream",
     "text": [
      "  0%|          | 0/49 [00:00<?, ?it/s]"
     ]
    },
    {
     "name": "stdout",
     "output_type": "stream",
     "text": [
      "Data loaded in 3.3807 seconds, processing\n",
      "Bandpass cleaned in 3.5571 seconds.\n",
      "Stamps filtered in 14.1337 seconds\n",
      "Saving results\n",
      "Results aggregated in 0.0609 seconds\n",
      "Processing coarse channels 7-14\n"
     ]
    },
    {
     "name": "stderr",
     "output_type": "stream",
     "text": [
      "  2%|▏         | 1/49 [00:21<16:54, 21.14s/it]"
     ]
    },
    {
     "name": "stdout",
     "output_type": "stream",
     "text": [
      "Data loaded in 2.2293 seconds, processing\n",
      "Bandpass cleaned in 3.3003 seconds.\n",
      "Stamps filtered in 15.3359 seconds\n",
      "Saving results\n",
      "Results aggregated in 0.0584 seconds\n",
      "Processing coarse channels 14-21\n"
     ]
    },
    {
     "name": "stderr",
     "output_type": "stream",
     "text": [
      "  4%|▍         | 2/49 [00:42<16:27, 21.02s/it]"
     ]
    },
    {
     "name": "stdout",
     "output_type": "stream",
     "text": [
      "Data loaded in 2.3349 seconds, processing\n",
      "Bandpass cleaned in 3.2136 seconds.\n",
      "Stamps filtered in 15.5201 seconds\n",
      "Saving results\n",
      "Results aggregated in 0.0606 seconds\n",
      "Processing coarse channels 21-28\n"
     ]
    },
    {
     "name": "stderr",
     "output_type": "stream",
     "text": [
      "  6%|▌         | 3/49 [01:03<16:09, 21.08s/it]"
     ]
    },
    {
     "name": "stdout",
     "output_type": "stream",
     "text": [
      "Data loaded in 3.1487 seconds, processing\n",
      "Bandpass cleaned in 3.2358 seconds.\n",
      "Stamps filtered in 14.7582 seconds\n",
      "Saving results\n",
      "Results aggregated in 0.0618 seconds\n",
      "Processing coarse channels 28-35\n"
     ]
    },
    {
     "name": "stderr",
     "output_type": "stream",
     "text": [
      "  8%|▊         | 4/49 [01:24<15:50, 21.13s/it]"
     ]
    },
    {
     "name": "stdout",
     "output_type": "stream",
     "text": [
      "Data loaded in 2.4426 seconds, processing\n",
      "Bandpass cleaned in 3.1981 seconds.\n",
      "Stamps filtered in 14.2342 seconds\n",
      "Saving results\n",
      "Results aggregated in 0.0658 seconds\n",
      "Processing coarse channels 35-42\n"
     ]
    },
    {
     "name": "stderr",
     "output_type": "stream",
     "text": [
      " 10%|█         | 5/49 [01:44<15:11, 20.71s/it]"
     ]
    },
    {
     "name": "stdout",
     "output_type": "stream",
     "text": [
      "Data loaded in 2.0664 seconds, processing\n",
      "Bandpass cleaned in 3.1012 seconds.\n",
      "Stamps filtered in 14.5356 seconds\n",
      "Saving results\n",
      "Results aggregated in 0.0685 seconds\n",
      "Processing coarse channels 42-49\n"
     ]
    },
    {
     "name": "stderr",
     "output_type": "stream",
     "text": [
      " 12%|█▏        | 6/49 [02:04<14:36, 20.39s/it]"
     ]
    },
    {
     "name": "stdout",
     "output_type": "stream",
     "text": [
      "Data loaded in 2.1881 seconds, processing\n",
      "Bandpass cleaned in 3.1073 seconds.\n",
      "Stamps filtered in 14.4508 seconds\n",
      "Saving results\n",
      "Results aggregated in 0.0654 seconds\n",
      "Processing coarse channels 49-56\n"
     ]
    },
    {
     "name": "stderr",
     "output_type": "stream",
     "text": [
      " 14%|█▍        | 7/49 [02:23<14:08, 20.21s/it]"
     ]
    },
    {
     "name": "stdout",
     "output_type": "stream",
     "text": [
      "Data loaded in 1.9999 seconds, processing\n",
      "Bandpass cleaned in 3.0251 seconds.\n",
      "Stamps filtered in 14.5590 seconds\n",
      "Saving results\n",
      "Results aggregated in 0.0660 seconds\n",
      "Processing coarse channels 56-63\n"
     ]
    },
    {
     "name": "stderr",
     "output_type": "stream",
     "text": [
      " 16%|█▋        | 8/49 [02:43<13:41, 20.03s/it]"
     ]
    },
    {
     "name": "stdout",
     "output_type": "stream",
     "text": [
      "Data loaded in 1.8924 seconds, processing\n",
      "Bandpass cleaned in 3.1230 seconds.\n",
      "Stamps filtered in 14.6586 seconds\n",
      "Saving results\n",
      "Results aggregated in 0.0685 seconds\n",
      "Processing coarse channels 63-70\n"
     ]
    },
    {
     "name": "stderr",
     "output_type": "stream",
     "text": [
      " 18%|█▊        | 9/49 [03:03<13:17, 19.95s/it]"
     ]
    },
    {
     "name": "stdout",
     "output_type": "stream",
     "text": [
      "Data loaded in 1.9788 seconds, processing\n",
      "Bandpass cleaned in 3.0675 seconds.\n",
      "Stamps filtered in 14.9715 seconds\n",
      "Saving results\n",
      "Results aggregated in 0.0692 seconds\n",
      "Processing coarse channels 70-77\n"
     ]
    },
    {
     "name": "stderr",
     "output_type": "stream",
     "text": [
      " 20%|██        | 10/49 [03:23<12:59, 19.99s/it]"
     ]
    },
    {
     "name": "stdout",
     "output_type": "stream",
     "text": [
      "Data loaded in 1.7341 seconds, processing\n",
      "Bandpass cleaned in 3.1170 seconds.\n",
      "Stamps filtered in 15.3982 seconds\n",
      "Saving results\n",
      "Results aggregated in 0.0604 seconds\n",
      "Processing coarse channels 77-84\n"
     ]
    },
    {
     "name": "stderr",
     "output_type": "stream",
     "text": [
      " 22%|██▏       | 11/49 [03:43<12:43, 20.09s/it]"
     ]
    },
    {
     "name": "stdout",
     "output_type": "stream",
     "text": [
      "Data loaded in 2.2177 seconds, processing\n",
      "Bandpass cleaned in 3.3492 seconds.\n",
      "Stamps filtered in 14.4669 seconds\n",
      "Saving results\n",
      "Results aggregated in 0.0597 seconds\n",
      "Processing coarse channels 84-91\n"
     ]
    },
    {
     "name": "stderr",
     "output_type": "stream",
     "text": [
      " 24%|██▍       | 12/49 [04:03<12:23, 20.10s/it]"
     ]
    },
    {
     "name": "stdout",
     "output_type": "stream",
     "text": [
      "Data loaded in 1.9308 seconds, processing\n",
      "Bandpass cleaned in 3.6561 seconds.\n",
      "Stamps filtered in 15.0173 seconds\n",
      "Saving results\n",
      "Results aggregated in 0.0621 seconds\n",
      "Processing coarse channels 91-98\n"
     ]
    },
    {
     "name": "stderr",
     "output_type": "stream",
     "text": [
      " 27%|██▋       | 13/49 [04:24<12:09, 20.27s/it]"
     ]
    },
    {
     "name": "stdout",
     "output_type": "stream",
     "text": [
      "Data loaded in 1.5793 seconds, processing\n",
      "Bandpass cleaned in 3.2281 seconds.\n",
      "Stamps filtered in 14.5316 seconds\n",
      "Saving results\n",
      "Results aggregated in 0.0670 seconds\n",
      "Processing coarse channels 98-105\n"
     ]
    },
    {
     "name": "stderr",
     "output_type": "stream",
     "text": [
      " 29%|██▊       | 14/49 [04:44<11:40, 20.01s/it]"
     ]
    },
    {
     "name": "stdout",
     "output_type": "stream",
     "text": [
      "Data loaded in 2.0560 seconds, processing\n",
      "Bandpass cleaned in 3.1706 seconds.\n",
      "Stamps filtered in 14.4332 seconds\n",
      "Saving results\n",
      "Results aggregated in 0.1183 seconds\n",
      "Processing coarse channels 105-112\n"
     ]
    },
    {
     "name": "stderr",
     "output_type": "stream",
     "text": [
      " 31%|███       | 15/49 [05:03<11:18, 19.95s/it]"
     ]
    },
    {
     "name": "stdout",
     "output_type": "stream",
     "text": [
      "Data loaded in 1.7740 seconds, processing\n",
      "Bandpass cleaned in 3.1528 seconds.\n",
      "Stamps filtered in 14.7478 seconds\n",
      "Saving results\n",
      "Results aggregated in 0.0846 seconds\n",
      "Processing coarse channels 112-119\n"
     ]
    },
    {
     "name": "stderr",
     "output_type": "stream",
     "text": [
      " 33%|███▎      | 16/49 [05:23<10:56, 19.89s/it]"
     ]
    },
    {
     "name": "stdout",
     "output_type": "stream",
     "text": [
      "Data loaded in 1.7789 seconds, processing\n",
      "Bandpass cleaned in 3.4928 seconds.\n",
      "Stamps filtered in 14.2200 seconds\n",
      "Saving results\n",
      "Results aggregated in 0.0812 seconds\n",
      "Processing coarse channels 119-126\n"
     ]
    },
    {
     "name": "stderr",
     "output_type": "stream",
     "text": [
      " 35%|███▍      | 17/49 [05:43<10:33, 19.80s/it]"
     ]
    },
    {
     "name": "stdout",
     "output_type": "stream",
     "text": [
      "Data loaded in 1.9658 seconds, processing\n",
      "Bandpass cleaned in 3.2298 seconds.\n",
      "Stamps filtered in 14.4326 seconds\n",
      "Saving results\n",
      "Results aggregated in 0.0836 seconds\n",
      "Processing coarse channels 126-133\n"
     ]
    },
    {
     "name": "stderr",
     "output_type": "stream",
     "text": [
      " 37%|███▋      | 18/49 [06:02<10:13, 19.78s/it]"
     ]
    },
    {
     "name": "stdout",
     "output_type": "stream",
     "text": [
      "Data loaded in 2.1226 seconds, processing\n",
      "Bandpass cleaned in 3.1632 seconds.\n",
      "Stamps filtered in 14.7308 seconds\n",
      "Saving results\n",
      "Results aggregated in 0.0858 seconds\n",
      "Processing coarse channels 133-140\n"
     ]
    },
    {
     "name": "stderr",
     "output_type": "stream",
     "text": [
      " 39%|███▉      | 19/49 [06:23<09:56, 19.88s/it]"
     ]
    },
    {
     "name": "stdout",
     "output_type": "stream",
     "text": [
      "Data loaded in 1.8175 seconds, processing\n",
      "Bandpass cleaned in 3.5465 seconds.\n",
      "Stamps filtered in 14.4539 seconds\n",
      "Saving results\n",
      "Results aggregated in 0.0700 seconds\n",
      "Processing coarse channels 140-147\n"
     ]
    },
    {
     "name": "stderr",
     "output_type": "stream",
     "text": [
      " 41%|████      | 20/49 [06:42<09:36, 19.89s/it]"
     ]
    },
    {
     "name": "stdout",
     "output_type": "stream",
     "text": [
      "Data loaded in 1.9557 seconds, processing\n",
      "Bandpass cleaned in 3.2582 seconds.\n",
      "Stamps filtered in 15.0542 seconds\n",
      "Saving results\n",
      "Results aggregated in 0.0703 seconds\n",
      "Processing coarse channels 147-154\n"
     ]
    },
    {
     "name": "stderr",
     "output_type": "stream",
     "text": [
      " 43%|████▎     | 21/49 [07:03<09:20, 20.02s/it]"
     ]
    },
    {
     "name": "stdout",
     "output_type": "stream",
     "text": [
      "Data loaded in 2.0285 seconds, processing\n",
      "Bandpass cleaned in 3.3464 seconds.\n",
      "Stamps filtered in 14.2121 seconds\n",
      "Saving results\n",
      "Results aggregated in 0.0729 seconds\n",
      "Processing coarse channels 154-161\n"
     ]
    },
    {
     "name": "stderr",
     "output_type": "stream",
     "text": [
      " 45%|████▍     | 22/49 [07:22<08:57, 19.92s/it]"
     ]
    },
    {
     "name": "stdout",
     "output_type": "stream",
     "text": [
      "Data loaded in 1.8942 seconds, processing\n",
      "Bandpass cleaned in 3.2213 seconds.\n",
      "Stamps filtered in 14.6792 seconds\n",
      "Saving results\n",
      "Results aggregated in 0.0813 seconds\n",
      "Processing coarse channels 161-168\n"
     ]
    },
    {
     "name": "stderr",
     "output_type": "stream",
     "text": [
      " 47%|████▋     | 23/49 [07:42<08:37, 19.91s/it]"
     ]
    },
    {
     "name": "stdout",
     "output_type": "stream",
     "text": [
      "Data loaded in 2.0749 seconds, processing\n",
      "Bandpass cleaned in 3.2382 seconds.\n",
      "Stamps filtered in 14.2164 seconds\n",
      "Saving results\n",
      "Results aggregated in 0.1583 seconds\n",
      "Processing coarse channels 168-175\n"
     ]
    },
    {
     "name": "stderr",
     "output_type": "stream",
     "text": [
      " 49%|████▉     | 24/49 [08:02<08:16, 19.85s/it]"
     ]
    },
    {
     "name": "stdout",
     "output_type": "stream",
     "text": [
      "Data loaded in 1.9527 seconds, processing\n",
      "Bandpass cleaned in 3.6866 seconds.\n",
      "Stamps filtered in 14.2527 seconds\n",
      "Saving results\n",
      "Results aggregated in 0.0826 seconds\n",
      "Processing coarse channels 175-182\n"
     ]
    },
    {
     "name": "stderr",
     "output_type": "stream",
     "text": [
      " 51%|█████     | 25/49 [08:22<07:57, 19.89s/it]"
     ]
    },
    {
     "name": "stdout",
     "output_type": "stream",
     "text": [
      "Data loaded in 2.0369 seconds, processing\n",
      "Bandpass cleaned in 3.3202 seconds.\n",
      "Stamps filtered in 14.8406 seconds\n",
      "Saving results\n",
      "Results aggregated in 0.0755 seconds\n",
      "Processing coarse channels 182-189\n"
     ]
    },
    {
     "name": "stderr",
     "output_type": "stream",
     "text": [
      " 53%|█████▎    | 26/49 [08:42<07:40, 20.01s/it]"
     ]
    },
    {
     "name": "stdout",
     "output_type": "stream",
     "text": [
      "Data loaded in 2.0818 seconds, processing\n",
      "Bandpass cleaned in 3.4291 seconds.\n",
      "Stamps filtered in 14.9835 seconds\n",
      "Saving results\n",
      "Results aggregated in 0.1420 seconds\n",
      "Processing coarse channels 189-196\n"
     ]
    },
    {
     "name": "stderr",
     "output_type": "stream",
     "text": [
      " 55%|█████▌    | 27/49 [09:03<07:24, 20.20s/it]"
     ]
    },
    {
     "name": "stdout",
     "output_type": "stream",
     "text": [
      "Data loaded in 1.9095 seconds, processing\n",
      "Bandpass cleaned in 3.2332 seconds.\n",
      "Stamps filtered in 14.6984 seconds\n",
      "Saving results\n",
      "Results aggregated in 0.0977 seconds\n",
      "Processing coarse channels 196-203\n"
     ]
    },
    {
     "name": "stderr",
     "output_type": "stream",
     "text": [
      " 57%|█████▋    | 28/49 [09:23<07:02, 20.12s/it]"
     ]
    },
    {
     "name": "stdout",
     "output_type": "stream",
     "text": [
      "Data loaded in 1.6876 seconds, processing\n",
      "Bandpass cleaned in 3.1529 seconds.\n",
      "Stamps filtered in 14.9885 seconds\n",
      "Saving results\n",
      "Results aggregated in 0.1269 seconds\n",
      "Processing coarse channels 203-210\n"
     ]
    },
    {
     "name": "stderr",
     "output_type": "stream",
     "text": [
      " 59%|█████▉    | 29/49 [09:43<06:41, 20.08s/it]"
     ]
    },
    {
     "name": "stdout",
     "output_type": "stream",
     "text": [
      "Data loaded in 1.9478 seconds, processing\n",
      "Bandpass cleaned in 3.1737 seconds.\n",
      "Stamps filtered in 15.0118 seconds\n",
      "Saving results\n",
      "Results aggregated in 0.1385 seconds\n",
      "Processing coarse channels 210-217\n"
     ]
    },
    {
     "name": "stderr",
     "output_type": "stream",
     "text": [
      " 61%|██████    | 30/49 [10:03<06:22, 20.14s/it]"
     ]
    },
    {
     "name": "stdout",
     "output_type": "stream",
     "text": [
      "Data loaded in 1.9686 seconds, processing\n",
      "Bandpass cleaned in 3.1515 seconds.\n",
      "Stamps filtered in 14.5578 seconds\n",
      "Saving results\n",
      "Results aggregated in 0.0742 seconds\n",
      "Processing coarse channels 217-224\n"
     ]
    },
    {
     "name": "stderr",
     "output_type": "stream",
     "text": [
      " 63%|██████▎   | 31/49 [10:23<06:00, 20.02s/it]"
     ]
    },
    {
     "name": "stdout",
     "output_type": "stream",
     "text": [
      "Data loaded in 1.9109 seconds, processing\n",
      "Bandpass cleaned in 3.4129 seconds.\n",
      "Stamps filtered in 14.9848 seconds\n",
      "Saving results\n",
      "Results aggregated in 0.0770 seconds\n",
      "Processing coarse channels 224-231\n"
     ]
    },
    {
     "name": "stderr",
     "output_type": "stream",
     "text": [
      " 65%|██████▌   | 32/49 [10:43<05:42, 20.14s/it]"
     ]
    },
    {
     "name": "stdout",
     "output_type": "stream",
     "text": [
      "Data loaded in 2.4589 seconds, processing\n",
      "Bandpass cleaned in 3.4460 seconds.\n",
      "Stamps filtered in 14.8711 seconds\n",
      "Saving results\n",
      "Results aggregated in 0.0752 seconds\n",
      "Processing coarse channels 231-238\n"
     ]
    },
    {
     "name": "stderr",
     "output_type": "stream",
     "text": [
      " 67%|██████▋   | 33/49 [11:04<05:25, 20.35s/it]"
     ]
    },
    {
     "name": "stdout",
     "output_type": "stream",
     "text": [
      "Data loaded in 1.6618 seconds, processing\n",
      "Bandpass cleaned in 3.8138 seconds.\n",
      "Stamps filtered in 14.6328 seconds\n",
      "Saving results\n",
      "Results aggregated in 0.1852 seconds\n",
      "Processing coarse channels 238-245\n"
     ]
    },
    {
     "name": "stderr",
     "output_type": "stream",
     "text": [
      " 69%|██████▉   | 34/49 [11:24<05:05, 20.34s/it]"
     ]
    },
    {
     "name": "stdout",
     "output_type": "stream",
     "text": [
      "Data loaded in 1.7637 seconds, processing\n",
      "Bandpass cleaned in 3.7263 seconds.\n",
      "Stamps filtered in 14.7344 seconds\n",
      "Saving results\n",
      "Results aggregated in 0.1252 seconds\n",
      "Processing coarse channels 245-252\n"
     ]
    },
    {
     "name": "stderr",
     "output_type": "stream",
     "text": [
      " 71%|███████▏  | 35/49 [11:45<04:44, 20.34s/it]"
     ]
    },
    {
     "name": "stdout",
     "output_type": "stream",
     "text": [
      "Data loaded in 1.9186 seconds, processing\n",
      "Bandpass cleaned in 3.1515 seconds.\n",
      "Stamps filtered in 14.2439 seconds\n",
      "Saving results\n",
      "Results aggregated in 0.0915 seconds\n",
      "Processing coarse channels 252-259\n"
     ]
    },
    {
     "name": "stderr",
     "output_type": "stream",
     "text": [
      " 73%|███████▎  | 36/49 [12:04<04:20, 20.07s/it]"
     ]
    },
    {
     "name": "stdout",
     "output_type": "stream",
     "text": [
      "Data loaded in 1.8064 seconds, processing\n",
      "Bandpass cleaned in 3.8188 seconds.\n",
      "Stamps filtered in 14.8728 seconds\n",
      "Saving results\n",
      "Results aggregated in 0.0826 seconds\n",
      "Processing coarse channels 259-266\n"
     ]
    },
    {
     "name": "stderr",
     "output_type": "stream",
     "text": [
      " 76%|███████▌  | 37/49 [12:25<04:02, 20.22s/it]"
     ]
    },
    {
     "name": "stdout",
     "output_type": "stream",
     "text": [
      "Data loaded in 2.1877 seconds, processing\n",
      "Bandpass cleaned in 3.0921 seconds.\n",
      "Stamps filtered in 14.5506 seconds\n",
      "Saving results\n",
      "Results aggregated in 0.0830 seconds\n",
      "Processing coarse channels 266-273\n"
     ]
    },
    {
     "name": "stderr",
     "output_type": "stream",
     "text": [
      " 78%|███████▊  | 38/49 [12:45<03:41, 20.13s/it]"
     ]
    },
    {
     "name": "stdout",
     "output_type": "stream",
     "text": [
      "Data loaded in 1.9889 seconds, processing\n",
      "Bandpass cleaned in 3.1241 seconds.\n",
      "Stamps filtered in 14.5177 seconds\n",
      "Saving results\n",
      "Results aggregated in 0.0804 seconds\n",
      "Processing coarse channels 273-280\n"
     ]
    },
    {
     "name": "stderr",
     "output_type": "stream",
     "text": [
      " 80%|███████▉  | 39/49 [13:04<03:20, 20.01s/it]"
     ]
    },
    {
     "name": "stdout",
     "output_type": "stream",
     "text": [
      "Data loaded in 2.3202 seconds, processing\n",
      "Bandpass cleaned in 3.6339 seconds.\n",
      "Stamps filtered in 14.7157 seconds\n",
      "Saving results\n",
      "Results aggregated in 0.0981 seconds\n",
      "Processing coarse channels 280-287\n"
     ]
    },
    {
     "name": "stderr",
     "output_type": "stream",
     "text": [
      " 82%|████████▏ | 40/49 [13:25<03:02, 20.24s/it]"
     ]
    },
    {
     "name": "stdout",
     "output_type": "stream",
     "text": [
      "Data loaded in 1.9190 seconds, processing\n",
      "Bandpass cleaned in 3.2063 seconds.\n",
      "Stamps filtered in 15.0687 seconds\n",
      "Saving results\n",
      "Results aggregated in 0.0785 seconds\n",
      "Processing coarse channels 287-294\n"
     ]
    },
    {
     "name": "stderr",
     "output_type": "stream",
     "text": [
      " 84%|████████▎ | 41/49 [13:46<02:42, 20.25s/it]"
     ]
    },
    {
     "name": "stdout",
     "output_type": "stream",
     "text": [
      "Data loaded in 2.1480 seconds, processing\n",
      "Bandpass cleaned in 3.5047 seconds.\n",
      "Stamps filtered in 14.8231 seconds\n",
      "Saving results\n",
      "Results aggregated in 0.0905 seconds\n",
      "Processing coarse channels 294-301\n"
     ]
    },
    {
     "name": "stderr",
     "output_type": "stream",
     "text": [
      " 86%|████████▌ | 42/49 [14:06<02:22, 20.35s/it]"
     ]
    },
    {
     "name": "stdout",
     "output_type": "stream",
     "text": [
      "Data loaded in 1.8640 seconds, processing\n",
      "Bandpass cleaned in 3.1624 seconds.\n",
      "Stamps filtered in 15.2308 seconds\n",
      "Saving results\n"
     ]
    },
    {
     "name": "stderr",
     "output_type": "stream",
     "text": [
      " 88%|████████▊ | 43/49 [14:27<02:03, 20.63s/it]"
     ]
    },
    {
     "name": "stdout",
     "output_type": "stream",
     "text": [
      "Results aggregated in 0.9949 seconds\n",
      "Processing coarse channels 301-308\n",
      "Data loaded in 2.1969 seconds, processing\n",
      "Bandpass cleaned in 3.2715 seconds.\n",
      "Stamps filtered in 15.1238 seconds\n",
      "Saving results\n",
      "Results aggregated in 0.1914 seconds\n",
      "Processing coarse channels 308-315\n"
     ]
    },
    {
     "name": "stderr",
     "output_type": "stream",
     "text": [
      " 90%|████████▉ | 44/49 [14:48<01:43, 20.68s/it]"
     ]
    },
    {
     "name": "stdout",
     "output_type": "stream",
     "text": [
      "Data loaded in 1.5968 seconds, processing\n",
      "Bandpass cleaned in 3.1382 seconds.\n",
      "Stamps filtered in 15.2779 seconds\n",
      "Saving results\n",
      "Results aggregated in 0.1091 seconds\n",
      "Processing coarse channels 315-322\n"
     ]
    },
    {
     "name": "stderr",
     "output_type": "stream",
     "text": [
      " 92%|█████████▏| 45/49 [15:08<01:22, 20.51s/it]"
     ]
    },
    {
     "name": "stdout",
     "output_type": "stream",
     "text": [
      "Data loaded in 1.7553 seconds, processing\n",
      "Bandpass cleaned in 3.1812 seconds.\n",
      "Stamps filtered in 15.0649 seconds\n",
      "Saving results\n",
      "Results aggregated in 0.0924 seconds\n",
      "Processing coarse channels 322-329\n"
     ]
    },
    {
     "name": "stderr",
     "output_type": "stream",
     "text": [
      " 94%|█████████▍| 46/49 [15:28<01:01, 20.39s/it]"
     ]
    },
    {
     "name": "stdout",
     "output_type": "stream",
     "text": [
      "Data loaded in 2.0264 seconds, processing\n",
      "Bandpass cleaned in 3.1434 seconds.\n",
      "Stamps filtered in 14.7346 seconds\n",
      "Saving results\n",
      "Results aggregated in 0.1039 seconds\n",
      "Processing coarse channels 329-336\n"
     ]
    },
    {
     "name": "stderr",
     "output_type": "stream",
     "text": [
      " 96%|█████████▌| 47/49 [15:48<00:40, 20.28s/it]"
     ]
    },
    {
     "name": "stdout",
     "output_type": "stream",
     "text": [
      "Data loaded in 2.1691 seconds, processing\n",
      "Bandpass cleaned in 3.1805 seconds.\n",
      "Stamps filtered in 14.5979 seconds\n",
      "Saving results\n",
      "Results aggregated in 0.0962 seconds\n",
      "Processing coarse channels 336-343\n"
     ]
    },
    {
     "name": "stderr",
     "output_type": "stream",
     "text": [
      " 98%|█████████▊| 48/49 [16:08<00:20, 20.21s/it]"
     ]
    },
    {
     "name": "stdout",
     "output_type": "stream",
     "text": [
      "Data loaded in 1.6573 seconds, processing\n",
      "Bandpass cleaned in 3.4482 seconds.\n",
      "Stamps filtered in 15.2338 seconds\n",
      "Saving results\n"
     ]
    },
    {
     "name": "stderr",
     "output_type": "stream",
     "text": [
      "100%|██████████| 49/49 [16:29<00:00, 20.19s/it]\n"
     ]
    },
    {
     "name": "stdout",
     "output_type": "stream",
     "text": [
      "Results aggregated in 0.1038 seconds\n",
      "      level_0      index     statistic  pvalue        freqs\n",
      "1941     1941  206251392  11989.943478     0.0  2226.572299\n",
      "2465     2465  219895680  11794.962213     0.0  2188.450599\n",
      "1942     1942  206251520  11779.835709     0.0  2226.571941\n",
      "2538     2538  219905024  11690.403778     0.0  2188.424492\n",
      "343 343\n",
      "Finished Energy Detection on GBT_57684_58540_HIP63503_fine.h5 in 992.9466 seconds\n",
      "/mnt_blpd7/datax/dl/GBT_57684_58874_HIP62771_fine.h5\n",
      "Header saved to ../../../../../../datax/scratch/pma/reverse_search/train_large/HIP63503-523/GBT_57684_58874_HIP62771_fine/header.pkl\n",
      "Processing 7 in parallel\n",
      "Processing coarse channels 0-7\n"
     ]
    },
    {
     "name": "stderr",
     "output_type": "stream",
     "text": [
      "  0%|          | 0/49 [00:00<?, ?it/s]"
     ]
    },
    {
     "name": "stdout",
     "output_type": "stream",
     "text": [
      "Data loaded in 3.4967 seconds, processing\n",
      "Bandpass cleaned in 3.3349 seconds.\n",
      "Stamps filtered in 15.8704 seconds\n",
      "Saving results\n",
      "Results aggregated in 0.0658 seconds\n",
      "Processing coarse channels 7-14\n"
     ]
    },
    {
     "name": "stderr",
     "output_type": "stream",
     "text": [
      "  2%|▏         | 1/49 [00:22<18:13, 22.78s/it]"
     ]
    },
    {
     "name": "stdout",
     "output_type": "stream",
     "text": [
      "Data loaded in 2.7958 seconds, processing\n",
      "Bandpass cleaned in 3.3432 seconds.\n",
      "Stamps filtered in 15.5299 seconds\n",
      "Saving results\n",
      "Results aggregated in 0.0605 seconds\n",
      "Processing coarse channels 14-21\n"
     ]
    },
    {
     "name": "stderr",
     "output_type": "stream",
     "text": [
      "  4%|▍         | 2/49 [00:44<17:21, 22.17s/it]"
     ]
    },
    {
     "name": "stdout",
     "output_type": "stream",
     "text": [
      "Data loaded in 1.8205 seconds, processing\n",
      "Bandpass cleaned in 3.4970 seconds.\n",
      "Stamps filtered in 15.7377 seconds\n",
      "Saving results\n",
      "Results aggregated in 0.0657 seconds\n",
      "Processing coarse channels 21-28\n"
     ]
    },
    {
     "name": "stderr",
     "output_type": "stream",
     "text": [
      "  6%|▌         | 3/49 [01:05<16:38, 21.70s/it]"
     ]
    },
    {
     "name": "stdout",
     "output_type": "stream",
     "text": [
      "Data loaded in 1.9249 seconds, processing\n",
      "Bandpass cleaned in 3.2570 seconds.\n",
      "Stamps filtered in 16.0795 seconds\n",
      "Saving results\n",
      "Results aggregated in 0.0636 seconds\n",
      "Processing coarse channels 28-35\n"
     ]
    },
    {
     "name": "stderr",
     "output_type": "stream",
     "text": [
      "  8%|▊         | 4/49 [01:26<16:09, 21.55s/it]"
     ]
    },
    {
     "name": "stdout",
     "output_type": "stream",
     "text": [
      "Data loaded in 1.9121 seconds, processing\n",
      "Bandpass cleaned in 3.3231 seconds.\n",
      "Stamps filtered in 15.8796 seconds\n",
      "Saving results\n",
      "Results aggregated in 0.0640 seconds\n",
      "Processing coarse channels 35-42\n"
     ]
    },
    {
     "name": "stderr",
     "output_type": "stream",
     "text": [
      " 10%|█         | 5/49 [01:48<15:42, 21.42s/it]"
     ]
    },
    {
     "name": "stdout",
     "output_type": "stream",
     "text": [
      "Data loaded in 1.9794 seconds, processing\n",
      "Bandpass cleaned in 3.2560 seconds.\n",
      "Stamps filtered in 15.8251 seconds\n",
      "Saving results\n",
      "Results aggregated in 0.0677 seconds\n",
      "Processing coarse channels 42-49\n"
     ]
    },
    {
     "name": "stderr",
     "output_type": "stream",
     "text": [
      " 12%|█▏        | 6/49 [02:09<15:17, 21.33s/it]"
     ]
    },
    {
     "name": "stdout",
     "output_type": "stream",
     "text": [
      "Data loaded in 2.1524 seconds, processing\n",
      "Bandpass cleaned in 3.2590 seconds.\n",
      "Stamps filtered in 15.8528 seconds\n",
      "Saving results\n",
      "Results aggregated in 0.0626 seconds\n",
      "Processing coarse channels 49-56\n"
     ]
    },
    {
     "name": "stderr",
     "output_type": "stream",
     "text": [
      " 14%|█▍        | 7/49 [02:30<14:55, 21.33s/it]"
     ]
    },
    {
     "name": "stdout",
     "output_type": "stream",
     "text": [
      "Data loaded in 1.8379 seconds, processing\n",
      "Bandpass cleaned in 3.2883 seconds.\n",
      "Stamps filtered in 15.9630 seconds\n",
      "Saving results\n",
      "Results aggregated in 0.0710 seconds\n",
      "Processing coarse channels 56-63\n"
     ]
    },
    {
     "name": "stderr",
     "output_type": "stream",
     "text": [
      " 16%|█▋        | 8/49 [02:51<14:32, 21.28s/it]"
     ]
    },
    {
     "name": "stdout",
     "output_type": "stream",
     "text": [
      "Data loaded in 1.7563 seconds, processing\n",
      "Bandpass cleaned in 3.1638 seconds.\n",
      "Stamps filtered in 15.7587 seconds\n",
      "Saving results\n",
      "Results aggregated in 0.0618 seconds\n",
      "Processing coarse channels 63-70\n"
     ]
    },
    {
     "name": "stderr",
     "output_type": "stream",
     "text": [
      " 18%|█▊        | 9/49 [03:12<14:04, 21.11s/it]"
     ]
    },
    {
     "name": "stdout",
     "output_type": "stream",
     "text": [
      "Data loaded in 1.9525 seconds, processing\n",
      "Bandpass cleaned in 3.1930 seconds.\n",
      "Stamps filtered in 15.8650 seconds\n",
      "Saving results\n",
      "Results aggregated in 0.0708 seconds\n",
      "Processing coarse channels 70-77\n"
     ]
    },
    {
     "name": "stderr",
     "output_type": "stream",
     "text": [
      " 20%|██        | 10/49 [03:33<13:43, 21.11s/it]"
     ]
    },
    {
     "name": "stdout",
     "output_type": "stream",
     "text": [
      "Data loaded in 1.6091 seconds, processing\n",
      "Bandpass cleaned in 3.0955 seconds.\n",
      "Stamps filtered in 15.7434 seconds\n",
      "Saving results\n",
      "Results aggregated in 0.0647 seconds\n",
      "Processing coarse channels 77-84\n"
     ]
    },
    {
     "name": "stderr",
     "output_type": "stream",
     "text": [
      " 22%|██▏       | 11/49 [03:54<13:15, 20.93s/it]"
     ]
    },
    {
     "name": "stdout",
     "output_type": "stream",
     "text": [
      "Data loaded in 2.0373 seconds, processing\n",
      "Bandpass cleaned in 3.5077 seconds.\n",
      "Stamps filtered in 15.7988 seconds\n",
      "Saving results\n",
      "Results aggregated in 0.0648 seconds\n",
      "Processing coarse channels 84-91\n"
     ]
    },
    {
     "name": "stderr",
     "output_type": "stream",
     "text": [
      " 24%|██▍       | 12/49 [04:15<12:59, 21.08s/it]"
     ]
    },
    {
     "name": "stdout",
     "output_type": "stream",
     "text": [
      "Data loaded in 1.9375 seconds, processing\n",
      "Bandpass cleaned in 3.4071 seconds.\n",
      "Stamps filtered in 15.7853 seconds\n",
      "Saving results\n",
      "Results aggregated in 0.0616 seconds\n",
      "Processing coarse channels 91-98\n"
     ]
    },
    {
     "name": "stderr",
     "output_type": "stream",
     "text": [
      " 27%|██▋       | 13/49 [04:36<12:40, 21.12s/it]"
     ]
    },
    {
     "name": "stdout",
     "output_type": "stream",
     "text": [
      "Data loaded in 2.1077 seconds, processing\n",
      "Bandpass cleaned in 3.2480 seconds.\n",
      "Stamps filtered in 15.9006 seconds\n",
      "Saving results\n",
      "Results aggregated in 0.0664 seconds\n",
      "Processing coarse channels 98-105\n"
     ]
    },
    {
     "name": "stderr",
     "output_type": "stream",
     "text": [
      " 29%|██▊       | 14/49 [04:58<12:21, 21.18s/it]"
     ]
    },
    {
     "name": "stdout",
     "output_type": "stream",
     "text": [
      "Data loaded in 1.9513 seconds, processing\n",
      "Bandpass cleaned in 3.7786 seconds.\n",
      "Stamps filtered in 15.6604 seconds\n",
      "Saving results\n"
     ]
    },
    {
     "name": "stderr",
     "output_type": "stream",
     "text": [
      " 31%|███       | 15/49 [05:20<12:10, 21.49s/it]"
     ]
    },
    {
     "name": "stdout",
     "output_type": "stream",
     "text": [
      "Results aggregated in 0.7940 seconds\n",
      "Processing coarse channels 105-112\n",
      "Data loaded in 1.7206 seconds, processing\n",
      "Bandpass cleaned in 3.2243 seconds.\n",
      "Stamps filtered in 15.9239 seconds\n",
      "Saving results\n"
     ]
    },
    {
     "name": "stderr",
     "output_type": "stream",
     "text": [
      " 33%|███▎      | 16/49 [05:43<12:04, 21.96s/it]"
     ]
    },
    {
     "name": "stdout",
     "output_type": "stream",
     "text": [
      "Results aggregated in 2.1508 seconds\n",
      "Processing coarse channels 112-119\n",
      "Data loaded in 2.7535 seconds, processing\n",
      "Bandpass cleaned in 4.0354 seconds.\n",
      "Stamps filtered in 15.9947 seconds\n",
      "Saving results\n",
      "Results aggregated in 0.1845 seconds\n",
      "Processing coarse channels 119-126\n"
     ]
    },
    {
     "name": "stderr",
     "output_type": "stream",
     "text": [
      " 35%|███▍      | 17/49 [06:06<11:52, 22.26s/it]"
     ]
    },
    {
     "name": "stdout",
     "output_type": "stream",
     "text": [
      "Data loaded in 1.6850 seconds, processing\n",
      "Bandpass cleaned in 3.1469 seconds.\n",
      "Stamps filtered in 15.7353 seconds\n",
      "Saving results\n",
      "Results aggregated in 0.0918 seconds\n",
      "Processing coarse channels 126-133\n"
     ]
    },
    {
     "name": "stderr",
     "output_type": "stream",
     "text": [
      " 37%|███▋      | 18/49 [06:27<11:15, 21.78s/it]"
     ]
    },
    {
     "name": "stdout",
     "output_type": "stream",
     "text": [
      "Data loaded in 2.1996 seconds, processing\n",
      "Bandpass cleaned in 3.2996 seconds.\n",
      "Stamps filtered in 15.6668 seconds\n",
      "Saving results\n"
     ]
    },
    {
     "name": "stderr",
     "output_type": "stream",
     "text": [
      " 39%|███▉      | 19/49 [06:48<10:53, 21.77s/it]"
     ]
    },
    {
     "name": "stdout",
     "output_type": "stream",
     "text": [
      "Results aggregated in 0.5666 seconds\n",
      "Processing coarse channels 133-140\n",
      "Data loaded in 2.0447 seconds, processing\n",
      "Bandpass cleaned in 3.4015 seconds.\n",
      "Stamps filtered in 15.8749 seconds\n",
      "Saving results\n"
     ]
    },
    {
     "name": "stderr",
     "output_type": "stream",
     "text": [
      " 41%|████      | 20/49 [07:11<10:41, 22.12s/it]"
     ]
    },
    {
     "name": "stdout",
     "output_type": "stream",
     "text": [
      "Results aggregated in 1.5636 seconds\n",
      "Processing coarse channels 140-147\n",
      "Data loaded in 2.2502 seconds, processing\n",
      "Bandpass cleaned in 3.6586 seconds.\n",
      "Stamps filtered in 16.1513 seconds\n",
      "Saving results\n",
      "Results aggregated in 0.1803 seconds\n",
      "Processing coarse channels 147-154\n"
     ]
    },
    {
     "name": "stderr",
     "output_type": "stream",
     "text": [
      " 43%|████▎     | 21/49 [07:33<10:20, 22.16s/it]"
     ]
    },
    {
     "name": "stdout",
     "output_type": "stream",
     "text": [
      "Data loaded in 1.7213 seconds, processing\n",
      "Bandpass cleaned in 3.2088 seconds.\n",
      "Stamps filtered in 15.6569 seconds\n",
      "Saving results\n",
      "Results aggregated in 0.0986 seconds\n",
      "Processing coarse channels 154-161\n"
     ]
    },
    {
     "name": "stderr",
     "output_type": "stream",
     "text": [
      " 45%|████▍     | 22/49 [07:54<09:46, 21.72s/it]"
     ]
    },
    {
     "name": "stdout",
     "output_type": "stream",
     "text": [
      "Data loaded in 1.9430 seconds, processing\n",
      "Bandpass cleaned in 3.2251 seconds.\n",
      "Stamps filtered in 15.6557 seconds\n",
      "Saving results\n",
      "Results aggregated in 0.1072 seconds\n",
      "Processing coarse channels 161-168\n"
     ]
    },
    {
     "name": "stderr",
     "output_type": "stream",
     "text": [
      " 47%|████▋     | 23/49 [08:15<09:18, 21.49s/it]"
     ]
    },
    {
     "name": "stdout",
     "output_type": "stream",
     "text": [
      "Data loaded in 2.3243 seconds, processing\n",
      "Bandpass cleaned in 3.8569 seconds.\n",
      "Stamps filtered in 15.6434 seconds\n",
      "Saving results\n"
     ]
    },
    {
     "name": "stderr",
     "output_type": "stream",
     "text": [
      " 49%|████▉     | 24/49 [08:37<09:01, 21.67s/it]"
     ]
    },
    {
     "name": "stdout",
     "output_type": "stream",
     "text": [
      "Results aggregated in 0.2529 seconds\n",
      "Processing coarse channels 168-175\n",
      "Data loaded in 1.8891 seconds, processing\n",
      "Bandpass cleaned in 3.5161 seconds.\n",
      "Stamps filtered in 15.7350 seconds\n",
      "Saving results\n",
      "Results aggregated in 0.1065 seconds\n",
      "Processing coarse channels 175-182\n"
     ]
    },
    {
     "name": "stderr",
     "output_type": "stream",
     "text": [
      " 51%|█████     | 25/49 [08:58<08:37, 21.55s/it]"
     ]
    },
    {
     "name": "stdout",
     "output_type": "stream",
     "text": [
      "Data loaded in 1.9422 seconds, processing\n",
      "Bandpass cleaned in 3.3632 seconds.\n",
      "Stamps filtered in 15.8748 seconds\n",
      "Saving results\n",
      "Results aggregated in 0.1045 seconds\n",
      "Processing coarse channels 182-189\n"
     ]
    },
    {
     "name": "stderr",
     "output_type": "stream",
     "text": [
      " 53%|█████▎    | 26/49 [09:20<08:13, 21.47s/it]"
     ]
    },
    {
     "name": "stdout",
     "output_type": "stream",
     "text": [
      "Data loaded in 2.0107 seconds, processing\n",
      "Bandpass cleaned in 3.7616 seconds.\n",
      "Stamps filtered in 15.6855 seconds\n",
      "Saving results\n",
      "Results aggregated in 0.1262 seconds\n",
      "Processing coarse channels 189-196\n"
     ]
    },
    {
     "name": "stderr",
     "output_type": "stream",
     "text": [
      " 55%|█████▌    | 27/49 [09:41<07:53, 21.51s/it]"
     ]
    },
    {
     "name": "stdout",
     "output_type": "stream",
     "text": [
      "Data loaded in 2.0714 seconds, processing\n",
      "Bandpass cleaned in 3.1789 seconds.\n",
      "Stamps filtered in 15.3052 seconds\n",
      "Saving results\n",
      "Results aggregated in 0.1179 seconds\n",
      "Processing coarse channels 196-203\n"
     ]
    },
    {
     "name": "stderr",
     "output_type": "stream",
     "text": [
      " 57%|█████▋    | 28/49 [10:02<07:26, 21.26s/it]"
     ]
    },
    {
     "name": "stdout",
     "output_type": "stream",
     "text": [
      "Data loaded in 2.1670 seconds, processing\n",
      "Bandpass cleaned in 3.5636 seconds.\n",
      "Stamps filtered in 15.8752 seconds\n",
      "Saving results\n",
      "Results aggregated in 0.1197 seconds\n",
      "Processing coarse channels 203-210\n"
     ]
    },
    {
     "name": "stderr",
     "output_type": "stream",
     "text": [
      " 59%|█████▉    | 29/49 [10:24<07:08, 21.40s/it]"
     ]
    },
    {
     "name": "stdout",
     "output_type": "stream",
     "text": [
      "Data loaded in 1.9845 seconds, processing\n",
      "Bandpass cleaned in 3.2337 seconds.\n",
      "Stamps filtered in 15.9827 seconds\n",
      "Saving results\n",
      "Results aggregated in 0.1480 seconds\n",
      "Processing coarse channels 210-217\n"
     ]
    },
    {
     "name": "stderr",
     "output_type": "stream",
     "text": [
      " 61%|██████    | 30/49 [10:45<06:46, 21.39s/it]"
     ]
    },
    {
     "name": "stdout",
     "output_type": "stream",
     "text": [
      "Data loaded in 2.1528 seconds, processing\n",
      "Bandpass cleaned in 3.7294 seconds.\n",
      "Stamps filtered in 16.0763 seconds\n",
      "Saving results\n",
      "Results aggregated in 0.1083 seconds\n",
      "Processing coarse channels 217-224\n"
     ]
    },
    {
     "name": "stderr",
     "output_type": "stream",
     "text": [
      " 63%|██████▎   | 31/49 [11:07<06:28, 21.60s/it]"
     ]
    },
    {
     "name": "stdout",
     "output_type": "stream",
     "text": [
      "Data loaded in 2.1719 seconds, processing\n",
      "Bandpass cleaned in 3.6363 seconds.\n",
      "Stamps filtered in 16.2105 seconds\n",
      "Saving results\n",
      "Results aggregated in 0.1015 seconds\n",
      "Processing coarse channels 224-231\n"
     ]
    },
    {
     "name": "stderr",
     "output_type": "stream",
     "text": [
      " 65%|██████▌   | 32/49 [11:29<06:09, 21.76s/it]"
     ]
    },
    {
     "name": "stdout",
     "output_type": "stream",
     "text": [
      "Data loaded in 2.2242 seconds, processing\n",
      "Bandpass cleaned in 3.2228 seconds.\n",
      "Stamps filtered in 15.9558 seconds\n",
      "Saving results\n",
      "Results aggregated in 0.1019 seconds\n",
      "Processing coarse channels 231-238\n"
     ]
    },
    {
     "name": "stderr",
     "output_type": "stream",
     "text": [
      " 67%|██████▋   | 33/49 [11:51<05:46, 21.68s/it]"
     ]
    },
    {
     "name": "stdout",
     "output_type": "stream",
     "text": [
      "Data loaded in 2.1344 seconds, processing\n",
      "Bandpass cleaned in 3.3408 seconds.\n",
      "Stamps filtered in 15.8686 seconds\n",
      "Saving results\n",
      "Results aggregated in 0.1861 seconds\n",
      "Processing coarse channels 238-245\n"
     ]
    },
    {
     "name": "stderr",
     "output_type": "stream",
     "text": [
      " 69%|██████▉   | 34/49 [12:12<05:24, 21.64s/it]"
     ]
    },
    {
     "name": "stdout",
     "output_type": "stream",
     "text": [
      "Data loaded in 2.0245 seconds, processing\n",
      "Bandpass cleaned in 3.6271 seconds.\n",
      "Stamps filtered in 15.6270 seconds\n",
      "Saving results\n",
      "Results aggregated in 0.1390 seconds\n",
      "Processing coarse channels 245-252\n"
     ]
    },
    {
     "name": "stderr",
     "output_type": "stream",
     "text": [
      " 71%|███████▏  | 35/49 [12:34<05:02, 21.58s/it]"
     ]
    },
    {
     "name": "stdout",
     "output_type": "stream",
     "text": [
      "Data loaded in 2.0993 seconds, processing\n",
      "Bandpass cleaned in 3.3482 seconds.\n",
      "Stamps filtered in 15.7726 seconds\n",
      "Saving results\n",
      "Results aggregated in 0.1101 seconds\n",
      "Processing coarse channels 252-259\n"
     ]
    },
    {
     "name": "stderr",
     "output_type": "stream",
     "text": [
      " 73%|███████▎  | 36/49 [12:55<04:39, 21.51s/it]"
     ]
    },
    {
     "name": "stdout",
     "output_type": "stream",
     "text": [
      "Data loaded in 1.8629 seconds, processing\n",
      "Bandpass cleaned in 3.3674 seconds.\n",
      "Stamps filtered in 15.5795 seconds\n",
      "Saving results\n",
      "Results aggregated in 0.1104 seconds\n",
      "Processing coarse channels 259-266\n"
     ]
    },
    {
     "name": "stderr",
     "output_type": "stream",
     "text": [
      " 76%|███████▌  | 37/49 [13:16<04:16, 21.33s/it]"
     ]
    },
    {
     "name": "stdout",
     "output_type": "stream",
     "text": [
      "Data loaded in 2.1802 seconds, processing\n",
      "Bandpass cleaned in 3.3669 seconds.\n",
      "Stamps filtered in 15.6157 seconds\n",
      "Saving results\n",
      "Results aggregated in 0.1053 seconds\n",
      "Processing coarse channels 266-273\n"
     ]
    },
    {
     "name": "stderr",
     "output_type": "stream",
     "text": [
      " 78%|███████▊  | 38/49 [13:37<03:54, 21.32s/it]"
     ]
    },
    {
     "name": "stdout",
     "output_type": "stream",
     "text": [
      "Data loaded in 1.9463 seconds, processing\n",
      "Bandpass cleaned in 3.4949 seconds.\n",
      "Stamps filtered in 16.0052 seconds\n",
      "Saving results\n",
      "Results aggregated in 0.1104 seconds\n",
      "Processing coarse channels 273-280\n"
     ]
    },
    {
     "name": "stderr",
     "output_type": "stream",
     "text": [
      " 80%|███████▉  | 39/49 [13:59<03:33, 21.39s/it]"
     ]
    },
    {
     "name": "stdout",
     "output_type": "stream",
     "text": [
      "Data loaded in 2.1179 seconds, processing\n",
      "Bandpass cleaned in 3.6254 seconds.\n",
      "Stamps filtered in 15.8101 seconds\n",
      "Saving results\n",
      "Results aggregated in 0.1046 seconds\n",
      "Processing coarse channels 280-287\n"
     ]
    },
    {
     "name": "stderr",
     "output_type": "stream",
     "text": [
      " 82%|████████▏ | 40/49 [14:21<03:13, 21.47s/it]"
     ]
    },
    {
     "name": "stdout",
     "output_type": "stream",
     "text": [
      "Data loaded in 1.9919 seconds, processing\n",
      "Bandpass cleaned in 3.2670 seconds.\n",
      "Stamps filtered in 15.7965 seconds\n",
      "Saving results\n",
      "Results aggregated in 0.1046 seconds\n",
      "Processing coarse channels 287-294\n"
     ]
    },
    {
     "name": "stderr",
     "output_type": "stream",
     "text": [
      " 84%|████████▎ | 41/49 [14:42<02:51, 21.38s/it]"
     ]
    },
    {
     "name": "stdout",
     "output_type": "stream",
     "text": [
      "Data loaded in 1.7804 seconds, processing\n",
      "Bandpass cleaned in 3.1763 seconds.\n",
      "Stamps filtered in 15.5462 seconds\n",
      "Saving results\n",
      "Results aggregated in 0.1092 seconds\n",
      "Processing coarse channels 294-301\n"
     ]
    },
    {
     "name": "stderr",
     "output_type": "stream",
     "text": [
      " 86%|████████▌ | 42/49 [15:02<02:28, 21.16s/it]"
     ]
    },
    {
     "name": "stdout",
     "output_type": "stream",
     "text": [
      "Data loaded in 2.0182 seconds, processing\n",
      "Bandpass cleaned in 3.7081 seconds.\n",
      "Stamps filtered in 15.5390 seconds\n",
      "Saving results\n"
     ]
    },
    {
     "name": "stderr",
     "output_type": "stream",
     "text": [
      " 88%|████████▊ | 43/49 [15:25<02:08, 21.49s/it]"
     ]
    },
    {
     "name": "stdout",
     "output_type": "stream",
     "text": [
      "Results aggregated in 0.9912 seconds\n",
      "Processing coarse channels 301-308\n",
      "Data loaded in 2.3707 seconds, processing\n",
      "Bandpass cleaned in 3.6618 seconds.\n",
      "Stamps filtered in 15.9400 seconds\n",
      "Saving results\n"
     ]
    },
    {
     "name": "stderr",
     "output_type": "stream",
     "text": [
      " 90%|████████▉ | 44/49 [15:47<01:48, 21.73s/it]"
     ]
    },
    {
     "name": "stdout",
     "output_type": "stream",
     "text": [
      "Results aggregated in 0.2822 seconds\n",
      "Processing coarse channels 308-315\n",
      "Data loaded in 1.8006 seconds, processing\n",
      "Bandpass cleaned in 3.4018 seconds.\n",
      "Stamps filtered in 15.2692 seconds\n",
      "Saving results\n",
      "Results aggregated in 0.1129 seconds\n",
      "Processing coarse channels 315-322\n"
     ]
    },
    {
     "name": "stderr",
     "output_type": "stream",
     "text": [
      " 92%|█████████▏| 45/49 [16:08<01:25, 21.39s/it]"
     ]
    },
    {
     "name": "stdout",
     "output_type": "stream",
     "text": [
      "Data loaded in 2.3262 seconds, processing\n",
      "Bandpass cleaned in 4.0944 seconds.\n",
      "Stamps filtered in 16.0528 seconds\n",
      "Saving results\n",
      "Results aggregated in 0.1152 seconds\n",
      "Processing coarse channels 322-329\n"
     ]
    },
    {
     "name": "stderr",
     "output_type": "stream",
     "text": [
      " 94%|█████████▍| 46/49 [16:30<01:05, 21.75s/it]"
     ]
    },
    {
     "name": "stdout",
     "output_type": "stream",
     "text": [
      "Data loaded in 1.9533 seconds, processing\n",
      "Bandpass cleaned in 3.3936 seconds.\n",
      "Stamps filtered in 16.0029 seconds\n",
      "Saving results\n",
      "Results aggregated in 0.1433 seconds\n",
      "Processing coarse channels 329-336\n"
     ]
    },
    {
     "name": "stderr",
     "output_type": "stream",
     "text": [
      " 96%|█████████▌| 47/49 [16:52<00:43, 21.68s/it]"
     ]
    },
    {
     "name": "stdout",
     "output_type": "stream",
     "text": [
      "Data loaded in 1.8694 seconds, processing\n",
      "Bandpass cleaned in 3.1765 seconds.\n",
      "Stamps filtered in 15.4332 seconds\n",
      "Saving results\n",
      "Results aggregated in 0.1165 seconds\n",
      "Processing coarse channels 336-343\n"
     ]
    },
    {
     "name": "stderr",
     "output_type": "stream",
     "text": [
      " 98%|█████████▊| 48/49 [17:12<00:21, 21.36s/it]"
     ]
    },
    {
     "name": "stdout",
     "output_type": "stream",
     "text": [
      "Data loaded in 1.6276 seconds, processing\n",
      "Bandpass cleaned in 3.6594 seconds.\n",
      "Stamps filtered in 15.7045 seconds\n",
      "Saving results\n"
     ]
    },
    {
     "name": "stderr",
     "output_type": "stream",
     "text": [
      "100%|██████████| 49/49 [17:33<00:00, 21.51s/it]\n"
     ]
    },
    {
     "name": "stdout",
     "output_type": "stream",
     "text": [
      "Results aggregated in 0.1199 seconds\n",
      "       level_0      index     statistic  pvalue        freqs\n",
      "43514    43514  206251648  12943.177728     0.0  2226.571584\n",
      "43512    43512  206251392  12551.356440     0.0  2226.572299\n",
      "43513    43513  206251520  12127.083249     0.0  2226.571941\n",
      "43834    43834  219895552  11375.263660     0.0  2188.450956\n",
      "343 343\n",
      "Finished Energy Detection on GBT_57684_58874_HIP62771_fine.h5 in 1060.2213 seconds\n",
      "/mnt_blpd7/datax/dl/GBT_57684_59208_HIP63503_fine.h5\n",
      "Header saved to ../../../../../../datax/scratch/pma/reverse_search/train_large/HIP63503-523/GBT_57684_59208_HIP63503_fine/header.pkl\n",
      "Processing 7 in parallel\n",
      "Processing coarse channels 0-7\n"
     ]
    },
    {
     "name": "stderr",
     "output_type": "stream",
     "text": [
      "  0%|          | 0/49 [00:00<?, ?it/s]"
     ]
    },
    {
     "name": "stdout",
     "output_type": "stream",
     "text": [
      "Data loaded in 3.2661 seconds, processing\n",
      "Bandpass cleaned in 3.4824 seconds.\n",
      "Stamps filtered in 14.2272 seconds\n",
      "Saving results\n",
      "Results aggregated in 0.0601 seconds\n",
      "Processing coarse channels 7-14\n"
     ]
    },
    {
     "name": "stderr",
     "output_type": "stream",
     "text": [
      "  2%|▏         | 1/49 [00:21<16:50, 21.04s/it]"
     ]
    },
    {
     "name": "stdout",
     "output_type": "stream",
     "text": [
      "Data loaded in 2.6180 seconds, processing\n",
      "Bandpass cleaned in 3.3761 seconds.\n",
      "Stamps filtered in 14.2033 seconds\n",
      "Saving results\n",
      "Results aggregated in 0.0643 seconds\n",
      "Processing coarse channels 14-21\n"
     ]
    },
    {
     "name": "stderr",
     "output_type": "stream",
     "text": [
      "  4%|▍         | 2/49 [00:41<16:07, 20.59s/it]"
     ]
    },
    {
     "name": "stdout",
     "output_type": "stream",
     "text": [
      "Data loaded in 2.1775 seconds, processing\n",
      "Bandpass cleaned in 3.2053 seconds.\n",
      "Stamps filtered in 14.4641 seconds\n",
      "Saving results\n",
      "Results aggregated in 0.0610 seconds\n",
      "Processing coarse channels 21-28\n"
     ]
    },
    {
     "name": "stderr",
     "output_type": "stream",
     "text": [
      "  6%|▌         | 3/49 [01:01<15:33, 20.28s/it]"
     ]
    },
    {
     "name": "stdout",
     "output_type": "stream",
     "text": [
      "Data loaded in 2.0354 seconds, processing\n",
      "Bandpass cleaned in 3.2363 seconds.\n",
      "Stamps filtered in 14.1482 seconds\n",
      "Saving results\n",
      "Results aggregated in 0.0656 seconds\n",
      "Processing coarse channels 28-35\n"
     ]
    },
    {
     "name": "stderr",
     "output_type": "stream",
     "text": [
      "  8%|▊         | 4/49 [01:20<14:58, 19.97s/it]"
     ]
    },
    {
     "name": "stdout",
     "output_type": "stream",
     "text": [
      "Data loaded in 2.1107 seconds, processing\n",
      "Bandpass cleaned in 3.3046 seconds.\n",
      "Stamps filtered in 14.3672 seconds\n",
      "Saving results\n",
      "Results aggregated in 0.0595 seconds\n",
      "Processing coarse channels 35-42\n"
     ]
    },
    {
     "name": "stderr",
     "output_type": "stream",
     "text": [
      " 10%|█         | 5/49 [01:40<14:36, 19.93s/it]"
     ]
    },
    {
     "name": "stdout",
     "output_type": "stream",
     "text": [
      "Data loaded in 2.0623 seconds, processing\n",
      "Bandpass cleaned in 3.0793 seconds.\n",
      "Stamps filtered in 14.2949 seconds\n",
      "Saving results\n",
      "Results aggregated in 0.0682 seconds\n",
      "Processing coarse channels 42-49\n"
     ]
    },
    {
     "name": "stderr",
     "output_type": "stream",
     "text": [
      " 12%|█▏        | 6/49 [02:00<14:10, 19.79s/it]"
     ]
    },
    {
     "name": "stdout",
     "output_type": "stream",
     "text": [
      "Data loaded in 1.9117 seconds, processing\n",
      "Bandpass cleaned in 3.2122 seconds.\n",
      "Stamps filtered in 14.3370 seconds\n",
      "Saving results\n",
      "Results aggregated in 0.0647 seconds\n",
      "Processing coarse channels 49-56\n"
     ]
    },
    {
     "name": "stderr",
     "output_type": "stream",
     "text": [
      " 14%|█▍        | 7/49 [02:19<13:47, 19.71s/it]"
     ]
    },
    {
     "name": "stdout",
     "output_type": "stream",
     "text": [
      "Data loaded in 2.3178 seconds, processing\n",
      "Bandpass cleaned in 3.1683 seconds.\n",
      "Stamps filtered in 14.4258 seconds\n",
      "Saving results\n",
      "Results aggregated in 0.0707 seconds\n",
      "Processing coarse channels 56-63\n"
     ]
    },
    {
     "name": "stderr",
     "output_type": "stream",
     "text": [
      " 16%|█▋        | 8/49 [02:39<13:31, 19.80s/it]"
     ]
    },
    {
     "name": "stdout",
     "output_type": "stream",
     "text": [
      "Data loaded in 2.0665 seconds, processing\n",
      "Bandpass cleaned in 3.4005 seconds.\n",
      "Stamps filtered in 14.7281 seconds\n",
      "Saving results\n",
      "Results aggregated in 0.0688 seconds\n",
      "Processing coarse channels 63-70\n"
     ]
    },
    {
     "name": "stderr",
     "output_type": "stream",
     "text": [
      " 18%|█▊        | 9/49 [02:59<13:17, 19.95s/it]"
     ]
    },
    {
     "name": "stdout",
     "output_type": "stream",
     "text": [
      "Data loaded in 1.9475 seconds, processing\n",
      "Bandpass cleaned in 3.5688 seconds.\n",
      "Stamps filtered in 14.4116 seconds\n",
      "Saving results\n",
      "Results aggregated in 0.0661 seconds\n",
      "Processing coarse channels 70-77\n"
     ]
    },
    {
     "name": "stderr",
     "output_type": "stream",
     "text": [
      " 20%|██        | 10/49 [03:19<12:58, 19.97s/it]"
     ]
    },
    {
     "name": "stdout",
     "output_type": "stream",
     "text": [
      "Data loaded in 1.8622 seconds, processing\n",
      "Bandpass cleaned in 3.2623 seconds.\n",
      "Stamps filtered in 14.1991 seconds\n",
      "Saving results\n",
      "Results aggregated in 0.0640 seconds\n",
      "Processing coarse channels 77-84\n"
     ]
    },
    {
     "name": "stderr",
     "output_type": "stream",
     "text": [
      " 22%|██▏       | 11/49 [03:39<12:32, 19.79s/it]"
     ]
    },
    {
     "name": "stdout",
     "output_type": "stream",
     "text": [
      "Data loaded in 2.0638 seconds, processing\n",
      "Bandpass cleaned in 3.5601 seconds.\n",
      "Stamps filtered in 14.6201 seconds\n",
      "Saving results\n",
      "Results aggregated in 0.0620 seconds\n",
      "Processing coarse channels 84-91\n"
     ]
    },
    {
     "name": "stderr",
     "output_type": "stream",
     "text": [
      " 24%|██▍       | 12/49 [03:59<12:18, 19.95s/it]"
     ]
    },
    {
     "name": "stdout",
     "output_type": "stream",
     "text": [
      "Data loaded in 1.9237 seconds, processing\n",
      "Bandpass cleaned in 3.2026 seconds.\n",
      "Stamps filtered in 14.5661 seconds\n",
      "Saving results\n",
      "Results aggregated in 0.0660 seconds\n",
      "Processing coarse channels 91-98\n"
     ]
    },
    {
     "name": "stderr",
     "output_type": "stream",
     "text": [
      " 27%|██▋       | 13/49 [04:19<11:56, 19.90s/it]"
     ]
    },
    {
     "name": "stdout",
     "output_type": "stream",
     "text": [
      "Data loaded in 1.9934 seconds, processing\n",
      "Bandpass cleaned in 3.4312 seconds.\n",
      "Stamps filtered in 14.5148 seconds\n",
      "Saving results\n",
      "Results aggregated in 0.0653 seconds\n",
      "Processing coarse channels 98-105\n"
     ]
    },
    {
     "name": "stderr",
     "output_type": "stream",
     "text": [
      " 29%|██▊       | 14/49 [04:39<11:37, 19.93s/it]"
     ]
    },
    {
     "name": "stdout",
     "output_type": "stream",
     "text": [
      "Data loaded in 2.2621 seconds, processing\n",
      "Bandpass cleaned in 3.2038 seconds.\n",
      "Stamps filtered in 14.7982 seconds\n",
      "Saving results\n",
      "Results aggregated in 0.0745 seconds\n",
      "Processing coarse channels 105-112\n"
     ]
    },
    {
     "name": "stderr",
     "output_type": "stream",
     "text": [
      " 31%|███       | 15/49 [04:59<11:22, 20.06s/it]"
     ]
    },
    {
     "name": "stdout",
     "output_type": "stream",
     "text": [
      "Data loaded in 1.7254 seconds, processing\n",
      "Bandpass cleaned in 3.1270 seconds.\n",
      "Stamps filtered in 14.5606 seconds\n",
      "Saving results\n"
     ]
    },
    {
     "name": "stderr",
     "output_type": "stream",
     "text": [
      " 33%|███▎      | 16/49 [05:20<11:05, 20.16s/it]"
     ]
    },
    {
     "name": "stdout",
     "output_type": "stream",
     "text": [
      "Results aggregated in 0.9492 seconds\n",
      "Processing coarse channels 112-119\n",
      "Data loaded in 1.7894 seconds, processing\n",
      "Bandpass cleaned in 3.1816 seconds.\n",
      "Stamps filtered in 14.4337 seconds\n",
      "Saving results\n"
     ]
    },
    {
     "name": "stderr",
     "output_type": "stream",
     "text": [
      " 35%|███▍      | 17/49 [05:39<10:41, 20.05s/it]"
     ]
    },
    {
     "name": "stdout",
     "output_type": "stream",
     "text": [
      "Results aggregated in 0.3758 seconds\n",
      "Processing coarse channels 119-126\n",
      "Data loaded in 2.1046 seconds, processing\n",
      "Bandpass cleaned in 3.3749 seconds.\n",
      "Stamps filtered in 14.7176 seconds\n",
      "Saving results\n",
      "Results aggregated in 0.0823 seconds\n",
      "Processing coarse channels 126-133\n"
     ]
    },
    {
     "name": "stderr",
     "output_type": "stream",
     "text": [
      " 37%|███▋      | 18/49 [06:00<10:23, 20.12s/it]"
     ]
    },
    {
     "name": "stdout",
     "output_type": "stream",
     "text": [
      "Data loaded in 1.9898 seconds, processing\n",
      "Bandpass cleaned in 3.6654 seconds.\n",
      "Stamps filtered in 14.0286 seconds\n",
      "Saving results\n",
      "Results aggregated in 0.0868 seconds\n",
      "Processing coarse channels 133-140\n"
     ]
    },
    {
     "name": "stderr",
     "output_type": "stream",
     "text": [
      " 39%|███▉      | 19/49 [06:20<10:00, 20.02s/it]"
     ]
    },
    {
     "name": "stdout",
     "output_type": "stream",
     "text": [
      "Data loaded in 1.8374 seconds, processing\n",
      "Bandpass cleaned in 3.1632 seconds.\n",
      "Stamps filtered in 14.1566 seconds\n",
      "Saving results\n",
      "Results aggregated in 0.0777 seconds\n",
      "Processing coarse channels 140-147\n"
     ]
    },
    {
     "name": "stderr",
     "output_type": "stream",
     "text": [
      " 41%|████      | 20/49 [06:39<09:33, 19.79s/it]"
     ]
    },
    {
     "name": "stdout",
     "output_type": "stream",
     "text": [
      "Data loaded in 2.0290 seconds, processing\n",
      "Bandpass cleaned in 3.0909 seconds.\n",
      "Stamps filtered in 14.4664 seconds\n",
      "Saving results\n",
      "Results aggregated in 0.0758 seconds\n",
      "Processing coarse channels 147-154\n"
     ]
    },
    {
     "name": "stderr",
     "output_type": "stream",
     "text": [
      " 43%|████▎     | 21/49 [06:58<09:13, 19.75s/it]"
     ]
    },
    {
     "name": "stdout",
     "output_type": "stream",
     "text": [
      "Data loaded in 1.9906 seconds, processing\n",
      "Bandpass cleaned in 3.3597 seconds.\n",
      "Stamps filtered in 14.3354 seconds\n",
      "Saving results\n",
      "Results aggregated in 0.0792 seconds\n",
      "Processing coarse channels 154-161\n"
     ]
    },
    {
     "name": "stderr",
     "output_type": "stream",
     "text": [
      " 45%|████▍     | 22/49 [07:18<08:53, 19.76s/it]"
     ]
    },
    {
     "name": "stdout",
     "output_type": "stream",
     "text": [
      "Data loaded in 2.1490 seconds, processing\n",
      "Bandpass cleaned in 3.1442 seconds.\n",
      "Stamps filtered in 14.3617 seconds\n",
      "Saving results\n",
      "Results aggregated in 0.0826 seconds\n",
      "Processing coarse channels 161-168\n"
     ]
    },
    {
     "name": "stderr",
     "output_type": "stream",
     "text": [
      " 47%|████▋     | 23/49 [07:38<08:33, 19.76s/it]"
     ]
    },
    {
     "name": "stdout",
     "output_type": "stream",
     "text": [
      "Data loaded in 1.8250 seconds, processing\n",
      "Bandpass cleaned in 3.4524 seconds.\n",
      "Stamps filtered in 14.3479 seconds\n",
      "Saving results\n",
      "Results aggregated in 0.1497 seconds\n",
      "Processing coarse channels 168-175\n"
     ]
    },
    {
     "name": "stderr",
     "output_type": "stream",
     "text": [
      " 49%|████▉     | 24/49 [07:58<08:14, 19.77s/it]"
     ]
    },
    {
     "name": "stdout",
     "output_type": "stream",
     "text": [
      "Data loaded in 2.8855 seconds, processing\n",
      "Bandpass cleaned in 3.6278 seconds.\n",
      "Stamps filtered in 14.5595 seconds\n",
      "Saving results\n",
      "Results aggregated in 0.0807 seconds\n",
      "Processing coarse channels 175-182\n"
     ]
    },
    {
     "name": "stderr",
     "output_type": "stream",
     "text": [
      " 51%|█████     | 25/49 [08:19<08:04, 20.19s/it]"
     ]
    },
    {
     "name": "stdout",
     "output_type": "stream",
     "text": [
      "Data loaded in 2.0479 seconds, processing\n",
      "Bandpass cleaned in 3.6113 seconds.\n",
      "Stamps filtered in 14.6043 seconds\n",
      "Saving results\n",
      "Results aggregated in 0.0896 seconds\n",
      "Processing coarse channels 182-189\n"
     ]
    },
    {
     "name": "stderr",
     "output_type": "stream",
     "text": [
      " 53%|█████▎    | 26/49 [08:39<07:45, 20.24s/it]"
     ]
    },
    {
     "name": "stdout",
     "output_type": "stream",
     "text": [
      "Data loaded in 1.8280 seconds, processing\n",
      "Bandpass cleaned in 3.3519 seconds.\n",
      "Stamps filtered in 14.3578 seconds\n",
      "Saving results\n",
      "Results aggregated in 0.1581 seconds\n",
      "Processing coarse channels 189-196\n"
     ]
    },
    {
     "name": "stderr",
     "output_type": "stream",
     "text": [
      " 55%|█████▌    | 27/49 [08:59<07:21, 20.08s/it]"
     ]
    },
    {
     "name": "stdout",
     "output_type": "stream",
     "text": [
      "Data loaded in 2.1993 seconds, processing\n",
      "Bandpass cleaned in 3.6387 seconds.\n",
      "Stamps filtered in 14.0783 seconds\n",
      "Saving results\n",
      "Results aggregated in 0.1800 seconds\n",
      "Processing coarse channels 196-203\n"
     ]
    },
    {
     "name": "stderr",
     "output_type": "stream",
     "text": [
      " 57%|█████▋    | 28/49 [09:19<07:01, 20.09s/it]"
     ]
    },
    {
     "name": "stdout",
     "output_type": "stream",
     "text": [
      "Data loaded in 2.1599 seconds, processing\n",
      "Bandpass cleaned in 3.7003 seconds.\n",
      "Stamps filtered in 14.6761 seconds\n",
      "Saving results\n"
     ]
    },
    {
     "name": "stderr",
     "output_type": "stream",
     "text": [
      " 59%|█████▉    | 29/49 [09:40<06:45, 20.30s/it]"
     ]
    },
    {
     "name": "stdout",
     "output_type": "stream",
     "text": [
      "Results aggregated in 0.2322 seconds\n",
      "Processing coarse channels 203-210\n",
      "Data loaded in 1.8629 seconds, processing\n",
      "Bandpass cleaned in 3.7291 seconds.\n",
      "Stamps filtered in 14.5056 seconds\n",
      "Saving results\n",
      "Results aggregated in 0.1657 seconds\n",
      "Processing coarse channels 210-217\n"
     ]
    },
    {
     "name": "stderr",
     "output_type": "stream",
     "text": [
      " 61%|██████    | 30/49 [10:00<06:25, 20.29s/it]"
     ]
    },
    {
     "name": "stdout",
     "output_type": "stream",
     "text": [
      "Data loaded in 2.2023 seconds, processing\n",
      "Bandpass cleaned in 3.2479 seconds.\n",
      "Stamps filtered in 14.3434 seconds\n",
      "Saving results\n",
      "Results aggregated in 0.0961 seconds\n",
      "Processing coarse channels 217-224\n"
     ]
    },
    {
     "name": "stderr",
     "output_type": "stream",
     "text": [
      " 63%|██████▎   | 31/49 [10:20<06:03, 20.17s/it]"
     ]
    },
    {
     "name": "stdout",
     "output_type": "stream",
     "text": [
      "Data loaded in 2.0831 seconds, processing\n",
      "Bandpass cleaned in 3.4962 seconds.\n",
      "Stamps filtered in 14.5711 seconds\n",
      "Saving results\n",
      "Results aggregated in 0.0967 seconds\n",
      "Processing coarse channels 224-231\n"
     ]
    },
    {
     "name": "stderr",
     "output_type": "stream",
     "text": [
      " 65%|██████▌   | 32/49 [10:40<05:43, 20.20s/it]"
     ]
    },
    {
     "name": "stdout",
     "output_type": "stream",
     "text": [
      "Data loaded in 1.8353 seconds, processing\n",
      "Bandpass cleaned in 3.1752 seconds.\n",
      "Stamps filtered in 14.6846 seconds\n",
      "Saving results\n",
      "Results aggregated in 0.1057 seconds\n",
      "Processing coarse channels 231-238\n"
     ]
    },
    {
     "name": "stderr",
     "output_type": "stream",
     "text": [
      " 67%|██████▋   | 33/49 [11:00<05:21, 20.08s/it]"
     ]
    },
    {
     "name": "stdout",
     "output_type": "stream",
     "text": [
      "Data loaded in 2.0996 seconds, processing\n",
      "Bandpass cleaned in 3.4147 seconds.\n",
      "Stamps filtered in 14.1942 seconds\n",
      "Saving results\n",
      "Results aggregated in 0.1714 seconds\n",
      "Processing coarse channels 238-245\n"
     ]
    },
    {
     "name": "stderr",
     "output_type": "stream",
     "text": [
      " 69%|██████▉   | 34/49 [11:20<05:00, 20.03s/it]"
     ]
    },
    {
     "name": "stdout",
     "output_type": "stream",
     "text": [
      "Data loaded in 1.7572 seconds, processing\n",
      "Bandpass cleaned in 3.6525 seconds.\n",
      "Stamps filtered in 14.4516 seconds\n",
      "Saving results\n",
      "Results aggregated in 0.1305 seconds\n",
      "Processing coarse channels 245-252\n"
     ]
    },
    {
     "name": "stderr",
     "output_type": "stream",
     "text": [
      " 71%|███████▏  | 35/49 [11:40<04:40, 20.02s/it]"
     ]
    },
    {
     "name": "stdout",
     "output_type": "stream",
     "text": [
      "Data loaded in 1.9983 seconds, processing\n",
      "Bandpass cleaned in 3.4029 seconds.\n",
      "Stamps filtered in 14.6332 seconds\n",
      "Saving results\n",
      "Results aggregated in 0.0936 seconds\n",
      "Processing coarse channels 252-259\n"
     ]
    },
    {
     "name": "stderr",
     "output_type": "stream",
     "text": [
      " 73%|███████▎  | 36/49 [12:00<04:20, 20.06s/it]"
     ]
    },
    {
     "name": "stdout",
     "output_type": "stream",
     "text": [
      "Data loaded in 1.6967 seconds, processing\n",
      "Bandpass cleaned in 3.7747 seconds.\n",
      "Stamps filtered in 14.5743 seconds\n",
      "Saving results\n",
      "Results aggregated in 0.0901 seconds\n",
      "Processing coarse channels 259-266\n"
     ]
    },
    {
     "name": "stderr",
     "output_type": "stream",
     "text": [
      " 76%|███████▌  | 37/49 [12:20<04:00, 20.08s/it]"
     ]
    },
    {
     "name": "stdout",
     "output_type": "stream",
     "text": [
      "Data loaded in 2.1080 seconds, processing\n",
      "Bandpass cleaned in 3.3926 seconds.\n",
      "Stamps filtered in 14.4421 seconds\n",
      "Saving results\n"
     ]
    },
    {
     "name": "stderr",
     "output_type": "stream",
     "text": [
      " 78%|███████▊  | 38/49 [12:41<03:41, 20.12s/it]"
     ]
    },
    {
     "name": "stdout",
     "output_type": "stream",
     "text": [
      "Results aggregated in 0.2646 seconds\n",
      "Processing coarse channels 266-273\n",
      "Data loaded in 2.0606 seconds, processing\n",
      "Bandpass cleaned in 3.3650 seconds.\n",
      "Stamps filtered in 14.4537 seconds\n",
      "Saving results\n",
      "Results aggregated in 0.0942 seconds\n",
      "Processing coarse channels 273-280\n"
     ]
    },
    {
     "name": "stderr",
     "output_type": "stream",
     "text": [
      " 80%|███████▉  | 39/49 [13:01<03:20, 20.08s/it]"
     ]
    },
    {
     "name": "stdout",
     "output_type": "stream",
     "text": [
      "Data loaded in 2.1738 seconds, processing\n",
      "Bandpass cleaned in 3.3560 seconds.\n",
      "Stamps filtered in 14.6130 seconds\n",
      "Saving results\n",
      "Results aggregated in 0.0998 seconds\n",
      "Processing coarse channels 280-287\n"
     ]
    },
    {
     "name": "stderr",
     "output_type": "stream",
     "text": [
      " 82%|████████▏ | 40/49 [13:21<03:01, 20.13s/it]"
     ]
    },
    {
     "name": "stdout",
     "output_type": "stream",
     "text": [
      "Data loaded in 1.9246 seconds, processing\n",
      "Bandpass cleaned in 3.6062 seconds.\n",
      "Stamps filtered in 14.7746 seconds\n",
      "Saving results\n",
      "Results aggregated in 0.0928 seconds\n",
      "Processing coarse channels 287-294\n"
     ]
    },
    {
     "name": "stderr",
     "output_type": "stream",
     "text": [
      " 84%|████████▎ | 41/49 [13:41<02:41, 20.22s/it]"
     ]
    },
    {
     "name": "stdout",
     "output_type": "stream",
     "text": [
      "Data loaded in 1.8256 seconds, processing\n",
      "Bandpass cleaned in 3.2337 seconds.\n",
      "Stamps filtered in 14.5633 seconds\n",
      "Saving results\n",
      "Results aggregated in 0.0908 seconds\n",
      "Processing coarse channels 294-301\n"
     ]
    },
    {
     "name": "stderr",
     "output_type": "stream",
     "text": [
      " 86%|████████▌ | 42/49 [14:01<02:20, 20.07s/it]"
     ]
    },
    {
     "name": "stdout",
     "output_type": "stream",
     "text": [
      "Data loaded in 1.8673 seconds, processing\n",
      "Bandpass cleaned in 3.5931 seconds.\n",
      "Stamps filtered in 14.6167 seconds\n",
      "Saving results\n"
     ]
    },
    {
     "name": "stderr",
     "output_type": "stream",
     "text": [
      " 88%|████████▊ | 43/49 [14:22<02:01, 20.33s/it]"
     ]
    },
    {
     "name": "stdout",
     "output_type": "stream",
     "text": [
      "Results aggregated in 0.8379 seconds\n",
      "Processing coarse channels 301-308\n",
      "Data loaded in 1.6927 seconds, processing\n",
      "Bandpass cleaned in 3.4947 seconds.\n",
      "Stamps filtered in 14.4836 seconds\n",
      "Saving results\n"
     ]
    },
    {
     "name": "stderr",
     "output_type": "stream",
     "text": [
      " 90%|████████▉ | 44/49 [14:42<01:41, 20.21s/it]"
     ]
    },
    {
     "name": "stdout",
     "output_type": "stream",
     "text": [
      "Results aggregated in 0.2398 seconds\n",
      "Processing coarse channels 308-315\n",
      "Data loaded in 2.0308 seconds, processing\n",
      "Bandpass cleaned in 3.2465 seconds.\n",
      "Stamps filtered in 14.3811 seconds\n",
      "Saving results\n",
      "Results aggregated in 0.1048 seconds\n",
      "Processing coarse channels 315-322\n"
     ]
    },
    {
     "name": "stderr",
     "output_type": "stream",
     "text": [
      " 92%|█████████▏| 45/49 [15:02<01:20, 20.08s/it]"
     ]
    },
    {
     "name": "stdout",
     "output_type": "stream",
     "text": [
      "Data loaded in 1.8314 seconds, processing\n",
      "Bandpass cleaned in 3.6129 seconds.\n",
      "Stamps filtered in 14.4898 seconds\n",
      "Saving results\n",
      "Results aggregated in 0.1168 seconds\n",
      "Processing coarse channels 322-329\n"
     ]
    },
    {
     "name": "stderr",
     "output_type": "stream",
     "text": [
      " 94%|█████████▍| 46/49 [15:22<01:00, 20.07s/it]"
     ]
    },
    {
     "name": "stdout",
     "output_type": "stream",
     "text": [
      "Data loaded in 1.9359 seconds, processing\n",
      "Bandpass cleaned in 3.6499 seconds.\n",
      "Stamps filtered in 14.4768 seconds\n",
      "Saving results\n",
      "Results aggregated in 0.1141 seconds\n",
      "Processing coarse channels 329-336\n"
     ]
    },
    {
     "name": "stderr",
     "output_type": "stream",
     "text": [
      " 96%|█████████▌| 47/49 [15:42<00:40, 20.11s/it]"
     ]
    },
    {
     "name": "stdout",
     "output_type": "stream",
     "text": [
      "Data loaded in 2.0856 seconds, processing\n",
      "Bandpass cleaned in 3.5915 seconds.\n",
      "Stamps filtered in 14.4710 seconds\n",
      "Saving results\n",
      "Results aggregated in 0.1106 seconds\n",
      "Processing coarse channels 336-343\n"
     ]
    },
    {
     "name": "stderr",
     "output_type": "stream",
     "text": [
      " 98%|█████████▊| 48/49 [16:02<00:20, 20.16s/it]"
     ]
    },
    {
     "name": "stdout",
     "output_type": "stream",
     "text": [
      "Data loaded in 1.5569 seconds, processing\n",
      "Bandpass cleaned in 3.2172 seconds.\n",
      "Stamps filtered in 14.5669 seconds\n",
      "Saving results\n"
     ]
    },
    {
     "name": "stderr",
     "output_type": "stream",
     "text": [
      "100%|██████████| 49/49 [16:22<00:00, 20.04s/it]\n"
     ]
    },
    {
     "name": "stdout",
     "output_type": "stream",
     "text": [
      "Results aggregated in 0.1081 seconds\n",
      "       level_0      index     statistic  pvalue        freqs\n",
      "13930    13930  206260608  13327.224831     0.0  2226.546550\n",
      "13929    13929  206260480  13323.834166     0.0  2226.546907\n",
      "13924    13924  206251648  11118.391105     0.0  2226.571584\n",
      "13923    13923  206251520  11111.407939     0.0  2226.571941\n",
      "343 343\n",
      "Finished Energy Detection on GBT_57684_59208_HIP63503_fine.h5 in 985.2009 seconds\n",
      "/mnt_blpd7/datax/dl/GBT_57684_59542_HIP62781_fine.h5\n",
      "Header saved to ../../../../../../datax/scratch/pma/reverse_search/train_large/HIP63503-523/GBT_57684_59542_HIP62781_fine/header.pkl\n",
      "Processing 7 in parallel\n",
      "Processing coarse channels 0-7\n"
     ]
    },
    {
     "name": "stderr",
     "output_type": "stream",
     "text": [
      "  0%|          | 0/49 [00:00<?, ?it/s]"
     ]
    },
    {
     "name": "stdout",
     "output_type": "stream",
     "text": [
      "Data loaded in 3.3471 seconds, processing\n",
      "Bandpass cleaned in 3.6195 seconds.\n",
      "Stamps filtered in 14.5577 seconds\n",
      "Saving results\n",
      "Results aggregated in 0.0656 seconds\n",
      "Processing coarse channels 7-14\n"
     ]
    },
    {
     "name": "stderr",
     "output_type": "stream",
     "text": [
      "  2%|▏         | 1/49 [00:21<17:16, 21.60s/it]"
     ]
    },
    {
     "name": "stdout",
     "output_type": "stream",
     "text": [
      "Data loaded in 2.1490 seconds, processing\n",
      "Bandpass cleaned in 3.2740 seconds.\n",
      "Stamps filtered in 14.3968 seconds\n",
      "Saving results\n",
      "Results aggregated in 0.0672 seconds\n",
      "Processing coarse channels 14-21\n"
     ]
    },
    {
     "name": "stderr",
     "output_type": "stream",
     "text": [
      "  4%|▍         | 2/49 [00:41<16:08, 20.60s/it]"
     ]
    },
    {
     "name": "stdout",
     "output_type": "stream",
     "text": [
      "Data loaded in 1.8426 seconds, processing\n",
      "Bandpass cleaned in 3.1970 seconds.\n",
      "Stamps filtered in 14.4971 seconds\n",
      "Saving results\n",
      "Results aggregated in 0.0651 seconds\n",
      "Processing coarse channels 21-28\n"
     ]
    },
    {
     "name": "stderr",
     "output_type": "stream",
     "text": [
      "  6%|▌         | 3/49 [01:01<15:26, 20.15s/it]"
     ]
    },
    {
     "name": "stdout",
     "output_type": "stream",
     "text": [
      "Data loaded in 1.7857 seconds, processing\n",
      "Bandpass cleaned in 3.1511 seconds.\n",
      "Stamps filtered in 14.5818 seconds\n",
      "Saving results\n",
      "Results aggregated in 0.0616 seconds\n",
      "Processing coarse channels 28-35\n"
     ]
    },
    {
     "name": "stderr",
     "output_type": "stream",
     "text": [
      "  8%|▊         | 4/49 [01:20<14:56, 19.93s/it]"
     ]
    },
    {
     "name": "stdout",
     "output_type": "stream",
     "text": [
      "Data loaded in 2.0287 seconds, processing\n",
      "Bandpass cleaned in 3.2406 seconds.\n",
      "Stamps filtered in 14.9092 seconds\n",
      "Saving results\n",
      "Results aggregated in 0.0643 seconds\n",
      "Processing coarse channels 35-42\n"
     ]
    },
    {
     "name": "stderr",
     "output_type": "stream",
     "text": [
      " 10%|█         | 5/49 [01:40<14:42, 20.05s/it]"
     ]
    },
    {
     "name": "stdout",
     "output_type": "stream",
     "text": [
      "Data loaded in 1.9268 seconds, processing\n",
      "Bandpass cleaned in 3.3829 seconds.\n",
      "Stamps filtered in 14.6813 seconds\n",
      "Saving results\n",
      "Results aggregated in 0.0642 seconds\n",
      "Processing coarse channels 42-49\n"
     ]
    },
    {
     "name": "stderr",
     "output_type": "stream",
     "text": [
      " 12%|█▏        | 6/49 [02:01<14:22, 20.05s/it]"
     ]
    },
    {
     "name": "stdout",
     "output_type": "stream",
     "text": [
      "Data loaded in 2.5122 seconds, processing\n",
      "Bandpass cleaned in 3.2477 seconds.\n",
      "Stamps filtered in 14.4781 seconds\n",
      "Saving results\n",
      "Results aggregated in 0.0654 seconds\n",
      "Processing coarse channels 49-56\n"
     ]
    },
    {
     "name": "stderr",
     "output_type": "stream",
     "text": [
      " 14%|█▍        | 7/49 [02:21<14:05, 20.14s/it]"
     ]
    },
    {
     "name": "stdout",
     "output_type": "stream",
     "text": [
      "Data loaded in 1.9841 seconds, processing\n",
      "Bandpass cleaned in 3.3943 seconds.\n",
      "Stamps filtered in 14.6219 seconds\n",
      "Saving results\n",
      "Results aggregated in 0.0608 seconds\n",
      "Processing coarse channels 56-63\n"
     ]
    },
    {
     "name": "stderr",
     "output_type": "stream",
     "text": [
      " 16%|█▋        | 8/49 [02:41<13:44, 20.12s/it]"
     ]
    },
    {
     "name": "stdout",
     "output_type": "stream",
     "text": [
      "Data loaded in 1.6133 seconds, processing\n",
      "Bandpass cleaned in 3.5211 seconds.\n",
      "Stamps filtered in 14.7002 seconds\n",
      "Saving results\n",
      "Results aggregated in 0.0671 seconds\n",
      "Processing coarse channels 63-70\n"
     ]
    },
    {
     "name": "stderr",
     "output_type": "stream",
     "text": [
      " 18%|█▊        | 9/49 [03:01<13:22, 20.05s/it]"
     ]
    },
    {
     "name": "stdout",
     "output_type": "stream",
     "text": [
      "Data loaded in 1.7770 seconds, processing\n",
      "Bandpass cleaned in 3.2925 seconds.\n",
      "Stamps filtered in 14.3564 seconds\n",
      "Saving results\n",
      "Results aggregated in 0.0697 seconds\n",
      "Processing coarse channels 70-77\n"
     ]
    },
    {
     "name": "stderr",
     "output_type": "stream",
     "text": [
      " 20%|██        | 10/49 [03:20<12:55, 19.88s/it]"
     ]
    },
    {
     "name": "stdout",
     "output_type": "stream",
     "text": [
      "Data loaded in 1.8582 seconds, processing\n",
      "Bandpass cleaned in 3.5538 seconds.\n",
      "Stamps filtered in 14.6236 seconds\n",
      "Saving results\n",
      "Results aggregated in 0.0637 seconds\n",
      "Processing coarse channels 77-84\n"
     ]
    },
    {
     "name": "stderr",
     "output_type": "stream",
     "text": [
      " 22%|██▏       | 11/49 [03:40<12:38, 19.95s/it]"
     ]
    },
    {
     "name": "stdout",
     "output_type": "stream",
     "text": [
      "Data loaded in 1.8888 seconds, processing\n",
      "Bandpass cleaned in 3.5547 seconds.\n",
      "Stamps filtered in 14.7249 seconds\n",
      "Saving results\n",
      "Results aggregated in 0.0637 seconds\n",
      "Processing coarse channels 84-91\n"
     ]
    },
    {
     "name": "stderr",
     "output_type": "stream",
     "text": [
      " 24%|██▍       | 12/49 [04:01<12:21, 20.04s/it]"
     ]
    },
    {
     "name": "stdout",
     "output_type": "stream",
     "text": [
      "Data loaded in 1.7215 seconds, processing\n",
      "Bandpass cleaned in 3.7465 seconds.\n",
      "Stamps filtered in 14.4219 seconds\n",
      "Saving results\n",
      "Results aggregated in 0.0692 seconds\n",
      "Processing coarse channels 91-98\n"
     ]
    },
    {
     "name": "stderr",
     "output_type": "stream",
     "text": [
      " 27%|██▋       | 13/49 [04:21<12:00, 20.02s/it]"
     ]
    },
    {
     "name": "stdout",
     "output_type": "stream",
     "text": [
      "Data loaded in 1.8262 seconds, processing\n",
      "Bandpass cleaned in 3.4619 seconds.\n",
      "Stamps filtered in 14.7420 seconds\n",
      "Saving results\n",
      "Results aggregated in 0.0636 seconds\n",
      "Processing coarse channels 98-105\n"
     ]
    },
    {
     "name": "stderr",
     "output_type": "stream",
     "text": [
      " 29%|██▊       | 14/49 [04:41<11:41, 20.05s/it]"
     ]
    },
    {
     "name": "stdout",
     "output_type": "stream",
     "text": [
      "Data loaded in 2.1418 seconds, processing\n",
      "Bandpass cleaned in 3.1528 seconds.\n",
      "Stamps filtered in 14.7404 seconds\n",
      "Saving results\n",
      "Results aggregated in 0.0734 seconds\n",
      "Processing coarse channels 105-112\n"
     ]
    },
    {
     "name": "stderr",
     "output_type": "stream",
     "text": [
      " 31%|███       | 15/49 [05:01<11:22, 20.07s/it]"
     ]
    },
    {
     "name": "stdout",
     "output_type": "stream",
     "text": [
      "Data loaded in 1.7497 seconds, processing\n",
      "Bandpass cleaned in 3.1188 seconds.\n",
      "Stamps filtered in 14.4574 seconds\n",
      "Saving results\n",
      "Results aggregated in 0.1088 seconds\n",
      "Processing coarse channels 112-119\n"
     ]
    },
    {
     "name": "stderr",
     "output_type": "stream",
     "text": [
      " 33%|███▎      | 16/49 [05:20<10:56, 19.88s/it]"
     ]
    },
    {
     "name": "stdout",
     "output_type": "stream",
     "text": [
      "Data loaded in 2.1485 seconds, processing\n",
      "Bandpass cleaned in 3.6894 seconds.\n",
      "Stamps filtered in 14.4375 seconds\n",
      "Saving results\n",
      "Results aggregated in 0.0866 seconds\n",
      "Processing coarse channels 119-126\n"
     ]
    },
    {
     "name": "stderr",
     "output_type": "stream",
     "text": [
      " 35%|███▍      | 17/49 [05:41<10:40, 20.03s/it]"
     ]
    },
    {
     "name": "stdout",
     "output_type": "stream",
     "text": [
      "Data loaded in 1.6918 seconds, processing\n",
      "Bandpass cleaned in 3.1945 seconds.\n",
      "Stamps filtered in 14.0473 seconds\n",
      "Saving results\n",
      "Results aggregated in 0.0756 seconds\n",
      "Processing coarse channels 126-133\n"
     ]
    },
    {
     "name": "stderr",
     "output_type": "stream",
     "text": [
      " 37%|███▋      | 18/49 [06:00<10:11, 19.73s/it]"
     ]
    },
    {
     "name": "stdout",
     "output_type": "stream",
     "text": [
      "Data loaded in 1.7136 seconds, processing\n",
      "Bandpass cleaned in 3.3130 seconds.\n",
      "Stamps filtered in 14.7433 seconds\n",
      "Saving results\n",
      "Results aggregated in 0.0873 seconds\n",
      "Processing coarse channels 133-140\n"
     ]
    },
    {
     "name": "stderr",
     "output_type": "stream",
     "text": [
      " 39%|███▉      | 19/49 [06:20<09:53, 19.77s/it]"
     ]
    },
    {
     "name": "stdout",
     "output_type": "stream",
     "text": [
      "Data loaded in 1.8720 seconds, processing\n",
      "Bandpass cleaned in 3.5566 seconds.\n",
      "Stamps filtered in 14.2331 seconds\n",
      "Saving results\n",
      "Results aggregated in 0.0751 seconds\n",
      "Processing coarse channels 140-147\n"
     ]
    },
    {
     "name": "stderr",
     "output_type": "stream",
     "text": [
      " 41%|████      | 20/49 [06:39<09:33, 19.76s/it]"
     ]
    },
    {
     "name": "stdout",
     "output_type": "stream",
     "text": [
      "Data loaded in 1.8946 seconds, processing\n",
      "Bandpass cleaned in 3.5382 seconds.\n",
      "Stamps filtered in 14.1621 seconds\n",
      "Saving results\n",
      "Results aggregated in 0.0778 seconds\n",
      "Processing coarse channels 147-154\n"
     ]
    },
    {
     "name": "stderr",
     "output_type": "stream",
     "text": [
      " 43%|████▎     | 21/49 [06:59<09:12, 19.74s/it]"
     ]
    },
    {
     "name": "stdout",
     "output_type": "stream",
     "text": [
      "Data loaded in 2.0981 seconds, processing\n",
      "Bandpass cleaned in 3.7211 seconds.\n",
      "Stamps filtered in 14.5533 seconds\n",
      "Saving results\n",
      "Results aggregated in 0.0774 seconds\n",
      "Processing coarse channels 154-161\n"
     ]
    },
    {
     "name": "stderr",
     "output_type": "stream",
     "text": [
      " 45%|████▍     | 22/49 [07:20<08:58, 19.96s/it]"
     ]
    },
    {
     "name": "stdout",
     "output_type": "stream",
     "text": [
      "Data loaded in 1.8445 seconds, processing\n",
      "Bandpass cleaned in 3.5331 seconds.\n",
      "Stamps filtered in 14.8561 seconds\n",
      "Saving results\n",
      "Results aggregated in 0.0769 seconds\n",
      "Processing coarse channels 161-168\n"
     ]
    },
    {
     "name": "stderr",
     "output_type": "stream",
     "text": [
      " 47%|████▋     | 23/49 [07:40<08:41, 20.07s/it]"
     ]
    },
    {
     "name": "stdout",
     "output_type": "stream",
     "text": [
      "Data loaded in 1.9271 seconds, processing\n",
      "Bandpass cleaned in 3.4797 seconds.\n",
      "Stamps filtered in 14.5118 seconds\n",
      "Saving results\n",
      "Results aggregated in 0.1527 seconds\n",
      "Processing coarse channels 168-175\n"
     ]
    },
    {
     "name": "stderr",
     "output_type": "stream",
     "text": [
      " 49%|████▉     | 24/49 [08:00<08:21, 20.07s/it]"
     ]
    },
    {
     "name": "stdout",
     "output_type": "stream",
     "text": [
      "Data loaded in 1.8935 seconds, processing\n",
      "Bandpass cleaned in 3.5635 seconds.\n",
      "Stamps filtered in 15.0642 seconds\n",
      "Saving results\n",
      "Results aggregated in 0.0770 seconds\n",
      "Processing coarse channels 175-182\n"
     ]
    },
    {
     "name": "stderr",
     "output_type": "stream",
     "text": [
      " 51%|█████     | 25/49 [08:21<08:05, 20.24s/it]"
     ]
    },
    {
     "name": "stdout",
     "output_type": "stream",
     "text": [
      "Data loaded in 1.6905 seconds, processing\n",
      "Bandpass cleaned in 3.5167 seconds.\n",
      "Stamps filtered in 14.6974 seconds\n",
      "Saving results\n",
      "Results aggregated in 0.0756 seconds\n",
      "Processing coarse channels 182-189\n"
     ]
    },
    {
     "name": "stderr",
     "output_type": "stream",
     "text": [
      " 53%|█████▎    | 26/49 [08:41<07:43, 20.16s/it]"
     ]
    },
    {
     "name": "stdout",
     "output_type": "stream",
     "text": [
      "Data loaded in 1.7785 seconds, processing\n",
      "Bandpass cleaned in 3.3159 seconds.\n",
      "Stamps filtered in 14.7601 seconds\n",
      "Saving results\n",
      "Results aggregated in 0.0924 seconds\n",
      "Processing coarse channels 189-196\n"
     ]
    },
    {
     "name": "stderr",
     "output_type": "stream",
     "text": [
      " 55%|█████▌    | 27/49 [09:00<07:22, 20.10s/it]"
     ]
    },
    {
     "name": "stdout",
     "output_type": "stream",
     "text": [
      "Data loaded in 1.6744 seconds, processing\n",
      "Bandpass cleaned in 3.6306 seconds.\n",
      "Stamps filtered in 14.4218 seconds\n",
      "Saving results\n",
      "Results aggregated in 0.1178 seconds\n",
      "Processing coarse channels 196-203\n"
     ]
    },
    {
     "name": "stderr",
     "output_type": "stream",
     "text": [
      " 57%|█████▋    | 28/49 [09:20<07:00, 20.03s/it]"
     ]
    },
    {
     "name": "stdout",
     "output_type": "stream",
     "text": [
      "Data loaded in 1.9856 seconds, processing\n",
      "Bandpass cleaned in 3.1305 seconds.\n",
      "Stamps filtered in 14.8888 seconds\n",
      "Saving results\n",
      "Results aggregated in 0.1169 seconds\n",
      "Processing coarse channels 203-210\n"
     ]
    },
    {
     "name": "stderr",
     "output_type": "stream",
     "text": [
      " 59%|█████▉    | 29/49 [09:40<06:41, 20.06s/it]"
     ]
    },
    {
     "name": "stdout",
     "output_type": "stream",
     "text": [
      "Data loaded in 1.8836 seconds, processing\n",
      "Bandpass cleaned in 3.1422 seconds.\n",
      "Stamps filtered in 14.9448 seconds\n",
      "Saving results\n",
      "Results aggregated in 0.1147 seconds\n",
      "Processing coarse channels 210-217\n"
     ]
    },
    {
     "name": "stderr",
     "output_type": "stream",
     "text": [
      " 61%|██████    | 30/49 [10:01<06:21, 20.07s/it]"
     ]
    },
    {
     "name": "stdout",
     "output_type": "stream",
     "text": [
      "Data loaded in 1.8815 seconds, processing\n",
      "Bandpass cleaned in 3.2252 seconds.\n",
      "Stamps filtered in 14.7836 seconds\n",
      "Saving results\n",
      "Results aggregated in 0.0827 seconds\n",
      "Processing coarse channels 217-224\n"
     ]
    },
    {
     "name": "stderr",
     "output_type": "stream",
     "text": [
      " 63%|██████▎   | 31/49 [10:21<06:00, 20.05s/it]"
     ]
    },
    {
     "name": "stdout",
     "output_type": "stream",
     "text": [
      "Data loaded in 2.1309 seconds, processing\n",
      "Bandpass cleaned in 3.4841 seconds.\n",
      "Stamps filtered in 14.6227 seconds\n",
      "Saving results\n",
      "Results aggregated in 0.0801 seconds\n",
      "Processing coarse channels 224-231\n"
     ]
    },
    {
     "name": "stderr",
     "output_type": "stream",
     "text": [
      " 65%|██████▌   | 32/49 [10:41<05:42, 20.13s/it]"
     ]
    },
    {
     "name": "stdout",
     "output_type": "stream",
     "text": [
      "Data loaded in 2.0154 seconds, processing\n",
      "Bandpass cleaned in 3.0795 seconds.\n",
      "Stamps filtered in 14.6798 seconds\n",
      "Saving results\n",
      "Results aggregated in 0.0777 seconds\n",
      "Processing coarse channels 231-238\n"
     ]
    },
    {
     "name": "stderr",
     "output_type": "stream",
     "text": [
      " 67%|██████▋   | 33/49 [11:01<05:20, 20.05s/it]"
     ]
    },
    {
     "name": "stdout",
     "output_type": "stream",
     "text": [
      "Data loaded in 2.0768 seconds, processing\n",
      "Bandpass cleaned in 3.6969 seconds.\n",
      "Stamps filtered in 14.7405 seconds\n",
      "Saving results\n",
      "Results aggregated in 0.1780 seconds\n",
      "Processing coarse channels 238-245\n"
     ]
    },
    {
     "name": "stderr",
     "output_type": "stream",
     "text": [
      " 69%|██████▉   | 34/49 [11:21<05:03, 20.25s/it]"
     ]
    },
    {
     "name": "stdout",
     "output_type": "stream",
     "text": [
      "Data loaded in 1.5079 seconds, processing\n",
      "Bandpass cleaned in 4.2366 seconds.\n",
      "Stamps filtered in 14.7587 seconds\n",
      "Saving results\n",
      "Results aggregated in 0.1329 seconds\n",
      "Processing coarse channels 245-252\n"
     ]
    },
    {
     "name": "stderr",
     "output_type": "stream",
     "text": [
      " 71%|███████▏  | 35/49 [11:42<04:45, 20.37s/it]"
     ]
    },
    {
     "name": "stdout",
     "output_type": "stream",
     "text": [
      "Data loaded in 1.9176 seconds, processing\n",
      "Bandpass cleaned in 3.3602 seconds.\n",
      "Stamps filtered in 14.8527 seconds\n",
      "Saving results\n",
      "Results aggregated in 0.0861 seconds\n",
      "Processing coarse channels 252-259\n"
     ]
    },
    {
     "name": "stderr",
     "output_type": "stream",
     "text": [
      " 73%|███████▎  | 36/49 [12:02<04:24, 20.33s/it]"
     ]
    },
    {
     "name": "stdout",
     "output_type": "stream",
     "text": [
      "Data loaded in 2.0111 seconds, processing\n",
      "Bandpass cleaned in 3.6925 seconds.\n",
      "Stamps filtered in 14.4690 seconds\n",
      "Saving results\n",
      "Results aggregated in 0.0850 seconds\n",
      "Processing coarse channels 259-266\n"
     ]
    },
    {
     "name": "stderr",
     "output_type": "stream",
     "text": [
      " 76%|███████▌  | 37/49 [12:23<04:03, 20.31s/it]"
     ]
    },
    {
     "name": "stdout",
     "output_type": "stream",
     "text": [
      "Data loaded in 1.9574 seconds, processing\n",
      "Bandpass cleaned in 3.2932 seconds.\n",
      "Stamps filtered in 14.3281 seconds\n",
      "Saving results\n",
      "Results aggregated in 0.0875 seconds\n",
      "Processing coarse channels 266-273\n"
     ]
    },
    {
     "name": "stderr",
     "output_type": "stream",
     "text": [
      " 78%|███████▊  | 38/49 [12:42<03:41, 20.12s/it]"
     ]
    },
    {
     "name": "stdout",
     "output_type": "stream",
     "text": [
      "Data loaded in 2.2485 seconds, processing\n",
      "Bandpass cleaned in 3.3044 seconds.\n",
      "Stamps filtered in 14.2570 seconds\n",
      "Saving results\n",
      "Results aggregated in 0.0831 seconds\n",
      "Processing coarse channels 273-280\n"
     ]
    },
    {
     "name": "stderr",
     "output_type": "stream",
     "text": [
      " 80%|███████▉  | 39/49 [13:02<03:20, 20.05s/it]"
     ]
    },
    {
     "name": "stdout",
     "output_type": "stream",
     "text": [
      "Data loaded in 1.8952 seconds, processing\n",
      "Bandpass cleaned in 3.3384 seconds.\n",
      "Stamps filtered in 14.8558 seconds\n",
      "Saving results\n",
      "Results aggregated in 0.0940 seconds\n",
      "Processing coarse channels 280-287\n"
     ]
    },
    {
     "name": "stderr",
     "output_type": "stream",
     "text": [
      " 82%|████████▏ | 40/49 [13:22<03:00, 20.10s/it]"
     ]
    },
    {
     "name": "stdout",
     "output_type": "stream",
     "text": [
      "Data loaded in 2.0908 seconds, processing\n",
      "Bandpass cleaned in 3.2215 seconds.\n",
      "Stamps filtered in 14.4105 seconds\n",
      "Saving results\n",
      "Results aggregated in 0.0917 seconds\n",
      "Processing coarse channels 287-294\n"
     ]
    },
    {
     "name": "stderr",
     "output_type": "stream",
     "text": [
      " 84%|████████▎ | 41/49 [13:42<02:40, 20.02s/it]"
     ]
    },
    {
     "name": "stdout",
     "output_type": "stream",
     "text": [
      "Data loaded in 1.7225 seconds, processing\n",
      "Bandpass cleaned in 3.0869 seconds.\n",
      "Stamps filtered in 14.6446 seconds\n",
      "Saving results\n",
      "Results aggregated in 0.0847 seconds\n",
      "Processing coarse channels 294-301\n"
     ]
    },
    {
     "name": "stderr",
     "output_type": "stream",
     "text": [
      " 86%|████████▌ | 42/49 [14:02<02:19, 19.88s/it]"
     ]
    },
    {
     "name": "stdout",
     "output_type": "stream",
     "text": [
      "Data loaded in 1.8498 seconds, processing\n",
      "Bandpass cleaned in 3.1433 seconds.\n",
      "Stamps filtered in 14.5900 seconds\n",
      "Saving results\n"
     ]
    },
    {
     "name": "stderr",
     "output_type": "stream",
     "text": [
      " 88%|████████▊ | 43/49 [14:22<02:00, 20.10s/it]"
     ]
    },
    {
     "name": "stdout",
     "output_type": "stream",
     "text": [
      "Results aggregated in 1.0058 seconds\n",
      "Processing coarse channels 301-308\n",
      "Data loaded in 1.8978 seconds, processing\n",
      "Bandpass cleaned in 3.4695 seconds.\n",
      "Stamps filtered in 14.7702 seconds\n",
      "Saving results\n"
     ]
    },
    {
     "name": "stderr",
     "output_type": "stream",
     "text": [
      " 90%|████████▉ | 44/49 [14:43<01:41, 20.21s/it]"
     ]
    },
    {
     "name": "stdout",
     "output_type": "stream",
     "text": [
      "Results aggregated in 0.3299 seconds\n",
      "Processing coarse channels 308-315\n",
      "Data loaded in 1.6950 seconds, processing\n",
      "Bandpass cleaned in 3.6947 seconds.\n",
      "Stamps filtered in 14.6011 seconds\n",
      "Saving results\n",
      "Results aggregated in 0.0966 seconds\n",
      "Processing coarse channels 315-322\n"
     ]
    },
    {
     "name": "stderr",
     "output_type": "stream",
     "text": [
      " 92%|█████████▏| 45/49 [15:03<01:20, 20.18s/it]"
     ]
    },
    {
     "name": "stdout",
     "output_type": "stream",
     "text": [
      "Data loaded in 2.2307 seconds, processing\n",
      "Bandpass cleaned in 3.5838 seconds.\n",
      "Stamps filtered in 14.5842 seconds\n",
      "Saving results\n",
      "Results aggregated in 0.1169 seconds\n",
      "Processing coarse channels 322-329\n"
     ]
    },
    {
     "name": "stderr",
     "output_type": "stream",
     "text": [
      " 94%|█████████▍| 46/49 [15:23<01:00, 20.28s/it]"
     ]
    },
    {
     "name": "stdout",
     "output_type": "stream",
     "text": [
      "Data loaded in 1.9359 seconds, processing\n",
      "Bandpass cleaned in 3.3856 seconds.\n",
      "Stamps filtered in 14.5532 seconds\n",
      "Saving results\n",
      "Results aggregated in 0.1190 seconds\n",
      "Processing coarse channels 329-336\n"
     ]
    },
    {
     "name": "stderr",
     "output_type": "stream",
     "text": [
      " 96%|█████████▌| 47/49 [15:43<00:40, 20.20s/it]"
     ]
    },
    {
     "name": "stdout",
     "output_type": "stream",
     "text": [
      "Data loaded in 1.9489 seconds, processing\n",
      "Bandpass cleaned in 3.7142 seconds.\n",
      "Stamps filtered in 14.6057 seconds\n",
      "Saving results\n",
      "Results aggregated in 0.1055 seconds\n",
      "Processing coarse channels 336-343\n"
     ]
    },
    {
     "name": "stderr",
     "output_type": "stream",
     "text": [
      " 98%|█████████▊| 48/49 [16:04<00:20, 20.26s/it]"
     ]
    },
    {
     "name": "stdout",
     "output_type": "stream",
     "text": [
      "Data loaded in 1.6411 seconds, processing\n",
      "Bandpass cleaned in 3.7247 seconds.\n",
      "Stamps filtered in 14.6169 seconds\n",
      "Saving results\n"
     ]
    },
    {
     "name": "stderr",
     "output_type": "stream",
     "text": [
      "100%|██████████| 49/49 [16:24<00:00, 20.09s/it]\n"
     ]
    },
    {
     "name": "stdout",
     "output_type": "stream",
     "text": [
      "Results aggregated in 0.0943 seconds\n",
      "      level_0      index     statistic  pvalue        freqs\n",
      "1649     1649  206260480  13100.147787     0.0  2226.546907\n",
      "1650     1650  206260608  13076.952258     0.0  2226.546550\n",
      "1656     1656  206265472  12748.253074     0.0  2226.532960\n",
      "1657     1657  206265600  12716.867346     0.0  2226.532602\n",
      "343 343\n",
      "Finished Energy Detection on GBT_57684_59542_HIP62781_fine.h5 in 987.2471 seconds\n",
      "AND_XI-2274\n",
      "/mnt_blpd13/datax/dl/GBT_58385_23147_AND_XI_fine.h5\n"
     ]
    },
    {
     "name": "stderr",
     "output_type": "stream",
     "text": [
      "Traceback (most recent call last):\n",
      "  File \"/mnt_home/pma/projects/Reverse_Radio_Search/data_generator/energy_detection.py\", line 38, in <module>\n",
      "    header = read_header(input_file)\n",
      "  File \"/mnt_home/pma/projects/Reverse_Radio_Search/data_generator/utils.py\", line 8, in read_header\n",
      "    h5_file = h5py.File(filename, \"r\")\n",
      "  File \"/home/pma/.conda/envs/ml_jax/lib/python3.10/site-packages/h5py/_hl/files.py\", line 533, in __init__\n",
      "    fid = make_fid(name, mode, userblock_size, fapl, fcpl, swmr=swmr)\n",
      "  File \"/home/pma/.conda/envs/ml_jax/lib/python3.10/site-packages/h5py/_hl/files.py\", line 226, in make_fid\n",
      "    fid = h5f.open(name, flags, fapl=fapl)\n",
      "  File \"h5py/_objects.pyx\", line 54, in h5py._objects.with_phil.wrapper\n",
      "  File \"h5py/_objects.pyx\", line 55, in h5py._objects.with_phil.wrapper\n",
      "  File \"h5py/h5f.pyx\", line 106, in h5py.h5f.open\n",
      "FileNotFoundError: [Errno 2] Unable to open file (unable to open file: name = '/mnt_blpd13/datax/dl/GBT_58385_23147_AND_XI_fine.h5', errno = 2, error message = 'No such file or directory', flags = 0, o_flags = 0)\n"
     ]
    },
    {
     "name": "stdout",
     "output_type": "stream",
     "text": [
      "/mnt_blpd13/datax/dl/GBT_58385_23516_HIP3046_fine.h5\n"
     ]
    },
    {
     "name": "stderr",
     "output_type": "stream",
     "text": [
      "Traceback (most recent call last):\n",
      "  File \"/mnt_home/pma/projects/Reverse_Radio_Search/data_generator/energy_detection.py\", line 38, in <module>\n",
      "    header = read_header(input_file)\n",
      "  File \"/mnt_home/pma/projects/Reverse_Radio_Search/data_generator/utils.py\", line 8, in read_header\n",
      "    h5_file = h5py.File(filename, \"r\")\n",
      "  File \"/home/pma/.conda/envs/ml_jax/lib/python3.10/site-packages/h5py/_hl/files.py\", line 533, in __init__\n",
      "    fid = make_fid(name, mode, userblock_size, fapl, fcpl, swmr=swmr)\n",
      "  File \"/home/pma/.conda/envs/ml_jax/lib/python3.10/site-packages/h5py/_hl/files.py\", line 226, in make_fid\n",
      "    fid = h5f.open(name, flags, fapl=fapl)\n",
      "  File \"h5py/_objects.pyx\", line 54, in h5py._objects.with_phil.wrapper\n",
      "  File \"h5py/_objects.pyx\", line 55, in h5py._objects.with_phil.wrapper\n",
      "  File \"h5py/h5f.pyx\", line 106, in h5py.h5f.open\n",
      "FileNotFoundError: [Errno 2] Unable to open file (unable to open file: name = '/mnt_blpd13/datax/dl/GBT_58385_23516_HIP3046_fine.h5', errno = 2, error message = 'No such file or directory', flags = 0, o_flags = 0)\n"
     ]
    },
    {
     "name": "stdout",
     "output_type": "stream",
     "text": [
      "/mnt_blpd13/datax/dl/GBT_58385_23881_AND_XI_fine.h5\n"
     ]
    },
    {
     "name": "stderr",
     "output_type": "stream",
     "text": [
      "Traceback (most recent call last):\n",
      "  File \"/mnt_home/pma/projects/Reverse_Radio_Search/data_generator/energy_detection.py\", line 38, in <module>\n",
      "    header = read_header(input_file)\n",
      "  File \"/mnt_home/pma/projects/Reverse_Radio_Search/data_generator/utils.py\", line 8, in read_header\n",
      "    h5_file = h5py.File(filename, \"r\")\n",
      "  File \"/home/pma/.conda/envs/ml_jax/lib/python3.10/site-packages/h5py/_hl/files.py\", line 533, in __init__\n",
      "    fid = make_fid(name, mode, userblock_size, fapl, fcpl, swmr=swmr)\n",
      "  File \"/home/pma/.conda/envs/ml_jax/lib/python3.10/site-packages/h5py/_hl/files.py\", line 226, in make_fid\n",
      "    fid = h5f.open(name, flags, fapl=fapl)\n",
      "  File \"h5py/_objects.pyx\", line 54, in h5py._objects.with_phil.wrapper\n",
      "  File \"h5py/_objects.pyx\", line 55, in h5py._objects.with_phil.wrapper\n",
      "  File \"h5py/h5f.pyx\", line 106, in h5py.h5f.open\n",
      "FileNotFoundError: [Errno 2] Unable to open file (unable to open file: name = '/mnt_blpd13/datax/dl/GBT_58385_23881_AND_XI_fine.h5', errno = 2, error message = 'No such file or directory', flags = 0, o_flags = 0)\n"
     ]
    },
    {
     "name": "stdout",
     "output_type": "stream",
     "text": [
      "/mnt_blpd13/datax/dl/GBT_58385_24244_HIP3109_fine.h5\n"
     ]
    },
    {
     "name": "stderr",
     "output_type": "stream",
     "text": [
      "Traceback (most recent call last):\n",
      "  File \"/mnt_home/pma/projects/Reverse_Radio_Search/data_generator/energy_detection.py\", line 38, in <module>\n",
      "    header = read_header(input_file)\n",
      "  File \"/mnt_home/pma/projects/Reverse_Radio_Search/data_generator/utils.py\", line 8, in read_header\n",
      "    h5_file = h5py.File(filename, \"r\")\n",
      "  File \"/home/pma/.conda/envs/ml_jax/lib/python3.10/site-packages/h5py/_hl/files.py\", line 533, in __init__\n",
      "    fid = make_fid(name, mode, userblock_size, fapl, fcpl, swmr=swmr)\n",
      "  File \"/home/pma/.conda/envs/ml_jax/lib/python3.10/site-packages/h5py/_hl/files.py\", line 226, in make_fid\n",
      "    fid = h5f.open(name, flags, fapl=fapl)\n",
      "  File \"h5py/_objects.pyx\", line 54, in h5py._objects.with_phil.wrapper\n",
      "  File \"h5py/_objects.pyx\", line 55, in h5py._objects.with_phil.wrapper\n",
      "  File \"h5py/h5f.pyx\", line 106, in h5py.h5f.open\n",
      "FileNotFoundError: [Errno 2] Unable to open file (unable to open file: name = '/mnt_blpd13/datax/dl/GBT_58385_24244_HIP3109_fine.h5', errno = 2, error message = 'No such file or directory', flags = 0, o_flags = 0)\n"
     ]
    },
    {
     "name": "stdout",
     "output_type": "stream",
     "text": [
      "/mnt_blpd13/datax/dl/GBT_58385_24604_AND_XI_fine.h5\n"
     ]
    },
    {
     "name": "stderr",
     "output_type": "stream",
     "text": [
      "Traceback (most recent call last):\n",
      "  File \"/mnt_home/pma/projects/Reverse_Radio_Search/data_generator/energy_detection.py\", line 38, in <module>\n",
      "    header = read_header(input_file)\n",
      "  File \"/mnt_home/pma/projects/Reverse_Radio_Search/data_generator/utils.py\", line 8, in read_header\n",
      "    h5_file = h5py.File(filename, \"r\")\n",
      "  File \"/home/pma/.conda/envs/ml_jax/lib/python3.10/site-packages/h5py/_hl/files.py\", line 533, in __init__\n",
      "    fid = make_fid(name, mode, userblock_size, fapl, fcpl, swmr=swmr)\n",
      "  File \"/home/pma/.conda/envs/ml_jax/lib/python3.10/site-packages/h5py/_hl/files.py\", line 226, in make_fid\n",
      "    fid = h5f.open(name, flags, fapl=fapl)\n",
      "  File \"h5py/_objects.pyx\", line 54, in h5py._objects.with_phil.wrapper\n",
      "  File \"h5py/_objects.pyx\", line 55, in h5py._objects.with_phil.wrapper\n",
      "  File \"h5py/h5f.pyx\", line 106, in h5py.h5f.open\n",
      "FileNotFoundError: [Errno 2] Unable to open file (unable to open file: name = '/mnt_blpd13/datax/dl/GBT_58385_24604_AND_XI_fine.h5', errno = 2, error message = 'No such file or directory', flags = 0, o_flags = 0)\n"
     ]
    },
    {
     "name": "stdout",
     "output_type": "stream",
     "text": [
      "/mnt_blpd13/datax/dl/GBT_58385_24959_HIP3176_fine.h5\n"
     ]
    },
    {
     "name": "stderr",
     "output_type": "stream",
     "text": [
      "Traceback (most recent call last):\n",
      "  File \"/mnt_home/pma/projects/Reverse_Radio_Search/data_generator/energy_detection.py\", line 38, in <module>\n",
      "    header = read_header(input_file)\n",
      "  File \"/mnt_home/pma/projects/Reverse_Radio_Search/data_generator/utils.py\", line 8, in read_header\n",
      "    h5_file = h5py.File(filename, \"r\")\n",
      "  File \"/home/pma/.conda/envs/ml_jax/lib/python3.10/site-packages/h5py/_hl/files.py\", line 533, in __init__\n",
      "    fid = make_fid(name, mode, userblock_size, fapl, fcpl, swmr=swmr)\n",
      "  File \"/home/pma/.conda/envs/ml_jax/lib/python3.10/site-packages/h5py/_hl/files.py\", line 226, in make_fid\n",
      "    fid = h5f.open(name, flags, fapl=fapl)\n",
      "  File \"h5py/_objects.pyx\", line 54, in h5py._objects.with_phil.wrapper\n",
      "  File \"h5py/_objects.pyx\", line 55, in h5py._objects.with_phil.wrapper\n",
      "  File \"h5py/h5f.pyx\", line 106, in h5py.h5f.open\n",
      "FileNotFoundError: [Errno 2] Unable to open file (unable to open file: name = '/mnt_blpd13/datax/dl/GBT_58385_24959_HIP3176_fine.h5', errno = 2, error message = 'No such file or directory', flags = 0, o_flags = 0)\n"
     ]
    },
    {
     "name": "stdout",
     "output_type": "stream",
     "text": [
      "HIP36393-1253\n",
      "/mnt_blpd7/datax2/dl/GBT_57677_40760_HIP36393_fine.h5\n",
      "Header saved to ../../../../../../datax/scratch/pma/reverse_search/train_large/HIP36393-1253/GBT_57677_40760_HIP36393_fine/header.pkl\n",
      "Processing 28 in parallel\n",
      "Processing coarse channels 0-28\n"
     ]
    },
    {
     "name": "stderr",
     "output_type": "stream",
     "text": [
      "  0%|          | 0/11 [00:00<?, ?it/s]"
     ]
    },
    {
     "name": "stdout",
     "output_type": "stream",
     "text": [
      "Data loaded in 12.5908 seconds, processing\n",
      "Bandpass cleaned in 17.2475 seconds.\n",
      "Stamps filtered in 22.9491 seconds\n",
      "Saving results\n"
     ]
    },
    {
     "name": "stderr",
     "output_type": "stream",
     "text": [
      "  9%|▉         | 1/11 [00:53<08:55, 53.59s/it]"
     ]
    },
    {
     "name": "stdout",
     "output_type": "stream",
     "text": [
      "Results aggregated in 0.7778 seconds\n",
      "Processing coarse channels 28-56\n",
      "Data loaded in 9.1840 seconds, processing\n",
      "Bandpass cleaned in 14.5491 seconds.\n",
      "Stamps filtered in 22.9277 seconds\n",
      "Saving results\n"
     ]
    },
    {
     "name": "stderr",
     "output_type": "stream",
     "text": [
      " 18%|█▊        | 2/11 [01:40<07:27, 49.73s/it]"
     ]
    },
    {
     "name": "stdout",
     "output_type": "stream",
     "text": [
      "Results aggregated in 0.3402 seconds\n",
      "Processing coarse channels 56-84\n",
      "Data loaded in 8.8493 seconds, processing\n",
      "Bandpass cleaned in 13.4640 seconds.\n",
      "Stamps filtered in 23.3007 seconds\n",
      "Saving results\n"
     ]
    },
    {
     "name": "stderr",
     "output_type": "stream",
     "text": [
      " 27%|██▋       | 3/11 [02:26<06:23, 48.00s/it]"
     ]
    },
    {
     "name": "stdout",
     "output_type": "stream",
     "text": [
      "Results aggregated in 0.2989 seconds\n",
      "Processing coarse channels 84-112\n",
      "Data loaded in 8.7446 seconds, processing\n",
      "Bandpass cleaned in 13.1767 seconds.\n",
      "Stamps filtered in 22.6155 seconds\n",
      "Saving results\n"
     ]
    },
    {
     "name": "stderr",
     "output_type": "stream",
     "text": [
      " 36%|███▋      | 4/11 [03:13<05:33, 47.60s/it]"
     ]
    },
    {
     "name": "stdout",
     "output_type": "stream",
     "text": [
      "Results aggregated in 2.4014 seconds\n",
      "Processing coarse channels 112-140\n",
      "Data loaded in 8.6899 seconds, processing\n",
      "Bandpass cleaned in 18.4540 seconds.\n",
      "Stamps filtered in 23.9396 seconds\n",
      "Saving results\n"
     ]
    },
    {
     "name": "stderr",
     "output_type": "stream",
     "text": [
      " 45%|████▌     | 5/11 [04:08<05:00, 50.16s/it]"
     ]
    },
    {
     "name": "stdout",
     "output_type": "stream",
     "text": [
      "Results aggregated in 3.5465 seconds\n",
      "Processing coarse channels 140-168\n",
      "Data loaded in 8.2616 seconds, processing\n",
      "Bandpass cleaned in 16.6630 seconds.\n",
      "Stamps filtered in 24.2512 seconds\n",
      "Saving results\n"
     ]
    },
    {
     "name": "stderr",
     "output_type": "stream",
     "text": [
      " 55%|█████▍    | 6/11 [04:58<04:11, 50.21s/it]"
     ]
    },
    {
     "name": "stdout",
     "output_type": "stream",
     "text": [
      "Results aggregated in 1.0832 seconds\n",
      "Processing coarse channels 168-196\n",
      "Data loaded in 7.5723 seconds, processing\n",
      "Bandpass cleaned in 12.4122 seconds.\n",
      "Stamps filtered in 22.5928 seconds\n",
      "Saving results\n"
     ]
    },
    {
     "name": "stderr",
     "output_type": "stream",
     "text": [
      " 64%|██████▎   | 7/11 [05:41<03:11, 47.85s/it]"
     ]
    },
    {
     "name": "stdout",
     "output_type": "stream",
     "text": [
      "Results aggregated in 0.3825 seconds\n",
      "Processing coarse channels 196-224\n",
      "Data loaded in 8.1362 seconds, processing\n",
      "Bandpass cleaned in 12.9590 seconds.\n",
      "Stamps filtered in 22.3731 seconds\n",
      "Saving results\n"
     ]
    },
    {
     "name": "stderr",
     "output_type": "stream",
     "text": [
      " 73%|███████▎  | 8/11 [06:25<02:20, 46.70s/it]"
     ]
    },
    {
     "name": "stdout",
     "output_type": "stream",
     "text": [
      "Results aggregated in 0.7291 seconds\n",
      "Processing coarse channels 224-252\n",
      "Data loaded in 7.7086 seconds, processing\n",
      "Bandpass cleaned in 13.4460 seconds.\n",
      "Stamps filtered in 23.0216 seconds\n",
      "Saving results\n"
     ]
    },
    {
     "name": "stderr",
     "output_type": "stream",
     "text": [
      " 82%|████████▏ | 9/11 [07:10<01:32, 46.21s/it]"
     ]
    },
    {
     "name": "stdout",
     "output_type": "stream",
     "text": [
      "Results aggregated in 0.9014 seconds\n",
      "Processing coarse channels 252-280\n",
      "Data loaded in 9.3550 seconds, processing\n",
      "Bandpass cleaned in 12.5963 seconds.\n",
      "Stamps filtered in 23.8762 seconds\n",
      "Saving results\n"
     ]
    },
    {
     "name": "stderr",
     "output_type": "stream",
     "text": [
      " 91%|█████████ | 10/11 [07:57<00:46, 46.38s/it]"
     ]
    },
    {
     "name": "stdout",
     "output_type": "stream",
     "text": [
      "Results aggregated in 0.8861 seconds\n",
      "Processing coarse channels 280-308\n",
      "Data loaded in 8.8067 seconds, processing\n",
      "Bandpass cleaned in 13.1283 seconds.\n",
      "Stamps filtered in 23.4633 seconds\n",
      "Saving results\n"
     ]
    },
    {
     "name": "stderr",
     "output_type": "stream",
     "text": [
      "100%|██████████| 11/11 [08:43<00:00, 47.61s/it]\n"
     ]
    },
    {
     "name": "stdout",
     "output_type": "stream",
     "text": [
      "Results aggregated in 0.6236 seconds\n",
      "       level_0      index     statistic  pvalue        freqs\n",
      "62105    62105  264416256   9632.937985     0.0  1187.499046\n",
      "62108    62108  264416640   9073.455580     0.0  1187.497973\n",
      "59018    59018  243948032   8476.299923     0.0  1244.686604\n",
      "60040    60040  253724416   8207.524942     0.0  1217.371702\n",
      "47421    47421  139002368  10801.654418     0.0  1537.901402\n",
      "41774    41774  134593408   9280.458025     0.0  1550.219893\n",
      "48321    48321  139929216   9245.083498     0.0  1535.311818\n",
      "44164    44164  135791104   9162.341044     0.0  1546.873569\n",
      "3515      3515   80984704   7770.411789     0.0  1700.000882\n",
      "3472      3472   45193344   7070.676286     0.0  1800.000787\n",
      "3456      3456    9402240   6610.355254     0.0  1899.999976\n",
      "3454      3454    9401984   6247.745983     0.0  1900.000691\n",
      "308 308\n",
      "Finished Energy Detection on GBT_57677_40760_HIP36393_fine.h5 in 527.7055 seconds\n",
      "/mnt_blpd7/datax2/dl/GBT_57677_41142_HIP35193_fine.h5\n",
      "Header saved to ../../../../../../datax/scratch/pma/reverse_search/train_large/HIP36393-1253/GBT_57677_41142_HIP35193_fine/header.pkl\n",
      "Processing 28 in parallel\n",
      "Processing coarse channels 0-28\n"
     ]
    },
    {
     "name": "stderr",
     "output_type": "stream",
     "text": [
      "  0%|          | 0/11 [00:00<?, ?it/s]"
     ]
    },
    {
     "name": "stdout",
     "output_type": "stream",
     "text": [
      "Data loaded in 10.3743 seconds, processing\n",
      "Bandpass cleaned in 13.4137 seconds.\n",
      "Stamps filtered in 22.1847 seconds\n",
      "Saving results\n"
     ]
    },
    {
     "name": "stderr",
     "output_type": "stream",
     "text": [
      "  9%|▉         | 1/11 [00:46<07:49, 46.98s/it]"
     ]
    },
    {
     "name": "stdout",
     "output_type": "stream",
     "text": [
      "Results aggregated in 0.9776 seconds\n",
      "Processing coarse channels 28-56\n",
      "Data loaded in 8.7968 seconds, processing\n",
      "Bandpass cleaned in 13.8339 seconds.\n",
      "Stamps filtered in 22.5691 seconds\n",
      "Saving results\n"
     ]
    },
    {
     "name": "stderr",
     "output_type": "stream",
     "text": [
      " 18%|█▊        | 2/11 [01:32<06:55, 46.20s/it]"
     ]
    },
    {
     "name": "stdout",
     "output_type": "stream",
     "text": [
      "Results aggregated in 0.4278 seconds\n",
      "Processing coarse channels 56-84\n",
      "Data loaded in 8.0947 seconds, processing\n",
      "Bandpass cleaned in 13.9669 seconds.\n",
      "Stamps filtered in 22.6996 seconds\n",
      "Saving results\n"
     ]
    },
    {
     "name": "stderr",
     "output_type": "stream",
     "text": [
      " 27%|██▋       | 3/11 [02:17<06:05, 45.70s/it]"
     ]
    },
    {
     "name": "stdout",
     "output_type": "stream",
     "text": [
      "Results aggregated in 0.3248 seconds\n",
      "Processing coarse channels 84-112\n",
      "Data loaded in 6.9747 seconds, processing\n",
      "Bandpass cleaned in 13.4528 seconds.\n",
      "Stamps filtered in 22.8513 seconds\n",
      "Saving results\n"
     ]
    },
    {
     "name": "stderr",
     "output_type": "stream",
     "text": [
      " 36%|███▋      | 4/11 [03:03<05:20, 45.83s/it]"
     ]
    },
    {
     "name": "stdout",
     "output_type": "stream",
     "text": [
      "Results aggregated in 2.7184 seconds\n",
      "Processing coarse channels 112-140\n",
      "Data loaded in 7.4918 seconds, processing\n",
      "Bandpass cleaned in 14.4676 seconds.\n",
      "Stamps filtered in 22.4801 seconds\n",
      "Saving results\n"
     ]
    },
    {
     "name": "stderr",
     "output_type": "stream",
     "text": [
      " 45%|████▌     | 5/11 [03:52<04:40, 46.75s/it]"
     ]
    },
    {
     "name": "stdout",
     "output_type": "stream",
     "text": [
      "Results aggregated in 3.8871 seconds\n",
      "Processing coarse channels 140-168\n",
      "Data loaded in 9.4462 seconds, processing\n",
      "Bandpass cleaned in 15.4843 seconds.\n",
      "Stamps filtered in 23.1550 seconds\n",
      "Saving results\n"
     ]
    },
    {
     "name": "stderr",
     "output_type": "stream",
     "text": [
      " 55%|█████▍    | 6/11 [04:41<03:57, 47.55s/it]"
     ]
    },
    {
     "name": "stdout",
     "output_type": "stream",
     "text": [
      "Results aggregated in 0.9753 seconds\n",
      "Processing coarse channels 168-196\n",
      "Data loaded in 8.4254 seconds, processing\n",
      "Bandpass cleaned in 15.2264 seconds.\n",
      "Stamps filtered in 22.5811 seconds\n",
      "Saving results\n"
     ]
    },
    {
     "name": "stderr",
     "output_type": "stream",
     "text": [
      " 64%|██████▎   | 7/11 [05:27<03:09, 47.28s/it]"
     ]
    },
    {
     "name": "stdout",
     "output_type": "stream",
     "text": [
      "Results aggregated in 0.4502 seconds\n",
      "Processing coarse channels 196-224\n",
      "Data loaded in 7.0139 seconds, processing\n",
      "Bandpass cleaned in 12.8076 seconds.\n",
      "Stamps filtered in 22.8656 seconds\n",
      "Saving results\n"
     ]
    },
    {
     "name": "stderr",
     "output_type": "stream",
     "text": [
      " 73%|███████▎  | 8/11 [06:14<02:21, 47.11s/it]"
     ]
    },
    {
     "name": "stdout",
     "output_type": "stream",
     "text": [
      "Results aggregated in 3.9948 seconds\n",
      "Processing coarse channels 224-252\n",
      "Data loaded in 9.1608 seconds, processing\n",
      "Bandpass cleaned in 18.4971 seconds.\n",
      "Stamps filtered in 24.4505 seconds\n",
      "Saving results\n"
     ]
    },
    {
     "name": "stderr",
     "output_type": "stream",
     "text": [
      " 82%|████████▏ | 9/11 [07:11<01:40, 50.21s/it]"
     ]
    },
    {
     "name": "stdout",
     "output_type": "stream",
     "text": [
      "Results aggregated in 4.8356 seconds\n",
      "Processing coarse channels 252-280\n",
      "Data loaded in 8.3406 seconds, processing\n",
      "Bandpass cleaned in 14.2831 seconds.\n",
      "Stamps filtered in 23.3353 seconds\n",
      "Saving results\n"
     ]
    },
    {
     "name": "stderr",
     "output_type": "stream",
     "text": [
      " 91%|█████████ | 10/11 [07:58<00:49, 49.29s/it]"
     ]
    },
    {
     "name": "stdout",
     "output_type": "stream",
     "text": [
      "Results aggregated in 1.2397 seconds\n",
      "Processing coarse channels 280-308\n",
      "Data loaded in 9.4358 seconds, processing\n",
      "Bandpass cleaned in 14.0365 seconds.\n",
      "Stamps filtered in 22.7242 seconds\n",
      "Saving results\n"
     ]
    },
    {
     "name": "stderr",
     "output_type": "stream",
     "text": [
      "100%|██████████| 11/11 [08:47<00:00, 47.91s/it]\n"
     ]
    },
    {
     "name": "stdout",
     "output_type": "stream",
     "text": [
      "Results aggregated in 1.8140 seconds\n",
      "        level_0      index     statistic  pvalue        freqs\n",
      "137631   137631  264416256   9315.210460     0.0  1187.499046\n",
      "73223     73223  225510400   8046.478417     0.0  1296.200752\n",
      "137567   137567  259940736   7794.266399     0.0  1200.003505\n",
      "137634   137634  264416640   7768.624944     0.0  1187.497973\n",
      "49450     49450  133490688  10847.488502     0.0  1553.300858\n",
      "47296     47296  132405120  10654.478697     0.0  1556.333899\n",
      "55785     55785  139002368  10449.139553     0.0  1537.901402\n",
      "49465     49465  133496064  10374.013003     0.0  1553.285837\n",
      "7249       7249   80984704   7834.032426     0.0  1700.000882\n",
      "7203       7203   45193728   7793.117111     0.0  1799.999714\n",
      "7200       7200   45193344   6918.419117     0.0  1800.000787\n",
      "7182       7182    9402240   6287.831210     0.0  1899.999976\n",
      "308 308\n",
      "Finished Energy Detection on GBT_57677_41142_HIP35193_fine.h5 in 533.8800 seconds\n",
      "/mnt_blpd7/datax2/dl/GBT_57677_41523_HIP36393_fine.h5\n",
      "Header saved to ../../../../../../datax/scratch/pma/reverse_search/train_large/HIP36393-1253/GBT_57677_41523_HIP36393_fine/header.pkl\n",
      "Processing 28 in parallel\n",
      "Processing coarse channels 0-28\n"
     ]
    },
    {
     "name": "stderr",
     "output_type": "stream",
     "text": [
      "  0%|          | 0/11 [00:00<?, ?it/s]"
     ]
    },
    {
     "name": "stdout",
     "output_type": "stream",
     "text": [
      "Data loaded in 10.7241 seconds, processing\n",
      "Bandpass cleaned in 12.1801 seconds.\n",
      "Stamps filtered in 22.8096 seconds\n",
      "Saving results\n"
     ]
    },
    {
     "name": "stderr",
     "output_type": "stream",
     "text": [
      "  9%|▉         | 1/11 [00:46<07:45, 46.54s/it]"
     ]
    },
    {
     "name": "stdout",
     "output_type": "stream",
     "text": [
      "Results aggregated in 0.8011 seconds\n",
      "Processing coarse channels 28-56\n",
      "Data loaded in 9.2295 seconds, processing\n",
      "Bandpass cleaned in 13.7744 seconds.\n",
      "Stamps filtered in 23.3263 seconds\n",
      "Saving results\n"
     ]
    },
    {
     "name": "stderr",
     "output_type": "stream",
     "text": [
      " 18%|█▊        | 2/11 [01:33<06:59, 46.64s/it]"
     ]
    },
    {
     "name": "stdout",
     "output_type": "stream",
     "text": [
      "Results aggregated in 0.3653 seconds\n",
      "Processing coarse channels 56-84\n",
      "Data loaded in 7.6625 seconds, processing\n",
      "Bandpass cleaned in 13.1140 seconds.\n",
      "Stamps filtered in 23.4379 seconds\n",
      "Saving results\n"
     ]
    },
    {
     "name": "stderr",
     "output_type": "stream",
     "text": [
      " 27%|██▋       | 3/11 [02:17<06:05, 45.69s/it]"
     ]
    },
    {
     "name": "stdout",
     "output_type": "stream",
     "text": [
      "Results aggregated in 0.3126 seconds\n",
      "Processing coarse channels 84-112\n",
      "Data loaded in 7.6139 seconds, processing\n",
      "Bandpass cleaned in 13.4967 seconds.\n",
      "Stamps filtered in 23.5402 seconds\n",
      "Saving results\n"
     ]
    },
    {
     "name": "stderr",
     "output_type": "stream",
     "text": [
      " 36%|███▋      | 4/11 [03:04<05:23, 46.25s/it]"
     ]
    },
    {
     "name": "stdout",
     "output_type": "stream",
     "text": [
      "Results aggregated in 2.4113 seconds\n",
      "Processing coarse channels 112-140\n",
      "Data loaded in 7.6224 seconds, processing\n",
      "Bandpass cleaned in 13.9094 seconds.\n",
      "Stamps filtered in 23.3942 seconds\n",
      "Saving results\n"
     ]
    },
    {
     "name": "stderr",
     "output_type": "stream",
     "text": [
      " 45%|████▌     | 5/11 [03:52<04:41, 46.86s/it]"
     ]
    },
    {
     "name": "stdout",
     "output_type": "stream",
     "text": [
      "Results aggregated in 2.9714 seconds\n",
      "Processing coarse channels 140-168\n",
      "Data loaded in 8.3338 seconds, processing\n",
      "Bandpass cleaned in 15.2144 seconds.\n",
      "Stamps filtered in 22.9498 seconds\n",
      "Saving results\n"
     ]
    },
    {
     "name": "stderr",
     "output_type": "stream",
     "text": [
      " 55%|█████▍    | 6/11 [04:40<03:55, 47.06s/it]"
     ]
    },
    {
     "name": "stdout",
     "output_type": "stream",
     "text": [
      "Results aggregated in 0.9187 seconds\n",
      "Processing coarse channels 168-196\n",
      "Data loaded in 7.7656 seconds, processing\n",
      "Bandpass cleaned in 12.0721 seconds.\n",
      "Stamps filtered in 22.5544 seconds\n",
      "Saving results\n"
     ]
    },
    {
     "name": "stderr",
     "output_type": "stream",
     "text": [
      " 64%|██████▎   | 7/11 [05:23<03:02, 45.65s/it]"
     ]
    },
    {
     "name": "stdout",
     "output_type": "stream",
     "text": [
      "Results aggregated in 0.3500 seconds\n",
      "Processing coarse channels 196-224\n",
      "Data loaded in 7.8846 seconds, processing\n",
      "Bandpass cleaned in 12.8396 seconds.\n",
      "Stamps filtered in 23.0308 seconds\n",
      "Saving results\n"
     ]
    },
    {
     "name": "stderr",
     "output_type": "stream",
     "text": [
      " 73%|███████▎  | 8/11 [06:08<02:16, 45.53s/it]"
     ]
    },
    {
     "name": "stdout",
     "output_type": "stream",
     "text": [
      "Results aggregated in 1.4876 seconds\n",
      "Processing coarse channels 224-252\n",
      "Data loaded in 8.7930 seconds, processing\n",
      "Bandpass cleaned in 13.6567 seconds.\n",
      "Stamps filtered in 22.9418 seconds\n",
      "Saving results\n"
     ]
    },
    {
     "name": "stderr",
     "output_type": "stream",
     "text": [
      " 82%|████████▏ | 9/11 [06:54<01:31, 45.74s/it]"
     ]
    },
    {
     "name": "stdout",
     "output_type": "stream",
     "text": [
      "Results aggregated in 0.7829 seconds\n",
      "Processing coarse channels 252-280\n",
      "Data loaded in 8.5808 seconds, processing\n",
      "Bandpass cleaned in 12.7182 seconds.\n",
      "Stamps filtered in 23.4568 seconds\n",
      "Saving results\n"
     ]
    },
    {
     "name": "stderr",
     "output_type": "stream",
     "text": [
      " 91%|█████████ | 10/11 [07:39<00:45, 45.64s/it]"
     ]
    },
    {
     "name": "stdout",
     "output_type": "stream",
     "text": [
      "Results aggregated in 0.6429 seconds\n",
      "Processing coarse channels 280-308\n",
      "Data loaded in 8.9859 seconds, processing\n",
      "Bandpass cleaned in 13.9552 seconds.\n",
      "Stamps filtered in 22.9725 seconds\n",
      "Saving results\n"
     ]
    },
    {
     "name": "stderr",
     "output_type": "stream",
     "text": [
      "100%|██████████| 11/11 [08:26<00:00, 46.06s/it]\n"
     ]
    },
    {
     "name": "stdout",
     "output_type": "stream",
     "text": [
      "Results aggregated in 0.7359 seconds\n",
      "       level_0      index    statistic  pvalue        freqs\n",
      "60420    60420  225510400  9141.915570     0.0  1296.200752\n",
      "65097    65097  286785920  8021.985776     0.0  1124.998927\n",
      "61275    61275  243947776  7890.028305     0.0  1244.687319\n",
      "63373    63373  259940736  7828.116784     0.0  1200.003505\n",
      "43329    43329  138991104  9692.004933     0.0  1537.932873\n",
      "43337    43337  139002368  9675.281481     0.0  1537.901402\n",
      "5240      5240  100095360  9565.593169     0.0  1646.606326\n",
      "35924    35924  133067648  9519.442313     0.0  1554.482818\n",
      "4861      4861   80984704  7836.872962     0.0  1700.000882\n",
      "4815      4815   45193344  6859.931815     0.0  1800.000787\n",
      "4818      4818   45193728  6597.789848     0.0  1799.999714\n",
      "4796      4796    9402240  5930.396200     0.0  1899.999976\n",
      "308 308\n",
      "Finished Energy Detection on GBT_57677_41523_HIP36393_fine.h5 in 510.4812 seconds\n",
      "/mnt_blpd7/datax2/dl/GBT_57677_41907_HIP35298_fine.h5\n",
      "Header saved to ../../../../../../datax/scratch/pma/reverse_search/train_large/HIP36393-1253/GBT_57677_41907_HIP35298_fine/header.pkl\n",
      "Processing 28 in parallel\n",
      "Processing coarse channels 0-28\n"
     ]
    },
    {
     "name": "stderr",
     "output_type": "stream",
     "text": [
      "  0%|          | 0/11 [00:00<?, ?it/s]"
     ]
    },
    {
     "name": "stdout",
     "output_type": "stream",
     "text": [
      "Data loaded in 10.5368 seconds, processing\n",
      "Bandpass cleaned in 13.4784 seconds.\n",
      "Stamps filtered in 23.2793 seconds\n",
      "Saving results\n"
     ]
    },
    {
     "name": "stderr",
     "output_type": "stream",
     "text": [
      "  9%|▉         | 1/11 [00:48<08:00, 48.04s/it]"
     ]
    },
    {
     "name": "stdout",
     "output_type": "stream",
     "text": [
      "Results aggregated in 0.7197 seconds\n",
      "Processing coarse channels 28-56\n",
      "Data loaded in 9.6099 seconds, processing\n",
      "Bandpass cleaned in 13.3994 seconds.\n",
      "Stamps filtered in 24.8787 seconds\n",
      "Saving results\n"
     ]
    },
    {
     "name": "stderr",
     "output_type": "stream",
     "text": [
      " 18%|█▊        | 2/11 [01:36<07:13, 48.16s/it]"
     ]
    },
    {
     "name": "stdout",
     "output_type": "stream",
     "text": [
      "Results aggregated in 0.3412 seconds\n",
      "Processing coarse channels 56-84\n",
      "Data loaded in 8.3042 seconds, processing\n",
      "Bandpass cleaned in 13.2495 seconds.\n",
      "Stamps filtered in 24.4451 seconds\n",
      "Saving results\n"
     ]
    },
    {
     "name": "stderr",
     "output_type": "stream",
     "text": [
      " 27%|██▋       | 3/11 [02:22<06:18, 47.35s/it]"
     ]
    },
    {
     "name": "stdout",
     "output_type": "stream",
     "text": [
      "Results aggregated in 0.3420 seconds\n",
      "Processing coarse channels 84-112\n",
      "Data loaded in 9.0076 seconds, processing\n",
      "Bandpass cleaned in 15.1950 seconds.\n",
      "Stamps filtered in 25.4104 seconds\n",
      "Saving results\n"
     ]
    },
    {
     "name": "stderr",
     "output_type": "stream",
     "text": [
      " 36%|███▋      | 4/11 [03:14<05:44, 49.20s/it]"
     ]
    },
    {
     "name": "stdout",
     "output_type": "stream",
     "text": [
      "Results aggregated in 2.3802 seconds\n",
      "Processing coarse channels 112-140\n",
      "Data loaded in 8.3090 seconds, processing\n",
      "Bandpass cleaned in 15.9975 seconds.\n",
      "Stamps filtered in 25.6470 seconds\n",
      "Saving results\n"
     ]
    },
    {
     "name": "stderr",
     "output_type": "stream",
     "text": [
      " 45%|████▌     | 5/11 [04:07<05:03, 50.58s/it]"
     ]
    },
    {
     "name": "stdout",
     "output_type": "stream",
     "text": [
      "Results aggregated in 3.0210 seconds\n",
      "Processing coarse channels 140-168\n",
      "Data loaded in 7.6667 seconds, processing\n",
      "Bandpass cleaned in 14.1257 seconds.\n",
      "Stamps filtered in 24.9337 seconds\n",
      "Saving results\n"
     ]
    },
    {
     "name": "stderr",
     "output_type": "stream",
     "text": [
      " 55%|█████▍    | 6/11 [04:55<04:07, 49.57s/it]"
     ]
    },
    {
     "name": "stdout",
     "output_type": "stream",
     "text": [
      "Results aggregated in 0.8551 seconds\n",
      "Processing coarse channels 168-196\n",
      "Data loaded in 8.7081 seconds, processing\n",
      "Bandpass cleaned in 13.7034 seconds.\n",
      "Stamps filtered in 24.9035 seconds\n",
      "Saving results\n"
     ]
    },
    {
     "name": "stderr",
     "output_type": "stream",
     "text": [
      " 64%|██████▎   | 7/11 [05:44<03:17, 49.31s/it]"
     ]
    },
    {
     "name": "stdout",
     "output_type": "stream",
     "text": [
      "Results aggregated in 1.4330 seconds\n",
      "Processing coarse channels 196-224\n",
      "Data loaded in 8.4558 seconds, processing\n",
      "Bandpass cleaned in 16.0990 seconds.\n",
      "Stamps filtered in 24.9846 seconds\n",
      "Saving results\n"
     ]
    },
    {
     "name": "stderr",
     "output_type": "stream",
     "text": [
      " 73%|███████▎  | 8/11 [06:35<02:29, 49.81s/it]"
     ]
    },
    {
     "name": "stdout",
     "output_type": "stream",
     "text": [
      "Results aggregated in 1.2969 seconds\n",
      "Processing coarse channels 224-252\n",
      "Data loaded in 7.7657 seconds, processing\n"
     ]
    }
   ],
   "source": [
    "from tqdm import tqdm\n",
    "df = pd.read_csv(\"train_directories.csv\")\n",
    "energy_detection_folder = \"../../../../../../datax/scratch/pma/reverse_search/train_large/\"\n",
    "\n",
    "for el in df.columns[1:]:\n",
    "    print(el)\n",
    "    directory_list = df[el].to_list()\n",
    "    os.mkdir(energy_detection_folder+el)\n",
    "    for directory in directory_list:\n",
    "        file_location = \"../../../../../..\" + directory\n",
    "        print(directory)\n",
    "        name = directory.split('/')[-1].split(\".\")[0]\n",
    "        os.mkdir(energy_detection_folder+el+\"/\"+name)\n",
    "        os.system(\"python3 energy_detection.py \"+ \n",
    "              directory +\" \"+energy_detection_folder+el+\"/\"+name)   "
   ]
  },
  {
   "cell_type": "markdown",
   "id": "7fef690b-8250-48b9-aea4-bcd3e8150dde",
   "metadata": {},
   "source": [
    "# Negative Training Case\n",
    "Collect a few background noise"
   ]
  },
  {
   "cell_type": "code",
   "execution_count": null,
   "id": "04c63a94-b4e2-48f6-89fa-3fb599f8f9f3",
   "metadata": {
    "tags": []
   },
   "outputs": [],
   "source": [
    "# directory = '../../../../../../../mnt_blpd7/datax/dl/GBT_57515_81866_HIP44295_fine.h5'\n",
    "# energy_detection_folder = \"../../../../../../datax/scratch/pma/reverse_search/\"\n",
    "\n",
    "# os.system(\"python3 energy_detection-negative.py \"+ \n",
    "#               directory +\" \"+energy_detection_folder+\"/train_negative\")   "
   ]
  },
  {
   "cell_type": "markdown",
   "id": "cd673f47-e759-4c63-b2e2-5a05e3225ed1",
   "metadata": {},
   "source": [
    "# Test Filter"
   ]
  },
  {
   "cell_type": "code",
   "execution_count": null,
   "id": "45214c73-5f03-419e-b9a2-fffd8360658f",
   "metadata": {
    "tags": []
   },
   "outputs": [],
   "source": [
    "from tqdm import tqdm\n",
    "df = pd.read_csv(\"test_directories.csv\")\n",
    "energy_detection_folder = \"../../../../../../datax/scratch/pma/reverse_search/test_large/\"\n",
    "\n",
    "for el in df.columns[1:]:\n",
    "    print(el)\n",
    "    directory_list = df[el].to_list()\n",
    "    os.mkdir(energy_detection_folder+el)\n",
    "    for directory in directory_list:\n",
    "        file_location = \"../../../../../..\" + directory\n",
    "        print(directory)\n",
    "        name = directory.split('/')[-1].split(\".\")[0]\n",
    "        os.mkdir(energy_detection_folder+el+\"/\"+name)\n",
    "        os.system(\"python3 energy_detection.py \"+ \n",
    "              directory +\" \"+energy_detection_folder+el+\"/\"+name)   "
   ]
  },
  {
   "cell_type": "markdown",
   "id": "6fdf193c-4a87-4e7f-8c95-0586e3ed17a5",
   "metadata": {},
   "source": [
    "# Test Negative Case"
   ]
  },
  {
   "cell_type": "code",
   "execution_count": null,
   "id": "4bb6e51c-a5c2-4819-8f2d-4119a72ad063",
   "metadata": {
    "tags": []
   },
   "outputs": [],
   "source": [
    "# import os\n",
    "# directory = '../../../../../../../mnt_blpd9/datax/dl/GBT_57691_04379_HIP104887_fine.h5'\n",
    "\n",
    "# energy_detection_folder = \"../../../../../../datax/scratch/pma/reverse_search/\"\n",
    "\n",
    "# os.system(\"python3 energy_detection-negative.py \"+ \n",
    "#               directory +\" \"+energy_detection_folder+\"/test_negative\") "
   ]
  }
 ],
 "metadata": {
  "kernelspec": {
   "display_name": "Python 3 (ipykernel)",
   "language": "python",
   "name": "python3"
  },
  "language_info": {
   "codemirror_mode": {
    "name": "ipython",
    "version": 3
   },
   "file_extension": ".py",
   "mimetype": "text/x-python",
   "name": "python",
   "nbconvert_exporter": "python",
   "pygments_lexer": "ipython3",
   "version": "3.10.10"
  }
 },
 "nbformat": 4,
 "nbformat_minor": 5
}
