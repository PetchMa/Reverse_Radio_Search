{
 "cells": [
  {
   "cell_type": "code",
   "execution_count": 1,
   "id": "704928fa-0dd7-466a-a7f4-faba5a533cde",
   "metadata": {},
   "outputs": [],
   "source": [
    "import os\n",
    "from blimpy import Waterfall\n",
    "import numpy as np\n",
    "import sys\n",
    "import matplotlib.pyplot as plt\n",
    "import pandas as pd"
   ]
  },
  {
   "cell_type": "markdown",
   "id": "8c21438b-13a8-49c7-83cd-2423d212c79a",
   "metadata": {},
   "source": [
    "# Find Training Data"
   ]
  },
  {
   "cell_type": "code",
   "execution_count": 2,
   "id": "cf7bb61d-b0a6-4693-8919-353c23eedb89",
   "metadata": {},
   "outputs": [
    {
     "name": "stdout",
     "output_type": "stream",
     "text": [
      "--2022-12-14 21:54:05--  https://raw.githubusercontent.com/PetchMa/ML_GBT_SETI/main/data_archive/fine_cadences_formatted_updated_big.csv\n",
      "Resolving raw.githubusercontent.com (raw.githubusercontent.com)... 185.199.110.133, 185.199.111.133, 185.199.109.133, ...\n",
      "Connecting to raw.githubusercontent.com (raw.githubusercontent.com)|185.199.110.133|:443... connected.\n",
      "HTTP request sent, awaiting response... 200 OK\n",
      "Length: 759438 (742K) [text/plain]\n",
      "Saving to: ‘fine_cadences_formatted_updated_big.csv.3’\n",
      "\n",
      "fine_cadences_forma 100%[===================>] 741.64K  --.-KB/s    in 0.01s   \n",
      "\n",
      "2022-12-14 21:54:05 (61.3 MB/s) - ‘fine_cadences_formatted_updated_big.csv.3’ saved [759438/759438]\n",
      "\n"
     ]
    }
   ],
   "source": [
    "# !wget https://raw.githubusercontent.com/PetchMa/ML_GBT_SETI/main/data_archive/fine_cadences_formatted_updated_big.csv"
   ]
  },
  {
   "cell_type": "code",
   "execution_count": 3,
   "id": "0b1fdd2a-bf07-45b5-835f-22f7997f7b2f",
   "metadata": {},
   "outputs": [],
   "source": [
    "# df = pd.read_csv(\"fine_cadences_formatted_updated_big.csv\")\n",
    "# all_targets = df.columns[1:]\n",
    "\n",
    "# # randomly select 10 for training\n",
    "# num_cadence_training = 5\n",
    "# training_target= np.random.choice(all_targets, num_cadence_training, replace=False) \n",
    "# print(training_target)\n",
    "# training_data_directory = df[training_target]\n",
    "# training_data_directory.to_csv(\"train_directories.csv\")\n",
    "# print()\n",
    "# # randomly select 3 for test\n",
    "# num_cadence_test = 2\n",
    "# test_target = np.random.choice(all_targets, num_cadence_test, replace=False) \n",
    "# print(test_target)\n",
    "# testing_data_directory = df[test_target]\n",
    "# testing_data_directory.to_csv(\"test_directories.csv\")\n",
    "\n",
    "# new_untouched_df = df.drop(test_target, axis = 1).drop(training_target, axis = 1)\n",
    "# new_untouched_df.to_csv(\"untouched_list.csv\")"
   ]
  },
  {
   "cell_type": "markdown",
   "id": "0d5cab1d-a663-412c-9416-57c08f5d8e77",
   "metadata": {},
   "source": [
    "# Filter Signals Training"
   ]
  },
  {
   "cell_type": "code",
   "execution_count": null,
   "id": "9c59a902-c054-42d7-b1f0-4d3e32e498b2",
   "metadata": {
    "tags": []
   },
   "outputs": [
    {
     "name": "stdout",
     "output_type": "stream",
     "text": [
      "HIP44295-23\n",
      "/mnt_blpd7/datax/dl/GBT_57515_81866_HIP44295_fine.h5\n",
      "Header saved to ../../../../../../datax/scratch/pma/reverse_search/train/HIP44295-23/GBT_57515_81866_HIP44295_fine/header.pkl\n",
      "Processing 3 in parallel\n",
      "Processing coarse channels 0-3\n"
     ]
    },
    {
     "name": "stderr",
     "output_type": "stream",
     "text": [
      "  0%|          | 0/101 [00:00<?, ?it/s]"
     ]
    },
    {
     "name": "stdout",
     "output_type": "stream",
     "text": [
      "Data loaded in 1.0270 seconds, processing\n",
      "Bandpass cleaned in 1.6113 seconds.\n",
      "Stamps filtered in 13.0763 seconds\n",
      "Saving results\n"
     ]
    },
    {
     "name": "stderr",
     "output_type": "stream",
     "text": [
      "  1%|          | 1/101 [00:16<26:52, 16.12s/it]"
     ]
    },
    {
     "name": "stdout",
     "output_type": "stream",
     "text": [
      "Results aggregated in 0.3911 seconds\n",
      "Processing coarse channels 3-6\n",
      "Data loaded in 0.7892 seconds, processing\n",
      "Bandpass cleaned in 1.5656 seconds.\n",
      "Stamps filtered in 14.3893 seconds\n",
      "Saving results\n",
      "Results aggregated in 0.0485 seconds\n",
      "Processing coarse channels 6-9\n"
     ]
    },
    {
     "name": "stderr",
     "output_type": "stream",
     "text": [
      "  2%|▏         | 2/101 [00:32<27:15, 16.52s/it]"
     ]
    },
    {
     "name": "stdout",
     "output_type": "stream",
     "text": [
      "Data loaded in 0.8382 seconds, processing\n",
      "Bandpass cleaned in 1.5882 seconds.\n",
      "Stamps filtered in 13.4005 seconds\n",
      "Saving results\n",
      "Results aggregated in 0.0364 seconds\n",
      "Processing coarse channels 9-12\n"
     ]
    },
    {
     "name": "stderr",
     "output_type": "stream",
     "text": [
      "  3%|▎         | 3/101 [00:48<26:29, 16.22s/it]"
     ]
    },
    {
     "name": "stdout",
     "output_type": "stream",
     "text": [
      "Data loaded in 0.8184 seconds, processing\n",
      "Bandpass cleaned in 1.6606 seconds.\n",
      "Stamps filtered in 13.2811 seconds\n",
      "Saving results\n",
      "Results aggregated in 0.0334 seconds\n",
      "Processing coarse channels 12-15\n"
     ]
    },
    {
     "name": "stderr",
     "output_type": "stream",
     "text": [
      "  4%|▍         | 4/101 [01:04<25:57, 16.06s/it]"
     ]
    },
    {
     "name": "stdout",
     "output_type": "stream",
     "text": [
      "Data loaded in 0.8182 seconds, processing\n",
      "Bandpass cleaned in 1.7158 seconds.\n",
      "Stamps filtered in 13.3734 seconds\n",
      "Saving results\n",
      "Results aggregated in 0.0374 seconds\n",
      "Processing coarse channels 15-18\n"
     ]
    },
    {
     "name": "stderr",
     "output_type": "stream",
     "text": [
      "  5%|▍         | 5/101 [01:20<25:37, 16.02s/it]"
     ]
    },
    {
     "name": "stdout",
     "output_type": "stream",
     "text": [
      "Data loaded in 0.8020 seconds, processing\n",
      "Bandpass cleaned in 1.5983 seconds.\n",
      "Stamps filtered in 14.2140 seconds\n",
      "Saving results\n",
      "Results aggregated in 0.0377 seconds\n",
      "Processing coarse channels 18-21\n"
     ]
    },
    {
     "name": "stderr",
     "output_type": "stream",
     "text": [
      "  6%|▌         | 6/101 [01:37<25:42, 16.24s/it]"
     ]
    },
    {
     "name": "stdout",
     "output_type": "stream",
     "text": [
      "Data loaded in 0.7809 seconds, processing\n",
      "Bandpass cleaned in 1.6126 seconds.\n",
      "Stamps filtered in 13.2649 seconds\n",
      "Saving results\n",
      "Results aggregated in 0.0360 seconds\n",
      "Processing coarse channels 21-24\n"
     ]
    },
    {
     "name": "stderr",
     "output_type": "stream",
     "text": [
      "  7%|▋         | 7/101 [01:52<25:09, 16.06s/it]"
     ]
    },
    {
     "name": "stdout",
     "output_type": "stream",
     "text": [
      "Data loaded in 0.7615 seconds, processing\n",
      "Bandpass cleaned in 1.6842 seconds.\n",
      "Stamps filtered in 13.3013 seconds\n",
      "Saving results\n",
      "Results aggregated in 0.0362 seconds\n",
      "Processing coarse channels 24-27\n"
     ]
    },
    {
     "name": "stderr",
     "output_type": "stream",
     "text": [
      "  8%|▊         | 8/101 [02:08<24:45, 15.98s/it]"
     ]
    },
    {
     "name": "stdout",
     "output_type": "stream",
     "text": [
      "Data loaded in 0.7547 seconds, processing\n",
      "Bandpass cleaned in 1.6724 seconds.\n",
      "Stamps filtered in 14.2182 seconds\n",
      "Saving results\n",
      "Results aggregated in 0.0358 seconds\n",
      "Processing coarse channels 27-30\n"
     ]
    },
    {
     "name": "stderr",
     "output_type": "stream",
     "text": [
      "  9%|▉         | 9/101 [02:25<24:50, 16.20s/it]"
     ]
    },
    {
     "name": "stdout",
     "output_type": "stream",
     "text": [
      "Data loaded in 0.7878 seconds, processing\n",
      "Bandpass cleaned in 1.6020 seconds.\n",
      "Stamps filtered in 13.1961 seconds\n",
      "Saving results\n",
      "Results aggregated in 0.0372 seconds\n",
      "Processing coarse channels 30-33\n"
     ]
    },
    {
     "name": "stderr",
     "output_type": "stream",
     "text": [
      " 10%|▉         | 10/101 [02:41<24:18, 16.02s/it]"
     ]
    },
    {
     "name": "stdout",
     "output_type": "stream",
     "text": [
      "Data loaded in 0.7705 seconds, processing\n",
      "Bandpass cleaned in 1.5702 seconds.\n",
      "Stamps filtered in 13.4447 seconds\n",
      "Saving results\n",
      "Results aggregated in 0.0375 seconds\n",
      "Processing coarse channels 33-36\n"
     ]
    },
    {
     "name": "stderr",
     "output_type": "stream",
     "text": [
      " 11%|█         | 11/101 [02:56<23:56, 15.96s/it]"
     ]
    },
    {
     "name": "stdout",
     "output_type": "stream",
     "text": [
      "Data loaded in 0.7764 seconds, processing\n",
      "Bandpass cleaned in 1.5504 seconds.\n",
      "Stamps filtered in 14.1446 seconds\n",
      "Saving results\n",
      "Results aggregated in 0.0379 seconds\n",
      "Processing coarse channels 36-39\n"
     ]
    },
    {
     "name": "stderr",
     "output_type": "stream",
     "text": [
      " 12%|█▏        | 12/101 [03:13<23:55, 16.13s/it]"
     ]
    },
    {
     "name": "stdout",
     "output_type": "stream",
     "text": [
      "Data loaded in 0.7580 seconds, processing\n",
      "Bandpass cleaned in 1.6257 seconds.\n",
      "Stamps filtered in 13.1260 seconds\n",
      "Saving results\n",
      "Results aggregated in 0.0361 seconds\n",
      "Processing coarse channels 39-42\n"
     ]
    },
    {
     "name": "stderr",
     "output_type": "stream",
     "text": [
      " 13%|█▎        | 13/101 [03:28<23:24, 15.96s/it]"
     ]
    },
    {
     "name": "stdout",
     "output_type": "stream",
     "text": [
      "Data loaded in 0.7797 seconds, processing\n",
      "Bandpass cleaned in 1.5480 seconds.\n",
      "Stamps filtered in 14.0346 seconds\n",
      "Saving results\n",
      "Results aggregated in 0.0330 seconds\n",
      "Processing coarse channels 42-45\n"
     ]
    },
    {
     "name": "stderr",
     "output_type": "stream",
     "text": [
      " 14%|█▍        | 14/101 [03:45<23:19, 16.09s/it]"
     ]
    },
    {
     "name": "stdout",
     "output_type": "stream",
     "text": [
      "Data loaded in 0.7497 seconds, processing\n",
      "Bandpass cleaned in 1.5600 seconds.\n",
      "Stamps filtered in 13.4422 seconds\n",
      "Saving results\n",
      "Results aggregated in 0.0402 seconds\n",
      "Processing coarse channels 45-48\n"
     ]
    },
    {
     "name": "stderr",
     "output_type": "stream",
     "text": [
      " 15%|█▍        | 15/101 [04:01<22:56, 16.00s/it]"
     ]
    },
    {
     "name": "stdout",
     "output_type": "stream",
     "text": [
      "Data loaded in 0.8110 seconds, processing\n",
      "Bandpass cleaned in 1.5527 seconds.\n"
     ]
    }
   ],
   "source": [
    "from tqdm import tqdm\n",
    "df = pd.read_csv(\"train_directories.csv\")\n",
    "energy_detection_folder = \"../../../../../../datax/scratch/pma/reverse_search/train/\"\n",
    "\n",
    "for el in df.columns[1:]:\n",
    "    print(el)\n",
    "    directory_list = df[el].to_list()\n",
    "    os.mkdir(energy_detection_folder+el)\n",
    "    for directory in directory_list:\n",
    "        file_location = \"../../../../../..\" + directory\n",
    "        print(directory)\n",
    "        name = directory.split('/')[-1].split(\".\")[0]\n",
    "        os.mkdir(energy_detection_folder+el+\"/\"+name)\n",
    "        os.system(\"python3 energy_detection.py \"+ \n",
    "              directory +\" \"+energy_detection_folder+el+\"/\"+name)   "
   ]
  },
  {
   "cell_type": "markdown",
   "id": "7fef690b-8250-48b9-aea4-bcd3e8150dde",
   "metadata": {},
   "source": [
    "# Negative Training Case\n",
    "Collect a few background noise"
   ]
  },
  {
   "cell_type": "code",
   "execution_count": null,
   "id": "04c63a94-b4e2-48f6-89fa-3fb599f8f9f3",
   "metadata": {},
   "outputs": [],
   "source": [
    "os.system(\"python3 energy_detection_negative.py \"+ \n",
    "              directory +\" \"+energy_detection_folder+el+\"/train_negative\")   "
   ]
  },
  {
   "cell_type": "markdown",
   "id": "cd673f47-e759-4c63-b2e2-5a05e3225ed1",
   "metadata": {},
   "source": [
    "# Test Filter"
   ]
  },
  {
   "cell_type": "code",
   "execution_count": null,
   "id": "45214c73-5f03-419e-b9a2-fffd8360658f",
   "metadata": {},
   "outputs": [],
   "source": [
    "from tqdm import tqdm\n",
    "df = pd.read_csv(\"test_directories.csv\")\n",
    "energy_detection_folder = \"../../../../../../datax/scratch/pma/reverse_search/test/\"\n",
    "\n",
    "for el in df.columns[1:]:\n",
    "    print(el)\n",
    "    directory_list = df[el].to_list()\n",
    "    os.mkdir(energy_detection_folder+el)\n",
    "    for directory in directory_list:\n",
    "        file_location = \"../../../../../..\" + directory\n",
    "        print(directory)\n",
    "        name = directory.split('/')[-1].split(\".\")[0]\n",
    "        os.mkdir(energy_detection_folder+el+\"/\"+name)\n",
    "        os.system(\"python3 energy_detection.py \"+ \n",
    "              directory +\" \"+energy_detection_folder+el+\"/\"+name)   "
   ]
  },
  {
   "cell_type": "markdown",
   "id": "6fdf193c-4a87-4e7f-8c95-0586e3ed17a5",
   "metadata": {},
   "source": [
    "# Test Negative Case"
   ]
  },
  {
   "cell_type": "code",
   "execution_count": null,
   "id": "4bb6e51c-a5c2-4819-8f2d-4119a72ad063",
   "metadata": {},
   "outputs": [],
   "source": [
    "os.system(\"python3 energy_detection_negative.py \"+ \n",
    "              directory +\" \"+energy_detection_folder+el+\"/test_negative\") "
   ]
  }
 ],
 "metadata": {
  "kernelspec": {
   "display_name": "Python 3",
   "language": "python",
   "name": "python3"
  },
  "language_info": {
   "codemirror_mode": {
    "name": "ipython",
    "version": 3
   },
   "file_extension": ".py",
   "mimetype": "text/x-python",
   "name": "python",
   "nbconvert_exporter": "python",
   "pygments_lexer": "ipython3",
   "version": "3.10.6"
  }
 },
 "nbformat": 4,
 "nbformat_minor": 5
}
