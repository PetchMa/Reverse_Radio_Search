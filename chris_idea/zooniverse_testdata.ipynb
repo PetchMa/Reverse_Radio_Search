{
 "cells": [
  {
   "cell_type": "code",
   "execution_count": 20,
   "id": "a5f527c2-94ea-4321-a897-77cedda52aa8",
   "metadata": {
    "tags": []
   },
   "outputs": [
    {
     "name": "stdout",
     "output_type": "stream",
     "text": [
      "b'HIP44295-23'\n",
      "b'HIP63503-523'\n",
      "b'AND_XI-2274'\n",
      "b'HIP36393-1253'\n",
      "b'HIP48477-589'\n",
      "(666733, 16, 256)\n"
     ]
    }
   ],
   "source": [
    "from tqdm import tqdm\n",
    "import numpy as np\n",
    "import matplotlib.pyplot as plt\n",
    "import os\n",
    "import sys\n",
    "\n",
    "def normalize(data):\n",
    "    epsilon = 1\n",
    "    min_val = data.min()\n",
    "    data = data - min_val + epsilon\n",
    "    new_data = np.log(data)\n",
    "    min_val = data.min()\n",
    "    max_val = data.max()\n",
    "    final_data = (data - min_val) / (max_val - min_val)\n",
    "    return final_data\n",
    "    \n",
    "def normalize_data(data):\n",
    "    for i in range(data.shape[0]):\n",
    "        data[i,:,:] = normalize(data[i,:, :])\n",
    "    return data\n",
    "\n",
    "directory = os.fsencode( \"../../../../../datax/scratch/pma/reverse_search/train/\")\n",
    "count = 0\n",
    "data = []\n",
    "for folder in os.listdir(directory):\n",
    "    print(folder)\n",
    "    for subfolder in os.listdir(directory+folder):\n",
    "        back = os.fsencode( \"/\")\n",
    "        if '.' not in str(subfolder):\n",
    "            for file in os.listdir(directory+folder+back+subfolder):\n",
    "                file_directory = str(os.path.join(directory+folder+back+subfolder, file)).replace('b', '').replace(\"'\",\"\")\n",
    "                if 'filtered.npy' in file_directory:\n",
    "                    data.append(np.load(str(file_directory)))\n",
    "                    count += 1\n",
    "data = np.vstack(data)\n",
    "data = normalize_data(data)\n",
    "from sklearn.utils import shuffle\n",
    "data = shuffle(data, random_state=0)\n",
    "print(data.shape)"
   ]
  },
  {
   "cell_type": "code",
   "execution_count": 21,
   "id": "0d6be9d9-27d5-496c-9fb1-a6cd949e152f",
   "metadata": {
    "tags": []
   },
   "outputs": [
    {
     "name": "stderr",
     "output_type": "stream",
     "text": [
      "100%|███████████████████████████████████████| 1000/1000 [04:29<00:00,  3.71it/s]\n"
     ]
    }
   ],
   "source": [
    "for i in tqdm(range(1000)):\n",
    "    plt.figure(figsize = (20, 20))\n",
    "    plt.imshow(data[i,:,:],  cmap='hot', interpolation='nearest', aspect=10)\n",
    "    plt.savefig(\"saved/\"+str(i)+\".png\")\n",
    "    plt.close()"
   ]
  },
  {
   "cell_type": "code",
   "execution_count": 22,
   "id": "b67bda37-957b-4194-882b-c3b816ea00bc",
   "metadata": {
    "tags": []
   },
   "outputs": [
    {
     "data": {
      "text/plain": [
       "'/mnt_home2/pma/projects/Reverse_Radio_Search/chris_idea/saved.zip'"
      ]
     },
     "execution_count": 22,
     "metadata": {},
     "output_type": "execute_result"
    }
   ],
   "source": [
    "import shutil\n",
    "shutil.make_archive('saved', 'zip', 'saved')"
   ]
  }
 ],
 "metadata": {
  "kernelspec": {
   "display_name": "Python 3 (ipykernel)",
   "language": "python",
   "name": "python3"
  },
  "language_info": {
   "codemirror_mode": {
    "name": "ipython",
    "version": 3
   },
   "file_extension": ".py",
   "mimetype": "text/x-python",
   "name": "python",
   "nbconvert_exporter": "python",
   "pygments_lexer": "ipython3",
   "version": "3.10.10"
  }
 },
 "nbformat": 4,
 "nbformat_minor": 5
}
