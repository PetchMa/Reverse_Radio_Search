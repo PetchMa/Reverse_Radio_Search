{
 "cells": [
  {
   "cell_type": "code",
   "execution_count": 1,
   "id": "875a14e4-94a3-4da2-9a09-cea64d6d3690",
   "metadata": {
    "tags": []
   },
   "outputs": [
    {
     "name": "stderr",
     "output_type": "stream",
     "text": [
      "2022-12-20 09:09:51.433756: I tensorflow/stream_executor/platform/default/dso_loader.cc:49] Successfully opened dynamic library libcudart.so.10.1\n",
      "2022-12-20 09:09:54.812046: I tensorflow/compiler/jit/xla_cpu_device.cc:41] Not creating XLA devices, tf_xla_enable_xla_devices not set\n"
     ]
    },
    {
     "name": "stdout",
     "output_type": "stream",
     "text": [
      "Num GPUs Available:  4\n",
      "4 Physical GPUs, 4 Logical GPUs\n"
     ]
    },
    {
     "name": "stderr",
     "output_type": "stream",
     "text": [
      "2022-12-20 09:09:54.814126: I tensorflow/stream_executor/platform/default/dso_loader.cc:49] Successfully opened dynamic library libcuda.so.1\n",
      "2022-12-20 09:09:54.901787: I tensorflow/core/common_runtime/gpu/gpu_device.cc:1720] Found device 0 with properties: \n",
      "pciBusID: 0000:02:00.0 name: NVIDIA GeForce GTX TITAN X computeCapability: 5.2\n",
      "coreClock: 1.076GHz coreCount: 24 deviceMemorySize: 11.93GiB deviceMemoryBandwidth: 313.37GiB/s\n",
      "2022-12-20 09:09:54.902397: I tensorflow/core/common_runtime/gpu/gpu_device.cc:1720] Found device 1 with properties: \n",
      "pciBusID: 0000:03:00.0 name: NVIDIA GeForce GTX TITAN X computeCapability: 5.2\n",
      "coreClock: 1.076GHz coreCount: 24 deviceMemorySize: 11.93GiB deviceMemoryBandwidth: 313.37GiB/s\n",
      "2022-12-20 09:09:54.902994: I tensorflow/core/common_runtime/gpu/gpu_device.cc:1720] Found device 2 with properties: \n",
      "pciBusID: 0000:83:00.0 name: NVIDIA GeForce GTX TITAN X computeCapability: 5.2\n",
      "coreClock: 1.076GHz coreCount: 24 deviceMemorySize: 11.93GiB deviceMemoryBandwidth: 313.37GiB/s\n",
      "2022-12-20 09:09:54.903568: I tensorflow/core/common_runtime/gpu/gpu_device.cc:1720] Found device 3 with properties: \n",
      "pciBusID: 0000:84:00.0 name: NVIDIA GeForce GTX TITAN X computeCapability: 5.2\n",
      "coreClock: 1.076GHz coreCount: 24 deviceMemorySize: 11.93GiB deviceMemoryBandwidth: 313.37GiB/s\n",
      "2022-12-20 09:09:54.903606: I tensorflow/stream_executor/platform/default/dso_loader.cc:49] Successfully opened dynamic library libcudart.so.10.1\n",
      "2022-12-20 09:09:54.907988: I tensorflow/stream_executor/platform/default/dso_loader.cc:49] Successfully opened dynamic library libcublas.so.10\n",
      "2022-12-20 09:09:54.908053: I tensorflow/stream_executor/platform/default/dso_loader.cc:49] Successfully opened dynamic library libcublasLt.so.10\n",
      "2022-12-20 09:09:54.980013: I tensorflow/stream_executor/platform/default/dso_loader.cc:49] Successfully opened dynamic library libcufft.so.10\n",
      "2022-12-20 09:09:55.124432: I tensorflow/stream_executor/platform/default/dso_loader.cc:49] Successfully opened dynamic library libcurand.so.10\n",
      "2022-12-20 09:09:55.253678: I tensorflow/stream_executor/platform/default/dso_loader.cc:49] Successfully opened dynamic library libcusolver.so.10\n",
      "2022-12-20 09:09:55.365198: I tensorflow/stream_executor/platform/default/dso_loader.cc:49] Successfully opened dynamic library libcusparse.so.10\n",
      "2022-12-20 09:09:55.416684: I tensorflow/stream_executor/platform/default/dso_loader.cc:49] Successfully opened dynamic library libcudnn.so.7\n",
      "2022-12-20 09:09:55.420529: I tensorflow/core/common_runtime/gpu/gpu_device.cc:1862] Adding visible gpu devices: 0, 1, 2, 3\n",
      "2022-12-20 09:09:55.422411: I tensorflow/core/platform/cpu_feature_guard.cc:142] This TensorFlow binary is optimized with oneAPI Deep Neural Network Library (oneDNN) to use the following CPU instructions in performance-critical operations:  SSE4.1 SSE4.2 AVX AVX2 FMA\n",
      "To enable them in other operations, rebuild TensorFlow with the appropriate compiler flags.\n",
      "2022-12-20 09:09:55.426628: I tensorflow/compiler/jit/xla_gpu_device.cc:99] Not creating XLA devices, tf_xla_enable_xla_devices not set\n",
      "2022-12-20 09:09:55.705022: I tensorflow/core/common_runtime/gpu/gpu_device.cc:1720] Found device 0 with properties: \n",
      "pciBusID: 0000:02:00.0 name: NVIDIA GeForce GTX TITAN X computeCapability: 5.2\n",
      "coreClock: 1.076GHz coreCount: 24 deviceMemorySize: 11.93GiB deviceMemoryBandwidth: 313.37GiB/s\n",
      "2022-12-20 09:09:55.705401: I tensorflow/core/common_runtime/gpu/gpu_device.cc:1720] Found device 1 with properties: \n",
      "pciBusID: 0000:03:00.0 name: NVIDIA GeForce GTX TITAN X computeCapability: 5.2\n",
      "coreClock: 1.076GHz coreCount: 24 deviceMemorySize: 11.93GiB deviceMemoryBandwidth: 313.37GiB/s\n",
      "2022-12-20 09:09:55.705694: I tensorflow/core/common_runtime/gpu/gpu_device.cc:1720] Found device 2 with properties: \n",
      "pciBusID: 0000:83:00.0 name: NVIDIA GeForce GTX TITAN X computeCapability: 5.2\n",
      "coreClock: 1.076GHz coreCount: 24 deviceMemorySize: 11.93GiB deviceMemoryBandwidth: 313.37GiB/s\n",
      "2022-12-20 09:09:55.705961: I tensorflow/core/common_runtime/gpu/gpu_device.cc:1720] Found device 3 with properties: \n",
      "pciBusID: 0000:84:00.0 name: NVIDIA GeForce GTX TITAN X computeCapability: 5.2\n",
      "coreClock: 1.076GHz coreCount: 24 deviceMemorySize: 11.93GiB deviceMemoryBandwidth: 313.37GiB/s\n",
      "2022-12-20 09:09:55.706011: I tensorflow/stream_executor/platform/default/dso_loader.cc:49] Successfully opened dynamic library libcudart.so.10.1\n",
      "2022-12-20 09:09:55.706048: I tensorflow/stream_executor/platform/default/dso_loader.cc:49] Successfully opened dynamic library libcublas.so.10\n",
      "2022-12-20 09:09:55.706069: I tensorflow/stream_executor/platform/default/dso_loader.cc:49] Successfully opened dynamic library libcublasLt.so.10\n",
      "2022-12-20 09:09:55.706088: I tensorflow/stream_executor/platform/default/dso_loader.cc:49] Successfully opened dynamic library libcufft.so.10\n",
      "2022-12-20 09:09:55.706108: I tensorflow/stream_executor/platform/default/dso_loader.cc:49] Successfully opened dynamic library libcurand.so.10\n",
      "2022-12-20 09:09:55.706128: I tensorflow/stream_executor/platform/default/dso_loader.cc:49] Successfully opened dynamic library libcusolver.so.10\n",
      "2022-12-20 09:09:55.706147: I tensorflow/stream_executor/platform/default/dso_loader.cc:49] Successfully opened dynamic library libcusparse.so.10\n",
      "2022-12-20 09:09:55.706167: I tensorflow/stream_executor/platform/default/dso_loader.cc:49] Successfully opened dynamic library libcudnn.so.7\n",
      "2022-12-20 09:09:55.708507: I tensorflow/core/common_runtime/gpu/gpu_device.cc:1862] Adding visible gpu devices: 0, 1, 2, 3\n",
      "2022-12-20 09:09:55.708571: I tensorflow/stream_executor/platform/default/dso_loader.cc:49] Successfully opened dynamic library libcudart.so.10.1\n",
      "2022-12-20 09:09:57.573950: I tensorflow/core/common_runtime/gpu/gpu_device.cc:1261] Device interconnect StreamExecutor with strength 1 edge matrix:\n",
      "2022-12-20 09:09:57.574013: I tensorflow/core/common_runtime/gpu/gpu_device.cc:1267]      0 1 2 3 \n",
      "2022-12-20 09:09:57.574028: I tensorflow/core/common_runtime/gpu/gpu_device.cc:1280] 0:   N Y N N \n",
      "2022-12-20 09:09:57.574039: I tensorflow/core/common_runtime/gpu/gpu_device.cc:1280] 1:   Y N N N \n",
      "2022-12-20 09:09:57.574049: I tensorflow/core/common_runtime/gpu/gpu_device.cc:1280] 2:   N N N Y \n",
      "2022-12-20 09:09:57.574059: I tensorflow/core/common_runtime/gpu/gpu_device.cc:1280] 3:   N N Y N \n",
      "2022-12-20 09:09:57.576097: I tensorflow/core/common_runtime/gpu/gpu_device.cc:1406] Created TensorFlow device (/job:localhost/replica:0/task:0/device:GPU:0 with 10000 MB memory) -> physical GPU (device: 0, name: NVIDIA GeForce GTX TITAN X, pci bus id: 0000:02:00.0, compute capability: 5.2)\n",
      "2022-12-20 09:09:57.577105: I tensorflow/core/common_runtime/gpu/gpu_device.cc:1406] Created TensorFlow device (/job:localhost/replica:0/task:0/device:GPU:1 with 10000 MB memory) -> physical GPU (device: 1, name: NVIDIA GeForce GTX TITAN X, pci bus id: 0000:03:00.0, compute capability: 5.2)\n",
      "2022-12-20 09:09:57.577904: I tensorflow/core/common_runtime/gpu/gpu_device.cc:1406] Created TensorFlow device (/job:localhost/replica:0/task:0/device:GPU:2 with 7000 MB memory) -> physical GPU (device: 2, name: NVIDIA GeForce GTX TITAN X, pci bus id: 0000:83:00.0, compute capability: 5.2)\n",
      "2022-12-20 09:09:57.578775: I tensorflow/core/common_runtime/gpu/gpu_device.cc:1406] Created TensorFlow device (/job:localhost/replica:0/task:0/device:GPU:3 with 10000 MB memory) -> physical GPU (device: 3, name: NVIDIA GeForce GTX TITAN X, pci bus id: 0000:84:00.0, compute capability: 5.2)\n"
     ]
    }
   ],
   "source": [
    "import numpy as np\n",
    "import tensorflow as tf\n",
    "from tensorflow import keras\n",
    "from tensorflow.keras import layers\n",
    "import os\n",
    "import sys\n",
    "from tensorflow.python.client import device_lib\n",
    "import os\n",
    "print(\"Num GPUs Available: \", len(tf.config.list_physical_devices('GPU')))\n",
    "\n",
    "gpus = tf.config.list_physical_devices('GPU')\n",
    "if gpus:\n",
    "  # Restrict TensorFlow to only allocate 1GB of memory on the first GPU\n",
    "    try:\n",
    "        tf.config.experimental.set_virtual_device_configuration(\n",
    "            gpus[0],\n",
    "            [tf.config.experimental.VirtualDeviceConfiguration(memory_limit=10000)])\n",
    "        tf.config.experimental.set_virtual_device_configuration(\n",
    "            gpus[1],\n",
    "            [tf.config.experimental.VirtualDeviceConfiguration(memory_limit=10000)])\n",
    "        tf.config.experimental.set_virtual_device_configuration(\n",
    "            gpus[2],\n",
    "            [tf.config.experimental.VirtualDeviceConfiguration(memory_limit=7000)])\n",
    "        tf.config.experimental.set_virtual_device_configuration(\n",
    "            gpus[3],\n",
    "            [tf.config.experimental.VirtualDeviceConfiguration(memory_limit=10000)])\n",
    "        logical_gpus = tf.config.experimental.list_logical_devices('GPU')\n",
    "        print(len(gpus), \"Physical GPUs,\", len(logical_gpus), \"Logical GPUs\")\n",
    "    except RuntimeError as e:\n",
    "        # Virtual devices must be set before GPUs have been initialized\n",
    "        print(e)"
   ]
  },
  {
   "cell_type": "markdown",
   "id": "dcf26b94-ca47-4257-9de5-3faf2d2cec9f",
   "metadata": {},
   "source": [
    "# Load Data"
   ]
  },
  {
   "cell_type": "code",
   "execution_count": 2,
   "id": "39f338da-0b77-40fa-ac3b-ae92a57b0bf0",
   "metadata": {},
   "outputs": [
    {
     "name": "stdout",
     "output_type": "stream",
     "text": [
      "b'HIP44295-23'\n",
      "(191882, 16, 256)\n",
      "(240087, 16, 256)\n",
      "(233777, 16, 256)\n",
      "(176479, 16, 256)\n",
      "(282263, 16, 256)\n",
      "(132926, 16, 256)\n",
      "b'HIP63503-523'\n",
      "(20190, 16, 256)\n",
      "(12721, 16, 256)\n",
      "(12694, 16, 256)\n",
      "(53716, 16, 256)\n",
      "(24144, 16, 256)\n",
      "(13365, 16, 256)\n",
      "b'AND_XI-2274'\n",
      "b'HIP36393-1253'\n",
      "(67084, 16, 256)\n",
      "(154152, 16, 256)\n",
      "(66705, 16, 256)\n",
      "(91345, 16, 256)\n",
      "(126293, 16, 256)\n",
      "(121096, 16, 256)\n",
      "b'HIP48477-589'\n",
      "(54157, 16, 256)\n",
      "(111678, 16, 256)\n"
     ]
    }
   ],
   "source": [
    "import os\n",
    "\n",
    "directory = os.fsencode( \"../../../../../datax/scratch/pma/reverse_search/train_large/\")\n",
    "count = 0\n",
    "top = 20\n",
    "data = []\n",
    "for folder in os.listdir(directory):\n",
    "    print(folder)\n",
    "    for subfolder in os.listdir(directory+folder):\n",
    "        back = os.fsencode( \"/\")\n",
    "        for file in os.listdir(directory+folder+back+subfolder):\n",
    "            file_directory = str(os.path.join(directory+folder+back+subfolder, file)).replace('b', '').replace(\"'\",\"\")\n",
    "            if 'filtered.npy' in file_directory and count < top:\n",
    "                temp = np.load(str(file_directory))\n",
    "                print(temp.shape)\n",
    "                data.append(temp)\n",
    "                count += 1"
   ]
  },
  {
   "cell_type": "code",
   "execution_count": 3,
   "id": "0c8756cd-7c12-4471-8f63-dde353b81dee",
   "metadata": {},
   "outputs": [
    {
     "name": "stdout",
     "output_type": "stream",
     "text": [
      "(2186754, 16, 256)\n"
     ]
    },
    {
     "data": {
      "text/plain": [
       "<matplotlib.image.AxesImage at 0x7fc3d03480d0>"
      ]
     },
     "execution_count": 3,
     "metadata": {},
     "output_type": "execute_result"
    },
    {
     "data": {
      "image/png": "[encoded data removed]",
      "text/plain": [
       "<Figure size 1000x500 with 1 Axes>"
      ]
     },
     "metadata": {},
     "output_type": "display_data"
    }
   ],
   "source": [
    "import numpy as np\n",
    "data = np.vstack(data)\n",
    "print(data.shape)\n",
    "\n",
    "import matplotlib.pyplot as plt\n",
    "plt.rcParams.update({'font.size': 10})\n",
    "plt.figure(figsize=(10,5))\n",
    "plt.title(\"Example\")\n",
    "plt.xlabel(\"Frequency\")\n",
    "plt.ylabel(\"Time\")\n",
    "plt.imshow(data[1000, :, :], cmap='hot', aspect=5)"
   ]
  },
  {
   "cell_type": "code",
   "execution_count": 4,
   "id": "aad99369-0178-4029-ad07-b5470ac6276d",
   "metadata": {},
   "outputs": [
    {
     "name": "stderr",
     "output_type": "stream",
     "text": [
      "  2%|▌                                | 37585/2186754 [00:05<04:49, 7424.54it/s]"
     ]
    },
    {
     "name": "stdout",
     "output_type": "stream",
     "text": [
      "The history saving thread hit an unexpected error (OperationalError('database is locked')).History will not be written to the database.\n"
     ]
    },
    {
     "name": "stderr",
     "output_type": "stream",
     "text": [
      "100%|███████████████████████████████| 2186754/2186754 [05:05<00:00, 7156.15it/s]"
     ]
    },
    {
     "name": "stdout",
     "output_type": "stream",
     "text": [
      "1.0 0.0\n"
     ]
    },
    {
     "name": "stderr",
     "output_type": "stream",
     "text": [
      "\n"
     ]
    }
   ],
   "source": [
    "from tqdm import tqdm\n",
    "\n",
    "def normalize(data):\n",
    "    epsilon = 1\n",
    "    min_val = data.min()\n",
    "    data = data - min_val + epsilon\n",
    "    new_data = np.log(data)\n",
    "    min_val = data.min()\n",
    "    max_val = data.max()\n",
    "    final_data = (data - min_val) / (max_val - min_val)\n",
    "    return final_data\n",
    "    \n",
    "def normalize_data(data):\n",
    "    for i in tqdm(range(data.shape[0])):\n",
    "        data[i,:,:] = normalize(data[i,:,:])\n",
    "    return data\n",
    "\n",
    "data = np.expand_dims(normalize_data(data), axis = -1)\n",
    "print(data[0,:,:].max(), data[0,:,:].min())"
   ]
  },
  {
   "cell_type": "code",
   "execution_count": 5,
   "id": "0774a3e2-2927-4972-960a-533596fd9351",
   "metadata": {},
   "outputs": [
    {
     "data": {
      "text/plain": [
       "<matplotlib.image.AxesImage at 0x7fc3d01c89a0>"
      ]
     },
     "execution_count": 5,
     "metadata": {},
     "output_type": "execute_result"
    },
    {
     "data": {
      "image/png": "[encoded data removed]",
      "text/plain": [
       "<Figure size 1000x500 with 1 Axes>"
      ]
     },
     "metadata": {},
     "output_type": "display_data"
    }
   ],
   "source": [
    "import matplotlib.pyplot as plt\n",
    "plt.rcParams.update({'font.size': 10})\n",
    "plt.figure(figsize=(10,5))\n",
    "plt.title(\"Example\")\n",
    "plt.xlabel(\"Frequency\")\n",
    "plt.ylabel(\"Time\")\n",
    "plt.imshow(data[1000, :, :], cmap='hot', aspect=5)"
   ]
  },
  {
   "cell_type": "code",
   "execution_count": 6,
   "id": "5551d0c2-454b-41f9-aa68-ab50a2e47f8d",
   "metadata": {},
   "outputs": [
    {
     "ename": "MemoryError",
     "evalue": "Unable to allocate 44.7 GiB for an array with shape (1465125, 16, 256, 1) and data type float64",
     "output_type": "error",
     "traceback": [
      "\u001b[0;31m---------------------------------------------------------------------------\u001b[0m",
      "\u001b[0;31mMemoryError\u001b[0m                               Traceback (most recent call last)",
      "Cell \u001b[0;32mIn[6], line 3\u001b[0m\n\u001b[1;32m      1\u001b[0m \u001b[38;5;28;01mfrom\u001b[39;00m \u001b[38;5;21;01msklearn\u001b[39;00m\u001b[38;5;21;01m.\u001b[39;00m\u001b[38;5;21;01mmodel_selection\u001b[39;00m \u001b[38;5;28;01mimport\u001b[39;00m train_test_split\n\u001b[1;32m      2\u001b[0m \u001b[38;5;28;01mimport\u001b[39;00m \u001b[38;5;21;01mgc\u001b[39;00m\n\u001b[0;32m----> 3\u001b[0m X_train, X_test, y_train, y_test \u001b[38;5;241m=\u001b[39m \u001b[43mtrain_test_split\u001b[49m\u001b[43m(\u001b[49m\u001b[43mdata\u001b[49m\u001b[43m,\u001b[49m\u001b[43m \u001b[49m\u001b[43mdata\u001b[49m\u001b[43m,\u001b[49m\u001b[43m \u001b[49m\u001b[43mtest_size\u001b[49m\u001b[38;5;241;43m=\u001b[39;49m\u001b[38;5;241;43m0.33\u001b[39;49m\u001b[43m,\u001b[49m\u001b[43m \u001b[49m\u001b[43mrandom_state\u001b[49m\u001b[38;5;241;43m=\u001b[39;49m\u001b[38;5;241;43m42\u001b[39;49m\u001b[43m)\u001b[49m\n\u001b[1;32m      4\u001b[0m \u001b[38;5;28;01mdel\u001b[39;00m data, y_train, y_test\n\u001b[1;32m      5\u001b[0m gc\u001b[38;5;241m.\u001b[39mcollect()\n",
      "File \u001b[0;32m~/.conda/envs/tensorflow/lib/python3.9/site-packages/sklearn/model_selection/_split.py:2456\u001b[0m, in \u001b[0;36mtrain_test_split\u001b[0;34m(test_size, train_size, random_state, shuffle, stratify, *arrays)\u001b[0m\n\u001b[1;32m   2452\u001b[0m     cv \u001b[38;5;241m=\u001b[39m CVClass(test_size\u001b[38;5;241m=\u001b[39mn_test, train_size\u001b[38;5;241m=\u001b[39mn_train, random_state\u001b[38;5;241m=\u001b[39mrandom_state)\n\u001b[1;32m   2454\u001b[0m     train, test \u001b[38;5;241m=\u001b[39m \u001b[38;5;28mnext\u001b[39m(cv\u001b[38;5;241m.\u001b[39msplit(X\u001b[38;5;241m=\u001b[39marrays[\u001b[38;5;241m0\u001b[39m], y\u001b[38;5;241m=\u001b[39mstratify))\n\u001b[0;32m-> 2456\u001b[0m \u001b[38;5;28;01mreturn\u001b[39;00m \u001b[38;5;28;43mlist\u001b[39;49m\u001b[43m(\u001b[49m\n\u001b[1;32m   2457\u001b[0m \u001b[43m    \u001b[49m\u001b[43mchain\u001b[49m\u001b[38;5;241;43m.\u001b[39;49m\u001b[43mfrom_iterable\u001b[49m\u001b[43m(\u001b[49m\n\u001b[1;32m   2458\u001b[0m \u001b[43m        \u001b[49m\u001b[43m(\u001b[49m\u001b[43m_safe_indexing\u001b[49m\u001b[43m(\u001b[49m\u001b[43ma\u001b[49m\u001b[43m,\u001b[49m\u001b[43m \u001b[49m\u001b[43mtrain\u001b[49m\u001b[43m)\u001b[49m\u001b[43m,\u001b[49m\u001b[43m \u001b[49m\u001b[43m_safe_indexing\u001b[49m\u001b[43m(\u001b[49m\u001b[43ma\u001b[49m\u001b[43m,\u001b[49m\u001b[43m \u001b[49m\u001b[43mtest\u001b[49m\u001b[43m)\u001b[49m\u001b[43m)\u001b[49m\u001b[43m \u001b[49m\u001b[38;5;28;43;01mfor\u001b[39;49;00m\u001b[43m \u001b[49m\u001b[43ma\u001b[49m\u001b[43m \u001b[49m\u001b[38;5;129;43;01min\u001b[39;49;00m\u001b[43m \u001b[49m\u001b[43marrays\u001b[49m\n\u001b[1;32m   2459\u001b[0m \u001b[43m    \u001b[49m\u001b[43m)\u001b[49m\n\u001b[1;32m   2460\u001b[0m \u001b[43m\u001b[49m\u001b[43m)\u001b[49m\n",
      "File \u001b[0;32m~/.conda/envs/tensorflow/lib/python3.9/site-packages/sklearn/model_selection/_split.py:2458\u001b[0m, in \u001b[0;36m<genexpr>\u001b[0;34m(.0)\u001b[0m\n\u001b[1;32m   2452\u001b[0m     cv \u001b[38;5;241m=\u001b[39m CVClass(test_size\u001b[38;5;241m=\u001b[39mn_test, train_size\u001b[38;5;241m=\u001b[39mn_train, random_state\u001b[38;5;241m=\u001b[39mrandom_state)\n\u001b[1;32m   2454\u001b[0m     train, test \u001b[38;5;241m=\u001b[39m \u001b[38;5;28mnext\u001b[39m(cv\u001b[38;5;241m.\u001b[39msplit(X\u001b[38;5;241m=\u001b[39marrays[\u001b[38;5;241m0\u001b[39m], y\u001b[38;5;241m=\u001b[39mstratify))\n\u001b[1;32m   2456\u001b[0m \u001b[38;5;28;01mreturn\u001b[39;00m \u001b[38;5;28mlist\u001b[39m(\n\u001b[1;32m   2457\u001b[0m     chain\u001b[38;5;241m.\u001b[39mfrom_iterable(\n\u001b[0;32m-> 2458\u001b[0m         (\u001b[43m_safe_indexing\u001b[49m\u001b[43m(\u001b[49m\u001b[43ma\u001b[49m\u001b[43m,\u001b[49m\u001b[43m \u001b[49m\u001b[43mtrain\u001b[49m\u001b[43m)\u001b[49m, _safe_indexing(a, test)) \u001b[38;5;28;01mfor\u001b[39;00m a \u001b[38;5;129;01min\u001b[39;00m arrays\n\u001b[1;32m   2459\u001b[0m     )\n\u001b[1;32m   2460\u001b[0m )\n",
      "File \u001b[0;32m~/.conda/envs/tensorflow/lib/python3.9/site-packages/sklearn/utils/__init__.py:361\u001b[0m, in \u001b[0;36m_safe_indexing\u001b[0;34m(X, indices, axis)\u001b[0m\n\u001b[1;32m    359\u001b[0m     \u001b[38;5;28;01mreturn\u001b[39;00m _pandas_indexing(X, indices, indices_dtype, axis\u001b[38;5;241m=\u001b[39maxis)\n\u001b[1;32m    360\u001b[0m \u001b[38;5;28;01melif\u001b[39;00m \u001b[38;5;28mhasattr\u001b[39m(X, \u001b[38;5;124m\"\u001b[39m\u001b[38;5;124mshape\u001b[39m\u001b[38;5;124m\"\u001b[39m):\n\u001b[0;32m--> 361\u001b[0m     \u001b[38;5;28;01mreturn\u001b[39;00m \u001b[43m_array_indexing\u001b[49m\u001b[43m(\u001b[49m\u001b[43mX\u001b[49m\u001b[43m,\u001b[49m\u001b[43m \u001b[49m\u001b[43mindices\u001b[49m\u001b[43m,\u001b[49m\u001b[43m \u001b[49m\u001b[43mindices_dtype\u001b[49m\u001b[43m,\u001b[49m\u001b[43m \u001b[49m\u001b[43maxis\u001b[49m\u001b[38;5;241;43m=\u001b[39;49m\u001b[43maxis\u001b[49m\u001b[43m)\u001b[49m\n\u001b[1;32m    362\u001b[0m \u001b[38;5;28;01melse\u001b[39;00m:\n\u001b[1;32m    363\u001b[0m     \u001b[38;5;28;01mreturn\u001b[39;00m _list_indexing(X, indices, indices_dtype)\n",
      "File \u001b[0;32m~/.conda/envs/tensorflow/lib/python3.9/site-packages/sklearn/utils/__init__.py:185\u001b[0m, in \u001b[0;36m_array_indexing\u001b[0;34m(array, key, key_dtype, axis)\u001b[0m\n\u001b[1;32m    183\u001b[0m \u001b[38;5;28;01mif\u001b[39;00m \u001b[38;5;28misinstance\u001b[39m(key, \u001b[38;5;28mtuple\u001b[39m):\n\u001b[1;32m    184\u001b[0m     key \u001b[38;5;241m=\u001b[39m \u001b[38;5;28mlist\u001b[39m(key)\n\u001b[0;32m--> 185\u001b[0m \u001b[38;5;28;01mreturn\u001b[39;00m \u001b[43marray\u001b[49m\u001b[43m[\u001b[49m\u001b[43mkey\u001b[49m\u001b[43m]\u001b[49m \u001b[38;5;28;01mif\u001b[39;00m axis \u001b[38;5;241m==\u001b[39m \u001b[38;5;241m0\u001b[39m \u001b[38;5;28;01melse\u001b[39;00m array[:, key]\n",
      "\u001b[0;31mMemoryError\u001b[0m: Unable to allocate 44.7 GiB for an array with shape (1465125, 16, 256, 1) and data type float64"
     ]
    }
   ],
   "source": [
    "from sklearn.model_selection import train_test_split\n",
    "import gc\n",
    "X_train, X_test, y_train, y_test = train_test_split(data, data, test_size=0.33, random_state=42)\n",
    "del data, y_train, y_test\n",
    "gc.collect()"
   ]
  },
  {
   "cell_type": "code",
   "execution_count": null,
   "id": "7c1e4b2b-e21d-4566-8333-1a8f044da18d",
   "metadata": {},
   "outputs": [],
   "source": [
    "ind = np.random.randint(0, X_train.shape[0], size=(10, 10))\n",
    "font_size = 25\n",
    "plt.rcParams.update({'font.size': font_size})\n",
    "\n",
    "f, ax = plt.subplots(4, 10, sharey=True, figsize=(30, 10), constrained_layout=True)\n",
    "\n",
    "for j in range(10):\n",
    "    for i in range(4):\n",
    "        inde = ind[i, j]\n",
    "        im = ax[i,j].imshow(X_train[inde,:,:,0], cmap='hot', interpolation='nearest', aspect=\"auto\")\n",
    "        if i == 3:\n",
    "            ax[i,j].set_xlabel(\"Frequency [2.89 Hz]\",  fontsize=font_size-10)  \n",
    "        if j ==0:\n",
    "            ax[i,j].set_ylabel(\"Time [18.7s]\",  fontsize=font_size-5)  \n",
    "            \n",
    "        \n",
    "cbaxes = f.add_axes([1.01, 0.2, 0.015, 0.6]) \n",
    "cbar = f.colorbar(im, cax=cbaxes)\n",
    "cbar.ax.tick_params(labelsize=font_size)\n",
    "f.text(1.06, 0.5, 'Power [normalized]', ha='center', va='center', rotation=270, \n",
    "       fontsize=font_size+10)\n",
    "\n",
    "plt.savefig(\"plots/training_examples.pdf\", format=\"pdf\")\n"
   ]
  },
  {
   "cell_type": "markdown",
   "id": "d7889f40-7880-41dc-8f16-c5a15dfc2b73",
   "metadata": {},
   "source": [
    "# Encoder Model"
   ]
  },
  {
   "cell_type": "code",
   "execution_count": null,
   "id": "40241094-a77e-4db4-96b0-d0e47e11cdc6",
   "metadata": {},
   "outputs": [],
   "source": [
    "latent_dim = 5\n",
    "time_samples = X_train.shape[1]\n",
    "freq_sample =  X_train.shape[2]\n",
    "encoder_inputs = keras.Input(shape=(time_samples, freq_sample, 1))\n",
    "x = layers.Conv2D(16, 3, activation=\"relu\", strides=1, padding=\"same\")(encoder_inputs)\n",
    "x = layers.MaxPool2D(pool_size=(1, 2))(x)\n",
    "x = layers.BatchNormalization()(x)\n",
    "x = layers.Conv2D(32, 3, activation=\"relu\", strides=1, padding=\"same\")(x)\n",
    "x = layers.MaxPool2D(pool_size=(1, 2))(x)\n",
    "x = layers.BatchNormalization()(x)\n",
    "x = layers.Conv2D(32, 3, activation=\"relu\", strides=1, padding=\"same\")(x)\n",
    "x = layers.MaxPool2D(pool_size=(1, 2))(x)\n",
    "x = layers.BatchNormalization()(x)\n",
    "x = layers.Conv2D(32, 3, activation=\"relu\", strides=1, padding=\"same\")(x)\n",
    "x = layers.MaxPool2D(pool_size=(1, 2))(x)\n",
    "x = layers.BatchNormalization()(x)\n",
    "x = layers.Conv2D(64, 3, activation=\"relu\", strides=1, padding=\"same\")(x)\n",
    "x = layers.MaxPool2D(pool_size=(1, 2))(x)\n",
    "x = layers.BatchNormalization()(x)\n",
    "x_shape = x.shape\n",
    "x = layers.Flatten()(x)\n",
    "x = layers.Dense(128, activation=\"relu\")(x)\n",
    "x = layers.BatchNormalization()(x)\n",
    "x = layers.Dense(16, activation=\"relu\")(x)\n",
    "x = layers.BatchNormalization()(x)\n",
    "z = layers.Dense(latent_dim, name=\"latent\")(x)\n",
    "encoder = keras.Model(encoder_inputs, z, name=\"encoder\")\n",
    "encoder.summary()"
   ]
  },
  {
   "cell_type": "markdown",
   "id": "99faf1cd-af98-44be-a03d-b05fd09d70c2",
   "metadata": {},
   "source": [
    "# Decoder Model"
   ]
  },
  {
   "cell_type": "code",
   "execution_count": null,
   "id": "00e8659f-fb7a-4787-9759-14905b4eec97",
   "metadata": {},
   "outputs": [],
   "source": [
    "latent_inputs = keras.Input(shape=(latent_dim,))\n",
    "x = layers.Dense(128, activation=\"relu\")(latent_inputs)\n",
    "x = layers.BatchNormalization()(x)\n",
    "x = layers.Dense(x_shape[1]* x_shape[2]* x_shape[3], activation=\"relu\")(x)\n",
    "x = layers.BatchNormalization()(x)\n",
    "x = layers.Reshape((x_shape[1], x_shape[2], x_shape[3]))(x)\n",
    "x = layers.Conv2DTranspose(64, 3, activation=\"relu\", strides=2, padding=\"same\")(x)\n",
    "x = layers.MaxPool2D(pool_size=(2, 1))(x)\n",
    "x = layers.BatchNormalization()(x)\n",
    "x = layers.Conv2DTranspose(32, 3, activation=\"relu\", strides=2, padding=\"same\")(x)\n",
    "x = layers.MaxPool2D(pool_size=(2, 1))(x)\n",
    "x = layers.BatchNormalization()(x)\n",
    "x = layers.Conv2DTranspose(32, 3, activation=\"relu\", strides=2, padding=\"same\")(x)\n",
    "x = layers.MaxPool2D(pool_size=(2, 1))(x)\n",
    "x = layers.BatchNormalization()(x)\n",
    "x = layers.Conv2DTranspose(32, 3, activation=\"relu\", strides=2, padding=\"same\")(x)\n",
    "x = layers.MaxPool2D(pool_size=(2, 1))(x)\n",
    "x = layers.BatchNormalization()(x)\n",
    "x = layers.Conv2DTranspose(16, 3, activation=\"relu\", strides=2, padding=\"same\")(x)\n",
    "x = layers.MaxPool2D(pool_size=(2, 1))(x)\n",
    "x = layers.BatchNormalization()(x)\n",
    "decoder_outputs = layers.Conv2DTranspose(1, 3, activation=\"linear\", padding=\"same\")(x)\n",
    "decoder = keras.Model(latent_inputs, decoder_outputs, name=\"decoder\")\n",
    "decoder.summary()"
   ]
  },
  {
   "cell_type": "code",
   "execution_count": null,
   "id": "6517896c-d4ea-4289-8cdb-aec3d79d04a1",
   "metadata": {},
   "outputs": [],
   "source": [
    "def build_model(enocder, decoder):\n",
    "    autoencoder = AE(encoder, decoder)\n",
    "    autoencoder.compile(optimizer=keras.optimizers.Adam(lr=0.0001))\n",
    "    return autoencoder"
   ]
  },
  {
   "cell_type": "markdown",
   "id": "705b81ff-52bf-475f-b9ce-0bdf2ec23478",
   "metadata": {},
   "source": [
    "# Training Model"
   ]
  },
  {
   "cell_type": "code",
   "execution_count": null,
   "id": "7cde31a5-16ab-4358-bb0d-03e2fc76b53d",
   "metadata": {
    "tags": []
   },
   "outputs": [],
   "source": [
    "from keras.callbacks import EarlyStopping\n",
    "from AE import AE\n",
    "from keras.callbacks import CSVLogger\n",
    "es = EarlyStopping(monitor='val_test_reconstruction_loss', mode='min', verbose=1, patience=10)\n",
    "csv_logger = CSVLogger('log.csv', append=True, separator=',')\n",
    "model_checkpoint_callback = tf.keras.callbacks.ModelCheckpoint(\n",
    "    filepath='./checkpoints_file',\n",
    "    save_weights_only=True,\n",
    "    monitor='val_test_loss',\n",
    "    mode='min',\n",
    "    save_best_only=True)\n",
    "\n",
    "autoencoder = build_model(encoder, decoder)\n",
    "\n",
    "history = autoencoder.fit(X_train[:,:,:,:], validation_data = (X_test[:20_000,:,:,:],X_test[:20_000,:,:,:]),\n",
    "                  epochs=200, batch_size = 512, callbacks=[es,csv_logger, model_checkpoint_callback])"
   ]
  },
  {
   "cell_type": "code",
   "execution_count": null,
   "id": "de759571-6bae-4b23-88ff-96f460e12c01",
   "metadata": {},
   "outputs": [],
   "source": [
    "import pandas as pd\n",
    "plt.rcParams.update({'font.size': 22})\n",
    "plt.figure(figsize=(20,10))\n",
    "plt.plot(history.history['reconstruction_loss'])\n",
    "plt.plot(history.history['val_test_reconstruction_loss'])\n",
    "plt.title('Model MSE Loss')\n",
    "plt.ylabel('Loss')\n",
    "plt.xlabel('Epoch')\n",
    "plt.legend(['Train Loss', 'Validation Loss'], loc='upper left')\n",
    "# plt.yscale('log')\n",
    "plt.grid()\n",
    "plt.savefig(\"plots/training_loss.pdf\", format='pdf')\n",
    "plt.show()\n",
    "\n",
    "training_history = {}\n",
    "training_history['train'] = history.history['reconstruction_loss']\n",
    "training_history['test'] = history.history['val_test_reconstruction_loss']\n",
    "df = pd.DataFrame(training_history)\n",
    "df.to_csv(\"plots/training_loss.csv\")"
   ]
  },
  {
   "cell_type": "code",
   "execution_count": null,
   "id": "a555825d-02ac-440d-8678-1c4df973f667",
   "metadata": {},
   "outputs": [],
   "source": [
    "from datetime import datetime\n",
    "now = datetime.now() # current date and time\n",
    "date_time = now.strftime(\"%m/%d/%Y, %H:%M:%S\")\n",
    "idtag = date_time.replace(', ','-').replace('/','-').replace(':','-')\n",
    "print(idtag)\n",
    "\n",
    "autoencoder.save_weights(\"models/full-weights-\"+idtag, save_format=\"tf\")"
   ]
  },
  {
   "cell_type": "code",
   "execution_count": null,
   "id": "56beb140-1534-4328-a9f6-7fd1c9dd2d2e",
   "metadata": {},
   "outputs": [],
   "source": [
    "autoencoder.load_weights(\"models/full-weights-\"+idtag)\n",
    "autoencoder.compile(optimizer=keras.optimizers.Adam(lr = 1e-4), run_eagerly=True)"
   ]
  },
  {
   "cell_type": "markdown",
   "id": "ef87f124-18bf-450f-b181-5790825e5ebe",
   "metadata": {},
   "source": [
    "# Test Reconstruction"
   ]
  },
  {
   "cell_type": "code",
   "execution_count": null,
   "id": "60503f5d-e2b9-4ca2-82d8-42036af5d5b4",
   "metadata": {},
   "outputs": [],
   "source": [
    "import matplotlib.pyplot as plt\n",
    "%matplotlib inline\n",
    "index = 12\n",
    "\n",
    "beam_reconstruction = autoencoder.decoder.predict(autoencoder.encoder.predict(X_test[index:index+1,:,:,:]))\n",
    "print(beam_reconstruction.shape)\n",
    "\n",
    "plt.rcParams.update({'font.size': 20})\n",
    "plt.figure(figsize=(10,5))\n",
    "plt.title(\"Reconstruction of Observation\")\n",
    "plt.imshow(beam_reconstruction[0,:,:,0], cmap='hot', interpolation='nearest', aspect=3)\n",
    "plt.ylabel(\"Time Bins [18.7s]\")\n",
    "plt.xlabel(\"Frequency Bins [2.89Hz]\")\n",
    "plt.savefig(\"plots/reconstruction.pdf\", format='pdf')"
   ]
  },
  {
   "cell_type": "code",
   "execution_count": null,
   "id": "63d11aa5-1d17-4b81-9a09-95512020a53e",
   "metadata": {},
   "outputs": [],
   "source": [
    "plt.rcParams.update({'font.size': 20})\n",
    "plt.figure(figsize=(10,5))\n",
    "plt.title(\"Real Observation\")\n",
    "plt.imshow(X_test[index,:,:,0], cmap='hot', interpolation='nearest', aspect=3)\n",
    "plt.ylabel(\"Time Bins [18.7s]\")\n",
    "plt.xlabel(\"Frequency Bins [2.89Hz]\")\n",
    "plt.savefig(\"plots/real.pdf\", format='pdf')"
   ]
  },
  {
   "cell_type": "code",
   "execution_count": null,
   "id": "c0e8d15a-704e-47ff-ad32-bf4c9043d8e7",
   "metadata": {},
   "outputs": [],
   "source": [
    "ind = np.random.randint(20_000, X_test.shape[0], size=(10))\n",
    "font_size = 80\n",
    "plt.rcParams.update({'font.size': font_size})\n",
    "\n",
    "f, ax = plt.subplots(2, 8, sharey=True, figsize=(100, 30), constrained_layout=True)\n",
    "\n",
    "for j in range(8):\n",
    "    inde = ind[j]\n",
    "    beam_reconstruction = autoencoder.decoder.predict(autoencoder.encoder.predict(X_test[inde:inde+1,:,:,:]))\n",
    "    im = ax[0,j].imshow(beam_reconstruction[0,:,:,0], cmap='hot',\n",
    "                        interpolation='nearest', aspect=\"auto\")\n",
    "    ax[1,j].imshow(X_test[inde,:,:,0], cmap='hot', interpolation='nearest', aspect=\"auto\")\n",
    "    if j == 0:\n",
    "        ax[1,j].text(-50, 7, 'Time [18.7s]', ha='center', va='center', rotation='vertical',  fontsize=font_size)\n",
    "        ax[1,j].text(-100, 7, 'Reconstruction', ha='center', va='center', rotation='vertical', \n",
    "                     fontsize=font_size+20)\n",
    "        ax[0,j].text(-100, 7, 'Real Obs', ha='center', va='center', rotation='vertical',  fontsize=font_size  +20)\n",
    "        ax[0,j].text(-50, 7, 'Time [18.7s]', ha='center', va='center', rotation='vertical',  fontsize=font_size)\n",
    "    ax[1,j].set_xlabel(\"Frequency [2.89 Hz]\",  fontsize=font_size-5)  \n",
    "    \n",
    "cbaxes = f.add_axes([1.01, 0.2, 0.015, 0.6]) \n",
    "cbar = f.colorbar(im, cax=cbaxes)\n",
    "cbar.ax.tick_params(labelsize=font_size)\n",
    "f.text(1.06, 0.5, 'Power [normalized]', ha='center', va='center', rotation=270, \n",
    "       fontsize=font_size+10)\n",
    "\n",
    "plt.savefig(\"plots/reconstruction_test.pdf\", format=\"pdf\")"
   ]
  }
 ],
 "metadata": {
  "kernelspec": {
   "display_name": "Python 3",
   "language": "python",
   "name": "python3"
  },
  "language_info": {
   "codemirror_mode": {
    "name": "ipython",
    "version": 3
   },
   "file_extension": ".py",
   "mimetype": "text/x-python",
   "name": "python",
   "nbconvert_exporter": "python",
   "pygments_lexer": "ipython3",
   "version": "3.9.0"
  }
 },
 "nbformat": 4,
 "nbformat_minor": 5
}
