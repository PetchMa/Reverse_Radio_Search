{
 "cells": [
  {
   "cell_type": "code",
   "execution_count": 1,
   "id": "875a14e4-94a3-4da2-9a09-cea64d6d3690",
   "metadata": {},
   "outputs": [
    {
     "name": "stderr",
     "output_type": "stream",
     "text": [
      "2022-12-15 22:52:50.084629: I tensorflow/core/platform/cpu_feature_guard.cc:193] This TensorFlow binary is optimized with oneAPI Deep Neural Network Library (oneDNN) to use the following CPU instructions in performance-critical operations:  SSE4.1 SSE4.2 AVX AVX2 FMA\n",
      "To enable them in other operations, rebuild TensorFlow with the appropriate compiler flags.\n"
     ]
    }
   ],
   "source": [
    "import numpy as np\n",
    "import tensorflow as tf\n",
    "from tensorflow import keras\n",
    "from tensorflow.keras import layers"
   ]
  },
  {
   "cell_type": "markdown",
   "id": "dcf26b94-ca47-4257-9de5-3faf2d2cec9f",
   "metadata": {},
   "source": [
    "# Load Data"
   ]
  },
  {
   "cell_type": "code",
   "execution_count": 2,
   "id": "39f338da-0b77-40fa-ac3b-ae92a57b0bf0",
   "metadata": {},
   "outputs": [
    {
     "name": "stdout",
     "output_type": "stream",
     "text": [
      "b'HIP44295-23'\n",
      "b'HIP63503-523'\n",
      "b'AND_XI-2274'\n",
      "b'HIP36393-1253'\n",
      "b'HIP48477-589'\n"
     ]
    }
   ],
   "source": [
    "import os\n",
    "\n",
    "directory = os.fsencode( \"../../../../../datax/scratch/pma/reverse_search/train/\")\n",
    "count = 0\n",
    "data = []\n",
    "for folder in os.listdir(directory):\n",
    "    print(folder)\n",
    "    for subfolder in os.listdir(directory+folder):\n",
    "        back = os.fsencode( \"/\")\n",
    "        for file in os.listdir(directory+folder+back+subfolder):\n",
    "            file_directory = str(os.path.join(directory+folder+back+subfolder, file)).replace('b', '').replace(\"'\",\"\")\n",
    "            if 'filtered.npy' in file_directory:\n",
    "                data.append(np.load(str(file_directory)))\n",
    "                count += 1\n",
    "    "
   ]
  },
  {
   "cell_type": "code",
   "execution_count": 3,
   "id": "0c8756cd-7c12-4471-8f63-dde353b81dee",
   "metadata": {},
   "outputs": [
    {
     "name": "stdout",
     "output_type": "stream",
     "text": [
      "(666733, 16, 256)\n"
     ]
    },
    {
     "data": {
      "text/plain": [
       "<matplotlib.image.AxesImage at 0x7fbf04d55330>"
      ]
     },
     "execution_count": 3,
     "metadata": {},
     "output_type": "execute_result"
    },
    {
     "data": {
      "image/png": "[encoded data removed]",
      "text/plain": [
       "<Figure size 1000x500 with 1 Axes>"
      ]
     },
     "metadata": {},
     "output_type": "display_data"
    }
   ],
   "source": [
    "import numpy as np\n",
    "data = np.vstack(data)\n",
    "print(data.shape)\n",
    "\n",
    "import matplotlib.pyplot as plt\n",
    "plt.rcParams.update({'font.size': 10})\n",
    "plt.figure(figsize=(10,5))\n",
    "plt.title(\"Example\")\n",
    "plt.xlabel(\"Frequency\")\n",
    "plt.ylabel(\"Time\")\n",
    "plt.imshow(data[1000, :, :], cmap='hot', aspect=5)"
   ]
  },
  {
   "cell_type": "code",
   "execution_count": 4,
   "id": "aad99369-0178-4029-ad07-b5470ac6276d",
   "metadata": {},
   "outputs": [
    {
     "name": "stderr",
     "output_type": "stream",
     "text": [
      "100%|████████████████████████████████████████████████████████████████████| 666733/666733 [01:30<00:00, 7396.49it/s]"
     ]
    },
    {
     "name": "stdout",
     "output_type": "stream",
     "text": [
      "1.0 0.0\n"
     ]
    },
    {
     "name": "stderr",
     "output_type": "stream",
     "text": [
      "\n"
     ]
    }
   ],
   "source": [
    "from tqdm import tqdm\n",
    "\n",
    "def normalize(data):\n",
    "    epsilon = 1\n",
    "    min_val = data.min()\n",
    "    data = data - min_val + epsilon\n",
    "    new_data = np.log(data)\n",
    "    min_val = data.min()\n",
    "    max_val = data.max()\n",
    "    final_data = (data - min_val) / (max_val - min_val)\n",
    "    return final_data\n",
    "    \n",
    "def normalize_data(data):\n",
    "    for i in tqdm(range(data.shape[0])):\n",
    "        data[i,:,:] = normalize(data[i,:,:])\n",
    "    return data\n",
    "\n",
    "data = np.expand_dims(normalize_data(data), axis = -1)\n",
    "print(data[0,:,:].max(), data[0,:,:].min())"
   ]
  },
  {
   "cell_type": "code",
   "execution_count": 5,
   "id": "0774a3e2-2927-4972-960a-533596fd9351",
   "metadata": {},
   "outputs": [
    {
     "data": {
      "text/plain": [
       "<matplotlib.image.AxesImage at 0x7fbf04c77280>"
      ]
     },
     "execution_count": 5,
     "metadata": {},
     "output_type": "execute_result"
    },
    {
     "data": {
      "image/png": "[encoded data removed]",
      "text/plain": [
       "<Figure size 1000x500 with 1 Axes>"
      ]
     },
     "metadata": {},
     "output_type": "display_data"
    }
   ],
   "source": [
    "import matplotlib.pyplot as plt\n",
    "plt.rcParams.update({'font.size': 10})\n",
    "plt.figure(figsize=(10,5))\n",
    "plt.title(\"Example\")\n",
    "plt.xlabel(\"Frequency\")\n",
    "plt.ylabel(\"Time\")\n",
    "plt.imshow(data[1000, :, :], cmap='hot', aspect=5)"
   ]
  },
  {
   "cell_type": "code",
   "execution_count": 6,
   "id": "5551d0c2-454b-41f9-aa68-ab50a2e47f8d",
   "metadata": {},
   "outputs": [],
   "source": [
    "from sklearn.model_selection import train_test_split\n",
    "X_train, X_test, y_train, y_test = train_test_split(data, data, test_size=0.33, random_state=42)"
   ]
  },
  {
   "cell_type": "markdown",
   "id": "d7889f40-7880-41dc-8f16-c5a15dfc2b73",
   "metadata": {},
   "source": [
    "# Encoder Model"
   ]
  },
  {
   "cell_type": "code",
   "execution_count": 7,
   "id": "40241094-a77e-4db4-96b0-d0e47e11cdc6",
   "metadata": {},
   "outputs": [
    {
     "name": "stdout",
     "output_type": "stream",
     "text": [
      "Model: \"encoder\"\n",
      "_________________________________________________________________\n",
      " Layer (type)                Output Shape              Param #   \n",
      "=================================================================\n",
      " input_1 (InputLayer)        [(None, 16, 256, 1)]      0         \n",
      "                                                                 \n",
      " conv2d (Conv2D)             (None, 16, 256, 16)       160       \n",
      "                                                                 \n",
      " max_pooling2d (MaxPooling2D  (None, 16, 128, 16)      0         \n",
      " )                                                               \n",
      "                                                                 \n",
      " batch_normalization (BatchN  (None, 16, 128, 16)      64        \n",
      " ormalization)                                                   \n",
      "                                                                 \n",
      " conv2d_1 (Conv2D)           (None, 16, 128, 32)       4640      \n",
      "                                                                 \n",
      " max_pooling2d_1 (MaxPooling  (None, 16, 64, 32)       0         \n",
      " 2D)                                                             \n",
      "                                                                 \n",
      " batch_normalization_1 (Batc  (None, 16, 64, 32)       128       \n",
      " hNormalization)                                                 \n",
      "                                                                 \n",
      " conv2d_2 (Conv2D)           (None, 16, 64, 32)        9248      \n",
      "                                                                 \n",
      " max_pooling2d_2 (MaxPooling  (None, 16, 32, 32)       0         \n",
      " 2D)                                                             \n",
      "                                                                 \n",
      " batch_normalization_2 (Batc  (None, 16, 32, 32)       128       \n",
      " hNormalization)                                                 \n",
      "                                                                 \n",
      " conv2d_3 (Conv2D)           (None, 16, 32, 32)        9248      \n",
      "                                                                 \n",
      " max_pooling2d_3 (MaxPooling  (None, 16, 16, 32)       0         \n",
      " 2D)                                                             \n",
      "                                                                 \n",
      " batch_normalization_3 (Batc  (None, 16, 16, 32)       128       \n",
      " hNormalization)                                                 \n",
      "                                                                 \n",
      " conv2d_4 (Conv2D)           (None, 16, 16, 32)        9248      \n",
      "                                                                 \n",
      " max_pooling2d_4 (MaxPooling  (None, 16, 8, 32)        0         \n",
      " 2D)                                                             \n",
      "                                                                 \n",
      " batch_normalization_4 (Batc  (None, 16, 8, 32)        128       \n",
      " hNormalization)                                                 \n",
      "                                                                 \n",
      " flatten (Flatten)           (None, 4096)              0         \n",
      "                                                                 \n",
      " dense (Dense)               (None, 32)                131104    \n",
      "                                                                 \n",
      " batch_normalization_5 (Batc  (None, 32)               128       \n",
      " hNormalization)                                                 \n",
      "                                                                 \n",
      " dense_1 (Dense)             (None, 16)                528       \n",
      "                                                                 \n",
      " batch_normalization_6 (Batc  (None, 16)               64        \n",
      " hNormalization)                                                 \n",
      "                                                                 \n",
      " latent (Dense)              (None, 5)                 85        \n",
      "                                                                 \n",
      "=================================================================\n",
      "Total params: 165,029\n",
      "Trainable params: 164,645\n",
      "Non-trainable params: 384\n",
      "_________________________________________________________________\n"
     ]
    }
   ],
   "source": [
    "latent_dim = 5\n",
    "time_samples = X_train.shape[1]\n",
    "freq_sample =  X_train.shape[2]\n",
    "encoder_inputs = keras.Input(shape=(time_samples, freq_sample, 1))\n",
    "x = layers.Conv2D(16, 3, activation=\"relu\", strides=1, padding=\"same\")(encoder_inputs)\n",
    "x = layers.MaxPool2D(pool_size=(1, 2))(x)\n",
    "x = layers.BatchNormalization()(x)\n",
    "x = layers.Conv2D(32, 3, activation=\"relu\", strides=1, padding=\"same\")(x)\n",
    "x = layers.MaxPool2D(pool_size=(1, 2))(x)\n",
    "x = layers.BatchNormalization()(x)\n",
    "x = layers.Conv2D(32, 3, activation=\"relu\", strides=1, padding=\"same\")(x)\n",
    "x = layers.MaxPool2D(pool_size=(1, 2))(x)\n",
    "x = layers.BatchNormalization()(x)\n",
    "x = layers.Conv2D(32, 3, activation=\"relu\", strides=1, padding=\"same\")(x)\n",
    "x = layers.MaxPool2D(pool_size=(1, 2))(x)\n",
    "x = layers.BatchNormalization()(x)\n",
    "x = layers.Conv2D(32, 3, activation=\"relu\", strides=1, padding=\"same\")(x)\n",
    "x = layers.MaxPool2D(pool_size=(1, 2))(x)\n",
    "x = layers.BatchNormalization()(x)\n",
    "x_shape = x.shape\n",
    "x = layers.Flatten()(x)\n",
    "x = layers.Dense(32, activation=\"relu\")(x)\n",
    "x = layers.BatchNormalization()(x)\n",
    "x = layers.Dense(16, activation=\"relu\")(x)\n",
    "x = layers.BatchNormalization()(x)\n",
    "z = layers.Dense(latent_dim, name=\"latent\")(x)\n",
    "encoder = keras.Model(encoder_inputs, z, name=\"encoder\")\n",
    "encoder.summary()"
   ]
  },
  {
   "cell_type": "markdown",
   "id": "99faf1cd-af98-44be-a03d-b05fd09d70c2",
   "metadata": {},
   "source": [
    "# Decoder Model"
   ]
  },
  {
   "cell_type": "code",
   "execution_count": 8,
   "id": "00e8659f-fb7a-4787-9759-14905b4eec97",
   "metadata": {},
   "outputs": [
    {
     "name": "stdout",
     "output_type": "stream",
     "text": [
      "Model: \"decoder\"\n",
      "_________________________________________________________________\n",
      " Layer (type)                Output Shape              Param #   \n",
      "=================================================================\n",
      " input_2 (InputLayer)        [(None, 5)]               0         \n",
      "                                                                 \n",
      " dense_2 (Dense)             (None, 32)                192       \n",
      "                                                                 \n",
      " batch_normalization_7 (Batc  (None, 32)               128       \n",
      " hNormalization)                                                 \n",
      "                                                                 \n",
      " dense_3 (Dense)             (None, 4096)              135168    \n",
      "                                                                 \n",
      " batch_normalization_8 (Batc  (None, 4096)             16384     \n",
      " hNormalization)                                                 \n",
      "                                                                 \n",
      " reshape (Reshape)           (None, 16, 8, 32)         0         \n",
      "                                                                 \n",
      " conv2d_transpose (Conv2DTra  (None, 32, 16, 32)       9248      \n",
      " nspose)                                                         \n",
      "                                                                 \n",
      " max_pooling2d_5 (MaxPooling  (None, 16, 16, 32)       0         \n",
      " 2D)                                                             \n",
      "                                                                 \n",
      " batch_normalization_9 (Batc  (None, 16, 16, 32)       128       \n",
      " hNormalization)                                                 \n",
      "                                                                 \n",
      " conv2d_transpose_1 (Conv2DT  (None, 32, 32, 32)       9248      \n",
      " ranspose)                                                       \n",
      "                                                                 \n",
      " max_pooling2d_6 (MaxPooling  (None, 16, 32, 32)       0         \n",
      " 2D)                                                             \n",
      "                                                                 \n",
      " batch_normalization_10 (Bat  (None, 16, 32, 32)       128       \n",
      " chNormalization)                                                \n",
      "                                                                 \n",
      " conv2d_transpose_2 (Conv2DT  (None, 32, 64, 32)       9248      \n",
      " ranspose)                                                       \n",
      "                                                                 \n",
      " max_pooling2d_7 (MaxPooling  (None, 16, 64, 32)       0         \n",
      " 2D)                                                             \n",
      "                                                                 \n",
      " batch_normalization_11 (Bat  (None, 16, 64, 32)       128       \n",
      " chNormalization)                                                \n",
      "                                                                 \n",
      " conv2d_transpose_3 (Conv2DT  (None, 32, 128, 32)      9248      \n",
      " ranspose)                                                       \n",
      "                                                                 \n",
      " max_pooling2d_8 (MaxPooling  (None, 16, 128, 32)      0         \n",
      " 2D)                                                             \n",
      "                                                                 \n",
      " batch_normalization_12 (Bat  (None, 16, 128, 32)      128       \n",
      " chNormalization)                                                \n",
      "                                                                 \n",
      " conv2d_transpose_4 (Conv2DT  (None, 32, 256, 16)      4624      \n",
      " ranspose)                                                       \n",
      "                                                                 \n",
      " max_pooling2d_9 (MaxPooling  (None, 16, 256, 16)      0         \n",
      " 2D)                                                             \n",
      "                                                                 \n",
      " batch_normalization_13 (Bat  (None, 16, 256, 16)      64        \n",
      " chNormalization)                                                \n",
      "                                                                 \n",
      " conv2d_transpose_5 (Conv2DT  (None, 16, 256, 1)       145       \n",
      " ranspose)                                                       \n",
      "                                                                 \n",
      "=================================================================\n",
      "Total params: 194,209\n",
      "Trainable params: 185,665\n",
      "Non-trainable params: 8,544\n",
      "_________________________________________________________________\n"
     ]
    }
   ],
   "source": [
    "latent_inputs = keras.Input(shape=(latent_dim,))\n",
    "x = layers.Dense(32, activation=\"relu\")(latent_inputs)\n",
    "x = layers.BatchNormalization()(x)\n",
    "x = layers.Dense(x_shape[1]* x_shape[2]* x_shape[3], activation=\"relu\")(x)\n",
    "x = layers.BatchNormalization()(x)\n",
    "x = layers.Reshape((x_shape[1], x_shape[2], x_shape[3]))(x)\n",
    "x = layers.Conv2DTranspose(32, 3, activation=\"relu\", strides=2, padding=\"same\")(x)\n",
    "x = layers.MaxPool2D(pool_size=(2, 1))(x)\n",
    "x = layers.BatchNormalization()(x)\n",
    "x = layers.Conv2DTranspose(32, 3, activation=\"relu\", strides=2, padding=\"same\")(x)\n",
    "x = layers.MaxPool2D(pool_size=(2, 1))(x)\n",
    "x = layers.BatchNormalization()(x)\n",
    "x = layers.Conv2DTranspose(32, 3, activation=\"relu\", strides=2, padding=\"same\")(x)\n",
    "x = layers.MaxPool2D(pool_size=(2, 1))(x)\n",
    "x = layers.BatchNormalization()(x)\n",
    "x = layers.Conv2DTranspose(32, 3, activation=\"relu\", strides=2, padding=\"same\")(x)\n",
    "x = layers.MaxPool2D(pool_size=(2, 1))(x)\n",
    "x = layers.BatchNormalization()(x)\n",
    "x = layers.Conv2DTranspose(16, 3, activation=\"relu\", strides=2, padding=\"same\")(x)\n",
    "x = layers.MaxPool2D(pool_size=(2, 1))(x)\n",
    "x = layers.BatchNormalization()(x)\n",
    "decoder_outputs = layers.Conv2DTranspose(1, 3, activation=\"linear\", padding=\"same\")(x)\n",
    "decoder = keras.Model(latent_inputs, decoder_outputs, name=\"decoder\")\n",
    "decoder.summary()"
   ]
  },
  {
   "cell_type": "markdown",
   "id": "705b81ff-52bf-475f-b9ce-0bdf2ec23478",
   "metadata": {},
   "source": [
    "# Training Model"
   ]
  },
  {
   "cell_type": "code",
   "execution_count": null,
   "id": "7cde31a5-16ab-4358-bb0d-03e2fc76b53d",
   "metadata": {
    "tags": []
   },
   "outputs": [
    {
     "name": "stderr",
     "output_type": "stream",
     "text": [
      "/home/pma/.conda/envs/ml_jax/lib/python3.10/site-packages/keras/optimizers/optimizer_v2/adam.py:114: UserWarning: The `lr` argument is deprecated, use `learning_rate` instead.\n",
      "  super().__init__(name, **kwargs)\n",
      "2022-12-15 22:55:19.753443: W tensorflow/core/framework/cpu_allocator_impl.cc:82] Allocation of 7318913024 exceeds 10% of free system memory.\n",
      "2022-12-15 22:55:25.270928: W tensorflow/core/framework/cpu_allocator_impl.cc:82] Allocation of 7318913024 exceeds 10% of free system memory.\n"
     ]
    },
    {
     "name": "stdout",
     "output_type": "stream",
     "text": [
      "Epoch 1/200\n",
      " 4185/13960 [=======>......................] - ETA: 3:31 - loss: 28.2737 - reconstruction_loss: 21.5153"
     ]
    }
   ],
   "source": [
    "from keras.callbacks import EarlyStopping\n",
    "from AE import AE\n",
    "es = EarlyStopping(monitor='val_test_reconstruction_loss', mode='min', verbose=1, patience=10)\n",
    "\n",
    "autoencoder = AE(encoder, decoder)\n",
    "autoencoder.compile(optimizer=keras.optimizers.Adam(lr = 1e-4))\n",
    "history = autoencoder.fit(X_train, validation_data = (X_test[:20_000,:,:,:],X_test[:20_000,:,:,:]),\n",
    "                  epochs=200, batch_size = 128, callbacks=[es])"
   ]
  },
  {
   "cell_type": "code",
   "execution_count": null,
   "id": "de759571-6bae-4b23-88ff-96f460e12c01",
   "metadata": {},
   "outputs": [],
   "source": [
    "import pandas as pd\n",
    "plt.rcParams.update({'font.size': 22})\n",
    "plt.figure(figsize=(20,10))\n",
    "plt.plot(history.history['reconstruction_loss'])\n",
    "plt.plot(history.history['val_test_reconstruction_loss'])\n",
    "plt.title('Model MSE Loss')\n",
    "plt.ylabel('Loss')\n",
    "plt.xlabel('Epoch')\n",
    "plt.legend(['Train Loss', 'Validation Loss'], loc='upper left')\n",
    "# plt.yscale('log')\n",
    "plt.grid()\n",
    "plt.savefig(\"plots/training_loss.pdf\", format='pdf')\n",
    "plt.show()\n",
    "\n",
    "training_history = {}\n",
    "training_history['train'] = history.history['reconstruction_loss']\n",
    "training_history['test'] = history.history['val_test_reconstruction_loss']\n",
    "df = pd.DataFrame(training_history)\n",
    "df.to_csv(\"plots/training_loss.csv\")"
   ]
  },
  {
   "cell_type": "code",
   "execution_count": null,
   "id": "a555825d-02ac-440d-8678-1c4df973f667",
   "metadata": {},
   "outputs": [],
   "source": [
    "from datetime import datetime\n",
    "now = datetime.now() # current date and time\n",
    "date_time = now.strftime(\"%m/%d/%Y, %H:%M:%S\")\n",
    "idtag = date_time.replace(', ','-').replace('/','-').replace(':','-')\n",
    "print(idtag)\n",
    "\n",
    "autoencoder.save_weights(\"models/full-weights-\"+idtag, save_format=\"tf\")"
   ]
  },
  {
   "cell_type": "code",
   "execution_count": null,
   "id": "56beb140-1534-4328-a9f6-7fd1c9dd2d2e",
   "metadata": {},
   "outputs": [],
   "source": [
    "vae.load_weights(\"models/full-weights-\"+idtag)\n",
    "vae.compile(optimizer=keras.optimizers.Adam(lr = 1e-4), run_eagerly=True)"
   ]
  },
  {
   "cell_type": "markdown",
   "id": "ef87f124-18bf-450f-b181-5790825e5ebe",
   "metadata": {},
   "source": [
    "# Test Reconstruction"
   ]
  },
  {
   "cell_type": "code",
   "execution_count": null,
   "id": "60503f5d-e2b9-4ca2-82d8-42036af5d5b4",
   "metadata": {},
   "outputs": [],
   "source": [
    "import matplotlib.pyplot as plt\n",
    "%matplotlib inline\n",
    "index = 0\n",
    "\n",
    "beam_reconstruction = vae.decoder.predict(vae.encoder.predict(X_test[index:index+1,:,:,:]))\n",
    "print(beam_reconstruction.shape)\n",
    "\n",
    "plt.rcParams.update({'font.size': 20})\n",
    "plt.figure(figsize=(10,5))\n",
    "plt.title(\"Reconstruction of Observation\")\n",
    "plt.imshow(beam_reconstruction[0,:,:,0], cmap='hot', interpolation='nearest', aspect=3)\n",
    "plt.ylabel(\"Time Bins [18.7s]\")\n",
    "plt.xlabel(\"Frequency Bins [2.89Hz]\")\n",
    "plt.savefig(\"plots/reconstruction.pdf\", format='pdf')\n"
   ]
  },
  {
   "cell_type": "code",
   "execution_count": null,
   "id": "63d11aa5-1d17-4b81-9a09-95512020a53e",
   "metadata": {},
   "outputs": [],
   "source": [
    "plt.rcParams.update({'font.size': 20})\n",
    "plt.figure(figsize=(10,5))\n",
    "plt.title(\"Real Observation\")\n",
    "plt.imshow(X_test[index,:,:,0], cmap='hot', interpolation='nearest', aspect=3)\n",
    "plt.ylabel(\"Time Bins [18.7s]\")\n",
    "plt.xlabel(\"Frequency Bins [2.89Hz]\")\n",
    "plt.savefig(\"plots/real.pdf\", format='pdf')"
   ]
  }
 ],
 "metadata": {
  "kernelspec": {
   "display_name": "Python 3",
   "language": "python",
   "name": "python3"
  },
  "language_info": {
   "codemirror_mode": {
    "name": "ipython",
    "version": 3
   },
   "file_extension": ".py",
   "mimetype": "text/x-python",
   "name": "python",
   "nbconvert_exporter": "python",
   "pygments_lexer": "ipython3",
   "version": "3.10.6"
  }
 },
 "nbformat": 4,
 "nbformat_minor": 5
}
